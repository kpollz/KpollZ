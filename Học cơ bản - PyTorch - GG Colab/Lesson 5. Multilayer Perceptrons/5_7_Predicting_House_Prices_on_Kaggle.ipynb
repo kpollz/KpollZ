{
  "nbformat": 4,
  "nbformat_minor": 0,
  "metadata": {
    "colab": {
      "provenance": []
    },
    "kernelspec": {
      "name": "python3",
      "display_name": "Python 3"
    },
    "language_info": {
      "name": "python"
    }
  },
  "cells": [
    {
      "cell_type": "code",
      "execution_count": 5,
      "metadata": {
        "colab": {
          "base_uri": "https://localhost:8080/"
        },
        "id": "EpHwVI2gXh29",
        "outputId": "ef99e2ea-578b-437d-e3a8-772366bd0ee0"
      },
      "outputs": [
        {
          "output_type": "stream",
          "name": "stdout",
          "text": [
            "Looking in indexes: https://pypi.org/simple, https://us-python.pkg.dev/colab-wheels/public/simple/\n",
            "Collecting d2l==1.0.0-beta0\n",
            "  Downloading d2l-1.0.0b0-py3-none-any.whl (141 kB)\n",
            "\u001b[2K     \u001b[90m━━━━━━━━━━━━━━━━━━━━━━━━━━━━━━━━━━━━━━━\u001b[0m \u001b[32m141.6/141.6 KB\u001b[0m \u001b[31m4.6 MB/s\u001b[0m eta \u001b[36m0:00:00\u001b[0m\n",
            "\u001b[?25hRequirement already satisfied: matplotlib in /usr/local/lib/python3.8/dist-packages (from d2l==1.0.0-beta0) (3.5.3)\n",
            "Requirement already satisfied: requests in /usr/local/lib/python3.8/dist-packages (from d2l==1.0.0-beta0) (2.25.1)\n",
            "Requirement already satisfied: numpy in /usr/local/lib/python3.8/dist-packages (from d2l==1.0.0-beta0) (1.22.4)\n",
            "Collecting matplotlib-inline\n",
            "  Downloading matplotlib_inline-0.1.6-py3-none-any.whl (9.4 kB)\n",
            "Collecting jupyter\n",
            "  Downloading jupyter-1.0.0-py2.py3-none-any.whl (2.7 kB)\n",
            "Collecting gpytorch\n",
            "  Downloading gpytorch-1.9.1-py3-none-any.whl (250 kB)\n",
            "\u001b[2K     \u001b[90m━━━━━━━━━━━━━━━━━━━━━━━━━━━━━━━━━━━━━━\u001b[0m \u001b[32m250.9/250.9 KB\u001b[0m \u001b[31m13.9 MB/s\u001b[0m eta \u001b[36m0:00:00\u001b[0m\n",
            "\u001b[?25hRequirement already satisfied: scipy in /usr/local/lib/python3.8/dist-packages (from d2l==1.0.0-beta0) (1.10.1)\n",
            "Requirement already satisfied: pandas in /usr/local/lib/python3.8/dist-packages (from d2l==1.0.0-beta0) (1.3.5)\n",
            "Collecting gym==0.21.0\n",
            "  Downloading gym-0.21.0.tar.gz (1.5 MB)\n",
            "\u001b[2K     \u001b[90m━━━━━━━━━━━━━━━━━━━━━━━━━━━━━━━━━━━━━━━━\u001b[0m \u001b[32m1.5/1.5 MB\u001b[0m \u001b[31m36.7 MB/s\u001b[0m eta \u001b[36m0:00:00\u001b[0m\n",
            "\u001b[?25h  Preparing metadata (setup.py) ... \u001b[?25l\u001b[?25hdone\n",
            "Requirement already satisfied: cloudpickle>=1.2.0 in /usr/local/lib/python3.8/dist-packages (from gym==0.21.0->d2l==1.0.0-beta0) (2.2.1)\n",
            "Collecting linear-operator>=0.2.0\n",
            "  Downloading linear_operator-0.3.0-py3-none-any.whl (155 kB)\n",
            "\u001b[2K     \u001b[90m━━━━━━━━━━━━━━━━━━━━━━━━━━━━━━━━━━━━━━\u001b[0m \u001b[32m155.6/155.6 KB\u001b[0m \u001b[31m11.9 MB/s\u001b[0m eta \u001b[36m0:00:00\u001b[0m\n",
            "\u001b[?25hRequirement already satisfied: scikit-learn in /usr/local/lib/python3.8/dist-packages (from gpytorch->d2l==1.0.0-beta0) (1.2.1)\n",
            "Requirement already satisfied: nbconvert in /usr/local/lib/python3.8/dist-packages (from jupyter->d2l==1.0.0-beta0) (6.5.4)\n",
            "Requirement already satisfied: notebook in /usr/local/lib/python3.8/dist-packages (from jupyter->d2l==1.0.0-beta0) (6.3.0)\n",
            "Requirement already satisfied: jupyter-console in /usr/local/lib/python3.8/dist-packages (from jupyter->d2l==1.0.0-beta0) (6.1.0)\n",
            "Requirement already satisfied: ipykernel in /usr/local/lib/python3.8/dist-packages (from jupyter->d2l==1.0.0-beta0) (5.3.4)\n",
            "Collecting qtconsole\n",
            "  Downloading qtconsole-5.4.0-py3-none-any.whl (121 kB)\n",
            "\u001b[2K     \u001b[90m━━━━━━━━━━━━━━━━━━━━━━━━━━━━━━━━━━━━━━\u001b[0m \u001b[32m121.0/121.0 KB\u001b[0m \u001b[31m13.0 MB/s\u001b[0m eta \u001b[36m0:00:00\u001b[0m\n",
            "\u001b[?25hRequirement already satisfied: ipywidgets in /usr/local/lib/python3.8/dist-packages (from jupyter->d2l==1.0.0-beta0) (7.7.1)\n",
            "Requirement already satisfied: pyparsing>=2.2.1 in /usr/local/lib/python3.8/dist-packages (from matplotlib->d2l==1.0.0-beta0) (3.0.9)\n",
            "Requirement already satisfied: pillow>=6.2.0 in /usr/local/lib/python3.8/dist-packages (from matplotlib->d2l==1.0.0-beta0) (8.4.0)\n",
            "Requirement already satisfied: kiwisolver>=1.0.1 in /usr/local/lib/python3.8/dist-packages (from matplotlib->d2l==1.0.0-beta0) (1.4.4)\n",
            "Requirement already satisfied: cycler>=0.10 in /usr/local/lib/python3.8/dist-packages (from matplotlib->d2l==1.0.0-beta0) (0.11.0)\n",
            "Requirement already satisfied: packaging>=20.0 in /usr/local/lib/python3.8/dist-packages (from matplotlib->d2l==1.0.0-beta0) (23.0)\n",
            "Requirement already satisfied: fonttools>=4.22.0 in /usr/local/lib/python3.8/dist-packages (from matplotlib->d2l==1.0.0-beta0) (4.38.0)\n",
            "Requirement already satisfied: python-dateutil>=2.7 in /usr/local/lib/python3.8/dist-packages (from matplotlib->d2l==1.0.0-beta0) (2.8.2)\n",
            "Requirement already satisfied: traitlets in /usr/local/lib/python3.8/dist-packages (from matplotlib-inline->d2l==1.0.0-beta0) (5.7.1)\n",
            "Requirement already satisfied: pytz>=2017.3 in /usr/local/lib/python3.8/dist-packages (from pandas->d2l==1.0.0-beta0) (2022.7.1)\n",
            "Requirement already satisfied: chardet<5,>=3.0.2 in /usr/local/lib/python3.8/dist-packages (from requests->d2l==1.0.0-beta0) (4.0.0)\n",
            "Requirement already satisfied: certifi>=2017.4.17 in /usr/local/lib/python3.8/dist-packages (from requests->d2l==1.0.0-beta0) (2022.12.7)\n",
            "Requirement already satisfied: idna<3,>=2.5 in /usr/local/lib/python3.8/dist-packages (from requests->d2l==1.0.0-beta0) (2.10)\n",
            "Requirement already satisfied: urllib3<1.27,>=1.21.1 in /usr/local/lib/python3.8/dist-packages (from requests->d2l==1.0.0-beta0) (1.26.14)\n",
            "Requirement already satisfied: torch>=1.11 in /usr/local/lib/python3.8/dist-packages (from linear-operator>=0.2.0->gpytorch->d2l==1.0.0-beta0) (1.13.1+cu116)\n",
            "Requirement already satisfied: six>=1.5 in /usr/local/lib/python3.8/dist-packages (from python-dateutil>=2.7->matplotlib->d2l==1.0.0-beta0) (1.15.0)\n",
            "Requirement already satisfied: tornado>=4.2 in /usr/local/lib/python3.8/dist-packages (from ipykernel->jupyter->d2l==1.0.0-beta0) (6.2)\n",
            "Requirement already satisfied: jupyter-client in /usr/local/lib/python3.8/dist-packages (from ipykernel->jupyter->d2l==1.0.0-beta0) (6.1.12)\n",
            "Requirement already satisfied: ipython>=5.0.0 in /usr/local/lib/python3.8/dist-packages (from ipykernel->jupyter->d2l==1.0.0-beta0) (7.9.0)\n",
            "Requirement already satisfied: jupyterlab-widgets>=1.0.0 in /usr/local/lib/python3.8/dist-packages (from ipywidgets->jupyter->d2l==1.0.0-beta0) (3.0.5)\n",
            "Requirement already satisfied: ipython-genutils~=0.2.0 in /usr/local/lib/python3.8/dist-packages (from ipywidgets->jupyter->d2l==1.0.0-beta0) (0.2.0)\n",
            "Requirement already satisfied: widgetsnbextension~=3.6.0 in /usr/local/lib/python3.8/dist-packages (from ipywidgets->jupyter->d2l==1.0.0-beta0) (3.6.2)\n",
            "Requirement already satisfied: prompt-toolkit!=3.0.0,!=3.0.1,<3.1.0,>=2.0.0 in /usr/local/lib/python3.8/dist-packages (from jupyter-console->jupyter->d2l==1.0.0-beta0) (2.0.10)\n",
            "Requirement already satisfied: pygments in /usr/local/lib/python3.8/dist-packages (from jupyter-console->jupyter->d2l==1.0.0-beta0) (2.6.1)\n",
            "Requirement already satisfied: tinycss2 in /usr/local/lib/python3.8/dist-packages (from nbconvert->jupyter->d2l==1.0.0-beta0) (1.2.1)\n",
            "Requirement already satisfied: bleach in /usr/local/lib/python3.8/dist-packages (from nbconvert->jupyter->d2l==1.0.0-beta0) (6.0.0)\n",
            "Requirement already satisfied: jupyter-core>=4.7 in /usr/local/lib/python3.8/dist-packages (from nbconvert->jupyter->d2l==1.0.0-beta0) (5.2.0)\n",
            "Requirement already satisfied: entrypoints>=0.2.2 in /usr/local/lib/python3.8/dist-packages (from nbconvert->jupyter->d2l==1.0.0-beta0) (0.4)\n",
            "Requirement already satisfied: defusedxml in /usr/local/lib/python3.8/dist-packages (from nbconvert->jupyter->d2l==1.0.0-beta0) (0.7.1)\n",
            "Requirement already satisfied: jinja2>=3.0 in /usr/local/lib/python3.8/dist-packages (from nbconvert->jupyter->d2l==1.0.0-beta0) (3.1.2)\n",
            "Requirement already satisfied: MarkupSafe>=2.0 in /usr/local/lib/python3.8/dist-packages (from nbconvert->jupyter->d2l==1.0.0-beta0) (2.1.2)\n",
            "Requirement already satisfied: mistune<2,>=0.8.1 in /usr/local/lib/python3.8/dist-packages (from nbconvert->jupyter->d2l==1.0.0-beta0) (0.8.4)\n",
            "Requirement already satisfied: jupyterlab-pygments in /usr/local/lib/python3.8/dist-packages (from nbconvert->jupyter->d2l==1.0.0-beta0) (0.2.2)\n",
            "Requirement already satisfied: lxml in /usr/local/lib/python3.8/dist-packages (from nbconvert->jupyter->d2l==1.0.0-beta0) (4.9.2)\n",
            "Requirement already satisfied: nbformat>=5.1 in /usr/local/lib/python3.8/dist-packages (from nbconvert->jupyter->d2l==1.0.0-beta0) (5.7.3)\n",
            "Requirement already satisfied: nbclient>=0.5.0 in /usr/local/lib/python3.8/dist-packages (from nbconvert->jupyter->d2l==1.0.0-beta0) (0.7.2)\n",
            "Requirement already satisfied: pandocfilters>=1.4.1 in /usr/local/lib/python3.8/dist-packages (from nbconvert->jupyter->d2l==1.0.0-beta0) (1.5.0)\n",
            "Requirement already satisfied: beautifulsoup4 in /usr/local/lib/python3.8/dist-packages (from nbconvert->jupyter->d2l==1.0.0-beta0) (4.6.3)\n",
            "Requirement already satisfied: prometheus-client in /usr/local/lib/python3.8/dist-packages (from notebook->jupyter->d2l==1.0.0-beta0) (0.16.0)\n",
            "Requirement already satisfied: Send2Trash>=1.5.0 in /usr/local/lib/python3.8/dist-packages (from notebook->jupyter->d2l==1.0.0-beta0) (1.8.0)\n",
            "Requirement already satisfied: terminado>=0.8.3 in /usr/local/lib/python3.8/dist-packages (from notebook->jupyter->d2l==1.0.0-beta0) (0.13.3)\n",
            "Requirement already satisfied: argon2-cffi in /usr/local/lib/python3.8/dist-packages (from notebook->jupyter->d2l==1.0.0-beta0) (21.3.0)\n",
            "Requirement already satisfied: pyzmq>=17 in /usr/local/lib/python3.8/dist-packages (from notebook->jupyter->d2l==1.0.0-beta0) (23.2.1)\n",
            "Collecting qtpy>=2.0.1\n",
            "  Downloading QtPy-2.3.0-py3-none-any.whl (83 kB)\n",
            "\u001b[2K     \u001b[90m━━━━━━━━━━━━━━━━━━━━━━━━━━━━━━━━━━━━━━━━\u001b[0m \u001b[32m83.6/83.6 KB\u001b[0m \u001b[31m10.6 MB/s\u001b[0m eta \u001b[36m0:00:00\u001b[0m\n",
            "\u001b[?25hRequirement already satisfied: joblib>=1.1.1 in /usr/local/lib/python3.8/dist-packages (from scikit-learn->gpytorch->d2l==1.0.0-beta0) (1.2.0)\n",
            "Requirement already satisfied: threadpoolctl>=2.0.0 in /usr/local/lib/python3.8/dist-packages (from scikit-learn->gpytorch->d2l==1.0.0-beta0) (3.1.0)\n",
            "Requirement already satisfied: decorator in /usr/local/lib/python3.8/dist-packages (from ipython>=5.0.0->ipykernel->jupyter->d2l==1.0.0-beta0) (4.4.2)\n",
            "Requirement already satisfied: pickleshare in /usr/local/lib/python3.8/dist-packages (from ipython>=5.0.0->ipykernel->jupyter->d2l==1.0.0-beta0) (0.7.5)\n",
            "Requirement already satisfied: pexpect in /usr/local/lib/python3.8/dist-packages (from ipython>=5.0.0->ipykernel->jupyter->d2l==1.0.0-beta0) (4.8.0)\n",
            "Collecting jedi>=0.10\n",
            "  Downloading jedi-0.18.2-py2.py3-none-any.whl (1.6 MB)\n",
            "\u001b[2K     \u001b[90m━━━━━━━━━━━━━━━━━━━━━━━━━━━━━━━━━━━━━━━━\u001b[0m \u001b[32m1.6/1.6 MB\u001b[0m \u001b[31m62.1 MB/s\u001b[0m eta \u001b[36m0:00:00\u001b[0m\n",
            "\u001b[?25hRequirement already satisfied: backcall in /usr/local/lib/python3.8/dist-packages (from ipython>=5.0.0->ipykernel->jupyter->d2l==1.0.0-beta0) (0.2.0)\n",
            "Requirement already satisfied: setuptools>=18.5 in /usr/local/lib/python3.8/dist-packages (from ipython>=5.0.0->ipykernel->jupyter->d2l==1.0.0-beta0) (57.4.0)\n",
            "Requirement already satisfied: platformdirs>=2.5 in /usr/local/lib/python3.8/dist-packages (from jupyter-core>=4.7->nbconvert->jupyter->d2l==1.0.0-beta0) (3.0.0)\n",
            "Requirement already satisfied: fastjsonschema in /usr/local/lib/python3.8/dist-packages (from nbformat>=5.1->nbconvert->jupyter->d2l==1.0.0-beta0) (2.16.3)\n",
            "Requirement already satisfied: jsonschema>=2.6 in /usr/local/lib/python3.8/dist-packages (from nbformat>=5.1->nbconvert->jupyter->d2l==1.0.0-beta0) (4.3.3)\n",
            "Requirement already satisfied: wcwidth in /usr/local/lib/python3.8/dist-packages (from prompt-toolkit!=3.0.0,!=3.0.1,<3.1.0,>=2.0.0->jupyter-console->jupyter->d2l==1.0.0-beta0) (0.2.6)\n",
            "Requirement already satisfied: ptyprocess in /usr/local/lib/python3.8/dist-packages (from terminado>=0.8.3->notebook->jupyter->d2l==1.0.0-beta0) (0.7.0)\n",
            "Requirement already satisfied: typing-extensions in /usr/local/lib/python3.8/dist-packages (from torch>=1.11->linear-operator>=0.2.0->gpytorch->d2l==1.0.0-beta0) (4.5.0)\n",
            "Requirement already satisfied: argon2-cffi-bindings in /usr/local/lib/python3.8/dist-packages (from argon2-cffi->notebook->jupyter->d2l==1.0.0-beta0) (21.2.0)\n",
            "Requirement already satisfied: webencodings in /usr/local/lib/python3.8/dist-packages (from bleach->nbconvert->jupyter->d2l==1.0.0-beta0) (0.5.1)\n",
            "Requirement already satisfied: parso<0.9.0,>=0.8.0 in /usr/local/lib/python3.8/dist-packages (from jedi>=0.10->ipython>=5.0.0->ipykernel->jupyter->d2l==1.0.0-beta0) (0.8.3)\n",
            "Requirement already satisfied: importlib-resources>=1.4.0 in /usr/local/lib/python3.8/dist-packages (from jsonschema>=2.6->nbformat>=5.1->nbconvert->jupyter->d2l==1.0.0-beta0) (5.12.0)\n",
            "Requirement already satisfied: pyrsistent!=0.17.0,!=0.17.1,!=0.17.2,>=0.14.0 in /usr/local/lib/python3.8/dist-packages (from jsonschema>=2.6->nbformat>=5.1->nbconvert->jupyter->d2l==1.0.0-beta0) (0.19.3)\n",
            "Requirement already satisfied: attrs>=17.4.0 in /usr/local/lib/python3.8/dist-packages (from jsonschema>=2.6->nbformat>=5.1->nbconvert->jupyter->d2l==1.0.0-beta0) (22.2.0)\n",
            "Requirement already satisfied: cffi>=1.0.1 in /usr/local/lib/python3.8/dist-packages (from argon2-cffi-bindings->argon2-cffi->notebook->jupyter->d2l==1.0.0-beta0) (1.15.1)\n",
            "Requirement already satisfied: pycparser in /usr/local/lib/python3.8/dist-packages (from cffi>=1.0.1->argon2-cffi-bindings->argon2-cffi->notebook->jupyter->d2l==1.0.0-beta0) (2.21)\n",
            "Requirement already satisfied: zipp>=3.1.0 in /usr/local/lib/python3.8/dist-packages (from importlib-resources>=1.4.0->jsonschema>=2.6->nbformat>=5.1->nbconvert->jupyter->d2l==1.0.0-beta0) (3.15.0)\n",
            "Building wheels for collected packages: gym\n",
            "  Building wheel for gym (setup.py) ... \u001b[?25l\u001b[?25hdone\n",
            "  Created wheel for gym: filename=gym-0.21.0-py3-none-any.whl size=1616823 sha256=b2cf2fd2ae8576c53c3742f9944984e256cbf533a15ffcdf2b93f3dc077b2218\n",
            "  Stored in directory: /root/.cache/pip/wheels/27/6d/b3/a3a6e10704795c9b9000f1ab2dc480dfe7bed42f5972806e73\n",
            "Successfully built gym\n",
            "Installing collected packages: qtpy, matplotlib-inline, jedi, gym, linear-operator, gpytorch, qtconsole, jupyter, d2l\n",
            "  Attempting uninstall: gym\n",
            "    Found existing installation: gym 0.25.2\n",
            "    Uninstalling gym-0.25.2:\n",
            "      Successfully uninstalled gym-0.25.2\n",
            "Successfully installed d2l-1.0.0b0 gpytorch-1.9.1 gym-0.21.0 jedi-0.18.2 jupyter-1.0.0 linear-operator-0.3.0 matplotlib-inline-0.1.6 qtconsole-5.4.0 qtpy-2.3.0\n"
          ]
        }
      ],
      "source": [
        "!pip install d2l==1.0.0-beta0"
      ]
    },
    {
      "cell_type": "markdown",
      "source": [
        "Trong phần trước, chúng tôi đã giới thiệu những công cụ cơ bản để xây dựng mạng học sâu và kiểm soát năng lực của nó thông qua việc giảm chiều dữ liệu, suy giảm trọng số và dropout. Giờ bạn đã sẵn sàng để ứng dụng tất cả những kiến thức này vào thực tiễn bằng cách tham gia một cuộc thi trên Kaggle. Dự đoán giá nhà là một bài toán tuyệt vời để bắt đầu: dữ liệu tương đối khái quát, không có cấu trúc cứng nhắc nên không đòi hỏi những mô hình đặc biệt như các bài toán có dữ liệu ảnh và âm thanh. Tập dữ liệu này được thu thập bởi Bart de Cock vào năm 2011 [DeCock, 2011], lớn hơn rất nhiều so với tập dữ liệu giá nhà Boston nổi tiếng của Harrison và Rubinfeld (1978). Nó có nhiều mẫu và đặc trưng hơn, chứa thông tin về giá nhà ở Ames, Indiana trong khoảng thời gian từ 2006-2010.\n",
        "\n",
        "Trong mục này, chúng tôi sẽ hướng dẫn bạn một cách chi tiết các bước tiền xử lý dữ liệu, thiết kế mô hình, lựa chọn và điều chỉnh siêu tham số. Chúng tôi mong rằng thông qua việc thực hành, bạn sẽ có thể quan sát được tác động của việc kiểm soát năng lực mô hình, trích xuất đặc trưng, v.v. trong thực tiễn. Kinh nghiệm này rất quan trọng để bạn có được trực giác của một nhà khoa học dữ liệu."
      ],
      "metadata": {
        "id": "P27zun1JYMYU"
      }
    },
    {
      "cell_type": "code",
      "source": [
        "%matplotlib inline\n",
        "import pandas as pd\n",
        "import torch\n",
        "from torch import nn\n",
        "from d2l import torch as d2l"
      ],
      "metadata": {
        "colab": {
          "base_uri": "https://localhost:8080/"
        },
        "id": "RSZNeFopYRpx",
        "outputId": "48caad97-c3a9-412e-b9f2-5b07a6068037"
      },
      "execution_count": 6,
      "outputs": [
        {
          "output_type": "stream",
          "name": "stderr",
          "text": [
            "/usr/local/lib/python3.8/dist-packages/torch/cuda/__init__.py:497: UserWarning: Can't initialize NVML\n",
            "  warnings.warn(\"Can't initialize NVML\")\n"
          ]
        }
      ]
    },
    {
      "cell_type": "markdown",
      "source": [
        "# 5.7.1. Tải dữ liệu\n",
        "\n",
        "Xuyên suốt cuốn sách, chúng ta sẽ đào tạo và thử nghiệm các mô hình trên nhiều bộ dữ liệu đã tải xuống. Ở đây, chúng ta thực hiện hai chức năng tiện ích để tải xuống tệp và giải nén tệp zip hoặc tar. Một lần nữa, chúng ta trì hoãn việc triển khai chúng vào Mục 23.7 ."
      ],
      "metadata": {
        "id": "DaIxFFkDYUm9"
      }
    },
    {
      "cell_type": "code",
      "source": [
        "def download(url, folder, sha1_hash=None):\n",
        "    \"\"\"Download a file to folder and return the local filepath.\"\"\"\n",
        "\n",
        "def extract(filename, folder):\n",
        "    \"\"\"Extract a zip/tar file into folder.\"\"\""
      ],
      "metadata": {
        "id": "asMDrb5eYdrC"
      },
      "execution_count": 7,
      "outputs": []
    },
    {
      "cell_type": "markdown",
      "source": [
        "# 5.7.2. Kaggle\n",
        "\n",
        "Kaggle là một nền tảng phổ biến tổ chức các cuộc thi máy học. Mỗi cuộc thi tập trung vào một tập dữ liệu và nhiều cuộc thi được tài trợ bởi các bên liên quan, những người trao giải thưởng cho các giải pháp chiến thắng. Nền tảng này giúp người dùng tương tác thông qua các diễn đàn và mã được chia sẻ, thúc đẩy cả sự hợp tác và cạnh tranh. Mặc dù việc theo đuổi bảng xếp hạng thường vượt khỏi tầm kiểm soát, với việc các nhà nghiên cứu tập trung một cách thiển cận vào các bước tiền xử lý thay vì đặt ra các câu hỏi cơ bản, nhưng cũng có giá trị to lớn về tính khách quan của một nền tảng tạo điều kiện so sánh định lượng trực tiếp giữa các phương pháp cạnh tranh cũng như chia sẻ mã để mọi người có thể tìm hiểu những gì đã làm và không làm việc. Nếu bạn muốn tham gia một cuộc thi Kaggle, trước tiên bạn cần đăng ký một tài khoản \n",
        "\n",
        "Trên trang cuộc thi dự đoán giá nhà, bạn có thể tìm thấy tập dữ liệu (trong tab “Dữ liệu”), gửi dự đoán và xem xếp hạng của mình. URL ở ngay tại đây:\n",
        "\n",
        "> https://www.kaggle.com/c/house-prices-advanced-regression-techniques"
      ],
      "metadata": {
        "id": "wEfDHyKAYr3R"
      }
    },
    {
      "cell_type": "markdown",
      "source": [
        "#5.7.3. Truy cập và đọc bộ dữ liệu\n",
        "\n",
        "Lưu ý rằng dữ liệu cuộc thi được tách thành tập huấn luyện và tập kiểm tra. Mỗi bản ghi bao gồm giá trị tài sản của ngôi nhà và các thuộc tính như loại đường phố, năm xây dựng, loại mái nhà, tình trạng tầng hầm, v.v. Các tính năng bao gồm nhiều loại dữ liệu khác nhau. Ví dụ: năm xây dựng được biểu thị bằng một số nguyên, loại mái nhà được biểu thị bằng các phép gán phân loại rời rạc và các tính năng khác bằng các số dấu phẩy động. Và đây là nơi thực tế làm mọi thứ phức tạp hơn: đối với một số ví dụ, một số dữ liệu bị thiếu hoàn toàn với giá trị bị thiếu được đánh dấu đơn giản là “na”. Giá của mỗi ngôi nhà chỉ được bao gồm cho bộ đào tạo (dù sao đó cũng là một cuộc thi). Chúng ta sẽ muốn phân vùng tập huấn luyện để tạo tập hợp xác thực, nhưng chúng tôi chỉ có thể đánh giá các mô hình của mình trên tập kiểm tra chính thức sau khi tải các dự đoán lên Kaggle\n",
        "\n",
        "Để bắt đầu, chúng tôi sẽ đọc và xử lý dữ liệu bằng cách sử dụng pandas, mà chúng tôi đã giới thiệu trong Phần 2.2 . Để thuận tiện, chúng tôi có thể tải xuống và lưu trữ bộ dữ liệu nhà ở Kaggle. Nếu một tệp tương ứng với tập dữ liệu này đã tồn tại trong thư mục bộ nhớ cache và SHA-1 của nó khớp với sha1_hash, thì mã của chúng tôi sẽ sử dụng tệp đã lưu trong bộ nhớ cache để tránh làm tắc nghẽn Internet của bạn do tải xuống dư thừa."
      ],
      "metadata": {
        "id": "qoaqo86EbT5x"
      }
    },
    {
      "cell_type": "code",
      "source": [
        "\"\"\"\n",
        "  Đầu tiên tạo 1 Class để lưu trữ và tải dữ liệu về từ kaggle\n",
        "kế thừa từ class d2l.DataModule.\n",
        "\n",
        "  Về class Download em vẫn chưa hiểu lắm mà em thấy cần ưu tiên \n",
        "xem những triển khai ở dưới trước nên để tìm hiểu về sau ạ.\n",
        "\n",
        "\"\"\"\n",
        "\n",
        "class KaggleHouse(d2l.DataModule):\n",
        "    def __init__(self, batch_size, train=None, val=None):\n",
        "        super().__init__()\n",
        "        self.save_hyperparameters()\n",
        "        if self.train is None:\n",
        "            self.raw_train = pd.read_csv(d2l.download(\n",
        "                d2l.DATA_URL + 'kaggle_house_pred_train.csv', self.root,\n",
        "                sha1_hash='585e9cc93e70b39160e7921475f9bcd7d31219ce'))\n",
        "            self.raw_val = pd.read_csv(d2l.download(\n",
        "                d2l.DATA_URL + 'kaggle_house_pred_test.csv', self.root,\n",
        "                sha1_hash='fa19780a7b011d9b009e8bff8e99922a8ee2eb90'))"
      ],
      "metadata": {
        "id": "7JLN_8yTbvaT"
      },
      "execution_count": 8,
      "outputs": []
    },
    {
      "cell_type": "markdown",
      "source": [
        "Tập dữ liệu huấn luyện bao gồm 1460 ví dụ, 80 tính năng và 1 nhãn, trong khi dữ liệu xác thực chứa 1459 ví dụ và 80 tính năng."
      ],
      "metadata": {
        "id": "X8A8NYPTbzo6"
      }
    },
    {
      "cell_type": "code",
      "source": [
        "\"\"\"\n",
        "Xem thử định dạng, kích thước tập dữ liệu mà ta sắp xử lý\n",
        "1. Với tập train có 1460 sample, 80 feature (đầu vào - X), 1 label (y)\n",
        "2. Với tập test có 1459 sample, 80 feature\n",
        "\"\"\"\n",
        "data = KaggleHouse(batch_size = 64)\n",
        "print(data.raw_train.shape)\n",
        "print(data.raw_val.shape)"
      ],
      "metadata": {
        "colab": {
          "base_uri": "https://localhost:8080/"
        },
        "id": "wQHmP3Vzb1A_",
        "outputId": "6475810f-5739-46af-9c90-817c530db914"
      },
      "execution_count": 9,
      "outputs": [
        {
          "output_type": "stream",
          "name": "stdout",
          "text": [
            "Downloading ../data/kaggle_house_pred_train.csv from http://d2l-data.s3-accelerate.amazonaws.com/kaggle_house_pred_train.csv...\n",
            "Downloading ../data/kaggle_house_pred_test.csv from http://d2l-data.s3-accelerate.amazonaws.com/kaggle_house_pred_test.csv...\n",
            "(1460, 81)\n",
            "(1459, 80)\n"
          ]
        }
      ]
    },
    {
      "cell_type": "markdown",
      "source": [
        "# 5.7.4. Tiền xử lý dữ liệu\n",
        "\n",
        "Chúng ta hãy xem bốn tính năng đầu tiên và hai tính năng cuối cùng cũng như nhãn (Giá bán) từ bốn ví dụ đầu tiên."
      ],
      "metadata": {
        "id": "smNVBqPhcCJN"
      }
    },
    {
      "cell_type": "code",
      "source": [
        "\"\"\"\n",
        "Xem  thử: \n",
        "1. 4 tính năng đầu tiên và 2 tính năng cuối cùng \n",
        "2. Và nhãn (Giá bán) của chúng với 4 ví dụ đầu tiên.\n",
        "\"\"\"\n",
        "print(data.raw_train.iloc[:4, [0,1,2,3,-3,-2,-1]])"
      ],
      "metadata": {
        "colab": {
          "base_uri": "https://localhost:8080/"
        },
        "id": "91st6iHbcyIV",
        "outputId": "b8377c71-51e9-498d-d798-a1777be178e4"
      },
      "execution_count": 10,
      "outputs": [
        {
          "output_type": "stream",
          "name": "stdout",
          "text": [
            "   Id  MSSubClass MSZoning  LotFrontage SaleType SaleCondition  SalePrice\n",
            "0   1          60       RL         65.0       WD        Normal     208500\n",
            "1   2          20       RL         80.0       WD        Normal     181500\n",
            "2   3          60       RL         68.0       WD        Normal     223500\n",
            "3   4          70       RL         60.0       WD       Abnorml     140000\n"
          ]
        }
      ]
    },
    {
      "cell_type": "markdown",
      "source": [
        "Chúng ta có thể thấy rằng trong mỗi ví dụ, tính năng đầu tiên là ID. Điều này giúp mô hình xác định từng ví dụ đào tạo. Mặc dù điều này thuận tiện, nhưng nó không mang bất kỳ thông tin nào cho mục đích dự đoán. Do đó, chúng ta sẽ xóa nó khỏi tập dữ liệu trước khi đưa dữ liệu vào mô hình. Ngoài ra, với nhiều loại dữ liệu khác nhau, chúng ta sẽ cần xử lý trước dữ liệu trước khi có thể bắt đầu lập mô hình.\n",
        "\n",
        "Hãy bắt đầu với các tính năng số. Đầu tiên, chúng ta áp dụng phương pháp phỏng đoán, thay thế tất cả các giá trị còn thiếu bằng giá trị trung bình của đối tượng địa lý tương ứng. Sau đó, để đặt tất cả các tính năng trên một thang đo chung, chúng ta chuẩn hóa dữ liệu bằng cách thay đổi tỷ lệ các tính năng về giá trị trung bình bằng 0 và phương sai đơn vị:\n",
        "$$\n",
        "x \\leftarrow \\frac{x - \\mu}{\\sigma},\n",
        "$$\n",
        "\n",
        "Với $\\mu$ và $\\sigma$ lần lượt biểu thị giá trị trung bình và độ lệch chuẩn. Để xác minh rằng điều này thực sự biến đổi tính năng (biến) của chúng ta sao cho nó có phương sai đơn vị và trung bình bằng 0, hãy lưu ý rằng\n",
        "$$E[\\frac{x-\\mu}{\\sigma}] = \\frac{\\mu - \\mu}{\\sigma} = 0$$\n",
        "và do đó\n",
        "$$\n",
        "E[(x-\\mu)^2] = (\\sigma^2 + \\mu^2) - 2\\mu^2+\\mu^2 = \\sigma^2\n",
        "$$\n",
        "\n",
        "Theo trực giác, chúng tôi chuẩn hóa dữ liệu vì hai lý do. Đầu tiên, nó tỏ ra thuận tiện cho việc tối ưu hóa. Thứ hai, bởi vì chúng ta không biết trước các tính năng nào sẽ có liên quan, chúng ta không muốn xử phạt các hệ số được gán cho một tính năng nhiều hơn bất kỳ tính năng nào khác.\n",
        "\n",
        "Tiếp theo chúng ta xử lý các giá trị rời rạc. Điều này bao gồm các tính năng như “MSZoning”. Chúng ta thay thế chúng bằng mã hóa one-hot giống như cách mà chúng ta đã chuyển đổi nhãn đa lớp trước đó thành vectơ (xem Phần 4.1.1 ). Chẳng hạn, “MSZoning” giả định các giá trị “RL” và “RM”. Bỏ tính năng “MSZoning”, hai tính năng chỉ báo mới “MSZoning_RL” và “MSZoning_RM” được tạo với các giá trị là 0 hoặc 1. Theo mã hóa one-hot, nếu giá trị ban đầu của “MSZoning” là “RL”, thì “ MSZoning_RL” là 1 và “MSZoning_RM” là 0.Gói pandas tự động thực hiện việc này cho chúng ta."
      ],
      "metadata": {
        "id": "J-Gu9R3JdRE2"
      }
    },
    {
      "cell_type": "code",
      "source": [
        "\"\"\"\n",
        "  Do dữ liệu còn rất nhiều loại nên ta phải tiền xử lý trước khi \n",
        "đưa vào training.\n",
        "\n",
        "1. Với feature dư thừa không cần thiết ví dụ \"ID\" ta có thể xóa đi\n",
        "  Dùng pd.concat để drop đi cột or hàng ta không cần.\n",
        "\n",
        "2. Với các dữ liệu số mà thiếu, ta thay thế các giá trị \n",
        "còn thiếu bằng giá trị trung bình. Đầu tiên, để tất cả feature dạng \n",
        "số về cùng 1 khoảng giá trị, ta thực hiện chuyển đổi như công thức\n",
        "trên. Sau đó gán 0 (giá trị trung bình mới) cho các giá trị còn thiếu.\n",
        "Các bước:\n",
        "\n",
        "  - Tìm các chỉ mục của feature dạng số\n",
        "  - Từ đó, ta áp dụng công thức trên với tất cả các feature có chỉ \n",
        "    mục vừa tìm \n",
        "  - Gán 0 cho các giá trị có thiếu.\n",
        "\n",
        "3. Với các dữ liệu rời rạc ta sẽ phân bố theo kiểu one-hot \n",
        "  ví dụ:\n",
        "  Feature màu sơn (hồng, đỏ) thì sẽ thành:\n",
        "  2 Feature màu sơn_hồng (1, 0)\n",
        "            màu sơn_đỏ   (0, 1)\n",
        "  Hàm get_dummies của pandas sẽ gúp ta làm việc đó.\n",
        "\n",
        "4. Gán lại các giá trị đã lọc và xử lý từ raw vào chuẩn để sử dụng.\n",
        "\n",
        "### Thắc mắc ###\n",
        "1. Việc điền đầy dữ liệu thiếu, thì ta chuẩn hóa trước rồi mới điền\n",
        "  thì khi chuẩn hóa các dữ liệu N/A nó sẽ tính vào công thức như\n",
        "  thế nào ạ ?!\n",
        "\n",
        "2. Nếu việc thiếu cả dữ liệu ở các features rời rạc thì sao ạ ?!\n",
        "  Cũng chuyển thành one-hot hay được xử lý khác ạ ?!\n",
        "\n",
        "\"\"\"\n",
        "@d2l.add_to_class(KaggleHouse)\n",
        "def preprocess(self):\n",
        "    # Remove the ID and label columns\n",
        "    label = 'SalePrice'\n",
        "    features = pd.concat(\n",
        "        (self.raw_train.drop(columns=['Id', label]),\n",
        "         self.raw_val.drop(columns=['Id'])))\n",
        "    # Standardize numerical columns\n",
        "    numeric_features = features.dtypes[features.dtypes!='object'].index\n",
        "    features[numeric_features] = features[numeric_features].apply(\n",
        "        lambda x: (x - x.mean()) / (x.std()))\n",
        "    # Replace NAN numerical features by 0\n",
        "    features[numeric_features] = features[numeric_features].fillna(0)\n",
        "    # Replace discrete features by one-hot encoding\n",
        "    features = pd.get_dummies(features, dummy_na=True)\n",
        "    # Save preprocessed features\n",
        "    self.train = features[:self.raw_train.shape[0]].copy()\n",
        "    self.train[label] = self.raw_train[label]\n",
        "    self.val = features[self.raw_train.shape[0]:].copy()"
      ],
      "metadata": {
        "id": "ypNVsK4seQuz"
      },
      "execution_count": 29,
      "outputs": []
    },
    {
      "cell_type": "markdown",
      "source": [
        "Bạn có thể thấy rằng chuyển đổi này làm tăng số lượng tính năng từ 79 lên 331 (không bao gồm các cột ID và nhãn)."
      ],
      "metadata": {
        "id": "Q7nUst3ifRiB"
      }
    },
    {
      "cell_type": "code",
      "source": [
        "data.preprocess()\n",
        "data.train.shape\n",
        "print(data.train.iloc[:4, [0,1,2,3,-3,-2,-1]])"
      ],
      "metadata": {
        "colab": {
          "base_uri": "https://localhost:8080/"
        },
        "id": "pZYgH-OGfRNk",
        "outputId": "e3fdb25e-eec5-4087-cd7c-bc524f8b48a2"
      },
      "execution_count": 27,
      "outputs": [
        {
          "output_type": "stream",
          "name": "stdout",
          "text": [
            "   MSSubClass  LotFrontage   LotArea  OverallQual  SaleCondition_Partial  \\\n",
            "0    0.067320    -0.184443 -0.217841     0.646073                      0   \n",
            "1   -0.873466     0.458096 -0.072032    -0.063174                      0   \n",
            "2    0.067320    -0.055935  0.137173     0.646073                      0   \n",
            "3    0.302516    -0.398622 -0.078371     0.646073                      0   \n",
            "\n",
            "   SaleCondition_nan  SalePrice  \n",
            "0                  0     208500  \n",
            "1                  0     181500  \n",
            "2                  0     223500  \n",
            "3                  0     140000  \n"
          ]
        }
      ]
    },
    {
      "cell_type": "markdown",
      "source": [
        "# 5.7.5. Đo lỗi\n",
        "\n",
        "Để bắt đầu, chúng ta sẽ đào tạo một mô hình tuyến tính với tổn thất bình phương. Không có gì đáng ngạc nhiên, mô hình tuyến tính của chúng tôi sẽ không dẫn đến một bài nộp giành chiến thắng trong cuộc thi nhưng nó cung cấp khả năng kiểm tra độ chính xác để xem liệu có thông tin có ý nghĩa trong dữ liệu hay không. Nếu chúng tôi không thể làm tốt hơn ngoài việc đoán ngẫu nhiên ở đây, thì rất có thể chúng tôi gặp lỗi xử lý dữ liệu. Và nếu mọi thứ hoạt động, mô hình tuyến tính sẽ đóng vai trò là đường cơ sở cho chúng ta một số trực giác về mức độ gần gũi của mô hình đơn giản với các mô hình được báo cáo tốt nhất, cho chúng ta biết chúng ta nên mong đợi mức tăng bao nhiêu từ các mô hình đẹp hơn.\n",
        "\n",
        "Với giá nhà, cũng như giá cổ phiếu, chúng ta quan tâm đến số lượng tương đối nhiều hơn số lượng tuyệt đối. Vì vậy chúng ta có xu hướng quan tâm nhiều hơn đến sai số tương đối $\\frac{y - \\hat{y}}{y}$ hơn về lỗi tuyệt đối $y - \\hat{y}$. Ví dụ: nếu dự đoán của chúng tôi sai lệch 100.000 USD khi ước tính giá một ngôi nhà ở Nông thôn Ohio, nơi giá trị của một ngôi nhà điển hình là 125.000 USD, thì có lẽ chúng tôi đang làm một công việc tồi tệ. Mặt khác, nếu chúng ta sai số này ở Los Altos Hills, California, thì đây có thể là một dự đoán chính xác đến kinh ngạc (ở đó, giá nhà trung bình vượt quá 4 triệu USD).\n",
        "\n",
        "Một cách để giải quyết vấn đề này là đo lường sự khác biệt theo logarit của các ước tính giá. Trên thực tế, đây cũng là thước đo lỗi chính thức được cuộc thi sử dụng để đánh giá chất lượng bài dự thi. Rốt cuộc, một giá trị nhỏ $\\delta$ vì |$\\log y - \\log \\hat{y}| \\leq \\delta$  dịch sang $e^{-\\delta} \\leq \\frac{\\hat{y}}{y} \\leq e^\\delta$. Điều này dẫn đến sai số bình phương trung bình gốc sau đây giữa logarit của giá dự đoán và logarit của giá nhãn:\n",
        "\n",
        "$$\n",
        "\\sqrt{\\frac{1}{n}\\sum_{i=1}^n\\left(\\log y_i -\\log \\hat{y}_i\\right)^2}.\n",
        "$$"
      ],
      "metadata": {
        "id": "aHPyBNpWfVvp"
      }
    },
    {
      "cell_type": "code",
      "source": [
        "\"\"\"\n",
        "  Sau khi đã xử lý về Feature, tiếp đến là Label. Ta modify lại hàm\n",
        "get_dataloader:\n",
        "\n",
        "1. Kiểm tra xem hàm được gọi để train hay để kiểm tra val\n",
        "2. Nếu là train thì data = self.train, nếu không thì ngược lại\n",
        "3. Khởi tạo get_tensor là một lambda - tương tự như hàm với nhiệm vụ\n",
        "  trả về giá trị của tham số truyền vào và gán dtype = float32\n",
        "4. Khởi tạo tensor bao gồm\n",
        "  - Các feature chính là data bỏ đi cột 'label'\n",
        "  - Label đã qua xử lý:\n",
        "    + get_tensor cột 'label' \n",
        "    + tính logarit cho từng phần tử\n",
        "    + reshape lại thành 1 cột cho đúng định dạng vì get_tensor làm \n",
        "      mất định dạng ban đầu.\n",
        "5. Trả về tensors chưa bộ dữ liệu hoàn chỉnh.\n",
        "\n",
        "### Thắc mắc ###\n",
        "1. Hàm get_tensorloader(), ở bài trước ngta có định nghĩa như sau:\n",
        "\n",
        "def get_tensorloader(self, tensors, train, indices = slice(0, None)):\n",
        "  tensors = tuple(a[indices] for a in tensors)\n",
        "  dataset = torch.utils.data.TensorDataset(*tensors)\n",
        "  return torch.utils.data.DataLoader(dataset, self.batch_size,\n",
        "                                      shuffle=train)\n",
        "\n",
        "\n",
        "\"\"\"\n",
        "@d2l.add_to_class(KaggleHouse)\n",
        "def get_dataloader(self, train):\n",
        "    label = 'SalePrice'\n",
        "    data = self.train if train else self.val\n",
        "    if label not in data: return \n",
        "    get_tensor = lambda x: torch.tensor(x.values, dtype=torch.float32)\n",
        "    # Logarithm of prices\n",
        "    tensors = (get_tensor(data.drop(columns=[label])),  # X\n",
        "               torch.log(get_tensor(data[label])).reshape((-1, 1)))  # Y\n",
        "    return self.get_tensorloader(tensors, train)"
      ],
      "metadata": {
        "id": "jekLuBdzhZGf"
      },
      "execution_count": 13,
      "outputs": []
    },
    {
      "cell_type": "markdown",
      "source": [
        "# 5.7.6. $K$-Fold Cross-Validation\n",
        "\n",
        "Nếu bạn đang đọc cuốn sách này theo đúng thứ tự thì có thể bạn sẽ nhớ ra rằng kiểm định chéo gập k-lần đã từng được giới thiệu khi ta thảo luận về cách lựa chọn mô hình (: numref: sec_model_selection). Ta sẽ ứng dụng kỹ thuật này để lựa chọn thiết kế mô hình và điều chỉnh các siêu tham số. Trước tiên ta cần một hàm trả về phần thứ  $i^{th}$\n",
        "  của dữ liệu trong kiểm định chéo gập k-lần. Việc này được tiến hành bằng cách cắt chọn (slicing) phần thứ $i^{th}$ để làm dữ liệu kiểm định và dùng phần còn lại làm dữ liệu huấn luyện. Cần lưu ý rằng đây không phải là cách xử lý dữ liệu hiệu quả nhất và ta chắc chắn sẽ dùng một cách khôn ngoan hơn để xử lý một tập dữ liệu có kích thước lớn hơn nhiều. Nhưng sự phức tạp được thêm vào này có thể làm rối mã nguồn một cách không cần thiết, vì vậy để đơn giản hóa vấn đề ở đây ta có thể an toàn bỏ qua."
      ],
      "metadata": {
        "id": "bZY-bRifjLs4"
      }
    },
    {
      "cell_type": "code",
      "source": [
        "\"\"\"\n",
        "Chia k_fold data:\n",
        "1. Chia data làm K phần, với K lần học\n",
        "2. Với lần học thứ K thì phần nhỏ thứ K sẽ được làm tập val\n",
        "\n",
        " Dưới đây là hàm với đầu vào là dữ liệu, trả về K tập dữ liệu đã được\n",
        "chia\n",
        "\n",
        "### Thắc mắc ###\n",
        "1. Chưa hiểu về data.train.loc[idx]\n",
        "\"\"\"\n",
        "def k_fold_data(data, k):\n",
        "    rets = []\n",
        "    fold_size = data.train.shape[0] // k\n",
        "    for j in range(k):\n",
        "        idx = range(j * fold_size, (j+1) * fold_size)\n",
        "        rets.append(KaggleHouse(data.batch_size, data.train.drop(index=idx),\n",
        "                                data.train.loc[idx]))\n",
        "    return rets"
      ],
      "metadata": {
        "id": "LlaorgG5kEk0"
      },
      "execution_count": 14,
      "outputs": []
    },
    {
      "cell_type": "markdown",
      "source": [
        "Val-error trung bình được trả về mỗi khi ta đào tạo K lần trong K-fold cross validation"
      ],
      "metadata": {
        "id": "iCKiywWHjYug"
      }
    },
    {
      "cell_type": "code",
      "source": [
        "\"\"\"\n",
        "Thực hiện lặp K lần, với K tập dữ liệu\n",
        "\n",
        "### Thắc măc ###\n",
        "1. Với việc model ở trong vòng for thì ở đây ta đang tạo ra K model\n",
        "  với K tập dữ liệu được chia khác nhau. Thì nếu để model ra ngoài\n",
        "  có tương đương với việc epoch = epoch trước đó * k không ạ ?!\n",
        "\n",
        "2. Mục đích của việc chia này là gì ạ ?!\n",
        "\n",
        "3. Công thức loss ở trên em chưa thấy được triển khai mà mới chỉ đổi\n",
        "  y sang log(y) thì là đã được nhúng sẵn r ạ ?!\n",
        "\n",
        "4. data_fold được chia bởi k_fold_data mà em thấy nó chỉ append \n",
        "  data.train vậy thì cái data.val của raw_val mà mình down trên web\n",
        "  xuống không được dùng ạ ?!\n",
        "\"\"\"\n",
        "def k_fold(trainer, data, k, lr):\n",
        "    val_loss, models = [], []\n",
        "    for i, data_fold in enumerate(k_fold_data(data, k)):\n",
        "        model = d2l.LinearRegression(lr)\n",
        "        model.board.yscale='log'\n",
        "        if i != 0: model.board.display = False\n",
        "        trainer.fit(model, data_fold)\n",
        "        val_loss.append(float(model.board.data['val_loss'][-1].y))\n",
        "        models.append(model)\n",
        "        print(f\"fold {i}, train rmse: {float(model.board.data['train_loss'][-1].y)}, valid rmse: {float(model.board.data['val_loss'][-1].y)}\")\n",
        "    print(f'average validation log mse = {sum(val_loss)/len(val_loss)}')\n",
        "    return models"
      ],
      "metadata": {
        "id": "8pS4geu2jnwj"
      },
      "execution_count": 31,
      "outputs": []
    },
    {
      "cell_type": "markdown",
      "source": [
        "# 5.7.7. Lựa chọn model\n",
        "\n",
        "Trong ví dụ này, chúng ta chọn một bộ siêu tham số chưa được tinh chỉnh và để dành việc cải thiện mô hình cho bạn đọc. Để tìm ra được một bộ siêu tham số tốt có thể sẽ tốn khá nhiều thời gian tùy thuộc vào số lượng siêu tham số mà ta muốn tối ưu. Nếu được sử dụng đúng cách, phương pháp kiểm định chéo gập k-lần sẽ có tính ổn định cao khi thực hiện với nhiều thử nghiệm. Tuy nhiên, nếu thử quá nhiều các lựa chọn siêu tham số thì phương pháp này có thể thất bại vì ta có thể chỉ đơn thuần gặp may ở một cách chia tập kiểm định phù hợp với bộ siêu tham số đó."
      ],
      "metadata": {
        "id": "BBFeMk0zl1TI"
      }
    },
    {
      "cell_type": "code",
      "source": [
        "trainer = d2l.Trainer(max_epochs=10)\n",
        "models = k_fold(trainer, data, k=5, lr=0.01)"
      ],
      "metadata": {
        "colab": {
          "base_uri": "https://localhost:8080/",
          "height": 366
        },
        "id": "hy_8C3FeoEvI",
        "outputId": "06573d63-ebbb-4fec-81b0-25ff176b3013"
      },
      "execution_count": 34,
      "outputs": [
        {
          "output_type": "stream",
          "name": "stdout",
          "text": [
            "fold 0, train rmse: 0.15881408833795124, valid rmse: 0.14865438789129257\n",
            "fold 1, train rmse: 0.08634433274467786, valid rmse: 0.11466318815946579\n",
            "fold 2, train rmse: 0.06335649639368057, valid rmse: 0.08399730324745178\n",
            "fold 3, train rmse: 0.061181333329942494, valid rmse: 0.051987215876579285\n",
            "fold 4, train rmse: 0.046053224760625094, valid rmse: 0.06489379182457924\n",
            "average validation log mse = 0.09283917739987373\n"
          ]
        },
        {
          "output_type": "display_data",
          "data": {
            "text/plain": [
              "<Figure size 252x180 with 1 Axes>"
            ],
            "image/svg+xml": "<?xml version=\"1.0\" encoding=\"utf-8\" standalone=\"no\"?>\n<!DOCTYPE svg PUBLIC \"-//W3C//DTD SVG 1.1//EN\"\n  \"http://www.w3.org/Graphics/SVG/1.1/DTD/svg11.dtd\">\n<svg xmlns:xlink=\"http://www.w3.org/1999/xlink\" width=\"240.6625pt\" height=\"180.65625pt\" viewBox=\"0 0 240.6625 180.65625\" xmlns=\"http://www.w3.org/2000/svg\" version=\"1.1\">\n <metadata>\n  <rdf:RDF xmlns:dc=\"http://purl.org/dc/elements/1.1/\" xmlns:cc=\"http://creativecommons.org/ns#\" xmlns:rdf=\"http://www.w3.org/1999/02/22-rdf-syntax-ns#\">\n   <cc:Work>\n    <dc:type rdf:resource=\"http://purl.org/dc/dcmitype/StillImage\"/>\n    <dc:date>2023-03-04T09:24:11.727630</dc:date>\n    <dc:format>image/svg+xml</dc:format>\n    <dc:creator>\n     <cc:Agent>\n      <dc:title>Matplotlib v3.5.3, https://matplotlib.org/</dc:title>\n     </cc:Agent>\n    </dc:creator>\n   </cc:Work>\n  </rdf:RDF>\n </metadata>\n <defs>\n  <style type=\"text/css\">*{stroke-linejoin: round; stroke-linecap: butt}</style>\n </defs>\n <g id=\"figure_1\">\n  <g id=\"patch_1\">\n   <path d=\"M 0 180.65625 \nL 240.6625 180.65625 \nL 240.6625 0 \nL 0 0 \nL 0 180.65625 \nz\n\" style=\"fill: none\"/>\n  </g>\n  <g id=\"axes_1\">\n   <g id=\"patch_2\">\n    <path d=\"M 31.8 143.1 \nL 227.1 143.1 \nL 227.1 7.2 \nL 31.8 7.2 \nz\n\" style=\"fill: #ffffff\"/>\n   </g>\n   <g id=\"matplotlib.axis_1\">\n    <g id=\"xtick_1\">\n     <g id=\"line2d_1\">\n      <defs>\n       <path id=\"m01fe834f8f\" d=\"M 0 0 \nL 0 3.5 \n\" style=\"stroke: #000000; stroke-width: 0.8\"/>\n      </defs>\n      <g>\n       <use xlink:href=\"#m01fe834f8f\" x=\"31.8\" y=\"143.1\" style=\"stroke: #000000; stroke-width: 0.8\"/>\n      </g>\n     </g>\n     <g id=\"text_1\">\n      <!-- 0 -->\n      <g transform=\"translate(28.61875 157.698438)scale(0.1 -0.1)\">\n       <defs>\n        <path id=\"DejaVuSans-30\" d=\"M 2034 4250 \nQ 1547 4250 1301 3770 \nQ 1056 3291 1056 2328 \nQ 1056 1369 1301 889 \nQ 1547 409 2034 409 \nQ 2525 409 2770 889 \nQ 3016 1369 3016 2328 \nQ 3016 3291 2770 3770 \nQ 2525 4250 2034 4250 \nz\nM 2034 4750 \nQ 2819 4750 3233 4129 \nQ 3647 3509 3647 2328 \nQ 3647 1150 3233 529 \nQ 2819 -91 2034 -91 \nQ 1250 -91 836 529 \nQ 422 1150 422 2328 \nQ 422 3509 836 4129 \nQ 1250 4750 2034 4750 \nz\n\" transform=\"scale(0.015625)\"/>\n       </defs>\n       <use xlink:href=\"#DejaVuSans-30\"/>\n      </g>\n     </g>\n    </g>\n    <g id=\"xtick_2\">\n     <g id=\"line2d_2\">\n      <g>\n       <use xlink:href=\"#m01fe834f8f\" x=\"70.86\" y=\"143.1\" style=\"stroke: #000000; stroke-width: 0.8\"/>\n      </g>\n     </g>\n     <g id=\"text_2\">\n      <!-- 2 -->\n      <g transform=\"translate(67.67875 157.698438)scale(0.1 -0.1)\">\n       <defs>\n        <path id=\"DejaVuSans-32\" d=\"M 1228 531 \nL 3431 531 \nL 3431 0 \nL 469 0 \nL 469 531 \nQ 828 903 1448 1529 \nQ 2069 2156 2228 2338 \nQ 2531 2678 2651 2914 \nQ 2772 3150 2772 3378 \nQ 2772 3750 2511 3984 \nQ 2250 4219 1831 4219 \nQ 1534 4219 1204 4116 \nQ 875 4013 500 3803 \nL 500 4441 \nQ 881 4594 1212 4672 \nQ 1544 4750 1819 4750 \nQ 2544 4750 2975 4387 \nQ 3406 4025 3406 3419 \nQ 3406 3131 3298 2873 \nQ 3191 2616 2906 2266 \nQ 2828 2175 2409 1742 \nQ 1991 1309 1228 531 \nz\n\" transform=\"scale(0.015625)\"/>\n       </defs>\n       <use xlink:href=\"#DejaVuSans-32\"/>\n      </g>\n     </g>\n    </g>\n    <g id=\"xtick_3\">\n     <g id=\"line2d_3\">\n      <g>\n       <use xlink:href=\"#m01fe834f8f\" x=\"109.92\" y=\"143.1\" style=\"stroke: #000000; stroke-width: 0.8\"/>\n      </g>\n     </g>\n     <g id=\"text_3\">\n      <!-- 4 -->\n      <g transform=\"translate(106.73875 157.698438)scale(0.1 -0.1)\">\n       <defs>\n        <path id=\"DejaVuSans-34\" d=\"M 2419 4116 \nL 825 1625 \nL 2419 1625 \nL 2419 4116 \nz\nM 2253 4666 \nL 3047 4666 \nL 3047 1625 \nL 3713 1625 \nL 3713 1100 \nL 3047 1100 \nL 3047 0 \nL 2419 0 \nL 2419 1100 \nL 313 1100 \nL 313 1709 \nL 2253 4666 \nz\n\" transform=\"scale(0.015625)\"/>\n       </defs>\n       <use xlink:href=\"#DejaVuSans-34\"/>\n      </g>\n     </g>\n    </g>\n    <g id=\"xtick_4\">\n     <g id=\"line2d_4\">\n      <g>\n       <use xlink:href=\"#m01fe834f8f\" x=\"148.98\" y=\"143.1\" style=\"stroke: #000000; stroke-width: 0.8\"/>\n      </g>\n     </g>\n     <g id=\"text_4\">\n      <!-- 6 -->\n      <g transform=\"translate(145.79875 157.698438)scale(0.1 -0.1)\">\n       <defs>\n        <path id=\"DejaVuSans-36\" d=\"M 2113 2584 \nQ 1688 2584 1439 2293 \nQ 1191 2003 1191 1497 \nQ 1191 994 1439 701 \nQ 1688 409 2113 409 \nQ 2538 409 2786 701 \nQ 3034 994 3034 1497 \nQ 3034 2003 2786 2293 \nQ 2538 2584 2113 2584 \nz\nM 3366 4563 \nL 3366 3988 \nQ 3128 4100 2886 4159 \nQ 2644 4219 2406 4219 \nQ 1781 4219 1451 3797 \nQ 1122 3375 1075 2522 \nQ 1259 2794 1537 2939 \nQ 1816 3084 2150 3084 \nQ 2853 3084 3261 2657 \nQ 3669 2231 3669 1497 \nQ 3669 778 3244 343 \nQ 2819 -91 2113 -91 \nQ 1303 -91 875 529 \nQ 447 1150 447 2328 \nQ 447 3434 972 4092 \nQ 1497 4750 2381 4750 \nQ 2619 4750 2861 4703 \nQ 3103 4656 3366 4563 \nz\n\" transform=\"scale(0.015625)\"/>\n       </defs>\n       <use xlink:href=\"#DejaVuSans-36\"/>\n      </g>\n     </g>\n    </g>\n    <g id=\"xtick_5\">\n     <g id=\"line2d_5\">\n      <g>\n       <use xlink:href=\"#m01fe834f8f\" x=\"188.04\" y=\"143.1\" style=\"stroke: #000000; stroke-width: 0.8\"/>\n      </g>\n     </g>\n     <g id=\"text_5\">\n      <!-- 8 -->\n      <g transform=\"translate(184.85875 157.698438)scale(0.1 -0.1)\">\n       <defs>\n        <path id=\"DejaVuSans-38\" d=\"M 2034 2216 \nQ 1584 2216 1326 1975 \nQ 1069 1734 1069 1313 \nQ 1069 891 1326 650 \nQ 1584 409 2034 409 \nQ 2484 409 2743 651 \nQ 3003 894 3003 1313 \nQ 3003 1734 2745 1975 \nQ 2488 2216 2034 2216 \nz\nM 1403 2484 \nQ 997 2584 770 2862 \nQ 544 3141 544 3541 \nQ 544 4100 942 4425 \nQ 1341 4750 2034 4750 \nQ 2731 4750 3128 4425 \nQ 3525 4100 3525 3541 \nQ 3525 3141 3298 2862 \nQ 3072 2584 2669 2484 \nQ 3125 2378 3379 2068 \nQ 3634 1759 3634 1313 \nQ 3634 634 3220 271 \nQ 2806 -91 2034 -91 \nQ 1263 -91 848 271 \nQ 434 634 434 1313 \nQ 434 1759 690 2068 \nQ 947 2378 1403 2484 \nz\nM 1172 3481 \nQ 1172 3119 1398 2916 \nQ 1625 2713 2034 2713 \nQ 2441 2713 2670 2916 \nQ 2900 3119 2900 3481 \nQ 2900 3844 2670 4047 \nQ 2441 4250 2034 4250 \nQ 1625 4250 1398 4047 \nQ 1172 3844 1172 3481 \nz\n\" transform=\"scale(0.015625)\"/>\n       </defs>\n       <use xlink:href=\"#DejaVuSans-38\"/>\n      </g>\n     </g>\n    </g>\n    <g id=\"xtick_6\">\n     <g id=\"line2d_6\">\n      <g>\n       <use xlink:href=\"#m01fe834f8f\" x=\"227.1\" y=\"143.1\" style=\"stroke: #000000; stroke-width: 0.8\"/>\n      </g>\n     </g>\n     <g id=\"text_6\">\n      <!-- 10 -->\n      <g transform=\"translate(220.7375 157.698438)scale(0.1 -0.1)\">\n       <defs>\n        <path id=\"DejaVuSans-31\" d=\"M 794 531 \nL 1825 531 \nL 1825 4091 \nL 703 3866 \nL 703 4441 \nL 1819 4666 \nL 2450 4666 \nL 2450 531 \nL 3481 531 \nL 3481 0 \nL 794 0 \nL 794 531 \nz\n\" transform=\"scale(0.015625)\"/>\n       </defs>\n       <use xlink:href=\"#DejaVuSans-31\"/>\n       <use xlink:href=\"#DejaVuSans-30\" x=\"63.623047\"/>\n      </g>\n     </g>\n    </g>\n    <g id=\"text_7\">\n     <!-- epoch -->\n     <g transform=\"translate(114.221875 171.376563)scale(0.1 -0.1)\">\n      <defs>\n       <path id=\"DejaVuSans-65\" d=\"M 3597 1894 \nL 3597 1613 \nL 953 1613 \nQ 991 1019 1311 708 \nQ 1631 397 2203 397 \nQ 2534 397 2845 478 \nQ 3156 559 3463 722 \nL 3463 178 \nQ 3153 47 2828 -22 \nQ 2503 -91 2169 -91 \nQ 1331 -91 842 396 \nQ 353 884 353 1716 \nQ 353 2575 817 3079 \nQ 1281 3584 2069 3584 \nQ 2775 3584 3186 3129 \nQ 3597 2675 3597 1894 \nz\nM 3022 2063 \nQ 3016 2534 2758 2815 \nQ 2500 3097 2075 3097 \nQ 1594 3097 1305 2825 \nQ 1016 2553 972 2059 \nL 3022 2063 \nz\n\" transform=\"scale(0.015625)\"/>\n       <path id=\"DejaVuSans-70\" d=\"M 1159 525 \nL 1159 -1331 \nL 581 -1331 \nL 581 3500 \nL 1159 3500 \nL 1159 2969 \nQ 1341 3281 1617 3432 \nQ 1894 3584 2278 3584 \nQ 2916 3584 3314 3078 \nQ 3713 2572 3713 1747 \nQ 3713 922 3314 415 \nQ 2916 -91 2278 -91 \nQ 1894 -91 1617 61 \nQ 1341 213 1159 525 \nz\nM 3116 1747 \nQ 3116 2381 2855 2742 \nQ 2594 3103 2138 3103 \nQ 1681 3103 1420 2742 \nQ 1159 2381 1159 1747 \nQ 1159 1113 1420 752 \nQ 1681 391 2138 391 \nQ 2594 391 2855 752 \nQ 3116 1113 3116 1747 \nz\n\" transform=\"scale(0.015625)\"/>\n       <path id=\"DejaVuSans-6f\" d=\"M 1959 3097 \nQ 1497 3097 1228 2736 \nQ 959 2375 959 1747 \nQ 959 1119 1226 758 \nQ 1494 397 1959 397 \nQ 2419 397 2687 759 \nQ 2956 1122 2956 1747 \nQ 2956 2369 2687 2733 \nQ 2419 3097 1959 3097 \nz\nM 1959 3584 \nQ 2709 3584 3137 3096 \nQ 3566 2609 3566 1747 \nQ 3566 888 3137 398 \nQ 2709 -91 1959 -91 \nQ 1206 -91 779 398 \nQ 353 888 353 1747 \nQ 353 2609 779 3096 \nQ 1206 3584 1959 3584 \nz\n\" transform=\"scale(0.015625)\"/>\n       <path id=\"DejaVuSans-63\" d=\"M 3122 3366 \nL 3122 2828 \nQ 2878 2963 2633 3030 \nQ 2388 3097 2138 3097 \nQ 1578 3097 1268 2742 \nQ 959 2388 959 1747 \nQ 959 1106 1268 751 \nQ 1578 397 2138 397 \nQ 2388 397 2633 464 \nQ 2878 531 3122 666 \nL 3122 134 \nQ 2881 22 2623 -34 \nQ 2366 -91 2075 -91 \nQ 1284 -91 818 406 \nQ 353 903 353 1747 \nQ 353 2603 823 3093 \nQ 1294 3584 2113 3584 \nQ 2378 3584 2631 3529 \nQ 2884 3475 3122 3366 \nz\n\" transform=\"scale(0.015625)\"/>\n       <path id=\"DejaVuSans-68\" d=\"M 3513 2113 \nL 3513 0 \nL 2938 0 \nL 2938 2094 \nQ 2938 2591 2744 2837 \nQ 2550 3084 2163 3084 \nQ 1697 3084 1428 2787 \nQ 1159 2491 1159 1978 \nL 1159 0 \nL 581 0 \nL 581 4863 \nL 1159 4863 \nL 1159 2956 \nQ 1366 3272 1645 3428 \nQ 1925 3584 2291 3584 \nQ 2894 3584 3203 3211 \nQ 3513 2838 3513 2113 \nz\n\" transform=\"scale(0.015625)\"/>\n      </defs>\n      <use xlink:href=\"#DejaVuSans-65\"/>\n      <use xlink:href=\"#DejaVuSans-70\" x=\"61.523438\"/>\n      <use xlink:href=\"#DejaVuSans-6f\" x=\"125\"/>\n      <use xlink:href=\"#DejaVuSans-63\" x=\"186.181641\"/>\n      <use xlink:href=\"#DejaVuSans-68\" x=\"241.162109\"/>\n     </g>\n    </g>\n   </g>\n   <g id=\"matplotlib.axis_2\">\n    <g id=\"ytick_1\">\n     <g id=\"line2d_7\">\n      <defs>\n       <path id=\"m33f8cb7c9a\" d=\"M 0 0 \nL -3.5 0 \n\" style=\"stroke: #000000; stroke-width: 0.8\"/>\n      </defs>\n      <g>\n       <use xlink:href=\"#m33f8cb7c9a\" x=\"31.8\" y=\"88.961909\" style=\"stroke: #000000; stroke-width: 0.8\"/>\n      </g>\n     </g>\n     <g id=\"text_8\">\n      <!-- $\\mathdefault{10^{0}}$ -->\n      <g transform=\"translate(7.2 92.761128)scale(0.1 -0.1)\">\n       <use xlink:href=\"#DejaVuSans-31\" transform=\"translate(0 0.765625)\"/>\n       <use xlink:href=\"#DejaVuSans-30\" transform=\"translate(63.623047 0.765625)\"/>\n       <use xlink:href=\"#DejaVuSans-30\" transform=\"translate(128.203125 39.046875)scale(0.7)\"/>\n      </g>\n     </g>\n    </g>\n    <g id=\"ytick_2\">\n     <g id=\"line2d_8\">\n      <g>\n       <use xlink:href=\"#m33f8cb7c9a\" x=\"31.8\" y=\"31.025779\" style=\"stroke: #000000; stroke-width: 0.8\"/>\n      </g>\n     </g>\n     <g id=\"text_9\">\n      <!-- $\\mathdefault{10^{1}}$ -->\n      <g transform=\"translate(7.2 34.824998)scale(0.1 -0.1)\">\n       <use xlink:href=\"#DejaVuSans-31\" transform=\"translate(0 0.684375)\"/>\n       <use xlink:href=\"#DejaVuSans-30\" transform=\"translate(63.623047 0.684375)\"/>\n       <use xlink:href=\"#DejaVuSans-31\" transform=\"translate(128.203125 38.965625)scale(0.7)\"/>\n      </g>\n     </g>\n    </g>\n    <g id=\"ytick_3\">\n     <g id=\"line2d_9\">\n      <defs>\n       <path id=\"m09ff6727ed\" d=\"M 0 0 \nL -2 0 \n\" style=\"stroke: #000000; stroke-width: 0.6\"/>\n      </defs>\n      <g>\n       <use xlink:href=\"#m09ff6727ed\" x=\"31.8\" y=\"129.457526\" style=\"stroke: #000000; stroke-width: 0.6\"/>\n      </g>\n     </g>\n    </g>\n    <g id=\"ytick_4\">\n     <g id=\"line2d_10\">\n      <g>\n       <use xlink:href=\"#m09ff6727ed\" x=\"31.8\" y=\"119.25548\" style=\"stroke: #000000; stroke-width: 0.6\"/>\n      </g>\n     </g>\n    </g>\n    <g id=\"ytick_5\">\n     <g id=\"line2d_11\">\n      <g>\n       <use xlink:href=\"#m09ff6727ed\" x=\"31.8\" y=\"112.017013\" style=\"stroke: #000000; stroke-width: 0.6\"/>\n      </g>\n     </g>\n    </g>\n    <g id=\"ytick_6\">\n     <g id=\"line2d_12\">\n      <g>\n       <use xlink:href=\"#m09ff6727ed\" x=\"31.8\" y=\"106.402422\" style=\"stroke: #000000; stroke-width: 0.6\"/>\n      </g>\n     </g>\n    </g>\n    <g id=\"ytick_7\">\n     <g id=\"line2d_13\">\n      <g>\n       <use xlink:href=\"#m09ff6727ed\" x=\"31.8\" y=\"101.814967\" style=\"stroke: #000000; stroke-width: 0.6\"/>\n      </g>\n     </g>\n    </g>\n    <g id=\"ytick_8\">\n     <g id=\"line2d_14\">\n      <g>\n       <use xlink:href=\"#m09ff6727ed\" x=\"31.8\" y=\"97.936329\" style=\"stroke: #000000; stroke-width: 0.6\"/>\n      </g>\n     </g>\n    </g>\n    <g id=\"ytick_9\">\n     <g id=\"line2d_15\">\n      <g>\n       <use xlink:href=\"#m09ff6727ed\" x=\"31.8\" y=\"94.5765\" style=\"stroke: #000000; stroke-width: 0.6\"/>\n      </g>\n     </g>\n    </g>\n    <g id=\"ytick_10\">\n     <g id=\"line2d_16\">\n      <g>\n       <use xlink:href=\"#m09ff6727ed\" x=\"31.8\" y=\"91.612921\" style=\"stroke: #000000; stroke-width: 0.6\"/>\n      </g>\n     </g>\n    </g>\n    <g id=\"ytick_11\">\n     <g id=\"line2d_17\">\n      <g>\n       <use xlink:href=\"#m09ff6727ed\" x=\"31.8\" y=\"71.521396\" style=\"stroke: #000000; stroke-width: 0.6\"/>\n      </g>\n     </g>\n    </g>\n    <g id=\"ytick_12\">\n     <g id=\"line2d_18\">\n      <g>\n       <use xlink:href=\"#m09ff6727ed\" x=\"31.8\" y=\"61.31935\" style=\"stroke: #000000; stroke-width: 0.6\"/>\n      </g>\n     </g>\n    </g>\n    <g id=\"ytick_13\">\n     <g id=\"line2d_19\">\n      <g>\n       <use xlink:href=\"#m09ff6727ed\" x=\"31.8\" y=\"54.080883\" style=\"stroke: #000000; stroke-width: 0.6\"/>\n      </g>\n     </g>\n    </g>\n    <g id=\"ytick_14\">\n     <g id=\"line2d_20\">\n      <g>\n       <use xlink:href=\"#m09ff6727ed\" x=\"31.8\" y=\"48.466292\" style=\"stroke: #000000; stroke-width: 0.6\"/>\n      </g>\n     </g>\n    </g>\n    <g id=\"ytick_15\">\n     <g id=\"line2d_21\">\n      <g>\n       <use xlink:href=\"#m09ff6727ed\" x=\"31.8\" y=\"43.878837\" style=\"stroke: #000000; stroke-width: 0.6\"/>\n      </g>\n     </g>\n    </g>\n    <g id=\"ytick_16\">\n     <g id=\"line2d_22\">\n      <g>\n       <use xlink:href=\"#m09ff6727ed\" x=\"31.8\" y=\"40.000199\" style=\"stroke: #000000; stroke-width: 0.6\"/>\n      </g>\n     </g>\n    </g>\n    <g id=\"ytick_17\">\n     <g id=\"line2d_23\">\n      <g>\n       <use xlink:href=\"#m09ff6727ed\" x=\"31.8\" y=\"36.64037\" style=\"stroke: #000000; stroke-width: 0.6\"/>\n      </g>\n     </g>\n    </g>\n    <g id=\"ytick_18\">\n     <g id=\"line2d_24\">\n      <g>\n       <use xlink:href=\"#m09ff6727ed\" x=\"31.8\" y=\"33.676791\" style=\"stroke: #000000; stroke-width: 0.6\"/>\n      </g>\n     </g>\n    </g>\n    <g id=\"ytick_19\">\n     <g id=\"line2d_25\">\n      <g>\n       <use xlink:href=\"#m09ff6727ed\" x=\"31.8\" y=\"13.585266\" style=\"stroke: #000000; stroke-width: 0.6\"/>\n      </g>\n     </g>\n    </g>\n   </g>\n   <g id=\"line2d_26\">\n    <path d=\"M 35.911579 13.377273 \n\" clip-path=\"url(#p4d10d931f2)\" style=\"fill: none; stroke: #1f77b4; stroke-width: 1.5; stroke-linecap: square\"/>\n   </g>\n   <g id=\"line2d_27\">\n    <path d=\"M 35.911579 13.377273 \nL 45.162632 104.453191 \n\" clip-path=\"url(#p4d10d931f2)\" style=\"fill: none; stroke: #1f77b4; stroke-width: 1.5; stroke-linecap: square\"/>\n   </g>\n   <g id=\"line2d_28\">\n    <path d=\"M 35.911579 13.377273 \nL 45.162632 104.453191 \n\" clip-path=\"url(#p4d10d931f2)\" style=\"fill: none; stroke: #1f77b4; stroke-width: 1.5; stroke-linecap: square\"/>\n   </g>\n   <g id=\"line2d_29\">\n    <path d=\"M 51.33 105.953624 \n\" clip-path=\"url(#p4d10d931f2)\" style=\"fill: none; stroke-dasharray: 5.55,2.4; stroke-dashoffset: 0; stroke: #ff7f0e; stroke-width: 1.5\"/>\n   </g>\n   <g id=\"line2d_30\">\n    <path d=\"M 35.911579 13.377273 \nL 45.162632 104.453191 \nL 54.413684 104.321717 \n\" clip-path=\"url(#p4d10d931f2)\" style=\"fill: none; stroke: #1f77b4; stroke-width: 1.5; stroke-linecap: square\"/>\n   </g>\n   <g id=\"line2d_31\">\n    <path d=\"M 51.33 105.953624 \n\" clip-path=\"url(#p4d10d931f2)\" style=\"fill: none; stroke-dasharray: 5.55,2.4; stroke-dashoffset: 0; stroke: #ff7f0e; stroke-width: 1.5\"/>\n   </g>\n   <g id=\"line2d_32\">\n    <path d=\"M 35.911579 13.377273 \nL 45.162632 104.453191 \nL 54.413684 104.321717 \nL 63.664737 111.452304 \n\" clip-path=\"url(#p4d10d931f2)\" style=\"fill: none; stroke: #1f77b4; stroke-width: 1.5; stroke-linecap: square\"/>\n   </g>\n   <g id=\"line2d_33\">\n    <path d=\"M 51.33 105.953624 \n\" clip-path=\"url(#p4d10d931f2)\" style=\"fill: none; stroke-dasharray: 5.55,2.4; stroke-dashoffset: 0; stroke: #ff7f0e; stroke-width: 1.5\"/>\n   </g>\n   <g id=\"line2d_34\">\n    <path d=\"M 35.911579 13.377273 \nL 45.162632 104.453191 \nL 54.413684 104.321717 \nL 63.664737 111.452304 \n\" clip-path=\"url(#p4d10d931f2)\" style=\"fill: none; stroke: #1f77b4; stroke-width: 1.5; stroke-linecap: square\"/>\n   </g>\n   <g id=\"line2d_35\">\n    <path d=\"M 51.33 105.953624 \nL 70.86 114.680929 \n\" clip-path=\"url(#p4d10d931f2)\" style=\"fill: none; stroke-dasharray: 5.55,2.4; stroke-dashoffset: 0; stroke: #ff7f0e; stroke-width: 1.5\"/>\n   </g>\n   <g id=\"line2d_36\">\n    <path d=\"M 35.911579 13.377273 \nL 45.162632 104.453191 \nL 54.413684 104.321717 \nL 63.664737 111.452304 \nL 72.915789 114.316907 \n\" clip-path=\"url(#p4d10d931f2)\" style=\"fill: none; stroke: #1f77b4; stroke-width: 1.5; stroke-linecap: square\"/>\n   </g>\n   <g id=\"line2d_37\">\n    <path d=\"M 51.33 105.953624 \nL 70.86 114.680929 \n\" clip-path=\"url(#p4d10d931f2)\" style=\"fill: none; stroke-dasharray: 5.55,2.4; stroke-dashoffset: 0; stroke: #ff7f0e; stroke-width: 1.5\"/>\n   </g>\n   <g id=\"line2d_38\">\n    <path d=\"M 35.911579 13.377273 \nL 45.162632 104.453191 \nL 54.413684 104.321717 \nL 63.664737 111.452304 \nL 72.915789 114.316907 \nL 82.166842 114.538649 \n\" clip-path=\"url(#p4d10d931f2)\" style=\"fill: none; stroke: #1f77b4; stroke-width: 1.5; stroke-linecap: square\"/>\n   </g>\n   <g id=\"line2d_39\">\n    <path d=\"M 51.33 105.953624 \nL 70.86 114.680929 \n\" clip-path=\"url(#p4d10d931f2)\" style=\"fill: none; stroke-dasharray: 5.55,2.4; stroke-dashoffset: 0; stroke: #ff7f0e; stroke-width: 1.5\"/>\n   </g>\n   <g id=\"line2d_40\">\n    <path d=\"M 35.911579 13.377273 \nL 45.162632 104.453191 \nL 54.413684 104.321717 \nL 63.664737 111.452304 \nL 72.915789 114.316907 \nL 82.166842 114.538649 \n\" clip-path=\"url(#p4d10d931f2)\" style=\"fill: none; stroke: #1f77b4; stroke-width: 1.5; stroke-linecap: square\"/>\n   </g>\n   <g id=\"line2d_41\">\n    <path d=\"M 51.33 105.953624 \nL 70.86 114.680929 \nL 90.39 119.161292 \n\" clip-path=\"url(#p4d10d931f2)\" style=\"fill: none; stroke-dasharray: 5.55,2.4; stroke-dashoffset: 0; stroke: #ff7f0e; stroke-width: 1.5\"/>\n   </g>\n   <g id=\"line2d_42\">\n    <path d=\"M 35.911579 13.377273 \nL 45.162632 104.453191 \nL 54.413684 104.321717 \nL 63.664737 111.452304 \nL 72.915789 114.316907 \nL 82.166842 114.538649 \nL 91.417895 119.958211 \n\" clip-path=\"url(#p4d10d931f2)\" style=\"fill: none; stroke: #1f77b4; stroke-width: 1.5; stroke-linecap: square\"/>\n   </g>\n   <g id=\"line2d_43\">\n    <path d=\"M 51.33 105.953624 \nL 70.86 114.680929 \nL 90.39 119.161292 \n\" clip-path=\"url(#p4d10d931f2)\" style=\"fill: none; stroke-dasharray: 5.55,2.4; stroke-dashoffset: 0; stroke: #ff7f0e; stroke-width: 1.5\"/>\n   </g>\n   <g id=\"line2d_44\">\n    <path d=\"M 35.911579 13.377273 \nL 45.162632 104.453191 \nL 54.413684 104.321717 \nL 63.664737 111.452304 \nL 72.915789 114.316907 \nL 82.166842 114.538649 \nL 91.417895 119.958211 \nL 100.668947 118.661428 \n\" clip-path=\"url(#p4d10d931f2)\" style=\"fill: none; stroke: #1f77b4; stroke-width: 1.5; stroke-linecap: square\"/>\n   </g>\n   <g id=\"line2d_45\">\n    <path d=\"M 51.33 105.953624 \nL 70.86 114.680929 \nL 90.39 119.161292 \n\" clip-path=\"url(#p4d10d931f2)\" style=\"fill: none; stroke-dasharray: 5.55,2.4; stroke-dashoffset: 0; stroke: #ff7f0e; stroke-width: 1.5\"/>\n   </g>\n   <g id=\"line2d_46\">\n    <path d=\"M 35.911579 13.377273 \nL 45.162632 104.453191 \nL 54.413684 104.321717 \nL 63.664737 111.452304 \nL 72.915789 114.316907 \nL 82.166842 114.538649 \nL 91.417895 119.958211 \nL 100.668947 118.661428 \n\" clip-path=\"url(#p4d10d931f2)\" style=\"fill: none; stroke: #1f77b4; stroke-width: 1.5; stroke-linecap: square\"/>\n   </g>\n   <g id=\"line2d_47\">\n    <path d=\"M 51.33 105.953624 \nL 70.86 114.680929 \nL 90.39 119.161292 \nL 109.92 124.285399 \n\" clip-path=\"url(#p4d10d931f2)\" style=\"fill: none; stroke-dasharray: 5.55,2.4; stroke-dashoffset: 0; stroke: #ff7f0e; stroke-width: 1.5\"/>\n   </g>\n   <g id=\"line2d_48\">\n    <path d=\"M 35.911579 13.377273 \nL 45.162632 104.453191 \nL 54.413684 104.321717 \nL 63.664737 111.452304 \nL 72.915789 114.316907 \nL 82.166842 114.538649 \nL 91.417895 119.958211 \nL 100.668947 118.661428 \nL 109.92 120.796822 \n\" clip-path=\"url(#p4d10d931f2)\" style=\"fill: none; stroke: #1f77b4; stroke-width: 1.5; stroke-linecap: square\"/>\n   </g>\n   <g id=\"line2d_49\">\n    <path d=\"M 51.33 105.953624 \nL 70.86 114.680929 \nL 90.39 119.161292 \nL 109.92 124.285399 \n\" clip-path=\"url(#p4d10d931f2)\" style=\"fill: none; stroke-dasharray: 5.55,2.4; stroke-dashoffset: 0; stroke: #ff7f0e; stroke-width: 1.5\"/>\n   </g>\n   <g id=\"line2d_50\">\n    <path d=\"M 35.911579 13.377273 \nL 45.162632 104.453191 \nL 54.413684 104.321717 \nL 63.664737 111.452304 \nL 72.915789 114.316907 \nL 82.166842 114.538649 \nL 91.417895 119.958211 \nL 100.668947 118.661428 \nL 109.92 120.796822 \nL 119.171053 124.089349 \n\" clip-path=\"url(#p4d10d931f2)\" style=\"fill: none; stroke: #1f77b4; stroke-width: 1.5; stroke-linecap: square\"/>\n   </g>\n   <g id=\"line2d_51\">\n    <path d=\"M 51.33 105.953624 \nL 70.86 114.680929 \nL 90.39 119.161292 \nL 109.92 124.285399 \n\" clip-path=\"url(#p4d10d931f2)\" style=\"fill: none; stroke-dasharray: 5.55,2.4; stroke-dashoffset: 0; stroke: #ff7f0e; stroke-width: 1.5\"/>\n   </g>\n   <g id=\"line2d_52\">\n    <path d=\"M 35.911579 13.377273 \nL 45.162632 104.453191 \nL 54.413684 104.321717 \nL 63.664737 111.452304 \nL 72.915789 114.316907 \nL 82.166842 114.538649 \nL 91.417895 119.958211 \nL 100.668947 118.661428 \nL 109.92 120.796822 \nL 119.171053 124.089349 \n\" clip-path=\"url(#p4d10d931f2)\" style=\"fill: none; stroke: #1f77b4; stroke-width: 1.5; stroke-linecap: square\"/>\n   </g>\n   <g id=\"line2d_53\">\n    <path d=\"M 51.33 105.953624 \nL 70.86 114.680929 \nL 90.39 119.161292 \nL 109.92 124.285399 \nL 129.45 127.362466 \n\" clip-path=\"url(#p4d10d931f2)\" style=\"fill: none; stroke-dasharray: 5.55,2.4; stroke-dashoffset: 0; stroke: #ff7f0e; stroke-width: 1.5\"/>\n   </g>\n   <g id=\"line2d_54\">\n    <path d=\"M 35.911579 13.377273 \nL 45.162632 104.453191 \nL 54.413684 104.321717 \nL 63.664737 111.452304 \nL 72.915789 114.316907 \nL 82.166842 114.538649 \nL 91.417895 119.958211 \nL 100.668947 118.661428 \nL 109.92 120.796822 \nL 119.171053 124.089349 \nL 128.422105 125.391319 \n\" clip-path=\"url(#p4d10d931f2)\" style=\"fill: none; stroke: #1f77b4; stroke-width: 1.5; stroke-linecap: square\"/>\n   </g>\n   <g id=\"line2d_55\">\n    <path d=\"M 51.33 105.953624 \nL 70.86 114.680929 \nL 90.39 119.161292 \nL 109.92 124.285399 \nL 129.45 127.362466 \n\" clip-path=\"url(#p4d10d931f2)\" style=\"fill: none; stroke-dasharray: 5.55,2.4; stroke-dashoffset: 0; stroke: #ff7f0e; stroke-width: 1.5\"/>\n   </g>\n   <g id=\"line2d_56\">\n    <path d=\"M 35.911579 13.377273 \nL 45.162632 104.453191 \nL 54.413684 104.321717 \nL 63.664737 111.452304 \nL 72.915789 114.316907 \nL 82.166842 114.538649 \nL 91.417895 119.958211 \nL 100.668947 118.661428 \nL 109.92 120.796822 \nL 119.171053 124.089349 \nL 128.422105 125.391319 \nL 137.673158 127.141532 \n\" clip-path=\"url(#p4d10d931f2)\" style=\"fill: none; stroke: #1f77b4; stroke-width: 1.5; stroke-linecap: square\"/>\n   </g>\n   <g id=\"line2d_57\">\n    <path d=\"M 51.33 105.953624 \nL 70.86 114.680929 \nL 90.39 119.161292 \nL 109.92 124.285399 \nL 129.45 127.362466 \n\" clip-path=\"url(#p4d10d931f2)\" style=\"fill: none; stroke-dasharray: 5.55,2.4; stroke-dashoffset: 0; stroke: #ff7f0e; stroke-width: 1.5\"/>\n   </g>\n   <g id=\"line2d_58\">\n    <path d=\"M 35.911579 13.377273 \nL 45.162632 104.453191 \nL 54.413684 104.321717 \nL 63.664737 111.452304 \nL 72.915789 114.316907 \nL 82.166842 114.538649 \nL 91.417895 119.958211 \nL 100.668947 118.661428 \nL 109.92 120.796822 \nL 119.171053 124.089349 \nL 128.422105 125.391319 \nL 137.673158 127.141532 \n\" clip-path=\"url(#p4d10d931f2)\" style=\"fill: none; stroke: #1f77b4; stroke-width: 1.5; stroke-linecap: square\"/>\n   </g>\n   <g id=\"line2d_59\">\n    <path d=\"M 51.33 105.953624 \nL 70.86 114.680929 \nL 90.39 119.161292 \nL 109.92 124.285399 \nL 129.45 127.362466 \nL 148.98 129.186262 \n\" clip-path=\"url(#p4d10d931f2)\" style=\"fill: none; stroke-dasharray: 5.55,2.4; stroke-dashoffset: 0; stroke: #ff7f0e; stroke-width: 1.5\"/>\n   </g>\n   <g id=\"line2d_60\">\n    <path d=\"M 35.911579 13.377273 \nL 45.162632 104.453191 \nL 54.413684 104.321717 \nL 63.664737 111.452304 \nL 72.915789 114.316907 \nL 82.166842 114.538649 \nL 91.417895 119.958211 \nL 100.668947 118.661428 \nL 109.92 120.796822 \nL 119.171053 124.089349 \nL 128.422105 125.391319 \nL 137.673158 127.141532 \nL 146.924211 127.363427 \n\" clip-path=\"url(#p4d10d931f2)\" style=\"fill: none; stroke: #1f77b4; stroke-width: 1.5; stroke-linecap: square\"/>\n   </g>\n   <g id=\"line2d_61\">\n    <path d=\"M 51.33 105.953624 \nL 70.86 114.680929 \nL 90.39 119.161292 \nL 109.92 124.285399 \nL 129.45 127.362466 \nL 148.98 129.186262 \n\" clip-path=\"url(#p4d10d931f2)\" style=\"fill: none; stroke-dasharray: 5.55,2.4; stroke-dashoffset: 0; stroke: #ff7f0e; stroke-width: 1.5\"/>\n   </g>\n   <g id=\"line2d_62\">\n    <path d=\"M 35.911579 13.377273 \nL 45.162632 104.453191 \nL 54.413684 104.321717 \nL 63.664737 111.452304 \nL 72.915789 114.316907 \nL 82.166842 114.538649 \nL 91.417895 119.958211 \nL 100.668947 118.661428 \nL 109.92 120.796822 \nL 119.171053 124.089349 \nL 128.422105 125.391319 \nL 137.673158 127.141532 \nL 146.924211 127.363427 \nL 156.175263 128.032341 \n\" clip-path=\"url(#p4d10d931f2)\" style=\"fill: none; stroke: #1f77b4; stroke-width: 1.5; stroke-linecap: square\"/>\n   </g>\n   <g id=\"line2d_63\">\n    <path d=\"M 51.33 105.953624 \nL 70.86 114.680929 \nL 90.39 119.161292 \nL 109.92 124.285399 \nL 129.45 127.362466 \nL 148.98 129.186262 \n\" clip-path=\"url(#p4d10d931f2)\" style=\"fill: none; stroke-dasharray: 5.55,2.4; stroke-dashoffset: 0; stroke: #ff7f0e; stroke-width: 1.5\"/>\n   </g>\n   <g id=\"line2d_64\">\n    <path d=\"M 35.911579 13.377273 \nL 45.162632 104.453191 \nL 54.413684 104.321717 \nL 63.664737 111.452304 \nL 72.915789 114.316907 \nL 82.166842 114.538649 \nL 91.417895 119.958211 \nL 100.668947 118.661428 \nL 109.92 120.796822 \nL 119.171053 124.089349 \nL 128.422105 125.391319 \nL 137.673158 127.141532 \nL 146.924211 127.363427 \nL 156.175263 128.032341 \n\" clip-path=\"url(#p4d10d931f2)\" style=\"fill: none; stroke: #1f77b4; stroke-width: 1.5; stroke-linecap: square\"/>\n   </g>\n   <g id=\"line2d_65\">\n    <path d=\"M 51.33 105.953624 \nL 70.86 114.680929 \nL 90.39 119.161292 \nL 109.92 124.285399 \nL 129.45 127.362466 \nL 148.98 129.186262 \nL 168.51 131.827398 \n\" clip-path=\"url(#p4d10d931f2)\" style=\"fill: none; stroke-dasharray: 5.55,2.4; stroke-dashoffset: 0; stroke: #ff7f0e; stroke-width: 1.5\"/>\n   </g>\n   <g id=\"line2d_66\">\n    <path d=\"M 35.911579 13.377273 \nL 45.162632 104.453191 \nL 54.413684 104.321717 \nL 63.664737 111.452304 \nL 72.915789 114.316907 \nL 82.166842 114.538649 \nL 91.417895 119.958211 \nL 100.668947 118.661428 \nL 109.92 120.796822 \nL 119.171053 124.089349 \nL 128.422105 125.391319 \nL 137.673158 127.141532 \nL 146.924211 127.363427 \nL 156.175263 128.032341 \nL 165.426316 131.944602 \n\" clip-path=\"url(#p4d10d931f2)\" style=\"fill: none; stroke: #1f77b4; stroke-width: 1.5; stroke-linecap: square\"/>\n   </g>\n   <g id=\"line2d_67\">\n    <path d=\"M 51.33 105.953624 \nL 70.86 114.680929 \nL 90.39 119.161292 \nL 109.92 124.285399 \nL 129.45 127.362466 \nL 148.98 129.186262 \nL 168.51 131.827398 \n\" clip-path=\"url(#p4d10d931f2)\" style=\"fill: none; stroke-dasharray: 5.55,2.4; stroke-dashoffset: 0; stroke: #ff7f0e; stroke-width: 1.5\"/>\n   </g>\n   <g id=\"line2d_68\">\n    <path d=\"M 35.911579 13.377273 \nL 45.162632 104.453191 \nL 54.413684 104.321717 \nL 63.664737 111.452304 \nL 72.915789 114.316907 \nL 82.166842 114.538649 \nL 91.417895 119.958211 \nL 100.668947 118.661428 \nL 109.92 120.796822 \nL 119.171053 124.089349 \nL 128.422105 125.391319 \nL 137.673158 127.141532 \nL 146.924211 127.363427 \nL 156.175263 128.032341 \nL 165.426316 131.944602 \nL 174.677368 130.030861 \n\" clip-path=\"url(#p4d10d931f2)\" style=\"fill: none; stroke: #1f77b4; stroke-width: 1.5; stroke-linecap: square\"/>\n   </g>\n   <g id=\"line2d_69\">\n    <path d=\"M 51.33 105.953624 \nL 70.86 114.680929 \nL 90.39 119.161292 \nL 109.92 124.285399 \nL 129.45 127.362466 \nL 148.98 129.186262 \nL 168.51 131.827398 \n\" clip-path=\"url(#p4d10d931f2)\" style=\"fill: none; stroke-dasharray: 5.55,2.4; stroke-dashoffset: 0; stroke: #ff7f0e; stroke-width: 1.5\"/>\n   </g>\n   <g id=\"line2d_70\">\n    <path d=\"M 35.911579 13.377273 \nL 45.162632 104.453191 \nL 54.413684 104.321717 \nL 63.664737 111.452304 \nL 72.915789 114.316907 \nL 82.166842 114.538649 \nL 91.417895 119.958211 \nL 100.668947 118.661428 \nL 109.92 120.796822 \nL 119.171053 124.089349 \nL 128.422105 125.391319 \nL 137.673158 127.141532 \nL 146.924211 127.363427 \nL 156.175263 128.032341 \nL 165.426316 131.944602 \nL 174.677368 130.030861 \n\" clip-path=\"url(#p4d10d931f2)\" style=\"fill: none; stroke: #1f77b4; stroke-width: 1.5; stroke-linecap: square\"/>\n   </g>\n   <g id=\"line2d_71\">\n    <path d=\"M 51.33 105.953624 \nL 70.86 114.680929 \nL 90.39 119.161292 \nL 109.92 124.285399 \nL 129.45 127.362466 \nL 148.98 129.186262 \nL 168.51 131.827398 \nL 188.04 132.861772 \n\" clip-path=\"url(#p4d10d931f2)\" style=\"fill: none; stroke-dasharray: 5.55,2.4; stroke-dashoffset: 0; stroke: #ff7f0e; stroke-width: 1.5\"/>\n   </g>\n   <g id=\"line2d_72\">\n    <path d=\"M 35.911579 13.377273 \nL 45.162632 104.453191 \nL 54.413684 104.321717 \nL 63.664737 111.452304 \nL 72.915789 114.316907 \nL 82.166842 114.538649 \nL 91.417895 119.958211 \nL 100.668947 118.661428 \nL 109.92 120.796822 \nL 119.171053 124.089349 \nL 128.422105 125.391319 \nL 137.673158 127.141532 \nL 146.924211 127.363427 \nL 156.175263 128.032341 \nL 165.426316 131.944602 \nL 174.677368 130.030861 \nL 183.928421 132.492551 \n\" clip-path=\"url(#p4d10d931f2)\" style=\"fill: none; stroke: #1f77b4; stroke-width: 1.5; stroke-linecap: square\"/>\n   </g>\n   <g id=\"line2d_73\">\n    <path d=\"M 51.33 105.953624 \nL 70.86 114.680929 \nL 90.39 119.161292 \nL 109.92 124.285399 \nL 129.45 127.362466 \nL 148.98 129.186262 \nL 168.51 131.827398 \nL 188.04 132.861772 \n\" clip-path=\"url(#p4d10d931f2)\" style=\"fill: none; stroke-dasharray: 5.55,2.4; stroke-dashoffset: 0; stroke: #ff7f0e; stroke-width: 1.5\"/>\n   </g>\n   <g id=\"line2d_74\">\n    <path d=\"M 35.911579 13.377273 \nL 45.162632 104.453191 \nL 54.413684 104.321717 \nL 63.664737 111.452304 \nL 72.915789 114.316907 \nL 82.166842 114.538649 \nL 91.417895 119.958211 \nL 100.668947 118.661428 \nL 109.92 120.796822 \nL 119.171053 124.089349 \nL 128.422105 125.391319 \nL 137.673158 127.141532 \nL 146.924211 127.363427 \nL 156.175263 128.032341 \nL 165.426316 131.944602 \nL 174.677368 130.030861 \nL 183.928421 132.492551 \nL 193.179474 134.009491 \n\" clip-path=\"url(#p4d10d931f2)\" style=\"fill: none; stroke: #1f77b4; stroke-width: 1.5; stroke-linecap: square\"/>\n   </g>\n   <g id=\"line2d_75\">\n    <path d=\"M 51.33 105.953624 \nL 70.86 114.680929 \nL 90.39 119.161292 \nL 109.92 124.285399 \nL 129.45 127.362466 \nL 148.98 129.186262 \nL 168.51 131.827398 \nL 188.04 132.861772 \n\" clip-path=\"url(#p4d10d931f2)\" style=\"fill: none; stroke-dasharray: 5.55,2.4; stroke-dashoffset: 0; stroke: #ff7f0e; stroke-width: 1.5\"/>\n   </g>\n   <g id=\"line2d_76\">\n    <path d=\"M 35.911579 13.377273 \nL 45.162632 104.453191 \nL 54.413684 104.321717 \nL 63.664737 111.452304 \nL 72.915789 114.316907 \nL 82.166842 114.538649 \nL 91.417895 119.958211 \nL 100.668947 118.661428 \nL 109.92 120.796822 \nL 119.171053 124.089349 \nL 128.422105 125.391319 \nL 137.673158 127.141532 \nL 146.924211 127.363427 \nL 156.175263 128.032341 \nL 165.426316 131.944602 \nL 174.677368 130.030861 \nL 183.928421 132.492551 \nL 193.179474 134.009491 \nL 202.430526 134.523251 \n\" clip-path=\"url(#p4d10d931f2)\" style=\"fill: none; stroke: #1f77b4; stroke-width: 1.5; stroke-linecap: square\"/>\n   </g>\n   <g id=\"line2d_77\">\n    <path d=\"M 51.33 105.953624 \nL 70.86 114.680929 \nL 90.39 119.161292 \nL 109.92 124.285399 \nL 129.45 127.362466 \nL 148.98 129.186262 \nL 168.51 131.827398 \nL 188.04 132.861772 \n\" clip-path=\"url(#p4d10d931f2)\" style=\"fill: none; stroke-dasharray: 5.55,2.4; stroke-dashoffset: 0; stroke: #ff7f0e; stroke-width: 1.5\"/>\n   </g>\n   <g id=\"line2d_78\">\n    <path d=\"M 35.911579 13.377273 \nL 45.162632 104.453191 \nL 54.413684 104.321717 \nL 63.664737 111.452304 \nL 72.915789 114.316907 \nL 82.166842 114.538649 \nL 91.417895 119.958211 \nL 100.668947 118.661428 \nL 109.92 120.796822 \nL 119.171053 124.089349 \nL 128.422105 125.391319 \nL 137.673158 127.141532 \nL 146.924211 127.363427 \nL 156.175263 128.032341 \nL 165.426316 131.944602 \nL 174.677368 130.030861 \nL 183.928421 132.492551 \nL 193.179474 134.009491 \nL 202.430526 134.523251 \n\" clip-path=\"url(#p4d10d931f2)\" style=\"fill: none; stroke: #1f77b4; stroke-width: 1.5; stroke-linecap: square\"/>\n   </g>\n   <g id=\"line2d_79\">\n    <path d=\"M 51.33 105.953624 \nL 70.86 114.680929 \nL 90.39 119.161292 \nL 109.92 124.285399 \nL 129.45 127.362466 \nL 148.98 129.186262 \nL 168.51 131.827398 \nL 188.04 132.861772 \nL 207.57 135.277803 \n\" clip-path=\"url(#p4d10d931f2)\" style=\"fill: none; stroke-dasharray: 5.55,2.4; stroke-dashoffset: 0; stroke: #ff7f0e; stroke-width: 1.5\"/>\n   </g>\n   <g id=\"line2d_80\">\n    <path d=\"M 35.911579 13.377273 \nL 45.162632 104.453191 \nL 54.413684 104.321717 \nL 63.664737 111.452304 \nL 72.915789 114.316907 \nL 82.166842 114.538649 \nL 91.417895 119.958211 \nL 100.668947 118.661428 \nL 109.92 120.796822 \nL 119.171053 124.089349 \nL 128.422105 125.391319 \nL 137.673158 127.141532 \nL 146.924211 127.363427 \nL 156.175263 128.032341 \nL 165.426316 131.944602 \nL 174.677368 130.030861 \nL 183.928421 132.492551 \nL 193.179474 134.009491 \nL 202.430526 134.523251 \nL 211.681579 136.37169 \n\" clip-path=\"url(#p4d10d931f2)\" style=\"fill: none; stroke: #1f77b4; stroke-width: 1.5; stroke-linecap: square\"/>\n   </g>\n   <g id=\"line2d_81\">\n    <path d=\"M 51.33 105.953624 \nL 70.86 114.680929 \nL 90.39 119.161292 \nL 109.92 124.285399 \nL 129.45 127.362466 \nL 148.98 129.186262 \nL 168.51 131.827398 \nL 188.04 132.861772 \nL 207.57 135.277803 \n\" clip-path=\"url(#p4d10d931f2)\" style=\"fill: none; stroke-dasharray: 5.55,2.4; stroke-dashoffset: 0; stroke: #ff7f0e; stroke-width: 1.5\"/>\n   </g>\n   <g id=\"line2d_82\">\n    <path d=\"M 35.911579 13.377273 \nL 45.162632 104.453191 \nL 54.413684 104.321717 \nL 63.664737 111.452304 \nL 72.915789 114.316907 \nL 82.166842 114.538649 \nL 91.417895 119.958211 \nL 100.668947 118.661428 \nL 109.92 120.796822 \nL 119.171053 124.089349 \nL 128.422105 125.391319 \nL 137.673158 127.141532 \nL 146.924211 127.363427 \nL 156.175263 128.032341 \nL 165.426316 131.944602 \nL 174.677368 130.030861 \nL 183.928421 132.492551 \nL 193.179474 134.009491 \nL 202.430526 134.523251 \nL 211.681579 136.37169 \nL 220.932632 135.259306 \n\" clip-path=\"url(#p4d10d931f2)\" style=\"fill: none; stroke: #1f77b4; stroke-width: 1.5; stroke-linecap: square\"/>\n   </g>\n   <g id=\"line2d_83\">\n    <path d=\"M 51.33 105.953624 \nL 70.86 114.680929 \nL 90.39 119.161292 \nL 109.92 124.285399 \nL 129.45 127.362466 \nL 148.98 129.186262 \nL 168.51 131.827398 \nL 188.04 132.861772 \nL 207.57 135.277803 \n\" clip-path=\"url(#p4d10d931f2)\" style=\"fill: none; stroke-dasharray: 5.55,2.4; stroke-dashoffset: 0; stroke: #ff7f0e; stroke-width: 1.5\"/>\n   </g>\n   <g id=\"line2d_84\">\n    <path d=\"M 35.911579 13.377273 \nL 45.162632 104.453191 \nL 54.413684 104.321717 \nL 63.664737 111.452304 \nL 72.915789 114.316907 \nL 82.166842 114.538649 \nL 91.417895 119.958211 \nL 100.668947 118.661428 \nL 109.92 120.796822 \nL 119.171053 124.089349 \nL 128.422105 125.391319 \nL 137.673158 127.141532 \nL 146.924211 127.363427 \nL 156.175263 128.032341 \nL 165.426316 131.944602 \nL 174.677368 130.030861 \nL 183.928421 132.492551 \nL 193.179474 134.009491 \nL 202.430526 134.523251 \nL 211.681579 136.37169 \nL 220.932632 135.259306 \n\" clip-path=\"url(#p4d10d931f2)\" style=\"fill: none; stroke: #1f77b4; stroke-width: 1.5; stroke-linecap: square\"/>\n   </g>\n   <g id=\"line2d_85\">\n    <path d=\"M 51.33 105.953624 \nL 70.86 114.680929 \nL 90.39 119.161292 \nL 109.92 124.285399 \nL 129.45 127.362466 \nL 148.98 129.186262 \nL 168.51 131.827398 \nL 188.04 132.861772 \nL 207.57 135.277803 \nL 227.1 136.922727 \n\" clip-path=\"url(#p4d10d931f2)\" style=\"fill: none; stroke-dasharray: 5.55,2.4; stroke-dashoffset: 0; stroke: #ff7f0e; stroke-width: 1.5\"/>\n   </g>\n   <g id=\"patch_3\">\n    <path d=\"M 31.8 143.1 \nL 31.8 7.2 \n\" style=\"fill: none; stroke: #000000; stroke-width: 0.8; stroke-linejoin: miter; stroke-linecap: square\"/>\n   </g>\n   <g id=\"patch_4\">\n    <path d=\"M 227.1 143.1 \nL 227.1 7.2 \n\" style=\"fill: none; stroke: #000000; stroke-width: 0.8; stroke-linejoin: miter; stroke-linecap: square\"/>\n   </g>\n   <g id=\"patch_5\">\n    <path d=\"M 31.8 143.1 \nL 227.1 143.1 \n\" style=\"fill: none; stroke: #000000; stroke-width: 0.8; stroke-linejoin: miter; stroke-linecap: square\"/>\n   </g>\n   <g id=\"patch_6\">\n    <path d=\"M 31.8 7.2 \nL 227.1 7.2 \n\" style=\"fill: none; stroke: #000000; stroke-width: 0.8; stroke-linejoin: miter; stroke-linecap: square\"/>\n   </g>\n   <g id=\"legend_1\">\n    <g id=\"patch_7\">\n     <path d=\"M 140.509375 45.1125 \nL 220.1 45.1125 \nQ 222.1 45.1125 222.1 43.1125 \nL 222.1 14.2 \nQ 222.1 12.2 220.1 12.2 \nL 140.509375 12.2 \nQ 138.509375 12.2 138.509375 14.2 \nL 138.509375 43.1125 \nQ 138.509375 45.1125 140.509375 45.1125 \nz\n\" style=\"fill: #ffffff; opacity: 0.8; stroke: #cccccc; stroke-linejoin: miter\"/>\n    </g>\n    <g id=\"line2d_86\">\n     <path d=\"M 142.509375 20.298437 \nL 152.509375 20.298437 \nL 162.509375 20.298437 \n\" style=\"fill: none; stroke: #1f77b4; stroke-width: 1.5; stroke-linecap: square\"/>\n    </g>\n    <g id=\"text_10\">\n     <!-- train_loss -->\n     <g transform=\"translate(170.509375 23.798437)scale(0.1 -0.1)\">\n      <defs>\n       <path id=\"DejaVuSans-74\" d=\"M 1172 4494 \nL 1172 3500 \nL 2356 3500 \nL 2356 3053 \nL 1172 3053 \nL 1172 1153 \nQ 1172 725 1289 603 \nQ 1406 481 1766 481 \nL 2356 481 \nL 2356 0 \nL 1766 0 \nQ 1100 0 847 248 \nQ 594 497 594 1153 \nL 594 3053 \nL 172 3053 \nL 172 3500 \nL 594 3500 \nL 594 4494 \nL 1172 4494 \nz\n\" transform=\"scale(0.015625)\"/>\n       <path id=\"DejaVuSans-72\" d=\"M 2631 2963 \nQ 2534 3019 2420 3045 \nQ 2306 3072 2169 3072 \nQ 1681 3072 1420 2755 \nQ 1159 2438 1159 1844 \nL 1159 0 \nL 581 0 \nL 581 3500 \nL 1159 3500 \nL 1159 2956 \nQ 1341 3275 1631 3429 \nQ 1922 3584 2338 3584 \nQ 2397 3584 2469 3576 \nQ 2541 3569 2628 3553 \nL 2631 2963 \nz\n\" transform=\"scale(0.015625)\"/>\n       <path id=\"DejaVuSans-61\" d=\"M 2194 1759 \nQ 1497 1759 1228 1600 \nQ 959 1441 959 1056 \nQ 959 750 1161 570 \nQ 1363 391 1709 391 \nQ 2188 391 2477 730 \nQ 2766 1069 2766 1631 \nL 2766 1759 \nL 2194 1759 \nz\nM 3341 1997 \nL 3341 0 \nL 2766 0 \nL 2766 531 \nQ 2569 213 2275 61 \nQ 1981 -91 1556 -91 \nQ 1019 -91 701 211 \nQ 384 513 384 1019 \nQ 384 1609 779 1909 \nQ 1175 2209 1959 2209 \nL 2766 2209 \nL 2766 2266 \nQ 2766 2663 2505 2880 \nQ 2244 3097 1772 3097 \nQ 1472 3097 1187 3025 \nQ 903 2953 641 2809 \nL 641 3341 \nQ 956 3463 1253 3523 \nQ 1550 3584 1831 3584 \nQ 2591 3584 2966 3190 \nQ 3341 2797 3341 1997 \nz\n\" transform=\"scale(0.015625)\"/>\n       <path id=\"DejaVuSans-69\" d=\"M 603 3500 \nL 1178 3500 \nL 1178 0 \nL 603 0 \nL 603 3500 \nz\nM 603 4863 \nL 1178 4863 \nL 1178 4134 \nL 603 4134 \nL 603 4863 \nz\n\" transform=\"scale(0.015625)\"/>\n       <path id=\"DejaVuSans-6e\" d=\"M 3513 2113 \nL 3513 0 \nL 2938 0 \nL 2938 2094 \nQ 2938 2591 2744 2837 \nQ 2550 3084 2163 3084 \nQ 1697 3084 1428 2787 \nQ 1159 2491 1159 1978 \nL 1159 0 \nL 581 0 \nL 581 3500 \nL 1159 3500 \nL 1159 2956 \nQ 1366 3272 1645 3428 \nQ 1925 3584 2291 3584 \nQ 2894 3584 3203 3211 \nQ 3513 2838 3513 2113 \nz\n\" transform=\"scale(0.015625)\"/>\n       <path id=\"DejaVuSans-5f\" d=\"M 3263 -1063 \nL 3263 -1509 \nL -63 -1509 \nL -63 -1063 \nL 3263 -1063 \nz\n\" transform=\"scale(0.015625)\"/>\n       <path id=\"DejaVuSans-6c\" d=\"M 603 4863 \nL 1178 4863 \nL 1178 0 \nL 603 0 \nL 603 4863 \nz\n\" transform=\"scale(0.015625)\"/>\n       <path id=\"DejaVuSans-73\" d=\"M 2834 3397 \nL 2834 2853 \nQ 2591 2978 2328 3040 \nQ 2066 3103 1784 3103 \nQ 1356 3103 1142 2972 \nQ 928 2841 928 2578 \nQ 928 2378 1081 2264 \nQ 1234 2150 1697 2047 \nL 1894 2003 \nQ 2506 1872 2764 1633 \nQ 3022 1394 3022 966 \nQ 3022 478 2636 193 \nQ 2250 -91 1575 -91 \nQ 1294 -91 989 -36 \nQ 684 19 347 128 \nL 347 722 \nQ 666 556 975 473 \nQ 1284 391 1588 391 \nQ 1994 391 2212 530 \nQ 2431 669 2431 922 \nQ 2431 1156 2273 1281 \nQ 2116 1406 1581 1522 \nL 1381 1569 \nQ 847 1681 609 1914 \nQ 372 2147 372 2553 \nQ 372 3047 722 3315 \nQ 1072 3584 1716 3584 \nQ 2034 3584 2315 3537 \nQ 2597 3491 2834 3397 \nz\n\" transform=\"scale(0.015625)\"/>\n      </defs>\n      <use xlink:href=\"#DejaVuSans-74\"/>\n      <use xlink:href=\"#DejaVuSans-72\" x=\"39.208984\"/>\n      <use xlink:href=\"#DejaVuSans-61\" x=\"80.322266\"/>\n      <use xlink:href=\"#DejaVuSans-69\" x=\"141.601562\"/>\n      <use xlink:href=\"#DejaVuSans-6e\" x=\"169.384766\"/>\n      <use xlink:href=\"#DejaVuSans-5f\" x=\"232.763672\"/>\n      <use xlink:href=\"#DejaVuSans-6c\" x=\"282.763672\"/>\n      <use xlink:href=\"#DejaVuSans-6f\" x=\"310.546875\"/>\n      <use xlink:href=\"#DejaVuSans-73\" x=\"371.728516\"/>\n      <use xlink:href=\"#DejaVuSans-73\" x=\"423.828125\"/>\n     </g>\n    </g>\n    <g id=\"line2d_87\">\n     <path d=\"M 142.509375 35.254687 \nL 152.509375 35.254687 \nL 162.509375 35.254687 \n\" style=\"fill: none; stroke-dasharray: 5.55,2.4; stroke-dashoffset: 0; stroke: #ff7f0e; stroke-width: 1.5\"/>\n    </g>\n    <g id=\"text_11\">\n     <!-- val_loss -->\n     <g transform=\"translate(170.509375 38.754687)scale(0.1 -0.1)\">\n      <defs>\n       <path id=\"DejaVuSans-76\" d=\"M 191 3500 \nL 800 3500 \nL 1894 563 \nL 2988 3500 \nL 3597 3500 \nL 2284 0 \nL 1503 0 \nL 191 3500 \nz\n\" transform=\"scale(0.015625)\"/>\n      </defs>\n      <use xlink:href=\"#DejaVuSans-76\"/>\n      <use xlink:href=\"#DejaVuSans-61\" x=\"59.179688\"/>\n      <use xlink:href=\"#DejaVuSans-6c\" x=\"120.458984\"/>\n      <use xlink:href=\"#DejaVuSans-5f\" x=\"148.242188\"/>\n      <use xlink:href=\"#DejaVuSans-6c\" x=\"198.242188\"/>\n      <use xlink:href=\"#DejaVuSans-6f\" x=\"226.025391\"/>\n      <use xlink:href=\"#DejaVuSans-73\" x=\"287.207031\"/>\n      <use xlink:href=\"#DejaVuSans-73\" x=\"339.306641\"/>\n     </g>\n    </g>\n   </g>\n  </g>\n </g>\n <defs>\n  <clipPath id=\"p4d10d931f2\">\n   <rect x=\"31.8\" y=\"7.2\" width=\"195.3\" height=\"135.9\"/>\n  </clipPath>\n </defs>\n</svg>\n"
          },
          "metadata": {
            "needs_background": "light"
          }
        }
      ]
    }
  ]
}