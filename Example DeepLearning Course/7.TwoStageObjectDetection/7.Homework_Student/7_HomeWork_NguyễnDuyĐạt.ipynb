{
  "nbformat": 4,
  "nbformat_minor": 0,
  "metadata": {
    "colab": {
      "name": "7.HomeWork_NguyễnDuyĐạt.ipynb",
      "provenance": [],
      "collapsed_sections": [],
      "toc_visible": true
    },
    "kernelspec": {
      "name": "python3",
      "display_name": "Python 3"
    },
    "language_info": {
      "name": "python"
    }
  },
  "cells": [
    {
      "cell_type": "markdown",
      "source": [
        "# I. Lý thuyết\n",
        "\n",
        "1) Tại sao mô hình R-CNN lại có tốc độ xử lý chậm?\n",
        "\n",
        "A. Do R-CNN sử dụng các backbone rất nặng.\n",
        "\n",
        "B. Do các vùng region proposal được dự báo bounding box và phân loại nhãn một cách độc lập.\n",
        "\n",
        "C. Do thuật toán Selective Search là một phương pháp heuristic nên rất chậm \n",
        "\n",
        "D. Do mô hình tách biệt giữa dự báo bounding box và phân loại nhãn\n",
        "\n",
        "2) Chỉ số mAP trong các thuật toán object detection được tính toán theo cách nào ?\n",
        "\n",
        "A. Tính toán chỉ số AP trên từng category: Sắp xếp các Prediction Boxes của một category theo điểm số xác suất giảm dần. Thực hiện matching các Prediction Box với Ground Truth Box sao cho nếu IoU > 0.5 thì được xem là positive và trái lại là negative. Nếu Positive thì Precision sẽ có tử và mẫu cùng tăng lên 1 trong khi Recall có tử số tăng lên 1. Nếu Negative thì Precision có tử giữ nguyên và mẫu tăng lên 1 trong khi Recall không thay đổi. mAP bằng trung bình AP của toàn bộ các category.\n",
        "\n",
        "B. Tính toán chỉ số AP trên từng category: Sắp xếp các Prediction Boxes của một category theo điểm số xác suất giảm dần. Thực hiện matching các Prediction Box với Ground Truth Box sao cho nếu IoU > 0.5 thì được xem là positive và trái lại là negative. Nếu Positive thì Precision sẽ có tử số tăng lên 1 và mẫu giữ nguyên trong khi Recall có tử số tăng lên 1. Nếu Negative thì Precision có tử giữ nguyên và mẫu tăng lên 1 trong khi Recall không thay đổi. mAP bằng trung bình AP của toàn bộ các category.\n",
        "\n",
        "C. Tính toán chỉ số AP trên từng category: Sắp xếp các Prediction Boxes của một category theo điểm số xác suất giảm dần. Thực hiện matching các Prediction Box với Ground Truth Box sao cho nếu IoU > 0.5 thì được xem là positive và trái lại là negative. Nếu Positive thì Precision sẽ có tử và mẫu cùng tăng lên 1 trong khi Recall có tử giữ nguyên lên 1. Nếu Negative thì Precision có tử giữ nguyên và mẫu tăng lên 1 trong khi Recall không thay đổi. mAP bằng trung bình AP của toàn bộ các category.\n",
        "\n",
        "D. Tính toán chỉ số AP trên từng category: Sắp xếp các Prediction Boxes của một category theo điểm số xác suất giảm dần. Thực hiện matching các Prediction Box với Ground Truth Box sao cho nếu IoU > 0.5 thì được xem là positive và trái lại là negative. Nếu Positive thì Precision sẽ có tử và mẫu cùng tăng lên 1 trong khi Recall có tử số tăng lên 1. Nếu Negative thì Precision có tử giữ nguyên và mẫu tăng lên 1 trong khi Recall không thay đổi. Tính AP = diện tích dưới đường cong Precion Recall. mAP bằng trung bình AP của toàn bộ các category.\n",
        "\n",
        "3) Phương pháp Non Max Suppression sẽ làm gì để giảm thiểu số lượng các bounding box ?\n",
        "\n",
        "A. Dựa vào mức độ overlapping giữa các bounding box để loại bỏ những bounding box có mức độ chồng lấn nhau lớn.\n",
        "\n",
        "B. Dựa vào mức độ overlapping giữa các bounding box để loại bỏ những bounding box có mức độ chồng lấn nhau nhỏ.\n",
        "\n",
        "C. Dựa vào diện tích để loại bỏ các bounding box nhỏ dưới một ngưỡng cho trước.\n",
        "\n",
        "D. Dựa vào mức độ overlapping để giữ lại một bounding box có điểm số cao hơn nếu chúng chồng lấn nhau lớn.\n",
        "\n",
        "4) Trong mô hình Fast R-CNN chúng ta thêm một nhánh mạng RPN có tác dụng gì?\n",
        "\n",
        "A. Dự báo ra các vùng Region of Interest có khả năng cao chứa vật thể.\n",
        "\n",
        "B. Dự báo xác xuất cho toàn bộ các pixel nằm trên feature map.\n",
        " \n",
        "C. Dự báo bounding box và nhãn cho các vùng Region of Interest có khả năng cao chứa vật thể.\n",
        "\n",
        "D. Điều chỉnh lại kích thước của các bounding box từ anchor box.\n",
        "\n",
        "5) Anchor Box là gì?\n",
        "\n",
        "A. Là những hình chữ nhật giúp xác định vị trí của vật thể\n",
        "\n",
        "B. Là những hình chữ nhật với kích thước xác định trước gắn liền với một pixel để làm cơ sở điều chỉnh phần bù (offset) của các tọa độ nhằm dự báo bounding box.\n",
        "\n",
        "C. Là những hình chữ nhật phác thảo hình dạng của bounding box cần dự báo.\n",
        "\n",
        "D. Là hình chữ nhật gắn liền với một pixel để làm cơ sở dự báo bounding box."
      ],
      "metadata": {
        "id": "ZzMQa4CcG3aL"
      }
    },
    {
      "cell_type": "markdown",
      "source": [
        "1B - 2D - 3D - 4C - 5B"
      ],
      "metadata": {
        "id": "UV7fYG7fkc2l"
      }
    },
    {
      "cell_type": "markdown",
      "source": [
        "# II. Thực hành \n",
        "\n",
        "Các câu bên dưới qui ước chung bounding box đều có tọa độ là (x, y, w, h) lần lượt tương ứng với (x, y) là điểm top-left và (w, h) là kích thước chiều rộng và cao.\n",
        "\n",
        "6) Xây dựng hàm tính toán IoU giữa hai bounding box.\n",
        "\n",
        "7) Giả sử các bounding box dự báo cho một category có tọa độ lần lượt là:\n",
        "\n",
        "[10, 10, 50, 20], [15, 15, 55, 25], [50, 20, 20, 25], [20, 50, 20, 50], [30, 20, 10, 10]\n",
        "\n",
        "Các bounding box ground truth lần lượt là:\n",
        "\n",
        "[10, 10, 45, 25], [45, 20, 20, 25], [30, 25, 10, 10]\n",
        "\n",
        "Hãy thực hiện vẽ đường cong Precision Recall curve và xây dựng thuật toán tính giá trị AP.\n",
        "\n",
        "8) Thực hiện visualize các anchor box có tỷ lệ aspect ratio (tỷ lệ width/height) lần lượt là 1, 2, 1/2 trên một feature map kích thước 20 x 20\n",
        "\n",
        "9) Từ bộ dữ liệu [Vinbigdata-chest-xray](https://www.kaggle.com/c/vinbigdata-chest-xray-abnormalities-detection/data) bao gồm các tọa độ bounding box của 14 nhãn của các loại bệnh khác nhau được chuẩn đoán trên ảnh chụp chest X-ray. Thực hiện biến đổi file dữ liệu train.csv sang định dạng COCO json format. Chi tiết mô tả về dữ liệu bạn đọc ở tab data link trên.\n",
        "\n",
        "10) Hãy xây dựng thuật toán object detection để  hỗ trợ bác sĩ chuẩn đoán bệnh. Để không phải download dữ liệu, bạn nên run một notebook trên kaggle và trích dẫn link sang bài làm của bạn."
      ],
      "metadata": {
        "id": "r1NG3Z0HH_IP"
      }
    },
    {
      "cell_type": "markdown",
      "source": [
        "# Câu 6"
      ],
      "metadata": {
        "id": "mu1jiGRIpfYb"
      }
    },
    {
      "cell_type": "code",
      "source": [
        "def intersection_over_union(gt_box, pred_box):\n",
        "    inter_box_top_left = [max(gt_box[0], pred_box[0]), max(gt_box[1], pred_box[1])]\n",
        "    inter_box_bottom_right = [min(gt_box[0]+gt_box[2], pred_box[0]+pred_box[2]), min(gt_box[1]+gt_box[3], pred_box[1]+pred_box[3])]\n",
        "\n",
        "    inter_box_w = inter_box_bottom_right[0] - inter_box_top_left[0]\n",
        "    inter_box_h = inter_box_bottom_right[1] - inter_box_top_left[1]\n",
        "\n",
        "    intersection = inter_box_w * inter_box_h\n",
        "    union = gt_box[2] * gt_box[3] + pred_box[2] * pred_box[3] - intersection\n",
        "    \n",
        "    iou = intersection / union\n",
        "\n",
        "    return iou"
      ],
      "metadata": {
        "id": "-VVo4qTx0WrB"
      },
      "execution_count": null,
      "outputs": []
    },
    {
      "cell_type": "markdown",
      "source": [
        "# Câu 7"
      ],
      "metadata": {
        "id": "AyGIDk-bq62w"
      }
    },
    {
      "cell_type": "code",
      "source": [
        "pred_box = [[10, 10, 50, 20], [15, 15, 55, 25], [50, 20, 20, 25], [20, 50, 20, 50], [30, 20, 10, 10]]"
      ],
      "metadata": {
        "id": "4NBErEmLu6oS"
      },
      "execution_count": null,
      "outputs": []
    },
    {
      "cell_type": "code",
      "source": [
        "gt_box = [[10, 10, 45, 25], [45, 20, 20, 25], [30, 25, 10, 10]]"
      ],
      "metadata": {
        "id": "p5DBj6S4vU8G"
      },
      "execution_count": null,
      "outputs": []
    },
    {
      "cell_type": "code",
      "source": [
        "pred_scores = []\n",
        "for i in range(3):\n",
        "  for j in range(5):\n",
        "    score = intersection_over_union(gt_box[i], pred_box[j])\n",
        "    if score >= 0:\n",
        "      pred_scores.append(score)\n",
        "\n",
        "pred_scores.sort(reverse=True)"
      ],
      "metadata": {
        "id": "c4mBilBzq9gx"
      },
      "execution_count": null,
      "outputs": []
    },
    {
      "cell_type": "code",
      "source": [
        "pred_scores = pred_scores[:5]"
      ],
      "metadata": {
        "id": "enwUbMQ3CUPr"
      },
      "execution_count": null,
      "outputs": []
    },
    {
      "cell_type": "code",
      "source": [
        "pred_scores"
      ],
      "metadata": {
        "colab": {
          "base_uri": "https://localhost:8080/"
        },
        "id": "Q0vBMd7mDzx4",
        "outputId": "8ec14a28-6ae4-4623-e0a4-cb55cc101ed1"
      },
      "execution_count": null,
      "outputs": [
        {
          "output_type": "execute_result",
          "data": {
            "text/plain": [
              "[0.7346938775510204,\n",
              " 0.6,\n",
              " 0.47058823529411764,\n",
              " 0.3333333333333333,\n",
              " 0.2711864406779661]"
            ]
          },
          "metadata": {},
          "execution_count": 6
        }
      ]
    },
    {
      "cell_type": "code",
      "source": [
        "import numpy\n",
        "import sklearn.metrics\n",
        "import matplotlib.pyplot as plt\n",
        "\n",
        "def precision_recall_curve(y_true, pred_scores, thresholds):\n",
        "    precisions = []\n",
        "    recalls = []\n",
        "    \n",
        "    for threshold in thresholds:\n",
        "        y_pred = [\"positive\" if score >= threshold else \"negative\" for score in pred_scores]\n",
        "\n",
        "        precision = sklearn.metrics.precision_score(y_true=y_true, y_pred=y_pred, pos_label=\"positive\")\n",
        "        recall = sklearn.metrics.recall_score(y_true=y_true, y_pred=y_pred, pos_label=\"positive\")\n",
        "        \n",
        "        precisions.append(precision)\n",
        "        recalls.append(recall)\n",
        "\n",
        "    return precisions, recalls\n",
        "\n",
        "y_true = [\"positive\", \"positive\", \"negative\", \"positive\", \"negative\"] \n",
        "\n",
        "thresholds=numpy.arange(start=0.2, stop=0.7, step=0.05)\n",
        "\n",
        "precisions, recalls = precision_recall_curve(y_true=y_true, \n",
        "                                             pred_scores=pred_scores, \n",
        "                                             thresholds=thresholds)\n",
        "\n",
        "precisions.append(1)\n",
        "recalls.append(0)\n",
        "\n",
        "plt.plot(recalls, precisions, linewidth=4, color=\"red\", zorder=0)\n",
        "plt.xlabel(\"Recall\", fontsize=12)\n",
        "plt.ylabel(\"Precision\", fontsize=12)\n",
        "plt.title(\"Precision-Recall Curve\", fontsize=15, fontweight=\"bold\")\n",
        "plt.show()\n",
        "\n",
        "precisions = numpy.array(precisions)\n",
        "recalls = numpy.array(recalls)\n",
        "\n",
        "AP = numpy.sum((recalls[:-1] - recalls[1:]) * precisions[:-1])\n",
        "print(\"AP value: \", AP)"
      ],
      "metadata": {
        "id": "1upzx9KjIPH6",
        "colab": {
          "base_uri": "https://localhost:8080/",
          "height": 317
        },
        "outputId": "926fc8bd-d37f-45db-8097-73dd297da522"
      },
      "execution_count": null,
      "outputs": [
        {
          "output_type": "display_data",
          "data": {
            "text/plain": [
              "<Figure size 432x288 with 1 Axes>"
            ],
            "image/png": "[encoded data removed]"
          },
          "metadata": {
            "needs_background": "light"
          }
        },
        {
          "output_type": "stream",
          "name": "stdout",
          "text": [
            "AP value:  0.9166666666666665\n"
          ]
        }
      ]
    },
    {
      "cell_type": "markdown",
      "source": [
        "# Câu 8"
      ],
      "metadata": {
        "id": "1W3rov7mHqqa"
      }
    },
    {
      "cell_type": "code",
      "source": [
        "from google.colab import drive\n",
        "drive.mount('/content/drive')"
      ],
      "metadata": {
        "colab": {
          "base_uri": "https://localhost:8080/"
        },
        "id": "GtFbXz1eRFCo",
        "outputId": "3ec53ec4-aed7-43c1-f130-dcd3e24f272f"
      },
      "execution_count": null,
      "outputs": [
        {
          "output_type": "stream",
          "name": "stdout",
          "text": [
            "Mounted at /content/drive\n"
          ]
        }
      ]
    },
    {
      "cell_type": "code",
      "source": [
        "!pip install d2l==0.17.2"
      ],
      "metadata": {
        "colab": {
          "base_uri": "https://localhost:8080/"
        },
        "id": "gPhieZhNQLWR",
        "outputId": "e8b50132-1cc3-4637-aa10-20e65cafd6b5"
      },
      "execution_count": null,
      "outputs": [
        {
          "output_type": "stream",
          "name": "stdout",
          "text": [
            "Requirement already satisfied: d2l==0.17.2 in /usr/local/lib/python3.7/dist-packages (0.17.2)\n",
            "Requirement already satisfied: requests==2.25.1 in /usr/local/lib/python3.7/dist-packages (from d2l==0.17.2) (2.25.1)\n",
            "Requirement already satisfied: numpy==1.18.5 in /usr/local/lib/python3.7/dist-packages (from d2l==0.17.2) (1.18.5)\n",
            "Requirement already satisfied: jupyter==1.0.0 in /usr/local/lib/python3.7/dist-packages (from d2l==0.17.2) (1.0.0)\n",
            "Requirement already satisfied: matplotlib==3.3.3 in /usr/local/lib/python3.7/dist-packages (from d2l==0.17.2) (3.3.3)\n",
            "Requirement already satisfied: pandas==1.2.2 in /usr/local/lib/python3.7/dist-packages (from d2l==0.17.2) (1.2.2)\n",
            "Requirement already satisfied: qtconsole in /usr/local/lib/python3.7/dist-packages (from jupyter==1.0.0->d2l==0.17.2) (5.2.2)\n",
            "Requirement already satisfied: notebook in /usr/local/lib/python3.7/dist-packages (from jupyter==1.0.0->d2l==0.17.2) (5.3.1)\n",
            "Requirement already satisfied: jupyter-console in /usr/local/lib/python3.7/dist-packages (from jupyter==1.0.0->d2l==0.17.2) (5.2.0)\n",
            "Requirement already satisfied: ipykernel in /usr/local/lib/python3.7/dist-packages (from jupyter==1.0.0->d2l==0.17.2) (4.10.1)\n",
            "Requirement already satisfied: nbconvert in /usr/local/lib/python3.7/dist-packages (from jupyter==1.0.0->d2l==0.17.2) (5.6.1)\n",
            "Requirement already satisfied: ipywidgets in /usr/local/lib/python3.7/dist-packages (from jupyter==1.0.0->d2l==0.17.2) (7.6.5)\n",
            "Requirement already satisfied: pyparsing!=2.0.4,!=2.1.2,!=2.1.6,>=2.0.3 in /usr/local/lib/python3.7/dist-packages (from matplotlib==3.3.3->d2l==0.17.2) (3.0.7)\n",
            "Requirement already satisfied: kiwisolver>=1.0.1 in /usr/local/lib/python3.7/dist-packages (from matplotlib==3.3.3->d2l==0.17.2) (1.3.2)\n",
            "Requirement already satisfied: pillow>=6.2.0 in /usr/local/lib/python3.7/dist-packages (from matplotlib==3.3.3->d2l==0.17.2) (7.1.2)\n",
            "Requirement already satisfied: python-dateutil>=2.1 in /usr/local/lib/python3.7/dist-packages (from matplotlib==3.3.3->d2l==0.17.2) (2.8.2)\n",
            "Requirement already satisfied: cycler>=0.10 in /usr/local/lib/python3.7/dist-packages (from matplotlib==3.3.3->d2l==0.17.2) (0.11.0)\n",
            "Requirement already satisfied: pytz>=2017.3 in /usr/local/lib/python3.7/dist-packages (from pandas==1.2.2->d2l==0.17.2) (2018.9)\n",
            "Requirement already satisfied: urllib3<1.27,>=1.21.1 in /usr/local/lib/python3.7/dist-packages (from requests==2.25.1->d2l==0.17.2) (1.24.3)\n",
            "Requirement already satisfied: certifi>=2017.4.17 in /usr/local/lib/python3.7/dist-packages (from requests==2.25.1->d2l==0.17.2) (2021.10.8)\n",
            "Requirement already satisfied: idna<3,>=2.5 in /usr/local/lib/python3.7/dist-packages (from requests==2.25.1->d2l==0.17.2) (2.10)\n",
            "Requirement already satisfied: chardet<5,>=3.0.2 in /usr/local/lib/python3.7/dist-packages (from requests==2.25.1->d2l==0.17.2) (3.0.4)\n",
            "Requirement already satisfied: six>=1.5 in /usr/local/lib/python3.7/dist-packages (from python-dateutil>=2.1->matplotlib==3.3.3->d2l==0.17.2) (1.15.0)\n",
            "Requirement already satisfied: ipython>=4.0.0 in /usr/local/lib/python3.7/dist-packages (from ipykernel->jupyter==1.0.0->d2l==0.17.2) (5.5.0)\n",
            "Requirement already satisfied: tornado>=4.0 in /usr/local/lib/python3.7/dist-packages (from ipykernel->jupyter==1.0.0->d2l==0.17.2) (5.1.1)\n",
            "Requirement already satisfied: jupyter-client in /usr/local/lib/python3.7/dist-packages (from ipykernel->jupyter==1.0.0->d2l==0.17.2) (5.3.5)\n",
            "Requirement already satisfied: traitlets>=4.1.0 in /usr/local/lib/python3.7/dist-packages (from ipykernel->jupyter==1.0.0->d2l==0.17.2) (5.1.1)\n",
            "Requirement already satisfied: pexpect in /usr/local/lib/python3.7/dist-packages (from ipython>=4.0.0->ipykernel->jupyter==1.0.0->d2l==0.17.2) (4.8.0)\n",
            "Requirement already satisfied: prompt-toolkit<2.0.0,>=1.0.4 in /usr/local/lib/python3.7/dist-packages (from ipython>=4.0.0->ipykernel->jupyter==1.0.0->d2l==0.17.2) (1.0.18)\n",
            "Requirement already satisfied: pickleshare in /usr/local/lib/python3.7/dist-packages (from ipython>=4.0.0->ipykernel->jupyter==1.0.0->d2l==0.17.2) (0.7.5)\n",
            "Requirement already satisfied: simplegeneric>0.8 in /usr/local/lib/python3.7/dist-packages (from ipython>=4.0.0->ipykernel->jupyter==1.0.0->d2l==0.17.2) (0.8.1)\n",
            "Requirement already satisfied: pygments in /usr/local/lib/python3.7/dist-packages (from ipython>=4.0.0->ipykernel->jupyter==1.0.0->d2l==0.17.2) (2.6.1)\n",
            "Requirement already satisfied: decorator in /usr/local/lib/python3.7/dist-packages (from ipython>=4.0.0->ipykernel->jupyter==1.0.0->d2l==0.17.2) (4.4.2)\n",
            "Requirement already satisfied: setuptools>=18.5 in /usr/local/lib/python3.7/dist-packages (from ipython>=4.0.0->ipykernel->jupyter==1.0.0->d2l==0.17.2) (57.4.0)\n",
            "Requirement already satisfied: wcwidth in /usr/local/lib/python3.7/dist-packages (from prompt-toolkit<2.0.0,>=1.0.4->ipython>=4.0.0->ipykernel->jupyter==1.0.0->d2l==0.17.2) (0.2.5)\n",
            "Requirement already satisfied: widgetsnbextension~=3.5.0 in /usr/local/lib/python3.7/dist-packages (from ipywidgets->jupyter==1.0.0->d2l==0.17.2) (3.5.2)\n",
            "Requirement already satisfied: jupyterlab-widgets>=1.0.0 in /usr/local/lib/python3.7/dist-packages (from ipywidgets->jupyter==1.0.0->d2l==0.17.2) (1.0.2)\n",
            "Requirement already satisfied: ipython-genutils~=0.2.0 in /usr/local/lib/python3.7/dist-packages (from ipywidgets->jupyter==1.0.0->d2l==0.17.2) (0.2.0)\n",
            "Requirement already satisfied: nbformat>=4.2.0 in /usr/local/lib/python3.7/dist-packages (from ipywidgets->jupyter==1.0.0->d2l==0.17.2) (5.1.3)\n",
            "Requirement already satisfied: jsonschema!=2.5.0,>=2.4 in /usr/local/lib/python3.7/dist-packages (from nbformat>=4.2.0->ipywidgets->jupyter==1.0.0->d2l==0.17.2) (4.3.3)\n",
            "Requirement already satisfied: jupyter-core in /usr/local/lib/python3.7/dist-packages (from nbformat>=4.2.0->ipywidgets->jupyter==1.0.0->d2l==0.17.2) (4.9.2)\n",
            "Requirement already satisfied: importlib-resources>=1.4.0 in /usr/local/lib/python3.7/dist-packages (from jsonschema!=2.5.0,>=2.4->nbformat>=4.2.0->ipywidgets->jupyter==1.0.0->d2l==0.17.2) (5.4.0)\n",
            "Requirement already satisfied: importlib-metadata in /usr/local/lib/python3.7/dist-packages (from jsonschema!=2.5.0,>=2.4->nbformat>=4.2.0->ipywidgets->jupyter==1.0.0->d2l==0.17.2) (4.11.2)\n",
            "Requirement already satisfied: pyrsistent!=0.17.0,!=0.17.1,!=0.17.2,>=0.14.0 in /usr/local/lib/python3.7/dist-packages (from jsonschema!=2.5.0,>=2.4->nbformat>=4.2.0->ipywidgets->jupyter==1.0.0->d2l==0.17.2) (0.18.1)\n",
            "Requirement already satisfied: attrs>=17.4.0 in /usr/local/lib/python3.7/dist-packages (from jsonschema!=2.5.0,>=2.4->nbformat>=4.2.0->ipywidgets->jupyter==1.0.0->d2l==0.17.2) (21.4.0)\n",
            "Requirement already satisfied: typing-extensions in /usr/local/lib/python3.7/dist-packages (from jsonschema!=2.5.0,>=2.4->nbformat>=4.2.0->ipywidgets->jupyter==1.0.0->d2l==0.17.2) (3.10.0.2)\n",
            "Requirement already satisfied: zipp>=3.1.0 in /usr/local/lib/python3.7/dist-packages (from importlib-resources>=1.4.0->jsonschema!=2.5.0,>=2.4->nbformat>=4.2.0->ipywidgets->jupyter==1.0.0->d2l==0.17.2) (3.7.0)\n",
            "Requirement already satisfied: terminado>=0.8.1 in /usr/local/lib/python3.7/dist-packages (from notebook->jupyter==1.0.0->d2l==0.17.2) (0.13.1)\n",
            "Requirement already satisfied: jinja2 in /usr/local/lib/python3.7/dist-packages (from notebook->jupyter==1.0.0->d2l==0.17.2) (2.11.3)\n",
            "Requirement already satisfied: Send2Trash in /usr/local/lib/python3.7/dist-packages (from notebook->jupyter==1.0.0->d2l==0.17.2) (1.8.0)\n",
            "Requirement already satisfied: pyzmq>=13 in /usr/local/lib/python3.7/dist-packages (from jupyter-client->ipykernel->jupyter==1.0.0->d2l==0.17.2) (22.3.0)\n",
            "Requirement already satisfied: ptyprocess in /usr/local/lib/python3.7/dist-packages (from terminado>=0.8.1->notebook->jupyter==1.0.0->d2l==0.17.2) (0.7.0)\n",
            "Requirement already satisfied: MarkupSafe>=0.23 in /usr/local/lib/python3.7/dist-packages (from jinja2->notebook->jupyter==1.0.0->d2l==0.17.2) (2.0.1)\n",
            "Requirement already satisfied: testpath in /usr/local/lib/python3.7/dist-packages (from nbconvert->jupyter==1.0.0->d2l==0.17.2) (0.6.0)\n",
            "Requirement already satisfied: pandocfilters>=1.4.1 in /usr/local/lib/python3.7/dist-packages (from nbconvert->jupyter==1.0.0->d2l==0.17.2) (1.5.0)\n",
            "Requirement already satisfied: entrypoints>=0.2.2 in /usr/local/lib/python3.7/dist-packages (from nbconvert->jupyter==1.0.0->d2l==0.17.2) (0.4)\n",
            "Requirement already satisfied: defusedxml in /usr/local/lib/python3.7/dist-packages (from nbconvert->jupyter==1.0.0->d2l==0.17.2) (0.7.1)\n",
            "Requirement already satisfied: mistune<2,>=0.8.1 in /usr/local/lib/python3.7/dist-packages (from nbconvert->jupyter==1.0.0->d2l==0.17.2) (0.8.4)\n",
            "Requirement already satisfied: bleach in /usr/local/lib/python3.7/dist-packages (from nbconvert->jupyter==1.0.0->d2l==0.17.2) (4.1.0)\n",
            "Requirement already satisfied: packaging in /usr/local/lib/python3.7/dist-packages (from bleach->nbconvert->jupyter==1.0.0->d2l==0.17.2) (21.3)\n",
            "Requirement already satisfied: webencodings in /usr/local/lib/python3.7/dist-packages (from bleach->nbconvert->jupyter==1.0.0->d2l==0.17.2) (0.5.1)\n",
            "Requirement already satisfied: qtpy in /usr/local/lib/python3.7/dist-packages (from qtconsole->jupyter==1.0.0->d2l==0.17.2) (2.0.1)\n"
          ]
        }
      ]
    },
    {
      "cell_type": "code",
      "source": [
        "%matplotlib inline\n",
        "import torch\n",
        "from d2l import torch as d2l\n",
        "\n",
        "torch.set_printoptions(2)"
      ],
      "metadata": {
        "id": "UdfOOn56P4VY"
      },
      "execution_count": null,
      "outputs": []
    },
    {
      "cell_type": "code",
      "source": [
        "def multibox_prior(data, sizes, ratios):\n",
        "    \"\"\"Generate anchor boxes with different shapes centered on each pixel.\"\"\"\n",
        "    in_height, in_width = data.shape[-2:]\n",
        "    device, num_sizes, num_ratios = data.device, len(sizes), len(ratios)\n",
        "    boxes_per_pixel = (num_sizes + num_ratios - 1)\n",
        "    size_tensor = torch.tensor(sizes, device=device)\n",
        "    ratio_tensor = torch.tensor(ratios, device=device)\n",
        "    # Offsets are required to move the anchor to the center of a pixel. Since\n",
        "    # a pixel has height=1 and width=1, we choose to offset our centers by 0.5\n",
        "    offset_h, offset_w = 0.5, 0.5\n",
        "    steps_h = 1.0 / in_height  # Scaled steps in y axis\n",
        "    steps_w = 1.0 / in_width  # Scaled steps in x axis\n",
        "\n",
        "    # Generate all center points for the anchor boxes\n",
        "    center_h = (torch.arange(in_height, device=device) + offset_h) * steps_h\n",
        "    center_w = (torch.arange(in_width, device=device) + offset_w) * steps_w\n",
        "    shift_y, shift_x = torch.meshgrid(center_h, center_w)\n",
        "    shift_y, shift_x = shift_y.reshape(-1), shift_x.reshape(-1)\n",
        "\n",
        "    # Generate `boxes_per_pixel` number of heights and widths that are later\n",
        "    # used to create anchor box corner coordinates (xmin, xmax, ymin, ymax)\n",
        "    w = torch.cat((size_tensor * torch.sqrt(ratio_tensor[0]),\n",
        "                   sizes[0] * torch.sqrt(ratio_tensor[1:])))\\\n",
        "                   * in_height / in_width  # Handle rectangular inputs\n",
        "    h = torch.cat((size_tensor / torch.sqrt(ratio_tensor[0]),\n",
        "                   sizes[0] / torch.sqrt(ratio_tensor[1:])))\n",
        "    # Divide by 2 to get half height and half width\n",
        "    anchor_manipulations = torch.stack((-w, -h, w, h)).T.repeat(\n",
        "                                        in_height * in_width, 1) / 2\n",
        "\n",
        "    # Each center point will have `boxes_per_pixel` number of anchor boxes, so\n",
        "    # generate a grid of all anchor box centers with `boxes_per_pixel` repeats\n",
        "    out_grid = torch.stack([shift_x, shift_y, shift_x, shift_y],\n",
        "                dim=1).repeat_interleave(boxes_per_pixel, dim=0)\n",
        "    output = out_grid + anchor_manipulations\n",
        "    return output.unsqueeze(0)"
      ],
      "metadata": {
        "id": "saeyJ7rmQds_"
      },
      "execution_count": null,
      "outputs": []
    },
    {
      "cell_type": "code",
      "source": [
        "img = d2l.plt.imread('/content/drive/MyDrive/Colab Notebooks/cat.jpg')\n",
        "h, w = img.shape[:2]\n",
        "\n",
        "print(h, w)\n",
        "X = torch.rand(size=(1, 3, h, w))  # Construct input data\n",
        "Y = multibox_prior(X, sizes=[0.75, 0.5, 0.25], ratios=[1, 2, 0.5])\n",
        "Y.shape"
      ],
      "metadata": {
        "colab": {
          "base_uri": "https://localhost:8080/"
        },
        "id": "8eo4nCryQef3",
        "outputId": "9af430ee-5fcf-4ece-bd1b-48942e619346"
      },
      "execution_count": null,
      "outputs": [
        {
          "output_type": "stream",
          "name": "stdout",
          "text": [
            "374 500\n"
          ]
        },
        {
          "output_type": "stream",
          "name": "stderr",
          "text": [
            "/usr/local/lib/python3.7/dist-packages/torch/functional.py:445: UserWarning: torch.meshgrid: in an upcoming release, it will be required to pass the indexing argument. (Triggered internally at  ../aten/src/ATen/native/TensorShape.cpp:2157.)\n",
            "  return _VF.meshgrid(tensors, **kwargs)  # type: ignore[attr-defined]\n"
          ]
        },
        {
          "output_type": "execute_result",
          "data": {
            "text/plain": [
              "torch.Size([1, 935000, 4])"
            ]
          },
          "metadata": {},
          "execution_count": 5
        }
      ]
    },
    {
      "cell_type": "code",
      "source": [
        "boxes = Y.reshape(h, w, 5, 4)\n",
        "boxes[250, 250, 0, :]"
      ],
      "metadata": {
        "colab": {
          "base_uri": "https://localhost:8080/"
        },
        "id": "DnHI4zbGRg-u",
        "outputId": "9e860a0d-d0b5-4e90-ea86-4330f648aa62"
      },
      "execution_count": null,
      "outputs": [
        {
          "output_type": "execute_result",
          "data": {
            "text/plain": [
              "tensor([0.22, 0.29, 0.78, 1.04])"
            ]
          },
          "metadata": {},
          "execution_count": 6
        }
      ]
    },
    {
      "cell_type": "code",
      "source": [
        "def show_bboxes(axes, bboxes, labels=None, colors=None):\n",
        "    \"\"\"Show bounding boxes.\"\"\"\n",
        "\n",
        "    def make_list(obj, default_values=None):\n",
        "        if obj is None:\n",
        "            obj = default_values\n",
        "        elif not isinstance(obj, (list, tuple)):\n",
        "            obj = [obj]\n",
        "        return obj\n",
        "\n",
        "    labels = make_list(labels)\n",
        "    colors = make_list(colors, ['b', 'g', 'r', 'm', 'c'])\n",
        "    for i, bbox in enumerate(bboxes):\n",
        "        color = colors[i % len(colors)]\n",
        "        rect = d2l.bbox_to_rect(bbox.detach().numpy(), color)\n",
        "        axes.add_patch(rect)\n",
        "        if labels and len(labels) > i:\n",
        "            text_color = 'k' if color == 'w' else 'w'\n",
        "            axes.text(rect.xy[0], rect.xy[1], labels[i],\n",
        "                      va='center', ha='center', fontsize=9, color=text_color,\n",
        "                      bbox=dict(facecolor=color, lw=0))"
      ],
      "metadata": {
        "id": "Md84J0ypRipg"
      },
      "execution_count": null,
      "outputs": []
    },
    {
      "cell_type": "code",
      "source": [
        "d2l.set_figsize()\n",
        "bbox_scale = torch.tensor((w, h, w, h))\n",
        "fig = d2l.plt.imshow(img)\n",
        "show_bboxes(fig.axes, boxes[250, 250, :, :] * bbox_scale,\n",
        "            ['s=0.75, r=1', 's=0.5, r=1', 's=0.25, r=1', 's=0.75, r=2',\n",
        "             's=0.75, r=0.5', 's=0.25, r=0.5'])"
      ],
      "metadata": {
        "colab": {
          "base_uri": "https://localhost:8080/",
          "height": 249
        },
        "id": "yu8SBjAvRmyW",
        "outputId": "0e25cc31-e7e6-4aa9-c0ec-9f0a30c0cddb"
      },
      "execution_count": null,
      "outputs": [
        {
          "output_type": "display_data",
          "data": {
            "text/plain": [
              "<Figure size 252x180 with 1 Axes>"
            ],
            "image/svg+xml": "<?xml version=\"1.0\" encoding=\"utf-8\" standalone=\"no\"?>\n<!DOCTYPE svg PUBLIC \"-//W3C//DTD SVG 1.1//EN\"\n  \"http://www.w3.org/Graphics/SVG/1.1/DTD/svg11.dtd\">\n<!-- Created with matplotlib (https://matplotlib.org/) -->\n<svg height=\"170.595659pt\" version=\"1.1\" viewBox=\"0 0 222.171992 170.595659\" width=\"222.171992pt\" xmlns=\"http://www.w3.org/2000/svg\" xmlns:xlink=\"http://www.w3.org/1999/xlink\">\n <metadata>\n  <rdf:RDF xmlns:cc=\"http://creativecommons.org/ns#\" xmlns:dc=\"http://purl.org/dc/elements/1.1/\" xmlns:rdf=\"http://www.w3.org/1999/02/22-rdf-syntax-ns#\">\n   <cc:Work>\n    <dc:type rdf:resource=\"http://purl.org/dc/dcmitype/StillImage\"/>\n    <dc:date>2022-03-11T09:21:22.070907</dc:date>\n    <dc:format>image/svg+xml</dc:format>\n    <dc:creator>\n     <cc:Agent>\n      <dc:title>Matplotlib v3.3.3, https://matplotlib.org/</dc:title>\n     </cc:Agent>\n    </dc:creator>\n   </cc:Work>\n  </rdf:RDF>\n </metadata>\n <defs>\n  <style type=\"text/css\">*{stroke-linecap:butt;stroke-linejoin:round;}</style>\n </defs>\n <g id=\"figure_1\">\n  <g id=\"patch_1\">\n   <path d=\"M 0 170.595659 \nL 222.171992 170.595659 \nL 222.171992 0 \nL 0 0 \nz\n\" style=\"fill:none;\"/>\n  </g>\n  <g id=\"axes_1\">\n   <g id=\"patch_2\">\n    <path d=\"M 33.2875 146.717534 \nL 214.971992 146.717534 \nL 214.971992 10.817534 \nL 33.2875 10.817534 \nz\n\" style=\"fill:#ffffff;\"/>\n   </g>\n   <g clip-path=\"url(#p14c66d308b)\">\n    <image height=\"136\" id=\"imageea26981dac\" transform=\"scale(1 -1)translate(0 -136)\" width=\"182\" x=\"33.2875\" xlink:href=\"data:image/png;base64,\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\" y=\"-10.717534\"/>\n   </g>\n   <g id=\"patch_3\">\n    <path clip-path=\"url(#p14c66d308b)\" d=\"M 73.530623 51.060649 \nL 175.455626 51.060649 \nL 175.455626 152.985649 \nL 73.530623 152.985649 \nz\n\" style=\"fill:none;stroke:#0000ff;stroke-linejoin:miter;stroke-width:2;\"/>\n   </g>\n   <g id=\"patch_4\">\n    <path clip-path=\"url(#p14c66d308b)\" d=\"M 90.518121 68.048149 \nL 158.468126 68.048149 \nL 158.468126 135.998149 \nL 90.518121 135.998149 \nz\n\" style=\"fill:none;stroke:#008000;stroke-linejoin:miter;stroke-width:2;\"/>\n   </g>\n   <g id=\"patch_5\">\n    <path clip-path=\"url(#p14c66d308b)\" d=\"M 107.505621 85.035649 \nL 141.480626 85.035649 \nL 141.480626 119.010649 \nL 107.505621 119.010649 \nz\n\" style=\"fill:none;stroke:#ff0000;stroke-linejoin:miter;stroke-width:2;\"/>\n   </g>\n   <g id=\"patch_6\">\n    <path clip-path=\"url(#p14c66d308b)\" d=\"M 52.421269 65.987221 \nL 196.564982 65.987221 \nL 196.564982 138.059077 \nL 52.421269 138.059077 \nz\n\" style=\"fill:none;stroke:#bf00bf;stroke-linejoin:miter;stroke-width:2;\"/>\n   </g>\n   <g id=\"patch_7\">\n    <path clip-path=\"url(#p14c66d308b)\" d=\"M 88.457193 29.951293 \nL 160.529054 29.951293 \nL 160.529054 174.095005 \nL 88.457193 174.095005 \nz\n\" style=\"fill:none;stroke:#00bfbf;stroke-linejoin:miter;stroke-width:2;\"/>\n   </g>\n   <g id=\"matplotlib.axis_1\">\n    <g id=\"xtick_1\">\n     <g id=\"line2d_1\">\n      <defs>\n       <path d=\"M 0 0 \nL 0 3.5 \n\" id=\"m50aa11e65c\" style=\"stroke:#000000;stroke-width:0.8;\"/>\n      </defs>\n      <g>\n       <use style=\"stroke:#000000;stroke-width:0.8;\" x=\"33.469184\" xlink:href=\"#m50aa11e65c\" y=\"146.717534\"/>\n      </g>\n     </g>\n     <g id=\"text_1\">\n      <!-- 0 -->\n      <g transform=\"translate(30.287934 161.315972)scale(0.1 -0.1)\">\n       <defs>\n        <path d=\"M 31.78125 66.40625 \nQ 24.171875 66.40625 20.328125 58.90625 \nQ 16.5 51.421875 16.5 36.375 \nQ 16.5 21.390625 20.328125 13.890625 \nQ 24.171875 6.390625 31.78125 6.390625 \nQ 39.453125 6.390625 43.28125 13.890625 \nQ 47.125 21.390625 47.125 36.375 \nQ 47.125 51.421875 43.28125 58.90625 \nQ 39.453125 66.40625 31.78125 66.40625 \nz\nM 31.78125 74.21875 \nQ 44.046875 74.21875 50.515625 64.515625 \nQ 56.984375 54.828125 56.984375 36.375 \nQ 56.984375 17.96875 50.515625 8.265625 \nQ 44.046875 -1.421875 31.78125 -1.421875 \nQ 19.53125 -1.421875 13.0625 8.265625 \nQ 6.59375 17.96875 6.59375 36.375 \nQ 6.59375 54.828125 13.0625 64.515625 \nQ 19.53125 74.21875 31.78125 74.21875 \nz\n\" id=\"DejaVuSans-48\"/>\n       </defs>\n       <use xlink:href=\"#DejaVuSans-48\"/>\n      </g>\n     </g>\n    </g>\n    <g id=\"xtick_2\">\n     <g id=\"line2d_2\">\n      <g>\n       <use style=\"stroke:#000000;stroke-width:0.8;\" x=\"69.806083\" xlink:href=\"#m50aa11e65c\" y=\"146.717534\"/>\n      </g>\n     </g>\n     <g id=\"text_2\">\n      <!-- 100 -->\n      <g transform=\"translate(60.262333 161.315972)scale(0.1 -0.1)\">\n       <defs>\n        <path d=\"M 12.40625 8.296875 \nL 28.515625 8.296875 \nL 28.515625 63.921875 \nL 10.984375 60.40625 \nL 10.984375 69.390625 \nL 28.421875 72.90625 \nL 38.28125 72.90625 \nL 38.28125 8.296875 \nL 54.390625 8.296875 \nL 54.390625 0 \nL 12.40625 0 \nz\n\" id=\"DejaVuSans-49\"/>\n       </defs>\n       <use xlink:href=\"#DejaVuSans-49\"/>\n       <use x=\"63.623047\" xlink:href=\"#DejaVuSans-48\"/>\n       <use x=\"127.246094\" xlink:href=\"#DejaVuSans-48\"/>\n      </g>\n     </g>\n    </g>\n    <g id=\"xtick_3\">\n     <g id=\"line2d_3\">\n      <g>\n       <use style=\"stroke:#000000;stroke-width:0.8;\" x=\"106.142981\" xlink:href=\"#m50aa11e65c\" y=\"146.717534\"/>\n      </g>\n     </g>\n     <g id=\"text_3\">\n      <!-- 200 -->\n      <g transform=\"translate(96.599231 161.315972)scale(0.1 -0.1)\">\n       <defs>\n        <path d=\"M 19.1875 8.296875 \nL 53.609375 8.296875 \nL 53.609375 0 \nL 7.328125 0 \nL 7.328125 8.296875 \nQ 12.9375 14.109375 22.625 23.890625 \nQ 32.328125 33.6875 34.8125 36.53125 \nQ 39.546875 41.84375 41.421875 45.53125 \nQ 43.3125 49.21875 43.3125 52.78125 \nQ 43.3125 58.59375 39.234375 62.25 \nQ 35.15625 65.921875 28.609375 65.921875 \nQ 23.96875 65.921875 18.8125 64.3125 \nQ 13.671875 62.703125 7.8125 59.421875 \nL 7.8125 69.390625 \nQ 13.765625 71.78125 18.9375 73 \nQ 24.125 74.21875 28.421875 74.21875 \nQ 39.75 74.21875 46.484375 68.546875 \nQ 53.21875 62.890625 53.21875 53.421875 \nQ 53.21875 48.921875 51.53125 44.890625 \nQ 49.859375 40.875 45.40625 35.40625 \nQ 44.1875 33.984375 37.640625 27.21875 \nQ 31.109375 20.453125 19.1875 8.296875 \nz\n\" id=\"DejaVuSans-50\"/>\n       </defs>\n       <use xlink:href=\"#DejaVuSans-50\"/>\n       <use x=\"63.623047\" xlink:href=\"#DejaVuSans-48\"/>\n       <use x=\"127.246094\" xlink:href=\"#DejaVuSans-48\"/>\n      </g>\n     </g>\n    </g>\n    <g id=\"xtick_4\">\n     <g id=\"line2d_4\">\n      <g>\n       <use style=\"stroke:#000000;stroke-width:0.8;\" x=\"142.47988\" xlink:href=\"#m50aa11e65c\" y=\"146.717534\"/>\n      </g>\n     </g>\n     <g id=\"text_4\">\n      <!-- 300 -->\n      <g transform=\"translate(132.93613 161.315972)scale(0.1 -0.1)\">\n       <defs>\n        <path d=\"M 40.578125 39.3125 \nQ 47.65625 37.796875 51.625 33 \nQ 55.609375 28.21875 55.609375 21.1875 \nQ 55.609375 10.40625 48.1875 4.484375 \nQ 40.765625 -1.421875 27.09375 -1.421875 \nQ 22.515625 -1.421875 17.65625 -0.515625 \nQ 12.796875 0.390625 7.625 2.203125 \nL 7.625 11.71875 \nQ 11.71875 9.328125 16.59375 8.109375 \nQ 21.484375 6.890625 26.8125 6.890625 \nQ 36.078125 6.890625 40.9375 10.546875 \nQ 45.796875 14.203125 45.796875 21.1875 \nQ 45.796875 27.640625 41.28125 31.265625 \nQ 36.765625 34.90625 28.71875 34.90625 \nL 20.21875 34.90625 \nL 20.21875 43.015625 \nL 29.109375 43.015625 \nQ 36.375 43.015625 40.234375 45.921875 \nQ 44.09375 48.828125 44.09375 54.296875 \nQ 44.09375 59.90625 40.109375 62.90625 \nQ 36.140625 65.921875 28.71875 65.921875 \nQ 24.65625 65.921875 20.015625 65.03125 \nQ 15.375 64.15625 9.8125 62.3125 \nL 9.8125 71.09375 \nQ 15.4375 72.65625 20.34375 73.4375 \nQ 25.25 74.21875 29.59375 74.21875 \nQ 40.828125 74.21875 47.359375 69.109375 \nQ 53.90625 64.015625 53.90625 55.328125 \nQ 53.90625 49.265625 50.4375 45.09375 \nQ 46.96875 40.921875 40.578125 39.3125 \nz\n\" id=\"DejaVuSans-51\"/>\n       </defs>\n       <use xlink:href=\"#DejaVuSans-51\"/>\n       <use x=\"63.623047\" xlink:href=\"#DejaVuSans-48\"/>\n       <use x=\"127.246094\" xlink:href=\"#DejaVuSans-48\"/>\n      </g>\n     </g>\n    </g>\n    <g id=\"xtick_5\">\n     <g id=\"line2d_5\">\n      <g>\n       <use style=\"stroke:#000000;stroke-width:0.8;\" x=\"178.816778\" xlink:href=\"#m50aa11e65c\" y=\"146.717534\"/>\n      </g>\n     </g>\n     <g id=\"text_5\">\n      <!-- 400 -->\n      <g transform=\"translate(169.273028 161.315972)scale(0.1 -0.1)\">\n       <defs>\n        <path d=\"M 37.796875 64.3125 \nL 12.890625 25.390625 \nL 37.796875 25.390625 \nz\nM 35.203125 72.90625 \nL 47.609375 72.90625 \nL 47.609375 25.390625 \nL 58.015625 25.390625 \nL 58.015625 17.1875 \nL 47.609375 17.1875 \nL 47.609375 0 \nL 37.796875 0 \nL 37.796875 17.1875 \nL 4.890625 17.1875 \nL 4.890625 26.703125 \nz\n\" id=\"DejaVuSans-52\"/>\n       </defs>\n       <use xlink:href=\"#DejaVuSans-52\"/>\n       <use x=\"63.623047\" xlink:href=\"#DejaVuSans-48\"/>\n       <use x=\"127.246094\" xlink:href=\"#DejaVuSans-48\"/>\n      </g>\n     </g>\n    </g>\n   </g>\n   <g id=\"matplotlib.axis_2\">\n    <g id=\"ytick_1\">\n     <g id=\"line2d_6\">\n      <defs>\n       <path d=\"M 0 0 \nL -3.5 0 \n\" id=\"m40f7416885\" style=\"stroke:#000000;stroke-width:0.8;\"/>\n      </defs>\n      <g>\n       <use style=\"stroke:#000000;stroke-width:0.8;\" x=\"33.2875\" xlink:href=\"#m40f7416885\" y=\"10.999219\"/>\n      </g>\n     </g>\n     <g id=\"text_6\">\n      <!-- 0 -->\n      <g transform=\"translate(19.925 14.798437)scale(0.1 -0.1)\">\n       <use xlink:href=\"#DejaVuSans-48\"/>\n      </g>\n     </g>\n    </g>\n    <g id=\"ytick_2\">\n     <g id=\"line2d_7\">\n      <g>\n       <use style=\"stroke:#000000;stroke-width:0.8;\" x=\"33.2875\" xlink:href=\"#m40f7416885\" y=\"47.336117\"/>\n      </g>\n     </g>\n     <g id=\"text_7\">\n      <!-- 100 -->\n      <g transform=\"translate(7.2 51.135336)scale(0.1 -0.1)\">\n       <use xlink:href=\"#DejaVuSans-49\"/>\n       <use x=\"63.623047\" xlink:href=\"#DejaVuSans-48\"/>\n       <use x=\"127.246094\" xlink:href=\"#DejaVuSans-48\"/>\n      </g>\n     </g>\n    </g>\n    <g id=\"ytick_3\">\n     <g id=\"line2d_8\">\n      <g>\n       <use style=\"stroke:#000000;stroke-width:0.8;\" x=\"33.2875\" xlink:href=\"#m40f7416885\" y=\"83.673016\"/>\n      </g>\n     </g>\n     <g id=\"text_8\">\n      <!-- 200 -->\n      <g transform=\"translate(7.2 87.472234)scale(0.1 -0.1)\">\n       <use xlink:href=\"#DejaVuSans-50\"/>\n       <use x=\"63.623047\" xlink:href=\"#DejaVuSans-48\"/>\n       <use x=\"127.246094\" xlink:href=\"#DejaVuSans-48\"/>\n      </g>\n     </g>\n    </g>\n    <g id=\"ytick_4\">\n     <g id=\"line2d_9\">\n      <g>\n       <use style=\"stroke:#000000;stroke-width:0.8;\" x=\"33.2875\" xlink:href=\"#m40f7416885\" y=\"120.009914\"/>\n      </g>\n     </g>\n     <g id=\"text_9\">\n      <!-- 300 -->\n      <g transform=\"translate(7.2 123.809133)scale(0.1 -0.1)\">\n       <use xlink:href=\"#DejaVuSans-51\"/>\n       <use x=\"63.623047\" xlink:href=\"#DejaVuSans-48\"/>\n       <use x=\"127.246094\" xlink:href=\"#DejaVuSans-48\"/>\n      </g>\n     </g>\n    </g>\n   </g>\n   <g id=\"patch_8\">\n    <path d=\"M 33.2875 146.717534 \nL 33.2875 10.817534 \n\" style=\"fill:none;stroke:#000000;stroke-linecap:square;stroke-linejoin:miter;stroke-width:0.8;\"/>\n   </g>\n   <g id=\"patch_9\">\n    <path d=\"M 214.971992 146.717534 \nL 214.971992 10.817534 \n\" style=\"fill:none;stroke:#000000;stroke-linecap:square;stroke-linejoin:miter;stroke-width:0.8;\"/>\n   </g>\n   <g id=\"patch_10\">\n    <path d=\"M 33.2875 146.717534 \nL 214.971992 146.717534 \n\" style=\"fill:none;stroke:#000000;stroke-linecap:square;stroke-linejoin:miter;stroke-width:0.8;\"/>\n   </g>\n   <g id=\"patch_11\">\n    <path d=\"M 33.2875 10.817534 \nL 214.971992 10.817534 \n\" style=\"fill:none;stroke:#000000;stroke-linecap:square;stroke-linejoin:miter;stroke-width:0.8;\"/>\n   </g>\n   <g id=\"text_10\">\n    <g id=\"patch_12\">\n     <path d=\"M 42.091795 59.375805 \nL 104.969451 59.375805 \nL 104.969451 42.745493 \nL 42.091795 42.745493 \nz\n\" style=\"fill:#0000ff;\"/>\n    </g>\n    <!-- s=0.75, r=1 -->\n    <g style=\"fill:#ffffff;\" transform=\"translate(46.051795 53.544087)scale(0.09 -0.09)\">\n     <defs>\n      <path d=\"M 44.28125 53.078125 \nL 44.28125 44.578125 \nQ 40.484375 46.53125 36.375 47.5 \nQ 32.28125 48.484375 27.875 48.484375 \nQ 21.1875 48.484375 17.84375 46.4375 \nQ 14.5 44.390625 14.5 40.28125 \nQ 14.5 37.15625 16.890625 35.375 \nQ 19.28125 33.59375 26.515625 31.984375 \nL 29.59375 31.296875 \nQ 39.15625 29.25 43.1875 25.515625 \nQ 47.21875 21.78125 47.21875 15.09375 \nQ 47.21875 7.46875 41.1875 3.015625 \nQ 35.15625 -1.421875 24.609375 -1.421875 \nQ 20.21875 -1.421875 15.453125 -0.5625 \nQ 10.6875 0.296875 5.421875 2 \nL 5.421875 11.28125 \nQ 10.40625 8.6875 15.234375 7.390625 \nQ 20.0625 6.109375 24.8125 6.109375 \nQ 31.15625 6.109375 34.5625 8.28125 \nQ 37.984375 10.453125 37.984375 14.40625 \nQ 37.984375 18.0625 35.515625 20.015625 \nQ 33.0625 21.96875 24.703125 23.78125 \nL 21.578125 24.515625 \nQ 13.234375 26.265625 9.515625 29.90625 \nQ 5.8125 33.546875 5.8125 39.890625 \nQ 5.8125 47.609375 11.28125 51.796875 \nQ 16.75 56 26.8125 56 \nQ 31.78125 56 36.171875 55.265625 \nQ 40.578125 54.546875 44.28125 53.078125 \nz\n\" id=\"DejaVuSans-115\"/>\n      <path d=\"M 10.59375 45.40625 \nL 73.1875 45.40625 \nL 73.1875 37.203125 \nL 10.59375 37.203125 \nz\nM 10.59375 25.484375 \nL 73.1875 25.484375 \nL 73.1875 17.1875 \nL 10.59375 17.1875 \nz\n\" id=\"DejaVuSans-61\"/>\n      <path d=\"M 10.6875 12.40625 \nL 21 12.40625 \nL 21 0 \nL 10.6875 0 \nz\n\" id=\"DejaVuSans-46\"/>\n      <path d=\"M 8.203125 72.90625 \nL 55.078125 72.90625 \nL 55.078125 68.703125 \nL 28.609375 0 \nL 18.3125 0 \nL 43.21875 64.59375 \nL 8.203125 64.59375 \nz\n\" id=\"DejaVuSans-55\"/>\n      <path d=\"M 10.796875 72.90625 \nL 49.515625 72.90625 \nL 49.515625 64.59375 \nL 19.828125 64.59375 \nL 19.828125 46.734375 \nQ 21.96875 47.46875 24.109375 47.828125 \nQ 26.265625 48.1875 28.421875 48.1875 \nQ 40.625 48.1875 47.75 41.5 \nQ 54.890625 34.8125 54.890625 23.390625 \nQ 54.890625 11.625 47.5625 5.09375 \nQ 40.234375 -1.421875 26.90625 -1.421875 \nQ 22.3125 -1.421875 17.546875 -0.640625 \nQ 12.796875 0.140625 7.71875 1.703125 \nL 7.71875 11.625 \nQ 12.109375 9.234375 16.796875 8.0625 \nQ 21.484375 6.890625 26.703125 6.890625 \nQ 35.15625 6.890625 40.078125 11.328125 \nQ 45.015625 15.765625 45.015625 23.390625 \nQ 45.015625 31 40.078125 35.4375 \nQ 35.15625 39.890625 26.703125 39.890625 \nQ 22.75 39.890625 18.8125 39.015625 \nQ 14.890625 38.140625 10.796875 36.28125 \nz\n\" id=\"DejaVuSans-53\"/>\n      <path d=\"M 11.71875 12.40625 \nL 22.015625 12.40625 \nL 22.015625 4 \nL 14.015625 -11.625 \nL 7.71875 -11.625 \nL 11.71875 4 \nz\n\" id=\"DejaVuSans-44\"/>\n      <path id=\"DejaVuSans-32\"/>\n      <path d=\"M 41.109375 46.296875 \nQ 39.59375 47.171875 37.8125 47.578125 \nQ 36.03125 48 33.890625 48 \nQ 26.265625 48 22.1875 43.046875 \nQ 18.109375 38.09375 18.109375 28.8125 \nL 18.109375 0 \nL 9.078125 0 \nL 9.078125 54.6875 \nL 18.109375 54.6875 \nL 18.109375 46.1875 \nQ 20.953125 51.171875 25.484375 53.578125 \nQ 30.03125 56 36.53125 56 \nQ 37.453125 56 38.578125 55.875 \nQ 39.703125 55.765625 41.0625 55.515625 \nz\n\" id=\"DejaVuSans-114\"/>\n     </defs>\n     <use xlink:href=\"#DejaVuSans-115\"/>\n     <use x=\"52.099609\" xlink:href=\"#DejaVuSans-61\"/>\n     <use x=\"135.888672\" xlink:href=\"#DejaVuSans-48\"/>\n     <use x=\"199.511719\" xlink:href=\"#DejaVuSans-46\"/>\n     <use x=\"231.298828\" xlink:href=\"#DejaVuSans-55\"/>\n     <use x=\"294.921875\" xlink:href=\"#DejaVuSans-53\"/>\n     <use x=\"358.544922\" xlink:href=\"#DejaVuSans-44\"/>\n     <use x=\"390.332031\" xlink:href=\"#DejaVuSans-32\"/>\n     <use x=\"422.119141\" xlink:href=\"#DejaVuSans-114\"/>\n     <use x=\"463.232422\" xlink:href=\"#DejaVuSans-61\"/>\n     <use x=\"547.021484\" xlink:href=\"#DejaVuSans-49\"/>\n    </g>\n   </g>\n   <g id=\"text_11\">\n    <g id=\"patch_13\">\n     <path d=\"M 61.942417 76.363305 \nL 119.093824 76.363305 \nL 119.093824 59.732993 \nL 61.942417 59.732993 \nz\n\" style=\"fill:#008000;\"/>\n    </g>\n    <!-- s=0.5, r=1 -->\n    <g style=\"fill:#ffffff;\" transform=\"translate(65.902417 70.531587)scale(0.09 -0.09)\">\n     <use xlink:href=\"#DejaVuSans-115\"/>\n     <use x=\"52.099609\" xlink:href=\"#DejaVuSans-61\"/>\n     <use x=\"135.888672\" xlink:href=\"#DejaVuSans-48\"/>\n     <use x=\"199.511719\" xlink:href=\"#DejaVuSans-46\"/>\n     <use x=\"231.298828\" xlink:href=\"#DejaVuSans-53\"/>\n     <use x=\"294.921875\" xlink:href=\"#DejaVuSans-44\"/>\n     <use x=\"326.708984\" xlink:href=\"#DejaVuSans-32\"/>\n     <use x=\"358.496094\" xlink:href=\"#DejaVuSans-114\"/>\n     <use x=\"399.609375\" xlink:href=\"#DejaVuSans-61\"/>\n     <use x=\"483.398438\" xlink:href=\"#DejaVuSans-49\"/>\n    </g>\n   </g>\n   <g id=\"text_12\">\n    <g id=\"patch_14\">\n     <path d=\"M 76.066792 93.350805 \nL 138.944449 93.350805 \nL 138.944449 76.720493 \nL 76.066792 76.720493 \nz\n\" style=\"fill:#ff0000;\"/>\n    </g>\n    <!-- s=0.25, r=1 -->\n    <g style=\"fill:#ffffff;\" transform=\"translate(80.026792 87.519087)scale(0.09 -0.09)\">\n     <use xlink:href=\"#DejaVuSans-115\"/>\n     <use x=\"52.099609\" xlink:href=\"#DejaVuSans-61\"/>\n     <use x=\"135.888672\" xlink:href=\"#DejaVuSans-48\"/>\n     <use x=\"199.511719\" xlink:href=\"#DejaVuSans-46\"/>\n     <use x=\"231.298828\" xlink:href=\"#DejaVuSans-50\"/>\n     <use x=\"294.921875\" xlink:href=\"#DejaVuSans-53\"/>\n     <use x=\"358.544922\" xlink:href=\"#DejaVuSans-44\"/>\n     <use x=\"390.332031\" xlink:href=\"#DejaVuSans-32\"/>\n     <use x=\"422.119141\" xlink:href=\"#DejaVuSans-114\"/>\n     <use x=\"463.232422\" xlink:href=\"#DejaVuSans-61\"/>\n     <use x=\"547.021484\" xlink:href=\"#DejaVuSans-49\"/>\n    </g>\n   </g>\n   <g id=\"text_13\">\n    <g id=\"patch_15\">\n     <path d=\"M 20.982441 74.302377 \nL 83.860097 74.302377 \nL 83.860097 57.672065 \nL 20.982441 57.672065 \nz\n\" style=\"fill:#bf00bf;\"/>\n    </g>\n    <!-- s=0.75, r=2 -->\n    <g style=\"fill:#ffffff;\" transform=\"translate(24.942441 68.470659)scale(0.09 -0.09)\">\n     <use xlink:href=\"#DejaVuSans-115\"/>\n     <use x=\"52.099609\" xlink:href=\"#DejaVuSans-61\"/>\n     <use x=\"135.888672\" xlink:href=\"#DejaVuSans-48\"/>\n     <use x=\"199.511719\" xlink:href=\"#DejaVuSans-46\"/>\n     <use x=\"231.298828\" xlink:href=\"#DejaVuSans-55\"/>\n     <use x=\"294.921875\" xlink:href=\"#DejaVuSans-53\"/>\n     <use x=\"358.544922\" xlink:href=\"#DejaVuSans-44\"/>\n     <use x=\"390.332031\" xlink:href=\"#DejaVuSans-32\"/>\n     <use x=\"422.119141\" xlink:href=\"#DejaVuSans-114\"/>\n     <use x=\"463.232422\" xlink:href=\"#DejaVuSans-61\"/>\n     <use x=\"547.021484\" xlink:href=\"#DejaVuSans-50\"/>\n    </g>\n   </g>\n   <g id=\"text_14\">\n    <g id=\"patch_16\">\n     <path d=\"M 52.725083 38.266449 \nL 124.189302 38.266449 \nL 124.189302 21.636137 \nL 52.725083 21.636137 \nz\n\" style=\"fill:#00bfbf;\"/>\n    </g>\n    <!-- s=0.75, r=0.5 -->\n    <g style=\"fill:#ffffff;\" transform=\"translate(56.685083 32.434731)scale(0.09 -0.09)\">\n     <use xlink:href=\"#DejaVuSans-115\"/>\n     <use x=\"52.099609\" xlink:href=\"#DejaVuSans-61\"/>\n     <use x=\"135.888672\" xlink:href=\"#DejaVuSans-48\"/>\n     <use x=\"199.511719\" xlink:href=\"#DejaVuSans-46\"/>\n     <use x=\"231.298828\" xlink:href=\"#DejaVuSans-55\"/>\n     <use x=\"294.921875\" xlink:href=\"#DejaVuSans-53\"/>\n     <use x=\"358.544922\" xlink:href=\"#DejaVuSans-44\"/>\n     <use x=\"390.332031\" xlink:href=\"#DejaVuSans-32\"/>\n     <use x=\"422.119141\" xlink:href=\"#DejaVuSans-114\"/>\n     <use x=\"463.232422\" xlink:href=\"#DejaVuSans-61\"/>\n     <use x=\"547.021484\" xlink:href=\"#DejaVuSans-48\"/>\n     <use x=\"610.644531\" xlink:href=\"#DejaVuSans-46\"/>\n     <use x=\"642.431641\" xlink:href=\"#DejaVuSans-53\"/>\n    </g>\n   </g>\n  </g>\n </g>\n <defs>\n  <clipPath id=\"p14c66d308b\">\n   <rect height=\"135.9\" width=\"181.684492\" x=\"33.2875\" y=\"10.817534\"/>\n  </clipPath>\n </defs>\n</svg>\n"
          },
          "metadata": {
            "needs_background": "light"
          }
        }
      ]
    },
    {
      "cell_type": "markdown",
      "source": [
        "# Câu 9"
      ],
      "metadata": {
        "id": "JlpM13YESIqB"
      }
    },
    {
      "cell_type": "code",
      "source": [
        "import pandas as pd\n",
        "df_train = pd.read_csv('/content/drive/MyDrive/Colab Notebooks/7.Two Stage Object Detection/train.csv')\n",
        "df_train"
      ],
      "metadata": {
        "colab": {
          "base_uri": "https://localhost:8080/",
          "height": 424
        },
        "id": "LQEe8ysQX9vN",
        "outputId": "1f541919-5ccc-4173-cdf7-8f730d185e52"
      },
      "execution_count": null,
      "outputs": [
        {
          "output_type": "execute_result",
          "data": {
            "text/plain": [
              "                               image_id          class_name  class_id rad_id  \\\n",
              "0      50a418190bc3fb1ef1633bf9678929b3          No finding        14    R11   \n",
              "1      21a10246a5ec7af151081d0cd6d65dc9          No finding        14     R7   \n",
              "2      9a5094b2563a1ef3ff50dc5c7ff71345        Cardiomegaly         3    R10   \n",
              "3      051132a778e61a86eb147c7c6f564dfe  Aortic enlargement         0    R10   \n",
              "4      063319de25ce7edb9b1c6b8881290140          No finding        14    R10   \n",
              "...                                 ...                 ...       ...    ...   \n",
              "67909  936fd5cff1c058d39817a08f58b72cae          No finding        14     R1   \n",
              "67910  ca7e72954550eeb610fe22bf0244b7fa          No finding        14     R1   \n",
              "67911  aa17d5312a0fb4a2939436abca7f9579          No finding        14     R8   \n",
              "67912  4b56bc6d22b192f075f13231419dfcc8        Cardiomegaly         3     R8   \n",
              "67913  5e272e3adbdaafb07a7e84a9e62b1a4c          No finding        14    R16   \n",
              "\n",
              "        x_min   y_min   x_max   y_max  \n",
              "0         NaN     NaN     NaN     NaN  \n",
              "1         NaN     NaN     NaN     NaN  \n",
              "2       691.0  1375.0  1653.0  1831.0  \n",
              "3      1264.0   743.0  1611.0  1019.0  \n",
              "4         NaN     NaN     NaN     NaN  \n",
              "...       ...     ...     ...     ...  \n",
              "67909     NaN     NaN     NaN     NaN  \n",
              "67910     NaN     NaN     NaN     NaN  \n",
              "67911     NaN     NaN     NaN     NaN  \n",
              "67912   771.0   979.0  1680.0  1311.0  \n",
              "67913     NaN     NaN     NaN     NaN  \n",
              "\n",
              "[67914 rows x 8 columns]"
            ],
            "text/html": [
              "\n",
              "  <div id=\"df-ba844f76-772d-4ee3-92c1-af22bb6849b0\">\n",
              "    <div class=\"colab-df-container\">\n",
              "      <div>\n",
              "<style scoped>\n",
              "    .dataframe tbody tr th:only-of-type {\n",
              "        vertical-align: middle;\n",
              "    }\n",
              "\n",
              "    .dataframe tbody tr th {\n",
              "        vertical-align: top;\n",
              "    }\n",
              "\n",
              "    .dataframe thead th {\n",
              "        text-align: right;\n",
              "    }\n",
              "</style>\n",
              "<table border=\"1\" class=\"dataframe\">\n",
              "  <thead>\n",
              "    <tr style=\"text-align: right;\">\n",
              "      <th></th>\n",
              "      <th>image_id</th>\n",
              "      <th>class_name</th>\n",
              "      <th>class_id</th>\n",
              "      <th>rad_id</th>\n",
              "      <th>x_min</th>\n",
              "      <th>y_min</th>\n",
              "      <th>x_max</th>\n",
              "      <th>y_max</th>\n",
              "    </tr>\n",
              "  </thead>\n",
              "  <tbody>\n",
              "    <tr>\n",
              "      <th>0</th>\n",
              "      <td>50a418190bc3fb1ef1633bf9678929b3</td>\n",
              "      <td>No finding</td>\n",
              "      <td>14</td>\n",
              "      <td>R11</td>\n",
              "      <td>NaN</td>\n",
              "      <td>NaN</td>\n",
              "      <td>NaN</td>\n",
              "      <td>NaN</td>\n",
              "    </tr>\n",
              "    <tr>\n",
              "      <th>1</th>\n",
              "      <td>21a10246a5ec7af151081d0cd6d65dc9</td>\n",
              "      <td>No finding</td>\n",
              "      <td>14</td>\n",
              "      <td>R7</td>\n",
              "      <td>NaN</td>\n",
              "      <td>NaN</td>\n",
              "      <td>NaN</td>\n",
              "      <td>NaN</td>\n",
              "    </tr>\n",
              "    <tr>\n",
              "      <th>2</th>\n",
              "      <td>9a5094b2563a1ef3ff50dc5c7ff71345</td>\n",
              "      <td>Cardiomegaly</td>\n",
              "      <td>3</td>\n",
              "      <td>R10</td>\n",
              "      <td>691.0</td>\n",
              "      <td>1375.0</td>\n",
              "      <td>1653.0</td>\n",
              "      <td>1831.0</td>\n",
              "    </tr>\n",
              "    <tr>\n",
              "      <th>3</th>\n",
              "      <td>051132a778e61a86eb147c7c6f564dfe</td>\n",
              "      <td>Aortic enlargement</td>\n",
              "      <td>0</td>\n",
              "      <td>R10</td>\n",
              "      <td>1264.0</td>\n",
              "      <td>743.0</td>\n",
              "      <td>1611.0</td>\n",
              "      <td>1019.0</td>\n",
              "    </tr>\n",
              "    <tr>\n",
              "      <th>4</th>\n",
              "      <td>063319de25ce7edb9b1c6b8881290140</td>\n",
              "      <td>No finding</td>\n",
              "      <td>14</td>\n",
              "      <td>R10</td>\n",
              "      <td>NaN</td>\n",
              "      <td>NaN</td>\n",
              "      <td>NaN</td>\n",
              "      <td>NaN</td>\n",
              "    </tr>\n",
              "    <tr>\n",
              "      <th>...</th>\n",
              "      <td>...</td>\n",
              "      <td>...</td>\n",
              "      <td>...</td>\n",
              "      <td>...</td>\n",
              "      <td>...</td>\n",
              "      <td>...</td>\n",
              "      <td>...</td>\n",
              "      <td>...</td>\n",
              "    </tr>\n",
              "    <tr>\n",
              "      <th>67909</th>\n",
              "      <td>936fd5cff1c058d39817a08f58b72cae</td>\n",
              "      <td>No finding</td>\n",
              "      <td>14</td>\n",
              "      <td>R1</td>\n",
              "      <td>NaN</td>\n",
              "      <td>NaN</td>\n",
              "      <td>NaN</td>\n",
              "      <td>NaN</td>\n",
              "    </tr>\n",
              "    <tr>\n",
              "      <th>67910</th>\n",
              "      <td>ca7e72954550eeb610fe22bf0244b7fa</td>\n",
              "      <td>No finding</td>\n",
              "      <td>14</td>\n",
              "      <td>R1</td>\n",
              "      <td>NaN</td>\n",
              "      <td>NaN</td>\n",
              "      <td>NaN</td>\n",
              "      <td>NaN</td>\n",
              "    </tr>\n",
              "    <tr>\n",
              "      <th>67911</th>\n",
              "      <td>aa17d5312a0fb4a2939436abca7f9579</td>\n",
              "      <td>No finding</td>\n",
              "      <td>14</td>\n",
              "      <td>R8</td>\n",
              "      <td>NaN</td>\n",
              "      <td>NaN</td>\n",
              "      <td>NaN</td>\n",
              "      <td>NaN</td>\n",
              "    </tr>\n",
              "    <tr>\n",
              "      <th>67912</th>\n",
              "      <td>4b56bc6d22b192f075f13231419dfcc8</td>\n",
              "      <td>Cardiomegaly</td>\n",
              "      <td>3</td>\n",
              "      <td>R8</td>\n",
              "      <td>771.0</td>\n",
              "      <td>979.0</td>\n",
              "      <td>1680.0</td>\n",
              "      <td>1311.0</td>\n",
              "    </tr>\n",
              "    <tr>\n",
              "      <th>67913</th>\n",
              "      <td>5e272e3adbdaafb07a7e84a9e62b1a4c</td>\n",
              "      <td>No finding</td>\n",
              "      <td>14</td>\n",
              "      <td>R16</td>\n",
              "      <td>NaN</td>\n",
              "      <td>NaN</td>\n",
              "      <td>NaN</td>\n",
              "      <td>NaN</td>\n",
              "    </tr>\n",
              "  </tbody>\n",
              "</table>\n",
              "<p>67914 rows × 8 columns</p>\n",
              "</div>\n",
              "      <button class=\"colab-df-convert\" onclick=\"convertToInteractive('df-ba844f76-772d-4ee3-92c1-af22bb6849b0')\"\n",
              "              title=\"Convert this dataframe to an interactive table.\"\n",
              "              style=\"display:none;\">\n",
              "        \n",
              "  <svg xmlns=\"http://www.w3.org/2000/svg\" height=\"24px\"viewBox=\"0 0 24 24\"\n",
              "       width=\"24px\">\n",
              "    <path d=\"M0 0h24v24H0V0z\" fill=\"none\"/>\n",
              "    <path d=\"M18.56 5.44l.94 2.06.94-2.06 2.06-.94-2.06-.94-.94-2.06-.94 2.06-2.06.94zm-11 1L8.5 8.5l.94-2.06 2.06-.94-2.06-.94L8.5 2.5l-.94 2.06-2.06.94zm10 10l.94 2.06.94-2.06 2.06-.94-2.06-.94-.94-2.06-.94 2.06-2.06.94z\"/><path d=\"M17.41 7.96l-1.37-1.37c-.4-.4-.92-.59-1.43-.59-.52 0-1.04.2-1.43.59L10.3 9.45l-7.72 7.72c-.78.78-.78 2.05 0 2.83L4 21.41c.39.39.9.59 1.41.59.51 0 1.02-.2 1.41-.59l7.78-7.78 2.81-2.81c.8-.78.8-2.07 0-2.86zM5.41 20L4 18.59l7.72-7.72 1.47 1.35L5.41 20z\"/>\n",
              "  </svg>\n",
              "      </button>\n",
              "      \n",
              "  <style>\n",
              "    .colab-df-container {\n",
              "      display:flex;\n",
              "      flex-wrap:wrap;\n",
              "      gap: 12px;\n",
              "    }\n",
              "\n",
              "    .colab-df-convert {\n",
              "      background-color: #E8F0FE;\n",
              "      border: none;\n",
              "      border-radius: 50%;\n",
              "      cursor: pointer;\n",
              "      display: none;\n",
              "      fill: #1967D2;\n",
              "      height: 32px;\n",
              "      padding: 0 0 0 0;\n",
              "      width: 32px;\n",
              "    }\n",
              "\n",
              "    .colab-df-convert:hover {\n",
              "      background-color: #E2EBFA;\n",
              "      box-shadow: 0px 1px 2px rgba(60, 64, 67, 0.3), 0px 1px 3px 1px rgba(60, 64, 67, 0.15);\n",
              "      fill: #174EA6;\n",
              "    }\n",
              "\n",
              "    [theme=dark] .colab-df-convert {\n",
              "      background-color: #3B4455;\n",
              "      fill: #D2E3FC;\n",
              "    }\n",
              "\n",
              "    [theme=dark] .colab-df-convert:hover {\n",
              "      background-color: #434B5C;\n",
              "      box-shadow: 0px 1px 3px 1px rgba(0, 0, 0, 0.15);\n",
              "      filter: drop-shadow(0px 1px 2px rgba(0, 0, 0, 0.3));\n",
              "      fill: #FFFFFF;\n",
              "    }\n",
              "  </style>\n",
              "\n",
              "      <script>\n",
              "        const buttonEl =\n",
              "          document.querySelector('#df-ba844f76-772d-4ee3-92c1-af22bb6849b0 button.colab-df-convert');\n",
              "        buttonEl.style.display =\n",
              "          google.colab.kernel.accessAllowed ? 'block' : 'none';\n",
              "\n",
              "        async function convertToInteractive(key) {\n",
              "          const element = document.querySelector('#df-ba844f76-772d-4ee3-92c1-af22bb6849b0');\n",
              "          const dataTable =\n",
              "            await google.colab.kernel.invokeFunction('convertToInteractive',\n",
              "                                                     [key], {});\n",
              "          if (!dataTable) return;\n",
              "\n",
              "          const docLinkHtml = 'Like what you see? Visit the ' +\n",
              "            '<a target=\"_blank\" href=https://colab.research.google.com/notebooks/data_table.ipynb>data table notebook</a>'\n",
              "            + ' to learn more about interactive tables.';\n",
              "          element.innerHTML = '';\n",
              "          dataTable['output_type'] = 'display_data';\n",
              "          await google.colab.output.renderOutput(dataTable, element);\n",
              "          const docLink = document.createElement('div');\n",
              "          docLink.innerHTML = docLinkHtml;\n",
              "          element.appendChild(docLink);\n",
              "        }\n",
              "      </script>\n",
              "    </div>\n",
              "  </div>\n",
              "  "
            ]
          },
          "metadata": {},
          "execution_count": 31
        }
      ]
    },
    {
      "cell_type": "code",
      "source": [
        "import numpy as np\n",
        "import json\n",
        "\n",
        "save_json_path = 'traincoco.json'\n",
        "\n",
        "images = []\n",
        "categories = []\n",
        "annotations = []\n",
        "\n",
        "# category = {}\n",
        "# category['supercategory'] = 'None'\n",
        "# category['id'] = 0\n",
        "# category['name'] = 'None'\n",
        "# categories.append(category)\n",
        "\n",
        "df_train.fillna(0, inplace=True)\n",
        "\n",
        "df_train['file_id'] = df_train['image_id'].astype('category').cat.codes\n",
        "df_train['category_id'] = pd.Categorical(df_train['class_name'], ordered= True).codes + 1\n",
        "df_train['annid'] = df_train.index\n",
        "df_train"
      ],
      "metadata": {
        "colab": {
          "base_uri": "https://localhost:8080/",
          "height": 505
        },
        "id": "YB9fUBzwZgTF",
        "outputId": "5197503d-3bf8-4631-994e-51ba92ab8c64"
      },
      "execution_count": null,
      "outputs": [
        {
          "output_type": "execute_result",
          "data": {
            "text/plain": [
              "                               image_id          class_name  class_id rad_id  \\\n",
              "0      50a418190bc3fb1ef1633bf9678929b3          No finding        14    R11   \n",
              "1      21a10246a5ec7af151081d0cd6d65dc9          No finding        14     R7   \n",
              "2      9a5094b2563a1ef3ff50dc5c7ff71345        Cardiomegaly         3    R10   \n",
              "3      051132a778e61a86eb147c7c6f564dfe  Aortic enlargement         0    R10   \n",
              "4      063319de25ce7edb9b1c6b8881290140          No finding        14    R10   \n",
              "...                                 ...                 ...       ...    ...   \n",
              "67909  936fd5cff1c058d39817a08f58b72cae          No finding        14     R1   \n",
              "67910  ca7e72954550eeb610fe22bf0244b7fa          No finding        14     R1   \n",
              "67911  aa17d5312a0fb4a2939436abca7f9579          No finding        14     R8   \n",
              "67912  4b56bc6d22b192f075f13231419dfcc8        Cardiomegaly         3     R8   \n",
              "67913  5e272e3adbdaafb07a7e84a9e62b1a4c          No finding        14    R16   \n",
              "\n",
              "        x_min   y_min   x_max   y_max  file_id  category_id  annid  \n",
              "0         0.0     0.0     0.0     0.0     4691            9      0  \n",
              "1         0.0     0.0     0.0     0.0     1914            9      1  \n",
              "2       691.0  1375.0  1653.0  1831.0     9077            4      2  \n",
              "3      1264.0   743.0  1611.0  1019.0      294            1      3  \n",
              "4         0.0     0.0     0.0     0.0      360            9      4  \n",
              "...       ...     ...     ...     ...      ...          ...    ...  \n",
              "67909     0.0     0.0     0.0     0.0     8675            9  67909  \n",
              "67910     0.0     0.0     0.0     0.0    11923            9  67910  \n",
              "67911     0.0     0.0     0.0     0.0    10013            9  67911  \n",
              "67912   771.0   979.0  1680.0  1311.0     4379            4  67912  \n",
              "67913     0.0     0.0     0.0     0.0     5493            9  67913  \n",
              "\n",
              "[67914 rows x 11 columns]"
            ],
            "text/html": [
              "\n",
              "  <div id=\"df-22e1320d-ee5a-43aa-97d5-9828b210784a\">\n",
              "    <div class=\"colab-df-container\">\n",
              "      <div>\n",
              "<style scoped>\n",
              "    .dataframe tbody tr th:only-of-type {\n",
              "        vertical-align: middle;\n",
              "    }\n",
              "\n",
              "    .dataframe tbody tr th {\n",
              "        vertical-align: top;\n",
              "    }\n",
              "\n",
              "    .dataframe thead th {\n",
              "        text-align: right;\n",
              "    }\n",
              "</style>\n",
              "<table border=\"1\" class=\"dataframe\">\n",
              "  <thead>\n",
              "    <tr style=\"text-align: right;\">\n",
              "      <th></th>\n",
              "      <th>image_id</th>\n",
              "      <th>class_name</th>\n",
              "      <th>class_id</th>\n",
              "      <th>rad_id</th>\n",
              "      <th>x_min</th>\n",
              "      <th>y_min</th>\n",
              "      <th>x_max</th>\n",
              "      <th>y_max</th>\n",
              "      <th>file_id</th>\n",
              "      <th>category_id</th>\n",
              "      <th>annid</th>\n",
              "    </tr>\n",
              "  </thead>\n",
              "  <tbody>\n",
              "    <tr>\n",
              "      <th>0</th>\n",
              "      <td>50a418190bc3fb1ef1633bf9678929b3</td>\n",
              "      <td>No finding</td>\n",
              "      <td>14</td>\n",
              "      <td>R11</td>\n",
              "      <td>0.0</td>\n",
              "      <td>0.0</td>\n",
              "      <td>0.0</td>\n",
              "      <td>0.0</td>\n",
              "      <td>4691</td>\n",
              "      <td>9</td>\n",
              "      <td>0</td>\n",
              "    </tr>\n",
              "    <tr>\n",
              "      <th>1</th>\n",
              "      <td>21a10246a5ec7af151081d0cd6d65dc9</td>\n",
              "      <td>No finding</td>\n",
              "      <td>14</td>\n",
              "      <td>R7</td>\n",
              "      <td>0.0</td>\n",
              "      <td>0.0</td>\n",
              "      <td>0.0</td>\n",
              "      <td>0.0</td>\n",
              "      <td>1914</td>\n",
              "      <td>9</td>\n",
              "      <td>1</td>\n",
              "    </tr>\n",
              "    <tr>\n",
              "      <th>2</th>\n",
              "      <td>9a5094b2563a1ef3ff50dc5c7ff71345</td>\n",
              "      <td>Cardiomegaly</td>\n",
              "      <td>3</td>\n",
              "      <td>R10</td>\n",
              "      <td>691.0</td>\n",
              "      <td>1375.0</td>\n",
              "      <td>1653.0</td>\n",
              "      <td>1831.0</td>\n",
              "      <td>9077</td>\n",
              "      <td>4</td>\n",
              "      <td>2</td>\n",
              "    </tr>\n",
              "    <tr>\n",
              "      <th>3</th>\n",
              "      <td>051132a778e61a86eb147c7c6f564dfe</td>\n",
              "      <td>Aortic enlargement</td>\n",
              "      <td>0</td>\n",
              "      <td>R10</td>\n",
              "      <td>1264.0</td>\n",
              "      <td>743.0</td>\n",
              "      <td>1611.0</td>\n",
              "      <td>1019.0</td>\n",
              "      <td>294</td>\n",
              "      <td>1</td>\n",
              "      <td>3</td>\n",
              "    </tr>\n",
              "    <tr>\n",
              "      <th>4</th>\n",
              "      <td>063319de25ce7edb9b1c6b8881290140</td>\n",
              "      <td>No finding</td>\n",
              "      <td>14</td>\n",
              "      <td>R10</td>\n",
              "      <td>0.0</td>\n",
              "      <td>0.0</td>\n",
              "      <td>0.0</td>\n",
              "      <td>0.0</td>\n",
              "      <td>360</td>\n",
              "      <td>9</td>\n",
              "      <td>4</td>\n",
              "    </tr>\n",
              "    <tr>\n",
              "      <th>...</th>\n",
              "      <td>...</td>\n",
              "      <td>...</td>\n",
              "      <td>...</td>\n",
              "      <td>...</td>\n",
              "      <td>...</td>\n",
              "      <td>...</td>\n",
              "      <td>...</td>\n",
              "      <td>...</td>\n",
              "      <td>...</td>\n",
              "      <td>...</td>\n",
              "      <td>...</td>\n",
              "    </tr>\n",
              "    <tr>\n",
              "      <th>67909</th>\n",
              "      <td>936fd5cff1c058d39817a08f58b72cae</td>\n",
              "      <td>No finding</td>\n",
              "      <td>14</td>\n",
              "      <td>R1</td>\n",
              "      <td>0.0</td>\n",
              "      <td>0.0</td>\n",
              "      <td>0.0</td>\n",
              "      <td>0.0</td>\n",
              "      <td>8675</td>\n",
              "      <td>9</td>\n",
              "      <td>67909</td>\n",
              "    </tr>\n",
              "    <tr>\n",
              "      <th>67910</th>\n",
              "      <td>ca7e72954550eeb610fe22bf0244b7fa</td>\n",
              "      <td>No finding</td>\n",
              "      <td>14</td>\n",
              "      <td>R1</td>\n",
              "      <td>0.0</td>\n",
              "      <td>0.0</td>\n",
              "      <td>0.0</td>\n",
              "      <td>0.0</td>\n",
              "      <td>11923</td>\n",
              "      <td>9</td>\n",
              "      <td>67910</td>\n",
              "    </tr>\n",
              "    <tr>\n",
              "      <th>67911</th>\n",
              "      <td>aa17d5312a0fb4a2939436abca7f9579</td>\n",
              "      <td>No finding</td>\n",
              "      <td>14</td>\n",
              "      <td>R8</td>\n",
              "      <td>0.0</td>\n",
              "      <td>0.0</td>\n",
              "      <td>0.0</td>\n",
              "      <td>0.0</td>\n",
              "      <td>10013</td>\n",
              "      <td>9</td>\n",
              "      <td>67911</td>\n",
              "    </tr>\n",
              "    <tr>\n",
              "      <th>67912</th>\n",
              "      <td>4b56bc6d22b192f075f13231419dfcc8</td>\n",
              "      <td>Cardiomegaly</td>\n",
              "      <td>3</td>\n",
              "      <td>R8</td>\n",
              "      <td>771.0</td>\n",
              "      <td>979.0</td>\n",
              "      <td>1680.0</td>\n",
              "      <td>1311.0</td>\n",
              "      <td>4379</td>\n",
              "      <td>4</td>\n",
              "      <td>67912</td>\n",
              "    </tr>\n",
              "    <tr>\n",
              "      <th>67913</th>\n",
              "      <td>5e272e3adbdaafb07a7e84a9e62b1a4c</td>\n",
              "      <td>No finding</td>\n",
              "      <td>14</td>\n",
              "      <td>R16</td>\n",
              "      <td>0.0</td>\n",
              "      <td>0.0</td>\n",
              "      <td>0.0</td>\n",
              "      <td>0.0</td>\n",
              "      <td>5493</td>\n",
              "      <td>9</td>\n",
              "      <td>67913</td>\n",
              "    </tr>\n",
              "  </tbody>\n",
              "</table>\n",
              "<p>67914 rows × 11 columns</p>\n",
              "</div>\n",
              "      <button class=\"colab-df-convert\" onclick=\"convertToInteractive('df-22e1320d-ee5a-43aa-97d5-9828b210784a')\"\n",
              "              title=\"Convert this dataframe to an interactive table.\"\n",
              "              style=\"display:none;\">\n",
              "        \n",
              "  <svg xmlns=\"http://www.w3.org/2000/svg\" height=\"24px\"viewBox=\"0 0 24 24\"\n",
              "       width=\"24px\">\n",
              "    <path d=\"M0 0h24v24H0V0z\" fill=\"none\"/>\n",
              "    <path d=\"M18.56 5.44l.94 2.06.94-2.06 2.06-.94-2.06-.94-.94-2.06-.94 2.06-2.06.94zm-11 1L8.5 8.5l.94-2.06 2.06-.94-2.06-.94L8.5 2.5l-.94 2.06-2.06.94zm10 10l.94 2.06.94-2.06 2.06-.94-2.06-.94-.94-2.06-.94 2.06-2.06.94z\"/><path d=\"M17.41 7.96l-1.37-1.37c-.4-.4-.92-.59-1.43-.59-.52 0-1.04.2-1.43.59L10.3 9.45l-7.72 7.72c-.78.78-.78 2.05 0 2.83L4 21.41c.39.39.9.59 1.41.59.51 0 1.02-.2 1.41-.59l7.78-7.78 2.81-2.81c.8-.78.8-2.07 0-2.86zM5.41 20L4 18.59l7.72-7.72 1.47 1.35L5.41 20z\"/>\n",
              "  </svg>\n",
              "      </button>\n",
              "      \n",
              "  <style>\n",
              "    .colab-df-container {\n",
              "      display:flex;\n",
              "      flex-wrap:wrap;\n",
              "      gap: 12px;\n",
              "    }\n",
              "\n",
              "    .colab-df-convert {\n",
              "      background-color: #E8F0FE;\n",
              "      border: none;\n",
              "      border-radius: 50%;\n",
              "      cursor: pointer;\n",
              "      display: none;\n",
              "      fill: #1967D2;\n",
              "      height: 32px;\n",
              "      padding: 0 0 0 0;\n",
              "      width: 32px;\n",
              "    }\n",
              "\n",
              "    .colab-df-convert:hover {\n",
              "      background-color: #E2EBFA;\n",
              "      box-shadow: 0px 1px 2px rgba(60, 64, 67, 0.3), 0px 1px 3px 1px rgba(60, 64, 67, 0.15);\n",
              "      fill: #174EA6;\n",
              "    }\n",
              "\n",
              "    [theme=dark] .colab-df-convert {\n",
              "      background-color: #3B4455;\n",
              "      fill: #D2E3FC;\n",
              "    }\n",
              "\n",
              "    [theme=dark] .colab-df-convert:hover {\n",
              "      background-color: #434B5C;\n",
              "      box-shadow: 0px 1px 3px 1px rgba(0, 0, 0, 0.15);\n",
              "      filter: drop-shadow(0px 1px 2px rgba(0, 0, 0, 0.3));\n",
              "      fill: #FFFFFF;\n",
              "    }\n",
              "  </style>\n",
              "\n",
              "      <script>\n",
              "        const buttonEl =\n",
              "          document.querySelector('#df-22e1320d-ee5a-43aa-97d5-9828b210784a button.colab-df-convert');\n",
              "        buttonEl.style.display =\n",
              "          google.colab.kernel.accessAllowed ? 'block' : 'none';\n",
              "\n",
              "        async function convertToInteractive(key) {\n",
              "          const element = document.querySelector('#df-22e1320d-ee5a-43aa-97d5-9828b210784a');\n",
              "          const dataTable =\n",
              "            await google.colab.kernel.invokeFunction('convertToInteractive',\n",
              "                                                     [key], {});\n",
              "          if (!dataTable) return;\n",
              "\n",
              "          const docLinkHtml = 'Like what you see? Visit the ' +\n",
              "            '<a target=\"_blank\" href=https://colab.research.google.com/notebooks/data_table.ipynb>data table notebook</a>'\n",
              "            + ' to learn more about interactive tables.';\n",
              "          element.innerHTML = '';\n",
              "          dataTable['output_type'] = 'display_data';\n",
              "          await google.colab.output.renderOutput(dataTable, element);\n",
              "          const docLink = document.createElement('div');\n",
              "          docLink.innerHTML = docLinkHtml;\n",
              "          element.appendChild(docLink);\n",
              "        }\n",
              "      </script>\n",
              "    </div>\n",
              "  </div>\n",
              "  "
            ]
          },
          "metadata": {},
          "execution_count": 27
        }
      ]
    },
    {
      "cell_type": "code",
      "source": [
        "def image(row):\n",
        "    image = {}\n",
        "    image[\"height\"] = abs(row.y_max - row.y_min)\n",
        "    image[\"width\"] = abs(row.x_max - row.x_min)\n",
        "    image[\"id\"] = row.file_id\n",
        "    image[\"file_name\"] = row.image_id\n",
        "    return image\n",
        "\n",
        "def category(row):\n",
        "    category = {}\n",
        "    category['supercategory'] = 'None'\n",
        "    category['id'] = row.category_id\n",
        "    category['name'] = row.class_name\n",
        "    return category\n",
        "\n",
        "def annotation(row):\n",
        "    annotation = {}\n",
        "    area = (row.x_max - row.x_min) * (row.y_max - row.y_min) \n",
        "\n",
        "    annotation['segmentation'] = []\n",
        "    annotation['iscrowd'] = 0\n",
        "    annotation['area'] = area\n",
        "    annotation['image_id'] = row.file_id\n",
        "    \n",
        "    annotation['bbox'] = [row.x_min, row.y_min, row.x_max - row.x_min, row.y_max - row.y_min] if area else [0, 0, 0, 0]\n",
        "   \n",
        "    annotation['category_id'] = row.category_id\n",
        "    annotation['id'] = row.annid\n",
        "    return annotation\n",
        "\n",
        "for row in df_train.itertuples():\n",
        "    annotations.append(annotation(row))\n",
        "    \n",
        "imagedf = df_train.drop_duplicates(subset=['file_id']).sort_values(by='file_id')\n",
        "for row in imagedf.itertuples():\n",
        "    images.append(image(row))\n",
        "    \n",
        "catdf = df_train.drop_duplicates(subset=['category_id']).sort_values(by='category_id')\n",
        "for row in catdf.itertuples():\n",
        "    categories.append(category(row))\n",
        "    \n",
        "data_coco = {}\n",
        "data_coco['images'] = images\n",
        "data_coco['categories'] = categories\n",
        "data_coco['annotations'] = annotations\n",
        "json.dump(data_coco, open(save_json_path, 'w'), indent=4)"
      ],
      "metadata": {
        "id": "tliwddYd0Jbc"
      },
      "execution_count": null,
      "outputs": []
    },
    {
      "cell_type": "markdown",
      "source": [
        "# Câu 10"
      ],
      "metadata": {
        "id": "NvgkzVBH0h0e"
      }
    },
    {
      "cell_type": "markdown",
      "source": [
        "[Câu 10 - kaggle](https://www.kaggle.com/duydattqta13/7-homework-2stagesdetection)"
      ],
      "metadata": {
        "id": "QTrsuvrQPyeH"
      }
    }
  ]
}