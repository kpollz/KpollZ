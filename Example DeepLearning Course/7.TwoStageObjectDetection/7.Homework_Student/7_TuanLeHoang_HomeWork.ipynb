{
  "nbformat": 4,
  "nbformat_minor": 0,
  "metadata": {
    "colab": {
      "name": "7_TuanLeHoang_HomeWork.ipynb",
      "provenance": [],
      "collapsed_sections": [],
      "toc_visible": true
    },
    "kernelspec": {
      "name": "python3",
      "display_name": "Python 3"
    },
    "language_info": {
      "name": "python"
    }
  },
  "cells": [
    {
      "cell_type": "markdown",
      "source": [
        "# I. Lý thuyết\n",
        "\n",
        "1) Tại sao mô hình R-CNN lại có tốc độ xử lý chậm?\n",
        "\n",
        "A. Do R-CNN sử dụng các backbone rất nặng.\n",
        "\n",
        "B. Do các vùng region proposal được dự báo bounding box và phân loại nhãn một cách độc lập.\n",
        "\n",
        "C. Do thuật toán Selective Search là một phương pháp heuristic nên rất chậm \n",
        "\n",
        "D. Do mô hình tách biệt giữa dự báo bounding box và phân loại nhãn\n",
        "\n",
        "Chọn C\n",
        "\n",
        "\n",
        "2) Chỉ số mAP trong các thuật toán object detection được tính toán theo cách nào ?\n",
        "\n",
        "A. Tính toán chỉ số AP trên từng category: Sắp xếp các Prediction Boxes của một category theo điểm số xác suất giảm dần. Thực hiện matching các Prediction Box với Ground Truth Box sao cho nếu IoU > 0.5 thì được xem là positive và trái lại là negative. Nếu Positive thì Precision sẽ có tử và mẫu cùng tăng lên 1 trong khi Recall có tử số tăng lên 1. Nếu Negative thì Precision có tử giữ nguyên và mẫu tăng lên 1 trong khi Recall không thay đổi. mAP bằng trung bình AP của toàn bộ các category.\n",
        "\n",
        "B. Tính toán chỉ số AP trên từng category: Sắp xếp các Prediction Boxes của một category theo điểm số xác suất giảm dần. Thực hiện matching các Prediction Box với Ground Truth Box sao cho nếu IoU > 0.5 thì được xem là positive và trái lại là negative. Nếu Positive thì Precision sẽ có tử số tăng lên 1 và mẫu giữ nguyên trong khi Recall có tử số tăng lên 1. Nếu Negative thì Precision có tử giữ nguyên và mẫu tăng lên 1 trong khi Recall không thay đổi. mAP bằng trung bình AP của toàn bộ các category.\n",
        "\n",
        "C. Tính toán chỉ số AP trên từng category: Sắp xếp các Prediction Boxes của một category theo điểm số xác suất giảm dần. Thực hiện matching các Prediction Box với Ground Truth Box sao cho nếu IoU > 0.5 thì được xem là positive và trái lại là negative. Nếu Positive thì Precision sẽ có tử và mẫu cùng tăng lên 1 trong khi Recall có tử giữ nguyên lên 1. Nếu Negative thì Precision có tử giữ nguyên và mẫu tăng lên 1 trong khi Recall không thay đổi. mAP bằng trung bình AP của toàn bộ các category.\n",
        "\n",
        "D. Tính toán chỉ số AP trên từng category: Sắp xếp các Prediction Boxes của một category theo điểm số xác suất giảm dần. Thực hiện matching các Prediction Box với Ground Truth Box sao cho nếu IoU > 0.5 thì được xem là positive và trái lại là negative. Nếu Positive thì Precision sẽ có tử và mẫu cùng tăng lên 1 trong khi Recall có tử số tăng lên 1. Nếu Negative thì Precision có tử giữ nguyên và mẫu tăng lên 1 trong khi Recall không thay đổi. Tính AP = diện tích dưới đường cong Precion Recall. mAP bằng trung bình AP của toàn bộ các category.\n",
        "\n",
        "Chọn D\n",
        "\n",
        "3) Phương pháp Non Max Suppression sẽ làm gì để giảm thiểu số lượng các bounding box ?\n",
        "\n",
        "A. Dựa vào mức độ overlapping giữa các bounding box để loại bỏ những bounding box có mức độ chồng lấn nhau lớn.\n",
        "\n",
        "B. Dựa vào mức độ overlapping giữa các bounding box để loại bỏ những bounding box có mức độ chồng lấn nhau nhỏ.\n",
        "\n",
        "C. Dựa vào diện tích để loại bỏ các bounding box nhỏ dưới một ngưỡng cho trước.\n",
        "\n",
        "D. Dựa vào mức độ overlapping để giữ lại một bounding box có điểm số cao hơn nếu chúng chồng lấn nhau lớn.\n",
        "\n",
        "Chọn D\n",
        "\n",
        "4) Trong mô hình Fast R-CNN chúng ta thêm một nhánh mạng RPN có tác dụng gì?\n",
        "\n",
        "A. Dự báo ra các vùng Region of Interest có khả năng cao chứa vật thể.\n",
        "\n",
        "B. Dự báo xác xuất cho toàn bộ các pixel nằm trên feature map.\n",
        " \n",
        "C. Dự báo bounding box và nhãn cho các vùng Region of Interest có khả năng cao chứa vật thể.\n",
        "\n",
        "D. Điều chỉnh lại kích thước của các bounding box từ anchor box.\n",
        "\n",
        "Chọn C\n",
        "\n",
        "5) Anchor Box là gì?\n",
        "\n",
        "A. Là những hình chữ nhật giúp xác định vị trí của vật thể\n",
        "\n",
        "B. Là những hình chữ nhật với kích thước xác định trước gắn liền với một pixel để làm cơ sở điều chỉnh phần bù (offset) của các tọa độ nhằm dự báo bounding box.\n",
        "\n",
        "C. Là những hình chữ nhật phác thảo hình dạng của bounding box cần dự báo.\n",
        "\n",
        "D. Là hình chữ nhật gắn liền với một pixel để làm cơ sở dự báo bounding box.\n",
        "\n",
        "Chọn C"
      ],
      "metadata": {
        "id": "ZzMQa4CcG3aL"
      }
    },
    {
      "cell_type": "markdown",
      "source": [
        "# II. Thực hành \n",
        "\n",
        "\n"
      ],
      "metadata": {
        "id": "r1NG3Z0HH_IP"
      }
    },
    {
      "cell_type": "markdown",
      "source": [
        "##6) Xây dựng hàm tính toán IoU giữa hai bounding box."
      ],
      "metadata": {
        "id": "OSVnZeO-W3z8"
      }
    },
    {
      "cell_type": "code",
      "source": [
        "import matplotlib.pyplot as plt\n",
        "from matplotlib.patches import Rectangle"
      ],
      "metadata": {
        "id": "9tnwCcWUc6Uy"
      },
      "execution_count": null,
      "outputs": []
    },
    {
      "cell_type": "code",
      "source": [
        "def get_iou(boxes_preds, boxes_labels):\n",
        "\n",
        "    box1_x1 = boxes_preds[0]\n",
        "    box1_y1 = boxes_preds[1]\n",
        "    box1_x2 = boxes_preds[2] + box1_x1\n",
        "    box1_y2 = boxes_preds[3] + box1_y1\n",
        "\n",
        "    box2_x1 = boxes_labels[0]\n",
        "    box2_y1 = boxes_labels[1]\n",
        "    box2_x2 = boxes_labels[2] + box2_x1\n",
        "    box2_y2 = boxes_labels[3] + box2_y1\n",
        "\n",
        "    x1 = max(box1_x1, box2_x1)\n",
        "    y1 = max(box1_y1, box2_y1)\n",
        "\n",
        "    x2 = min(box1_x2, box2_x2)\n",
        "    y2 = min(box1_y2, box2_y2)\n",
        "\n",
        "    if(box2_x1 > box1_x2 and box2_y1 > box1_y2): return 0,(x1+x2)/2,(y1+y2)/2\n",
        "\n",
        "    intersection = abs((x2 - x1) * (y2 - y1))\n",
        "    box1_area = abs((box1_x2 - box1_x1) * (box1_y2 - box1_y1))\n",
        "    box2_area = abs((box2_x2 - box2_x1) * (box2_y2 - box2_y1))\n",
        "\n",
        "    iou = intersection / (box1_area + box2_area - intersection + 1e-6)\n",
        "\n",
        "    return iou"
      ],
      "metadata": {
        "id": "oGZMWzO23E9J"
      },
      "execution_count": null,
      "outputs": []
    },
    {
      "cell_type": "code",
      "source": [
        "# top left : x, y, w, h. \n",
        "bbox1 = [2,10,5,5]\n",
        "bbox2 = [1,7,5,5]\n",
        "iou_value = get_iou(bbox1,bbox2)\n",
        "print(iou_value)"
      ],
      "metadata": {
        "colab": {
          "base_uri": "https://localhost:8080/"
        },
        "id": "DHqyJeyc4BqW",
        "outputId": "f2c6bf35-0fcf-4f6f-c27f-a45806d478d3"
      },
      "execution_count": null,
      "outputs": [
        {
          "output_type": "stream",
          "name": "stdout",
          "text": [
            "0.1904761859410432\n"
          ]
        }
      ]
    },
    {
      "cell_type": "code",
      "source": [
        "#Show in (x_left_bottom, y_left_bottom),width,height. I just convert the coordinate to draw the plot.\n",
        "bbox1 = [(2, 5),5,5]\n",
        "bbox2 = [(1, 2),5,5]\n",
        "(x1_left_bottom, y1_left_bottom),width1,height1 = bbox1\n",
        "(x2_left_bottom, y2_left_bottom),width2,height2 = bbox2"
      ],
      "metadata": {
        "id": "t0ONlUU86KCd"
      },
      "execution_count": null,
      "outputs": []
    },
    {
      "cell_type": "code",
      "source": [
        "plt.figure(figsize=(10, 10))\n",
        "fig, ax = plt.subplots()\n",
        "plt.xlim(0, 15)\n",
        "plt.ylim(0, 15)\n",
        "ax.add_patch(Rectangle((x1_left_bottom, y1_left_bottom),width1,height1,linewidth=2,facecolor='none',edgecolor = 'blue'))\n",
        "ax.add_patch(Rectangle((x2_left_bottom, y2_left_bottom),width2,height2,linewidth=2,facecolor='none',edgecolor = 'red'))\n",
        "ax.text(12, 12, \"IoU:\" + str(round(iou_value, 2)),color='green')\n",
        "plt.xlabel(\"X\")\n",
        "plt.ylabel(\"Y\")\n",
        "plt.title(\"2 Bounding boxes\")\n",
        "plt.gca().set_aspect('equal', adjustable='box')\n",
        "plt.show()"
      ],
      "metadata": {
        "colab": {
          "base_uri": "https://localhost:8080/",
          "height": 312
        },
        "id": "mYcjDjKcmq0X",
        "outputId": "6a7a596f-b83d-47c3-85c3-84f359bbdb46"
      },
      "execution_count": null,
      "outputs": [
        {
          "output_type": "display_data",
          "data": {
            "text/plain": [
              "<Figure size 720x720 with 0 Axes>"
            ]
          },
          "metadata": {}
        },
        {
          "output_type": "display_data",
          "data": {
            "text/plain": [
              "<Figure size 432x288 with 1 Axes>"
            ],
            "image/png": "[encoded data removed]"
          },
          "metadata": {
            "needs_background": "light"
          }
        }
      ]
    },
    {
      "cell_type": "markdown",
      "source": [
        "##7) Các câu bên dưới qui ước chung bounding box đều có tọa độ là (x, y, w, h) lần lượt tương ứng với (x, y) là điểm top-left và (w, h) là kích thước chiều rộng và cao.\n",
        "\n",
        "Giả sử các bounding box dự báo cho một category (class) có tọa độ lần lượt là:\n",
        "\n",
        "[10, 10, 50, 20], [15, 15, 55, 25], [50, 20, 20, 25], [20, 50, 20, 50], [30, 20, 10, 10]\n",
        "\n",
        "Các bounding box ground truth lần lượt là:\n",
        "\n",
        "[10, 10, 45, 25], [45, 20, 20, 25], [30, 25, 10, 10]\n",
        "\n",
        "Hãy thực hiện vẽ đường cong Precision Recall curve và xây dựng thuật toán tính giá trị AP."
      ],
      "metadata": {
        "id": "Hy9d6k-ctTTi"
      }
    },
    {
      "cell_type": "code",
      "source": [
        "import matplotlib.pyplot as plt\n",
        "pre_boxes=[[10, 10, 50, 20], [15, 15, 55, 25], [50, 20, 20, 25], [20, 50, 20, 50], [30, 20, 10, 10]]\n",
        "ground_boxes=[[10, 10, 45, 25], [45, 20, 20, 25], [30, 25, 10, 10]]"
      ],
      "metadata": {
        "id": "ERAKRES3qESe"
      },
      "execution_count": null,
      "outputs": []
    },
    {
      "cell_type": "code",
      "source": [
        "total_positive_samples = 0\n",
        "positive_samples = 0\n",
        "prec_his = []\n",
        "rec_his = []\n",
        "for box in pre_boxes:\n",
        "  total_positive_samples += 1\n",
        "  for gth in ground_boxes:\n",
        "    iou = get_iou(box,gth)\n",
        "    if (iou >= 0.5):\n",
        "      positive_samples += 1\n",
        "      break\n",
        "  precision = positive_samples / total_positive_samples\n",
        "  recall = positive_samples/len(ground_boxes)\n",
        "\n",
        "  prec_his.append(precision)\n",
        "  rec_his.append(recall)\n",
        "\n",
        "print(prec_his)\n",
        "print(rec_his)"
      ],
      "metadata": {
        "colab": {
          "base_uri": "https://localhost:8080/"
        },
        "id": "0gz0_3Vz3W4e",
        "outputId": "da0c277b-edf7-4d0e-852b-769f293318a7"
      },
      "execution_count": null,
      "outputs": [
        {
          "output_type": "stream",
          "name": "stdout",
          "text": [
            "[1.0, 0.5, 0.6666666666666666, 0.5, 0.4]\n",
            "[0.3333333333333333, 0.3333333333333333, 0.6666666666666666, 0.6666666666666666, 0.6666666666666666]\n"
          ]
        }
      ]
    },
    {
      "cell_type": "code",
      "source": [
        "plt.xlabel('Recall')\n",
        "plt.ylabel('Precision')\n",
        "plt.plot(rec_his, prec_his)\n",
        "plt.title('Precision Recal Curve')"
      ],
      "metadata": {
        "colab": {
          "base_uri": "https://localhost:8080/",
          "height": 312
        },
        "id": "l7_3vhPT3a-G",
        "outputId": "1adecfa7-f946-4cd8-deff-46b0d4f821b3"
      },
      "execution_count": null,
      "outputs": [
        {
          "output_type": "execute_result",
          "data": {
            "text/plain": [
              "Text(0.5, 1.0, 'Precision Recal Curve')"
            ]
          },
          "metadata": {},
          "execution_count": 5
        },
        {
          "output_type": "display_data",
          "data": {
            "text/plain": [
              "<Figure size 432x288 with 1 Axes>"
            ],
            "image/png": "[encoded data removed]"
          },
          "metadata": {
            "needs_background": "light"
          }
        }
      ]
    },
    {
      "cell_type": "code",
      "source": [
        "def caculate_ap(rec, prec):\n",
        "    \"\"\"\n",
        "    --- Official matlab code VOC2012---\n",
        "    mrec=[0 ; rec ; 1];\n",
        "    mpre=[0 ; prec ; 0];\n",
        "    for i=numel(mpre)-1:-1:1\n",
        "            mpre(i)=max(mpre(i),mpre(i+1));\n",
        "    end\n",
        "    i=find(mrec(2:end)~=mrec(1:end-1))+1;\n",
        "    ap=sum((mrec(i)-mrec(i-1)).*mpre(i));\n",
        "    \"\"\"\n",
        "    rec.insert(0, 0.0) # insert 0.0 at begining of list\n",
        "    rec.append(1.0) # insert 1.0 at end of list\n",
        "    mrec = rec[:]\n",
        "    prec.insert(0, 0.0) # insert 0.0 at begining of list\n",
        "    prec.append(0.0) # insert 0.0 at end of list\n",
        "    mpre = prec[:]\n",
        "    \"\"\"\n",
        "     This part makes the precision monotonically decreasing\n",
        "        (goes from the end to the beginning)\n",
        "        matlab:  for i=numel(mpre)-1:-1:1\n",
        "                                mpre(i)=max(mpre(i),mpre(i+1));\n",
        "    \"\"\"\n",
        "    # matlab indexes start in 1 but python in 0, so I have to do:\n",
        "    #   range(start=(len(mpre) - 2), end=0, step=-1)\n",
        "    # also the python function range excludes the end, resulting in:\n",
        "    #   range(start=(len(mpre) - 2), end=-1, step=-1)\n",
        "    for i in range(len(mpre)-2, -1, -1):\n",
        "        mpre[i] = max(mpre[i], mpre[i+1])\n",
        "    \"\"\"\n",
        "     This part creates a list of indexes where the recall changes\n",
        "        matlab:  i=find(mrec(2:end)~=mrec(1:end-1))+1;\n",
        "    \"\"\"\n",
        "    i_list = []\n",
        "    for i in range(1, len(mrec)):\n",
        "        if mrec[i] != mrec[i-1]:\n",
        "            i_list.append(i) # if it was matlab would be i + 1\n",
        "    \"\"\"\n",
        "     The Average Precision (AP) is the area under the curve\n",
        "        (numerical integration)\n",
        "        matlab: ap=sum((mrec(i)-mrec(i-1)).*mpre(i));\n",
        "    \"\"\"\n",
        "    ap = 0.0\n",
        "    for i in i_list:\n",
        "        ap += ((mrec[i]-mrec[i-1])*mpre[i])\n",
        "    return ap"
      ],
      "metadata": {
        "id": "8aydPclt3gtU"
      },
      "execution_count": null,
      "outputs": []
    },
    {
      "cell_type": "code",
      "source": [
        "ap = caculate_ap(rec_his, prec_his)\n",
        "print(ap)"
      ],
      "metadata": {
        "colab": {
          "base_uri": "https://localhost:8080/"
        },
        "id": "Gx7-Kcqq3kLt",
        "outputId": "4c15e897-3ec4-4f7e-a977-c96aa4115447"
      },
      "execution_count": null,
      "outputs": [
        {
          "output_type": "stream",
          "name": "stdout",
          "text": [
            "0.5555555555555556\n"
          ]
        }
      ]
    },
    {
      "cell_type": "code",
      "source": [
        "###Caculate mAP for n-class: caculate average AP for n class"
      ],
      "metadata": {
        "id": "0K8v_1Sf3l2s"
      },
      "execution_count": null,
      "outputs": []
    },
    {
      "cell_type": "markdown",
      "source": [
        "##8) Thực hiện visualize các anchor box có tỷ lệ aspect ratio (tỷ lệ width/height) lần lượt là 1, 2, 1/2 trên một feature map kích thước 20 x 20"
      ],
      "metadata": {
        "id": "opDK7ezU3thQ"
      }
    },
    {
      "cell_type": "code",
      "source": [
        "!pip install d2l"
      ],
      "metadata": {
        "id": "2rdsmNc93n8c"
      },
      "execution_count": null,
      "outputs": []
    },
    {
      "cell_type": "code",
      "source": [
        "%cd /content/drive/MyDrive/AI/Deeplearning_course/Week 7"
      ],
      "metadata": {
        "colab": {
          "base_uri": "https://localhost:8080/"
        },
        "id": "eWXBvP0sFXiv",
        "outputId": "65e71906-6ac4-4c3f-c703-aee3d89c7143"
      },
      "execution_count": null,
      "outputs": [
        {
          "output_type": "stream",
          "name": "stdout",
          "text": [
            "/content/drive/MyDrive/AI/Deeplearning_course/Week 7\n"
          ]
        }
      ]
    },
    {
      "cell_type": "code",
      "source": [
        "%matplotlib inline\n",
        "import torch\n",
        "from d2l import torch as d2l\n",
        "\n",
        "torch.set_printoptions(2)  # Simplify printing accuracy"
      ],
      "metadata": {
        "id": "WUHwra35FF9s"
      },
      "execution_count": null,
      "outputs": []
    },
    {
      "cell_type": "code",
      "source": [
        "from google.colab import drive\n",
        "drive.mount('/content/drive')"
      ],
      "metadata": {
        "colab": {
          "base_uri": "https://localhost:8080/"
        },
        "id": "i8W9L5gdFI2M",
        "outputId": "1d0ff118-19ea-4941-e63d-91401bb4451c"
      },
      "execution_count": null,
      "outputs": [
        {
          "output_type": "stream",
          "name": "stdout",
          "text": [
            "Mounted at /content/drive\n"
          ]
        }
      ]
    },
    {
      "cell_type": "code",
      "source": [
        "def multibox_prior(data, sizes, ratios):\n",
        "    \"\"\"Generate anchor boxes with different shapes centered on each pixel.\"\"\"\n",
        "    in_height, in_width = data.shape[-2:]\n",
        "    device, num_sizes, num_ratios = data.device, len(sizes), len(ratios)\n",
        "    boxes_per_pixel = (num_sizes + num_ratios - 1)\n",
        "    size_tensor = torch.tensor(sizes, device=device)\n",
        "    ratio_tensor = torch.tensor(ratios, device=device)\n",
        "    # Offsets are required to move the anchor to the center of a pixel. Since\n",
        "    # a pixel has height=1 and width=1, we choose to offset our centers by 0.5\n",
        "    offset_h, offset_w = 0.5, 0.5\n",
        "    steps_h = 1.0 / in_height  # Scaled steps in y axis\n",
        "    steps_w = 1.0 / in_width  # Scaled steps in x axis\n",
        "\n",
        "    # Generate all center points for the anchor boxes\n",
        "    center_h = (torch.arange(in_height, device=device) + offset_h) * steps_h\n",
        "    center_w = (torch.arange(in_width, device=device) + offset_w) * steps_w\n",
        "    shift_y, shift_x = torch.meshgrid(center_h, center_w)\n",
        "    shift_y, shift_x = shift_y.reshape(-1), shift_x.reshape(-1)\n",
        "\n",
        "    # Generate `boxes_per_pixel` number of heights and widths that are later\n",
        "    # used to create anchor box corner coordinates (xmin, xmax, ymin, ymax)\n",
        "    w = torch.cat((size_tensor * torch.sqrt(ratio_tensor[0]),\n",
        "                   sizes[0] * torch.sqrt(ratio_tensor[1:])))\\\n",
        "                   * in_height / in_width  # Handle rectangular inputs\n",
        "    h = torch.cat((size_tensor / torch.sqrt(ratio_tensor[0]),\n",
        "                   sizes[0] / torch.sqrt(ratio_tensor[1:])))\n",
        "    # Divide by 2 to get half height and half width\n",
        "    anchor_manipulations = torch.stack((-w, -h, w, h)).T.repeat(\n",
        "                                        in_height * in_width, 1) / 2\n",
        "\n",
        "    # Each center point will have `boxes_per_pixel` number of anchor boxes, so\n",
        "    # generate a grid of all anchor box centers with `boxes_per_pixel` repeats\n",
        "    out_grid = torch.stack([shift_x, shift_y, shift_x, shift_y],\n",
        "                dim=1).repeat_interleave(boxes_per_pixel, dim=0)\n",
        "    output = out_grid + anchor_manipulations\n",
        "    return output.unsqueeze(0)"
      ],
      "metadata": {
        "id": "VGusF4BnFM52"
      },
      "execution_count": null,
      "outputs": []
    },
    {
      "cell_type": "code",
      "source": [
        "img = d2l.plt.imread('./cute_cat.jpg')\n",
        "h, w = img.shape[:2]\n",
        "\n",
        "print(h, w)\n",
        "X = torch.rand(size=(1, 3, h, w))  # Construct input data\n",
        "Y = multibox_prior(X, sizes=[0.5,0.5, 0.5,], ratios=[1, 2, 0.5])\n",
        "Y.shape"
      ],
      "metadata": {
        "colab": {
          "base_uri": "https://localhost:8080/"
        },
        "id": "nUe6NyoNFUI-",
        "outputId": "fe772f9c-57e2-4a54-9a25-073b8fcdc50e"
      },
      "execution_count": null,
      "outputs": [
        {
          "output_type": "stream",
          "name": "stdout",
          "text": [
            "681 700\n"
          ]
        },
        {
          "output_type": "stream",
          "name": "stderr",
          "text": [
            "/usr/local/lib/python3.7/dist-packages/torch/functional.py:445: UserWarning: torch.meshgrid: in an upcoming release, it will be required to pass the indexing argument. (Triggered internally at  ../aten/src/ATen/native/TensorShape.cpp:2157.)\n",
            "  return _VF.meshgrid(tensors, **kwargs)  # type: ignore[attr-defined]\n"
          ]
        },
        {
          "output_type": "execute_result",
          "data": {
            "text/plain": [
              "torch.Size([1, 2383500, 4])"
            ]
          },
          "metadata": {},
          "execution_count": 6
        }
      ]
    },
    {
      "cell_type": "code",
      "source": [
        "boxes = Y.reshape(h, w, 5, 4)\n",
        "boxes[250, 250, 0, :]"
      ],
      "metadata": {
        "colab": {
          "base_uri": "https://localhost:8080/"
        },
        "id": "MsIdmOb6FUpp",
        "outputId": "e1daedcf-7d7b-4967-d470-784ba00e3c35"
      },
      "execution_count": null,
      "outputs": [
        {
          "output_type": "execute_result",
          "data": {
            "text/plain": [
              "tensor([0.11, 0.12, 0.60, 0.62])"
            ]
          },
          "metadata": {},
          "execution_count": 9
        }
      ]
    },
    {
      "cell_type": "code",
      "source": [
        "def show_bboxes(axes, bboxes, labels=None, colors=None):\n",
        "    \"\"\"Show bounding boxes.\"\"\"\n",
        "\n",
        "    def make_list(obj, default_values=None):\n",
        "        if obj is None:\n",
        "            obj = default_values\n",
        "        elif not isinstance(obj, (list, tuple)):\n",
        "            obj = [obj]\n",
        "        return obj\n",
        "\n",
        "    labels = make_list(labels)\n",
        "    colors = make_list(colors, ['b', 'g', 'r', 'm', 'c'])\n",
        "    for i, bbox in enumerate(bboxes):\n",
        "        color = colors[i % len(colors)]\n",
        "        rect = d2l.bbox_to_rect(bbox.detach().numpy(), color)\n",
        "        axes.add_patch(rect)\n",
        "        if labels and len(labels) > i:\n",
        "            text_color = 'k' if color == 'w' else 'w'\n",
        "            axes.text(rect.xy[0], rect.xy[1], labels[i],\n",
        "                      va='center', ha='center', fontsize=9, color=text_color,\n",
        "                      bbox=dict(facecolor=color, lw=0))"
      ],
      "metadata": {
        "id": "1Opv9zOgFjNv"
      },
      "execution_count": null,
      "outputs": []
    },
    {
      "cell_type": "code",
      "source": [
        "d2l.set_figsize()\n",
        "bbox_scale = torch.tensor((w, h, w, h))\n",
        "fig = d2l.plt.imshow(img)\n",
        "show_bboxes(fig.axes, boxes[250, 250, :, :] * bbox_scale)"
      ],
      "metadata": {
        "colab": {
          "base_uri": "https://localhost:8080/",
          "height": 249
        },
        "id": "eAt3qvduFjyf",
        "outputId": "1d1bf759-45af-4506-a584-84eec30d5f8c"
      },
      "execution_count": null,
      "outputs": [
        {
          "output_type": "display_data",
          "data": {
            "text/plain": [
              "<Figure size 252x180 with 1 Axes>"
            ],
            "image/svg+xml": "<?xml version=\"1.0\" encoding=\"utf-8\" standalone=\"no\"?>\n<!DOCTYPE svg PUBLIC \"-//W3C//DTD SVG 1.1//EN\"\n  \"http://www.w3.org/Graphics/SVG/1.1/DTD/svg11.dtd\">\n<!-- Created with matplotlib (https://matplotlib.org/) -->\n<svg height=\"170.677564pt\" version=\"1.1\" viewBox=\"0 0 180.17913 170.677564\" width=\"180.17913pt\" xmlns=\"http://www.w3.org/2000/svg\" xmlns:xlink=\"http://www.w3.org/1999/xlink\">\n <metadata>\n  <rdf:RDF xmlns:cc=\"http://creativecommons.org/ns#\" xmlns:dc=\"http://purl.org/dc/elements/1.1/\" xmlns:rdf=\"http://www.w3.org/1999/02/22-rdf-syntax-ns#\">\n   <cc:Work>\n    <dc:type rdf:resource=\"http://purl.org/dc/dcmitype/StillImage\"/>\n    <dc:date>2022-03-14T11:00:57.694510</dc:date>\n    <dc:format>image/svg+xml</dc:format>\n    <dc:creator>\n     <cc:Agent>\n      <dc:title>Matplotlib v3.3.3, https://matplotlib.org/</dc:title>\n     </cc:Agent>\n    </dc:creator>\n   </cc:Work>\n  </rdf:RDF>\n </metadata>\n <defs>\n  <style type=\"text/css\">*{stroke-linecap:butt;stroke-linejoin:round;}</style>\n </defs>\n <g id=\"figure_1\">\n  <g id=\"patch_1\">\n   <path d=\"M 0 170.677564 \nL 180.17913 170.677564 \nL 180.17913 0 \nL 0 0 \nz\n\" style=\"fill:none;\"/>\n  </g>\n  <g id=\"axes_1\">\n   <g id=\"patch_2\">\n    <path d=\"M 33.2875 146.799439 \nL 172.97913 146.799439 \nL 172.97913 10.899439 \nL 33.2875 10.899439 \nz\n\" style=\"fill:#ffffff;\"/>\n   </g>\n   <g clip-path=\"url(#p57414ac72e)\">\n    <image height=\"136\" id=\"image68507bfdca\" transform=\"scale(1 -1)translate(0 -136)\" width=\"140\" x=\"33.2875\" xlink:href=\"data:image/png;base64,\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\" y=\"-10.799439\"/>\n   </g>\n   <g id=\"patch_3\">\n    <path clip-path=\"url(#p57414ac72e)\" d=\"M 49.401927 27.013863 \nL 117.351927 27.013863 \nL 117.351927 94.963866 \nL 49.401927 94.963866 \nz\n\" style=\"fill:none;stroke:#0000ff;stroke-linejoin:miter;stroke-width:2;\"/>\n   </g>\n   <g id=\"patch_4\">\n    <path clip-path=\"url(#p57414ac72e)\" d=\"M 49.401927 27.013863 \nL 117.351927 27.013863 \nL 117.351927 94.963866 \nL 49.401927 94.963866 \nz\n\" style=\"fill:none;stroke:#008000;stroke-linejoin:miter;stroke-width:2;\"/>\n   </g>\n   <g id=\"patch_5\">\n    <path clip-path=\"url(#p57414ac72e)\" d=\"M 49.401927 27.013863 \nL 117.351927 27.013863 \nL 117.351927 94.963866 \nL 49.401927 94.963866 \nz\n\" style=\"fill:none;stroke:#ff0000;stroke-linejoin:miter;stroke-width:2;\"/>\n   </g>\n   <g id=\"patch_6\">\n    <path clip-path=\"url(#p57414ac72e)\" d=\"M 35.329024 36.964913 \nL 131.424829 36.964913 \nL 131.424829 85.012817 \nL 35.329024 85.012817 \nz\n\" style=\"fill:none;stroke:#bf00bf;stroke-linejoin:miter;stroke-width:2;\"/>\n   </g>\n   <g id=\"patch_7\">\n    <path clip-path=\"url(#p57414ac72e)\" d=\"M 59.352977 12.940959 \nL 107.400878 12.940959 \nL 107.400878 109.036768 \nL 59.352977 109.036768 \nz\n\" style=\"fill:none;stroke:#00bfbf;stroke-linejoin:miter;stroke-width:2;\"/>\n   </g>\n   <g id=\"matplotlib.axis_1\">\n    <g id=\"xtick_1\">\n     <g id=\"line2d_1\">\n      <defs>\n       <path d=\"M 0 0 \nL 0 3.5 \n\" id=\"m237006b8b8\" style=\"stroke:#000000;stroke-width:0.8;\"/>\n      </defs>\n      <g>\n       <use style=\"stroke:#000000;stroke-width:0.8;\" x=\"33.38728\" xlink:href=\"#m237006b8b8\" y=\"146.799439\"/>\n      </g>\n     </g>\n     <g id=\"text_1\">\n      <!-- 0 -->\n      <g transform=\"translate(30.20603 161.397877)scale(0.1 -0.1)\">\n       <defs>\n        <path d=\"M 31.78125 66.40625 \nQ 24.171875 66.40625 20.328125 58.90625 \nQ 16.5 51.421875 16.5 36.375 \nQ 16.5 21.390625 20.328125 13.890625 \nQ 24.171875 6.390625 31.78125 6.390625 \nQ 39.453125 6.390625 43.28125 13.890625 \nQ 47.125 21.390625 47.125 36.375 \nQ 47.125 51.421875 43.28125 58.90625 \nQ 39.453125 66.40625 31.78125 66.40625 \nz\nM 31.78125 74.21875 \nQ 44.046875 74.21875 50.515625 64.515625 \nQ 56.984375 54.828125 56.984375 36.375 \nQ 56.984375 17.96875 50.515625 8.265625 \nQ 44.046875 -1.421875 31.78125 -1.421875 \nQ 19.53125 -1.421875 13.0625 8.265625 \nQ 6.59375 17.96875 6.59375 36.375 \nQ 6.59375 54.828125 13.0625 64.515625 \nQ 19.53125 74.21875 31.78125 74.21875 \nz\n\" id=\"DejaVuSans-48\"/>\n       </defs>\n       <use xlink:href=\"#DejaVuSans-48\"/>\n      </g>\n     </g>\n    </g>\n    <g id=\"xtick_2\">\n     <g id=\"line2d_2\">\n      <g>\n       <use style=\"stroke:#000000;stroke-width:0.8;\" x=\"73.299174\" xlink:href=\"#m237006b8b8\" y=\"146.799439\"/>\n      </g>\n     </g>\n     <g id=\"text_2\">\n      <!-- 200 -->\n      <g transform=\"translate(63.755424 161.397877)scale(0.1 -0.1)\">\n       <defs>\n        <path d=\"M 19.1875 8.296875 \nL 53.609375 8.296875 \nL 53.609375 0 \nL 7.328125 0 \nL 7.328125 8.296875 \nQ 12.9375 14.109375 22.625 23.890625 \nQ 32.328125 33.6875 34.8125 36.53125 \nQ 39.546875 41.84375 41.421875 45.53125 \nQ 43.3125 49.21875 43.3125 52.78125 \nQ 43.3125 58.59375 39.234375 62.25 \nQ 35.15625 65.921875 28.609375 65.921875 \nQ 23.96875 65.921875 18.8125 64.3125 \nQ 13.671875 62.703125 7.8125 59.421875 \nL 7.8125 69.390625 \nQ 13.765625 71.78125 18.9375 73 \nQ 24.125 74.21875 28.421875 74.21875 \nQ 39.75 74.21875 46.484375 68.546875 \nQ 53.21875 62.890625 53.21875 53.421875 \nQ 53.21875 48.921875 51.53125 44.890625 \nQ 49.859375 40.875 45.40625 35.40625 \nQ 44.1875 33.984375 37.640625 27.21875 \nQ 31.109375 20.453125 19.1875 8.296875 \nz\n\" id=\"DejaVuSans-50\"/>\n       </defs>\n       <use xlink:href=\"#DejaVuSans-50\"/>\n       <use x=\"63.623047\" xlink:href=\"#DejaVuSans-48\"/>\n       <use x=\"127.246094\" xlink:href=\"#DejaVuSans-48\"/>\n      </g>\n     </g>\n    </g>\n    <g id=\"xtick_3\">\n     <g id=\"line2d_3\">\n      <g>\n       <use style=\"stroke:#000000;stroke-width:0.8;\" x=\"113.211068\" xlink:href=\"#m237006b8b8\" y=\"146.799439\"/>\n      </g>\n     </g>\n     <g id=\"text_3\">\n      <!-- 400 -->\n      <g transform=\"translate(103.667318 161.397877)scale(0.1 -0.1)\">\n       <defs>\n        <path d=\"M 37.796875 64.3125 \nL 12.890625 25.390625 \nL 37.796875 25.390625 \nz\nM 35.203125 72.90625 \nL 47.609375 72.90625 \nL 47.609375 25.390625 \nL 58.015625 25.390625 \nL 58.015625 17.1875 \nL 47.609375 17.1875 \nL 47.609375 0 \nL 37.796875 0 \nL 37.796875 17.1875 \nL 4.890625 17.1875 \nL 4.890625 26.703125 \nz\n\" id=\"DejaVuSans-52\"/>\n       </defs>\n       <use xlink:href=\"#DejaVuSans-52\"/>\n       <use x=\"63.623047\" xlink:href=\"#DejaVuSans-48\"/>\n       <use x=\"127.246094\" xlink:href=\"#DejaVuSans-48\"/>\n      </g>\n     </g>\n    </g>\n    <g id=\"xtick_4\">\n     <g id=\"line2d_4\">\n      <g>\n       <use style=\"stroke:#000000;stroke-width:0.8;\" x=\"153.122963\" xlink:href=\"#m237006b8b8\" y=\"146.799439\"/>\n      </g>\n     </g>\n     <g id=\"text_4\">\n      <!-- 600 -->\n      <g transform=\"translate(143.579213 161.397877)scale(0.1 -0.1)\">\n       <defs>\n        <path d=\"M 33.015625 40.375 \nQ 26.375 40.375 22.484375 35.828125 \nQ 18.609375 31.296875 18.609375 23.390625 \nQ 18.609375 15.53125 22.484375 10.953125 \nQ 26.375 6.390625 33.015625 6.390625 \nQ 39.65625 6.390625 43.53125 10.953125 \nQ 47.40625 15.53125 47.40625 23.390625 \nQ 47.40625 31.296875 43.53125 35.828125 \nQ 39.65625 40.375 33.015625 40.375 \nz\nM 52.59375 71.296875 \nL 52.59375 62.3125 \nQ 48.875 64.0625 45.09375 64.984375 \nQ 41.3125 65.921875 37.59375 65.921875 \nQ 27.828125 65.921875 22.671875 59.328125 \nQ 17.53125 52.734375 16.796875 39.40625 \nQ 19.671875 43.65625 24.015625 45.921875 \nQ 28.375 48.1875 33.59375 48.1875 \nQ 44.578125 48.1875 50.953125 41.515625 \nQ 57.328125 34.859375 57.328125 23.390625 \nQ 57.328125 12.15625 50.6875 5.359375 \nQ 44.046875 -1.421875 33.015625 -1.421875 \nQ 20.359375 -1.421875 13.671875 8.265625 \nQ 6.984375 17.96875 6.984375 36.375 \nQ 6.984375 53.65625 15.1875 63.9375 \nQ 23.390625 74.21875 37.203125 74.21875 \nQ 40.921875 74.21875 44.703125 73.484375 \nQ 48.484375 72.75 52.59375 71.296875 \nz\n\" id=\"DejaVuSans-54\"/>\n       </defs>\n       <use xlink:href=\"#DejaVuSans-54\"/>\n       <use x=\"63.623047\" xlink:href=\"#DejaVuSans-48\"/>\n       <use x=\"127.246094\" xlink:href=\"#DejaVuSans-48\"/>\n      </g>\n     </g>\n    </g>\n   </g>\n   <g id=\"matplotlib.axis_2\">\n    <g id=\"ytick_1\">\n     <g id=\"line2d_5\">\n      <defs>\n       <path d=\"M 0 0 \nL -3.5 0 \n\" id=\"m66f03b9644\" style=\"stroke:#000000;stroke-width:0.8;\"/>\n      </defs>\n      <g>\n       <use style=\"stroke:#000000;stroke-width:0.8;\" x=\"33.2875\" xlink:href=\"#m66f03b9644\" y=\"10.999219\"/>\n      </g>\n     </g>\n     <g id=\"text_5\">\n      <!-- 0 -->\n      <g transform=\"translate(19.925 14.798437)scale(0.1 -0.1)\">\n       <use xlink:href=\"#DejaVuSans-48\"/>\n      </g>\n     </g>\n    </g>\n    <g id=\"ytick_2\">\n     <g id=\"line2d_6\">\n      <g>\n       <use style=\"stroke:#000000;stroke-width:0.8;\" x=\"33.2875\" xlink:href=\"#m66f03b9644\" y=\"50.911113\"/>\n      </g>\n     </g>\n     <g id=\"text_6\">\n      <!-- 200 -->\n      <g transform=\"translate(7.2 54.710332)scale(0.1 -0.1)\">\n       <use xlink:href=\"#DejaVuSans-50\"/>\n       <use x=\"63.623047\" xlink:href=\"#DejaVuSans-48\"/>\n       <use x=\"127.246094\" xlink:href=\"#DejaVuSans-48\"/>\n      </g>\n     </g>\n    </g>\n    <g id=\"ytick_3\">\n     <g id=\"line2d_7\">\n      <g>\n       <use style=\"stroke:#000000;stroke-width:0.8;\" x=\"33.2875\" xlink:href=\"#m66f03b9644\" y=\"90.823007\"/>\n      </g>\n     </g>\n     <g id=\"text_7\">\n      <!-- 400 -->\n      <g transform=\"translate(7.2 94.622226)scale(0.1 -0.1)\">\n       <use xlink:href=\"#DejaVuSans-52\"/>\n       <use x=\"63.623047\" xlink:href=\"#DejaVuSans-48\"/>\n       <use x=\"127.246094\" xlink:href=\"#DejaVuSans-48\"/>\n      </g>\n     </g>\n    </g>\n    <g id=\"ytick_4\">\n     <g id=\"line2d_8\">\n      <g>\n       <use style=\"stroke:#000000;stroke-width:0.8;\" x=\"33.2875\" xlink:href=\"#m66f03b9644\" y=\"130.734902\"/>\n      </g>\n     </g>\n     <g id=\"text_8\">\n      <!-- 600 -->\n      <g transform=\"translate(7.2 134.53412)scale(0.1 -0.1)\">\n       <use xlink:href=\"#DejaVuSans-54\"/>\n       <use x=\"63.623047\" xlink:href=\"#DejaVuSans-48\"/>\n       <use x=\"127.246094\" xlink:href=\"#DejaVuSans-48\"/>\n      </g>\n     </g>\n    </g>\n   </g>\n   <g id=\"patch_8\">\n    <path d=\"M 33.2875 146.799439 \nL 33.2875 10.899439 \n\" style=\"fill:none;stroke:#000000;stroke-linecap:square;stroke-linejoin:miter;stroke-width:0.8;\"/>\n   </g>\n   <g id=\"patch_9\">\n    <path d=\"M 172.97913 146.799439 \nL 172.97913 10.899439 \n\" style=\"fill:none;stroke:#000000;stroke-linecap:square;stroke-linejoin:miter;stroke-width:0.8;\"/>\n   </g>\n   <g id=\"patch_10\">\n    <path d=\"M 33.2875 146.799439 \nL 172.97913 146.799439 \n\" style=\"fill:none;stroke:#000000;stroke-linecap:square;stroke-linejoin:miter;stroke-width:0.8;\"/>\n   </g>\n   <g id=\"patch_11\">\n    <path d=\"M 33.2875 10.899439 \nL 172.97913 10.899439 \n\" style=\"fill:none;stroke:#000000;stroke-linecap:square;stroke-linejoin:miter;stroke-width:0.8;\"/>\n   </g>\n  </g>\n </g>\n <defs>\n  <clipPath id=\"p57414ac72e\">\n   <rect height=\"135.9\" width=\"139.69163\" x=\"33.2875\" y=\"10.899439\"/>\n  </clipPath>\n </defs>\n</svg>\n"
          },
          "metadata": {
            "needs_background": "light"
          }
        }
      ]
    },
    {
      "cell_type": "markdown",
      "source": [
        "##9) Từ bộ dữ liệu [Vinbigdata-chest-xray](https://www.kaggle.com/c/vinbigdata-chest-xray-abnormalities-detection/data) bao gồm các tọa độ bounding box của 14 nhãn của các loại bệnh khác nhau được chuẩn đoán trên ảnh chụp chest X-ray. Thực hiện biến đổi file dữ liệu train.csv sang định dạng COCO json format. Chi tiết mô tả về dữ liệu bạn đọc ở tab data link trên.\n",
        "\n"
      ],
      "metadata": {
        "id": "b7jBh_hcFviI"
      }
    },
    {
      "cell_type": "code",
      "source": [
        ""
      ],
      "metadata": {
        "id": "Khcl8b2KFlNt"
      },
      "execution_count": null,
      "outputs": []
    },
    {
      "cell_type": "markdown",
      "source": [
        "##10) Hãy xây dựng thuật toán object detection để  hỗ trợ bác sĩ chuẩn đoán bệnh. Để không phải download dữ liệu, bạn nên run một notebook trên kaggle và trích dẫn link sang bài làm của bạn."
      ],
      "metadata": {
        "id": "-NG5jfiiF0n4"
      }
    },
    {
      "cell_type": "code",
      "source": [
        ""
      ],
      "metadata": {
        "id": "m_VI2br-F163"
      },
      "execution_count": null,
      "outputs": []
    }
  ]
}