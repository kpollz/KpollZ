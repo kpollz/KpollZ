{
  "nbformat": 4,
  "nbformat_minor": 0,
  "metadata": {
    "colab": {
      "name": "4.Neural network and DL_Nguyễn Viết Long",
      "provenance": [],
      "collapsed_sections": []
    },
    "kernelspec": {
      "name": "python3",
      "display_name": "Python 3"
    },
    "language_info": {
      "name": "python"
    },
    "accelerator": "GPU"
  },
  "cells": [
    {
      "cell_type": "markdown",
      "source": [
        "# I. Lý thuyết\n",
        "\n",
        "1) Tại sao các mô hình deep learning lại chiếm ưu thế hơn so với các mô hình machine learning truyền thống đối với dữ liệu lớn ?\n",
        "\n",
        "A. Do mô hình deep learning có thể được thiết kế với kích thước tùy ý nên có khả năng xấp xỉ mọi hàm số. Do đó nó có khả năng biểu diễn tốt và hoạt động hiệu quả trên dữ liệu lớn.\n",
        "\n",
        "B. Các mô hình machine learning thường bị overfitting đối với dữ liệu lớn \n",
        "\n",
        "C. Các mô hình deep learning có chi phí huấn luyện tốn kém hơn so với machine learning.\n",
        "\n",
        "D. Do kiến trúc của mô hình Machine Learning bao gồm nhiều layers xếp chồng.\n",
        "\n",
        "=> Đáp án A\n",
        "\n",
        "2) Ý nghĩa của hàm loss function trong mạng neural network là gì ?\n",
        "\n",
        "A. Là hàm số đánh giá độ chính xác của mô hình.\n",
        "\n",
        "B. Mục tiêu của quá trình huấn luyện là tối thiểu hóa hàm loss function bằng thuật toán gradient descent. Giá trị của hàm số này giúp đo lường mức độ khớp của dự báo từ mô hình trên dữ liệu huấn luyện.\n",
        "\n",
        "C. Khi loss function giảm thì luôn đảm bảo độ chính xác của mô hình tăng.\n",
        "\n",
        "D. Là hàm số cần tối đa hóa trong quá trình huấn luyện.\n",
        "\n",
        "=> Đáp án B\n",
        "\n",
        "3) Khi huấn luyện trên các bộ dữ liệu bigdata thì chúng ta nên sử dụng phương pháp nào ?\n",
        "\n",
        "A) Sử dụng gradient descent trên toàn bộ dữ liệu.\n",
        "\n",
        "B) Sử dụng stochastic gradient descent trên từng điểm dữ liệu.\n",
        "\n",
        "C) Mini-batch gradient descent huấn luyện mô hình trên từng tập dữ liệu con có kích thước nhỏ hơn memory CPU/GPU.\n",
        "\n",
        "D) Có thể sử dụng stochastic gradient descent hoặc mini-batch gradient descent.\n",
        "\n",
        "=> Đáp án C\n",
        "\n",
        "4) Quá trình feed forward và backpropagation thực hiện những gì ?\n",
        "\n",
        "A) feed forward tính toán output và loss function, backpropagation tính đạo hàm trên từng layer và cập nhật trọng số.\n",
        "\n",
        "B) feed forward cập nhật trọng số cho mô hình, backpropagation tính toán output và loss function.\n",
        "\n",
        "C) feed forward tính ra output của mô hình, backpropagation tính toán loss function\n",
        "\n",
        "D) feed forward được thực hiện sau backpropagation.\n",
        "\n",
        "=> Đáp án A\n",
        "\n",
        "5) Tác dụng của batch normalization là gì ?\n",
        "\n",
        "A) Loại bỏ một tỷ lệ ngẫu nhiên số lượng units tại mỗi layer để tạo thành nhiều kiến trúc kết hợp ngẫu nhiên.\n",
        "\n",
        "B) Tìm ra các tham số phân phối là trung bình và phương sai trên từng mini-batch.\n",
        "\n",
        "C) Đồng nhất phân phối xác suất của $z^{[l]}$ trên mỗi layer $l$.\n",
        "\n",
        "D) Giảm thiểu ảnh hưởng của input distribution shift nhằm giúp huấn luyện loss function nhanh và ổn định hơn.\n",
        "\n",
        "=> Đáp án D\n"
      ],
      "metadata": {
        "id": "PDDUcokDmyX4"
      }
    },
    {
      "cell_type": "markdown",
      "source": [
        "# II. Thực hành\n",
        "\n",
        "Xuất phát từ mô hình tốt nhất của bạn xây dựng được đối với bài toán phân loại income classification tại bài trước. Bạn hãy thực hiện một số thử nghiệm sau:\n",
        "\n",
        "6) Thay đổi hàm loss function, batch size và optimizer.\n",
        "\n",
        "7) Thử nghiệm thêm các layers mà bạn đã học được trong bài này vào kiến trúc của mình.\n",
        "\n",
        "8) Thay đổi các khởi tạo trọng số theo các phân phối khác nhau và đánh giá độ chính xác của kết quả huấn luyện.\n",
        "\n",
        "9) Thiết lập không gian search và tự động hóa tìm kiếm kiến trúc tốt nhất trên optuna.\n",
        "\n",
        "10) Deploy model sử dụng flask ap. Tham khảo [Flaskapp tutorial](https://drive.google.com/file/d/1AZNtzrmnhJ-OBgijWoaAqXbPhJ6xL0Po/view?usp=sharing)."
      ],
      "metadata": {
        "id": "zYoLCUgcm1Km"
      }
    },
    {
      "cell_type": "code",
      "source": [
        "from google.colab import drive\n",
        "drive.mount('/content/drive')"
      ],
      "metadata": {
        "id": "jri0Hxt3koMn",
        "colab": {
          "base_uri": "https://localhost:8080/"
        },
        "outputId": "5302b913-5e8f-42a8-f495-6eb0af273c46"
      },
      "execution_count": null,
      "outputs": [
        {
          "output_type": "stream",
          "name": "stdout",
          "text": [
            "Mounted at /content/drive\n"
          ]
        }
      ]
    },
    {
      "cell_type": "code",
      "source": [
        "import pandas as pd\n",
        "df = pd.read_csv(\"/content/drive/MyDrive/lesson 2/train.csv\").dropna()\n",
        "df.sample(10)"
      ],
      "metadata": {
        "colab": {
          "base_uri": "https://localhost:8080/",
          "height": 601
        },
        "id": "tkNPjhffCU47",
        "outputId": "e7118dd9-8aee-443b-c4d8-1d858e17f0af"
      },
      "execution_count": null,
      "outputs": [
        {
          "output_type": "execute_result",
          "data": {
            "text/html": [
              "\n",
              "  <div id=\"df-b8883fc5-3f8c-4d12-8a4a-215e52a7d75e\">\n",
              "    <div class=\"colab-df-container\">\n",
              "      <div>\n",
              "<style scoped>\n",
              "    .dataframe tbody tr th:only-of-type {\n",
              "        vertical-align: middle;\n",
              "    }\n",
              "\n",
              "    .dataframe tbody tr th {\n",
              "        vertical-align: top;\n",
              "    }\n",
              "\n",
              "    .dataframe thead th {\n",
              "        text-align: right;\n",
              "    }\n",
              "</style>\n",
              "<table border=\"1\" class=\"dataframe\">\n",
              "  <thead>\n",
              "    <tr style=\"text-align: right;\">\n",
              "      <th></th>\n",
              "      <th>ID</th>\n",
              "      <th>age</th>\n",
              "      <th>work_type</th>\n",
              "      <th>final_weight</th>\n",
              "      <th>education</th>\n",
              "      <th>total_education_yrs</th>\n",
              "      <th>marital_state</th>\n",
              "      <th>job</th>\n",
              "      <th>status</th>\n",
              "      <th>ethnicity</th>\n",
              "      <th>sex</th>\n",
              "      <th>capital_gain</th>\n",
              "      <th>capital_loss</th>\n",
              "      <th>hrs_per_week</th>\n",
              "      <th>nationality</th>\n",
              "      <th>target_income</th>\n",
              "    </tr>\n",
              "  </thead>\n",
              "  <tbody>\n",
              "    <tr>\n",
              "      <th>17864</th>\n",
              "      <td>17864</td>\n",
              "      <td>50</td>\n",
              "      <td>Self-emp-inc</td>\n",
              "      <td>120781</td>\n",
              "      <td>Bachelors</td>\n",
              "      <td>13</td>\n",
              "      <td>Married-civ-spouse</td>\n",
              "      <td>Sales</td>\n",
              "      <td>Husband</td>\n",
              "      <td>Asian-Pac-Islander</td>\n",
              "      <td>M</td>\n",
              "      <td>0</td>\n",
              "      <td>0</td>\n",
              "      <td>60</td>\n",
              "      <td>South</td>\n",
              "      <td>1</td>\n",
              "    </tr>\n",
              "    <tr>\n",
              "      <th>24946</th>\n",
              "      <td>24946</td>\n",
              "      <td>47</td>\n",
              "      <td>Private</td>\n",
              "      <td>139145</td>\n",
              "      <td>Some-college</td>\n",
              "      <td>10</td>\n",
              "      <td>Divorced</td>\n",
              "      <td>Adm-clerical</td>\n",
              "      <td>Not-in-family</td>\n",
              "      <td>White</td>\n",
              "      <td>F</td>\n",
              "      <td>0</td>\n",
              "      <td>0</td>\n",
              "      <td>60</td>\n",
              "      <td>US</td>\n",
              "      <td>0</td>\n",
              "    </tr>\n",
              "    <tr>\n",
              "      <th>13804</th>\n",
              "      <td>13804</td>\n",
              "      <td>36</td>\n",
              "      <td>Private</td>\n",
              "      <td>183081</td>\n",
              "      <td>Some-college</td>\n",
              "      <td>10</td>\n",
              "      <td>Never-married</td>\n",
              "      <td>Exec-managerial</td>\n",
              "      <td>Not-in-family</td>\n",
              "      <td>White</td>\n",
              "      <td>M</td>\n",
              "      <td>0</td>\n",
              "      <td>0</td>\n",
              "      <td>40</td>\n",
              "      <td>US</td>\n",
              "      <td>0</td>\n",
              "    </tr>\n",
              "    <tr>\n",
              "      <th>3126</th>\n",
              "      <td>3126</td>\n",
              "      <td>61</td>\n",
              "      <td>Self-emp-inc</td>\n",
              "      <td>66614</td>\n",
              "      <td>HS-grad</td>\n",
              "      <td>9</td>\n",
              "      <td>Married-civ-spouse</td>\n",
              "      <td>Craft-repair</td>\n",
              "      <td>Husband</td>\n",
              "      <td>White</td>\n",
              "      <td>M</td>\n",
              "      <td>0</td>\n",
              "      <td>0</td>\n",
              "      <td>40</td>\n",
              "      <td>US</td>\n",
              "      <td>0</td>\n",
              "    </tr>\n",
              "    <tr>\n",
              "      <th>16927</th>\n",
              "      <td>16927</td>\n",
              "      <td>33</td>\n",
              "      <td>Private</td>\n",
              "      <td>403552</td>\n",
              "      <td>HS-grad</td>\n",
              "      <td>9</td>\n",
              "      <td>Never-married</td>\n",
              "      <td>Other-service</td>\n",
              "      <td>Not-in-family</td>\n",
              "      <td>Black</td>\n",
              "      <td>M</td>\n",
              "      <td>0</td>\n",
              "      <td>0</td>\n",
              "      <td>32</td>\n",
              "      <td>US</td>\n",
              "      <td>0</td>\n",
              "    </tr>\n",
              "    <tr>\n",
              "      <th>3686</th>\n",
              "      <td>3686</td>\n",
              "      <td>32</td>\n",
              "      <td>?</td>\n",
              "      <td>285131</td>\n",
              "      <td>Assoc-acdm</td>\n",
              "      <td>12</td>\n",
              "      <td>Never-married</td>\n",
              "      <td>?</td>\n",
              "      <td>Unmarried</td>\n",
              "      <td>White</td>\n",
              "      <td>M</td>\n",
              "      <td>0</td>\n",
              "      <td>0</td>\n",
              "      <td>20</td>\n",
              "      <td>US</td>\n",
              "      <td>0</td>\n",
              "    </tr>\n",
              "    <tr>\n",
              "      <th>18271</th>\n",
              "      <td>18271</td>\n",
              "      <td>60</td>\n",
              "      <td>Private</td>\n",
              "      <td>198170</td>\n",
              "      <td>Bachelors</td>\n",
              "      <td>13</td>\n",
              "      <td>Married-civ-spouse</td>\n",
              "      <td>Exec-managerial</td>\n",
              "      <td>Husband</td>\n",
              "      <td>White</td>\n",
              "      <td>M</td>\n",
              "      <td>0</td>\n",
              "      <td>0</td>\n",
              "      <td>45</td>\n",
              "      <td>US</td>\n",
              "      <td>1</td>\n",
              "    </tr>\n",
              "    <tr>\n",
              "      <th>13550</th>\n",
              "      <td>13550</td>\n",
              "      <td>52</td>\n",
              "      <td>Self-emp-not-inc</td>\n",
              "      <td>135716</td>\n",
              "      <td>HS-grad</td>\n",
              "      <td>9</td>\n",
              "      <td>Married-civ-spouse</td>\n",
              "      <td>Farming-fishing</td>\n",
              "      <td>Husband</td>\n",
              "      <td>White</td>\n",
              "      <td>M</td>\n",
              "      <td>0</td>\n",
              "      <td>0</td>\n",
              "      <td>70</td>\n",
              "      <td>US</td>\n",
              "      <td>0</td>\n",
              "    </tr>\n",
              "    <tr>\n",
              "      <th>5069</th>\n",
              "      <td>5069</td>\n",
              "      <td>20</td>\n",
              "      <td>Private</td>\n",
              "      <td>56322</td>\n",
              "      <td>Some-college</td>\n",
              "      <td>10</td>\n",
              "      <td>Never-married</td>\n",
              "      <td>Other-service</td>\n",
              "      <td>Own-child</td>\n",
              "      <td>White</td>\n",
              "      <td>M</td>\n",
              "      <td>0</td>\n",
              "      <td>0</td>\n",
              "      <td>20</td>\n",
              "      <td>US</td>\n",
              "      <td>0</td>\n",
              "    </tr>\n",
              "    <tr>\n",
              "      <th>10071</th>\n",
              "      <td>10071</td>\n",
              "      <td>67</td>\n",
              "      <td>?</td>\n",
              "      <td>183374</td>\n",
              "      <td>HS-grad</td>\n",
              "      <td>9</td>\n",
              "      <td>Widowed</td>\n",
              "      <td>?</td>\n",
              "      <td>Not-in-family</td>\n",
              "      <td>White</td>\n",
              "      <td>F</td>\n",
              "      <td>2329</td>\n",
              "      <td>0</td>\n",
              "      <td>15</td>\n",
              "      <td>US</td>\n",
              "      <td>0</td>\n",
              "    </tr>\n",
              "  </tbody>\n",
              "</table>\n",
              "</div>\n",
              "      <button class=\"colab-df-convert\" onclick=\"convertToInteractive('df-b8883fc5-3f8c-4d12-8a4a-215e52a7d75e')\"\n",
              "              title=\"Convert this dataframe to an interactive table.\"\n",
              "              style=\"display:none;\">\n",
              "        \n",
              "  <svg xmlns=\"http://www.w3.org/2000/svg\" height=\"24px\"viewBox=\"0 0 24 24\"\n",
              "       width=\"24px\">\n",
              "    <path d=\"M0 0h24v24H0V0z\" fill=\"none\"/>\n",
              "    <path d=\"M18.56 5.44l.94 2.06.94-2.06 2.06-.94-2.06-.94-.94-2.06-.94 2.06-2.06.94zm-11 1L8.5 8.5l.94-2.06 2.06-.94-2.06-.94L8.5 2.5l-.94 2.06-2.06.94zm10 10l.94 2.06.94-2.06 2.06-.94-2.06-.94-.94-2.06-.94 2.06-2.06.94z\"/><path d=\"M17.41 7.96l-1.37-1.37c-.4-.4-.92-.59-1.43-.59-.52 0-1.04.2-1.43.59L10.3 9.45l-7.72 7.72c-.78.78-.78 2.05 0 2.83L4 21.41c.39.39.9.59 1.41.59.51 0 1.02-.2 1.41-.59l7.78-7.78 2.81-2.81c.8-.78.8-2.07 0-2.86zM5.41 20L4 18.59l7.72-7.72 1.47 1.35L5.41 20z\"/>\n",
              "  </svg>\n",
              "      </button>\n",
              "      \n",
              "  <style>\n",
              "    .colab-df-container {\n",
              "      display:flex;\n",
              "      flex-wrap:wrap;\n",
              "      gap: 12px;\n",
              "    }\n",
              "\n",
              "    .colab-df-convert {\n",
              "      background-color: #E8F0FE;\n",
              "      border: none;\n",
              "      border-radius: 50%;\n",
              "      cursor: pointer;\n",
              "      display: none;\n",
              "      fill: #1967D2;\n",
              "      height: 32px;\n",
              "      padding: 0 0 0 0;\n",
              "      width: 32px;\n",
              "    }\n",
              "\n",
              "    .colab-df-convert:hover {\n",
              "      background-color: #E2EBFA;\n",
              "      box-shadow: 0px 1px 2px rgba(60, 64, 67, 0.3), 0px 1px 3px 1px rgba(60, 64, 67, 0.15);\n",
              "      fill: #174EA6;\n",
              "    }\n",
              "\n",
              "    [theme=dark] .colab-df-convert {\n",
              "      background-color: #3B4455;\n",
              "      fill: #D2E3FC;\n",
              "    }\n",
              "\n",
              "    [theme=dark] .colab-df-convert:hover {\n",
              "      background-color: #434B5C;\n",
              "      box-shadow: 0px 1px 3px 1px rgba(0, 0, 0, 0.15);\n",
              "      filter: drop-shadow(0px 1px 2px rgba(0, 0, 0, 0.3));\n",
              "      fill: #FFFFFF;\n",
              "    }\n",
              "  </style>\n",
              "\n",
              "      <script>\n",
              "        const buttonEl =\n",
              "          document.querySelector('#df-b8883fc5-3f8c-4d12-8a4a-215e52a7d75e button.colab-df-convert');\n",
              "        buttonEl.style.display =\n",
              "          google.colab.kernel.accessAllowed ? 'block' : 'none';\n",
              "\n",
              "        async function convertToInteractive(key) {\n",
              "          const element = document.querySelector('#df-b8883fc5-3f8c-4d12-8a4a-215e52a7d75e');\n",
              "          const dataTable =\n",
              "            await google.colab.kernel.invokeFunction('convertToInteractive',\n",
              "                                                     [key], {});\n",
              "          if (!dataTable) return;\n",
              "\n",
              "          const docLinkHtml = 'Like what you see? Visit the ' +\n",
              "            '<a target=\"_blank\" href=https://colab.research.google.com/notebooks/data_table.ipynb>data table notebook</a>'\n",
              "            + ' to learn more about interactive tables.';\n",
              "          element.innerHTML = '';\n",
              "          dataTable['output_type'] = 'display_data';\n",
              "          await google.colab.output.renderOutput(dataTable, element);\n",
              "          const docLink = document.createElement('div');\n",
              "          docLink.innerHTML = docLinkHtml;\n",
              "          element.appendChild(docLink);\n",
              "        }\n",
              "      </script>\n",
              "    </div>\n",
              "  </div>\n",
              "  "
            ],
            "text/plain": [
              "          ID  age         work_type  ...  hrs_per_week nationality  target_income\n",
              "17864  17864   50      Self-emp-inc  ...            60       South              1\n",
              "24946  24946   47           Private  ...            60          US              0\n",
              "13804  13804   36           Private  ...            40          US              0\n",
              "3126    3126   61      Self-emp-inc  ...            40          US              0\n",
              "16927  16927   33           Private  ...            32          US              0\n",
              "3686    3686   32                 ?  ...            20          US              0\n",
              "18271  18271   60           Private  ...            45          US              1\n",
              "13550  13550   52  Self-emp-not-inc  ...            70          US              0\n",
              "5069    5069   20           Private  ...            20          US              0\n",
              "10071  10071   67                 ?  ...            15          US              0\n",
              "\n",
              "[10 rows x 16 columns]"
            ]
          },
          "metadata": {},
          "execution_count": 3
        }
      ]
    },
    {
      "cell_type": "code",
      "source": [
        "df = df.drop(\"ID\", axis = 1)\n",
        "df.describe()"
      ],
      "metadata": {
        "colab": {
          "base_uri": "https://localhost:8080/",
          "height": 344
        },
        "id": "CePKFutnChMT",
        "outputId": "46465d9a-508a-40d1-95f7-af6ae795e6ca"
      },
      "execution_count": null,
      "outputs": [
        {
          "output_type": "execute_result",
          "data": {
            "text/html": [
              "\n",
              "  <div id=\"df-bf888979-3e12-46ac-ab2f-09fe7416b462\">\n",
              "    <div class=\"colab-df-container\">\n",
              "      <div>\n",
              "<style scoped>\n",
              "    .dataframe tbody tr th:only-of-type {\n",
              "        vertical-align: middle;\n",
              "    }\n",
              "\n",
              "    .dataframe tbody tr th {\n",
              "        vertical-align: top;\n",
              "    }\n",
              "\n",
              "    .dataframe thead th {\n",
              "        text-align: right;\n",
              "    }\n",
              "</style>\n",
              "<table border=\"1\" class=\"dataframe\">\n",
              "  <thead>\n",
              "    <tr style=\"text-align: right;\">\n",
              "      <th></th>\n",
              "      <th>age</th>\n",
              "      <th>final_weight</th>\n",
              "      <th>total_education_yrs</th>\n",
              "      <th>capital_gain</th>\n",
              "      <th>capital_loss</th>\n",
              "      <th>hrs_per_week</th>\n",
              "      <th>target_income</th>\n",
              "    </tr>\n",
              "  </thead>\n",
              "  <tbody>\n",
              "    <tr>\n",
              "      <th>count</th>\n",
              "      <td>25000.000000</td>\n",
              "      <td>2.500000e+04</td>\n",
              "      <td>25000.000000</td>\n",
              "      <td>25000.000000</td>\n",
              "      <td>25000.000000</td>\n",
              "      <td>25000.000000</td>\n",
              "      <td>25000.00000</td>\n",
              "    </tr>\n",
              "    <tr>\n",
              "      <th>mean</th>\n",
              "      <td>38.568800</td>\n",
              "      <td>1.900156e+05</td>\n",
              "      <td>10.079160</td>\n",
              "      <td>1051.950240</td>\n",
              "      <td>86.053160</td>\n",
              "      <td>40.392200</td>\n",
              "      <td>0.23944</td>\n",
              "    </tr>\n",
              "    <tr>\n",
              "      <th>std</th>\n",
              "      <td>13.642694</td>\n",
              "      <td>1.059694e+05</td>\n",
              "      <td>2.566125</td>\n",
              "      <td>7228.975017</td>\n",
              "      <td>400.535454</td>\n",
              "      <td>12.350547</td>\n",
              "      <td>0.42675</td>\n",
              "    </tr>\n",
              "    <tr>\n",
              "      <th>min</th>\n",
              "      <td>17.000000</td>\n",
              "      <td>1.228500e+04</td>\n",
              "      <td>1.000000</td>\n",
              "      <td>0.000000</td>\n",
              "      <td>0.000000</td>\n",
              "      <td>1.000000</td>\n",
              "      <td>0.00000</td>\n",
              "    </tr>\n",
              "    <tr>\n",
              "      <th>25%</th>\n",
              "      <td>28.000000</td>\n",
              "      <td>1.178315e+05</td>\n",
              "      <td>9.000000</td>\n",
              "      <td>0.000000</td>\n",
              "      <td>0.000000</td>\n",
              "      <td>40.000000</td>\n",
              "      <td>0.00000</td>\n",
              "    </tr>\n",
              "    <tr>\n",
              "      <th>50%</th>\n",
              "      <td>37.000000</td>\n",
              "      <td>1.786440e+05</td>\n",
              "      <td>10.000000</td>\n",
              "      <td>0.000000</td>\n",
              "      <td>0.000000</td>\n",
              "      <td>40.000000</td>\n",
              "      <td>0.00000</td>\n",
              "    </tr>\n",
              "    <tr>\n",
              "      <th>75%</th>\n",
              "      <td>48.000000</td>\n",
              "      <td>2.368040e+05</td>\n",
              "      <td>12.000000</td>\n",
              "      <td>0.000000</td>\n",
              "      <td>0.000000</td>\n",
              "      <td>45.000000</td>\n",
              "      <td>0.00000</td>\n",
              "    </tr>\n",
              "    <tr>\n",
              "      <th>max</th>\n",
              "      <td>90.000000</td>\n",
              "      <td>1.484705e+06</td>\n",
              "      <td>16.000000</td>\n",
              "      <td>99999.000000</td>\n",
              "      <td>4356.000000</td>\n",
              "      <td>99.000000</td>\n",
              "      <td>1.00000</td>\n",
              "    </tr>\n",
              "  </tbody>\n",
              "</table>\n",
              "</div>\n",
              "      <button class=\"colab-df-convert\" onclick=\"convertToInteractive('df-bf888979-3e12-46ac-ab2f-09fe7416b462')\"\n",
              "              title=\"Convert this dataframe to an interactive table.\"\n",
              "              style=\"display:none;\">\n",
              "        \n",
              "  <svg xmlns=\"http://www.w3.org/2000/svg\" height=\"24px\"viewBox=\"0 0 24 24\"\n",
              "       width=\"24px\">\n",
              "    <path d=\"M0 0h24v24H0V0z\" fill=\"none\"/>\n",
              "    <path d=\"M18.56 5.44l.94 2.06.94-2.06 2.06-.94-2.06-.94-.94-2.06-.94 2.06-2.06.94zm-11 1L8.5 8.5l.94-2.06 2.06-.94-2.06-.94L8.5 2.5l-.94 2.06-2.06.94zm10 10l.94 2.06.94-2.06 2.06-.94-2.06-.94-.94-2.06-.94 2.06-2.06.94z\"/><path d=\"M17.41 7.96l-1.37-1.37c-.4-.4-.92-.59-1.43-.59-.52 0-1.04.2-1.43.59L10.3 9.45l-7.72 7.72c-.78.78-.78 2.05 0 2.83L4 21.41c.39.39.9.59 1.41.59.51 0 1.02-.2 1.41-.59l7.78-7.78 2.81-2.81c.8-.78.8-2.07 0-2.86zM5.41 20L4 18.59l7.72-7.72 1.47 1.35L5.41 20z\"/>\n",
              "  </svg>\n",
              "      </button>\n",
              "      \n",
              "  <style>\n",
              "    .colab-df-container {\n",
              "      display:flex;\n",
              "      flex-wrap:wrap;\n",
              "      gap: 12px;\n",
              "    }\n",
              "\n",
              "    .colab-df-convert {\n",
              "      background-color: #E8F0FE;\n",
              "      border: none;\n",
              "      border-radius: 50%;\n",
              "      cursor: pointer;\n",
              "      display: none;\n",
              "      fill: #1967D2;\n",
              "      height: 32px;\n",
              "      padding: 0 0 0 0;\n",
              "      width: 32px;\n",
              "    }\n",
              "\n",
              "    .colab-df-convert:hover {\n",
              "      background-color: #E2EBFA;\n",
              "      box-shadow: 0px 1px 2px rgba(60, 64, 67, 0.3), 0px 1px 3px 1px rgba(60, 64, 67, 0.15);\n",
              "      fill: #174EA6;\n",
              "    }\n",
              "\n",
              "    [theme=dark] .colab-df-convert {\n",
              "      background-color: #3B4455;\n",
              "      fill: #D2E3FC;\n",
              "    }\n",
              "\n",
              "    [theme=dark] .colab-df-convert:hover {\n",
              "      background-color: #434B5C;\n",
              "      box-shadow: 0px 1px 3px 1px rgba(0, 0, 0, 0.15);\n",
              "      filter: drop-shadow(0px 1px 2px rgba(0, 0, 0, 0.3));\n",
              "      fill: #FFFFFF;\n",
              "    }\n",
              "  </style>\n",
              "\n",
              "      <script>\n",
              "        const buttonEl =\n",
              "          document.querySelector('#df-bf888979-3e12-46ac-ab2f-09fe7416b462 button.colab-df-convert');\n",
              "        buttonEl.style.display =\n",
              "          google.colab.kernel.accessAllowed ? 'block' : 'none';\n",
              "\n",
              "        async function convertToInteractive(key) {\n",
              "          const element = document.querySelector('#df-bf888979-3e12-46ac-ab2f-09fe7416b462');\n",
              "          const dataTable =\n",
              "            await google.colab.kernel.invokeFunction('convertToInteractive',\n",
              "                                                     [key], {});\n",
              "          if (!dataTable) return;\n",
              "\n",
              "          const docLinkHtml = 'Like what you see? Visit the ' +\n",
              "            '<a target=\"_blank\" href=https://colab.research.google.com/notebooks/data_table.ipynb>data table notebook</a>'\n",
              "            + ' to learn more about interactive tables.';\n",
              "          element.innerHTML = '';\n",
              "          dataTable['output_type'] = 'display_data';\n",
              "          await google.colab.output.renderOutput(dataTable, element);\n",
              "          const docLink = document.createElement('div');\n",
              "          docLink.innerHTML = docLinkHtml;\n",
              "          element.appendChild(docLink);\n",
              "        }\n",
              "      </script>\n",
              "    </div>\n",
              "  </div>\n",
              "  "
            ],
            "text/plain": [
              "                age  final_weight  ...  hrs_per_week  target_income\n",
              "count  25000.000000  2.500000e+04  ...  25000.000000    25000.00000\n",
              "mean      38.568800  1.900156e+05  ...     40.392200        0.23944\n",
              "std       13.642694  1.059694e+05  ...     12.350547        0.42675\n",
              "min       17.000000  1.228500e+04  ...      1.000000        0.00000\n",
              "25%       28.000000  1.178315e+05  ...     40.000000        0.00000\n",
              "50%       37.000000  1.786440e+05  ...     40.000000        0.00000\n",
              "75%       48.000000  2.368040e+05  ...     45.000000        0.00000\n",
              "max       90.000000  1.484705e+06  ...     99.000000        1.00000\n",
              "\n",
              "[8 rows x 7 columns]"
            ]
          },
          "metadata": {},
          "execution_count": 4
        }
      ]
    },
    {
      "cell_type": "code",
      "source": [
        "# Observe the outliers by histogram \n",
        "df['age'].hist(bins=20)"
      ],
      "metadata": {
        "colab": {
          "base_uri": "https://localhost:8080/",
          "height": 283
        },
        "id": "6PMIAxGICjW-",
        "outputId": "940647be-69bb-4329-de47-33ae92516c4b"
      },
      "execution_count": null,
      "outputs": [
        {
          "output_type": "execute_result",
          "data": {
            "text/plain": [
              "<matplotlib.axes._subplots.AxesSubplot at 0x7f199110a810>"
            ]
          },
          "metadata": {},
          "execution_count": 5
        },
        {
          "output_type": "display_data",
          "data": {
            "image/png": "[encoded data removed]",
            "text/plain": [
              "<Figure size 432x288 with 1 Axes>"
            ]
          },
          "metadata": {
            "needs_background": "light"
          }
        }
      ]
    },
    {
      "cell_type": "code",
      "source": [
        "df['hrs_per_week'].hist(bins=10)"
      ],
      "metadata": {
        "colab": {
          "base_uri": "https://localhost:8080/",
          "height": 283
        },
        "id": "8TGC4eX0ClOQ",
        "outputId": "4d55e6cb-5c80-4341-a43c-997238a20056"
      },
      "execution_count": null,
      "outputs": [
        {
          "output_type": "execute_result",
          "data": {
            "text/plain": [
              "<matplotlib.axes._subplots.AxesSubplot at 0x7f1997315a50>"
            ]
          },
          "metadata": {},
          "execution_count": 6
        },
        {
          "output_type": "display_data",
          "data": {
            "image/png": "[encoded data removed]",
            "text/plain": [
              "<Figure size 432x288 with 1 Axes>"
            ]
          },
          "metadata": {
            "needs_background": "light"
          }
        }
      ]
    },
    {
      "cell_type": "code",
      "source": [
        "df['final_weight'].hist()"
      ],
      "metadata": {
        "colab": {
          "base_uri": "https://localhost:8080/",
          "height": 295
        },
        "id": "GvULrbcUClTh",
        "outputId": "41709c21-b226-4170-e907-1452c3942ab8"
      },
      "execution_count": null,
      "outputs": [
        {
          "output_type": "execute_result",
          "data": {
            "text/plain": [
              "<matplotlib.axes._subplots.AxesSubplot at 0x7f1990ac9c50>"
            ]
          },
          "metadata": {},
          "execution_count": 7
        },
        {
          "output_type": "display_data",
          "data": {
            "image/png": "[encoded data removed]",
            "text/plain": [
              "<Figure size 432x288 with 1 Axes>"
            ]
          },
          "metadata": {
            "needs_background": "light"
          }
        }
      ]
    },
    {
      "cell_type": "code",
      "source": [
        "# Remove outliers from dataframe\n",
        "df = df[df['age']<65]\n",
        "df = df[df['hrs_per_week']>12]\n",
        "df = df[df['hrs_per_week']<65]\n",
        "df = df[df['final_weight']<420000]"
      ],
      "metadata": {
        "id": "ngBa3KUdClWj"
      },
      "execution_count": null,
      "outputs": []
    },
    {
      "cell_type": "code",
      "source": [
        "df.shape"
      ],
      "metadata": {
        "colab": {
          "base_uri": "https://localhost:8080/"
        },
        "id": "oMJUNXCAClZM",
        "outputId": "4e646027-3b2b-4655-8a94-54dd7ccf5afc"
      },
      "execution_count": null,
      "outputs": [
        {
          "output_type": "execute_result",
          "data": {
            "text/plain": [
              "(21998, 15)"
            ]
          },
          "metadata": {},
          "execution_count": 9
        }
      ]
    },
    {
      "cell_type": "code",
      "source": [
        "import numpy as np\n",
        "import random\n",
        "from sklearn.metrics import accuracy_score, f1_score, roc_auc_score, confusion_matrix, classification_report\n",
        "def seed_all(seed):\n",
        "    np.random.seed(seed)\n",
        "    random.seed(seed)\n",
        "seed = 42 \n",
        "seed_all(seed)"
      ],
      "metadata": {
        "id": "dsjB6JpFClcU"
      },
      "execution_count": null,
      "outputs": []
    },
    {
      "cell_type": "code",
      "source": [
        "#metric\n",
        "def get_metrics(y_test, y_pred):\n",
        "    print('ACCURACY_SCORE: ', round(accuracy_score(y_test, y_pred), 4))\n",
        "    print('F1_SCORE: ', round(f1_score(y_test, y_pred, average='macro'), 4))\n",
        "    print('CONFUSION_MATRIX:\\n', confusion_matrix(y_test, y_pred),'\\n')\n",
        "    print(classification_report(y_test, y_pred, digits=4), '\\n')"
      ],
      "metadata": {
        "id": "jP0H_kDpClfA"
      },
      "execution_count": null,
      "outputs": []
    },
    {
      "cell_type": "code",
      "source": [
        "# one hot encoder the dataset\n",
        "label = df.pop('target_income').values\n",
        "df = pd.get_dummies(df)"
      ],
      "metadata": {
        "id": "zZEQBqt8DibH"
      },
      "execution_count": null,
      "outputs": []
    },
    {
      "cell_type": "code",
      "source": [
        "from sklearn.model_selection import train_test_split\n",
        "features = df.columns.tolist()\n",
        "x_train, x_test, y_train, y_test = train_test_split(df[features].values, label, test_size = 0.2, \n",
        "                                                    stratify = label, # assign equal proportion of target label in train/test \n",
        "                                                    random_state = 0) # keep train/test split the same if run again. \n",
        "print ('Training Set: %d, Test Set: %d \\n' % (len(x_train), len(x_test)))\n"
      ],
      "metadata": {
        "colab": {
          "base_uri": "https://localhost:8080/"
        },
        "id": "uBw1eS9MEYuW",
        "outputId": "3e9d9614-ef1e-464d-81a4-8a74a649d76a"
      },
      "execution_count": null,
      "outputs": [
        {
          "output_type": "stream",
          "name": "stdout",
          "text": [
            "Training Set: 17598, Test Set: 4400 \n",
            "\n"
          ]
        }
      ]
    },
    {
      "cell_type": "code",
      "source": [
        "# Rescaling the data \n",
        "from sklearn.preprocessing import StandardScaler\n",
        "scaler = StandardScaler() \n",
        "x_train = scaler.fit_transform(x_train)\n",
        "x_test = scaler.transform(x_test)\n",
        "print ('Training Set: %d, Test Set: %d \\n' % (len(x_train), len(x_test)))"
      ],
      "metadata": {
        "colab": {
          "base_uri": "https://localhost:8080/"
        },
        "id": "5zqywCv8F7RY",
        "outputId": "e5b83974-e941-4c51-f26f-16902216c66c"
      },
      "execution_count": null,
      "outputs": [
        {
          "output_type": "stream",
          "name": "stdout",
          "text": [
            "Training Set: 17598, Test Set: 4400 \n",
            "\n"
          ]
        }
      ]
    },
    {
      "cell_type": "markdown",
      "source": [
        "# Optuna Neural Architecture Search\n",
        "\n",
        "[Auto-Tuning Hyperparameters with Optuna and PyTorch\n",
        "](https://www.youtube.com/watch?v=P6NwZVl8ttc) is a good tutorial about search architecture.\n",
        "\n",
        "In the below, we are going to use optuna to search architecture of model that include:\n",
        "\n",
        "* Number of layers\n",
        "* Number of hidden units of each layers\n",
        "* the optimizer that applies to create the architecture.\n",
        "* learning rate"
      ],
      "metadata": {
        "id": "swkvCv_i8-CM"
      }
    },
    {
      "cell_type": "code",
      "source": [
        "!pip install optuna"
      ],
      "metadata": {
        "colab": {
          "base_uri": "https://localhost:8080/"
        },
        "id": "AdjYQgT08z24",
        "outputId": "d79cb88a-2438-476a-f90e-053737db43a5"
      },
      "execution_count": null,
      "outputs": [
        {
          "output_type": "stream",
          "name": "stdout",
          "text": [
            "Collecting optuna\n",
            "  Downloading optuna-2.10.0-py3-none-any.whl (308 kB)\n",
            "\u001b[?25l\r\u001b[K     |█                               | 10 kB 23.8 MB/s eta 0:00:01\r\u001b[K     |██▏                             | 20 kB 19.9 MB/s eta 0:00:01\r\u001b[K     |███▏                            | 30 kB 10.2 MB/s eta 0:00:01\r\u001b[K     |████▎                           | 40 kB 8.4 MB/s eta 0:00:01\r\u001b[K     |█████▎                          | 51 kB 4.6 MB/s eta 0:00:01\r\u001b[K     |██████▍                         | 61 kB 5.5 MB/s eta 0:00:01\r\u001b[K     |███████▍                        | 71 kB 5.6 MB/s eta 0:00:01\r\u001b[K     |████████▌                       | 81 kB 5.6 MB/s eta 0:00:01\r\u001b[K     |█████████▋                      | 92 kB 6.2 MB/s eta 0:00:01\r\u001b[K     |██████████▋                     | 102 kB 5.4 MB/s eta 0:00:01\r\u001b[K     |███████████▊                    | 112 kB 5.4 MB/s eta 0:00:01\r\u001b[K     |████████████▊                   | 122 kB 5.4 MB/s eta 0:00:01\r\u001b[K     |█████████████▉                  | 133 kB 5.4 MB/s eta 0:00:01\r\u001b[K     |██████████████▉                 | 143 kB 5.4 MB/s eta 0:00:01\r\u001b[K     |████████████████                | 153 kB 5.4 MB/s eta 0:00:01\r\u001b[K     |█████████████████               | 163 kB 5.4 MB/s eta 0:00:01\r\u001b[K     |██████████████████              | 174 kB 5.4 MB/s eta 0:00:01\r\u001b[K     |███████████████████▏            | 184 kB 5.4 MB/s eta 0:00:01\r\u001b[K     |████████████████████▏           | 194 kB 5.4 MB/s eta 0:00:01\r\u001b[K     |█████████████████████▎          | 204 kB 5.4 MB/s eta 0:00:01\r\u001b[K     |██████████████████████▎         | 215 kB 5.4 MB/s eta 0:00:01\r\u001b[K     |███████████████████████▍        | 225 kB 5.4 MB/s eta 0:00:01\r\u001b[K     |████████████████████████▌       | 235 kB 5.4 MB/s eta 0:00:01\r\u001b[K     |█████████████████████████▌      | 245 kB 5.4 MB/s eta 0:00:01\r\u001b[K     |██████████████████████████▋     | 256 kB 5.4 MB/s eta 0:00:01\r\u001b[K     |███████████████████████████▋    | 266 kB 5.4 MB/s eta 0:00:01\r\u001b[K     |████████████████████████████▊   | 276 kB 5.4 MB/s eta 0:00:01\r\u001b[K     |█████████████████████████████▊  | 286 kB 5.4 MB/s eta 0:00:01\r\u001b[K     |██████████████████████████████▉ | 296 kB 5.4 MB/s eta 0:00:01\r\u001b[K     |████████████████████████████████| 307 kB 5.4 MB/s eta 0:00:01\r\u001b[K     |████████████████████████████████| 308 kB 5.4 MB/s \n",
            "\u001b[?25hRequirement already satisfied: sqlalchemy>=1.1.0 in /usr/local/lib/python3.7/dist-packages (from optuna) (1.4.31)\n",
            "Requirement already satisfied: packaging>=20.0 in /usr/local/lib/python3.7/dist-packages (from optuna) (21.3)\n",
            "Requirement already satisfied: tqdm in /usr/local/lib/python3.7/dist-packages (from optuna) (4.62.3)\n",
            "Requirement already satisfied: PyYAML in /usr/local/lib/python3.7/dist-packages (from optuna) (3.13)\n",
            "Collecting colorlog\n",
            "  Downloading colorlog-6.6.0-py2.py3-none-any.whl (11 kB)\n",
            "Collecting cliff\n",
            "  Downloading cliff-3.10.1-py3-none-any.whl (81 kB)\n",
            "\u001b[K     |████████████████████████████████| 81 kB 8.9 MB/s \n",
            "\u001b[?25hCollecting alembic\n",
            "  Downloading alembic-1.7.6-py3-none-any.whl (210 kB)\n",
            "\u001b[K     |████████████████████████████████| 210 kB 46.9 MB/s \n",
            "\u001b[?25hCollecting cmaes>=0.8.2\n",
            "  Downloading cmaes-0.8.2-py3-none-any.whl (15 kB)\n",
            "Requirement already satisfied: scipy!=1.4.0 in /usr/local/lib/python3.7/dist-packages (from optuna) (1.4.1)\n",
            "Requirement already satisfied: numpy in /usr/local/lib/python3.7/dist-packages (from optuna) (1.21.5)\n",
            "Requirement already satisfied: pyparsing!=3.0.5,>=2.0.2 in /usr/local/lib/python3.7/dist-packages (from packaging>=20.0->optuna) (3.0.7)\n",
            "Requirement already satisfied: importlib-metadata in /usr/local/lib/python3.7/dist-packages (from sqlalchemy>=1.1.0->optuna) (4.11.0)\n",
            "Requirement already satisfied: greenlet!=0.4.17 in /usr/local/lib/python3.7/dist-packages (from sqlalchemy>=1.1.0->optuna) (1.1.2)\n",
            "Requirement already satisfied: importlib-resources in /usr/local/lib/python3.7/dist-packages (from alembic->optuna) (5.4.0)\n",
            "Collecting Mako\n",
            "  Downloading Mako-1.1.6-py2.py3-none-any.whl (75 kB)\n",
            "\u001b[K     |████████████████████████████████| 75 kB 4.2 MB/s \n",
            "\u001b[?25hRequirement already satisfied: PrettyTable>=0.7.2 in /usr/local/lib/python3.7/dist-packages (from cliff->optuna) (3.0.0)\n",
            "Collecting pbr!=2.1.0,>=2.0.0\n",
            "  Downloading pbr-5.8.1-py2.py3-none-any.whl (113 kB)\n",
            "\u001b[K     |████████████████████████████████| 113 kB 48.9 MB/s \n",
            "\u001b[?25hCollecting autopage>=0.4.0\n",
            "  Downloading autopage-0.5.0-py3-none-any.whl (29 kB)\n",
            "Collecting cmd2>=1.0.0\n",
            "  Downloading cmd2-2.3.3-py3-none-any.whl (149 kB)\n",
            "\u001b[K     |████████████████████████████████| 149 kB 46.9 MB/s \n",
            "\u001b[?25hCollecting stevedore>=2.0.1\n",
            "  Downloading stevedore-3.5.0-py3-none-any.whl (49 kB)\n",
            "\u001b[K     |████████████████████████████████| 49 kB 5.9 MB/s \n",
            "\u001b[?25hRequirement already satisfied: attrs>=16.3.0 in /usr/local/lib/python3.7/dist-packages (from cmd2>=1.0.0->cliff->optuna) (21.4.0)\n",
            "Requirement already satisfied: typing-extensions in /usr/local/lib/python3.7/dist-packages (from cmd2>=1.0.0->cliff->optuna) (3.10.0.2)\n",
            "Requirement already satisfied: wcwidth>=0.1.7 in /usr/local/lib/python3.7/dist-packages (from cmd2>=1.0.0->cliff->optuna) (0.2.5)\n",
            "Collecting pyperclip>=1.6\n",
            "  Downloading pyperclip-1.8.2.tar.gz (20 kB)\n",
            "Requirement already satisfied: zipp>=0.5 in /usr/local/lib/python3.7/dist-packages (from importlib-metadata->sqlalchemy>=1.1.0->optuna) (3.7.0)\n",
            "Requirement already satisfied: MarkupSafe>=0.9.2 in /usr/local/lib/python3.7/dist-packages (from Mako->alembic->optuna) (2.0.1)\n",
            "Building wheels for collected packages: pyperclip\n",
            "  Building wheel for pyperclip (setup.py) ... \u001b[?25l\u001b[?25hdone\n",
            "  Created wheel for pyperclip: filename=pyperclip-1.8.2-py3-none-any.whl size=11137 sha256=f9ccb7e6e3ad150bb95fe4c05795543e3df026e11174b10edeb46dea9efe7d33\n",
            "  Stored in directory: /root/.cache/pip/wheels/9f/18/84/8f69f8b08169c7bae2dde6bd7daf0c19fca8c8e500ee620a28\n",
            "Successfully built pyperclip\n",
            "Installing collected packages: pyperclip, pbr, stevedore, Mako, cmd2, autopage, colorlog, cmaes, cliff, alembic, optuna\n",
            "Successfully installed Mako-1.1.6 alembic-1.7.6 autopage-0.5.0 cliff-3.10.1 cmaes-0.8.2 cmd2-2.3.3 colorlog-6.6.0 optuna-2.10.0 pbr-5.8.1 pyperclip-1.8.2 stevedore-3.5.0\n"
          ]
        }
      ]
    },
    {
      "cell_type": "code",
      "source": [
        "import optuna\n",
        "from optuna.trial import TrialState # => tracking lại các lượt search từ model \n",
        "import torch.optim as optim\n",
        "import torch.nn.functional as F"
      ],
      "metadata": {
        "id": "X3cGopep80Ap"
      },
      "execution_count": null,
      "outputs": []
    },
    {
      "cell_type": "code",
      "source": [
        "import torch\n",
        "import torch.nn as nn\n",
        "import torch.utils.data as td\n",
        "\n",
        "# Set random seed for reproducability => gieo hat de tai tao ket qua chay cho nhung luot tiep theo\n",
        "torch.manual_seed(0)\n",
        "\n",
        "print(\"Libraries imported - ready to use PyTorch\", torch.__version__)"
      ],
      "metadata": {
        "colab": {
          "base_uri": "https://localhost:8080/"
        },
        "id": "TyIHIgFxGkhP",
        "outputId": "68d0939b-5aea-441a-fdee-8d13f7bd1a5d"
      },
      "execution_count": null,
      "outputs": [
        {
          "output_type": "stream",
          "name": "stdout",
          "text": [
            "Libraries imported - ready to use PyTorch 1.10.0+cu111\n"
          ]
        }
      ]
    },
    {
      "cell_type": "code",
      "source": [
        "# Create a dataset and loader for the training data and labels\n",
        "train_x = torch.Tensor(x_train).float()\n",
        "# Reshape y target into [-1, 1] to fit with Binary Cross Entropy\n",
        "train_y = torch.Tensor(y_train).view(-1, 1).float()\n",
        "train_ds = td.TensorDataset(train_x,train_y)\n",
        "train_loader = td.DataLoader(train_ds, batch_size=16,\n",
        "    shuffle=True, num_workers=1)\n",
        "\n",
        "# Create a dataset and loader for the test data and labels\n",
        "test_x = torch.Tensor(x_test).float()\n",
        "test_y = torch.Tensor(y_test).view(-1, 1).float()\n",
        "test_ds = td.TensorDataset(test_x,test_y)\n",
        "test_loader = td.DataLoader(test_ds, batch_size=16,\n",
        "    shuffle=False, num_workers=1)\n",
        "print('Ready to load data')"
      ],
      "metadata": {
        "colab": {
          "base_uri": "https://localhost:8080/"
        },
        "id": "5uT-sKQuGtez",
        "outputId": "9d6d98d2-3d73-4229-d9c8-db2303359ebe"
      },
      "execution_count": null,
      "outputs": [
        {
          "output_type": "stream",
          "name": "stdout",
          "text": [
            "Ready to load data\n"
          ]
        }
      ]
    },
    {
      "cell_type": "code",
      "source": [
        "train_y"
      ],
      "metadata": {
        "colab": {
          "base_uri": "https://localhost:8080/"
        },
        "id": "IyDUr-Dp0S7R",
        "outputId": "c0ea193d-d65f-436a-81e6-d1b48982e941"
      },
      "execution_count": null,
      "outputs": [
        {
          "output_type": "execute_result",
          "data": {
            "text/plain": [
              "tensor([[0.],\n",
              "        [1.],\n",
              "        [0.],\n",
              "        ...,\n",
              "        [0.],\n",
              "        [1.],\n",
              "        [0.]])"
            ]
          },
          "metadata": {},
          "execution_count": 26
        }
      ]
    },
    {
      "cell_type": "markdown",
      "source": [
        "Define trial for model in which we define network architecture in random way. That architecture will be trained in the next step."
      ],
      "metadata": {
        "id": "vJoqvF0JC9xM"
      }
    },
    {
      "cell_type": "code",
      "source": [
        "def define_model(trial):\n",
        "    # We optimize the number of layers, hidden units and dropout ratio in each layer.\n",
        "    n_layers = trial.suggest_int(\"n_layers\", 2, 6)\n",
        "    layers = []\n",
        "\n",
        "    in_features = len(features)\n",
        "    for i in range(n_layers):\n",
        "        out_features = trial.suggest_int(\"n_units_l{}\".format(i), 4, 128)\n",
        "        layers.append(nn.Linear(in_features, out_features))\n",
        "        layers.append(nn.ReLU())\n",
        "        p = trial.suggest_float(\"dropout_l{}\".format(i), 0.2, 0.5)\n",
        "        layers.append(nn.Dropout(p))\n",
        "\n",
        "        in_features = out_features\n",
        "    layers.append(nn.Linear(in_features, 1))\n",
        "    layers.append(nn.Sigmoid())\n",
        "\n",
        "    return nn.Sequential(*layers)"
      ],
      "metadata": {
        "id": "TOv0xOkYBj2u"
      },
      "execution_count": null,
      "outputs": []
    },
    {
      "cell_type": "markdown",
      "source": [
        "Objective function to train and evaluate the model. Finally, we select the best model corresponding with highest accuracy on evaluation."
      ],
      "metadata": {
        "id": "i9RmhF1TDA1z"
      }
    },
    {
      "cell_type": "code",
      "source": [
        "DEVICE = torch.device(\"cpu\")\n",
        "BATCHSIZE = 16\n",
        "EPOCHS = 30\n",
        "LOG_INTERVAL = 10\n",
        "N_TRAIN_EXAMPLES = BATCHSIZE * 300\n",
        "N_VALID_EXAMPLES = BATCHSIZE * 100\n",
        "\n",
        "def objective(trial):\n",
        "\n",
        "    # Generate the model.\n",
        "    model = define_model(trial).to(DEVICE)\n",
        "\n",
        "    # Generate the optimizers.\n",
        "    optimizer_name = trial.suggest_categorical(\"optimizer\", [\"Adam\", \"RMSprop\", \"SGD\"])\n",
        "    lr = trial.suggest_float(\"lr\", 1e-5, 1e-1, log=True)\n",
        "    optimizer = getattr(optim, optimizer_name)(model.parameters(), lr=lr)\n",
        "    loss_criteria = nn.BCELoss()\n",
        "    # Training of the model.\n",
        "    for epoch in range(EPOCHS):\n",
        "        model.train()\n",
        "        for batch_idx, (data, target) in enumerate(train_loader):\n",
        "            # Limiting training data for faster epochs.\n",
        "            if batch_idx * BATCHSIZE >= N_TRAIN_EXAMPLES:\n",
        "                break\n",
        "\n",
        "            data, target = data.view(data.size(0), -1).to(DEVICE), target.to(DEVICE)\n",
        "\n",
        "            optimizer.zero_grad()\n",
        "            output = model(data)\n",
        "            # loss = F.nll_loss(output, target)\n",
        "            loss = loss_criteria(output, target)\n",
        "            loss.backward()\n",
        "            optimizer.step()\n",
        "\n",
        "        # Validation of the model.\n",
        "        model.eval()\n",
        "        correct = 0\n",
        "        with torch.no_grad():\n",
        "            for batch_idx, (data, target) in enumerate(test_loader):\n",
        "                # Limiting validation data.\n",
        "                if batch_idx * BATCHSIZE >= N_VALID_EXAMPLES:\n",
        "                    break\n",
        "                data, target = data.view(data.size(0), -1).to(DEVICE), target.to(DEVICE)\n",
        "                output = model(data)\n",
        "                # Get the index of the max log-probability.\n",
        "                pred = torch.tensor(output.data>=0.5).float()\n",
        "                correct += pred.eq(target.view_as(pred)).sum().item()\n",
        "\n",
        "        accuracy = correct / min(len(test_loader.dataset), N_VALID_EXAMPLES)\n",
        "\n",
        "        trial.report(accuracy, epoch)\n",
        "\n",
        "        # Handle pruning based on the intermediate value.\n",
        "        if trial.should_prune():\n",
        "            raise optuna.exceptions.TrialPruned()\n",
        "\n",
        "    return accuracy"
      ],
      "metadata": {
        "id": "JcyRZk2iSLqb"
      },
      "execution_count": null,
      "outputs": []
    },
    {
      "cell_type": "code",
      "source": [
        "study = optuna.create_study(direction=\"maximize\") # => tìm ra objective func có accuracy lớn nhất trên test data\n",
        "study.optimize(objective, n_trials=100, timeout=600) # => optimize dựa trên 100 trials trong 600s\n",
        "\n",
        "pruned_trials = study.get_trials(deepcopy=False, states=[TrialState.PRUNED])\n",
        "complete_trials = study.get_trials(deepcopy=False, states=[TrialState.COMPLETE])\n",
        "\n",
        "print(\"Study statistics: \")\n",
        "print(\"  Number of finished trials: \", len(study.trials))\n",
        "print(\"  Number of pruned trials: \", len(pruned_trials))\n",
        "print(\"  Number of complete trials: \", len(complete_trials))\n",
        "\n",
        "print(\"Best trial:\")\n",
        "trial = study.best_trial\n",
        "\n",
        "print(\"  Value: \", trial.value)\n",
        "\n",
        "print(\"  Params: \")\n",
        "for key, value in trial.params.items():\n",
        "    print(\"    {}: {}\".format(key, value))"
      ],
      "metadata": {
        "colab": {
          "base_uri": "https://localhost:8080/"
        },
        "id": "-pGQVl4cSrrb",
        "outputId": "2d3f781c-173c-4448-fe0b-d5f4040b4b66"
      },
      "execution_count": null,
      "outputs": [
        {
          "output_type": "stream",
          "name": "stderr",
          "text": [
            "\u001b[32m[I 2022-02-19 03:56:31,147]\u001b[0m A new study created in memory with name: no-name-64e44eff-a2d6-4c2f-8c92-ba4137f2f0ae\u001b[0m\n",
            "/usr/local/lib/python3.7/dist-packages/ipykernel_launcher.py:46: UserWarning: To copy construct from a tensor, it is recommended to use sourceTensor.clone().detach() or sourceTensor.clone().detach().requires_grad_(True), rather than torch.tensor(sourceTensor).\n",
            "\u001b[32m[I 2022-02-19 03:57:17,698]\u001b[0m Trial 0 finished with value: 0.838125 and parameters: {'n_layers': 2, 'n_units_l0': 21, 'dropout_l0': 0.49419798784219243, 'n_units_l1': 31, 'dropout_l1': 0.2602538732668534, 'optimizer': 'RMSprop', 'lr': 4.821171564918944e-05}. Best is trial 0 with value: 0.838125.\u001b[0m\n",
            "/usr/local/lib/python3.7/dist-packages/ipykernel_launcher.py:46: UserWarning: To copy construct from a tensor, it is recommended to use sourceTensor.clone().detach() or sourceTensor.clone().detach().requires_grad_(True), rather than torch.tensor(sourceTensor).\n",
            "\u001b[32m[I 2022-02-19 03:57:59,977]\u001b[0m Trial 1 finished with value: 0.843125 and parameters: {'n_layers': 2, 'n_units_l0': 99, 'dropout_l0': 0.2207875340345598, 'n_units_l1': 109, 'dropout_l1': 0.47116302498992424, 'optimizer': 'SGD', 'lr': 0.015599960857205167}. Best is trial 1 with value: 0.843125.\u001b[0m\n",
            "/usr/local/lib/python3.7/dist-packages/ipykernel_launcher.py:46: UserWarning: To copy construct from a tensor, it is recommended to use sourceTensor.clone().detach() or sourceTensor.clone().detach().requires_grad_(True), rather than torch.tensor(sourceTensor).\n",
            "\u001b[32m[I 2022-02-19 03:58:53,889]\u001b[0m Trial 2 finished with value: 0.83875 and parameters: {'n_layers': 6, 'n_units_l0': 50, 'dropout_l0': 0.46155172917250753, 'n_units_l1': 46, 'dropout_l1': 0.4976621905080231, 'n_units_l2': 103, 'dropout_l2': 0.3806661789642748, 'n_units_l3': 85, 'dropout_l3': 0.4404306758740971, 'n_units_l4': 97, 'dropout_l4': 0.46727172413092816, 'n_units_l5': 73, 'dropout_l5': 0.46813972724805436, 'optimizer': 'RMSprop', 'lr': 0.00015196056962479146}. Best is trial 1 with value: 0.843125.\u001b[0m\n",
            "/usr/local/lib/python3.7/dist-packages/ipykernel_launcher.py:46: UserWarning: To copy construct from a tensor, it is recommended to use sourceTensor.clone().detach() or sourceTensor.clone().detach().requires_grad_(True), rather than torch.tensor(sourceTensor).\n",
            "\u001b[32m[I 2022-02-19 03:59:42,559]\u001b[0m Trial 3 finished with value: 0.846875 and parameters: {'n_layers': 3, 'n_units_l0': 90, 'dropout_l0': 0.44405640851296346, 'n_units_l1': 73, 'dropout_l1': 0.235176954019638, 'n_units_l2': 105, 'dropout_l2': 0.44203479233998244, 'optimizer': 'Adam', 'lr': 0.0003571907680945229}. Best is trial 3 with value: 0.846875.\u001b[0m\n",
            "/usr/local/lib/python3.7/dist-packages/ipykernel_launcher.py:46: UserWarning: To copy construct from a tensor, it is recommended to use sourceTensor.clone().detach() or sourceTensor.clone().detach().requires_grad_(True), rather than torch.tensor(sourceTensor).\n",
            "\u001b[32m[I 2022-02-19 04:00:27,669]\u001b[0m Trial 4 finished with value: 0.75625 and parameters: {'n_layers': 4, 'n_units_l0': 15, 'dropout_l0': 0.20243864528200156, 'n_units_l1': 17, 'dropout_l1': 0.4271473116650133, 'n_units_l2': 42, 'dropout_l2': 0.3605465311939211, 'n_units_l3': 33, 'dropout_l3': 0.24701524408616374, 'optimizer': 'SGD', 'lr': 9.415933459746163e-05}. Best is trial 3 with value: 0.846875.\u001b[0m\n",
            "/usr/local/lib/python3.7/dist-packages/ipykernel_launcher.py:46: UserWarning: To copy construct from a tensor, it is recommended to use sourceTensor.clone().detach() or sourceTensor.clone().detach().requires_grad_(True), rather than torch.tensor(sourceTensor).\n",
            "\u001b[32m[I 2022-02-19 04:00:43,772]\u001b[0m Trial 5 pruned. \u001b[0m\n",
            "/usr/local/lib/python3.7/dist-packages/ipykernel_launcher.py:46: UserWarning: To copy construct from a tensor, it is recommended to use sourceTensor.clone().detach() or sourceTensor.clone().detach().requires_grad_(True), rather than torch.tensor(sourceTensor).\n",
            "\u001b[32m[I 2022-02-19 04:00:45,388]\u001b[0m Trial 6 pruned. \u001b[0m\n",
            "/usr/local/lib/python3.7/dist-packages/ipykernel_launcher.py:46: UserWarning: To copy construct from a tensor, it is recommended to use sourceTensor.clone().detach() or sourceTensor.clone().detach().requires_grad_(True), rather than torch.tensor(sourceTensor).\n",
            "\u001b[32m[I 2022-02-19 04:00:46,889]\u001b[0m Trial 7 pruned. \u001b[0m\n",
            "/usr/local/lib/python3.7/dist-packages/ipykernel_launcher.py:46: UserWarning: To copy construct from a tensor, it is recommended to use sourceTensor.clone().detach() or sourceTensor.clone().detach().requires_grad_(True), rather than torch.tensor(sourceTensor).\n",
            "\u001b[32m[I 2022-02-19 04:00:53,504]\u001b[0m Trial 8 pruned. \u001b[0m\n",
            "/usr/local/lib/python3.7/dist-packages/ipykernel_launcher.py:46: UserWarning: To copy construct from a tensor, it is recommended to use sourceTensor.clone().detach() or sourceTensor.clone().detach().requires_grad_(True), rather than torch.tensor(sourceTensor).\n",
            "\u001b[32m[I 2022-02-19 04:01:49,109]\u001b[0m Trial 9 finished with value: 0.83875 and parameters: {'n_layers': 5, 'n_units_l0': 89, 'dropout_l0': 0.20799990269161606, 'n_units_l1': 110, 'dropout_l1': 0.4704486768214552, 'n_units_l2': 5, 'dropout_l2': 0.3655771673244247, 'n_units_l3': 127, 'dropout_l3': 0.36125617521103326, 'n_units_l4': 91, 'dropout_l4': 0.4524521815785581, 'optimizer': 'Adam', 'lr': 0.002203545410179133}. Best is trial 3 with value: 0.846875.\u001b[0m\n",
            "/usr/local/lib/python3.7/dist-packages/ipykernel_launcher.py:46: UserWarning: To copy construct from a tensor, it is recommended to use sourceTensor.clone().detach() or sourceTensor.clone().detach().requires_grad_(True), rather than torch.tensor(sourceTensor).\n",
            "\u001b[32m[I 2022-02-19 04:01:52,314]\u001b[0m Trial 10 pruned. \u001b[0m\n",
            "/usr/local/lib/python3.7/dist-packages/ipykernel_launcher.py:46: UserWarning: To copy construct from a tensor, it is recommended to use sourceTensor.clone().detach() or sourceTensor.clone().detach().requires_grad_(True), rather than torch.tensor(sourceTensor).\n",
            "\u001b[32m[I 2022-02-19 04:01:53,820]\u001b[0m Trial 11 pruned. \u001b[0m\n",
            "/usr/local/lib/python3.7/dist-packages/ipykernel_launcher.py:46: UserWarning: To copy construct from a tensor, it is recommended to use sourceTensor.clone().detach() or sourceTensor.clone().detach().requires_grad_(True), rather than torch.tensor(sourceTensor).\n",
            "\u001b[32m[I 2022-02-19 04:01:56,817]\u001b[0m Trial 12 pruned. \u001b[0m\n",
            "/usr/local/lib/python3.7/dist-packages/ipykernel_launcher.py:46: UserWarning: To copy construct from a tensor, it is recommended to use sourceTensor.clone().detach() or sourceTensor.clone().detach().requires_grad_(True), rather than torch.tensor(sourceTensor).\n",
            "\u001b[32m[I 2022-02-19 04:02:40,829]\u001b[0m Trial 13 finished with value: 0.84375 and parameters: {'n_layers': 2, 'n_units_l0': 64, 'dropout_l0': 0.4099284751114415, 'n_units_l1': 91, 'dropout_l1': 0.30214835699719444, 'optimizer': 'Adam', 'lr': 0.0006305875148355409}. Best is trial 3 with value: 0.846875.\u001b[0m\n",
            "/usr/local/lib/python3.7/dist-packages/ipykernel_launcher.py:46: UserWarning: To copy construct from a tensor, it is recommended to use sourceTensor.clone().detach() or sourceTensor.clone().detach().requires_grad_(True), rather than torch.tensor(sourceTensor).\n",
            "\u001b[32m[I 2022-02-19 04:03:33,910]\u001b[0m Trial 14 finished with value: 0.84 and parameters: {'n_layers': 3, 'n_units_l0': 66, 'dropout_l0': 0.40668914397418515, 'n_units_l1': 89, 'dropout_l1': 0.29196596461354063, 'n_units_l2': 88, 'dropout_l2': 0.20240705802810846, 'optimizer': 'Adam', 'lr': 0.00048396664721039233}. Best is trial 3 with value: 0.846875.\u001b[0m\n",
            "/usr/local/lib/python3.7/dist-packages/ipykernel_launcher.py:46: UserWarning: To copy construct from a tensor, it is recommended to use sourceTensor.clone().detach() or sourceTensor.clone().detach().requires_grad_(True), rather than torch.tensor(sourceTensor).\n",
            "\u001b[32m[I 2022-02-19 04:04:28,786]\u001b[0m Trial 15 finished with value: 0.841875 and parameters: {'n_layers': 2, 'n_units_l0': 65, 'dropout_l0': 0.42569435205533895, 'n_units_l1': 51, 'dropout_l1': 0.2041737510389674, 'optimizer': 'Adam', 'lr': 0.0025261420699503895}. Best is trial 3 with value: 0.846875.\u001b[0m\n",
            "/usr/local/lib/python3.7/dist-packages/ipykernel_launcher.py:46: UserWarning: To copy construct from a tensor, it is recommended to use sourceTensor.clone().detach() or sourceTensor.clone().detach().requires_grad_(True), rather than torch.tensor(sourceTensor).\n",
            "\u001b[32m[I 2022-02-19 04:05:17,966]\u001b[0m Trial 16 finished with value: 0.8475 and parameters: {'n_layers': 3, 'n_units_l0': 75, 'dropout_l0': 0.3697812862189006, 'n_units_l1': 92, 'dropout_l1': 0.31250329747340094, 'n_units_l2': 125, 'dropout_l2': 0.4258317133105567, 'optimizer': 'Adam', 'lr': 0.00035952867884704907}. Best is trial 16 with value: 0.8475.\u001b[0m\n",
            "/usr/local/lib/python3.7/dist-packages/ipykernel_launcher.py:46: UserWarning: To copy construct from a tensor, it is recommended to use sourceTensor.clone().detach() or sourceTensor.clone().detach().requires_grad_(True), rather than torch.tensor(sourceTensor).\n",
            "\u001b[32m[I 2022-02-19 04:05:19,741]\u001b[0m Trial 17 pruned. \u001b[0m\n",
            "/usr/local/lib/python3.7/dist-packages/ipykernel_launcher.py:46: UserWarning: To copy construct from a tensor, it is recommended to use sourceTensor.clone().detach() or sourceTensor.clone().detach().requires_grad_(True), rather than torch.tensor(sourceTensor).\n",
            "\u001b[32m[I 2022-02-19 04:05:21,315]\u001b[0m Trial 18 pruned. \u001b[0m\n",
            "/usr/local/lib/python3.7/dist-packages/ipykernel_launcher.py:46: UserWarning: To copy construct from a tensor, it is recommended to use sourceTensor.clone().detach() or sourceTensor.clone().detach().requires_grad_(True), rather than torch.tensor(sourceTensor).\n",
            "\u001b[32m[I 2022-02-19 04:05:24,755]\u001b[0m Trial 19 pruned. \u001b[0m\n",
            "/usr/local/lib/python3.7/dist-packages/ipykernel_launcher.py:46: UserWarning: To copy construct from a tensor, it is recommended to use sourceTensor.clone().detach() or sourceTensor.clone().detach().requires_grad_(True), rather than torch.tensor(sourceTensor).\n",
            "\u001b[32m[I 2022-02-19 04:05:26,363]\u001b[0m Trial 20 pruned. \u001b[0m\n",
            "/usr/local/lib/python3.7/dist-packages/ipykernel_launcher.py:46: UserWarning: To copy construct from a tensor, it is recommended to use sourceTensor.clone().detach() or sourceTensor.clone().detach().requires_grad_(True), rather than torch.tensor(sourceTensor).\n",
            "\u001b[32m[I 2022-02-19 04:06:10,193]\u001b[0m Trial 21 finished with value: 0.84625 and parameters: {'n_layers': 2, 'n_units_l0': 71, 'dropout_l0': 0.3907856917930709, 'n_units_l1': 92, 'dropout_l1': 0.2873821026116328, 'optimizer': 'Adam', 'lr': 0.0012336487362819121}. Best is trial 16 with value: 0.8475.\u001b[0m\n",
            "/usr/local/lib/python3.7/dist-packages/ipykernel_launcher.py:46: UserWarning: To copy construct from a tensor, it is recommended to use sourceTensor.clone().detach() or sourceTensor.clone().detach().requires_grad_(True), rather than torch.tensor(sourceTensor).\n",
            "\u001b[32m[I 2022-02-19 04:06:13,355]\u001b[0m Trial 22 pruned. \u001b[0m\n",
            "/usr/local/lib/python3.7/dist-packages/ipykernel_launcher.py:46: UserWarning: To copy construct from a tensor, it is recommended to use sourceTensor.clone().detach() or sourceTensor.clone().detach().requires_grad_(True), rather than torch.tensor(sourceTensor).\n",
            "\u001b[32m[I 2022-02-19 04:06:14,844]\u001b[0m Trial 23 pruned. \u001b[0m\n",
            "/usr/local/lib/python3.7/dist-packages/ipykernel_launcher.py:46: UserWarning: To copy construct from a tensor, it is recommended to use sourceTensor.clone().detach() or sourceTensor.clone().detach().requires_grad_(True), rather than torch.tensor(sourceTensor).\n",
            "\u001b[32m[I 2022-02-19 04:06:16,405]\u001b[0m Trial 24 pruned. \u001b[0m\n",
            "/usr/local/lib/python3.7/dist-packages/ipykernel_launcher.py:46: UserWarning: To copy construct from a tensor, it is recommended to use sourceTensor.clone().detach() or sourceTensor.clone().detach().requires_grad_(True), rather than torch.tensor(sourceTensor).\n",
            "\u001b[32m[I 2022-02-19 04:06:17,894]\u001b[0m Trial 25 pruned. \u001b[0m\n",
            "/usr/local/lib/python3.7/dist-packages/ipykernel_launcher.py:46: UserWarning: To copy construct from a tensor, it is recommended to use sourceTensor.clone().detach() or sourceTensor.clone().detach().requires_grad_(True), rather than torch.tensor(sourceTensor).\n",
            "\u001b[32m[I 2022-02-19 04:06:19,541]\u001b[0m Trial 26 pruned. \u001b[0m\n",
            "/usr/local/lib/python3.7/dist-packages/ipykernel_launcher.py:46: UserWarning: To copy construct from a tensor, it is recommended to use sourceTensor.clone().detach() or sourceTensor.clone().detach().requires_grad_(True), rather than torch.tensor(sourceTensor).\n",
            "\u001b[32m[I 2022-02-19 04:06:22,911]\u001b[0m Trial 27 pruned. \u001b[0m\n",
            "/usr/local/lib/python3.7/dist-packages/ipykernel_launcher.py:46: UserWarning: To copy construct from a tensor, it is recommended to use sourceTensor.clone().detach() or sourceTensor.clone().detach().requires_grad_(True), rather than torch.tensor(sourceTensor).\n",
            "\u001b[32m[I 2022-02-19 04:06:25,765]\u001b[0m Trial 28 pruned. \u001b[0m\n",
            "/usr/local/lib/python3.7/dist-packages/ipykernel_launcher.py:46: UserWarning: To copy construct from a tensor, it is recommended to use sourceTensor.clone().detach() or sourceTensor.clone().detach().requires_grad_(True), rather than torch.tensor(sourceTensor).\n",
            "\u001b[32m[I 2022-02-19 04:06:27,287]\u001b[0m Trial 29 pruned. \u001b[0m\n",
            "/usr/local/lib/python3.7/dist-packages/ipykernel_launcher.py:46: UserWarning: To copy construct from a tensor, it is recommended to use sourceTensor.clone().detach() or sourceTensor.clone().detach().requires_grad_(True), rather than torch.tensor(sourceTensor).\n",
            "\u001b[32m[I 2022-02-19 04:06:28,804]\u001b[0m Trial 30 pruned. \u001b[0m\n",
            "/usr/local/lib/python3.7/dist-packages/ipykernel_launcher.py:46: UserWarning: To copy construct from a tensor, it is recommended to use sourceTensor.clone().detach() or sourceTensor.clone().detach().requires_grad_(True), rather than torch.tensor(sourceTensor).\n",
            "\u001b[32m[I 2022-02-19 04:07:12,642]\u001b[0m Trial 31 finished with value: 0.845 and parameters: {'n_layers': 2, 'n_units_l0': 71, 'dropout_l0': 0.4211856384232813, 'n_units_l1': 91, 'dropout_l1': 0.3086937201364214, 'optimizer': 'Adam', 'lr': 0.0005168883194966338}. Best is trial 16 with value: 0.8475.\u001b[0m\n"
          ]
        },
        {
          "output_type": "stream",
          "name": "stdout",
          "text": [
            "Study statistics: \n",
            "  Number of finished trials:  32\n",
            "  Number of pruned trials:  20\n",
            "  Number of complete trials:  12\n",
            "Best trial:\n",
            "  Value:  0.8475\n",
            "  Params: \n",
            "    n_layers: 3\n",
            "    n_units_l0: 75\n",
            "    dropout_l0: 0.3697812862189006\n",
            "    n_units_l1: 92\n",
            "    dropout_l1: 0.31250329747340094\n",
            "    n_units_l2: 125\n",
            "    dropout_l2: 0.4258317133105567\n",
            "    optimizer: Adam\n",
            "    lr: 0.00035952867884704907\n"
          ]
        }
      ]
    },
    {
      "cell_type": "markdown",
      "source": [
        "## Train model\n",
        "\n",
        "In that step, we retrain the model with the best architecture."
      ],
      "metadata": {
        "id": "ggQ4hddGH1I1"
      }
    },
    {
      "cell_type": "code",
      "source": [
        "model = define_model(trial)"
      ],
      "metadata": {
        "id": "mzq4vJ8EHxkl"
      },
      "execution_count": null,
      "outputs": []
    },
    {
      "cell_type": "markdown",
      "source": [
        "Define the loss function and optimizer that suits with hyperparameter search result. "
      ],
      "metadata": {
        "id": "Mamm-MOxH7ky"
      }
    },
    {
      "cell_type": "code",
      "source": [
        "loss_criteria = nn.BCELoss()\n",
        "\n",
        "optimizer = torch.optim.RMSprop(model.parameters(), lr=trial.params['lr'])\n",
        "optimizer.zero_grad()\n",
        "\n",
        "# We'll track metrics for each epoch in these arrays\n",
        "epoch_nums = []\n",
        "training_loss = []\n",
        "validation_loss = []\n",
        "\n",
        "# Train over 30 epochs\n",
        "epochs = 30"
      ],
      "metadata": {
        "id": "mS_DeQftH33k"
      },
      "execution_count": null,
      "outputs": []
    },
    {
      "cell_type": "markdown",
      "source": [
        "## Evaluate model\n",
        "\n",
        "Finally, we train the best model in train dataset and evaluate in test dataset."
      ],
      "metadata": {
        "id": "XezWT8l0IOrR"
      }
    },
    {
      "cell_type": "code",
      "source": [
        "def train(model, data_loader, optimizer):\n",
        "    '''\n",
        "    Train model through data loader and optimizer\n",
        "    Args:\n",
        "      model: model to train\n",
        "      data_loader: data loader to manage batch loading\n",
        "      optimizer: control update gradient descent\n",
        "    '''\n",
        "    # enable train mode\n",
        "    model.train()\n",
        "    train_loss = 0\n",
        "    \n",
        "    for batch, tensor in enumerate(data_loader):\n",
        "        data, target = tensor\n",
        "        # reset optimizer into zero\n",
        "        optimizer.zero_grad()\n",
        "        # feed forward to compute output and loss\n",
        "        out = model(data)\n",
        "        loss = loss_criteria(out, target)\n",
        "        # accumulate loss\n",
        "        train_loss += loss.item()\n",
        "        # compute gradient descent\n",
        "        loss.backward()\n",
        "        # update into weight\n",
        "        optimizer.step()\n",
        "\n",
        "    avg_loss = train_loss / (batch+1)\n",
        "    print('Training set: Average loss: {:.6f}'.format(avg_loss))\n",
        "    return avg_loss\n",
        "\n",
        "def test(model, data_loader):\n",
        "    '''\n",
        "    evaluate model accuracy and loss on test\n",
        "    Args: \n",
        "      model: model trained\n",
        "      data_loader: load the dataset\n",
        "    '''\n",
        "    # Turn on evaluation mode\n",
        "    model.eval()\n",
        "    test_loss = 0\n",
        "    correct = 0\n",
        "    # Constrain operation inside torch.no_grad() to restrict the gradient compute and update weight \n",
        "    with torch.no_grad():\n",
        "        batch_count = 0\n",
        "        for batch, tensor in enumerate(data_loader):\n",
        "            batch_count += 1\n",
        "            data, target = tensor\n",
        "            # Get the predictions\n",
        "            out = model(data)\n",
        "\n",
        "            # calculate the loss\n",
        "            test_loss += loss_criteria(out, target).item()\n",
        "            # Calculate the accuracy\n",
        "            predicted = torch.tensor(out.data[1]>=0.5).float()\n",
        "            correct += torch.sum(target==predicted).item()\n",
        "    # Calculate the average loss and total accuracy for this epoch\n",
        "    avg_loss = test_loss/batch_count\n",
        "    print(correct,' : ', len(data_loader.dataset))\n",
        "    print('Validation set: Average loss: {:.6f}, Accuracy: {}/{} ({:.0f}%)\\n'.format(\n",
        "        avg_loss, correct, len(data_loader.dataset),\n",
        "        100. * correct / len(data_loader.dataset)))\n",
        "    \n",
        "    # return average loss for the epoch\n",
        "    return avg_loss"
      ],
      "metadata": {
        "id": "DZpeyX1DE0tA"
      },
      "execution_count": null,
      "outputs": []
    },
    {
      "cell_type": "code",
      "source": [
        "# training through epoch\n",
        "for epoch in range(1, epochs + 1):\n",
        "    # print the epoch number\n",
        "    print('Epoch: {}'.format(epoch))\n",
        "    \n",
        "    # Feed training data into the model to optimize the weights\n",
        "    train_loss = train(model, train_loader, optimizer)\n",
        "    \n",
        "    # Feed the test data into the model to check its performance\n",
        "    test_loss = test(model, test_loader)\n",
        "    \n",
        "    # Log the metrics for this epoch\n",
        "    epoch_nums.append(epoch)\n",
        "    training_loss.append(train_loss)\n",
        "    validation_loss.append(test_loss)"
      ],
      "metadata": {
        "colab": {
          "base_uri": "https://localhost:8080/"
        },
        "id": "2NSWjapwIXwI",
        "outputId": "bbe01b82-6161-4bb3-9c8a-75243794b4a1"
      },
      "execution_count": null,
      "outputs": [
        {
          "output_type": "stream",
          "name": "stdout",
          "text": [
            "Epoch: 1\n",
            "Training set: Average loss: 0.368973\n"
          ]
        },
        {
          "output_type": "stream",
          "name": "stderr",
          "text": [
            "/usr/local/lib/python3.7/dist-packages/ipykernel_launcher.py:54: UserWarning: To copy construct from a tensor, it is recommended to use sourceTensor.clone().detach() or sourceTensor.clone().detach().requires_grad_(True), rather than torch.tensor(sourceTensor).\n"
          ]
        },
        {
          "output_type": "stream",
          "name": "stdout",
          "text": [
            "2926  :  4400\n",
            "Validation set: Average loss: 0.329654, Accuracy: 2926/4400 (66%)\n",
            "\n",
            "Epoch: 2\n",
            "Training set: Average loss: 0.333589\n",
            "2908  :  4400\n",
            "Validation set: Average loss: 0.325401, Accuracy: 2908/4400 (66%)\n",
            "\n",
            "Epoch: 3\n",
            "Training set: Average loss: 0.321076\n",
            "2950  :  4400\n",
            "Validation set: Average loss: 0.322870, Accuracy: 2950/4400 (67%)\n",
            "\n",
            "Epoch: 4\n",
            "Training set: Average loss: 0.317430\n",
            "2940  :  4400\n",
            "Validation set: Average loss: 0.322471, Accuracy: 2940/4400 (67%)\n",
            "\n",
            "Epoch: 5\n",
            "Training set: Average loss: 0.313620\n",
            "2946  :  4400\n",
            "Validation set: Average loss: 0.324390, Accuracy: 2946/4400 (67%)\n",
            "\n",
            "Epoch: 6\n",
            "Training set: Average loss: 0.312862\n",
            "2940  :  4400\n",
            "Validation set: Average loss: 0.319950, Accuracy: 2940/4400 (67%)\n",
            "\n",
            "Epoch: 7\n",
            "Training set: Average loss: 0.310839\n",
            "2940  :  4400\n",
            "Validation set: Average loss: 0.321530, Accuracy: 2940/4400 (67%)\n",
            "\n",
            "Epoch: 8\n",
            "Training set: Average loss: 0.306397\n",
            "2946  :  4400\n",
            "Validation set: Average loss: 0.322132, Accuracy: 2946/4400 (67%)\n",
            "\n",
            "Epoch: 9\n",
            "Training set: Average loss: 0.305625\n",
            "2952  :  4400\n",
            "Validation set: Average loss: 0.320562, Accuracy: 2952/4400 (67%)\n",
            "\n",
            "Epoch: 10\n",
            "Training set: Average loss: 0.303244\n",
            "2942  :  4400\n",
            "Validation set: Average loss: 0.320017, Accuracy: 2942/4400 (67%)\n",
            "\n",
            "Epoch: 11\n",
            "Training set: Average loss: 0.304264\n",
            "2948  :  4400\n",
            "Validation set: Average loss: 0.322265, Accuracy: 2948/4400 (67%)\n",
            "\n",
            "Epoch: 12\n",
            "Training set: Average loss: 0.300696\n",
            "2982  :  4400\n",
            "Validation set: Average loss: 0.323571, Accuracy: 2982/4400 (68%)\n",
            "\n",
            "Epoch: 13\n",
            "Training set: Average loss: 0.301227\n",
            "2944  :  4400\n",
            "Validation set: Average loss: 0.323322, Accuracy: 2944/4400 (67%)\n",
            "\n",
            "Epoch: 14\n",
            "Training set: Average loss: 0.298832\n",
            "2948  :  4400\n",
            "Validation set: Average loss: 0.324447, Accuracy: 2948/4400 (67%)\n",
            "\n",
            "Epoch: 15\n",
            "Training set: Average loss: 0.299520\n",
            "2966  :  4400\n",
            "Validation set: Average loss: 0.324296, Accuracy: 2966/4400 (67%)\n",
            "\n",
            "Epoch: 16\n",
            "Training set: Average loss: 0.295291\n",
            "2968  :  4400\n",
            "Validation set: Average loss: 0.325297, Accuracy: 2968/4400 (67%)\n",
            "\n",
            "Epoch: 17\n",
            "Training set: Average loss: 0.297447\n",
            "2932  :  4400\n",
            "Validation set: Average loss: 0.341974, Accuracy: 2932/4400 (67%)\n",
            "\n",
            "Epoch: 18\n",
            "Training set: Average loss: 0.296464\n",
            "2960  :  4400\n",
            "Validation set: Average loss: 0.324700, Accuracy: 2960/4400 (67%)\n",
            "\n",
            "Epoch: 19\n",
            "Training set: Average loss: 0.297281\n",
            "2958  :  4400\n",
            "Validation set: Average loss: 0.344336, Accuracy: 2958/4400 (67%)\n",
            "\n",
            "Epoch: 20\n",
            "Training set: Average loss: 0.300457\n",
            "2954  :  4400\n",
            "Validation set: Average loss: 0.322749, Accuracy: 2954/4400 (67%)\n",
            "\n",
            "Epoch: 21\n",
            "Training set: Average loss: 0.299129\n",
            "2966  :  4400\n",
            "Validation set: Average loss: 0.342475, Accuracy: 2966/4400 (67%)\n",
            "\n",
            "Epoch: 22\n",
            "Training set: Average loss: 0.299142\n",
            "2980  :  4400\n",
            "Validation set: Average loss: 0.324411, Accuracy: 2980/4400 (68%)\n",
            "\n",
            "Epoch: 23\n",
            "Training set: Average loss: 0.297196\n",
            "2952  :  4400\n",
            "Validation set: Average loss: 0.343339, Accuracy: 2952/4400 (67%)\n",
            "\n",
            "Epoch: 24\n",
            "Training set: Average loss: 0.297507\n",
            "2954  :  4400\n",
            "Validation set: Average loss: 0.340823, Accuracy: 2954/4400 (67%)\n",
            "\n",
            "Epoch: 25\n",
            "Training set: Average loss: 0.297162\n",
            "2968  :  4400\n",
            "Validation set: Average loss: 0.342779, Accuracy: 2968/4400 (67%)\n",
            "\n",
            "Epoch: 26\n",
            "Training set: Average loss: 0.292333\n",
            "2946  :  4400\n",
            "Validation set: Average loss: 0.345981, Accuracy: 2946/4400 (67%)\n",
            "\n",
            "Epoch: 27\n",
            "Training set: Average loss: 0.290631\n",
            "2966  :  4400\n",
            "Validation set: Average loss: 0.349388, Accuracy: 2966/4400 (67%)\n",
            "\n",
            "Epoch: 28\n",
            "Training set: Average loss: 0.288650\n",
            "2946  :  4400\n",
            "Validation set: Average loss: 0.349884, Accuracy: 2946/4400 (67%)\n",
            "\n",
            "Epoch: 29\n",
            "Training set: Average loss: 0.294672\n",
            "2960  :  4400\n",
            "Validation set: Average loss: 0.344756, Accuracy: 2960/4400 (67%)\n",
            "\n",
            "Epoch: 30\n",
            "Training set: Average loss: 0.291390\n",
            "2954  :  4400\n",
            "Validation set: Average loss: 0.348068, Accuracy: 2954/4400 (67%)\n",
            "\n",
            "Epoch: 31\n",
            "Training set: Average loss: 0.293486\n",
            "2960  :  4400\n",
            "Validation set: Average loss: 0.348633, Accuracy: 2960/4400 (67%)\n",
            "\n",
            "Epoch: 32\n",
            "Training set: Average loss: 0.289890\n",
            "2954  :  4400\n",
            "Validation set: Average loss: 0.348706, Accuracy: 2954/4400 (67%)\n",
            "\n",
            "Epoch: 33\n",
            "Training set: Average loss: 0.292275\n",
            "2954  :  4400\n",
            "Validation set: Average loss: 0.347203, Accuracy: 2954/4400 (67%)\n",
            "\n",
            "Epoch: 34\n",
            "Training set: Average loss: 0.292376\n",
            "2954  :  4400\n",
            "Validation set: Average loss: 0.347845, Accuracy: 2954/4400 (67%)\n",
            "\n",
            "Epoch: 35\n",
            "Training set: Average loss: 0.292336\n",
            "2966  :  4400\n",
            "Validation set: Average loss: 0.347751, Accuracy: 2966/4400 (67%)\n",
            "\n",
            "Epoch: 36\n",
            "Training set: Average loss: 0.287495\n",
            "2960  :  4400\n",
            "Validation set: Average loss: 0.346573, Accuracy: 2960/4400 (67%)\n",
            "\n",
            "Epoch: 37\n",
            "Training set: Average loss: 0.289165\n",
            "2952  :  4400\n",
            "Validation set: Average loss: 0.346949, Accuracy: 2952/4400 (67%)\n",
            "\n",
            "Epoch: 38\n",
            "Training set: Average loss: 0.285946\n",
            "2960  :  4400\n",
            "Validation set: Average loss: 0.355130, Accuracy: 2960/4400 (67%)\n",
            "\n",
            "Epoch: 39\n",
            "Training set: Average loss: 0.291447\n",
            "2946  :  4400\n",
            "Validation set: Average loss: 0.347854, Accuracy: 2946/4400 (67%)\n",
            "\n",
            "Epoch: 40\n",
            "Training set: Average loss: 0.291031\n",
            "2954  :  4400\n",
            "Validation set: Average loss: 0.350189, Accuracy: 2954/4400 (67%)\n",
            "\n"
          ]
        }
      ]
    },
    {
      "cell_type": "code",
      "source": [
        "import matplotlib.pyplot as plt\n",
        "%matplotlib inline\n",
        "def _evaluate(model, x_test):\n",
        "  model.eval()\n",
        "  x = torch.Tensor(x_test).float()\n",
        "  predictions = [1 if i>0.5 else 0 for i in model(x).data]\n",
        "  predictions = torch.tensor(predictions)\n",
        "  print('Evaluation on test dataset')\n",
        "  get_metrics(y_test, predictions)\n",
        "\n",
        "  # Plot the confusion matrix\n",
        "  classes=['0','1']\n",
        "  cm = confusion_matrix(y_test, predictions.numpy())\n",
        "  plt.imshow(cm, interpolation=\"nearest\", cmap=plt.cm.Blues)\n",
        "  plt.colorbar()\n",
        "  tick_marks = np.arange(2)\n",
        "  plt.xticks(tick_marks, classes, rotation=85)\n",
        "  plt.yticks(tick_marks, classes)\n",
        "  plt.xlabel(\"Predicted\")\n",
        "  plt.ylabel(\"Actual\")\n",
        "  plt.show()\n",
        "_evaluate(model, x_test)"
      ],
      "metadata": {
        "colab": {
          "base_uri": "https://localhost:8080/",
          "height": 572
        },
        "id": "fkVdXC3KIb6q",
        "outputId": "64dc5ac0-5916-49a2-9a7c-c681ee2fd073"
      },
      "execution_count": null,
      "outputs": [
        {
          "output_type": "stream",
          "name": "stdout",
          "text": [
            "Evaluation on test dataset\n",
            "ACCURACY_SCORE:  0.8518\n",
            "F1_SCORE:  0.7827\n",
            "CONFUSION_MATRIX:\n",
            " [[3115  225]\n",
            " [ 427  633]] \n",
            "\n",
            "              precision    recall  f1-score   support\n",
            "\n",
            "           0     0.8794    0.9326    0.9053      3340\n",
            "           1     0.7378    0.5972    0.6601      1060\n",
            "\n",
            "    accuracy                         0.8518      4400\n",
            "   macro avg     0.8086    0.7649    0.7827      4400\n",
            "weighted avg     0.8453    0.8518    0.8462      4400\n",
            " \n",
            "\n"
          ]
        },
        {
          "output_type": "display_data",
          "data": {
            "image/png": "[encoded data removed]",
            "text/plain": [
              "<Figure size 432x288 with 2 Axes>"
            ]
          },
          "metadata": {
            "needs_background": "light"
          }
        }
      ]
    },
    {
      "cell_type": "code",
      "source": [
        "cd /content/drive/MyDrive"
      ],
      "metadata": {
        "id": "fUbuHQePL4H2",
        "colab": {
          "base_uri": "https://localhost:8080/"
        },
        "outputId": "e85b4d6c-ed92-4b89-c964-3bb697c95bfa"
      },
      "execution_count": null,
      "outputs": [
        {
          "output_type": "stream",
          "name": "stdout",
          "text": [
            "/content/drive/MyDrive\n"
          ]
        }
      ]
    },
    {
      "cell_type": "code",
      "source": [
        "import pickle\n",
        "def _save_pkl(path, obj):\n",
        "  with open(path, 'wb') as f:\n",
        "    pickle.dump(obj, f)\n",
        "\n",
        "def _load_pkl(path):\n",
        "  with open(path, 'rb') as f:\n",
        "    obj = pickle.load(f)\n",
        "  return obj"
      ],
      "metadata": {
        "id": "pcwManYROxIR"
      },
      "execution_count": null,
      "outputs": []
    },
    {
      "cell_type": "code",
      "source": [
        "_save_pkl('IncomeClassifier',model)"
      ],
      "metadata": {
        "id": "I0VXOL2rNFCT"
      },
      "execution_count": null,
      "outputs": []
    },
    {
      "cell_type": "code",
      "source": [
        "_save_pkl(\"IncomeScaler\",scaler)"
      ],
      "metadata": {
        "id": "UbaOxoFSO2I4"
      },
      "execution_count": null,
      "outputs": []
    },
    {
      "cell_type": "markdown",
      "source": [
        "# 10. Flask Deployment"
      ],
      "metadata": {
        "id": "5ZxFVZVcR1He"
      }
    },
    {
      "cell_type": "code",
      "source": [
        "# Encoding numpy to json\n",
        "import json\n",
        "class NumpyEncoder(json.JSONEncoder):\n",
        "    '''\n",
        "    Encoding numpy into json\n",
        "    '''\n",
        "    def default(self, obj):\n",
        "        if isinstance(obj, np.ndarray):\n",
        "            return obj.tolist()\n",
        "        if isinstance(obj, np.int32):\n",
        "            return int(obj)\n",
        "        if isinstance(obj, np.int64):\n",
        "            return int(obj)\n",
        "        if isinstance(obj, np.float32):\n",
        "            return float(obj)\n",
        "        if isinstance(obj, np.float64):\n",
        "            return float(obj)\n",
        "        return json.JSONEncoder.default(self, obj)"
      ],
      "metadata": {
        "id": "TmkNTsQ_RomJ"
      },
      "execution_count": null,
      "outputs": []
    },
    {
      "cell_type": "code",
      "source": [
        "from PIL import Image\n",
        "import numpy as np\n",
        "from flask import Flask, request\n",
        "import flask\n",
        "import json\n",
        "\n",
        "# Khởi tạo model.\n",
        "global model \n",
        "model = None\n",
        "# Khởi tạo flask app\n",
        "app = Flask(__name__)\n",
        "\n",
        "# Khai báo các route 1 cho API\n",
        "@app.route(\"/\", methods=[\"GET\"])\n",
        "# Khai báo hàm xử lý dữ liệu.\n",
        "def _hello_world():\n",
        "  return \"Hello world\"\n",
        "\n",
        "if __name__ == \"__main__\":\n",
        "  print(\"App run!\")\n",
        "  app.run()"
      ],
      "metadata": {
        "colab": {
          "base_uri": "https://localhost:8080/"
        },
        "id": "HXZMmCy9SB1Y",
        "outputId": "e25203e6-6b80-4fa5-aa72-71f8fd0ffab1"
      },
      "execution_count": null,
      "outputs": [
        {
          "output_type": "stream",
          "name": "stdout",
          "text": [
            "App run!\n",
            " * Serving Flask app \"__main__\" (lazy loading)\n",
            " * Environment: production\n",
            "\u001b[31m   WARNING: This is a development server. Do not use it in a production deployment.\u001b[0m\n",
            "\u001b[2m   Use a production WSGI server instead.\u001b[0m\n",
            " * Debug mode: off\n"
          ]
        },
        {
          "output_type": "stream",
          "name": "stderr",
          "text": [
            " * Running on http://127.0.0.1:5000/ (Press CTRL+C to quit)\n"
          ]
        }
      ]
    },
    {
      "cell_type": "code",
      "source": [
        ""
      ],
      "metadata": {
        "id": "D_4n3WyxSJmr"
      },
      "execution_count": null,
      "outputs": []
    },
    {
      "cell_type": "markdown",
      "source": [
        "# chưa thấy câu 6,7,8 thay đổi loss,optim,khởi tạo trọng số, thêm bớt layer"
      ],
      "metadata": {
        "id": "SzEWVJ2b4Fwv"
      }
    },
    {
      "cell_type": "code",
      "source": [
        ""
      ],
      "metadata": {
        "id": "5vVgi0nK4LSD"
      },
      "execution_count": null,
      "outputs": []
    }
  ]
}