{
  "nbformat": 4,
  "nbformat_minor": 0,
  "metadata": {
    "colab": {
      "name": "DeepNeuralNetwork_LeAnhThang.ipynb",
      "provenance": [],
      "collapsed_sections": []
    },
    "kernelspec": {
      "name": "python3",
      "display_name": "Python 3"
    },
    "language_info": {
      "name": "python"
    }
  },
  "cells": [
    {
      "cell_type": "markdown",
      "source": [
        "# Lý thuyết"
      ],
      "metadata": {
        "id": "uy1My1YTpD2N"
      }
    },
    {
      "cell_type": "markdown",
      "source": [
        "1. Tại sao các mô hình deep learning lại chiếm ưu thế hơn so với các mô hình machine learning truyền thống đối với dữ liệu lớn ?\n",
        "\n",
        "    A. Do mô hình deep learning có thể được thiết kế với kích thước tùy ý nên có khả năng xấp xỉ mọi hàm số. Do đó nó có khả năng biểu diễn tốt và hoạt động hiệu quả trên dữ liệu lớn."
      ],
      "metadata": {
        "id": "T4EXQ6x3pGMi"
      }
    },
    {
      "cell_type": "markdown",
      "source": [
        "2. Ý nghĩa của hàm loss function trong mạng neural network là gì ?\n",
        "\n",
        "    B. Mục tiêu của quá trình huấn luyện là tối thiểu hóa hàm loss function bằng thuật toán gradient descent. Giá trị của hàm số này giúp đo lường mức độ khớp của dự báo từ mô hình trên dữ liệu huấn luyện."
      ],
      "metadata": {
        "id": "YxWEPkYFpp--"
      }
    },
    {
      "cell_type": "markdown",
      "source": [
        "3. Khi huấn luyện trên các bộ dữ liệu bigdata thì chúng ta nên sử dụng phương pháp nào ?\n",
        "\n",
        "    C) Mini-batch gradient descent huấn luyện mô hình trên từng tập dữ liệu con có kích thước nhỏ hơn memory CPU/GPU.\n",
        "    "
      ],
      "metadata": {
        "id": "ZbEPPqlUtEA7"
      }
    },
    {
      "cell_type": "markdown",
      "source": [
        "4. Quá trình feed forward và backpropagation thực hiện những gì ?\n",
        "\n",
        "    A) feed forward tính toán output và loss function, backpropagation tính đạo hàm trên từng layer và cập nhật trọng số."
      ],
      "metadata": {
        "id": "f72GiZc2tPAT"
      }
    },
    {
      "cell_type": "markdown",
      "source": [
        "5. Tác dụng của batch normalization là gì ?\n",
        "    \n",
        "    D) Giảm thiểu ảnh hưởng của input distribution shift nhằm giúp huấn luyện loss function nhanh và ổn định hơn.\n",
        "    "
      ],
      "metadata": {
        "id": "l8NImSXBt_uh"
      }
    },
    {
      "cell_type": "markdown",
      "source": [
        "# Thực hành"
      ],
      "metadata": {
        "id": "8VL68rAXyzMj"
      }
    },
    {
      "cell_type": "markdown",
      "source": [
        "#### 6) Thay đổi hàm loss function, batch size và optimizer."
      ],
      "metadata": {
        "id": "cXcn2j1Ky4MF"
      }
    },
    {
      "cell_type": "code",
      "source": [
        "from google.colab import drive\n",
        "import os\n",
        "drive.mount('/content/drive')\n",
        "path = \"/content/drive/My Drive/machine_learning_hand_On_DS/kaggle/income\"\n",
        "# OS.chdir(path)\n",
        "%cd {path}"
      ],
      "metadata": {
        "id": "PD2XLeLBtOQ0",
        "colab": {
          "base_uri": "https://localhost:8080/"
        },
        "outputId": "6be54fb7-4254-45a7-f406-ae2c7809e8fd"
      },
      "execution_count": null,
      "outputs": [
        {
          "output_type": "stream",
          "name": "stdout",
          "text": [
            "Mounted at /content/drive\n",
            "/content/drive/My Drive/machine_learning_hand_On_DS/kaggle/income\n"
          ]
        }
      ]
    },
    {
      "cell_type": "code",
      "source": [
        "import pandas as pd\n",
        "import re\n",
        "from sklearn.preprocessing import LabelEncoder\n",
        "from sklearn.preprocessing import StandardScaler\n",
        "from sklearn.model_selection import train_test_split\n",
        "from sklearn.metrics import accuracy_score, f1_score, roc_auc_score, confusion_matrix, classification_report\n",
        "import torch\n",
        "import torch.nn as nn\n",
        "import torch.utils.data as td\n",
        "\n",
        "# Set random seed for reproducability\n",
        "torch.manual_seed(0)\n",
        "\n",
        "print(\"Libraries imported - ready to use PyTorch\", torch.__version__)"
      ],
      "metadata": {
        "colab": {
          "base_uri": "https://localhost:8080/"
        },
        "id": "RoOkWjM00zEX",
        "outputId": "c6f2b5b9-df82-444d-d62e-1fcf8c08c18d"
      },
      "execution_count": null,
      "outputs": [
        {
          "output_type": "stream",
          "name": "stdout",
          "text": [
            "Libraries imported - ready to use PyTorch 1.10.0+cu111\n"
          ]
        }
      ]
    },
    {
      "cell_type": "code",
      "source": [
        "import numpy as np\n",
        "import random\n",
        "def seed_all(seed):\n",
        "    np.random.seed(seed)\n",
        "    random.seed(seed)\n",
        "seed = 42 \n",
        "seed_all(seed)"
      ],
      "metadata": {
        "id": "eFYUSqGE0sD1"
      },
      "execution_count": null,
      "outputs": []
    },
    {
      "cell_type": "code",
      "source": [
        "#metric\n",
        "def get_metrics(y_test, y_pred):\n",
        "    print('ACCURACY_SCORE: ', round(accuracy_score(y_test, y_pred), 4))\n",
        "    print('F1_SCORE: ', round(f1_score(y_test, y_pred, average='macro'), 4))\n",
        "    print('CONFUSION_MATRIX:\\n', confusion_matrix(y_test, y_pred),'\\n')\n",
        "    print(classification_report(y_test, y_pred, digits=4), '\\n')"
      ],
      "metadata": {
        "id": "1Xy6nFNXpFbp"
      },
      "execution_count": null,
      "outputs": []
    },
    {
      "cell_type": "code",
      "source": [
        "df_all = pd.read_csv('train.csv')"
      ],
      "metadata": {
        "id": "5Wt12grP05oX"
      },
      "execution_count": null,
      "outputs": []
    },
    {
      "cell_type": "code",
      "source": [
        "# normalize string\n",
        "def str_normalize(s):\n",
        "    # convert into lowercase and replace multiple spaces into single space\n",
        "    s = str(s).strip().lower()\n",
        "    s = re.sub(' +', \" \", s)\n",
        "    return s\n",
        "# Encode category and object columns \n",
        "def process(df):        \n",
        "  for col in df.columns:\n",
        "      if df[col].dtype.name == \"object\" or df[col].dtype.name == \"category\":\n",
        "          df[col] = df[col].apply(str_normalize).astype(\"category\")\n",
        "  return df\n",
        "df_all = process(df_all.copy())\n",
        "IDs=df_all.pop('ID')\n",
        "label = df_all.pop('target_income')\n",
        "df_all_one_hot = pd.get_dummies(df_all)"
      ],
      "metadata": {
        "id": "yZhZTKYb1SKd"
      },
      "execution_count": null,
      "outputs": []
    },
    {
      "cell_type": "code",
      "source": [
        "features = df_all_one_hot.columns.tolist()\n",
        "label = label.values"
      ],
      "metadata": {
        "id": "N31Q2gn61Uja"
      },
      "execution_count": null,
      "outputs": []
    },
    {
      "cell_type": "code",
      "source": [
        "features = df_all_one_hot.columns.tolist()\n",
        "\n",
        "x_train, x_test, y_train, y_test = train_test_split(df_all_one_hot[features].values, # input variable\n",
        "                                                    label, # output variable\n",
        "                                                    test_size=0.2, # test dataset proportion\n",
        "                                                    # stratify=df_all['target_income'], # assign equal proportion of target label in train/test \n",
        "                                                    random_state=0) # keep train/test split the same if run again. \n",
        "print ('Training Set: %d, Test Set: %d \\n' % (len(x_train), len(x_test)))\n",
        "#normalize\n",
        "sc = StandardScaler()\n",
        "x_train = sc.fit_transform(x_train)\n",
        "x_test = sc.transform(x_test)"
      ],
      "metadata": {
        "colab": {
          "base_uri": "https://localhost:8080/"
        },
        "id": "t01wcemF1XYQ",
        "outputId": "0800ea55-44da-46a8-f57e-01122147e794"
      },
      "execution_count": null,
      "outputs": [
        {
          "output_type": "stream",
          "name": "stdout",
          "text": [
            "Training Set: 20000, Test Set: 5000 \n",
            "\n"
          ]
        }
      ]
    },
    {
      "cell_type": "code",
      "source": [
        "hl = 50\n",
        "# Define the neural network\n",
        "class IncomeNet(nn.Module):\n",
        "    def __init__(self):\n",
        "        super(IncomeNet, self).__init__()\n",
        "        self.fc1 = nn.Linear(len(features), hl)\n",
        "        self.fc2 = nn.Linear(hl, hl)\n",
        "        self.fc3 = nn.Linear(hl, 2)\n",
        "\n",
        "    def forward(self, x):\n",
        "        x = torch.relu(self.fc1(x))\n",
        "        x = torch.relu(self.fc2(x))\n",
        "        x = torch.nn.Softmax()(self.fc3(x))\n",
        "        return x\n",
        "\n"
      ],
      "metadata": {
        "id": "GPfJ0XY11rcp"
      },
      "execution_count": null,
      "outputs": []
    },
    {
      "cell_type": "code",
      "source": [
        "def train(model, data_loader, optimizer):\n",
        "    # Set the model to training mode\n",
        "    model.train()\n",
        "    train_loss = 0\n",
        "    \n",
        "    for batch, tensor in enumerate(data_loader):\n",
        "        data, target = tensor\n",
        "        #feedforward: calculate y_pred and loss function\n",
        "        optimizer.zero_grad()\n",
        "        out = model(data)\n",
        "        loss = loss_criteria(out, target)\n",
        "        train_loss += loss.item()\n",
        "\n",
        "        # backpropagate: compute gradient descent and update weights\n",
        "        loss.backward()\n",
        "        optimizer.step()\n",
        "\n",
        "    #Return average loss\n",
        "    avg_loss = train_loss / (batch+1)\n",
        "    print('Training set: Average loss: {:.6f}'.format(avg_loss))\n",
        "    return avg_loss\n",
        "           \n",
        "            \n",
        "def test(model, data_loader):\n",
        "    # Switch the model to evaluation mode (so we don't backpropagate)\n",
        "    model.eval()\n",
        "    test_loss = 0\n",
        "    correct = 0\n",
        "\n",
        "    with torch.no_grad():\n",
        "        batch_count = 0\n",
        "        for batch, tensor in enumerate(data_loader):\n",
        "            batch_count += 1\n",
        "            data, target = tensor\n",
        "            # Get the predictions\n",
        "            out = model(data)\n",
        "\n",
        "            # calculate the loss\n",
        "            test_loss += loss_criteria(out, target).item()\n",
        "\n",
        "            # Calculate the accuracy\n",
        "            predicted = torch.tensor(out.data[:,1] >= 0.5).float()\n",
        "            correct += torch.sum(target==predicted).item()\n",
        "            \n",
        "    # Calculate the average loss and total accuracy for this epoch\n",
        "    avg_loss = test_loss/batch_count\n",
        "    print('Validation set: Average loss: {:.6f}, Accuracy: {}/{} ({:.0f}%)\\n'.format(\n",
        "        avg_loss, correct, len(data_loader.dataset),\n",
        "        100. * correct / len(data_loader.dataset)))\n",
        "    \n",
        "    # return average loss for the epoch\n",
        "    return avg_loss"
      ],
      "metadata": {
        "id": "xcFFbMlE2tKj"
      },
      "execution_count": null,
      "outputs": []
    },
    {
      "cell_type": "markdown",
      "source": [
        "##### batch_size = 64, adam"
      ],
      "metadata": {
        "id": "4t-Yl5EeAGFz"
      }
    },
    {
      "cell_type": "code",
      "source": [
        "# batch_size=64\n",
        "# Create a dataset and loader for the training data and labels\n",
        "train_x = torch.Tensor(x_train).float()\n",
        "train_y = torch.Tensor(y_train).long()\n",
        "train_ds = td.TensorDataset(train_x,train_y)\n",
        "train_loader = td.DataLoader(train_ds, batch_size=64,\n",
        "    shuffle=True, num_workers=1)\n",
        "\n",
        "# Create a dataset and loader for the test data and labels\n",
        "test_x = torch.Tensor(x_test).float()\n",
        "test_y = torch.Tensor(y_test).long()\n",
        "test_ds = td.TensorDataset(test_x,test_y)\n",
        "test_loader = td.DataLoader(test_ds, batch_size=64,\n",
        "    shuffle=False, num_workers=1)\n",
        "print('Ready to load data')"
      ],
      "metadata": {
        "colab": {
          "base_uri": "https://localhost:8080/"
        },
        "id": "mVOmXdhl33y2",
        "outputId": "1c88dd2b-08c1-4149-f097-8c56f948a305"
      },
      "execution_count": null,
      "outputs": [
        {
          "output_type": "stream",
          "name": "stdout",
          "text": [
            "Ready to load data\n"
          ]
        }
      ]
    },
    {
      "cell_type": "code",
      "source": [
        "# Create a model instance from the network\n",
        "model = IncomeNet()\n",
        "print(model)\n",
        "# Specify the loss criteria (we'll use CrossEntropyLoss for multi-class classification)\n",
        "loss_criteria = nn.CrossEntropyLoss()\n",
        "\n",
        "# Use an \"Adam\" optimizer to adjust weights\n",
        "# (see https://pytorch.org/docs/stable/optim.html#algorithms for details of supported algorithms)\n",
        "learning_rate = 0.001\n",
        "optimizer = torch.optim.Adam(model.parameters(), lr=learning_rate)\n",
        "optimizer.zero_grad()\n",
        "\n",
        "# We'll track metrics for each epoch in these arrays\n",
        "epoch_nums = []\n",
        "training_loss = []\n",
        "validation_loss = []\n",
        "\n",
        "# Train over 50 epochs\n",
        "epochs = 50\n",
        "for epoch in range(1, epochs + 1):\n",
        "\n",
        "    # print the epoch number\n",
        "    print('Epoch: {}'.format(epoch))\n",
        "    \n",
        "    # Feed training data into the model to optimize the weights\n",
        "    train_loss = train(model, train_loader, optimizer)\n",
        "    \n",
        "    # Feed the test data into the model to check its performance\n",
        "    test_loss = test(model, test_loader)\n",
        "    \n",
        "    # Log the metrics for this epoch\n",
        "    epoch_nums.append(epoch)\n",
        "    training_loss.append(train_loss)\n",
        "    validation_loss.append(test_loss)\n"
      ],
      "metadata": {
        "id": "HqAXyxxN4at6",
        "colab": {
          "base_uri": "https://localhost:8080/"
        },
        "outputId": "e2e62ad0-c1ee-409f-f7e7-c1cd6a67a12c"
      },
      "execution_count": null,
      "outputs": [
        {
          "output_type": "stream",
          "name": "stdout",
          "text": [
            "IncomeNet(\n",
            "  (fc1): Linear(in_features=108, out_features=50, bias=True)\n",
            "  (fc2): Linear(in_features=50, out_features=50, bias=True)\n",
            "  (fc3): Linear(in_features=50, out_features=2, bias=True)\n",
            ")\n",
            "Epoch: 1\n"
          ]
        },
        {
          "output_type": "stream",
          "name": "stderr",
          "text": [
            "/usr/local/lib/python3.7/dist-packages/ipykernel_launcher.py:13: UserWarning: Implicit dimension choice for softmax has been deprecated. Change the call to include dim=X as an argument.\n",
            "  del sys.path[0]\n"
          ]
        },
        {
          "output_type": "stream",
          "name": "stdout",
          "text": [
            "Training set: Average loss: 0.487801\n"
          ]
        },
        {
          "output_type": "stream",
          "name": "stderr",
          "text": [
            "/usr/local/lib/python3.7/dist-packages/ipykernel_launcher.py:42: UserWarning: To copy construct from a tensor, it is recommended to use sourceTensor.clone().detach() or sourceTensor.clone().detach().requires_grad_(True), rather than torch.tensor(sourceTensor).\n"
          ]
        },
        {
          "output_type": "stream",
          "name": "stdout",
          "text": [
            "Validation set: Average loss: 0.458362, Accuracy: 4232/5000 (85%)\n",
            "\n",
            "Epoch: 2\n",
            "Training set: Average loss: 0.454245\n",
            "Validation set: Average loss: 0.452623, Accuracy: 4260/5000 (85%)\n",
            "\n",
            "Epoch: 3\n",
            "Training set: Average loss: 0.449317\n",
            "Validation set: Average loss: 0.453323, Accuracy: 4261/5000 (85%)\n",
            "\n",
            "Epoch: 4\n",
            "Training set: Average loss: 0.446011\n",
            "Validation set: Average loss: 0.453164, Accuracy: 4257/5000 (85%)\n",
            "\n",
            "Epoch: 5\n",
            "Training set: Average loss: 0.444069\n",
            "Validation set: Average loss: 0.450840, Accuracy: 4280/5000 (86%)\n",
            "\n",
            "Epoch: 6\n",
            "Training set: Average loss: 0.441352\n",
            "Validation set: Average loss: 0.451000, Accuracy: 4279/5000 (86%)\n",
            "\n",
            "Epoch: 7\n",
            "Training set: Average loss: 0.439621\n",
            "Validation set: Average loss: 0.451735, Accuracy: 4261/5000 (85%)\n",
            "\n",
            "Epoch: 8\n",
            "Training set: Average loss: 0.438430\n",
            "Validation set: Average loss: 0.449513, Accuracy: 4282/5000 (86%)\n",
            "\n",
            "Epoch: 9\n",
            "Training set: Average loss: 0.437326\n",
            "Validation set: Average loss: 0.451250, Accuracy: 4279/5000 (86%)\n",
            "\n",
            "Epoch: 10\n",
            "Training set: Average loss: 0.436111\n",
            "Validation set: Average loss: 0.452209, Accuracy: 4260/5000 (85%)\n",
            "\n",
            "Epoch: 11\n",
            "Training set: Average loss: 0.434973\n",
            "Validation set: Average loss: 0.450888, Accuracy: 4275/5000 (86%)\n",
            "\n",
            "Epoch: 12\n",
            "Training set: Average loss: 0.434064\n",
            "Validation set: Average loss: 0.452831, Accuracy: 4251/5000 (85%)\n",
            "\n",
            "Epoch: 13\n",
            "Training set: Average loss: 0.433347\n",
            "Validation set: Average loss: 0.451381, Accuracy: 4275/5000 (86%)\n",
            "\n",
            "Epoch: 14\n",
            "Training set: Average loss: 0.432564\n",
            "Validation set: Average loss: 0.453062, Accuracy: 4266/5000 (85%)\n",
            "\n",
            "Epoch: 15\n",
            "Training set: Average loss: 0.431677\n",
            "Validation set: Average loss: 0.453340, Accuracy: 4264/5000 (85%)\n",
            "\n",
            "Epoch: 16\n",
            "Training set: Average loss: 0.431216\n",
            "Validation set: Average loss: 0.452867, Accuracy: 4274/5000 (85%)\n",
            "\n",
            "Epoch: 17\n",
            "Training set: Average loss: 0.430503\n",
            "Validation set: Average loss: 0.454918, Accuracy: 4256/5000 (85%)\n",
            "\n",
            "Epoch: 18\n",
            "Training set: Average loss: 0.429090\n",
            "Validation set: Average loss: 0.454112, Accuracy: 4263/5000 (85%)\n",
            "\n",
            "Epoch: 19\n",
            "Training set: Average loss: 0.429110\n",
            "Validation set: Average loss: 0.455696, Accuracy: 4248/5000 (85%)\n",
            "\n",
            "Epoch: 20\n",
            "Training set: Average loss: 0.428903\n",
            "Validation set: Average loss: 0.455692, Accuracy: 4244/5000 (85%)\n",
            "\n",
            "Epoch: 21\n",
            "Training set: Average loss: 0.428235\n",
            "Validation set: Average loss: 0.455649, Accuracy: 4253/5000 (85%)\n",
            "\n",
            "Epoch: 22\n",
            "Training set: Average loss: 0.427902\n",
            "Validation set: Average loss: 0.455806, Accuracy: 4255/5000 (85%)\n",
            "\n",
            "Epoch: 23\n",
            "Training set: Average loss: 0.426917\n",
            "Validation set: Average loss: 0.456527, Accuracy: 4239/5000 (85%)\n",
            "\n",
            "Epoch: 24\n",
            "Training set: Average loss: 0.427036\n",
            "Validation set: Average loss: 0.454771, Accuracy: 4258/5000 (85%)\n",
            "\n",
            "Epoch: 25\n",
            "Training set: Average loss: 0.426773\n",
            "Validation set: Average loss: 0.455313, Accuracy: 4262/5000 (85%)\n",
            "\n",
            "Epoch: 26\n",
            "Training set: Average loss: 0.425756\n",
            "Validation set: Average loss: 0.457358, Accuracy: 4247/5000 (85%)\n",
            "\n",
            "Epoch: 27\n",
            "Training set: Average loss: 0.425419\n",
            "Validation set: Average loss: 0.456297, Accuracy: 4251/5000 (85%)\n",
            "\n",
            "Epoch: 28\n",
            "Training set: Average loss: 0.425007\n",
            "Validation set: Average loss: 0.457174, Accuracy: 4250/5000 (85%)\n",
            "\n",
            "Epoch: 29\n",
            "Training set: Average loss: 0.425198\n",
            "Validation set: Average loss: 0.457143, Accuracy: 4246/5000 (85%)\n",
            "\n",
            "Epoch: 30\n",
            "Training set: Average loss: 0.424905\n",
            "Validation set: Average loss: 0.458853, Accuracy: 4242/5000 (85%)\n",
            "\n",
            "Epoch: 31\n",
            "Training set: Average loss: 0.424566\n",
            "Validation set: Average loss: 0.456976, Accuracy: 4254/5000 (85%)\n",
            "\n",
            "Epoch: 32\n",
            "Training set: Average loss: 0.424531\n",
            "Validation set: Average loss: 0.456511, Accuracy: 4251/5000 (85%)\n",
            "\n",
            "Epoch: 33\n",
            "Training set: Average loss: 0.424369\n",
            "Validation set: Average loss: 0.456100, Accuracy: 4261/5000 (85%)\n",
            "\n",
            "Epoch: 34\n",
            "Training set: Average loss: 0.423645\n",
            "Validation set: Average loss: 0.458989, Accuracy: 4236/5000 (85%)\n",
            "\n",
            "Epoch: 35\n",
            "Training set: Average loss: 0.423837\n",
            "Validation set: Average loss: 0.458116, Accuracy: 4239/5000 (85%)\n",
            "\n",
            "Epoch: 36\n",
            "Training set: Average loss: 0.423448\n",
            "Validation set: Average loss: 0.455604, Accuracy: 4257/5000 (85%)\n",
            "\n",
            "Epoch: 37\n",
            "Training set: Average loss: 0.422194\n",
            "Validation set: Average loss: 0.456769, Accuracy: 4244/5000 (85%)\n",
            "\n",
            "Epoch: 38\n",
            "Training set: Average loss: 0.421574\n",
            "Validation set: Average loss: 0.456748, Accuracy: 4253/5000 (85%)\n",
            "\n",
            "Epoch: 39\n",
            "Training set: Average loss: 0.421657\n",
            "Validation set: Average loss: 0.458100, Accuracy: 4242/5000 (85%)\n",
            "\n",
            "Epoch: 40\n",
            "Training set: Average loss: 0.421147\n",
            "Validation set: Average loss: 0.457121, Accuracy: 4247/5000 (85%)\n",
            "\n",
            "Epoch: 41\n",
            "Training set: Average loss: 0.421062\n",
            "Validation set: Average loss: 0.458531, Accuracy: 4242/5000 (85%)\n",
            "\n",
            "Epoch: 42\n",
            "Training set: Average loss: 0.420705\n",
            "Validation set: Average loss: 0.459581, Accuracy: 4228/5000 (85%)\n",
            "\n",
            "Epoch: 43\n",
            "Training set: Average loss: 0.420177\n",
            "Validation set: Average loss: 0.457741, Accuracy: 4237/5000 (85%)\n",
            "\n",
            "Epoch: 44\n",
            "Training set: Average loss: 0.420021\n",
            "Validation set: Average loss: 0.457337, Accuracy: 4241/5000 (85%)\n",
            "\n",
            "Epoch: 45\n",
            "Training set: Average loss: 0.420017\n",
            "Validation set: Average loss: 0.458069, Accuracy: 4233/5000 (85%)\n",
            "\n",
            "Epoch: 46\n",
            "Training set: Average loss: 0.419329\n",
            "Validation set: Average loss: 0.457962, Accuracy: 4243/5000 (85%)\n",
            "\n",
            "Epoch: 47\n",
            "Training set: Average loss: 0.418791\n",
            "Validation set: Average loss: 0.459618, Accuracy: 4240/5000 (85%)\n",
            "\n",
            "Epoch: 48\n",
            "Training set: Average loss: 0.418480\n",
            "Validation set: Average loss: 0.458120, Accuracy: 4244/5000 (85%)\n",
            "\n",
            "Epoch: 49\n",
            "Training set: Average loss: 0.418721\n",
            "Validation set: Average loss: 0.458099, Accuracy: 4249/5000 (85%)\n",
            "\n",
            "Epoch: 50\n",
            "Training set: Average loss: 0.418636\n",
            "Validation set: Average loss: 0.458496, Accuracy: 4240/5000 (85%)\n",
            "\n"
          ]
        }
      ]
    },
    {
      "cell_type": "code",
      "source": [
        "import numpy as np\n",
        "from sklearn.metrics import confusion_matrix\n",
        "import matplotlib.pyplot as plt\n",
        "%matplotlib inline\n",
        "\n",
        "# batch_size = 64\n",
        "def _evaluate(model, x_test):\n",
        "  model.eval()\n",
        "\n",
        "  x = torch.Tensor(x_test).float()\n",
        "  _, predictions = torch.max(model(x).data, 1)\n",
        "  print('Evaluation on test dataset')\n",
        "  get_metrics(y_test, predictions)\n",
        "\n",
        "  # Plot the confusion matrix\n",
        "  classes=['0','1']\n",
        "  cm = confusion_matrix(y_test, predictions.numpy())\n",
        "  plt.imshow(cm, interpolation=\"nearest\", cmap=plt.cm.Blues)\n",
        "  plt.colorbar()\n",
        "  tick_marks = np.arange(2)\n",
        "  plt.xticks(tick_marks, classes, rotation=85)\n",
        "  plt.yticks(tick_marks, classes)\n",
        "  plt.xlabel(\"Predicted\")\n",
        "  plt.ylabel(\"Actual\")\n",
        "  plt.show()\n",
        "\n",
        "_evaluate(model, x_test)"
      ],
      "metadata": {
        "colab": {
          "base_uri": "https://localhost:8080/",
          "height": 618
        },
        "id": "jJZkV75g7XlW",
        "outputId": "c2b6be4d-68e5-46d1-f30b-72e9117495b0"
      },
      "execution_count": null,
      "outputs": [
        {
          "output_type": "stream",
          "name": "stdout",
          "text": [
            "Evaluation on test dataset\n",
            "ACCURACY_SCORE:  0.848\n",
            "F1_SCORE:  0.7758\n",
            "CONFUSION_MATRIX:\n",
            " [[3539  272]\n",
            " [ 488  701]] \n",
            "\n",
            "              precision    recall  f1-score   support\n",
            "\n",
            "           0     0.8788    0.9286    0.9030      3811\n",
            "           1     0.7205    0.5896    0.6485      1189\n",
            "\n",
            "    accuracy                         0.8480      5000\n",
            "   macro avg     0.7996    0.7591    0.7758      5000\n",
            "weighted avg     0.8412    0.8480    0.8425      5000\n",
            " \n",
            "\n"
          ]
        },
        {
          "output_type": "stream",
          "name": "stderr",
          "text": [
            "/usr/local/lib/python3.7/dist-packages/ipykernel_launcher.py:13: UserWarning: Implicit dimension choice for softmax has been deprecated. Change the call to include dim=X as an argument.\n",
            "  del sys.path[0]\n"
          ]
        },
        {
          "output_type": "display_data",
          "data": {
            "image/png": "[encoded data removed]",
            "text/plain": [
              "<Figure size 432x288 with 2 Axes>"
            ]
          },
          "metadata": {
            "needs_background": "light"
          }
        }
      ]
    },
    {
      "cell_type": "markdown",
      "source": [
        "##### batch_size = 256, adam"
      ],
      "metadata": {
        "id": "EbBpLG9-AVb4"
      }
    },
    {
      "cell_type": "code",
      "source": [
        "# batch_size=256\n",
        "# Create a dataset and loader for the training data and labels\n",
        "train_x = torch.Tensor(x_train).float()\n",
        "train_y = torch.Tensor(y_train).long()\n",
        "train_ds = td.TensorDataset(train_x,train_y)\n",
        "train_loader = td.DataLoader(train_ds, batch_size=256,\n",
        "    shuffle=True, num_workers=1)\n",
        "\n",
        "# Create a dataset and loader for the test data and labels\n",
        "test_x = torch.Tensor(x_test).float()\n",
        "test_y = torch.Tensor(y_test).long()\n",
        "test_ds = td.TensorDataset(test_x,test_y)\n",
        "test_loader = td.DataLoader(test_ds, batch_size=256,\n",
        "    shuffle=False, num_workers=1)\n",
        "print('Ready to load data')"
      ],
      "metadata": {
        "colab": {
          "base_uri": "https://localhost:8080/"
        },
        "id": "-XD4x-NrAZ7x",
        "outputId": "9f52e21e-a9db-46b5-d235-e144baefd139"
      },
      "execution_count": null,
      "outputs": [
        {
          "output_type": "stream",
          "name": "stdout",
          "text": [
            "Ready to load data\n"
          ]
        }
      ]
    },
    {
      "cell_type": "code",
      "source": [
        "# Create a model instance from the network\n",
        "model = IncomeNet()\n",
        "print(model)\n",
        "# Specify the loss criteria (we'll use CrossEntropyLoss for multi-class classification)\n",
        "loss_criteria = nn.CrossEntropyLoss()\n",
        "\n",
        "# Use an \"Adam\" optimizer to adjust weights\n",
        "# (see https://pytorch.org/docs/stable/optim.html#algorithms for details of supported algorithms)\n",
        "learning_rate = 0.001\n",
        "optimizer = torch.optim.Adam(model.parameters(), lr=learning_rate)\n",
        "optimizer.zero_grad()\n",
        "\n",
        "# We'll track metrics for each epoch in these arrays\n",
        "epoch_nums = []\n",
        "training_loss = []\n",
        "validation_loss = []\n",
        "\n",
        "# Train over 50 epochs\n",
        "epochs = 50\n",
        "for epoch in range(1, epochs + 1):\n",
        "\n",
        "    # print the epoch number\n",
        "    print('Epoch: {}'.format(epoch))\n",
        "    \n",
        "    # Feed training data into the model to optimize the weights\n",
        "    train_loss = train(model, train_loader, optimizer)\n",
        "    \n",
        "    # Feed the test data into the model to check its performance\n",
        "    test_loss = test(model, test_loader)\n",
        "    \n",
        "    # Log the metrics for this epoch\n",
        "    epoch_nums.append(epoch)\n",
        "    training_loss.append(train_loss)\n",
        "    validation_loss.append(test_loss)\n"
      ],
      "metadata": {
        "colab": {
          "base_uri": "https://localhost:8080/"
        },
        "id": "kd2m7gh0AhgK",
        "outputId": "258ed331-210e-44e8-f142-43b66d976ffd"
      },
      "execution_count": null,
      "outputs": [
        {
          "output_type": "stream",
          "name": "stdout",
          "text": [
            "IncomeNet(\n",
            "  (fc1): Linear(in_features=108, out_features=50, bias=True)\n",
            "  (fc2): Linear(in_features=50, out_features=50, bias=True)\n",
            "  (fc3): Linear(in_features=50, out_features=2, bias=True)\n",
            ")\n",
            "Epoch: 1\n"
          ]
        },
        {
          "output_type": "stream",
          "name": "stderr",
          "text": [
            "/usr/local/lib/python3.7/dist-packages/ipykernel_launcher.py:13: UserWarning: Implicit dimension choice for softmax has been deprecated. Change the call to include dim=X as an argument.\n",
            "  del sys.path[0]\n"
          ]
        },
        {
          "output_type": "stream",
          "name": "stdout",
          "text": [
            "Training set: Average loss: 0.538782\n",
            "Validation set: Average loss: 0.472816, Accuracy: 4174/5000 (83%)\n",
            "\n",
            "Epoch: 2\n"
          ]
        },
        {
          "output_type": "stream",
          "name": "stderr",
          "text": [
            "/usr/local/lib/python3.7/dist-packages/ipykernel_launcher.py:42: UserWarning: To copy construct from a tensor, it is recommended to use sourceTensor.clone().detach() or sourceTensor.clone().detach().requires_grad_(True), rather than torch.tensor(sourceTensor).\n"
          ]
        },
        {
          "output_type": "stream",
          "name": "stdout",
          "text": [
            "Training set: Average loss: 0.464623\n",
            "Validation set: Average loss: 0.457728, Accuracy: 4228/5000 (85%)\n",
            "\n",
            "Epoch: 3\n",
            "Training set: Average loss: 0.454481\n",
            "Validation set: Average loss: 0.455806, Accuracy: 4245/5000 (85%)\n",
            "\n",
            "Epoch: 4\n",
            "Training set: Average loss: 0.451621\n",
            "Validation set: Average loss: 0.453642, Accuracy: 4245/5000 (85%)\n",
            "\n",
            "Epoch: 5\n",
            "Training set: Average loss: 0.448947\n",
            "Validation set: Average loss: 0.452540, Accuracy: 4260/5000 (85%)\n",
            "\n",
            "Epoch: 6\n",
            "Training set: Average loss: 0.446560\n",
            "Validation set: Average loss: 0.452169, Accuracy: 4266/5000 (85%)\n",
            "\n",
            "Epoch: 7\n",
            "Training set: Average loss: 0.444960\n",
            "Validation set: Average loss: 0.453201, Accuracy: 4258/5000 (85%)\n",
            "\n",
            "Epoch: 8\n",
            "Training set: Average loss: 0.444587\n",
            "Validation set: Average loss: 0.451738, Accuracy: 4257/5000 (85%)\n",
            "\n",
            "Epoch: 9\n",
            "Training set: Average loss: 0.443018\n",
            "Validation set: Average loss: 0.451996, Accuracy: 4257/5000 (85%)\n",
            "\n",
            "Epoch: 10\n",
            "Training set: Average loss: 0.440150\n",
            "Validation set: Average loss: 0.451562, Accuracy: 4264/5000 (85%)\n",
            "\n",
            "Epoch: 11\n",
            "Training set: Average loss: 0.438803\n",
            "Validation set: Average loss: 0.451259, Accuracy: 4265/5000 (85%)\n",
            "\n",
            "Epoch: 12\n",
            "Training set: Average loss: 0.437981\n",
            "Validation set: Average loss: 0.451390, Accuracy: 4267/5000 (85%)\n",
            "\n",
            "Epoch: 13\n",
            "Training set: Average loss: 0.436342\n",
            "Validation set: Average loss: 0.451641, Accuracy: 4269/5000 (85%)\n",
            "\n",
            "Epoch: 14\n",
            "Training set: Average loss: 0.436553\n",
            "Validation set: Average loss: 0.451865, Accuracy: 4273/5000 (85%)\n",
            "\n",
            "Epoch: 15\n",
            "Training set: Average loss: 0.435870\n",
            "Validation set: Average loss: 0.451612, Accuracy: 4264/5000 (85%)\n",
            "\n",
            "Epoch: 16\n",
            "Training set: Average loss: 0.435251\n",
            "Validation set: Average loss: 0.451890, Accuracy: 4268/5000 (85%)\n",
            "\n",
            "Epoch: 17\n",
            "Training set: Average loss: 0.435239\n",
            "Validation set: Average loss: 0.452605, Accuracy: 4267/5000 (85%)\n",
            "\n",
            "Epoch: 18\n",
            "Training set: Average loss: 0.432602\n",
            "Validation set: Average loss: 0.452846, Accuracy: 4271/5000 (85%)\n",
            "\n",
            "Epoch: 19\n",
            "Training set: Average loss: 0.432912\n",
            "Validation set: Average loss: 0.452214, Accuracy: 4264/5000 (85%)\n",
            "\n",
            "Epoch: 20\n",
            "Training set: Average loss: 0.431321\n",
            "Validation set: Average loss: 0.452991, Accuracy: 4257/5000 (85%)\n",
            "\n",
            "Epoch: 21\n",
            "Training set: Average loss: 0.431297\n",
            "Validation set: Average loss: 0.453292, Accuracy: 4268/5000 (85%)\n",
            "\n",
            "Epoch: 22\n",
            "Training set: Average loss: 0.430431\n",
            "Validation set: Average loss: 0.453709, Accuracy: 4257/5000 (85%)\n",
            "\n",
            "Epoch: 23\n",
            "Training set: Average loss: 0.428475\n",
            "Validation set: Average loss: 0.452985, Accuracy: 4264/5000 (85%)\n",
            "\n",
            "Epoch: 24\n",
            "Training set: Average loss: 0.428970\n",
            "Validation set: Average loss: 0.455222, Accuracy: 4252/5000 (85%)\n",
            "\n",
            "Epoch: 25\n",
            "Training set: Average loss: 0.431346\n",
            "Validation set: Average loss: 0.453993, Accuracy: 4257/5000 (85%)\n",
            "\n",
            "Epoch: 26\n",
            "Training set: Average loss: 0.427756\n",
            "Validation set: Average loss: 0.453907, Accuracy: 4251/5000 (85%)\n",
            "\n",
            "Epoch: 27\n",
            "Training set: Average loss: 0.427682\n",
            "Validation set: Average loss: 0.452859, Accuracy: 4265/5000 (85%)\n",
            "\n",
            "Epoch: 28\n",
            "Training set: Average loss: 0.428304\n",
            "Validation set: Average loss: 0.454116, Accuracy: 4256/5000 (85%)\n",
            "\n",
            "Epoch: 29\n",
            "Training set: Average loss: 0.426626\n",
            "Validation set: Average loss: 0.453814, Accuracy: 4269/5000 (85%)\n",
            "\n",
            "Epoch: 30\n",
            "Training set: Average loss: 0.425954\n",
            "Validation set: Average loss: 0.455723, Accuracy: 4252/5000 (85%)\n",
            "\n",
            "Epoch: 31\n",
            "Training set: Average loss: 0.425737\n",
            "Validation set: Average loss: 0.455099, Accuracy: 4259/5000 (85%)\n",
            "\n",
            "Epoch: 32\n",
            "Training set: Average loss: 0.424753\n",
            "Validation set: Average loss: 0.456008, Accuracy: 4242/5000 (85%)\n",
            "\n",
            "Epoch: 33\n",
            "Training set: Average loss: 0.425286\n",
            "Validation set: Average loss: 0.455050, Accuracy: 4263/5000 (85%)\n",
            "\n",
            "Epoch: 34\n",
            "Training set: Average loss: 0.423372\n",
            "Validation set: Average loss: 0.456137, Accuracy: 4252/5000 (85%)\n",
            "\n",
            "Epoch: 35\n",
            "Training set: Average loss: 0.423854\n",
            "Validation set: Average loss: 0.456259, Accuracy: 4256/5000 (85%)\n",
            "\n",
            "Epoch: 36\n",
            "Training set: Average loss: 0.423569\n",
            "Validation set: Average loss: 0.457084, Accuracy: 4252/5000 (85%)\n",
            "\n",
            "Epoch: 37\n",
            "Training set: Average loss: 0.424956\n",
            "Validation set: Average loss: 0.456978, Accuracy: 4251/5000 (85%)\n",
            "\n",
            "Epoch: 38\n",
            "Training set: Average loss: 0.422245\n",
            "Validation set: Average loss: 0.457022, Accuracy: 4237/5000 (85%)\n",
            "\n",
            "Epoch: 39\n",
            "Training set: Average loss: 0.422793\n",
            "Validation set: Average loss: 0.456297, Accuracy: 4255/5000 (85%)\n",
            "\n",
            "Epoch: 40\n",
            "Training set: Average loss: 0.423253\n",
            "Validation set: Average loss: 0.454830, Accuracy: 4262/5000 (85%)\n",
            "\n",
            "Epoch: 41\n",
            "Training set: Average loss: 0.423078\n",
            "Validation set: Average loss: 0.457464, Accuracy: 4247/5000 (85%)\n",
            "\n",
            "Epoch: 42\n",
            "Training set: Average loss: 0.423594\n",
            "Validation set: Average loss: 0.456502, Accuracy: 4254/5000 (85%)\n",
            "\n",
            "Epoch: 43\n",
            "Training set: Average loss: 0.421783\n",
            "Validation set: Average loss: 0.457462, Accuracy: 4242/5000 (85%)\n",
            "\n",
            "Epoch: 44\n",
            "Training set: Average loss: 0.421118\n",
            "Validation set: Average loss: 0.455430, Accuracy: 4265/5000 (85%)\n",
            "\n",
            "Epoch: 45\n",
            "Training set: Average loss: 0.421543\n",
            "Validation set: Average loss: 0.456050, Accuracy: 4258/5000 (85%)\n",
            "\n",
            "Epoch: 46\n",
            "Training set: Average loss: 0.421430\n",
            "Validation set: Average loss: 0.455997, Accuracy: 4255/5000 (85%)\n",
            "\n",
            "Epoch: 47\n",
            "Training set: Average loss: 0.420619\n",
            "Validation set: Average loss: 0.459380, Accuracy: 4226/5000 (85%)\n",
            "\n",
            "Epoch: 48\n",
            "Training set: Average loss: 0.421636\n",
            "Validation set: Average loss: 0.457515, Accuracy: 4247/5000 (85%)\n",
            "\n",
            "Epoch: 49\n",
            "Training set: Average loss: 0.423189\n",
            "Validation set: Average loss: 0.456698, Accuracy: 4259/5000 (85%)\n",
            "\n",
            "Epoch: 50\n",
            "Training set: Average loss: 0.420408\n",
            "Validation set: Average loss: 0.456052, Accuracy: 4258/5000 (85%)\n",
            "\n"
          ]
        }
      ]
    },
    {
      "cell_type": "code",
      "source": [
        "# batch_size = 256\n",
        "def _evaluate(model, x_test):\n",
        "  model.eval()\n",
        "\n",
        "  x = torch.Tensor(x_test).float()\n",
        "  _, predictions = torch.max(model(x).data, 1)\n",
        "  print('Evaluation on test dataset')\n",
        "  get_metrics(y_test, predictions)\n",
        "\n",
        "  # Plot the confusion matrix\n",
        "  classes=['0','1']\n",
        "  cm = confusion_matrix(y_test, predictions.numpy())\n",
        "  plt.imshow(cm, interpolation=\"nearest\", cmap=plt.cm.Blues)\n",
        "  plt.colorbar()\n",
        "  tick_marks = np.arange(2)\n",
        "  plt.xticks(tick_marks, classes, rotation=85)\n",
        "  plt.yticks(tick_marks, classes)\n",
        "  plt.xlabel(\"Predicted\")\n",
        "  plt.ylabel(\"Actual\")\n",
        "  plt.show()\n",
        "\n",
        "_evaluate(model, x_test)"
      ],
      "metadata": {
        "colab": {
          "base_uri": "https://localhost:8080/",
          "height": 618
        },
        "id": "NhS37UkmAmed",
        "outputId": "64a996b9-c209-46a3-eea8-754ea02509a3"
      },
      "execution_count": null,
      "outputs": [
        {
          "output_type": "stream",
          "name": "stdout",
          "text": [
            "Evaluation on test dataset\n",
            "ACCURACY_SCORE:  0.8516\n",
            "F1_SCORE:  0.7839\n",
            "CONFUSION_MATRIX:\n",
            " [[3528  283]\n",
            " [ 459  730]] \n",
            "\n",
            "              precision    recall  f1-score   support\n",
            "\n",
            "           0     0.8849    0.9257    0.9048      3811\n",
            "           1     0.7206    0.6140    0.6630      1189\n",
            "\n",
            "    accuracy                         0.8516      5000\n",
            "   macro avg     0.8028    0.7699    0.7839      5000\n",
            "weighted avg     0.8458    0.8516    0.8473      5000\n",
            " \n",
            "\n"
          ]
        },
        {
          "output_type": "stream",
          "name": "stderr",
          "text": [
            "/usr/local/lib/python3.7/dist-packages/ipykernel_launcher.py:13: UserWarning: Implicit dimension choice for softmax has been deprecated. Change the call to include dim=X as an argument.\n",
            "  del sys.path[0]\n"
          ]
        },
        {
          "output_type": "display_data",
          "data": {
            "image/png": "[encoded data removed]",
            "text/plain": [
              "<Figure size 432x288 with 2 Axes>"
            ]
          },
          "metadata": {
            "needs_background": "light"
          }
        }
      ]
    },
    {
      "cell_type": "markdown",
      "source": [
        "##### batch_size = 512, adam"
      ],
      "metadata": {
        "id": "61Trgk1-BDep"
      }
    },
    {
      "cell_type": "code",
      "source": [
        "# batch_size=512\n",
        "# Create a dataset and loader for the training data and labels\n",
        "train_x = torch.Tensor(x_train).float()\n",
        "train_y = torch.Tensor(y_train).long()\n",
        "train_ds = td.TensorDataset(train_x,train_y)\n",
        "train_loader = td.DataLoader(train_ds, batch_size=512,\n",
        "    shuffle=True, num_workers=1)\n",
        "\n",
        "# Create a dataset and loader for the test data and labels\n",
        "test_x = torch.Tensor(x_test).float()\n",
        "test_y = torch.Tensor(y_test).long()\n",
        "test_ds = td.TensorDataset(test_x,test_y)\n",
        "test_loader = td.DataLoader(test_ds, batch_size=512,\n",
        "    shuffle=False, num_workers=1)\n",
        "print('Ready to load data')"
      ],
      "metadata": {
        "colab": {
          "base_uri": "https://localhost:8080/"
        },
        "outputId": "60803cf0-ab7a-4fdf-99c6-fd3cc84f6ed3",
        "id": "WDMwhePMBDep"
      },
      "execution_count": null,
      "outputs": [
        {
          "output_type": "stream",
          "name": "stdout",
          "text": [
            "Ready to load data\n"
          ]
        }
      ]
    },
    {
      "cell_type": "code",
      "source": [
        "# Specify the loss criteria (we'll use CrossEntropyLoss for multi-class classification)\n",
        "loss_criteria = nn.CrossEntropyLoss()\n",
        "\n",
        "# Use an \"Adam\" optimizer to adjust weights\n",
        "# (see https://pytorch.org/docs/stable/optim.html#algorithms for details of supported algorithms)\n",
        "learning_rate = 0.001\n",
        "optimizer = torch.optim.Adam(model.parameters(), lr=learning_rate)\n",
        "optimizer.zero_grad()\n",
        "\n",
        "# We'll track metrics for each epoch in these arrays\n",
        "epoch_nums = []\n",
        "training_loss = []\n",
        "validation_loss = []\n",
        "\n",
        "# Train over 50 epochs\n",
        "epochs = 50\n",
        "for epoch in range(1, epochs + 1):\n",
        "\n",
        "    # print the epoch number\n",
        "    print('Epoch: {}'.format(epoch))\n",
        "    \n",
        "    # Feed training data into the model to optimize the weights\n",
        "    train_loss = train(model, train_loader, optimizer)\n",
        "    \n",
        "    # Feed the test data into the model to check its performance\n",
        "    test_loss = test(model, test_loader)\n",
        "    \n",
        "    # Log the metrics for this epoch\n",
        "    epoch_nums.append(epoch)\n",
        "    training_loss.append(train_loss)\n",
        "    validation_loss.append(test_loss)\n"
      ],
      "metadata": {
        "colab": {
          "base_uri": "https://localhost:8080/"
        },
        "outputId": "d468e753-5afc-4bb6-e295-b607fbad2a9d",
        "id": "lOJZxUYDBDeq"
      },
      "execution_count": null,
      "outputs": [
        {
          "output_type": "stream",
          "name": "stdout",
          "text": [
            "Epoch: 1\n"
          ]
        },
        {
          "output_type": "stream",
          "name": "stderr",
          "text": [
            "/usr/local/lib/python3.7/dist-packages/ipykernel_launcher.py:13: UserWarning: Implicit dimension choice for softmax has been deprecated. Change the call to include dim=X as an argument.\n",
            "  del sys.path[0]\n"
          ]
        },
        {
          "output_type": "stream",
          "name": "stdout",
          "text": [
            "Training set: Average loss: 0.419391\n",
            "Validation set: Average loss: 0.456438, Accuracy: 4260/5000 (85%)\n",
            "\n",
            "Epoch: 2\n"
          ]
        },
        {
          "output_type": "stream",
          "name": "stderr",
          "text": [
            "/usr/local/lib/python3.7/dist-packages/ipykernel_launcher.py:42: UserWarning: To copy construct from a tensor, it is recommended to use sourceTensor.clone().detach() or sourceTensor.clone().detach().requires_grad_(True), rather than torch.tensor(sourceTensor).\n"
          ]
        },
        {
          "output_type": "stream",
          "name": "stdout",
          "text": [
            "Training set: Average loss: 0.416339\n",
            "Validation set: Average loss: 0.457602, Accuracy: 4252/5000 (85%)\n",
            "\n",
            "Epoch: 3\n",
            "Training set: Average loss: 0.421224\n",
            "Validation set: Average loss: 0.456650, Accuracy: 4263/5000 (85%)\n",
            "\n",
            "Epoch: 4\n",
            "Training set: Average loss: 0.415659\n",
            "Validation set: Average loss: 0.458089, Accuracy: 4255/5000 (85%)\n",
            "\n",
            "Epoch: 5\n",
            "Training set: Average loss: 0.415813\n",
            "Validation set: Average loss: 0.458009, Accuracy: 4257/5000 (85%)\n",
            "\n",
            "Epoch: 6\n",
            "Training set: Average loss: 0.416940\n",
            "Validation set: Average loss: 0.457347, Accuracy: 4257/5000 (85%)\n",
            "\n",
            "Epoch: 7\n",
            "Training set: Average loss: 0.418965\n",
            "Validation set: Average loss: 0.457033, Accuracy: 4262/5000 (85%)\n",
            "\n",
            "Epoch: 8\n",
            "Training set: Average loss: 0.416127\n",
            "Validation set: Average loss: 0.458889, Accuracy: 4248/5000 (85%)\n",
            "\n",
            "Epoch: 9\n",
            "Training set: Average loss: 0.418610\n",
            "Validation set: Average loss: 0.457002, Accuracy: 4259/5000 (85%)\n",
            "\n",
            "Epoch: 10\n",
            "Training set: Average loss: 0.416763\n",
            "Validation set: Average loss: 0.457493, Accuracy: 4254/5000 (85%)\n",
            "\n",
            "Epoch: 11\n",
            "Training set: Average loss: 0.416331\n",
            "Validation set: Average loss: 0.457603, Accuracy: 4255/5000 (85%)\n",
            "\n",
            "Epoch: 12\n",
            "Training set: Average loss: 0.415229\n",
            "Validation set: Average loss: 0.457418, Accuracy: 4260/5000 (85%)\n",
            "\n",
            "Epoch: 13\n",
            "Training set: Average loss: 0.415361\n",
            "Validation set: Average loss: 0.458134, Accuracy: 4254/5000 (85%)\n",
            "\n",
            "Epoch: 14\n",
            "Training set: Average loss: 0.416133\n",
            "Validation set: Average loss: 0.457568, Accuracy: 4257/5000 (85%)\n",
            "\n",
            "Epoch: 15\n",
            "Training set: Average loss: 0.415927\n",
            "Validation set: Average loss: 0.457856, Accuracy: 4253/5000 (85%)\n",
            "\n",
            "Epoch: 16\n",
            "Training set: Average loss: 0.415738\n",
            "Validation set: Average loss: 0.457066, Accuracy: 4257/5000 (85%)\n",
            "\n",
            "Epoch: 17\n",
            "Training set: Average loss: 0.416078\n",
            "Validation set: Average loss: 0.458592, Accuracy: 4253/5000 (85%)\n",
            "\n",
            "Epoch: 18\n",
            "Training set: Average loss: 0.416497\n",
            "Validation set: Average loss: 0.458114, Accuracy: 4260/5000 (85%)\n",
            "\n",
            "Epoch: 19\n",
            "Training set: Average loss: 0.420116\n",
            "Validation set: Average loss: 0.457845, Accuracy: 4249/5000 (85%)\n",
            "\n",
            "Epoch: 20\n",
            "Training set: Average loss: 0.416050\n",
            "Validation set: Average loss: 0.457477, Accuracy: 4264/5000 (85%)\n",
            "\n",
            "Epoch: 21\n",
            "Training set: Average loss: 0.417067\n",
            "Validation set: Average loss: 0.457130, Accuracy: 4260/5000 (85%)\n",
            "\n",
            "Epoch: 22\n",
            "Training set: Average loss: 0.418199\n",
            "Validation set: Average loss: 0.457945, Accuracy: 4261/5000 (85%)\n",
            "\n",
            "Epoch: 23\n",
            "Training set: Average loss: 0.414008\n",
            "Validation set: Average loss: 0.458425, Accuracy: 4252/5000 (85%)\n",
            "\n",
            "Epoch: 24\n",
            "Training set: Average loss: 0.416668\n",
            "Validation set: Average loss: 0.458109, Accuracy: 4259/5000 (85%)\n",
            "\n",
            "Epoch: 25\n",
            "Training set: Average loss: 0.417080\n",
            "Validation set: Average loss: 0.457542, Accuracy: 4258/5000 (85%)\n",
            "\n",
            "Epoch: 26\n",
            "Training set: Average loss: 0.414600\n",
            "Validation set: Average loss: 0.458216, Accuracy: 4257/5000 (85%)\n",
            "\n",
            "Epoch: 27\n",
            "Training set: Average loss: 0.414378\n",
            "Validation set: Average loss: 0.458677, Accuracy: 4249/5000 (85%)\n",
            "\n",
            "Epoch: 28\n",
            "Training set: Average loss: 0.416272\n",
            "Validation set: Average loss: 0.458866, Accuracy: 4247/5000 (85%)\n",
            "\n",
            "Epoch: 29\n",
            "Training set: Average loss: 0.416068\n",
            "Validation set: Average loss: 0.458949, Accuracy: 4254/5000 (85%)\n",
            "\n",
            "Epoch: 30\n",
            "Training set: Average loss: 0.413947\n",
            "Validation set: Average loss: 0.459352, Accuracy: 4254/5000 (85%)\n",
            "\n",
            "Epoch: 31\n",
            "Training set: Average loss: 0.416683\n",
            "Validation set: Average loss: 0.459627, Accuracy: 4247/5000 (85%)\n",
            "\n",
            "Epoch: 32\n",
            "Training set: Average loss: 0.417160\n",
            "Validation set: Average loss: 0.458744, Accuracy: 4253/5000 (85%)\n",
            "\n",
            "Epoch: 33\n",
            "Training set: Average loss: 0.414058\n",
            "Validation set: Average loss: 0.460151, Accuracy: 4251/5000 (85%)\n",
            "\n",
            "Epoch: 34\n",
            "Training set: Average loss: 0.415736\n",
            "Validation set: Average loss: 0.459160, Accuracy: 4254/5000 (85%)\n",
            "\n",
            "Epoch: 35\n",
            "Training set: Average loss: 0.414267\n",
            "Validation set: Average loss: 0.459595, Accuracy: 4251/5000 (85%)\n",
            "\n",
            "Epoch: 36\n",
            "Training set: Average loss: 0.414969\n",
            "Validation set: Average loss: 0.458005, Accuracy: 4258/5000 (85%)\n",
            "\n",
            "Epoch: 37\n",
            "Training set: Average loss: 0.413085\n",
            "Validation set: Average loss: 0.458469, Accuracy: 4258/5000 (85%)\n",
            "\n",
            "Epoch: 38\n",
            "Training set: Average loss: 0.414684\n",
            "Validation set: Average loss: 0.458941, Accuracy: 4252/5000 (85%)\n",
            "\n",
            "Epoch: 39\n",
            "Training set: Average loss: 0.413438\n",
            "Validation set: Average loss: 0.459409, Accuracy: 4246/5000 (85%)\n",
            "\n",
            "Epoch: 40\n",
            "Training set: Average loss: 0.414316\n",
            "Validation set: Average loss: 0.459503, Accuracy: 4251/5000 (85%)\n",
            "\n",
            "Epoch: 41\n",
            "Training set: Average loss: 0.411404\n",
            "Validation set: Average loss: 0.459304, Accuracy: 4253/5000 (85%)\n",
            "\n",
            "Epoch: 42\n",
            "Training set: Average loss: 0.412346\n",
            "Validation set: Average loss: 0.459021, Accuracy: 4256/5000 (85%)\n",
            "\n",
            "Epoch: 43\n",
            "Training set: Average loss: 0.413252\n",
            "Validation set: Average loss: 0.459595, Accuracy: 4252/5000 (85%)\n",
            "\n",
            "Epoch: 44\n",
            "Training set: Average loss: 0.414063\n",
            "Validation set: Average loss: 0.459904, Accuracy: 4247/5000 (85%)\n",
            "\n",
            "Epoch: 45\n",
            "Training set: Average loss: 0.412945\n",
            "Validation set: Average loss: 0.458993, Accuracy: 4254/5000 (85%)\n",
            "\n",
            "Epoch: 46\n",
            "Training set: Average loss: 0.412812\n",
            "Validation set: Average loss: 0.459734, Accuracy: 4248/5000 (85%)\n",
            "\n",
            "Epoch: 47\n",
            "Training set: Average loss: 0.413611\n",
            "Validation set: Average loss: 0.459184, Accuracy: 4253/5000 (85%)\n",
            "\n",
            "Epoch: 48\n",
            "Training set: Average loss: 0.413374\n",
            "Validation set: Average loss: 0.460209, Accuracy: 4242/5000 (85%)\n",
            "\n",
            "Epoch: 49\n",
            "Training set: Average loss: 0.412241\n",
            "Validation set: Average loss: 0.459918, Accuracy: 4246/5000 (85%)\n",
            "\n",
            "Epoch: 50\n",
            "Training set: Average loss: 0.412596\n",
            "Validation set: Average loss: 0.460110, Accuracy: 4241/5000 (85%)\n",
            "\n"
          ]
        }
      ]
    },
    {
      "cell_type": "code",
      "source": [
        "# batch_size = 512\n",
        "def _evaluate(model, x_test):\n",
        "  model.eval()\n",
        "\n",
        "  x = torch.Tensor(x_test).float()\n",
        "  _, predictions = torch.max(model(x).data, 1)\n",
        "  print('Evaluation on test dataset')\n",
        "  get_metrics(y_test, predictions)\n",
        "\n",
        "  # Plot the confusion matrix\n",
        "  classes=['0','1']\n",
        "  cm = confusion_matrix(y_test, predictions.numpy())\n",
        "  plt.imshow(cm, interpolation=\"nearest\", cmap=plt.cm.Blues)\n",
        "  plt.colorbar()\n",
        "  tick_marks = np.arange(2)\n",
        "  plt.xticks(tick_marks, classes, rotation=85)\n",
        "  plt.yticks(tick_marks, classes)\n",
        "  plt.xlabel(\"Predicted\")\n",
        "  plt.ylabel(\"Actual\")\n",
        "  plt.show()\n",
        "\n",
        "_evaluate(model, x_test)"
      ],
      "metadata": {
        "colab": {
          "base_uri": "https://localhost:8080/",
          "height": 619
        },
        "id": "XHz3bOjrBDer",
        "outputId": "edf960ea-4ce9-4c27-e550-6a5974682bf4"
      },
      "execution_count": null,
      "outputs": [
        {
          "output_type": "stream",
          "name": "stdout",
          "text": [
            "Evaluation on test dataset\n",
            "ACCURACY_SCORE:  0.8482\n",
            "F1_SCORE:  0.7808\n",
            "CONFUSION_MATRIX:\n",
            " [[3507  304]\n",
            " [ 455  734]] \n",
            "\n",
            "              precision    recall  f1-score   support\n",
            "\n",
            "           0     0.8852    0.9202    0.9024      3811\n",
            "           1     0.7071    0.6173    0.6592      1189\n",
            "\n",
            "    accuracy                         0.8482      5000\n",
            "   macro avg     0.7961    0.7688    0.7808      5000\n",
            "weighted avg     0.8428    0.8482    0.8445      5000\n",
            " \n",
            "\n"
          ]
        },
        {
          "output_type": "stream",
          "name": "stderr",
          "text": [
            "/usr/local/lib/python3.7/dist-packages/ipykernel_launcher.py:13: UserWarning: Implicit dimension choice for softmax has been deprecated. Change the call to include dim=X as an argument.\n",
            "  del sys.path[0]\n"
          ]
        },
        {
          "output_type": "display_data",
          "data": {
            "image/png": "[encoded data removed]",
            "text/plain": [
              "<Figure size 432x288 with 2 Axes>"
            ]
          },
          "metadata": {
            "needs_background": "light"
          }
        }
      ]
    },
    {
      "cell_type": "markdown",
      "source": [
        "##### batch_size = 64, RMSprop"
      ],
      "metadata": {
        "id": "aBqWvZfbDGSm"
      }
    },
    {
      "cell_type": "code",
      "source": [
        "# batch_size=64\n",
        "# Create a dataset and loader for the training data and labels\n",
        "train_x = torch.Tensor(x_train).float()\n",
        "train_y = torch.Tensor(y_train).long()\n",
        "train_ds = td.TensorDataset(train_x,train_y)\n",
        "train_loader = td.DataLoader(train_ds, batch_size=64,\n",
        "    shuffle=True, num_workers=1)\n",
        "\n",
        "# Create a dataset and loader for the test data and labels\n",
        "test_x = torch.Tensor(x_test).float()\n",
        "test_y = torch.Tensor(y_test).long()\n",
        "test_ds = td.TensorDataset(test_x,test_y)\n",
        "test_loader = td.DataLoader(test_ds, batch_size=64,\n",
        "    shuffle=False, num_workers=1)\n",
        "print('Ready to load data')"
      ],
      "metadata": {
        "colab": {
          "base_uri": "https://localhost:8080/"
        },
        "outputId": "70852fae-e1a9-4943-cd12-adba194d75f0",
        "id": "yrsFgt4EDGSt"
      },
      "execution_count": null,
      "outputs": [
        {
          "output_type": "stream",
          "name": "stdout",
          "text": [
            "Ready to load data\n"
          ]
        }
      ]
    },
    {
      "cell_type": "code",
      "source": [
        "# Create a model instance from the network\n",
        "model = IncomeNet()\n",
        "print(model)\n",
        "# Specify the loss criteria (we'll use CrossEntropyLoss for multi-class classification)\n",
        "loss_criteria = nn.CrossEntropyLoss()\n",
        "\n",
        "# Use an \"Adam\" optimizer to adjust weights\n",
        "# (see https://pytorch.org/docs/stable/optim.html#algorithms for details of supported algorithms)\n",
        "learning_rate = 0.001\n",
        "optimizer = torch.optim.RMSprop(model.parameters(), lr=learning_rate)\n",
        "optimizer.zero_grad()\n",
        "\n",
        "# We'll track metrics for each epoch in these arrays\n",
        "epoch_nums = []\n",
        "training_loss = []\n",
        "validation_loss = []\n",
        "\n",
        "# Train over 50 epochs\n",
        "epochs = 50\n",
        "for epoch in range(1, epochs + 1):\n",
        "\n",
        "    # print the epoch number\n",
        "    print('Epoch: {}'.format(epoch))\n",
        "    \n",
        "    # Feed training data into the model to optimize the weights\n",
        "    train_loss = train(model, train_loader, optimizer)\n",
        "    \n",
        "    # Feed the test data into the model to check its performance\n",
        "    test_loss = test(model, test_loader)\n",
        "    \n",
        "    # Log the metrics for this epoch\n",
        "    epoch_nums.append(epoch)\n",
        "    training_loss.append(train_loss)\n",
        "    validation_loss.append(test_loss)\n"
      ],
      "metadata": {
        "colab": {
          "base_uri": "https://localhost:8080/"
        },
        "outputId": "dfa06602-59c4-448e-dd9b-8d3cc4a58e51",
        "id": "vZQ7Aq2nDGSu"
      },
      "execution_count": null,
      "outputs": [
        {
          "output_type": "stream",
          "name": "stdout",
          "text": [
            "IncomeNet(\n",
            "  (fc1): Linear(in_features=108, out_features=50, bias=True)\n",
            "  (fc2): Linear(in_features=50, out_features=50, bias=True)\n",
            "  (fc3): Linear(in_features=50, out_features=2, bias=True)\n",
            ")\n",
            "Epoch: 1\n"
          ]
        },
        {
          "output_type": "stream",
          "name": "stderr",
          "text": [
            "/usr/local/lib/python3.7/dist-packages/ipykernel_launcher.py:13: UserWarning: Implicit dimension choice for softmax has been deprecated. Change the call to include dim=X as an argument.\n",
            "  del sys.path[0]\n"
          ]
        },
        {
          "output_type": "stream",
          "name": "stdout",
          "text": [
            "Training set: Average loss: 0.466983\n",
            "Validation set: Average loss: 0.456981, Accuracy: 4224/5000 (84%)\n",
            "\n",
            "Epoch: 2\n"
          ]
        },
        {
          "output_type": "stream",
          "name": "stderr",
          "text": [
            "/usr/local/lib/python3.7/dist-packages/ipykernel_launcher.py:42: UserWarning: To copy construct from a tensor, it is recommended to use sourceTensor.clone().detach() or sourceTensor.clone().detach().requires_grad_(True), rather than torch.tensor(sourceTensor).\n"
          ]
        },
        {
          "output_type": "stream",
          "name": "stdout",
          "text": [
            "Training set: Average loss: 0.452023\n",
            "Validation set: Average loss: 0.452600, Accuracy: 4260/5000 (85%)\n",
            "\n",
            "Epoch: 3\n",
            "Training set: Average loss: 0.448692\n",
            "Validation set: Average loss: 0.450561, Accuracy: 4280/5000 (86%)\n",
            "\n",
            "Epoch: 4\n",
            "Training set: Average loss: 0.445808\n",
            "Validation set: Average loss: 0.449843, Accuracy: 4281/5000 (86%)\n",
            "\n",
            "Epoch: 5\n",
            "Training set: Average loss: 0.443640\n",
            "Validation set: Average loss: 0.451664, Accuracy: 4263/5000 (85%)\n",
            "\n",
            "Epoch: 6\n",
            "Training set: Average loss: 0.441492\n",
            "Validation set: Average loss: 0.451301, Accuracy: 4269/5000 (85%)\n",
            "\n",
            "Epoch: 7\n",
            "Training set: Average loss: 0.440535\n",
            "Validation set: Average loss: 0.450625, Accuracy: 4273/5000 (85%)\n",
            "\n",
            "Epoch: 8\n",
            "Training set: Average loss: 0.439390\n",
            "Validation set: Average loss: 0.451592, Accuracy: 4258/5000 (85%)\n",
            "\n",
            "Epoch: 9\n",
            "Training set: Average loss: 0.438086\n",
            "Validation set: Average loss: 0.450772, Accuracy: 4262/5000 (85%)\n",
            "\n",
            "Epoch: 10\n",
            "Training set: Average loss: 0.436909\n",
            "Validation set: Average loss: 0.452041, Accuracy: 4267/5000 (85%)\n",
            "\n",
            "Epoch: 11\n",
            "Training set: Average loss: 0.435471\n",
            "Validation set: Average loss: 0.448612, Accuracy: 4299/5000 (86%)\n",
            "\n",
            "Epoch: 12\n",
            "Training set: Average loss: 0.435134\n",
            "Validation set: Average loss: 0.452520, Accuracy: 4264/5000 (85%)\n",
            "\n",
            "Epoch: 13\n",
            "Training set: Average loss: 0.433855\n",
            "Validation set: Average loss: 0.452601, Accuracy: 4257/5000 (85%)\n",
            "\n",
            "Epoch: 14\n",
            "Training set: Average loss: 0.432819\n",
            "Validation set: Average loss: 0.451923, Accuracy: 4260/5000 (85%)\n",
            "\n",
            "Epoch: 15\n",
            "Training set: Average loss: 0.432641\n",
            "Validation set: Average loss: 0.453256, Accuracy: 4262/5000 (85%)\n",
            "\n",
            "Epoch: 16\n",
            "Training set: Average loss: 0.431031\n",
            "Validation set: Average loss: 0.453134, Accuracy: 4263/5000 (85%)\n",
            "\n",
            "Epoch: 17\n",
            "Training set: Average loss: 0.430858\n",
            "Validation set: Average loss: 0.451423, Accuracy: 4278/5000 (86%)\n",
            "\n",
            "Epoch: 18\n",
            "Training set: Average loss: 0.429986\n",
            "Validation set: Average loss: 0.452833, Accuracy: 4266/5000 (85%)\n",
            "\n",
            "Epoch: 19\n",
            "Training set: Average loss: 0.429629\n",
            "Validation set: Average loss: 0.455410, Accuracy: 4232/5000 (85%)\n",
            "\n",
            "Epoch: 20\n",
            "Training set: Average loss: 0.429687\n",
            "Validation set: Average loss: 0.452579, Accuracy: 4258/5000 (85%)\n",
            "\n",
            "Epoch: 21\n",
            "Training set: Average loss: 0.428246\n",
            "Validation set: Average loss: 0.453755, Accuracy: 4255/5000 (85%)\n",
            "\n",
            "Epoch: 22\n",
            "Training set: Average loss: 0.427263\n",
            "Validation set: Average loss: 0.454090, Accuracy: 4255/5000 (85%)\n",
            "\n",
            "Epoch: 23\n",
            "Training set: Average loss: 0.427827\n",
            "Validation set: Average loss: 0.453262, Accuracy: 4256/5000 (85%)\n",
            "\n",
            "Epoch: 24\n",
            "Training set: Average loss: 0.426109\n",
            "Validation set: Average loss: 0.453945, Accuracy: 4262/5000 (85%)\n",
            "\n",
            "Epoch: 25\n",
            "Training set: Average loss: 0.426754\n",
            "Validation set: Average loss: 0.453112, Accuracy: 4259/5000 (85%)\n",
            "\n",
            "Epoch: 26\n",
            "Training set: Average loss: 0.425338\n",
            "Validation set: Average loss: 0.454228, Accuracy: 4263/5000 (85%)\n",
            "\n",
            "Epoch: 27\n",
            "Training set: Average loss: 0.425371\n",
            "Validation set: Average loss: 0.453392, Accuracy: 4267/5000 (85%)\n",
            "\n",
            "Epoch: 28\n",
            "Training set: Average loss: 0.424976\n",
            "Validation set: Average loss: 0.453271, Accuracy: 4261/5000 (85%)\n",
            "\n",
            "Epoch: 29\n",
            "Training set: Average loss: 0.425103\n",
            "Validation set: Average loss: 0.455136, Accuracy: 4256/5000 (85%)\n",
            "\n",
            "Epoch: 30\n",
            "Training set: Average loss: 0.424390\n",
            "Validation set: Average loss: 0.452721, Accuracy: 4262/5000 (85%)\n",
            "\n",
            "Epoch: 31\n",
            "Training set: Average loss: 0.424410\n",
            "Validation set: Average loss: 0.454386, Accuracy: 4267/5000 (85%)\n",
            "\n",
            "Epoch: 32\n",
            "Training set: Average loss: 0.423536\n",
            "Validation set: Average loss: 0.454621, Accuracy: 4251/5000 (85%)\n",
            "\n",
            "Epoch: 33\n",
            "Training set: Average loss: 0.422769\n",
            "Validation set: Average loss: 0.454760, Accuracy: 4250/5000 (85%)\n",
            "\n",
            "Epoch: 34\n",
            "Training set: Average loss: 0.423203\n",
            "Validation set: Average loss: 0.453015, Accuracy: 4268/5000 (85%)\n",
            "\n",
            "Epoch: 35\n",
            "Training set: Average loss: 0.422605\n",
            "Validation set: Average loss: 0.454408, Accuracy: 4259/5000 (85%)\n",
            "\n",
            "Epoch: 36\n",
            "Training set: Average loss: 0.422142\n",
            "Validation set: Average loss: 0.454898, Accuracy: 4259/5000 (85%)\n",
            "\n",
            "Epoch: 37\n",
            "Training set: Average loss: 0.422425\n",
            "Validation set: Average loss: 0.454473, Accuracy: 4253/5000 (85%)\n",
            "\n",
            "Epoch: 38\n",
            "Training set: Average loss: 0.421049\n",
            "Validation set: Average loss: 0.455792, Accuracy: 4252/5000 (85%)\n",
            "\n",
            "Epoch: 39\n",
            "Training set: Average loss: 0.421211\n",
            "Validation set: Average loss: 0.454292, Accuracy: 4260/5000 (85%)\n",
            "\n",
            "Epoch: 40\n",
            "Training set: Average loss: 0.420897\n",
            "Validation set: Average loss: 0.455280, Accuracy: 4256/5000 (85%)\n",
            "\n",
            "Epoch: 41\n",
            "Training set: Average loss: 0.421051\n",
            "Validation set: Average loss: 0.455577, Accuracy: 4243/5000 (85%)\n",
            "\n",
            "Epoch: 42\n",
            "Training set: Average loss: 0.420707\n",
            "Validation set: Average loss: 0.455989, Accuracy: 4244/5000 (85%)\n",
            "\n",
            "Epoch: 43\n",
            "Training set: Average loss: 0.419789\n",
            "Validation set: Average loss: 0.456214, Accuracy: 4231/5000 (85%)\n",
            "\n",
            "Epoch: 44\n",
            "Training set: Average loss: 0.419650\n",
            "Validation set: Average loss: 0.456554, Accuracy: 4238/5000 (85%)\n",
            "\n",
            "Epoch: 45\n",
            "Training set: Average loss: 0.419596\n",
            "Validation set: Average loss: 0.454265, Accuracy: 4257/5000 (85%)\n",
            "\n",
            "Epoch: 46\n",
            "Training set: Average loss: 0.419042\n",
            "Validation set: Average loss: 0.456747, Accuracy: 4246/5000 (85%)\n",
            "\n",
            "Epoch: 47\n",
            "Training set: Average loss: 0.419209\n",
            "Validation set: Average loss: 0.456955, Accuracy: 4238/5000 (85%)\n",
            "\n",
            "Epoch: 48\n",
            "Training set: Average loss: 0.418980\n",
            "Validation set: Average loss: 0.456294, Accuracy: 4243/5000 (85%)\n",
            "\n",
            "Epoch: 49\n",
            "Training set: Average loss: 0.418177\n",
            "Validation set: Average loss: 0.457490, Accuracy: 4243/5000 (85%)\n",
            "\n",
            "Epoch: 50\n",
            "Training set: Average loss: 0.418479\n",
            "Validation set: Average loss: 0.456103, Accuracy: 4246/5000 (85%)\n",
            "\n"
          ]
        }
      ]
    },
    {
      "cell_type": "code",
      "source": [
        "import numpy as np\n",
        "from sklearn.metrics import confusion_matrix\n",
        "import matplotlib.pyplot as plt\n",
        "%matplotlib inline\n",
        "\n",
        "# batch_size = 64\n",
        "def _evaluate(model, x_test):\n",
        "  model.eval()\n",
        "\n",
        "  x = torch.Tensor(x_test).float()\n",
        "  _, predictions = torch.max(model(x).data, 1)\n",
        "  print('Evaluation on test dataset')\n",
        "  get_metrics(y_test, predictions)\n",
        "\n",
        "  # Plot the confusion matrix\n",
        "  classes=['0','1']\n",
        "  cm = confusion_matrix(y_test, predictions.numpy())\n",
        "  plt.imshow(cm, interpolation=\"nearest\", cmap=plt.cm.Blues)\n",
        "  plt.colorbar()\n",
        "  tick_marks = np.arange(2)\n",
        "  plt.xticks(tick_marks, classes, rotation=85)\n",
        "  plt.yticks(tick_marks, classes)\n",
        "  plt.xlabel(\"Predicted\")\n",
        "  plt.ylabel(\"Actual\")\n",
        "  plt.show()\n",
        "\n",
        "_evaluate(model, x_test)"
      ],
      "metadata": {
        "colab": {
          "base_uri": "https://localhost:8080/",
          "height": 616
        },
        "outputId": "91b96931-19e5-4456-feb2-a2808ae3a672",
        "id": "j4dA5IQZDGSu"
      },
      "execution_count": null,
      "outputs": [
        {
          "output_type": "stream",
          "name": "stdout",
          "text": [
            "Evaluation on test dataset\n",
            "ACCURACY_SCORE:  0.8492\n",
            "F1_SCORE:  0.7849\n",
            "CONFUSION_MATRIX:\n",
            " [[3490  321]\n",
            " [ 433  756]] \n",
            "\n",
            "              precision    recall  f1-score   support\n",
            "\n",
            "           0     0.8896    0.9158    0.9025      3811\n",
            "           1     0.7019    0.6358    0.6673      1189\n",
            "\n",
            "    accuracy                         0.8492      5000\n",
            "   macro avg     0.7958    0.7758    0.7849      5000\n",
            "weighted avg     0.8450    0.8492    0.8466      5000\n",
            " \n",
            "\n"
          ]
        },
        {
          "output_type": "stream",
          "name": "stderr",
          "text": [
            "/usr/local/lib/python3.7/dist-packages/ipykernel_launcher.py:13: UserWarning: Implicit dimension choice for softmax has been deprecated. Change the call to include dim=X as an argument.\n",
            "  del sys.path[0]\n"
          ]
        },
        {
          "output_type": "display_data",
          "data": {
            "image/png": "[encoded data removed]",
            "text/plain": [
              "<Figure size 432x288 with 2 Axes>"
            ]
          },
          "metadata": {
            "needs_background": "light"
          }
        }
      ]
    },
    {
      "cell_type": "markdown",
      "source": [
        "##### batch_size = 256, RMSprop"
      ],
      "metadata": {
        "id": "cDcXHorFDpq6"
      }
    },
    {
      "cell_type": "code",
      "source": [
        "# batch_size=256\n",
        "# Create a dataset and loader for the training data and labels\n",
        "train_x = torch.Tensor(x_train).float()\n",
        "train_y = torch.Tensor(y_train).long()\n",
        "train_ds = td.TensorDataset(train_x,train_y)\n",
        "train_loader = td.DataLoader(train_ds, batch_size=256,\n",
        "    shuffle=True, num_workers=1)\n",
        "\n",
        "# Create a dataset and loader for the test data and labels\n",
        "test_x = torch.Tensor(x_test).float()\n",
        "test_y = torch.Tensor(y_test).long()\n",
        "test_ds = td.TensorDataset(test_x,test_y)\n",
        "test_loader = td.DataLoader(test_ds, batch_size=256,\n",
        "    shuffle=False, num_workers=1)\n",
        "print('Ready to load data')"
      ],
      "metadata": {
        "colab": {
          "base_uri": "https://localhost:8080/"
        },
        "outputId": "e555f0b3-827a-47e2-d525-d3d7c23aa9ce",
        "id": "x5wkgFq1DprA"
      },
      "execution_count": null,
      "outputs": [
        {
          "output_type": "stream",
          "name": "stdout",
          "text": [
            "Ready to load data\n"
          ]
        }
      ]
    },
    {
      "cell_type": "code",
      "source": [
        "# Create a model instance from the network\n",
        "model = IncomeNet()\n",
        "print(model)\n",
        "# Specify the loss criteria (we'll use CrossEntropyLoss for multi-class classification)\n",
        "loss_criteria = nn.CrossEntropyLoss()\n",
        "\n",
        "# Use an \"Adam\" optimizer to adjust weights\n",
        "# (see https://pytorch.org/docs/stable/optim.html#algorithms for details of supported algorithms)\n",
        "learning_rate = 0.001\n",
        "optimizer = torch.optim.RMSprop(model.parameters(), lr=learning_rate)\n",
        "optimizer.zero_grad()\n",
        "\n",
        "# We'll track metrics for each epoch in these arrays\n",
        "epoch_nums = []\n",
        "training_loss = []\n",
        "validation_loss = []\n",
        "\n",
        "# Train over 50 epochs\n",
        "epochs = 50\n",
        "for epoch in range(1, epochs + 1):\n",
        "\n",
        "    # print the epoch number\n",
        "    print('Epoch: {}'.format(epoch))\n",
        "    \n",
        "    # Feed training data into the model to optimize the weights\n",
        "    train_loss = train(model, train_loader, optimizer)\n",
        "    \n",
        "    # Feed the test data into the model to check its performance\n",
        "    test_loss = test(model, test_loader)\n",
        "    \n",
        "    # Log the metrics for this epoch\n",
        "    epoch_nums.append(epoch)\n",
        "    training_loss.append(train_loss)\n",
        "    validation_loss.append(test_loss)\n"
      ],
      "metadata": {
        "colab": {
          "base_uri": "https://localhost:8080/"
        },
        "outputId": "27d89eef-6ede-466b-cb48-c95c42002347",
        "id": "_Yov6uEyDprA"
      },
      "execution_count": null,
      "outputs": [
        {
          "output_type": "stream",
          "name": "stdout",
          "text": [
            "IncomeNet(\n",
            "  (fc1): Linear(in_features=108, out_features=50, bias=True)\n",
            "  (fc2): Linear(in_features=50, out_features=50, bias=True)\n",
            "  (fc3): Linear(in_features=50, out_features=2, bias=True)\n",
            ")\n",
            "Epoch: 1\n"
          ]
        },
        {
          "output_type": "stream",
          "name": "stderr",
          "text": [
            "/usr/local/lib/python3.7/dist-packages/ipykernel_launcher.py:13: UserWarning: Implicit dimension choice for softmax has been deprecated. Change the call to include dim=X as an argument.\n",
            "  del sys.path[0]\n"
          ]
        },
        {
          "output_type": "stream",
          "name": "stdout",
          "text": [
            "Training set: Average loss: 0.480722\n",
            "Validation set: Average loss: 0.459382, Accuracy: 4216/5000 (84%)\n",
            "\n",
            "Epoch: 2\n"
          ]
        },
        {
          "output_type": "stream",
          "name": "stderr",
          "text": [
            "/usr/local/lib/python3.7/dist-packages/ipykernel_launcher.py:42: UserWarning: To copy construct from a tensor, it is recommended to use sourceTensor.clone().detach() or sourceTensor.clone().detach().requires_grad_(True), rather than torch.tensor(sourceTensor).\n"
          ]
        },
        {
          "output_type": "stream",
          "name": "stdout",
          "text": [
            "Training set: Average loss: 0.455353\n",
            "Validation set: Average loss: 0.455501, Accuracy: 4243/5000 (85%)\n",
            "\n",
            "Epoch: 3\n",
            "Training set: Average loss: 0.448969\n",
            "Validation set: Average loss: 0.455332, Accuracy: 4236/5000 (85%)\n",
            "\n",
            "Epoch: 4\n",
            "Training set: Average loss: 0.446884\n",
            "Validation set: Average loss: 0.453431, Accuracy: 4260/5000 (85%)\n",
            "\n",
            "Epoch: 5\n",
            "Training set: Average loss: 0.445984\n",
            "Validation set: Average loss: 0.452788, Accuracy: 4249/5000 (85%)\n",
            "\n",
            "Epoch: 6\n",
            "Training set: Average loss: 0.443985\n",
            "Validation set: Average loss: 0.456142, Accuracy: 4239/5000 (85%)\n",
            "\n",
            "Epoch: 7\n",
            "Training set: Average loss: 0.443077\n",
            "Validation set: Average loss: 0.454968, Accuracy: 4241/5000 (85%)\n",
            "\n",
            "Epoch: 8\n",
            "Training set: Average loss: 0.440277\n",
            "Validation set: Average loss: 0.453084, Accuracy: 4254/5000 (85%)\n",
            "\n",
            "Epoch: 9\n",
            "Training set: Average loss: 0.439142\n",
            "Validation set: Average loss: 0.452235, Accuracy: 4257/5000 (85%)\n",
            "\n",
            "Epoch: 10\n",
            "Training set: Average loss: 0.438929\n",
            "Validation set: Average loss: 0.451680, Accuracy: 4268/5000 (85%)\n",
            "\n",
            "Epoch: 11\n",
            "Training set: Average loss: 0.439606\n",
            "Validation set: Average loss: 0.454204, Accuracy: 4241/5000 (85%)\n",
            "\n",
            "Epoch: 12\n",
            "Training set: Average loss: 0.435881\n",
            "Validation set: Average loss: 0.451658, Accuracy: 4259/5000 (85%)\n",
            "\n",
            "Epoch: 13\n",
            "Training set: Average loss: 0.434919\n",
            "Validation set: Average loss: 0.454020, Accuracy: 4251/5000 (85%)\n",
            "\n",
            "Epoch: 14\n",
            "Training set: Average loss: 0.434699\n",
            "Validation set: Average loss: 0.457111, Accuracy: 4242/5000 (85%)\n",
            "\n",
            "Epoch: 15\n",
            "Training set: Average loss: 0.433165\n",
            "Validation set: Average loss: 0.453179, Accuracy: 4251/5000 (85%)\n",
            "\n",
            "Epoch: 16\n",
            "Training set: Average loss: 0.432132\n",
            "Validation set: Average loss: 0.453780, Accuracy: 4262/5000 (85%)\n",
            "\n",
            "Epoch: 17\n",
            "Training set: Average loss: 0.431937\n",
            "Validation set: Average loss: 0.453058, Accuracy: 4258/5000 (85%)\n",
            "\n",
            "Epoch: 18\n",
            "Training set: Average loss: 0.431117\n",
            "Validation set: Average loss: 0.455102, Accuracy: 4235/5000 (85%)\n",
            "\n",
            "Epoch: 19\n",
            "Training set: Average loss: 0.430923\n",
            "Validation set: Average loss: 0.453838, Accuracy: 4264/5000 (85%)\n",
            "\n",
            "Epoch: 20\n",
            "Training set: Average loss: 0.429746\n",
            "Validation set: Average loss: 0.456095, Accuracy: 4231/5000 (85%)\n",
            "\n",
            "Epoch: 21\n",
            "Training set: Average loss: 0.429634\n",
            "Validation set: Average loss: 0.456939, Accuracy: 4241/5000 (85%)\n",
            "\n",
            "Epoch: 22\n",
            "Training set: Average loss: 0.429932\n",
            "Validation set: Average loss: 0.454742, Accuracy: 4252/5000 (85%)\n",
            "\n",
            "Epoch: 23\n",
            "Training set: Average loss: 0.427618\n",
            "Validation set: Average loss: 0.454502, Accuracy: 4258/5000 (85%)\n",
            "\n",
            "Epoch: 24\n",
            "Training set: Average loss: 0.428133\n",
            "Validation set: Average loss: 0.456053, Accuracy: 4242/5000 (85%)\n",
            "\n",
            "Epoch: 25\n",
            "Training set: Average loss: 0.428646\n",
            "Validation set: Average loss: 0.458433, Accuracy: 4230/5000 (85%)\n",
            "\n",
            "Epoch: 26\n",
            "Training set: Average loss: 0.426800\n",
            "Validation set: Average loss: 0.456151, Accuracy: 4255/5000 (85%)\n",
            "\n",
            "Epoch: 27\n",
            "Training set: Average loss: 0.426976\n",
            "Validation set: Average loss: 0.456586, Accuracy: 4254/5000 (85%)\n",
            "\n",
            "Epoch: 28\n",
            "Training set: Average loss: 0.425583\n",
            "Validation set: Average loss: 0.457381, Accuracy: 4254/5000 (85%)\n",
            "\n",
            "Epoch: 29\n",
            "Training set: Average loss: 0.426538\n",
            "Validation set: Average loss: 0.458233, Accuracy: 4233/5000 (85%)\n",
            "\n",
            "Epoch: 30\n",
            "Training set: Average loss: 0.424939\n",
            "Validation set: Average loss: 0.461224, Accuracy: 4230/5000 (85%)\n",
            "\n",
            "Epoch: 31\n",
            "Training set: Average loss: 0.424050\n",
            "Validation set: Average loss: 0.456021, Accuracy: 4247/5000 (85%)\n",
            "\n",
            "Epoch: 32\n",
            "Training set: Average loss: 0.424029\n",
            "Validation set: Average loss: 0.460696, Accuracy: 4232/5000 (85%)\n",
            "\n",
            "Epoch: 33\n",
            "Training set: Average loss: 0.424379\n",
            "Validation set: Average loss: 0.457842, Accuracy: 4234/5000 (85%)\n",
            "\n",
            "Epoch: 34\n",
            "Training set: Average loss: 0.424287\n",
            "Validation set: Average loss: 0.456490, Accuracy: 4252/5000 (85%)\n",
            "\n",
            "Epoch: 35\n",
            "Training set: Average loss: 0.423521\n",
            "Validation set: Average loss: 0.457942, Accuracy: 4240/5000 (85%)\n",
            "\n",
            "Epoch: 36\n",
            "Training set: Average loss: 0.422641\n",
            "Validation set: Average loss: 0.458467, Accuracy: 4236/5000 (85%)\n",
            "\n",
            "Epoch: 37\n",
            "Training set: Average loss: 0.424263\n",
            "Validation set: Average loss: 0.456625, Accuracy: 4248/5000 (85%)\n",
            "\n",
            "Epoch: 38\n",
            "Training set: Average loss: 0.422157\n",
            "Validation set: Average loss: 0.459453, Accuracy: 4232/5000 (85%)\n",
            "\n",
            "Epoch: 39\n",
            "Training set: Average loss: 0.423055\n",
            "Validation set: Average loss: 0.455809, Accuracy: 4253/5000 (85%)\n",
            "\n",
            "Epoch: 40\n",
            "Training set: Average loss: 0.422202\n",
            "Validation set: Average loss: 0.458157, Accuracy: 4240/5000 (85%)\n",
            "\n",
            "Epoch: 41\n",
            "Training set: Average loss: 0.422565\n",
            "Validation set: Average loss: 0.462099, Accuracy: 4225/5000 (84%)\n",
            "\n",
            "Epoch: 42\n",
            "Training set: Average loss: 0.421125\n",
            "Validation set: Average loss: 0.460984, Accuracy: 4233/5000 (85%)\n",
            "\n",
            "Epoch: 43\n",
            "Training set: Average loss: 0.422922\n",
            "Validation set: Average loss: 0.472418, Accuracy: 4178/5000 (84%)\n",
            "\n",
            "Epoch: 44\n",
            "Training set: Average loss: 0.422495\n",
            "Validation set: Average loss: 0.458237, Accuracy: 4245/5000 (85%)\n",
            "\n",
            "Epoch: 45\n",
            "Training set: Average loss: 0.421655\n",
            "Validation set: Average loss: 0.458083, Accuracy: 4244/5000 (85%)\n",
            "\n",
            "Epoch: 46\n",
            "Training set: Average loss: 0.421320\n",
            "Validation set: Average loss: 0.456481, Accuracy: 4243/5000 (85%)\n",
            "\n",
            "Epoch: 47\n",
            "Training set: Average loss: 0.421132\n",
            "Validation set: Average loss: 0.458144, Accuracy: 4243/5000 (85%)\n",
            "\n",
            "Epoch: 48\n",
            "Training set: Average loss: 0.421286\n",
            "Validation set: Average loss: 0.457406, Accuracy: 4244/5000 (85%)\n",
            "\n",
            "Epoch: 49\n",
            "Training set: Average loss: 0.421335\n",
            "Validation set: Average loss: 0.459774, Accuracy: 4234/5000 (85%)\n",
            "\n",
            "Epoch: 50\n",
            "Training set: Average loss: 0.419980\n",
            "Validation set: Average loss: 0.458532, Accuracy: 4245/5000 (85%)\n",
            "\n"
          ]
        }
      ]
    },
    {
      "cell_type": "code",
      "source": [
        "# batch_size = 256\n",
        "def _evaluate(model, x_test):\n",
        "  model.eval()\n",
        "\n",
        "  x = torch.Tensor(x_test).float()\n",
        "  _, predictions = torch.max(model(x).data, 1)\n",
        "  print('Evaluation on test dataset')\n",
        "  get_metrics(y_test, predictions)\n",
        "\n",
        "  # Plot the confusion matrix\n",
        "  classes=['0','1']\n",
        "  cm = confusion_matrix(y_test, predictions.numpy())\n",
        "  plt.imshow(cm, interpolation=\"nearest\", cmap=plt.cm.Blues)\n",
        "  plt.colorbar()\n",
        "  tick_marks = np.arange(2)\n",
        "  plt.xticks(tick_marks, classes, rotation=85)\n",
        "  plt.yticks(tick_marks, classes)\n",
        "  plt.xlabel(\"Predicted\")\n",
        "  plt.ylabel(\"Actual\")\n",
        "  plt.show()\n",
        "\n",
        "_evaluate(model, x_test)"
      ],
      "metadata": {
        "colab": {
          "base_uri": "https://localhost:8080/",
          "height": 616
        },
        "outputId": "516adf39-b602-4a4c-a54a-ff7b4364bdd2",
        "id": "h514B8O7DprA"
      },
      "execution_count": null,
      "outputs": [
        {
          "output_type": "stream",
          "name": "stdout",
          "text": [
            "Evaluation on test dataset\n",
            "ACCURACY_SCORE:  0.849\n",
            "F1_SCORE:  0.7738\n",
            "CONFUSION_MATRIX:\n",
            " [[3564  247]\n",
            " [ 508  681]] \n",
            "\n",
            "              precision    recall  f1-score   support\n",
            "\n",
            "           0     0.8752    0.9352    0.9042      3811\n",
            "           1     0.7338    0.5728    0.6434      1189\n",
            "\n",
            "    accuracy                         0.8490      5000\n",
            "   macro avg     0.8045    0.7540    0.7738      5000\n",
            "weighted avg     0.8416    0.8490    0.8422      5000\n",
            " \n",
            "\n"
          ]
        },
        {
          "output_type": "stream",
          "name": "stderr",
          "text": [
            "/usr/local/lib/python3.7/dist-packages/ipykernel_launcher.py:13: UserWarning: Implicit dimension choice for softmax has been deprecated. Change the call to include dim=X as an argument.\n",
            "  del sys.path[0]\n"
          ]
        },
        {
          "output_type": "display_data",
          "data": {
            "image/png": "[encoded data removed]",
            "text/plain": [
              "<Figure size 432x288 with 2 Axes>"
            ]
          },
          "metadata": {
            "needs_background": "light"
          }
        }
      ]
    },
    {
      "cell_type": "markdown",
      "source": [
        "##### batch_size = 512, RMSprop"
      ],
      "metadata": {
        "id": "TvW4u0ZGEBNk"
      }
    },
    {
      "cell_type": "code",
      "source": [
        "# batch_size=64\n",
        "# Create a dataset and loader for the training data and labels\n",
        "train_x = torch.Tensor(x_train).float()\n",
        "train_y = torch.Tensor(y_train).long()\n",
        "train_ds = td.TensorDataset(train_x,train_y)\n",
        "train_loader = td.DataLoader(train_ds, batch_size=512,\n",
        "    shuffle=True, num_workers=1)\n",
        "\n",
        "# Create a dataset and loader for the test data and labels\n",
        "test_x = torch.Tensor(x_test).float()\n",
        "test_y = torch.Tensor(y_test).long()\n",
        "test_ds = td.TensorDataset(test_x,test_y)\n",
        "test_loader = td.DataLoader(test_ds, batch_size=512,\n",
        "    shuffle=False, num_workers=1)\n",
        "print('Ready to load data')"
      ],
      "metadata": {
        "colab": {
          "base_uri": "https://localhost:8080/"
        },
        "outputId": "c911be37-1339-40a7-faeb-5ab877dcc770",
        "id": "AL6gYiX4GTn8"
      },
      "execution_count": null,
      "outputs": [
        {
          "output_type": "stream",
          "name": "stdout",
          "text": [
            "Ready to load data\n"
          ]
        }
      ]
    },
    {
      "cell_type": "code",
      "source": [
        "# Create a model instance from the network\n",
        "model = IncomeNet()\n",
        "print(model)\n",
        "# Specify the loss criteria (we'll use CrossEntropyLoss for multi-class classification)\n",
        "loss_criteria = nn.CrossEntropyLoss()\n",
        "\n",
        "# Use an \"Adam\" optimizer to adjust weights\n",
        "# (see https://pytorch.org/docs/stable/optim.html#algorithms for details of supported algorithms)\n",
        "learning_rate = 0.001\n",
        "optimizer = torch.optim.RMSprop(model.parameters(), lr=learning_rate)\n",
        "optimizer.zero_grad()\n",
        "\n",
        "# We'll track metrics for each epoch in these arrays\n",
        "epoch_nums = []\n",
        "training_loss = []\n",
        "validation_loss = []\n",
        "\n",
        "# Train over 50 epochs\n",
        "epochs = 50\n",
        "for epoch in range(1, epochs + 1):\n",
        "\n",
        "    # print the epoch number\n",
        "    print('Epoch: {}'.format(epoch))\n",
        "    \n",
        "    # Feed training data into the model to optimize the weights\n",
        "    train_loss = train(model, train_loader, optimizer)\n",
        "    \n",
        "    # Feed the test data into the model to check its performance\n",
        "    test_loss = test(model, test_loader)\n",
        "    \n",
        "    # Log the metrics for this epoch\n",
        "    epoch_nums.append(epoch)\n",
        "    training_loss.append(train_loss)\n",
        "    validation_loss.append(test_loss)\n"
      ],
      "metadata": {
        "colab": {
          "base_uri": "https://localhost:8080/"
        },
        "outputId": "05f289ba-b1ee-426c-aa57-6cc297ebf399",
        "id": "_vz_t_2qGTn9"
      },
      "execution_count": null,
      "outputs": [
        {
          "output_type": "stream",
          "name": "stdout",
          "text": [
            "IncomeNet(\n",
            "  (fc1): Linear(in_features=108, out_features=50, bias=True)\n",
            "  (fc2): Linear(in_features=50, out_features=50, bias=True)\n",
            "  (fc3): Linear(in_features=50, out_features=2, bias=True)\n",
            ")\n",
            "Epoch: 1\n"
          ]
        },
        {
          "output_type": "stream",
          "name": "stderr",
          "text": [
            "/usr/local/lib/python3.7/dist-packages/ipykernel_launcher.py:13: UserWarning: Implicit dimension choice for softmax has been deprecated. Change the call to include dim=X as an argument.\n",
            "  del sys.path[0]\n"
          ]
        },
        {
          "output_type": "stream",
          "name": "stdout",
          "text": [
            "Training set: Average loss: 0.492226\n",
            "Validation set: Average loss: 0.462714, Accuracy: 4214/5000 (84%)\n",
            "\n",
            "Epoch: 2\n"
          ]
        },
        {
          "output_type": "stream",
          "name": "stderr",
          "text": [
            "/usr/local/lib/python3.7/dist-packages/ipykernel_launcher.py:42: UserWarning: To copy construct from a tensor, it is recommended to use sourceTensor.clone().detach() or sourceTensor.clone().detach().requires_grad_(True), rather than torch.tensor(sourceTensor).\n"
          ]
        },
        {
          "output_type": "stream",
          "name": "stdout",
          "text": [
            "Training set: Average loss: 0.456732\n",
            "Validation set: Average loss: 0.458097, Accuracy: 4238/5000 (85%)\n",
            "\n",
            "Epoch: 3\n",
            "Training set: Average loss: 0.454374\n",
            "Validation set: Average loss: 0.461240, Accuracy: 4214/5000 (84%)\n",
            "\n",
            "Epoch: 4\n",
            "Training set: Average loss: 0.449198\n",
            "Validation set: Average loss: 0.457567, Accuracy: 4239/5000 (85%)\n",
            "\n",
            "Epoch: 5\n",
            "Training set: Average loss: 0.448523\n",
            "Validation set: Average loss: 0.455183, Accuracy: 4255/5000 (85%)\n",
            "\n",
            "Epoch: 6\n",
            "Training set: Average loss: 0.447699\n",
            "Validation set: Average loss: 0.454272, Accuracy: 4262/5000 (85%)\n",
            "\n",
            "Epoch: 7\n",
            "Training set: Average loss: 0.448386\n",
            "Validation set: Average loss: 0.455874, Accuracy: 4252/5000 (85%)\n",
            "\n",
            "Epoch: 8\n",
            "Training set: Average loss: 0.445531\n",
            "Validation set: Average loss: 0.454289, Accuracy: 4253/5000 (85%)\n",
            "\n",
            "Epoch: 9\n",
            "Training set: Average loss: 0.443085\n",
            "Validation set: Average loss: 0.455666, Accuracy: 4245/5000 (85%)\n",
            "\n",
            "Epoch: 10\n",
            "Training set: Average loss: 0.441554\n",
            "Validation set: Average loss: 0.455134, Accuracy: 4235/5000 (85%)\n",
            "\n",
            "Epoch: 11\n",
            "Training set: Average loss: 0.439274\n",
            "Validation set: Average loss: 0.452832, Accuracy: 4256/5000 (85%)\n",
            "\n",
            "Epoch: 12\n",
            "Training set: Average loss: 0.437723\n",
            "Validation set: Average loss: 0.452352, Accuracy: 4269/5000 (85%)\n",
            "\n",
            "Epoch: 13\n",
            "Training set: Average loss: 0.440254\n",
            "Validation set: Average loss: 0.452532, Accuracy: 4271/5000 (85%)\n",
            "\n",
            "Epoch: 14\n",
            "Training set: Average loss: 0.437996\n",
            "Validation set: Average loss: 0.453517, Accuracy: 4248/5000 (85%)\n",
            "\n",
            "Epoch: 15\n",
            "Training set: Average loss: 0.439086\n",
            "Validation set: Average loss: 0.454619, Accuracy: 4241/5000 (85%)\n",
            "\n",
            "Epoch: 16\n",
            "Training set: Average loss: 0.436998\n",
            "Validation set: Average loss: 0.455227, Accuracy: 4243/5000 (85%)\n",
            "\n",
            "Epoch: 17\n",
            "Training set: Average loss: 0.435354\n",
            "Validation set: Average loss: 0.454783, Accuracy: 4254/5000 (85%)\n",
            "\n",
            "Epoch: 18\n",
            "Training set: Average loss: 0.437207\n",
            "Validation set: Average loss: 0.454176, Accuracy: 4257/5000 (85%)\n",
            "\n",
            "Epoch: 19\n",
            "Training set: Average loss: 0.435254\n",
            "Validation set: Average loss: 0.453831, Accuracy: 4269/5000 (85%)\n",
            "\n",
            "Epoch: 20\n",
            "Training set: Average loss: 0.435792\n",
            "Validation set: Average loss: 0.453061, Accuracy: 4266/5000 (85%)\n",
            "\n",
            "Epoch: 21\n",
            "Training set: Average loss: 0.435054\n",
            "Validation set: Average loss: 0.453526, Accuracy: 4268/5000 (85%)\n",
            "\n",
            "Epoch: 22\n",
            "Training set: Average loss: 0.433457\n",
            "Validation set: Average loss: 0.454682, Accuracy: 4243/5000 (85%)\n",
            "\n",
            "Epoch: 23\n",
            "Training set: Average loss: 0.433834\n",
            "Validation set: Average loss: 0.454962, Accuracy: 4253/5000 (85%)\n",
            "\n",
            "Epoch: 24\n",
            "Training set: Average loss: 0.432642\n",
            "Validation set: Average loss: 0.454663, Accuracy: 4258/5000 (85%)\n",
            "\n",
            "Epoch: 25\n",
            "Training set: Average loss: 0.432864\n",
            "Validation set: Average loss: 0.460603, Accuracy: 4222/5000 (84%)\n",
            "\n",
            "Epoch: 26\n",
            "Training set: Average loss: 0.432912\n",
            "Validation set: Average loss: 0.454156, Accuracy: 4259/5000 (85%)\n",
            "\n",
            "Epoch: 27\n",
            "Training set: Average loss: 0.431215\n",
            "Validation set: Average loss: 0.453424, Accuracy: 4251/5000 (85%)\n",
            "\n",
            "Epoch: 28\n",
            "Training set: Average loss: 0.430625\n",
            "Validation set: Average loss: 0.454752, Accuracy: 4261/5000 (85%)\n",
            "\n",
            "Epoch: 29\n",
            "Training set: Average loss: 0.432060\n",
            "Validation set: Average loss: 0.455366, Accuracy: 4260/5000 (85%)\n",
            "\n",
            "Epoch: 30\n",
            "Training set: Average loss: 0.429435\n",
            "Validation set: Average loss: 0.454682, Accuracy: 4239/5000 (85%)\n",
            "\n",
            "Epoch: 31\n",
            "Training set: Average loss: 0.433356\n",
            "Validation set: Average loss: 0.455286, Accuracy: 4247/5000 (85%)\n",
            "\n",
            "Epoch: 32\n",
            "Training set: Average loss: 0.429314\n",
            "Validation set: Average loss: 0.455455, Accuracy: 4254/5000 (85%)\n",
            "\n",
            "Epoch: 33\n",
            "Training set: Average loss: 0.429529\n",
            "Validation set: Average loss: 0.456103, Accuracy: 4249/5000 (85%)\n",
            "\n",
            "Epoch: 34\n",
            "Training set: Average loss: 0.428779\n",
            "Validation set: Average loss: 0.457702, Accuracy: 4237/5000 (85%)\n",
            "\n",
            "Epoch: 35\n",
            "Training set: Average loss: 0.427878\n",
            "Validation set: Average loss: 0.455331, Accuracy: 4253/5000 (85%)\n",
            "\n",
            "Epoch: 36\n",
            "Training set: Average loss: 0.428760\n",
            "Validation set: Average loss: 0.456480, Accuracy: 4233/5000 (85%)\n",
            "\n",
            "Epoch: 37\n",
            "Training set: Average loss: 0.426677\n",
            "Validation set: Average loss: 0.456560, Accuracy: 4248/5000 (85%)\n",
            "\n",
            "Epoch: 38\n",
            "Training set: Average loss: 0.428415\n",
            "Validation set: Average loss: 0.461143, Accuracy: 4232/5000 (85%)\n",
            "\n",
            "Epoch: 39\n",
            "Training set: Average loss: 0.426715\n",
            "Validation set: Average loss: 0.457661, Accuracy: 4236/5000 (85%)\n",
            "\n",
            "Epoch: 40\n",
            "Training set: Average loss: 0.427284\n",
            "Validation set: Average loss: 0.460258, Accuracy: 4234/5000 (85%)\n",
            "\n",
            "Epoch: 41\n",
            "Training set: Average loss: 0.426542\n",
            "Validation set: Average loss: 0.465717, Accuracy: 4204/5000 (84%)\n",
            "\n",
            "Epoch: 42\n",
            "Training set: Average loss: 0.427649\n",
            "Validation set: Average loss: 0.456691, Accuracy: 4259/5000 (85%)\n",
            "\n",
            "Epoch: 43\n",
            "Training set: Average loss: 0.426725\n",
            "Validation set: Average loss: 0.459413, Accuracy: 4229/5000 (85%)\n",
            "\n",
            "Epoch: 44\n",
            "Training set: Average loss: 0.426208\n",
            "Validation set: Average loss: 0.457875, Accuracy: 4235/5000 (85%)\n",
            "\n",
            "Epoch: 45\n",
            "Training set: Average loss: 0.426531\n",
            "Validation set: Average loss: 0.459828, Accuracy: 4235/5000 (85%)\n",
            "\n",
            "Epoch: 46\n",
            "Training set: Average loss: 0.426679\n",
            "Validation set: Average loss: 0.457802, Accuracy: 4248/5000 (85%)\n",
            "\n",
            "Epoch: 47\n",
            "Training set: Average loss: 0.426228\n",
            "Validation set: Average loss: 0.457886, Accuracy: 4246/5000 (85%)\n",
            "\n",
            "Epoch: 48\n",
            "Training set: Average loss: 0.425712\n",
            "Validation set: Average loss: 0.468984, Accuracy: 4195/5000 (84%)\n",
            "\n",
            "Epoch: 49\n",
            "Training set: Average loss: 0.425177\n",
            "Validation set: Average loss: 0.459135, Accuracy: 4244/5000 (85%)\n",
            "\n",
            "Epoch: 50\n",
            "Training set: Average loss: 0.427863\n",
            "Validation set: Average loss: 0.459340, Accuracy: 4233/5000 (85%)\n",
            "\n"
          ]
        }
      ]
    },
    {
      "cell_type": "code",
      "source": [
        "import numpy as np\n",
        "from sklearn.metrics import confusion_matrix\n",
        "import matplotlib.pyplot as plt\n",
        "%matplotlib inline\n",
        "\n",
        "# batch_size = 64\n",
        "def _evaluate(model, x_test):\n",
        "  model.eval()\n",
        "\n",
        "  x = torch.Tensor(x_test).float()\n",
        "  _, predictions = torch.max(model(x).data, 1)\n",
        "  print('Evaluation on test dataset')\n",
        "  get_metrics(y_test, predictions)\n",
        "\n",
        "  # Plot the confusion matrix\n",
        "  classes=['0','1']\n",
        "  cm = confusion_matrix(y_test, predictions.numpy())\n",
        "  plt.imshow(cm, interpolation=\"nearest\", cmap=plt.cm.Blues)\n",
        "  plt.colorbar()\n",
        "  tick_marks = np.arange(2)\n",
        "  plt.xticks(tick_marks, classes, rotation=85)\n",
        "  plt.yticks(tick_marks, classes)\n",
        "  plt.xlabel(\"Predicted\")\n",
        "  plt.ylabel(\"Actual\")\n",
        "  plt.show()\n",
        "\n",
        "_evaluate(model, x_test)"
      ],
      "metadata": {
        "colab": {
          "base_uri": "https://localhost:8080/",
          "height": 616
        },
        "outputId": "67fab5fd-5ed3-4e48-9c56-7eec6bbe8448",
        "id": "IwrnuTygGTn9"
      },
      "execution_count": null,
      "outputs": [
        {
          "output_type": "stream",
          "name": "stdout",
          "text": [
            "Evaluation on test dataset\n",
            "ACCURACY_SCORE:  0.8466\n",
            "F1_SCORE:  0.7876\n",
            "CONFUSION_MATRIX:\n",
            " [[3434  377]\n",
            " [ 390  799]] \n",
            "\n",
            "              precision    recall  f1-score   support\n",
            "\n",
            "           0     0.8980    0.9011    0.8995      3811\n",
            "           1     0.6794    0.6720    0.6757      1189\n",
            "\n",
            "    accuracy                         0.8466      5000\n",
            "   macro avg     0.7887    0.7865    0.7876      5000\n",
            "weighted avg     0.8460    0.8466    0.8463      5000\n",
            " \n",
            "\n"
          ]
        },
        {
          "output_type": "stream",
          "name": "stderr",
          "text": [
            "/usr/local/lib/python3.7/dist-packages/ipykernel_launcher.py:13: UserWarning: Implicit dimension choice for softmax has been deprecated. Change the call to include dim=X as an argument.\n",
            "  del sys.path[0]\n"
          ]
        },
        {
          "output_type": "display_data",
          "data": {
            "image/png": "[encoded data removed]",
            "text/plain": [
              "<Figure size 432x288 with 2 Axes>"
            ]
          },
          "metadata": {
            "needs_background": "light"
          }
        }
      ]
    },
    {
      "cell_type": "markdown",
      "source": [
        "##### batch_size = 64, SGD"
      ],
      "metadata": {
        "id": "2XPrl1HbGTnz"
      }
    },
    {
      "cell_type": "code",
      "source": [
        "# batch_size=64\n",
        "# Create a dataset and loader for the training data and labels\n",
        "train_x = torch.Tensor(x_train).float()\n",
        "train_y = torch.Tensor(y_train).long()\n",
        "train_ds = td.TensorDataset(train_x,train_y)\n",
        "train_loader = td.DataLoader(train_ds, batch_size=64,\n",
        "    shuffle=True, num_workers=1)\n",
        "\n",
        "# Create a dataset and loader for the test data and labels\n",
        "test_x = torch.Tensor(x_test).float()\n",
        "test_y = torch.Tensor(y_test).long()\n",
        "test_ds = td.TensorDataset(test_x,test_y)\n",
        "test_loader = td.DataLoader(test_ds, batch_size=64,\n",
        "    shuffle=False, num_workers=1)\n",
        "print('Ready to load data')"
      ],
      "metadata": {
        "colab": {
          "base_uri": "https://localhost:8080/"
        },
        "outputId": "6364af31-1b2b-4004-9099-714ef6d4825b",
        "id": "SsQURUB6EBNq"
      },
      "execution_count": null,
      "outputs": [
        {
          "output_type": "stream",
          "name": "stdout",
          "text": [
            "Ready to load data\n"
          ]
        }
      ]
    },
    {
      "cell_type": "code",
      "source": [
        "# Specify the loss criteria (we'll use CrossEntropyLoss for multi-class classification)\n",
        "loss_criteria = nn.CrossEntropyLoss()\n",
        "\n",
        "# Use an \"Adam\" optimizer to adjust weights\n",
        "# (see https://pytorch.org/docs/stable/optim.html#algorithms for details of supported algorithms)\n",
        "learning_rate = 0.001\n",
        "optimizer = torch.optim.SGD(model.parameters(), lr=learning_rate)\n",
        "optimizer.zero_grad()\n",
        "\n",
        "# We'll track metrics for each epoch in these arrays\n",
        "epoch_nums = []\n",
        "training_loss = []\n",
        "validation_loss = []\n",
        "\n",
        "# Train over 50 epochs\n",
        "epochs = 50\n",
        "for epoch in range(1, epochs + 1):\n",
        "\n",
        "    # print the epoch number\n",
        "    print('Epoch: {}'.format(epoch))\n",
        "    \n",
        "    # Feed training data into the model to optimize the weights\n",
        "    train_loss = train(model, train_loader, optimizer)\n",
        "    \n",
        "    # Feed the test data into the model to check its performance\n",
        "    test_loss = test(model, test_loader)\n",
        "    \n",
        "    # Log the metrics for this epoch\n",
        "    epoch_nums.append(epoch)\n",
        "    training_loss.append(train_loss)\n",
        "    validation_loss.append(test_loss)\n"
      ],
      "metadata": {
        "colab": {
          "base_uri": "https://localhost:8080/"
        },
        "outputId": "dfe9fc2b-4872-420b-fc57-c5eb33032923",
        "id": "UjoNYRgvEBNr"
      },
      "execution_count": null,
      "outputs": [
        {
          "output_type": "stream",
          "name": "stdout",
          "text": [
            "Epoch: 1\n"
          ]
        },
        {
          "output_type": "stream",
          "name": "stderr",
          "text": [
            "/usr/local/lib/python3.7/dist-packages/ipykernel_launcher.py:13: UserWarning: Implicit dimension choice for softmax has been deprecated. Change the call to include dim=X as an argument.\n",
            "  del sys.path[0]\n"
          ]
        },
        {
          "output_type": "stream",
          "name": "stdout",
          "text": [
            "Training set: Average loss: 0.427117\n"
          ]
        },
        {
          "output_type": "stream",
          "name": "stderr",
          "text": [
            "/usr/local/lib/python3.7/dist-packages/ipykernel_launcher.py:42: UserWarning: To copy construct from a tensor, it is recommended to use sourceTensor.clone().detach() or sourceTensor.clone().detach().requires_grad_(True), rather than torch.tensor(sourceTensor).\n"
          ]
        },
        {
          "output_type": "stream",
          "name": "stdout",
          "text": [
            "Validation set: Average loss: 0.456579, Accuracy: 4244/5000 (85%)\n",
            "\n",
            "Epoch: 2\n",
            "Training set: Average loss: 0.424303\n",
            "Validation set: Average loss: 0.456012, Accuracy: 4238/5000 (85%)\n",
            "\n",
            "Epoch: 3\n",
            "Training set: Average loss: 0.423250\n",
            "Validation set: Average loss: 0.455830, Accuracy: 4235/5000 (85%)\n",
            "\n",
            "Epoch: 4\n",
            "Training set: Average loss: 0.422784\n",
            "Validation set: Average loss: 0.455833, Accuracy: 4230/5000 (85%)\n",
            "\n",
            "Epoch: 5\n",
            "Training set: Average loss: 0.422314\n",
            "Validation set: Average loss: 0.455864, Accuracy: 4233/5000 (85%)\n",
            "\n",
            "Epoch: 6\n",
            "Training set: Average loss: 0.422046\n",
            "Validation set: Average loss: 0.455919, Accuracy: 4233/5000 (85%)\n",
            "\n",
            "Epoch: 7\n",
            "Training set: Average loss: 0.422126\n",
            "Validation set: Average loss: 0.455979, Accuracy: 4237/5000 (85%)\n",
            "\n",
            "Epoch: 8\n",
            "Training set: Average loss: 0.421977\n",
            "Validation set: Average loss: 0.456037, Accuracy: 4233/5000 (85%)\n",
            "\n",
            "Epoch: 9\n",
            "Training set: Average loss: 0.421826\n",
            "Validation set: Average loss: 0.456082, Accuracy: 4233/5000 (85%)\n",
            "\n",
            "Epoch: 10\n",
            "Training set: Average loss: 0.421741\n",
            "Validation set: Average loss: 0.456125, Accuracy: 4232/5000 (85%)\n",
            "\n",
            "Epoch: 11\n",
            "Training set: Average loss: 0.421555\n",
            "Validation set: Average loss: 0.456164, Accuracy: 4231/5000 (85%)\n",
            "\n",
            "Epoch: 12\n",
            "Training set: Average loss: 0.421569\n",
            "Validation set: Average loss: 0.456190, Accuracy: 4230/5000 (85%)\n",
            "\n",
            "Epoch: 13\n",
            "Training set: Average loss: 0.421527\n",
            "Validation set: Average loss: 0.456226, Accuracy: 4231/5000 (85%)\n",
            "\n",
            "Epoch: 14\n",
            "Training set: Average loss: 0.421483\n",
            "Validation set: Average loss: 0.456250, Accuracy: 4233/5000 (85%)\n",
            "\n",
            "Epoch: 15\n",
            "Training set: Average loss: 0.421435\n",
            "Validation set: Average loss: 0.456276, Accuracy: 4233/5000 (85%)\n",
            "\n",
            "Epoch: 16\n",
            "Training set: Average loss: 0.421522\n",
            "Validation set: Average loss: 0.456301, Accuracy: 4232/5000 (85%)\n",
            "\n",
            "Epoch: 17\n",
            "Training set: Average loss: 0.421479\n",
            "Validation set: Average loss: 0.456317, Accuracy: 4234/5000 (85%)\n",
            "\n",
            "Epoch: 18\n",
            "Training set: Average loss: 0.421549\n",
            "Validation set: Average loss: 0.456330, Accuracy: 4234/5000 (85%)\n",
            "\n",
            "Epoch: 19\n",
            "Training set: Average loss: 0.421444\n",
            "Validation set: Average loss: 0.456340, Accuracy: 4232/5000 (85%)\n",
            "\n",
            "Epoch: 20\n",
            "Training set: Average loss: 0.421409\n",
            "Validation set: Average loss: 0.456348, Accuracy: 4232/5000 (85%)\n",
            "\n",
            "Epoch: 21\n",
            "Training set: Average loss: 0.421430\n",
            "Validation set: Average loss: 0.456355, Accuracy: 4232/5000 (85%)\n",
            "\n",
            "Epoch: 22\n",
            "Training set: Average loss: 0.421367\n",
            "Validation set: Average loss: 0.456366, Accuracy: 4232/5000 (85%)\n",
            "\n",
            "Epoch: 23\n",
            "Training set: Average loss: 0.421248\n",
            "Validation set: Average loss: 0.456372, Accuracy: 4232/5000 (85%)\n",
            "\n",
            "Epoch: 24\n",
            "Training set: Average loss: 0.421484\n",
            "Validation set: Average loss: 0.456376, Accuracy: 4232/5000 (85%)\n",
            "\n",
            "Epoch: 25\n",
            "Training set: Average loss: 0.421435\n",
            "Validation set: Average loss: 0.456387, Accuracy: 4232/5000 (85%)\n",
            "\n",
            "Epoch: 26\n",
            "Training set: Average loss: 0.421288\n",
            "Validation set: Average loss: 0.456389, Accuracy: 4231/5000 (85%)\n",
            "\n",
            "Epoch: 27\n",
            "Training set: Average loss: 0.421310\n",
            "Validation set: Average loss: 0.456399, Accuracy: 4231/5000 (85%)\n",
            "\n",
            "Epoch: 28\n",
            "Training set: Average loss: 0.421278\n",
            "Validation set: Average loss: 0.456397, Accuracy: 4231/5000 (85%)\n",
            "\n",
            "Epoch: 29\n",
            "Training set: Average loss: 0.421110\n",
            "Validation set: Average loss: 0.456400, Accuracy: 4231/5000 (85%)\n",
            "\n",
            "Epoch: 30\n",
            "Training set: Average loss: 0.421268\n",
            "Validation set: Average loss: 0.456405, Accuracy: 4231/5000 (85%)\n",
            "\n",
            "Epoch: 31\n",
            "Training set: Average loss: 0.421250\n",
            "Validation set: Average loss: 0.456413, Accuracy: 4231/5000 (85%)\n",
            "\n",
            "Epoch: 32\n",
            "Training set: Average loss: 0.421179\n",
            "Validation set: Average loss: 0.456430, Accuracy: 4231/5000 (85%)\n",
            "\n",
            "Epoch: 33\n",
            "Training set: Average loss: 0.421280\n",
            "Validation set: Average loss: 0.456434, Accuracy: 4231/5000 (85%)\n",
            "\n",
            "Epoch: 34\n",
            "Training set: Average loss: 0.421301\n",
            "Validation set: Average loss: 0.456432, Accuracy: 4231/5000 (85%)\n",
            "\n",
            "Epoch: 35\n",
            "Training set: Average loss: 0.421106\n",
            "Validation set: Average loss: 0.456431, Accuracy: 4231/5000 (85%)\n",
            "\n",
            "Epoch: 36\n",
            "Training set: Average loss: 0.421166\n",
            "Validation set: Average loss: 0.456433, Accuracy: 4231/5000 (85%)\n",
            "\n",
            "Epoch: 37\n",
            "Training set: Average loss: 0.421175\n",
            "Validation set: Average loss: 0.456432, Accuracy: 4232/5000 (85%)\n",
            "\n",
            "Epoch: 38\n",
            "Training set: Average loss: 0.421058\n",
            "Validation set: Average loss: 0.456432, Accuracy: 4232/5000 (85%)\n",
            "\n",
            "Epoch: 39\n",
            "Training set: Average loss: 0.421198\n",
            "Validation set: Average loss: 0.456440, Accuracy: 4231/5000 (85%)\n",
            "\n",
            "Epoch: 40\n",
            "Training set: Average loss: 0.421009\n",
            "Validation set: Average loss: 0.456455, Accuracy: 4232/5000 (85%)\n",
            "\n",
            "Epoch: 41\n",
            "Training set: Average loss: 0.421058\n",
            "Validation set: Average loss: 0.456455, Accuracy: 4231/5000 (85%)\n",
            "\n",
            "Epoch: 42\n",
            "Training set: Average loss: 0.421101\n",
            "Validation set: Average loss: 0.456460, Accuracy: 4231/5000 (85%)\n",
            "\n",
            "Epoch: 43\n",
            "Training set: Average loss: 0.421066\n",
            "Validation set: Average loss: 0.456477, Accuracy: 4231/5000 (85%)\n",
            "\n",
            "Epoch: 44\n",
            "Training set: Average loss: 0.421307\n",
            "Validation set: Average loss: 0.456463, Accuracy: 4231/5000 (85%)\n",
            "\n",
            "Epoch: 45\n",
            "Training set: Average loss: 0.421024\n",
            "Validation set: Average loss: 0.456462, Accuracy: 4231/5000 (85%)\n",
            "\n",
            "Epoch: 46\n",
            "Training set: Average loss: 0.421119\n",
            "Validation set: Average loss: 0.456475, Accuracy: 4231/5000 (85%)\n",
            "\n",
            "Epoch: 47\n",
            "Training set: Average loss: 0.421120\n",
            "Validation set: Average loss: 0.456471, Accuracy: 4231/5000 (85%)\n",
            "\n",
            "Epoch: 48\n",
            "Training set: Average loss: 0.421063\n",
            "Validation set: Average loss: 0.456478, Accuracy: 4231/5000 (85%)\n",
            "\n",
            "Epoch: 49\n",
            "Training set: Average loss: 0.420992\n",
            "Validation set: Average loss: 0.456490, Accuracy: 4231/5000 (85%)\n",
            "\n",
            "Epoch: 50\n",
            "Training set: Average loss: 0.421123\n",
            "Validation set: Average loss: 0.456493, Accuracy: 4231/5000 (85%)\n",
            "\n"
          ]
        }
      ]
    },
    {
      "cell_type": "code",
      "source": [
        "# batch_size = 512\n",
        "def _evaluate(model, x_test):\n",
        "  model.eval()\n",
        "\n",
        "  x = torch.Tensor(x_test).float()\n",
        "  _, predictions = torch.max(model(x).data, 1)\n",
        "  print('Evaluation on test dataset')\n",
        "  get_metrics(y_test, predictions)\n",
        "\n",
        "  # Plot the confusion matrix\n",
        "  classes=['0','1']\n",
        "  cm = confusion_matrix(y_test, predictions.numpy())\n",
        "  plt.imshow(cm, interpolation=\"nearest\", cmap=plt.cm.Blues)\n",
        "  plt.colorbar()\n",
        "  tick_marks = np.arange(2)\n",
        "  plt.xticks(tick_marks, classes, rotation=85)\n",
        "  plt.yticks(tick_marks, classes)\n",
        "  plt.xlabel(\"Predicted\")\n",
        "  plt.ylabel(\"Actual\")\n",
        "  plt.show()\n",
        "\n",
        "_evaluate(model, x_test)"
      ],
      "metadata": {
        "colab": {
          "base_uri": "https://localhost:8080/",
          "height": 618
        },
        "outputId": "5c9d186e-9f47-4046-986c-89e30cf2f524",
        "id": "rnN0bkrZEBNr"
      },
      "execution_count": null,
      "outputs": [
        {
          "output_type": "stream",
          "name": "stdout",
          "text": [
            "Evaluation on test dataset\n",
            "ACCURACY_SCORE:  0.8462\n",
            "F1_SCORE:  0.7745\n",
            "CONFUSION_MATRIX:\n",
            " [[3525  286]\n",
            " [ 483  706]] \n",
            "\n",
            "              precision    recall  f1-score   support\n",
            "\n",
            "           0     0.8795    0.9250    0.9016      3811\n",
            "           1     0.7117    0.5938    0.6474      1189\n",
            "\n",
            "    accuracy                         0.8462      5000\n",
            "   macro avg     0.7956    0.7594    0.7745      5000\n",
            "weighted avg     0.8396    0.8462    0.8412      5000\n",
            " \n",
            "\n"
          ]
        },
        {
          "output_type": "stream",
          "name": "stderr",
          "text": [
            "/usr/local/lib/python3.7/dist-packages/ipykernel_launcher.py:13: UserWarning: Implicit dimension choice for softmax has been deprecated. Change the call to include dim=X as an argument.\n",
            "  del sys.path[0]\n"
          ]
        },
        {
          "output_type": "display_data",
          "data": {
            "image/png": "[encoded data removed]",
            "text/plain": [
              "<Figure size 432x288 with 2 Axes>"
            ]
          },
          "metadata": {
            "needs_background": "light"
          }
        }
      ]
    },
    {
      "cell_type": "markdown",
      "source": [
        "##### batch_size = 256, SGD"
      ],
      "metadata": {
        "id": "180HaoClF4tQ"
      }
    },
    {
      "cell_type": "code",
      "source": [
        "# batch_size=256\n",
        "# Create a dataset and loader for the training data and labels\n",
        "train_x = torch.Tensor(x_train).float()\n",
        "train_y = torch.Tensor(y_train).long()\n",
        "train_ds = td.TensorDataset(train_x,train_y)\n",
        "train_loader = td.DataLoader(train_ds, batch_size=256,\n",
        "    shuffle=True, num_workers=1)\n",
        "\n",
        "# Create a dataset and loader for the test data and labels\n",
        "test_x = torch.Tensor(x_test).float()\n",
        "test_y = torch.Tensor(y_test).long()\n",
        "test_ds = td.TensorDataset(test_x,test_y)\n",
        "test_loader = td.DataLoader(test_ds, batch_size=256,\n",
        "    shuffle=False, num_workers=1)\n",
        "print('Ready to load data')"
      ],
      "metadata": {
        "colab": {
          "base_uri": "https://localhost:8080/"
        },
        "outputId": "8fc0f8cd-3e3c-4fb6-ff10-b9327ad3ca6b",
        "id": "DUwUANsLF4tp"
      },
      "execution_count": null,
      "outputs": [
        {
          "output_type": "stream",
          "name": "stdout",
          "text": [
            "Ready to load data\n"
          ]
        }
      ]
    },
    {
      "cell_type": "code",
      "source": [
        "# Create a model instance from the network\n",
        "model = IncomeNet()\n",
        "print(model)\n",
        "# Specify the loss criteria (we'll use CrossEntropyLoss for multi-class classification)\n",
        "loss_criteria = nn.CrossEntropyLoss()\n",
        "\n",
        "# Use an \"Adam\" optimizer to adjust weights\n",
        "# (see https://pytorch.org/docs/stable/optim.html#algorithms for details of supported algorithms)\n",
        "learning_rate = 0.001\n",
        "optimizer = torch.optim.RMSprop(model.parameters(), lr=learning_rate)\n",
        "optimizer.zero_grad()\n",
        "\n",
        "# We'll track metrics for each epoch in these arrays\n",
        "epoch_nums = []\n",
        "training_loss = []\n",
        "validation_loss = []\n",
        "\n",
        "# Train over 50 epochs\n",
        "epochs = 50\n",
        "for epoch in range(1, epochs + 1):\n",
        "\n",
        "    # print the epoch number\n",
        "    print('Epoch: {}'.format(epoch))\n",
        "    \n",
        "    # Feed training data into the model to optimize the weights\n",
        "    train_loss = train(model, train_loader, optimizer)\n",
        "    \n",
        "    # Feed the test data into the model to check its performance\n",
        "    test_loss = test(model, test_loader)\n",
        "    \n",
        "    # Log the metrics for this epoch\n",
        "    epoch_nums.append(epoch)\n",
        "    training_loss.append(train_loss)\n",
        "    validation_loss.append(test_loss)\n"
      ],
      "metadata": {
        "colab": {
          "base_uri": "https://localhost:8080/"
        },
        "outputId": "e40c229a-2d91-4dc8-c529-a7f6a2bf20c3",
        "id": "oVhAtkf3F4tq"
      },
      "execution_count": null,
      "outputs": [
        {
          "output_type": "stream",
          "name": "stdout",
          "text": [
            "IncomeNet(\n",
            "  (fc1): Linear(in_features=108, out_features=50, bias=True)\n",
            "  (fc2): Linear(in_features=50, out_features=50, bias=True)\n",
            "  (fc3): Linear(in_features=50, out_features=2, bias=True)\n",
            ")\n",
            "Epoch: 1\n"
          ]
        },
        {
          "output_type": "stream",
          "name": "stderr",
          "text": [
            "/usr/local/lib/python3.7/dist-packages/ipykernel_launcher.py:13: UserWarning: Implicit dimension choice for softmax has been deprecated. Change the call to include dim=X as an argument.\n",
            "  del sys.path[0]\n"
          ]
        },
        {
          "output_type": "stream",
          "name": "stdout",
          "text": [
            "Training set: Average loss: 0.479674\n",
            "Validation set: Average loss: 0.458383, Accuracy: 4225/5000 (84%)\n",
            "\n",
            "Epoch: 2\n"
          ]
        },
        {
          "output_type": "stream",
          "name": "stderr",
          "text": [
            "/usr/local/lib/python3.7/dist-packages/ipykernel_launcher.py:42: UserWarning: To copy construct from a tensor, it is recommended to use sourceTensor.clone().detach() or sourceTensor.clone().detach().requires_grad_(True), rather than torch.tensor(sourceTensor).\n"
          ]
        },
        {
          "output_type": "stream",
          "name": "stdout",
          "text": [
            "Training set: Average loss: 0.455824\n",
            "Validation set: Average loss: 0.454811, Accuracy: 4256/5000 (85%)\n",
            "\n",
            "Epoch: 3\n",
            "Training set: Average loss: 0.451368\n",
            "Validation set: Average loss: 0.454382, Accuracy: 4259/5000 (85%)\n",
            "\n",
            "Epoch: 4\n",
            "Training set: Average loss: 0.448017\n",
            "Validation set: Average loss: 0.455864, Accuracy: 4231/5000 (85%)\n",
            "\n",
            "Epoch: 5\n",
            "Training set: Average loss: 0.446319\n",
            "Validation set: Average loss: 0.452750, Accuracy: 4259/5000 (85%)\n",
            "\n",
            "Epoch: 6\n",
            "Training set: Average loss: 0.442893\n",
            "Validation set: Average loss: 0.451586, Accuracy: 4256/5000 (85%)\n",
            "\n",
            "Epoch: 7\n",
            "Training set: Average loss: 0.441333\n",
            "Validation set: Average loss: 0.452901, Accuracy: 4248/5000 (85%)\n",
            "\n",
            "Epoch: 8\n",
            "Training set: Average loss: 0.439926\n",
            "Validation set: Average loss: 0.451977, Accuracy: 4248/5000 (85%)\n",
            "\n",
            "Epoch: 9\n",
            "Training set: Average loss: 0.439722\n",
            "Validation set: Average loss: 0.453652, Accuracy: 4253/5000 (85%)\n",
            "\n",
            "Epoch: 10\n",
            "Training set: Average loss: 0.438842\n",
            "Validation set: Average loss: 0.453079, Accuracy: 4252/5000 (85%)\n",
            "\n",
            "Epoch: 11\n",
            "Training set: Average loss: 0.437295\n",
            "Validation set: Average loss: 0.454801, Accuracy: 4258/5000 (85%)\n",
            "\n",
            "Epoch: 12\n",
            "Training set: Average loss: 0.436431\n",
            "Validation set: Average loss: 0.453496, Accuracy: 4261/5000 (85%)\n",
            "\n",
            "Epoch: 13\n",
            "Training set: Average loss: 0.435593\n",
            "Validation set: Average loss: 0.457121, Accuracy: 4244/5000 (85%)\n",
            "\n",
            "Epoch: 14\n",
            "Training set: Average loss: 0.436003\n",
            "Validation set: Average loss: 0.451957, Accuracy: 4273/5000 (85%)\n",
            "\n",
            "Epoch: 15\n",
            "Training set: Average loss: 0.434506\n",
            "Validation set: Average loss: 0.452887, Accuracy: 4259/5000 (85%)\n",
            "\n",
            "Epoch: 16\n",
            "Training set: Average loss: 0.432731\n",
            "Validation set: Average loss: 0.452655, Accuracy: 4264/5000 (85%)\n",
            "\n",
            "Epoch: 17\n",
            "Training set: Average loss: 0.431522\n",
            "Validation set: Average loss: 0.453611, Accuracy: 4256/5000 (85%)\n",
            "\n",
            "Epoch: 18\n",
            "Training set: Average loss: 0.431708\n",
            "Validation set: Average loss: 0.455447, Accuracy: 4254/5000 (85%)\n",
            "\n",
            "Epoch: 19\n",
            "Training set: Average loss: 0.432044\n",
            "Validation set: Average loss: 0.452529, Accuracy: 4261/5000 (85%)\n",
            "\n",
            "Epoch: 20\n",
            "Training set: Average loss: 0.431072\n",
            "Validation set: Average loss: 0.453701, Accuracy: 4250/5000 (85%)\n",
            "\n",
            "Epoch: 21\n",
            "Training set: Average loss: 0.430808\n",
            "Validation set: Average loss: 0.454602, Accuracy: 4252/5000 (85%)\n",
            "\n",
            "Epoch: 22\n",
            "Training set: Average loss: 0.430746\n",
            "Validation set: Average loss: 0.453236, Accuracy: 4274/5000 (85%)\n",
            "\n",
            "Epoch: 23\n",
            "Training set: Average loss: 0.429878\n",
            "Validation set: Average loss: 0.455128, Accuracy: 4252/5000 (85%)\n",
            "\n",
            "Epoch: 24\n",
            "Training set: Average loss: 0.428478\n",
            "Validation set: Average loss: 0.453537, Accuracy: 4271/5000 (85%)\n",
            "\n",
            "Epoch: 25\n",
            "Training set: Average loss: 0.428431\n",
            "Validation set: Average loss: 0.452169, Accuracy: 4267/5000 (85%)\n",
            "\n",
            "Epoch: 26\n",
            "Training set: Average loss: 0.429002\n",
            "Validation set: Average loss: 0.454279, Accuracy: 4254/5000 (85%)\n",
            "\n",
            "Epoch: 27\n",
            "Training set: Average loss: 0.426497\n",
            "Validation set: Average loss: 0.452653, Accuracy: 4265/5000 (85%)\n",
            "\n",
            "Epoch: 28\n",
            "Training set: Average loss: 0.427502\n",
            "Validation set: Average loss: 0.456708, Accuracy: 4247/5000 (85%)\n",
            "\n",
            "Epoch: 29\n",
            "Training set: Average loss: 0.426973\n",
            "Validation set: Average loss: 0.453574, Accuracy: 4262/5000 (85%)\n",
            "\n",
            "Epoch: 30\n",
            "Training set: Average loss: 0.426894\n",
            "Validation set: Average loss: 0.454626, Accuracy: 4253/5000 (85%)\n",
            "\n",
            "Epoch: 31\n",
            "Training set: Average loss: 0.425560\n",
            "Validation set: Average loss: 0.453002, Accuracy: 4269/5000 (85%)\n",
            "\n",
            "Epoch: 32\n",
            "Training set: Average loss: 0.426231\n",
            "Validation set: Average loss: 0.454012, Accuracy: 4256/5000 (85%)\n",
            "\n",
            "Epoch: 33\n",
            "Training set: Average loss: 0.425709\n",
            "Validation set: Average loss: 0.455219, Accuracy: 4256/5000 (85%)\n",
            "\n",
            "Epoch: 34\n",
            "Training set: Average loss: 0.424617\n",
            "Validation set: Average loss: 0.455413, Accuracy: 4253/5000 (85%)\n",
            "\n",
            "Epoch: 35\n",
            "Training set: Average loss: 0.424224\n",
            "Validation set: Average loss: 0.458465, Accuracy: 4238/5000 (85%)\n",
            "\n",
            "Epoch: 36\n",
            "Training set: Average loss: 0.424588\n",
            "Validation set: Average loss: 0.454453, Accuracy: 4275/5000 (86%)\n",
            "\n",
            "Epoch: 37\n",
            "Training set: Average loss: 0.423699\n",
            "Validation set: Average loss: 0.457663, Accuracy: 4240/5000 (85%)\n",
            "\n",
            "Epoch: 38\n",
            "Training set: Average loss: 0.423554\n",
            "Validation set: Average loss: 0.455541, Accuracy: 4251/5000 (85%)\n",
            "\n",
            "Epoch: 39\n",
            "Training set: Average loss: 0.423046\n",
            "Validation set: Average loss: 0.455757, Accuracy: 4250/5000 (85%)\n",
            "\n",
            "Epoch: 40\n",
            "Training set: Average loss: 0.422611\n",
            "Validation set: Average loss: 0.455191, Accuracy: 4251/5000 (85%)\n",
            "\n",
            "Epoch: 41\n",
            "Training set: Average loss: 0.422954\n",
            "Validation set: Average loss: 0.456569, Accuracy: 4259/5000 (85%)\n",
            "\n",
            "Epoch: 42\n",
            "Training set: Average loss: 0.423958\n",
            "Validation set: Average loss: 0.457490, Accuracy: 4246/5000 (85%)\n",
            "\n",
            "Epoch: 43\n",
            "Training set: Average loss: 0.423388\n",
            "Validation set: Average loss: 0.455735, Accuracy: 4261/5000 (85%)\n",
            "\n",
            "Epoch: 44\n",
            "Training set: Average loss: 0.422612\n",
            "Validation set: Average loss: 0.455884, Accuracy: 4254/5000 (85%)\n",
            "\n",
            "Epoch: 45\n",
            "Training set: Average loss: 0.421430\n",
            "Validation set: Average loss: 0.457720, Accuracy: 4241/5000 (85%)\n",
            "\n",
            "Epoch: 46\n",
            "Training set: Average loss: 0.422548\n",
            "Validation set: Average loss: 0.458758, Accuracy: 4223/5000 (84%)\n",
            "\n",
            "Epoch: 47\n",
            "Training set: Average loss: 0.421904\n",
            "Validation set: Average loss: 0.456060, Accuracy: 4260/5000 (85%)\n",
            "\n",
            "Epoch: 48\n",
            "Training set: Average loss: 0.420107\n",
            "Validation set: Average loss: 0.457276, Accuracy: 4237/5000 (85%)\n",
            "\n",
            "Epoch: 49\n",
            "Training set: Average loss: 0.420515\n",
            "Validation set: Average loss: 0.466582, Accuracy: 4199/5000 (84%)\n",
            "\n",
            "Epoch: 50\n",
            "Training set: Average loss: 0.422334\n",
            "Validation set: Average loss: 0.456959, Accuracy: 4257/5000 (85%)\n",
            "\n"
          ]
        }
      ]
    },
    {
      "cell_type": "code",
      "source": [
        "import numpy as np\n",
        "from sklearn.metrics import confusion_matrix\n",
        "import matplotlib.pyplot as plt\n",
        "%matplotlib inline\n",
        "\n",
        "# batch_size = 64\n",
        "def _evaluate(model, x_test):\n",
        "  model.eval()\n",
        "\n",
        "  x = torch.Tensor(x_test).float()\n",
        "  _, predictions = torch.max(model(x).data, 1)\n",
        "  print('Evaluation on test dataset')\n",
        "  get_metrics(y_test, predictions)\n",
        "\n",
        "  # Plot the confusion matrix\n",
        "  classes=['0','1']\n",
        "  cm = confusion_matrix(y_test, predictions.numpy())\n",
        "  plt.imshow(cm, interpolation=\"nearest\", cmap=plt.cm.Blues)\n",
        "  plt.colorbar()\n",
        "  tick_marks = np.arange(2)\n",
        "  plt.xticks(tick_marks, classes, rotation=85)\n",
        "  plt.yticks(tick_marks, classes)\n",
        "  plt.xlabel(\"Predicted\")\n",
        "  plt.ylabel(\"Actual\")\n",
        "  plt.show()\n",
        "\n",
        "_evaluate(model, x_test)"
      ],
      "metadata": {
        "colab": {
          "base_uri": "https://localhost:8080/",
          "height": 618
        },
        "outputId": "a68e6c75-2400-402e-c8e4-95c2c1e44529",
        "id": "D1OneNHcF4tr"
      },
      "execution_count": null,
      "outputs": [
        {
          "output_type": "stream",
          "name": "stdout",
          "text": [
            "Evaluation on test dataset\n",
            "ACCURACY_SCORE:  0.8514\n",
            "F1_SCORE:  0.784\n",
            "CONFUSION_MATRIX:\n",
            " [[3525  286]\n",
            " [ 457  732]] \n",
            "\n",
            "              precision    recall  f1-score   support\n",
            "\n",
            "           0     0.8852    0.9250    0.9047      3811\n",
            "           1     0.7191    0.6156    0.6633      1189\n",
            "\n",
            "    accuracy                         0.8514      5000\n",
            "   macro avg     0.8021    0.7703    0.7840      5000\n",
            "weighted avg     0.8457    0.8514    0.8473      5000\n",
            " \n",
            "\n"
          ]
        },
        {
          "output_type": "stream",
          "name": "stderr",
          "text": [
            "/usr/local/lib/python3.7/dist-packages/ipykernel_launcher.py:13: UserWarning: Implicit dimension choice for softmax has been deprecated. Change the call to include dim=X as an argument.\n",
            "  del sys.path[0]\n"
          ]
        },
        {
          "output_type": "display_data",
          "data": {
            "image/png": "[encoded data removed]",
            "text/plain": [
              "<Figure size 432x288 with 2 Axes>"
            ]
          },
          "metadata": {
            "needs_background": "light"
          }
        }
      ]
    },
    {
      "cell_type": "markdown",
      "source": [
        "##### batch_size = 512, SGD"
      ],
      "metadata": {
        "id": "82lJClI1HSHr"
      }
    },
    {
      "cell_type": "code",
      "source": [
        "# batch_size=256\n",
        "# Create a dataset and loader for the training data and labels\n",
        "train_x = torch.Tensor(x_train).float()\n",
        "train_y = torch.Tensor(y_train).long()\n",
        "train_ds = td.TensorDataset(train_x,train_y)\n",
        "train_loader = td.DataLoader(train_ds, batch_size=512,\n",
        "    shuffle=True, num_workers=1)\n",
        "\n",
        "# Create a dataset and loader for the test data and labels\n",
        "test_x = torch.Tensor(x_test).float()\n",
        "test_y = torch.Tensor(y_test).long()\n",
        "test_ds = td.TensorDataset(test_x,test_y)\n",
        "test_loader = td.DataLoader(test_ds, batch_size=512,\n",
        "    shuffle=False, num_workers=1)\n",
        "print('Ready to load data')"
      ],
      "metadata": {
        "colab": {
          "base_uri": "https://localhost:8080/"
        },
        "outputId": "4fe52b3b-9153-423f-ef5a-984f3b255e2f",
        "id": "R3c9WQj6HSH0"
      },
      "execution_count": null,
      "outputs": [
        {
          "output_type": "stream",
          "name": "stdout",
          "text": [
            "Ready to load data\n"
          ]
        }
      ]
    },
    {
      "cell_type": "code",
      "source": [
        "# Create a model instance from the network\n",
        "model = IncomeNet()\n",
        "print(model)\n",
        "# Specify the loss criteria (we'll use CrossEntropyLoss for multi-class classification)\n",
        "loss_criteria = nn.CrossEntropyLoss()\n",
        "\n",
        "# Use an \"Adam\" optimizer to adjust weights\n",
        "# (see https://pytorch.org/docs/stable/optim.html#algorithms for details of supported algorithms)\n",
        "learning_rate = 0.001\n",
        "optimizer = torch.optim.RMSprop(model.parameters(), lr=learning_rate)\n",
        "optimizer.zero_grad()\n",
        "\n",
        "# We'll track metrics for each epoch in these arrays\n",
        "epoch_nums = []\n",
        "training_loss = []\n",
        "validation_loss = []\n",
        "\n",
        "# Train over 50 epochs\n",
        "epochs = 50\n",
        "for epoch in range(1, epochs + 1):\n",
        "\n",
        "    # print the epoch number\n",
        "    print('Epoch: {}'.format(epoch))\n",
        "    \n",
        "    # Feed training data into the model to optimize the weights\n",
        "    train_loss = train(model, train_loader, optimizer)\n",
        "    \n",
        "    # Feed the test data into the model to check its performance\n",
        "    test_loss = test(model, test_loader)\n",
        "    \n",
        "    # Log the metrics for this epoch\n",
        "    epoch_nums.append(epoch)\n",
        "    training_loss.append(train_loss)\n",
        "    validation_loss.append(test_loss)\n"
      ],
      "metadata": {
        "colab": {
          "base_uri": "https://localhost:8080/"
        },
        "outputId": "0ead38d1-f7b0-406c-ef41-31bce7f4ecee",
        "id": "jaiAAtwWHSH1"
      },
      "execution_count": null,
      "outputs": [
        {
          "output_type": "stream",
          "name": "stdout",
          "text": [
            "IncomeNet(\n",
            "  (fc1): Linear(in_features=108, out_features=50, bias=True)\n",
            "  (fc2): Linear(in_features=50, out_features=50, bias=True)\n",
            "  (fc3): Linear(in_features=50, out_features=2, bias=True)\n",
            ")\n",
            "Epoch: 1\n"
          ]
        },
        {
          "output_type": "stream",
          "name": "stderr",
          "text": [
            "/usr/local/lib/python3.7/dist-packages/ipykernel_launcher.py:13: UserWarning: Implicit dimension choice for softmax has been deprecated. Change the call to include dim=X as an argument.\n",
            "  del sys.path[0]\n"
          ]
        },
        {
          "output_type": "stream",
          "name": "stdout",
          "text": [
            "Training set: Average loss: 0.496117\n",
            "Validation set: Average loss: 0.462323, Accuracy: 4206/5000 (84%)\n",
            "\n",
            "Epoch: 2\n"
          ]
        },
        {
          "output_type": "stream",
          "name": "stderr",
          "text": [
            "/usr/local/lib/python3.7/dist-packages/ipykernel_launcher.py:42: UserWarning: To copy construct from a tensor, it is recommended to use sourceTensor.clone().detach() or sourceTensor.clone().detach().requires_grad_(True), rather than torch.tensor(sourceTensor).\n"
          ]
        },
        {
          "output_type": "stream",
          "name": "stdout",
          "text": [
            "Training set: Average loss: 0.456637\n",
            "Validation set: Average loss: 0.459417, Accuracy: 4220/5000 (84%)\n",
            "\n",
            "Epoch: 3\n",
            "Training set: Average loss: 0.452928\n",
            "Validation set: Average loss: 0.456807, Accuracy: 4235/5000 (85%)\n",
            "\n",
            "Epoch: 4\n",
            "Training set: Average loss: 0.450733\n",
            "Validation set: Average loss: 0.460463, Accuracy: 4224/5000 (84%)\n",
            "\n",
            "Epoch: 5\n",
            "Training set: Average loss: 0.449967\n",
            "Validation set: Average loss: 0.453610, Accuracy: 4270/5000 (85%)\n",
            "\n",
            "Epoch: 6\n",
            "Training set: Average loss: 0.448563\n",
            "Validation set: Average loss: 0.453880, Accuracy: 4247/5000 (85%)\n",
            "\n",
            "Epoch: 7\n",
            "Training set: Average loss: 0.445738\n",
            "Validation set: Average loss: 0.453080, Accuracy: 4254/5000 (85%)\n",
            "\n",
            "Epoch: 8\n",
            "Training set: Average loss: 0.445186\n",
            "Validation set: Average loss: 0.450907, Accuracy: 4280/5000 (86%)\n",
            "\n",
            "Epoch: 9\n",
            "Training set: Average loss: 0.444745\n",
            "Validation set: Average loss: 0.453185, Accuracy: 4237/5000 (85%)\n",
            "\n",
            "Epoch: 10\n",
            "Training set: Average loss: 0.443730\n",
            "Validation set: Average loss: 0.453767, Accuracy: 4262/5000 (85%)\n",
            "\n",
            "Epoch: 11\n",
            "Training set: Average loss: 0.444159\n",
            "Validation set: Average loss: 0.454655, Accuracy: 4251/5000 (85%)\n",
            "\n",
            "Epoch: 12\n",
            "Training set: Average loss: 0.442951\n",
            "Validation set: Average loss: 0.451434, Accuracy: 4266/5000 (85%)\n",
            "\n",
            "Epoch: 13\n",
            "Training set: Average loss: 0.441591\n",
            "Validation set: Average loss: 0.452801, Accuracy: 4246/5000 (85%)\n",
            "\n",
            "Epoch: 14\n",
            "Training set: Average loss: 0.441100\n",
            "Validation set: Average loss: 0.461440, Accuracy: 4220/5000 (84%)\n",
            "\n",
            "Epoch: 15\n",
            "Training set: Average loss: 0.440646\n",
            "Validation set: Average loss: 0.452823, Accuracy: 4257/5000 (85%)\n",
            "\n",
            "Epoch: 16\n",
            "Training set: Average loss: 0.438767\n",
            "Validation set: Average loss: 0.462321, Accuracy: 4203/5000 (84%)\n",
            "\n",
            "Epoch: 17\n",
            "Training set: Average loss: 0.439891\n",
            "Validation set: Average loss: 0.451100, Accuracy: 4274/5000 (85%)\n",
            "\n",
            "Epoch: 18\n",
            "Training set: Average loss: 0.438450\n",
            "Validation set: Average loss: 0.452806, Accuracy: 4266/5000 (85%)\n",
            "\n",
            "Epoch: 19\n",
            "Training set: Average loss: 0.436660\n",
            "Validation set: Average loss: 0.450895, Accuracy: 4255/5000 (85%)\n",
            "\n",
            "Epoch: 20\n",
            "Training set: Average loss: 0.434660\n",
            "Validation set: Average loss: 0.450532, Accuracy: 4269/5000 (85%)\n",
            "\n",
            "Epoch: 21\n",
            "Training set: Average loss: 0.436246\n",
            "Validation set: Average loss: 0.452929, Accuracy: 4267/5000 (85%)\n",
            "\n",
            "Epoch: 22\n",
            "Training set: Average loss: 0.435462\n",
            "Validation set: Average loss: 0.450790, Accuracy: 4267/5000 (85%)\n",
            "\n",
            "Epoch: 23\n",
            "Training set: Average loss: 0.432424\n",
            "Validation set: Average loss: 0.450787, Accuracy: 4268/5000 (85%)\n",
            "\n",
            "Epoch: 24\n",
            "Training set: Average loss: 0.432857\n",
            "Validation set: Average loss: 0.455189, Accuracy: 4256/5000 (85%)\n",
            "\n",
            "Epoch: 25\n",
            "Training set: Average loss: 0.431269\n",
            "Validation set: Average loss: 0.454213, Accuracy: 4258/5000 (85%)\n",
            "\n",
            "Epoch: 26\n",
            "Training set: Average loss: 0.431679\n",
            "Validation set: Average loss: 0.451509, Accuracy: 4259/5000 (85%)\n",
            "\n",
            "Epoch: 27\n",
            "Training set: Average loss: 0.431535\n",
            "Validation set: Average loss: 0.451615, Accuracy: 4277/5000 (86%)\n",
            "\n",
            "Epoch: 28\n",
            "Training set: Average loss: 0.432470\n",
            "Validation set: Average loss: 0.452552, Accuracy: 4257/5000 (85%)\n",
            "\n",
            "Epoch: 29\n",
            "Training set: Average loss: 0.434049\n",
            "Validation set: Average loss: 0.461944, Accuracy: 4233/5000 (85%)\n",
            "\n",
            "Epoch: 30\n",
            "Training set: Average loss: 0.431227\n",
            "Validation set: Average loss: 0.451531, Accuracy: 4272/5000 (85%)\n",
            "\n",
            "Epoch: 31\n",
            "Training set: Average loss: 0.428269\n",
            "Validation set: Average loss: 0.451061, Accuracy: 4278/5000 (86%)\n",
            "\n",
            "Epoch: 32\n",
            "Training set: Average loss: 0.428845\n",
            "Validation set: Average loss: 0.451404, Accuracy: 4265/5000 (85%)\n",
            "\n",
            "Epoch: 33\n",
            "Training set: Average loss: 0.428287\n",
            "Validation set: Average loss: 0.452324, Accuracy: 4267/5000 (85%)\n",
            "\n",
            "Epoch: 34\n",
            "Training set: Average loss: 0.426991\n",
            "Validation set: Average loss: 0.460739, Accuracy: 4224/5000 (84%)\n",
            "\n",
            "Epoch: 35\n",
            "Training set: Average loss: 0.431346\n",
            "Validation set: Average loss: 0.459700, Accuracy: 4225/5000 (84%)\n",
            "\n",
            "Epoch: 36\n",
            "Training set: Average loss: 0.431068\n",
            "Validation set: Average loss: 0.450875, Accuracy: 4275/5000 (86%)\n",
            "\n",
            "Epoch: 37\n",
            "Training set: Average loss: 0.427523\n",
            "Validation set: Average loss: 0.455918, Accuracy: 4242/5000 (85%)\n",
            "\n",
            "Epoch: 38\n",
            "Training set: Average loss: 0.427020\n",
            "Validation set: Average loss: 0.452306, Accuracy: 4269/5000 (85%)\n",
            "\n",
            "Epoch: 39\n",
            "Training set: Average loss: 0.428201\n",
            "Validation set: Average loss: 0.452616, Accuracy: 4266/5000 (85%)\n",
            "\n",
            "Epoch: 40\n",
            "Training set: Average loss: 0.425428\n",
            "Validation set: Average loss: 0.452778, Accuracy: 4266/5000 (85%)\n",
            "\n",
            "Epoch: 41\n",
            "Training set: Average loss: 0.428110\n",
            "Validation set: Average loss: 0.461219, Accuracy: 4223/5000 (84%)\n",
            "\n",
            "Epoch: 42\n",
            "Training set: Average loss: 0.427365\n",
            "Validation set: Average loss: 0.451514, Accuracy: 4273/5000 (85%)\n",
            "\n",
            "Epoch: 43\n",
            "Training set: Average loss: 0.426207\n",
            "Validation set: Average loss: 0.452566, Accuracy: 4271/5000 (85%)\n",
            "\n",
            "Epoch: 44\n",
            "Training set: Average loss: 0.424655\n",
            "Validation set: Average loss: 0.455138, Accuracy: 4257/5000 (85%)\n",
            "\n",
            "Epoch: 45\n",
            "Training set: Average loss: 0.424705\n",
            "Validation set: Average loss: 0.456051, Accuracy: 4244/5000 (85%)\n",
            "\n",
            "Epoch: 46\n",
            "Training set: Average loss: 0.426303\n",
            "Validation set: Average loss: 0.454269, Accuracy: 4249/5000 (85%)\n",
            "\n",
            "Epoch: 47\n",
            "Training set: Average loss: 0.425410\n",
            "Validation set: Average loss: 0.454143, Accuracy: 4266/5000 (85%)\n",
            "\n",
            "Epoch: 48\n",
            "Training set: Average loss: 0.424473\n",
            "Validation set: Average loss: 0.457766, Accuracy: 4225/5000 (84%)\n",
            "\n",
            "Epoch: 49\n",
            "Training set: Average loss: 0.425242\n",
            "Validation set: Average loss: 0.455881, Accuracy: 4246/5000 (85%)\n",
            "\n",
            "Epoch: 50\n",
            "Training set: Average loss: 0.424283\n",
            "Validation set: Average loss: 0.456583, Accuracy: 4246/5000 (85%)\n",
            "\n"
          ]
        }
      ]
    },
    {
      "cell_type": "code",
      "source": [
        "import numpy as np\n",
        "from sklearn.metrics import confusion_matrix\n",
        "import matplotlib.pyplot as plt\n",
        "%matplotlib inline\n",
        "\n",
        "# batch_size = 64\n",
        "def _evaluate(model, x_test):\n",
        "  model.eval()\n",
        "\n",
        "  x = torch.Tensor(x_test).float()\n",
        "  _, predictions = torch.max(model(x).data, 1)\n",
        "  print('Evaluation on test dataset')\n",
        "  get_metrics(y_test, predictions)\n",
        "\n",
        "  # Plot the confusion matrix\n",
        "  classes=['0','1']\n",
        "  cm = confusion_matrix(y_test, predictions.numpy())\n",
        "  plt.imshow(cm, interpolation=\"nearest\", cmap=plt.cm.Blues)\n",
        "  plt.colorbar()\n",
        "  tick_marks = np.arange(2)\n",
        "  plt.xticks(tick_marks, classes, rotation=85)\n",
        "  plt.yticks(tick_marks, classes)\n",
        "  plt.xlabel(\"Predicted\")\n",
        "  plt.ylabel(\"Actual\")\n",
        "  plt.show()\n",
        "\n",
        "_evaluate(model, x_test)"
      ],
      "metadata": {
        "colab": {
          "base_uri": "https://localhost:8080/",
          "height": 616
        },
        "outputId": "37548807-1b10-45a4-c6a3-c9ec85e81bc1",
        "id": "8fEYU1CDHSH1"
      },
      "execution_count": null,
      "outputs": [
        {
          "output_type": "stream",
          "name": "stdout",
          "text": [
            "Evaluation on test dataset\n",
            "ACCURACY_SCORE:  0.8492\n",
            "F1_SCORE:  0.7965\n",
            "CONFUSION_MATRIX:\n",
            " [[3395  416]\n",
            " [ 338  851]] \n",
            "\n",
            "              precision    recall  f1-score   support\n",
            "\n",
            "           0     0.9095    0.8908    0.9001      3811\n",
            "           1     0.6717    0.7157    0.6930      1189\n",
            "\n",
            "    accuracy                         0.8492      5000\n",
            "   macro avg     0.7906    0.8033    0.7965      5000\n",
            "weighted avg     0.8529    0.8492    0.8508      5000\n",
            " \n",
            "\n"
          ]
        },
        {
          "output_type": "stream",
          "name": "stderr",
          "text": [
            "/usr/local/lib/python3.7/dist-packages/ipykernel_launcher.py:13: UserWarning: Implicit dimension choice for softmax has been deprecated. Change the call to include dim=X as an argument.\n",
            "  del sys.path[0]\n"
          ]
        },
        {
          "output_type": "display_data",
          "data": {
            "image/png": "[encoded data removed]",
            "text/plain": [
              "<Figure size 432x288 with 2 Axes>"
            ]
          },
          "metadata": {
            "needs_background": "light"
          }
        }
      ]
    },
    {
      "cell_type": "markdown",
      "source": [
        "batch_size =256 with optimize = adam have accuracy is the highest"
      ],
      "metadata": {
        "id": "s4c9c6MlJ1il"
      }
    },
    {
      "cell_type": "markdown",
      "source": [
        "#### 7) Thử nghiệm thêm các layers mà bạn đã học được trong bài này vào kiến trúc của mình."
      ],
      "metadata": {
        "id": "sUmdD0shIVKm"
      }
    },
    {
      "cell_type": "code",
      "source": [
        "hl = 50\n",
        "# Define the neural network\n",
        "class IncomeNet_improve(nn.Module):\n",
        "    def __init__(self):\n",
        "        super(IncomeNet_improve, self).__init__()\n",
        "        self.fc1 = nn.Linear(len(features), hl)\n",
        "        nn.BatchNorm1d(64)\n",
        "        self.fc2 = nn.Linear(hl, hl)\n",
        "        nn.Dropout(0.4)\n",
        "        self.fc3 = nn.Linear(hl, 2)\n",
        "\n",
        "    def forward(self, x):\n",
        "        x = torch.relu(self.fc1(x))\n",
        "        x = torch.relu(self.fc2(x))\n",
        "        x = torch.nn.Softmax()(self.fc3(x))\n",
        "        return x"
      ],
      "metadata": {
        "id": "VqJdzYu8IdgB"
      },
      "execution_count": null,
      "outputs": []
    },
    {
      "cell_type": "code",
      "source": [
        "# batch_size=256\n",
        "# Create a dataset and loader for the training data and labels\n",
        "train_x = torch.Tensor(x_train).float()\n",
        "train_y = torch.Tensor(y_train).long()\n",
        "train_ds = td.TensorDataset(train_x,train_y)\n",
        "train_loader = td.DataLoader(train_ds, batch_size=256,\n",
        "    shuffle=True, num_workers=1)\n",
        "\n",
        "# Create a dataset and loader for the test data and labels\n",
        "test_x = torch.Tensor(x_test).float()\n",
        "test_y = torch.Tensor(y_test).long()\n",
        "test_ds = td.TensorDataset(test_x,test_y)\n",
        "test_loader = td.DataLoader(test_ds, batch_size=256,\n",
        "    shuffle=False, num_workers=1)\n",
        "print('Ready to load data')"
      ],
      "metadata": {
        "colab": {
          "base_uri": "https://localhost:8080/"
        },
        "outputId": "08f3c913-9e2d-4da9-c10d-def6fa7c8c1f",
        "id": "KP0EhTrUMbSx"
      },
      "execution_count": null,
      "outputs": [
        {
          "output_type": "stream",
          "name": "stdout",
          "text": [
            "Ready to load data\n"
          ]
        }
      ]
    },
    {
      "cell_type": "code",
      "source": [
        "# Create a model instance from the network\n",
        "model = IncomeNet_improve()\n",
        "print(model)\n",
        "# Specify the loss criteria (we'll use CrossEntropyLoss for multi-class classification)\n",
        "loss_criteria = nn.CrossEntropyLoss()\n",
        "\n",
        "# Use an \"Adam\" optimizer to adjust weights\n",
        "# (see https://pytorch.org/docs/stable/optim.html#algorithms for details of supported algorithms)\n",
        "learning_rate = 0.001\n",
        "optimizer = torch.optim.Adam(model.parameters(), lr=learning_rate)\n",
        "optimizer.zero_grad()\n",
        "\n",
        "# We'll track metrics for each epoch in these arrays\n",
        "epoch_nums = []\n",
        "training_loss = []\n",
        "validation_loss = []\n",
        "\n",
        "# Train over 50 epochs\n",
        "epochs = 50\n",
        "for epoch in range(1, epochs + 1):\n",
        "\n",
        "    # print the epoch number\n",
        "    print('Epoch: {}'.format(epoch))\n",
        "    \n",
        "    # Feed training data into the model to optimize the weights\n",
        "    train_loss = train(model, train_loader, optimizer)\n",
        "    \n",
        "    # Feed the test data into the model to check its performance\n",
        "    test_loss = test(model, test_loader)\n",
        "    \n",
        "    # Log the metrics for this epoch\n",
        "    epoch_nums.append(epoch)\n",
        "    training_loss.append(train_loss)\n",
        "    validation_loss.append(test_loss)\n"
      ],
      "metadata": {
        "colab": {
          "base_uri": "https://localhost:8080/"
        },
        "outputId": "29045146-bd24-4610-cccc-ee0ad2e9406d",
        "id": "htRLPfILMbSx"
      },
      "execution_count": null,
      "outputs": [
        {
          "output_type": "stream",
          "name": "stdout",
          "text": [
            "IncomeNet_improve(\n",
            "  (fc1): Linear(in_features=108, out_features=50, bias=True)\n",
            "  (fc2): Linear(in_features=50, out_features=50, bias=True)\n",
            "  (fc3): Linear(in_features=50, out_features=2, bias=True)\n",
            ")\n",
            "Epoch: 1\n"
          ]
        },
        {
          "output_type": "stream",
          "name": "stderr",
          "text": [
            "/usr/local/lib/python3.7/dist-packages/ipykernel_launcher.py:15: UserWarning: Implicit dimension choice for softmax has been deprecated. Change the call to include dim=X as an argument.\n",
            "  from ipykernel import kernelapp as app\n"
          ]
        },
        {
          "output_type": "stream",
          "name": "stdout",
          "text": [
            "Training set: Average loss: 0.554743\n",
            "Validation set: Average loss: 0.478437, Accuracy: 4157/5000 (83%)\n",
            "\n",
            "Epoch: 2\n"
          ]
        },
        {
          "output_type": "stream",
          "name": "stderr",
          "text": [
            "/usr/local/lib/python3.7/dist-packages/ipykernel_launcher.py:42: UserWarning: To copy construct from a tensor, it is recommended to use sourceTensor.clone().detach() or sourceTensor.clone().detach().requires_grad_(True), rather than torch.tensor(sourceTensor).\n"
          ]
        },
        {
          "output_type": "stream",
          "name": "stdout",
          "text": [
            "Training set: Average loss: 0.465607\n",
            "Validation set: Average loss: 0.459678, Accuracy: 4225/5000 (84%)\n",
            "\n",
            "Epoch: 3\n",
            "Training set: Average loss: 0.456182\n",
            "Validation set: Average loss: 0.456353, Accuracy: 4232/5000 (85%)\n",
            "\n",
            "Epoch: 4\n",
            "Training set: Average loss: 0.451951\n",
            "Validation set: Average loss: 0.454578, Accuracy: 4246/5000 (85%)\n",
            "\n",
            "Epoch: 5\n",
            "Training set: Average loss: 0.449126\n",
            "Validation set: Average loss: 0.453893, Accuracy: 4254/5000 (85%)\n",
            "\n",
            "Epoch: 6\n",
            "Training set: Average loss: 0.446621\n",
            "Validation set: Average loss: 0.453382, Accuracy: 4249/5000 (85%)\n",
            "\n",
            "Epoch: 7\n",
            "Training set: Average loss: 0.445492\n",
            "Validation set: Average loss: 0.451787, Accuracy: 4254/5000 (85%)\n",
            "\n",
            "Epoch: 8\n",
            "Training set: Average loss: 0.443572\n",
            "Validation set: Average loss: 0.452239, Accuracy: 4253/5000 (85%)\n",
            "\n",
            "Epoch: 9\n",
            "Training set: Average loss: 0.442520\n",
            "Validation set: Average loss: 0.451523, Accuracy: 4273/5000 (85%)\n",
            "\n",
            "Epoch: 10\n",
            "Training set: Average loss: 0.440091\n",
            "Validation set: Average loss: 0.451335, Accuracy: 4266/5000 (85%)\n",
            "\n",
            "Epoch: 11\n",
            "Training set: Average loss: 0.440534\n",
            "Validation set: Average loss: 0.451501, Accuracy: 4260/5000 (85%)\n",
            "\n",
            "Epoch: 12\n",
            "Training set: Average loss: 0.438461\n",
            "Validation set: Average loss: 0.452222, Accuracy: 4257/5000 (85%)\n",
            "\n",
            "Epoch: 13\n",
            "Training set: Average loss: 0.439262\n",
            "Validation set: Average loss: 0.452125, Accuracy: 4251/5000 (85%)\n",
            "\n",
            "Epoch: 14\n",
            "Training set: Average loss: 0.438236\n",
            "Validation set: Average loss: 0.451936, Accuracy: 4266/5000 (85%)\n",
            "\n",
            "Epoch: 15\n",
            "Training set: Average loss: 0.436537\n",
            "Validation set: Average loss: 0.453150, Accuracy: 4265/5000 (85%)\n",
            "\n",
            "Epoch: 16\n",
            "Training set: Average loss: 0.435724\n",
            "Validation set: Average loss: 0.452656, Accuracy: 4263/5000 (85%)\n",
            "\n",
            "Epoch: 17\n",
            "Training set: Average loss: 0.435610\n",
            "Validation set: Average loss: 0.452700, Accuracy: 4267/5000 (85%)\n",
            "\n",
            "Epoch: 18\n",
            "Training set: Average loss: 0.433807\n",
            "Validation set: Average loss: 0.452153, Accuracy: 4260/5000 (85%)\n",
            "\n",
            "Epoch: 19\n",
            "Training set: Average loss: 0.432651\n",
            "Validation set: Average loss: 0.451868, Accuracy: 4269/5000 (85%)\n",
            "\n",
            "Epoch: 20\n",
            "Training set: Average loss: 0.433254\n",
            "Validation set: Average loss: 0.453855, Accuracy: 4268/5000 (85%)\n",
            "\n",
            "Epoch: 21\n",
            "Training set: Average loss: 0.432562\n",
            "Validation set: Average loss: 0.451349, Accuracy: 4277/5000 (86%)\n",
            "\n",
            "Epoch: 22\n",
            "Training set: Average loss: 0.432574\n",
            "Validation set: Average loss: 0.453109, Accuracy: 4255/5000 (85%)\n",
            "\n",
            "Epoch: 23\n",
            "Training set: Average loss: 0.431977\n",
            "Validation set: Average loss: 0.454059, Accuracy: 4245/5000 (85%)\n",
            "\n",
            "Epoch: 24\n",
            "Training set: Average loss: 0.431440\n",
            "Validation set: Average loss: 0.455261, Accuracy: 4245/5000 (85%)\n",
            "\n",
            "Epoch: 25\n",
            "Training set: Average loss: 0.430279\n",
            "Validation set: Average loss: 0.453690, Accuracy: 4258/5000 (85%)\n",
            "\n",
            "Epoch: 26\n",
            "Training set: Average loss: 0.429863\n",
            "Validation set: Average loss: 0.454008, Accuracy: 4255/5000 (85%)\n",
            "\n",
            "Epoch: 27\n",
            "Training set: Average loss: 0.430824\n",
            "Validation set: Average loss: 0.453802, Accuracy: 4263/5000 (85%)\n",
            "\n",
            "Epoch: 28\n",
            "Training set: Average loss: 0.428765\n",
            "Validation set: Average loss: 0.456439, Accuracy: 4238/5000 (85%)\n",
            "\n",
            "Epoch: 29\n",
            "Training set: Average loss: 0.429736\n",
            "Validation set: Average loss: 0.455299, Accuracy: 4250/5000 (85%)\n",
            "\n",
            "Epoch: 30\n",
            "Training set: Average loss: 0.427789\n",
            "Validation set: Average loss: 0.454896, Accuracy: 4247/5000 (85%)\n",
            "\n",
            "Epoch: 31\n",
            "Training set: Average loss: 0.427528\n",
            "Validation set: Average loss: 0.453905, Accuracy: 4262/5000 (85%)\n",
            "\n",
            "Epoch: 32\n",
            "Training set: Average loss: 0.428210\n",
            "Validation set: Average loss: 0.455087, Accuracy: 4255/5000 (85%)\n",
            "\n",
            "Epoch: 33\n",
            "Training set: Average loss: 0.426684\n",
            "Validation set: Average loss: 0.456290, Accuracy: 4249/5000 (85%)\n",
            "\n",
            "Epoch: 34\n",
            "Training set: Average loss: 0.426977\n",
            "Validation set: Average loss: 0.454281, Accuracy: 4258/5000 (85%)\n",
            "\n",
            "Epoch: 35\n",
            "Training set: Average loss: 0.425672\n",
            "Validation set: Average loss: 0.457085, Accuracy: 4249/5000 (85%)\n",
            "\n",
            "Epoch: 36\n",
            "Training set: Average loss: 0.426126\n",
            "Validation set: Average loss: 0.455564, Accuracy: 4257/5000 (85%)\n",
            "\n",
            "Epoch: 37\n",
            "Training set: Average loss: 0.424142\n",
            "Validation set: Average loss: 0.456317, Accuracy: 4254/5000 (85%)\n",
            "\n",
            "Epoch: 38\n",
            "Training set: Average loss: 0.424663\n",
            "Validation set: Average loss: 0.455142, Accuracy: 4254/5000 (85%)\n",
            "\n",
            "Epoch: 39\n",
            "Training set: Average loss: 0.423670\n",
            "Validation set: Average loss: 0.456687, Accuracy: 4252/5000 (85%)\n",
            "\n",
            "Epoch: 40\n",
            "Training set: Average loss: 0.422748\n",
            "Validation set: Average loss: 0.455550, Accuracy: 4257/5000 (85%)\n",
            "\n",
            "Epoch: 41\n",
            "Training set: Average loss: 0.422885\n",
            "Validation set: Average loss: 0.454982, Accuracy: 4253/5000 (85%)\n",
            "\n",
            "Epoch: 42\n",
            "Training set: Average loss: 0.423557\n",
            "Validation set: Average loss: 0.455564, Accuracy: 4256/5000 (85%)\n",
            "\n",
            "Epoch: 43\n",
            "Training set: Average loss: 0.422294\n",
            "Validation set: Average loss: 0.454706, Accuracy: 4264/5000 (85%)\n",
            "\n",
            "Epoch: 44\n",
            "Training set: Average loss: 0.421797\n",
            "Validation set: Average loss: 0.455453, Accuracy: 4249/5000 (85%)\n",
            "\n",
            "Epoch: 45\n",
            "Training set: Average loss: 0.421404\n",
            "Validation set: Average loss: 0.456291, Accuracy: 4261/5000 (85%)\n",
            "\n",
            "Epoch: 46\n",
            "Training set: Average loss: 0.421946\n",
            "Validation set: Average loss: 0.456201, Accuracy: 4256/5000 (85%)\n",
            "\n",
            "Epoch: 47\n",
            "Training set: Average loss: 0.422177\n",
            "Validation set: Average loss: 0.455147, Accuracy: 4261/5000 (85%)\n",
            "\n",
            "Epoch: 48\n",
            "Training set: Average loss: 0.420873\n",
            "Validation set: Average loss: 0.455371, Accuracy: 4258/5000 (85%)\n",
            "\n",
            "Epoch: 49\n",
            "Training set: Average loss: 0.421045\n",
            "Validation set: Average loss: 0.456061, Accuracy: 4252/5000 (85%)\n",
            "\n",
            "Epoch: 50\n",
            "Training set: Average loss: 0.422076\n",
            "Validation set: Average loss: 0.459091, Accuracy: 4239/5000 (85%)\n",
            "\n"
          ]
        }
      ]
    },
    {
      "cell_type": "code",
      "source": [
        "# batch_size = 256\n",
        "def _evaluate(model, x_test):\n",
        "  model.eval()\n",
        "\n",
        "  x = torch.Tensor(x_test).float()\n",
        "  _, predictions = torch.max(model(x).data, 1)\n",
        "  print('Evaluation on test dataset')\n",
        "  get_metrics(y_test, predictions)\n",
        "\n",
        "  # Plot the confusion matrix\n",
        "  classes=['0','1']\n",
        "  cm = confusion_matrix(y_test, predictions.numpy())\n",
        "  plt.imshow(cm, interpolation=\"nearest\", cmap=plt.cm.Blues)\n",
        "  plt.colorbar()\n",
        "  tick_marks = np.arange(2)\n",
        "  plt.xticks(tick_marks, classes, rotation=85)\n",
        "  plt.yticks(tick_marks, classes)\n",
        "  plt.xlabel(\"Predicted\")\n",
        "  plt.ylabel(\"Actual\")\n",
        "  plt.show()\n",
        "\n",
        "_evaluate(model, x_test)"
      ],
      "metadata": {
        "colab": {
          "base_uri": "https://localhost:8080/",
          "height": 616
        },
        "outputId": "d6d15813-8cde-4de4-c834-b0f98f10c72c",
        "id": "R7CMTP07MbSx"
      },
      "execution_count": null,
      "outputs": [
        {
          "output_type": "stream",
          "name": "stdout",
          "text": [
            "Evaluation on test dataset\n",
            "ACCURACY_SCORE:  0.8478\n",
            "F1_SCORE:  0.7696\n",
            "CONFUSION_MATRIX:\n",
            " [[3576  235]\n",
            " [ 526  663]] \n",
            "\n",
            "              precision    recall  f1-score   support\n",
            "\n",
            "           0     0.8718    0.9383    0.9038      3811\n",
            "           1     0.7383    0.5576    0.6354      1189\n",
            "\n",
            "    accuracy                         0.8478      5000\n",
            "   macro avg     0.8050    0.7480    0.7696      5000\n",
            "weighted avg     0.8400    0.8478    0.8400      5000\n",
            " \n",
            "\n"
          ]
        },
        {
          "output_type": "stream",
          "name": "stderr",
          "text": [
            "/usr/local/lib/python3.7/dist-packages/ipykernel_launcher.py:15: UserWarning: Implicit dimension choice for softmax has been deprecated. Change the call to include dim=X as an argument.\n",
            "  from ipykernel import kernelapp as app\n"
          ]
        },
        {
          "output_type": "display_data",
          "data": {
            "image/png": "[encoded data removed]",
            "text/plain": [
              "<Figure size 432x288 with 2 Axes>"
            ]
          },
          "metadata": {
            "needs_background": "light"
          }
        }
      ]
    },
    {
      "cell_type": "markdown",
      "source": [
        "#### 8) Thay đổi các khởi tạo trọng số theo các phân phối khác nhau và đánh giá độ chính xác của kết quả huấn luyện."
      ],
      "metadata": {
        "id": "2fpulOkeNCWu"
      }
    },
    {
      "cell_type": "code",
      "source": [
        "import torch\n",
        "from torch import nn\n",
        "\n",
        "def init_weights(m, init_type = 'xavier'):\n",
        "    if type(m) == nn.Linear:\n",
        "      if init_type == 'xavier':\n",
        "        torch.nn.init.xavier_uniform_(m.weight)\n",
        "        m.bias.data.fill_(0.01)\n",
        "      elif init_type == 'normal':\n",
        "        torch.nn.init.normal_(m.weight)\n",
        "        m.bias.data.fill_(0.01)\n",
        "      elif init_type == 'he':\n",
        "        m.bias.kaiming_uniform_(m.weight)\n",
        "        m.bias.data.fill_(0.01)\n"
      ],
      "metadata": {
        "id": "KApI848LMREe"
      },
      "execution_count": null,
      "outputs": []
    },
    {
      "cell_type": "markdown",
      "source": [
        "##### normal distribution "
      ],
      "metadata": {
        "id": "Ts2opoZ_PRZC"
      }
    },
    {
      "cell_type": "code",
      "source": [
        "model = IncomeNet_improve()\n",
        "model.apply(lambda m: init_weights(m, init_type = 'normal'))\n",
        "\n",
        "loss_criteria = nn.CrossEntropyLoss()\n",
        "\n",
        "# Use an \"Adam\" optimizer to adjust weights\n",
        "# (see https://pytorch.org/docs/stable/optim.html#algorithms for details of supported algorithms)\n",
        "learning_rate = 0.001\n",
        "optimizer = torch.optim.Adam(model.parameters(), lr=learning_rate)\n",
        "optimizer.zero_grad()\n",
        "\n",
        "# We'll track metrics for each epoch in these arrays\n",
        "epoch_nums = []\n",
        "training_loss = []\n",
        "validation_loss = []\n",
        "\n",
        "# Train over 50 epochs\n",
        "epochs = 50\n",
        "for epoch in range(1, epochs + 1):\n",
        "\n",
        "    # print the epoch number\n",
        "    print('Epoch: {}'.format(epoch))\n",
        "    \n",
        "    # Feed training data into the model to optimize the weights\n",
        "    train_loss = train(model, train_loader, optimizer)\n",
        "    \n",
        "    # Feed the test data into the model to check its performance\n",
        "    test_loss = test(model, test_loader)\n",
        "    \n",
        "    # Log the metrics for this epoch\n",
        "    epoch_nums.append(epoch)\n",
        "    training_loss.append(train_loss)\n",
        "    validation_loss.append(test_loss)\n"
      ],
      "metadata": {
        "colab": {
          "base_uri": "https://localhost:8080/"
        },
        "id": "q_Ge_n31OWnY",
        "outputId": "7a039e77-fbe7-467b-c76c-7b397076733e"
      },
      "execution_count": null,
      "outputs": [
        {
          "output_type": "stream",
          "name": "stdout",
          "text": [
            "Epoch: 1\n"
          ]
        },
        {
          "output_type": "stream",
          "name": "stderr",
          "text": [
            "/usr/local/lib/python3.7/dist-packages/ipykernel_launcher.py:15: UserWarning: Implicit dimension choice for softmax has been deprecated. Change the call to include dim=X as an argument.\n",
            "  from ipykernel import kernelapp as app\n"
          ]
        },
        {
          "output_type": "stream",
          "name": "stdout",
          "text": [
            "Training set: Average loss: 0.675640\n",
            "Validation set: Average loss: 0.603044, Accuracy: 3548/5000 (71%)\n",
            "\n",
            "Epoch: 2\n"
          ]
        },
        {
          "output_type": "stream",
          "name": "stderr",
          "text": [
            "/usr/local/lib/python3.7/dist-packages/ipykernel_launcher.py:42: UserWarning: To copy construct from a tensor, it is recommended to use sourceTensor.clone().detach() or sourceTensor.clone().detach().requires_grad_(True), rather than torch.tensor(sourceTensor).\n"
          ]
        },
        {
          "output_type": "stream",
          "name": "stdout",
          "text": [
            "Training set: Average loss: 0.586167\n",
            "Validation set: Average loss: 0.566788, Accuracy: 3734/5000 (75%)\n",
            "\n",
            "Epoch: 3\n",
            "Training set: Average loss: 0.559422\n",
            "Validation set: Average loss: 0.554717, Accuracy: 3793/5000 (76%)\n",
            "\n",
            "Epoch: 4\n",
            "Training set: Average loss: 0.555542\n",
            "Validation set: Average loss: 0.555299, Accuracy: 3790/5000 (76%)\n",
            "\n",
            "Epoch: 5\n",
            "Training set: Average loss: 0.556823\n",
            "Validation set: Average loss: 0.554256, Accuracy: 3796/5000 (76%)\n",
            "\n",
            "Epoch: 6\n",
            "Training set: Average loss: 0.556339\n",
            "Validation set: Average loss: 0.553824, Accuracy: 3799/5000 (76%)\n",
            "\n",
            "Epoch: 7\n",
            "Training set: Average loss: 0.555019\n",
            "Validation set: Average loss: 0.554164, Accuracy: 3797/5000 (76%)\n",
            "\n",
            "Epoch: 8\n",
            "Training set: Average loss: 0.554415\n",
            "Validation set: Average loss: 0.552415, Accuracy: 3805/5000 (76%)\n",
            "\n",
            "Epoch: 9\n",
            "Training set: Average loss: 0.553329\n",
            "Validation set: Average loss: 0.552288, Accuracy: 3806/5000 (76%)\n",
            "\n",
            "Epoch: 10\n",
            "Training set: Average loss: 0.553501\n",
            "Validation set: Average loss: 0.552086, Accuracy: 3806/5000 (76%)\n",
            "\n",
            "Epoch: 11\n",
            "Training set: Average loss: 0.553802\n",
            "Validation set: Average loss: 0.552114, Accuracy: 3807/5000 (76%)\n",
            "\n",
            "Epoch: 12\n",
            "Training set: Average loss: 0.551592\n",
            "Validation set: Average loss: 0.551855, Accuracy: 3809/5000 (76%)\n",
            "\n",
            "Epoch: 13\n",
            "Training set: Average loss: 0.553039\n",
            "Validation set: Average loss: 0.551969, Accuracy: 3808/5000 (76%)\n",
            "\n",
            "Epoch: 14\n",
            "Training set: Average loss: 0.551398\n",
            "Validation set: Average loss: 0.552103, Accuracy: 3807/5000 (76%)\n",
            "\n",
            "Epoch: 15\n",
            "Training set: Average loss: 0.552692\n",
            "Validation set: Average loss: 0.551616, Accuracy: 3810/5000 (76%)\n",
            "\n",
            "Epoch: 16\n",
            "Training set: Average loss: 0.552369\n",
            "Validation set: Average loss: 0.551857, Accuracy: 3809/5000 (76%)\n",
            "\n",
            "Epoch: 17\n",
            "Training set: Average loss: 0.552490\n",
            "Validation set: Average loss: 0.551605, Accuracy: 3810/5000 (76%)\n",
            "\n",
            "Epoch: 18\n",
            "Training set: Average loss: 0.551520\n",
            "Validation set: Average loss: 0.551603, Accuracy: 3809/5000 (76%)\n",
            "\n",
            "Epoch: 19\n",
            "Training set: Average loss: 0.551512\n",
            "Validation set: Average loss: 0.552160, Accuracy: 3807/5000 (76%)\n",
            "\n",
            "Epoch: 20\n",
            "Training set: Average loss: 0.553922\n",
            "Validation set: Average loss: 0.551773, Accuracy: 3808/5000 (76%)\n",
            "\n",
            "Epoch: 21\n",
            "Training set: Average loss: 0.552579\n",
            "Validation set: Average loss: 0.552179, Accuracy: 3806/5000 (76%)\n",
            "\n",
            "Epoch: 22\n",
            "Training set: Average loss: 0.553379\n",
            "Validation set: Average loss: 0.551351, Accuracy: 3811/5000 (76%)\n",
            "\n",
            "Epoch: 23\n",
            "Training set: Average loss: 0.552531\n",
            "Validation set: Average loss: 0.550962, Accuracy: 3813/5000 (76%)\n",
            "\n",
            "Epoch: 24\n",
            "Training set: Average loss: 0.550057\n",
            "Validation set: Average loss: 0.551122, Accuracy: 3812/5000 (76%)\n",
            "\n",
            "Epoch: 25\n",
            "Training set: Average loss: 0.552872\n",
            "Validation set: Average loss: 0.551231, Accuracy: 3812/5000 (76%)\n",
            "\n",
            "Epoch: 26\n",
            "Training set: Average loss: 0.552369\n",
            "Validation set: Average loss: 0.550530, Accuracy: 3815/5000 (76%)\n",
            "\n",
            "Epoch: 27\n",
            "Training set: Average loss: 0.552479\n",
            "Validation set: Average loss: 0.551001, Accuracy: 3813/5000 (76%)\n",
            "\n",
            "Epoch: 28\n",
            "Training set: Average loss: 0.551618\n",
            "Validation set: Average loss: 0.551352, Accuracy: 3811/5000 (76%)\n",
            "\n",
            "Epoch: 29\n",
            "Training set: Average loss: 0.551292\n",
            "Validation set: Average loss: 0.551173, Accuracy: 3812/5000 (76%)\n",
            "\n",
            "Epoch: 30\n",
            "Training set: Average loss: 0.550900\n",
            "Validation set: Average loss: 0.551079, Accuracy: 3812/5000 (76%)\n",
            "\n",
            "Epoch: 31\n",
            "Training set: Average loss: 0.552273\n",
            "Validation set: Average loss: 0.551481, Accuracy: 3810/5000 (76%)\n",
            "\n",
            "Epoch: 32\n",
            "Training set: Average loss: 0.553276\n",
            "Validation set: Average loss: 0.551539, Accuracy: 3810/5000 (76%)\n",
            "\n",
            "Epoch: 33\n",
            "Training set: Average loss: 0.552308\n",
            "Validation set: Average loss: 0.551401, Accuracy: 3811/5000 (76%)\n",
            "\n",
            "Epoch: 34\n",
            "Training set: Average loss: 0.552795\n",
            "Validation set: Average loss: 0.551594, Accuracy: 3810/5000 (76%)\n",
            "\n",
            "Epoch: 35\n",
            "Training set: Average loss: 0.550513\n",
            "Validation set: Average loss: 0.551543, Accuracy: 3810/5000 (76%)\n",
            "\n",
            "Epoch: 36\n",
            "Training set: Average loss: 0.552581\n",
            "Validation set: Average loss: 0.551543, Accuracy: 3810/5000 (76%)\n",
            "\n",
            "Epoch: 37\n",
            "Training set: Average loss: 0.551543\n",
            "Validation set: Average loss: 0.551543, Accuracy: 3810/5000 (76%)\n",
            "\n",
            "Epoch: 38\n",
            "Training set: Average loss: 0.551543\n",
            "Validation set: Average loss: 0.551543, Accuracy: 3810/5000 (76%)\n",
            "\n",
            "Epoch: 39\n",
            "Training set: Average loss: 0.552581\n",
            "Validation set: Average loss: 0.551543, Accuracy: 3810/5000 (76%)\n",
            "\n",
            "Epoch: 40\n",
            "Training set: Average loss: 0.551889\n",
            "Validation set: Average loss: 0.551543, Accuracy: 3810/5000 (76%)\n",
            "\n",
            "Epoch: 41\n",
            "Training set: Average loss: 0.551197\n",
            "Validation set: Average loss: 0.551543, Accuracy: 3810/5000 (76%)\n",
            "\n",
            "Epoch: 42\n",
            "Training set: Average loss: 0.550851\n",
            "Validation set: Average loss: 0.551543, Accuracy: 3810/5000 (76%)\n",
            "\n",
            "Epoch: 43\n",
            "Training set: Average loss: 0.552581\n",
            "Validation set: Average loss: 0.551543, Accuracy: 3810/5000 (76%)\n",
            "\n",
            "Epoch: 44\n",
            "Training set: Average loss: 0.552581\n",
            "Validation set: Average loss: 0.551543, Accuracy: 3810/5000 (76%)\n",
            "\n",
            "Epoch: 45\n",
            "Training set: Average loss: 0.553620\n",
            "Validation set: Average loss: 0.551543, Accuracy: 3810/5000 (76%)\n",
            "\n",
            "Epoch: 46\n",
            "Training set: Average loss: 0.551889\n",
            "Validation set: Average loss: 0.551543, Accuracy: 3810/5000 (76%)\n",
            "\n",
            "Epoch: 47\n",
            "Training set: Average loss: 0.552235\n",
            "Validation set: Average loss: 0.551543, Accuracy: 3810/5000 (76%)\n",
            "\n",
            "Epoch: 48\n",
            "Training set: Average loss: 0.551889\n",
            "Validation set: Average loss: 0.551543, Accuracy: 3810/5000 (76%)\n",
            "\n",
            "Epoch: 49\n",
            "Training set: Average loss: 0.551543\n",
            "Validation set: Average loss: 0.551543, Accuracy: 3810/5000 (76%)\n",
            "\n",
            "Epoch: 50\n",
            "Training set: Average loss: 0.552235\n",
            "Validation set: Average loss: 0.551543, Accuracy: 3810/5000 (76%)\n",
            "\n"
          ]
        }
      ]
    },
    {
      "cell_type": "code",
      "source": [
        "def _evaluate(model, x_test):\n",
        "  model.eval()\n",
        "\n",
        "  x = torch.Tensor(x_test).float()\n",
        "  _, predictions = torch.max(model(x).data, 1)\n",
        "  print('Evaluation on test dataset')\n",
        "  get_metrics(y_test, predictions)\n",
        "\n",
        "  # Plot the confusion matrix\n",
        "  classes=['0','1']\n",
        "  cm = confusion_matrix(y_test, predictions.numpy())\n",
        "  plt.imshow(cm, interpolation=\"nearest\", cmap=plt.cm.Blues)\n",
        "  plt.colorbar()\n",
        "  tick_marks = np.arange(2)\n",
        "  plt.xticks(tick_marks, classes, rotation=85)\n",
        "  plt.yticks(tick_marks, classes)\n",
        "  plt.xlabel(\"Predicted\")\n",
        "  plt.ylabel(\"Actual\")\n",
        "  plt.show()\n",
        "\n",
        "_evaluate(model, x_test)"
      ],
      "metadata": {
        "colab": {
          "base_uri": "https://localhost:8080/",
          "height": 616
        },
        "id": "e5UH4t9VO4Pi",
        "outputId": "8dd965f2-ea3d-4a26-dc8b-3e07e6de1b4a"
      },
      "execution_count": null,
      "outputs": [
        {
          "output_type": "stream",
          "name": "stderr",
          "text": [
            "/usr/local/lib/python3.7/dist-packages/ipykernel_launcher.py:15: UserWarning: Implicit dimension choice for softmax has been deprecated. Change the call to include dim=X as an argument.\n",
            "  from ipykernel import kernelapp as app\n"
          ]
        },
        {
          "output_type": "stream",
          "name": "stdout",
          "text": [
            "Evaluation on test dataset\n",
            "ACCURACY_SCORE:  0.762\n",
            "F1_SCORE:  0.4357\n",
            "CONFUSION_MATRIX:\n",
            " [[3806    5]\n",
            " [1185    4]] \n",
            "\n",
            "              precision    recall  f1-score   support\n",
            "\n",
            "           0     0.7626    0.9987    0.8648      3811\n",
            "           1     0.4444    0.0034    0.0067      1189\n",
            "\n",
            "    accuracy                         0.7620      5000\n",
            "   macro avg     0.6035    0.5010    0.4357      5000\n",
            "weighted avg     0.6869    0.7620    0.6607      5000\n",
            " \n",
            "\n"
          ]
        },
        {
          "output_type": "display_data",
          "data": {
            "image/png": "[encoded data removed]",
            "text/plain": [
              "<Figure size 432x288 with 2 Axes>"
            ]
          },
          "metadata": {
            "needs_background": "light"
          }
        }
      ]
    },
    {
      "cell_type": "markdown",
      "source": [
        "##### xavier distribution"
      ],
      "metadata": {
        "id": "F8XZIPgmPYxn"
      }
    },
    {
      "cell_type": "code",
      "source": [
        "model = IncomeNet_improve()\n",
        "model.apply(lambda m: init_weights(m, init_type = 'xavier'))\n",
        "\n",
        "loss_criteria = nn.CrossEntropyLoss()\n",
        "\n",
        "# Use an \"Adam\" optimizer to adjust weights\n",
        "# (see https://pytorch.org/docs/stable/optim.html#algorithms for details of supported algorithms)\n",
        "learning_rate = 0.001\n",
        "optimizer = torch.optim.Adam(model.parameters(), lr=learning_rate)\n",
        "optimizer.zero_grad()\n",
        "\n",
        "# We'll track metrics for each epoch in these arrays\n",
        "epoch_nums = []\n",
        "training_loss = []\n",
        "validation_loss = []\n",
        "\n",
        "# Train over 50 epochs\n",
        "epochs = 50\n",
        "for epoch in range(1, epochs + 1):\n",
        "\n",
        "    # print the epoch number\n",
        "    print('Epoch: {}'.format(epoch))\n",
        "    \n",
        "    # Feed training data into the model to optimize the weights\n",
        "    train_loss = train(model, train_loader, optimizer)\n",
        "    \n",
        "    # Feed the test data into the model to check its performance\n",
        "    test_loss = test(model, test_loader)\n",
        "    \n",
        "    # Log the metrics for this epoch\n",
        "    epoch_nums.append(epoch)\n",
        "    training_loss.append(train_loss)\n",
        "    validation_loss.append(test_loss)\n"
      ],
      "metadata": {
        "colab": {
          "base_uri": "https://localhost:8080/"
        },
        "id": "f0iSTxLPPBVM",
        "outputId": "96755e03-f947-4129-ea67-4ae51e8b253e"
      },
      "execution_count": null,
      "outputs": [
        {
          "output_type": "stream",
          "name": "stdout",
          "text": [
            "Epoch: 1\n"
          ]
        },
        {
          "output_type": "stream",
          "name": "stderr",
          "text": [
            "/usr/local/lib/python3.7/dist-packages/ipykernel_launcher.py:15: UserWarning: Implicit dimension choice for softmax has been deprecated. Change the call to include dim=X as an argument.\n",
            "  from ipykernel import kernelapp as app\n"
          ]
        },
        {
          "output_type": "stream",
          "name": "stdout",
          "text": [
            "Training set: Average loss: 0.505959\n"
          ]
        },
        {
          "output_type": "stream",
          "name": "stderr",
          "text": [
            "/usr/local/lib/python3.7/dist-packages/ipykernel_launcher.py:42: UserWarning: To copy construct from a tensor, it is recommended to use sourceTensor.clone().detach() or sourceTensor.clone().detach().requires_grad_(True), rather than torch.tensor(sourceTensor).\n"
          ]
        },
        {
          "output_type": "stream",
          "name": "stdout",
          "text": [
            "Validation set: Average loss: 0.467277, Accuracy: 4178/5000 (84%)\n",
            "\n",
            "Epoch: 2\n",
            "Training set: Average loss: 0.462923\n",
            "Validation set: Average loss: 0.460616, Accuracy: 4206/5000 (84%)\n",
            "\n",
            "Epoch: 3\n",
            "Training set: Average loss: 0.456418\n",
            "Validation set: Average loss: 0.458926, Accuracy: 4219/5000 (84%)\n",
            "\n",
            "Epoch: 4\n",
            "Training set: Average loss: 0.451613\n",
            "Validation set: Average loss: 0.456782, Accuracy: 4227/5000 (85%)\n",
            "\n",
            "Epoch: 5\n",
            "Training set: Average loss: 0.449099\n",
            "Validation set: Average loss: 0.456675, Accuracy: 4249/5000 (85%)\n",
            "\n",
            "Epoch: 6\n",
            "Training set: Average loss: 0.447249\n",
            "Validation set: Average loss: 0.456123, Accuracy: 4247/5000 (85%)\n",
            "\n",
            "Epoch: 7\n",
            "Training set: Average loss: 0.445667\n",
            "Validation set: Average loss: 0.456549, Accuracy: 4235/5000 (85%)\n",
            "\n",
            "Epoch: 8\n",
            "Training set: Average loss: 0.443408\n",
            "Validation set: Average loss: 0.455355, Accuracy: 4249/5000 (85%)\n",
            "\n",
            "Epoch: 9\n",
            "Training set: Average loss: 0.442191\n",
            "Validation set: Average loss: 0.453744, Accuracy: 4245/5000 (85%)\n",
            "\n",
            "Epoch: 10\n",
            "Training set: Average loss: 0.440614\n",
            "Validation set: Average loss: 0.454134, Accuracy: 4252/5000 (85%)\n",
            "\n",
            "Epoch: 11\n",
            "Training set: Average loss: 0.438224\n",
            "Validation set: Average loss: 0.454266, Accuracy: 4243/5000 (85%)\n",
            "\n",
            "Epoch: 12\n",
            "Training set: Average loss: 0.439091\n",
            "Validation set: Average loss: 0.455127, Accuracy: 4242/5000 (85%)\n",
            "\n",
            "Epoch: 13\n",
            "Training set: Average loss: 0.437579\n",
            "Validation set: Average loss: 0.454393, Accuracy: 4245/5000 (85%)\n",
            "\n",
            "Epoch: 14\n",
            "Training set: Average loss: 0.436203\n",
            "Validation set: Average loss: 0.454886, Accuracy: 4252/5000 (85%)\n",
            "\n",
            "Epoch: 15\n",
            "Training set: Average loss: 0.435253\n",
            "Validation set: Average loss: 0.455007, Accuracy: 4252/5000 (85%)\n",
            "\n",
            "Epoch: 16\n",
            "Training set: Average loss: 0.434561\n",
            "Validation set: Average loss: 0.454031, Accuracy: 4256/5000 (85%)\n",
            "\n",
            "Epoch: 17\n",
            "Training set: Average loss: 0.433278\n",
            "Validation set: Average loss: 0.454747, Accuracy: 4245/5000 (85%)\n",
            "\n",
            "Epoch: 18\n",
            "Training set: Average loss: 0.432211\n",
            "Validation set: Average loss: 0.454285, Accuracy: 4238/5000 (85%)\n",
            "\n",
            "Epoch: 19\n",
            "Training set: Average loss: 0.431191\n",
            "Validation set: Average loss: 0.454676, Accuracy: 4240/5000 (85%)\n",
            "\n",
            "Epoch: 20\n",
            "Training set: Average loss: 0.430687\n",
            "Validation set: Average loss: 0.455839, Accuracy: 4239/5000 (85%)\n",
            "\n",
            "Epoch: 21\n",
            "Training set: Average loss: 0.433036\n",
            "Validation set: Average loss: 0.454637, Accuracy: 4253/5000 (85%)\n",
            "\n",
            "Epoch: 22\n",
            "Training set: Average loss: 0.429882\n",
            "Validation set: Average loss: 0.455365, Accuracy: 4245/5000 (85%)\n",
            "\n",
            "Epoch: 23\n",
            "Training set: Average loss: 0.428588\n",
            "Validation set: Average loss: 0.455448, Accuracy: 4249/5000 (85%)\n",
            "\n",
            "Epoch: 24\n",
            "Training set: Average loss: 0.428352\n",
            "Validation set: Average loss: 0.455233, Accuracy: 4248/5000 (85%)\n",
            "\n",
            "Epoch: 25\n",
            "Training set: Average loss: 0.428021\n",
            "Validation set: Average loss: 0.456607, Accuracy: 4250/5000 (85%)\n",
            "\n",
            "Epoch: 26\n",
            "Training set: Average loss: 0.427048\n",
            "Validation set: Average loss: 0.456418, Accuracy: 4239/5000 (85%)\n",
            "\n",
            "Epoch: 27\n",
            "Training set: Average loss: 0.426725\n",
            "Validation set: Average loss: 0.456267, Accuracy: 4240/5000 (85%)\n",
            "\n",
            "Epoch: 28\n",
            "Training set: Average loss: 0.427269\n",
            "Validation set: Average loss: 0.454985, Accuracy: 4251/5000 (85%)\n",
            "\n",
            "Epoch: 29\n",
            "Training set: Average loss: 0.425657\n",
            "Validation set: Average loss: 0.456984, Accuracy: 4240/5000 (85%)\n",
            "\n",
            "Epoch: 30\n",
            "Training set: Average loss: 0.425481\n",
            "Validation set: Average loss: 0.456847, Accuracy: 4237/5000 (85%)\n",
            "\n",
            "Epoch: 31\n",
            "Training set: Average loss: 0.424767\n",
            "Validation set: Average loss: 0.457166, Accuracy: 4253/5000 (85%)\n",
            "\n",
            "Epoch: 32\n",
            "Training set: Average loss: 0.424047\n",
            "Validation set: Average loss: 0.457693, Accuracy: 4242/5000 (85%)\n",
            "\n",
            "Epoch: 33\n",
            "Training set: Average loss: 0.424384\n",
            "Validation set: Average loss: 0.458015, Accuracy: 4241/5000 (85%)\n",
            "\n",
            "Epoch: 34\n",
            "Training set: Average loss: 0.423491\n",
            "Validation set: Average loss: 0.457434, Accuracy: 4239/5000 (85%)\n",
            "\n",
            "Epoch: 35\n",
            "Training set: Average loss: 0.424359\n",
            "Validation set: Average loss: 0.457388, Accuracy: 4229/5000 (85%)\n",
            "\n",
            "Epoch: 36\n",
            "Training set: Average loss: 0.423404\n",
            "Validation set: Average loss: 0.458119, Accuracy: 4217/5000 (84%)\n",
            "\n",
            "Epoch: 37\n",
            "Training set: Average loss: 0.422031\n",
            "Validation set: Average loss: 0.458177, Accuracy: 4241/5000 (85%)\n",
            "\n",
            "Epoch: 38\n",
            "Training set: Average loss: 0.421222\n",
            "Validation set: Average loss: 0.457398, Accuracy: 4246/5000 (85%)\n",
            "\n",
            "Epoch: 39\n",
            "Training set: Average loss: 0.422636\n",
            "Validation set: Average loss: 0.458286, Accuracy: 4232/5000 (85%)\n",
            "\n",
            "Epoch: 40\n",
            "Training set: Average loss: 0.422413\n",
            "Validation set: Average loss: 0.457535, Accuracy: 4245/5000 (85%)\n",
            "\n",
            "Epoch: 41\n",
            "Training set: Average loss: 0.421314\n",
            "Validation set: Average loss: 0.457732, Accuracy: 4248/5000 (85%)\n",
            "\n",
            "Epoch: 42\n",
            "Training set: Average loss: 0.421760\n",
            "Validation set: Average loss: 0.457840, Accuracy: 4248/5000 (85%)\n",
            "\n",
            "Epoch: 43\n",
            "Training set: Average loss: 0.419187\n",
            "Validation set: Average loss: 0.459093, Accuracy: 4229/5000 (85%)\n",
            "\n",
            "Epoch: 44\n",
            "Training set: Average loss: 0.419885\n",
            "Validation set: Average loss: 0.459167, Accuracy: 4227/5000 (85%)\n",
            "\n",
            "Epoch: 45\n",
            "Training set: Average loss: 0.419325\n",
            "Validation set: Average loss: 0.459995, Accuracy: 4225/5000 (84%)\n",
            "\n",
            "Epoch: 46\n",
            "Training set: Average loss: 0.421336\n",
            "Validation set: Average loss: 0.458597, Accuracy: 4237/5000 (85%)\n",
            "\n",
            "Epoch: 47\n",
            "Training set: Average loss: 0.419438\n",
            "Validation set: Average loss: 0.457444, Accuracy: 4247/5000 (85%)\n",
            "\n",
            "Epoch: 48\n",
            "Training set: Average loss: 0.418823\n",
            "Validation set: Average loss: 0.459025, Accuracy: 4238/5000 (85%)\n",
            "\n",
            "Epoch: 49\n",
            "Training set: Average loss: 0.418278\n",
            "Validation set: Average loss: 0.458724, Accuracy: 4238/5000 (85%)\n",
            "\n",
            "Epoch: 50\n",
            "Training set: Average loss: 0.417265\n",
            "Validation set: Average loss: 0.460286, Accuracy: 4225/5000 (84%)\n",
            "\n"
          ]
        }
      ]
    },
    {
      "cell_type": "code",
      "source": [
        "def _evaluate(model, x_test):\n",
        "  model.eval()\n",
        "\n",
        "  x = torch.Tensor(x_test).float()\n",
        "  _, predictions = torch.max(model(x).data, 1)\n",
        "  print('Evaluation on test dataset')\n",
        "  get_metrics(y_test, predictions)\n",
        "\n",
        "  # Plot the confusion matrix\n",
        "  classes=['0','1']\n",
        "  cm = confusion_matrix(y_test, predictions.numpy())\n",
        "  plt.imshow(cm, interpolation=\"nearest\", cmap=plt.cm.Blues)\n",
        "  plt.colorbar()\n",
        "  tick_marks = np.arange(2)\n",
        "  plt.xticks(tick_marks, classes, rotation=85)\n",
        "  plt.yticks(tick_marks, classes)\n",
        "  plt.xlabel(\"Predicted\")\n",
        "  plt.ylabel(\"Actual\")\n",
        "  plt.show()\n",
        "\n",
        "_evaluate(model, x_test)"
      ],
      "metadata": {
        "colab": {
          "base_uri": "https://localhost:8080/",
          "height": 616
        },
        "id": "gA-9sr68PghJ",
        "outputId": "b33715da-1cec-478b-9204-b0987bea6c48"
      },
      "execution_count": null,
      "outputs": [
        {
          "output_type": "stream",
          "name": "stderr",
          "text": [
            "/usr/local/lib/python3.7/dist-packages/ipykernel_launcher.py:15: UserWarning: Implicit dimension choice for softmax has been deprecated. Change the call to include dim=X as an argument.\n",
            "  from ipykernel import kernelapp as app\n"
          ]
        },
        {
          "output_type": "stream",
          "name": "stdout",
          "text": [
            "Evaluation on test dataset\n",
            "ACCURACY_SCORE:  0.845\n",
            "F1_SCORE:  0.7784\n",
            "CONFUSION_MATRIX:\n",
            " [[3483  328]\n",
            " [ 447  742]] \n",
            "\n",
            "              precision    recall  f1-score   support\n",
            "\n",
            "           0     0.8863    0.9139    0.8999      3811\n",
            "           1     0.6935    0.6241    0.6569      1189\n",
            "\n",
            "    accuracy                         0.8450      5000\n",
            "   macro avg     0.7899    0.7690    0.7784      5000\n",
            "weighted avg     0.8404    0.8450    0.8421      5000\n",
            " \n",
            "\n"
          ]
        },
        {
          "output_type": "display_data",
          "data": {
            "image/png": "[encoded data removed]",
            "text/plain": [
              "<Figure size 432x288 with 2 Axes>"
            ]
          },
          "metadata": {
            "needs_background": "light"
          }
        }
      ]
    },
    {
      "cell_type": "markdown",
      "source": [
        "#### 9) Thiết lập không gian search và tự động hóa tìm kiếm kiến trúc tốt nhất trên optuna."
      ],
      "metadata": {
        "id": "Ncr46BLoQvFK"
      }
    },
    {
      "cell_type": "code",
      "source": [
        "!pip install optuna"
      ],
      "metadata": {
        "id": "HyA_smuCQxn7",
        "colab": {
          "base_uri": "https://localhost:8080/"
        },
        "outputId": "539c2658-0f9e-4bb1-a7ff-055f2618c3bf"
      },
      "execution_count": null,
      "outputs": [
        {
          "output_type": "stream",
          "name": "stdout",
          "text": [
            "Requirement already satisfied: optuna in /usr/local/lib/python3.7/dist-packages (2.10.0)\n",
            "Requirement already satisfied: packaging>=20.0 in /usr/local/lib/python3.7/dist-packages (from optuna) (21.3)\n",
            "Requirement already satisfied: PyYAML in /usr/local/lib/python3.7/dist-packages (from optuna) (3.13)\n",
            "Requirement already satisfied: tqdm in /usr/local/lib/python3.7/dist-packages (from optuna) (4.62.3)\n",
            "Requirement already satisfied: alembic in /usr/local/lib/python3.7/dist-packages (from optuna) (1.7.6)\n",
            "Requirement already satisfied: colorlog in /usr/local/lib/python3.7/dist-packages (from optuna) (6.6.0)\n",
            "Requirement already satisfied: sqlalchemy>=1.1.0 in /usr/local/lib/python3.7/dist-packages (from optuna) (1.4.31)\n",
            "Requirement already satisfied: scipy!=1.4.0 in /usr/local/lib/python3.7/dist-packages (from optuna) (1.4.1)\n",
            "Requirement already satisfied: numpy in /usr/local/lib/python3.7/dist-packages (from optuna) (1.21.5)\n",
            "Requirement already satisfied: cmaes>=0.8.2 in /usr/local/lib/python3.7/dist-packages (from optuna) (0.8.2)\n",
            "Requirement already satisfied: cliff in /usr/local/lib/python3.7/dist-packages (from optuna) (3.10.1)\n",
            "Requirement already satisfied: pyparsing!=3.0.5,>=2.0.2 in /usr/local/lib/python3.7/dist-packages (from packaging>=20.0->optuna) (3.0.7)\n",
            "Requirement already satisfied: greenlet!=0.4.17 in /usr/local/lib/python3.7/dist-packages (from sqlalchemy>=1.1.0->optuna) (1.1.2)\n",
            "Requirement already satisfied: importlib-metadata in /usr/local/lib/python3.7/dist-packages (from sqlalchemy>=1.1.0->optuna) (4.11.0)\n",
            "Requirement already satisfied: Mako in /usr/local/lib/python3.7/dist-packages (from alembic->optuna) (1.1.6)\n",
            "Requirement already satisfied: importlib-resources in /usr/local/lib/python3.7/dist-packages (from alembic->optuna) (5.4.0)\n",
            "Requirement already satisfied: cmd2>=1.0.0 in /usr/local/lib/python3.7/dist-packages (from cliff->optuna) (2.3.3)\n",
            "Requirement already satisfied: PrettyTable>=0.7.2 in /usr/local/lib/python3.7/dist-packages (from cliff->optuna) (3.0.0)\n",
            "Requirement already satisfied: stevedore>=2.0.1 in /usr/local/lib/python3.7/dist-packages (from cliff->optuna) (3.5.0)\n",
            "Requirement already satisfied: autopage>=0.4.0 in /usr/local/lib/python3.7/dist-packages (from cliff->optuna) (0.5.0)\n",
            "Requirement already satisfied: pbr!=2.1.0,>=2.0.0 in /usr/local/lib/python3.7/dist-packages (from cliff->optuna) (5.8.1)\n",
            "Requirement already satisfied: attrs>=16.3.0 in /usr/local/lib/python3.7/dist-packages (from cmd2>=1.0.0->cliff->optuna) (21.4.0)\n",
            "Requirement already satisfied: pyperclip>=1.6 in /usr/local/lib/python3.7/dist-packages (from cmd2>=1.0.0->cliff->optuna) (1.8.2)\n",
            "Requirement already satisfied: wcwidth>=0.1.7 in /usr/local/lib/python3.7/dist-packages (from cmd2>=1.0.0->cliff->optuna) (0.2.5)\n",
            "Requirement already satisfied: typing-extensions in /usr/local/lib/python3.7/dist-packages (from cmd2>=1.0.0->cliff->optuna) (3.10.0.2)\n",
            "Requirement already satisfied: zipp>=0.5 in /usr/local/lib/python3.7/dist-packages (from importlib-metadata->sqlalchemy>=1.1.0->optuna) (3.7.0)\n",
            "Requirement already satisfied: MarkupSafe>=0.9.2 in /usr/local/lib/python3.7/dist-packages (from Mako->alembic->optuna) (2.0.1)\n"
          ]
        }
      ]
    },
    {
      "cell_type": "code",
      "source": [
        "import optuna\n",
        "from optuna.trial import TrialState\n",
        "import torch.optim as optim\n",
        "import torch.nn.functional as F"
      ],
      "metadata": {
        "id": "TdZ_a7Ok8kX4"
      },
      "execution_count": null,
      "outputs": []
    },
    {
      "cell_type": "code",
      "source": [
        "import torch\n",
        "import torch.nn as nn\n",
        "import torch.utils.data as td\n",
        "\n",
        "# Set random seed for reproducability\n",
        "torch.manual_seed(0)"
      ],
      "metadata": {
        "colab": {
          "base_uri": "https://localhost:8080/"
        },
        "id": "cFvbfOeR8lR7",
        "outputId": "03fa5c47-8b38-44b8-8d62-b107f54ada4b"
      },
      "execution_count": null,
      "outputs": [
        {
          "output_type": "execute_result",
          "data": {
            "text/plain": [
              "<torch._C.Generator at 0x7f9b6b4569d0>"
            ]
          },
          "metadata": {},
          "execution_count": 16
        }
      ]
    },
    {
      "cell_type": "code",
      "source": [
        "# Create a dataset and loader for the training data and labels\n",
        "train_x = torch.Tensor(x_train).float()\n",
        "# Reshape y target into [-1, 1] to fit with Binary Cross Entropy\n",
        "train_y = torch.Tensor(y_train).view(-1, 1).float()\n",
        "train_ds = td.TensorDataset(train_x,train_y)\n",
        "train_loader = td.DataLoader(train_ds, batch_size=16,\n",
        "    shuffle=True, num_workers=1)\n",
        "\n",
        "# Create a dataset and loader for the test data and labels\n",
        "test_x = torch.Tensor(x_test).float()\n",
        "test_y = torch.Tensor(y_test).view(-1, 1).float()\n",
        "test_ds = td.TensorDataset(test_x,test_y)\n",
        "test_loader = td.DataLoader(test_ds, batch_size=16,\n",
        "    shuffle=False, num_workers=1)\n",
        "print('Ready to load data')"
      ],
      "metadata": {
        "colab": {
          "base_uri": "https://localhost:8080/"
        },
        "id": "nMOLE2Uw8ncT",
        "outputId": "d42a665e-b06b-4501-d815-544044a681c2"
      },
      "execution_count": null,
      "outputs": [
        {
          "output_type": "stream",
          "name": "stdout",
          "text": [
            "Ready to load data\n"
          ]
        }
      ]
    },
    {
      "cell_type": "code",
      "source": [
        "def define_model(trial):\n",
        "    # We optimize the number of layers, hidden units and dropout ratio in each layer.\n",
        "    n_layers = trial.suggest_int(\"n_layers\", 2, 6)\n",
        "    layers = []\n",
        "\n",
        "    in_features = len(features)\n",
        "    for i in range(n_layers):\n",
        "        out_features = trial.suggest_int(\"n_units_l{}\".format(i), 16, 256)\n",
        "        layers.append(nn.Linear(in_features, out_features))\n",
        "        layers.append(nn.ReLU())\n",
        "        p = trial.suggest_float(\"dropout_l{}\".format(i), 0.2, 0.6)\n",
        "        layers.append(nn.Dropout(p))\n",
        "\n",
        "        in_features = out_features\n",
        "    layers.append(nn.Linear(in_features, 1))\n",
        "    layers.append(nn.Sigmoid())\n",
        "\n",
        "    return nn.Sequential(*layers)"
      ],
      "metadata": {
        "id": "NUq2omWV8sXe"
      },
      "execution_count": null,
      "outputs": []
    },
    {
      "cell_type": "code",
      "source": [
        "DEVICE = torch.device(\"cpu\")\n",
        "BATCHSIZE = 16\n",
        "EPOCHS = 30\n",
        "LOG_INTERVAL = 10\n",
        "N_TRAIN_EXAMPLES = BATCHSIZE * 300\n",
        "N_VALID_EXAMPLES = BATCHSIZE * 100\n",
        "\n",
        "def objective(trial):\n",
        "\n",
        "    # Generate the model.\n",
        "    model = define_model(trial).to(DEVICE)\n",
        "\n",
        "    # Generate the optimizers.\n",
        "    optimizer_name = trial.suggest_categorical(\"optimizer\", [\"Adam\", \"RMSprop\", \"SGD\"])\n",
        "    lr = trial.suggest_float(\"lr\", 1e-5, 1e-1, log=True)\n",
        "    optimizer = getattr(optim, optimizer_name)(model.parameters(), lr=lr)\n",
        "    loss_criteria = nn.BCELoss()\n",
        "    # Training of the model.\n",
        "    for epoch in range(EPOCHS):\n",
        "        model.train()\n",
        "        for batch_idx, (data, target) in enumerate(train_loader):\n",
        "            # Limiting training data for faster epochs.\n",
        "            if batch_idx * BATCHSIZE >= N_TRAIN_EXAMPLES:\n",
        "                break\n",
        "\n",
        "            data, target = data.view(data.size(0), -1).to(DEVICE), target.to(DEVICE)\n",
        "\n",
        "            optimizer.zero_grad()\n",
        "            output = model(data)\n",
        "            # loss = F.nll_loss(output, target)\n",
        "            loss = loss_criteria(output, target)\n",
        "            loss.backward()\n",
        "            optimizer.step()\n",
        "\n",
        "        # Validation of the model.\n",
        "        model.eval()\n",
        "        correct = 0\n",
        "        with torch.no_grad():\n",
        "            for batch_idx, (data, target) in enumerate(test_loader):\n",
        "                # Limiting validation data.\n",
        "                if batch_idx * BATCHSIZE >= N_VALID_EXAMPLES:\n",
        "                    break\n",
        "                data, target = data.view(data.size(0), -1).to(DEVICE), target.to(DEVICE)\n",
        "                output = model(data)\n",
        "                # Get the index of the max log-probability.\n",
        "                pred = torch.tensor(output.data>=0.5).float()\n",
        "                correct += pred.eq(target.view_as(pred)).sum().item()\n",
        "\n",
        "        accuracy = correct / min(len(test_loader.dataset), N_VALID_EXAMPLES)\n",
        "\n",
        "        trial.report(accuracy, epoch)\n",
        "\n",
        "        # Handle pruning based on the intermediate value.\n",
        "        if trial.should_prune():\n",
        "            raise optuna.exceptions.TrialPruned()\n",
        "\n",
        "    return accuracy"
      ],
      "metadata": {
        "id": "DSgcIw-M9LSs"
      },
      "execution_count": null,
      "outputs": []
    },
    {
      "cell_type": "code",
      "source": [
        "study = optuna.create_study(direction=\"maximize\")\n",
        "study.optimize(objective, n_trials=100, timeout=600)\n",
        "\n",
        "pruned_trials = study.get_trials(deepcopy=False, states=[TrialState.PRUNED])\n",
        "complete_trials = study.get_trials(deepcopy=False, states=[TrialState.COMPLETE])\n",
        "\n",
        "print(\"Study statistics: \")\n",
        "print(\"  Number of finished trials: \", len(study.trials))\n",
        "print(\"  Number of pruned trials: \", len(pruned_trials))\n",
        "print(\"  Number of complete trials: \", len(complete_trials))\n",
        "\n",
        "print(\"Best trial:\")\n",
        "trial = study.best_trial\n",
        "\n",
        "print(\"  Value: \", trial.value)\n",
        "\n",
        "print(\"  Params: \")\n",
        "for key, value in trial.params.items():\n",
        "    print(\"    {}: {}\".format(key, value))"
      ],
      "metadata": {
        "colab": {
          "base_uri": "https://localhost:8080/"
        },
        "id": "k6So4EaB9mlm",
        "outputId": "0a74cb86-ada8-4972-fec4-6e17f6dd4807"
      },
      "execution_count": null,
      "outputs": [
        {
          "output_type": "stream",
          "name": "stderr",
          "text": [
            "\u001b[32m[I 2022-02-19 16:52:55,652]\u001b[0m A new study created in memory with name: no-name-c2654ca5-6561-433e-ad5c-c2a54b9558eb\u001b[0m\n",
            "/usr/local/lib/python3.7/dist-packages/ipykernel_launcher.py:46: UserWarning: To copy construct from a tensor, it is recommended to use sourceTensor.clone().detach() or sourceTensor.clone().detach().requires_grad_(True), rather than torch.tensor(sourceTensor).\n",
            "\u001b[32m[I 2022-02-19 16:53:51,946]\u001b[0m Trial 0 finished with value: 0.83625 and parameters: {'n_layers': 6, 'n_units_l0': 17, 'dropout_l0': 0.5037489524462524, 'n_units_l1': 250, 'dropout_l1': 0.22707355639191787, 'n_units_l2': 41, 'dropout_l2': 0.307229099586679, 'n_units_l3': 143, 'dropout_l3': 0.4669228951876867, 'n_units_l4': 201, 'dropout_l4': 0.34903746525998514, 'n_units_l5': 193, 'dropout_l5': 0.5753719911955282, 'optimizer': 'RMSprop', 'lr': 0.0012927038665341646}. Best is trial 0 with value: 0.83625.\u001b[0m\n",
            "/usr/local/lib/python3.7/dist-packages/ipykernel_launcher.py:46: UserWarning: To copy construct from a tensor, it is recommended to use sourceTensor.clone().detach() or sourceTensor.clone().detach().requires_grad_(True), rather than torch.tensor(sourceTensor).\n",
            "\u001b[32m[I 2022-02-19 16:54:54,716]\u001b[0m Trial 1 finished with value: 0.764375 and parameters: {'n_layers': 6, 'n_units_l0': 30, 'dropout_l0': 0.42597559552159847, 'n_units_l1': 98, 'dropout_l1': 0.38874546618187233, 'n_units_l2': 32, 'dropout_l2': 0.46860840742341525, 'n_units_l3': 243, 'dropout_l3': 0.41835308293319884, 'n_units_l4': 223, 'dropout_l4': 0.24135059764615474, 'n_units_l5': 82, 'dropout_l5': 0.5594866555973765, 'optimizer': 'Adam', 'lr': 0.01414162400378413}. Best is trial 0 with value: 0.83625.\u001b[0m\n",
            "/usr/local/lib/python3.7/dist-packages/ipykernel_launcher.py:46: UserWarning: To copy construct from a tensor, it is recommended to use sourceTensor.clone().detach() or sourceTensor.clone().detach().requires_grad_(True), rather than torch.tensor(sourceTensor).\n",
            "\u001b[32m[I 2022-02-19 16:55:42,837]\u001b[0m Trial 2 finished with value: 0.855 and parameters: {'n_layers': 6, 'n_units_l0': 219, 'dropout_l0': 0.23980919672379444, 'n_units_l1': 248, 'dropout_l1': 0.34986595301960394, 'n_units_l2': 142, 'dropout_l2': 0.438721128866663, 'n_units_l3': 116, 'dropout_l3': 0.5509155907394176, 'n_units_l4': 119, 'dropout_l4': 0.2647080842329154, 'n_units_l5': 57, 'dropout_l5': 0.2538286694810323, 'optimizer': 'RMSprop', 'lr': 6.359102891995616e-05}. Best is trial 2 with value: 0.855.\u001b[0m\n",
            "/usr/local/lib/python3.7/dist-packages/ipykernel_launcher.py:46: UserWarning: To copy construct from a tensor, it is recommended to use sourceTensor.clone().detach() or sourceTensor.clone().detach().requires_grad_(True), rather than torch.tensor(sourceTensor).\n",
            "\u001b[32m[I 2022-02-19 16:56:26,657]\u001b[0m Trial 3 finished with value: 0.855 and parameters: {'n_layers': 6, 'n_units_l0': 156, 'dropout_l0': 0.546416932725484, 'n_units_l1': 242, 'dropout_l1': 0.5629811222217609, 'n_units_l2': 82, 'dropout_l2': 0.2776607917512763, 'n_units_l3': 200, 'dropout_l3': 0.27769292364464093, 'n_units_l4': 37, 'dropout_l4': 0.358142443668286, 'n_units_l5': 238, 'dropout_l5': 0.4291366125995898, 'optimizer': 'RMSprop', 'lr': 0.0005306868132189213}. Best is trial 2 with value: 0.855.\u001b[0m\n",
            "/usr/local/lib/python3.7/dist-packages/ipykernel_launcher.py:46: UserWarning: To copy construct from a tensor, it is recommended to use sourceTensor.clone().detach() or sourceTensor.clone().detach().requires_grad_(True), rather than torch.tensor(sourceTensor).\n",
            "\u001b[32m[I 2022-02-19 16:57:14,523]\u001b[0m Trial 4 finished with value: 0.764375 and parameters: {'n_layers': 6, 'n_units_l0': 75, 'dropout_l0': 0.2017731425185507, 'n_units_l1': 164, 'dropout_l1': 0.41757905591997846, 'n_units_l2': 67, 'dropout_l2': 0.2012977884142202, 'n_units_l3': 111, 'dropout_l3': 0.4988555825793779, 'n_units_l4': 23, 'dropout_l4': 0.3473262279986792, 'n_units_l5': 35, 'dropout_l5': 0.46228042363608696, 'optimizer': 'Adam', 'lr': 0.022072544372762303}. Best is trial 2 with value: 0.855.\u001b[0m\n",
            "/usr/local/lib/python3.7/dist-packages/ipykernel_launcher.py:46: UserWarning: To copy construct from a tensor, it is recommended to use sourceTensor.clone().detach() or sourceTensor.clone().detach().requires_grad_(True), rather than torch.tensor(sourceTensor).\n",
            "\u001b[32m[I 2022-02-19 16:57:59,465]\u001b[0m Trial 5 finished with value: 0.85625 and parameters: {'n_layers': 6, 'n_units_l0': 252, 'dropout_l0': 0.2877905364816796, 'n_units_l1': 45, 'dropout_l1': 0.3745588111056335, 'n_units_l2': 60, 'dropout_l2': 0.37089052058679217, 'n_units_l3': 204, 'dropout_l3': 0.33682754013750693, 'n_units_l4': 189, 'dropout_l4': 0.23661928018713702, 'n_units_l5': 160, 'dropout_l5': 0.24227860550621122, 'optimizer': 'RMSprop', 'lr': 0.0007398165039222654}. Best is trial 5 with value: 0.85625.\u001b[0m\n",
            "/usr/local/lib/python3.7/dist-packages/ipykernel_launcher.py:46: UserWarning: To copy construct from a tensor, it is recommended to use sourceTensor.clone().detach() or sourceTensor.clone().detach().requires_grad_(True), rather than torch.tensor(sourceTensor).\n",
            "\u001b[32m[I 2022-02-19 16:58:00,552]\u001b[0m Trial 6 pruned. \u001b[0m\n",
            "/usr/local/lib/python3.7/dist-packages/ipykernel_launcher.py:46: UserWarning: To copy construct from a tensor, it is recommended to use sourceTensor.clone().detach() or sourceTensor.clone().detach().requires_grad_(True), rather than torch.tensor(sourceTensor).\n",
            "\u001b[32m[I 2022-02-19 16:58:38,893]\u001b[0m Trial 7 finished with value: 0.85375 and parameters: {'n_layers': 5, 'n_units_l0': 129, 'dropout_l0': 0.3333490802829756, 'n_units_l1': 221, 'dropout_l1': 0.4342608086599554, 'n_units_l2': 21, 'dropout_l2': 0.5217660216068944, 'n_units_l3': 58, 'dropout_l3': 0.2803041953148216, 'n_units_l4': 180, 'dropout_l4': 0.2841918913142402, 'optimizer': 'RMSprop', 'lr': 0.0002964626861325747}. Best is trial 5 with value: 0.85625.\u001b[0m\n",
            "/usr/local/lib/python3.7/dist-packages/ipykernel_launcher.py:46: UserWarning: To copy construct from a tensor, it is recommended to use sourceTensor.clone().detach() or sourceTensor.clone().detach().requires_grad_(True), rather than torch.tensor(sourceTensor).\n",
            "\u001b[32m[I 2022-02-19 16:58:40,348]\u001b[0m Trial 8 pruned. \u001b[0m\n",
            "/usr/local/lib/python3.7/dist-packages/ipykernel_launcher.py:46: UserWarning: To copy construct from a tensor, it is recommended to use sourceTensor.clone().detach() or sourceTensor.clone().detach().requires_grad_(True), rather than torch.tensor(sourceTensor).\n",
            "\u001b[32m[I 2022-02-19 16:58:41,573]\u001b[0m Trial 9 pruned. \u001b[0m\n",
            "/usr/local/lib/python3.7/dist-packages/ipykernel_launcher.py:46: UserWarning: To copy construct from a tensor, it is recommended to use sourceTensor.clone().detach() or sourceTensor.clone().detach().requires_grad_(True), rather than torch.tensor(sourceTensor).\n",
            "\u001b[32m[I 2022-02-19 16:58:42,738]\u001b[0m Trial 10 pruned. \u001b[0m\n",
            "/usr/local/lib/python3.7/dist-packages/ipykernel_launcher.py:46: UserWarning: To copy construct from a tensor, it is recommended to use sourceTensor.clone().detach() or sourceTensor.clone().detach().requires_grad_(True), rather than torch.tensor(sourceTensor).\n",
            "\u001b[32m[I 2022-02-19 16:58:44,183]\u001b[0m Trial 11 pruned. \u001b[0m\n",
            "/usr/local/lib/python3.7/dist-packages/ipykernel_launcher.py:46: UserWarning: To copy construct from a tensor, it is recommended to use sourceTensor.clone().detach() or sourceTensor.clone().detach().requires_grad_(True), rather than torch.tensor(sourceTensor).\n",
            "\u001b[32m[I 2022-02-19 16:58:45,781]\u001b[0m Trial 12 pruned. \u001b[0m\n",
            "/usr/local/lib/python3.7/dist-packages/ipykernel_launcher.py:46: UserWarning: To copy construct from a tensor, it is recommended to use sourceTensor.clone().detach() or sourceTensor.clone().detach().requires_grad_(True), rather than torch.tensor(sourceTensor).\n",
            "\u001b[32m[I 2022-02-19 16:58:47,076]\u001b[0m Trial 13 pruned. \u001b[0m\n",
            "/usr/local/lib/python3.7/dist-packages/ipykernel_launcher.py:46: UserWarning: To copy construct from a tensor, it is recommended to use sourceTensor.clone().detach() or sourceTensor.clone().detach().requires_grad_(True), rather than torch.tensor(sourceTensor).\n",
            "\u001b[32m[I 2022-02-19 16:58:48,427]\u001b[0m Trial 14 pruned. \u001b[0m\n",
            "/usr/local/lib/python3.7/dist-packages/ipykernel_launcher.py:46: UserWarning: To copy construct from a tensor, it is recommended to use sourceTensor.clone().detach() or sourceTensor.clone().detach().requires_grad_(True), rather than torch.tensor(sourceTensor).\n",
            "\u001b[32m[I 2022-02-19 16:58:57,908]\u001b[0m Trial 15 pruned. \u001b[0m\n",
            "/usr/local/lib/python3.7/dist-packages/ipykernel_launcher.py:46: UserWarning: To copy construct from a tensor, it is recommended to use sourceTensor.clone().detach() or sourceTensor.clone().detach().requires_grad_(True), rather than torch.tensor(sourceTensor).\n",
            "\u001b[32m[I 2022-02-19 16:58:59,391]\u001b[0m Trial 16 pruned. \u001b[0m\n",
            "/usr/local/lib/python3.7/dist-packages/ipykernel_launcher.py:46: UserWarning: To copy construct from a tensor, it is recommended to use sourceTensor.clone().detach() or sourceTensor.clone().detach().requires_grad_(True), rather than torch.tensor(sourceTensor).\n",
            "\u001b[32m[I 2022-02-19 16:59:11,722]\u001b[0m Trial 17 pruned. \u001b[0m\n",
            "/usr/local/lib/python3.7/dist-packages/ipykernel_launcher.py:46: UserWarning: To copy construct from a tensor, it is recommended to use sourceTensor.clone().detach() or sourceTensor.clone().detach().requires_grad_(True), rather than torch.tensor(sourceTensor).\n",
            "\u001b[32m[I 2022-02-19 16:59:13,501]\u001b[0m Trial 18 pruned. \u001b[0m\n",
            "/usr/local/lib/python3.7/dist-packages/ipykernel_launcher.py:46: UserWarning: To copy construct from a tensor, it is recommended to use sourceTensor.clone().detach() or sourceTensor.clone().detach().requires_grad_(True), rather than torch.tensor(sourceTensor).\n",
            "\u001b[32m[I 2022-02-19 16:59:15,010]\u001b[0m Trial 19 pruned. \u001b[0m\n",
            "/usr/local/lib/python3.7/dist-packages/ipykernel_launcher.py:46: UserWarning: To copy construct from a tensor, it is recommended to use sourceTensor.clone().detach() or sourceTensor.clone().detach().requires_grad_(True), rather than torch.tensor(sourceTensor).\n",
            "\u001b[32m[I 2022-02-19 16:59:16,773]\u001b[0m Trial 20 pruned. \u001b[0m\n",
            "/usr/local/lib/python3.7/dist-packages/ipykernel_launcher.py:46: UserWarning: To copy construct from a tensor, it is recommended to use sourceTensor.clone().detach() or sourceTensor.clone().detach().requires_grad_(True), rather than torch.tensor(sourceTensor).\n",
            "\u001b[32m[I 2022-02-19 16:59:31,569]\u001b[0m Trial 21 pruned. \u001b[0m\n",
            "/usr/local/lib/python3.7/dist-packages/ipykernel_launcher.py:46: UserWarning: To copy construct from a tensor, it is recommended to use sourceTensor.clone().detach() or sourceTensor.clone().detach().requires_grad_(True), rather than torch.tensor(sourceTensor).\n",
            "\u001b[32m[I 2022-02-19 17:00:19,669]\u001b[0m Trial 22 finished with value: 0.8575 and parameters: {'n_layers': 6, 'n_units_l0': 254, 'dropout_l0': 0.5758848594995846, 'n_units_l1': 250, 'dropout_l1': 0.5218223478136437, 'n_units_l2': 65, 'dropout_l2': 0.300846507442468, 'n_units_l3': 165, 'dropout_l3': 0.21526465123562524, 'n_units_l4': 86, 'dropout_l4': 0.20423219187780273, 'n_units_l5': 186, 'dropout_l5': 0.39904902636498135, 'optimizer': 'RMSprop', 'lr': 0.0006016605955517973}. Best is trial 22 with value: 0.8575.\u001b[0m\n",
            "/usr/local/lib/python3.7/dist-packages/ipykernel_launcher.py:46: UserWarning: To copy construct from a tensor, it is recommended to use sourceTensor.clone().detach() or sourceTensor.clone().detach().requires_grad_(True), rather than torch.tensor(sourceTensor).\n",
            "\u001b[32m[I 2022-02-19 17:00:33,106]\u001b[0m Trial 23 pruned. \u001b[0m\n",
            "/usr/local/lib/python3.7/dist-packages/ipykernel_launcher.py:46: UserWarning: To copy construct from a tensor, it is recommended to use sourceTensor.clone().detach() or sourceTensor.clone().detach().requires_grad_(True), rather than torch.tensor(sourceTensor).\n",
            "\u001b[32m[I 2022-02-19 17:00:34,837]\u001b[0m Trial 24 pruned. \u001b[0m\n",
            "/usr/local/lib/python3.7/dist-packages/ipykernel_launcher.py:46: UserWarning: To copy construct from a tensor, it is recommended to use sourceTensor.clone().detach() or sourceTensor.clone().detach().requires_grad_(True), rather than torch.tensor(sourceTensor).\n",
            "\u001b[32m[I 2022-02-19 17:01:20,440]\u001b[0m Trial 25 finished with value: 0.84875 and parameters: {'n_layers': 5, 'n_units_l0': 233, 'dropout_l0': 0.3083059217639677, 'n_units_l1': 199, 'dropout_l1': 0.35980305078955277, 'n_units_l2': 101, 'dropout_l2': 0.37788740731679377, 'n_units_l3': 79, 'dropout_l3': 0.3768526997309283, 'n_units_l4': 56, 'dropout_l4': 0.4391662914240838, 'optimizer': 'RMSprop', 'lr': 0.0013411857858963826}. Best is trial 22 with value: 0.8575.\u001b[0m\n",
            "/usr/local/lib/python3.7/dist-packages/ipykernel_launcher.py:46: UserWarning: To copy construct from a tensor, it is recommended to use sourceTensor.clone().detach() or sourceTensor.clone().detach().requires_grad_(True), rather than torch.tensor(sourceTensor).\n",
            "\u001b[32m[I 2022-02-19 17:01:28,357]\u001b[0m Trial 26 pruned. \u001b[0m\n",
            "/usr/local/lib/python3.7/dist-packages/ipykernel_launcher.py:46: UserWarning: To copy construct from a tensor, it is recommended to use sourceTensor.clone().detach() or sourceTensor.clone().detach().requires_grad_(True), rather than torch.tensor(sourceTensor).\n",
            "\u001b[32m[I 2022-02-19 17:01:30,003]\u001b[0m Trial 27 pruned. \u001b[0m\n",
            "/usr/local/lib/python3.7/dist-packages/ipykernel_launcher.py:46: UserWarning: To copy construct from a tensor, it is recommended to use sourceTensor.clone().detach() or sourceTensor.clone().detach().requires_grad_(True), rather than torch.tensor(sourceTensor).\n",
            "\u001b[32m[I 2022-02-19 17:01:32,173]\u001b[0m Trial 28 pruned. \u001b[0m\n",
            "/usr/local/lib/python3.7/dist-packages/ipykernel_launcher.py:46: UserWarning: To copy construct from a tensor, it is recommended to use sourceTensor.clone().detach() or sourceTensor.clone().detach().requires_grad_(True), rather than torch.tensor(sourceTensor).\n",
            "\u001b[32m[I 2022-02-19 17:01:33,669]\u001b[0m Trial 29 pruned. \u001b[0m\n",
            "/usr/local/lib/python3.7/dist-packages/ipykernel_launcher.py:46: UserWarning: To copy construct from a tensor, it is recommended to use sourceTensor.clone().detach() or sourceTensor.clone().detach().requires_grad_(True), rather than torch.tensor(sourceTensor).\n",
            "\u001b[32m[I 2022-02-19 17:01:34,889]\u001b[0m Trial 30 pruned. \u001b[0m\n",
            "/usr/local/lib/python3.7/dist-packages/ipykernel_launcher.py:46: UserWarning: To copy construct from a tensor, it is recommended to use sourceTensor.clone().detach() or sourceTensor.clone().detach().requires_grad_(True), rather than torch.tensor(sourceTensor).\n",
            "\u001b[32m[I 2022-02-19 17:01:36,440]\u001b[0m Trial 31 pruned. \u001b[0m\n",
            "/usr/local/lib/python3.7/dist-packages/ipykernel_launcher.py:46: UserWarning: To copy construct from a tensor, it is recommended to use sourceTensor.clone().detach() or sourceTensor.clone().detach().requires_grad_(True), rather than torch.tensor(sourceTensor).\n",
            "\u001b[32m[I 2022-02-19 17:01:38,064]\u001b[0m Trial 32 pruned. \u001b[0m\n",
            "/usr/local/lib/python3.7/dist-packages/ipykernel_launcher.py:46: UserWarning: To copy construct from a tensor, it is recommended to use sourceTensor.clone().detach() or sourceTensor.clone().detach().requires_grad_(True), rather than torch.tensor(sourceTensor).\n",
            "\u001b[32m[I 2022-02-19 17:02:20,461]\u001b[0m Trial 33 finished with value: 0.854375 and parameters: {'n_layers': 6, 'n_units_l0': 49, 'dropout_l0': 0.4809826213989938, 'n_units_l1': 253, 'dropout_l1': 0.5969990226944539, 'n_units_l2': 44, 'dropout_l2': 0.23602481130130323, 'n_units_l3': 188, 'dropout_l3': 0.3319381392023849, 'n_units_l4': 77, 'dropout_l4': 0.40268752153808907, 'n_units_l5': 164, 'dropout_l5': 0.5028192097714494, 'optimizer': 'RMSprop', 'lr': 0.0005024930724027576}. Best is trial 22 with value: 0.8575.\u001b[0m\n",
            "/usr/local/lib/python3.7/dist-packages/ipykernel_launcher.py:46: UserWarning: To copy construct from a tensor, it is recommended to use sourceTensor.clone().detach() or sourceTensor.clone().detach().requires_grad_(True), rather than torch.tensor(sourceTensor).\n",
            "\u001b[32m[I 2022-02-19 17:02:22,046]\u001b[0m Trial 34 pruned. \u001b[0m\n",
            "/usr/local/lib/python3.7/dist-packages/ipykernel_launcher.py:46: UserWarning: To copy construct from a tensor, it is recommended to use sourceTensor.clone().detach() or sourceTensor.clone().detach().requires_grad_(True), rather than torch.tensor(sourceTensor).\n",
            "\u001b[32m[I 2022-02-19 17:03:06,249]\u001b[0m Trial 35 finished with value: 0.859375 and parameters: {'n_layers': 6, 'n_units_l0': 130, 'dropout_l0': 0.5962398353412779, 'n_units_l1': 224, 'dropout_l1': 0.43056566016115655, 'n_units_l2': 40, 'dropout_l2': 0.20931746467633816, 'n_units_l3': 140, 'dropout_l3': 0.21598451373784883, 'n_units_l4': 136, 'dropout_l4': 0.22900927956904027, 'n_units_l5': 162, 'dropout_l5': 0.24356749510358033, 'optimizer': 'RMSprop', 'lr': 0.0009295829883427843}. Best is trial 35 with value: 0.859375.\u001b[0m\n"
          ]
        },
        {
          "output_type": "stream",
          "name": "stdout",
          "text": [
            "Study statistics: \n",
            "  Number of finished trials:  36\n",
            "  Number of pruned trials:  25\n",
            "  Number of complete trials:  11\n",
            "Best trial:\n",
            "  Value:  0.859375\n",
            "  Params: \n",
            "    n_layers: 6\n",
            "    n_units_l0: 130\n",
            "    dropout_l0: 0.5962398353412779\n",
            "    n_units_l1: 224\n",
            "    dropout_l1: 0.43056566016115655\n",
            "    n_units_l2: 40\n",
            "    dropout_l2: 0.20931746467633816\n",
            "    n_units_l3: 140\n",
            "    dropout_l3: 0.21598451373784883\n",
            "    n_units_l4: 136\n",
            "    dropout_l4: 0.22900927956904027\n",
            "    n_units_l5: 162\n",
            "    dropout_l5: 0.24356749510358033\n",
            "    optimizer: RMSprop\n",
            "    lr: 0.0009295829883427843\n"
          ]
        }
      ]
    },
    {
      "cell_type": "code",
      "source": [
        "model = define_model(trial)"
      ],
      "metadata": {
        "id": "tgahjtARBRnW"
      },
      "execution_count": null,
      "outputs": []
    },
    {
      "cell_type": "code",
      "source": [
        "loss_criteria = nn.BCELoss()\n",
        "\n",
        "optimizer = torch.optim.RMSprop(model.parameters(), lr=trial.params['lr'])\n",
        "optimizer.zero_grad()\n",
        "\n",
        "# We'll track metrics for each epoch in these arrays\n",
        "epoch_nums = []\n",
        "training_loss = []\n",
        "validation_loss = []\n",
        "\n",
        "# Train over 30 epochs\n",
        "epochs = 30"
      ],
      "metadata": {
        "id": "cKcQr9kMD7t5"
      },
      "execution_count": null,
      "outputs": []
    },
    {
      "cell_type": "code",
      "source": [
        "def train(model, data_loader, optimizer):\n",
        "    '''\n",
        "    Train model through data loader and optimizer\n",
        "    Args:\n",
        "      model: model to train\n",
        "      data_loader: data loader to manage batch loading\n",
        "      optimizer: control update gradient descent\n",
        "    '''\n",
        "    # enable train mode\n",
        "    model.train()\n",
        "    train_loss = 0\n",
        "    \n",
        "    for batch, tensor in enumerate(data_loader):\n",
        "        data, target = tensor\n",
        "        # reset optimizer into zero\n",
        "        optimizer.zero_grad()\n",
        "        # feed forward to compute output and loss\n",
        "        out = model(data)\n",
        "        loss = loss_criteria(out, target)\n",
        "        # accumulate loss\n",
        "        train_loss += loss.item()\n",
        "        # compute gradient descent\n",
        "        loss.backward()\n",
        "        # update into weight\n",
        "        optimizer.step()\n",
        "\n",
        "    avg_loss = train_loss / (batch+1)\n",
        "    print('Training set: Average loss: {:.6f}'.format(avg_loss))\n",
        "    return avg_loss\n",
        "            "
      ],
      "metadata": {
        "id": "e6FgFrF5HD8L"
      },
      "execution_count": null,
      "outputs": []
    },
    {
      "cell_type": "code",
      "source": [
        "def test(model, data_loader):\n",
        "    # Switch the model to evaluation mode (so we don't backpropagate)\n",
        "    model.eval()\n",
        "    test_loss = 0\n",
        "    correct = 0\n",
        "\n",
        "    with torch.no_grad():\n",
        "        batch_count = 0\n",
        "        for batch, tensor in enumerate(data_loader):\n",
        "            batch_count += 1\n",
        "            data, target = tensor\n",
        "            # Get the predictions\n",
        "            out = model(data)\n",
        "      \n",
        "\n",
        "            # calculate the loss\n",
        "            test_loss += loss_criteria(out, target).item()\n",
        "\n",
        "            # Calculate the accuracy\n",
        "            predicted = torch.tensor(out.data >= 0.5).float()\n",
        "            correct += torch.sum(target==predicted).item()\n",
        "            \n",
        "    # Calculate the average loss and total accuracy for this epoch\n",
        "    avg_loss = test_loss/batch_count\n",
        "    print('Validation set: Average loss: {:.6f}, Accuracy: {}/{} ({:.0f}%)\\n'.format(\n",
        "        avg_loss, correct, len(data_loader.dataset),\n",
        "        100. * correct / len(data_loader.dataset)))\n",
        "    \n",
        "    # return average loss for the epoch\n",
        "    return avg_loss"
      ],
      "metadata": {
        "id": "JJ4xh26QTreR"
      },
      "execution_count": null,
      "outputs": []
    },
    {
      "cell_type": "code",
      "source": [
        "# training through epoch\n",
        "for epoch in range(1, epochs + 1):\n",
        "    # print the epoch number\n",
        "    print('Epoch: {}'.format(epoch))\n",
        "    \n",
        "    # Feed training data into the model to optimize the weights\n",
        "    train_loss = train(model, train_loader, optimizer)\n",
        "    \n",
        "    # Feed the test data into the model to check its performance\n",
        "    test_loss = test(model, test_loader)\n",
        "    \n",
        "    # Log the metrics for this epoch\n",
        "    epoch_nums.append(epoch)\n",
        "    training_loss.append(train_loss)\n",
        "    validation_loss.append(test_loss)"
      ],
      "metadata": {
        "colab": {
          "base_uri": "https://localhost:8080/"
        },
        "id": "q1ORhYz8KJ9b",
        "outputId": "04ce1fd8-e877-4cbd-c15a-950bafbfb9ec"
      },
      "execution_count": null,
      "outputs": [
        {
          "output_type": "stream",
          "name": "stdout",
          "text": [
            "Epoch: 1\n",
            "Training set: Average loss: 0.371292\n"
          ]
        },
        {
          "output_type": "stream",
          "name": "stderr",
          "text": [
            "/usr/local/lib/python3.7/dist-packages/ipykernel_launcher.py:20: UserWarning: To copy construct from a tensor, it is recommended to use sourceTensor.clone().detach() or sourceTensor.clone().detach().requires_grad_(True), rather than torch.tensor(sourceTensor).\n"
          ]
        },
        {
          "output_type": "stream",
          "name": "stdout",
          "text": [
            "Validation set: Average loss: 0.333605, Accuracy: 4251/5000 (85%)\n",
            "\n",
            "Epoch: 2\n",
            "Training set: Average loss: 0.346428\n",
            "Validation set: Average loss: 0.316668, Accuracy: 4259/5000 (85%)\n",
            "\n",
            "Epoch: 3\n",
            "Training set: Average loss: 0.337579\n",
            "Validation set: Average loss: 0.317903, Accuracy: 4267/5000 (85%)\n",
            "\n",
            "Epoch: 4\n",
            "Training set: Average loss: 0.337365\n",
            "Validation set: Average loss: 0.314058, Accuracy: 4270/5000 (85%)\n",
            "\n",
            "Epoch: 5\n",
            "Training set: Average loss: 0.336444\n",
            "Validation set: Average loss: 0.329410, Accuracy: 4270/5000 (85%)\n",
            "\n",
            "Epoch: 6\n",
            "Training set: Average loss: 0.335988\n",
            "Validation set: Average loss: 0.317533, Accuracy: 4274/5000 (85%)\n",
            "\n",
            "Epoch: 7\n",
            "Training set: Average loss: 0.332751\n",
            "Validation set: Average loss: 0.344599, Accuracy: 4269/5000 (85%)\n",
            "\n",
            "Epoch: 8\n",
            "Training set: Average loss: 0.331192\n",
            "Validation set: Average loss: 0.338554, Accuracy: 4268/5000 (85%)\n",
            "\n",
            "Epoch: 9\n",
            "Training set: Average loss: 0.331541\n",
            "Validation set: Average loss: 0.322684, Accuracy: 4287/5000 (86%)\n",
            "\n",
            "Epoch: 10\n",
            "Training set: Average loss: 0.337575\n",
            "Validation set: Average loss: 0.347361, Accuracy: 4281/5000 (86%)\n",
            "\n",
            "Epoch: 11\n",
            "Training set: Average loss: 0.351050\n",
            "Validation set: Average loss: 0.349388, Accuracy: 4274/5000 (85%)\n",
            "\n",
            "Epoch: 12\n",
            "Training set: Average loss: 0.332729\n",
            "Validation set: Average loss: 0.359579, Accuracy: 4283/5000 (86%)\n",
            "\n",
            "Epoch: 13\n",
            "Training set: Average loss: 0.331311\n",
            "Validation set: Average loss: 0.338710, Accuracy: 4291/5000 (86%)\n",
            "\n",
            "Epoch: 14\n",
            "Training set: Average loss: 0.342385\n",
            "Validation set: Average loss: 0.362667, Accuracy: 4279/5000 (86%)\n",
            "\n",
            "Epoch: 15\n",
            "Training set: Average loss: 0.337603\n",
            "Validation set: Average loss: 0.338968, Accuracy: 4282/5000 (86%)\n",
            "\n",
            "Epoch: 16\n",
            "Training set: Average loss: 0.361974\n",
            "Validation set: Average loss: 0.342470, Accuracy: 4278/5000 (86%)\n",
            "\n",
            "Epoch: 17\n",
            "Training set: Average loss: 0.367077\n",
            "Validation set: Average loss: 0.333169, Accuracy: 4277/5000 (86%)\n",
            "\n",
            "Epoch: 18\n",
            "Training set: Average loss: 0.348293\n",
            "Validation set: Average loss: 0.316141, Accuracy: 4268/5000 (85%)\n",
            "\n",
            "Epoch: 19\n",
            "Training set: Average loss: 0.366784\n",
            "Validation set: Average loss: 0.331927, Accuracy: 4274/5000 (85%)\n",
            "\n",
            "Epoch: 20\n",
            "Training set: Average loss: 0.359918\n",
            "Validation set: Average loss: 0.364481, Accuracy: 4288/5000 (86%)\n",
            "\n",
            "Epoch: 21\n",
            "Training set: Average loss: 0.369563\n",
            "Validation set: Average loss: 0.412194, Accuracy: 4287/5000 (86%)\n",
            "\n",
            "Epoch: 22\n",
            "Training set: Average loss: 0.357169\n",
            "Validation set: Average loss: 0.336193, Accuracy: 4263/5000 (85%)\n",
            "\n",
            "Epoch: 23\n",
            "Training set: Average loss: 0.348390\n",
            "Validation set: Average loss: 0.347260, Accuracy: 4214/5000 (84%)\n",
            "\n",
            "Epoch: 24\n",
            "Training set: Average loss: 0.342636\n",
            "Validation set: Average loss: 0.335749, Accuracy: 4282/5000 (86%)\n",
            "\n",
            "Epoch: 25\n",
            "Training set: Average loss: 0.372036\n",
            "Validation set: Average loss: 0.419708, Accuracy: 4297/5000 (86%)\n",
            "\n",
            "Epoch: 26\n",
            "Training set: Average loss: 0.344646\n",
            "Validation set: Average loss: 0.398112, Accuracy: 4284/5000 (86%)\n",
            "\n",
            "Epoch: 27\n",
            "Training set: Average loss: 0.387938\n",
            "Validation set: Average loss: 0.355791, Accuracy: 4280/5000 (86%)\n",
            "\n",
            "Epoch: 28\n",
            "Training set: Average loss: 0.397285\n",
            "Validation set: Average loss: 0.343806, Accuracy: 4278/5000 (86%)\n",
            "\n",
            "Epoch: 29\n",
            "Training set: Average loss: 0.402935\n",
            "Validation set: Average loss: 0.359784, Accuracy: 4284/5000 (86%)\n",
            "\n",
            "Epoch: 30\n",
            "Training set: Average loss: 0.360393\n",
            "Validation set: Average loss: 0.345196, Accuracy: 4280/5000 (86%)\n",
            "\n"
          ]
        }
      ]
    },
    {
      "cell_type": "code",
      "source": [
        "import matplotlib.pyplot as plt\n",
        "%matplotlib inline\n",
        "def _evaluate(model, x_test):\n",
        "  model.eval()\n",
        "  x = torch.Tensor(x_test).float()\n",
        "  predictions = [1 if i>0.5 else 0 for i in model(x).data]\n",
        "  predictions = torch.tensor(predictions)\n",
        "  print('Evaluation on test dataset')\n",
        "  get_metrics(y_test, predictions)\n",
        "\n",
        "  # Plot the confusion matrix\n",
        "  classes=['0','1']\n",
        "  cm = confusion_matrix(y_test, predictions.numpy())\n",
        "  plt.imshow(cm, interpolation=\"nearest\", cmap=plt.cm.Blues)\n",
        "  plt.colorbar()\n",
        "  tick_marks = np.arange(2)\n",
        "  plt.xticks(tick_marks, classes, rotation=85)\n",
        "  plt.yticks(tick_marks, classes)\n",
        "  plt.xlabel(\"Predicted\")\n",
        "  plt.ylabel(\"Actual\")\n",
        "  plt.show()\n",
        "_evaluate(model, x_test)"
      ],
      "metadata": {
        "colab": {
          "base_uri": "https://localhost:8080/",
          "height": 572
        },
        "id": "G0M_KSNqJzbK",
        "outputId": "a9b5e175-d71a-4680-ffad-54e85571e709"
      },
      "execution_count": null,
      "outputs": [
        {
          "output_type": "stream",
          "name": "stdout",
          "text": [
            "Evaluation on test dataset\n",
            "ACCURACY_SCORE:  0.856\n",
            "F1_SCORE:  0.7868\n",
            "CONFUSION_MATRIX:\n",
            " [[3564  247]\n",
            " [ 473  716]] \n",
            "\n",
            "              precision    recall  f1-score   support\n",
            "\n",
            "           0     0.8828    0.9352    0.9083      3811\n",
            "           1     0.7435    0.6022    0.6654      1189\n",
            "\n",
            "    accuracy                         0.8560      5000\n",
            "   macro avg     0.8132    0.7687    0.7868      5000\n",
            "weighted avg     0.8497    0.8560    0.8505      5000\n",
            " \n",
            "\n"
          ]
        },
        {
          "output_type": "display_data",
          "data": {
            "image/png": "[encoded data removed]",
            "text/plain": [
              "<Figure size 432x288 with 2 Axes>"
            ]
          },
          "metadata": {
            "needs_background": "light"
          }
        }
      ]
    },
    {
      "cell_type": "markdown",
      "source": [
        "#### 10. Deploy model sử dụng flask app"
      ],
      "metadata": {
        "id": "UUooHV2W9FjO"
      }
    },
    {
      "cell_type": "markdown",
      "source": [
        "B1. Đăng ký và tạo app trên heroku\n",
        "\n",
        "B2. Khởi tạo project bao gồm file app.py, 2 file model(scaler, income_model), index.html, requirements.txt, Procfile, runtime.txt\n",
        "- app.py: chứa hàm khởi chạy app và api để dự đoán\n",
        "- index.html: phần front_end call api\n",
        "- Requirements.txt: khai báo các dependencies cần thiết\n",
        "- Procfile là file thực thi của heroku khi app được lauch.\n",
        "- runtime.txt: khai báo môi trường chạy\n",
        "B3. Tạo project trên github sau đó push project vừa tạo lên\n",
        "\n",
        "B4. Kết nối app với project github\n",
        "\n",
        "B5. Cuối cùng pull code từ github về heroku và khởi chạy"
      ],
      "metadata": {
        "id": "lml69q1S95sr"
      }
    }
  ]
}