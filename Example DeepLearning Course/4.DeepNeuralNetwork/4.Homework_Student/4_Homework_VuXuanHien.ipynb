{
  "cells": [
    {
      "cell_type": "markdown",
      "metadata": {
        "id": "PDDUcokDmyX4"
      },
      "source": [
        "# I. Lý thuyết\n",
        "\n",
        "1) Tại sao các mô hình deep learning lại chiếm ưu thế hơn so với các mô hình machine learning truyền thống đối với dữ liệu lớn ?\n",
        "\n",
        "A. Do mô hình deep learning có thể được thiết kế với kích thước tùy ý nên có khả năng xấp xỉ mọi hàm số. Do đó nó có khả năng biểu diễn tốt và hoạt động hiệu quả trên dữ liệu lớn.\n",
        "\n",
        "B. Các mô hình machine learning thường bị overfitting đối với dữ liệu lớn ?\n",
        "\n",
        "C. Các mô hình deep learning có chi phí huấn luyện tốn kém hơn so với machine learning.\n",
        "\n",
        "D. Do kiến trúc của mô hình Machine Learning bao gồm nhiều layers xếp chồng.\n",
        "\n",
        "\n",
        "2) Ý nghĩa của hàm loss function trong mạng neural network là gì ?\n",
        "\n",
        "A. Là hàm số đánh giá độ chính xác của mô hình.\n",
        "\n",
        "B. Mục tiêu của quá trình huấn luyện là tối thiểu hóa hàm loss function bằng thuật toán gradient descent. Giá trị của hàm số này giúp đo lường mức độ khớp của dự báo từ mô hình trên dữ liệu huấn luyện.\n",
        "\n",
        "C. Khi loss function giảm thì luôn đảm bảo độ chính xác của mô hình tăng.\n",
        "\n",
        "D. Là hàm số cần tối đa hóa trong quá trình huấn luyện.\n",
        "\n",
        "\n",
        "3) Khi huấn luyện trên các bộ dữ liệu bigdata thì chúng ta nên sử dụng phương pháp nào ?\n",
        "\n",
        "A) Sử dụng gradient descent trên toàn bộ dữ liệu.\n",
        "\n",
        "B) Sử dụng stochastic gradient descent trên từng điểm dữ liệu.\n",
        "\n",
        "C) Mini-batch gradient descent huấn luyện mô hình trên từng tập dữ liệu con có kích thước nhỏ hơn memory CPU/GPU.\n",
        "\n",
        "D) Có thể sử dụng stochastic gradient descent hoặc mini-batch gradient descent.\n",
        "\n",
        "\n",
        "4) Quá trình feed forward và backpropagation thực hiện những gì ?\n",
        "\n",
        "A) feed forward tính toán output và loss function, backpropagation tính đạo hàm trên từng layer và cập nhật trọng số.\n",
        "\n",
        "B) feed forward cập nhật trọng số cho mô hình, backpropagation tính toán output và loss function.\n",
        "\n",
        "C) feed forward tính ra output của mô hình, backpropagation tính toán loss function\n",
        "\n",
        "D) feed forward được thực hiện sau backpropagation.\n",
        "\n",
        "5) Tác dụng của batch normalization là gì ?\n",
        "\n",
        "A) Loại bỏ một tỷ lệ ngẫu nhiên số lượng units tại mỗi layer để tạo thành nhiều kiến trúc kết hợp ngẫu nhiên.\n",
        "\n",
        "B) Tìm ra các tham số phân phối là trung bình và phương sai trên từng mini-batch.\n",
        "\n",
        "C) Đồng nhất phân phối xác suất của $z^{[l]}$ trên mỗi layer $l$.\n",
        "\n",
        "D) Giảm thiểu ảnh hưởng của input distribution shift nhằm giúp huấn luyện loss function nhanh và ổn định hơn."
      ]
    },
    {
      "cell_type": "code",
      "execution_count": null,
      "metadata": {
        "colab": {
          "base_uri": "https://localhost:8080/",
          "height": 35
        },
        "id": "nZ30j7Te1PdD",
        "outputId": "7a0f401e-6ffb-4148-d28e-20313284193b"
      },
      "outputs": [
        {
          "output_type": "execute_result",
          "data": {
            "application/vnd.google.colaboratory.intrinsic+json": {
              "type": "string"
            },
            "text/plain": [
              "'\\n    1.A\\n    2.B\\n    3.C\\n    4.A\\n    5.D\\n\\n'"
            ]
          },
          "metadata": {},
          "execution_count": 4
        }
      ],
      "source": [
        "'''\n",
        "    1.A\n",
        "    2.B\n",
        "    3.C\n",
        "    4.A\n",
        "    5.D\n",
        "\n",
        "'''"
      ]
    },
    {
      "cell_type": "markdown",
      "metadata": {
        "id": "zYoLCUgcm1Km"
      },
      "source": [
        "# II. Thực hành\n",
        "\n",
        "Xuất phát từ mô hình tốt nhất của bạn xây dựng được đối với bài toán phân loại income classification tại bài trước. Bạn hãy thực hiện một số thử nghiệm sau:\n",
        "\n",
        "6) Thay đổi hàm loss function, batch size và optimizer.\n",
        "\n",
        "7) Thử nghiệm thêm các layers mà bạn đã học được trong bài này vào kiến trúc của mình.\n",
        "\n",
        "8) Thay đổi các khởi tạo trọng số theo các phân phối khác nhau và đánh giá độ chính xác của kết quả huấn luyện.\n",
        "\n",
        "9) Thiết lập không gian search và tự động hóa tìm kiếm kiến trúc tốt nhất trên optuna.\n",
        "\n",
        "10) Deploy model sử dụng flask ap. Tham khảo [Flaskapp tutorial](https://drive.google.com/file/d/1AZNtzrmnhJ-OBgijWoaAqXbPhJ6xL0Po/view?usp=sharing)."
      ]
    },
    {
      "cell_type": "code",
      "execution_count": null,
      "metadata": {
        "colab": {
          "base_uri": "https://localhost:8080/"
        },
        "id": "wELcj4-H3CSC",
        "outputId": "7af7f6ff-ee40-4f47-d60e-f702e4b93579"
      },
      "outputs": [
        {
          "output_type": "stream",
          "name": "stdout",
          "text": [
            "Mounted at /content/drive\n"
          ]
        }
      ],
      "source": [
        "from google.colab import drive\n",
        "drive.mount('/content/drive')"
      ]
    },
    {
      "cell_type": "code",
      "execution_count": null,
      "metadata": {
        "colab": {
          "base_uri": "https://localhost:8080/"
        },
        "id": "-i7QDEeD5FEk",
        "outputId": "9c81bce1-f900-47d1-8b40-8575641b66e6"
      },
      "outputs": [
        {
          "output_type": "stream",
          "name": "stdout",
          "text": [
            "/content/drive/MyDrive/TwDS\n",
            "income_model.pth  sample_submission.csv  test.csv  train.csv\n"
          ]
        }
      ],
      "source": [
        "%cd /content/drive/MyDrive/TwDS\n",
        "!ls"
      ]
    },
    {
      "cell_type": "code",
      "execution_count": null,
      "metadata": {
        "id": "Se3_3sma4S6f"
      },
      "outputs": [],
      "source": [
        "import torch.nn as nn\n",
        "import torch\n",
        "\n",
        "import matplotlib.pyplot as plt\n",
        "from matplotlib import pyplot\n",
        "import numpy as np\n",
        "import random\n",
        "import pandas as pd\n",
        "import re\n",
        "from sklearn.preprocessing import LabelEncoder\n",
        "from sklearn.preprocessing import StandardScaler\n",
        "from sklearn.model_selection import train_test_split\n",
        "from sklearn.metrics import accuracy_score, f1_score, roc_auc_score, confusion_matrix, classification_report"
      ]
    },
    {
      "cell_type": "code",
      "execution_count": null,
      "metadata": {
        "id": "ZkrDtuWXPrfp"
      },
      "outputs": [],
      "source": [
        "#metric\n",
        "def get_metrics(y_test, y_pred):\n",
        "    print('ACCURACY_SCORE: ', round(accuracy_score(y_test, y_pred), 4))\n",
        "    print('F1_SCORE: ', round(f1_score(y_test, y_pred, average='macro'), 4))\n",
        "    print('CONFUSION_MATRIX:\\n', confusion_matrix(y_test, y_pred),'\\n')\n",
        "    print(classification_report(y_test, y_pred, digits=4), '\\n')"
      ]
    },
    {
      "cell_type": "code",
      "execution_count": null,
      "metadata": {
        "colab": {
          "base_uri": "https://localhost:8080/",
          "height": 357
        },
        "id": "GZVowm104THE",
        "outputId": "88e2e698-e1cb-443e-f960-c72e512fa792"
      },
      "outputs": [
        {
          "output_type": "execute_result",
          "data": {
            "text/html": [
              "\n",
              "  <div id=\"df-2d08b1eb-f331-4e8f-9636-19519ebe0099\">\n",
              "    <div class=\"colab-df-container\">\n",
              "      <div>\n",
              "<style scoped>\n",
              "    .dataframe tbody tr th:only-of-type {\n",
              "        vertical-align: middle;\n",
              "    }\n",
              "\n",
              "    .dataframe tbody tr th {\n",
              "        vertical-align: top;\n",
              "    }\n",
              "\n",
              "    .dataframe thead th {\n",
              "        text-align: right;\n",
              "    }\n",
              "</style>\n",
              "<table border=\"1\" class=\"dataframe\">\n",
              "  <thead>\n",
              "    <tr style=\"text-align: right;\">\n",
              "      <th></th>\n",
              "      <th>ID</th>\n",
              "      <th>age</th>\n",
              "      <th>work_type</th>\n",
              "      <th>final_weight</th>\n",
              "      <th>education</th>\n",
              "      <th>total_education_yrs</th>\n",
              "      <th>marital_state</th>\n",
              "      <th>job</th>\n",
              "      <th>status</th>\n",
              "      <th>ethnicity</th>\n",
              "      <th>sex</th>\n",
              "      <th>capital_gain</th>\n",
              "      <th>capital_loss</th>\n",
              "      <th>hrs_per_week</th>\n",
              "      <th>nationality</th>\n",
              "      <th>target_income</th>\n",
              "    </tr>\n",
              "  </thead>\n",
              "  <tbody>\n",
              "    <tr>\n",
              "      <th>0</th>\n",
              "      <td>0</td>\n",
              "      <td>45</td>\n",
              "      <td>Private</td>\n",
              "      <td>175925</td>\n",
              "      <td>HS-grad</td>\n",
              "      <td>9</td>\n",
              "      <td>Married-civ-spouse</td>\n",
              "      <td>Craft-repair</td>\n",
              "      <td>Husband</td>\n",
              "      <td>White</td>\n",
              "      <td>M</td>\n",
              "      <td>0</td>\n",
              "      <td>0</td>\n",
              "      <td>40</td>\n",
              "      <td>US</td>\n",
              "      <td>0</td>\n",
              "    </tr>\n",
              "    <tr>\n",
              "      <th>1</th>\n",
              "      <td>1</td>\n",
              "      <td>23</td>\n",
              "      <td>Private</td>\n",
              "      <td>113601</td>\n",
              "      <td>Some-college</td>\n",
              "      <td>10</td>\n",
              "      <td>Never-married</td>\n",
              "      <td>Handlers-cleaners</td>\n",
              "      <td>Own-child</td>\n",
              "      <td>White</td>\n",
              "      <td>M</td>\n",
              "      <td>0</td>\n",
              "      <td>0</td>\n",
              "      <td>30</td>\n",
              "      <td>US</td>\n",
              "      <td>0</td>\n",
              "    </tr>\n",
              "    <tr>\n",
              "      <th>2</th>\n",
              "      <td>2</td>\n",
              "      <td>22</td>\n",
              "      <td>Private</td>\n",
              "      <td>112137</td>\n",
              "      <td>Some-college</td>\n",
              "      <td>10</td>\n",
              "      <td>Never-married</td>\n",
              "      <td>Prof-specialty</td>\n",
              "      <td>Other-relative</td>\n",
              "      <td>Asian-Pac-Islander</td>\n",
              "      <td>F</td>\n",
              "      <td>0</td>\n",
              "      <td>0</td>\n",
              "      <td>20</td>\n",
              "      <td>South</td>\n",
              "      <td>0</td>\n",
              "    </tr>\n",
              "    <tr>\n",
              "      <th>3</th>\n",
              "      <td>3</td>\n",
              "      <td>27</td>\n",
              "      <td>Private</td>\n",
              "      <td>153078</td>\n",
              "      <td>Prof-school</td>\n",
              "      <td>15</td>\n",
              "      <td>Never-married</td>\n",
              "      <td>Prof-specialty</td>\n",
              "      <td>Own-child</td>\n",
              "      <td>Asian-Pac-Islander</td>\n",
              "      <td>M</td>\n",
              "      <td>0</td>\n",
              "      <td>0</td>\n",
              "      <td>40</td>\n",
              "      <td>US</td>\n",
              "      <td>0</td>\n",
              "    </tr>\n",
              "    <tr>\n",
              "      <th>4</th>\n",
              "      <td>4</td>\n",
              "      <td>18</td>\n",
              "      <td>Private</td>\n",
              "      <td>375515</td>\n",
              "      <td>11th</td>\n",
              "      <td>7</td>\n",
              "      <td>Never-married</td>\n",
              "      <td>Sales</td>\n",
              "      <td>Own-child</td>\n",
              "      <td>White</td>\n",
              "      <td>F</td>\n",
              "      <td>0</td>\n",
              "      <td>0</td>\n",
              "      <td>20</td>\n",
              "      <td>US</td>\n",
              "      <td>0</td>\n",
              "    </tr>\n",
              "  </tbody>\n",
              "</table>\n",
              "</div>\n",
              "      <button class=\"colab-df-convert\" onclick=\"convertToInteractive('df-2d08b1eb-f331-4e8f-9636-19519ebe0099')\"\n",
              "              title=\"Convert this dataframe to an interactive table.\"\n",
              "              style=\"display:none;\">\n",
              "        \n",
              "  <svg xmlns=\"http://www.w3.org/2000/svg\" height=\"24px\"viewBox=\"0 0 24 24\"\n",
              "       width=\"24px\">\n",
              "    <path d=\"M0 0h24v24H0V0z\" fill=\"none\"/>\n",
              "    <path d=\"M18.56 5.44l.94 2.06.94-2.06 2.06-.94-2.06-.94-.94-2.06-.94 2.06-2.06.94zm-11 1L8.5 8.5l.94-2.06 2.06-.94-2.06-.94L8.5 2.5l-.94 2.06-2.06.94zm10 10l.94 2.06.94-2.06 2.06-.94-2.06-.94-.94-2.06-.94 2.06-2.06.94z\"/><path d=\"M17.41 7.96l-1.37-1.37c-.4-.4-.92-.59-1.43-.59-.52 0-1.04.2-1.43.59L10.3 9.45l-7.72 7.72c-.78.78-.78 2.05 0 2.83L4 21.41c.39.39.9.59 1.41.59.51 0 1.02-.2 1.41-.59l7.78-7.78 2.81-2.81c.8-.78.8-2.07 0-2.86zM5.41 20L4 18.59l7.72-7.72 1.47 1.35L5.41 20z\"/>\n",
              "  </svg>\n",
              "      </button>\n",
              "      \n",
              "  <style>\n",
              "    .colab-df-container {\n",
              "      display:flex;\n",
              "      flex-wrap:wrap;\n",
              "      gap: 12px;\n",
              "    }\n",
              "\n",
              "    .colab-df-convert {\n",
              "      background-color: #E8F0FE;\n",
              "      border: none;\n",
              "      border-radius: 50%;\n",
              "      cursor: pointer;\n",
              "      display: none;\n",
              "      fill: #1967D2;\n",
              "      height: 32px;\n",
              "      padding: 0 0 0 0;\n",
              "      width: 32px;\n",
              "    }\n",
              "\n",
              "    .colab-df-convert:hover {\n",
              "      background-color: #E2EBFA;\n",
              "      box-shadow: 0px 1px 2px rgba(60, 64, 67, 0.3), 0px 1px 3px 1px rgba(60, 64, 67, 0.15);\n",
              "      fill: #174EA6;\n",
              "    }\n",
              "\n",
              "    [theme=dark] .colab-df-convert {\n",
              "      background-color: #3B4455;\n",
              "      fill: #D2E3FC;\n",
              "    }\n",
              "\n",
              "    [theme=dark] .colab-df-convert:hover {\n",
              "      background-color: #434B5C;\n",
              "      box-shadow: 0px 1px 3px 1px rgba(0, 0, 0, 0.15);\n",
              "      filter: drop-shadow(0px 1px 2px rgba(0, 0, 0, 0.3));\n",
              "      fill: #FFFFFF;\n",
              "    }\n",
              "  </style>\n",
              "\n",
              "      <script>\n",
              "        const buttonEl =\n",
              "          document.querySelector('#df-2d08b1eb-f331-4e8f-9636-19519ebe0099 button.colab-df-convert');\n",
              "        buttonEl.style.display =\n",
              "          google.colab.kernel.accessAllowed ? 'block' : 'none';\n",
              "\n",
              "        async function convertToInteractive(key) {\n",
              "          const element = document.querySelector('#df-2d08b1eb-f331-4e8f-9636-19519ebe0099');\n",
              "          const dataTable =\n",
              "            await google.colab.kernel.invokeFunction('convertToInteractive',\n",
              "                                                     [key], {});\n",
              "          if (!dataTable) return;\n",
              "\n",
              "          const docLinkHtml = 'Like what you see? Visit the ' +\n",
              "            '<a target=\"_blank\" href=https://colab.research.google.com/notebooks/data_table.ipynb>data table notebook</a>'\n",
              "            + ' to learn more about interactive tables.';\n",
              "          element.innerHTML = '';\n",
              "          dataTable['output_type'] = 'display_data';\n",
              "          await google.colab.output.renderOutput(dataTable, element);\n",
              "          const docLink = document.createElement('div');\n",
              "          docLink.innerHTML = docLinkHtml;\n",
              "          element.appendChild(docLink);\n",
              "        }\n",
              "      </script>\n",
              "    </div>\n",
              "  </div>\n",
              "  "
            ],
            "text/plain": [
              "   ID  age work_type  ...  hrs_per_week nationality  target_income\n",
              "0   0   45   Private  ...            40          US              0\n",
              "1   1   23   Private  ...            30          US              0\n",
              "2   2   22   Private  ...            20       South              0\n",
              "3   3   27   Private  ...            40          US              0\n",
              "4   4   18   Private  ...            20          US              0\n",
              "\n",
              "[5 rows x 16 columns]"
            ]
          },
          "metadata": {},
          "execution_count": 9
        }
      ],
      "source": [
        "df = pd.read_csv('train.csv')\n",
        "df.head()"
      ]
    },
    {
      "cell_type": "code",
      "execution_count": null,
      "metadata": {
        "colab": {
          "base_uri": "https://localhost:8080/"
        },
        "id": "BUEcD4wl5O1q",
        "outputId": "896d8895-3f60-4acc-9243-eeb56285a703"
      },
      "outputs": [
        {
          "output_type": "stream",
          "name": "stdout",
          "text": [
            "<class 'pandas.core.frame.DataFrame'>\n",
            "RangeIndex: 25000 entries, 0 to 24999\n",
            "Data columns (total 16 columns):\n",
            " #   Column               Non-Null Count  Dtype \n",
            "---  ------               --------------  ----- \n",
            " 0   ID                   25000 non-null  int64 \n",
            " 1   age                  25000 non-null  int64 \n",
            " 2   work_type            25000 non-null  object\n",
            " 3   final_weight         25000 non-null  int64 \n",
            " 4   education            25000 non-null  object\n",
            " 5   total_education_yrs  25000 non-null  int64 \n",
            " 6   marital_state        25000 non-null  object\n",
            " 7   job                  25000 non-null  object\n",
            " 8   status               25000 non-null  object\n",
            " 9   ethnicity            25000 non-null  object\n",
            " 10  sex                  25000 non-null  object\n",
            " 11  capital_gain         25000 non-null  int64 \n",
            " 12  capital_loss         25000 non-null  int64 \n",
            " 13  hrs_per_week         25000 non-null  int64 \n",
            " 14  nationality          25000 non-null  object\n",
            " 15  target_income        25000 non-null  int64 \n",
            "dtypes: int64(8), object(8)\n",
            "memory usage: 3.1+ MB\n"
          ]
        }
      ],
      "source": [
        "df.info()"
      ]
    },
    {
      "cell_type": "code",
      "execution_count": null,
      "metadata": {
        "colab": {
          "base_uri": "https://localhost:8080/",
          "height": 642
        },
        "id": "TjWDE5Nf5el4",
        "outputId": "7314eb7a-a769-43ee-e3c3-e67d3b148775"
      },
      "outputs": [
        {
          "output_type": "stream",
          "name": "stderr",
          "text": [
            "/usr/local/lib/python3.7/dist-packages/ipykernel_launcher.py:5: UserWarning: To output multiple subplots, the figure containing the passed axes is being cleared\n",
            "  \"\"\"\n"
          ]
        },
        {
          "output_type": "display_data",
          "data": {
            "image/png": "[encoded data removed]",
            "text/plain": [
              "<Figure size 720x720 with 6 Axes>"
            ]
          },
          "metadata": {
            "needs_background": "light"
          }
        }
      ],
      "source": [
        "sec = ['age', 'final_weight', 'total_education_yrs', 'capital_gain', 'capital_loss', 'hrs_per_week']\n",
        "\n",
        "fig = plt.figure(figsize = (10,10))\n",
        "ax = fig.gca()\n",
        "df[sec].hist(ax=ax)\n",
        "plt.show()"
      ]
    },
    {
      "cell_type": "code",
      "execution_count": null,
      "metadata": {
        "colab": {
          "base_uri": "https://localhost:8080/",
          "height": 514
        },
        "id": "8XqoqnsC7GY_",
        "outputId": "4e339399-3254-4664-ec57-dde492fe5b55"
      },
      "outputs": [
        {
          "output_type": "stream",
          "name": "stderr",
          "text": [
            "/usr/local/lib/python3.7/dist-packages/pandas/plotting/_matplotlib/__init__.py:71: UserWarning: To output multiple subplots, the figure containing the passed axes is being cleared\n",
            "  plot_obj.generate()\n"
          ]
        },
        {
          "output_type": "display_data",
          "data": {
            "image/png": "[encoded data removed]",
            "text/plain": [
              "<Figure size 864x864 with 9 Axes>"
            ]
          },
          "metadata": {
            "needs_background": "light"
          }
        }
      ],
      "source": [
        "fig = plt.figure(figsize = (12,12))\n",
        "ax = fig.gca()\n",
        "df[sec].plot(kind='box', subplots=True, layout=(3,3), sharex=False, sharey=False, fontsize=8, ax=ax)\n",
        "plt.show()"
      ]
    },
    {
      "cell_type": "code",
      "execution_count": null,
      "metadata": {
        "id": "DmfnL6Jd-DPC"
      },
      "outputs": [],
      "source": [
        "# Remove some outlier\n",
        "\n",
        "# df = df[df['final_weight'] < 0.5]\n",
        "df = df[df['capital_gain'] < 20000]\n",
        "df = df[df['capital_loss'] < 2000]\n",
        "df.shape\n",
        "df.reset_index(inplace=True)"
      ]
    },
    {
      "cell_type": "code",
      "execution_count": null,
      "metadata": {
        "id": "4nSmSxO4OlRo"
      },
      "outputs": [],
      "source": [
        "# Drop NaN value\n",
        "\n",
        "df['work_type'] = df['work_type'].replace('?', np.nan)\n",
        "df['job'] = df['job'].replace('?', np.nan)\n",
        "df = df[df['work_type'].notna()]\n",
        "df = df[df['job'].notna()]"
      ]
    },
    {
      "cell_type": "code",
      "execution_count": null,
      "metadata": {
        "id": "CB1UL4DGVma5"
      },
      "outputs": [],
      "source": [
        "ed = ['work_type', 'education', 'marital_state', 'job', 'status', 'ethnicity', 'nationality', 'sex']\n",
        "\n",
        "df = pd.get_dummies(df, columns=ed)"
      ]
    },
    {
      "cell_type": "code",
      "execution_count": null,
      "metadata": {
        "colab": {
          "base_uri": "https://localhost:8080/"
        },
        "id": "DNwmlHQaV7_R",
        "outputId": "ab79c7dd-b4d2-49a0-e916-76d6e410a7e0"
      },
      "outputs": [
        {
          "output_type": "stream",
          "name": "stdout",
          "text": [
            "X train shape:  (18555, 105)\n",
            "y train shape:  (18555, 1)\n"
          ]
        }
      ],
      "source": [
        "from sklearn.model_selection import train_test_split\n",
        "\n",
        "X = df.drop(['ID', 'target_income'], axis=1)\n",
        "y = df[['target_income']]\n",
        "\n",
        "x_train, x_test, y_train, y_test = train_test_split(X.values, y.values, \n",
        "                                                    test_size=0.20, \n",
        "                                                    random_state=42)\n",
        "#normalize\n",
        "sc = StandardScaler()\n",
        "x_train = sc.fit_transform(x_train)\n",
        "x_test = sc.transform(x_test)\n",
        "\n",
        "print('X train shape: ', x_train.shape)\n",
        "print('y train shape: ', y_train.shape)"
      ]
    },
    {
      "cell_type": "code",
      "execution_count": null,
      "metadata": {
        "colab": {
          "base_uri": "https://localhost:8080/"
        },
        "id": "mMTYcbPYWFpL",
        "outputId": "777874ab-d2cb-422d-8d02-ef2f3f66a34d"
      },
      "outputs": [
        {
          "output_type": "stream",
          "name": "stdout",
          "text": [
            "Libraries imported - ready to use PyTorch 1.10.0+cu111\n"
          ]
        }
      ],
      "source": [
        "import torch\n",
        "import torch.nn as nn\n",
        "import torch.utils.data as td\n",
        "from sklearn.preprocessing import StandardScaler\n",
        "\n",
        "# Set random seed for reproducability\n",
        "torch.manual_seed(0)\n",
        "\n",
        "print(\"Libraries imported - ready to use PyTorch\", torch.__version__)"
      ]
    },
    {
      "cell_type": "code",
      "execution_count": null,
      "metadata": {
        "colab": {
          "base_uri": "https://localhost:8080/"
        },
        "id": "0qoN7w4gWIBb",
        "outputId": "53ee8ae8-827e-4bd4-fc58-e832bc4f9804"
      },
      "outputs": [
        {
          "output_type": "stream",
          "name": "stdout",
          "text": [
            "Ready to load data\n"
          ]
        }
      ],
      "source": [
        "# Create a dataset and loader for the training data and labels\n",
        "train_x = torch.Tensor(x_train).float()\n",
        "train_y = torch.Tensor(y_train).view(-1, 1).float()\n",
        "train_ds = td.TensorDataset(train_x,train_y)\n",
        "train_loader = td.DataLoader(train_ds, batch_size=32,\n",
        "    shuffle=True, num_workers=1)\n",
        "\n",
        "# Create a dataset and loader for the test data and labels\n",
        "test_x = torch.Tensor(x_test).float()\n",
        "test_y = torch.Tensor(y_test).view(-1, 1).float()\n",
        "test_ds = td.TensorDataset(test_x,test_y)\n",
        "test_loader = td.DataLoader(test_ds, batch_size=32,\n",
        "    shuffle=False, num_workers=1)\n",
        "print('Ready to load data')"
      ]
    },
    {
      "cell_type": "code",
      "execution_count": null,
      "metadata": {
        "colab": {
          "base_uri": "https://localhost:8080/"
        },
        "id": "Lk-z0r7KWJRd",
        "outputId": "02834bab-f42f-45b3-cfab-9ad7271c6136"
      },
      "outputs": [
        {
          "output_type": "stream",
          "name": "stdout",
          "text": [
            "IncomeNet(\n",
            "  (fc1): Linear(in_features=105, out_features=64, bias=True)\n",
            "  (bn1): BatchNorm1d(64, eps=1e-05, momentum=0.1, affine=True, track_running_stats=True)\n",
            "  (dropout1): Dropout(p=0.25, inplace=False)\n",
            "  (fc2): Linear(in_features=64, out_features=32, bias=True)\n",
            "  (bn2): BatchNorm1d(32, eps=1e-05, momentum=0.1, affine=True, track_running_stats=True)\n",
            "  (dropout2): Dropout(p=0.25, inplace=False)\n",
            "  (fc3): Linear(in_features=32, out_features=16, bias=True)\n",
            "  (bn3): BatchNorm1d(16, eps=1e-05, momentum=0.1, affine=True, track_running_stats=True)\n",
            "  (dropout3): Dropout(p=0.25, inplace=False)\n",
            "  (fc4): Linear(in_features=16, out_features=1, bias=True)\n",
            ")\n"
          ]
        }
      ],
      "source": [
        "# Define the neural network\n",
        "class IncomeNet(nn.Module):\n",
        "    def __init__(self):\n",
        "        super(IncomeNet, self).__init__()\n",
        "        self.fc1 = nn.Linear(105, 64)\n",
        "        self.bn1 = nn.BatchNorm1d(64)\n",
        "        self.dropout1=nn.Dropout(0.25)\n",
        "\n",
        "        self.fc2 = nn.Linear(64, 32)\n",
        "        self.bn2 = nn.BatchNorm1d(32)\n",
        "        self.dropout2=nn.Dropout(0.25)\n",
        "\n",
        "        self.fc3 = nn.Linear(32, 16)\n",
        "        self.bn3 = nn.BatchNorm1d(16)\n",
        "        self.dropout3=nn.Dropout(0.25)\n",
        "\n",
        "        self.fc4 = nn.Linear(16, 1)\n",
        "\n",
        "    def forward(self, x):\n",
        "        x = torch.relu(self.fc1(x))\n",
        "        x = torch.relu(self.bn1(x))\n",
        "        x = self.dropout1(x)\n",
        "\n",
        "        x = torch.relu(self.fc2(x))\n",
        "        x = torch.relu(self.bn2(x))\n",
        "        x = self.dropout2(x)\n",
        "\n",
        "        x = torch.relu(self.fc3(x))\n",
        "        x = torch.relu(self.bn3(x))\n",
        "        x = self.dropout3(x)\n",
        "\n",
        "        x = torch.sigmoid(self.fc4(x))\n",
        "        return x\n",
        "\n",
        "# Create a model instance from the network\n",
        "model = IncomeNet()\n",
        "print(model)"
      ]
    },
    {
      "cell_type": "code",
      "execution_count": null,
      "metadata": {
        "id": "RhYqfT1ZWbfh"
      },
      "outputs": [],
      "source": [
        "def train(model, data_loader, optimizer):\n",
        "    # Set the model to training mode\n",
        "    model.train()\n",
        "    train_loss = 0\n",
        "    \n",
        "    for batch, tensor in enumerate(data_loader):\n",
        "        data, target = tensor\n",
        "        #feedforward: calculate y_pred and loss function\n",
        "        optimizer.zero_grad()\n",
        "        out = model(data)\n",
        "\n",
        "        loss = loss_criteria(out, target)\n",
        "        train_loss += loss.item()\n",
        "\n",
        "        # backpropagate: compute gradient descent and update weights\n",
        "        loss.backward()\n",
        "        optimizer.step()\n",
        "\n",
        "    #Return average loss\n",
        "    avg_loss = train_loss / (batch+1)\n",
        "    print('Training set: Average loss: {:.6f}'.format(avg_loss))\n",
        "    return avg_loss\n",
        "           \n",
        "            \n",
        "def test(model, data_loader):\n",
        "    # Switch the model to evaluation mode (so we don't backpropagate)\n",
        "    model.eval()\n",
        "    test_loss = 0\n",
        "    correct = 0\n",
        "\n",
        "    with torch.no_grad():\n",
        "        batch_count = 0\n",
        "        for batch, tensor in enumerate(data_loader):\n",
        "            batch_count += 1\n",
        "            data, target = tensor\n",
        "            # Get the predictions\n",
        "            out = model(data)\n",
        "\n",
        "            # calculate the loss\n",
        "            test_loss += loss_criteria(out, target).item()\n",
        "\n",
        "            # Calculate the accuracy\n",
        "            predicted = (out.data > 0.5)\n",
        "            predicted = predicted.reshape(-1,1)\n",
        "            correct += torch.sum(target==predicted).item()\n",
        "            \n",
        "    # Calculate the average loss and total accuracy for this epoch\n",
        "    avg_loss = test_loss/batch_count\n",
        "    print('Validation set: Average loss: {:.6f}, Accuracy: {}/{} ({:.0f}%)\\n'.format(\n",
        "        avg_loss, correct, len(data_loader.dataset),\n",
        "        100. * correct / len(data_loader.dataset)))\n",
        "    \n",
        "    # return average loss for the epoch\n",
        "    return avg_loss"
      ]
    },
    {
      "cell_type": "code",
      "execution_count": null,
      "metadata": {
        "colab": {
          "base_uri": "https://localhost:8080/"
        },
        "id": "4jVHPBjvWkcA",
        "outputId": "eb2866c9-59b6-4543-abba-e06278fb04de"
      },
      "outputs": [
        {
          "output_type": "stream",
          "name": "stdout",
          "text": [
            "Epoch: 1\n",
            "Training set: Average loss: 0.775394\n",
            "Validation set: Average loss: 0.690274, Accuracy: 2100/4639 (45%)\n",
            "\n",
            "Epoch: 2\n",
            "Training set: Average loss: 0.651510\n",
            "Validation set: Average loss: 0.647678, Accuracy: 3550/4639 (77%)\n",
            "\n",
            "Epoch: 3\n",
            "Training set: Average loss: 0.605740\n",
            "Validation set: Average loss: 0.616929, Accuracy: 3555/4639 (77%)\n",
            "\n",
            "Epoch: 4\n",
            "Training set: Average loss: 0.578909\n",
            "Validation set: Average loss: 0.601841, Accuracy: 3555/4639 (77%)\n",
            "\n",
            "Epoch: 5\n",
            "Training set: Average loss: 0.557427\n",
            "Validation set: Average loss: 0.589443, Accuracy: 3555/4639 (77%)\n",
            "\n",
            "Epoch: 6\n",
            "Training set: Average loss: 0.539851\n",
            "Validation set: Average loss: 0.570041, Accuracy: 3555/4639 (77%)\n",
            "\n",
            "Epoch: 7\n",
            "Training set: Average loss: 0.529280\n",
            "Validation set: Average loss: 0.558093, Accuracy: 3554/4639 (77%)\n",
            "\n",
            "Epoch: 8\n",
            "Training set: Average loss: 0.515864\n",
            "Validation set: Average loss: 0.545694, Accuracy: 3555/4639 (77%)\n",
            "\n",
            "Epoch: 9\n",
            "Training set: Average loss: 0.502900\n",
            "Validation set: Average loss: 0.542726, Accuracy: 3555/4639 (77%)\n",
            "\n",
            "Epoch: 10\n",
            "Training set: Average loss: 0.492950\n",
            "Validation set: Average loss: 0.525753, Accuracy: 3554/4639 (77%)\n",
            "\n",
            "Epoch: 11\n",
            "Training set: Average loss: 0.482706\n",
            "Validation set: Average loss: 0.524231, Accuracy: 3556/4639 (77%)\n",
            "\n",
            "Epoch: 12\n",
            "Training set: Average loss: 0.476573\n",
            "Validation set: Average loss: 0.502886, Accuracy: 3559/4639 (77%)\n",
            "\n",
            "Epoch: 13\n",
            "Training set: Average loss: 0.468862\n",
            "Validation set: Average loss: 0.501134, Accuracy: 3572/4639 (77%)\n",
            "\n",
            "Epoch: 14\n",
            "Training set: Average loss: 0.462923\n",
            "Validation set: Average loss: 0.506565, Accuracy: 3571/4639 (77%)\n",
            "\n",
            "Epoch: 15\n",
            "Training set: Average loss: 0.457972\n",
            "Validation set: Average loss: 0.486886, Accuracy: 3582/4639 (77%)\n",
            "\n",
            "Epoch: 16\n",
            "Training set: Average loss: 0.450060\n",
            "Validation set: Average loss: 0.478452, Accuracy: 3632/4639 (78%)\n",
            "\n",
            "Epoch: 17\n",
            "Training set: Average loss: 0.446881\n",
            "Validation set: Average loss: 0.479343, Accuracy: 3642/4639 (79%)\n",
            "\n",
            "Epoch: 18\n",
            "Training set: Average loss: 0.439883\n",
            "Validation set: Average loss: 0.464850, Accuracy: 3648/4639 (79%)\n",
            "\n",
            "Epoch: 19\n",
            "Training set: Average loss: 0.433534\n",
            "Validation set: Average loss: 0.463176, Accuracy: 3650/4639 (79%)\n",
            "\n",
            "Epoch: 20\n",
            "Training set: Average loss: 0.427510\n",
            "Validation set: Average loss: 0.468035, Accuracy: 3680/4639 (79%)\n",
            "\n",
            "Epoch: 21\n",
            "Training set: Average loss: 0.424529\n",
            "Validation set: Average loss: 0.451679, Accuracy: 3708/4639 (80%)\n",
            "\n",
            "Epoch: 22\n",
            "Training set: Average loss: 0.420121\n",
            "Validation set: Average loss: 0.452967, Accuracy: 3712/4639 (80%)\n",
            "\n",
            "Epoch: 23\n",
            "Training set: Average loss: 0.415978\n",
            "Validation set: Average loss: 0.429112, Accuracy: 3716/4639 (80%)\n",
            "\n",
            "Epoch: 24\n",
            "Training set: Average loss: 0.411927\n",
            "Validation set: Average loss: 0.438847, Accuracy: 3732/4639 (80%)\n",
            "\n",
            "Epoch: 25\n",
            "Training set: Average loss: 0.408881\n",
            "Validation set: Average loss: 0.428175, Accuracy: 3737/4639 (81%)\n",
            "\n",
            "Epoch: 26\n",
            "Training set: Average loss: 0.405769\n",
            "Validation set: Average loss: 0.425604, Accuracy: 3776/4639 (81%)\n",
            "\n",
            "Epoch: 27\n",
            "Training set: Average loss: 0.402743\n",
            "Validation set: Average loss: 0.416870, Accuracy: 3751/4639 (81%)\n",
            "\n",
            "Epoch: 28\n",
            "Training set: Average loss: 0.399534\n",
            "Validation set: Average loss: 0.423735, Accuracy: 3763/4639 (81%)\n",
            "\n",
            "Epoch: 29\n",
            "Training set: Average loss: 0.398656\n",
            "Validation set: Average loss: 0.413938, Accuracy: 3775/4639 (81%)\n",
            "\n",
            "Epoch: 30\n",
            "Training set: Average loss: 0.397177\n",
            "Validation set: Average loss: 0.413041, Accuracy: 3777/4639 (81%)\n",
            "\n",
            "Epoch: 31\n",
            "Training set: Average loss: 0.392850\n",
            "Validation set: Average loss: 0.406051, Accuracy: 3847/4639 (83%)\n",
            "\n",
            "Epoch: 32\n",
            "Training set: Average loss: 0.391335\n",
            "Validation set: Average loss: 0.401287, Accuracy: 3823/4639 (82%)\n",
            "\n",
            "Epoch: 33\n",
            "Training set: Average loss: 0.391825\n",
            "Validation set: Average loss: 0.400630, Accuracy: 3812/4639 (82%)\n",
            "\n",
            "Epoch: 34\n",
            "Training set: Average loss: 0.391425\n",
            "Validation set: Average loss: 0.402176, Accuracy: 3836/4639 (83%)\n",
            "\n",
            "Epoch: 35\n",
            "Training set: Average loss: 0.388824\n",
            "Validation set: Average loss: 0.400913, Accuracy: 3881/4639 (84%)\n",
            "\n",
            "Epoch: 36\n",
            "Training set: Average loss: 0.384077\n",
            "Validation set: Average loss: 0.403604, Accuracy: 3850/4639 (83%)\n",
            "\n",
            "Epoch: 37\n",
            "Training set: Average loss: 0.384481\n",
            "Validation set: Average loss: 0.387569, Accuracy: 3830/4639 (83%)\n",
            "\n",
            "Epoch: 38\n",
            "Training set: Average loss: 0.384846\n",
            "Validation set: Average loss: 0.380319, Accuracy: 3884/4639 (84%)\n",
            "\n",
            "Epoch: 39\n",
            "Training set: Average loss: 0.380325\n",
            "Validation set: Average loss: 0.383764, Accuracy: 3890/4639 (84%)\n",
            "\n",
            "Epoch: 40\n",
            "Training set: Average loss: 0.382362\n",
            "Validation set: Average loss: 0.390901, Accuracy: 3839/4639 (83%)\n",
            "\n",
            "Epoch: 41\n",
            "Training set: Average loss: 0.378170\n",
            "Validation set: Average loss: 0.382415, Accuracy: 3882/4639 (84%)\n",
            "\n",
            "Epoch: 42\n",
            "Training set: Average loss: 0.379499\n",
            "Validation set: Average loss: 0.394915, Accuracy: 3880/4639 (84%)\n",
            "\n",
            "Epoch: 43\n",
            "Training set: Average loss: 0.374190\n",
            "Validation set: Average loss: 0.377158, Accuracy: 3912/4639 (84%)\n",
            "\n",
            "Epoch: 44\n",
            "Training set: Average loss: 0.378187\n",
            "Validation set: Average loss: 0.386183, Accuracy: 3835/4639 (83%)\n",
            "\n",
            "Epoch: 45\n",
            "Training set: Average loss: 0.375395\n",
            "Validation set: Average loss: 0.380331, Accuracy: 3886/4639 (84%)\n",
            "\n",
            "Epoch: 46\n",
            "Training set: Average loss: 0.375433\n",
            "Validation set: Average loss: 0.380867, Accuracy: 3905/4639 (84%)\n",
            "\n",
            "Epoch: 47\n",
            "Training set: Average loss: 0.375367\n",
            "Validation set: Average loss: 0.376868, Accuracy: 3908/4639 (84%)\n",
            "\n",
            "Epoch: 48\n",
            "Training set: Average loss: 0.375226\n",
            "Validation set: Average loss: 0.375699, Accuracy: 3896/4639 (84%)\n",
            "\n",
            "Epoch: 49\n",
            "Training set: Average loss: 0.370256\n",
            "Validation set: Average loss: 0.367038, Accuracy: 3911/4639 (84%)\n",
            "\n",
            "Epoch: 50\n",
            "Training set: Average loss: 0.370898\n",
            "Validation set: Average loss: 0.371923, Accuracy: 3904/4639 (84%)\n",
            "\n"
          ]
        }
      ],
      "source": [
        "loss_criteria = nn.BCELoss()\n",
        "\n",
        "learning_rate = 0.001\n",
        "optimizer = torch.optim.SGD(model.parameters(), lr=learning_rate)\n",
        "optimizer.zero_grad()\n",
        "\n",
        "# We'll track metrics for each epoch in these arrays\n",
        "epoch_nums = []\n",
        "training_loss = []\n",
        "validation_loss = []\n",
        "\n",
        "# Train over 50 epochs\n",
        "epochs = 50\n",
        "for epoch in range(1, epochs + 1):\n",
        "\n",
        "    # print the epoch number\n",
        "    print('Epoch: {}'.format(epoch))\n",
        "    \n",
        "    # Feed training data into the model to optimize the weights\n",
        "    train_loss = train(model, train_loader, optimizer)\n",
        "    \n",
        "    # Feed the test data into the model to check its performance\n",
        "    test_loss = test(model, test_loader)\n",
        "    \n",
        "    # Log the metrics for this epoch\n",
        "    epoch_nums.append(epoch)\n",
        "    training_loss.append(train_loss)\n",
        "    validation_loss.append(test_loss)"
      ]
    },
    {
      "cell_type": "code",
      "execution_count": null,
      "metadata": {
        "colab": {
          "base_uri": "https://localhost:8080/",
          "height": 279
        },
        "id": "3vrghmLfybBS",
        "outputId": "2537bffc-9c9d-4836-efed-177c33579744"
      },
      "outputs": [
        {
          "output_type": "display_data",
          "data": {
            "image/png": "[encoded data removed]",
            "text/plain": [
              "<Figure size 432x288 with 1 Axes>"
            ]
          },
          "metadata": {
            "needs_background": "light"
          }
        }
      ],
      "source": [
        "%matplotlib inline\n",
        "from matplotlib import pyplot as plt\n",
        "\n",
        "plt.plot(epoch_nums, training_loss)\n",
        "plt.plot(epoch_nums, validation_loss)\n",
        "plt.xlabel('epoch')\n",
        "plt.ylabel('loss')\n",
        "plt.legend(['training', 'validation'], loc='upper right')\n",
        "plt.show()"
      ]
    },
    {
      "cell_type": "code",
      "execution_count": null,
      "metadata": {
        "colab": {
          "base_uri": "https://localhost:8080/",
          "height": 277
        },
        "id": "Roi_ZGALynt3",
        "outputId": "4c4b70c6-6a6d-4a7d-de2d-25b2952f1a36"
      },
      "outputs": [
        {
          "output_type": "display_data",
          "data": {
            "image/png": "[encoded data removed]",
            "text/plain": [
              "<Figure size 432x288 with 2 Axes>"
            ]
          },
          "metadata": {
            "needs_background": "light"
          }
        }
      ],
      "source": [
        "from sklearn.metrics import confusion_matrix\n",
        "import numpy as np\n",
        "\n",
        "# Set the model to evaluate mode\n",
        "model.eval()\n",
        "\n",
        "# Get predictions for the test data\n",
        "x = torch.Tensor(x_test).float()\n",
        "_, predicted = torch.max(model(x).data, 1)\n",
        "\n",
        "# Plot the confusion matrix\n",
        "cm = confusion_matrix(y_test, predicted.numpy())\n",
        "plt.imshow(cm, interpolation=\"nearest\", cmap=plt.cm.Blues)\n",
        "plt.colorbar()\n",
        "tick_marks = np.arange(2)\n",
        "plt.xticks(tick_marks, ['0', '1'], rotation=85)\n",
        "plt.yticks(tick_marks, ['0', '1'])\n",
        "plt.xlabel(\"Predicted Species\")\n",
        "plt.ylabel(\"Actual Species\")\n",
        "plt.show()"
      ]
    },
    {
      "cell_type": "markdown",
      "metadata": {
        "id": "sIPQk5QMzp5J"
      },
      "source": [
        "# Initialize weights"
      ]
    },
    {
      "cell_type": "code",
      "execution_count": null,
      "metadata": {
        "id": "34HCIbIEyBfq"
      },
      "outputs": [],
      "source": [
        "import torch\n",
        "from torch import nn\n",
        "\n",
        "def init_weights(m, init_type = 'xavier'):\n",
        "    if type(m) == nn.Linear:\n",
        "      if init_type == 'xavier':\n",
        "        torch.nn.init.xavier_uniform_(m.weight)\n",
        "        m.bias.data.fill_(0.01)\n",
        "      elif init_type == 'normal':\n",
        "        torch.nn.init.normal_(m.weight)\n",
        "        m.bias.data.fill_(0.01)\n",
        "      elif init_type == 'he':\n",
        "        m.bias.kaiming_uniform_(m.weight)\n",
        "        m.bias.data.fill_(0.01)\n"
      ]
    },
    {
      "cell_type": "code",
      "execution_count": null,
      "metadata": {
        "colab": {
          "base_uri": "https://localhost:8080/"
        },
        "id": "tnnoVD_KyCvq",
        "outputId": "55a1fa2c-55de-471e-f99d-823834726ee9"
      },
      "outputs": [
        {
          "output_type": "stream",
          "name": "stdout",
          "text": [
            "Epoch: 1\n",
            "Training set: Average loss: 1.034857\n",
            "Validation set: Average loss: 0.881828, Accuracy: 2134/4639 (46%)\n",
            "\n",
            "Epoch: 2\n",
            "Training set: Average loss: 1.058328\n",
            "Validation set: Average loss: 0.862228, Accuracy: 1968/4639 (42%)\n",
            "\n",
            "Epoch: 3\n",
            "Training set: Average loss: 1.052566\n",
            "Validation set: Average loss: 0.815359, Accuracy: 2008/4639 (43%)\n",
            "\n",
            "Epoch: 4\n",
            "Training set: Average loss: 1.062635\n",
            "Validation set: Average loss: 0.855678, Accuracy: 2080/4639 (45%)\n",
            "\n",
            "Epoch: 5\n",
            "Training set: Average loss: 1.057417\n",
            "Validation set: Average loss: 0.831383, Accuracy: 2104/4639 (45%)\n",
            "\n",
            "Epoch: 6\n",
            "Training set: Average loss: 1.059334\n",
            "Validation set: Average loss: 0.839491, Accuracy: 2077/4639 (45%)\n",
            "\n",
            "Epoch: 7\n",
            "Training set: Average loss: 1.044504\n",
            "Validation set: Average loss: 0.854741, Accuracy: 2202/4639 (47%)\n",
            "\n",
            "Epoch: 8\n",
            "Training set: Average loss: 1.049611\n",
            "Validation set: Average loss: 0.822071, Accuracy: 2097/4639 (45%)\n",
            "\n",
            "Epoch: 9\n",
            "Training set: Average loss: 1.066511\n",
            "Validation set: Average loss: 0.814428, Accuracy: 1966/4639 (42%)\n",
            "\n",
            "Epoch: 10\n",
            "Training set: Average loss: 1.054036\n",
            "Validation set: Average loss: 0.812479, Accuracy: 2036/4639 (44%)\n",
            "\n",
            "Epoch: 11\n",
            "Training set: Average loss: 1.033932\n",
            "Validation set: Average loss: 0.805840, Accuracy: 2062/4639 (44%)\n",
            "\n",
            "Epoch: 12\n",
            "Training set: Average loss: 1.064430\n",
            "Validation set: Average loss: 0.838901, Accuracy: 1983/4639 (43%)\n",
            "\n",
            "Epoch: 13\n",
            "Training set: Average loss: 1.053291\n",
            "Validation set: Average loss: 0.834599, Accuracy: 2059/4639 (44%)\n",
            "\n",
            "Epoch: 14\n",
            "Training set: Average loss: 1.030366\n",
            "Validation set: Average loss: 0.834164, Accuracy: 2140/4639 (46%)\n",
            "\n",
            "Epoch: 15\n",
            "Training set: Average loss: 1.059314\n",
            "Validation set: Average loss: 0.836497, Accuracy: 2186/4639 (47%)\n",
            "\n",
            "Epoch: 16\n",
            "Training set: Average loss: 1.040529\n",
            "Validation set: Average loss: 0.861881, Accuracy: 2076/4639 (45%)\n",
            "\n",
            "Epoch: 17\n",
            "Training set: Average loss: 1.071421\n",
            "Validation set: Average loss: 0.850323, Accuracy: 2223/4639 (48%)\n",
            "\n",
            "Epoch: 18\n",
            "Training set: Average loss: 1.053598\n",
            "Validation set: Average loss: 0.839242, Accuracy: 2036/4639 (44%)\n",
            "\n",
            "Epoch: 19\n",
            "Training set: Average loss: 1.049221\n",
            "Validation set: Average loss: 0.835933, Accuracy: 2032/4639 (44%)\n",
            "\n",
            "Epoch: 20\n",
            "Training set: Average loss: 1.054451\n",
            "Validation set: Average loss: 0.859414, Accuracy: 2158/4639 (47%)\n",
            "\n",
            "Epoch: 21\n",
            "Training set: Average loss: 1.056506\n",
            "Validation set: Average loss: 0.842752, Accuracy: 2122/4639 (46%)\n",
            "\n",
            "Epoch: 22\n",
            "Training set: Average loss: 1.058379\n",
            "Validation set: Average loss: 0.835406, Accuracy: 2094/4639 (45%)\n",
            "\n",
            "Epoch: 23\n",
            "Training set: Average loss: 1.054996\n",
            "Validation set: Average loss: 0.832019, Accuracy: 2091/4639 (45%)\n",
            "\n",
            "Epoch: 24\n",
            "Training set: Average loss: 1.046719\n",
            "Validation set: Average loss: 0.893431, Accuracy: 2053/4639 (44%)\n",
            "\n",
            "Epoch: 25\n",
            "Training set: Average loss: 1.062016\n",
            "Validation set: Average loss: 0.831553, Accuracy: 2090/4639 (45%)\n",
            "\n",
            "Epoch: 26\n",
            "Training set: Average loss: 1.045587\n",
            "Validation set: Average loss: 0.885331, Accuracy: 2155/4639 (46%)\n",
            "\n",
            "Epoch: 27\n",
            "Training set: Average loss: 1.058597\n",
            "Validation set: Average loss: 0.834510, Accuracy: 2025/4639 (44%)\n",
            "\n",
            "Epoch: 28\n",
            "Training set: Average loss: 1.064749\n",
            "Validation set: Average loss: 0.801948, Accuracy: 1998/4639 (43%)\n",
            "\n",
            "Epoch: 29\n",
            "Training set: Average loss: 1.046193\n",
            "Validation set: Average loss: 0.841752, Accuracy: 2126/4639 (46%)\n",
            "\n",
            "Epoch: 30\n",
            "Training set: Average loss: 1.047370\n",
            "Validation set: Average loss: 0.824088, Accuracy: 2106/4639 (45%)\n",
            "\n",
            "Epoch: 31\n",
            "Training set: Average loss: 1.061058\n",
            "Validation set: Average loss: 0.835744, Accuracy: 2040/4639 (44%)\n",
            "\n",
            "Epoch: 32\n",
            "Training set: Average loss: 1.045024\n",
            "Validation set: Average loss: 0.881140, Accuracy: 2135/4639 (46%)\n",
            "\n",
            "Epoch: 33\n",
            "Training set: Average loss: 1.059203\n",
            "Validation set: Average loss: 0.818480, Accuracy: 2110/4639 (45%)\n",
            "\n",
            "Epoch: 34\n",
            "Training set: Average loss: 1.039955\n",
            "Validation set: Average loss: 0.771732, Accuracy: 1902/4639 (41%)\n",
            "\n",
            "Epoch: 35\n",
            "Training set: Average loss: 1.063251\n",
            "Validation set: Average loss: 0.850885, Accuracy: 2109/4639 (45%)\n",
            "\n",
            "Epoch: 36\n",
            "Training set: Average loss: 1.052254\n",
            "Validation set: Average loss: 0.861364, Accuracy: 2097/4639 (45%)\n",
            "\n",
            "Epoch: 37\n",
            "Training set: Average loss: 1.050390\n",
            "Validation set: Average loss: 0.830506, Accuracy: 1951/4639 (42%)\n",
            "\n",
            "Epoch: 38\n",
            "Training set: Average loss: 1.072359\n",
            "Validation set: Average loss: 0.827850, Accuracy: 2100/4639 (45%)\n",
            "\n",
            "Epoch: 39\n",
            "Training set: Average loss: 1.039864\n",
            "Validation set: Average loss: 0.813120, Accuracy: 2084/4639 (45%)\n",
            "\n",
            "Epoch: 40\n",
            "Training set: Average loss: 1.050822\n",
            "Validation set: Average loss: 0.843351, Accuracy: 1952/4639 (42%)\n",
            "\n",
            "Epoch: 41\n",
            "Training set: Average loss: 1.040830\n",
            "Validation set: Average loss: 0.800010, Accuracy: 2021/4639 (44%)\n",
            "\n",
            "Epoch: 42\n",
            "Training set: Average loss: 1.047188\n",
            "Validation set: Average loss: 0.813395, Accuracy: 2002/4639 (43%)\n",
            "\n",
            "Epoch: 43\n",
            "Training set: Average loss: 1.067220\n",
            "Validation set: Average loss: 0.913675, Accuracy: 2146/4639 (46%)\n",
            "\n",
            "Epoch: 44\n",
            "Training set: Average loss: 1.043040\n",
            "Validation set: Average loss: 0.822314, Accuracy: 1991/4639 (43%)\n",
            "\n",
            "Epoch: 45\n",
            "Training set: Average loss: 1.049788\n",
            "Validation set: Average loss: 0.841888, Accuracy: 2133/4639 (46%)\n",
            "\n",
            "Epoch: 46\n",
            "Training set: Average loss: 1.061216\n",
            "Validation set: Average loss: 0.838371, Accuracy: 1947/4639 (42%)\n",
            "\n",
            "Epoch: 47\n",
            "Training set: Average loss: 1.036654\n",
            "Validation set: Average loss: 0.887038, Accuracy: 2123/4639 (46%)\n",
            "\n",
            "Epoch: 48\n",
            "Training set: Average loss: 1.062968\n",
            "Validation set: Average loss: 0.829010, Accuracy: 2107/4639 (45%)\n",
            "\n",
            "Epoch: 49\n",
            "Training set: Average loss: 1.054458\n",
            "Validation set: Average loss: 0.811283, Accuracy: 2140/4639 (46%)\n",
            "\n",
            "Epoch: 50\n",
            "Training set: Average loss: 1.032569\n",
            "Validation set: Average loss: 0.847927, Accuracy: 2040/4639 (44%)\n",
            "\n"
          ]
        }
      ],
      "source": [
        "model1 = IncomeNet()\n",
        "model1.apply(lambda m: init_weights(m, init_type = 'normal'))\n",
        "\n",
        "for epoch in range(1, epochs + 1):\n",
        "\n",
        "    # print the epoch number\n",
        "    print('Epoch: {}'.format(epoch))\n",
        "    \n",
        "    # Feed training data into the model to optimize the weights\n",
        "    train_loss = train(model1, train_loader, optimizer)\n",
        "    \n",
        "    # Feed the test data into the model to check its performance\n",
        "    test_loss = test(model1, test_loader)\n",
        "    \n",
        "    # Log the metrics for this epoch\n",
        "    epoch_nums.append(epoch)\n",
        "    training_loss.append(train_loss)\n",
        "    validation_loss.append(test_loss)"
      ]
    },
    {
      "cell_type": "code",
      "execution_count": null,
      "metadata": {
        "colab": {
          "base_uri": "https://localhost:8080/"
        },
        "id": "emAyupEe0Btp",
        "outputId": "ba2bfe62-0eba-4f81-c11c-20f96e4fc1a4"
      },
      "outputs": [
        {
          "output_type": "stream",
          "name": "stdout",
          "text": [
            "Epoch: 1\n",
            "Training set: Average loss: 0.742549\n",
            "Validation set: Average loss: 0.715270, Accuracy: 1841/4639 (40%)\n",
            "\n",
            "Epoch: 2\n",
            "Training set: Average loss: 0.741697\n",
            "Validation set: Average loss: 0.715315, Accuracy: 1852/4639 (40%)\n",
            "\n",
            "Epoch: 3\n",
            "Training set: Average loss: 0.748628\n",
            "Validation set: Average loss: 0.718323, Accuracy: 1814/4639 (39%)\n",
            "\n",
            "Epoch: 4\n",
            "Training set: Average loss: 0.742950\n",
            "Validation set: Average loss: 0.709287, Accuracy: 1892/4639 (41%)\n",
            "\n",
            "Epoch: 5\n",
            "Training set: Average loss: 0.740208\n",
            "Validation set: Average loss: 0.716134, Accuracy: 1665/4639 (36%)\n",
            "\n",
            "Epoch: 6\n",
            "Training set: Average loss: 0.750402\n",
            "Validation set: Average loss: 0.714019, Accuracy: 1855/4639 (40%)\n",
            "\n",
            "Epoch: 7\n",
            "Training set: Average loss: 0.743562\n",
            "Validation set: Average loss: 0.710690, Accuracy: 1959/4639 (42%)\n",
            "\n",
            "Epoch: 8\n",
            "Training set: Average loss: 0.742381\n",
            "Validation set: Average loss: 0.713090, Accuracy: 1754/4639 (38%)\n",
            "\n",
            "Epoch: 9\n",
            "Training set: Average loss: 0.741821\n",
            "Validation set: Average loss: 0.723319, Accuracy: 1847/4639 (40%)\n",
            "\n",
            "Epoch: 10\n",
            "Training set: Average loss: 0.746883\n",
            "Validation set: Average loss: 0.707601, Accuracy: 1880/4639 (41%)\n",
            "\n",
            "Epoch: 11\n",
            "Training set: Average loss: 0.746096\n",
            "Validation set: Average loss: 0.727819, Accuracy: 1774/4639 (38%)\n",
            "\n",
            "Epoch: 12\n",
            "Training set: Average loss: 0.749748\n",
            "Validation set: Average loss: 0.714047, Accuracy: 1779/4639 (38%)\n",
            "\n",
            "Epoch: 13\n",
            "Training set: Average loss: 0.745318\n",
            "Validation set: Average loss: 0.713074, Accuracy: 1961/4639 (42%)\n",
            "\n",
            "Epoch: 14\n",
            "Training set: Average loss: 0.745779\n",
            "Validation set: Average loss: 0.712912, Accuracy: 1867/4639 (40%)\n",
            "\n",
            "Epoch: 15\n",
            "Training set: Average loss: 0.739501\n",
            "Validation set: Average loss: 0.715940, Accuracy: 1962/4639 (42%)\n",
            "\n",
            "Epoch: 16\n",
            "Training set: Average loss: 0.744715\n",
            "Validation set: Average loss: 0.720121, Accuracy: 1859/4639 (40%)\n",
            "\n",
            "Epoch: 17\n",
            "Training set: Average loss: 0.750008\n",
            "Validation set: Average loss: 0.707408, Accuracy: 1884/4639 (41%)\n",
            "\n",
            "Epoch: 18\n",
            "Training set: Average loss: 0.749606\n",
            "Validation set: Average loss: 0.711512, Accuracy: 1791/4639 (39%)\n",
            "\n",
            "Epoch: 19\n",
            "Training set: Average loss: 0.747502\n",
            "Validation set: Average loss: 0.716088, Accuracy: 1833/4639 (40%)\n",
            "\n",
            "Epoch: 20\n",
            "Training set: Average loss: 0.742261\n",
            "Validation set: Average loss: 0.715526, Accuracy: 1823/4639 (39%)\n",
            "\n",
            "Epoch: 21\n",
            "Training set: Average loss: 0.744960\n",
            "Validation set: Average loss: 0.714986, Accuracy: 1885/4639 (41%)\n",
            "\n",
            "Epoch: 22\n",
            "Training set: Average loss: 0.749278\n",
            "Validation set: Average loss: 0.718463, Accuracy: 1785/4639 (38%)\n",
            "\n",
            "Epoch: 23\n",
            "Training set: Average loss: 0.736684\n",
            "Validation set: Average loss: 0.716941, Accuracy: 1939/4639 (42%)\n",
            "\n",
            "Epoch: 24\n",
            "Training set: Average loss: 0.742648\n",
            "Validation set: Average loss: 0.719112, Accuracy: 1926/4639 (42%)\n",
            "\n",
            "Epoch: 25\n",
            "Training set: Average loss: 0.745379\n",
            "Validation set: Average loss: 0.720861, Accuracy: 1769/4639 (38%)\n",
            "\n",
            "Epoch: 26\n",
            "Training set: Average loss: 0.745443\n",
            "Validation set: Average loss: 0.716034, Accuracy: 1881/4639 (41%)\n",
            "\n",
            "Epoch: 27\n",
            "Training set: Average loss: 0.745525\n",
            "Validation set: Average loss: 0.718431, Accuracy: 1962/4639 (42%)\n",
            "\n",
            "Epoch: 28\n",
            "Training set: Average loss: 0.738019\n",
            "Validation set: Average loss: 0.718347, Accuracy: 1785/4639 (38%)\n",
            "\n",
            "Epoch: 29\n",
            "Training set: Average loss: 0.736158\n",
            "Validation set: Average loss: 0.714863, Accuracy: 1916/4639 (41%)\n",
            "\n",
            "Epoch: 30\n",
            "Training set: Average loss: 0.745107\n",
            "Validation set: Average loss: 0.718297, Accuracy: 1828/4639 (39%)\n",
            "\n",
            "Epoch: 31\n",
            "Training set: Average loss: 0.746783\n",
            "Validation set: Average loss: 0.717372, Accuracy: 1885/4639 (41%)\n",
            "\n",
            "Epoch: 32\n",
            "Training set: Average loss: 0.745595\n",
            "Validation set: Average loss: 0.710392, Accuracy: 1796/4639 (39%)\n",
            "\n",
            "Epoch: 33\n",
            "Training set: Average loss: 0.742406\n",
            "Validation set: Average loss: 0.712283, Accuracy: 1866/4639 (40%)\n",
            "\n",
            "Epoch: 34\n",
            "Training set: Average loss: 0.738563\n",
            "Validation set: Average loss: 0.718960, Accuracy: 1980/4639 (43%)\n",
            "\n",
            "Epoch: 35\n",
            "Training set: Average loss: 0.743124\n",
            "Validation set: Average loss: 0.707207, Accuracy: 1845/4639 (40%)\n",
            "\n",
            "Epoch: 36\n",
            "Training set: Average loss: 0.746447\n",
            "Validation set: Average loss: 0.707056, Accuracy: 1849/4639 (40%)\n",
            "\n",
            "Epoch: 37\n",
            "Training set: Average loss: 0.749389\n",
            "Validation set: Average loss: 0.714169, Accuracy: 1862/4639 (40%)\n",
            "\n",
            "Epoch: 38\n",
            "Training set: Average loss: 0.748447\n",
            "Validation set: Average loss: 0.716966, Accuracy: 1882/4639 (41%)\n",
            "\n",
            "Epoch: 39\n",
            "Training set: Average loss: 0.748801\n",
            "Validation set: Average loss: 0.718232, Accuracy: 1877/4639 (40%)\n",
            "\n",
            "Epoch: 40\n",
            "Training set: Average loss: 0.743444\n",
            "Validation set: Average loss: 0.714327, Accuracy: 1975/4639 (43%)\n",
            "\n",
            "Epoch: 41\n",
            "Training set: Average loss: 0.747077\n",
            "Validation set: Average loss: 0.710207, Accuracy: 1975/4639 (43%)\n",
            "\n",
            "Epoch: 42\n",
            "Training set: Average loss: 0.744844\n",
            "Validation set: Average loss: 0.721837, Accuracy: 1807/4639 (39%)\n",
            "\n",
            "Epoch: 43\n",
            "Training set: Average loss: 0.746657\n",
            "Validation set: Average loss: 0.705852, Accuracy: 1875/4639 (40%)\n",
            "\n",
            "Epoch: 44\n",
            "Training set: Average loss: 0.747807\n",
            "Validation set: Average loss: 0.714375, Accuracy: 1847/4639 (40%)\n",
            "\n",
            "Epoch: 45\n",
            "Training set: Average loss: 0.743290\n",
            "Validation set: Average loss: 0.722645, Accuracy: 1809/4639 (39%)\n",
            "\n",
            "Epoch: 46\n",
            "Training set: Average loss: 0.745323\n",
            "Validation set: Average loss: 0.728215, Accuracy: 1935/4639 (42%)\n",
            "\n",
            "Epoch: 47\n",
            "Training set: Average loss: 0.747173\n",
            "Validation set: Average loss: 0.724281, Accuracy: 1825/4639 (39%)\n",
            "\n",
            "Epoch: 48\n",
            "Training set: Average loss: 0.747557\n",
            "Validation set: Average loss: 0.712199, Accuracy: 1858/4639 (40%)\n",
            "\n",
            "Epoch: 49\n",
            "Training set: Average loss: 0.745070\n",
            "Validation set: Average loss: 0.718914, Accuracy: 1932/4639 (42%)\n",
            "\n",
            "Epoch: 50\n",
            "Training set: Average loss: 0.743160\n",
            "Validation set: Average loss: 0.711609, Accuracy: 1872/4639 (40%)\n",
            "\n"
          ]
        }
      ],
      "source": [
        "model2 = IncomeNet()\n",
        "model2.apply(lambda m: init_weights(m, init_type = 'xavier'))\n",
        "\n",
        "for epoch in range(1, epochs + 1):\n",
        "\n",
        "    # print the epoch number\n",
        "    print('Epoch: {}'.format(epoch))\n",
        "    \n",
        "    # Feed training data into the model to optimize the weights\n",
        "    train_loss = train(model2, train_loader, optimizer)\n",
        "    \n",
        "    # Feed the test data into the model to check its performance\n",
        "    test_loss = test(model2, test_loader)\n",
        "    \n",
        "    # Log the metrics for this epoch\n",
        "    epoch_nums.append(epoch)\n",
        "    training_loss.append(train_loss)\n",
        "    validation_loss.append(test_loss)"
      ]
    },
    {
      "cell_type": "code",
      "execution_count": null,
      "metadata": {
        "id": "VaXBnw1lrlbT"
      },
      "outputs": [],
      "source": [
        ""
      ]
    },
    {
      "cell_type": "markdown",
      "metadata": {
        "id": "JH9l5AyKsxms"
      },
      "source": [
        "# Optuna"
      ]
    },
    {
      "cell_type": "code",
      "execution_count": null,
      "metadata": {
        "colab": {
          "base_uri": "https://localhost:8080/"
        },
        "id": "m0RQQVdSsw98",
        "outputId": "152b0ecf-0105-4d9e-a2e2-75b5114ef14b"
      },
      "outputs": [
        {
          "output_type": "stream",
          "name": "stdout",
          "text": [
            "Collecting optuna\n",
            "  Downloading optuna-2.10.0-py3-none-any.whl (308 kB)\n",
            "\u001b[?25l\r\u001b[K     |█                               | 10 kB 19.5 MB/s eta 0:00:01\r\u001b[K     |██▏                             | 20 kB 23.2 MB/s eta 0:00:01\r\u001b[K     |███▏                            | 30 kB 10.8 MB/s eta 0:00:01\r\u001b[K     |████▎                           | 40 kB 4.5 MB/s eta 0:00:01\r\u001b[K     |█████▎                          | 51 kB 4.6 MB/s eta 0:00:01\r\u001b[K     |██████▍                         | 61 kB 5.5 MB/s eta 0:00:01\r\u001b[K     |███████▍                        | 71 kB 5.6 MB/s eta 0:00:01\r\u001b[K     |████████▌                       | 81 kB 5.7 MB/s eta 0:00:01\r\u001b[K     |█████████▋                      | 92 kB 6.3 MB/s eta 0:00:01\r\u001b[K     |██████████▋                     | 102 kB 5.3 MB/s eta 0:00:01\r\u001b[K     |███████████▊                    | 112 kB 5.3 MB/s eta 0:00:01\r\u001b[K     |████████████▊                   | 122 kB 5.3 MB/s eta 0:00:01\r\u001b[K     |█████████████▉                  | 133 kB 5.3 MB/s eta 0:00:01\r\u001b[K     |██████████████▉                 | 143 kB 5.3 MB/s eta 0:00:01\r\u001b[K     |████████████████                | 153 kB 5.3 MB/s eta 0:00:01\r\u001b[K     |█████████████████               | 163 kB 5.3 MB/s eta 0:00:01\r\u001b[K     |██████████████████              | 174 kB 5.3 MB/s eta 0:00:01\r\u001b[K     |███████████████████▏            | 184 kB 5.3 MB/s eta 0:00:01\r\u001b[K     |████████████████████▏           | 194 kB 5.3 MB/s eta 0:00:01\r\u001b[K     |█████████████████████▎          | 204 kB 5.3 MB/s eta 0:00:01\r\u001b[K     |██████████████████████▎         | 215 kB 5.3 MB/s eta 0:00:01\r\u001b[K     |███████████████████████▍        | 225 kB 5.3 MB/s eta 0:00:01\r\u001b[K     |████████████████████████▌       | 235 kB 5.3 MB/s eta 0:00:01\r\u001b[K     |█████████████████████████▌      | 245 kB 5.3 MB/s eta 0:00:01\r\u001b[K     |██████████████████████████▋     | 256 kB 5.3 MB/s eta 0:00:01\r\u001b[K     |███████████████████████████▋    | 266 kB 5.3 MB/s eta 0:00:01\r\u001b[K     |████████████████████████████▊   | 276 kB 5.3 MB/s eta 0:00:01\r\u001b[K     |█████████████████████████████▊  | 286 kB 5.3 MB/s eta 0:00:01\r\u001b[K     |██████████████████████████████▉ | 296 kB 5.3 MB/s eta 0:00:01\r\u001b[K     |████████████████████████████████| 307 kB 5.3 MB/s eta 0:00:01\r\u001b[K     |████████████████████████████████| 308 kB 5.3 MB/s \n",
            "\u001b[?25hRequirement already satisfied: packaging>=20.0 in /usr/local/lib/python3.7/dist-packages (from optuna) (21.3)\n",
            "Requirement already satisfied: scipy!=1.4.0 in /usr/local/lib/python3.7/dist-packages (from optuna) (1.4.1)\n",
            "Requirement already satisfied: tqdm in /usr/local/lib/python3.7/dist-packages (from optuna) (4.62.3)\n",
            "Requirement already satisfied: numpy in /usr/local/lib/python3.7/dist-packages (from optuna) (1.21.5)\n",
            "Collecting cmaes>=0.8.2\n",
            "  Downloading cmaes-0.8.2-py3-none-any.whl (15 kB)\n",
            "Collecting alembic\n",
            "  Downloading alembic-1.7.6-py3-none-any.whl (210 kB)\n",
            "\u001b[K     |████████████████████████████████| 210 kB 39.6 MB/s \n",
            "\u001b[?25hRequirement already satisfied: sqlalchemy>=1.1.0 in /usr/local/lib/python3.7/dist-packages (from optuna) (1.4.31)\n",
            "Collecting colorlog\n",
            "  Downloading colorlog-6.6.0-py2.py3-none-any.whl (11 kB)\n",
            "Collecting cliff\n",
            "  Downloading cliff-3.10.1-py3-none-any.whl (81 kB)\n",
            "\u001b[K     |████████████████████████████████| 81 kB 9.7 MB/s \n",
            "\u001b[?25hRequirement already satisfied: PyYAML in /usr/local/lib/python3.7/dist-packages (from optuna) (3.13)\n",
            "Requirement already satisfied: pyparsing!=3.0.5,>=2.0.2 in /usr/local/lib/python3.7/dist-packages (from packaging>=20.0->optuna) (3.0.7)\n",
            "Requirement already satisfied: greenlet!=0.4.17 in /usr/local/lib/python3.7/dist-packages (from sqlalchemy>=1.1.0->optuna) (1.1.2)\n",
            "Requirement already satisfied: importlib-metadata in /usr/local/lib/python3.7/dist-packages (from sqlalchemy>=1.1.0->optuna) (4.11.0)\n",
            "Requirement already satisfied: importlib-resources in /usr/local/lib/python3.7/dist-packages (from alembic->optuna) (5.4.0)\n",
            "Collecting Mako\n",
            "  Downloading Mako-1.1.6-py2.py3-none-any.whl (75 kB)\n",
            "\u001b[K     |████████████████████████████████| 75 kB 4.8 MB/s \n",
            "\u001b[?25hCollecting pbr!=2.1.0,>=2.0.0\n",
            "  Downloading pbr-5.8.1-py2.py3-none-any.whl (113 kB)\n",
            "\u001b[K     |████████████████████████████████| 113 kB 50.7 MB/s \n",
            "\u001b[?25hCollecting autopage>=0.4.0\n",
            "  Downloading autopage-0.5.0-py3-none-any.whl (29 kB)\n",
            "Requirement already satisfied: PrettyTable>=0.7.2 in /usr/local/lib/python3.7/dist-packages (from cliff->optuna) (3.0.0)\n",
            "Collecting stevedore>=2.0.1\n",
            "  Downloading stevedore-3.5.0-py3-none-any.whl (49 kB)\n",
            "\u001b[K     |████████████████████████████████| 49 kB 6.0 MB/s \n",
            "\u001b[?25hCollecting cmd2>=1.0.0\n",
            "  Downloading cmd2-2.3.3-py3-none-any.whl (149 kB)\n",
            "\u001b[K     |████████████████████████████████| 149 kB 49.1 MB/s \n",
            "\u001b[?25hRequirement already satisfied: typing-extensions in /usr/local/lib/python3.7/dist-packages (from cmd2>=1.0.0->cliff->optuna) (3.10.0.2)\n",
            "Requirement already satisfied: wcwidth>=0.1.7 in /usr/local/lib/python3.7/dist-packages (from cmd2>=1.0.0->cliff->optuna) (0.2.5)\n",
            "Requirement already satisfied: attrs>=16.3.0 in /usr/local/lib/python3.7/dist-packages (from cmd2>=1.0.0->cliff->optuna) (21.4.0)\n",
            "Collecting pyperclip>=1.6\n",
            "  Downloading pyperclip-1.8.2.tar.gz (20 kB)\n",
            "Requirement already satisfied: zipp>=0.5 in /usr/local/lib/python3.7/dist-packages (from importlib-metadata->sqlalchemy>=1.1.0->optuna) (3.7.0)\n",
            "Requirement already satisfied: MarkupSafe>=0.9.2 in /usr/local/lib/python3.7/dist-packages (from Mako->alembic->optuna) (2.0.1)\n",
            "Building wheels for collected packages: pyperclip\n",
            "  Building wheel for pyperclip (setup.py) ... \u001b[?25l\u001b[?25hdone\n",
            "  Created wheel for pyperclip: filename=pyperclip-1.8.2-py3-none-any.whl size=11137 sha256=c07a2ded9ea74b0862b0abf6f35ccb85488b724e306a7e164e3b934dcd2d2694\n",
            "  Stored in directory: /root/.cache/pip/wheels/9f/18/84/8f69f8b08169c7bae2dde6bd7daf0c19fca8c8e500ee620a28\n",
            "Successfully built pyperclip\n",
            "Installing collected packages: pyperclip, pbr, stevedore, Mako, cmd2, autopage, colorlog, cmaes, cliff, alembic, optuna\n",
            "Successfully installed Mako-1.1.6 alembic-1.7.6 autopage-0.5.0 cliff-3.10.1 cmaes-0.8.2 cmd2-2.3.3 colorlog-6.6.0 optuna-2.10.0 pbr-5.8.1 pyperclip-1.8.2 stevedore-3.5.0\n"
          ]
        }
      ],
      "source": [
        "!pip install optuna"
      ]
    },
    {
      "cell_type": "code",
      "execution_count": null,
      "metadata": {
        "id": "B_4hBCdgtOei"
      },
      "outputs": [],
      "source": [
        "import optuna\n",
        "from optuna.trial import TrialState\n",
        "import torch.optim as optim\n",
        "import torch.nn.functional as F"
      ]
    },
    {
      "cell_type": "code",
      "execution_count": null,
      "metadata": {
        "colab": {
          "base_uri": "https://localhost:8080/"
        },
        "id": "Verpi68NtQeF",
        "outputId": "8e2524ac-86ca-442c-bfc6-c860e9013d48"
      },
      "outputs": [
        {
          "output_type": "execute_result",
          "data": {
            "text/plain": [
              "<torch._C.Generator at 0x7f5d05df9e90>"
            ]
          },
          "metadata": {},
          "execution_count": 29
        }
      ],
      "source": [
        "import torch\n",
        "import torch.nn as nn\n",
        "import torch.utils.data as td\n",
        "\n",
        "# Set random seed for reproducability\n",
        "torch.manual_seed(0)"
      ]
    },
    {
      "cell_type": "code",
      "execution_count": null,
      "metadata": {
        "colab": {
          "base_uri": "https://localhost:8080/"
        },
        "id": "zmn-k4sy83qW",
        "outputId": "e9631623-bfe4-4d4a-f666-24be3e4988fb"
      },
      "outputs": [
        {
          "output_type": "stream",
          "name": "stdout",
          "text": [
            "Ready to load data\n"
          ]
        }
      ],
      "source": [
        "# Create a dataset and loader for the training data and labels\n",
        "train_x = torch.Tensor(x_train).float()\n",
        "# Reshape y target into [-1, 1] to fit with Binary Cross Entropy\n",
        "train_y = torch.Tensor(y_train).view(-1, 1).float()\n",
        "train_ds = td.TensorDataset(train_x,train_y)\n",
        "train_loader = td.DataLoader(train_ds, batch_size=16,\n",
        "    shuffle=True, num_workers=1)\n",
        "\n",
        "# Create a dataset and loader for the test data and labels\n",
        "test_x = torch.Tensor(x_test).float()\n",
        "test_y = torch.Tensor(y_test).view(-1, 1).float()\n",
        "test_ds = td.TensorDataset(test_x,test_y)\n",
        "test_loader = td.DataLoader(test_ds, batch_size=16,\n",
        "    shuffle=False, num_workers=1)\n",
        "print('Ready to load data')"
      ]
    },
    {
      "cell_type": "code",
      "execution_count": null,
      "metadata": {
        "id": "xiI-2CUltQ28"
      },
      "outputs": [],
      "source": [
        "def define_model(trial):\n",
        "    # We optimize the number of layers, hidden units and dropout ratio in each layer.\n",
        "    n_layers = trial.suggest_int(\"n_layers\", 2, 6)\n",
        "    layers = []\n",
        "\n",
        "    in_features = 105\n",
        "    for i in range(n_layers):\n",
        "        out_features = trial.suggest_int(\"n_units_l{}\".format(i), 4, 128)\n",
        "        layers.append(nn.Linear(in_features, out_features))\n",
        "        layers.append(nn.ReLU())\n",
        "        p = trial.suggest_float(\"dropout_l{}\".format(i), 0.2, 0.5)\n",
        "        layers.append(nn.Dropout(p))\n",
        "\n",
        "        in_features = out_features\n",
        "    layers.append(nn.Linear(in_features, 1))\n",
        "    layers.append(nn.Sigmoid())\n",
        "\n",
        "    return nn.Sequential(*layers)"
      ]
    },
    {
      "cell_type": "code",
      "execution_count": null,
      "metadata": {
        "id": "fJ2UqB0cxBMv"
      },
      "outputs": [],
      "source": [
        "DEVICE = torch.device(\"cpu\")\n",
        "BATCHSIZE = 16\n",
        "EPOCHS = 30\n",
        "LOG_INTERVAL = 10\n",
        "N_TRAIN_EXAMPLES = BATCHSIZE * 300\n",
        "N_VALID_EXAMPLES = BATCHSIZE * 100\n",
        "\n",
        "def objective(trial):\n",
        "\n",
        "    # Generate the model.\n",
        "    model = define_model(trial).to(DEVICE)\n",
        "\n",
        "    # Generate the optimizers.\n",
        "    optimizer_name = trial.suggest_categorical(\"optimizer\", [\"Adam\", \"RMSprop\", \"SGD\"])\n",
        "    lr = trial.suggest_float(\"lr\", 1e-5, 1e-1, log=True)\n",
        "    optimizer = getattr(optim, optimizer_name)(model.parameters(), lr=lr)\n",
        "    loss_criteria = nn.BCELoss()\n",
        "    # Training of the model.\n",
        "    for epoch in range(EPOCHS):\n",
        "        model.train()\n",
        "        for batch_idx, (data, target) in enumerate(train_loader):\n",
        "            # Limiting training data for faster epochs.\n",
        "            if batch_idx * BATCHSIZE >= N_TRAIN_EXAMPLES:\n",
        "                break\n",
        "\n",
        "            data, target = data.view(data.size(0), -1).to(DEVICE), target.to(DEVICE)\n",
        "\n",
        "            optimizer.zero_grad()\n",
        "            output = model(data)\n",
        "            # loss = F.nll_loss(output, target)\n",
        "            loss = loss_criteria(output, target)\n",
        "            loss.backward()\n",
        "            optimizer.step()\n",
        "\n",
        "        # Validation of the model.\n",
        "        model.eval()\n",
        "        correct = 0\n",
        "        with torch.no_grad():\n",
        "            for batch_idx, (data, target) in enumerate(test_loader):\n",
        "                # Limiting validation data.\n",
        "                if batch_idx * BATCHSIZE >= N_VALID_EXAMPLES:\n",
        "                    break\n",
        "                data, target = data.view(data.size(0), -1).to(DEVICE), target.to(DEVICE)\n",
        "                output = model(data)\n",
        "                # Get the index of the max log-probability.\n",
        "                pred = torch.tensor(output.data>=0.5).float()\n",
        "                correct += pred.eq(target.view_as(pred)).sum().item()\n",
        "\n",
        "        accuracy = correct / min(len(test_loader.dataset), N_VALID_EXAMPLES)\n",
        "\n",
        "        trial.report(accuracy, epoch)\n",
        "\n",
        "        # Handle pruning based on the intermediate value.\n",
        "        if trial.should_prune():\n",
        "            raise optuna.exceptions.TrialPruned()\n",
        "\n",
        "    return accuracy"
      ]
    },
    {
      "cell_type": "code",
      "execution_count": null,
      "metadata": {
        "colab": {
          "base_uri": "https://localhost:8080/"
        },
        "id": "TGdtY5JsxBdV",
        "outputId": "4dbfd999-e472-48aa-9f3c-7c62424bb15e"
      },
      "outputs": [
        {
          "output_type": "stream",
          "name": "stderr",
          "text": [
            "\u001b[32m[I 2022-02-18 17:27:54,383]\u001b[0m A new study created in memory with name: no-name-cfc92aaa-17eb-4f4d-9624-aea2e9beea50\u001b[0m\n",
            "/usr/local/lib/python3.7/dist-packages/ipykernel_launcher.py:46: UserWarning: To copy construct from a tensor, it is recommended to use sourceTensor.clone().detach() or sourceTensor.clone().detach().requires_grad_(True), rather than torch.tensor(sourceTensor).\n",
            "\u001b[32m[I 2022-02-18 17:29:04,490]\u001b[0m Trial 0 finished with value: 0.776875 and parameters: {'n_layers': 6, 'n_units_l0': 9, 'dropout_l0': 0.20624004453193695, 'n_units_l1': 121, 'dropout_l1': 0.3966810915060567, 'n_units_l2': 101, 'dropout_l2': 0.44985465220126325, 'n_units_l3': 19, 'dropout_l3': 0.22174300690165377, 'n_units_l4': 107, 'dropout_l4': 0.45757406249861504, 'n_units_l5': 83, 'dropout_l5': 0.3314032579197126, 'optimizer': 'Adam', 'lr': 0.01753015388520694}. Best is trial 0 with value: 0.776875.\u001b[0m\n",
            "/usr/local/lib/python3.7/dist-packages/ipykernel_launcher.py:46: UserWarning: To copy construct from a tensor, it is recommended to use sourceTensor.clone().detach() or sourceTensor.clone().detach().requires_grad_(True), rather than torch.tensor(sourceTensor).\n",
            "\u001b[32m[I 2022-02-18 17:29:43,803]\u001b[0m Trial 1 finished with value: 0.776875 and parameters: {'n_layers': 3, 'n_units_l0': 96, 'dropout_l0': 0.42960189175777386, 'n_units_l1': 31, 'dropout_l1': 0.23867136306265768, 'n_units_l2': 113, 'dropout_l2': 0.39113556035147956, 'optimizer': 'SGD', 'lr': 6.21913539061967e-05}. Best is trial 0 with value: 0.776875.\u001b[0m\n",
            "/usr/local/lib/python3.7/dist-packages/ipykernel_launcher.py:46: UserWarning: To copy construct from a tensor, it is recommended to use sourceTensor.clone().detach() or sourceTensor.clone().detach().requires_grad_(True), rather than torch.tensor(sourceTensor).\n",
            "\u001b[32m[I 2022-02-18 17:30:20,520]\u001b[0m Trial 2 finished with value: 0.780625 and parameters: {'n_layers': 2, 'n_units_l0': 81, 'dropout_l0': 0.4583377624962178, 'n_units_l1': 44, 'dropout_l1': 0.40164297287119677, 'optimizer': 'SGD', 'lr': 0.0010835248811183619}. Best is trial 2 with value: 0.780625.\u001b[0m\n",
            "/usr/local/lib/python3.7/dist-packages/ipykernel_launcher.py:46: UserWarning: To copy construct from a tensor, it is recommended to use sourceTensor.clone().detach() or sourceTensor.clone().detach().requires_grad_(True), rather than torch.tensor(sourceTensor).\n",
            "\u001b[32m[I 2022-02-18 17:31:00,919]\u001b[0m Trial 3 finished with value: 0.851875 and parameters: {'n_layers': 2, 'n_units_l0': 85, 'dropout_l0': 0.369935524584294, 'n_units_l1': 62, 'dropout_l1': 0.24395199800351558, 'optimizer': 'Adam', 'lr': 8.282340453576733e-05}. Best is trial 3 with value: 0.851875.\u001b[0m\n",
            "/usr/local/lib/python3.7/dist-packages/ipykernel_launcher.py:46: UserWarning: To copy construct from a tensor, it is recommended to use sourceTensor.clone().detach() or sourceTensor.clone().detach().requires_grad_(True), rather than torch.tensor(sourceTensor).\n",
            "\u001b[32m[I 2022-02-18 17:31:40,315]\u001b[0m Trial 4 finished with value: 0.851875 and parameters: {'n_layers': 2, 'n_units_l0': 85, 'dropout_l0': 0.34227000265420493, 'n_units_l1': 28, 'dropout_l1': 0.2774278128217246, 'optimizer': 'RMSprop', 'lr': 0.0005857244630349565}. Best is trial 3 with value: 0.851875.\u001b[0m\n",
            "/usr/local/lib/python3.7/dist-packages/ipykernel_launcher.py:46: UserWarning: To copy construct from a tensor, it is recommended to use sourceTensor.clone().detach() or sourceTensor.clone().detach().requires_grad_(True), rather than torch.tensor(sourceTensor).\n",
            "\u001b[32m[I 2022-02-18 17:32:31,901]\u001b[0m Trial 5 pruned. \u001b[0m\n",
            "/usr/local/lib/python3.7/dist-packages/ipykernel_launcher.py:46: UserWarning: To copy construct from a tensor, it is recommended to use sourceTensor.clone().detach() or sourceTensor.clone().detach().requires_grad_(True), rather than torch.tensor(sourceTensor).\n",
            "\u001b[32m[I 2022-02-18 17:33:10,298]\u001b[0m Trial 6 finished with value: 0.845625 and parameters: {'n_layers': 2, 'n_units_l0': 29, 'dropout_l0': 0.4797989596173582, 'n_units_l1': 58, 'dropout_l1': 0.22012219116827245, 'optimizer': 'RMSprop', 'lr': 0.010635194486856889}. Best is trial 3 with value: 0.851875.\u001b[0m\n",
            "/usr/local/lib/python3.7/dist-packages/ipykernel_launcher.py:46: UserWarning: To copy construct from a tensor, it is recommended to use sourceTensor.clone().detach() or sourceTensor.clone().detach().requires_grad_(True), rather than torch.tensor(sourceTensor).\n",
            "\u001b[32m[I 2022-02-18 17:33:48,049]\u001b[0m Trial 7 finished with value: 0.84625 and parameters: {'n_layers': 2, 'n_units_l0': 54, 'dropout_l0': 0.4814095925252971, 'n_units_l1': 39, 'dropout_l1': 0.24327291601440296, 'optimizer': 'SGD', 'lr': 0.08268123108263337}. Best is trial 3 with value: 0.851875.\u001b[0m\n",
            "/usr/local/lib/python3.7/dist-packages/ipykernel_launcher.py:46: UserWarning: To copy construct from a tensor, it is recommended to use sourceTensor.clone().detach() or sourceTensor.clone().detach().requires_grad_(True), rather than torch.tensor(sourceTensor).\n",
            "\u001b[32m[I 2022-02-18 17:33:50,954]\u001b[0m Trial 8 pruned. \u001b[0m\n",
            "/usr/local/lib/python3.7/dist-packages/ipykernel_launcher.py:46: UserWarning: To copy construct from a tensor, it is recommended to use sourceTensor.clone().detach() or sourceTensor.clone().detach().requires_grad_(True), rather than torch.tensor(sourceTensor).\n",
            "\u001b[32m[I 2022-02-18 17:34:31,797]\u001b[0m Trial 9 finished with value: 0.81875 and parameters: {'n_layers': 3, 'n_units_l0': 36, 'dropout_l0': 0.3351179667422699, 'n_units_l1': 46, 'dropout_l1': 0.48887822304151374, 'n_units_l2': 6, 'dropout_l2': 0.3041512976449177, 'optimizer': 'RMSprop', 'lr': 0.006203182424910121}. Best is trial 3 with value: 0.851875.\u001b[0m\n",
            "/usr/local/lib/python3.7/dist-packages/ipykernel_launcher.py:46: UserWarning: To copy construct from a tensor, it is recommended to use sourceTensor.clone().detach() or sourceTensor.clone().detach().requires_grad_(True), rather than torch.tensor(sourceTensor).\n",
            "\u001b[32m[I 2022-02-18 17:34:33,500]\u001b[0m Trial 10 pruned. \u001b[0m\n",
            "/usr/local/lib/python3.7/dist-packages/ipykernel_launcher.py:46: UserWarning: To copy construct from a tensor, it is recommended to use sourceTensor.clone().detach() or sourceTensor.clone().detach().requires_grad_(True), rather than torch.tensor(sourceTensor).\n",
            "\u001b[32m[I 2022-02-18 17:35:17,548]\u001b[0m Trial 11 finished with value: 0.855 and parameters: {'n_layers': 4, 'n_units_l0': 67, 'dropout_l0': 0.3644541327411023, 'n_units_l1': 79, 'dropout_l1': 0.289737569125466, 'n_units_l2': 40, 'dropout_l2': 0.20140804193529843, 'n_units_l3': 126, 'dropout_l3': 0.49125805390284544, 'optimizer': 'RMSprop', 'lr': 0.0003940563172904326}. Best is trial 11 with value: 0.855.\u001b[0m\n",
            "/usr/local/lib/python3.7/dist-packages/ipykernel_launcher.py:46: UserWarning: To copy construct from a tensor, it is recommended to use sourceTensor.clone().detach() or sourceTensor.clone().detach().requires_grad_(True), rather than torch.tensor(sourceTensor).\n",
            "\u001b[32m[I 2022-02-18 17:35:19,130]\u001b[0m Trial 12 pruned. \u001b[0m\n",
            "/usr/local/lib/python3.7/dist-packages/ipykernel_launcher.py:46: UserWarning: To copy construct from a tensor, it is recommended to use sourceTensor.clone().detach() or sourceTensor.clone().detach().requires_grad_(True), rather than torch.tensor(sourceTensor).\n",
            "\u001b[32m[I 2022-02-18 17:35:20,721]\u001b[0m Trial 13 pruned. \u001b[0m\n",
            "/usr/local/lib/python3.7/dist-packages/ipykernel_launcher.py:46: UserWarning: To copy construct from a tensor, it is recommended to use sourceTensor.clone().detach() or sourceTensor.clone().detach().requires_grad_(True), rather than torch.tensor(sourceTensor).\n",
            "\u001b[32m[I 2022-02-18 17:35:22,328]\u001b[0m Trial 14 pruned. \u001b[0m\n",
            "/usr/local/lib/python3.7/dist-packages/ipykernel_launcher.py:46: UserWarning: To copy construct from a tensor, it is recommended to use sourceTensor.clone().detach() or sourceTensor.clone().detach().requires_grad_(True), rather than torch.tensor(sourceTensor).\n",
            "\u001b[32m[I 2022-02-18 17:36:08,432]\u001b[0m Trial 15 finished with value: 0.85125 and parameters: {'n_layers': 5, 'n_units_l0': 72, 'dropout_l0': 0.3591568665489898, 'n_units_l1': 67, 'dropout_l1': 0.33322415249678716, 'n_units_l2': 85, 'dropout_l2': 0.37633336191974376, 'n_units_l3': 7, 'dropout_l3': 0.28457774030230826, 'n_units_l4': 74, 'dropout_l4': 0.34794395567066116, 'optimizer': 'RMSprop', 'lr': 0.0026012719897537794}. Best is trial 11 with value: 0.855.\u001b[0m\n",
            "/usr/local/lib/python3.7/dist-packages/ipykernel_launcher.py:46: UserWarning: To copy construct from a tensor, it is recommended to use sourceTensor.clone().detach() or sourceTensor.clone().detach().requires_grad_(True), rather than torch.tensor(sourceTensor).\n",
            "\u001b[32m[I 2022-02-18 17:36:09,953]\u001b[0m Trial 16 pruned. \u001b[0m\n",
            "/usr/local/lib/python3.7/dist-packages/ipykernel_launcher.py:46: UserWarning: To copy construct from a tensor, it is recommended to use sourceTensor.clone().detach() or sourceTensor.clone().detach().requires_grad_(True), rather than torch.tensor(sourceTensor).\n",
            "\u001b[32m[I 2022-02-18 17:36:11,423]\u001b[0m Trial 17 pruned. \u001b[0m\n",
            "/usr/local/lib/python3.7/dist-packages/ipykernel_launcher.py:46: UserWarning: To copy construct from a tensor, it is recommended to use sourceTensor.clone().detach() or sourceTensor.clone().detach().requires_grad_(True), rather than torch.tensor(sourceTensor).\n",
            "\u001b[32m[I 2022-02-18 17:36:17,506]\u001b[0m Trial 18 pruned. \u001b[0m\n",
            "/usr/local/lib/python3.7/dist-packages/ipykernel_launcher.py:46: UserWarning: To copy construct from a tensor, it is recommended to use sourceTensor.clone().detach() or sourceTensor.clone().detach().requires_grad_(True), rather than torch.tensor(sourceTensor).\n",
            "\u001b[32m[I 2022-02-18 17:36:18,851]\u001b[0m Trial 19 pruned. \u001b[0m\n",
            "/usr/local/lib/python3.7/dist-packages/ipykernel_launcher.py:46: UserWarning: To copy construct from a tensor, it is recommended to use sourceTensor.clone().detach() or sourceTensor.clone().detach().requires_grad_(True), rather than torch.tensor(sourceTensor).\n",
            "\u001b[32m[I 2022-02-18 17:36:20,502]\u001b[0m Trial 20 pruned. \u001b[0m\n",
            "/usr/local/lib/python3.7/dist-packages/ipykernel_launcher.py:46: UserWarning: To copy construct from a tensor, it is recommended to use sourceTensor.clone().detach() or sourceTensor.clone().detach().requires_grad_(True), rather than torch.tensor(sourceTensor).\n",
            "\u001b[32m[I 2022-02-18 17:36:59,718]\u001b[0m Trial 21 finished with value: 0.855625 and parameters: {'n_layers': 2, 'n_units_l0': 84, 'dropout_l0': 0.33517399241198476, 'n_units_l1': 19, 'dropout_l1': 0.29931198027887734, 'optimizer': 'RMSprop', 'lr': 0.000562113763724351}. Best is trial 21 with value: 0.855625.\u001b[0m\n",
            "/usr/local/lib/python3.7/dist-packages/ipykernel_launcher.py:46: UserWarning: To copy construct from a tensor, it is recommended to use sourceTensor.clone().detach() or sourceTensor.clone().detach().requires_grad_(True), rather than torch.tensor(sourceTensor).\n",
            "\u001b[32m[I 2022-02-18 17:37:38,852]\u001b[0m Trial 22 finished with value: 0.855 and parameters: {'n_layers': 2, 'n_units_l0': 86, 'dropout_l0': 0.3208159530088976, 'n_units_l1': 54, 'dropout_l1': 0.31080073584375817, 'optimizer': 'RMSprop', 'lr': 0.0027584271603935547}. Best is trial 21 with value: 0.855625.\u001b[0m\n",
            "/usr/local/lib/python3.7/dist-packages/ipykernel_launcher.py:46: UserWarning: To copy construct from a tensor, it is recommended to use sourceTensor.clone().detach() or sourceTensor.clone().detach().requires_grad_(True), rather than torch.tensor(sourceTensor).\n",
            "\u001b[32m[I 2022-02-18 17:38:17,259]\u001b[0m Trial 23 finished with value: 0.853125 and parameters: {'n_layers': 2, 'n_units_l0': 65, 'dropout_l0': 0.3158511742224246, 'n_units_l1': 18, 'dropout_l1': 0.31104242070766064, 'optimizer': 'RMSprop', 'lr': 0.0007787299811429719}. Best is trial 21 with value: 0.855625.\u001b[0m\n"
          ]
        },
        {
          "output_type": "stream",
          "name": "stdout",
          "text": [
            "Study statistics: \n",
            "  Number of finished trials:  24\n",
            "  Number of pruned trials:  11\n",
            "  Number of complete trials:  13\n",
            "Best trial:\n",
            "  Value:  0.855625\n",
            "  Params: \n",
            "    n_layers: 2\n",
            "    n_units_l0: 84\n",
            "    dropout_l0: 0.33517399241198476\n",
            "    n_units_l1: 19\n",
            "    dropout_l1: 0.29931198027887734\n",
            "    optimizer: RMSprop\n",
            "    lr: 0.000562113763724351\n"
          ]
        }
      ],
      "source": [
        "study = optuna.create_study(direction=\"maximize\")\n",
        "study.optimize(objective, n_trials=100, timeout=600)\n",
        "\n",
        "pruned_trials = study.get_trials(deepcopy=False, states=[TrialState.PRUNED])\n",
        "complete_trials = study.get_trials(deepcopy=False, states=[TrialState.COMPLETE])\n",
        "\n",
        "print(\"Study statistics: \")\n",
        "print(\"  Number of finished trials: \", len(study.trials))\n",
        "print(\"  Number of pruned trials: \", len(pruned_trials))\n",
        "print(\"  Number of complete trials: \", len(complete_trials))\n",
        "\n",
        "print(\"Best trial:\")\n",
        "trial = study.best_trial\n",
        "\n",
        "print(\"  Value: \", trial.value)\n",
        "\n",
        "print(\"  Params: \")\n",
        "for key, value in trial.params.items():\n",
        "    print(\"    {}: {}\".format(key, value))"
      ]
    },
    {
      "cell_type": "code",
      "execution_count": null,
      "metadata": {
        "id": "rG-H4dQP-Tvl"
      },
      "outputs": [],
      "source": [
        "model = define_model(trial)"
      ]
    },
    {
      "cell_type": "code",
      "execution_count": null,
      "metadata": {
        "id": "d4OI93KxANPj"
      },
      "outputs": [],
      "source": [
        "loss_criteria = nn.BCELoss()\n",
        "\n",
        "optimizer = torch.optim.RMSprop(model.parameters(), lr=trial.params['lr'])\n",
        "optimizer.zero_grad()\n",
        "\n",
        "# We'll track metrics for each epoch in these arrays\n",
        "epoch_nums = []\n",
        "training_loss = []\n",
        "validation_loss = []\n",
        "\n",
        "# Train over 30 epochs\n",
        "epochs = 30"
      ]
    },
    {
      "cell_type": "code",
      "execution_count": null,
      "metadata": {
        "id": "yr_s01yXAPrG"
      },
      "outputs": [],
      "source": [
        "def train(model, data_loader, optimizer):\n",
        "    '''\n",
        "    Train model through data loader and optimizer\n",
        "    Args:\n",
        "      model: model to train\n",
        "      data_loader: data loader to manage batch loading\n",
        "      optimizer: control update gradient descent\n",
        "    '''\n",
        "    # enable train mode\n",
        "    model.train()\n",
        "    train_loss = 0\n",
        "    \n",
        "    for batch, tensor in enumerate(data_loader):\n",
        "        data, target = tensor\n",
        "        # reset optimizer into zero\n",
        "        optimizer.zero_grad()\n",
        "        # feed forward to compute output and loss\n",
        "        out = model(data)\n",
        "        loss = loss_criteria(out, target)\n",
        "        # accumulate loss\n",
        "        train_loss += loss.item()\n",
        "        # compute gradient descent\n",
        "        loss.backward()\n",
        "        # update into weight\n",
        "        optimizer.step()\n",
        "\n",
        "    avg_loss = train_loss / (batch+1)\n",
        "    print('Training set: Average loss: {:.6f}'.format(avg_loss))\n",
        "    return avg_loss\n",
        "            "
      ]
    },
    {
      "cell_type": "code",
      "execution_count": null,
      "metadata": {
        "colab": {
          "base_uri": "https://localhost:8080/"
        },
        "id": "yq-KRvJCAR-l",
        "outputId": "24dd54c3-b5e5-4d06-c8d5-8e8ccc00019f"
      },
      "outputs": [
        {
          "output_type": "stream",
          "name": "stdout",
          "text": [
            "Epoch: 1\n",
            "Training set: Average loss: 0.354720\n",
            "Validation set: Average loss: 0.323743, Accuracy: 3936/4639 (85%)\n",
            "\n",
            "Epoch: 2\n",
            "Training set: Average loss: 0.330730\n",
            "Validation set: Average loss: 0.320343, Accuracy: 3942/4639 (85%)\n",
            "\n",
            "Epoch: 3\n",
            "Training set: Average loss: 0.322764\n",
            "Validation set: Average loss: 0.318693, Accuracy: 3947/4639 (85%)\n",
            "\n",
            "Epoch: 4\n",
            "Training set: Average loss: 0.320540\n",
            "Validation set: Average loss: 0.317630, Accuracy: 3946/4639 (85%)\n",
            "\n",
            "Epoch: 5\n",
            "Training set: Average loss: 0.314688\n",
            "Validation set: Average loss: 0.317852, Accuracy: 3950/4639 (85%)\n",
            "\n",
            "Epoch: 6\n",
            "Training set: Average loss: 0.315375\n",
            "Validation set: Average loss: 0.318220, Accuracy: 3948/4639 (85%)\n",
            "\n",
            "Epoch: 7\n",
            "Training set: Average loss: 0.314440\n",
            "Validation set: Average loss: 0.318280, Accuracy: 3955/4639 (85%)\n",
            "\n",
            "Epoch: 8\n",
            "Training set: Average loss: 0.311180\n",
            "Validation set: Average loss: 0.317888, Accuracy: 3964/4639 (85%)\n",
            "\n",
            "Epoch: 9\n",
            "Training set: Average loss: 0.310036\n",
            "Validation set: Average loss: 0.316253, Accuracy: 3952/4639 (85%)\n",
            "\n",
            "Epoch: 10\n",
            "Training set: Average loss: 0.307034\n",
            "Validation set: Average loss: 0.316559, Accuracy: 3961/4639 (85%)\n",
            "\n",
            "Epoch: 11\n",
            "Training set: Average loss: 0.306096\n",
            "Validation set: Average loss: 0.315553, Accuracy: 3970/4639 (86%)\n",
            "\n",
            "Epoch: 12\n",
            "Training set: Average loss: 0.305154\n",
            "Validation set: Average loss: 0.315755, Accuracy: 3972/4639 (86%)\n",
            "\n",
            "Epoch: 13\n",
            "Training set: Average loss: 0.303155\n",
            "Validation set: Average loss: 0.317214, Accuracy: 3956/4639 (85%)\n",
            "\n",
            "Epoch: 14\n",
            "Training set: Average loss: 0.303850\n",
            "Validation set: Average loss: 0.317014, Accuracy: 3981/4639 (86%)\n",
            "\n",
            "Epoch: 15\n",
            "Training set: Average loss: 0.303432\n",
            "Validation set: Average loss: 0.315584, Accuracy: 3971/4639 (86%)\n",
            "\n",
            "Epoch: 16\n",
            "Training set: Average loss: 0.301754\n",
            "Validation set: Average loss: 0.315318, Accuracy: 3987/4639 (86%)\n",
            "\n",
            "Epoch: 17\n",
            "Training set: Average loss: 0.301146\n",
            "Validation set: Average loss: 0.318017, Accuracy: 3983/4639 (86%)\n",
            "\n",
            "Epoch: 18\n",
            "Training set: Average loss: 0.299551\n",
            "Validation set: Average loss: 0.316362, Accuracy: 3970/4639 (86%)\n",
            "\n",
            "Epoch: 19\n",
            "Training set: Average loss: 0.297504\n",
            "Validation set: Average loss: 0.316253, Accuracy: 3984/4639 (86%)\n",
            "\n",
            "Epoch: 20\n",
            "Training set: Average loss: 0.299316\n",
            "Validation set: Average loss: 0.316746, Accuracy: 3969/4639 (86%)\n",
            "\n",
            "Epoch: 21\n",
            "Training set: Average loss: 0.298818\n",
            "Validation set: Average loss: 0.315816, Accuracy: 3977/4639 (86%)\n",
            "\n",
            "Epoch: 22\n",
            "Training set: Average loss: 0.295105\n",
            "Validation set: Average loss: 0.318363, Accuracy: 3987/4639 (86%)\n",
            "\n",
            "Epoch: 23\n",
            "Training set: Average loss: 0.296125\n",
            "Validation set: Average loss: 0.316401, Accuracy: 3986/4639 (86%)\n",
            "\n",
            "Epoch: 24\n",
            "Training set: Average loss: 0.297048\n",
            "Validation set: Average loss: 0.316745, Accuracy: 3976/4639 (86%)\n",
            "\n",
            "Epoch: 25\n",
            "Training set: Average loss: 0.292713\n",
            "Validation set: Average loss: 0.318261, Accuracy: 3971/4639 (86%)\n",
            "\n",
            "Epoch: 26\n",
            "Training set: Average loss: 0.294116\n",
            "Validation set: Average loss: 0.317042, Accuracy: 3973/4639 (86%)\n",
            "\n",
            "Epoch: 27\n",
            "Training set: Average loss: 0.294787\n",
            "Validation set: Average loss: 0.316559, Accuracy: 3976/4639 (86%)\n",
            "\n",
            "Epoch: 28\n",
            "Training set: Average loss: 0.291637\n",
            "Validation set: Average loss: 0.318152, Accuracy: 3968/4639 (86%)\n",
            "\n",
            "Epoch: 29\n",
            "Training set: Average loss: 0.290593\n",
            "Validation set: Average loss: 0.319066, Accuracy: 3975/4639 (86%)\n",
            "\n",
            "Epoch: 30\n",
            "Training set: Average loss: 0.292221\n",
            "Validation set: Average loss: 0.323097, Accuracy: 3976/4639 (86%)\n",
            "\n"
          ]
        }
      ],
      "source": [
        "# training through epoch\n",
        "for epoch in range(1, epochs + 1):\n",
        "    # print the epoch number\n",
        "    print('Epoch: {}'.format(epoch))\n",
        "    \n",
        "    # Feed training data into the model to optimize the weights\n",
        "    train_loss = train(model, train_loader, optimizer)\n",
        "    \n",
        "    # Feed the test data into the model to check its performance\n",
        "    test_loss = test(model, test_loader)\n",
        "    \n",
        "    # Log the metrics for this epoch\n",
        "    epoch_nums.append(epoch)\n",
        "    training_loss.append(train_loss)\n",
        "    validation_loss.append(test_loss)"
      ]
    },
    {
      "cell_type": "code",
      "execution_count": null,
      "metadata": {
        "colab": {
          "base_uri": "https://localhost:8080/",
          "height": 572
        },
        "id": "HXLjixgrAbOb",
        "outputId": "3a544341-bf2d-4a72-c2bf-71d6c91d2d71"
      },
      "outputs": [
        {
          "output_type": "stream",
          "name": "stdout",
          "text": [
            "Evaluation on test dataset\n",
            "ACCURACY_SCORE:  0.8571\n",
            "F1_SCORE:  0.782\n",
            "CONFUSION_MATRIX:\n",
            " [[3349  206]\n",
            " [ 457  627]] \n",
            "\n",
            "              precision    recall  f1-score   support\n",
            "\n",
            "           0     0.8799    0.9421    0.9099      3555\n",
            "           1     0.7527    0.5784    0.6541      1084\n",
            "\n",
            "    accuracy                         0.8571      4639\n",
            "   macro avg     0.8163    0.7602    0.7820      4639\n",
            "weighted avg     0.8502    0.8571    0.8502      4639\n",
            " \n",
            "\n"
          ]
        },
        {
          "output_type": "display_data",
          "data": {
            "image/png": "[encoded data removed]",
            "text/plain": [
              "<Figure size 432x288 with 2 Axes>"
            ]
          },
          "metadata": {
            "needs_background": "light"
          }
        }
      ],
      "source": [
        "import matplotlib.pyplot as plt\n",
        "%matplotlib inline\n",
        "def _evaluate(model, x_test):\n",
        "  model.eval()\n",
        "  x = torch.Tensor(x_test).float()\n",
        "  predictions = [1 if i>0.5 else 0 for i in model(x).data]\n",
        "  predictions = torch.tensor(predictions)\n",
        "  print('Evaluation on test dataset')\n",
        "  get_metrics(y_test, predictions)\n",
        "\n",
        "  # Plot the confusion matrix\n",
        "  classes=['0','1']\n",
        "  cm = confusion_matrix(y_test, predictions.numpy())\n",
        "  plt.imshow(cm, interpolation=\"nearest\", cmap=plt.cm.Blues)\n",
        "  plt.colorbar()\n",
        "  tick_marks = np.arange(2)\n",
        "  plt.xticks(tick_marks, classes, rotation=85)\n",
        "  plt.yticks(tick_marks, classes)\n",
        "  plt.xlabel(\"Predicted\")\n",
        "  plt.ylabel(\"Actual\")\n",
        "  plt.show()\n",
        "_evaluate(model, x_test)"
      ]
    },
    {
      "cell_type": "markdown",
      "metadata": {
        "id": "oP3fKvbV-T_0"
      },
      "source": [
        "# Flask API"
      ]
    },
    {
      "cell_type": "code",
      "execution_count": null,
      "metadata": {
        "id": "j9IghFdh-WXf"
      },
      "outputs": [],
      "source": [
        "torch.save(model.state_dict(), 'income_model.pth')"
      ]
    },
    {
      "cell_type": "code",
      "execution_count": null,
      "metadata": {
        "colab": {
          "base_uri": "https://localhost:8080/"
        },
        "id": "7JOy_bye-fFi",
        "outputId": "a19e1c24-c30d-4e90-a1f9-9edfeeb59256"
      },
      "outputs": [
        {
          "metadata": {
            "tags": null
          },
          "name": "stdout",
          "output_type": "stream",
          "text": [
            "App run!\n",
            " * Serving Flask app \"__main__\" (lazy loading)\n",
            " * Environment: production\n",
            "\u001b[31m   WARNING: This is a development server. Do not use it in a production deployment.\u001b[0m\n",
            "\u001b[2m   Use a production WSGI server instead.\u001b[0m\n",
            " * Debug mode: off\n"
          ]
        },
        {
          "metadata": {
            "tags": null
          },
          "name": "stderr",
          "output_type": "stream",
          "text": [
            " * Running on http://localhost:5000/ (Press CTRL+C to quit)\n"
          ]
        }
      ],
      "source": [
        "from PIL import Image\n",
        "import numpy as np\n",
        "from flask import Flask, request, make_response \n",
        "import flask\n",
        "import json\n",
        "\n",
        "# Khởi tạo model.\n",
        "# PATH = 'income_model.pth'\n",
        "# model = IncomeNet()\n",
        "# model.load_state_dict(torch.load(PATH))\n",
        "model.eval()\n",
        "\n",
        "# Khởi tạo flask app\n",
        "app = Flask(__name__)\n",
        "\n",
        "# Khai báo các route 1 cho API\n",
        "@app.route(\"/\", methods=[\"GET\"])\n",
        "# Khai báo hàm xử lý dữ liệu.\n",
        "def _hello_world():\n",
        "  return \"Hello world\"\n",
        "\n",
        "\n",
        "# @app.route('/csv/')  \n",
        "# def download_csv():  \n",
        "#     csv = 'foo,bar,baz\\nhai,bai,crai\\n'  \n",
        "#     response = make_response(csv)\n",
        "#     cd = 'attachment; filename=test.csv'\n",
        "#     response.headers['Content-Disposition'] = cd \n",
        "#     response.mimetype='text/csv'\n",
        "\n",
        "#     return response\n",
        "\n",
        "# Khai báo các route 2 cho API\n",
        "@app.route(\"/predict\", methods=[\"GET\"])\n",
        "# Khai báo hàm xử lý dữ liệu.\n",
        "def _predict():\n",
        "    x = torch.Tensor(x_test).float()\n",
        "    _, predicted = torch.max(model(x).data, 1)\n",
        "    return predicted\n",
        "\n",
        "if __name__ == \"__main__\":\n",
        "  print(\"App run!\")\n",
        "  app.run(debug=False, host='localhost', threaded=False)\n"
      ]
    }
  ],
  "metadata": {
    "accelerator": "GPU",
    "colab": {
      "collapsed_sections": [],
      "name": "4.Homework_VuXuanHien.ipynb",
      "provenance": []
    },
    "kernelspec": {
      "display_name": "Python 3",
      "name": "python3"
    },
    "language_info": {
      "name": "python"
    }
  },
  "nbformat": 4,
  "nbformat_minor": 0
}