{
  "nbformat": 4,
  "nbformat_minor": 0,
  "metadata": {
    "colab": {
      "name": "4.Homework_NguyenVietLong.ipynb",
      "provenance": [],
      "collapsed_sections": []
    },
    "kernelspec": {
      "name": "python3",
      "display_name": "Python 3"
    },
    "language_info": {
      "name": "python"
    },
    "accelerator": "GPU"
  },
  "cells": [
    {
      "cell_type": "code",
      "execution_count": null,
      "metadata": {
        "id": "AEr1eFvAmug6"
      },
      "outputs": [],
      "source": [
        ""
      ]
    },
    {
      "cell_type": "markdown",
      "source": [
        "# I. Lý thuyết\n",
        "\n",
        "1) Tại sao các mô hình deep learning lại chiếm ưu thế hơn so với các mô hình machine learning truyền thống đối với dữ liệu lớn ?\n",
        "\n",
        "A. Do mô hình deep learning có thể được thiết kế với kích thước tùy ý nên có khả năng xấp xỉ mọi hàm số. Do đó nó có khả năng biểu diễn tốt và hoạt động hiệu quả trên dữ liệu lớn.\n",
        "\n",
        "B. Các mô hình machine learning thường bị overfitting đối với dữ liệu lớn ?\n",
        "\n",
        "C. Các mô hình deep learning có chi phí huấn luyện tốn kém hơn so với machine learning.\n",
        "\n",
        "D. Do kiến trúc của mô hình Machine Learning bao gồm nhiều layers xếp chồng.\n",
        "\n",
        "\n",
        "2) Ý nghĩa của hàm loss function trong mạng neural network là gì ?\n",
        "\n",
        "A. Là hàm số đánh giá độ chính xác của mô hình.\n",
        "\n",
        "B. Mục tiêu của quá trình huấn luyện là tối thiểu hóa hàm loss function bằng thuật toán gradient descent. Giá trị của hàm số này giúp đo lường mức độ khớp của dự báo từ mô hình trên dữ liệu huấn luyện.\n",
        "\n",
        "C. Khi loss function giảm thì luôn đảm bảo độ chính xác của mô hình tăng.\n",
        "\n",
        "D. Là hàm số cần tối đa hóa trong quá trình huấn luyện.\n",
        "\n",
        "\n",
        "3) Khi huấn luyện trên các bộ dữ liệu bigdata thì chúng ta nên sử dụng phương pháp nào ?\n",
        "\n",
        "A) Sử dụng gradient descent trên toàn bộ dữ liệu.\n",
        "\n",
        "B) Sử dụng stochastic gradient descent trên từng điểm dữ liệu.\n",
        "\n",
        "C) Mini-batch gradient descent huấn luyện mô hình trên từng tập dữ liệu con có kích thước nhỏ hơn memory CPU/GPU.\n",
        "\n",
        "D) Có thể sử dụng stochastic gradient descent hoặc mini-batch gradient descent.\n",
        "\n",
        "\n",
        "4) Quá trình feed forward và backpropagation thực hiện những gì ?\n",
        "\n",
        "A) feed forward tính toán output và loss function, backpropagation tính đạo hàm trên từng layer và cập nhật trọng số.\n",
        "\n",
        "B) feed forward cập nhật trọng số cho mô hình, backpropagation tính toán output và loss function.\n",
        "\n",
        "C) feed forward tính ra output của mô hình, backpropagation tính toán loss function\n",
        "\n",
        "D) feed forward được thực hiện sau backpropagation.\n",
        "\n",
        "5) Tác dụng của batch normalization là gì ?\n",
        "\n",
        "A) Loại bỏ một tỷ lệ ngẫu nhiên số lượng units tại mỗi layer để tạo thành nhiều kiến trúc kết hợp ngẫu nhiên.\n",
        "\n",
        "B) Tìm ra các tham số phân phối là trung bình và phương sai trên từng mini-batch.\n",
        "\n",
        "C) Đồng nhất phân phối xác suất của $z^{[l]}$ trên mỗi layer $l$.\n",
        "\n",
        "D) Giảm thiểu ảnh hưởng của input distribution shift nhằm giúp huấn luyện loss function nhanh và ổn định hơn."
      ],
      "metadata": {
        "id": "PDDUcokDmyX4"
      }
    },
    {
      "cell_type": "markdown",
      "source": [
        "# II. Thực hành\n",
        "\n",
        "Xuất phát từ mô hình tốt nhất của bạn xây dựng được đối với bài toán phân loại income classification tại bài trước. Bạn hãy thực hiện một số thử nghiệm sau:\n",
        "\n",
        "6) Thay đổi hàm loss function, batch size và optimizer.\n",
        "\n",
        "7) Thử nghiệm thêm các layers mà bạn đã học được trong bài này vào kiến trúc của mình.\n",
        "\n",
        "8) Thay đổi các khởi tạo trọng số theo các phân phối khác nhau và đánh giá độ chính xác của kết quả huấn luyện.\n",
        "\n",
        "9) Thiết lập không gian search và tự động hóa tìm kiếm kiến trúc tốt nhất trên optuna.\n",
        "\n",
        "10) Deploy model sử dụng flask ap. Tham khảo [Flaskapp tutorial](https://drive.google.com/file/d/1AZNtzrmnhJ-OBgijWoaAqXbPhJ6xL0Po/view?usp=sharing)."
      ],
      "metadata": {
        "id": "zYoLCUgcm1Km"
      }
    },
    {
      "cell_type": "markdown",
      "source": [
        "# Part1 \n",
        "1) A\n",
        "2) B\n",
        "3) C\n",
        "4) A\n",
        "5) C\n"
      ],
      "metadata": {
        "id": "WZeUWLVi9EDt"
      }
    },
    {
      "cell_type": "code",
      "source": [
        "from google.colab import drive\n",
        "import os\n",
        "\n",
        "drive.mount(\"/content/gdrive\")\n",
        "os.chdir(\"gdrive/MyDrive/Colab Notebooks/KhanhML\")\n",
        "print(os.getcwd())"
      ],
      "metadata": {
        "id": "9QCKPFZJ0btG",
        "colab": {
          "base_uri": "https://localhost:8080/"
        },
        "outputId": "ae3dee10-55a4-4f9a-94ab-d6c45ea93c5b"
      },
      "execution_count": null,
      "outputs": [
        {
          "output_type": "stream",
          "name": "stdout",
          "text": [
            "Mounted at /content/gdrive\n",
            "/content/gdrive/MyDrive/Colab Notebooks/KhanhML\n"
          ]
        }
      ]
    },
    {
      "cell_type": "code",
      "source": [
        "import tensorflow as tf\n",
        "import tensorflow\n",
        "from tensorflow import keras\n",
        "from tensorflow.keras import models\n",
        "from tensorflow.keras.models import Sequential\n",
        "from tensorflow.keras.layers import Dense, BatchNormalization, Dropout\n",
        "from tensorflow.keras import utils\n",
        "from tensorflow.keras import optimizers\n",
        "\n",
        "import pandas as pd\n",
        "import numpy as np\n",
        "from sklearn.model_selection import train_test_split\n",
        "from sklearn.preprocessing import MinMaxScaler, StandardScaler\n",
        "from sklearn.metrics import accuracy_score\n"
      ],
      "metadata": {
        "id": "sdvlmZ3q0b1x"
      },
      "execution_count": null,
      "outputs": []
    },
    {
      "cell_type": "code",
      "source": [
        "!nvidia-smi"
      ],
      "metadata": {
        "colab": {
          "base_uri": "https://localhost:8080/"
        },
        "id": "zm3CtOGYyqaJ",
        "outputId": "7ad75893-3504-4468-852f-8e09b315d064"
      },
      "execution_count": null,
      "outputs": [
        {
          "output_type": "stream",
          "name": "stdout",
          "text": [
            "/bin/bash: nvidia-smi: command not found\n"
          ]
        }
      ]
    },
    {
      "cell_type": "code",
      "source": [
        "train  = pd.read_csv(\"/content/gdrive/MyDrive/Colab Notebooks/KhanhML/train_income.csv\")\n",
        "test  = pd.read_csv(\"/content/gdrive/MyDrive/Colab Notebooks/KhanhML/test_income.csv\")"
      ],
      "metadata": {
        "id": "2RzKd-XX0QFf"
      },
      "execution_count": null,
      "outputs": []
    },
    {
      "cell_type": "code",
      "source": [
        "def one_hot_categorical_features(df, cat_features):\n",
        "    df_new=pd.get_dummies(df, columns=cat_features)\n",
        "    return df_new\n",
        "\n",
        "def preprocess_data(data, continuous_feat, categorical_feat, income_feat):\n",
        "    scaler=StandardScaler()\n",
        "    data = data[continuous_feat+categorical_feat+income_feat]\n",
        "    for col in data.columns:\n",
        "        data[col].replace(\"?\", np.nan, inplace=True)\n",
        "        \n",
        "        if col in continuous_feat:\n",
        "            data[col] = scaler.fit_transform(np.array(data[col]).reshape(-1,1))      \n",
        "    return data"
      ],
      "metadata": {
        "id": "msugH5DB0j3C"
      },
      "execution_count": null,
      "outputs": []
    },
    {
      "cell_type": "code",
      "source": [
        "## Process\n",
        "categorical_feat = ['work_type','education','marital_state','job','status','ethnicity','sex','nationality']\n",
        "continuous_feat = ['age','final_weight','total_education_yrs','capital_gain','capital_loss','hrs_per_week']\n",
        "\n",
        "train_process = preprocess_data(train.iloc[:,1:],continuous_feat,categorical_feat,['target_income'])\n",
        "test_process = preprocess_data(test.iloc[:,1:],continuous_feat,categorical_feat,[])\n",
        "\n",
        "train_process = one_hot_categorical_features(train_process,categorical_feat)\n",
        "test_process = one_hot_categorical_features(test_process,categorical_feat)"
      ],
      "metadata": {
        "id": "QxqcqvTO0j5p",
        "colab": {
          "base_uri": "https://localhost:8080/"
        },
        "outputId": "c4b780bc-c2d3-49a1-fe3d-deb8d837fdf0"
      },
      "execution_count": null,
      "outputs": [
        {
          "output_type": "stream",
          "name": "stderr",
          "text": [
            "/usr/local/lib/python3.7/dist-packages/pandas/core/generic.py:6619: SettingWithCopyWarning: \n",
            "A value is trying to be set on a copy of a slice from a DataFrame\n",
            "\n",
            "See the caveats in the documentation: https://pandas.pydata.org/pandas-docs/stable/user_guide/indexing.html#returning-a-view-versus-a-copy\n",
            "  return self._update_inplace(result)\n",
            "/usr/local/lib/python3.7/dist-packages/pandas/core/generic.py:6619: SettingWithCopyWarning: \n",
            "A value is trying to be set on a copy of a slice from a DataFrame\n",
            "\n",
            "See the caveats in the documentation: https://pandas.pydata.org/pandas-docs/stable/user_guide/indexing.html#returning-a-view-versus-a-copy\n",
            "  return self._update_inplace(result)\n"
          ]
        }
      ]
    },
    {
      "cell_type": "code",
      "source": [
        "label = 'target_income'\n",
        "features = [i for i in train_process.columns if 'target_income' not in i and i in test_process.columns]\n",
        "x_train, x_test, y_train, y_test = train_test_split(train_process[features].values, # input variable\n",
        "                                                    train_process[label].values, # output variable\n",
        "                                                    test_size=0.20, # test dataset proportion\n",
        "                                                    stratify=train_process['target_income'], # assign equal proportion of target label in train/test \n",
        "                                                    random_state=0) # keep train/test split the same if run again. \n",
        "\n",
        "x_train = x_train.astype('float32')\n",
        "x_test = x_test.astype('float32')"
      ],
      "metadata": {
        "id": "u_55ATPP0j_b"
      },
      "execution_count": null,
      "outputs": []
    },
    {
      "cell_type": "code",
      "source": [
        "hl = 20 # Number of hidden layer nodes\n",
        "\n",
        "model = Sequential()\n",
        "model.add(Dense(hl, input_dim=len(features), activation='sigmoid', kernel_initializer=tf.initializers.HeNormal()))\n",
        "model.add(BatchNormalization())\n",
        "model.add(Dense(hl, input_dim=hl, activation='relu', kernel_initializer=tf.initializers.HeNormal()))\n",
        "model.add(BatchNormalization())\n",
        "model.add(Dense(hl, input_dim=hl, activation='tanh', kernel_initializer=tf.initializers.RandomNormal()))\n",
        "model.add(BatchNormalization())\n",
        "model.add(Dropout(0.15))\n",
        "model.add(Dense(hl, input_dim=hl, activation='relu', kernel_initializer=tf.initializers.RandomNormal()))\n",
        "model.add(BatchNormalization())\n",
        "model.add(Dense(1, input_dim=hl, activation='sigmoid'))\n",
        "\n",
        "print(model.summary())"
      ],
      "metadata": {
        "id": "0Xgaz9bV0wFJ",
        "colab": {
          "base_uri": "https://localhost:8080/"
        },
        "outputId": "d3485d69-c637-4e78-f0ac-957da317424b"
      },
      "execution_count": null,
      "outputs": [
        {
          "output_type": "stream",
          "name": "stdout",
          "text": [
            "Model: \"sequential\"\n",
            "_________________________________________________________________\n",
            " Layer (type)                Output Shape              Param #   \n",
            "=================================================================\n",
            " dense (Dense)               (None, 20)                2100      \n",
            "                                                                 \n",
            " batch_normalization (BatchN  (None, 20)               80        \n",
            " ormalization)                                                   \n",
            "                                                                 \n",
            " dense_1 (Dense)             (None, 20)                420       \n",
            "                                                                 \n",
            " batch_normalization_1 (Batc  (None, 20)               80        \n",
            " hNormalization)                                                 \n",
            "                                                                 \n",
            " dense_2 (Dense)             (None, 20)                420       \n",
            "                                                                 \n",
            " batch_normalization_2 (Batc  (None, 20)               80        \n",
            " hNormalization)                                                 \n",
            "                                                                 \n",
            " dropout (Dropout)           (None, 20)                0         \n",
            "                                                                 \n",
            " dense_3 (Dense)             (None, 20)                420       \n",
            "                                                                 \n",
            " batch_normalization_3 (Batc  (None, 20)               80        \n",
            " hNormalization)                                                 \n",
            "                                                                 \n",
            " dense_4 (Dense)             (None, 1)                 21        \n",
            "                                                                 \n",
            "=================================================================\n",
            "Total params: 3,701\n",
            "Trainable params: 3,541\n",
            "Non-trainable params: 160\n",
            "_________________________________________________________________\n",
            "None\n"
          ]
        }
      ]
    },
    {
      "cell_type": "code",
      "source": [
        "learning_rate = 0.001\n",
        "opt = optimizers.Adam(lr=learning_rate)\n",
        "\n",
        "model.compile(loss='BinaryCrossentropy',\n",
        "              optimizer=opt,\n",
        "              metrics=['Accuracy'])\n",
        "\n",
        "# Train the model over 50 epochs using 10-observation batches and using the test holdout dataset for validation\n",
        "num_epochs = 10\n",
        "history = model.fit(x_train, y_train, epochs=num_epochs, batch_size=16)"
      ],
      "metadata": {
        "id": "O5gVIIry0v3N",
        "colab": {
          "base_uri": "https://localhost:8080/",
          "height": 281
        },
        "outputId": "52ea31ae-78c0-4f02-bf88-88a3d6b88bf4"
      },
      "execution_count": null,
      "outputs": [
        {
          "output_type": "stream",
          "name": "stderr",
          "text": [
            "/usr/local/lib/python3.7/dist-packages/keras/optimizer_v2/adam.py:105: UserWarning: The `lr` argument is deprecated, use `learning_rate` instead.\n",
            "  super(Adam, self).__init__(name, **kwargs)\n"
          ]
        },
        {
          "output_type": "error",
          "ename": "NameError",
          "evalue": "ignored",
          "traceback": [
            "\u001b[0;31m---------------------------------------------------------------------------\u001b[0m",
            "\u001b[0;31mNameError\u001b[0m                                 Traceback (most recent call last)",
            "\u001b[0;32m<ipython-input-8-ebb306d0a312>\u001b[0m in \u001b[0;36m<module>\u001b[0;34m()\u001b[0m\n\u001b[1;32m      2\u001b[0m \u001b[0mopt\u001b[0m \u001b[0;34m=\u001b[0m \u001b[0moptimizers\u001b[0m\u001b[0;34m.\u001b[0m\u001b[0mAdam\u001b[0m\u001b[0;34m(\u001b[0m\u001b[0mlr\u001b[0m\u001b[0;34m=\u001b[0m\u001b[0mlearning_rate\u001b[0m\u001b[0;34m)\u001b[0m\u001b[0;34m\u001b[0m\u001b[0;34m\u001b[0m\u001b[0m\n\u001b[1;32m      3\u001b[0m \u001b[0;34m\u001b[0m\u001b[0m\n\u001b[0;32m----> 4\u001b[0;31m model.compile(loss='BinaryCrossentropy',\n\u001b[0m\u001b[1;32m      5\u001b[0m               \u001b[0moptimizer\u001b[0m\u001b[0;34m=\u001b[0m\u001b[0mopt\u001b[0m\u001b[0;34m,\u001b[0m\u001b[0;34m\u001b[0m\u001b[0;34m\u001b[0m\u001b[0m\n\u001b[1;32m      6\u001b[0m               metrics=['Accuracy'])\n",
            "\u001b[0;31mNameError\u001b[0m: name 'model' is not defined"
          ]
        }
      ]
    },
    {
      "cell_type": "code",
      "source": [
        "model.save('/gdrive/MyDrive/Colab Notebooks/KhanhML/income_dl')"
      ],
      "metadata": {
        "colab": {
          "base_uri": "https://localhost:8080/"
        },
        "id": "IJA8q9fHJugJ",
        "outputId": "0808170f-db79-4308-c348-57be67f7afb5"
      },
      "execution_count": null,
      "outputs": [
        {
          "output_type": "stream",
          "name": "stdout",
          "text": [
            "INFO:tensorflow:Assets written to: /gdrive/MyDrive/Colab Notebooks/KhanhML/income_dl/assets\n"
          ]
        }
      ]
    },
    {
      "cell_type": "code",
      "source": [
        "from sklearn.metrics import confusion_matrix\n",
        "%matplotlib inline\n",
        "from matplotlib import pyplot as plt\n",
        "\n",
        "# Get predictions for the test data\n",
        "predicted = model.predict(x_test)\n",
        "predicted = np.where(predicted > 0.5, 1, 0)\n",
        "\n",
        "# Plot the confusion matrix\n",
        "cm = confusion_matrix(y_test, predicted)\n",
        "# plt.imshow(cm, interpolation=\"nearest\", cmap=plt.cm.Blues)\n",
        "# plt.colorbar()\n",
        "# # tick_marks = np.arange(len(label))\n",
        "# # plt.xticks(tick_marks, label, rotation=45)\n",
        "# # plt.yticks(tick_marks, label)\n",
        "# plt.xlabel(\"Predicted\")\n",
        "# plt.ylabel(\"Actual\")\n",
        "# # plt.show()"
      ],
      "metadata": {
        "id": "q57PKT3kImTD"
      },
      "execution_count": null,
      "outputs": []
    },
    {
      "cell_type": "code",
      "source": [
        "from sklearn.metrics import confusion_matrix, ConfusionMatrixDisplay\n",
        "\n",
        "disp = ConfusionMatrixDisplay(confusion_matrix=cm)\n",
        "disp.plot()\n",
        "plt.show()"
      ],
      "metadata": {
        "colab": {
          "base_uri": "https://localhost:8080/",
          "height": 283
        },
        "id": "hOpCn18EImc0",
        "outputId": "4b27f660-d4e4-49db-b78a-3997773f6b50"
      },
      "execution_count": null,
      "outputs": [
        {
          "output_type": "display_data",
          "data": {
            "image/png": "[encoded data removed]",
            "text/plain": [
              "<Figure size 432x288 with 2 Axes>"
            ]
          },
          "metadata": {
            "needs_background": "light"
          }
        }
      ]
    },
    {
      "cell_type": "code",
      "source": [
        "accuracy_score(y_test, predicted)"
      ],
      "metadata": {
        "colab": {
          "base_uri": "https://localhost:8080/"
        },
        "id": "01t20Ycy1uKT",
        "outputId": "3dd754d0-4b08-4076-da56-34e02cda165d"
      },
      "execution_count": null,
      "outputs": [
        {
          "output_type": "execute_result",
          "data": {
            "text/plain": [
              "0.8586"
            ]
          },
          "metadata": {},
          "execution_count": 15
        }
      ]
    },
    {
      "cell_type": "code",
      "source": [
        ""
      ],
      "metadata": {
        "id": "__hCKd8t08Lo"
      },
      "execution_count": null,
      "outputs": []
    },
    {
      "cell_type": "markdown",
      "source": [
        "# OPTUNA"
      ],
      "metadata": {
        "id": "uQUlQU36pZZg"
      }
    },
    {
      "cell_type": "code",
      "source": [
        "!pip install optuna\n",
        "import optuna \n",
        "import joblib\n",
        "import time"
      ],
      "metadata": {
        "colab": {
          "base_uri": "https://localhost:8080/"
        },
        "id": "xwlmeYnnpgvh",
        "outputId": "81e9c56c-91b6-4e46-a7f0-78ff0d4faa61"
      },
      "execution_count": null,
      "outputs": [
        {
          "output_type": "stream",
          "name": "stdout",
          "text": [
            "Collecting optuna\n",
            "  Downloading optuna-2.10.0-py3-none-any.whl (308 kB)\n",
            "\u001b[?25l\r\u001b[K     |█                               | 10 kB 16.2 MB/s eta 0:00:01\r\u001b[K     |██▏                             | 20 kB 20.7 MB/s eta 0:00:01\r\u001b[K     |███▏                            | 30 kB 25.5 MB/s eta 0:00:01\r\u001b[K     |████▎                           | 40 kB 6.4 MB/s eta 0:00:01\r\u001b[K     |█████▎                          | 51 kB 6.5 MB/s eta 0:00:01\r\u001b[K     |██████▍                         | 61 kB 7.6 MB/s eta 0:00:01\r\u001b[K     |███████▍                        | 71 kB 7.4 MB/s eta 0:00:01\r\u001b[K     |████████▌                       | 81 kB 6.6 MB/s eta 0:00:01\r\u001b[K     |█████████▋                      | 92 kB 7.3 MB/s eta 0:00:01\r\u001b[K     |██████████▋                     | 102 kB 7.5 MB/s eta 0:00:01\r\u001b[K     |███████████▊                    | 112 kB 7.5 MB/s eta 0:00:01\r\u001b[K     |████████████▊                   | 122 kB 7.5 MB/s eta 0:00:01\r\u001b[K     |█████████████▉                  | 133 kB 7.5 MB/s eta 0:00:01\r\u001b[K     |██████████████▉                 | 143 kB 7.5 MB/s eta 0:00:01\r\u001b[K     |████████████████                | 153 kB 7.5 MB/s eta 0:00:01\r\u001b[K     |█████████████████               | 163 kB 7.5 MB/s eta 0:00:01\r\u001b[K     |██████████████████              | 174 kB 7.5 MB/s eta 0:00:01\r\u001b[K     |███████████████████▏            | 184 kB 7.5 MB/s eta 0:00:01\r\u001b[K     |████████████████████▏           | 194 kB 7.5 MB/s eta 0:00:01\r\u001b[K     |█████████████████████▎          | 204 kB 7.5 MB/s eta 0:00:01\r\u001b[K     |██████████████████████▎         | 215 kB 7.5 MB/s eta 0:00:01\r\u001b[K     |███████████████████████▍        | 225 kB 7.5 MB/s eta 0:00:01\r\u001b[K     |████████████████████████▌       | 235 kB 7.5 MB/s eta 0:00:01\r\u001b[K     |█████████████████████████▌      | 245 kB 7.5 MB/s eta 0:00:01\r\u001b[K     |██████████████████████████▋     | 256 kB 7.5 MB/s eta 0:00:01\r\u001b[K     |███████████████████████████▋    | 266 kB 7.5 MB/s eta 0:00:01\r\u001b[K     |████████████████████████████▊   | 276 kB 7.5 MB/s eta 0:00:01\r\u001b[K     |█████████████████████████████▊  | 286 kB 7.5 MB/s eta 0:00:01\r\u001b[K     |██████████████████████████████▉ | 296 kB 7.5 MB/s eta 0:00:01\r\u001b[K     |████████████████████████████████| 307 kB 7.5 MB/s eta 0:00:01\r\u001b[K     |████████████████████████████████| 308 kB 7.5 MB/s \n",
            "\u001b[?25hRequirement already satisfied: sqlalchemy>=1.1.0 in /usr/local/lib/python3.7/dist-packages (from optuna) (1.4.31)\n",
            "Collecting cliff\n",
            "  Downloading cliff-3.10.0-py3-none-any.whl (80 kB)\n",
            "\u001b[K     |████████████████████████████████| 80 kB 8.5 MB/s \n",
            "\u001b[?25hRequirement already satisfied: packaging>=20.0 in /usr/local/lib/python3.7/dist-packages (from optuna) (21.3)\n",
            "Requirement already satisfied: tqdm in /usr/local/lib/python3.7/dist-packages (from optuna) (4.62.3)\n",
            "Collecting colorlog\n",
            "  Downloading colorlog-6.6.0-py2.py3-none-any.whl (11 kB)\n",
            "Requirement already satisfied: numpy in /usr/local/lib/python3.7/dist-packages (from optuna) (1.21.5)\n",
            "Requirement already satisfied: PyYAML in /usr/local/lib/python3.7/dist-packages (from optuna) (3.13)\n",
            "Collecting alembic\n",
            "  Downloading alembic-1.7.6-py3-none-any.whl (210 kB)\n",
            "\u001b[K     |████████████████████████████████| 210 kB 68.0 MB/s \n",
            "\u001b[?25hCollecting cmaes>=0.8.2\n",
            "  Downloading cmaes-0.8.2-py3-none-any.whl (15 kB)\n",
            "Requirement already satisfied: scipy!=1.4.0 in /usr/local/lib/python3.7/dist-packages (from optuna) (1.4.1)\n",
            "Requirement already satisfied: pyparsing!=3.0.5,>=2.0.2 in /usr/local/lib/python3.7/dist-packages (from packaging>=20.0->optuna) (3.0.7)\n",
            "Requirement already satisfied: greenlet!=0.4.17 in /usr/local/lib/python3.7/dist-packages (from sqlalchemy>=1.1.0->optuna) (1.1.2)\n",
            "Requirement already satisfied: importlib-metadata in /usr/local/lib/python3.7/dist-packages (from sqlalchemy>=1.1.0->optuna) (4.11.0)\n",
            "Collecting Mako\n",
            "  Downloading Mako-1.1.6-py2.py3-none-any.whl (75 kB)\n",
            "\u001b[K     |████████████████████████████████| 75 kB 4.1 MB/s \n",
            "\u001b[?25hRequirement already satisfied: importlib-resources in /usr/local/lib/python3.7/dist-packages (from alembic->optuna) (5.4.0)\n",
            "Collecting cmd2>=1.0.0\n",
            "  Downloading cmd2-2.3.3-py3-none-any.whl (149 kB)\n",
            "\u001b[K     |████████████████████████████████| 149 kB 52.6 MB/s \n",
            "\u001b[?25hRequirement already satisfied: PrettyTable>=0.7.2 in /usr/local/lib/python3.7/dist-packages (from cliff->optuna) (3.0.0)\n",
            "Collecting pbr!=2.1.0,>=2.0.0\n",
            "  Downloading pbr-5.8.1-py2.py3-none-any.whl (113 kB)\n",
            "\u001b[K     |████████████████████████████████| 113 kB 62.8 MB/s \n",
            "\u001b[?25hCollecting autopage>=0.4.0\n",
            "  Downloading autopage-0.5.0-py3-none-any.whl (29 kB)\n",
            "Collecting stevedore>=2.0.1\n",
            "  Downloading stevedore-3.5.0-py3-none-any.whl (49 kB)\n",
            "\u001b[K     |████████████████████████████████| 49 kB 5.4 MB/s \n",
            "\u001b[?25hRequirement already satisfied: typing-extensions in /usr/local/lib/python3.7/dist-packages (from cmd2>=1.0.0->cliff->optuna) (3.10.0.2)\n",
            "Requirement already satisfied: wcwidth>=0.1.7 in /usr/local/lib/python3.7/dist-packages (from cmd2>=1.0.0->cliff->optuna) (0.2.5)\n",
            "Collecting pyperclip>=1.6\n",
            "  Downloading pyperclip-1.8.2.tar.gz (20 kB)\n",
            "Requirement already satisfied: attrs>=16.3.0 in /usr/local/lib/python3.7/dist-packages (from cmd2>=1.0.0->cliff->optuna) (21.4.0)\n",
            "Requirement already satisfied: zipp>=0.5 in /usr/local/lib/python3.7/dist-packages (from importlib-metadata->sqlalchemy>=1.1.0->optuna) (3.7.0)\n",
            "Requirement already satisfied: MarkupSafe>=0.9.2 in /usr/local/lib/python3.7/dist-packages (from Mako->alembic->optuna) (2.0.1)\n",
            "Building wheels for collected packages: pyperclip\n",
            "  Building wheel for pyperclip (setup.py) ... \u001b[?25l\u001b[?25hdone\n",
            "  Created wheel for pyperclip: filename=pyperclip-1.8.2-py3-none-any.whl size=11137 sha256=215df73501ebf0d33faff1e46db35a5f5eff03be5c77ee76ffdd5651159fd751\n",
            "  Stored in directory: /root/.cache/pip/wheels/9f/18/84/8f69f8b08169c7bae2dde6bd7daf0c19fca8c8e500ee620a28\n",
            "Successfully built pyperclip\n",
            "Installing collected packages: pyperclip, pbr, stevedore, Mako, cmd2, autopage, colorlog, cmaes, cliff, alembic, optuna\n",
            "Successfully installed Mako-1.1.6 alembic-1.7.6 autopage-0.5.0 cliff-3.10.0 cmaes-0.8.2 cmd2-2.3.3 colorlog-6.6.0 optuna-2.10.0 pbr-5.8.1 pyperclip-1.8.2 stevedore-3.5.0\n"
          ]
        }
      ]
    },
    {
      "cell_type": "code",
      "source": [
        "os.getcwd()"
      ],
      "metadata": {
        "colab": {
          "base_uri": "https://localhost:8080/",
          "height": 35
        },
        "id": "0uJXo4Dj3xLv",
        "outputId": "a656cd0f-46a5-47f5-a4c6-a7b91b58fc35"
      },
      "execution_count": null,
      "outputs": [
        {
          "output_type": "execute_result",
          "data": {
            "application/vnd.google.colaboratory.intrinsic+json": {
              "type": "string"
            },
            "text/plain": [
              "'/content/gdrive/MyDrive/Colab Notebooks/KhanhML'"
            ]
          },
          "metadata": {},
          "execution_count": 11
        }
      ]
    },
    {
      "cell_type": "code",
      "source": [
        "def model_dl_optuna(X_train, y_train, X_test, y_test,n_trials=50):\n",
        "  # study_name = \"/gdrive/MyDrive/Colab Notebooks/KhanhML/params_{}.pkl\".format(time.strftime(\"%Y%m%d-%H%M%S\"))\n",
        "  study=optuna.create_study(direction='maximize')\n",
        "  study.optimize(lambda trial:obj_dl_model(trial, X_train=X_train, y_train=y_train, X_test=X_test, y_test=y_test),\n",
        "                                          n_trials=n_trials)\n",
        "  \n",
        "  # Save model\n",
        "  # joblib.dump(value=study, filename=study_name)\n",
        "\n",
        "  # Get best params\n",
        "  best_params = study.best_trial\n",
        "  for key, value in best_params.params.items():\n",
        "    print(\"{}: {}\".format(key, value))\n",
        "\n",
        "  return best_params"
      ],
      "metadata": {
        "id": "1ewklOGKpgyW"
      },
      "execution_count": null,
      "outputs": []
    },
    {
      "cell_type": "code",
      "source": [
        "def obj_dl_model(trial, X_train, y_train, X_test, y_test):\n",
        "    # Param Setiings\n",
        "    hl = trial.suggest_int(\"num_layers\", 15, 30) # Number of hidden layer nodes\n",
        "    drop = trial.suggest_float(\"drop\", 0.25, 0.5) # Dropout\n",
        "    learning_rate = trial.suggest_float(\"learning_rate\", 0.001, 0.2)\n",
        "\n",
        "    # Init model\n",
        "    model = Sequential()\n",
        "    model.add(Dense(hl, input_dim=x_train.shape[1], activation='sigmoid', kernel_initializer=tf.initializers.HeNormal()))\n",
        "    model.add(BatchNormalization())\n",
        "    model.add(Dense(hl, input_dim=hl, activation='relu', kernel_initializer=tf.initializers.HeNormal()))\n",
        "    model.add(BatchNormalization())\n",
        "    model.add(Dense(hl, input_dim=hl, activation='tanh', kernel_initializer=tf.initializers.RandomNormal()))\n",
        "    model.add(BatchNormalization())\n",
        "    model.add(Dropout(drop))\n",
        "    model.add(Dense(hl, input_dim=hl, activation='relu', kernel_initializer=tf.initializers.RandomNormal()))\n",
        "    model.add(BatchNormalization())\n",
        "    model.add(Dense(1, input_dim=hl, activation='sigmoid'))\n",
        "\n",
        "    model.compile(loss='BinaryCrossentropy',\n",
        "                  optimizer=optimizers.Adam(lr=learning_rate),\n",
        "                  metrics=['accuracy'])\n",
        "\n",
        "    # Train the model over 50 epochs using 10-observation batches and using the test holdout dataset for validation\n",
        "    num_epochs = 25\n",
        "    history = model.fit(X_train, y_train, epochs=num_epochs, batch_size=16, verbose=0)\n",
        "\n",
        "    predicted = model.predict(X_test)\n",
        "    predicted = np.where(predicted > 0.5, 1, 0)\n",
        "\n",
        "    return accuracy_score(y_test, predicted)\n"
      ],
      "metadata": {
        "id": "6JzuDCFars0I"
      },
      "execution_count": null,
      "outputs": []
    },
    {
      "cell_type": "code",
      "source": [
        "model = model_dl_optuna(x_train,y_train,x_test,y_test,n_trials=20)"
      ],
      "metadata": {
        "colab": {
          "base_uri": "https://localhost:8080/"
        },
        "id": "RIoEeS9zrYRH",
        "outputId": "294b4fd3-cfaa-4393-f3c3-2dd8cc563364"
      },
      "execution_count": null,
      "outputs": [
        {
          "output_type": "stream",
          "name": "stderr",
          "text": [
            "\u001b[32m[I 2022-02-18 10:33:57,906]\u001b[0m A new study created in memory with name: no-name-d3bc03da-828d-4eec-a968-01896a7406e5\u001b[0m\n",
            "/usr/local/lib/python3.7/dist-packages/keras/optimizer_v2/adam.py:105: UserWarning: The `lr` argument is deprecated, use `learning_rate` instead.\n",
            "  super(Adam, self).__init__(name, **kwargs)\n",
            "\u001b[32m[I 2022-02-18 10:35:21,657]\u001b[0m Trial 0 finished with value: 0.8086 and parameters: {'num_layers': 22, 'drop': 0.307602821627309, 'learning_rate': 0.11337488987447}. Best is trial 0 with value: 0.8086.\u001b[0m\n",
            "/usr/local/lib/python3.7/dist-packages/keras/optimizer_v2/adam.py:105: UserWarning: The `lr` argument is deprecated, use `learning_rate` instead.\n",
            "  super(Adam, self).__init__(name, **kwargs)\n",
            "\u001b[32m[I 2022-02-18 10:36:20,705]\u001b[0m Trial 1 finished with value: 0.7598 and parameters: {'num_layers': 20, 'drop': 0.4600969533448482, 'learning_rate': 0.03094477390989158}. Best is trial 0 with value: 0.8086.\u001b[0m\n",
            "/usr/local/lib/python3.7/dist-packages/keras/optimizer_v2/adam.py:105: UserWarning: The `lr` argument is deprecated, use `learning_rate` instead.\n",
            "  super(Adam, self).__init__(name, **kwargs)\n",
            "\u001b[32m[I 2022-02-18 10:37:44,348]\u001b[0m Trial 2 finished with value: 0.8434 and parameters: {'num_layers': 17, 'drop': 0.3360725642957966, 'learning_rate': 0.06038852803035392}. Best is trial 2 with value: 0.8434.\u001b[0m\n",
            "/usr/local/lib/python3.7/dist-packages/keras/optimizer_v2/adam.py:105: UserWarning: The `lr` argument is deprecated, use `learning_rate` instead.\n",
            "  super(Adam, self).__init__(name, **kwargs)\n",
            "\u001b[32m[I 2022-02-18 10:38:48,079]\u001b[0m Trial 3 finished with value: 0.7606 and parameters: {'num_layers': 25, 'drop': 0.3769310854258001, 'learning_rate': 0.13160433300374902}. Best is trial 2 with value: 0.8434.\u001b[0m\n",
            "/usr/local/lib/python3.7/dist-packages/keras/optimizer_v2/adam.py:105: UserWarning: The `lr` argument is deprecated, use `learning_rate` instead.\n",
            "  super(Adam, self).__init__(name, **kwargs)\n",
            "\u001b[32m[I 2022-02-18 10:40:11,849]\u001b[0m Trial 4 finished with value: 0.7942 and parameters: {'num_layers': 21, 'drop': 0.4867089889750084, 'learning_rate': 0.05434880492279319}. Best is trial 2 with value: 0.8434.\u001b[0m\n",
            "/usr/local/lib/python3.7/dist-packages/keras/optimizer_v2/adam.py:105: UserWarning: The `lr` argument is deprecated, use `learning_rate` instead.\n",
            "  super(Adam, self).__init__(name, **kwargs)\n",
            "\u001b[32m[I 2022-02-18 10:41:35,441]\u001b[0m Trial 5 finished with value: 0.786 and parameters: {'num_layers': 20, 'drop': 0.3855991620502332, 'learning_rate': 0.09506965810146319}. Best is trial 2 with value: 0.8434.\u001b[0m\n",
            "/usr/local/lib/python3.7/dist-packages/keras/optimizer_v2/adam.py:105: UserWarning: The `lr` argument is deprecated, use `learning_rate` instead.\n",
            "  super(Adam, self).__init__(name, **kwargs)\n",
            "\u001b[32m[I 2022-02-18 10:42:59,055]\u001b[0m Trial 6 finished with value: 0.7606 and parameters: {'num_layers': 28, 'drop': 0.2732667628789387, 'learning_rate': 0.15323217325759234}. Best is trial 2 with value: 0.8434.\u001b[0m\n",
            "/usr/local/lib/python3.7/dist-packages/keras/optimizer_v2/adam.py:105: UserWarning: The `lr` argument is deprecated, use `learning_rate` instead.\n",
            "  super(Adam, self).__init__(name, **kwargs)\n",
            "\u001b[32m[I 2022-02-18 10:44:22,715]\u001b[0m Trial 7 finished with value: 0.7586 and parameters: {'num_layers': 29, 'drop': 0.3894232597796767, 'learning_rate': 0.09452705740215155}. Best is trial 2 with value: 0.8434.\u001b[0m\n",
            "/usr/local/lib/python3.7/dist-packages/keras/optimizer_v2/adam.py:105: UserWarning: The `lr` argument is deprecated, use `learning_rate` instead.\n",
            "  super(Adam, self).__init__(name, **kwargs)\n",
            "\u001b[32m[I 2022-02-18 10:45:46,329]\u001b[0m Trial 8 finished with value: 0.7986 and parameters: {'num_layers': 16, 'drop': 0.26028525415947856, 'learning_rate': 0.07590451519218289}. Best is trial 2 with value: 0.8434.\u001b[0m\n",
            "/usr/local/lib/python3.7/dist-packages/keras/optimizer_v2/adam.py:105: UserWarning: The `lr` argument is deprecated, use `learning_rate` instead.\n",
            "  super(Adam, self).__init__(name, **kwargs)\n",
            "\u001b[32m[I 2022-02-18 10:46:50,153]\u001b[0m Trial 9 finished with value: 0.7606 and parameters: {'num_layers': 22, 'drop': 0.2598869299736109, 'learning_rate': 0.1870179683393343}. Best is trial 2 with value: 0.8434.\u001b[0m\n",
            "/usr/local/lib/python3.7/dist-packages/keras/optimizer_v2/adam.py:105: UserWarning: The `lr` argument is deprecated, use `learning_rate` instead.\n",
            "  super(Adam, self).__init__(name, **kwargs)\n",
            "\u001b[32m[I 2022-02-18 10:47:55,684]\u001b[0m Trial 10 finished with value: 0.8582 and parameters: {'num_layers': 15, 'drop': 0.3365040739711397, 'learning_rate': 0.00443790780577516}. Best is trial 10 with value: 0.8582.\u001b[0m\n",
            "/usr/local/lib/python3.7/dist-packages/keras/optimizer_v2/adam.py:105: UserWarning: The `lr` argument is deprecated, use `learning_rate` instead.\n",
            "  super(Adam, self).__init__(name, **kwargs)\n",
            "\u001b[32m[I 2022-02-18 10:49:00,906]\u001b[0m Trial 11 finished with value: 0.8572 and parameters: {'num_layers': 15, 'drop': 0.3276071714738425, 'learning_rate': 0.008592135100953397}. Best is trial 10 with value: 0.8582.\u001b[0m\n",
            "/usr/local/lib/python3.7/dist-packages/keras/optimizer_v2/adam.py:105: UserWarning: The `lr` argument is deprecated, use `learning_rate` instead.\n",
            "  super(Adam, self).__init__(name, **kwargs)\n",
            "\u001b[32m[I 2022-02-18 10:50:04,853]\u001b[0m Trial 12 finished with value: 0.8584 and parameters: {'num_layers': 15, 'drop': 0.33115828350160287, 'learning_rate': 0.0038756847359684397}. Best is trial 12 with value: 0.8584.\u001b[0m\n",
            "/usr/local/lib/python3.7/dist-packages/keras/optimizer_v2/adam.py:105: UserWarning: The `lr` argument is deprecated, use `learning_rate` instead.\n",
            "  super(Adam, self).__init__(name, **kwargs)\n",
            "\u001b[32m[I 2022-02-18 10:51:28,343]\u001b[0m Trial 13 finished with value: 0.8264 and parameters: {'num_layers': 18, 'drop': 0.41691812927308824, 'learning_rate': 0.007705893702552511}. Best is trial 12 with value: 0.8584.\u001b[0m\n",
            "/usr/local/lib/python3.7/dist-packages/keras/optimizer_v2/adam.py:105: UserWarning: The `lr` argument is deprecated, use `learning_rate` instead.\n",
            "  super(Adam, self).__init__(name, **kwargs)\n",
            "\u001b[32m[I 2022-02-18 10:52:33,778]\u001b[0m Trial 14 finished with value: 0.7698 and parameters: {'num_layers': 18, 'drop': 0.34414073253062627, 'learning_rate': 0.03765113652934528}. Best is trial 12 with value: 0.8584.\u001b[0m\n",
            "/usr/local/lib/python3.7/dist-packages/keras/optimizer_v2/adam.py:105: UserWarning: The `lr` argument is deprecated, use `learning_rate` instead.\n",
            "  super(Adam, self).__init__(name, **kwargs)\n",
            "\u001b[32m[I 2022-02-18 10:53:57,222]\u001b[0m Trial 15 finished with value: 0.8506 and parameters: {'num_layers': 15, 'drop': 0.29807903728670626, 'learning_rate': 0.026218391721857567}. Best is trial 12 with value: 0.8584.\u001b[0m\n",
            "/usr/local/lib/python3.7/dist-packages/keras/optimizer_v2/adam.py:105: UserWarning: The `lr` argument is deprecated, use `learning_rate` instead.\n",
            "  super(Adam, self).__init__(name, **kwargs)\n",
            "\u001b[32m[I 2022-02-18 10:55:03,237]\u001b[0m Trial 16 finished with value: 0.8578 and parameters: {'num_layers': 25, 'drop': 0.4192883082688972, 'learning_rate': 0.001026346529156137}. Best is trial 12 with value: 0.8584.\u001b[0m\n",
            "/usr/local/lib/python3.7/dist-packages/keras/optimizer_v2/adam.py:105: UserWarning: The `lr` argument is deprecated, use `learning_rate` instead.\n",
            "  super(Adam, self).__init__(name, **kwargs)\n",
            "\u001b[32m[I 2022-02-18 10:56:26,820]\u001b[0m Trial 17 finished with value: 0.8322 and parameters: {'num_layers': 18, 'drop': 0.356209094688555, 'learning_rate': 0.05140723722163087}. Best is trial 12 with value: 0.8584.\u001b[0m\n",
            "/usr/local/lib/python3.7/dist-packages/keras/optimizer_v2/adam.py:105: UserWarning: The `lr` argument is deprecated, use `learning_rate` instead.\n",
            "  super(Adam, self).__init__(name, **kwargs)\n",
            "\u001b[32m[I 2022-02-18 10:57:32,111]\u001b[0m Trial 18 finished with value: 0.8522 and parameters: {'num_layers': 25, 'drop': 0.29015700876878175, 'learning_rate': 0.02297412382078322}. Best is trial 12 with value: 0.8584.\u001b[0m\n",
            "/usr/local/lib/python3.7/dist-packages/keras/optimizer_v2/adam.py:105: UserWarning: The `lr` argument is deprecated, use `learning_rate` instead.\n",
            "  super(Adam, self).__init__(name, **kwargs)\n",
            "\u001b[32m[I 2022-02-18 10:58:55,823]\u001b[0m Trial 19 finished with value: 0.76 and parameters: {'num_layers': 15, 'drop': 0.31762153975739954, 'learning_rate': 0.07237987905735409}. Best is trial 12 with value: 0.8584.\u001b[0m\n"
          ]
        },
        {
          "output_type": "stream",
          "name": "stdout",
          "text": [
            "num_layers: 15\n",
            "drop: 0.33115828350160287\n",
            "learning_rate: 0.0038756847359684397\n"
          ]
        }
      ]
    },
    {
      "cell_type": "markdown",
      "source": [
        "# Trắc nghiệm sai câu 5\n",
        "# Chưa làm khởi tạo trọng số, thay đổi loss, optim, batchsize,\n",
        "# Chưa train lại sau khi tìm đc tham số tốt khi dùng optuna"
      ],
      "metadata": {
        "id": "JW0PXgNf2Ahm"
      }
    },
    {
      "cell_type": "code",
      "source": [
        ""
      ],
      "metadata": {
        "id": "JlSVlliH2axs"
      },
      "execution_count": null,
      "outputs": []
    }
  ]
}