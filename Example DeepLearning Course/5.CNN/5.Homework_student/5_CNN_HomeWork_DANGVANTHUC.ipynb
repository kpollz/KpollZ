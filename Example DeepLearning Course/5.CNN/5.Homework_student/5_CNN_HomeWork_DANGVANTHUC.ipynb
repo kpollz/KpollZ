{
  "nbformat": 4,
  "nbformat_minor": 0,
  "metadata": {
    "colab": {
      "name": "5.CNN_HomeWork_DANGVANTHUC.ipynb",
      "provenance": [],
      "collapsed_sections": [],
      "machine_shape": "hm"
    },
    "kernelspec": {
      "name": "python3",
      "display_name": "Python 3"
    },
    "language_info": {
      "name": "python"
    },
    "accelerator": "GPU"
  },
  "cells": [
    {
      "cell_type": "markdown",
      "source": [
        "# I. Lý thuyết"
      ],
      "metadata": {
        "id": "W2HWfZe5bT7u"
      }
    },
    {
      "cell_type": "markdown",
      "source": [
        "1) Mạng tích chập CNN sẽ được thực hiện như thế nào?\n",
        "\n",
        "A. Phân chia feature map thành các ma trận theo chiều channel và thực hiện tích chập giữa mỗi ma trận kernel với từng chiều.\n",
        "\n",
        "B. Thực hiện phép nhân ma trận kernel với chuyển vị của ma trận local receptive field để thu được giá trị feature map output.\n",
        "\n",
        "C. Tính trung bình các phân tử trên một ma trận local receptive field.\n",
        "\n",
        "D. Di chuyển vùng local receptive field theo chiều từ trái sang phải và từ trên xuống dưới và nhân tích chập với kernel để thu được ma trận feature map.\n",
        "\n",
        "# Đáp án 1D\n",
        "\n",
        "2) Thực hiện phép nhân tích chập giữa ma trận đầu vào kích thước width và height lần lượt là $(W, H)$ với bộ lọc kích thước $(F, F)$ và bước nhảy $S$ thì thu được ma trận đầu ra với kích thước width và height $(W', H')$ là bao nhiêu? Hãy lựa chọn công thức tổng quát nhất.\n",
        "\n",
        "A. $W' =⌊ \\frac{W-F}{S} ⌋ + 1;~ H' =⌊ \\frac{H-F}{S} ⌋ + 1$\n",
        "\n",
        "B. $W' =\\lceil \\frac{W-F}{S} \\rceil + 1;~ H' = \\lceil \\frac{H-F}{S} \\rceil + 1$ \n",
        "\n",
        "C. $W' =\\lfloor \\frac{W-F+2P}{S} \\rfloor + 1;~ H' = \\lfloor \\frac{H-F+2P}{S} \\rfloor + 1$ với $P$ là số lượng các véc tơ 0 padding ở bên ngoài đều hai phía.\n",
        "\n",
        "D. $W' =\\lceil \\frac{W-F+P}{S} \\rceil + 1;~ H' = \\lceil \\frac{H-F+P}{S} \\rceil + 1$ với $P$ là số lượng các véc tơ 0 padding ở bên ngoài đều hai phía.\n",
        "\n",
        "# Đáp án 2C\n",
        "\n",
        "3) Mạng CNN sẽ học được những gì qua các layers?\n",
        "\n",
        "A. Tại những layers đầu mỗi channels sẽ giúp phân biệt một loại đặc trưng, của vật thể. Những đặc trưng này sau đó được trải phẳng và đưa vào mạng MLP để phân loại vật thể.\n",
        "\n",
        "B. Những layers cuối cùng sẽ zoom vào từng chi tiết của vật thể để phân loại vật thể.\n",
        "\n",
        "C. Tại những layers đầu mạng sẽ học được các đặc trưng chung như các edge dọc, ngang, chéo,.... Các đặc trưng chi tiết và tổng quát giúp nhận diện vật thể được học tại những layers cuối cùng.\n",
        "\n",
        "D. Các layers đầu tiên sẽ tập trung vào các chi tiết bộ phận của vật thể.\n",
        "\n",
        "## Đáp án 3C\n",
        "\n",
        "4) Kiến trúc chung của một mạng CNN là gì?\n",
        "\n",
        "A. _[Conv -> BatchNorm -> Activation -> Maxpooling] x n_\n",
        "\n",
        "B. _[BatchNorm -> Conv -> Activation -> Maxpooling] x n_ \n",
        "\n",
        "C. _[Conv -> BatchNorm -> Maxpooling -> Activation -> Maxpooling] x n_ \n",
        "\n",
        "D. _[Conv -> BatchNorm -> Maxpooling -> Activation -> Maxpooling] x n -> Flatten -> [FullyConnected -> Activation] x m -> Softmax_ \n",
        "\n",
        "## Đáp án 4D\n",
        "\n",
        "5) Thông thường đặc điểm kích thước feature map của mạng neural sẽ như thế nào ?\n",
        "\n",
        "A. Kích thước feature map tăng dần gấp đôi qua thời gian.\n",
        "\n",
        "B. Kích thước feature map sẽ duy trì không đổi qua thời gian.\n",
        "\n",
        "C. Kích thước mạng sẽ giảm dần gấp đôi sau mỗi một lần downsampling và sau đó tăng dần gấp đôi sau mỗi lần upsampling để khôi phục về kích thước ảnh input.\n",
        "\n",
        "D. Kích thước mạng thường giảm gấp đôi sau một lần downsampling và số lượng các filters tăng dần.\n",
        "\n",
        "## Đáp án 5D"
      ],
      "metadata": {
        "id": "O6_oiMLtbZd2"
      }
    },
    {
      "cell_type": "markdown",
      "source": [
        "# II. Thực hành\n",
        "\n",
        "6) Thực hiện xây dựng và huấn luyện một mạng CNN ngẫu nhiên trên bộ dữ liệu [Dog and Cat](https://www.kaggle.com/c/dog-vs-cat-classification/data). Lưu ý cần thực hiện [chuẩn hóa dữ liệu](https://github.com/pytorch/examples/issues/112) đối với bộ dữ liệu ImageNet trước khi huấn luyện.\n",
        "\n",
        "7) Grid Search kiến trúc CNN dựa trên việc tổng quát hóa một thiết kế câu 6.\n",
        "\n",
        "8) Huấn luyện lại mô hình bằng kiến trúc ResNet và MobileNet. Đánh giá chi phí tính toán và submit kết quả độ chính xác trên các ảnh thuộc folder test.\n",
        "\n",
        "9) Thử nghiệm các phương pháp Augmentation như Flip, Rotation, Random Crop, Bright Contrast để cải thiện kết quả mô hình.\n",
        "\n",
        "10) Lập bảng kết quả các thử nghiệm đã sử dụng."
      ],
      "metadata": {
        "id": "I4U8kdaxbW0e"
      }
    },
    {
      "cell_type": "code",
      "source": [
        "!pip install autokeras"
      ],
      "metadata": {
        "id": "iXxHBbhs6I1d",
        "colab": {
          "base_uri": "https://localhost:8080/"
        },
        "outputId": "98e61c14-eded-49cf-b2fd-7db1b4f305ad"
      },
      "execution_count": null,
      "outputs": [
        {
          "output_type": "stream",
          "name": "stdout",
          "text": [
            "Collecting autokeras\n",
            "  Downloading autokeras-1.0.18-py3-none-any.whl (160 kB)\n",
            "\u001b[?25l\r\u001b[K     |██                              | 10 kB 28.4 MB/s eta 0:00:01\r\u001b[K     |████                            | 20 kB 21.3 MB/s eta 0:00:01\r\u001b[K     |██████                          | 30 kB 15.7 MB/s eta 0:00:01\r\u001b[K     |████████▏                       | 40 kB 14.4 MB/s eta 0:00:01\r\u001b[K     |██████████▏                     | 51 kB 6.8 MB/s eta 0:00:01\r\u001b[K     |████████████▏                   | 61 kB 8.0 MB/s eta 0:00:01\r\u001b[K     |██████████████▎                 | 71 kB 9.0 MB/s eta 0:00:01\r\u001b[K     |████████████████▎               | 81 kB 8.7 MB/s eta 0:00:01\r\u001b[K     |██████████████████▎             | 92 kB 9.7 MB/s eta 0:00:01\r\u001b[K     |████████████████████▍           | 102 kB 8.3 MB/s eta 0:00:01\r\u001b[K     |██████████████████████▍         | 112 kB 8.3 MB/s eta 0:00:01\r\u001b[K     |████████████████████████▍       | 122 kB 8.3 MB/s eta 0:00:01\r\u001b[K     |██████████████████████████▌     | 133 kB 8.3 MB/s eta 0:00:01\r\u001b[K     |████████████████████████████▌   | 143 kB 8.3 MB/s eta 0:00:01\r\u001b[K     |██████████████████████████████▌ | 153 kB 8.3 MB/s eta 0:00:01\r\u001b[K     |████████████████████████████████| 160 kB 8.3 MB/s \n",
            "\u001b[?25hCollecting keras-tuner>=1.1.0\n",
            "  Downloading keras_tuner-1.1.0-py3-none-any.whl (98 kB)\n",
            "\u001b[?25l\r\u001b[K     |███▍                            | 10 kB 41.7 MB/s eta 0:00:01\r\u001b[K     |██████▊                         | 20 kB 44.0 MB/s eta 0:00:01\r\u001b[K     |██████████                      | 30 kB 50.2 MB/s eta 0:00:01\r\u001b[K     |█████████████▍                  | 40 kB 52.4 MB/s eta 0:00:01\r\u001b[K     |████████████████▊               | 51 kB 52.6 MB/s eta 0:00:01\r\u001b[K     |████████████████████            | 61 kB 54.5 MB/s eta 0:00:01\r\u001b[K     |███████████████████████▍        | 71 kB 54.8 MB/s eta 0:00:01\r\u001b[K     |██████████████████████████▊     | 81 kB 51.5 MB/s eta 0:00:01\r\u001b[K     |██████████████████████████████  | 92 kB 53.0 MB/s eta 0:00:01\r\u001b[K     |████████████████████████████████| 98 kB 6.8 MB/s \n",
            "\u001b[?25hRequirement already satisfied: pandas in /usr/local/lib/python3.7/dist-packages (from autokeras) (1.3.5)\n",
            "Requirement already satisfied: tensorflow>=2.8.0 in /usr/local/lib/python3.7/dist-packages (from autokeras) (2.8.0)\n",
            "Requirement already satisfied: packaging in /usr/local/lib/python3.7/dist-packages (from autokeras) (21.3)\n",
            "Requirement already satisfied: numpy in /usr/local/lib/python3.7/dist-packages (from keras-tuner>=1.1.0->autokeras) (1.21.5)\n",
            "Collecting kt-legacy\n",
            "  Downloading kt_legacy-1.0.4-py3-none-any.whl (9.6 kB)\n",
            "Requirement already satisfied: ipython in /usr/local/lib/python3.7/dist-packages (from keras-tuner>=1.1.0->autokeras) (5.5.0)\n",
            "Requirement already satisfied: scipy in /usr/local/lib/python3.7/dist-packages (from keras-tuner>=1.1.0->autokeras) (1.4.1)\n",
            "Requirement already satisfied: tensorboard in /usr/local/lib/python3.7/dist-packages (from keras-tuner>=1.1.0->autokeras) (2.8.0)\n",
            "Requirement already satisfied: requests in /usr/local/lib/python3.7/dist-packages (from keras-tuner>=1.1.0->autokeras) (2.23.0)\n",
            "Requirement already satisfied: keras<2.9,>=2.8.0rc0 in /usr/local/lib/python3.7/dist-packages (from tensorflow>=2.8.0->autokeras) (2.8.0)\n",
            "Requirement already satisfied: grpcio<2.0,>=1.24.3 in /usr/local/lib/python3.7/dist-packages (from tensorflow>=2.8.0->autokeras) (1.43.0)\n",
            "Requirement already satisfied: astunparse>=1.6.0 in /usr/local/lib/python3.7/dist-packages (from tensorflow>=2.8.0->autokeras) (1.6.3)\n",
            "Requirement already satisfied: opt-einsum>=2.3.2 in /usr/local/lib/python3.7/dist-packages (from tensorflow>=2.8.0->autokeras) (3.3.0)\n",
            "Requirement already satisfied: keras-preprocessing>=1.1.1 in /usr/local/lib/python3.7/dist-packages (from tensorflow>=2.8.0->autokeras) (1.1.2)\n",
            "Requirement already satisfied: wrapt>=1.11.0 in /usr/local/lib/python3.7/dist-packages (from tensorflow>=2.8.0->autokeras) (1.13.3)\n",
            "Requirement already satisfied: typing-extensions>=3.6.6 in /usr/local/lib/python3.7/dist-packages (from tensorflow>=2.8.0->autokeras) (3.10.0.2)\n",
            "Requirement already satisfied: h5py>=2.9.0 in /usr/local/lib/python3.7/dist-packages (from tensorflow>=2.8.0->autokeras) (3.1.0)\n",
            "Requirement already satisfied: termcolor>=1.1.0 in /usr/local/lib/python3.7/dist-packages (from tensorflow>=2.8.0->autokeras) (1.1.0)\n",
            "Collecting tf-estimator-nightly==2.8.0.dev2021122109\n",
            "  Downloading tf_estimator_nightly-2.8.0.dev2021122109-py2.py3-none-any.whl (462 kB)\n",
            "\u001b[K     |████████████████████████████████| 462 kB 41.3 MB/s \n",
            "\u001b[?25hRequirement already satisfied: protobuf>=3.9.2 in /usr/local/lib/python3.7/dist-packages (from tensorflow>=2.8.0->autokeras) (3.17.3)\n",
            "Requirement already satisfied: flatbuffers>=1.12 in /usr/local/lib/python3.7/dist-packages (from tensorflow>=2.8.0->autokeras) (2.0)\n",
            "Requirement already satisfied: tensorflow-io-gcs-filesystem>=0.23.1 in /usr/local/lib/python3.7/dist-packages (from tensorflow>=2.8.0->autokeras) (0.24.0)\n",
            "Requirement already satisfied: absl-py>=0.4.0 in /usr/local/lib/python3.7/dist-packages (from tensorflow>=2.8.0->autokeras) (1.0.0)\n",
            "Requirement already satisfied: libclang>=9.0.1 in /usr/local/lib/python3.7/dist-packages (from tensorflow>=2.8.0->autokeras) (13.0.0)\n",
            "Requirement already satisfied: six>=1.12.0 in /usr/local/lib/python3.7/dist-packages (from tensorflow>=2.8.0->autokeras) (1.15.0)\n",
            "Requirement already satisfied: gast>=0.2.1 in /usr/local/lib/python3.7/dist-packages (from tensorflow>=2.8.0->autokeras) (0.5.3)\n",
            "Requirement already satisfied: setuptools in /usr/local/lib/python3.7/dist-packages (from tensorflow>=2.8.0->autokeras) (57.4.0)\n",
            "Requirement already satisfied: google-pasta>=0.1.1 in /usr/local/lib/python3.7/dist-packages (from tensorflow>=2.8.0->autokeras) (0.2.0)\n",
            "Requirement already satisfied: wheel<1.0,>=0.23.0 in /usr/local/lib/python3.7/dist-packages (from astunparse>=1.6.0->tensorflow>=2.8.0->autokeras) (0.37.1)\n",
            "Requirement already satisfied: cached-property in /usr/local/lib/python3.7/dist-packages (from h5py>=2.9.0->tensorflow>=2.8.0->autokeras) (1.5.2)\n",
            "Requirement already satisfied: tensorboard-data-server<0.7.0,>=0.6.0 in /usr/local/lib/python3.7/dist-packages (from tensorboard->keras-tuner>=1.1.0->autokeras) (0.6.1)\n",
            "Requirement already satisfied: tensorboard-plugin-wit>=1.6.0 in /usr/local/lib/python3.7/dist-packages (from tensorboard->keras-tuner>=1.1.0->autokeras) (1.8.1)\n",
            "Requirement already satisfied: google-auth<3,>=1.6.3 in /usr/local/lib/python3.7/dist-packages (from tensorboard->keras-tuner>=1.1.0->autokeras) (1.35.0)\n",
            "Requirement already satisfied: markdown>=2.6.8 in /usr/local/lib/python3.7/dist-packages (from tensorboard->keras-tuner>=1.1.0->autokeras) (3.3.6)\n",
            "Requirement already satisfied: google-auth-oauthlib<0.5,>=0.4.1 in /usr/local/lib/python3.7/dist-packages (from tensorboard->keras-tuner>=1.1.0->autokeras) (0.4.6)\n",
            "Requirement already satisfied: werkzeug>=0.11.15 in /usr/local/lib/python3.7/dist-packages (from tensorboard->keras-tuner>=1.1.0->autokeras) (1.0.1)\n",
            "Requirement already satisfied: rsa<5,>=3.1.4 in /usr/local/lib/python3.7/dist-packages (from google-auth<3,>=1.6.3->tensorboard->keras-tuner>=1.1.0->autokeras) (4.8)\n",
            "Requirement already satisfied: pyasn1-modules>=0.2.1 in /usr/local/lib/python3.7/dist-packages (from google-auth<3,>=1.6.3->tensorboard->keras-tuner>=1.1.0->autokeras) (0.2.8)\n",
            "Requirement already satisfied: cachetools<5.0,>=2.0.0 in /usr/local/lib/python3.7/dist-packages (from google-auth<3,>=1.6.3->tensorboard->keras-tuner>=1.1.0->autokeras) (4.2.4)\n",
            "Requirement already satisfied: requests-oauthlib>=0.7.0 in /usr/local/lib/python3.7/dist-packages (from google-auth-oauthlib<0.5,>=0.4.1->tensorboard->keras-tuner>=1.1.0->autokeras) (1.3.1)\n",
            "Requirement already satisfied: importlib-metadata>=4.4 in /usr/local/lib/python3.7/dist-packages (from markdown>=2.6.8->tensorboard->keras-tuner>=1.1.0->autokeras) (4.11.1)\n",
            "Requirement already satisfied: zipp>=0.5 in /usr/local/lib/python3.7/dist-packages (from importlib-metadata>=4.4->markdown>=2.6.8->tensorboard->keras-tuner>=1.1.0->autokeras) (3.7.0)\n",
            "Requirement already satisfied: pyasn1<0.5.0,>=0.4.6 in /usr/local/lib/python3.7/dist-packages (from pyasn1-modules>=0.2.1->google-auth<3,>=1.6.3->tensorboard->keras-tuner>=1.1.0->autokeras) (0.4.8)\n",
            "Requirement already satisfied: urllib3!=1.25.0,!=1.25.1,<1.26,>=1.21.1 in /usr/local/lib/python3.7/dist-packages (from requests->keras-tuner>=1.1.0->autokeras) (1.24.3)\n",
            "Requirement already satisfied: idna<3,>=2.5 in /usr/local/lib/python3.7/dist-packages (from requests->keras-tuner>=1.1.0->autokeras) (2.10)\n",
            "Requirement already satisfied: chardet<4,>=3.0.2 in /usr/local/lib/python3.7/dist-packages (from requests->keras-tuner>=1.1.0->autokeras) (3.0.4)\n",
            "Requirement already satisfied: certifi>=2017.4.17 in /usr/local/lib/python3.7/dist-packages (from requests->keras-tuner>=1.1.0->autokeras) (2021.10.8)\n",
            "Requirement already satisfied: oauthlib>=3.0.0 in /usr/local/lib/python3.7/dist-packages (from requests-oauthlib>=0.7.0->google-auth-oauthlib<0.5,>=0.4.1->tensorboard->keras-tuner>=1.1.0->autokeras) (3.2.0)\n",
            "Requirement already satisfied: simplegeneric>0.8 in /usr/local/lib/python3.7/dist-packages (from ipython->keras-tuner>=1.1.0->autokeras) (0.8.1)\n",
            "Requirement already satisfied: decorator in /usr/local/lib/python3.7/dist-packages (from ipython->keras-tuner>=1.1.0->autokeras) (4.4.2)\n",
            "Requirement already satisfied: pygments in /usr/local/lib/python3.7/dist-packages (from ipython->keras-tuner>=1.1.0->autokeras) (2.6.1)\n",
            "Requirement already satisfied: prompt-toolkit<2.0.0,>=1.0.4 in /usr/local/lib/python3.7/dist-packages (from ipython->keras-tuner>=1.1.0->autokeras) (1.0.18)\n",
            "Requirement already satisfied: traitlets>=4.2 in /usr/local/lib/python3.7/dist-packages (from ipython->keras-tuner>=1.1.0->autokeras) (5.1.1)\n",
            "Requirement already satisfied: pickleshare in /usr/local/lib/python3.7/dist-packages (from ipython->keras-tuner>=1.1.0->autokeras) (0.7.5)\n",
            "Requirement already satisfied: pexpect in /usr/local/lib/python3.7/dist-packages (from ipython->keras-tuner>=1.1.0->autokeras) (4.8.0)\n",
            "Requirement already satisfied: wcwidth in /usr/local/lib/python3.7/dist-packages (from prompt-toolkit<2.0.0,>=1.0.4->ipython->keras-tuner>=1.1.0->autokeras) (0.2.5)\n",
            "Requirement already satisfied: pyparsing!=3.0.5,>=2.0.2 in /usr/local/lib/python3.7/dist-packages (from packaging->autokeras) (3.0.7)\n",
            "Requirement already satisfied: python-dateutil>=2.7.3 in /usr/local/lib/python3.7/dist-packages (from pandas->autokeras) (2.8.2)\n",
            "Requirement already satisfied: pytz>=2017.3 in /usr/local/lib/python3.7/dist-packages (from pandas->autokeras) (2018.9)\n",
            "Requirement already satisfied: ptyprocess>=0.5 in /usr/local/lib/python3.7/dist-packages (from pexpect->ipython->keras-tuner>=1.1.0->autokeras) (0.7.0)\n",
            "Installing collected packages: tf-estimator-nightly, kt-legacy, keras-tuner, autokeras\n",
            "Successfully installed autokeras-1.0.18 keras-tuner-1.1.0 kt-legacy-1.0.4 tf-estimator-nightly-2.8.0.dev2021122109\n"
          ]
        }
      ]
    },
    {
      "cell_type": "code",
      "source": [
        ""
      ],
      "metadata": {
        "id": "wmvc_pIG6IrK"
      },
      "execution_count": null,
      "outputs": []
    },
    {
      "cell_type": "code",
      "source": [
        "from google.colab import drive\n",
        "drive.mount('/content/drive')"
      ],
      "metadata": {
        "colab": {
          "base_uri": "https://localhost:8080/"
        },
        "id": "_RADM__I6pGY",
        "outputId": "3bc67557-32d4-4280-ce5e-773852bc1e27"
      },
      "execution_count": null,
      "outputs": [
        {
          "output_type": "stream",
          "name": "stdout",
          "text": [
            "Mounted at /content/drive\n"
          ]
        }
      ]
    },
    {
      "cell_type": "code",
      "source": [
        "!unzip \"/content/drive/MyDrive/dog-vs-cat-classification.zip\""
      ],
      "metadata": {
        "id": "yS8pcX_Sz9EK"
      },
      "execution_count": null,
      "outputs": []
    },
    {
      "cell_type": "code",
      "source": [
        "import keras\n",
        "from keras.preprocessing.image import ImageDataGenerator\n",
        "from keras.preprocessing.image import ImageDataGenerator, array_to_img, img_to_array, load_img\n",
        "from keras.models import Sequential\n",
        "from tensorflow.keras import layers\n",
        "from keras.layers import Conv2D, MaxPooling2D\n",
        "from keras.layers import Activation, Dropout, Flatten, Dense, GlobalAveragePooling2D, Input,BatchNormalization\n",
        "import tensorflow as tf\n",
        "import pandas as pd\n",
        "import seaborn as sns\n",
        "from keras.preprocessing.image import ImageDataGenerator\n",
        "from numpy import expand_dims\n",
        "import os\n",
        "import numpy as np\n",
        "from os import makedirs\n",
        "from os import listdir\n",
        "from shutil import copyfile\n",
        "from random import seed\n",
        "from random import random"
      ],
      "metadata": {
        "id": "PNzDR0CU7cep"
      },
      "execution_count": null,
      "outputs": []
    },
    {
      "cell_type": "markdown",
      "source": [
        "# image_generator.mean = [123.68, 116.779, 103.939]"
      ],
      "metadata": {
        "id": "1czdysBFJYpO"
      }
    },
    {
      "cell_type": "code",
      "source": [
        "path = '/content/train/train'\n",
        "batch_size = 32\n",
        "epochs = 10\n",
        "image_size = (224,224)\n",
        "def get_generator(image_data_generator, directory, train_valid=None, seed=None):\n",
        "    train_generator = image_data_generator.flow_from_directory(directory, batch_size=batch_size, class_mode='binary', target_size=(224,224), subset=train_valid, seed=seed)    \n",
        "    return train_generator\n",
        "\n",
        "\n",
        "def get_ImageDataGenerator(validation_split=None):\n",
        "    image_generator = ImageDataGenerator(featurewise_center=True,\n",
        "                                        validation_split=validation_split)\n",
        "    image_generator.mean = [123.68, 116.779, 103.939]\n",
        "    return image_generator\n",
        "\n",
        "image_gen_train = get_ImageDataGenerator(validation_split=0.2)\n",
        "train_generator = get_generator(image_gen_train, path, train_valid='training', seed=1)\n",
        "validation_generator = get_generator(image_gen_train, path, train_valid='validation')"
      ],
      "metadata": {
        "colab": {
          "base_uri": "https://localhost:8080/"
        },
        "id": "2gSikPxO10-H",
        "outputId": "5c1dfa92-4251-4bd2-ab2e-305f8356b275"
      },
      "execution_count": null,
      "outputs": [
        {
          "output_type": "stream",
          "name": "stdout",
          "text": [
            "Found 20000 images belonging to 2 classes.\n",
            "Found 5000 images belonging to 2 classes.\n"
          ]
        }
      ]
    },
    {
      "cell_type": "markdown",
      "source": [
        "Create the model\n"
      ],
      "metadata": {
        "id": "gt6yMwV0EpcH"
      }
    },
    {
      "cell_type": "code",
      "source": [
        "\n",
        "model=Sequential()\n",
        "model.add(Conv2D(32,(3,3),activation='relu',input_shape=(224,224,3)))\n",
        "model.add(BatchNormalization())\n",
        "model.add(MaxPooling2D(pool_size=(2,2)))\n",
        "model.add(Dropout(0.25))\n",
        "model.add(Conv2D(64,(3,3),activation='relu'))\n",
        "model.add(BatchNormalization())\n",
        "model.add(MaxPooling2D(pool_size=(2,2)))\n",
        "model.add(Dropout(0.25))\n",
        "model.add(Conv2D(128,(3,3),activation='relu'))\n",
        "model.add(BatchNormalization())\n",
        "model.add(MaxPooling2D(pool_size=(2,2)))\n",
        "model.add(Dropout(0.25))\n",
        "model.add(Flatten())\n",
        "model.add(Dense(512,activation='relu'))\n",
        "model.add(BatchNormalization())\n",
        "model.add(Dropout(0.5))\n",
        "model.add(Dense(1,activation='sigmoid'))\n",
        "model.compile(loss='binary_crossentropy',\n",
        "  optimizer='rmsprop',metrics=['accuracy'])"
      ],
      "metadata": {
        "id": "TpK9HHgSEPpZ"
      },
      "execution_count": null,
      "outputs": []
    },
    {
      "cell_type": "code",
      "source": [
        "\n",
        "history = model.fit_generator(\n",
        "  train_generator,\n",
        "  validation_data=validation_generator,\n",
        "  epochs=epochs \n",
        ")"
      ],
      "metadata": {
        "colab": {
          "base_uri": "https://localhost:8080/"
        },
        "id": "8IQsRCvfEnvA",
        "outputId": "259127ac-9ecf-43fc-d252-b22ef0ad956c"
      },
      "execution_count": null,
      "outputs": [
        {
          "output_type": "stream",
          "name": "stdout",
          "text": [
            "Epoch 1/10\n"
          ]
        },
        {
          "output_type": "stream",
          "name": "stderr",
          "text": [
            "/usr/local/lib/python3.7/dist-packages/ipykernel_launcher.py:5: UserWarning: `Model.fit_generator` is deprecated and will be removed in a future version. Please use `Model.fit`, which supports generators.\n",
            "  \"\"\"\n"
          ]
        },
        {
          "output_type": "stream",
          "name": "stdout",
          "text": [
            "625/625 [==============================] - 111s 175ms/step - loss: 0.6792 - accuracy: 0.6731 - val_loss: 0.5531 - val_accuracy: 0.7268\n",
            "Epoch 2/10\n",
            "625/625 [==============================] - 109s 174ms/step - loss: 0.4506 - accuracy: 0.7913 - val_loss: 0.4100 - val_accuracy: 0.8176\n",
            "Epoch 3/10\n",
            "625/625 [==============================] - 108s 173ms/step - loss: 0.3596 - accuracy: 0.8408 - val_loss: 0.4651 - val_accuracy: 0.8156\n",
            "Epoch 4/10\n",
            "625/625 [==============================] - 108s 173ms/step - loss: 0.2942 - accuracy: 0.8780 - val_loss: 0.3705 - val_accuracy: 0.8482\n",
            "Epoch 5/10\n",
            "625/625 [==============================] - 109s 174ms/step - loss: 0.2395 - accuracy: 0.9025 - val_loss: 0.3413 - val_accuracy: 0.8506\n",
            "Epoch 6/10\n",
            "625/625 [==============================] - 108s 173ms/step - loss: 0.1889 - accuracy: 0.9272 - val_loss: 0.4832 - val_accuracy: 0.8490\n",
            "Epoch 7/10\n",
            "625/625 [==============================] - 108s 173ms/step - loss: 0.1459 - accuracy: 0.9440 - val_loss: 0.5235 - val_accuracy: 0.8464\n",
            "Epoch 8/10\n",
            "625/625 [==============================] - 108s 174ms/step - loss: 0.1240 - accuracy: 0.9537 - val_loss: 0.4703 - val_accuracy: 0.8412\n",
            "Epoch 9/10\n",
            "625/625 [==============================] - 108s 173ms/step - loss: 0.1058 - accuracy: 0.9610 - val_loss: 0.5575 - val_accuracy: 0.8448\n",
            "Epoch 10/10\n",
            "625/625 [==============================] - 108s 173ms/step - loss: 0.0980 - accuracy: 0.9661 - val_loss: 0.5716 - val_accuracy: 0.8496\n"
          ]
        }
      ]
    },
    {
      "cell_type": "code",
      "source": [
        "# compare accuracy accuracy on training and validation data\n",
        "df_history = pd.DataFrame(history.history)\n",
        "sns.lineplot(data=df_history[['accuracy','val_accuracy']], palette=\"tab10\", linewidth=2.5);"
      ],
      "metadata": {
        "id": "BvH4jwcGEv5x",
        "colab": {
          "base_uri": "https://localhost:8080/",
          "height": 265
        },
        "outputId": "45be8089-53d5-47f8-fb9c-8db2c5ac86bc"
      },
      "execution_count": null,
      "outputs": [
        {
          "output_type": "display_data",
          "data": {
            "image/png": "[encoded data removed]",
            "text/plain": [
              "<Figure size 432x288 with 1 Axes>"
            ]
          },
          "metadata": {
            "needs_background": "light"
          }
        }
      ]
    },
    {
      "cell_type": "markdown",
      "source": [
        "Mạng hoạt động cũng khá tốt"
      ],
      "metadata": {
        "id": "gCJ1g-2i2r3t"
      }
    },
    {
      "cell_type": "markdown",
      "source": [
        "## **Hypertuning the Model**"
      ],
      "metadata": {
        "id": "fpez9bNh3zKP"
      }
    },
    {
      "cell_type": "code",
      "source": [
        "def build_model(hp):\n",
        "\n",
        "    model = Sequential([\n",
        "    layers.Rescaling(1./255, input_shape=(224, 224, 3)),  \n",
        "    \n",
        "    layers.Conv2D(\n",
        "        filters=hp.Int('conv_1_filter', min_value=32, max_value=128, step=16),\n",
        "        # adding filter size or kernel size\n",
        "        kernel_size=hp.Choice('conv_1_kernel', values = [3,5]),\n",
        "        #activation function\n",
        "        activation='relu'\n",
        "    ),\n",
        "    # adding first pooling\n",
        "    layers.MaxPooling2D(),\n",
        "    # adding second convolutional layer\n",
        "    layers.Conv2D(\n",
        "        #adding filter \n",
        "        filters=hp.Int('conv_2_filter', min_value=32, max_value=64, step=16),\n",
        "        #adding filter size or kernel size\n",
        "        kernel_size=hp.Choice('conv_2_kernel', values = [3,5]),\n",
        "        #activation function\n",
        "        activation='relu'\n",
        "    ),\n",
        "    # adding first pooling\n",
        "    layers.MaxPooling2D(),\n",
        "    # adding flatten layer    \n",
        "    # adding third convolutional layer\n",
        "    layers.Conv2D(\n",
        "        #adding filter \n",
        "        filters=hp.Int('conv_3_filter', min_value=32, max_value=64, step=16),\n",
        "        #adding filter size or kernel size\n",
        "        kernel_size=hp.Choice('conv_3_kernel', values = [3,5]),\n",
        "        #activation function\n",
        "        activation='relu'\n",
        "    ),\n",
        "    # adding third pooling\n",
        "    layers.MaxPooling2D(),\n",
        "    #adding flatten\n",
        "    layers.Flatten(),\n",
        "    # adding dense layer    \n",
        "    layers.Dense(\n",
        "        units=hp.Int('dense_1_units', min_value=32, max_value=128, step=16),\n",
        "        activation='relu'\n",
        "    ),\n",
        "    # output layer    \n",
        "    layers.Dense(1, activation='sigmoid')\n",
        "    ])\n",
        "    #compilation of model\n",
        "    model.compile(optimizer=tf.keras.optimizers.Adam(hp.Choice('learning_rate', values=[1e-1, 1e-3])),\n",
        "              loss='binary_crossentropy',\n",
        "              metrics=['accuracy'])\n",
        "    return model"
      ],
      "metadata": {
        "id": "HhDLVrZK2d7R"
      },
      "execution_count": null,
      "outputs": []
    },
    {
      "cell_type": "code",
      "source": [
        "#importing random search\n",
        "from kerastuner import RandomSearch\n",
        "#creating randomsearch object\n",
        "tuner = RandomSearch(build_model,\n",
        "                    objective='val_accuracy',\n",
        "                    max_trials = 10)\n",
        "# search best parameter\n",
        "tuner.search(train_ds,epochs=7,validation_data=val_ds)"
      ],
      "metadata": {
        "colab": {
          "base_uri": "https://localhost:8080/"
        },
        "id": "Z4KNCXa45kYf",
        "outputId": "3af6f1d1-2694-4779-e24e-94fcf3e086f7"
      },
      "execution_count": null,
      "outputs": [
        {
          "output_type": "stream",
          "name": "stdout",
          "text": [
            "Trial 10 Complete [00h 03m 44s]\n",
            "val_accuracy: 0.504800021648407\n",
            "\n",
            "Best val_accuracy So Far: 0.7793999910354614\n",
            "Total elapsed time: 00h 28m 28s\n",
            "INFO:tensorflow:Oracle triggered exit\n"
          ]
        }
      ]
    },
    {
      "cell_type": "markdown",
      "source": [
        "Bài trên sử dụng RandomSearch từ Keras Tuner dựa trên architecture  (conv2 -> pooling)x3 -> flatten -> (dense) -> dense2-sigmoid \n",
        "\n",
        "Mình lấy model ít để chạy nhanh hơn ( mục tiêu chỉ để sử dụng KERAS TUNER )\n",
        "Một số parameter cần tuner như filter , kernel size ,units của dense , learning_rate\n",
        "\n",
        "Vì thời gian chạy khá lâu nên em đã thử trials=10 , vì cấu trúc khá sơ sài nên độ chính xác khá thấp, vì hiệu quả các mô hình SOTA hiệu quả hơn nên mình không tập trung phần này"
      ],
      "metadata": {
        "id": "RP5nd7E0K1AZ"
      }
    },
    {
      "cell_type": "markdown",
      "source": [
        "#**RESNET-50**"
      ],
      "metadata": {
        "id": "LrbPRELoMQNd"
      }
    },
    {
      "cell_type": "code",
      "source": [
        "resnet_model = Sequential()\n",
        "\n",
        "pretrained_model= tf.keras.applications.ResNet50(include_top=False,\n",
        "                   input_shape=(224,224,3),\n",
        "                   pooling='avg',\n",
        "                   weights='imagenet')\n",
        "for layer in pretrained_model.layers:\n",
        "        layer.trainable=False\n",
        "\n",
        "resnet_model.add(pretrained_model)\n",
        "\n",
        "resnet_model.add(Flatten())\n",
        "resnet_model.add(Dense(512, activation='relu'))\n",
        "resnet_model.add(Dense(1, activation='sigmoid'))"
      ],
      "metadata": {
        "id": "SkhGuszy6Dvq"
      },
      "execution_count": null,
      "outputs": []
    },
    {
      "cell_type": "code",
      "source": [
        "resnet_model.summary()\n"
      ],
      "metadata": {
        "colab": {
          "base_uri": "https://localhost:8080/"
        },
        "id": "GVBiOxhHNdtI",
        "outputId": "5a0ad95e-8177-4a18-88d5-770c4e7d68a5"
      },
      "execution_count": null,
      "outputs": [
        {
          "output_type": "stream",
          "name": "stdout",
          "text": [
            "Model: \"sequential_14\"\n",
            "_________________________________________________________________\n",
            " Layer (type)                Output Shape              Param #   \n",
            "=================================================================\n",
            " resnet50 (Functional)       (None, 2048)              23587712  \n",
            "                                                                 \n",
            " flatten_16 (Flatten)        (None, 2048)              0         \n",
            "                                                                 \n",
            " dense_31 (Dense)            (None, 512)               1049088   \n",
            "                                                                 \n",
            " dense_32 (Dense)            (None, 1)                 513       \n",
            "                                                                 \n",
            "=================================================================\n",
            "Total params: 24,637,313\n",
            "Trainable params: 1,049,601\n",
            "Non-trainable params: 23,587,712\n",
            "_________________________________________________________________\n"
          ]
        }
      ]
    },
    {
      "cell_type": "code",
      "source": [
        "resnet_model.compile(optimizer=tf.keras.optimizers.Adam(lr=0.001),loss='binary_crossentropy',metrics=['accuracy'])\n",
        "\n",
        "history_resnet = resnet_model.fit_generator(\n",
        "  train_generator,\n",
        "  validation_data=validation_generator,\n",
        "  epochs=epochs \n",
        ")"
      ],
      "metadata": {
        "colab": {
          "base_uri": "https://localhost:8080/"
        },
        "id": "EWSqnekKNfT4",
        "outputId": "3e40459c-2728-4c47-be02-7526a61f2698"
      },
      "execution_count": null,
      "outputs": [
        {
          "output_type": "stream",
          "name": "stderr",
          "text": [
            "/usr/local/lib/python3.7/dist-packages/keras/optimizer_v2/adam.py:105: UserWarning: The `lr` argument is deprecated, use `learning_rate` instead.\n",
            "  super(Adam, self).__init__(name, **kwargs)\n",
            "/usr/local/lib/python3.7/dist-packages/ipykernel_launcher.py:6: UserWarning: `Model.fit_generator` is deprecated and will be removed in a future version. Please use `Model.fit`, which supports generators.\n",
            "  \n"
          ]
        },
        {
          "output_type": "stream",
          "name": "stdout",
          "text": [
            "Epoch 1/10\n",
            "625/625 [==============================] - 117s 181ms/step - loss: 0.0822 - accuracy: 0.9733 - val_loss: 0.0501 - val_accuracy: 0.9820\n",
            "Epoch 2/10\n",
            "625/625 [==============================] - 112s 179ms/step - loss: 0.0393 - accuracy: 0.9852 - val_loss: 0.0572 - val_accuracy: 0.9796\n",
            "Epoch 3/10\n",
            "625/625 [==============================] - 111s 178ms/step - loss: 0.0319 - accuracy: 0.9881 - val_loss: 0.0509 - val_accuracy: 0.9818\n",
            "Epoch 4/10\n",
            "625/625 [==============================] - 112s 178ms/step - loss: 0.0256 - accuracy: 0.9903 - val_loss: 0.0540 - val_accuracy: 0.9840\n",
            "Epoch 5/10\n",
            "625/625 [==============================] - 111s 178ms/step - loss: 0.0215 - accuracy: 0.9916 - val_loss: 0.0692 - val_accuracy: 0.9816\n",
            "Epoch 6/10\n",
            "625/625 [==============================] - 111s 178ms/step - loss: 0.0159 - accuracy: 0.9943 - val_loss: 0.0752 - val_accuracy: 0.9788\n",
            "Epoch 7/10\n",
            "625/625 [==============================] - 110s 176ms/step - loss: 0.0101 - accuracy: 0.9965 - val_loss: 0.0716 - val_accuracy: 0.9828\n",
            "Epoch 8/10\n",
            "625/625 [==============================] - 110s 176ms/step - loss: 0.0135 - accuracy: 0.9947 - val_loss: 0.0656 - val_accuracy: 0.9832\n",
            "Epoch 9/10\n",
            "625/625 [==============================] - 110s 176ms/step - loss: 0.0096 - accuracy: 0.9963 - val_loss: 0.0777 - val_accuracy: 0.9816\n",
            "Epoch 10/10\n",
            "625/625 [==============================] - 109s 175ms/step - loss: 0.0023 - accuracy: 0.9992 - val_loss: 0.0944 - val_accuracy: 0.9820\n"
          ]
        }
      ]
    },
    {
      "cell_type": "code",
      "source": [
        "df_history = pd.DataFrame(history_resnet.history)\n",
        "sns.lineplot(data=df_history[['accuracy','val_accuracy']], palette=\"tab10\", linewidth=2.5);"
      ],
      "metadata": {
        "colab": {
          "base_uri": "https://localhost:8080/",
          "height": 265
        },
        "id": "1d_DeCugh-8j",
        "outputId": "4fbf1ded-80ac-404f-eaf9-2c21bca93326"
      },
      "execution_count": null,
      "outputs": [
        {
          "output_type": "display_data",
          "data": {
            "image/png": "[encoded data removed]",
            "text/plain": [
              "<Figure size 432x288 with 1 Axes>"
            ]
          },
          "metadata": {
            "needs_background": "light"
          }
        }
      ]
    },
    {
      "cell_type": "markdown",
      "source": [
        "Accuray đã cải thiện khá nhiều"
      ],
      "metadata": {
        "id": "XdLdCPQziCc0"
      }
    },
    {
      "cell_type": "markdown",
      "source": [
        "# **MOBILENET-V2**"
      ],
      "metadata": {
        "id": "pEEX2u8XRTZ7"
      }
    },
    {
      "cell_type": "code",
      "source": [
        "mobilenetV2_model = Sequential()\n",
        "\n",
        "pretrained_model= tf.keras.applications.MobileNetV2(include_top=False,\n",
        "                   input_shape=(224,224,3),\n",
        "                   pooling='avg',\n",
        "                   weights='imagenet')\n",
        "for layer in pretrained_model.layers:\n",
        "        layer.trainable=False\n",
        "\n",
        "mobilenetV2_model.add(pretrained_model)\n",
        "mobilenetV2_model.add(Flatten())\n",
        "mobilenetV2_model.add(Dense(512, activation='relu'))\n",
        "mobilenetV2_model.add(Dense(1, activation='sigmoid'))"
      ],
      "metadata": {
        "id": "FaRgPH7_Nla-"
      },
      "execution_count": null,
      "outputs": []
    },
    {
      "cell_type": "code",
      "source": [
        "resnet_model.summary()\n"
      ],
      "metadata": {
        "colab": {
          "base_uri": "https://localhost:8080/"
        },
        "id": "TTCSdoYdTwC7",
        "outputId": "48ecaf3f-835d-4785-f3df-16819372223c"
      },
      "execution_count": null,
      "outputs": [
        {
          "output_type": "stream",
          "name": "stdout",
          "text": [
            "Model: \"sequential_14\"\n",
            "_________________________________________________________________\n",
            " Layer (type)                Output Shape              Param #   \n",
            "=================================================================\n",
            " resnet50 (Functional)       (None, 2048)              23587712  \n",
            "                                                                 \n",
            " flatten_16 (Flatten)        (None, 2048)              0         \n",
            "                                                                 \n",
            " dense_31 (Dense)            (None, 512)               1049088   \n",
            "                                                                 \n",
            " dense_32 (Dense)            (None, 1)                 513       \n",
            "                                                                 \n",
            "=================================================================\n",
            "Total params: 24,637,313\n",
            "Trainable params: 1,049,601\n",
            "Non-trainable params: 23,587,712\n",
            "_________________________________________________________________\n"
          ]
        }
      ]
    },
    {
      "cell_type": "code",
      "source": [
        "mobilenetV2_model.compile(optimizer=tf.keras.optimizers.Adam(lr=0.001),loss='binary_crossentropy',metrics=['accuracy'])\n",
        "\n",
        "history_mobilev2 = mobilenetV2_model.fit_generator(\n",
        "  train_generator,\n",
        "  validation_data=validation_generator,\n",
        "  epochs=epochs \n",
        ")"
      ],
      "metadata": {
        "colab": {
          "base_uri": "https://localhost:8080/"
        },
        "id": "cF40uVRSTwe7",
        "outputId": "38e20383-2d86-4a27-c5e6-32a81b8a2596"
      },
      "execution_count": null,
      "outputs": [
        {
          "output_type": "stream",
          "name": "stderr",
          "text": [
            "/usr/local/lib/python3.7/dist-packages/keras/optimizer_v2/adam.py:105: UserWarning: The `lr` argument is deprecated, use `learning_rate` instead.\n",
            "  super(Adam, self).__init__(name, **kwargs)\n",
            "/usr/local/lib/python3.7/dist-packages/ipykernel_launcher.py:6: UserWarning: `Model.fit_generator` is deprecated and will be removed in a future version. Please use `Model.fit`, which supports generators.\n",
            "  \n"
          ]
        },
        {
          "output_type": "stream",
          "name": "stdout",
          "text": [
            "Epoch 1/10\n",
            "625/625 [==============================] - 110s 170ms/step - loss: 0.3889 - accuracy: 0.8203 - val_loss: 0.3498 - val_accuracy: 0.8450\n",
            "Epoch 2/10\n",
            "625/625 [==============================] - 106s 170ms/step - loss: 0.3334 - accuracy: 0.8502 - val_loss: 0.3419 - val_accuracy: 0.8484\n",
            "Epoch 3/10\n",
            "625/625 [==============================] - 106s 169ms/step - loss: 0.3018 - accuracy: 0.8684 - val_loss: 0.3368 - val_accuracy: 0.8506\n",
            "Epoch 4/10\n",
            "625/625 [==============================] - 106s 169ms/step - loss: 0.2844 - accuracy: 0.8757 - val_loss: 0.3440 - val_accuracy: 0.8514\n",
            "Epoch 5/10\n",
            "625/625 [==============================] - 106s 169ms/step - loss: 0.2612 - accuracy: 0.8853 - val_loss: 0.3519 - val_accuracy: 0.8504\n",
            "Epoch 6/10\n",
            "625/625 [==============================] - 106s 169ms/step - loss: 0.2405 - accuracy: 0.8959 - val_loss: 0.3427 - val_accuracy: 0.8498\n",
            "Epoch 7/10\n",
            "625/625 [==============================] - 106s 169ms/step - loss: 0.2143 - accuracy: 0.9076 - val_loss: 0.3898 - val_accuracy: 0.8406\n",
            "Epoch 8/10\n",
            "625/625 [==============================] - 106s 169ms/step - loss: 0.1884 - accuracy: 0.9212 - val_loss: 0.4014 - val_accuracy: 0.8496\n",
            "Epoch 9/10\n",
            "625/625 [==============================] - 106s 170ms/step - loss: 0.1720 - accuracy: 0.9298 - val_loss: 0.4009 - val_accuracy: 0.8440\n",
            "Epoch 10/10\n",
            "625/625 [==============================] - 106s 169ms/step - loss: 0.1384 - accuracy: 0.9446 - val_loss: 0.4405 - val_accuracy: 0.8462\n"
          ]
        }
      ]
    },
    {
      "cell_type": "code",
      "source": [
        "df_history = pd.DataFrame(history_mobilev2.history)\n",
        "sns.lineplot(data=df_history[['accuracy','val_accuracy']], palette=\"tab10\", linewidth=2.5);"
      ],
      "metadata": {
        "colab": {
          "base_uri": "https://localhost:8080/",
          "height": 265
        },
        "id": "ejP7y_hOjX7J",
        "outputId": "dcce8fd2-deae-4158-fd7c-7137fb33ff52"
      },
      "execution_count": null,
      "outputs": [
        {
          "output_type": "display_data",
          "data": {
            "image/png": "[encoded data removed]",
            "text/plain": [
              "<Figure size 432x288 with 1 Axes>"
            ]
          },
          "metadata": {
            "needs_background": "light"
          }
        }
      ]
    },
    {
      "cell_type": "markdown",
      "source": [
        "Pretrained model trên mobilenetv2 khá tệ"
      ],
      "metadata": {
        "id": "LkQKCAXsjbzm"
      }
    },
    {
      "cell_type": "markdown",
      "source": [
        "## **DATA AUGMENTATION**\n",
        "\n",
        "\n",
        "          - rotation_range is a value in degrees (0-180), a range within which to randomly rotate pictures\n",
        "          - width_shift and height_shift are ranges (as a fraction of total width or height) within which to randomly translate pictures vertically or horizontally\n",
        "          - rescale is a value by which we will multiply the data before any other processing. Our original images consist in RGB coefficients in the 0-255, but such values would be too high for our models to process (given a typical learning rate), so we target values between 0 and 1 instead by scaling with a 1/255. factor.\n",
        "          - shear_range is for randomly applying shearing transformations\n",
        "          - zoom_range is for randomly zooming inside pictures\n",
        "          - horizontal_flip is for randomly flipping half of the images horizontally --relevant when there are no assumptions of horizontal assymetry (e.g. real-world pictures).\n",
        "          - fill_mode is the strategy used for filling in newly created pixels, which can appear after a rotation or a width/height shift."
      ],
      "metadata": {
        "id": "0KDvPDIMK2Wi"
      }
    },
    {
      "cell_type": "code",
      "source": [
        ""
      ],
      "metadata": {
        "id": "3sQ-t3XF2OnW"
      },
      "execution_count": null,
      "outputs": []
    },
    {
      "cell_type": "code",
      "source": [
        "CB = [\n",
        "            keras.callbacks.ModelCheckpoint(\n",
        "            filepath=\"fine_tuning.keras\",\n",
        "            save_best_only=True,\n",
        "            monitor=\"val_loss\"),\n",
        "            keras.callbacks.EarlyStopping(\n",
        "            monitor='val_loss',\n",
        "            min_delta=0.0005,\n",
        "            patience=3)\n",
        "]"
      ],
      "metadata": {
        "id": "gTGFNuCE2OWu"
      },
      "execution_count": null,
      "outputs": []
    },
    {
      "cell_type": "code",
      "source": [
        "def get_generator(image_data_generator, directory, train_valid=None, seed=None):\n",
        "    train_generator = image_data_generator.flow_from_directory(directory, batch_size=batch_size, class_mode='binary', target_size=(224,224), subset=train_valid, seed=seed)    \n",
        "    return train_generator"
      ],
      "metadata": {
        "id": "5Ru6JR8aPCIo"
      },
      "execution_count": null,
      "outputs": []
    },
    {
      "cell_type": "code",
      "source": [
        "def get_ImageDataGenerator_augmented(validation_split=None):\n",
        "    image_generator = ImageDataGenerator(featurewise_center=True,\n",
        "                                        rotation_range=40,\n",
        "                                        width_shift_range=0.2,\n",
        "                                        height_shift_range=0.2,\n",
        "                                        shear_range=0.2,\n",
        "                                        zoom_range=0.1,\n",
        "                                        brightness_range=[0.8,1.2],\n",
        "                                        horizontal_flip=True,\n",
        "                                        validation_split=validation_split)\n",
        "    image_generator.mean = [123.68, 116.779, 103.939]\n",
        "    return image_generator\n",
        "image_gen_train_aug = get_ImageDataGenerator_augmented(validation_split=0.2)\n",
        "train_generator_aug = get_generator(image_gen_train_aug, path, train_valid='training', seed=1)\n",
        "validation_generator_aug = get_generator(image_gen_train_aug, path, train_valid='validation')"
      ],
      "metadata": {
        "colab": {
          "base_uri": "https://localhost:8080/"
        },
        "id": "ZjU6j3NrJbhQ",
        "outputId": "19653f3d-289b-46e3-f098-905805c434c1"
      },
      "execution_count": null,
      "outputs": [
        {
          "output_type": "stream",
          "name": "stdout",
          "text": [
            "Found 20000 images belonging to 2 classes.\n",
            "Found 5000 images belonging to 2 classes.\n"
          ]
        }
      ]
    },
    {
      "cell_type": "code",
      "source": [
        ""
      ],
      "metadata": {
        "id": "0tFki2woJbdm"
      },
      "execution_count": null,
      "outputs": []
    },
    {
      "cell_type": "code",
      "source": [
        "resnet_model_aug = Sequential()\n",
        "\n",
        "pretrained_model= tf.keras.applications.ResNet50(include_top=False,\n",
        "                   input_shape=(224,224,3),\n",
        "                   pooling='avg',\n",
        "                   weights='imagenet')\n",
        "for layer in pretrained_model.layers:\n",
        "        layer.trainable=False\n",
        "\n",
        "resnet_model_aug.add(pretrained_model)\n",
        "\n",
        "resnet_model_aug.add(Flatten())\n",
        "resnet_model_aug.add(Dense(512, activation='relu'))\n",
        "resnet_model_aug.add(Dense(1, activation='sigmoid'))"
      ],
      "metadata": {
        "id": "ljJS6Av3Lyql"
      },
      "execution_count": null,
      "outputs": []
    },
    {
      "cell_type": "code",
      "source": [
        "resnet_model_aug.compile(optimizer=tf.keras.optimizers.Adam(lr=0.001),loss='binary_crossentropy',metrics=['accuracy'])\n"
      ],
      "metadata": {
        "colab": {
          "base_uri": "https://localhost:8080/"
        },
        "id": "GZt7ROKfOkrK",
        "outputId": "1f745d09-b889-4fef-e836-67a30b582a44"
      },
      "execution_count": null,
      "outputs": [
        {
          "output_type": "stream",
          "name": "stderr",
          "text": [
            "/usr/local/lib/python3.7/dist-packages/keras/optimizer_v2/adam.py:105: UserWarning: The `lr` argument is deprecated, use `learning_rate` instead.\n",
            "  super(Adam, self).__init__(name, **kwargs)\n"
          ]
        }
      ]
    },
    {
      "cell_type": "code",
      "source": [
        "epochs = 10\n",
        "history_resnet_aug = resnet_model_aug.fit_generator(train_generator_aug, validation_data=validation_generator_aug, epochs=epochs,callbacks=CB)"
      ],
      "metadata": {
        "colab": {
          "base_uri": "https://localhost:8080/"
        },
        "id": "A7MSOgg9Qrjc",
        "outputId": "6e3e0420-4287-4fd8-f3e3-ef2a1b605785"
      },
      "execution_count": null,
      "outputs": [
        {
          "output_type": "stream",
          "name": "stderr",
          "text": [
            "/usr/local/lib/python3.7/dist-packages/ipykernel_launcher.py:3: UserWarning: `Model.fit_generator` is deprecated and will be removed in a future version. Please use `Model.fit`, which supports generators.\n",
            "  This is separate from the ipykernel package so we can avoid doing imports until\n"
          ]
        },
        {
          "output_type": "stream",
          "name": "stdout",
          "text": [
            "Epoch 1/10\n",
            "625/625 [==============================] - 401s 642ms/step - loss: 0.0801 - accuracy: 0.9690 - val_loss: 0.0687 - val_accuracy: 0.9728\n",
            "Epoch 2/10\n",
            "625/625 [==============================] - 392s 627ms/step - loss: 0.0707 - accuracy: 0.9719 - val_loss: 0.0652 - val_accuracy: 0.9720\n",
            "Epoch 3/10\n",
            "625/625 [==============================] - 393s 629ms/step - loss: 0.0637 - accuracy: 0.9748 - val_loss: 0.0699 - val_accuracy: 0.9726\n",
            "Epoch 4/10\n",
            "625/625 [==============================] - 390s 625ms/step - loss: 0.0600 - accuracy: 0.9758 - val_loss: 0.0709 - val_accuracy: 0.9708\n",
            "Epoch 5/10\n",
            "625/625 [==============================] - 390s 624ms/step - loss: 0.0594 - accuracy: 0.9768 - val_loss: 0.0724 - val_accuracy: 0.9720\n"
          ]
        }
      ]
    },
    {
      "cell_type": "markdown",
      "source": [
        "Early stopping tại epoch thứ 5"
      ],
      "metadata": {
        "id": "ppndQzP2mNbE"
      }
    },
    {
      "cell_type": "code",
      "source": [
        "path_test = '/content/test/test'\n"
      ],
      "metadata": {
        "id": "x7hyitPYvINh"
      },
      "execution_count": null,
      "outputs": []
    },
    {
      "cell_type": "code",
      "source": [
        "test_imgs = os.listdir('/content/test/test')\n",
        "test_df = pd.DataFrame({\"id\": test_imgs})\n",
        "print(test_df.shape[0])"
      ],
      "metadata": {
        "colab": {
          "base_uri": "https://localhost:8080/"
        },
        "id": "pmRenUQHskTD",
        "outputId": "ea0ebb6e-2630-4d2f-8ed1-dba4d22d12d7"
      },
      "execution_count": null,
      "outputs": [
        {
          "output_type": "stream",
          "name": "stdout",
          "text": [
            "8000\n"
          ]
        }
      ]
    },
    {
      "cell_type": "code",
      "source": [
        "datagen = ImageDataGenerator()\n",
        "test_ds = datagen.flow_from_directory('/content/test', class_mode='binary', batch_size=batch_size)"
      ],
      "metadata": {
        "colab": {
          "base_uri": "https://localhost:8080/"
        },
        "id": "1C-n-ejqvjgN",
        "outputId": "c47a6be1-4950-44c3-e8c3-904015aa6f92"
      },
      "execution_count": null,
      "outputs": [
        {
          "output_type": "stream",
          "name": "stdout",
          "text": [
            "Found 8000 images belonging to 1 classes.\n"
          ]
        }
      ]
    },
    {
      "cell_type": "code",
      "source": [
        "predict = resnet_model_aug.predict(test_ds)\n"
      ],
      "metadata": {
        "id": "_SV1yPQrwg7N"
      },
      "execution_count": null,
      "outputs": []
    },
    {
      "cell_type": "code",
      "source": [
        "predict"
      ],
      "metadata": {
        "colab": {
          "base_uri": "https://localhost:8080/"
        },
        "id": "3xOA9O8lm2f9",
        "outputId": "4ace41e3-d49f-4a7a-c021-33c970a32e42"
      },
      "execution_count": null,
      "outputs": [
        {
          "output_type": "execute_result",
          "data": {
            "text/plain": [
              "array([1.], dtype=float32)"
            ]
          },
          "metadata": {},
          "execution_count": 149
        }
      ]
    },
    {
      "cell_type": "code",
      "source": [
        "test_df['labels'] = [1 if i>0.55 else 0 for i in predict]"
      ],
      "metadata": {
        "id": "ORYmFAmNs0Xj"
      },
      "execution_count": null,
      "outputs": []
    },
    {
      "cell_type": "code",
      "source": [
        "test_df"
      ],
      "metadata": {
        "id": "7KTYw-RbleDh"
      },
      "execution_count": null,
      "outputs": []
    },
    {
      "cell_type": "code",
      "source": [
        "test_df = test_df.sort_values(by='id')\n",
        "test_df.to_csv('submission.csv',index=False)\n",
        "test_df.head(20)"
      ],
      "metadata": {
        "id": "W_h1bK6CwpbF"
      },
      "execution_count": null,
      "outputs": []
    },
    {
      "cell_type": "markdown",
      "source": [
        "# **COMPARE PERFORMANCE**\n",
        "\n",
        "| Model       |  Accuracy Val  | Trainable params    | Total params|\n",
        "| :---        |    :----:   |          :---: |  :--:     |\n",
        "| CNN         |      0.84  |      6       |6         |\n",
        "| ResNet50    | 0.98     | 24      |    1     |\n",
        "| MobileNetV2 | 0.85      | 24      |1       |\n",
        "| ResNetv2-augmentation  | 0.97       | 24      |1|"
      ],
      "metadata": {
        "id": "Q2H0BTK3igcO"
      }
    },
    {
      "cell_type": "markdown",
      "source": [
        "KẾT QUẢ KAGGLE 98.83 trên folder test....Mình sẽ cải thiện  kết quả tốt nhất lên Kaggle trong tuần sau \n",
        "\n",
        "![image.png](data:image/png;base64,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)\n"
      ],
      "metadata": {
        "id": "AMHqgsEsWy78"
      }
    },
    {
      "cell_type": "code",
      "source": [
        ""
      ],
      "metadata": {
        "id": "GfQKrW6iWydU"
      },
      "execution_count": null,
      "outputs": []
    },
    {
      "cell_type": "code",
      "source": [
        ""
      ],
      "metadata": {
        "id": "LRrmlgghxPm2"
      },
      "execution_count": null,
      "outputs": []
    }
  ]
}