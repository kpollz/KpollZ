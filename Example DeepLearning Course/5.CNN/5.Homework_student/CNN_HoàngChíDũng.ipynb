{
  "nbformat": 4,
  "nbformat_minor": 0,
  "metadata": {
    "colab": {
      "name": "CNN_HoàngChíDũng.ipynb",
      "provenance": [],
      "collapsed_sections": [
        "13TqIKJBTX2T",
        "pf-HZYQQjDp8",
        "9C3NwK35TiD_",
        "iRekjc38cKkk",
        "Zjqk4e1zcph2",
        "NKkXdhWgKYOk",
        "FxDbeqdMzzXu",
        "52hXO76tyCPd"
      ]
    },
    "kernelspec": {
      "name": "python3",
      "display_name": "Python 3"
    },
    "language_info": {
      "name": "python"
    },
    "accelerator": "GPU"
  },
  "cells": [
    {
      "cell_type": "markdown",
      "source": [
        "# I. Lý thuyết"
      ],
      "metadata": {
        "id": "W2HWfZe5bT7u"
      }
    },
    {
      "cell_type": "markdown",
      "source": [
        "1) Mạng tích chập CNN sẽ được thực hiện như thế nào?\n",
        "\n",
        "A. Phân chia feature map thành các ma trận theo chiều channel và thực hiện tích chập giữa mỗi ma trận kernel với từng chiều.\n",
        "\n",
        "B. Thực hiện phép nhân ma trận kernel với chuyển vị của ma trận local receptive field để thu được giá trị feature map output.\n",
        "\n",
        "C. Tính trung bình các phân tử trên một ma trận local receptive field.\n",
        "\n",
        "D. Di chuyển vùng local receptive field theo chiều từ trái sang phải và từ trên xuống dưới và nhân tích chập với kernel để thu được ma trận feature map.\n",
        "\n",
        "2) Thực hiện phép nhân tích chập giữa ma trận đầu vào kích thước width và height lần lượt là $(W, H)$ với bộ lọc kích thước $(F, F)$ và bước nhảy $S$ thì thu được ma trận đầu ra với kích thước width và height $(W', H')$ là bao nhiêu? Hãy lựa chọn công thức tổng quát nhất.\n",
        "\n",
        "A. $W' =⌊ \\frac{W-F}{S} ⌋ + 1;~ H' =⌊ \\frac{H-F}{S} ⌋ + 1$\n",
        "\n",
        "B. $W' =\\lceil \\frac{W-F}{S} \\rceil + 1;~ H' = \\lceil \\frac{H-F}{S} \\rceil + 1$ \n",
        "\n",
        "C. $W' =\\lfloor \\frac{W-F+2P}{S} \\rfloor + 1;~ H' = \\lfloor \\frac{H-F+2P}{S} \\rfloor + 1$ với $P$ là số lượng các véc tơ 0 padding ở bên ngoài đều hai phía.\n",
        "\n",
        "D. $W' =\\lceil \\frac{W-F+P}{S} \\rceil + 1;~ H' = \\lceil \\frac{H-F+P}{S} \\rceil + 1$ với $P$ là số lượng các véc tơ 0 padding ở bên ngoài đều hai phía.\n",
        "\n",
        "3) Mạng CNN sẽ học được những gì qua các layers?\n",
        "\n",
        "A. Tại những layers đầu mỗi channels sẽ giúp phân biệt một loại đặc trưng, của vật thể. Những đặc trưng này sau đó được trải phẳng và đưa vào mạng MLP để phân loại vật thể.\n",
        "\n",
        "B. Những layers cuối cùng sẽ zoom vào từng chi tiết của vật thể để phân loại vật thể.\n",
        "\n",
        "C. Tại những layers đầu mạng sẽ học được các đặc trưng chung như các edge dọc, ngang, chéo,.... Các đặc trưng chi tiết và tổng quát giúp nhận diện vật thể được học tại những layers cuối cùng.\n",
        "\n",
        "D. Các layers đầu tiên sẽ tập trung vào các chi tiết bộ phận của vật thể.\n",
        "\n",
        "4) Kiến trúc chung của một mạng CNN là gì?\n",
        "\n",
        "A. _[Conv -> BatchNorm -> Activation -> Maxpooling] x n_\n",
        "\n",
        "B. _[BatchNorm -> Conv -> Activation -> Maxpooling] x n_ \n",
        "\n",
        "C. _[Conv -> BatchNorm -> Maxpooling -> Activation -> Maxpooling] x n_ \n",
        "\n",
        "D. _[Conv -> BatchNorm -> Maxpooling -> Activation -> Maxpooling] x n -> Flatten -> [FullyConnected -> Activation] x m -> Softmax_ \n",
        "\n",
        "5) Thông thường đặc điểm kích thước feature map của mạng neural sẽ như thế nào ?\n",
        "\n",
        "A. Kích thước feature map tăng dần gấp đôi qua thời gian.\n",
        "\n",
        "B. Kích thước feature map sẽ duy trì không đổi qua thời gian.\n",
        "\n",
        "C. Kích thước mạng sẽ giảm dần gấp đôi sau mỗi một lần downsampling và sau đó tăng dần gấp đôi sau mỗi lần upsampling để khôi phục về kích thước ảnh input.\n",
        "\n",
        "D. Kích thước mạng thường giảm gấp đôi sau một lần downsampling và số lượng các filters tăng dần."
      ],
      "metadata": {
        "id": "O6_oiMLtbZd2"
      }
    },
    {
      "cell_type": "markdown",
      "source": [
        "1. D\n",
        "2. C\n",
        "3. C\n",
        "4. D\n",
        "5. D\n",
        "\n"
      ],
      "metadata": {
        "id": "eKxP0rCsq0Ke"
      }
    },
    {
      "cell_type": "markdown",
      "source": [
        "# II. Thực hành\n",
        "\n",
        "6) Thực hiện xây dựng và huấn luyện một mạng CNN ngẫu nhiên trên bộ dữ liệu [Dog and Cat](https://www.kaggle.com/c/dog-vs-cat-classification/data). Lưu ý cần thực hiện [chuẩn hóa dữ liệu](https://github.com/pytorch/examples/issues/112) đối với bộ dữ liệu ImageNet trước khi huấn luyện.\n",
        "\n",
        "7) Grid Search kiến trúc CNN dựa trên việc tổng quát hóa một thiết kế câu 6.\n",
        "\n",
        "8) Huấn luyện lại mô hình bằng kiến trúc ResNet và MobileNet. Đánh giá chi phí tính toán và submit kết quả độ chính xác trên các ảnh thuộc folder test.\n",
        "\n",
        "9) Thử nghiệm các phương pháp Augmentation như Flip, Rotation, Random Crop, Bright Contrast để cải thiện kết quả mô hình.\n",
        "\n",
        "10) Lập bảng kết quả các thử nghiệm đã sử dụng."
      ],
      "metadata": {
        "id": "I4U8kdaxbW0e"
      }
    },
    {
      "cell_type": "markdown",
      "source": [
        "#Import thư viện"
      ],
      "metadata": {
        "id": "13TqIKJBTX2T"
      }
    },
    {
      "cell_type": "code",
      "source": [
        "!pip install --quiet optuna"
      ],
      "metadata": {
        "colab": {
          "base_uri": "https://localhost:8080/"
        },
        "id": "rstyk813K6fA",
        "outputId": "389e4836-6f49-49cd-d6d2-e62d3776c0e3"
      },
      "execution_count": null,
      "outputs": [
        {
          "output_type": "stream",
          "name": "stdout",
          "text": [
            "\u001b[K     |████████████████████████████████| 308 kB 13.1 MB/s \n",
            "\u001b[K     |████████████████████████████████| 81 kB 10.0 MB/s \n",
            "\u001b[K     |████████████████████████████████| 210 kB 73.8 MB/s \n",
            "\u001b[K     |████████████████████████████████| 75 kB 6.2 MB/s \n",
            "\u001b[K     |████████████████████████████████| 150 kB 78.2 MB/s \n",
            "\u001b[K     |████████████████████████████████| 49 kB 7.5 MB/s \n",
            "\u001b[K     |████████████████████████████████| 113 kB 51.4 MB/s \n",
            "\u001b[?25h  Building wheel for pyperclip (setup.py) ... \u001b[?25l\u001b[?25hdone\n"
          ]
        }
      ]
    },
    {
      "cell_type": "code",
      "source": [
        "from google.colab import drive\n",
        "drive.mount('/content/gdrive/')"
      ],
      "metadata": {
        "colab": {
          "base_uri": "https://localhost:8080/"
        },
        "id": "xdviGkWDtNo6",
        "outputId": "0680386b-8a47-4d52-d570-7f10cf3e5c2b"
      },
      "execution_count": null,
      "outputs": [
        {
          "output_type": "stream",
          "name": "stdout",
          "text": [
            "Mounted at /content/gdrive/\n"
          ]
        }
      ]
    },
    {
      "cell_type": "code",
      "source": [
        "import os\n",
        "import glob\n",
        "# import optuna\n",
        "import shutil\n",
        "import numpy as np\n",
        "import pandas as pd\n",
        "from PIL import Image\n",
        "import seaborn as sns\n",
        "import matplotlib.pyplot as plt\n",
        "# from optuna.trial import TrialState\n",
        "# from optuna.integration import TFKerasPruningCallback\n",
        "#----------------------------------------------------------------------------\n",
        "import tensorflow as tf\n",
        "import tensorflow_hub as hub\n",
        "from tensorflow.keras.layers import Dense, Conv2D, MaxPooling2D, Flatten, Input\n",
        "from tensorflow.keras.preprocessing.image import ImageDataGenerator, \\\n",
        "                                          img_to_array, array_to_img, load_img"
      ],
      "metadata": {
        "id": "HnVFjyvxtS34"
      },
      "execution_count": null,
      "outputs": []
    },
    {
      "cell_type": "code",
      "source": [
        "os.chdir('/content/gdrive/MyDrive/DungHi/dog_vs_cat')"
      ],
      "metadata": {
        "id": "sEgus7ZJtUos"
      },
      "execution_count": null,
      "outputs": []
    },
    {
      "cell_type": "code",
      "source": [
        "!ls train/train/cats | wc -l\n",
        "!ls train/train/dogs | wc -l"
      ],
      "metadata": {
        "id": "yknx7ptqN2Ml"
      },
      "execution_count": null,
      "outputs": []
    },
    {
      "cell_type": "code",
      "source": [
        "!find train/train -size 0 -exec rm {} + \n",
        "!find train/train -type f ! -name \"*.jpg\" -exec rm {} + "
      ],
      "metadata": {
        "id": "lhROZsW5Qn4H"
      },
      "execution_count": null,
      "outputs": []
    },
    {
      "cell_type": "code",
      "source": [
        "!ls train/train/cats | wc -l\n",
        "!ls train/train/dogs | wc -l"
      ],
      "metadata": {
        "id": "4mzQUuA0Rq0U"
      },
      "execution_count": null,
      "outputs": []
    },
    {
      "cell_type": "markdown",
      "source": [
        "#Chia tập train/val"
      ],
      "metadata": {
        "id": "pf-HZYQQjDp8"
      }
    },
    {
      "cell_type": "code",
      "source": [
        "cat_imgs = 'train/train/cats'\n",
        "dog_imgs = 'train/train/dogs'"
      ],
      "metadata": {
        "id": "1g0z75-zjC7q"
      },
      "execution_count": null,
      "outputs": []
    },
    {
      "cell_type": "code",
      "source": [
        "def move_to_destination(origin, destination, percentage_split):\n",
        "    num_images = int(len(os.listdir(origin)) * percentage_split)\n",
        "    for image_name, image_number in zip(sorted(os.listdir(origin)), range(num_images)):\n",
        "        shutil.move(os.path.join(origin, image_name), destination)"
      ],
      "metadata": {
        "id": "BN79-DK_jzVT"
      },
      "execution_count": null,
      "outputs": []
    },
    {
      "cell_type": "code",
      "source": [
        "val_dirs = ['train/val/cats', 'train/val/dogs']\n",
        "for val_dir in val_dirs:\n",
        "    if not os.path.exists(val_dir):\n",
        "        os.makedirs(val_dir)"
      ],
      "metadata": {
        "id": "GUeAMJIWlDTH"
      },
      "execution_count": null,
      "outputs": []
    },
    {
      "cell_type": "code",
      "source": [
        "move_to_destination(cat_imgs, 'train/val/cats', 0.2)\n",
        "move_to_destination(dog_imgs, 'train/val/dogs', 0.2)"
      ],
      "metadata": {
        "id": "wYDauIxRlpcI"
      },
      "execution_count": null,
      "outputs": []
    },
    {
      "cell_type": "code",
      "source": [
        "!ls train/train/cats | wc -l\n",
        "!ls train/train/dogs | wc -l\n",
        "!ls train/val/cats | wc -l\n",
        "!ls train/val/dogs | wc -l"
      ],
      "metadata": {
        "colab": {
          "base_uri": "https://localhost:8080/"
        },
        "id": "xN4SDJPX065m",
        "outputId": "980e2c71-7f6d-42cb-e34c-c2381d98dd3f"
      },
      "execution_count": null,
      "outputs": [
        {
          "output_type": "stream",
          "name": "stdout",
          "text": [
            "10000\n",
            "10000\n",
            "2500\n",
            "2500\n"
          ]
        }
      ]
    },
    {
      "cell_type": "markdown",
      "source": [
        "#Tạo ImageDataGenerator"
      ],
      "metadata": {
        "id": "9C3NwK35TiD_"
      }
    },
    {
      "cell_type": "code",
      "source": [
        "train_datagen = ImageDataGenerator(rescale=1./255)\n",
        "test_datagen = ImageDataGenerator(rescale=1./255)\n",
        "\n",
        "# Tạo train generator\n",
        "train_generator = train_datagen.flow_from_directory(\n",
        "    directory='train/train/',\n",
        "    target_size=(224, 224),\n",
        "    class_mode='binary',\n",
        "    batch_size=32)\n",
        "\n",
        "#Tạo val generator\n",
        "test_generator = test_datagen.flow_from_directory(\n",
        "    directory='train/val/',\n",
        "    target_size=(224, 224),\n",
        "    class_mode='binary',\n",
        "    batch_size=32)"
      ],
      "metadata": {
        "colab": {
          "base_uri": "https://localhost:8080/"
        },
        "id": "9cpllQflSx8W",
        "outputId": "8feee68d-b53b-4c9a-d939-998ffc5366ed"
      },
      "execution_count": null,
      "outputs": [
        {
          "output_type": "stream",
          "name": "stdout",
          "text": [
            "Found 20000 images belonging to 2 classes.\n",
            "Found 5000 images belonging to 2 classes.\n"
          ]
        }
      ]
    },
    {
      "cell_type": "code",
      "source": [
        "train_generator.class_indices"
      ],
      "metadata": {
        "colab": {
          "base_uri": "https://localhost:8080/"
        },
        "id": "ebyobHQubj1R",
        "outputId": "35706e45-d870-462f-895a-4cf818d85fbe"
      },
      "execution_count": null,
      "outputs": [
        {
          "output_type": "execute_result",
          "data": {
            "text/plain": [
              "{'cats': 0, 'dogs': 1}"
            ]
          },
          "metadata": {},
          "execution_count": 6
        }
      ]
    },
    {
      "cell_type": "markdown",
      "source": [
        "#Xây dựng mô hình"
      ],
      "metadata": {
        "id": "iRekjc38cKkk"
      }
    },
    {
      "cell_type": "code",
      "source": [
        "def create_model():\n",
        "  model = tf.keras.models.Sequential()\n",
        "  model.add(tf.keras.layers.Conv2D(32, (3,3), activation='relu', kernel_initializer='he_uniform', input_shape=(224, 224, 3)))\n",
        "  model.add(tf.keras.layers.MaxPooling2D((2,2)))\n",
        "  model.add(tf.keras.layers.Conv2D(64, (3,3), activation='relu', kernel_initializer='he_uniform'))\n",
        "  model.add(tf.keras.layers.MaxPooling2D((2,2)))\n",
        "  model.add(tf.keras.layers.Conv2D(64, (3,3), activation='relu', kernel_initializer='he_uniform'))\n",
        "  model.add(tf.keras.layers.MaxPooling2D((2,2)))\n",
        "  model.add(tf.keras.layers.Conv2D(128, (3,3), activation='relu', kernel_initializer='he_uniform'))\n",
        "  model.add(tf.keras.layers.MaxPooling2D((2,2)))\n",
        "  model.add(tf.keras.layers.Flatten())\n",
        "  model.add(tf.keras.layers.Dense(512, activation='relu', kernel_initializer='he_uniform'))\n",
        "  model.add(tf.keras.layers.Dense(1, activation='sigmoid'))\n",
        "\n",
        "  model.compile(optimizer='adam', loss='binary_crossentropy', metrics = ['accuracy'])\n",
        "\n",
        "  return model"
      ],
      "metadata": {
        "id": "SPjDmBzgcIK9"
      },
      "execution_count": null,
      "outputs": []
    },
    {
      "cell_type": "code",
      "source": [
        "model = create_model()\n",
        "model.summary()"
      ],
      "metadata": {
        "colab": {
          "base_uri": "https://localhost:8080/"
        },
        "id": "ylpitMcFcfmh",
        "outputId": "abb0e2fc-32a2-4261-8a83-b12df40f5a26"
      },
      "execution_count": null,
      "outputs": [
        {
          "output_type": "stream",
          "name": "stdout",
          "text": [
            "Model: \"sequential\"\n",
            "_________________________________________________________________\n",
            " Layer (type)                Output Shape              Param #   \n",
            "=================================================================\n",
            " conv2d (Conv2D)             (None, 222, 222, 32)      896       \n",
            "                                                                 \n",
            " max_pooling2d (MaxPooling2D  (None, 111, 111, 32)     0         \n",
            " )                                                               \n",
            "                                                                 \n",
            " conv2d_1 (Conv2D)           (None, 109, 109, 64)      18496     \n",
            "                                                                 \n",
            " max_pooling2d_1 (MaxPooling  (None, 54, 54, 64)       0         \n",
            " 2D)                                                             \n",
            "                                                                 \n",
            " conv2d_2 (Conv2D)           (None, 52, 52, 64)        36928     \n",
            "                                                                 \n",
            " max_pooling2d_2 (MaxPooling  (None, 26, 26, 64)       0         \n",
            " 2D)                                                             \n",
            "                                                                 \n",
            " conv2d_3 (Conv2D)           (None, 24, 24, 128)       73856     \n",
            "                                                                 \n",
            " max_pooling2d_3 (MaxPooling  (None, 12, 12, 128)      0         \n",
            " 2D)                                                             \n",
            "                                                                 \n",
            " flatten (Flatten)           (None, 18432)             0         \n",
            "                                                                 \n",
            " dense (Dense)               (None, 512)               9437696   \n",
            "                                                                 \n",
            " dense_1 (Dense)             (None, 1)                 513       \n",
            "                                                                 \n",
            "=================================================================\n",
            "Total params: 9,568,385\n",
            "Trainable params: 9,568,385\n",
            "Non-trainable params: 0\n",
            "_________________________________________________________________\n"
          ]
        }
      ]
    },
    {
      "cell_type": "markdown",
      "source": [
        "#Huấn luyện mô hình"
      ],
      "metadata": {
        "id": "Zjqk4e1zcph2"
      }
    },
    {
      "cell_type": "code",
      "source": [
        "history = model.fit(train_generator, validation_data=test_generator, epochs=10)"
      ],
      "metadata": {
        "colab": {
          "base_uri": "https://localhost:8080/"
        },
        "id": "gwiMtnZEcnFE",
        "outputId": "61d0cdd1-4c3f-4aa2-ddf0-341255faca25"
      },
      "execution_count": null,
      "outputs": [
        {
          "output_type": "stream",
          "name": "stdout",
          "text": [
            "Epoch 1/10\n",
            "625/625 [==============================] - 3388s 5s/step - loss: 0.6669 - accuracy: 0.6672 - val_loss: 0.5099 - val_accuracy: 0.7550\n",
            "Epoch 2/10\n",
            "625/625 [==============================] - 145s 232ms/step - loss: 0.4629 - accuracy: 0.7779 - val_loss: 0.4442 - val_accuracy: 0.7908\n",
            "Epoch 3/10\n",
            "625/625 [==============================] - 147s 235ms/step - loss: 0.3702 - accuracy: 0.8349 - val_loss: 0.3777 - val_accuracy: 0.8276\n",
            "Epoch 4/10\n",
            "625/625 [==============================] - 149s 238ms/step - loss: 0.2860 - accuracy: 0.8788 - val_loss: 0.4176 - val_accuracy: 0.8266\n",
            "Epoch 5/10\n",
            "625/625 [==============================] - 148s 237ms/step - loss: 0.2029 - accuracy: 0.9155 - val_loss: 0.4037 - val_accuracy: 0.8408\n",
            "Epoch 6/10\n",
            "625/625 [==============================] - 148s 236ms/step - loss: 0.1258 - accuracy: 0.9503 - val_loss: 0.5136 - val_accuracy: 0.8312\n",
            "Epoch 7/10\n",
            "625/625 [==============================] - 146s 234ms/step - loss: 0.0826 - accuracy: 0.9701 - val_loss: 0.5687 - val_accuracy: 0.8376\n",
            "Epoch 8/10\n",
            "625/625 [==============================] - 145s 232ms/step - loss: 0.0497 - accuracy: 0.9827 - val_loss: 0.7595 - val_accuracy: 0.8288\n",
            "Epoch 9/10\n",
            "625/625 [==============================] - 143s 229ms/step - loss: 0.0575 - accuracy: 0.9801 - val_loss: 0.6194 - val_accuracy: 0.8208\n",
            "Epoch 10/10\n",
            "625/625 [==============================] - 146s 234ms/step - loss: 0.0381 - accuracy: 0.9879 - val_loss: 0.7916 - val_accuracy: 0.8378\n"
          ]
        }
      ]
    },
    {
      "cell_type": "markdown",
      "source": [
        "#Đánh giá model"
      ],
      "metadata": {
        "id": "scLdDFqHHaBY"
      }
    },
    {
      "cell_type": "code",
      "source": [
        "def get_training_metrics(history):\n",
        "    history = history.history\n",
        "    acc_train = history['accuracy']\n",
        "    acc_test = history['val_accuracy']\n",
        "\n",
        "    loss_train = history['loss']\n",
        "    loss_test = history['val_loss']\n",
        "\n",
        "    return acc_train, acc_test, loss_train, loss_test"
      ],
      "metadata": {
        "id": "zgivPwGaIP8n"
      },
      "execution_count": null,
      "outputs": []
    },
    {
      "cell_type": "code",
      "source": [
        "def plot_train_val(history):\n",
        "    acc_train, acc_test, loss_train, loss_test = get_training_metrics(history)\n",
        "    acc_plot = pd.DataFrame({'training accuracy': acc_train, 'evaluation accuracy': acc_test})\n",
        "    acc_plot = sns.lineplot(data=acc_plot)\n",
        "    acc_plot.set_title('Training vs evaluation accuracy')\n",
        "    acc_plot.set_xlabel('Epoch')\n",
        "    acc_plot.set_ylabel('Accuracy')\n",
        "    plt.show()\n",
        "\n",
        "    print(\"\")\n",
        "\n",
        "    loss_plot = pd.DataFrame({'training loss': loss_train, 'evaluation loss': loss_test})\n",
        "    loss_plot = sns.lineplot(data=loss_plot)\n",
        "    loss_plot.set_title('Training vs evaluation loss')\n",
        "    loss_plot.set_xlabel('Epoch')\n",
        "    loss_plot.set_ylabel('Loss')\n",
        "    plt.show()"
      ],
      "metadata": {
        "id": "u80UA7vvHIUj"
      },
      "execution_count": null,
      "outputs": []
    },
    {
      "cell_type": "code",
      "source": [
        "plot_train_val(history)"
      ],
      "metadata": {
        "colab": {
          "base_uri": "https://localhost:8080/",
          "height": 590
        },
        "id": "K7UdSGjzJ_FA",
        "outputId": "ca69b7e0-e6f4-422f-b1cc-98f3a8cc880e"
      },
      "execution_count": null,
      "outputs": [
        {
          "output_type": "display_data",
          "data": {
            "image/png": "[encoded data removed]",
            "text/plain": [
              "<Figure size 432x288 with 1 Axes>"
            ]
          },
          "metadata": {
            "needs_background": "light"
          }
        },
        {
          "output_type": "stream",
          "name": "stdout",
          "text": [
            "\n"
          ]
        },
        {
          "output_type": "display_data",
          "data": {
            "image/png": "[encoded data removed]",
            "text/plain": [
              "<Figure size 432x288 with 1 Axes>"
            ]
          },
          "metadata": {
            "needs_background": "light"
          }
        }
      ]
    },
    {
      "cell_type": "markdown",
      "source": [
        "#Grid search"
      ],
      "metadata": {
        "id": "NKkXdhWgKYOk"
      }
    },
    {
      "cell_type": "code",
      "source": [
        "def create_model(trial):\n",
        "    learning_rate = trial.suggest_float('lr', 1e-4, 1e-1, log=True)\n",
        "    n_convolution_layers = trial.suggest_int('n_convolution_layers', 2, 6)\n",
        "    n_dense_layers = trial.suggest_int('n_dense_layers', 1, 4)\n",
        "    model = tf.keras.models.Sequential()\n",
        "\n",
        "    model.add(Input(shape=(224, 224, 3)))\n",
        "    for i in range(n_convolution_layers):\n",
        "        filters = trial.suggest_int('n_filters_l{}'.format(i), 32, 128)\n",
        "        model.add(Conv2D(filters,\n",
        "                             kernel_size=3,\n",
        "                             padding='same',\n",
        "                             activation='relu',\n",
        "                             kernel_initializer='he_uniform'))\n",
        "        model.add(MaxPooling2D())\n",
        "\n",
        "    model.add(Flatten())\n",
        "    for i in range(n_dense_layers):\n",
        "        units = trial.suggest_int('n_units_l{}'.format(i), 4, 128)\n",
        "        model.add(Dense(units, activation='relu', kernel_initializer='he_uniform'))\n",
        "\n",
        "    model.add(Dense(1, activation='sigmoid'))\n",
        "\n",
        "    model.compile(\n",
        "        optimizer=tf.keras.optimizers.Adam(learning_rate),\n",
        "        loss='binary_crossentropy',\n",
        "        metrics=['accuracy']\n",
        "    )\n",
        "\n",
        "    return model"
      ],
      "metadata": {
        "id": "_5-lc8l5USuf"
      },
      "execution_count": null,
      "outputs": []
    },
    {
      "cell_type": "code",
      "source": [
        "def objective(trial):\n",
        "    tf.keras.backend.clear_session()\n",
        "\n",
        "    if tf.__version__ >= \"2\":\n",
        "        monitor = \"val_accuracy\"\n",
        "    else:\n",
        "        monitor = \"val_acc\"\n",
        "\n",
        "\n",
        "    model = create_model(trial)\n",
        "    callbacks = [\n",
        "                 tf.keras.callbacks.EarlyStopping(patience=3),\n",
        "                 TFKerasPruningCallback(trial, monitor)\n",
        "    ]\n",
        "\n",
        "    history = model.fit(\n",
        "        train_generator,\n",
        "        epochs=10,\n",
        "        # steps_per_epoch=100,\n",
        "        validation_data=test_generator,\n",
        "        callbacks=callbacks\n",
        "    )\n",
        "\n",
        "    return history.history[monitor][-1]"
      ],
      "metadata": {
        "id": "EGSo2l4_g3QI"
      },
      "execution_count": null,
      "outputs": []
    },
    {
      "cell_type": "code",
      "source": [
        "def show_result(study):\n",
        "    pruned_trials = study.get_trials(deepcopy=False, states=[TrialState.PRUNED])\n",
        "    complete_trials = study.get_trials(deepcopy=False, states=[TrialState.COMPLETE])\n",
        "\n",
        "    print('Study statistics: ')\n",
        "    print('  Number of finished trials: ', len(study.trials))\n",
        "    print('  Number of pruned trials: ', len(pruned_trials))\n",
        "    print('  Number of completed trials: ', len(complete_trials))\n",
        "\n",
        "    print('Best trial: ')\n",
        "    trial = study.best_trial\n",
        "\n",
        "    print('Value', trial.value)\n",
        "    \n",
        "    print('Params: ')\n",
        "    for key, value in trial.params.items():\n",
        "        print(f\" {key}: {value}\")"
      ],
      "metadata": {
        "id": "xi4x386FjTBS"
      },
      "execution_count": null,
      "outputs": []
    },
    {
      "cell_type": "code",
      "source": [
        "study = optuna.create_study(direction='maximize')\n",
        "study.optimize(objective, n_trials=25, timeout=600)"
      ],
      "metadata": {
        "colab": {
          "base_uri": "https://localhost:8080/"
        },
        "id": "kcVpu4bzk5tq",
        "outputId": "cd95c74d-8cc4-4f5d-c562-681763bb11df"
      },
      "execution_count": null,
      "outputs": [
        {
          "output_type": "stream",
          "name": "stderr",
          "text": [
            "\u001b[32m[I 2022-02-23 08:38:02,935]\u001b[0m A new study created in memory with name: no-name-58552e69-73d1-47a3-a716-19849fb1e627\u001b[0m\n"
          ]
        },
        {
          "output_type": "stream",
          "name": "stdout",
          "text": [
            "Epoch 1/10\n",
            "  6/625 [..............................] - ETA: 2:44 - loss: 9.9771 - accuracy: 0.4635 WARNING:tensorflow:Callback method `on_train_batch_end` is slow compared to the batch time (batch time: 0.0977s vs `on_train_batch_end` time: 0.1391s). Check your callbacks.\n"
          ]
        },
        {
          "output_type": "stream",
          "name": "stderr",
          "text": [
            "WARNING:tensorflow:Callback method `on_train_batch_end` is slow compared to the batch time (batch time: 0.0977s vs `on_train_batch_end` time: 0.1391s). Check your callbacks.\n"
          ]
        },
        {
          "output_type": "stream",
          "name": "stdout",
          "text": [
            "625/625 [==============================] - 198s 312ms/step - loss: 0.7766 - accuracy: 0.5749 - val_loss: 0.6387 - val_accuracy: 0.6428\n",
            "Epoch 2/10\n",
            "625/625 [==============================] - 194s 310ms/step - loss: 0.6030 - accuracy: 0.6783 - val_loss: 0.5942 - val_accuracy: 0.6852\n",
            "Epoch 3/10\n",
            "625/625 [==============================] - 194s 310ms/step - loss: 0.4868 - accuracy: 0.7650 - val_loss: 0.6287 - val_accuracy: 0.6812\n",
            "Epoch 4/10\n",
            "625/625 [==============================] - 194s 311ms/step - loss: 0.2545 - accuracy: 0.8959 - val_loss: 0.9439 - val_accuracy: 0.6640\n",
            "Epoch 5/10\n",
            "625/625 [==============================] - 194s 311ms/step - loss: 0.0751 - accuracy: 0.9753 - val_loss: 1.5133 - val_accuracy: 0.6708\n"
          ]
        },
        {
          "output_type": "stream",
          "name": "stderr",
          "text": [
            "\u001b[32m[I 2022-02-23 08:54:18,220]\u001b[0m Trial 0 finished with value: 0.670799970626831 and parameters: {'lr': 0.0009303819347559691, 'n_convolution_layers': 2, 'n_dense_layers': 4, 'n_filters_l0': 83, 'n_filters_l1': 82, 'n_units_l0': 128, 'n_units_l1': 28, 'n_units_l2': 109, 'n_units_l3': 46}. Best is trial 0 with value: 0.670799970626831.\u001b[0m\n"
          ]
        }
      ]
    },
    {
      "cell_type": "code",
      "source": [
        "show_result(study)"
      ],
      "metadata": {
        "colab": {
          "base_uri": "https://localhost:8080/"
        },
        "id": "LpF573ULlHJp",
        "outputId": "6eba1cdb-2556-454a-f448-1833e6fe819a"
      },
      "execution_count": null,
      "outputs": [
        {
          "output_type": "stream",
          "name": "stdout",
          "text": [
            "Study statistics: \n",
            "  Number of finished trials:  1\n",
            "  Number of pruned trials:  0\n",
            "  Number of completed trials:  1\n",
            "Best trial: \n",
            "Value 0.670799970626831\n",
            "Params: \n",
            " lr: 0.0009303819347559691\n",
            " n_convolution_layers: 2\n",
            " n_dense_layers: 4\n",
            " n_filters_l0: 83\n",
            " n_filters_l1: 82\n",
            " n_units_l0: 128\n",
            " n_units_l1: 28\n",
            " n_units_l2: 109\n",
            " n_units_l3: 46\n"
          ]
        }
      ]
    },
    {
      "cell_type": "markdown",
      "source": [
        "#Retrain model"
      ],
      "metadata": {
        "id": "FxDbeqdMzzXu"
      }
    },
    {
      "cell_type": "code",
      "source": [
        "trial = study.best_trial\n",
        "model = create_model(trial)\n",
        "history = model.fit(train_generator, epochs=10, validation_data=test_generator)"
      ],
      "metadata": {
        "colab": {
          "base_uri": "https://localhost:8080/"
        },
        "id": "qTL0UAUpux3i",
        "outputId": "ea715f7f-35d8-4667-f7c0-79452d7d9714"
      },
      "execution_count": null,
      "outputs": [
        {
          "output_type": "stream",
          "name": "stdout",
          "text": [
            "Epoch 1/10\n",
            "625/625 [==============================] - 195s 311ms/step - loss: 0.7117 - accuracy: 0.5868 - val_loss: 0.6092 - val_accuracy: 0.6534\n",
            "Epoch 2/10\n",
            "625/625 [==============================] - 194s 310ms/step - loss: 0.5669 - accuracy: 0.7083 - val_loss: 0.5736 - val_accuracy: 0.7030\n",
            "Epoch 3/10\n",
            "625/625 [==============================] - 194s 310ms/step - loss: 0.4091 - accuracy: 0.8105 - val_loss: 0.5835 - val_accuracy: 0.7234\n",
            "Epoch 4/10\n",
            "625/625 [==============================] - 194s 310ms/step - loss: 0.1792 - accuracy: 0.9313 - val_loss: 0.8099 - val_accuracy: 0.7158\n",
            "Epoch 5/10\n",
            "625/625 [==============================] - 193s 309ms/step - loss: 0.0597 - accuracy: 0.9815 - val_loss: 1.3790 - val_accuracy: 0.7126\n",
            "Epoch 6/10\n",
            "625/625 [==============================] - 193s 309ms/step - loss: 0.0316 - accuracy: 0.9916 - val_loss: 1.5982 - val_accuracy: 0.7136\n",
            "Epoch 7/10\n",
            "625/625 [==============================] - 193s 309ms/step - loss: 0.0147 - accuracy: 0.9961 - val_loss: 1.8207 - val_accuracy: 0.7216\n",
            "Epoch 8/10\n",
            "625/625 [==============================] - 193s 308ms/step - loss: 0.0203 - accuracy: 0.9946 - val_loss: 1.7167 - val_accuracy: 0.7040\n",
            "Epoch 9/10\n",
            "625/625 [==============================] - 194s 310ms/step - loss: 0.0169 - accuracy: 0.9951 - val_loss: 1.9178 - val_accuracy: 0.7116\n",
            "Epoch 10/10\n",
            "625/625 [==============================] - 194s 310ms/step - loss: 0.0142 - accuracy: 0.9965 - val_loss: 1.8463 - val_accuracy: 0.7058\n"
          ]
        }
      ]
    },
    {
      "cell_type": "code",
      "source": [
        "plot_train_val(history)"
      ],
      "metadata": {
        "colab": {
          "base_uri": "https://localhost:8080/",
          "height": 590
        },
        "id": "pGEgoHOC0Dqx",
        "outputId": "dd8ff74e-3637-465c-dffd-13f2b7a19574"
      },
      "execution_count": null,
      "outputs": [
        {
          "output_type": "display_data",
          "data": {
            "image/png": "[encoded data removed]",
            "text/plain": [
              "<Figure size 432x288 with 1 Axes>"
            ]
          },
          "metadata": {
            "needs_background": "light"
          }
        },
        {
          "output_type": "stream",
          "name": "stdout",
          "text": [
            "\n"
          ]
        },
        {
          "output_type": "display_data",
          "data": {
            "image/png": "[encoded data removed]",
            "text/plain": [
              "<Figure size 432x288 with 1 Axes>"
            ]
          },
          "metadata": {
            "needs_background": "light"
          }
        }
      ]
    },
    {
      "cell_type": "markdown",
      "source": [
        "#Transfer learning"
      ],
      "metadata": {
        "id": "sGfPiyZW0BjW"
      }
    },
    {
      "cell_type": "markdown",
      "source": [
        "##ResNet"
      ],
      "metadata": {
        "id": "dJH8NMvB0Ejn"
      }
    },
    {
      "cell_type": "code",
      "source": [
        "model_handle = \"https://tfhub.dev/google/imagenet/resnet_v2_50/feature_vector/5\"\n",
        "do_fine_tuning = False\n",
        "feature_extractor = hub.KerasLayer(\n",
        "    handle=model_handle,\n",
        "    trainable=do_fine_tuning,\n",
        "    input_shape = (224, 224, 3),\n",
        "    output_shape = [2048]\n",
        ")\n",
        "\n",
        "resnet = tf.keras.models.Sequential([\n",
        "    feature_extractor,\n",
        "    Dense(1, activation='sigmoid')\n",
        "])\n",
        "\n",
        "resnet.summary()"
      ],
      "metadata": {
        "colab": {
          "base_uri": "https://localhost:8080/"
        },
        "id": "5LH-a2i_zgOa",
        "outputId": "cf810838-86c6-407d-9fec-1a965865118c"
      },
      "execution_count": null,
      "outputs": [
        {
          "output_type": "stream",
          "name": "stdout",
          "text": [
            "Model: \"sequential\"\n",
            "_________________________________________________________________\n",
            " Layer (type)                Output Shape              Param #   \n",
            "=================================================================\n",
            " keras_layer (KerasLayer)    (None, 2048)              23564800  \n",
            "                                                                 \n",
            " dense (Dense)               (None, 1)                 2049      \n",
            "                                                                 \n",
            "=================================================================\n",
            "Total params: 23,566,849\n",
            "Trainable params: 2,049\n",
            "Non-trainable params: 23,564,800\n",
            "_________________________________________________________________\n"
          ]
        }
      ]
    },
    {
      "cell_type": "code",
      "source": [
        "early_stopping = tf.keras.callbacks.EarlyStopping(patience=3)"
      ],
      "metadata": {
        "id": "U73jB9SAEmm1"
      },
      "execution_count": null,
      "outputs": []
    },
    {
      "cell_type": "code",
      "source": [
        "resnet.compile(optimizer='Adam',\n",
        "              loss='binary_crossentropy',\n",
        "              metrics=['accuracy']) "
      ],
      "metadata": {
        "id": "np_uOlH_EaBy"
      },
      "execution_count": null,
      "outputs": []
    },
    {
      "cell_type": "code",
      "source": [
        "resnet.fit(train_generator, epochs=10, validation_data=test_generator, callbacks=early_stopping)"
      ],
      "metadata": {
        "id": "5ZLkL1SVCVuS",
        "colab": {
          "base_uri": "https://localhost:8080/"
        },
        "outputId": "d6cac6f9-e7e2-4bfb-df2f-699b6ff995cb"
      },
      "execution_count": null,
      "outputs": [
        {
          "output_type": "stream",
          "name": "stdout",
          "text": [
            "Epoch 1/10\n",
            "625/625 [==============================] - 11801s 19s/step - loss: 0.0572 - accuracy: 0.9790 - val_loss: 0.0478 - val_accuracy: 0.9832\n",
            "Epoch 2/10\n",
            "625/625 [==============================] - 113s 180ms/step - loss: 0.0303 - accuracy: 0.9886 - val_loss: 0.0430 - val_accuracy: 0.9854\n",
            "Epoch 3/10\n",
            "625/625 [==============================] - 113s 180ms/step - loss: 0.0239 - accuracy: 0.9917 - val_loss: 0.0437 - val_accuracy: 0.9856\n",
            "Epoch 4/10\n",
            "625/625 [==============================] - 113s 180ms/step - loss: 0.0203 - accuracy: 0.9926 - val_loss: 0.0435 - val_accuracy: 0.9860\n",
            "Epoch 5/10\n",
            "625/625 [==============================] - 113s 180ms/step - loss: 0.0178 - accuracy: 0.9941 - val_loss: 0.0448 - val_accuracy: 0.9864\n"
          ]
        },
        {
          "output_type": "execute_result",
          "data": {
            "text/plain": [
              "<keras.callbacks.History at 0x7f24ca0a7d10>"
            ]
          },
          "metadata": {},
          "execution_count": 9
        }
      ]
    },
    {
      "cell_type": "code",
      "source": [
        "plot_train_val(resnet.history)"
      ],
      "metadata": {
        "colab": {
          "base_uri": "https://localhost:8080/",
          "height": 590
        },
        "id": "UMhRbm_imqUr",
        "outputId": "879ca19e-d346-4a95-a98b-80407bcb981d"
      },
      "execution_count": null,
      "outputs": [
        {
          "output_type": "display_data",
          "data": {
            "image/png": "[encoded data removed]",
            "text/plain": [
              "<Figure size 432x288 with 1 Axes>"
            ]
          },
          "metadata": {
            "needs_background": "light"
          }
        },
        {
          "output_type": "stream",
          "name": "stdout",
          "text": [
            "\n"
          ]
        },
        {
          "output_type": "display_data",
          "data": {
            "image/png": "[encoded data removed]",
            "text/plain": [
              "<Figure size 432x288 with 1 Axes>"
            ]
          },
          "metadata": {
            "needs_background": "light"
          }
        }
      ]
    },
    {
      "cell_type": "code",
      "source": [
        "loss_test, accuracy_test = resnet.evaluate(test_generator)\n",
        "print(f\"Lost test: {loss_test:.4f}\")\n",
        "print(f\"Accuracy test: {accuracy_test:.4f}\")"
      ],
      "metadata": {
        "colab": {
          "base_uri": "https://localhost:8080/"
        },
        "id": "SSTO7QAfnia-",
        "outputId": "034dc3d1-dd01-48ca-b9ee-0c12677303f8"
      },
      "execution_count": null,
      "outputs": [
        {
          "output_type": "stream",
          "name": "stdout",
          "text": [
            "157/157 [==============================] - 27s 174ms/step - loss: 0.0453 - accuracy: 0.9856\n",
            "Lost test: 0.0453\n",
            "Accuracy test: 0.9856\n"
          ]
        }
      ]
    },
    {
      "cell_type": "markdown",
      "source": [
        "**Do kiến trúc mạng ResNet có nhiều lớp nên sẽ tiêu tốn nhiều tài nguyên huấn luyện nhưng bù lại sẽ có độ chính xác tốt hơn nhiều mô hình khác.**"
      ],
      "metadata": {
        "id": "hBeciX7DcEnD"
      }
    },
    {
      "cell_type": "markdown",
      "source": [
        "##MobileNet"
      ],
      "metadata": {
        "id": "WZUn8X8U0GMX"
      }
    },
    {
      "cell_type": "code",
      "source": [
        "model_handle = \"https://tfhub.dev/google/imagenet/mobilenet_v3_large_100_224/feature_vector/5\"\n",
        "do_fine_tuning = False\n",
        "feature_extractor = hub.KerasLayer(\n",
        "    handle = model_handle,\n",
        "    trainable=do_fine_tuning,\n",
        "    input_shape=(224,224,3),\n",
        "    output_shape=[1280])\n",
        "\n",
        "mobilenet = tf.keras.models.Sequential([\n",
        "    feature_extractor,\n",
        "    Dense(1, activation='sigmoid')\n",
        "])\n",
        "\n",
        "mobilenet.build([None, 224, 224, 3])\n",
        "mobilenet.summary()"
      ],
      "metadata": {
        "colab": {
          "base_uri": "https://localhost:8080/"
        },
        "id": "kLSkLGMEF61s",
        "outputId": "9a131ffa-6896-4c0b-81f1-30473c0835d4"
      },
      "execution_count": null,
      "outputs": [
        {
          "output_type": "stream",
          "name": "stdout",
          "text": [
            "Model: \"sequential_1\"\n",
            "_________________________________________________________________\n",
            " Layer (type)                Output Shape              Param #   \n",
            "=================================================================\n",
            " keras_layer_1 (KerasLayer)  (None, 1280)              4226432   \n",
            "                                                                 \n",
            " dense_1 (Dense)             (None, 1)                 1281      \n",
            "                                                                 \n",
            "=================================================================\n",
            "Total params: 4,227,713\n",
            "Trainable params: 1,281\n",
            "Non-trainable params: 4,226,432\n",
            "_________________________________________________________________\n"
          ]
        }
      ]
    },
    {
      "cell_type": "code",
      "source": [
        "early_stopping = tf.keras.callbacks.EarlyStopping(patience=3)\n",
        "model_checkpoint = tf.keras.callbacks.ModelCheckpoint('MobileNet_best.hdf5',\n",
        "                                                      verbose=1,\n",
        "                                                      save_best_only=True,\n",
        "                                                      mode='min')\n",
        "callbacks = [early_stopping, model_checkpoint]"
      ],
      "metadata": {
        "id": "QO345omlIJJ_"
      },
      "execution_count": null,
      "outputs": []
    },
    {
      "cell_type": "code",
      "source": [
        "mobilenet.compile(optimizer=tf.keras.optimizers.Adam(),\n",
        "              loss='binary_crossentropy',\n",
        "              metrics=['accuracy']) "
      ],
      "metadata": {
        "id": "t31u2gsuIl77"
      },
      "execution_count": null,
      "outputs": []
    },
    {
      "cell_type": "code",
      "source": [
        "mobilenet.fit(train_generator, epochs=10, validation_data=test_generator, callbacks=callbacks)"
      ],
      "metadata": {
        "id": "JSA-cCPMIzyK",
        "colab": {
          "base_uri": "https://localhost:8080/"
        },
        "outputId": "5c804c4c-ff64-45b6-a224-82110d7cff72"
      },
      "execution_count": null,
      "outputs": [
        {
          "output_type": "stream",
          "name": "stdout",
          "text": [
            "Epoch 1/10\n",
            "625/625 [==============================] - ETA: 0s - loss: 0.0644 - accuracy: 0.9791\n",
            "Epoch 1: val_loss improved from inf to 0.04192, saving model to MobileNet_best.hdf5\n",
            "625/625 [==============================] - 114s 176ms/step - loss: 0.0644 - accuracy: 0.9791 - val_loss: 0.0419 - val_accuracy: 0.9858\n",
            "Epoch 2/10\n",
            "625/625 [==============================] - ETA: 0s - loss: 0.0286 - accuracy: 0.9900\n",
            "Epoch 2: val_loss improved from 0.04192 to 0.03882, saving model to MobileNet_best.hdf5\n",
            "625/625 [==============================] - 111s 177ms/step - loss: 0.0286 - accuracy: 0.9900 - val_loss: 0.0388 - val_accuracy: 0.9862\n",
            "Epoch 3/10\n",
            "625/625 [==============================] - ETA: 0s - loss: 0.0231 - accuracy: 0.9923\n",
            "Epoch 3: val_loss improved from 0.03882 to 0.03792, saving model to MobileNet_best.hdf5\n",
            "625/625 [==============================] - 110s 176ms/step - loss: 0.0231 - accuracy: 0.9923 - val_loss: 0.0379 - val_accuracy: 0.9872\n",
            "Epoch 4/10\n",
            "625/625 [==============================] - ETA: 0s - loss: 0.0198 - accuracy: 0.9934\n",
            "Epoch 4: val_loss did not improve from 0.03792\n",
            "625/625 [==============================] - 109s 174ms/step - loss: 0.0198 - accuracy: 0.9934 - val_loss: 0.0384 - val_accuracy: 0.9860\n",
            "Epoch 5/10\n",
            "625/625 [==============================] - ETA: 0s - loss: 0.0171 - accuracy: 0.9946\n",
            "Epoch 5: val_loss did not improve from 0.03792\n",
            "625/625 [==============================] - 108s 174ms/step - loss: 0.0171 - accuracy: 0.9946 - val_loss: 0.0404 - val_accuracy: 0.9868\n",
            "Epoch 6/10\n",
            "625/625 [==============================] - ETA: 0s - loss: 0.0150 - accuracy: 0.9952\n",
            "Epoch 6: val_loss did not improve from 0.03792\n",
            "625/625 [==============================] - 109s 174ms/step - loss: 0.0150 - accuracy: 0.9952 - val_loss: 0.0402 - val_accuracy: 0.9864\n"
          ]
        },
        {
          "output_type": "execute_result",
          "data": {
            "text/plain": [
              "<keras.callbacks.History at 0x7f2241f6c990>"
            ]
          },
          "metadata": {},
          "execution_count": 59
        }
      ]
    },
    {
      "cell_type": "code",
      "source": [
        "plot_train_val(mobilenet.history)"
      ],
      "metadata": {
        "colab": {
          "base_uri": "https://localhost:8080/",
          "height": 590
        },
        "id": "ljjnlGSCoPA2",
        "outputId": "c9b486bc-3471-48a7-a914-0a9ca083ca63"
      },
      "execution_count": null,
      "outputs": [
        {
          "output_type": "display_data",
          "data": {
            "image/png": "[encoded data removed]",
            "text/plain": [
              "<Figure size 432x288 with 1 Axes>"
            ]
          },
          "metadata": {
            "needs_background": "light"
          }
        },
        {
          "output_type": "stream",
          "name": "stdout",
          "text": [
            "\n"
          ]
        },
        {
          "output_type": "display_data",
          "data": {
            "image/png": "[encoded data removed]",
            "text/plain": [
              "<Figure size 432x288 with 1 Axes>"
            ]
          },
          "metadata": {
            "needs_background": "light"
          }
        }
      ]
    },
    {
      "cell_type": "code",
      "source": [
        "loss_test, accuracy_test = mobilenet.evaluate(test_generator)\n",
        "print(f\"Lost test: {loss_test:.4f}\")\n",
        "print(f\"Accuracy test: {accuracy_test:.4f}\")"
      ],
      "metadata": {
        "colab": {
          "base_uri": "https://localhost:8080/"
        },
        "id": "ofrCYreatF7U",
        "outputId": "bc50b6f7-9edc-4812-f34d-a39bdc31e75e"
      },
      "execution_count": null,
      "outputs": [
        {
          "output_type": "stream",
          "name": "stdout",
          "text": [
            "157/157 [==============================] - 23s 146ms/step - loss: 0.0402 - accuracy: 0.9864\n",
            "Lost test: 0.0402\n",
            "Accuracy test: 0.9864\n"
          ]
        }
      ]
    },
    {
      "cell_type": "markdown",
      "source": [
        "**Do kiến trúc mạng MobileNet ít lớp hơn nên sẽ ít tốn tài nguyên hơn cho nên việc huấn luyện sẽ nhanh hơn nhưng bù lại độ chính xác sẽ không bằng RestNet**"
      ],
      "metadata": {
        "id": "ZudbJUKtcZQy"
      }
    },
    {
      "cell_type": "markdown",
      "source": [
        "#Kĩ thuật Augmentation "
      ],
      "metadata": {
        "id": "uHQqqg1LtK6H"
      }
    },
    {
      "cell_type": "code",
      "source": [
        "train_datagen = ImageDataGenerator(rescale=1./255,\n",
        "                                   horizontal_flip=True,\n",
        "                                   vertical_flip=True,\n",
        "                                   rotation_range=60,\n",
        "                                   width_shift_range=0.3,\n",
        "                                   height_shift_range=0.3,\n",
        "                                   zoom_range=0.5)\n",
        "\n",
        "test_datagen = ImageDataGenerator(rescale=1./255)\n",
        "\n",
        "# Tạo train generator\n",
        "train_generator = train_datagen.flow_from_directory(\n",
        "    directory='train/train/',\n",
        "    target_size=(224, 224),\n",
        "    class_mode='binary',\n",
        "    batch_size=32)\n",
        "\n",
        "#Tạo val generator\n",
        "test_generator = test_datagen.flow_from_directory(\n",
        "    directory='train/val/',\n",
        "    target_size=(224, 224),\n",
        "    class_mode='binary',\n",
        "    batch_size=32,\n",
        "    shuffle=False)"
      ],
      "metadata": {
        "colab": {
          "base_uri": "https://localhost:8080/"
        },
        "id": "eozhcnjftVDT",
        "outputId": "fbc98689-5966-4308-9528-01ad1e698d36"
      },
      "execution_count": null,
      "outputs": [
        {
          "output_type": "stream",
          "name": "stdout",
          "text": [
            "Found 20000 images belonging to 2 classes.\n",
            "Found 5000 images belonging to 2 classes.\n"
          ]
        }
      ]
    },
    {
      "cell_type": "markdown",
      "source": [
        "##Retrain lại mô hình ResNet với data augmentation"
      ],
      "metadata": {
        "id": "yF3kWEkdvgth"
      }
    },
    {
      "cell_type": "code",
      "source": [
        "model_handle = \"https://tfhub.dev/google/imagenet/resnet_v2_50/feature_vector/5\"\n",
        "do_fine_tuning = False\n",
        "feature_extractor = hub.KerasLayer(\n",
        "    handle=model_handle,\n",
        "    trainable=do_fine_tuning,\n",
        "    input_shape = (224, 224, 3),\n",
        "    output_shape = [2048]\n",
        ")\n",
        "\n",
        "resnet = tf.keras.models.Sequential([\n",
        "    feature_extractor,\n",
        "    Dense(2, activation='softmax')\n",
        "])\n",
        "\n",
        "resnet.summary()"
      ],
      "metadata": {
        "colab": {
          "base_uri": "https://localhost:8080/"
        },
        "id": "hUKgWn17vo_m",
        "outputId": "f7030c50-79ed-4436-f2e4-fb56e12185a0"
      },
      "execution_count": null,
      "outputs": [
        {
          "output_type": "stream",
          "name": "stdout",
          "text": [
            "Model: \"sequential_2\"\n",
            "_________________________________________________________________\n",
            " Layer (type)                Output Shape              Param #   \n",
            "=================================================================\n",
            " keras_layer_2 (KerasLayer)  (None, 2048)              23564800  \n",
            "                                                                 \n",
            " dense_2 (Dense)             (None, 2)                 4098      \n",
            "                                                                 \n",
            "=================================================================\n",
            "Total params: 23,568,898\n",
            "Trainable params: 4,098\n",
            "Non-trainable params: 23,564,800\n",
            "_________________________________________________________________\n"
          ]
        }
      ]
    },
    {
      "cell_type": "code",
      "source": [
        "early_stopping = tf.keras.callbacks.EarlyStopping(patience=3)\n",
        "model_checkpoint = tf.keras.callbacks.ModelCheckpoint('RestNet_best.hdf5',\n",
        "                                                      verbose=1,\n",
        "                                                      save_best_only=True,\n",
        "                                                      mode='min')\n",
        "callbacks = [early_stopping, model_checkpoint]"
      ],
      "metadata": {
        "id": "v8SfNHi9vWw9"
      },
      "execution_count": null,
      "outputs": []
    },
    {
      "cell_type": "code",
      "source": [
        "resnet.compile(optimizer='Adam',\n",
        "              loss=tf.keras.losses.SparseCategoricalCrossentropy(),\n",
        "              metrics=['accuracy']) "
      ],
      "metadata": {
        "id": "agPngJIBwKS7"
      },
      "execution_count": null,
      "outputs": []
    },
    {
      "cell_type": "code",
      "source": [
        "history = resnet.fit(train_generator, epochs=10, validation_data=test_generator, callbacks=callbacks)"
      ],
      "metadata": {
        "colab": {
          "base_uri": "https://localhost:8080/"
        },
        "id": "wpG7q8z2v9rQ",
        "outputId": "36e9bc23-c3f3-4c28-f4ef-355d4b464fe1"
      },
      "execution_count": null,
      "outputs": [
        {
          "output_type": "stream",
          "name": "stdout",
          "text": [
            "Epoch 1/10\n",
            "625/625 [==============================] - ETA: 0s - loss: 0.2501 - accuracy: 0.8949\n",
            "Epoch 1: val_loss improved from inf to 0.06704, saving model to RestNet_best.hdf5\n",
            "625/625 [==============================] - 319s 505ms/step - loss: 0.2501 - accuracy: 0.8949 - val_loss: 0.0670 - val_accuracy: 0.9774\n",
            "Epoch 2/10\n",
            "625/625 [==============================] - ETA: 0s - loss: 0.2141 - accuracy: 0.9129\n",
            "Epoch 2: val_loss improved from 0.06704 to 0.06412, saving model to RestNet_best.hdf5\n",
            "625/625 [==============================] - 315s 504ms/step - loss: 0.2141 - accuracy: 0.9129 - val_loss: 0.0641 - val_accuracy: 0.9804\n",
            "Epoch 3/10\n",
            "625/625 [==============================] - ETA: 0s - loss: 0.1995 - accuracy: 0.9201\n",
            "Epoch 3: val_loss did not improve from 0.06412\n",
            "625/625 [==============================] - 316s 506ms/step - loss: 0.1995 - accuracy: 0.9201 - val_loss: 0.0646 - val_accuracy: 0.9784\n",
            "Epoch 4/10\n",
            "625/625 [==============================] - ETA: 0s - loss: 0.2036 - accuracy: 0.9187\n",
            "Epoch 4: val_loss improved from 0.06412 to 0.06329, saving model to RestNet_best.hdf5\n",
            "625/625 [==============================] - 313s 501ms/step - loss: 0.2036 - accuracy: 0.9187 - val_loss: 0.0633 - val_accuracy: 0.9790\n",
            "Epoch 5/10\n",
            "625/625 [==============================] - ETA: 0s - loss: 0.2019 - accuracy: 0.9168\n",
            "Epoch 5: val_loss did not improve from 0.06329\n",
            "625/625 [==============================] - 313s 500ms/step - loss: 0.2019 - accuracy: 0.9168 - val_loss: 0.0924 - val_accuracy: 0.9722\n",
            "Epoch 6/10\n",
            "625/625 [==============================] - ETA: 0s - loss: 0.1996 - accuracy: 0.9217\n",
            "Epoch 6: val_loss improved from 0.06329 to 0.05848, saving model to RestNet_best.hdf5\n",
            "625/625 [==============================] - 314s 503ms/step - loss: 0.1996 - accuracy: 0.9217 - val_loss: 0.0585 - val_accuracy: 0.9802\n",
            "Epoch 7/10\n",
            "625/625 [==============================] - ETA: 0s - loss: 0.1932 - accuracy: 0.9197\n",
            "Epoch 7: val_loss did not improve from 0.05848\n",
            "625/625 [==============================] - 310s 496ms/step - loss: 0.1932 - accuracy: 0.9197 - val_loss: 0.0591 - val_accuracy: 0.9792\n",
            "Epoch 8/10\n",
            "625/625 [==============================] - ETA: 0s - loss: 0.1963 - accuracy: 0.9223\n",
            "Epoch 8: val_loss improved from 0.05848 to 0.05569, saving model to RestNet_best.hdf5\n",
            "625/625 [==============================] - 315s 503ms/step - loss: 0.1963 - accuracy: 0.9223 - val_loss: 0.0557 - val_accuracy: 0.9798\n",
            "Epoch 9/10\n",
            "625/625 [==============================] - ETA: 0s - loss: 0.2009 - accuracy: 0.9198\n",
            "Epoch 9: val_loss did not improve from 0.05569\n",
            "625/625 [==============================] - 311s 498ms/step - loss: 0.2009 - accuracy: 0.9198 - val_loss: 0.0687 - val_accuracy: 0.9774\n",
            "Epoch 10/10\n",
            "625/625 [==============================] - ETA: 0s - loss: 0.1932 - accuracy: 0.9234\n",
            "Epoch 10: val_loss did not improve from 0.05569\n",
            "625/625 [==============================] - 309s 494ms/step - loss: 0.1932 - accuracy: 0.9234 - val_loss: 0.0589 - val_accuracy: 0.9800\n"
          ]
        }
      ]
    },
    {
      "cell_type": "code",
      "source": [
        "plot_train_val(resnet.history)"
      ],
      "metadata": {
        "colab": {
          "base_uri": "https://localhost:8080/",
          "height": 590
        },
        "id": "Bv7xEd9UwmO7",
        "outputId": "05a7aaab-45fa-4b00-bd3e-4e844b3a5ac4"
      },
      "execution_count": null,
      "outputs": [
        {
          "output_type": "display_data",
          "data": {
            "image/png": "[encoded data removed]",
            "text/plain": [
              "<Figure size 432x288 with 1 Axes>"
            ]
          },
          "metadata": {
            "needs_background": "light"
          }
        },
        {
          "output_type": "stream",
          "name": "stdout",
          "text": [
            "\n"
          ]
        },
        {
          "output_type": "display_data",
          "data": {
            "image/png": "[encoded data removed]",
            "text/plain": [
              "<Figure size 432x288 with 1 Axes>"
            ]
          },
          "metadata": {
            "needs_background": "light"
          }
        }
      ]
    },
    {
      "cell_type": "code",
      "source": [
        "loss_test, accuracy_test = resnet.evaluate(test_generator)\n",
        "print(f\"Lost test: {loss_test:.4f}\")\n",
        "print(f\"Accuracy test: {accuracy_test:.4f}\")"
      ],
      "metadata": {
        "colab": {
          "base_uri": "https://localhost:8080/"
        },
        "id": "R_acXIfMwEGS",
        "outputId": "bdf54500-708a-430d-9e65-0642bcaa5c10"
      },
      "execution_count": null,
      "outputs": [
        {
          "output_type": "stream",
          "name": "stdout",
          "text": [
            "157/157 [==============================] - 23s 146ms/step - loss: 0.0589 - accuracy: 0.9800\n",
            "Lost test: 0.0589\n",
            "Accuracy test: 0.9800\n"
          ]
        }
      ]
    },
    {
      "cell_type": "markdown",
      "source": [
        "##Retrain lại mô hình MobileNet với data augmentation"
      ],
      "metadata": {
        "id": "52hXO76tyCPd"
      }
    },
    {
      "cell_type": "code",
      "source": [
        "model_handle = \"https://tfhub.dev/google/imagenet/mobilenet_v3_large_100_224/feature_vector/5\"\n",
        "do_fine_tuning = False\n",
        "feature_extractor = hub.KerasLayer(\n",
        "    handle = model_handle,\n",
        "    trainable=do_fine_tuning,\n",
        "    input_shape=(224,224,3),\n",
        "    output_shape=[1280])\n",
        "\n",
        "mobilenet = tf.keras.models.Sequential([\n",
        "    feature_extractor,\n",
        "    Dense(2, activation='softmax')\n",
        "])\n",
        "\n",
        "mobilenet.build([None, 224, 224, 3])\n",
        "mobilenet.summary()"
      ],
      "metadata": {
        "colab": {
          "base_uri": "https://localhost:8080/"
        },
        "id": "cBbp8cn4yA16",
        "outputId": "15f0d98b-7d0f-4145-8413-b78bcd433acf"
      },
      "execution_count": null,
      "outputs": [
        {
          "output_type": "stream",
          "name": "stdout",
          "text": [
            "Model: \"sequential\"\n",
            "_________________________________________________________________\n",
            " Layer (type)                Output Shape              Param #   \n",
            "=================================================================\n",
            " keras_layer (KerasLayer)    (None, 1280)              4226432   \n",
            "                                                                 \n",
            " dense (Dense)               (None, 2)                 2562      \n",
            "                                                                 \n",
            "=================================================================\n",
            "Total params: 4,228,994\n",
            "Trainable params: 2,562\n",
            "Non-trainable params: 4,226,432\n",
            "_________________________________________________________________\n"
          ]
        }
      ]
    },
    {
      "cell_type": "code",
      "source": [
        "early_stopping = tf.keras.callbacks.EarlyStopping(patience=3)\n",
        "model_checkpoint = tf.keras.callbacks.ModelCheckpoint('MobileNet2_best.h5',\n",
        "                                                      verbose=1,\n",
        "                                                      save_best_only=True,\n",
        "                                                      mode='min')\n",
        "callbacks = [early_stopping, model_checkpoint]"
      ],
      "metadata": {
        "id": "w4MbJdmFyTUp"
      },
      "execution_count": null,
      "outputs": []
    },
    {
      "cell_type": "code",
      "source": [
        "mobilenet.compile(optimizer=tf.keras.optimizers.Adam(),\n",
        "              loss=tf.keras.losses.SparseCategoricalCrossentropy(),\n",
        "              metrics=['accuracy']) "
      ],
      "metadata": {
        "id": "bnge7twCyY2w"
      },
      "execution_count": null,
      "outputs": []
    },
    {
      "cell_type": "code",
      "source": [
        "history = mobilenet.fit(train_generator, epochs=10, validation_data=test_generator, callbacks=callbacks)"
      ],
      "metadata": {
        "colab": {
          "base_uri": "https://localhost:8080/"
        },
        "id": "1EztFV6Kyneh",
        "outputId": "10507ff0-7965-43e3-889f-c31d1faa2b45"
      },
      "execution_count": null,
      "outputs": [
        {
          "output_type": "stream",
          "name": "stdout",
          "text": [
            "Epoch 1/10\n",
            "625/625 [==============================] - ETA: 0s - loss: 0.1953 - accuracy: 0.9177\n",
            "Epoch 1: val_loss improved from inf to 0.05713, saving model to MobileNet2_best.h5\n",
            "625/625 [==============================] - 5214s 8s/step - loss: 0.1953 - accuracy: 0.9177 - val_loss: 0.0571 - val_accuracy: 0.9822\n",
            "Epoch 2/10\n",
            "625/625 [==============================] - ETA: 0s - loss: 0.1539 - accuracy: 0.9396\n",
            "Epoch 2: val_loss improved from 0.05713 to 0.05592, saving model to MobileNet2_best.h5\n",
            "625/625 [==============================] - 294s 471ms/step - loss: 0.1539 - accuracy: 0.9396 - val_loss: 0.0559 - val_accuracy: 0.9798\n",
            "Epoch 3/10\n",
            "625/625 [==============================] - ETA: 0s - loss: 0.1465 - accuracy: 0.9408\n",
            "Epoch 3: val_loss improved from 0.05592 to 0.05424, saving model to MobileNet2_best.h5\n",
            "625/625 [==============================] - 293s 469ms/step - loss: 0.1465 - accuracy: 0.9408 - val_loss: 0.0542 - val_accuracy: 0.9804\n",
            "Epoch 4/10\n",
            "625/625 [==============================] - ETA: 0s - loss: 0.1459 - accuracy: 0.9419\n",
            "Epoch 4: val_loss did not improve from 0.05424\n",
            "625/625 [==============================] - 291s 466ms/step - loss: 0.1459 - accuracy: 0.9419 - val_loss: 0.0553 - val_accuracy: 0.9810\n",
            "Epoch 5/10\n",
            "625/625 [==============================] - ETA: 0s - loss: 0.1446 - accuracy: 0.9427\n",
            "Epoch 5: val_loss improved from 0.05424 to 0.05423, saving model to MobileNet2_best.h5\n",
            "625/625 [==============================] - 294s 471ms/step - loss: 0.1446 - accuracy: 0.9427 - val_loss: 0.0542 - val_accuracy: 0.9826\n",
            "Epoch 6/10\n",
            "625/625 [==============================] - ETA: 0s - loss: 0.1454 - accuracy: 0.9442\n",
            "Epoch 6: val_loss improved from 0.05423 to 0.04983, saving model to MobileNet2_best.h5\n",
            "625/625 [==============================] - 292s 468ms/step - loss: 0.1454 - accuracy: 0.9442 - val_loss: 0.0498 - val_accuracy: 0.9840\n",
            "Epoch 7/10\n",
            "625/625 [==============================] - ETA: 0s - loss: 0.1415 - accuracy: 0.9438\n",
            "Epoch 7: val_loss did not improve from 0.04983\n",
            "625/625 [==============================] - 293s 469ms/step - loss: 0.1415 - accuracy: 0.9438 - val_loss: 0.0525 - val_accuracy: 0.9830\n",
            "Epoch 8/10\n",
            "625/625 [==============================] - ETA: 0s - loss: 0.1456 - accuracy: 0.9426\n",
            "Epoch 8: val_loss improved from 0.04983 to 0.04521, saving model to MobileNet2_best.h5\n",
            "625/625 [==============================] - 295s 472ms/step - loss: 0.1456 - accuracy: 0.9426 - val_loss: 0.0452 - val_accuracy: 0.9850\n",
            "Epoch 9/10\n",
            "625/625 [==============================] - ETA: 0s - loss: 0.1445 - accuracy: 0.9452\n",
            "Epoch 9: val_loss did not improve from 0.04521\n",
            "625/625 [==============================] - 292s 467ms/step - loss: 0.1445 - accuracy: 0.9452 - val_loss: 0.0593 - val_accuracy: 0.9778\n",
            "Epoch 10/10\n",
            "625/625 [==============================] - ETA: 0s - loss: 0.1445 - accuracy: 0.9427\n",
            "Epoch 10: val_loss did not improve from 0.04521\n",
            "625/625 [==============================] - 295s 471ms/step - loss: 0.1445 - accuracy: 0.9427 - val_loss: 0.0520 - val_accuracy: 0.9818\n"
          ]
        }
      ]
    },
    {
      "cell_type": "code",
      "source": [
        "# model = tf.keras.models.load_model('RestNet_best.hdf5')\n",
        "plot_train_val(mobilenet.history)"
      ],
      "metadata": {
        "colab": {
          "base_uri": "https://localhost:8080/",
          "height": 590
        },
        "id": "m6msZ2tBywzZ",
        "outputId": "ec129309-6ff8-4af8-8c72-5c82d12f7240"
      },
      "execution_count": null,
      "outputs": [
        {
          "output_type": "display_data",
          "data": {
            "image/png": "[encoded data removed]",
            "text/plain": [
              "<Figure size 432x288 with 1 Axes>"
            ]
          },
          "metadata": {
            "needs_background": "light"
          }
        },
        {
          "output_type": "stream",
          "name": "stdout",
          "text": [
            "\n"
          ]
        },
        {
          "output_type": "display_data",
          "data": {
            "image/png": "[encoded data removed]",
            "text/plain": [
              "<Figure size 432x288 with 1 Axes>"
            ]
          },
          "metadata": {
            "needs_background": "light"
          }
        }
      ]
    },
    {
      "cell_type": "code",
      "source": [
        "loss_test, accuracy_test = mobilenet.evaluate(test_generator)\n",
        "print(f\"Lost test: {loss_test:.4f}\")\n",
        "print(f\"Accuracy test: {accuracy_test:.4f}\")"
      ],
      "metadata": {
        "id": "oM2LbhuYy26x",
        "colab": {
          "base_uri": "https://localhost:8080/"
        },
        "outputId": "e52d3d08-7d0b-462a-c8b4-ea26ff2db1e8"
      },
      "execution_count": null,
      "outputs": [
        {
          "output_type": "stream",
          "name": "stdout",
          "text": [
            "157/157 [==============================] - 22s 137ms/step - loss: 0.0520 - accuracy: 0.9818\n",
            "Lost test: 0.0520\n",
            "Accuracy test: 0.9818\n"
          ]
        }
      ]
    },
    {
      "cell_type": "markdown",
      "source": [
        "#Submit kết quả kaggle"
      ],
      "metadata": {
        "id": "HEiPtTEheHRJ"
      }
    },
    {
      "cell_type": "code",
      "source": [
        "test_images = [f for f in glob.glob('test/test' + \"/*.jpg\")]\n",
        "submission = pd.DataFrame({'id' : [os.path.basename(f) for f in test_images],'image_path': [f for f in test_images]})"
      ],
      "metadata": {
        "id": "P9Ha-lxokd8b"
      },
      "execution_count": null,
      "outputs": []
    },
    {
      "cell_type": "code",
      "source": [
        "test_submission_datagen = ImageDataGenerator(rescale=1./255)\n",
        "test_submission_generator = test_submission_datagen.flow_from_dataframe(\n",
        "    submission,\n",
        "    x_col='image_path',\n",
        "    y_col=None,\n",
        "    class_mode=None,\n",
        "    target_size=(224, 224),\n",
        "    batch_size=32,\n",
        "    shuffle=False)"
      ],
      "metadata": {
        "colab": {
          "base_uri": "https://localhost:8080/"
        },
        "id": "erHTRYt_eJ22",
        "outputId": "b543a2eb-ad23-4e06-bc58-c1707ab9c31a"
      },
      "execution_count": null,
      "outputs": [
        {
          "output_type": "stream",
          "name": "stdout",
          "text": [
            "Found 8000 validated image filenames.\n"
          ]
        }
      ]
    },
    {
      "cell_type": "code",
      "source": [
        "preds = mobilenet.predict(test_submission_generator)\n",
        "# labels = (preds > 0.5).astype(int).reshape(-1)\n",
        "# submission['labels'] = labels\n",
        "# submission.drop('image_path', axis=1, inplace=True)\n",
        "# submission.to_csv('submission3.csv', index=False)"
      ],
      "metadata": {
        "id": "jg1PxXRZjLi3"
      },
      "execution_count": null,
      "outputs": []
    },
    {
      "cell_type": "code",
      "source": [
        "labels = np.argmax(preds, axis=1)\n",
        "submission['labels'] = labels\n",
        "submission.drop('image_path', axis=1, inplace=True)\n",
        "submission.to_csv('submission4.csv', index=False)"
      ],
      "metadata": {
        "id": "xlzh6XIJHr9t"
      },
      "execution_count": null,
      "outputs": []
    },
    {
      "cell_type": "markdown",
      "source": [
        "#Bảng kết quả"
      ],
      "metadata": {
        "id": "ShO6CWcOkKR4"
      }
    },
    {
      "cell_type": "code",
      "source": [
        "result_kaggle = pd.DataFrame({'Version': ['ResNet', 'MobileNet', 'ResNet with augmentation technique', 'MobileNet with augmentation technique'], \n",
        "                              'Score on kaggle': ['0.99750', '0.99750', '0.98291', '0.98750']})\n",
        "result_kaggle"
      ],
      "metadata": {
        "colab": {
          "base_uri": "https://localhost:8080/",
          "height": 175
        },
        "id": "8Vhz3P-GjqSf",
        "outputId": "12191548-684c-461d-9600-cd5b7e68cf7a"
      },
      "execution_count": null,
      "outputs": [
        {
          "output_type": "execute_result",
          "data": {
            "text/html": [
              "\n",
              "  <div id=\"df-d4a3e7ba-1854-40e2-8fdc-7b9130ed01fd\">\n",
              "    <div class=\"colab-df-container\">\n",
              "      <div>\n",
              "<style scoped>\n",
              "    .dataframe tbody tr th:only-of-type {\n",
              "        vertical-align: middle;\n",
              "    }\n",
              "\n",
              "    .dataframe tbody tr th {\n",
              "        vertical-align: top;\n",
              "    }\n",
              "\n",
              "    .dataframe thead th {\n",
              "        text-align: right;\n",
              "    }\n",
              "</style>\n",
              "<table border=\"1\" class=\"dataframe\">\n",
              "  <thead>\n",
              "    <tr style=\"text-align: right;\">\n",
              "      <th></th>\n",
              "      <th>Version</th>\n",
              "      <th>Score on kaggle</th>\n",
              "    </tr>\n",
              "  </thead>\n",
              "  <tbody>\n",
              "    <tr>\n",
              "      <th>0</th>\n",
              "      <td>ResNet</td>\n",
              "      <td>0.99750</td>\n",
              "    </tr>\n",
              "    <tr>\n",
              "      <th>1</th>\n",
              "      <td>MobileNet</td>\n",
              "      <td>0.99750</td>\n",
              "    </tr>\n",
              "    <tr>\n",
              "      <th>2</th>\n",
              "      <td>ResNet with augmentation technique</td>\n",
              "      <td>0.98291</td>\n",
              "    </tr>\n",
              "    <tr>\n",
              "      <th>3</th>\n",
              "      <td>MobileNet with augmentation technique</td>\n",
              "      <td>0.98750</td>\n",
              "    </tr>\n",
              "  </tbody>\n",
              "</table>\n",
              "</div>\n",
              "      <button class=\"colab-df-convert\" onclick=\"convertToInteractive('df-d4a3e7ba-1854-40e2-8fdc-7b9130ed01fd')\"\n",
              "              title=\"Convert this dataframe to an interactive table.\"\n",
              "              style=\"display:none;\">\n",
              "        \n",
              "  <svg xmlns=\"http://www.w3.org/2000/svg\" height=\"24px\"viewBox=\"0 0 24 24\"\n",
              "       width=\"24px\">\n",
              "    <path d=\"M0 0h24v24H0V0z\" fill=\"none\"/>\n",
              "    <path d=\"M18.56 5.44l.94 2.06.94-2.06 2.06-.94-2.06-.94-.94-2.06-.94 2.06-2.06.94zm-11 1L8.5 8.5l.94-2.06 2.06-.94-2.06-.94L8.5 2.5l-.94 2.06-2.06.94zm10 10l.94 2.06.94-2.06 2.06-.94-2.06-.94-.94-2.06-.94 2.06-2.06.94z\"/><path d=\"M17.41 7.96l-1.37-1.37c-.4-.4-.92-.59-1.43-.59-.52 0-1.04.2-1.43.59L10.3 9.45l-7.72 7.72c-.78.78-.78 2.05 0 2.83L4 21.41c.39.39.9.59 1.41.59.51 0 1.02-.2 1.41-.59l7.78-7.78 2.81-2.81c.8-.78.8-2.07 0-2.86zM5.41 20L4 18.59l7.72-7.72 1.47 1.35L5.41 20z\"/>\n",
              "  </svg>\n",
              "      </button>\n",
              "      \n",
              "  <style>\n",
              "    .colab-df-container {\n",
              "      display:flex;\n",
              "      flex-wrap:wrap;\n",
              "      gap: 12px;\n",
              "    }\n",
              "\n",
              "    .colab-df-convert {\n",
              "      background-color: #E8F0FE;\n",
              "      border: none;\n",
              "      border-radius: 50%;\n",
              "      cursor: pointer;\n",
              "      display: none;\n",
              "      fill: #1967D2;\n",
              "      height: 32px;\n",
              "      padding: 0 0 0 0;\n",
              "      width: 32px;\n",
              "    }\n",
              "\n",
              "    .colab-df-convert:hover {\n",
              "      background-color: #E2EBFA;\n",
              "      box-shadow: 0px 1px 2px rgba(60, 64, 67, 0.3), 0px 1px 3px 1px rgba(60, 64, 67, 0.15);\n",
              "      fill: #174EA6;\n",
              "    }\n",
              "\n",
              "    [theme=dark] .colab-df-convert {\n",
              "      background-color: #3B4455;\n",
              "      fill: #D2E3FC;\n",
              "    }\n",
              "\n",
              "    [theme=dark] .colab-df-convert:hover {\n",
              "      background-color: #434B5C;\n",
              "      box-shadow: 0px 1px 3px 1px rgba(0, 0, 0, 0.15);\n",
              "      filter: drop-shadow(0px 1px 2px rgba(0, 0, 0, 0.3));\n",
              "      fill: #FFFFFF;\n",
              "    }\n",
              "  </style>\n",
              "\n",
              "      <script>\n",
              "        const buttonEl =\n",
              "          document.querySelector('#df-d4a3e7ba-1854-40e2-8fdc-7b9130ed01fd button.colab-df-convert');\n",
              "        buttonEl.style.display =\n",
              "          google.colab.kernel.accessAllowed ? 'block' : 'none';\n",
              "\n",
              "        async function convertToInteractive(key) {\n",
              "          const element = document.querySelector('#df-d4a3e7ba-1854-40e2-8fdc-7b9130ed01fd');\n",
              "          const dataTable =\n",
              "            await google.colab.kernel.invokeFunction('convertToInteractive',\n",
              "                                                     [key], {});\n",
              "          if (!dataTable) return;\n",
              "\n",
              "          const docLinkHtml = 'Like what you see? Visit the ' +\n",
              "            '<a target=\"_blank\" href=https://colab.research.google.com/notebooks/data_table.ipynb>data table notebook</a>'\n",
              "            + ' to learn more about interactive tables.';\n",
              "          element.innerHTML = '';\n",
              "          dataTable['output_type'] = 'display_data';\n",
              "          await google.colab.output.renderOutput(dataTable, element);\n",
              "          const docLink = document.createElement('div');\n",
              "          docLink.innerHTML = docLinkHtml;\n",
              "          element.appendChild(docLink);\n",
              "        }\n",
              "      </script>\n",
              "    </div>\n",
              "  </div>\n",
              "  "
            ],
            "text/plain": [
              "                                 Version Score on kaggle\n",
              "0                                 ResNet         0.99750\n",
              "1                              MobileNet         0.99750\n",
              "2     ResNet with augmentation technique         0.98291\n",
              "3  MobileNet with augmentation technique         0.98750"
            ]
          },
          "metadata": {},
          "execution_count": 28
        }
      ]
    }
  ]
}