{
  "nbformat": 4,
  "nbformat_minor": 0,
  "metadata": {
    "colab": {
      "name": "TensorflowHomeWork.ipynb",
      "provenance": [],
      "collapsed_sections": []
    },
    "kernelspec": {
      "name": "python3",
      "display_name": "Python 3"
    },
    "language_info": {
      "name": "python"
    }
  },
  "cells": [
    {
      "cell_type": "markdown",
      "source": [
        "# 1. Lý thuyết\n",
        "\n",
        "**1) Để khởi tạo model trong tensorflow chúng ta sử dụng class nào?**\n",
        "\n",
        "A. Sequential hoặc Model\n",
        "\n",
        "B. Dense\n",
        "\n",
        "C. Adam\n",
        "\n",
        "D. Variable\n",
        "\n",
        "**2) Điểm khác biệt giữa fit và fit_generator trong tensorflow là gì ?**\n",
        "\n",
        "A. fit sẽ yêu cầu load toàn bộ dữ liệu lên RAM trong khi fit_generator sẽ sử dụng một hàm generator để sinh dữ liệu tại mỗi mini-batch. Từ đó giúp tiết kiệm bộ nhớ.\n",
        "\n",
        "B. fit sẽ sử dụng hàm generator để sinh dữ liệu tại thời điểm huấn luyện còn fit_generator sẽ load toàn bộ dữ liệu.\n",
        "\n",
        "C. fit sẽ huấn luyện model theo mini-batch còn fit_generator thì huấn luyện trên toàn bộ dataset.\n",
        "\n",
        "D. trong hàm fit chúng ta có thể khai báo tập validation dataset còn trong fit_generator thì không.\n",
        "\n",
        "\n",
        "**3) Các modules chính trong tensorflow dùng để xây dựng và huấn luyện model.**\n",
        "\n",
        "A. `tf.keras.layers`: khởi tạo activation function; `tf.keras.Sequential`: khởi tạo model; `tf.keras.activations`: để khởi tạo các layers; `tf.keras.optimizers`: Khởi tạo optimizer cho bài toán tối ưu loss function; `tf.keras.losses`: khởi tạo loss function; `tf.keras.preprocessing`: Preprocessing data.\n",
        "\n",
        "B. `tf.keras.layers`: để khởi tạo các layers; `tf.keras.Sequential`: khởi tạo model; `tf.keras.activations`: khởi tạo activation function; `tf.keras.optimizers`: Khởi tạo optimizer cho bài toán tối ưu loss function; `tf.keras.losses`: khởi tạo loss function; `tf.keras.preprocessing`: Preprocessing data.\n",
        "\n",
        "C. `tf.keras.layers`: để khởi tạo các layers; `tf.keras.Sequential`: Preprocessing data; `tf.keras.activations`: khởi tạo activation function; `tf.keras.optimizers`: Khởi tạo optimizer cho bài toán tối ưu loss function; `tf.keras.losses`: khởi tạo loss function; `tf.keras.preprocessing`: khởi tạo model\n",
        "\n",
        "D. `tf.keras.layers`: để khởi tạo các layers; `tf.keras.Sequential`: khởi tạo model; `tf.keras.activations`: khởi tạo activation function; `tf.keras.optimizers`: khởi tạo loss function; `tf.keras.losses`: Khởi tạo optimizer cho bài toán tối ưu loss function; `tf.keras.preprocessing`: Preprocessing data.\n",
        "\n",
        "\n",
        "**4) Các bước trong huấn luyện model bao gồm:**\n",
        "\n",
        "A. 1. Train/test data split --> 2. Initialize the optimizer algorithm --> 3. Build up model architecture --> 4. Train model on train --> 5. Evaluation on test --> 6. Save and use trained model\n",
        "\n",
        "B. 1. Train/test data split --> 2. Build up model architecture --> 3. Train model on train --> 4. Initialize the optimizer algorithm --> 5. Evaluation on test --> 6. Save and use trained model\n",
        "\n",
        "C. 1. Train/test data split --> 2. Build up model architecture --> 3. Initialize the optimizer algorithm --> 4. Evaluation on test --> 5. Train model on train --> 6. Save and use trained model\n",
        "\n",
        "D. 1. Train/test data split --> 2. Build up model architecture --> 3. Initialize the optimizer algorithm --> 4. Train model on train --> 5. Evaluation on test --> 6. Save and use trained model\n",
        "\n",
        "**5) Ý nghĩa của tham số epochs và batch_size trong huấn luyện mô hình là gì?**\n",
        "\n",
        "A. epochs là kích thước của một mini-batch, batch_size là số lượt lặp lại toàn bộ dữ liệu khi huấn luyện.\n",
        "\n",
        "B. epochs là số lượt lặp lại toàn bộ dữ liệu validation khi huấn luyện, batch_size là kích thước của một mini-batch.\n",
        "\n",
        "C. epochs là số lượt lặp lại toàn bộ dữ liệu train khi huấn luyện, batch_size là kích thước của một mini-batch.\n",
        "\n",
        "D. epochs là số lượng vòng lặp, mỗi vòng lặp là một lượt fit mini-batch, trên bộ dữ liệu khi huấn luyện; batch_size là kích thước của một mini-batch."
      ],
      "metadata": {
        "id": "DUXbtwUsAGPq"
      }
    },
    {
      "cell_type": "markdown",
      "source": [
        "1. A\n",
        "2. A\n",
        "3. B\n",
        "4. D\n",
        "5. C\n"
      ],
      "metadata": {
        "id": "5oivVlht1Ogj"
      }
    },
    {
      "cell_type": "markdown",
      "source": [
        "# 2. Thực hành\n",
        "\n",
        "6) Khởi tạo một tensor 3 chiều với định dạng là float và kích thước là 32x32x3\n",
        "\n",
        "7) Nếu coi tensor trên là một bức ảnh RGB với số channel là 3 ở cuối. Hãy truy suất các ma trận ảnh tương ứng với mỗi kênh R, G, B.\n",
        "\n",
        "8) Thực hiện tích hadamard và tích thông thường giữa ma trận R và G.\n",
        "\n",
        "9) Từ bộ dữ liệu [Income-Classification](https://www.kaggle.com/t/090688c8d33a40b68be9e271d6ba6bae) hãy chuẩn hóa dữ liệu và phân chia tập train/test theo tỷ lệ 80/20. \n",
        "\n",
        "10) Xây dựng một mạng deep-neural-network để huấn luyện mô hình trên dữ liệu train và đánh giá mô hình trên dữ liệu test.\n"
      ],
      "metadata": {
        "id": "LzLjMsckAJAT"
      }
    },
    {
      "cell_type": "code",
      "source": [
        "#Câu 6\n",
        "import tensorflow as tf"
      ],
      "metadata": {
        "id": "uYZ6dgnM1vVH"
      },
      "execution_count": null,
      "outputs": []
    },
    {
      "cell_type": "code",
      "source": [
        "tensor = tf.random.normal((32,32,3))\n",
        "tensor"
      ],
      "metadata": {
        "colab": {
          "base_uri": "https://localhost:8080/"
        },
        "id": "48UXywMt12Is",
        "outputId": "6cf93936-078f-4f4c-9acb-cf118747ec8f"
      },
      "execution_count": null,
      "outputs": [
        {
          "output_type": "execute_result",
          "data": {
            "text/plain": [
              "<tf.Tensor: shape=(32, 32, 3), dtype=float32, numpy=\n",
              "array([[[-1.39629375e-02,  1.11386478e+00, -1.44752920e+00],\n",
              "        [ 5.87497056e-01,  5.94437599e-01,  5.74060321e-01],\n",
              "        [ 2.08106160e-01, -2.81996012e-01,  1.40709436e+00],\n",
              "        ...,\n",
              "        [-6.66574597e-01, -4.54590052e-01, -2.61456817e-01],\n",
              "        [ 1.32124102e+00,  5.37271380e-01,  1.00070500e+00],\n",
              "        [-2.85603940e-01,  3.63191724e-01,  4.15892452e-01]],\n",
              "\n",
              "       [[-1.81530833e-01, -6.81766450e-01,  3.72718900e-01],\n",
              "        [-2.26768231e+00,  1.07412803e+00, -1.73862123e+00],\n",
              "        [-1.87399423e+00, -1.63965690e+00, -2.63605237e-01],\n",
              "        ...,\n",
              "        [ 3.54393810e-01, -1.81281716e-01,  3.70655179e-01],\n",
              "        [-1.28909838e+00, -3.77692819e-01, -9.59699690e-01],\n",
              "        [-1.39398026e+00, -1.33461750e+00,  6.20083690e-01]],\n",
              "\n",
              "       [[-1.55593836e+00,  1.07209556e-01, -6.12033367e-01],\n",
              "        [ 8.27994645e-01, -8.26256812e-01, -1.14847660e+00],\n",
              "        [-2.10831523e+00,  1.11296320e+00, -7.90497214e-02],\n",
              "        ...,\n",
              "        [ 1.02170634e+00,  8.68514657e-01,  9.23962533e-01],\n",
              "        [-8.89591098e-01, -3.51396948e-01, -2.85499990e-01],\n",
              "        [-7.57277131e-01, -8.70083570e-01, -1.09222376e+00]],\n",
              "\n",
              "       ...,\n",
              "\n",
              "       [[ 2.83295602e-01,  5.95264077e-01,  1.47832501e+00],\n",
              "        [ 3.11268091e-01,  7.51964211e-01,  1.11737001e+00],\n",
              "        [ 9.16988492e-01,  1.04082000e+00, -1.21176994e+00],\n",
              "        ...,\n",
              "        [ 1.28045607e+00, -1.94750750e+00,  4.11783338e-01],\n",
              "        [ 2.13556957e+00,  1.11113322e+00, -2.64909983e-01],\n",
              "        [ 1.94381964e+00,  1.64989913e+00,  9.58857462e-02]],\n",
              "\n",
              "       [[ 1.23421800e+00, -2.20162436e-01, -1.10160232e+00],\n",
              "        [ 9.27922130e-01,  2.56608147e-02,  1.04741519e-03],\n",
              "        [-4.34330463e-01, -3.19341779e-01,  5.61731577e-01],\n",
              "        ...,\n",
              "        [ 3.33203599e-02,  5.33248544e-01,  7.38673806e-01],\n",
              "        [ 1.36326039e+00, -7.08548188e-01, -1.92388797e+00],\n",
              "        [-3.34032238e-01, -2.11969352e+00, -1.33182272e-01]],\n",
              "\n",
              "       [[-1.31599700e+00,  1.16075921e+00,  1.31095326e+00],\n",
              "        [ 1.01125026e+00,  2.52765626e-01, -1.13222361e-01],\n",
              "        [-4.82687533e-01,  1.09298432e+00, -1.59094107e+00],\n",
              "        ...,\n",
              "        [-6.24032378e-01, -5.03429234e-01,  6.95068419e-01],\n",
              "        [-9.44559813e-01,  9.81069654e-02, -6.46035671e-01],\n",
              "        [-5.94088852e-01, -1.10783257e-01, -2.41009235e-01]]],\n",
              "      dtype=float32)>"
            ]
          },
          "metadata": {},
          "execution_count": 2
        }
      ]
    },
    {
      "cell_type": "code",
      "source": [
        "#Câu 7\n",
        "tensor = tf.reshape(tensor, (3, 32, 32))\n",
        "R = tensor[0]\n",
        "G = tensor[1]\n",
        "B = tensor[2]\n",
        "print(\"R:\", R)\n",
        "print(\"G:\", G)\n",
        "print(\"B:\", B)"
      ],
      "metadata": {
        "colab": {
          "base_uri": "https://localhost:8080/"
        },
        "id": "oCCxfUYL2GnI",
        "outputId": "63e94717-f476-42fe-d299-35d261f94bbc"
      },
      "execution_count": null,
      "outputs": [
        {
          "output_type": "stream",
          "name": "stdout",
          "text": [
            "R: tf.Tensor(\n",
            "[[-0.01396294  1.1138648  -1.4475292  ...  0.8009043   0.5632376\n",
            "  -1.1249175 ]\n",
            " [-1.5544224  -0.0341751   1.612781   ...  0.6985068  -0.5493624\n",
            "   0.5177575 ]\n",
            " [ 0.26033247 -0.52854776  0.9443115  ... -0.28560394  0.36319172\n",
            "   0.41589245]\n",
            " ...\n",
            " [ 0.26925272  0.16544434  3.0813103  ... -0.92555887 -0.8108965\n",
            "  -0.34160715]\n",
            " [ 0.139359   -0.9105216  -1.0142254  ... -1.3956641   0.28999752\n",
            "  -0.6723165 ]\n",
            " [-0.70954484 -0.23294564  1.3924716  ... -0.10519678  1.7234092\n",
            "   1.3456806 ]], shape=(32, 32), dtype=float32)\n",
            "G: tf.Tensor(\n",
            "[[-0.04812133 -1.4109257   1.2934761  ... -1.0586586   1.6649787\n",
            "  -0.7891756 ]\n",
            " [ 0.89473426  0.03248129 -2.0273767  ... -0.20088674  1.8000535\n",
            "  -0.36535957]\n",
            " [ 0.1742807   0.40591612 -0.5938025  ...  0.9822249   0.01384331\n",
            "   0.75722134]\n",
            " ...\n",
            " [-1.4848351  -0.28806776 -0.45663002 ... -0.86734784  1.4275379\n",
            "   0.82354844]\n",
            " [-0.26276058 -0.72916746  0.6874364  ...  0.15305552 -0.8783725\n",
            "   0.7279616 ]\n",
            " [ 0.9838033   0.9863221  -0.8772247  ... -0.22029369  0.8255693\n",
            "  -0.9886008 ]], shape=(32, 32), dtype=float32)\n",
            "B: tf.Tensor(\n",
            "[[ 7.9409713e-01 -3.0115238e-01 -6.9704548e-02 ...  7.2524548e-01\n",
            "   8.6121029e-01 -1.4264138e+00]\n",
            " [-1.2782692e+00 -7.0168579e-01  4.7143254e-01 ...  2.9476050e-01\n",
            "   7.2242767e-01 -8.7605894e-01]\n",
            " [ 2.0936267e-01 -5.9590572e-01 -5.2452624e-01 ...  4.7121677e-01\n",
            "  -5.4073345e-04  1.5127398e+00]\n",
            " ...\n",
            " [-1.3159970e+00  1.1607592e+00  1.3109533e+00 ...  1.9283005e+00\n",
            "   3.1224141e-01 -1.9927216e+00]\n",
            " [ 1.9435485e-01  3.6355403e-01  6.3870877e-02 ... -2.9793561e-01\n",
            "  -6.0097289e-01 -7.4432909e-01]\n",
            " [ 7.6278698e-01  7.3646760e-01 -3.5311919e-01 ... -5.9408885e-01\n",
            "  -1.1078326e-01 -2.4100924e-01]], shape=(32, 32), dtype=float32)\n"
          ]
        }
      ]
    },
    {
      "cell_type": "code",
      "source": [
        "#Câu 8\n",
        "hadamard = R*G\n",
        "dot = R@G\n",
        "print(\"Hadamard of R and G:\", hadamard)\n",
        "print(\"Dot product of R and G:\", dot)"
      ],
      "metadata": {
        "colab": {
          "base_uri": "https://localhost:8080/"
        },
        "id": "UTI9qoms2o7_",
        "outputId": "ad68abd6-7aeb-409a-da42-d0326c50b742"
      },
      "execution_count": null,
      "outputs": [
        {
          "output_type": "stream",
          "name": "stdout",
          "text": [
            "Hadamard of R and G: tf.Tensor(\n",
            "[[ 0.3829672  -0.31629762 -0.11368194 ... -0.11833034 -2.102201\n",
            "   0.99026924]\n",
            " [ 0.39107716 -0.19032124 -0.7735733  ... -0.11571151 -0.3677344\n",
            "   1.1702635 ]\n",
            " [-1.4852594   0.11342943 -1.026143   ... -2.8975427  -0.6130511\n",
            "  -0.07048861]\n",
            " ...\n",
            " [-0.38773847 -1.3254144   0.00482612 ... -0.5492664  -0.08523383\n",
            "  -0.00474188]\n",
            " [ 0.93170285  0.56552374  0.06624351 ...  0.14608324 -0.85631686\n",
            "  -0.64219993]\n",
            " [-0.9809213   0.08483494  0.84406245 ...  0.01942831  0.07370228\n",
            "   2.238461  ]], shape=(32, 32), dtype=float32)\n",
            "Dot product of R and G: tf.Tensor(\n",
            "[[  5.7693424  -10.078688     6.4738097  ...  -5.243611    -3.8653014\n",
            "    7.476028  ]\n",
            " [  0.16243435   8.154444     5.4128513  ...   2.1306577   -7.8669224\n",
            "    2.8703704 ]\n",
            " [ -6.364483    -5.759684     4.4415436  ...  -1.9142511   -7.978537\n",
            "   -2.6500552 ]\n",
            " ...\n",
            " [ -2.254584    -1.3049998   -0.4933347  ...  -2.0263062   -7.595808\n",
            "   -2.4553173 ]\n",
            " [  1.5732646    3.8034735    8.367977   ...  -5.8104353   -2.3960996\n",
            "   -1.953594  ]\n",
            " [  1.4224651    4.5866876    6.948346   ...  -0.83908105  13.975404\n",
            "    2.1951191 ]], shape=(32, 32), dtype=float32)\n"
          ]
        }
      ]
    },
    {
      "cell_type": "code",
      "source": [
        "#Câu 9 + 10\n",
        "import numpy as np\n",
        "import pandas as pd\n",
        "import seaborn as sns\n",
        "import tensorflow as tf\n",
        "import matplotlib.pyplot as plt\n",
        "from matplotlib.gridspec import GridSpec\n",
        "from sklearn.preprocessing import MinMaxScaler\n",
        "from sklearn.model_selection import train_test_split"
      ],
      "metadata": {
        "id": "_pUTbZIY2ppk"
      },
      "execution_count": null,
      "outputs": []
    },
    {
      "cell_type": "code",
      "source": [
        "df = pd.read_csv(\"train.csv\")\n",
        "df.head(5)\n",
        "df.drop('ID', axis=1, inplace=True)"
      ],
      "metadata": {
        "id": "5CYsWtc730_f"
      },
      "execution_count": null,
      "outputs": []
    },
    {
      "cell_type": "code",
      "source": [
        "df.info()"
      ],
      "metadata": {
        "id": "CYWb7cst3_J0",
        "colab": {
          "base_uri": "https://localhost:8080/"
        },
        "outputId": "e64abdf8-7e70-4f53-dc36-85e43b96d9f1"
      },
      "execution_count": null,
      "outputs": [
        {
          "output_type": "stream",
          "name": "stdout",
          "text": [
            "<class 'pandas.core.frame.DataFrame'>\n",
            "RangeIndex: 25000 entries, 0 to 24999\n",
            "Data columns (total 15 columns):\n",
            " #   Column               Non-Null Count  Dtype \n",
            "---  ------               --------------  ----- \n",
            " 0   age                  25000 non-null  int64 \n",
            " 1   work_type            25000 non-null  object\n",
            " 2   final_weight         25000 non-null  int64 \n",
            " 3   education            25000 non-null  object\n",
            " 4   total_education_yrs  25000 non-null  int64 \n",
            " 5   marital_state        25000 non-null  object\n",
            " 6   job                  25000 non-null  object\n",
            " 7   status               25000 non-null  object\n",
            " 8   ethnicity            25000 non-null  object\n",
            " 9   sex                  25000 non-null  object\n",
            " 10  capital_gain         25000 non-null  int64 \n",
            " 11  capital_loss         25000 non-null  int64 \n",
            " 12  hrs_per_week         25000 non-null  int64 \n",
            " 13  nationality          25000 non-null  object\n",
            " 14  target_income        25000 non-null  int64 \n",
            "dtypes: int64(7), object(8)\n",
            "memory usage: 2.9+ MB\n"
          ]
        }
      ]
    },
    {
      "cell_type": "code",
      "source": [
        "df_1hot = pd.get_dummies(df)\n",
        "df_1hot.info()"
      ],
      "metadata": {
        "colab": {
          "base_uri": "https://localhost:8080/"
        },
        "id": "eNeluDBpc04x",
        "outputId": "e5e53711-587e-42d5-e979-6db4f9412488"
      },
      "execution_count": null,
      "outputs": [
        {
          "output_type": "stream",
          "name": "stdout",
          "text": [
            "<class 'pandas.core.frame.DataFrame'>\n",
            "RangeIndex: 25000 entries, 0 to 24999\n",
            "Columns: 109 entries, age to nationality_Yugoslavia\n",
            "dtypes: int64(7), uint8(102)\n",
            "memory usage: 3.8 MB\n"
          ]
        }
      ]
    },
    {
      "cell_type": "code",
      "source": [
        "num_cols = df.select_dtypes('int64').columns\n",
        "gs = GridSpec(4, 2)\n",
        "plt.figure(figsize=(16, 12))\n",
        "plt.subplots_adjust(hspace=0.4)\n",
        "for index, num_col in enumerate(num_cols):\n",
        "    ax = plt.subplot(gs[index])\n",
        "    sns.histplot(df[num_col], kde=True)\n",
        "    ax.set_title(num_col)"
      ],
      "metadata": {
        "colab": {
          "base_uri": "https://localhost:8080/",
          "height": 718
        },
        "id": "Q0EyMM58U3gw",
        "outputId": "0a31bfa0-1f0d-4ff0-b2ce-f3b0fac3b172"
      },
      "execution_count": null,
      "outputs": [
        {
          "output_type": "display_data",
          "data": {
            "image/png": "[encoded data removed]",
            "text/plain": [
              "<Figure size 1152x864 with 7 Axes>"
            ]
          },
          "metadata": {
            "needs_background": "light"
          }
        }
      ]
    },
    {
      "cell_type": "markdown",
      "source": [
        "**Do phân phối của các features không có rõ ràng nên sẽ chỉ scale về khoảng (0,1)**"
      ],
      "metadata": {
        "id": "FB1Z4WziYZ2m"
      }
    },
    {
      "cell_type": "code",
      "source": [
        "X_train, X_test = train_test_split(df_1hot, test_size=0.2, random_state=42)\n",
        "y_train = X_train.pop('target_income')\n",
        "y_test = X_test.pop('target_income')"
      ],
      "metadata": {
        "id": "b-lvmY5KU90C"
      },
      "execution_count": null,
      "outputs": []
    },
    {
      "cell_type": "code",
      "source": [
        "num_cols = list(num_cols)\n",
        "num_cols.pop()"
      ],
      "metadata": {
        "colab": {
          "base_uri": "https://localhost:8080/",
          "height": 35
        },
        "id": "k3Vm8ilzeKf1",
        "outputId": "1935237c-d311-45f9-ad21-9a68713bfe82"
      },
      "execution_count": null,
      "outputs": [
        {
          "output_type": "execute_result",
          "data": {
            "application/vnd.google.colaboratory.intrinsic+json": {
              "type": "string"
            },
            "text/plain": [
              "'target_income'"
            ]
          },
          "metadata": {},
          "execution_count": 73
        }
      ]
    },
    {
      "cell_type": "code",
      "source": [
        "def scaling(df, scaler, column_names, mode='train'):\n",
        "    x = df[column_names].values\n",
        "    if mode == 'train':\n",
        "        x_scaled = scaler.fit_transform(x)\n",
        "    else:\n",
        "        x_scaled = scaler.transform(x)\n",
        "    normalize_features = pd.DataFrame(x_scaled, columns=column_names, index=df.index)\n",
        "    df[column_names] = normalize_features\n",
        "\n",
        "    return df"
      ],
      "metadata": {
        "id": "wYUCy0OZZX6-"
      },
      "execution_count": null,
      "outputs": []
    },
    {
      "cell_type": "code",
      "source": [
        "min_max_scaler = MinMaxScaler()\n",
        "\n",
        "X_train = scaling(X_train, min_max_scaler, num_cols, mode='train')\n",
        "X_test = scaling(X_test, min_max_scaler, num_cols, mode='val')"
      ],
      "metadata": {
        "id": "NraafbRJcVuh"
      },
      "execution_count": null,
      "outputs": []
    },
    {
      "cell_type": "code",
      "source": [
        "model = tf.keras.models.Sequential([\n",
        "                                    tf.keras.layers.Dense(32, input_shape=(108,), activation='relu'),\n",
        "                                    tf.keras.layers.Dense(1, activation='sigmoid')\n",
        "])\n",
        "\n",
        "model.compile(loss='binary_crossentropy',\n",
        "              optimizer='adam',\n",
        "              metrics=['accuracy'])"
      ],
      "metadata": {
        "id": "yRgmuq-5d6JG"
      },
      "execution_count": null,
      "outputs": []
    },
    {
      "cell_type": "code",
      "source": [
        "history = model.fit(X_train, y_train, validation_split=0.2, batch_size=64, epochs=200)"
      ],
      "metadata": {
        "colab": {
          "base_uri": "https://localhost:8080/"
        },
        "id": "1KGKrZddel5K",
        "outputId": "8951bcac-ebd6-4fb9-8278-a97421b6ac1b"
      },
      "execution_count": null,
      "outputs": [
        {
          "output_type": "stream",
          "name": "stdout",
          "text": [
            "Epoch 1/200\n",
            "250/250 [==============================] - 2s 7ms/step - loss: 0.2563 - accuracy: 0.8801 - val_loss: 0.2643 - val_accuracy: 0.8748\n",
            "Epoch 2/200\n",
            "250/250 [==============================] - 1s 5ms/step - loss: 0.2562 - accuracy: 0.8796 - val_loss: 0.2688 - val_accuracy: 0.8717\n",
            "Epoch 3/200\n",
            "250/250 [==============================] - 1s 4ms/step - loss: 0.2553 - accuracy: 0.8804 - val_loss: 0.2817 - val_accuracy: 0.8597\n",
            "Epoch 4/200\n",
            "250/250 [==============================] - 1s 5ms/step - loss: 0.2558 - accuracy: 0.8788 - val_loss: 0.2711 - val_accuracy: 0.8677\n",
            "Epoch 5/200\n",
            "250/250 [==============================] - 1s 5ms/step - loss: 0.2556 - accuracy: 0.8793 - val_loss: 0.2703 - val_accuracy: 0.8720\n",
            "Epoch 6/200\n",
            "250/250 [==============================] - 1s 5ms/step - loss: 0.2550 - accuracy: 0.8816 - val_loss: 0.2725 - val_accuracy: 0.8673\n",
            "Epoch 7/200\n",
            "250/250 [==============================] - 1s 5ms/step - loss: 0.2549 - accuracy: 0.8792 - val_loss: 0.2731 - val_accuracy: 0.8690\n",
            "Epoch 8/200\n",
            "250/250 [==============================] - 1s 5ms/step - loss: 0.2539 - accuracy: 0.8809 - val_loss: 0.2780 - val_accuracy: 0.8655\n",
            "Epoch 9/200\n",
            "250/250 [==============================] - 1s 5ms/step - loss: 0.2546 - accuracy: 0.8819 - val_loss: 0.2752 - val_accuracy: 0.8683\n",
            "Epoch 10/200\n",
            "250/250 [==============================] - 1s 5ms/step - loss: 0.2550 - accuracy: 0.8804 - val_loss: 0.2752 - val_accuracy: 0.8687\n",
            "Epoch 11/200\n",
            "250/250 [==============================] - 1s 4ms/step - loss: 0.2545 - accuracy: 0.8807 - val_loss: 0.2782 - val_accuracy: 0.8648\n",
            "Epoch 12/200\n",
            "250/250 [==============================] - 1s 3ms/step - loss: 0.2547 - accuracy: 0.8821 - val_loss: 0.2777 - val_accuracy: 0.8700\n",
            "Epoch 13/200\n",
            "250/250 [==============================] - 1s 3ms/step - loss: 0.2554 - accuracy: 0.8781 - val_loss: 0.2781 - val_accuracy: 0.8643\n",
            "Epoch 14/200\n",
            "250/250 [==============================] - 1s 3ms/step - loss: 0.2537 - accuracy: 0.8817 - val_loss: 0.2789 - val_accuracy: 0.8650\n",
            "Epoch 15/200\n",
            "250/250 [==============================] - 1s 3ms/step - loss: 0.2535 - accuracy: 0.8814 - val_loss: 0.2841 - val_accuracy: 0.8633\n",
            "Epoch 16/200\n",
            "250/250 [==============================] - 1s 3ms/step - loss: 0.2529 - accuracy: 0.8821 - val_loss: 0.2809 - val_accuracy: 0.8675\n",
            "Epoch 17/200\n",
            "250/250 [==============================] - 1s 3ms/step - loss: 0.2535 - accuracy: 0.8820 - val_loss: 0.2846 - val_accuracy: 0.8577\n",
            "Epoch 18/200\n",
            "250/250 [==============================] - 1s 3ms/step - loss: 0.2531 - accuracy: 0.8821 - val_loss: 0.2816 - val_accuracy: 0.8640\n",
            "Epoch 19/200\n",
            "250/250 [==============================] - 1s 3ms/step - loss: 0.2534 - accuracy: 0.8831 - val_loss: 0.2865 - val_accuracy: 0.8600\n",
            "Epoch 20/200\n",
            "250/250 [==============================] - 1s 3ms/step - loss: 0.2528 - accuracy: 0.8806 - val_loss: 0.2816 - val_accuracy: 0.8610\n",
            "Epoch 21/200\n",
            "250/250 [==============================] - 1s 3ms/step - loss: 0.2523 - accuracy: 0.8831 - val_loss: 0.2851 - val_accuracy: 0.8635\n",
            "Epoch 22/200\n",
            "250/250 [==============================] - 1s 3ms/step - loss: 0.2529 - accuracy: 0.8811 - val_loss: 0.2847 - val_accuracy: 0.8633\n",
            "Epoch 23/200\n",
            "250/250 [==============================] - 1s 3ms/step - loss: 0.2527 - accuracy: 0.8817 - val_loss: 0.2851 - val_accuracy: 0.8635\n",
            "Epoch 24/200\n",
            "250/250 [==============================] - 1s 3ms/step - loss: 0.2531 - accuracy: 0.8817 - val_loss: 0.2844 - val_accuracy: 0.8635\n",
            "Epoch 25/200\n",
            "250/250 [==============================] - 1s 3ms/step - loss: 0.2520 - accuracy: 0.8824 - val_loss: 0.2860 - val_accuracy: 0.8633\n",
            "Epoch 26/200\n",
            "250/250 [==============================] - 1s 3ms/step - loss: 0.2523 - accuracy: 0.8826 - val_loss: 0.2869 - val_accuracy: 0.8622\n",
            "Epoch 27/200\n",
            "250/250 [==============================] - 1s 3ms/step - loss: 0.2522 - accuracy: 0.8823 - val_loss: 0.2866 - val_accuracy: 0.8662\n",
            "Epoch 28/200\n",
            "250/250 [==============================] - 1s 3ms/step - loss: 0.2535 - accuracy: 0.8808 - val_loss: 0.2904 - val_accuracy: 0.8648\n",
            "Epoch 29/200\n",
            "250/250 [==============================] - 1s 3ms/step - loss: 0.2513 - accuracy: 0.8827 - val_loss: 0.2937 - val_accuracy: 0.8533\n",
            "Epoch 30/200\n",
            "250/250 [==============================] - 1s 3ms/step - loss: 0.2524 - accuracy: 0.8816 - val_loss: 0.2889 - val_accuracy: 0.8600\n",
            "Epoch 31/200\n",
            "250/250 [==============================] - 1s 3ms/step - loss: 0.2522 - accuracy: 0.8817 - val_loss: 0.2907 - val_accuracy: 0.8558\n",
            "Epoch 32/200\n",
            "250/250 [==============================] - 1s 3ms/step - loss: 0.2518 - accuracy: 0.8816 - val_loss: 0.2915 - val_accuracy: 0.8575\n",
            "Epoch 33/200\n",
            "250/250 [==============================] - 1s 3ms/step - loss: 0.2518 - accuracy: 0.8798 - val_loss: 0.2890 - val_accuracy: 0.8630\n",
            "Epoch 34/200\n",
            "250/250 [==============================] - 1s 3ms/step - loss: 0.2518 - accuracy: 0.8831 - val_loss: 0.2964 - val_accuracy: 0.8533\n",
            "Epoch 35/200\n",
            "250/250 [==============================] - 1s 3ms/step - loss: 0.2524 - accuracy: 0.8826 - val_loss: 0.2937 - val_accuracy: 0.8583\n",
            "Epoch 36/200\n",
            "250/250 [==============================] - 1s 3ms/step - loss: 0.2515 - accuracy: 0.8829 - val_loss: 0.2926 - val_accuracy: 0.8615\n",
            "Epoch 37/200\n",
            "250/250 [==============================] - 1s 3ms/step - loss: 0.2510 - accuracy: 0.8830 - val_loss: 0.2912 - val_accuracy: 0.8612\n",
            "Epoch 38/200\n",
            "250/250 [==============================] - 1s 3ms/step - loss: 0.2507 - accuracy: 0.8828 - val_loss: 0.2966 - val_accuracy: 0.8515\n",
            "Epoch 39/200\n",
            "250/250 [==============================] - 1s 3ms/step - loss: 0.2518 - accuracy: 0.8825 - val_loss: 0.2939 - val_accuracy: 0.8620\n",
            "Epoch 40/200\n",
            "250/250 [==============================] - 1s 3ms/step - loss: 0.2510 - accuracy: 0.8824 - val_loss: 0.2926 - val_accuracy: 0.8610\n",
            "Epoch 41/200\n",
            "250/250 [==============================] - 1s 3ms/step - loss: 0.2500 - accuracy: 0.8838 - val_loss: 0.2943 - val_accuracy: 0.8575\n",
            "Epoch 42/200\n",
            "250/250 [==============================] - 2s 7ms/step - loss: 0.2520 - accuracy: 0.8816 - val_loss: 0.2949 - val_accuracy: 0.8587\n",
            "Epoch 43/200\n",
            "250/250 [==============================] - 1s 3ms/step - loss: 0.2507 - accuracy: 0.8825 - val_loss: 0.2958 - val_accuracy: 0.8622\n",
            "Epoch 44/200\n",
            "250/250 [==============================] - 1s 3ms/step - loss: 0.2513 - accuracy: 0.8805 - val_loss: 0.2960 - val_accuracy: 0.8585\n",
            "Epoch 45/200\n",
            "250/250 [==============================] - 1s 3ms/step - loss: 0.2501 - accuracy: 0.8827 - val_loss: 0.2960 - val_accuracy: 0.8602\n",
            "Epoch 46/200\n",
            "250/250 [==============================] - 1s 3ms/step - loss: 0.2503 - accuracy: 0.8826 - val_loss: 0.2956 - val_accuracy: 0.8602\n",
            "Epoch 47/200\n",
            "250/250 [==============================] - 1s 3ms/step - loss: 0.2500 - accuracy: 0.8821 - val_loss: 0.2974 - val_accuracy: 0.8575\n",
            "Epoch 48/200\n",
            "250/250 [==============================] - 1s 3ms/step - loss: 0.2501 - accuracy: 0.8829 - val_loss: 0.2974 - val_accuracy: 0.8593\n",
            "Epoch 49/200\n",
            "250/250 [==============================] - 1s 3ms/step - loss: 0.2494 - accuracy: 0.8831 - val_loss: 0.3048 - val_accuracy: 0.8545\n",
            "Epoch 50/200\n",
            "250/250 [==============================] - 1s 3ms/step - loss: 0.2492 - accuracy: 0.8829 - val_loss: 0.3009 - val_accuracy: 0.8620\n",
            "Epoch 51/200\n",
            "250/250 [==============================] - 1s 3ms/step - loss: 0.2498 - accuracy: 0.8829 - val_loss: 0.2960 - val_accuracy: 0.8568\n",
            "Epoch 52/200\n",
            "250/250 [==============================] - 1s 3ms/step - loss: 0.2492 - accuracy: 0.8836 - val_loss: 0.3006 - val_accuracy: 0.8585\n",
            "Epoch 53/200\n",
            "250/250 [==============================] - 1s 3ms/step - loss: 0.2498 - accuracy: 0.8836 - val_loss: 0.3006 - val_accuracy: 0.8528\n",
            "Epoch 54/200\n",
            "250/250 [==============================] - 1s 3ms/step - loss: 0.2507 - accuracy: 0.8832 - val_loss: 0.2975 - val_accuracy: 0.8608\n",
            "Epoch 55/200\n",
            "250/250 [==============================] - 1s 3ms/step - loss: 0.2491 - accuracy: 0.8835 - val_loss: 0.3036 - val_accuracy: 0.8593\n",
            "Epoch 56/200\n",
            "250/250 [==============================] - 1s 3ms/step - loss: 0.2505 - accuracy: 0.8838 - val_loss: 0.3072 - val_accuracy: 0.8430\n",
            "Epoch 57/200\n",
            "250/250 [==============================] - 1s 3ms/step - loss: 0.2495 - accuracy: 0.8809 - val_loss: 0.3012 - val_accuracy: 0.8537\n",
            "Epoch 58/200\n",
            "250/250 [==============================] - 1s 3ms/step - loss: 0.2501 - accuracy: 0.8830 - val_loss: 0.3015 - val_accuracy: 0.8522\n",
            "Epoch 59/200\n",
            "250/250 [==============================] - 1s 3ms/step - loss: 0.2494 - accuracy: 0.8822 - val_loss: 0.3013 - val_accuracy: 0.8602\n",
            "Epoch 60/200\n",
            "250/250 [==============================] - 1s 3ms/step - loss: 0.2486 - accuracy: 0.8814 - val_loss: 0.3006 - val_accuracy: 0.8585\n",
            "Epoch 61/200\n",
            "250/250 [==============================] - 1s 3ms/step - loss: 0.2501 - accuracy: 0.8836 - val_loss: 0.3031 - val_accuracy: 0.8528\n",
            "Epoch 62/200\n",
            "250/250 [==============================] - 1s 3ms/step - loss: 0.2487 - accuracy: 0.8836 - val_loss: 0.3009 - val_accuracy: 0.8608\n",
            "Epoch 63/200\n",
            "250/250 [==============================] - 1s 3ms/step - loss: 0.2493 - accuracy: 0.8822 - val_loss: 0.3030 - val_accuracy: 0.8602\n",
            "Epoch 64/200\n",
            "250/250 [==============================] - 1s 3ms/step - loss: 0.2500 - accuracy: 0.8832 - val_loss: 0.3091 - val_accuracy: 0.8445\n",
            "Epoch 65/200\n",
            "250/250 [==============================] - 1s 3ms/step - loss: 0.2492 - accuracy: 0.8808 - val_loss: 0.3047 - val_accuracy: 0.8518\n",
            "Epoch 66/200\n",
            "250/250 [==============================] - 1s 3ms/step - loss: 0.2483 - accuracy: 0.8831 - val_loss: 0.3007 - val_accuracy: 0.8583\n",
            "Epoch 67/200\n",
            "250/250 [==============================] - 1s 3ms/step - loss: 0.2479 - accuracy: 0.8840 - val_loss: 0.3017 - val_accuracy: 0.8575\n",
            "Epoch 68/200\n",
            "250/250 [==============================] - 1s 3ms/step - loss: 0.2488 - accuracy: 0.8852 - val_loss: 0.3022 - val_accuracy: 0.8562\n",
            "Epoch 69/200\n",
            "250/250 [==============================] - 1s 3ms/step - loss: 0.2478 - accuracy: 0.8834 - val_loss: 0.3052 - val_accuracy: 0.8510\n",
            "Epoch 70/200\n",
            "250/250 [==============================] - 1s 3ms/step - loss: 0.2481 - accuracy: 0.8849 - val_loss: 0.3072 - val_accuracy: 0.8565\n",
            "Epoch 71/200\n",
            "250/250 [==============================] - 1s 3ms/step - loss: 0.2489 - accuracy: 0.8844 - val_loss: 0.3102 - val_accuracy: 0.8465\n",
            "Epoch 72/200\n",
            "250/250 [==============================] - 1s 3ms/step - loss: 0.2477 - accuracy: 0.8834 - val_loss: 0.3021 - val_accuracy: 0.8545\n",
            "Epoch 73/200\n",
            "250/250 [==============================] - 1s 3ms/step - loss: 0.2477 - accuracy: 0.8843 - val_loss: 0.3075 - val_accuracy: 0.8583\n",
            "Epoch 74/200\n",
            "250/250 [==============================] - 1s 3ms/step - loss: 0.2486 - accuracy: 0.8834 - val_loss: 0.3042 - val_accuracy: 0.8575\n",
            "Epoch 75/200\n",
            "250/250 [==============================] - 1s 3ms/step - loss: 0.2470 - accuracy: 0.8856 - val_loss: 0.3029 - val_accuracy: 0.8590\n",
            "Epoch 76/200\n",
            "250/250 [==============================] - 1s 3ms/step - loss: 0.2476 - accuracy: 0.8853 - val_loss: 0.3052 - val_accuracy: 0.8560\n",
            "Epoch 77/200\n",
            "250/250 [==============================] - 1s 3ms/step - loss: 0.2484 - accuracy: 0.8811 - val_loss: 0.3122 - val_accuracy: 0.8432\n",
            "Epoch 78/200\n",
            "250/250 [==============================] - 1s 3ms/step - loss: 0.2483 - accuracy: 0.8822 - val_loss: 0.3049 - val_accuracy: 0.8545\n",
            "Epoch 79/200\n",
            "250/250 [==============================] - 1s 3ms/step - loss: 0.2477 - accuracy: 0.8833 - val_loss: 0.3050 - val_accuracy: 0.8555\n",
            "Epoch 80/200\n",
            "250/250 [==============================] - 1s 3ms/step - loss: 0.2474 - accuracy: 0.8855 - val_loss: 0.3053 - val_accuracy: 0.8560\n",
            "Epoch 81/200\n",
            "250/250 [==============================] - 1s 3ms/step - loss: 0.2477 - accuracy: 0.8810 - val_loss: 0.3077 - val_accuracy: 0.8590\n",
            "Epoch 82/200\n",
            "250/250 [==============================] - 1s 3ms/step - loss: 0.2485 - accuracy: 0.8857 - val_loss: 0.3041 - val_accuracy: 0.8585\n",
            "Epoch 83/200\n",
            "250/250 [==============================] - 1s 3ms/step - loss: 0.2474 - accuracy: 0.8850 - val_loss: 0.3058 - val_accuracy: 0.8540\n",
            "Epoch 84/200\n",
            "250/250 [==============================] - 1s 3ms/step - loss: 0.2477 - accuracy: 0.8833 - val_loss: 0.3077 - val_accuracy: 0.8568\n",
            "Epoch 85/200\n",
            "250/250 [==============================] - 1s 3ms/step - loss: 0.2476 - accuracy: 0.8842 - val_loss: 0.3111 - val_accuracy: 0.8522\n",
            "Epoch 86/200\n",
            "250/250 [==============================] - 1s 3ms/step - loss: 0.2474 - accuracy: 0.8851 - val_loss: 0.3127 - val_accuracy: 0.8455\n",
            "Epoch 87/200\n",
            "250/250 [==============================] - 1s 3ms/step - loss: 0.2472 - accuracy: 0.8846 - val_loss: 0.3097 - val_accuracy: 0.8547\n",
            "Epoch 88/200\n",
            "250/250 [==============================] - 1s 3ms/step - loss: 0.2469 - accuracy: 0.8844 - val_loss: 0.3066 - val_accuracy: 0.8583\n",
            "Epoch 89/200\n",
            "250/250 [==============================] - 1s 3ms/step - loss: 0.2479 - accuracy: 0.8832 - val_loss: 0.3134 - val_accuracy: 0.8430\n",
            "Epoch 90/200\n",
            "250/250 [==============================] - 1s 3ms/step - loss: 0.2467 - accuracy: 0.8832 - val_loss: 0.3088 - val_accuracy: 0.8553\n",
            "Epoch 91/200\n",
            "250/250 [==============================] - 1s 3ms/step - loss: 0.2469 - accuracy: 0.8844 - val_loss: 0.3058 - val_accuracy: 0.8545\n",
            "Epoch 92/200\n",
            "250/250 [==============================] - 1s 3ms/step - loss: 0.2479 - accuracy: 0.8839 - val_loss: 0.3098 - val_accuracy: 0.8508\n",
            "Epoch 93/200\n",
            "250/250 [==============================] - 1s 3ms/step - loss: 0.2473 - accuracy: 0.8817 - val_loss: 0.3086 - val_accuracy: 0.8555\n",
            "Epoch 94/200\n",
            "250/250 [==============================] - 1s 3ms/step - loss: 0.2465 - accuracy: 0.8825 - val_loss: 0.3137 - val_accuracy: 0.8485\n",
            "Epoch 95/200\n",
            "250/250 [==============================] - 1s 3ms/step - loss: 0.2477 - accuracy: 0.8841 - val_loss: 0.3125 - val_accuracy: 0.8478\n",
            "Epoch 96/200\n",
            "250/250 [==============================] - 1s 3ms/step - loss: 0.2468 - accuracy: 0.8846 - val_loss: 0.3067 - val_accuracy: 0.8535\n",
            "Epoch 97/200\n",
            "250/250 [==============================] - 1s 3ms/step - loss: 0.2464 - accuracy: 0.8854 - val_loss: 0.3073 - val_accuracy: 0.8545\n",
            "Epoch 98/200\n",
            "250/250 [==============================] - 1s 3ms/step - loss: 0.2456 - accuracy: 0.8832 - val_loss: 0.3087 - val_accuracy: 0.8518\n",
            "Epoch 99/200\n",
            "250/250 [==============================] - 1s 3ms/step - loss: 0.2467 - accuracy: 0.8852 - val_loss: 0.3094 - val_accuracy: 0.8562\n",
            "Epoch 100/200\n",
            "250/250 [==============================] - 1s 3ms/step - loss: 0.2462 - accuracy: 0.8838 - val_loss: 0.3090 - val_accuracy: 0.8547\n",
            "Epoch 101/200\n",
            "250/250 [==============================] - 1s 3ms/step - loss: 0.2466 - accuracy: 0.8838 - val_loss: 0.3117 - val_accuracy: 0.8533\n",
            "Epoch 102/200\n",
            "250/250 [==============================] - 1s 3ms/step - loss: 0.2463 - accuracy: 0.8853 - val_loss: 0.3095 - val_accuracy: 0.8560\n",
            "Epoch 103/200\n",
            "250/250 [==============================] - 1s 3ms/step - loss: 0.2455 - accuracy: 0.8854 - val_loss: 0.3170 - val_accuracy: 0.8453\n",
            "Epoch 104/200\n",
            "250/250 [==============================] - 1s 3ms/step - loss: 0.2460 - accuracy: 0.8839 - val_loss: 0.3148 - val_accuracy: 0.8455\n",
            "Epoch 105/200\n",
            "250/250 [==============================] - 1s 3ms/step - loss: 0.2457 - accuracy: 0.8838 - val_loss: 0.3093 - val_accuracy: 0.8522\n",
            "Epoch 106/200\n",
            "250/250 [==============================] - 1s 3ms/step - loss: 0.2455 - accuracy: 0.8830 - val_loss: 0.3156 - val_accuracy: 0.8468\n",
            "Epoch 107/200\n",
            "250/250 [==============================] - 1s 3ms/step - loss: 0.2465 - accuracy: 0.8812 - val_loss: 0.3143 - val_accuracy: 0.8465\n",
            "Epoch 108/200\n",
            "250/250 [==============================] - 1s 3ms/step - loss: 0.2458 - accuracy: 0.8834 - val_loss: 0.3116 - val_accuracy: 0.8525\n",
            "Epoch 109/200\n",
            "250/250 [==============================] - 1s 3ms/step - loss: 0.2468 - accuracy: 0.8826 - val_loss: 0.3140 - val_accuracy: 0.8522\n",
            "Epoch 110/200\n",
            "250/250 [==============================] - 1s 3ms/step - loss: 0.2468 - accuracy: 0.8834 - val_loss: 0.3133 - val_accuracy: 0.8522\n",
            "Epoch 111/200\n",
            "250/250 [==============================] - 1s 3ms/step - loss: 0.2468 - accuracy: 0.8823 - val_loss: 0.3134 - val_accuracy: 0.8540\n",
            "Epoch 112/200\n",
            "250/250 [==============================] - 1s 3ms/step - loss: 0.2456 - accuracy: 0.8846 - val_loss: 0.3117 - val_accuracy: 0.8555\n",
            "Epoch 113/200\n",
            "250/250 [==============================] - 1s 3ms/step - loss: 0.2458 - accuracy: 0.8841 - val_loss: 0.3117 - val_accuracy: 0.8550\n",
            "Epoch 114/200\n",
            "250/250 [==============================] - 1s 3ms/step - loss: 0.2449 - accuracy: 0.8857 - val_loss: 0.3119 - val_accuracy: 0.8522\n",
            "Epoch 115/200\n",
            "250/250 [==============================] - 1s 3ms/step - loss: 0.2469 - accuracy: 0.8854 - val_loss: 0.3133 - val_accuracy: 0.8528\n",
            "Epoch 116/200\n",
            "250/250 [==============================] - 1s 3ms/step - loss: 0.2449 - accuracy: 0.8840 - val_loss: 0.3119 - val_accuracy: 0.8505\n",
            "Epoch 117/200\n",
            "250/250 [==============================] - 1s 3ms/step - loss: 0.2455 - accuracy: 0.8835 - val_loss: 0.3103 - val_accuracy: 0.8575\n",
            "Epoch 118/200\n",
            "250/250 [==============================] - 1s 3ms/step - loss: 0.2450 - accuracy: 0.8838 - val_loss: 0.3136 - val_accuracy: 0.8558\n",
            "Epoch 119/200\n",
            "250/250 [==============================] - 1s 3ms/step - loss: 0.2459 - accuracy: 0.8857 - val_loss: 0.3174 - val_accuracy: 0.8495\n",
            "Epoch 120/200\n",
            "250/250 [==============================] - 1s 3ms/step - loss: 0.2459 - accuracy: 0.8848 - val_loss: 0.3121 - val_accuracy: 0.8510\n",
            "Epoch 121/200\n",
            "250/250 [==============================] - 1s 3ms/step - loss: 0.2453 - accuracy: 0.8837 - val_loss: 0.3122 - val_accuracy: 0.8522\n",
            "Epoch 122/200\n",
            "250/250 [==============================] - 1s 3ms/step - loss: 0.2455 - accuracy: 0.8836 - val_loss: 0.3140 - val_accuracy: 0.8503\n",
            "Epoch 123/200\n",
            "250/250 [==============================] - 1s 3ms/step - loss: 0.2446 - accuracy: 0.8861 - val_loss: 0.3186 - val_accuracy: 0.8468\n",
            "Epoch 124/200\n",
            "250/250 [==============================] - 1s 3ms/step - loss: 0.2455 - accuracy: 0.8839 - val_loss: 0.3137 - val_accuracy: 0.8558\n",
            "Epoch 125/200\n",
            "250/250 [==============================] - 1s 3ms/step - loss: 0.2444 - accuracy: 0.8849 - val_loss: 0.3147 - val_accuracy: 0.8490\n",
            "Epoch 126/200\n",
            "250/250 [==============================] - 1s 3ms/step - loss: 0.2451 - accuracy: 0.8831 - val_loss: 0.3147 - val_accuracy: 0.8550\n",
            "Epoch 127/200\n",
            "250/250 [==============================] - 1s 3ms/step - loss: 0.2440 - accuracy: 0.8862 - val_loss: 0.3133 - val_accuracy: 0.8515\n",
            "Epoch 128/200\n",
            "250/250 [==============================] - 1s 3ms/step - loss: 0.2445 - accuracy: 0.8839 - val_loss: 0.3142 - val_accuracy: 0.8540\n",
            "Epoch 129/200\n",
            "250/250 [==============================] - 1s 3ms/step - loss: 0.2452 - accuracy: 0.8834 - val_loss: 0.3132 - val_accuracy: 0.8550\n",
            "Epoch 130/200\n",
            "250/250 [==============================] - 1s 3ms/step - loss: 0.2451 - accuracy: 0.8831 - val_loss: 0.3155 - val_accuracy: 0.8558\n",
            "Epoch 131/200\n",
            "250/250 [==============================] - 1s 3ms/step - loss: 0.2448 - accuracy: 0.8854 - val_loss: 0.3142 - val_accuracy: 0.8543\n",
            "Epoch 132/200\n",
            "250/250 [==============================] - 1s 3ms/step - loss: 0.2444 - accuracy: 0.8867 - val_loss: 0.3188 - val_accuracy: 0.8480\n",
            "Epoch 133/200\n",
            "250/250 [==============================] - 1s 3ms/step - loss: 0.2445 - accuracy: 0.8863 - val_loss: 0.3147 - val_accuracy: 0.8530\n",
            "Epoch 134/200\n",
            "250/250 [==============================] - 1s 3ms/step - loss: 0.2443 - accuracy: 0.8849 - val_loss: 0.3176 - val_accuracy: 0.8565\n",
            "Epoch 135/200\n",
            "250/250 [==============================] - 1s 3ms/step - loss: 0.2451 - accuracy: 0.8836 - val_loss: 0.3133 - val_accuracy: 0.8533\n",
            "Epoch 136/200\n",
            "250/250 [==============================] - 1s 3ms/step - loss: 0.2444 - accuracy: 0.8839 - val_loss: 0.3175 - val_accuracy: 0.8503\n",
            "Epoch 137/200\n",
            "250/250 [==============================] - 1s 3ms/step - loss: 0.2445 - accuracy: 0.8848 - val_loss: 0.3156 - val_accuracy: 0.8535\n",
            "Epoch 138/200\n",
            "250/250 [==============================] - 1s 3ms/step - loss: 0.2447 - accuracy: 0.8851 - val_loss: 0.3174 - val_accuracy: 0.8508\n",
            "Epoch 139/200\n",
            "250/250 [==============================] - 1s 3ms/step - loss: 0.2441 - accuracy: 0.8863 - val_loss: 0.3158 - val_accuracy: 0.8528\n",
            "Epoch 140/200\n",
            "250/250 [==============================] - 1s 3ms/step - loss: 0.2434 - accuracy: 0.8854 - val_loss: 0.3139 - val_accuracy: 0.8528\n",
            "Epoch 141/200\n",
            "250/250 [==============================] - 1s 3ms/step - loss: 0.2452 - accuracy: 0.8848 - val_loss: 0.3207 - val_accuracy: 0.8428\n",
            "Epoch 142/200\n",
            "250/250 [==============================] - 1s 3ms/step - loss: 0.2436 - accuracy: 0.8848 - val_loss: 0.3232 - val_accuracy: 0.8415\n",
            "Epoch 143/200\n",
            "250/250 [==============================] - 1s 3ms/step - loss: 0.2446 - accuracy: 0.8852 - val_loss: 0.3219 - val_accuracy: 0.8485\n",
            "Epoch 144/200\n",
            "250/250 [==============================] - 1s 3ms/step - loss: 0.2442 - accuracy: 0.8839 - val_loss: 0.3163 - val_accuracy: 0.8545\n",
            "Epoch 145/200\n",
            "250/250 [==============================] - 1s 3ms/step - loss: 0.2443 - accuracy: 0.8853 - val_loss: 0.3167 - val_accuracy: 0.8510\n",
            "Epoch 146/200\n",
            "250/250 [==============================] - 1s 3ms/step - loss: 0.2439 - accuracy: 0.8853 - val_loss: 0.3228 - val_accuracy: 0.8497\n",
            "Epoch 147/200\n",
            "250/250 [==============================] - 1s 3ms/step - loss: 0.2431 - accuracy: 0.8854 - val_loss: 0.3159 - val_accuracy: 0.8540\n",
            "Epoch 148/200\n",
            "250/250 [==============================] - 1s 3ms/step - loss: 0.2445 - accuracy: 0.8841 - val_loss: 0.3168 - val_accuracy: 0.8540\n",
            "Epoch 149/200\n",
            "250/250 [==============================] - 1s 3ms/step - loss: 0.2439 - accuracy: 0.8853 - val_loss: 0.3179 - val_accuracy: 0.8537\n",
            "Epoch 150/200\n",
            "250/250 [==============================] - 1s 3ms/step - loss: 0.2443 - accuracy: 0.8852 - val_loss: 0.3173 - val_accuracy: 0.8505\n",
            "Epoch 151/200\n",
            "250/250 [==============================] - 1s 3ms/step - loss: 0.2436 - accuracy: 0.8842 - val_loss: 0.3171 - val_accuracy: 0.8522\n",
            "Epoch 152/200\n",
            "250/250 [==============================] - 1s 3ms/step - loss: 0.2442 - accuracy: 0.8848 - val_loss: 0.3239 - val_accuracy: 0.8545\n",
            "Epoch 153/200\n",
            "250/250 [==============================] - 1s 3ms/step - loss: 0.2448 - accuracy: 0.8851 - val_loss: 0.3191 - val_accuracy: 0.8555\n",
            "Epoch 154/200\n",
            "250/250 [==============================] - 1s 3ms/step - loss: 0.2442 - accuracy: 0.8849 - val_loss: 0.3167 - val_accuracy: 0.8508\n",
            "Epoch 155/200\n",
            "250/250 [==============================] - 1s 3ms/step - loss: 0.2435 - accuracy: 0.8836 - val_loss: 0.3179 - val_accuracy: 0.8520\n",
            "Epoch 156/200\n",
            "250/250 [==============================] - 1s 3ms/step - loss: 0.2434 - accuracy: 0.8848 - val_loss: 0.3166 - val_accuracy: 0.8522\n",
            "Epoch 157/200\n",
            "250/250 [==============================] - 1s 3ms/step - loss: 0.2433 - accuracy: 0.8839 - val_loss: 0.3194 - val_accuracy: 0.8505\n",
            "Epoch 158/200\n",
            "250/250 [==============================] - 1s 3ms/step - loss: 0.2445 - accuracy: 0.8849 - val_loss: 0.3316 - val_accuracy: 0.8495\n",
            "Epoch 159/200\n",
            "250/250 [==============================] - 1s 3ms/step - loss: 0.2458 - accuracy: 0.8845 - val_loss: 0.3184 - val_accuracy: 0.8540\n",
            "Epoch 160/200\n",
            "250/250 [==============================] - 1s 3ms/step - loss: 0.2435 - accuracy: 0.8861 - val_loss: 0.3204 - val_accuracy: 0.8500\n",
            "Epoch 161/200\n",
            "250/250 [==============================] - 1s 3ms/step - loss: 0.2443 - accuracy: 0.8841 - val_loss: 0.3236 - val_accuracy: 0.8515\n",
            "Epoch 162/200\n",
            "250/250 [==============================] - 1s 3ms/step - loss: 0.2426 - accuracy: 0.8865 - val_loss: 0.3206 - val_accuracy: 0.8487\n",
            "Epoch 163/200\n",
            "250/250 [==============================] - 1s 3ms/step - loss: 0.2423 - accuracy: 0.8856 - val_loss: 0.3184 - val_accuracy: 0.8537\n",
            "Epoch 164/200\n",
            "250/250 [==============================] - 1s 3ms/step - loss: 0.2433 - accuracy: 0.8861 - val_loss: 0.3211 - val_accuracy: 0.8493\n",
            "Epoch 165/200\n",
            "250/250 [==============================] - 1s 3ms/step - loss: 0.2437 - accuracy: 0.8869 - val_loss: 0.3185 - val_accuracy: 0.8472\n",
            "Epoch 166/200\n",
            "250/250 [==============================] - 1s 3ms/step - loss: 0.2429 - accuracy: 0.8859 - val_loss: 0.3167 - val_accuracy: 0.8510\n",
            "Epoch 167/200\n",
            "250/250 [==============================] - 1s 3ms/step - loss: 0.2432 - accuracy: 0.8855 - val_loss: 0.3188 - val_accuracy: 0.8540\n",
            "Epoch 168/200\n",
            "250/250 [==============================] - 1s 3ms/step - loss: 0.2427 - accuracy: 0.8875 - val_loss: 0.3196 - val_accuracy: 0.8565\n",
            "Epoch 169/200\n",
            "250/250 [==============================] - 1s 3ms/step - loss: 0.2418 - accuracy: 0.8864 - val_loss: 0.3208 - val_accuracy: 0.8468\n",
            "Epoch 170/200\n",
            "250/250 [==============================] - 1s 3ms/step - loss: 0.2427 - accuracy: 0.8854 - val_loss: 0.3190 - val_accuracy: 0.8520\n",
            "Epoch 171/200\n",
            "250/250 [==============================] - 1s 3ms/step - loss: 0.2426 - accuracy: 0.8849 - val_loss: 0.3217 - val_accuracy: 0.8537\n",
            "Epoch 172/200\n",
            "250/250 [==============================] - 1s 3ms/step - loss: 0.2429 - accuracy: 0.8871 - val_loss: 0.3177 - val_accuracy: 0.8515\n",
            "Epoch 173/200\n",
            "250/250 [==============================] - 1s 3ms/step - loss: 0.2433 - accuracy: 0.8865 - val_loss: 0.3230 - val_accuracy: 0.8520\n",
            "Epoch 174/200\n",
            "250/250 [==============================] - 1s 3ms/step - loss: 0.2424 - accuracy: 0.8863 - val_loss: 0.3191 - val_accuracy: 0.8543\n",
            "Epoch 175/200\n",
            "250/250 [==============================] - 1s 3ms/step - loss: 0.2425 - accuracy: 0.8846 - val_loss: 0.3223 - val_accuracy: 0.8533\n",
            "Epoch 176/200\n",
            "250/250 [==============================] - 1s 3ms/step - loss: 0.2428 - accuracy: 0.8866 - val_loss: 0.3181 - val_accuracy: 0.8530\n",
            "Epoch 177/200\n",
            "250/250 [==============================] - 1s 3ms/step - loss: 0.2422 - accuracy: 0.8867 - val_loss: 0.3194 - val_accuracy: 0.8528\n",
            "Epoch 178/200\n",
            "250/250 [==============================] - 1s 3ms/step - loss: 0.2428 - accuracy: 0.8859 - val_loss: 0.3197 - val_accuracy: 0.8528\n",
            "Epoch 179/200\n",
            "250/250 [==============================] - 1s 3ms/step - loss: 0.2423 - accuracy: 0.8864 - val_loss: 0.3209 - val_accuracy: 0.8493\n",
            "Epoch 180/200\n",
            "250/250 [==============================] - 1s 3ms/step - loss: 0.2419 - accuracy: 0.8878 - val_loss: 0.3245 - val_accuracy: 0.8487\n",
            "Epoch 181/200\n",
            "250/250 [==============================] - 1s 3ms/step - loss: 0.2425 - accuracy: 0.8860 - val_loss: 0.3248 - val_accuracy: 0.8487\n",
            "Epoch 182/200\n",
            "250/250 [==============================] - 1s 3ms/step - loss: 0.2415 - accuracy: 0.8861 - val_loss: 0.3210 - val_accuracy: 0.8528\n",
            "Epoch 183/200\n",
            "250/250 [==============================] - 1s 3ms/step - loss: 0.2423 - accuracy: 0.8852 - val_loss: 0.3272 - val_accuracy: 0.8413\n",
            "Epoch 184/200\n",
            "250/250 [==============================] - 1s 3ms/step - loss: 0.2418 - accuracy: 0.8851 - val_loss: 0.3200 - val_accuracy: 0.8515\n",
            "Epoch 185/200\n",
            "250/250 [==============================] - 1s 3ms/step - loss: 0.2417 - accuracy: 0.8869 - val_loss: 0.3231 - val_accuracy: 0.8522\n",
            "Epoch 186/200\n",
            "250/250 [==============================] - 1s 3ms/step - loss: 0.2428 - accuracy: 0.8869 - val_loss: 0.3196 - val_accuracy: 0.8508\n",
            "Epoch 187/200\n",
            "250/250 [==============================] - 1s 3ms/step - loss: 0.2420 - accuracy: 0.8867 - val_loss: 0.3217 - val_accuracy: 0.8508\n",
            "Epoch 188/200\n",
            "250/250 [==============================] - 1s 3ms/step - loss: 0.2428 - accuracy: 0.8868 - val_loss: 0.3206 - val_accuracy: 0.8505\n",
            "Epoch 189/200\n",
            "250/250 [==============================] - 1s 3ms/step - loss: 0.2429 - accuracy: 0.8848 - val_loss: 0.3210 - val_accuracy: 0.8500\n",
            "Epoch 190/200\n",
            "250/250 [==============================] - 1s 3ms/step - loss: 0.2414 - accuracy: 0.8863 - val_loss: 0.3238 - val_accuracy: 0.8495\n",
            "Epoch 191/200\n",
            "250/250 [==============================] - 1s 3ms/step - loss: 0.2439 - accuracy: 0.8846 - val_loss: 0.3236 - val_accuracy: 0.8487\n",
            "Epoch 192/200\n",
            "250/250 [==============================] - 1s 3ms/step - loss: 0.2419 - accuracy: 0.8857 - val_loss: 0.3330 - val_accuracy: 0.8335\n",
            "Epoch 193/200\n",
            "250/250 [==============================] - 1s 3ms/step - loss: 0.2422 - accuracy: 0.8866 - val_loss: 0.3208 - val_accuracy: 0.8543\n",
            "Epoch 194/200\n",
            "250/250 [==============================] - 1s 3ms/step - loss: 0.2429 - accuracy: 0.8867 - val_loss: 0.3220 - val_accuracy: 0.8528\n",
            "Epoch 195/200\n",
            "250/250 [==============================] - 1s 3ms/step - loss: 0.2419 - accuracy: 0.8862 - val_loss: 0.3218 - val_accuracy: 0.8515\n",
            "Epoch 196/200\n",
            "250/250 [==============================] - 1s 3ms/step - loss: 0.2418 - accuracy: 0.8886 - val_loss: 0.3217 - val_accuracy: 0.8525\n",
            "Epoch 197/200\n",
            "250/250 [==============================] - 1s 3ms/step - loss: 0.2432 - accuracy: 0.8884 - val_loss: 0.3222 - val_accuracy: 0.8533\n",
            "Epoch 198/200\n",
            "250/250 [==============================] - 1s 3ms/step - loss: 0.2417 - accuracy: 0.8838 - val_loss: 0.3302 - val_accuracy: 0.8533\n",
            "Epoch 199/200\n",
            "250/250 [==============================] - 1s 3ms/step - loss: 0.2416 - accuracy: 0.8861 - val_loss: 0.3230 - val_accuracy: 0.8482\n",
            "Epoch 200/200\n",
            "250/250 [==============================] - 1s 3ms/step - loss: 0.2426 - accuracy: 0.8855 - val_loss: 0.3239 - val_accuracy: 0.8520\n"
          ]
        }
      ]
    },
    {
      "cell_type": "code",
      "source": [
        "numberOfEpochs = 200\n",
        "plt.plot(np.arange(0, numberOfEpochs), history.history['accuracy'], label='train_accuracy')\n",
        "plt.plot(np.arange(0, numberOfEpochs), history.history['val_accuracy'], label='val_accuracy')\n",
        "plt.plot(np.arange(0, numberOfEpochs), history.history['loss'], label='train_loss')\n",
        "plt.plot(np.arange(0, numberOfEpochs), history.history['val_loss'], label='val_loss')\n",
        "plt.title('Accuracy vs loss')\n",
        "plt.xlabel('Epoch')\n",
        "plt.ylabel('Accuracy|loss')\n",
        "plt.legend()"
      ],
      "metadata": {
        "colab": {
          "base_uri": "https://localhost:8080/",
          "height": 312
        },
        "id": "1uJRYhluh2jF",
        "outputId": "a160444e-ea4d-451e-fbf5-aefb123c4ebf"
      },
      "execution_count": null,
      "outputs": [
        {
          "output_type": "execute_result",
          "data": {
            "text/plain": [
              "<matplotlib.legend.Legend at 0x7f0cdcfb2c50>"
            ]
          },
          "metadata": {},
          "execution_count": 78
        },
        {
          "output_type": "display_data",
          "data": {
            "image/png": "[encoded data removed]",
            "text/plain": [
              "<Figure size 432x288 with 1 Axes>"
            ]
          },
          "metadata": {
            "needs_background": "light"
          }
        }
      ]
    },
    {
      "cell_type": "code",
      "source": [
        "model.evaluate(X_test, y_test)"
      ],
      "metadata": {
        "colab": {
          "base_uri": "https://localhost:8080/"
        },
        "id": "oorQUbGKkH8f",
        "outputId": "81d8a659-5190-45bc-8abb-1881631789b3"
      },
      "execution_count": null,
      "outputs": [
        {
          "output_type": "stream",
          "name": "stdout",
          "text": [
            "157/157 [==============================] - 1s 3ms/step - loss: 0.3925 - accuracy: 0.8424\n"
          ]
        },
        {
          "output_type": "execute_result",
          "data": {
            "text/plain": [
              "[0.392521470785141, 0.8424000144004822]"
            ]
          },
          "metadata": {},
          "execution_count": 79
        }
      ]
    },
    {
      "cell_type": "code",
      "source": [
        "model.save('model.hdf5')"
      ],
      "metadata": {
        "id": "h3qjvcJho_l2"
      },
      "execution_count": null,
      "outputs": []
    }
  ]
}