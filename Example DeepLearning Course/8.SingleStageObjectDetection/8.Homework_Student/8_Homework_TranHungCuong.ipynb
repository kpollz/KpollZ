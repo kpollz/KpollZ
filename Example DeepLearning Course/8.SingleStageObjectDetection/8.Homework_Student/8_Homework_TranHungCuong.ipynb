{
  "nbformat": 4,
  "nbformat_minor": 0,
  "metadata": {
    "colab": {
      "name": "8.Homework_TranHungCuong.ipynb",
      "provenance": [],
      "collapsed_sections": [],
      "toc_visible": true
    },
    "kernelspec": {
      "name": "python3",
      "display_name": "Python 3"
    },
    "language_info": {
      "name": "python"
    },
    "widgets": {
      "application/vnd.jupyter.widget-state+json": {
        "e199c0873d4d4d889602dd5de6ca8bcf": {
          "model_module": "@jupyter-widgets/controls",
          "model_name": "HBoxModel",
          "model_module_version": "1.5.0",
          "state": {
            "_dom_classes": [],
            "_model_module": "@jupyter-widgets/controls",
            "_model_module_version": "1.5.0",
            "_model_name": "HBoxModel",
            "_view_count": null,
            "_view_module": "@jupyter-widgets/controls",
            "_view_module_version": "1.5.0",
            "_view_name": "HBoxView",
            "box_style": "",
            "children": [
              "IPY_MODEL_431db82f84054c4cbce4e627f9dac823",
              "IPY_MODEL_0b7f39de50ec43428e87df128ec800b9",
              "IPY_MODEL_4b87b50c16d64739bc8b1fe568eaf09b"
            ],
            "layout": "IPY_MODEL_2472e7101095469fb9485886d7175e49"
          }
        },
        "431db82f84054c4cbce4e627f9dac823": {
          "model_module": "@jupyter-widgets/controls",
          "model_name": "HTMLModel",
          "model_module_version": "1.5.0",
          "state": {
            "_dom_classes": [],
            "_model_module": "@jupyter-widgets/controls",
            "_model_module_version": "1.5.0",
            "_model_name": "HTMLModel",
            "_view_count": null,
            "_view_module": "@jupyter-widgets/controls",
            "_view_module_version": "1.5.0",
            "_view_name": "HTMLView",
            "description": "",
            "description_tooltip": null,
            "layout": "IPY_MODEL_015756961030405ab6565322af125a36",
            "placeholder": "​",
            "style": "IPY_MODEL_8cbb3aeea89242efa55ca1b65e76b488",
            "value": "100%"
          }
        },
        "0b7f39de50ec43428e87df128ec800b9": {
          "model_module": "@jupyter-widgets/controls",
          "model_name": "FloatProgressModel",
          "model_module_version": "1.5.0",
          "state": {
            "_dom_classes": [],
            "_model_module": "@jupyter-widgets/controls",
            "_model_module_version": "1.5.0",
            "_model_name": "FloatProgressModel",
            "_view_count": null,
            "_view_module": "@jupyter-widgets/controls",
            "_view_module_version": "1.5.0",
            "_view_name": "ProgressView",
            "bar_style": "success",
            "description": "",
            "description_tooltip": null,
            "layout": "IPY_MODEL_2447d9791a83401ca6aa1dcf18a94bce",
            "max": 3373,
            "min": 0,
            "orientation": "horizontal",
            "style": "IPY_MODEL_74e8a436e3564ac9bdb0ef0d706c0060",
            "value": 3373
          }
        },
        "4b87b50c16d64739bc8b1fe568eaf09b": {
          "model_module": "@jupyter-widgets/controls",
          "model_name": "HTMLModel",
          "model_module_version": "1.5.0",
          "state": {
            "_dom_classes": [],
            "_model_module": "@jupyter-widgets/controls",
            "_model_module_version": "1.5.0",
            "_model_name": "HTMLModel",
            "_view_count": null,
            "_view_module": "@jupyter-widgets/controls",
            "_view_module_version": "1.5.0",
            "_view_name": "HTMLView",
            "description": "",
            "description_tooltip": null,
            "layout": "IPY_MODEL_c06e91c3335b4dd19dbe0e8c422696bb",
            "placeholder": "​",
            "style": "IPY_MODEL_a921a8eb4e39436094710481da7b21f6",
            "value": " 3373/3373 [01:18&lt;00:00, 42.33it/s]"
          }
        },
        "2472e7101095469fb9485886d7175e49": {
          "model_module": "@jupyter-widgets/base",
          "model_name": "LayoutModel",
          "model_module_version": "1.2.0",
          "state": {
            "_model_module": "@jupyter-widgets/base",
            "_model_module_version": "1.2.0",
            "_model_name": "LayoutModel",
            "_view_count": null,
            "_view_module": "@jupyter-widgets/base",
            "_view_module_version": "1.2.0",
            "_view_name": "LayoutView",
            "align_content": null,
            "align_items": null,
            "align_self": null,
            "border": null,
            "bottom": null,
            "display": null,
            "flex": null,
            "flex_flow": null,
            "grid_area": null,
            "grid_auto_columns": null,
            "grid_auto_flow": null,
            "grid_auto_rows": null,
            "grid_column": null,
            "grid_gap": null,
            "grid_row": null,
            "grid_template_areas": null,
            "grid_template_columns": null,
            "grid_template_rows": null,
            "height": null,
            "justify_content": null,
            "justify_items": null,
            "left": null,
            "margin": null,
            "max_height": null,
            "max_width": null,
            "min_height": null,
            "min_width": null,
            "object_fit": null,
            "object_position": null,
            "order": null,
            "overflow": null,
            "overflow_x": null,
            "overflow_y": null,
            "padding": null,
            "right": null,
            "top": null,
            "visibility": null,
            "width": null
          }
        },
        "015756961030405ab6565322af125a36": {
          "model_module": "@jupyter-widgets/base",
          "model_name": "LayoutModel",
          "model_module_version": "1.2.0",
          "state": {
            "_model_module": "@jupyter-widgets/base",
            "_model_module_version": "1.2.0",
            "_model_name": "LayoutModel",
            "_view_count": null,
            "_view_module": "@jupyter-widgets/base",
            "_view_module_version": "1.2.0",
            "_view_name": "LayoutView",
            "align_content": null,
            "align_items": null,
            "align_self": null,
            "border": null,
            "bottom": null,
            "display": null,
            "flex": null,
            "flex_flow": null,
            "grid_area": null,
            "grid_auto_columns": null,
            "grid_auto_flow": null,
            "grid_auto_rows": null,
            "grid_column": null,
            "grid_gap": null,
            "grid_row": null,
            "grid_template_areas": null,
            "grid_template_columns": null,
            "grid_template_rows": null,
            "height": null,
            "justify_content": null,
            "justify_items": null,
            "left": null,
            "margin": null,
            "max_height": null,
            "max_width": null,
            "min_height": null,
            "min_width": null,
            "object_fit": null,
            "object_position": null,
            "order": null,
            "overflow": null,
            "overflow_x": null,
            "overflow_y": null,
            "padding": null,
            "right": null,
            "top": null,
            "visibility": null,
            "width": null
          }
        },
        "8cbb3aeea89242efa55ca1b65e76b488": {
          "model_module": "@jupyter-widgets/controls",
          "model_name": "DescriptionStyleModel",
          "model_module_version": "1.5.0",
          "state": {
            "_model_module": "@jupyter-widgets/controls",
            "_model_module_version": "1.5.0",
            "_model_name": "DescriptionStyleModel",
            "_view_count": null,
            "_view_module": "@jupyter-widgets/base",
            "_view_module_version": "1.2.0",
            "_view_name": "StyleView",
            "description_width": ""
          }
        },
        "2447d9791a83401ca6aa1dcf18a94bce": {
          "model_module": "@jupyter-widgets/base",
          "model_name": "LayoutModel",
          "model_module_version": "1.2.0",
          "state": {
            "_model_module": "@jupyter-widgets/base",
            "_model_module_version": "1.2.0",
            "_model_name": "LayoutModel",
            "_view_count": null,
            "_view_module": "@jupyter-widgets/base",
            "_view_module_version": "1.2.0",
            "_view_name": "LayoutView",
            "align_content": null,
            "align_items": null,
            "align_self": null,
            "border": null,
            "bottom": null,
            "display": null,
            "flex": null,
            "flex_flow": null,
            "grid_area": null,
            "grid_auto_columns": null,
            "grid_auto_flow": null,
            "grid_auto_rows": null,
            "grid_column": null,
            "grid_gap": null,
            "grid_row": null,
            "grid_template_areas": null,
            "grid_template_columns": null,
            "grid_template_rows": null,
            "height": null,
            "justify_content": null,
            "justify_items": null,
            "left": null,
            "margin": null,
            "max_height": null,
            "max_width": null,
            "min_height": null,
            "min_width": null,
            "object_fit": null,
            "object_position": null,
            "order": null,
            "overflow": null,
            "overflow_x": null,
            "overflow_y": null,
            "padding": null,
            "right": null,
            "top": null,
            "visibility": null,
            "width": null
          }
        },
        "74e8a436e3564ac9bdb0ef0d706c0060": {
          "model_module": "@jupyter-widgets/controls",
          "model_name": "ProgressStyleModel",
          "model_module_version": "1.5.0",
          "state": {
            "_model_module": "@jupyter-widgets/controls",
            "_model_module_version": "1.5.0",
            "_model_name": "ProgressStyleModel",
            "_view_count": null,
            "_view_module": "@jupyter-widgets/base",
            "_view_module_version": "1.2.0",
            "_view_name": "StyleView",
            "bar_color": null,
            "description_width": ""
          }
        },
        "c06e91c3335b4dd19dbe0e8c422696bb": {
          "model_module": "@jupyter-widgets/base",
          "model_name": "LayoutModel",
          "model_module_version": "1.2.0",
          "state": {
            "_model_module": "@jupyter-widgets/base",
            "_model_module_version": "1.2.0",
            "_model_name": "LayoutModel",
            "_view_count": null,
            "_view_module": "@jupyter-widgets/base",
            "_view_module_version": "1.2.0",
            "_view_name": "LayoutView",
            "align_content": null,
            "align_items": null,
            "align_self": null,
            "border": null,
            "bottom": null,
            "display": null,
            "flex": null,
            "flex_flow": null,
            "grid_area": null,
            "grid_auto_columns": null,
            "grid_auto_flow": null,
            "grid_auto_rows": null,
            "grid_column": null,
            "grid_gap": null,
            "grid_row": null,
            "grid_template_areas": null,
            "grid_template_columns": null,
            "grid_template_rows": null,
            "height": null,
            "justify_content": null,
            "justify_items": null,
            "left": null,
            "margin": null,
            "max_height": null,
            "max_width": null,
            "min_height": null,
            "min_width": null,
            "object_fit": null,
            "object_position": null,
            "order": null,
            "overflow": null,
            "overflow_x": null,
            "overflow_y": null,
            "padding": null,
            "right": null,
            "top": null,
            "visibility": null,
            "width": null
          }
        },
        "a921a8eb4e39436094710481da7b21f6": {
          "model_module": "@jupyter-widgets/controls",
          "model_name": "DescriptionStyleModel",
          "model_module_version": "1.5.0",
          "state": {
            "_model_module": "@jupyter-widgets/controls",
            "_model_module_version": "1.5.0",
            "_model_name": "DescriptionStyleModel",
            "_view_count": null,
            "_view_module": "@jupyter-widgets/base",
            "_view_module_version": "1.2.0",
            "_view_name": "StyleView",
            "description_width": ""
          }
        }
      }
    }
  },
  "cells": [
    {
      "cell_type": "markdown",
      "source": [
        "# I. Lý thuyết"
      ],
      "metadata": {
        "id": "EVB84KrY06Iy"
      }
    },
    {
      "cell_type": "markdown",
      "source": [
        "1) Trong thuật toán YOLO thì biến mục tiêu bao gồm những thành phần nào ?\n",
        "\n",
        "**A. Điểm xác suất tồn tại object, bounding box, phân phối xác suất classes. Trường hợp không tồn tại object thì các thành phần khác bỏ trống.**\n",
        "\n",
        "B. Điểm xác suất tồn tại object, bounding box, phân phối xác suất classes.\n",
        "\n",
        "C. Điểm IoU, bounding box, phân phối xác suất classes.\n",
        "\n",
        "D. Bounding box và phân phối xác suất classes.\n",
        "\n",
        "2) Điều gì khiến cho việc dự báo bounding box trong YOLOv2 ổn định hơn so với trước đó?\n",
        "Bạn có thể tham khảo thêm tổng hợp các cải tiến của [YOLOv2](https://www.geeksforgeeks.org/yolo-v2-object-detection/)\n",
        "\n",
        "A. Điểm số confidence score của mỗi bounding box được nhân thêm với IoU(prediction, ground truth).\n",
        "\n",
        "**B. Coordinator gốc (x, y ,w, h)  được chuyển sang các tham số transformed tương ứng là (tx, ty, tw, th) theo hàm sigmoid và exponential nên ổn định hơn.** \n",
        "\n",
        "C. YOLOv2 được huấn luyện trên nhiều epoches hơn.\n",
        "\n",
        "D. Hàm Non Max Suppression trong Post-Processing của YOLOv2 được cải tiến.\n",
        " \n",
        "3) Ý tưởng chính của các thuật toán Keypoint Object Detection là gì?\n",
        "\n",
        "A. Dựa trên các Anchor Box được phân về mỗi một vật thể để hồi qui ra Prediction Box.\n",
        "\n",
        "B. Tìm ra các vùng Region Proposal tiềm năng chứa vật thể, crop và resize chúng và áp dụng bài toán classification trên mạng CNN để phát hiện vật thể.\n",
        "\n",
        "**C. Sử dụng bản đồ heatmap để tìm ra các keypoints mà những keypoints này giúp định hình bounding boxes.**\n",
        "\n",
        "D. Tập bounding boxes dự báo được ghép cặp 1:1 với ground truth boxes (đã được padding bằng phần tử rỗng để cùng số lượng).\n",
        "\n",
        "4) Trong thuật toán CenterNet, khi nào chúng ta sẽ loại bỏ một Bounding box dự báo ?\n",
        "\n",
        "A. Khi điểm xác suất của ba điểm Top-left, Center, Bottom-down quá chênh lệch.\n",
        "\n",
        "B. Khi Bounding box có IoU so với Ground Truth box thấp hơn một ngưỡng xác định.\n",
        "\n",
        "C. Khi Bounding box có kích thước quá nhỏ hoặc quá lớn.\n",
        "\n",
        "**D. Khi điểm center point nằm bên ngoài vùng central region là một ô vuông trung tâm được xác định bởi hai điểm Top-left và Bottom-down.**\n",
        "\n",
        "5) Để ghép cặp các điểm Top-left và Bottom-down về cùng một Object trong thuật toán CenterNet chúng ta sẽ tìm ra biểu diễn Embedding vector để so khớp chúng. Những biểu diễn này được huấn luyện trên hàm Loss function như thế nào ?\n",
        "\n",
        "**A. Một hàm loss distance để đẩy hai điểm cách xa nếu khác object và hàm loss similarity để kéo hai kiểm lại gần nếu cùng object.**\n",
        "\n",
        "B. Một hàm loss distance để đẩy hai điểm cách xa nếu cùng object và hàm loss similarity để kéo hai kiểm lại gần nếu khác object.\n",
        "\n",
        "C. Một hàm loss similarity để đẩy hai điểm cách xa nếu cùng object và hàm loss distance để kéo hai kiểm lại gần nếu khác object.\n",
        "\n",
        "D. Một hàm loss similarity để đẩy hai điểm cách xa nếu khác object và hàm loss distance để kéo hai kiểm lại gần nếu cùng object.\n",
        "\n",
        "6) Thuật toán DETR (detection with transformers) có gì nổi bật ?\n",
        "\n",
        "A. Thuật toán cần sử dụng ít anchor boxes hơn.\n",
        "\n",
        "B. Lần đầu sử dụng kiến trúc Transformers Encoder Decoder để dự báo một set predictions và sử dụng phương pháp Hungarian Optimization để matching và huấn luyện bounding boxes.\n",
        "\n",
        "C. Thuật toán cần sử dụng tới post processing là Non-Max-Suppression.\n",
        "\n",
        "D. Thuật toán hoàn toàn không sử dụng tới CNN."
      ],
      "metadata": {
        "id": "M2Eg7BRXPtlv"
      }
    },
    {
      "cell_type": "markdown",
      "source": [
        "#6B"
      ],
      "metadata": {
        "id": "ce9kcL4Fp502"
      }
    },
    {
      "cell_type": "markdown",
      "source": [
        "# II. Thực hành"
      ],
      "metadata": {
        "id": "lE1no0ze01ZW"
      }
    },
    {
      "cell_type": "markdown",
      "source": [
        "[Global Wheat Detection](https://www.kaggle.com/c/global-wheat-detection) là cuộc thi object detection trong nông nghiệp nhằm phát hiện đối tượng là các đầu bông lúa từ ảnh đầu vào của các giống lúa, điều kiện trưởng thành, màu sắc, hướng đầu, điều kiện thời tiết và sinh trưởng. Bạn được cung cấp hơn 3000 ảnh huấn luyện có nhãn từ Châu Âu, Canada và testing trên 1000 ảnh từ Úc, Nhật và Trung Quốc.\n",
        "\n",
        "Hãy thực hành huấn luyện lại các thuật toán cho cuộc thi này bao gồm:\n",
        "\n",
        "7) YOLO\n",
        "\n"
      ],
      "metadata": {
        "id": "S7QBvWG20zOC"
      }
    },
    {
      "cell_type": "code",
      "source": [
        "!pip install colorama"
      ],
      "metadata": {
        "colab": {
          "base_uri": "https://localhost:8080/"
        },
        "id": "dgztpYa_oeRl",
        "outputId": "8c82cf30-492c-48a8-8dee-19751d03bb33"
      },
      "execution_count": null,
      "outputs": [
        {
          "output_type": "stream",
          "name": "stdout",
          "text": [
            "Requirement already satisfied: colorama in /usr/local/lib/python3.7/dist-packages (0.4.4)\n"
          ]
        }
      ]
    },
    {
      "cell_type": "code",
      "source": [
        "!pip install -upgrade pip\n",
        "!pip install markdown\n",
        "!pip install -upgrade numpy\n",
        "!pip install pandas"
      ],
      "metadata": {
        "id": "3POZjELv-RuY"
      },
      "execution_count": null,
      "outputs": []
    },
    {
      "cell_type": "code",
      "source": [
        "pip install pandas"
      ],
      "metadata": {
        "colab": {
          "base_uri": "https://localhost:8080/",
          "height": 401
        },
        "id": "l4suGMe2-GE1",
        "outputId": "717dd119-3421-4664-fb01-23267710cc09"
      },
      "execution_count": null,
      "outputs": [
        {
          "output_type": "stream",
          "name": "stdout",
          "text": [
            "Requirement already satisfied: pandas in /usr/local/lib/python3.7/dist-packages (1.3.5)\n",
            "Collecting numpy>=1.17.3\n",
            "  Using cached numpy-1.21.5-cp37-cp37m-manylinux_2_12_x86_64.manylinux2010_x86_64.whl (15.7 MB)\n",
            "Requirement already satisfied: python-dateutil>=2.7.3 in /usr/local/lib/python3.7/dist-packages (from pandas) (2.8.2)\n",
            "Requirement already satisfied: pytz>=2017.3 in /usr/local/lib/python3.7/dist-packages (from pandas) (2018.9)\n",
            "Requirement already satisfied: six>=1.5 in /usr/local/lib/python3.7/dist-packages (from python-dateutil>=2.7.3->pandas) (1.15.0)\n",
            "Installing collected packages: numpy\n",
            "  Attempting uninstall: numpy\n",
            "    Found existing installation: numpy 1.17.0\n",
            "    Uninstalling numpy-1.17.0:\n",
            "      Successfully uninstalled numpy-1.17.0\n",
            "\u001b[31mERROR: pip's dependency resolver does not currently take into account all the packages that are installed. This behaviour is the source of the following dependency conflicts.\n",
            "tensorflow 2.8.0 requires tf-estimator-nightly==2.8.0.dev2021122109, which is not installed.\n",
            "datascience 0.10.6 requires folium==0.2.1, but you have folium 0.8.3 which is incompatible.\n",
            "albumentations 0.1.12 requires imgaug<0.2.7,>=0.2.5, but you have imgaug 0.2.9 which is incompatible.\u001b[0m\n",
            "Successfully installed numpy-1.21.5\n"
          ]
        },
        {
          "output_type": "display_data",
          "data": {
            "application/vnd.colab-display-data+json": {
              "pip_warning": {
                "packages": [
                  "numpy"
                ]
              }
            }
          },
          "metadata": {}
        }
      ]
    },
    {
      "cell_type": "code",
      "source": [
        "# Standard imports\n",
        "import os\n",
        "import pandas as pd\n",
        "import numpy as np\n",
        "import plotly.express as px\n",
        "import plotly.graph_objs as go\n",
        "from plotly.subplots import make_subplots\n",
        "import matplotlib.pyplot as plt\n",
        "import plotly.figure_factory as ff\n",
        "from skimage import io\n",
        "import ast\n",
        "\n",
        "import seaborn as sns\n",
        "from tqdm import trange, tqdm\n",
        "from colorama import Fore\n",
        "from glob import glob\n",
        "import json\n",
        "from pprint import pprint\n",
        "import time\n",
        "import cv2\n",
        "from enum import Enum\n",
        "from IPython.display import display, HTML\n",
        "from pandas_profiling import ProfileReport\n",
        "import random\n",
        "import inspect\n",
        "\n",
        "# For Data preparation\n",
        "from sklearn.preprocessing import *\n",
        "from sklearn.model_selection import *\n",
        "from sklearn.metrics import *"
      ],
      "metadata": {
        "id": "YAPZGWGNn-2F"
      },
      "execution_count": null,
      "outputs": []
    },
    {
      "cell_type": "code",
      "source": [
        "from google.colab import drive\n",
        "import os\n",
        "drive.mount(\"/content/drive\")\n",
        "folder_path = \"/content/drive/MyDrive/DLK1/WheatData/\"\n",
        "os.chdir(folder_path)"
      ],
      "metadata": {
        "colab": {
          "base_uri": "https://localhost:8080/"
        },
        "id": "RNG1yPJ0owdU",
        "outputId": "590300d2-c20e-46d6-e1fc-ae10a11b2996"
      },
      "execution_count": null,
      "outputs": [
        {
          "output_type": "stream",
          "name": "stdout",
          "text": [
            "Drive already mounted at /content/drive; to attempt to forcibly remount, call drive.mount(\"/content/drive\", force_remount=True).\n"
          ]
        }
      ]
    },
    {
      "cell_type": "code",
      "source": [
        "class Config(Enum):\n",
        "    '''\n",
        "    It basically contains all the path location and other stuffs\n",
        "    '''\n",
        "\n",
        "    def __str__(self):\n",
        "        return self.value\n",
        "\n",
        "    TRAIN_CSV = \"train.csv\"\n",
        "    TEST_CSV = \"sample_submission.csv\"\n",
        "    TRAIN_DIR = \"train\"\n",
        "    TEST_DIR = \"test\"\n",
        "    OUTPUT_PATH = \"yolov5/output\"\n",
        "    IMG_SHAPE = 1024\n",
        "    CONFIG_FILENAME = \"ws_data\"\n",
        "    EPOCHS = 20\n",
        "    BATCH_SIZE = 8"
      ],
      "metadata": {
        "id": "mvAuD9WVopwM"
      },
      "execution_count": null,
      "outputs": []
    },
    {
      "cell_type": "code",
      "source": [
        "def process_data(data_df: \"pandas dataFrame\", image_id_col: str, bbox_col: str, label_col: str, path_col: str, config_filename = \"data\", test_size = 0.1):\n",
        "    \"\"\"\n",
        "    Helper function to build dataset for yolo training\n",
        "        > Yolo expects the data in the form: (label, x_center, y_center, Width,  Height)\n",
        "        > return df_train, df_val\n",
        "\n",
        "    \"\"\"\n",
        "    os.system(\"git clone https://github.com/ultralytics/yolov5.git\")\n",
        "    OUTPUT_FOLDER_NAME = Config.OUTPUT_PATH.value.split(\"/\")[-1]\n",
        "    if not os.path.exists(Config.OUTPUT_PATH.value):\n",
        "        os.system(\n",
        "            f'''\n",
        "                cd ./yolov5\n",
        "                mkdir {OUTPUT_FOLDER_NAME} \n",
        "                cd {OUTPUT_FOLDER_NAME}\n",
        "                mkdir images\n",
        "                mkdir labels\n",
        "                cd images\n",
        "                mkdir train\n",
        "                mkdir validation\n",
        "                cd ..\n",
        "                cd labels\n",
        "                mkdir train\n",
        "                mkdir validation\n",
        "                cd ../../\n",
        "                tree {OUTPUT_FOLDER_NAME}\n",
        "                cd ../\n",
        "            ''')\n",
        "\n",
        "    # For converting string form of list to original form\n",
        "    data_df.bbox = data_df.bbox.apply(ast.literal_eval)\n",
        "    \n",
        "    # Encoding all labels\n",
        "    mapper = {k: d for d, k in enumerate(set(data_df[label_col]))}\n",
        "    data_df[label_col] = data_df[label_col].apply(lambda x: int(mapper[x]))\n",
        "    \n",
        "    # Grouping the bounding boxes wrt image_id, label_col and path_col\n",
        "    data_df = data_df.groupby(by = [image_id_col, label_col, path_col])[bbox_col].apply(list).reset_index(name = bbox_col)\n",
        "    \n",
        "    # Dividing the data into train and val set\n",
        "    df_train, df_val = train_test_split(data_df,\n",
        "                                      test_size = test_size,\n",
        "                                      random_state = 42, \n",
        "                                      shuffle = 1\n",
        "                                     )\n",
        "    df_train = df_train.reset_index(drop = 1)\n",
        "    df_val = df_val.reset_index(drop = 1)\n",
        "    \n",
        "    print(f\"[INFO] Train_SHAPE : {df_train.shape}, VAL_SHAPE: {df_val.shape}\")\n",
        "    \n",
        "    data_dict = {\"train\" : df_train, \"validation\" : df_val}\n",
        "    for data_type, data in data_dict.items():\n",
        "        for idx in trange(len(data), desc=f\"Processing {data_type}...\", bar_format=\"{l_bar}%s{bar:50}%s{r_bar}\" % (Fore.CYAN, Fore.RESET), position=0, leave=True):\n",
        "            row = data.loc[idx]\n",
        "            image_name = row[image_id_col]\n",
        "            bounding_boxes = row[bbox_col]\n",
        "            label = row[label_col]\n",
        "            path = row[path_col]\n",
        "            yolo_data = []\n",
        "            for bbox in bounding_boxes:\n",
        "                x = bbox[0]\n",
        "                y = bbox[1]\n",
        "                w = bbox[2]\n",
        "                h = bbox[3]\n",
        "\n",
        "                x_center = x + w/2\n",
        "                y_center = y + h/2\n",
        "\n",
        "                x_center, y_center, w, h = tuple(map(lambda x: x/Config.IMG_SHAPE.value, (x_center, y_center, w, h)))\n",
        "                yolo_data.append([label, x_center, y_center, w, h])\n",
        "            \n",
        "            yolo_data = np.array(yolo_data)\n",
        "            np.savetxt(\n",
        "                f\"{Config.OUTPUT_PATH.value}/labels/{data_type}/{image_name}.txt\",\n",
        "                yolo_data,\n",
        "                fmt = [\"%d\", \"%f\", \"%f\", \"%f\", \"%f\"]\n",
        "            )\n",
        "\n",
        "            os.system(\n",
        "                f\"\"\"\n",
        "                cp {path} {Config.OUTPUT_PATH.value}/images/{data_type}/{path.split(\"/\")[-1]}\n",
        "\n",
        "                \"\"\"\n",
        "            )\n",
        "    \n",
        "    with open(f\"./yolov5/{config_filename}.yaml\", \"w+\") as file_:\n",
        "        file_.write(\n",
        "            f\"\"\"\n",
        "            \n",
        "            train: {OUTPUT_FOLDER_NAME}/images/train\n",
        "            val: {OUTPUT_FOLDER_NAME}/images/validation\n",
        "            nc: {len(mapper)}\n",
        "            names: {list(mapper.keys())}\n",
        "            \n",
        "            \"\"\"\n",
        "        )\n",
        "    file_.close()\n",
        "    print(\"[INFO] Done with data processing\")   "
      ],
      "metadata": {
        "id": "qbe3RRmepmqk"
      },
      "execution_count": null,
      "outputs": []
    },
    {
      "cell_type": "code",
      "source": [
        "data_df = pd.read_csv(Config.TRAIN_CSV.value)\n",
        "test_df = pd.read_csv(Config.TEST_CSV.value)\n",
        "\n",
        "data_df[\"path\"] = data_df.image_id.apply(lambda x: f\"{Config.TRAIN_DIR.value}/{x}.jpg\")\n",
        "test_df[\"path\"] = test_df.image_id.apply(lambda x: f\"{Config.TEST_DIR.value}/{x}.jpg\")\n",
        "data_df[\"label\"] = [\"Wheat\"]*len(data_df)\n",
        "\n",
        "print(data_df.dtypes)\n",
        "data_df.head()"
      ],
      "metadata": {
        "colab": {
          "base_uri": "https://localhost:8080/",
          "height": 345
        },
        "id": "-19R-TLDqETX",
        "outputId": "37d0edf8-02b1-4e67-ec56-865292375b74"
      },
      "execution_count": null,
      "outputs": [
        {
          "output_type": "stream",
          "name": "stdout",
          "text": [
            "image_id    object\n",
            "width        int64\n",
            "height       int64\n",
            "bbox        object\n",
            "source      object\n",
            "path        object\n",
            "label       object\n",
            "dtype: object\n"
          ]
        },
        {
          "output_type": "execute_result",
          "data": {
            "text/plain": [
              "    image_id  width  height                         bbox   source  \\\n",
              "0  b6ab77fd7   1024    1024   [834.0, 222.0, 56.0, 36.0]  usask_1   \n",
              "1  b6ab77fd7   1024    1024  [226.0, 548.0, 130.0, 58.0]  usask_1   \n",
              "2  b6ab77fd7   1024    1024  [377.0, 504.0, 74.0, 160.0]  usask_1   \n",
              "3  b6ab77fd7   1024    1024  [834.0, 95.0, 109.0, 107.0]  usask_1   \n",
              "4  b6ab77fd7   1024    1024  [26.0, 144.0, 124.0, 117.0]  usask_1   \n",
              "\n",
              "                  path  label  \n",
              "0  train/b6ab77fd7.jpg  Wheat  \n",
              "1  train/b6ab77fd7.jpg  Wheat  \n",
              "2  train/b6ab77fd7.jpg  Wheat  \n",
              "3  train/b6ab77fd7.jpg  Wheat  \n",
              "4  train/b6ab77fd7.jpg  Wheat  "
            ],
            "text/html": [
              "\n",
              "  <div id=\"df-bb0beaa1-a8b2-48c2-b145-c4c213c493aa\">\n",
              "    <div class=\"colab-df-container\">\n",
              "      <div>\n",
              "<style scoped>\n",
              "    .dataframe tbody tr th:only-of-type {\n",
              "        vertical-align: middle;\n",
              "    }\n",
              "\n",
              "    .dataframe tbody tr th {\n",
              "        vertical-align: top;\n",
              "    }\n",
              "\n",
              "    .dataframe thead th {\n",
              "        text-align: right;\n",
              "    }\n",
              "</style>\n",
              "<table border=\"1\" class=\"dataframe\">\n",
              "  <thead>\n",
              "    <tr style=\"text-align: right;\">\n",
              "      <th></th>\n",
              "      <th>image_id</th>\n",
              "      <th>width</th>\n",
              "      <th>height</th>\n",
              "      <th>bbox</th>\n",
              "      <th>source</th>\n",
              "      <th>path</th>\n",
              "      <th>label</th>\n",
              "    </tr>\n",
              "  </thead>\n",
              "  <tbody>\n",
              "    <tr>\n",
              "      <th>0</th>\n",
              "      <td>b6ab77fd7</td>\n",
              "      <td>1024</td>\n",
              "      <td>1024</td>\n",
              "      <td>[834.0, 222.0, 56.0, 36.0]</td>\n",
              "      <td>usask_1</td>\n",
              "      <td>train/b6ab77fd7.jpg</td>\n",
              "      <td>Wheat</td>\n",
              "    </tr>\n",
              "    <tr>\n",
              "      <th>1</th>\n",
              "      <td>b6ab77fd7</td>\n",
              "      <td>1024</td>\n",
              "      <td>1024</td>\n",
              "      <td>[226.0, 548.0, 130.0, 58.0]</td>\n",
              "      <td>usask_1</td>\n",
              "      <td>train/b6ab77fd7.jpg</td>\n",
              "      <td>Wheat</td>\n",
              "    </tr>\n",
              "    <tr>\n",
              "      <th>2</th>\n",
              "      <td>b6ab77fd7</td>\n",
              "      <td>1024</td>\n",
              "      <td>1024</td>\n",
              "      <td>[377.0, 504.0, 74.0, 160.0]</td>\n",
              "      <td>usask_1</td>\n",
              "      <td>train/b6ab77fd7.jpg</td>\n",
              "      <td>Wheat</td>\n",
              "    </tr>\n",
              "    <tr>\n",
              "      <th>3</th>\n",
              "      <td>b6ab77fd7</td>\n",
              "      <td>1024</td>\n",
              "      <td>1024</td>\n",
              "      <td>[834.0, 95.0, 109.0, 107.0]</td>\n",
              "      <td>usask_1</td>\n",
              "      <td>train/b6ab77fd7.jpg</td>\n",
              "      <td>Wheat</td>\n",
              "    </tr>\n",
              "    <tr>\n",
              "      <th>4</th>\n",
              "      <td>b6ab77fd7</td>\n",
              "      <td>1024</td>\n",
              "      <td>1024</td>\n",
              "      <td>[26.0, 144.0, 124.0, 117.0]</td>\n",
              "      <td>usask_1</td>\n",
              "      <td>train/b6ab77fd7.jpg</td>\n",
              "      <td>Wheat</td>\n",
              "    </tr>\n",
              "  </tbody>\n",
              "</table>\n",
              "</div>\n",
              "      <button class=\"colab-df-convert\" onclick=\"convertToInteractive('df-bb0beaa1-a8b2-48c2-b145-c4c213c493aa')\"\n",
              "              title=\"Convert this dataframe to an interactive table.\"\n",
              "              style=\"display:none;\">\n",
              "        \n",
              "  <svg xmlns=\"http://www.w3.org/2000/svg\" height=\"24px\"viewBox=\"0 0 24 24\"\n",
              "       width=\"24px\">\n",
              "    <path d=\"M0 0h24v24H0V0z\" fill=\"none\"/>\n",
              "    <path d=\"M18.56 5.44l.94 2.06.94-2.06 2.06-.94-2.06-.94-.94-2.06-.94 2.06-2.06.94zm-11 1L8.5 8.5l.94-2.06 2.06-.94-2.06-.94L8.5 2.5l-.94 2.06-2.06.94zm10 10l.94 2.06.94-2.06 2.06-.94-2.06-.94-.94-2.06-.94 2.06-2.06.94z\"/><path d=\"M17.41 7.96l-1.37-1.37c-.4-.4-.92-.59-1.43-.59-.52 0-1.04.2-1.43.59L10.3 9.45l-7.72 7.72c-.78.78-.78 2.05 0 2.83L4 21.41c.39.39.9.59 1.41.59.51 0 1.02-.2 1.41-.59l7.78-7.78 2.81-2.81c.8-.78.8-2.07 0-2.86zM5.41 20L4 18.59l7.72-7.72 1.47 1.35L5.41 20z\"/>\n",
              "  </svg>\n",
              "      </button>\n",
              "      \n",
              "  <style>\n",
              "    .colab-df-container {\n",
              "      display:flex;\n",
              "      flex-wrap:wrap;\n",
              "      gap: 12px;\n",
              "    }\n",
              "\n",
              "    .colab-df-convert {\n",
              "      background-color: #E8F0FE;\n",
              "      border: none;\n",
              "      border-radius: 50%;\n",
              "      cursor: pointer;\n",
              "      display: none;\n",
              "      fill: #1967D2;\n",
              "      height: 32px;\n",
              "      padding: 0 0 0 0;\n",
              "      width: 32px;\n",
              "    }\n",
              "\n",
              "    .colab-df-convert:hover {\n",
              "      background-color: #E2EBFA;\n",
              "      box-shadow: 0px 1px 2px rgba(60, 64, 67, 0.3), 0px 1px 3px 1px rgba(60, 64, 67, 0.15);\n",
              "      fill: #174EA6;\n",
              "    }\n",
              "\n",
              "    [theme=dark] .colab-df-convert {\n",
              "      background-color: #3B4455;\n",
              "      fill: #D2E3FC;\n",
              "    }\n",
              "\n",
              "    [theme=dark] .colab-df-convert:hover {\n",
              "      background-color: #434B5C;\n",
              "      box-shadow: 0px 1px 3px 1px rgba(0, 0, 0, 0.15);\n",
              "      filter: drop-shadow(0px 1px 2px rgba(0, 0, 0, 0.3));\n",
              "      fill: #FFFFFF;\n",
              "    }\n",
              "  </style>\n",
              "\n",
              "      <script>\n",
              "        const buttonEl =\n",
              "          document.querySelector('#df-bb0beaa1-a8b2-48c2-b145-c4c213c493aa button.colab-df-convert');\n",
              "        buttonEl.style.display =\n",
              "          google.colab.kernel.accessAllowed ? 'block' : 'none';\n",
              "\n",
              "        async function convertToInteractive(key) {\n",
              "          const element = document.querySelector('#df-bb0beaa1-a8b2-48c2-b145-c4c213c493aa');\n",
              "          const dataTable =\n",
              "            await google.colab.kernel.invokeFunction('convertToInteractive',\n",
              "                                                     [key], {});\n",
              "          if (!dataTable) return;\n",
              "\n",
              "          const docLinkHtml = 'Like what you see? Visit the ' +\n",
              "            '<a target=\"_blank\" href=https://colab.research.google.com/notebooks/data_table.ipynb>data table notebook</a>'\n",
              "            + ' to learn more about interactive tables.';\n",
              "          element.innerHTML = '';\n",
              "          dataTable['output_type'] = 'display_data';\n",
              "          await google.colab.output.renderOutput(dataTable, element);\n",
              "          const docLink = document.createElement('div');\n",
              "          docLink.innerHTML = docLinkHtml;\n",
              "          element.appendChild(docLink);\n",
              "        }\n",
              "      </script>\n",
              "    </div>\n",
              "  </div>\n",
              "  "
            ]
          },
          "metadata": {},
          "execution_count": 16
        }
      ]
    },
    {
      "cell_type": "markdown",
      "source": [
        "Training Yolo model"
      ],
      "metadata": {
        "id": "HZVQHHwatpmN"
      }
    },
    {
      "cell_type": "code",
      "source": [
        "process_data(data_df = data_df, \n",
        "             image_id_col = \"image_id\", \n",
        "             bbox_col = \"bbox\", \n",
        "             label_col = \"label\",\n",
        "             path_col = \"path\", \n",
        "             config_filename = Config.CONFIG_FILENAME.value)"
      ],
      "metadata": {
        "colab": {
          "base_uri": "https://localhost:8080/"
        },
        "id": "emGem_OxqEP-",
        "outputId": "2a5aef41-6daa-4e29-a09c-49d2b7438d57"
      },
      "execution_count": null,
      "outputs": [
        {
          "output_type": "stream",
          "name": "stdout",
          "text": [
            "[INFO] Train_SHAPE : (3035, 4), VAL_SHAPE: (338, 4)\n"
          ]
        },
        {
          "output_type": "stream",
          "name": "stderr",
          "text": [
            "Processing train...: 100%|\u001b[36m██████████████████████████████████████████████████\u001b[39m| 3035/3035 [03:53<00:00, 13.02it/s]\n",
            "Processing validation...: 100%|\u001b[36m██████████████████████████████████████████████████\u001b[39m| 338/338 [00:14<00:00, 22.85it/s]"
          ]
        },
        {
          "output_type": "stream",
          "name": "stdout",
          "text": [
            "[INFO] Done with data processing\n"
          ]
        },
        {
          "output_type": "stream",
          "name": "stderr",
          "text": [
            "\n"
          ]
        }
      ]
    },
    {
      "cell_type": "code",
      "source": [
        "!cat \"./yolov5/ws_data.yaml\""
      ],
      "metadata": {
        "colab": {
          "base_uri": "https://localhost:8080/"
        },
        "id": "_sg9rsB6qEH1",
        "outputId": "c4671322-ee01-42f9-f99e-5e1951d46b99"
      },
      "execution_count": null,
      "outputs": [
        {
          "output_type": "stream",
          "name": "stdout",
          "text": [
            "\n",
            "            \n",
            "            train: output/images/train\n",
            "            val: output/images/validation\n",
            "            nc: 1\n",
            "            names: ['Wheat']\n",
            "            \n",
            "            "
          ]
        }
      ]
    },
    {
      "cell_type": "code",
      "source": [
        "!head -10 \"./yolov5/output/labels/train/00333207f.txt\""
      ],
      "metadata": {
        "colab": {
          "base_uri": "https://localhost:8080/"
        },
        "id": "yIjJfcZ_qD10",
        "outputId": "4978d268-a744-4faf-a6c7-a9b1cfdd6bc4"
      },
      "execution_count": null,
      "outputs": [
        {
          "output_type": "stream",
          "name": "stdout",
          "text": [
            "0 0.018066 0.692871 0.036133 0.108398\n",
            "0 0.065918 0.845703 0.131836 0.095703\n",
            "0 0.010742 0.227051 0.021484 0.079102\n",
            "0 0.034668 0.352539 0.061523 0.037109\n",
            "0 0.120117 0.365723 0.080078 0.079102\n",
            "0 0.052734 0.312988 0.046875 0.047852\n",
            "0 0.206055 0.334961 0.068359 0.052734\n",
            "0 0.205566 0.147949 0.067383 0.049805\n",
            "0 0.218750 0.078613 0.041016 0.083008\n",
            "0 0.046387 0.166992 0.086914 0.056641\n"
          ]
        }
      ]
    },
    {
      "cell_type": "code",
      "source": [
        "!tree -d yolov5/output"
      ],
      "metadata": {
        "colab": {
          "base_uri": "https://localhost:8080/"
        },
        "id": "BVLbegpku-gU",
        "outputId": "4045c2b0-65f5-4c49-8617-408fa7bcc3ed"
      },
      "execution_count": null,
      "outputs": [
        {
          "output_type": "stream",
          "name": "stdout",
          "text": [
            "/bin/bash: tree: command not found\n"
          ]
        }
      ]
    },
    {
      "cell_type": "code",
      "source": [
        "def trainYoloModel(model_name: str, config_filename: str, preTrainedWeights_path = None):\n",
        "    \"\"\"\n",
        "    Helper function to train YOLO v5 models\n",
        "    \n",
        "    \"\"\"\n",
        "    mapper = {}\n",
        "    for idx, model_ in enumerate(glob(\"yolov5/models/*yaml\")):\n",
        "        mapper[idx + 1] = model_\n",
        "        print(f\"{idx + 1} =>  {model_.split('/')[-1].split('.')[0]}\")\n",
        "\n",
        "    model = mapper[int(input(f\"Select the model from the idx: \"))]\n",
        "    if preTrainedWeights_path is not None:\n",
        "        os.system(\n",
        "            f\"\"\"\n",
        "                python yolov5/train.py --img {Config.IMG_SHAPE.value} --batch {Config.BATCH_SIZE.value} --epochs {Config.EPOCHS.value} --data yolov5/{config_filename}.yaml --cfg {model} --name {model_name} --weights {preTrainedweights_path}\n",
        "            \n",
        "            \"\"\"\n",
        "        )\n",
        "    else:\n",
        "        os.system(\n",
        "            f\"\"\"\n",
        "                python yolov5/train.py --img {Config.IMG_SHAPE.value} --batch {Config.BATCH_SIZE.value} --epochs {Config.EPOCHS.value} --data yolov5/{config_filename}.yaml --cfg {model} --name {model_name}\n",
        "            \"\"\"\n",
        "        )\n",
        "\n",
        "        \n",
        "trainYoloModel(model_name = \"ws_yolov5\", config_filename = Config.CONFIG_FILENAME.value, preTrainedWeights_path = None)"
      ],
      "metadata": {
        "colab": {
          "base_uri": "https://localhost:8080/"
        },
        "id": "h2SHofliu-c1",
        "outputId": "78705d5a-5ba3-4183-b745-4b88dfedee13"
      },
      "execution_count": null,
      "outputs": [
        {
          "name": "stdout",
          "output_type": "stream",
          "text": [
            "1 =>  yolov5l\n",
            "2 =>  yolov5m\n",
            "3 =>  yolov5n\n",
            "4 =>  yolov5s\n",
            "5 =>  yolov5x\n",
            "Select the model from the idx: 2\n"
          ]
        }
      ]
    },
    {
      "cell_type": "code",
      "source": [
        "!tree -f yolov5/runs"
      ],
      "metadata": {
        "colab": {
          "base_uri": "https://localhost:8080/"
        },
        "id": "EU1vS0Plu-KV",
        "outputId": "d60ad6fa-a08d-4fc2-a2ab-2d8966da9a7c"
      },
      "execution_count": null,
      "outputs": [
        {
          "output_type": "stream",
          "name": "stdout",
          "text": [
            "/bin/bash: tree: command not found\n"
          ]
        }
      ]
    },
    {
      "cell_type": "code",
      "source": [
        "def predict(images_path:\"path to the test images\", weights_path: \"path to the weights folder\"):\n",
        "    \"\"\"\n",
        "    Helper function to make predictions over images using Yolo\n",
        "    \"\"\"\n",
        "    os.system(\n",
        "        f\"\"\"\n",
        "            python yolov5/detect.py --source {images_path} --weights {weights_path}\n",
        "        \"\"\")\n",
        "\n",
        "predict(images_path = \"test\",\n",
        "       weights_path = \"yolov5/runs/train/ws_yolov54/weights/best.pt\")"
      ],
      "metadata": {
        "id": "KvMa37RkvSoy"
      },
      "execution_count": null,
      "outputs": []
    },
    {
      "cell_type": "code",
      "source": [
        "def showImages(image_dir: \"path to image directory\"):\n",
        "    \"\"\"\n",
        "    Helper function to visualize images in a directory\n",
        "    \n",
        "    \"\"\"\n",
        "    imgs_paths = glob(image_dir + \"/*jpg\")\n",
        "    numImgs = len(imgs_paths)\n",
        "   \n",
        "    for i in range(numImgs):\n",
        "        img = io.imread(imgs_paths[i])\n",
        "        fig = px.imshow(img)\n",
        "        fig.show()\n",
        "\n",
        "    \n",
        "showImages(image_dir = \"yolov5/runs/detect/exp3\")"
      ],
      "metadata": {
        "id": "QPgfUpinvSk8"
      },
      "execution_count": null,
      "outputs": []
    },
    {
      "cell_type": "code",
      "source": [
        "showImages(image_dir = \"yolov5/runs/detect/exp3\")"
      ],
      "metadata": {
        "id": "0ovx-sBLvSh0"
      },
      "execution_count": null,
      "outputs": []
    },
    {
      "cell_type": "code",
      "source": [
        ""
      ],
      "metadata": {
        "id": "v13XdX_u0SgH"
      },
      "execution_count": null,
      "outputs": []
    },
    {
      "cell_type": "code",
      "source": [
        "import numpy as np # linear algebra\n",
        "import pandas as pd # data processing, CSV file I/O (e.g. pd.read_csv)\n",
        "\n",
        "import os\n"
      ],
      "metadata": {
        "id": "3kf3Xboh0SdV"
      },
      "execution_count": null,
      "outputs": []
    },
    {
      "cell_type": "code",
      "source": [
        "!git clone -b v1.0 https://github.com/ultralytics/yolov5"
      ],
      "metadata": {
        "id": "mR6i8W2W0SaN",
        "colab": {
          "base_uri": "https://localhost:8080/"
        },
        "outputId": "6c93ca67-9fb6-4d34-d6a3-f4da17916da8"
      },
      "execution_count": null,
      "outputs": [
        {
          "output_type": "stream",
          "name": "stdout",
          "text": [
            "Cloning into 'yolov5'...\n",
            "remote: Enumerating objects: 11449, done.\u001b[K\n",
            "remote: Counting objects: 100% (13/13), done.\u001b[K\n",
            "remote: Compressing objects: 100% (10/10), done.\u001b[K\n",
            "remote: Total 11449 (delta 3), reused 9 (delta 3), pack-reused 11436\u001b[K\n",
            "Receiving objects: 100% (11449/11449), 11.32 MiB | 26.22 MiB/s, done.\n",
            "Resolving deltas: 100% (7895/7895), done.\n",
            "Note: checking out '8f7e11dcef21ab39330a4fbc0540f1ada3aacee4'.\n",
            "\n",
            "You are in 'detached HEAD' state. You can look around, make experimental\n",
            "changes and commit them, and you can discard any commits you make in this\n",
            "state without impacting any branches by performing another checkout.\n",
            "\n",
            "If you want to create a new branch to retain commits you create, you may\n",
            "do so (now or later) by using -b with the checkout command again. Example:\n",
            "\n",
            "  git checkout -b <new-branch-name>\n",
            "\n"
          ]
        }
      ]
    },
    {
      "cell_type": "code",
      "source": [
        "!mv yolov5/* ./"
      ],
      "metadata": {
        "id": "_V0GrH6W0ewj"
      },
      "execution_count": null,
      "outputs": []
    },
    {
      "cell_type": "code",
      "source": [
        "!pip install -r requirements.txt"
      ],
      "metadata": {
        "colab": {
          "base_uri": "https://localhost:8080/",
          "height": 1000
        },
        "id": "bCA7AVrx0epC",
        "outputId": "8192adb6-a8af-4a62-ce1b-1bedf1825401"
      },
      "execution_count": null,
      "outputs": [
        {
          "output_type": "stream",
          "name": "stdout",
          "text": [
            "Collecting git+https://github.com/cocodataset/cocoapi.git#subdirectory=PythonAPI (from -r requirements.txt (line 13))\n",
            "  Cloning https://github.com/cocodataset/cocoapi.git to /tmp/pip-req-build-2sfoobv3\n",
            "  Running command git clone -q https://github.com/cocodataset/cocoapi.git /tmp/pip-req-build-2sfoobv3\n",
            "Requirement already satisfied: Cython in /usr/local/lib/python3.7/dist-packages (from -r requirements.txt (line 2)) (0.29.28)\n",
            "Collecting numpy==1.17\n",
            "  Using cached numpy-1.17.0-cp37-cp37m-manylinux1_x86_64.whl (20.3 MB)\n",
            "Requirement already satisfied: opencv-python in /usr/local/lib/python3.7/dist-packages (from -r requirements.txt (line 4)) (4.1.2.30)\n",
            "Requirement already satisfied: torch>=1.4 in /usr/local/lib/python3.7/dist-packages (from -r requirements.txt (line 5)) (1.10.0+cu111)\n",
            "Requirement already satisfied: matplotlib in /usr/local/lib/python3.7/dist-packages (from -r requirements.txt (line 6)) (3.2.2)\n",
            "Requirement already satisfied: pillow in /usr/local/lib/python3.7/dist-packages (from -r requirements.txt (line 7)) (7.1.2)\n",
            "Requirement already satisfied: tensorboard in /usr/local/lib/python3.7/dist-packages (from -r requirements.txt (line 8)) (2.8.0)\n",
            "Requirement already satisfied: PyYAML>=5.3 in /usr/local/lib/python3.7/dist-packages (from -r requirements.txt (line 9)) (6.0)\n",
            "Requirement already satisfied: torchvision in /usr/local/lib/python3.7/dist-packages (from -r requirements.txt (line 10)) (0.11.1+cu111)\n",
            "Requirement already satisfied: scipy in /usr/local/lib/python3.7/dist-packages (from -r requirements.txt (line 11)) (1.4.1)\n",
            "Requirement already satisfied: tqdm in /usr/local/lib/python3.7/dist-packages (from -r requirements.txt (line 12)) (4.63.0)\n",
            "Requirement already satisfied: setuptools>=18.0 in /usr/local/lib/python3.7/dist-packages (from pycocotools==2.0->-r requirements.txt (line 13)) (57.4.0)\n",
            "Requirement already satisfied: typing-extensions in /usr/local/lib/python3.7/dist-packages (from torch>=1.4->-r requirements.txt (line 5)) (3.10.0.2)\n",
            "Requirement already satisfied: python-dateutil>=2.1 in /usr/local/lib/python3.7/dist-packages (from matplotlib->-r requirements.txt (line 6)) (2.8.2)\n",
            "Requirement already satisfied: kiwisolver>=1.0.1 in /usr/local/lib/python3.7/dist-packages (from matplotlib->-r requirements.txt (line 6)) (1.3.2)\n",
            "Requirement already satisfied: cycler>=0.10 in /usr/local/lib/python3.7/dist-packages (from matplotlib->-r requirements.txt (line 6)) (0.11.0)\n",
            "Requirement already satisfied: pyparsing!=2.0.4,!=2.1.2,!=2.1.6,>=2.0.1 in /usr/local/lib/python3.7/dist-packages (from matplotlib->-r requirements.txt (line 6)) (3.0.7)\n",
            "Requirement already satisfied: six>=1.5 in /usr/local/lib/python3.7/dist-packages (from python-dateutil>=2.1->matplotlib->-r requirements.txt (line 6)) (1.15.0)\n",
            "Requirement already satisfied: protobuf>=3.6.0 in /usr/local/lib/python3.7/dist-packages (from tensorboard->-r requirements.txt (line 8)) (3.17.3)\n",
            "Requirement already satisfied: markdown>=2.6.8 in /usr/local/lib/python3.7/dist-packages (from tensorboard->-r requirements.txt (line 8)) (3.3.6)\n",
            "Requirement already satisfied: google-auth<3,>=1.6.3 in /usr/local/lib/python3.7/dist-packages (from tensorboard->-r requirements.txt (line 8)) (1.35.0)\n",
            "Requirement already satisfied: wheel>=0.26 in /usr/local/lib/python3.7/dist-packages (from tensorboard->-r requirements.txt (line 8)) (0.37.1)\n",
            "Requirement already satisfied: google-auth-oauthlib<0.5,>=0.4.1 in /usr/local/lib/python3.7/dist-packages (from tensorboard->-r requirements.txt (line 8)) (0.4.6)\n",
            "Requirement already satisfied: requests<3,>=2.21.0 in /usr/local/lib/python3.7/dist-packages (from tensorboard->-r requirements.txt (line 8)) (2.23.0)\n",
            "Requirement already satisfied: tensorboard-data-server<0.7.0,>=0.6.0 in /usr/local/lib/python3.7/dist-packages (from tensorboard->-r requirements.txt (line 8)) (0.6.1)\n",
            "Requirement already satisfied: absl-py>=0.4 in /usr/local/lib/python3.7/dist-packages (from tensorboard->-r requirements.txt (line 8)) (1.0.0)\n",
            "Requirement already satisfied: werkzeug>=0.11.15 in /usr/local/lib/python3.7/dist-packages (from tensorboard->-r requirements.txt (line 8)) (1.0.1)\n",
            "Requirement already satisfied: tensorboard-plugin-wit>=1.6.0 in /usr/local/lib/python3.7/dist-packages (from tensorboard->-r requirements.txt (line 8)) (1.8.1)\n",
            "Requirement already satisfied: grpcio>=1.24.3 in /usr/local/lib/python3.7/dist-packages (from tensorboard->-r requirements.txt (line 8)) (1.44.0)\n",
            "Requirement already satisfied: pyasn1-modules>=0.2.1 in /usr/local/lib/python3.7/dist-packages (from google-auth<3,>=1.6.3->tensorboard->-r requirements.txt (line 8)) (0.2.8)\n",
            "Requirement already satisfied: rsa<5,>=3.1.4 in /usr/local/lib/python3.7/dist-packages (from google-auth<3,>=1.6.3->tensorboard->-r requirements.txt (line 8)) (4.8)\n",
            "Requirement already satisfied: cachetools<5.0,>=2.0.0 in /usr/local/lib/python3.7/dist-packages (from google-auth<3,>=1.6.3->tensorboard->-r requirements.txt (line 8)) (4.2.4)\n",
            "Requirement already satisfied: requests-oauthlib>=0.7.0 in /usr/local/lib/python3.7/dist-packages (from google-auth-oauthlib<0.5,>=0.4.1->tensorboard->-r requirements.txt (line 8)) (1.3.1)\n",
            "Requirement already satisfied: importlib-metadata>=4.4 in /usr/local/lib/python3.7/dist-packages (from markdown>=2.6.8->tensorboard->-r requirements.txt (line 8)) (4.11.2)\n",
            "Requirement already satisfied: zipp>=0.5 in /usr/local/lib/python3.7/dist-packages (from importlib-metadata>=4.4->markdown>=2.6.8->tensorboard->-r requirements.txt (line 8)) (3.7.0)\n",
            "Requirement already satisfied: pyasn1<0.5.0,>=0.4.6 in /usr/local/lib/python3.7/dist-packages (from pyasn1-modules>=0.2.1->google-auth<3,>=1.6.3->tensorboard->-r requirements.txt (line 8)) (0.4.8)\n",
            "Requirement already satisfied: certifi>=2017.4.17 in /usr/local/lib/python3.7/dist-packages (from requests<3,>=2.21.0->tensorboard->-r requirements.txt (line 8)) (2021.10.8)\n",
            "Requirement already satisfied: urllib3!=1.25.0,!=1.25.1,<1.26,>=1.21.1 in /usr/local/lib/python3.7/dist-packages (from requests<3,>=2.21.0->tensorboard->-r requirements.txt (line 8)) (1.24.3)\n",
            "Requirement already satisfied: chardet<4,>=3.0.2 in /usr/local/lib/python3.7/dist-packages (from requests<3,>=2.21.0->tensorboard->-r requirements.txt (line 8)) (3.0.4)\n",
            "Requirement already satisfied: idna<3,>=2.5 in /usr/local/lib/python3.7/dist-packages (from requests<3,>=2.21.0->tensorboard->-r requirements.txt (line 8)) (2.10)\n",
            "Requirement already satisfied: oauthlib>=3.0.0 in /usr/local/lib/python3.7/dist-packages (from requests-oauthlib>=0.7.0->google-auth-oauthlib<0.5,>=0.4.1->tensorboard->-r requirements.txt (line 8)) (3.2.0)\n",
            "Installing collected packages: numpy\n",
            "  Attempting uninstall: numpy\n",
            "    Found existing installation: numpy 1.21.5\n",
            "    Uninstalling numpy-1.21.5:\n",
            "      Successfully uninstalled numpy-1.21.5\n",
            "\u001b[31mERROR: pip's dependency resolver does not currently take into account all the packages that are installed. This behaviour is the source of the following dependency conflicts.\n",
            "tensorflow 2.8.0 requires tf-estimator-nightly==2.8.0.dev2021122109, which is not installed.\n",
            "tensorflow 2.8.0 requires numpy>=1.20, but you have numpy 1.17.0 which is incompatible.\n",
            "tables 3.7.0 requires numpy>=1.19.0, but you have numpy 1.17.0 which is incompatible.\n",
            "pywavelets 1.2.0 requires numpy>=1.17.3, but you have numpy 1.17.0 which is incompatible.\n",
            "pandas 1.3.5 requires numpy>=1.17.3; platform_machine != \"aarch64\" and platform_machine != \"arm64\" and python_version < \"3.10\", but you have numpy 1.17.0 which is incompatible.\n",
            "kapre 0.3.7 requires numpy>=1.18.5, but you have numpy 1.17.0 which is incompatible.\n",
            "jaxlib 0.3.0+cuda11.cudnn805 requires numpy>=1.19, but you have numpy 1.17.0 which is incompatible.\n",
            "jax 0.3.1 requires numpy>=1.19, but you have numpy 1.17.0 which is incompatible.\n",
            "datascience 0.10.6 requires folium==0.2.1, but you have folium 0.8.3 which is incompatible.\n",
            "albumentations 0.1.12 requires imgaug<0.2.7,>=0.2.5, but you have imgaug 0.2.9 which is incompatible.\u001b[0m\n",
            "Successfully installed numpy-1.17.0\n"
          ]
        },
        {
          "output_type": "display_data",
          "data": {
            "application/vnd.colab-display-data+json": {
              "pip_warning": {
                "packages": [
                  "numpy"
                ]
              }
            }
          },
          "metadata": {}
        }
      ]
    },
    {
      "cell_type": "code",
      "source": [
        "df = pd.read_csv('train.csv')\n",
        "bboxs = np.stack(df['bbox'].apply(lambda x: np.fromstring(x[1:-1], sep=',')))\n",
        "for i, column in enumerate(['x', 'y', 'w', 'h']):\n",
        "    df[column] = bboxs[:,i]\n",
        "df.drop(columns=['bbox'], inplace=True)\n",
        "df['x_center'] = df['x'] + df['w']/2\n",
        "df['y_center'] = df['y'] + df['h']/2\n",
        "df['classes'] = 0\n",
        "from tqdm.auto import tqdm\n",
        "import shutil as sh\n",
        "df = df[['image_id','x', 'y', 'w', 'h','x_center','y_center','classes']]"
      ],
      "metadata": {
        "id": "BhLH7b-F0xpd"
      },
      "execution_count": null,
      "outputs": []
    },
    {
      "cell_type": "code",
      "source": [
        "df.head()"
      ],
      "metadata": {
        "colab": {
          "base_uri": "https://localhost:8080/",
          "height": 206
        },
        "id": "X69kg27A0-md",
        "outputId": "28ff90ef-c17e-44b4-c1b5-155ab3982c2f"
      },
      "execution_count": null,
      "outputs": [
        {
          "output_type": "execute_result",
          "data": {
            "text/plain": [
              "    image_id      x      y      w      h  x_center  y_center  classes\n",
              "0  b6ab77fd7  834.0  222.0   56.0   36.0     862.0     240.0        0\n",
              "1  b6ab77fd7  226.0  548.0  130.0   58.0     291.0     577.0        0\n",
              "2  b6ab77fd7  377.0  504.0   74.0  160.0     414.0     584.0        0\n",
              "3  b6ab77fd7  834.0   95.0  109.0  107.0     888.5     148.5        0\n",
              "4  b6ab77fd7   26.0  144.0  124.0  117.0      88.0     202.5        0"
            ],
            "text/html": [
              "\n",
              "  <div id=\"df-3f276a1c-8713-4133-a88a-8d48d75bbd37\">\n",
              "    <div class=\"colab-df-container\">\n",
              "      <div>\n",
              "<style scoped>\n",
              "    .dataframe tbody tr th:only-of-type {\n",
              "        vertical-align: middle;\n",
              "    }\n",
              "\n",
              "    .dataframe tbody tr th {\n",
              "        vertical-align: top;\n",
              "    }\n",
              "\n",
              "    .dataframe thead th {\n",
              "        text-align: right;\n",
              "    }\n",
              "</style>\n",
              "<table border=\"1\" class=\"dataframe\">\n",
              "  <thead>\n",
              "    <tr style=\"text-align: right;\">\n",
              "      <th></th>\n",
              "      <th>image_id</th>\n",
              "      <th>x</th>\n",
              "      <th>y</th>\n",
              "      <th>w</th>\n",
              "      <th>h</th>\n",
              "      <th>x_center</th>\n",
              "      <th>y_center</th>\n",
              "      <th>classes</th>\n",
              "    </tr>\n",
              "  </thead>\n",
              "  <tbody>\n",
              "    <tr>\n",
              "      <th>0</th>\n",
              "      <td>b6ab77fd7</td>\n",
              "      <td>834.0</td>\n",
              "      <td>222.0</td>\n",
              "      <td>56.0</td>\n",
              "      <td>36.0</td>\n",
              "      <td>862.0</td>\n",
              "      <td>240.0</td>\n",
              "      <td>0</td>\n",
              "    </tr>\n",
              "    <tr>\n",
              "      <th>1</th>\n",
              "      <td>b6ab77fd7</td>\n",
              "      <td>226.0</td>\n",
              "      <td>548.0</td>\n",
              "      <td>130.0</td>\n",
              "      <td>58.0</td>\n",
              "      <td>291.0</td>\n",
              "      <td>577.0</td>\n",
              "      <td>0</td>\n",
              "    </tr>\n",
              "    <tr>\n",
              "      <th>2</th>\n",
              "      <td>b6ab77fd7</td>\n",
              "      <td>377.0</td>\n",
              "      <td>504.0</td>\n",
              "      <td>74.0</td>\n",
              "      <td>160.0</td>\n",
              "      <td>414.0</td>\n",
              "      <td>584.0</td>\n",
              "      <td>0</td>\n",
              "    </tr>\n",
              "    <tr>\n",
              "      <th>3</th>\n",
              "      <td>b6ab77fd7</td>\n",
              "      <td>834.0</td>\n",
              "      <td>95.0</td>\n",
              "      <td>109.0</td>\n",
              "      <td>107.0</td>\n",
              "      <td>888.5</td>\n",
              "      <td>148.5</td>\n",
              "      <td>0</td>\n",
              "    </tr>\n",
              "    <tr>\n",
              "      <th>4</th>\n",
              "      <td>b6ab77fd7</td>\n",
              "      <td>26.0</td>\n",
              "      <td>144.0</td>\n",
              "      <td>124.0</td>\n",
              "      <td>117.0</td>\n",
              "      <td>88.0</td>\n",
              "      <td>202.5</td>\n",
              "      <td>0</td>\n",
              "    </tr>\n",
              "  </tbody>\n",
              "</table>\n",
              "</div>\n",
              "      <button class=\"colab-df-convert\" onclick=\"convertToInteractive('df-3f276a1c-8713-4133-a88a-8d48d75bbd37')\"\n",
              "              title=\"Convert this dataframe to an interactive table.\"\n",
              "              style=\"display:none;\">\n",
              "        \n",
              "  <svg xmlns=\"http://www.w3.org/2000/svg\" height=\"24px\"viewBox=\"0 0 24 24\"\n",
              "       width=\"24px\">\n",
              "    <path d=\"M0 0h24v24H0V0z\" fill=\"none\"/>\n",
              "    <path d=\"M18.56 5.44l.94 2.06.94-2.06 2.06-.94-2.06-.94-.94-2.06-.94 2.06-2.06.94zm-11 1L8.5 8.5l.94-2.06 2.06-.94-2.06-.94L8.5 2.5l-.94 2.06-2.06.94zm10 10l.94 2.06.94-2.06 2.06-.94-2.06-.94-.94-2.06-.94 2.06-2.06.94z\"/><path d=\"M17.41 7.96l-1.37-1.37c-.4-.4-.92-.59-1.43-.59-.52 0-1.04.2-1.43.59L10.3 9.45l-7.72 7.72c-.78.78-.78 2.05 0 2.83L4 21.41c.39.39.9.59 1.41.59.51 0 1.02-.2 1.41-.59l7.78-7.78 2.81-2.81c.8-.78.8-2.07 0-2.86zM5.41 20L4 18.59l7.72-7.72 1.47 1.35L5.41 20z\"/>\n",
              "  </svg>\n",
              "      </button>\n",
              "      \n",
              "  <style>\n",
              "    .colab-df-container {\n",
              "      display:flex;\n",
              "      flex-wrap:wrap;\n",
              "      gap: 12px;\n",
              "    }\n",
              "\n",
              "    .colab-df-convert {\n",
              "      background-color: #E8F0FE;\n",
              "      border: none;\n",
              "      border-radius: 50%;\n",
              "      cursor: pointer;\n",
              "      display: none;\n",
              "      fill: #1967D2;\n",
              "      height: 32px;\n",
              "      padding: 0 0 0 0;\n",
              "      width: 32px;\n",
              "    }\n",
              "\n",
              "    .colab-df-convert:hover {\n",
              "      background-color: #E2EBFA;\n",
              "      box-shadow: 0px 1px 2px rgba(60, 64, 67, 0.3), 0px 1px 3px 1px rgba(60, 64, 67, 0.15);\n",
              "      fill: #174EA6;\n",
              "    }\n",
              "\n",
              "    [theme=dark] .colab-df-convert {\n",
              "      background-color: #3B4455;\n",
              "      fill: #D2E3FC;\n",
              "    }\n",
              "\n",
              "    [theme=dark] .colab-df-convert:hover {\n",
              "      background-color: #434B5C;\n",
              "      box-shadow: 0px 1px 3px 1px rgba(0, 0, 0, 0.15);\n",
              "      filter: drop-shadow(0px 1px 2px rgba(0, 0, 0, 0.3));\n",
              "      fill: #FFFFFF;\n",
              "    }\n",
              "  </style>\n",
              "\n",
              "      <script>\n",
              "        const buttonEl =\n",
              "          document.querySelector('#df-3f276a1c-8713-4133-a88a-8d48d75bbd37 button.colab-df-convert');\n",
              "        buttonEl.style.display =\n",
              "          google.colab.kernel.accessAllowed ? 'block' : 'none';\n",
              "\n",
              "        async function convertToInteractive(key) {\n",
              "          const element = document.querySelector('#df-3f276a1c-8713-4133-a88a-8d48d75bbd37');\n",
              "          const dataTable =\n",
              "            await google.colab.kernel.invokeFunction('convertToInteractive',\n",
              "                                                     [key], {});\n",
              "          if (!dataTable) return;\n",
              "\n",
              "          const docLinkHtml = 'Like what you see? Visit the ' +\n",
              "            '<a target=\"_blank\" href=https://colab.research.google.com/notebooks/data_table.ipynb>data table notebook</a>'\n",
              "            + ' to learn more about interactive tables.';\n",
              "          element.innerHTML = '';\n",
              "          dataTable['output_type'] = 'display_data';\n",
              "          await google.colab.output.renderOutput(dataTable, element);\n",
              "          const docLink = document.createElement('div');\n",
              "          docLink.innerHTML = docLinkHtml;\n",
              "          element.appendChild(docLink);\n",
              "        }\n",
              "      </script>\n",
              "    </div>\n",
              "  </div>\n",
              "  "
            ]
          },
          "metadata": {},
          "execution_count": 8
        }
      ]
    },
    {
      "cell_type": "code",
      "source": [
        "index = list(set(df.image_id))"
      ],
      "metadata": {
        "id": "GkYlhLN01CT1"
      },
      "execution_count": null,
      "outputs": []
    },
    {
      "cell_type": "code",
      "source": [
        "source = 'train'\n",
        "if True:\n",
        "    for fold in [0]:\n",
        "        val_index = index[len(index)*fold//5:len(index)*(fold+1)//5]\n",
        "        for name,mini in tqdm(df.groupby('image_id')):\n",
        "            if name in val_index:\n",
        "                path2save = 'val2017/'\n",
        "            else:\n",
        "                path2save = 'train2017/'\n",
        "            if not os.path.exists('convertor/fold{}/labels/'.format(fold)+path2save):\n",
        "                os.makedirs('convertor/fold{}/labels/'.format(fold)+path2save)\n",
        "            with open('convertor/fold{}/labels/'.format(fold)+path2save+name+\".txt\", 'w+') as f:\n",
        "                row = mini[['classes','x_center','y_center','w','h']].astype(float).values\n",
        "                row = row/1024\n",
        "                row = row.astype(str)\n",
        "                for j in range(len(row)):\n",
        "                    text = ' '.join(row[j])\n",
        "                    f.write(text)\n",
        "                    f.write(\"\\n\")\n",
        "            if not os.path.exists('convertor/fold{}/images/{}'.format(fold,path2save)):\n",
        "                os.makedirs('convertor/fold{}/images/{}'.format(fold,path2save))\n",
        "            sh.copy(\"{}/{}.jpg\".format(source,name),'convertor/fold{}/images/{}/{}.jpg'.format(fold,path2save,name))\n"
      ],
      "metadata": {
        "colab": {
          "base_uri": "https://localhost:8080/",
          "height": 49,
          "referenced_widgets": [
            "e199c0873d4d4d889602dd5de6ca8bcf",
            "431db82f84054c4cbce4e627f9dac823",
            "0b7f39de50ec43428e87df128ec800b9",
            "4b87b50c16d64739bc8b1fe568eaf09b",
            "2472e7101095469fb9485886d7175e49",
            "015756961030405ab6565322af125a36",
            "8cbb3aeea89242efa55ca1b65e76b488",
            "2447d9791a83401ca6aa1dcf18a94bce",
            "74e8a436e3564ac9bdb0ef0d706c0060",
            "c06e91c3335b4dd19dbe0e8c422696bb",
            "a921a8eb4e39436094710481da7b21f6"
          ]
        },
        "id": "KgIM13cX1JF8",
        "outputId": "22697fc0-e9b2-48a4-eff9-d27cb4b36fd8"
      },
      "execution_count": null,
      "outputs": [
        {
          "output_type": "display_data",
          "data": {
            "text/plain": [
              "  0%|          | 0/3373 [00:00<?, ?it/s]"
            ],
            "application/vnd.jupyter.widget-view+json": {
              "version_major": 2,
              "version_minor": 0,
              "model_id": "e199c0873d4d4d889602dd5de6ca8bcf"
            }
          },
          "metadata": {}
        }
      ]
    },
    {
      "cell_type": "code",
      "source": [
        "!python train.py --img 1024 --batch 2 --epochs 1 --data /configyolo5/wheat0.yaml --cfg /configyolo5/yolov5x.yaml  --name yolov5x_fold0"
      ],
      "metadata": {
        "colab": {
          "base_uri": "https://localhost:8080/"
        },
        "id": "Wo9XZADN1JCw",
        "outputId": "89f78f99-5767-4944-f417-24737ff725ef"
      },
      "execution_count": null,
      "outputs": [
        {
          "output_type": "stream",
          "name": "stdout",
          "text": [
            "Apex recommended for faster mixed precision training: https://github.com/NVIDIA/apex\n",
            "{'lr0': 0.01, 'momentum': 0.937, 'weight_decay': 0.0005, 'giou': 0.05, 'cls': 0.58, 'cls_pw': 1.0, 'obj': 1.0, 'obj_pw': 1.0, 'iou_t': 0.2, 'anchor_t': 4.0, 'fl_gamma': 0.0, 'hsv_h': 0.014, 'hsv_s': 0.68, 'hsv_v': 0.36, 'degrees': 0.0, 'translate': 0.0, 'scale': 0.5, 'shear': 0.0}\n",
            "Traceback (most recent call last):\n",
            "  File \"train.py\", line 394, in <module>\n",
            "    opt.cfg = check_file(opt.cfg)  # check file\n",
            "  File \"/content/drive/MyDrive/DLK1/WheatData/utils/utils.py\", line 104, in check_file\n",
            "    assert len(files), 'File Not Found: %s' % file  # assert file was found\n",
            "AssertionError: File Not Found: /configyolo5/yolov5x.yaml\n"
          ]
        }
      ]
    },
    {
      "cell_type": "markdown",
      "source": [
        "8) CenterNet"
      ],
      "metadata": {
        "id": "W1nhj3l4Ggpe"
      }
    },
    {
      "cell_type": "markdown",
      "source": [
        "https://www.kaggle.com/code/greatgamedota/centernet-baseline-keras-training"
      ],
      "metadata": {
        "id": "U5s-1MtfHsPI"
      }
    },
    {
      "cell_type": "markdown",
      "source": [
        "https://www.kaggle.com/code/nvnnghia/keras-centernet-training"
      ],
      "metadata": {
        "id": "Kq8Ot6JRKhX-"
      }
    },
    {
      "cell_type": "code",
      "source": [
        "from keras.preprocessing.image import ImageDataGenerator"
      ],
      "metadata": {
        "id": "kQScSgOLHKH2"
      },
      "execution_count": null,
      "outputs": []
    },
    {
      "cell_type": "code",
      "source": [
        "import pandas as pd\n",
        "import numpy as np\n",
        "import matplotlib.pyplot as plt\n",
        "import cv2\n",
        "import os\n",
        "from tqdm import tqdm,trange\n",
        "from sklearn.model_selection import train_test_split\n",
        "import sklearn.metrics\n",
        "\n",
        "import keras\n",
        "from keras.callbacks import Callback, ModelCheckpoint\n",
        "\n",
        "import warnings\n",
        "warnings.filterwarnings(\"ignore\")\n",
        "\n",
        "class config:\n",
        "    epochs = 1\n",
        "    batch_size = 1\n",
        "    num_classes = 3\n",
        "    IMAGE_PATH = 'train/'\n",
        "    lr = 1e-4\n",
        "    seed = 42\n",
        "\n",
        "import random\n",
        "def seed_everything(seed):\n",
        "    random.seed(seed)\n",
        "    os.environ['PYTHONHASHSEED'] = str(seed)\n",
        "    np.random.seed(seed)\n",
        "\n",
        "seed_everything(config.seed)"
      ],
      "metadata": {
        "id": "bpfdoNkQGY5-"
      },
      "execution_count": null,
      "outputs": []
    },
    {
      "cell_type": "code",
      "source": [
        "df = pd.read_csv('train.csv')\n",
        "train_df = os.listdir(config.IMAGE_PATH)\n",
        "print(len(train_df))\n",
        "train_df, val_df = train_test_split(train_df, random_state=config.seed, test_size=0.2)\n",
        "print(len(train_df), len(val_df))\n",
        "\n",
        "# Remove empty images from training\n",
        "bad_imgs = []\n",
        "for id in train_df:\n",
        "  if len(df[df['image_id']==id[:-4]]) == 0:\n",
        "    bad_imgs.append(id)\n",
        "\n",
        "for im in bad_imgs:\n",
        "  train_df.remove(im)\n",
        "print(len(train_df), len(val_df))"
      ],
      "metadata": {
        "colab": {
          "base_uri": "https://localhost:8080/"
        },
        "id": "ACPd0jojGyQ2",
        "outputId": "e81c417d-25b2-4aec-b688-f70368981e52"
      },
      "execution_count": null,
      "outputs": [
        {
          "output_type": "stream",
          "name": "stdout",
          "text": [
            "3422\n",
            "2737 685\n",
            "2695 685\n"
          ]
        }
      ]
    },
    {
      "cell_type": "code",
      "source": [
        "def normalize_image(image):\n",
        "  \"\"\"Normalize the image for the Hourglass network.\n",
        "  # Arguments\n",
        "    image: BGR uint8\n",
        "  # Returns\n",
        "    float32 image with the same shape as the input\n",
        "  \"\"\"\n",
        "  mean = [0.40789655, 0.44719303, 0.47026116]\n",
        "  std = [0.2886383, 0.27408165, 0.27809834]\n",
        "  return ((np.float32(image) / 255.) - mean) / std\n",
        "\n",
        "from math import floor\n",
        "\n",
        "def get_boxes(bbox):\n",
        "  boxes = []\n",
        "  for box in bbox:\n",
        "    box = box[1:-1].split(',')\n",
        "    box = [float(b) for b in box]\n",
        "    box = [int(b) for b in box]\n",
        "    boxes.append(box)\n",
        "\n",
        "  boxes = np.array(boxes, dtype=np.int32)\n",
        "  return boxes\n",
        "\n",
        "def heatmap(bbox):\n",
        "    def get_coords(bbox):\n",
        "      xs,ys,w,h=[],[],[],[]\n",
        "      for box in bbox:\n",
        "        box = box[1:-1].split(',')\n",
        "        box = [float(b) for b in box]\n",
        "        box = [int(b) for b in box]\n",
        "\n",
        "        x1, y1, width, height = box\n",
        "        xs.append(x1+int(width/2))\n",
        "        ys.append(y1+int(height/2))\n",
        "        w.append(width)\n",
        "        h.append(height)\n",
        "      \n",
        "      return xs, ys, w, h\n",
        "    \n",
        "    def get_heatmap(p_x, p_y):\n",
        "        # Ref: https://www.kaggle.com/diegojohnson/centernet-objects-as-points\n",
        "        X1 = np.linspace(1, 1024, 1024)\n",
        "        Y1 = np.linspace(1, 1024, 1024)\n",
        "        [X, Y] = np.meshgrid(X1, Y1)\n",
        "        X = X - floor(p_x)\n",
        "        Y = Y - floor(p_y)\n",
        "        D2 = X * X + Y * Y\n",
        "        sigma_ = 10\n",
        "        E2 = 2.0 * sigma_ ** 2\n",
        "        Exponent = D2 / E2\n",
        "        heatmap = np.exp(-Exponent)\n",
        "        heatmap = heatmap[:, :, np.newaxis]\n",
        "        return heatmap\n",
        "\n",
        "    coors = []\n",
        "    size = 20\n",
        "    y_ = size\n",
        "    while y_ > -size - 1:\n",
        "      x_ = -size\n",
        "      while x_ < size + 1:\n",
        "        coors.append([x_, y_])\n",
        "        x_ += 1\n",
        "      y_ -= 1\n",
        "\n",
        "    u, v, w, h = get_coords(bbox)\n",
        "    \n",
        "    if len(bbox) == 0:\n",
        "      u = np.array([512])\n",
        "      v = np.array([512])\n",
        "      w = np.array([10])\n",
        "      h = np.array([10])\n",
        "    \n",
        "    hm = np.zeros((1024,1024,1))\n",
        "    width = np.zeros((1024,1024,1))\n",
        "    height = np.zeros((1024,1024,1))\n",
        "    for i in range(len(u)):\n",
        "      for coor in coors:\n",
        "        try:\n",
        "          width[int(v[i])+coor[0], int(u[i])+coor[1]] = w[i] / 256\n",
        "          height[int(v[i])+coor[0], int(u[i])+coor[1]] = h[i] / 256\n",
        "        except:\n",
        "          pass\n",
        "      heatmap = get_heatmap(u[i], v[i])\n",
        "      hm[:,:] = np.maximum(hm[:,:],heatmap[:,:])\n",
        "      \n",
        "    hm = cv2.resize(hm, (256,256))[:,:,None]\n",
        "    width = cv2.resize(width, (256,256))[:,:,None]\n",
        "    height = cv2.resize(height, (256,256))[:,:,None]\n",
        "    return hm, width, height"
      ],
      "metadata": {
        "id": "NIsgzgZ2H-Cv"
      },
      "execution_count": null,
      "outputs": []
    },
    {
      "cell_type": "code",
      "source": [
        "class DataGenerator(keras.utils.all_utils.Sequence):\n",
        "    'Generates data for Keras'\n",
        "    def __init__(self, list_IDs, df, target_df=None, mode='fit',\n",
        "                 base_path=config.IMAGE_PATH, image_paths=None,\n",
        "                 batch_size=4, dim=(128, 128), n_channels=3,\n",
        "                 n_classes=3, random_state=config.seed, shuffle=True):\n",
        "        self.dim = dim\n",
        "        self.batch_size = batch_size\n",
        "        self.df = df\n",
        "        self.mode = mode\n",
        "        self.base_path = base_path\n",
        "        self.target_df = target_df\n",
        "        self.list_IDs = list_IDs\n",
        "        self.n_channels = n_channels\n",
        "        self.n_classes = n_classes\n",
        "        self.shuffle = shuffle\n",
        "        self.random_state = random_state\n",
        "        self.image_paths = image_paths\n",
        "        \n",
        "        self.on_epoch_end()\n",
        "\n",
        "    def __len__(self):\n",
        "        'Denotes the number of batches per epoch'\n",
        "        return int(np.floor(len(self.list_IDs) / self.batch_size))\n",
        "\n",
        "    def __getitem__(self, index):\n",
        "        'Generate one batch of data'\n",
        "        # Generate indexes of the batch\n",
        "        indexes = self.indexes[index*self.batch_size:(index+1)*self.batch_size]\n",
        "\n",
        "        # Find list of IDs\n",
        "        list_IDs_batch = [self.list_IDs[k] for k in indexes]\n",
        "        \n",
        "        X = self.__generate_X(list_IDs_batch)\n",
        "        \n",
        "        if self.mode == 'fit':\n",
        "            y = self.__generate_y(list_IDs_batch)\n",
        "            return X, y\n",
        "        \n",
        "        elif self.mode == 'predict':\n",
        "            return X\n",
        "\n",
        "        else:\n",
        "            raise AttributeError('The mode parameter should be set to \"fit\" or \"predict\".')\n",
        "        \n",
        "    def on_epoch_end(self):\n",
        "        'Updates indexes after each epoch'\n",
        "        self.indexes = np.arange(len(self.list_IDs))\n",
        "        if self.shuffle == True:\n",
        "            np.random.seed(self.random_state)\n",
        "            np.random.shuffle(self.indexes)\n",
        "    \n",
        "    def __generate_X(self, list_IDs_batch):\n",
        "        'Generates data containing batch_size samples'\n",
        "        X = []\n",
        "        \n",
        "        for i, ID in enumerate(list_IDs_batch):\n",
        "            im_name = self.image_paths[ID]\n",
        "            img_path = f\"{self.base_path}{im_name}\"\n",
        "            img = self.__load_rgb(img_path)\n",
        "            \n",
        "            X.append(img)\n",
        "\n",
        "        X = np.array(X)\n",
        "        return X\n",
        "    \n",
        "    def __generate_y(self, list_IDs_batch):\n",
        "        y1 = []\n",
        "        y2 = []\n",
        "        for i, ID in enumerate(list_IDs_batch):\n",
        "            image_id = self.image_paths[ID][:-4]\n",
        "            bbox = self.df[self.df['image_id']==image_id]['bbox']\n",
        "            mask, width, height = heatmap(bbox)\n",
        "            y1.append(np.concatenate([mask,width,height], axis=-1))\n",
        "            y2.append(mask)\n",
        "        \n",
        "        y1 = np.array(y1)\n",
        "        y2 = np.array(y2)\n",
        "        return [y1,y2]\n",
        "    \n",
        "    def __load_grayscale(self, img_path):\n",
        "        img = cv2.imread(img_path, cv2.IMREAD_GRAYSCALE)\n",
        "        img = img.astype(np.float32) / 255.\n",
        "        img = np.expand_dims(img, axis=-1)\n",
        "\n",
        "        return img\n",
        "    \n",
        "    def __load_rgb(self, img_path):\n",
        "        img = cv2.cvtColor(cv2.imread(img_path), cv2.COLOR_BGR2RGB)\n",
        "\n",
        "        img = normalize_image(img)\n",
        "        return img"
      ],
      "metadata": {
        "id": "MKG0QXy9IBf2"
      },
      "execution_count": null,
      "outputs": []
    },
    {
      "cell_type": "code",
      "source": [
        "train_gen = DataGenerator(\n",
        "    list(range(len(train_df))), \n",
        "    df=df,\n",
        "    target_df=df,\n",
        "    batch_size=config.batch_size,\n",
        "    dim=(1024,1024),\n",
        "    n_classes=config.num_classes,\n",
        "    image_paths=train_df,\n",
        "    shuffle=True\n",
        ")\n",
        "\n",
        "img, regr = train_gen.__getitem__(1)\n",
        "hm = regr[1][0][:,:,0]\n",
        "width = regr[0][0][:,:,1]\n",
        "height = regr[0][0][:,:,2]\n",
        "\n",
        "img = cv2.resize(img[0], (256,256))\n",
        "\n",
        "nrow, ncol = 3, 1\n",
        "fig, axes = plt.subplots(nrow, ncol, figsize=(20, 20))\n",
        "axes = axes.flatten()\n",
        "for i, ax in enumerate(axes):\n",
        "  if i == 0:\n",
        "    ax.imshow(img)\n",
        "    ax.imshow(hm, alpha=0.5)\n",
        "  elif i == 1:\n",
        "    ax.imshow(img)\n",
        "    ax.imshow(width, alpha=0.5)\n",
        "  else:\n",
        "    ax.imshow(img)\n",
        "    ax.imshow(height, alpha=0.5)"
      ],
      "metadata": {
        "colab": {
          "base_uri": "https://localhost:8080/",
          "height": 1000
        },
        "id": "q4p6GRqnG4D_",
        "outputId": "2ac64140-4832-4643-cd92-40093cfe32b8"
      },
      "execution_count": null,
      "outputs": [
        {
          "output_type": "stream",
          "name": "stderr",
          "text": [
            "Clipping input data to the valid range for imshow with RGB data ([0..1] for floats or [0..255] for integers).\n",
            "Clipping input data to the valid range for imshow with RGB data ([0..1] for floats or [0..255] for integers).\n",
            "Clipping input data to the valid range for imshow with RGB data ([0..1] for floats or [0..255] for integers).\n"
          ]
        },
        {
          "output_type": "display_data",
          "data": {
            "text/plain": [
              "<Figure size 1440x1440 with 3 Axes>"
            ],
            "image/png": "[encoded data removed]"
          },
          "metadata": {
            "needs_background": "light"
          }
        }
      ]
    },
    {
      "cell_type": "code",
      "source": [
        "from tensorflow.keras.utils import to_categorical"
      ],
      "metadata": {
        "id": "sxgB55eRIyF5"
      },
      "execution_count": null,
      "outputs": []
    },
    {
      "cell_type": "code",
      "source": [
        "import keras\n",
        "import tensorflow as tf\n",
        "import keras.backend as K\n",
        "from keras.layers import Dense, Activation, Input, Conv2D, BatchNormalization, Add, UpSampling2D, ZeroPadding2D, Lambda, Concatenate, Dropout, SpatialDropout2D\n",
        "from keras.models import Sequential, Model\n",
        "from tensorflow.keras.utils import get_file"
      ],
      "metadata": {
        "id": "ZhxM0DbZI2zf"
      },
      "execution_count": null,
      "outputs": []
    },
    {
      "cell_type": "code",
      "source": [
        "weights_path = get_file('centernet.hdf5',\n",
        "                          'https://github.com/see--/keras-centernet/releases/download/0.1.0/ctdet_coco_hg.hdf5',\n",
        "                          cache_subdir='/kaggle/working/', \n",
        "                          file_hash='ce01e92f75b533e3ff8e396c76d55d97ff3ec27e99b1bdac1d7b0d6dcf5d90eb')\n",
        "\n",
        "def HourglassNetwork(heads, num_stacks, cnv_dim=256, inres=(512, 512), weights_path='/kaggle/working/centernet.hdf5',\n",
        "                     dims=[256, 384, 384, 384, 512]):\n",
        "    \"\"\"Instantiates the Hourglass architecture.\n",
        "    Optionally loads weights pre-trained on COCO.\n",
        "    Note that the data format convention used by the model is\n",
        "    the one specified in your Keras config at `~/.keras/keras.json`.\n",
        "    # Arguments\n",
        "      num_stacks: number of hourglass modules.\n",
        "      cnv_dim: number of filters after the resolution is decreased.\n",
        "      inres: network input shape, should be a multiple of 128.\n",
        "      weights: one of `None` (random initialization),\n",
        "            'ctdet_coco' (pre-training on COCO for 2D object detection),\n",
        "            'hpdet_coco' (pre-training on COCO for human pose detection),\n",
        "            or the path to the weights file to be loaded.\n",
        "      dims: numbers of channels in the hourglass blocks.\n",
        "    # Returns\n",
        "      A Keras model instance.\n",
        "    # Raises\n",
        "      ValueError: in case of invalid argument for `weights`,\n",
        "          or invalid input shape.\n",
        "    \"\"\"\n",
        "    \n",
        "    input_layer = Input(shape=(inres[0], inres[1], 3), name='HGInput')\n",
        "    inter = pre(input_layer, cnv_dim)\n",
        "    prev_inter = None\n",
        "    outputs = []\n",
        "    for i in range(num_stacks):\n",
        "        prev_inter = inter\n",
        "        _heads, inter = hourglass_module(heads, inter, cnv_dim, i, dims)\n",
        "        if i == 1:\n",
        "            if _heads is not None:\n",
        "                outputs.extend(_heads)\n",
        "        if i < num_stacks - 1:\n",
        "            inter_ = Conv2D(cnv_dim, 1, use_bias=False, name='inter_.%d.0' % i)(prev_inter)\n",
        "            inter_ = BatchNormalization(epsilon=1e-5, name='inter_.%d.1' % i)(inter_)\n",
        "\n",
        "            cnv_ = Conv2D(cnv_dim, 1, use_bias=False, name='cnv_.%d.0' % i)(inter)\n",
        "            cnv_ = BatchNormalization(epsilon=1e-5, name='cnv_.%d.1' % i)(cnv_)\n",
        "\n",
        "            inter = Add(name='inters.%d.inters.add' % i)([inter_, cnv_])\n",
        "            inter = Activation('relu', name='inters.%d.inters.relu' % i)(inter)\n",
        "            inter = residual(inter, cnv_dim, 'inters.%d' % i)\n",
        "\n",
        "    model = Model(inputs=input_layer, outputs=outputs)\n",
        "\n",
        "    # load weights\n",
        "    print('Loading weights...')\n",
        "    model.load_weights(weights_path, by_name=True)\n",
        "    print('Done!')\n",
        "\n",
        "    return model\n",
        "\n",
        "def hourglass_module(heads, bottom, cnv_dim, hgid, dims):\n",
        "    # create left features , f1, f2, f4, f8, f16 and f32\n",
        "    lfs = left_features(bottom, hgid, dims)\n",
        "\n",
        "    # create right features, connect with left features\n",
        "    rf1 = right_features(lfs, hgid, dims)\n",
        "    rf1 = convolution(rf1, 3, cnv_dim, name='cnvs.%d' % hgid)\n",
        "\n",
        "    # add 1x1 conv with two heads, inter is sent to next stage\n",
        "    # head_parts is used for intermediate supervision\n",
        "    if heads is not None:\n",
        "        heads = create_heads(heads, rf1, hgid)\n",
        "    return heads, rf1\n",
        "\n",
        "def convolution(_x, k, out_dim, name, stride=1):\n",
        "    padding = (k - 1) // 2\n",
        "    _x = ZeroPadding2D(padding=padding, name=name + '.pad')(_x)\n",
        "    _x = Conv2D(out_dim, k, strides=stride, use_bias=False, name=name + '.conv')(_x)\n",
        "    _x = BatchNormalization(epsilon=1e-5, name=name + '.bn')(_x)\n",
        "    _x = Activation('relu', name=name + '.relu')(_x)\n",
        "    return _x\n",
        "\n",
        "def residual(_x, out_dim, name, stride=1):\n",
        "    shortcut = _x\n",
        "    num_channels = K.int_shape(shortcut)[-1]\n",
        "    _x = ZeroPadding2D(padding=1, name=name + '.pad1')(_x)\n",
        "    _x = Conv2D(out_dim, 3, strides=stride, use_bias=False, name=name + '.conv1')(_x)\n",
        "    _x = BatchNormalization(epsilon=1e-5, name=name + '.bn1')(_x)\n",
        "    _x = Activation('relu', name=name + '.relu1')(_x)\n",
        "\n",
        "    _x = Conv2D(out_dim, 3, padding='same', use_bias=False, name=name + '.conv2')(_x)\n",
        "    _x = BatchNormalization(epsilon=1e-5, name=name + '.bn2')(_x)\n",
        "\n",
        "    if num_channels != out_dim or stride != 1:\n",
        "        shortcut = Conv2D(out_dim, 1, strides=stride, use_bias=False, name=name + '.shortcut.0')(\n",
        "            shortcut)\n",
        "        shortcut = BatchNormalization(epsilon=1e-5, name=name + '.shortcut.1')(shortcut)\n",
        "\n",
        "    _x = Add(name=name + '.add')([_x, shortcut])\n",
        "    _x = Activation('relu', name=name + '.relu')(_x)\n",
        "    return _x\n",
        "\n",
        "def pre(_x, num_channels):\n",
        "    # front module, input to 1/4 resolution\n",
        "    _x = convolution(_x, 7, 128, name='pre.0', stride=2)\n",
        "    _x = residual(_x, num_channels, name='pre.1', stride=2)\n",
        "    return _x\n",
        "\n",
        "def left_features(bottom, hgid, dims):\n",
        "    # create left half blocks for hourglass module\n",
        "    # f1, f2, f4 , f8, f16, f32 : 1, 1/2, 1/4 1/8, 1/16, 1/32 resolution\n",
        "    # 5 times reduce/increase: (256, 384, 384, 384, 512)\n",
        "    features = [bottom]\n",
        "    for kk, nh in enumerate(dims):\n",
        "        pow_str = ''\n",
        "        for _ in range(kk):\n",
        "            pow_str += '.center'\n",
        "        _x = residual(features[-1], nh, name='kps.%d%s.down.0' % (hgid, pow_str), stride=2)\n",
        "        _x = residual(_x, nh, name='kps.%d%s.down.1' % (hgid, pow_str))\n",
        "        features.append(_x)\n",
        "    return features\n",
        "\n",
        "def connect_left_right(left, right, num_channels, num_channels_next, name):\n",
        "    # left: 2 residual modules\n",
        "    left = residual(left, num_channels_next, name=name + 'skip.0')\n",
        "    left = residual(left, num_channels_next, name=name + 'skip.1')\n",
        "\n",
        "    # up: 2 times residual & nearest neighbour\n",
        "    out = residual(right, num_channels, name=name + 'out.0')\n",
        "    out = residual(out, num_channels_next, name=name + 'out.1')\n",
        "    out = UpSampling2D(name=name + 'out.upsampleNN')(out)\n",
        "    out = Add(name=name + 'out.add')([left, out])\n",
        "    return out\n",
        "\n",
        "def bottleneck_layer(_x, num_channels, hgid):\n",
        "    # 4 residual blocks with 512 channels in the middle\n",
        "    pow_str = 'center.' * 5\n",
        "    _x = residual(_x, num_channels, name='kps.%d.%s0' % (hgid, pow_str))\n",
        "    _x = residual(_x, num_channels, name='kps.%d.%s1' % (hgid, pow_str))\n",
        "    _x = residual(_x, num_channels, name='kps.%d.%s2' % (hgid, pow_str))\n",
        "    _x = residual(_x, num_channels, name='kps.%d.%s3' % (hgid, pow_str))\n",
        "    return _x\n",
        "\n",
        "def right_features(leftfeatures, hgid, dims):\n",
        "    rf = bottleneck_layer(leftfeatures[-1], dims[-1], hgid)\n",
        "    for kk in reversed(range(len(dims))):\n",
        "        pow_str = ''\n",
        "        for _ in range(kk):\n",
        "            pow_str += 'center.'\n",
        "        rf = connect_left_right(leftfeatures[kk], rf, dims[kk], dims[max(kk - 1, 0)], name='kps.%d.%s' % (hgid, pow_str))\n",
        "    return rf\n",
        "\n",
        "def create_heads(heads, rf1, hgid):\n",
        "    _heads = []\n",
        "    for head in heads:\n",
        "        num_channels = heads[head]\n",
        "        _x = Conv2D(256, 3, use_bias=True, padding='same', name=head + '.%d.0.conv' % hgid)(rf1)\n",
        "        _x = Activation('relu', name=head + '.%d.0.relu' % hgid)(_x)\n",
        "        _x = Conv2D(num_channels, 1, use_bias=True, name=head + '.%d.1' % hgid)(_x)\n",
        "        _heads.append(_x)\n",
        "    return _heads\n",
        "\n",
        "kwargs = {\n",
        "        'num_stacks': 2,\n",
        "        'cnv_dim': 256,\n",
        "        'inres': (1024, 1024),\n",
        "        }\n",
        "heads = {\n",
        "        'regr': 2,\n",
        "        'confidence': 1\n",
        "        }\n",
        "model = HourglassNetwork(heads=heads, **kwargs)"
      ],
      "metadata": {
        "colab": {
          "base_uri": "https://localhost:8080/"
        },
        "id": "ai5gU-a2IgWA",
        "outputId": "d2c84f2f-78c6-4960-88ab-6d9aabd7a6ed"
      },
      "execution_count": null,
      "outputs": [
        {
          "output_type": "stream",
          "name": "stdout",
          "text": [
            "Downloading data from https://github.com/see--/keras-centernet/releases/download/0.1.0/ctdet_coco_hg.hdf5\n",
            "767025152/767024392 [==============================] - 11s 0us/step\n",
            "767033344/767024392 [==============================] - 11s 0us/step\n",
            "Loading weights...\n",
            "Done!\n"
          ]
        }
      ]
    },
    {
      "cell_type": "code",
      "source": [
        "alpha = .25\n",
        "gamma = 2\n",
        "def focal_loss_with_logits(logits, targets, alpha, gamma, y_pred):\n",
        "  weight_a = alpha * (1 - y_pred) ** gamma * targets\n",
        "  weight_b = (1 - alpha) * y_pred ** gamma * (1 - targets)\n",
        "    \n",
        "  return (tf.math.log1p(tf.exp(-tf.abs(logits))) + tf.nn.relu(-logits)) * (weight_a + weight_b) + logits * weight_b \n",
        "\n",
        "def focal_loss(y_true, y_pred):\n",
        "  y_pred = tf.clip_by_value(y_pred, K.epsilon(), 1 - K.epsilon())\n",
        "  logits = tf.math.log(y_pred / (1 - y_pred))\n",
        "\n",
        "  loss = focal_loss_with_logits(logits=logits, targets=y_true, alpha=alpha, gamma=gamma, y_pred=y_pred)\n",
        "\n",
        "  # or reduce_sum and/or axis=-1\n",
        "  return tf.reduce_mean(loss)\n",
        "\n",
        "from keras.losses import mean_squared_error\n",
        "\n",
        "def criterion(y_true, y_pred): # Regression Loss\n",
        "    mask = y_true[:,:,:, 0][:,:,:,np.newaxis]\n",
        "    regr = y_true[:,:,:, 1:]\n",
        "\n",
        "    regr_loss = mean_squared_error(regr, y_pred)\n",
        "    loss = regr_loss\n",
        "\n",
        "    return loss\n",
        "\n",
        "def criterion2(y_true, y_pred): # Heatmap Loss\n",
        "    mask = y_true[:,:,:, 0][:,:,:,np.newaxis]\n",
        "    prediction = y_pred\n",
        "\n",
        "    # Binary mask loss\n",
        "    pred_mask = tf.sigmoid(prediction[:,:,:, 0])[:,:,:,np.newaxis]\n",
        "    mask_loss = focal_loss(mask, pred_mask)\n",
        "    mask_loss = tf.reduce_mean(mask_loss)\n",
        "\n",
        "    loss = mask_loss\n",
        "    return loss\n",
        "\n",
        "from tensorflow.keras.optimizers import Adam\n",
        "opt = Adam(lr=config.lr)\n",
        "model.compile(optimizer=opt, loss=[criterion, criterion2], loss_weights=[5, 1])"
      ],
      "metadata": {
        "id": "9eWHxELmJBiV"
      },
      "execution_count": null,
      "outputs": []
    },
    {
      "cell_type": "code",
      "source": [
        "def _nms(heat, kernel=3):\n",
        "  hmax = K.pool2d(heat, (kernel, kernel), padding='same', pool_mode='max')\n",
        "  keep = K.cast(K.equal(hmax, heat), K.floatx())\n",
        "  return heat * keep\n",
        "\n",
        "def decode_ddd(regr_, hm_, k, output_stride):\n",
        "  hm = K.sigmoid(K.expand_dims(hm_[:,:,:,0]))\n",
        "  regr = regr_\n",
        "  hm = _nms(hm)\n",
        "  hm_shape = K.shape(hm)\n",
        "  regr_shape = K.shape(regr)\n",
        "  batch, width, cat = hm_shape[0], hm_shape[2], hm_shape[3]\n",
        "\n",
        "  hm_flat = K.reshape(hm, (batch, -1))\n",
        "  regr_flat = K.reshape(regr, (regr_shape[0], -1, regr_shape[-1]))\n",
        "\n",
        "  def _process_sample(args):\n",
        "    _hm, _regr = args\n",
        "    _scores, _inds = tf.math.top_k(_hm, k=k, sorted=True)\n",
        "    _classes = K.cast(_inds % cat, 'float32')\n",
        "    _inds = K.cast(_inds / cat, 'int32')\n",
        "    _xs = K.cast(_inds % width, 'float32')\n",
        "    _ys = K.cast(K.cast(_inds / width, 'int32'), 'float32')\n",
        "    _xs *= output_stride\n",
        "    _ys *= output_stride\n",
        "\n",
        "    _regr = K.gather(_regr, _inds)\n",
        "\n",
        "    _width = _regr[:,0] * 256\n",
        "    _height = _regr[:,1] * 256\n",
        "\n",
        "    _detection = K.stack([_xs, _ys, _scores, _classes, _width, _height], -1)\n",
        "    return _detection\n",
        "\n",
        "  detections = K.map_fn(_process_sample, [hm_flat, regr_flat], dtype=K.floatx())\n",
        "  return detections\n",
        "\n",
        "def add_decoder(model, k=125, output_stride=4):\n",
        "  def _decode(args):\n",
        "    _regr, _hm = args\n",
        "    return decode_ddd(_regr, _hm, k=k, output_stride=output_stride)\n",
        "\n",
        "  output = Lambda(_decode)([*model.outputs])\n",
        "  model = Model(model.input, output)\n",
        "  return model"
      ],
      "metadata": {
        "id": "u9ay8lyOJI5d"
      },
      "execution_count": null,
      "outputs": []
    },
    {
      "cell_type": "code",
      "source": [
        "from collections import namedtuple\n",
        "from typing import List, Union\n",
        "\n",
        "Box = namedtuple('Box', 'xmin ymin xmax ymax')\n",
        "\n",
        "def calculate_iou(gt: List[Union[int, float]],\n",
        "                  pred: List[Union[int, float]],\n",
        "                  form: str = 'pascal_voc') -> float:\n",
        "    \"\"\"Calculates the IoU.\n",
        "    \n",
        "    Args:\n",
        "        gt: List[Union[int, float]] coordinates of the ground-truth box\n",
        "        pred: List[Union[int, float]] coordinates of the prdected box\n",
        "        form: str gt/pred coordinates format\n",
        "            - pascal_voc: [xmin, ymin, xmax, ymax]\n",
        "            - coco: [xmin, ymin, w, h]\n",
        "    Returns:\n",
        "        IoU: float Intersection over union (0.0 <= iou <= 1.0)\n",
        "    \"\"\"\n",
        "    if form == 'coco':\n",
        "        bgt = Box(gt[0], gt[1], gt[0] + gt[2], gt[1] + gt[3])\n",
        "        bpr = Box(pred[0], pred[1], pred[0] + pred[2], pred[1] + pred[3])\n",
        "    else:\n",
        "        bgt = Box(gt[0], gt[1], gt[2], gt[3])\n",
        "        bpr = Box(pred[0], pred[1], pred[2], pred[3])\n",
        "        \n",
        "\n",
        "    overlap_area = 0.0\n",
        "    union_area = 0.0\n",
        "\n",
        "    # Calculate overlap area\n",
        "    dx = min(bgt.xmax, bpr.xmax) - max(bgt.xmin, bpr.xmin)\n",
        "    dy = min(bgt.ymax, bpr.ymax) - max(bgt.ymin, bpr.ymin)\n",
        "\n",
        "    if (dx > 0) and (dy > 0):\n",
        "        overlap_area = dx * dy\n",
        "\n",
        "    # Calculate union area\n",
        "    union_area = (\n",
        "            (bgt.xmax - bgt.xmin) * (bgt.ymax - bgt.ymin) +\n",
        "            (bpr.xmax - bpr.xmin) * (bpr.ymax - bpr.ymin) -\n",
        "            overlap_area\n",
        "    )\n",
        "\n",
        "    return overlap_area / union_area\n",
        "\n",
        "def find_best_match(gts, predd, threshold=0.5, form='pascal_voc'):\n",
        "    \"\"\"Returns the index of the 'best match' between the\n",
        "    ground-truth boxes and the prediction. The 'best match'\n",
        "    is the highest IoU. (0.0 IoUs are ignored).\n",
        "    \n",
        "    Args:\n",
        "        gts: Coordinates of the available ground-truth boxes\n",
        "        pred: Coordinates of the predicted box\n",
        "        threshold: Threshold\n",
        "        form: Format of the coordinates\n",
        "        \n",
        "    Return:\n",
        "        Index of the best match GT box (-1 if no match above threshold)\n",
        "    \"\"\"\n",
        "    best_match_iou = -np.inf\n",
        "    best_match_idx = -1\n",
        "    \n",
        "    for gt_idx, ggt in enumerate(gts):\n",
        "        iou = calculate_iou(ggt, predd, form=form)\n",
        "        \n",
        "        if iou < threshold:\n",
        "            continue\n",
        "        \n",
        "        if iou > best_match_iou:\n",
        "            best_match_iou = iou\n",
        "            best_match_idx = gt_idx\n",
        "\n",
        "    return best_match_idx\n",
        "\n",
        "def calculate_precision(preds_sorted, gt_boxes, threshold=0.5, form='coco'):\n",
        "    \"\"\"Calculates precision per at one threshold.\n",
        "    \n",
        "    Args:\n",
        "        preds_sorted: \n",
        "    \"\"\"\n",
        "    tp = 0\n",
        "    fp = 0\n",
        "    fn = 0\n",
        "\n",
        "    fn_boxes = []\n",
        "\n",
        "    for pred_idx, pred in enumerate(preds_sorted):\n",
        "        best_match_gt_idx = find_best_match(gt_boxes, pred, threshold=threshold, form='coco')\n",
        "\n",
        "        if best_match_gt_idx >= 0:\n",
        "            # True positive: The predicted box matches a gt box with an IoU above the threshold.\n",
        "            tp += 1\n",
        "\n",
        "            # Remove the matched GT box\n",
        "            gt_boxes = np.delete(gt_boxes, best_match_gt_idx, axis=0)\n",
        "\n",
        "        else:\n",
        "            # No match\n",
        "            # False positive: indicates a predicted box had no associated gt box.\n",
        "            fn += 1\n",
        "            fn_boxes.append(pred)\n",
        "\n",
        "    # False negative: indicates a gt box had no associated predicted box.\n",
        "    fp = len(gt_boxes)\n",
        "    precision = tp / (tp + fp + fn)\n",
        "    return precision, fn_boxes, gt_boxes\n",
        "\n",
        "def calculate_image_precision(preds_sorted, gt_boxes, thresholds=(0.5), form='coco', debug=False):\n",
        "    \n",
        "    n_threshold = len(thresholds)\n",
        "    image_precision = 0.0\n",
        "    \n",
        "    for threshold in thresholds:\n",
        "        precision_at_threshold, _, _ = calculate_precision(preds_sorted,\n",
        "                                                           gt_boxes,\n",
        "                                                           threshold=threshold,\n",
        "                                                           form=form\n",
        "                                                          )\n",
        "        if debug:\n",
        "            print(\"@{0:.2f} = {1:.4f}\".format(threshold, precision_at_threshold))\n",
        "\n",
        "        image_precision += precision_at_threshold / n_threshold\n",
        "    \n",
        "    return image_precision"
      ],
      "metadata": {
        "id": "d72r4jPnJO5V"
      },
      "execution_count": null,
      "outputs": []
    },
    {
      "cell_type": "code",
      "source": [
        "def calcmAP(model, threshold=0.5):\n",
        "  model_ = add_decoder(model)\n",
        "  \n",
        "  iou_thresholds = [x for x in np.arange(0.5, 0.76, 0.05)]\n",
        "  \n",
        "  precision = []\n",
        "\n",
        "  for idx in trange(len(val_df)):\n",
        "    image_path = val_df[idx]\n",
        "    img = cv2.cvtColor(cv2.imread(f'{config.IMAGE_PATH}{image_path}'), cv2.COLOR_BGR2RGB)\n",
        "    img = normalize_image(img)\n",
        "    \n",
        "    image_id = image_path[:-4]\n",
        "    bbox = df[df['image_id']==image_id]['bbox']\n",
        "    boxes = get_boxes(bbox)\n",
        "\n",
        "    out = model_.predict(img[None])\n",
        "\n",
        "    pred_box,scores=[],[]\n",
        "\n",
        "    for detection in out[0]:\n",
        "      if detection[2] > threshold:\n",
        "        x, y, score, _, width, height = detection\n",
        "        pred_box.append([max(x-(width/2.), 0), max(y-(height/2.), 0), width, height])\n",
        "        scores.append(score)\n",
        "\n",
        "    pred_box = np.array(pred_box, dtype=np.int32)\n",
        "    scores = np.array(scores)\n",
        "\n",
        "    preds_sorted_idx = np.argsort(scores)[::-1]\n",
        "    preds_sorted = pred_box[preds_sorted_idx]\n",
        "\n",
        "    if len(boxes) > 0:\n",
        "      image_precision = calculate_image_precision(preds_sorted, boxes,\n",
        "                                                thresholds=iou_thresholds,\n",
        "                                                form='coco', debug=False)\n",
        "      precision.append(image_precision)\n",
        "    else:\n",
        "      if len(preds_sorted) > 0:\n",
        "        precision.append(0)\n",
        "  \n",
        "  precision = np.array(precision)\n",
        "  return np.mean(precision)"
      ],
      "metadata": {
        "id": "cz9iIjZwJafd"
      },
      "execution_count": null,
      "outputs": []
    },
    {
      "cell_type": "code",
      "source": [
        "class SaveBestmAP(tf.keras.callbacks.Callback):\n",
        "  def __init__(self, path):\n",
        "    super(SaveBestmAP, self).__init__()\n",
        "    self.best_weights = None\n",
        "    self.path = path\n",
        "\n",
        "  def on_train_begin(self, logs=None):\n",
        "    self.best = 0\n",
        "\n",
        "  def on_epoch_end(self, epoch, logs=None):\n",
        "    current = calcmAP(self.model, 0.4)\n",
        "    if np.greater(current, self.best):\n",
        "      self.best = current\n",
        "      self.best_weights = self.model.get_weights()\n",
        "      print(f'Best mAP: {current}, saving...')\n",
        "      self.model.save_weights(self.path)\n",
        "    else:\n",
        "      print(f'Current mAP: {current}')\n",
        "  \n",
        "  def on_train_end(self, logs=None):\n",
        "    print(f'Loading best model...')\n",
        "    self.model.load_weights(self.path)"
      ],
      "metadata": {
        "id": "8ff5fTPbJf8P"
      },
      "execution_count": null,
      "outputs": []
    },
    {
      "cell_type": "code",
      "source": [
        "from keras.callbacks import ReduceLROnPlateau\n",
        "\n",
        "train_gen = DataGenerator(\n",
        "    list(range(len(train_df))), \n",
        "    df=df,\n",
        "    target_df=df,\n",
        "    batch_size=config.batch_size,\n",
        "    dim=(1024,1024),\n",
        "    n_classes=config.num_classes,\n",
        "    image_paths=train_df,\n",
        "    shuffle=True\n",
        ")\n",
        "\n",
        "val_gen = DataGenerator(\n",
        "    list(range(len(val_df))), \n",
        "    df=df,\n",
        "    target_df=df,\n",
        "    batch_size=config.batch_size,\n",
        "    dim=(1024,1024),\n",
        "    n_classes=config.num_classes,\n",
        "    image_paths=val_df,\n",
        "    shuffle=False\n",
        ")\n",
        "\n",
        "checkpoint1 = ModelCheckpoint(\n",
        "    'hourglass1.h5',\n",
        "    monitor='loss', \n",
        "    verbose=0, \n",
        "    save_best_only=True,\n",
        "    save_weights_only=True,\n",
        "    mode='auto'\n",
        ")\n",
        "\n",
        "checkpoint2 = ModelCheckpoint(\n",
        "    'hourglass1-2.h5',\n",
        "    monitor='loss', \n",
        "    verbose=0, \n",
        "    save_best_only=False,\n",
        "    save_weights_only=True,\n",
        "    mode='auto'\n",
        ")\n",
        "\n",
        "reducelr = ReduceLROnPlateau(\n",
        "    monitor='loss',\n",
        "    factor=0.25,\n",
        "    patience=2,\n",
        "    min_lr=1e-5,\n",
        "    verbose=1\n",
        ")\n",
        "\n",
        "savemAP = SaveBestmAP('hourglass1-3.h5')\n",
        "\n",
        "history = model.fit_generator(\n",
        "    train_gen,\n",
        "    validation_data=val_gen,\n",
        "    #epochs=config.epochs,\n",
        "    epochs=3,\n",
        "    callbacks=[reducelr, checkpoint1, checkpoint2, savemAP],\n",
        "    use_multiprocessing=False,\n",
        "    workers=4\n",
        ")"
      ],
      "metadata": {
        "colab": {
          "base_uri": "https://localhost:8080/"
        },
        "id": "LdVfpS_LJkL2",
        "outputId": "c94ac71e-46da-438f-b95c-994e2d0cc163"
      },
      "execution_count": null,
      "outputs": [
        {
          "output_type": "stream",
          "name": "stdout",
          "text": [
            "Epoch 1/3\n",
            "  22/2695 [..............................] - ETA: 89:49:28 - loss: 0.0564 - regr.1.1_loss: 0.0086 - confidence.1.1_loss: 0.0134"
          ]
        }
      ]
    },
    {
      "cell_type": "code",
      "source": [
        "test_img = f'train/{val_df[0]}'\n",
        "\n",
        "bbox = df[df['image_id']==val_df[0][:-4]]['bbox']\n",
        "boxes = get_boxes(bbox)\n",
        "\n",
        "img = cv2.cvtColor(cv2.imread(test_img), cv2.COLOR_BGR2RGB)\n",
        "\n",
        "plt.imshow(img)"
      ],
      "metadata": {
        "id": "Oa3VBJUtJf4d"
      },
      "execution_count": null,
      "outputs": []
    },
    {
      "cell_type": "code",
      "source": [
        "img = normalize_image(img)\n",
        "regr, hm = model.predict(img[None])"
      ],
      "metadata": {
        "id": "xWAyw0ERJ7PW"
      },
      "execution_count": null,
      "outputs": []
    },
    {
      "cell_type": "code",
      "source": [
        "plt.imshow(regr[0][:,:,0])"
      ],
      "metadata": {
        "id": "bgG_dC4kJ91m"
      },
      "execution_count": null,
      "outputs": []
    },
    {
      "cell_type": "code",
      "source": [
        "plt.imshow(regr[0][:,:,1])"
      ],
      "metadata": {
        "id": "RNpjGNw2KAE1"
      },
      "execution_count": null,
      "outputs": []
    },
    {
      "cell_type": "code",
      "source": [
        "model_ = add_decoder(model)"
      ],
      "metadata": {
        "id": "CxhAhvfqKCz1"
      },
      "execution_count": null,
      "outputs": []
    },
    {
      "cell_type": "code",
      "source": [
        "img = cv2.cvtColor(cv2.imread(test_img), cv2.COLOR_BGR2RGB)\n",
        "img = normalize_image(img)\n",
        "out = model_.predict(img[None]) # bs x 125 x 6"
      ],
      "metadata": {
        "id": "T9nNmj8CKFd-"
      },
      "execution_count": null,
      "outputs": []
    },
    {
      "cell_type": "code",
      "source": [
        "pred_box,scores=[],[]\n",
        "\n",
        "for detection in out[0]:\n",
        "  if detection[2] > 0.25:\n",
        "    x, y, score, _, width, height = detection\n",
        "    pred_box.append([max(x-(width/2.), 0), max(y-(height/2.), 0), width, height])\n",
        "    scores.append(score)\n",
        "\n",
        "pred_box = np.array(pred_box, dtype=np.int32)\n",
        "scores = np.array(scores)\n",
        "\n",
        "preds_sorted_idx = np.argsort(scores)[::-1]\n",
        "preds_sorted = pred_box[preds_sorted_idx]"
      ],
      "metadata": {
        "id": "LK9aH1itKIRt"
      },
      "execution_count": null,
      "outputs": []
    },
    {
      "cell_type": "code",
      "source": [
        "preds_sorted"
      ],
      "metadata": {
        "id": "neMCdbjmKFY1"
      },
      "execution_count": null,
      "outputs": []
    },
    {
      "cell_type": "code",
      "source": [
        "def show_result(sample_id, preds, gt_boxes):\n",
        "    sample = cv2.cvtColor(cv2.imread(test_img), cv2.COLOR_BGR2RGB)\n",
        "\n",
        "    fig, ax = plt.subplots(1, 1, figsize=(16, 8))\n",
        "\n",
        "    for pred_box in preds:\n",
        "        cv2.rectangle(\n",
        "            sample,\n",
        "            (pred_box[0], pred_box[1]),\n",
        "            (pred_box[0] + pred_box[2], pred_box[1] + pred_box[3]),\n",
        "            (220, 0, 0), 2\n",
        "        )\n",
        "\n",
        "    if gt_boxes is not None:\n",
        "      for gt_box in gt_boxes:    \n",
        "          cv2.rectangle(\n",
        "              sample,\n",
        "              (gt_box[0], gt_box[1]),\n",
        "              (gt_box[0] + gt_box[2], gt_box[1] + gt_box[3]),\n",
        "              (0, 0, 220), 2\n",
        "          )\n",
        "\n",
        "    ax.set_axis_off()\n",
        "    ax.imshow(sample)\n",
        "    ax.set_title(\"RED: Predicted | BLUE - Ground-truth\")"
      ],
      "metadata": {
        "id": "uF2fgkICKLcH"
      },
      "execution_count": null,
      "outputs": []
    },
    {
      "cell_type": "code",
      "source": [
        "iou_thresholds = [x for x in np.arange(0.5, 0.76, 0.05)]\n",
        "image_precision = calculate_image_precision(preds_sorted, boxes,\n",
        "                                                thresholds=iou_thresholds,\n",
        "                                                form='coco', debug=False)\n",
        "print(f'Score: {image_precision}')\n",
        "\n",
        "show_result(1, preds_sorted, boxes)"
      ],
      "metadata": {
        "id": "SfKADCgWKLXw"
      },
      "execution_count": null,
      "outputs": []
    },
    {
      "cell_type": "markdown",
      "source": [
        "9) DETR"
      ],
      "metadata": {
        "id": "30AYmQ1XGkkN"
      }
    },
    {
      "cell_type": "markdown",
      "source": [
        "10) Hãy đề xuất đề tài nghiên cứu cho project cuối khóa. Phác thảo các bước cần triển khai trong nghiên cứu đó bao gồm: nội dung, timeline ước tính và kết quả."
      ],
      "metadata": {
        "id": "cZsPUTUyoGu8"
      }
    },
    {
      "cell_type": "markdown",
      "source": [
        "Chủ đề cuối khóa: **Nhận dạng lúa mì dựa trên R-CNN**"
      ],
      "metadata": {
        "id": "a30Snnvbck1g"
      }
    },
    {
      "cell_type": "markdown",
      "source": [
        "Việc nhận dạng lúa mì có ý nghĩa rất lớn trong nông nghiệp. Dựa trên việc nhận này, ta có thể xác định được kích thước, số lượng, mật độ của các bông lúa trong từng thời kì. Dựa trên những số liệu đo được, ta có thể đánh giá được mức độ ảnh hưởng của các yếu tố như giống lúa, nhiệt độ, độ ẩm, ánh sáng, dinh dưỡng trong từng thời kì phát triển của cây. Căn cứ trên những đánh giá này mà người ta có thể đưa ra điều chỉnh phù hợp cho từng thời kỳ để cây lúa phát triển và kết quả thu hoạch cao nhất."
      ],
      "metadata": {
        "id": "RqLdN_420W7K"
      }
    },
    {
      "cell_type": "markdown",
      "source": [
        "1. Tìm hiểu tổng quan về bài toán phát hiện đối tượng (Hoàn thành)\n",
        "\n",
        "2. Tìm hiểu kiến trúc CNN (Hoàn thành)\n",
        "\n",
        "3. Kiến trúc họ RCNN (20/03-09/04)\n",
        "\n",
        "4. Ứng dụng Faster R-CNN cho nhận dạng lúa mì (10/04-kết thúc khóa học)"
      ],
      "metadata": {
        "id": "Ue5FDCZ2cwj-"
      }
    }
  ]
}