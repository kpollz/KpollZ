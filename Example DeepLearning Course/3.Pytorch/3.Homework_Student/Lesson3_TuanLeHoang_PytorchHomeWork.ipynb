{
  "nbformat": 4,
  "nbformat_minor": 0,
  "metadata": {
    "colab": {
      "name": "Lesson3_TuanLeHoang_PytorchHomeWork.ipynb",
      "provenance": [],
      "collapsed_sections": []
    },
    "kernelspec": {
      "name": "python3",
      "display_name": "Python 3"
    },
    "language_info": {
      "name": "python"
    }
  },
  "cells": [
    {
      "cell_type": "markdown",
      "source": [
        "# 1. Lý thuyết\n",
        "\n",
        "**1) Để khởi tạo model trong pytorch chúng ta sử dụng class nào?**\n",
        "\n",
        "A. nn.Module\n",
        "\n",
        "B. nn.Dense\n",
        "\n",
        "C. nn.optim.Adam\n",
        "\n",
        "D. nn.Dropout\n",
        "</br>\n",
        "Chọn A, kế thừa từ nn.Module.\n",
        "\n",
        "**2) Để khởi tạo mạng neural network trong pytorch chúng ta cần làm gì ?**\n",
        "\n",
        "A. Kế thừa lại class `nn.Model`. Khởi tạo các layers trong hàm tạo `__init__()` và sử dụng các layers để tính toán dữ liệu trong hàm `forward()`.\n",
        "\n",
        "B. Khởi tạo một object của class `nn.Model` và sử dụng hàm `add()` để thêm từng layer vào mô hình.\n",
        "\n",
        "C. Sử dụng class `nn.Model` để khởi tạo mô hình. Truyền vào bên trong class này một list gồm các layers.\n",
        "\n",
        "D. Kế thừa lại class `nn.Module`. Khởi tạo các layers trong hàm tạo `__init__()` và sử dụng các layers để tính toán dữ liệu trong hàm `forward()`.\n",
        "\n",
        "</br>\n",
        "Chọn D. \n",
        "\n",
        "**3) Các modules chính trong pytorch dùng để xây dựng và huấn luyện model.**\n",
        "\n",
        "A. `torch.nn`: Dùng để khởi tạo các layers và activations function và loss function, `torch.optim`: Khởi tạo optimizer, `torch.data`: Khởi tạo dataset và dataloader.\n",
        "\n",
        "B. `torch.nn`: Dùng để khởi tạo các layers và activations function và loss function, `torch.optim`: Khởi tạo optimizer, `torch.utils.data`: Khởi tạo dataset và dataloader.\n",
        "\n",
        "C. `torch.nn`: Dùng để khởi tạo các layers và activations function, `torch.optim`: Khởi tạo optimizer, `torch.data`: Khởi tạo dataset và dataloader, `torch.loss`: Khởi tạo loss function.\n",
        "\n",
        "D. `torch.nn`: Dùng để khởi tạo các layers và loss function, `torch.optim`: Khởi tạo optimizer, `torch.data`: Khởi tạo dataset và dataloader, `torch.activations`: Khởi tạo activations function.\n",
        "\n",
        "Chọn B.\n",
        "\n",
        "**4) Để customize một Dataset trên pytorch chúng ta cần thực hiện như thế nào?**\n",
        "\n",
        "A. Sử dụng thuộc tính `transformer` để qui định các biến đổi trên dữ liệu. Những biến đổi này được thực hiện trên hàm tạo.\n",
        "\n",
        "B. Khởi tạo một class kế thừa lại `torch.utils.data.Dataset`. Khai báo các thuộc tính cần sử dụng trong hàm tạo của dataset như list đường dẫn, list label. Override lại hàm `__getitem__()` để thực hiện các xử lý trên dữ liệu.\n",
        "\n",
        "C. Kế thừa lại một class `Dataset`. Các điều chỉnh trên dữ liệu được thực hiện trên hàm `transformer()`.\n",
        "\n",
        "D. Sử dụng hàm `__getitem__()` để trả về toàn bộ các quan sát khi huấn luyện.\n",
        "\n",
        "Chọn B.\n",
        "\n",
        "**5) Ý nghĩa của tham số epochs và batch_size trong huấn luyện mô hình là gì?**\n",
        "\n",
        "A. epochs là kích thước của một mini-batch, batch_size là số lượt lặp lại toàn bộ dữ liệu khi huấn luyện.\n",
        "\n",
        "B. epochs là số lượt lặp lại toàn bộ dữ liệu validation khi huấn luyện, batch_size là kích thước của một mini-batch.\n",
        "\n",
        "C. epochs là số lượt lặp lại toàn bộ dữ liệu train khi huấn luyện, batch_size là kích thước của một mini-batch.\n",
        "\n",
        "D. epochs là số lượng vòng lặp, mỗi vòng lặp là một lượt fit mini-batch, trên bộ dữ liệu khi huấn luyện; batch_size là kích thước của một mini-batch.\n",
        "</br>\n",
        "Chọn C"
      ],
      "metadata": {
        "id": "DUXbtwUsAGPq"
      }
    },
    {
      "cell_type": "markdown",
      "source": [
        "# 2. Thực hành\n",
        "\n",
        "\n",
        "\n",
        "\n",
        "\n",
        "\n",
        "\n",
        "\n",
        "\n",
        "\n"
      ],
      "metadata": {
        "id": "LzLjMsckAJAT"
      }
    },
    {
      "cell_type": "markdown",
      "source": [
        "6) Khởi tạo một tensor 3 chiều với định dạng là float và kích thước là 32x32x3"
      ],
      "metadata": {
        "id": "1EIeJwL6khN_"
      }
    },
    {
      "cell_type": "code",
      "source": [
        "import torch"
      ],
      "metadata": {
        "id": "EKCaQ8PRkkTc"
      },
      "execution_count": null,
      "outputs": []
    },
    {
      "cell_type": "code",
      "source": [
        "x = torch.randn(3,32,32) # 3 32 32 dimension is closer dimension to an image than 32 32 3 one"
      ],
      "metadata": {
        "id": "nzMW3B7jkqn9"
      },
      "execution_count": null,
      "outputs": []
    },
    {
      "cell_type": "code",
      "source": [
        "x.shape"
      ],
      "metadata": {
        "colab": {
          "base_uri": "https://localhost:8080/"
        },
        "id": "KBH_sDGTk7Hb",
        "outputId": "2e6b7ba3-7782-414e-adb9-38d19c2fdb14"
      },
      "execution_count": null,
      "outputs": [
        {
          "output_type": "execute_result",
          "data": {
            "text/plain": [
              "torch.Size([3, 32, 32])"
            ]
          },
          "metadata": {},
          "execution_count": 6
        }
      ]
    },
    {
      "cell_type": "markdown",
      "source": [
        "7) Nếu coi tensor trên là một bức ảnh RGB với số channel là 3 ở cuối. Hãy truy suất các ma trận ảnh tương ứng với mỗi kênh R, G, B."
      ],
      "metadata": {
        "id": "cbOXaV9ulfCU"
      }
    },
    {
      "cell_type": "code",
      "source": [
        "R_channel = x[0]\n",
        "G_channel = x[1]\n",
        "B_channel = x[2]\n",
        "R_channel.shape"
      ],
      "metadata": {
        "colab": {
          "base_uri": "https://localhost:8080/"
        },
        "id": "kQmZI6XNlL46",
        "outputId": "5b1ad61a-73e5-4ac4-8170-ae0de2aa888d"
      },
      "execution_count": null,
      "outputs": [
        {
          "output_type": "execute_result",
          "data": {
            "text/plain": [
              "torch.Size([32, 32])"
            ]
          },
          "metadata": {},
          "execution_count": 9
        }
      ]
    },
    {
      "cell_type": "code",
      "source": [
        "print(\"R_channel: \\n{} \".format(R_channel))\n",
        "print(\"G_channel: \\n{}\".format(G_channel))\n",
        "print(\"B_channel:\\n{}\".format(B_channel))"
      ],
      "metadata": {
        "id": "HmSJFb0JlpNB",
        "colab": {
          "base_uri": "https://localhost:8080/"
        },
        "outputId": "fdd45bae-e448-4aac-8da2-9c72459060fc"
      },
      "execution_count": null,
      "outputs": [
        {
          "output_type": "stream",
          "name": "stdout",
          "text": [
            "R_channel: \n",
            "tensor([[-0.4439,  1.1791, -0.0494,  ...,  0.1314, -1.0900, -1.1552],\n",
            "        [-0.2671, -1.5728,  1.3340,  ...,  0.0826, -0.3470, -0.9883],\n",
            "        [-1.2039,  0.7003,  0.0161,  ..., -0.4349,  0.3561,  0.2048],\n",
            "        ...,\n",
            "        [ 0.1297, -0.1499, -0.8083,  ..., -0.4763, -1.3403, -0.2940],\n",
            "        [ 1.5780,  1.5241, -0.0529,  ..., -0.3586,  1.0190,  0.9684],\n",
            "        [ 0.7757,  0.7149, -0.3186,  ..., -0.3818,  2.0119,  0.1405]]) \n",
            "G_channel: \n",
            "tensor([[-0.3624,  1.8790,  0.3341,  ...,  1.5007,  0.1467, -0.5215],\n",
            "        [-0.4674,  1.0595, -0.4222,  ...,  0.1825,  0.4517,  1.6744],\n",
            "        [ 0.5699, -0.0443, -0.2575,  ..., -0.2160, -0.4150,  0.1225],\n",
            "        ...,\n",
            "        [ 1.6401,  0.3189,  0.5395,  ...,  2.0589,  0.3075,  0.4097],\n",
            "        [-0.4372,  1.0793, -0.0483,  ..., -0.1955,  0.7248,  2.1783],\n",
            "        [-0.9263,  1.2319, -0.6023,  ..., -0.0464, -0.2796, -0.3461]])\n",
            "B_channel:\n",
            "tensor([[ 0.4783,  0.3409, -1.0469,  ...,  1.2417, -0.5506,  0.3570],\n",
            "        [-0.8972,  0.1300,  0.3120,  ..., -0.7056,  0.9555, -0.7637],\n",
            "        [-0.8905,  0.9633,  2.0219,  ...,  0.5307, -0.5963, -0.1924],\n",
            "        ...,\n",
            "        [ 1.8690,  0.2145,  1.5522,  ..., -0.9221,  0.6691, -1.7756],\n",
            "        [-0.0742,  0.4603, -0.9556,  ...,  0.9731,  0.5980,  0.3716],\n",
            "        [ 0.2701, -1.3791, -0.2586,  ..., -1.6720,  1.7919,  0.2954]])\n"
          ]
        }
      ]
    },
    {
      "cell_type": "markdown",
      "source": [
        "8) Thực hiện tích hadamard và tích thông thường giữa ma trận R và G."
      ],
      "metadata": {
        "id": "SUJPaAe6mAAX"
      }
    },
    {
      "cell_type": "code",
      "source": [
        "print(\"Hadamard product:\")\n",
        "print(R_channel * G_channel)"
      ],
      "metadata": {
        "colab": {
          "base_uri": "https://localhost:8080/"
        },
        "id": "B4ze4YhslvC4",
        "outputId": "d16cefd5-71e5-4790-d0b9-7405becda9da"
      },
      "execution_count": null,
      "outputs": [
        {
          "output_type": "stream",
          "name": "stdout",
          "text": [
            "Hadamard product:\n",
            "tensor([[ 0.1609,  2.2156, -0.0165,  ...,  0.1972, -0.1599,  0.6025],\n",
            "        [ 0.1249, -1.6664, -0.5633,  ...,  0.0151, -0.1567, -1.6547],\n",
            "        [-0.6861, -0.0310, -0.0041,  ...,  0.0939, -0.1478,  0.0251],\n",
            "        ...,\n",
            "        [ 0.2127, -0.0478, -0.4361,  ..., -0.9806, -0.4122, -0.1204],\n",
            "        [-0.6900,  1.6449,  0.0026,  ...,  0.0701,  0.7385,  2.1095],\n",
            "        [-0.7185,  0.8807,  0.1919,  ...,  0.0177, -0.5625, -0.0486]])\n"
          ]
        }
      ]
    },
    {
      "cell_type": "code",
      "source": [
        "print(\"Dot product:\")\n",
        "print(R_channel@G_channel)"
      ],
      "metadata": {
        "colab": {
          "base_uri": "https://localhost:8080/"
        },
        "id": "G7eviZ-JmHD4",
        "outputId": "00fc6949-5a45-4d5b-dfba-aa4e6522fbff"
      },
      "execution_count": null,
      "outputs": [
        {
          "output_type": "stream",
          "name": "stdout",
          "text": [
            "Dot product:\n",
            "tensor([[  0.2494,  -8.9346,  -0.3921,  ...,   5.3212,  -1.3442,   4.1304],\n",
            "        [  4.1192,  -0.0137,  -8.2000,  ...,   0.2957,   0.2332, -10.0469],\n",
            "        [ -0.3374,  -7.1513,   7.9485,  ..., -11.0176,  -1.8789,  -2.5448],\n",
            "        ...,\n",
            "        [  6.0839,  -6.8075,  -6.2469,  ...,   0.7093,   2.8253,  -9.6163],\n",
            "        [  0.7143,   2.0328,   7.2291,  ...,  -8.3401,  -1.2399,   1.5140],\n",
            "        [ -1.0151,   5.4739,  -9.4158,  ...,  11.6650,  -4.7728,  -0.4066]])\n"
          ]
        }
      ]
    },
    {
      "cell_type": "markdown",
      "source": [
        "9) Từ bộ dữ liệu [Income-Classification](https://www.kaggle.com/t/090688c8d33a40b68be9e271d6ba6bae) hãy chuẩn hóa dữ liệu và phân chia tập train/test theo tỷ lệ 80/20. "
      ],
      "metadata": {
        "id": "XBYmfG61mfUj"
      }
    },
    {
      "cell_type": "code",
      "source": [
        "%cd /content/drive/MyDrive/AI/Deeplearning_course/Week 3"
      ],
      "metadata": {
        "colab": {
          "base_uri": "https://localhost:8080/"
        },
        "id": "qG2UMAHnmKuX",
        "outputId": "d77d4f32-7f27-4c97-aa65-fe0b3bcdd5bf"
      },
      "execution_count": null,
      "outputs": [
        {
          "output_type": "stream",
          "name": "stdout",
          "text": [
            "/content/drive/MyDrive/AI/Deeplearning_course/Week 3\n"
          ]
        }
      ]
    },
    {
      "cell_type": "code",
      "source": [
        "import pandas as pd\n",
        "data = pd.read_csv('./train.csv')"
      ],
      "metadata": {
        "id": "WfzNyF8DzMqL"
      },
      "execution_count": null,
      "outputs": []
    },
    {
      "cell_type": "code",
      "source": [
        "data.head(10)"
      ],
      "metadata": {
        "colab": {
          "base_uri": "https://localhost:8080/",
          "height": 601
        },
        "id": "OkorOozGzRST",
        "outputId": "8cce5a24-48c9-4143-a361-bc0a8183eca3"
      },
      "execution_count": null,
      "outputs": [
        {
          "output_type": "execute_result",
          "data": {
            "text/html": [
              "\n",
              "  <div id=\"df-830d87ad-5bba-4a28-aa61-c0d237db64c8\">\n",
              "    <div class=\"colab-df-container\">\n",
              "      <div>\n",
              "<style scoped>\n",
              "    .dataframe tbody tr th:only-of-type {\n",
              "        vertical-align: middle;\n",
              "    }\n",
              "\n",
              "    .dataframe tbody tr th {\n",
              "        vertical-align: top;\n",
              "    }\n",
              "\n",
              "    .dataframe thead th {\n",
              "        text-align: right;\n",
              "    }\n",
              "</style>\n",
              "<table border=\"1\" class=\"dataframe\">\n",
              "  <thead>\n",
              "    <tr style=\"text-align: right;\">\n",
              "      <th></th>\n",
              "      <th>ID</th>\n",
              "      <th>age</th>\n",
              "      <th>work_type</th>\n",
              "      <th>final_weight</th>\n",
              "      <th>education</th>\n",
              "      <th>total_education_yrs</th>\n",
              "      <th>marital_state</th>\n",
              "      <th>job</th>\n",
              "      <th>status</th>\n",
              "      <th>ethnicity</th>\n",
              "      <th>sex</th>\n",
              "      <th>capital_gain</th>\n",
              "      <th>capital_loss</th>\n",
              "      <th>hrs_per_week</th>\n",
              "      <th>nationality</th>\n",
              "      <th>target_income</th>\n",
              "    </tr>\n",
              "  </thead>\n",
              "  <tbody>\n",
              "    <tr>\n",
              "      <th>0</th>\n",
              "      <td>0</td>\n",
              "      <td>45</td>\n",
              "      <td>Private</td>\n",
              "      <td>175925</td>\n",
              "      <td>HS-grad</td>\n",
              "      <td>9</td>\n",
              "      <td>Married-civ-spouse</td>\n",
              "      <td>Craft-repair</td>\n",
              "      <td>Husband</td>\n",
              "      <td>White</td>\n",
              "      <td>M</td>\n",
              "      <td>0</td>\n",
              "      <td>0</td>\n",
              "      <td>40</td>\n",
              "      <td>US</td>\n",
              "      <td>0</td>\n",
              "    </tr>\n",
              "    <tr>\n",
              "      <th>1</th>\n",
              "      <td>1</td>\n",
              "      <td>23</td>\n",
              "      <td>Private</td>\n",
              "      <td>113601</td>\n",
              "      <td>Some-college</td>\n",
              "      <td>10</td>\n",
              "      <td>Never-married</td>\n",
              "      <td>Handlers-cleaners</td>\n",
              "      <td>Own-child</td>\n",
              "      <td>White</td>\n",
              "      <td>M</td>\n",
              "      <td>0</td>\n",
              "      <td>0</td>\n",
              "      <td>30</td>\n",
              "      <td>US</td>\n",
              "      <td>0</td>\n",
              "    </tr>\n",
              "    <tr>\n",
              "      <th>2</th>\n",
              "      <td>2</td>\n",
              "      <td>22</td>\n",
              "      <td>Private</td>\n",
              "      <td>112137</td>\n",
              "      <td>Some-college</td>\n",
              "      <td>10</td>\n",
              "      <td>Never-married</td>\n",
              "      <td>Prof-specialty</td>\n",
              "      <td>Other-relative</td>\n",
              "      <td>Asian-Pac-Islander</td>\n",
              "      <td>F</td>\n",
              "      <td>0</td>\n",
              "      <td>0</td>\n",
              "      <td>20</td>\n",
              "      <td>South</td>\n",
              "      <td>0</td>\n",
              "    </tr>\n",
              "    <tr>\n",
              "      <th>3</th>\n",
              "      <td>3</td>\n",
              "      <td>27</td>\n",
              "      <td>Private</td>\n",
              "      <td>153078</td>\n",
              "      <td>Prof-school</td>\n",
              "      <td>15</td>\n",
              "      <td>Never-married</td>\n",
              "      <td>Prof-specialty</td>\n",
              "      <td>Own-child</td>\n",
              "      <td>Asian-Pac-Islander</td>\n",
              "      <td>M</td>\n",
              "      <td>0</td>\n",
              "      <td>0</td>\n",
              "      <td>40</td>\n",
              "      <td>US</td>\n",
              "      <td>0</td>\n",
              "    </tr>\n",
              "    <tr>\n",
              "      <th>4</th>\n",
              "      <td>4</td>\n",
              "      <td>18</td>\n",
              "      <td>Private</td>\n",
              "      <td>375515</td>\n",
              "      <td>11th</td>\n",
              "      <td>7</td>\n",
              "      <td>Never-married</td>\n",
              "      <td>Sales</td>\n",
              "      <td>Own-child</td>\n",
              "      <td>White</td>\n",
              "      <td>F</td>\n",
              "      <td>0</td>\n",
              "      <td>0</td>\n",
              "      <td>20</td>\n",
              "      <td>US</td>\n",
              "      <td>0</td>\n",
              "    </tr>\n",
              "    <tr>\n",
              "      <th>5</th>\n",
              "      <td>5</td>\n",
              "      <td>44</td>\n",
              "      <td>Private</td>\n",
              "      <td>43711</td>\n",
              "      <td>Bachelors</td>\n",
              "      <td>13</td>\n",
              "      <td>Never-married</td>\n",
              "      <td>Other-service</td>\n",
              "      <td>Not-in-family</td>\n",
              "      <td>White</td>\n",
              "      <td>M</td>\n",
              "      <td>0</td>\n",
              "      <td>0</td>\n",
              "      <td>48</td>\n",
              "      <td>US</td>\n",
              "      <td>0</td>\n",
              "    </tr>\n",
              "    <tr>\n",
              "      <th>6</th>\n",
              "      <td>6</td>\n",
              "      <td>27</td>\n",
              "      <td>Private</td>\n",
              "      <td>103164</td>\n",
              "      <td>11th</td>\n",
              "      <td>7</td>\n",
              "      <td>Married-civ-spouse</td>\n",
              "      <td>Craft-repair</td>\n",
              "      <td>Husband</td>\n",
              "      <td>White</td>\n",
              "      <td>M</td>\n",
              "      <td>0</td>\n",
              "      <td>0</td>\n",
              "      <td>40</td>\n",
              "      <td>US</td>\n",
              "      <td>0</td>\n",
              "    </tr>\n",
              "    <tr>\n",
              "      <th>7</th>\n",
              "      <td>7</td>\n",
              "      <td>38</td>\n",
              "      <td>Private</td>\n",
              "      <td>172538</td>\n",
              "      <td>Bachelors</td>\n",
              "      <td>13</td>\n",
              "      <td>Married-civ-spouse</td>\n",
              "      <td>Exec-managerial</td>\n",
              "      <td>Husband</td>\n",
              "      <td>White</td>\n",
              "      <td>M</td>\n",
              "      <td>15024</td>\n",
              "      <td>0</td>\n",
              "      <td>50</td>\n",
              "      <td>US</td>\n",
              "      <td>1</td>\n",
              "    </tr>\n",
              "    <tr>\n",
              "      <th>8</th>\n",
              "      <td>8</td>\n",
              "      <td>59</td>\n",
              "      <td>Private</td>\n",
              "      <td>170104</td>\n",
              "      <td>Bachelors</td>\n",
              "      <td>13</td>\n",
              "      <td>Married-civ-spouse</td>\n",
              "      <td>Exec-managerial</td>\n",
              "      <td>Husband</td>\n",
              "      <td>White</td>\n",
              "      <td>M</td>\n",
              "      <td>0</td>\n",
              "      <td>1977</td>\n",
              "      <td>50</td>\n",
              "      <td>US</td>\n",
              "      <td>1</td>\n",
              "    </tr>\n",
              "    <tr>\n",
              "      <th>9</th>\n",
              "      <td>9</td>\n",
              "      <td>69</td>\n",
              "      <td>?</td>\n",
              "      <td>148694</td>\n",
              "      <td>HS-grad</td>\n",
              "      <td>9</td>\n",
              "      <td>Divorced</td>\n",
              "      <td>?</td>\n",
              "      <td>Not-in-family</td>\n",
              "      <td>White</td>\n",
              "      <td>F</td>\n",
              "      <td>0</td>\n",
              "      <td>0</td>\n",
              "      <td>40</td>\n",
              "      <td>US</td>\n",
              "      <td>0</td>\n",
              "    </tr>\n",
              "  </tbody>\n",
              "</table>\n",
              "</div>\n",
              "      <button class=\"colab-df-convert\" onclick=\"convertToInteractive('df-830d87ad-5bba-4a28-aa61-c0d237db64c8')\"\n",
              "              title=\"Convert this dataframe to an interactive table.\"\n",
              "              style=\"display:none;\">\n",
              "        \n",
              "  <svg xmlns=\"http://www.w3.org/2000/svg\" height=\"24px\"viewBox=\"0 0 24 24\"\n",
              "       width=\"24px\">\n",
              "    <path d=\"M0 0h24v24H0V0z\" fill=\"none\"/>\n",
              "    <path d=\"M18.56 5.44l.94 2.06.94-2.06 2.06-.94-2.06-.94-.94-2.06-.94 2.06-2.06.94zm-11 1L8.5 8.5l.94-2.06 2.06-.94-2.06-.94L8.5 2.5l-.94 2.06-2.06.94zm10 10l.94 2.06.94-2.06 2.06-.94-2.06-.94-.94-2.06-.94 2.06-2.06.94z\"/><path d=\"M17.41 7.96l-1.37-1.37c-.4-.4-.92-.59-1.43-.59-.52 0-1.04.2-1.43.59L10.3 9.45l-7.72 7.72c-.78.78-.78 2.05 0 2.83L4 21.41c.39.39.9.59 1.41.59.51 0 1.02-.2 1.41-.59l7.78-7.78 2.81-2.81c.8-.78.8-2.07 0-2.86zM5.41 20L4 18.59l7.72-7.72 1.47 1.35L5.41 20z\"/>\n",
              "  </svg>\n",
              "      </button>\n",
              "      \n",
              "  <style>\n",
              "    .colab-df-container {\n",
              "      display:flex;\n",
              "      flex-wrap:wrap;\n",
              "      gap: 12px;\n",
              "    }\n",
              "\n",
              "    .colab-df-convert {\n",
              "      background-color: #E8F0FE;\n",
              "      border: none;\n",
              "      border-radius: 50%;\n",
              "      cursor: pointer;\n",
              "      display: none;\n",
              "      fill: #1967D2;\n",
              "      height: 32px;\n",
              "      padding: 0 0 0 0;\n",
              "      width: 32px;\n",
              "    }\n",
              "\n",
              "    .colab-df-convert:hover {\n",
              "      background-color: #E2EBFA;\n",
              "      box-shadow: 0px 1px 2px rgba(60, 64, 67, 0.3), 0px 1px 3px 1px rgba(60, 64, 67, 0.15);\n",
              "      fill: #174EA6;\n",
              "    }\n",
              "\n",
              "    [theme=dark] .colab-df-convert {\n",
              "      background-color: #3B4455;\n",
              "      fill: #D2E3FC;\n",
              "    }\n",
              "\n",
              "    [theme=dark] .colab-df-convert:hover {\n",
              "      background-color: #434B5C;\n",
              "      box-shadow: 0px 1px 3px 1px rgba(0, 0, 0, 0.15);\n",
              "      filter: drop-shadow(0px 1px 2px rgba(0, 0, 0, 0.3));\n",
              "      fill: #FFFFFF;\n",
              "    }\n",
              "  </style>\n",
              "\n",
              "      <script>\n",
              "        const buttonEl =\n",
              "          document.querySelector('#df-830d87ad-5bba-4a28-aa61-c0d237db64c8 button.colab-df-convert');\n",
              "        buttonEl.style.display =\n",
              "          google.colab.kernel.accessAllowed ? 'block' : 'none';\n",
              "\n",
              "        async function convertToInteractive(key) {\n",
              "          const element = document.querySelector('#df-830d87ad-5bba-4a28-aa61-c0d237db64c8');\n",
              "          const dataTable =\n",
              "            await google.colab.kernel.invokeFunction('convertToInteractive',\n",
              "                                                     [key], {});\n",
              "          if (!dataTable) return;\n",
              "\n",
              "          const docLinkHtml = 'Like what you see? Visit the ' +\n",
              "            '<a target=\"_blank\" href=https://colab.research.google.com/notebooks/data_table.ipynb>data table notebook</a>'\n",
              "            + ' to learn more about interactive tables.';\n",
              "          element.innerHTML = '';\n",
              "          dataTable['output_type'] = 'display_data';\n",
              "          await google.colab.output.renderOutput(dataTable, element);\n",
              "          const docLink = document.createElement('div');\n",
              "          docLink.innerHTML = docLinkHtml;\n",
              "          element.appendChild(docLink);\n",
              "        }\n",
              "      </script>\n",
              "    </div>\n",
              "  </div>\n",
              "  "
            ],
            "text/plain": [
              "   ID  age work_type  ...  hrs_per_week nationality  target_income\n",
              "0   0   45   Private  ...            40          US              0\n",
              "1   1   23   Private  ...            30          US              0\n",
              "2   2   22   Private  ...            20       South              0\n",
              "3   3   27   Private  ...            40          US              0\n",
              "4   4   18   Private  ...            20          US              0\n",
              "5   5   44   Private  ...            48          US              0\n",
              "6   6   27   Private  ...            40          US              0\n",
              "7   7   38   Private  ...            50          US              1\n",
              "8   8   59   Private  ...            50          US              1\n",
              "9   9   69         ?  ...            40          US              0\n",
              "\n",
              "[10 rows x 16 columns]"
            ]
          },
          "metadata": {},
          "execution_count": 18
        }
      ]
    },
    {
      "cell_type": "code",
      "source": [
        "print(data.info())\n",
        "print(data.shape)"
      ],
      "metadata": {
        "colab": {
          "base_uri": "https://localhost:8080/"
        },
        "id": "LBWnXoHFzTNq",
        "outputId": "c4205699-8f53-44bf-f0f3-e6072eb7a7af"
      },
      "execution_count": null,
      "outputs": [
        {
          "output_type": "stream",
          "name": "stdout",
          "text": [
            "<class 'pandas.core.frame.DataFrame'>\n",
            "RangeIndex: 25000 entries, 0 to 24999\n",
            "Data columns (total 16 columns):\n",
            " #   Column               Non-Null Count  Dtype \n",
            "---  ------               --------------  ----- \n",
            " 0   ID                   25000 non-null  int64 \n",
            " 1   age                  25000 non-null  int64 \n",
            " 2   work_type            25000 non-null  object\n",
            " 3   final_weight         25000 non-null  int64 \n",
            " 4   education            25000 non-null  object\n",
            " 5   total_education_yrs  25000 non-null  int64 \n",
            " 6   marital_state        25000 non-null  object\n",
            " 7   job                  25000 non-null  object\n",
            " 8   status               25000 non-null  object\n",
            " 9   ethnicity            25000 non-null  object\n",
            " 10  sex                  25000 non-null  object\n",
            " 11  capital_gain         25000 non-null  int64 \n",
            " 12  capital_loss         25000 non-null  int64 \n",
            " 13  hrs_per_week         25000 non-null  int64 \n",
            " 14  nationality          25000 non-null  object\n",
            " 15  target_income        25000 non-null  int64 \n",
            "dtypes: int64(8), object(8)\n",
            "memory usage: 3.1+ MB\n",
            "None\n",
            "(25000, 16)\n"
          ]
        }
      ]
    },
    {
      "cell_type": "code",
      "source": [
        "from sklearn.model_selection import train_test_split\n",
        "label = data['target_income']\n",
        "data = data.drop(['ID','target_income'],axis=1)\n",
        "data_train, data_val, label_train, label_val = train_test_split(data, label, test_size=0.2, random_state=0)"
      ],
      "metadata": {
        "id": "aqinRELjziyy"
      },
      "execution_count": null,
      "outputs": []
    },
    {
      "cell_type": "code",
      "source": [
        "print(\"Shape of data train: {}\".format(data_train.shape))\n",
        "print(\"Shape of data validation: {}\".format(data_val.shape))"
      ],
      "metadata": {
        "colab": {
          "base_uri": "https://localhost:8080/"
        },
        "id": "ePuFV6QMztHC",
        "outputId": "a5530d6b-f5a1-477a-d526-85acaff0447d"
      },
      "execution_count": null,
      "outputs": [
        {
          "output_type": "stream",
          "name": "stdout",
          "text": [
            "Shape of data train: (20000, 14)\n",
            "Shape of data validation: (5000, 14)\n"
          ]
        }
      ]
    },
    {
      "cell_type": "code",
      "source": [
        "# !pip install --upgrade category_encoders"
      ],
      "metadata": {
        "id": "izjY4qJO0UYz"
      },
      "execution_count": null,
      "outputs": []
    },
    {
      "cell_type": "markdown",
      "source": [
        "10) Xây dựng một mạng deep-neural-network để huấn luyện mô hình trên dữ liệu train và đánh giá mô hình trên dữ liệu test."
      ],
      "metadata": {
        "id": "h7DC7tABz2di"
      }
    },
    {
      "cell_type": "code",
      "source": [
        "from sklearn.preprocessing import MinMaxScaler, MaxAbsScaler, StandardScaler, RobustScaler, Normalizer\n",
        "import category_encoders as ce\n",
        "from sklearn.preprocessing import QuantileTransformer, PowerTransformer, OneHotEncoder\n",
        "\n",
        "def feature_engineering(X_train, X_val, index_scaler=0):\n",
        "    # Encode categorical variables\n",
        "    cols = [ 'work_type', \n",
        "             'education', \n",
        "             'marital_state', \n",
        "             'job', \n",
        "             'status', \n",
        "             'ethnicity', \n",
        "             'sex', \n",
        "             'nationality'\n",
        "            ]\n",
        "    encoder = ce.OneHotEncoder(cols=cols)\n",
        "    X_train = encoder.fit_transform(X_train)\n",
        "    X_val = encoder.transform(X_val)\n",
        "    \n",
        "    # Feature scaling \n",
        "    list_scaler = [MinMaxScaler(), MaxAbsScaler(), StandardScaler(), \n",
        "                   RobustScaler(), Normalizer(), QuantileTransformer(), PowerTransformer()]\n",
        "    \n",
        "    scaler = list_scaler[index_scaler]\n",
        "    X_train = scaler.fit_transform(X_train)\n",
        "    X_val = scaler.transform(X_val)  \n",
        "    return X_train, X_val"
      ],
      "metadata": {
        "colab": {
          "base_uri": "https://localhost:8080/"
        },
        "id": "oG6cupJRzvi5",
        "outputId": "92b2bab8-d1a2-46b1-cbcc-a21af83377b2"
      },
      "execution_count": null,
      "outputs": [
        {
          "output_type": "stream",
          "name": "stderr",
          "text": [
            "/usr/local/lib/python3.7/dist-packages/statsmodels/tools/_testing.py:19: FutureWarning: pandas.util.testing is deprecated. Use the functions in the public API at pandas.testing instead.\n",
            "  import pandas.util.testing as tm\n"
          ]
        }
      ]
    },
    {
      "cell_type": "code",
      "source": [
        "X_train, X_test = feature_engineering(data_train, data_val, index_scaler=0)\n",
        "y_train, y_test = label_train, label_val"
      ],
      "metadata": {
        "id": "_2wHl38j0KxR"
      },
      "execution_count": null,
      "outputs": []
    },
    {
      "cell_type": "code",
      "source": [
        "print(X_train.shape)\n",
        "print(y_train.shape)\n",
        "print(y_test.shape)"
      ],
      "metadata": {
        "colab": {
          "base_uri": "https://localhost:8080/"
        },
        "id": "CTZVDnM00aL_",
        "outputId": "512873dd-f7b8-4f7c-dfc6-db7209f96a16"
      },
      "execution_count": null,
      "outputs": [
        {
          "output_type": "stream",
          "name": "stdout",
          "text": [
            "(20000, 108)\n",
            "(20000,)\n",
            "(5000,)\n"
          ]
        }
      ]
    },
    {
      "cell_type": "code",
      "source": [
        "import torch\n",
        "import torch.nn as nn\n",
        "import torch.optim as optim\n",
        "from torch.utils.data import Dataset, DataLoader"
      ],
      "metadata": {
        "id": "2tbsU1eL0c-B"
      },
      "execution_count": null,
      "outputs": []
    },
    {
      "cell_type": "code",
      "source": [
        "## train data\n",
        "class TrainData(Dataset):\n",
        "    \n",
        "    def __init__(self, X_data, y_data):\n",
        "        self.X_data = X_data\n",
        "        self.y_data = y_data\n",
        "        \n",
        "    def __getitem__(self, index):\n",
        "        return self.X_data[index], self.y_data[index]\n",
        "        \n",
        "    def __len__ (self):\n",
        "        return len(self.X_data)\n",
        "\n",
        "\n",
        "train_data = TrainData(torch.FloatTensor(X_train), \n",
        "                       torch.FloatTensor(y_train))"
      ],
      "metadata": {
        "id": "I848T5oKda_c"
      },
      "execution_count": null,
      "outputs": []
    },
    {
      "cell_type": "code",
      "source": [
        "## test data    \n",
        "class TestData(Dataset):\n",
        "    \n",
        "    def __init__(self, X_data):\n",
        "        self.X_data = X_data\n",
        "        \n",
        "    def __getitem__(self, index):\n",
        "        return self.X_data[index]\n",
        "        \n",
        "    def __len__ (self):\n",
        "        return len(self.X_data)\n",
        "    \n",
        "\n",
        "test_data = TestData(torch.FloatTensor(X_test))"
      ],
      "metadata": {
        "id": "LfICIGrQdi3a"
      },
      "execution_count": null,
      "outputs": []
    },
    {
      "cell_type": "code",
      "source": [
        "BATCH_SIZE = 64\n",
        "train_loader = DataLoader(dataset=train_data, batch_size=BATCH_SIZE, shuffle=True)\n",
        "test_loader = DataLoader(dataset=test_data, batch_size=1)"
      ],
      "metadata": {
        "id": "pmr695FWdnhp"
      },
      "execution_count": null,
      "outputs": []
    },
    {
      "cell_type": "code",
      "source": [
        "input_size = X_train.shape[1]\n",
        "hl = 10\n",
        "class income_network(nn.Module):\n",
        "    def __init__(self):\n",
        "        super(income_network, self).__init__()\n",
        "        self.fc1 = nn.Linear(input_size,hl)\n",
        "        self.fc2 = nn.Linear(hl,hl)\n",
        "        self.batchnorm = nn.BatchNorm1d(hl)\n",
        "        self.fc3 = nn.Linear(hl,1)\n",
        "        \n",
        "    def forward(self, inputs):\n",
        "        x = torch.relu(self.fc1(inputs))\n",
        "        x = self.batchnorm(x)\n",
        "        x = torch.relu(self.fc2(x))\n",
        "        x = torch.relu(self.fc3(x))\n",
        "        \n",
        "        return x"
      ],
      "metadata": {
        "id": "ysl5uvgxdxTS"
      },
      "execution_count": null,
      "outputs": []
    },
    {
      "cell_type": "code",
      "source": [
        "\n",
        "LEARNING_RATE = 0.001\n",
        "\n",
        "model = income_network()\n",
        "print(model)\n",
        "criterion = nn.BCEWithLogitsLoss()\n",
        "optimizer = optim.Adam(model.parameters(), lr=LEARNING_RATE)"
      ],
      "metadata": {
        "colab": {
          "base_uri": "https://localhost:8080/"
        },
        "id": "zfIVMMMhd9jY",
        "outputId": "41f4cb53-6477-4db2-b9c6-b3114a58df46"
      },
      "execution_count": null,
      "outputs": [
        {
          "output_type": "stream",
          "name": "stdout",
          "text": [
            "income_network(\n",
            "  (fc1): Linear(in_features=108, out_features=10, bias=True)\n",
            "  (fc2): Linear(in_features=10, out_features=10, bias=True)\n",
            "  (batchnorm): BatchNorm1d(10, eps=1e-05, momentum=0.1, affine=True, track_running_stats=True)\n",
            "  (fc3): Linear(in_features=10, out_features=1, bias=True)\n",
            ")\n"
          ]
        }
      ]
    },
    {
      "cell_type": "code",
      "source": [
        "def binary_acc(y_pred, y_test):\n",
        "    y_pred_tag = torch.round(torch.sigmoid(y_pred))\n",
        "    correct_results_sum = (y_pred_tag == y_test).sum().float()\n",
        "    acc = correct_results_sum/y_test.shape[0]\n",
        "    acc = torch.round(acc * 100)\n",
        "    \n",
        "    return acc"
      ],
      "metadata": {
        "id": "oYUk4PvKeI7p"
      },
      "execution_count": null,
      "outputs": []
    },
    {
      "cell_type": "code",
      "source": [
        "EPOCHS = 10\n",
        "model.train()\n",
        "for e in range(1, EPOCHS+1):\n",
        "    epoch_loss = 0\n",
        "    epoch_acc = 0\n",
        "    for X_batch, y_batch in train_loader:\n",
        "        X_batch, y_batch = X_batch, y_batch\n",
        "        optimizer.zero_grad()\n",
        "        \n",
        "        y_pred = model(X_batch)\n",
        "        \n",
        "        loss = criterion(y_pred, y_batch.unsqueeze(1))\n",
        "        acc = binary_acc(y_pred, y_batch.unsqueeze(1))\n",
        "        \n",
        "        loss.backward()\n",
        "        optimizer.step()\n",
        "        \n",
        "        epoch_loss += loss.item()\n",
        "        epoch_acc += acc.item()\n",
        "        \n",
        "    print(f'Epoch {e+0:03}: | Loss: {epoch_loss/len(train_loader):.5f} | Acc: {epoch_acc/len(train_loader):.3f}')"
      ],
      "metadata": {
        "colab": {
          "base_uri": "https://localhost:8080/"
        },
        "id": "KJMDU5IieM-4",
        "outputId": "14d42243-58b8-480a-80ad-9877b67e4eb9"
      },
      "execution_count": null,
      "outputs": [
        {
          "output_type": "stream",
          "name": "stdout",
          "text": [
            "Epoch 001: | Loss: 0.67769 | Acc: 81.230\n",
            "Epoch 002: | Loss: 0.66841 | Acc: 83.345\n",
            "Epoch 003: | Loss: 0.66612 | Acc: 83.805\n",
            "Epoch 004: | Loss: 0.66362 | Acc: 84.217\n",
            "Epoch 005: | Loss: 0.66236 | Acc: 84.358\n",
            "Epoch 006: | Loss: 0.65987 | Acc: 84.812\n",
            "Epoch 007: | Loss: 0.65817 | Acc: 84.869\n",
            "Epoch 008: | Loss: 0.65764 | Acc: 84.994\n",
            "Epoch 009: | Loss: 0.65613 | Acc: 85.131\n",
            "Epoch 010: | Loss: 0.65520 | Acc: 85.112\n"
          ]
        }
      ]
    },
    {
      "cell_type": "code",
      "source": [
        "y_pred_list = []\n",
        "model.eval()\n",
        "with torch.no_grad():\n",
        "    for X_batch in test_loader:\n",
        "        X_batch = X_batch\n",
        "        y_test_pred = model(X_batch)\n",
        "        y_test_pred = torch.sigmoid(y_test_pred)\n",
        "        y_pred_tag = torch.round(y_test_pred)\n",
        "        y_pred_list.append(y_pred_tag.cpu().numpy())\n",
        "\n",
        "y_pred_list = [a.squeeze().tolist() for a in y_pred_list]"
      ],
      "metadata": {
        "id": "OVX8Z5VsePU_"
      },
      "execution_count": null,
      "outputs": []
    },
    {
      "cell_type": "code",
      "source": [
        "from sklearn.metrics import accuracy_score\n",
        "print(\"Accuracy on validation dataset: {}\".format(accuracy_score(y_test, y_pred_list)))"
      ],
      "metadata": {
        "colab": {
          "base_uri": "https://localhost:8080/"
        },
        "id": "lP89A9TZebQC",
        "outputId": "6b9ab2b2-3efc-4aec-d0af-0b8b759b4140"
      },
      "execution_count": null,
      "outputs": [
        {
          "output_type": "stream",
          "name": "stdout",
          "text": [
            "Accuracy on validation dataset: 0.8496\n"
          ]
        }
      ]
    },
    {
      "cell_type": "code",
      "source": [
        ""
      ],
      "metadata": {
        "id": "tfvVqb2Qf3DD"
      },
      "execution_count": null,
      "outputs": []
    }
  ]
}