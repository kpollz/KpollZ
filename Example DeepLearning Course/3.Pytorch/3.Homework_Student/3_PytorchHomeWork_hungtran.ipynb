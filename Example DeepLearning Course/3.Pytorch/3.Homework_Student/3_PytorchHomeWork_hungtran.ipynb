{
  "nbformat": 4,
  "nbformat_minor": 0,
  "metadata": {
    "colab": {
      "name": "3.PytorchHomeWork_hungtran.ipynb",
      "provenance": [],
      "collapsed_sections": [],
      "toc_visible": true
    },
    "kernelspec": {
      "name": "python3",
      "display_name": "Python 3"
    },
    "language_info": {
      "name": "python"
    }
  },
  "cells": [
    {
      "cell_type": "markdown",
      "source": [
        "# 1. Lý thuyết\n",
        "\n",
        "**1) Để khởi tạo model trong pytorch chúng ta sử dụng class nào?**\n",
        "\n",
        "A. **nn.Module**\n",
        "\n",
        "B. nn.Dense\n",
        "\n",
        "C. nn.optim.Adam\n",
        "\n",
        "D. nn.Dropout\n",
        "\n",
        "**2) Để khởi tạo mạng neural network trong pytorch chúng ta cần làm gì ?**\n",
        "\n",
        "A. Kế thừa lại class `nn.Model`. Khởi tạo các layers trong hàm tạo `__init__()` và sử dụng các layers để tính toán dữ liệu trong hàm `forward()`.\n",
        "\n",
        "B. Khởi tạo một object của class `nn.Model` và sử dụng hàm `add()` để thêm từng layer vào mô hình.\n",
        "\n",
        "C. Sử dụng class `nn.Model` để khởi tạo mô hình. Truyền vào bên trong class này một list gồm các layers.\n",
        "\n",
        "**D. Kế thừa lại class `nn.Module`. Khởi tạo các layers trong hàm tạo `__init__()` và sử dụng các layers để tính toán dữ liệu trong hàm `forward()`.**\n",
        "\n",
        "\n",
        "**3) Các modules chính trong pytorch dùng để xây dựng và huấn luyện model.**\n",
        "\n",
        "**A. `torch.nn`: Dùng để khởi tạo các layers và activations function và loss function, `torch.optim`: Khởi tạo optimizer, `torch.data`: Khởi tạo dataset và dataloader.**\n",
        "\n",
        "B. `torch.nn`: Dùng để khởi tạo các layers và activations function và loss function, `torch.optim`: Khởi tạo optimizer, `torch.utils.data`: Khởi tạo dataset và dataloader.\n",
        "\n",
        "C. `torch.nn`: Dùng để khởi tạo các layers và activations function, `torch.optim`: Khởi tạo optimizer, `torch.data`: Khởi tạo dataset và dataloader, `torch.loss`: Khởi tạo loss function.\n",
        "\n",
        "D. `torch.nn`: Dùng để khởi tạo các layers và loss function, `torch.optim`: Khởi tạo optimizer, `torch.data`: Khởi tạo dataset và dataloader, `torch.activations`: Khởi tạo activations function.\n",
        "\n",
        "\n",
        "**4) Để customize một Dataset trên pytorch chúng ta cần thực hiện như thế nào?**\n",
        "\n",
        "A. Sử dụng thuộc tính `transformer` để qui định các biến đổi trên dữ liệu. Những biến đổi này được thực hiện trên hàm tạo.\n",
        "\n",
        "**B. Khởi tạo một class kế thừa lại `torch.utils.data.Dataset`. Khai báo các thuộc tính cần sử dụng trong hàm tạo của dataset như list đường dẫn, list label. Override lại hàm `__getitem__()` để thực hiện các xử lý trên dữ liệu.**\n",
        "\n",
        "C. Kế thừa lại một class `Dataset`. Các điều chỉnh trên dữ liệu được thực hiện trên hàm `transformer()`.\n",
        "\n",
        "D. Sử dụng hàm `__getitem__()` để trả về toàn bộ các quan sát khi huấn luyện. \n",
        "\n",
        "**5) Ý nghĩa của tham số epochs và batch_size trong huấn luyện mô hình là gì?**\n",
        "\n",
        "A. epochs là kích thước của một mini-batch, batch_size là số lượt lặp lại toàn bộ dữ liệu khi huấn luyện.\n",
        "\n",
        "B. epochs là số lượt lặp lại toàn bộ dữ liệu validation khi huấn luyện, batch_size là kích thước của một mini-batch.\n",
        "\n",
        "**C. epochs là số lượt lặp lại toàn bộ dữ liệu train khi huấn luyện, batch_size là kích thước của một mini-batch.**\n",
        "\n",
        "D. epochs là số lượng vòng lặp, mỗi vòng lặp là một lượt fit mini-batch, trên bộ dữ liệu khi huấn luyện; batch_size là kích thước của một mini-batch."
      ],
      "metadata": {
        "id": "DUXbtwUsAGPq"
      }
    },
    {
      "cell_type": "markdown",
      "source": [
        "#CHữa đáp án câu 3 là B"
      ],
      "metadata": {
        "id": "UwYyRzfHuCON"
      }
    },
    {
      "cell_type": "markdown",
      "source": [
        "# 2. Thực hành\n",
        "\n",
        "6) Khởi tạo một tensor 3 chiều với định dạng là float và kích thước là 32x32x3\n",
        "\n",
        "7) Nếu coi tensor trên là một bức ảnh RGB với số channel là 3 ở cuối. Hãy truy suất các ma trận ảnh tương ứng với mỗi kênh R, G, B.\n",
        "\n",
        "8) Thực hiện tích hadamard và tích thông thường giữa ma trận R và G.\n",
        "\n",
        "9) Từ bộ dữ liệu [Income-Classification](https://www.kaggle.com/t/090688c8d33a40b68be9e271d6ba6bae) hãy chuẩn hóa dữ liệu và phân chia tập train/test theo tỷ lệ 80/20. \n",
        "\n",
        "10) Xây dựng một mạng deep-neural-network để huấn luyện mô hình trên dữ liệu train và đánh giá mô hình trên dữ liệu test.\n"
      ],
      "metadata": {
        "id": "LzLjMsckAJAT"
      }
    },
    {
      "cell_type": "markdown",
      "source": [
        "## Câu 6\n",
        "Khởi tạo một tensor 3 chiều với định dạng là float và kích thước là 32x32x3Khởi tạo một tensor 3 chiều với định dạng là float và kích thước là 32x32x3"
      ],
      "metadata": {
        "id": "CMmYf2pkkIkE"
      }
    },
    {
      "cell_type": "code",
      "source": [
        "import torch"
      ],
      "metadata": {
        "id": "fmWG-zGLk4fL"
      },
      "execution_count": null,
      "outputs": []
    },
    {
      "cell_type": "code",
      "source": [
        "A = torch.randn([32, 32, 3], dtype = torch.float32)\n",
        "A"
      ],
      "metadata": {
        "colab": {
          "base_uri": "https://localhost:8080/"
        },
        "id": "JxrkICxY7TAf",
        "outputId": "5287f1a0-a652-4dd8-a8a1-b0a2e92e8d10"
      },
      "execution_count": null,
      "outputs": [
        {
          "output_type": "execute_result",
          "data": {
            "text/plain": [
              "tensor([[[ 9.5447e-01,  2.9191e-01,  1.4861e+00],\n",
              "         [-2.5884e+00,  1.1222e-01, -1.0394e+00],\n",
              "         [-6.5444e-01,  3.8212e-01, -1.3610e+00],\n",
              "         ...,\n",
              "         [ 1.6567e+00, -1.5117e+00, -7.0167e-02],\n",
              "         [-9.9655e-01, -4.8422e-02, -9.0821e-01],\n",
              "         [-2.6129e-01,  1.3603e+00,  3.1746e-01]],\n",
              "\n",
              "        [[-1.7098e-01, -3.3436e-01, -6.1407e-01],\n",
              "         [ 2.8126e-01,  2.3609e-01, -1.3065e+00],\n",
              "         [-1.3784e-01,  1.0388e-01,  1.2867e+00],\n",
              "         ...,\n",
              "         [-8.2961e-01,  1.1911e+00, -4.3668e-01],\n",
              "         [-4.0178e-01, -6.5308e-01, -5.5706e-02],\n",
              "         [ 1.8215e+00,  6.4042e-01, -7.4349e-01]],\n",
              "\n",
              "        [[-1.4955e+00, -2.9453e-02, -1.8099e-01],\n",
              "         [ 1.0380e+00, -1.4842e+00, -1.9536e+00],\n",
              "         [ 1.5098e-02, -1.7706e-01,  6.2226e-01],\n",
              "         ...,\n",
              "         [-3.3547e-01,  2.7126e-01, -1.8171e-04],\n",
              "         [-1.1716e+00,  5.0904e-01, -2.6346e-01],\n",
              "         [-7.6753e-01, -3.2558e-01,  8.0093e-01]],\n",
              "\n",
              "        ...,\n",
              "\n",
              "        [[ 1.2351e+00, -2.3150e-01,  6.9346e-01],\n",
              "         [ 4.8205e-01, -7.6751e-01,  9.6779e-01],\n",
              "         [-1.2234e+00,  5.1792e-01,  7.3444e-01],\n",
              "         ...,\n",
              "         [ 5.2565e-01, -1.0283e+00,  1.8408e-01],\n",
              "         [ 2.2436e-01, -1.6369e-01,  2.2831e-01],\n",
              "         [-2.3797e-01, -1.3651e-01, -8.4799e-01]],\n",
              "\n",
              "        [[ 2.6787e+00,  9.9406e-01,  1.4831e+00],\n",
              "         [ 1.0788e+00,  4.8198e-01,  9.3277e-01],\n",
              "         [ 1.1079e+00,  1.4027e+00, -1.3626e+00],\n",
              "         ...,\n",
              "         [ 5.8755e-02, -1.2302e+00,  7.0340e-01],\n",
              "         [ 3.0689e-02,  7.5576e-01, -3.6064e-01],\n",
              "         [ 2.1205e+00, -5.9288e-01, -1.5117e+00]],\n",
              "\n",
              "        [[ 1.0585e+00,  1.8588e+00,  1.8272e-01],\n",
              "         [-5.5399e-01,  2.4410e-03, -2.3412e+00],\n",
              "         [-9.2405e-01, -1.0240e+00, -1.9448e+00],\n",
              "         ...,\n",
              "         [-1.5661e+00,  7.4397e-01,  3.9705e-01],\n",
              "         [-6.2075e-02, -1.0012e-02, -6.4895e-01],\n",
              "         [ 8.5156e-01, -2.2871e-01,  3.8814e-01]]])"
            ]
          },
          "metadata": {},
          "execution_count": 3
        }
      ]
    },
    {
      "cell_type": "markdown",
      "source": [
        "## Câu 7\n",
        "Nếu coi tensor trên là một bức ảnh RGB với số channel là 3 ở cuối. Hãy truy suất các ma trận ảnh tương ứng với mỗi kênh R, G, B."
      ],
      "metadata": {
        "id": "m-uCkshdkTdO"
      }
    },
    {
      "cell_type": "code",
      "source": [
        "R = A[:, :, 0]\n",
        "G = A[:, :, 1]\n",
        "B = A[:, :, 2]\n",
        "print(R)\n",
        "print(G)\n",
        "print(B)"
      ],
      "metadata": {
        "colab": {
          "base_uri": "https://localhost:8080/"
        },
        "id": "Uak8EIgp7uRI",
        "outputId": "69a3b789-7ad8-43eb-b0f0-ab80bfd19e3f"
      },
      "execution_count": null,
      "outputs": [
        {
          "output_type": "stream",
          "name": "stdout",
          "text": [
            "tensor([[ 0.9545, -2.5884, -0.6544,  ...,  1.6567, -0.9965, -0.2613],\n",
            "        [-0.1710,  0.2813, -0.1378,  ..., -0.8296, -0.4018,  1.8215],\n",
            "        [-1.4955,  1.0380,  0.0151,  ..., -0.3355, -1.1716, -0.7675],\n",
            "        ...,\n",
            "        [ 1.2351,  0.4821, -1.2234,  ...,  0.5256,  0.2244, -0.2380],\n",
            "        [ 2.6787,  1.0788,  1.1079,  ...,  0.0588,  0.0307,  2.1205],\n",
            "        [ 1.0585, -0.5540, -0.9241,  ..., -1.5661, -0.0621,  0.8516]])\n",
            "tensor([[ 0.2919,  0.1122,  0.3821,  ..., -1.5117, -0.0484,  1.3603],\n",
            "        [-0.3344,  0.2361,  0.1039,  ...,  1.1911, -0.6531,  0.6404],\n",
            "        [-0.0295, -1.4842, -0.1771,  ...,  0.2713,  0.5090, -0.3256],\n",
            "        ...,\n",
            "        [-0.2315, -0.7675,  0.5179,  ..., -1.0283, -0.1637, -0.1365],\n",
            "        [ 0.9941,  0.4820,  1.4027,  ..., -1.2302,  0.7558, -0.5929],\n",
            "        [ 1.8588,  0.0024, -1.0240,  ...,  0.7440, -0.0100, -0.2287]])\n",
            "tensor([[ 1.4861e+00, -1.0394e+00, -1.3610e+00,  ..., -7.0167e-02,\n",
            "         -9.0821e-01,  3.1746e-01],\n",
            "        [-6.1407e-01, -1.3065e+00,  1.2867e+00,  ..., -4.3668e-01,\n",
            "         -5.5706e-02, -7.4349e-01],\n",
            "        [-1.8099e-01, -1.9536e+00,  6.2226e-01,  ..., -1.8171e-04,\n",
            "         -2.6346e-01,  8.0093e-01],\n",
            "        ...,\n",
            "        [ 6.9346e-01,  9.6779e-01,  7.3444e-01,  ...,  1.8408e-01,\n",
            "          2.2831e-01, -8.4799e-01],\n",
            "        [ 1.4831e+00,  9.3277e-01, -1.3626e+00,  ...,  7.0340e-01,\n",
            "         -3.6064e-01, -1.5117e+00],\n",
            "        [ 1.8272e-01, -2.3412e+00, -1.9448e+00,  ...,  3.9705e-01,\n",
            "         -6.4895e-01,  3.8814e-01]])\n"
          ]
        }
      ]
    },
    {
      "cell_type": "markdown",
      "source": [
        "## Câu 8\n",
        "Thực hiện tích hadamard và tích thông thường giữa ma trận R và G."
      ],
      "metadata": {
        "id": "ka5wN3NykWoP"
      }
    },
    {
      "cell_type": "code",
      "source": [
        "# Tích hadamard\n",
        "hadamard = R*G\n",
        "print(hadamard)\n",
        "# Tích thông thường\n",
        "multiply = R@G\n",
        "print(multiply)"
      ],
      "metadata": {
        "colab": {
          "base_uri": "https://localhost:8080/"
        },
        "id": "xuxihDgu8Ko3",
        "outputId": "81487e17-96d7-49a6-993f-e2b20b560542"
      },
      "execution_count": null,
      "outputs": [
        {
          "output_type": "stream",
          "name": "stdout",
          "text": [
            "tensor([[ 2.7862e-01, -2.9046e-01, -2.5008e-01,  ..., -2.5043e+00,\n",
            "          4.8254e-02, -3.5543e-01],\n",
            "        [ 5.7169e-02,  6.6401e-02, -1.4318e-02,  ..., -9.8815e-01,\n",
            "          2.6240e-01,  1.1665e+00],\n",
            "        [ 4.4046e-02, -1.5406e+00, -2.6732e-03,  ..., -9.0999e-02,\n",
            "         -5.9638e-01,  2.4989e-01],\n",
            "        ...,\n",
            "        [-2.8592e-01, -3.6998e-01, -6.3364e-01,  ..., -5.4055e-01,\n",
            "         -3.6725e-02,  3.2484e-02],\n",
            "        [ 2.6628e+00,  5.1994e-01,  1.5541e+00,  ..., -7.2279e-02,\n",
            "          2.3193e-02, -1.2572e+00],\n",
            "        [ 1.9676e+00, -1.3523e-03,  9.4627e-01,  ..., -1.1651e+00,\n",
            "          6.2148e-04, -1.9476e-01]])\n",
            "tensor([[ -2.1218,   7.7581,   3.9510,  ...,  -3.5975,   1.4258,  -3.1256],\n",
            "        [  1.7154,   8.8727,  -4.0689,  ...,  -0.5786,   0.9715,  -6.5472],\n",
            "        [-11.8363,  -1.4774,  -2.1687,  ...,   9.7338,  -6.7423,  -3.0168],\n",
            "        ...,\n",
            "        [ -6.0433,  -2.9265,   3.9812,  ...,  -5.1435,  -4.0505,  -1.6449],\n",
            "        [  7.7789,  -1.8482,   7.7837,  ...,  -2.2892,   8.8722,   2.9979],\n",
            "        [  0.1017,  -0.8733,  -2.1730,  ...,   4.2304,  -0.4805,  -3.3043]])\n"
          ]
        }
      ]
    },
    {
      "cell_type": "markdown",
      "source": [
        "## Câu 9\n",
        "Từ bộ dữ liệu Income-Classification hãy chuẩn hóa dữ liệu và phân chia tập train/test theo tỷ lệ 80/20."
      ],
      "metadata": {
        "id": "IxSCpHlUkXoT"
      }
    },
    {
      "cell_type": "markdown",
      "source": [
        "### Import libraries and data"
      ],
      "metadata": {
        "id": "t-i5RTpI_ZRH"
      }
    },
    {
      "cell_type": "code",
      "source": [
        "import torch\n",
        "import torch.nn as nn\n",
        "import torch.utils.data as td"
      ],
      "metadata": {
        "id": "jvEmffYe_eb8"
      },
      "execution_count": null,
      "outputs": []
    },
    {
      "cell_type": "code",
      "source": [
        "from google.colab import drive\n",
        "import os\n",
        "\n",
        "drive.mount('/content/drive')\n",
        "os.chdir('/content/drive/MyDrive/Kaggle')"
      ],
      "metadata": {
        "colab": {
          "base_uri": "https://localhost:8080/"
        },
        "id": "X5e2ixps8tAc",
        "outputId": "86c2db21-3633-4207-8fa0-43eed431e3bc"
      },
      "execution_count": null,
      "outputs": [
        {
          "output_type": "stream",
          "name": "stdout",
          "text": [
            "Mounted at /content/drive\n"
          ]
        }
      ]
    },
    {
      "cell_type": "code",
      "source": [
        "import numpy as np\n",
        "import pandas as pd\n",
        "from sklearn.model_selection import train_test_split"
      ],
      "metadata": {
        "id": "Sxfoo_xu9Ct8"
      },
      "execution_count": null,
      "outputs": []
    },
    {
      "cell_type": "code",
      "source": [
        "data = pd.read_csv('train.csv', header = 0)\n",
        "# drop ID column since it is not relevant to train model\n",
        "data = data.drop(['ID'], axis = 1)\n",
        "data.head()"
      ],
      "metadata": {
        "colab": {
          "base_uri": "https://localhost:8080/",
          "height": 206
        },
        "id": "gFSh4oxz9Cxd",
        "outputId": "edc23b0d-9228-4b90-a264-0bb7f1b71bc9"
      },
      "execution_count": null,
      "outputs": [
        {
          "output_type": "execute_result",
          "data": {
            "text/html": [
              "\n",
              "  <div id=\"df-5f9b49b7-2a00-4a86-b209-a80c8adba96e\">\n",
              "    <div class=\"colab-df-container\">\n",
              "      <div>\n",
              "<style scoped>\n",
              "    .dataframe tbody tr th:only-of-type {\n",
              "        vertical-align: middle;\n",
              "    }\n",
              "\n",
              "    .dataframe tbody tr th {\n",
              "        vertical-align: top;\n",
              "    }\n",
              "\n",
              "    .dataframe thead th {\n",
              "        text-align: right;\n",
              "    }\n",
              "</style>\n",
              "<table border=\"1\" class=\"dataframe\">\n",
              "  <thead>\n",
              "    <tr style=\"text-align: right;\">\n",
              "      <th></th>\n",
              "      <th>age</th>\n",
              "      <th>work_type</th>\n",
              "      <th>final_weight</th>\n",
              "      <th>education</th>\n",
              "      <th>total_education_yrs</th>\n",
              "      <th>marital_state</th>\n",
              "      <th>job</th>\n",
              "      <th>status</th>\n",
              "      <th>ethnicity</th>\n",
              "      <th>sex</th>\n",
              "      <th>capital_gain</th>\n",
              "      <th>capital_loss</th>\n",
              "      <th>hrs_per_week</th>\n",
              "      <th>nationality</th>\n",
              "      <th>target_income</th>\n",
              "    </tr>\n",
              "  </thead>\n",
              "  <tbody>\n",
              "    <tr>\n",
              "      <th>0</th>\n",
              "      <td>45</td>\n",
              "      <td>Private</td>\n",
              "      <td>175925</td>\n",
              "      <td>HS-grad</td>\n",
              "      <td>9</td>\n",
              "      <td>Married-civ-spouse</td>\n",
              "      <td>Craft-repair</td>\n",
              "      <td>Husband</td>\n",
              "      <td>White</td>\n",
              "      <td>M</td>\n",
              "      <td>0</td>\n",
              "      <td>0</td>\n",
              "      <td>40</td>\n",
              "      <td>US</td>\n",
              "      <td>0</td>\n",
              "    </tr>\n",
              "    <tr>\n",
              "      <th>1</th>\n",
              "      <td>23</td>\n",
              "      <td>Private</td>\n",
              "      <td>113601</td>\n",
              "      <td>Some-college</td>\n",
              "      <td>10</td>\n",
              "      <td>Never-married</td>\n",
              "      <td>Handlers-cleaners</td>\n",
              "      <td>Own-child</td>\n",
              "      <td>White</td>\n",
              "      <td>M</td>\n",
              "      <td>0</td>\n",
              "      <td>0</td>\n",
              "      <td>30</td>\n",
              "      <td>US</td>\n",
              "      <td>0</td>\n",
              "    </tr>\n",
              "    <tr>\n",
              "      <th>2</th>\n",
              "      <td>22</td>\n",
              "      <td>Private</td>\n",
              "      <td>112137</td>\n",
              "      <td>Some-college</td>\n",
              "      <td>10</td>\n",
              "      <td>Never-married</td>\n",
              "      <td>Prof-specialty</td>\n",
              "      <td>Other-relative</td>\n",
              "      <td>Asian-Pac-Islander</td>\n",
              "      <td>F</td>\n",
              "      <td>0</td>\n",
              "      <td>0</td>\n",
              "      <td>20</td>\n",
              "      <td>South</td>\n",
              "      <td>0</td>\n",
              "    </tr>\n",
              "    <tr>\n",
              "      <th>3</th>\n",
              "      <td>27</td>\n",
              "      <td>Private</td>\n",
              "      <td>153078</td>\n",
              "      <td>Prof-school</td>\n",
              "      <td>15</td>\n",
              "      <td>Never-married</td>\n",
              "      <td>Prof-specialty</td>\n",
              "      <td>Own-child</td>\n",
              "      <td>Asian-Pac-Islander</td>\n",
              "      <td>M</td>\n",
              "      <td>0</td>\n",
              "      <td>0</td>\n",
              "      <td>40</td>\n",
              "      <td>US</td>\n",
              "      <td>0</td>\n",
              "    </tr>\n",
              "    <tr>\n",
              "      <th>4</th>\n",
              "      <td>18</td>\n",
              "      <td>Private</td>\n",
              "      <td>375515</td>\n",
              "      <td>11th</td>\n",
              "      <td>7</td>\n",
              "      <td>Never-married</td>\n",
              "      <td>Sales</td>\n",
              "      <td>Own-child</td>\n",
              "      <td>White</td>\n",
              "      <td>F</td>\n",
              "      <td>0</td>\n",
              "      <td>0</td>\n",
              "      <td>20</td>\n",
              "      <td>US</td>\n",
              "      <td>0</td>\n",
              "    </tr>\n",
              "  </tbody>\n",
              "</table>\n",
              "</div>\n",
              "      <button class=\"colab-df-convert\" onclick=\"convertToInteractive('df-5f9b49b7-2a00-4a86-b209-a80c8adba96e')\"\n",
              "              title=\"Convert this dataframe to an interactive table.\"\n",
              "              style=\"display:none;\">\n",
              "        \n",
              "  <svg xmlns=\"http://www.w3.org/2000/svg\" height=\"24px\"viewBox=\"0 0 24 24\"\n",
              "       width=\"24px\">\n",
              "    <path d=\"M0 0h24v24H0V0z\" fill=\"none\"/>\n",
              "    <path d=\"M18.56 5.44l.94 2.06.94-2.06 2.06-.94-2.06-.94-.94-2.06-.94 2.06-2.06.94zm-11 1L8.5 8.5l.94-2.06 2.06-.94-2.06-.94L8.5 2.5l-.94 2.06-2.06.94zm10 10l.94 2.06.94-2.06 2.06-.94-2.06-.94-.94-2.06-.94 2.06-2.06.94z\"/><path d=\"M17.41 7.96l-1.37-1.37c-.4-.4-.92-.59-1.43-.59-.52 0-1.04.2-1.43.59L10.3 9.45l-7.72 7.72c-.78.78-.78 2.05 0 2.83L4 21.41c.39.39.9.59 1.41.59.51 0 1.02-.2 1.41-.59l7.78-7.78 2.81-2.81c.8-.78.8-2.07 0-2.86zM5.41 20L4 18.59l7.72-7.72 1.47 1.35L5.41 20z\"/>\n",
              "  </svg>\n",
              "      </button>\n",
              "      \n",
              "  <style>\n",
              "    .colab-df-container {\n",
              "      display:flex;\n",
              "      flex-wrap:wrap;\n",
              "      gap: 12px;\n",
              "    }\n",
              "\n",
              "    .colab-df-convert {\n",
              "      background-color: #E8F0FE;\n",
              "      border: none;\n",
              "      border-radius: 50%;\n",
              "      cursor: pointer;\n",
              "      display: none;\n",
              "      fill: #1967D2;\n",
              "      height: 32px;\n",
              "      padding: 0 0 0 0;\n",
              "      width: 32px;\n",
              "    }\n",
              "\n",
              "    .colab-df-convert:hover {\n",
              "      background-color: #E2EBFA;\n",
              "      box-shadow: 0px 1px 2px rgba(60, 64, 67, 0.3), 0px 1px 3px 1px rgba(60, 64, 67, 0.15);\n",
              "      fill: #174EA6;\n",
              "    }\n",
              "\n",
              "    [theme=dark] .colab-df-convert {\n",
              "      background-color: #3B4455;\n",
              "      fill: #D2E3FC;\n",
              "    }\n",
              "\n",
              "    [theme=dark] .colab-df-convert:hover {\n",
              "      background-color: #434B5C;\n",
              "      box-shadow: 0px 1px 3px 1px rgba(0, 0, 0, 0.15);\n",
              "      filter: drop-shadow(0px 1px 2px rgba(0, 0, 0, 0.3));\n",
              "      fill: #FFFFFF;\n",
              "    }\n",
              "  </style>\n",
              "\n",
              "      <script>\n",
              "        const buttonEl =\n",
              "          document.querySelector('#df-5f9b49b7-2a00-4a86-b209-a80c8adba96e button.colab-df-convert');\n",
              "        buttonEl.style.display =\n",
              "          google.colab.kernel.accessAllowed ? 'block' : 'none';\n",
              "\n",
              "        async function convertToInteractive(key) {\n",
              "          const element = document.querySelector('#df-5f9b49b7-2a00-4a86-b209-a80c8adba96e');\n",
              "          const dataTable =\n",
              "            await google.colab.kernel.invokeFunction('convertToInteractive',\n",
              "                                                     [key], {});\n",
              "          if (!dataTable) return;\n",
              "\n",
              "          const docLinkHtml = 'Like what you see? Visit the ' +\n",
              "            '<a target=\"_blank\" href=https://colab.research.google.com/notebooks/data_table.ipynb>data table notebook</a>'\n",
              "            + ' to learn more about interactive tables.';\n",
              "          element.innerHTML = '';\n",
              "          dataTable['output_type'] = 'display_data';\n",
              "          await google.colab.output.renderOutput(dataTable, element);\n",
              "          const docLink = document.createElement('div');\n",
              "          docLink.innerHTML = docLinkHtml;\n",
              "          element.appendChild(docLink);\n",
              "        }\n",
              "      </script>\n",
              "    </div>\n",
              "  </div>\n",
              "  "
            ],
            "text/plain": [
              "   age work_type  final_weight  ... hrs_per_week  nationality target_income\n",
              "0   45   Private        175925  ...           40           US             0\n",
              "1   23   Private        113601  ...           30           US             0\n",
              "2   22   Private        112137  ...           20        South             0\n",
              "3   27   Private        153078  ...           40           US             0\n",
              "4   18   Private        375515  ...           20           US             0\n",
              "\n",
              "[5 rows x 15 columns]"
            ]
          },
          "metadata": {},
          "execution_count": 4
        }
      ]
    },
    {
      "cell_type": "markdown",
      "source": [
        "### EDA"
      ],
      "metadata": {
        "id": "kRtOrMXK_oK_"
      }
    },
    {
      "cell_type": "code",
      "source": [
        "data.info()"
      ],
      "metadata": {
        "colab": {
          "base_uri": "https://localhost:8080/"
        },
        "id": "eB-H6hOK9C4u",
        "outputId": "79e0641e-733d-4202-8db9-57347d87993a"
      },
      "execution_count": null,
      "outputs": [
        {
          "output_type": "stream",
          "name": "stdout",
          "text": [
            "<class 'pandas.core.frame.DataFrame'>\n",
            "RangeIndex: 25000 entries, 0 to 24999\n",
            "Data columns (total 15 columns):\n",
            " #   Column               Non-Null Count  Dtype \n",
            "---  ------               --------------  ----- \n",
            " 0   age                  25000 non-null  int64 \n",
            " 1   work_type            25000 non-null  object\n",
            " 2   final_weight         25000 non-null  int64 \n",
            " 3   education            25000 non-null  object\n",
            " 4   total_education_yrs  25000 non-null  int64 \n",
            " 5   marital_state        25000 non-null  object\n",
            " 6   job                  25000 non-null  object\n",
            " 7   status               25000 non-null  object\n",
            " 8   ethnicity            25000 non-null  object\n",
            " 9   sex                  25000 non-null  object\n",
            " 10  capital_gain         25000 non-null  int64 \n",
            " 11  capital_loss         25000 non-null  int64 \n",
            " 12  hrs_per_week         25000 non-null  int64 \n",
            " 13  nationality          25000 non-null  object\n",
            " 14  target_income        25000 non-null  int64 \n",
            "dtypes: int64(7), object(8)\n",
            "memory usage: 2.9+ MB\n"
          ]
        }
      ]
    },
    {
      "cell_type": "code",
      "source": [
        "data.describe()"
      ],
      "metadata": {
        "colab": {
          "base_uri": "https://localhost:8080/",
          "height": 363
        },
        "id": "0rQhEu9E9C7d",
        "outputId": "5f583d9d-f1ba-4f85-f267-8d2a0b7f1ed3"
      },
      "execution_count": null,
      "outputs": [
        {
          "output_type": "execute_result",
          "data": {
            "text/html": [
              "\n",
              "  <div id=\"df-a5b7ba54-1a5c-4f55-add1-cfc7ca357c04\">\n",
              "    <div class=\"colab-df-container\">\n",
              "      <div>\n",
              "<style scoped>\n",
              "    .dataframe tbody tr th:only-of-type {\n",
              "        vertical-align: middle;\n",
              "    }\n",
              "\n",
              "    .dataframe tbody tr th {\n",
              "        vertical-align: top;\n",
              "    }\n",
              "\n",
              "    .dataframe thead th {\n",
              "        text-align: right;\n",
              "    }\n",
              "</style>\n",
              "<table border=\"1\" class=\"dataframe\">\n",
              "  <thead>\n",
              "    <tr style=\"text-align: right;\">\n",
              "      <th></th>\n",
              "      <th>age</th>\n",
              "      <th>final_weight</th>\n",
              "      <th>total_education_yrs</th>\n",
              "      <th>capital_gain</th>\n",
              "      <th>capital_loss</th>\n",
              "      <th>hrs_per_week</th>\n",
              "      <th>target_income</th>\n",
              "    </tr>\n",
              "  </thead>\n",
              "  <tbody>\n",
              "    <tr>\n",
              "      <th>count</th>\n",
              "      <td>25000.000000</td>\n",
              "      <td>2.500000e+04</td>\n",
              "      <td>25000.000000</td>\n",
              "      <td>25000.000000</td>\n",
              "      <td>25000.000000</td>\n",
              "      <td>25000.000000</td>\n",
              "      <td>25000.00000</td>\n",
              "    </tr>\n",
              "    <tr>\n",
              "      <th>mean</th>\n",
              "      <td>38.568800</td>\n",
              "      <td>1.900156e+05</td>\n",
              "      <td>10.079160</td>\n",
              "      <td>1051.950240</td>\n",
              "      <td>86.053160</td>\n",
              "      <td>40.392200</td>\n",
              "      <td>0.23944</td>\n",
              "    </tr>\n",
              "    <tr>\n",
              "      <th>std</th>\n",
              "      <td>13.642694</td>\n",
              "      <td>1.059694e+05</td>\n",
              "      <td>2.566125</td>\n",
              "      <td>7228.975017</td>\n",
              "      <td>400.535454</td>\n",
              "      <td>12.350547</td>\n",
              "      <td>0.42675</td>\n",
              "    </tr>\n",
              "    <tr>\n",
              "      <th>min</th>\n",
              "      <td>17.000000</td>\n",
              "      <td>1.228500e+04</td>\n",
              "      <td>1.000000</td>\n",
              "      <td>0.000000</td>\n",
              "      <td>0.000000</td>\n",
              "      <td>1.000000</td>\n",
              "      <td>0.00000</td>\n",
              "    </tr>\n",
              "    <tr>\n",
              "      <th>25%</th>\n",
              "      <td>28.000000</td>\n",
              "      <td>1.178315e+05</td>\n",
              "      <td>9.000000</td>\n",
              "      <td>0.000000</td>\n",
              "      <td>0.000000</td>\n",
              "      <td>40.000000</td>\n",
              "      <td>0.00000</td>\n",
              "    </tr>\n",
              "    <tr>\n",
              "      <th>50%</th>\n",
              "      <td>37.000000</td>\n",
              "      <td>1.786440e+05</td>\n",
              "      <td>10.000000</td>\n",
              "      <td>0.000000</td>\n",
              "      <td>0.000000</td>\n",
              "      <td>40.000000</td>\n",
              "      <td>0.00000</td>\n",
              "    </tr>\n",
              "    <tr>\n",
              "      <th>75%</th>\n",
              "      <td>48.000000</td>\n",
              "      <td>2.368040e+05</td>\n",
              "      <td>12.000000</td>\n",
              "      <td>0.000000</td>\n",
              "      <td>0.000000</td>\n",
              "      <td>45.000000</td>\n",
              "      <td>0.00000</td>\n",
              "    </tr>\n",
              "    <tr>\n",
              "      <th>max</th>\n",
              "      <td>90.000000</td>\n",
              "      <td>1.484705e+06</td>\n",
              "      <td>16.000000</td>\n",
              "      <td>99999.000000</td>\n",
              "      <td>4356.000000</td>\n",
              "      <td>99.000000</td>\n",
              "      <td>1.00000</td>\n",
              "    </tr>\n",
              "  </tbody>\n",
              "</table>\n",
              "</div>\n",
              "      <button class=\"colab-df-convert\" onclick=\"convertToInteractive('df-a5b7ba54-1a5c-4f55-add1-cfc7ca357c04')\"\n",
              "              title=\"Convert this dataframe to an interactive table.\"\n",
              "              style=\"display:none;\">\n",
              "        \n",
              "  <svg xmlns=\"http://www.w3.org/2000/svg\" height=\"24px\"viewBox=\"0 0 24 24\"\n",
              "       width=\"24px\">\n",
              "    <path d=\"M0 0h24v24H0V0z\" fill=\"none\"/>\n",
              "    <path d=\"M18.56 5.44l.94 2.06.94-2.06 2.06-.94-2.06-.94-.94-2.06-.94 2.06-2.06.94zm-11 1L8.5 8.5l.94-2.06 2.06-.94-2.06-.94L8.5 2.5l-.94 2.06-2.06.94zm10 10l.94 2.06.94-2.06 2.06-.94-2.06-.94-.94-2.06-.94 2.06-2.06.94z\"/><path d=\"M17.41 7.96l-1.37-1.37c-.4-.4-.92-.59-1.43-.59-.52 0-1.04.2-1.43.59L10.3 9.45l-7.72 7.72c-.78.78-.78 2.05 0 2.83L4 21.41c.39.39.9.59 1.41.59.51 0 1.02-.2 1.41-.59l7.78-7.78 2.81-2.81c.8-.78.8-2.07 0-2.86zM5.41 20L4 18.59l7.72-7.72 1.47 1.35L5.41 20z\"/>\n",
              "  </svg>\n",
              "      </button>\n",
              "      \n",
              "  <style>\n",
              "    .colab-df-container {\n",
              "      display:flex;\n",
              "      flex-wrap:wrap;\n",
              "      gap: 12px;\n",
              "    }\n",
              "\n",
              "    .colab-df-convert {\n",
              "      background-color: #E8F0FE;\n",
              "      border: none;\n",
              "      border-radius: 50%;\n",
              "      cursor: pointer;\n",
              "      display: none;\n",
              "      fill: #1967D2;\n",
              "      height: 32px;\n",
              "      padding: 0 0 0 0;\n",
              "      width: 32px;\n",
              "    }\n",
              "\n",
              "    .colab-df-convert:hover {\n",
              "      background-color: #E2EBFA;\n",
              "      box-shadow: 0px 1px 2px rgba(60, 64, 67, 0.3), 0px 1px 3px 1px rgba(60, 64, 67, 0.15);\n",
              "      fill: #174EA6;\n",
              "    }\n",
              "\n",
              "    [theme=dark] .colab-df-convert {\n",
              "      background-color: #3B4455;\n",
              "      fill: #D2E3FC;\n",
              "    }\n",
              "\n",
              "    [theme=dark] .colab-df-convert:hover {\n",
              "      background-color: #434B5C;\n",
              "      box-shadow: 0px 1px 3px 1px rgba(0, 0, 0, 0.15);\n",
              "      filter: drop-shadow(0px 1px 2px rgba(0, 0, 0, 0.3));\n",
              "      fill: #FFFFFF;\n",
              "    }\n",
              "  </style>\n",
              "\n",
              "      <script>\n",
              "        const buttonEl =\n",
              "          document.querySelector('#df-a5b7ba54-1a5c-4f55-add1-cfc7ca357c04 button.colab-df-convert');\n",
              "        buttonEl.style.display =\n",
              "          google.colab.kernel.accessAllowed ? 'block' : 'none';\n",
              "\n",
              "        async function convertToInteractive(key) {\n",
              "          const element = document.querySelector('#df-a5b7ba54-1a5c-4f55-add1-cfc7ca357c04');\n",
              "          const dataTable =\n",
              "            await google.colab.kernel.invokeFunction('convertToInteractive',\n",
              "                                                     [key], {});\n",
              "          if (!dataTable) return;\n",
              "\n",
              "          const docLinkHtml = 'Like what you see? Visit the ' +\n",
              "            '<a target=\"_blank\" href=https://colab.research.google.com/notebooks/data_table.ipynb>data table notebook</a>'\n",
              "            + ' to learn more about interactive tables.';\n",
              "          element.innerHTML = '';\n",
              "          dataTable['output_type'] = 'display_data';\n",
              "          await google.colab.output.renderOutput(dataTable, element);\n",
              "          const docLink = document.createElement('div');\n",
              "          docLink.innerHTML = docLinkHtml;\n",
              "          element.appendChild(docLink);\n",
              "        }\n",
              "      </script>\n",
              "    </div>\n",
              "  </div>\n",
              "  "
            ],
            "text/plain": [
              "                age  final_weight  ...  hrs_per_week  target_income\n",
              "count  25000.000000  2.500000e+04  ...  25000.000000    25000.00000\n",
              "mean      38.568800  1.900156e+05  ...     40.392200        0.23944\n",
              "std       13.642694  1.059694e+05  ...     12.350547        0.42675\n",
              "min       17.000000  1.228500e+04  ...      1.000000        0.00000\n",
              "25%       28.000000  1.178315e+05  ...     40.000000        0.00000\n",
              "50%       37.000000  1.786440e+05  ...     40.000000        0.00000\n",
              "75%       48.000000  2.368040e+05  ...     45.000000        0.00000\n",
              "max       90.000000  1.484705e+06  ...     99.000000        1.00000\n",
              "\n",
              "[8 rows x 7 columns]"
            ]
          },
          "metadata": {},
          "execution_count": 11
        }
      ]
    },
    {
      "cell_type": "code",
      "source": [
        "for col in data.columns:\n",
        "  print(data[col].value_counts())"
      ],
      "metadata": {
        "colab": {
          "base_uri": "https://localhost:8080/"
        },
        "id": "l4dGeGsZ9C-g",
        "outputId": "1a8dd6e6-2fb9-4b91-b4da-5490180660b8"
      },
      "execution_count": null,
      "outputs": [
        {
          "output_type": "stream",
          "name": "stdout",
          "text": [
            "34    686\n",
            "33    680\n",
            "37    679\n",
            "36    678\n",
            "23    676\n",
            "     ... \n",
            "83      4\n",
            "88      3\n",
            "85      2\n",
            "86      1\n",
            "87      1\n",
            "Name: age, Length: 73, dtype: int64\n",
            "Private             17537\n",
            "Self-emp-not-inc     1930\n",
            "Local-gov            1592\n",
            "?                    1379\n",
            "State-gov             964\n",
            "Self-emp-inc          851\n",
            "Federal-gov           732\n",
            "Without-pay            10\n",
            "Never-worked            5\n",
            "Name: work_type, dtype: int64\n",
            "123011    11\n",
            "193882    10\n",
            "164190    10\n",
            "241998    10\n",
            "121124    10\n",
            "          ..\n",
            "216552     1\n",
            "171461     1\n",
            "334427     1\n",
            "175594     1\n",
            "167678     1\n",
            "Name: final_weight, Length: 17892, dtype: int64\n",
            "HS-grad         8060\n",
            "Some-college    5672\n",
            "Bachelors       4053\n",
            "Masters         1323\n",
            "Assoc-voc       1059\n",
            "11th             871\n",
            "Assoc-acdm       826\n",
            "10th             728\n",
            "7th-8th          466\n",
            "Prof-school      460\n",
            "9th              411\n",
            "12th             333\n",
            "Doctorate        307\n",
            "5th-6th          263\n",
            "1st-4th          130\n",
            "Preschool         38\n",
            "Name: education, dtype: int64\n",
            "9     8060\n",
            "10    5672\n",
            "13    4053\n",
            "14    1323\n",
            "11    1059\n",
            "7      871\n",
            "12     826\n",
            "6      728\n",
            "4      466\n",
            "15     460\n",
            "5      411\n",
            "8      333\n",
            "16     307\n",
            "3      263\n",
            "2      130\n",
            "1       38\n",
            "Name: total_education_yrs, dtype: int64\n",
            "Married-civ-spouse       11487\n",
            "Never-married             8217\n",
            "Divorced                  3416\n",
            "Separated                  783\n",
            "Widowed                    758\n",
            "Married-spouse-absent      323\n",
            "Married-AF-spouse           16\n",
            "Name: marital_state, dtype: int64\n",
            "Craft-repair         3146\n",
            "Prof-specialty       3131\n",
            "Exec-managerial      3090\n",
            "Adm-clerical         2907\n",
            "Sales                2826\n",
            "Other-service        2599\n",
            "Machine-op-inspct    1555\n",
            "?                    1384\n",
            "Transport-moving     1210\n",
            "Handlers-cleaners    1047\n",
            "Farming-fishing       766\n",
            "Tech-support          725\n",
            "Protective-serv       495\n",
            "Priv-house-serv       111\n",
            "Armed-Forces            8\n",
            "Name: job, dtype: int64\n",
            "Husband           10119\n",
            "Not-in-family      6359\n",
            "Own-child          3904\n",
            "Unmarried          2647\n",
            "Wife               1199\n",
            "Other-relative      772\n",
            "Name: status, dtype: int64\n",
            "White                 21390\n",
            "Black                  2388\n",
            "Asian-Pac-Islander      781\n",
            "Amer-Indian-Eskimo      242\n",
            "Other                   199\n",
            "Name: ethnicity, dtype: int64\n",
            "M    16704\n",
            "F     8296\n",
            "Name: sex, dtype: int64\n",
            "0        22954\n",
            "15024      271\n",
            "7688       220\n",
            "7298       191\n",
            "99999      116\n",
            "         ...  \n",
            "6097         1\n",
            "5060         1\n",
            "7978         1\n",
            "2993         1\n",
            "1639         1\n",
            "Name: capital_gain, Length: 115, dtype: int64\n",
            "0       23851\n",
            "1902      152\n",
            "1977      127\n",
            "1887      117\n",
            "1848       41\n",
            "        ...  \n",
            "1735        1\n",
            "2080        1\n",
            "1648        1\n",
            "155         1\n",
            "2457        1\n",
            "Name: capital_loss, Length: 89, dtype: int64\n",
            "40    11600\n",
            "50     2153\n",
            "45     1423\n",
            "60     1114\n",
            "35      987\n",
            "      ...  \n",
            "76        1\n",
            "86        1\n",
            "82        1\n",
            "92        1\n",
            "74        1\n",
            "Name: hrs_per_week, Length: 93, dtype: int64\n",
            "US                            22397\n",
            "Mexico                          489\n",
            "?                               443\n",
            "Philippines                     152\n",
            "Germany                         104\n",
            "Canada                           95\n",
            "Puerto-Rico                      91\n",
            "El-Salvador                      83\n",
            "India                            79\n",
            "Cuba                             78\n",
            "England                          73\n",
            "South                            63\n",
            "China                            61\n",
            "Italy                            59\n",
            "Jamaica                          57\n",
            "Dominican-Republic               53\n",
            "Guatemala                        48\n",
            "Japan                            48\n",
            "Columbia                         46\n",
            "Poland                           46\n",
            "Vietnam                          45\n",
            "Taiwan                           33\n",
            "Iran                             33\n",
            "Haiti                            33\n",
            "Portugal                         28\n",
            "Nicaragua                        26\n",
            "Peru                             23\n",
            "Ecuador                          22\n",
            "France                           21\n",
            "Ireland                          19\n",
            "Greece                           18\n",
            "Cambodia                         16\n",
            "Thailand                         16\n",
            "Trinadad&Tobago                  15\n",
            "Yugoslavia                       14\n",
            "Laos                             13\n",
            "Outlying-US(Guam-USVI-etc)       13\n",
            "Hong                             13\n",
            "Hungary                          12\n",
            "Scotland                         11\n",
            "Honduras                         10\n",
            "Holand-Netherlands                1\n",
            "Name: nationality, dtype: int64\n",
            "0    19014\n",
            "1     5986\n",
            "Name: target_income, dtype: int64\n"
          ]
        }
      ]
    },
    {
      "cell_type": "markdown",
      "source": [
        "### Data Preprocessing"
      ],
      "metadata": {
        "id": "VVhK7tgS_tPU"
      }
    },
    {
      "cell_type": "markdown",
      "source": [
        "We observe that they replace null data with ?, so we will try to replace ? with NaN and fillna with the most frequent value"
      ],
      "metadata": {
        "id": "GxfwSwxK9b3u"
      }
    },
    {
      "cell_type": "code",
      "source": [
        "data = data.replace('?', np.nan)\n",
        "data.info()"
      ],
      "metadata": {
        "colab": {
          "base_uri": "https://localhost:8080/"
        },
        "id": "MBJMH6I89u0U",
        "outputId": "84df5ed4-367d-4603-f102-4b5a162cfa30"
      },
      "execution_count": null,
      "outputs": [
        {
          "output_type": "stream",
          "name": "stdout",
          "text": [
            "<class 'pandas.core.frame.DataFrame'>\n",
            "RangeIndex: 25000 entries, 0 to 24999\n",
            "Data columns (total 15 columns):\n",
            " #   Column               Non-Null Count  Dtype \n",
            "---  ------               --------------  ----- \n",
            " 0   age                  25000 non-null  int64 \n",
            " 1   work_type            23621 non-null  object\n",
            " 2   final_weight         25000 non-null  int64 \n",
            " 3   education            25000 non-null  object\n",
            " 4   total_education_yrs  25000 non-null  int64 \n",
            " 5   marital_state        25000 non-null  object\n",
            " 6   job                  23616 non-null  object\n",
            " 7   status               25000 non-null  object\n",
            " 8   ethnicity            25000 non-null  object\n",
            " 9   sex                  25000 non-null  object\n",
            " 10  capital_gain         25000 non-null  int64 \n",
            " 11  capital_loss         25000 non-null  int64 \n",
            " 12  hrs_per_week         25000 non-null  int64 \n",
            " 13  nationality          24557 non-null  object\n",
            " 14  target_income        25000 non-null  int64 \n",
            "dtypes: int64(7), object(8)\n",
            "memory usage: 2.9+ MB\n"
          ]
        }
      ]
    },
    {
      "cell_type": "code",
      "source": [
        "# fillna with mode\n",
        "data = data.apply(lambda x: x.fillna(x.value_counts().index[0]))\n",
        "data.info()"
      ],
      "metadata": {
        "colab": {
          "base_uri": "https://localhost:8080/"
        },
        "id": "faVgkcPn9DBZ",
        "outputId": "c5164f81-24c8-456f-c359-a807abcea534"
      },
      "execution_count": null,
      "outputs": [
        {
          "output_type": "stream",
          "name": "stdout",
          "text": [
            "<class 'pandas.core.frame.DataFrame'>\n",
            "RangeIndex: 25000 entries, 0 to 24999\n",
            "Data columns (total 15 columns):\n",
            " #   Column               Non-Null Count  Dtype \n",
            "---  ------               --------------  ----- \n",
            " 0   age                  25000 non-null  int64 \n",
            " 1   work_type            25000 non-null  object\n",
            " 2   final_weight         25000 non-null  int64 \n",
            " 3   education            25000 non-null  object\n",
            " 4   total_education_yrs  25000 non-null  int64 \n",
            " 5   marital_state        25000 non-null  object\n",
            " 6   job                  25000 non-null  object\n",
            " 7   status               25000 non-null  object\n",
            " 8   ethnicity            25000 non-null  object\n",
            " 9   sex                  25000 non-null  object\n",
            " 10  capital_gain         25000 non-null  int64 \n",
            " 11  capital_loss         25000 non-null  int64 \n",
            " 12  hrs_per_week         25000 non-null  int64 \n",
            " 13  nationality          25000 non-null  object\n",
            " 14  target_income        25000 non-null  int64 \n",
            "dtypes: int64(7), object(8)\n",
            "memory usage: 2.9+ MB\n"
          ]
        }
      ]
    },
    {
      "cell_type": "code",
      "source": [
        "# One hot encoder for category attributes\n",
        "def encode_and_bind(dataframe, features_to_encode):\n",
        "  dummies = pd.get_dummies(dataframe[features_to_encode])\n",
        "  result = pd.concat([data, dummies], axis = 1)\n",
        "  result = result.drop([features_to_encode], axis = 1)\n",
        "  return result\n",
        "\n",
        "features_to_encode = ['work_type', 'education', 'marital_state', 'job', 'status', 'ethnicity', 'sex', 'nationality']\n",
        "for feature in features_to_encode:\n",
        "    data = encode_and_bind(data, feature)\n",
        "\n",
        "data.info()"
      ],
      "metadata": {
        "colab": {
          "base_uri": "https://localhost:8080/"
        },
        "id": "ZEspnmKZ9DD0",
        "outputId": "d8c1c52c-3668-4fcf-f4f1-b87728d609b6"
      },
      "execution_count": null,
      "outputs": [
        {
          "output_type": "stream",
          "name": "stdout",
          "text": [
            "<class 'pandas.core.frame.DataFrame'>\n",
            "RangeIndex: 25000 entries, 0 to 24999\n",
            "Columns: 106 entries, age to Yugoslavia\n",
            "dtypes: int64(7), uint8(99)\n",
            "memory usage: 3.7 MB\n"
          ]
        }
      ]
    },
    {
      "cell_type": "markdown",
      "source": [
        "### Train_test_split"
      ],
      "metadata": {
        "id": "HsU9iYbQ_xZC"
      }
    },
    {
      "cell_type": "code",
      "source": [
        "train, test = train_test_split(data, test_size = 0.2, stratify = data['target_income'], random_state = 0)\n",
        "print(train.shape, test.shape)"
      ],
      "metadata": {
        "colab": {
          "base_uri": "https://localhost:8080/"
        },
        "id": "17pr1SoP90BN",
        "outputId": "7d7433c9-fafe-4df5-c237-6321cbba6950"
      },
      "execution_count": null,
      "outputs": [
        {
          "output_type": "stream",
          "name": "stdout",
          "text": [
            "(20000, 106) (5000, 106)\n"
          ]
        }
      ]
    },
    {
      "cell_type": "code",
      "source": [
        "X_train = train.copy()\n",
        "X_test = test.copy()\n",
        "y_train = X_train.pop('target_income')\n",
        "y_test = X_test.pop('target_income')\n",
        "print(X_train.shape, y_train.shape)\n",
        "print(X_test.shape, y_test.shape)"
      ],
      "metadata": {
        "colab": {
          "base_uri": "https://localhost:8080/"
        },
        "id": "j9LtRtFk90Do",
        "outputId": "afa918b0-6aa1-4813-86ee-2bb61aea3fb5"
      },
      "execution_count": null,
      "outputs": [
        {
          "output_type": "stream",
          "name": "stdout",
          "text": [
            "(20000, 105) (20000,)\n",
            "(5000, 105) (5000,)\n"
          ]
        }
      ]
    },
    {
      "cell_type": "code",
      "source": [
        "# Convert to array\n",
        "X_train = X_train.to_numpy()\n",
        "X_test = X_test.to_numpy()"
      ],
      "metadata": {
        "id": "H93Siy4lC5N-"
      },
      "execution_count": null,
      "outputs": []
    },
    {
      "cell_type": "code",
      "source": [
        "y_train = y_train.to_numpy()\n",
        "y_test = y_test.to_numpy()"
      ],
      "metadata": {
        "id": "JVj_59PJDuIS"
      },
      "execution_count": null,
      "outputs": []
    },
    {
      "cell_type": "code",
      "source": [
        "# Set random seed for reproducability\n",
        "torch.manual_seed(0)\n",
        "\n",
        "print('Libraries imported - ready to use PyTorch', torch.__version__)"
      ],
      "metadata": {
        "colab": {
          "base_uri": "https://localhost:8080/"
        },
        "id": "NLN3Bp9990GV",
        "outputId": "494f5e6f-3201-4406-98d2-16b70adbc8b6"
      },
      "execution_count": null,
      "outputs": [
        {
          "output_type": "stream",
          "name": "stdout",
          "text": [
            "Libraries imported - ready to use PyTorch 1.10.0+cu111\n"
          ]
        }
      ]
    },
    {
      "cell_type": "code",
      "source": [
        "# Create a dataset and loader for the training data and labels\n",
        "X_train = torch.Tensor(X_train).float()\n",
        "y_train = torch.Tensor(y_train).long()\n",
        "train = td.TensorDataset(X_train, y_train)\n",
        "train_loader = td.DataLoader(train, batch_size = 128,\n",
        "                             shuffle = True, num_workers = 1)\n",
        "\n",
        "# Create a dataset and loader for test data and labels\n",
        "X_test = torch.Tensor(X_test).float()\n",
        "y_test = torch.Tensor(y_test).long()\n",
        "test = td.TensorDataset(X_test, y_test)\n",
        "test_loader = td.DataLoader(test, batch_size = 128,\n",
        "                            shuffle = False, num_workers = 1)\n",
        "\n",
        "print('Ready to load data')"
      ],
      "metadata": {
        "colab": {
          "base_uri": "https://localhost:8080/"
        },
        "id": "MHeDdLsiBb8w",
        "outputId": "28b89832-3434-422e-c2b8-0d68432970cb"
      },
      "execution_count": null,
      "outputs": [
        {
          "output_type": "stream",
          "name": "stdout",
          "text": [
            "Ready to load data\n"
          ]
        }
      ]
    },
    {
      "cell_type": "markdown",
      "source": [
        "## Câu 10\n",
        "Xây dựng một mạng deep-neural-network để huấn luyện mô hình trên dữ liệu train và đánh giá mô hình trên dữ liệu test."
      ],
      "metadata": {
        "id": "de2maontkYhV"
      }
    },
    {
      "cell_type": "code",
      "source": [
        "# Define number of hidden layers\n",
        "hl = 10\n",
        "num_features = 105\n",
        "num_classes = 2\n",
        "\n",
        "# Define the neural network\n",
        "class IncomeNet(nn.Module):\n",
        "  def __init__(self):\n",
        "    super(IncomeNet, self).__init__()\n",
        "    self.fc1 = nn.Linear(num_features, hl)\n",
        "    self.fc2 = nn.Linear(hl, hl)\n",
        "    self.fc3 = nn.Linear(hl, 6)\n",
        "    self.fc4 = nn.Linear(6, num_classes)\n",
        "\n",
        "  def forward(self, x):\n",
        "    x = torch.relu(self.fc1(x))\n",
        "    x = torch.relu(self.fc2(x))\n",
        "    x = torch.relu(self.fc3(x))\n",
        "    x = torch.sigmoid(self.fc4(x))\n",
        "    return x\n",
        "\n",
        "model = IncomeNet()\n",
        "print(model)"
      ],
      "metadata": {
        "colab": {
          "base_uri": "https://localhost:8080/"
        },
        "id": "D-ZZ3dZoEVfJ",
        "outputId": "0693558a-9050-43d5-80d5-a5be5b8a47d6"
      },
      "execution_count": null,
      "outputs": [
        {
          "output_type": "stream",
          "name": "stdout",
          "text": [
            "IncomeNet(\n",
            "  (fc1): Linear(in_features=105, out_features=10, bias=True)\n",
            "  (fc2): Linear(in_features=10, out_features=10, bias=True)\n",
            "  (fc3): Linear(in_features=10, out_features=6, bias=True)\n",
            "  (fc4): Linear(in_features=6, out_features=2, bias=True)\n",
            ")\n"
          ]
        }
      ]
    },
    {
      "cell_type": "code",
      "source": [
        "def train(model, data_loader, optimizer):\n",
        "  # Set the model to training mode\n",
        "  model.train()\n",
        "  train_loss = 0\n",
        "\n",
        "  for batch, tensor in enumerate(data_loader):\n",
        "    data, target = tensor\n",
        "    # Feed forward: caculate y_pred and loss function\n",
        "    optimizer.zero_grad()\n",
        "    out = model(data)\n",
        "    loss = loss_criteria(out, target)\n",
        "    train_loss += loss.item()\n",
        "\n",
        "    # Backpropagate: compute gradiant descent\n",
        "    loss.backward()\n",
        "    # Update weights\n",
        "    optimizer.step()\n",
        "\n",
        "  # Return average loss\n",
        "  avg_loss = train_loss / (batch + 1)\n",
        "  print('Training set: Average loss: {:.6f}'.format(avg_loss))\n",
        "  return avg_loss\n",
        "\n",
        "def test(model, data_loader):\n",
        "  # Switch the model to evaluation mode\n",
        "  model.eval()\n",
        "  test_loss = 0\n",
        "  correct = 0\n",
        "\n",
        "  with torch.no_grad():\n",
        "    batch_count = 0\n",
        "    for batch, tensor in enumerate(data_loader):\n",
        "      batch_count += 1\n",
        "      data, target = tensor\n",
        "      # Get the predictions\n",
        "      out = model(data)\n",
        "      # Calculate the loss\n",
        "      test_loss += loss_criteria(out, target).item()\n",
        "      # Calculate the accuracy\n",
        "      _, predicted = torch.max(out.data, 1)\n",
        "      correct += torch.sum(target==predicted).item()\n",
        "\n",
        "  # Calculate the average loss and total accuarcy for this epoch\n",
        "  avg_loss = test_loss / batch_count\n",
        "  print('Validation set: Average loss: {:.6f}, Accuracy: {}/{} ({:.0f}%)\\n'.format(\n",
        "        avg_loss, correct, len(data_loader.dataset),\n",
        "        100. * correct / len(data_loader.dataset)))\n",
        "  return avg_loss\n",
        "\n",
        "# Define loss function\n",
        "loss_criteria = nn.CrossEntropyLoss()\n",
        "# Define learning rate and optimization function\n",
        "learning_rate = 0.005\n",
        "optimizer = torch.optim.Adam(model.parameters(), lr = learning_rate)\n",
        "optimizer.zero_grad()\n",
        "\n",
        "#\n",
        "epoch_nums = []\n",
        "training_loss = []\n",
        "validation_loss = []\n",
        "\n",
        "# Train over 50 epochs\n",
        "epochs = 50\n",
        "for epoch in range(1, epochs + 1):\n",
        "  # Print the epoch number \n",
        "  print('Epoch {}'.format(epoch))\n",
        "\n",
        "  # Feed training data into the model to optimize the weights\n",
        "  train_loss = train(model, train_loader, optimizer)\n",
        "\n",
        "  # Feed the test data into the model to check its performance\n",
        "  test_loss = test(model, test_loader)\n",
        "\n",
        "  # Log the metrics for this epoch\n",
        "  epoch_nums.append(epoch)\n",
        "  training_loss.append(train_loss)\n",
        "  validation_loss.append(test_loss)\n",
        "\n"
      ],
      "metadata": {
        "colab": {
          "base_uri": "https://localhost:8080/"
        },
        "id": "OItcknrzEWbU",
        "outputId": "08a41dd0-d7a5-4bfb-9c59-efa12759a845"
      },
      "execution_count": null,
      "outputs": [
        {
          "output_type": "stream",
          "name": "stdout",
          "text": [
            "Epoch 1\n",
            "Training set: Average loss: 0.693147\n",
            "Validation set: Average loss: 0.693147, Accuracy: 3803/5000 (76%)\n",
            "\n",
            "Epoch 2\n",
            "Training set: Average loss: 0.693147\n",
            "Validation set: Average loss: 0.693147, Accuracy: 3803/5000 (76%)\n",
            "\n",
            "Epoch 3\n",
            "Training set: Average loss: 0.693147\n",
            "Validation set: Average loss: 0.693147, Accuracy: 3803/5000 (76%)\n",
            "\n",
            "Epoch 4\n",
            "Training set: Average loss: 0.693147\n",
            "Validation set: Average loss: 0.693147, Accuracy: 3803/5000 (76%)\n",
            "\n",
            "Epoch 5\n",
            "Training set: Average loss: 0.693147\n",
            "Validation set: Average loss: 0.693147, Accuracy: 3803/5000 (76%)\n",
            "\n",
            "Epoch 6\n",
            "Training set: Average loss: 0.693147\n",
            "Validation set: Average loss: 0.693147, Accuracy: 3803/5000 (76%)\n",
            "\n",
            "Epoch 7\n",
            "Training set: Average loss: 0.693147\n",
            "Validation set: Average loss: 0.693147, Accuracy: 3803/5000 (76%)\n",
            "\n",
            "Epoch 8\n",
            "Training set: Average loss: 0.693147\n",
            "Validation set: Average loss: 0.693147, Accuracy: 3803/5000 (76%)\n",
            "\n",
            "Epoch 9\n",
            "Training set: Average loss: 0.693147\n",
            "Validation set: Average loss: 0.693147, Accuracy: 3803/5000 (76%)\n",
            "\n",
            "Epoch 10\n",
            "Training set: Average loss: 0.693147\n",
            "Validation set: Average loss: 0.693147, Accuracy: 3803/5000 (76%)\n",
            "\n",
            "Epoch 11\n",
            "Training set: Average loss: 0.693147\n",
            "Validation set: Average loss: 0.693147, Accuracy: 3803/5000 (76%)\n",
            "\n",
            "Epoch 12\n",
            "Training set: Average loss: 0.693147\n",
            "Validation set: Average loss: 0.693147, Accuracy: 3803/5000 (76%)\n",
            "\n",
            "Epoch 13\n",
            "Training set: Average loss: 0.693147\n",
            "Validation set: Average loss: 0.693147, Accuracy: 3803/5000 (76%)\n",
            "\n",
            "Epoch 14\n",
            "Training set: Average loss: 0.693147\n",
            "Validation set: Average loss: 0.693147, Accuracy: 3803/5000 (76%)\n",
            "\n",
            "Epoch 15\n",
            "Training set: Average loss: 0.693147\n",
            "Validation set: Average loss: 0.693147, Accuracy: 3803/5000 (76%)\n",
            "\n",
            "Epoch 16\n",
            "Training set: Average loss: 0.693147\n",
            "Validation set: Average loss: 0.693147, Accuracy: 3803/5000 (76%)\n",
            "\n",
            "Epoch 17\n",
            "Training set: Average loss: 0.693147\n",
            "Validation set: Average loss: 0.693147, Accuracy: 3803/5000 (76%)\n",
            "\n",
            "Epoch 18\n",
            "Training set: Average loss: 0.693147\n",
            "Validation set: Average loss: 0.693147, Accuracy: 3803/5000 (76%)\n",
            "\n",
            "Epoch 19\n",
            "Training set: Average loss: 0.693147\n",
            "Validation set: Average loss: 0.693147, Accuracy: 3803/5000 (76%)\n",
            "\n",
            "Epoch 20\n",
            "Training set: Average loss: 0.693147\n",
            "Validation set: Average loss: 0.693147, Accuracy: 3803/5000 (76%)\n",
            "\n",
            "Epoch 21\n",
            "Training set: Average loss: 0.693147\n",
            "Validation set: Average loss: 0.693147, Accuracy: 3803/5000 (76%)\n",
            "\n",
            "Epoch 22\n",
            "Training set: Average loss: 0.693147\n",
            "Validation set: Average loss: 0.693147, Accuracy: 3803/5000 (76%)\n",
            "\n",
            "Epoch 23\n",
            "Training set: Average loss: 0.693147\n",
            "Validation set: Average loss: 0.693147, Accuracy: 3803/5000 (76%)\n",
            "\n",
            "Epoch 24\n",
            "Training set: Average loss: 0.693147\n",
            "Validation set: Average loss: 0.693147, Accuracy: 3803/5000 (76%)\n",
            "\n",
            "Epoch 25\n",
            "Training set: Average loss: 0.693147\n",
            "Validation set: Average loss: 0.693147, Accuracy: 3803/5000 (76%)\n",
            "\n",
            "Epoch 26\n",
            "Training set: Average loss: 0.693147\n",
            "Validation set: Average loss: 0.693147, Accuracy: 3803/5000 (76%)\n",
            "\n",
            "Epoch 27\n",
            "Training set: Average loss: 0.693147\n",
            "Validation set: Average loss: 0.693147, Accuracy: 3803/5000 (76%)\n",
            "\n",
            "Epoch 28\n",
            "Training set: Average loss: 0.693147\n",
            "Validation set: Average loss: 0.693147, Accuracy: 3803/5000 (76%)\n",
            "\n",
            "Epoch 29\n",
            "Training set: Average loss: 0.693147\n",
            "Validation set: Average loss: 0.693147, Accuracy: 3803/5000 (76%)\n",
            "\n",
            "Epoch 30\n",
            "Training set: Average loss: 0.693147\n",
            "Validation set: Average loss: 0.693147, Accuracy: 3803/5000 (76%)\n",
            "\n",
            "Epoch 31\n",
            "Training set: Average loss: 0.693147\n",
            "Validation set: Average loss: 0.693147, Accuracy: 3803/5000 (76%)\n",
            "\n",
            "Epoch 32\n",
            "Training set: Average loss: 0.693147\n",
            "Validation set: Average loss: 0.693147, Accuracy: 3803/5000 (76%)\n",
            "\n",
            "Epoch 33\n",
            "Training set: Average loss: 0.693147\n",
            "Validation set: Average loss: 0.693147, Accuracy: 3803/5000 (76%)\n",
            "\n",
            "Epoch 34\n",
            "Training set: Average loss: 0.693147\n",
            "Validation set: Average loss: 0.693147, Accuracy: 3803/5000 (76%)\n",
            "\n",
            "Epoch 35\n",
            "Training set: Average loss: 0.693147\n",
            "Validation set: Average loss: 0.693147, Accuracy: 3803/5000 (76%)\n",
            "\n",
            "Epoch 36\n",
            "Training set: Average loss: 0.693147\n",
            "Validation set: Average loss: 0.693147, Accuracy: 3803/5000 (76%)\n",
            "\n",
            "Epoch 37\n",
            "Training set: Average loss: 0.693147\n",
            "Validation set: Average loss: 0.693147, Accuracy: 3803/5000 (76%)\n",
            "\n",
            "Epoch 38\n",
            "Training set: Average loss: 0.693147\n",
            "Validation set: Average loss: 0.693147, Accuracy: 3803/5000 (76%)\n",
            "\n",
            "Epoch 39\n",
            "Training set: Average loss: 0.693147\n",
            "Validation set: Average loss: 0.693147, Accuracy: 3803/5000 (76%)\n",
            "\n",
            "Epoch 40\n",
            "Training set: Average loss: 0.693147\n",
            "Validation set: Average loss: 0.693147, Accuracy: 3803/5000 (76%)\n",
            "\n",
            "Epoch 41\n",
            "Training set: Average loss: 0.693147\n",
            "Validation set: Average loss: 0.693147, Accuracy: 3803/5000 (76%)\n",
            "\n",
            "Epoch 42\n",
            "Training set: Average loss: 0.693147\n",
            "Validation set: Average loss: 0.693147, Accuracy: 3803/5000 (76%)\n",
            "\n",
            "Epoch 43\n",
            "Training set: Average loss: 0.693147\n",
            "Validation set: Average loss: 0.693147, Accuracy: 3803/5000 (76%)\n",
            "\n",
            "Epoch 44\n",
            "Training set: Average loss: 0.693147\n",
            "Validation set: Average loss: 0.693147, Accuracy: 3803/5000 (76%)\n",
            "\n",
            "Epoch 45\n",
            "Training set: Average loss: 0.693147\n",
            "Validation set: Average loss: 0.693147, Accuracy: 3803/5000 (76%)\n",
            "\n",
            "Epoch 46\n",
            "Training set: Average loss: 0.693147\n",
            "Validation set: Average loss: 0.693147, Accuracy: 3803/5000 (76%)\n",
            "\n",
            "Epoch 47\n",
            "Training set: Average loss: 0.693147\n",
            "Validation set: Average loss: 0.693147, Accuracy: 3803/5000 (76%)\n",
            "\n",
            "Epoch 48\n",
            "Training set: Average loss: 0.693147\n",
            "Validation set: Average loss: 0.693147, Accuracy: 3803/5000 (76%)\n",
            "\n",
            "Epoch 49\n",
            "Training set: Average loss: 0.693147\n",
            "Validation set: Average loss: 0.693147, Accuracy: 3803/5000 (76%)\n",
            "\n",
            "Epoch 50\n",
            "Training set: Average loss: 0.693147\n",
            "Validation set: Average loss: 0.693147, Accuracy: 3803/5000 (76%)\n",
            "\n"
          ]
        }
      ]
    },
    {
      "cell_type": "code",
      "source": [
        "%matplotlib inline\n",
        "from matplotlib import pyplot as plt\n",
        "\n",
        "plt.plot(epoch_nums, training_loss)\n",
        "plt.plot(epoch_nums, validation_loss)\n",
        "plt.xlabel('epoch')\n",
        "plt.ylabel('loss')\n",
        "plt.legend(['training', 'validation'], loc='upper right')\n",
        "plt.show()"
      ],
      "metadata": {
        "colab": {
          "base_uri": "https://localhost:8080/",
          "height": 290
        },
        "id": "UeB4InG7EWgJ",
        "outputId": "001b8fff-cb6a-44b6-84bc-c44e5f8ee36b"
      },
      "execution_count": null,
      "outputs": [
        {
          "output_type": "display_data",
          "data": {
            "image/png": "[encoded data removed]",
            "text/plain": [
              "<Figure size 432x288 with 1 Axes>"
            ]
          },
          "metadata": {
            "needs_background": "light"
          }
        }
      ]
    },
    {
      "cell_type": "code",
      "source": [
        "#Pytorch doesn't have a built-in confusion matrix metric, so we'll use SciKit-Learn\n",
        "from sklearn.metrics import confusion_matrix\n",
        "import numpy as np\n",
        "\n",
        "target_income_classes = ['<50K', '>50K']\n",
        "\n",
        "# Set the model to evaluate mode\n",
        "model.eval()\n",
        "\n",
        "# Get predictions for the test data\n",
        "x = torch.Tensor(X_test).float()\n",
        "_, predicted = torch.max(model(x).data, 1)\n",
        "\n",
        "# Plot the confusion matrix\n",
        "cm = confusion_matrix(y_test, predicted.numpy())\n",
        "plt.figure(figsize = (16, 8))\n",
        "plt.imshow(cm, interpolation=\"nearest\", cmap=plt.cm.Blues)\n",
        "plt.colorbar()\n",
        "tick_marks = np.arange(len(target_income_classes))\n",
        "\n",
        "plt.xticks(tick_marks, target_income_classes, rotation=45)\n",
        "plt.yticks(tick_marks, target_income_classes)\n",
        "plt.xlabel(\"Predicted Classification\")\n",
        "plt.ylabel(\"Actual Classification\")\n",
        "plt.show()"
      ],
      "metadata": {
        "colab": {
          "base_uri": "https://localhost:8080/",
          "height": 512
        },
        "id": "ltAtDSAsEWih",
        "outputId": "4c853e0c-fe08-49bc-a4b6-4c65f950268c"
      },
      "execution_count": null,
      "outputs": [
        {
          "output_type": "display_data",
          "data": {
            "image/png": "[encoded data removed]",
            "text/plain": [
              "<Figure size 1152x576 with 2 Axes>"
            ]
          },
          "metadata": {
            "needs_background": "light"
          }
        }
      ]
    },
    {
      "cell_type": "code",
      "source": [
        ""
      ],
      "metadata": {
        "id": "x9a62G-IUHPG"
      },
      "execution_count": null,
      "outputs": []
    }
  ]
}