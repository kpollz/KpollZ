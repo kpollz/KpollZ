{
  "nbformat": 4,
  "nbformat_minor": 0,
  "metadata": {
    "colab": {
      "name": "3.PytorchHomeWork_DangVanThuc.ipynb",
      "provenance": [],
      "collapsed_sections": []
    },
    "kernelspec": {
      "name": "python3",
      "display_name": "Python 3"
    },
    "language_info": {
      "name": "python"
    }
  },
  "cells": [
    {
      "cell_type": "markdown",
      "source": [
        "# 1. Lý thuyết\n",
        "\n",
        "**1) Để khởi tạo model trong pytorch chúng ta sử dụng class nào?**\n",
        "\n",
        "**A. nn.Module**\n",
        "\n",
        "B. nn.Dense\n",
        "\n",
        "C. nn.optim.Adam\n",
        "\n",
        "D. nn.Dropout\n",
        "\n",
        "**2) Để khởi tạo mạng neural network trong pytorch chúng ta cần làm gì ?**\n",
        "\n",
        "A. Kế thừa lại class `nn.Model`. Khởi tạo các layers trong hàm tạo `__init__()` và sử dụng các layers để tính toán dữ liệu trong hàm `forward()`.\n",
        "\n",
        "B. Khởi tạo một object của class `nn.Model` và sử dụng hàm `add()` để thêm từng layer vào mô hình.\n",
        "\n",
        "C. Sử dụng class `nn.Model` để khởi tạo mô hình. Truyền vào bên trong class này một list gồm các layers.\n",
        "\n",
        "**D. Kế thừa lại class `nn.Module`. Khởi tạo các layers trong hàm tạo `__init__()` và sử dụng các layers để tính toán dữ liệu trong hàm `forward()`.**\n",
        "\n",
        "\n",
        "**3) Các modules chính trong pytorch dùng để xây dựng và huấn luyện model.**\n",
        "\n",
        "A. `torch.nn`: Dùng để khởi tạo các layers và activations function và loss function, `torch.optim`: Khởi tạo optimizer, `torch.data`: Khởi tạo dataset và dataloader.\n",
        "\n",
        "**B. `torch.nn`: Dùng để khởi tạo các layers và activations function và loss function, `torch.optim`: Khởi tạo optimizer, `torch.utils.data`: Khởi tạo dataset và dataloader.**\n",
        "\n",
        "C. `torch.nn`: Dùng để khởi tạo các layers và activations function, `torch.optim`: Khởi tạo optimizer, `torch.data`: Khởi tạo dataset và dataloader, `torch.loss`: Khởi tạo loss function.\n",
        "\n",
        "D. `torch.nn`: Dùng để khởi tạo các layers và loss function, `torch.optim`: Khởi tạo optimizer, `torch.data`: Khởi tạo dataset và dataloader, `torch.activations`: Khởi tạo activations function.\n",
        "\n",
        "\n",
        "**4) Để customize một Dataset trên pytorch chúng ta cần thực hiện như thế nào?**\n",
        "\n",
        "A. Sử dụng thuộc tính `transformer` để qui định các biến đổi trên dữ liệu. Những biến đổi này được thực hiện trên hàm tạo.\n",
        "\n",
        "**B. Khởi tạo một class kế thừa lại `torch.utils.data.Dataset`. Khai báo các thuộc tính cần sử dụng trong hàm tạo của dataset như list đường dẫn, list label. Override lại hàm `__getitem__()` để thực hiện các xử lý trên dữ liệu.**\n",
        "\n",
        "C. Kế thừa lại một class `Dataset`. Các điều chỉnh trên dữ liệu được thực hiện trên hàm `transformer()`.\n",
        "\n",
        "D. Sử dụng hàm `__getitem__()` để trả về toàn bộ các quan sát khi huấn luyện. \n",
        "\n",
        "**5) Ý nghĩa của tham số epochs và batch_size trong huấn luyện mô hình là gì?**\n",
        "\n",
        "A. epochs là kích thước của một mini-batch, batch_size là số lượt lặp lại toàn bộ dữ liệu khi huấn luyện.\n",
        "\n",
        "B. epochs là số lượt lặp lại toàn bộ dữ liệu validation khi huấn luyện, batch_size là kích thước của một mini-batch.\n",
        "\n",
        "**C. epochs là số lượt lặp lại toàn bộ dữ liệu train khi huấn luyện, batch_size là kích thước của một mini-batch.**\n",
        "\n",
        "D. epochs là số lượng vòng lặp, mỗi vòng lặp là một lượt fit mini-batch, trên bộ dữ liệu khi huấn luyện; batch_size là kích thước của một mini-batch."
      ],
      "metadata": {
        "id": "DUXbtwUsAGPq"
      }
    },
    {
      "cell_type": "markdown",
      "source": [
        "# 2. Thực hành\n",
        "\n",
        "6) Khởi tạo một tensor 3 chiều với định dạng là float và kích thước là 32x32x3\n",
        "\n",
        "7) Nếu coi tensor trên là một bức ảnh RGB với số channel là 3 ở cuối. Hãy truy suất các ma trận ảnh tương ứng với mỗi kênh R, G, B.\n",
        "\n",
        "8) Thực hiện tích hadamard và tích thông thường giữa ma trận R và G.\n",
        "\n",
        "9) Từ bộ dữ liệu [Income-Classification](https://www.kaggle.com/t/090688c8d33a40b68be9e271d6ba6bae) hãy chuẩn hóa dữ liệu và phân chia tập train/test theo tỷ lệ 80/20. \n",
        "\n",
        "10) Xây dựng một mạng deep-neural-network để huấn luyện mô hình trên dữ liệu train và đánh giá mô hình trên dữ liệu test.\n"
      ],
      "metadata": {
        "id": "LzLjMsckAJAT"
      }
    },
    {
      "cell_type": "code",
      "source": [
        "import torch"
      ],
      "metadata": {
        "id": "_hMxsaeW9taS"
      },
      "execution_count": null,
      "outputs": []
    },
    {
      "cell_type": "code",
      "source": [
        "tensor = torch.rand((32,32,3),dtype=torch.float32)\n",
        "\n",
        "\n",
        "print(tensor,tensor.size())\n"
      ],
      "metadata": {
        "colab": {
          "base_uri": "https://localhost:8080/"
        },
        "id": "0UmL10GN9o2C",
        "outputId": "632969d2-dc4f-490c-e054-5a59a8d65d4f"
      },
      "execution_count": null,
      "outputs": [
        {
          "output_type": "stream",
          "name": "stdout",
          "text": [
            "tensor([[[0.4706, 0.5777, 0.1780],\n",
            "         [0.9930, 0.2624, 0.7960],\n",
            "         [0.4676, 0.2622, 0.7676],\n",
            "         ...,\n",
            "         [0.0439, 0.7608, 0.6953],\n",
            "         [0.7885, 0.1848, 0.3513],\n",
            "         [0.5828, 0.5462, 0.0603]],\n",
            "\n",
            "        [[0.4367, 0.1601, 0.8764],\n",
            "         [0.6457, 0.6656, 0.9721],\n",
            "         [0.2819, 0.1920, 0.1267],\n",
            "         ...,\n",
            "         [0.0053, 0.3907, 0.1606],\n",
            "         [0.0539, 0.1325, 0.8887],\n",
            "         [0.2708, 0.1192, 0.0559]],\n",
            "\n",
            "        [[0.8825, 0.5060, 0.9231],\n",
            "         [0.4166, 0.0890, 0.4892],\n",
            "         [0.6797, 0.3866, 0.4683],\n",
            "         ...,\n",
            "         [0.3843, 0.7589, 0.4586],\n",
            "         [0.9259, 0.0251, 0.5098],\n",
            "         [0.2167, 0.2644, 0.8986]],\n",
            "\n",
            "        ...,\n",
            "\n",
            "        [[0.0715, 0.2613, 0.6538],\n",
            "         [0.7352, 0.6576, 0.7931],\n",
            "         [0.8034, 0.7289, 0.6279],\n",
            "         ...,\n",
            "         [0.1275, 0.2227, 0.4090],\n",
            "         [0.4786, 0.4690, 0.3082],\n",
            "         [0.3222, 0.2829, 0.7909]],\n",
            "\n",
            "        [[0.6902, 0.7121, 0.2144],\n",
            "         [0.5059, 0.4290, 0.6979],\n",
            "         [0.5178, 0.8550, 0.5821],\n",
            "         ...,\n",
            "         [0.8737, 0.3081, 0.4857],\n",
            "         [0.1715, 0.5299, 0.2932],\n",
            "         [0.5010, 0.5815, 0.7226]],\n",
            "\n",
            "        [[0.0102, 0.6922, 0.1343],\n",
            "         [0.8985, 0.1426, 0.9636],\n",
            "         [0.6318, 0.0046, 0.8882],\n",
            "         ...,\n",
            "         [0.8678, 0.3845, 0.4370],\n",
            "         [0.6915, 0.2603, 0.1743],\n",
            "         [0.2870, 0.2354, 0.0771]]]) torch.Size([32, 32, 3])\n"
          ]
        }
      ]
    },
    {
      "cell_type": "code",
      "source": [
        "R = tensor[:,:,0]\n",
        "G = tensor[:,:,1]\n",
        "B = tensor[:,:,2]\n",
        "R,G,B,R.size()"
      ],
      "metadata": {
        "colab": {
          "base_uri": "https://localhost:8080/"
        },
        "id": "sWd19gr1-EqM",
        "outputId": "7f65c838-033d-463f-9c19-ba311bdeaed9"
      },
      "execution_count": null,
      "outputs": [
        {
          "output_type": "execute_result",
          "data": {
            "text/plain": [
              "(tensor([[0.4706, 0.9930, 0.4676,  ..., 0.0439, 0.7885, 0.5828],\n",
              "         [0.4367, 0.6457, 0.2819,  ..., 0.0053, 0.0539, 0.2708],\n",
              "         [0.8825, 0.4166, 0.6797,  ..., 0.3843, 0.9259, 0.2167],\n",
              "         ...,\n",
              "         [0.0715, 0.7352, 0.8034,  ..., 0.1275, 0.4786, 0.3222],\n",
              "         [0.6902, 0.5059, 0.5178,  ..., 0.8737, 0.1715, 0.5010],\n",
              "         [0.0102, 0.8985, 0.6318,  ..., 0.8678, 0.6915, 0.2870]]),\n",
              " tensor([[0.5777, 0.2624, 0.2622,  ..., 0.7608, 0.1848, 0.5462],\n",
              "         [0.1601, 0.6656, 0.1920,  ..., 0.3907, 0.1325, 0.1192],\n",
              "         [0.5060, 0.0890, 0.3866,  ..., 0.7589, 0.0251, 0.2644],\n",
              "         ...,\n",
              "         [0.2613, 0.6576, 0.7289,  ..., 0.2227, 0.4690, 0.2829],\n",
              "         [0.7121, 0.4290, 0.8550,  ..., 0.3081, 0.5299, 0.5815],\n",
              "         [0.6922, 0.1426, 0.0046,  ..., 0.3845, 0.2603, 0.2354]]),\n",
              " tensor([[0.1780, 0.7960, 0.7676,  ..., 0.6953, 0.3513, 0.0603],\n",
              "         [0.8764, 0.9721, 0.1267,  ..., 0.1606, 0.8887, 0.0559],\n",
              "         [0.9231, 0.4892, 0.4683,  ..., 0.4586, 0.5098, 0.8986],\n",
              "         ...,\n",
              "         [0.6538, 0.7931, 0.6279,  ..., 0.4090, 0.3082, 0.7909],\n",
              "         [0.2144, 0.6979, 0.5821,  ..., 0.4857, 0.2932, 0.7226],\n",
              "         [0.1343, 0.9636, 0.8882,  ..., 0.4370, 0.1743, 0.0771]]),\n",
              " torch.Size([32, 32]))"
            ]
          },
          "metadata": {},
          "execution_count": 18
        }
      ]
    },
    {
      "cell_type": "code",
      "source": [
        "print(R*G,(R*G).size()) \n",
        "print(R@G,(R@G).size())"
      ],
      "metadata": {
        "colab": {
          "base_uri": "https://localhost:8080/"
        },
        "id": "jTONjVzs_jrk",
        "outputId": "bbda27da-c41a-4f13-ce88-a6de7f72695e"
      },
      "execution_count": null,
      "outputs": [
        {
          "output_type": "stream",
          "name": "stdout",
          "text": [
            "tensor([[0.2719, 0.2606, 0.1226,  ..., 0.0334, 0.1457, 0.3184],\n",
            "        [0.0699, 0.4298, 0.0541,  ..., 0.0021, 0.0071, 0.0323],\n",
            "        [0.4466, 0.0371, 0.2627,  ..., 0.2917, 0.0233, 0.0573],\n",
            "        ...,\n",
            "        [0.0187, 0.4835, 0.5856,  ..., 0.0284, 0.2245, 0.0911],\n",
            "        [0.4915, 0.2170, 0.4428,  ..., 0.2692, 0.0909, 0.2914],\n",
            "        [0.0071, 0.1282, 0.0029,  ..., 0.3337, 0.1800, 0.0676]]) torch.Size([32, 32])\n",
            "tensor([[9.3371, 8.3845, 7.9813,  ..., 8.3775, 6.9897, 7.0427],\n",
            "        [6.7704, 5.8842, 5.4266,  ..., 6.4735, 5.3920, 5.2202],\n",
            "        [6.4447, 6.0258, 5.8992,  ..., 6.2675, 5.2557, 5.8098],\n",
            "        ...,\n",
            "        [8.7456, 7.3658, 6.5445,  ..., 7.5115, 6.8725, 6.7224],\n",
            "        [8.5035, 7.2119, 7.3225,  ..., 7.9919, 6.9551, 6.7131],\n",
            "        [8.9205, 7.0614, 7.6096,  ..., 7.9769, 7.4380, 7.1546]]) torch.Size([32, 32])\n"
          ]
        }
      ]
    },
    {
      "cell_type": "code",
      "source": [
        "! chmod 600 ~/.kaggle/kaggle.json"
      ],
      "metadata": {
        "id": "UUoKzaR0DIMc"
      },
      "execution_count": null,
      "outputs": []
    },
    {
      "cell_type": "code",
      "source": [
        "!kaggle competitions download -c ml-hands-on-python-kaggle-01"
      ],
      "metadata": {
        "colab": {
          "base_uri": "https://localhost:8080/"
        },
        "id": "iqJFMFzB_l7h",
        "outputId": "1d8a614c-d2e2-4749-da2a-dfa3ee6e13f1"
      },
      "execution_count": null,
      "outputs": [
        {
          "output_type": "stream",
          "name": "stdout",
          "text": [
            "Warning: Looks like you're using an outdated API Version, please consider updating (server 1.5.12 / client 1.5.4)\n",
            "Downloading sample_submission.csv to /content\n",
            "  0% 0.00/51.7k [00:00<?, ?B/s]\n",
            "100% 51.7k/51.7k [00:00<00:00, 20.7MB/s]\n",
            "Downloading train.csv.zip to /content\n",
            "  0% 0.00/374k [00:00<?, ?B/s]\n",
            "100% 374k/374k [00:00<00:00, 5.99MB/s]\n",
            "Downloading test.csv to /content\n",
            "  0% 0.00/700k [00:00<?, ?B/s]\n",
            "100% 700k/700k [00:00<00:00, 46.1MB/s]\n"
          ]
        }
      ]
    },
    {
      "cell_type": "code",
      "source": [
        "import numpy as np\n",
        "import random\n",
        "def seed_all(seed):\n",
        "    np.random.seed(seed)\n",
        "    random.seed(seed)\n",
        "seed = 42 \n",
        "seed_all(seed)"
      ],
      "metadata": {
        "id": "kCj_tC0fCNMV"
      },
      "execution_count": null,
      "outputs": []
    },
    {
      "cell_type": "code",
      "source": [
        "import pandas as pd\n",
        "import re\n",
        "from sklearn.preprocessing import LabelEncoder\n",
        "from sklearn.preprocessing import StandardScaler\n",
        "from sklearn.model_selection import train_test_split\n",
        "from sklearn.metrics import accuracy_score, f1_score, roc_auc_score, confusion_matrix, classification_report"
      ],
      "metadata": {
        "id": "CbZBGkw0EaIM"
      },
      "execution_count": null,
      "outputs": []
    },
    {
      "cell_type": "code",
      "source": [
        "#metric\n",
        "def get_metrics(y_test, y_pred):\n",
        "    print('ACCURACY_SCORE: ', round(accuracy_score(y_test, y_pred), 4))\n",
        "    print('F1_SCORE: ', round(f1_score(y_test, y_pred, average='macro'), 4))\n",
        "    print('CONFUSION_MATRIX:\\n', confusion_matrix(y_test, y_pred),'\\n')\n",
        "    print(classification_report(y_test, y_pred, digits=4), '\\n')"
      ],
      "metadata": {
        "id": "4ZXu_KnSEbbs"
      },
      "execution_count": null,
      "outputs": []
    },
    {
      "cell_type": "code",
      "source": [
        "!unzip \"/content/train.csv.zip\" -d \"/content\""
      ],
      "metadata": {
        "colab": {
          "base_uri": "https://localhost:8080/"
        },
        "id": "uaP3C_SjErGM",
        "outputId": "2084c98f-6699-4259-a5ae-ddecc0dda522"
      },
      "execution_count": null,
      "outputs": [
        {
          "output_type": "stream",
          "name": "stdout",
          "text": [
            "Archive:  /content/train.csv.zip\n",
            "replace /content/train.csv? [y]es, [n]o, [A]ll, [N]one, [r]ename: Y\n",
            "  inflating: /content/train.csv      \n"
          ]
        }
      ]
    },
    {
      "cell_type": "code",
      "source": [
        "df_all = pd.read_csv('/content/train.csv')"
      ],
      "metadata": {
        "id": "YrsBThoqEcfB"
      },
      "execution_count": null,
      "outputs": []
    },
    {
      "cell_type": "code",
      "source": [
        "# normalize string\n",
        "def str_normalize(s):\n",
        "    # convert into lowercase and replace multiple spaces into single space\n",
        "    s = str(s).strip().lower()\n",
        "    s = re.sub(' +', \" \", s)\n",
        "    return s\n",
        "# Encode category and object columns \n",
        "def process(df):        \n",
        "  for col in df.columns:\n",
        "      if df[col].dtype.name == \"object\" or df[col].dtype.name == \"category\":\n",
        "          df[col] = df[col].apply(str_normalize).astype(\"category\")\n",
        "  return df\n",
        "df_all = process(df_all.copy())\n",
        "IDs=df_all.pop('ID')\n",
        "label = df_all.pop('target_income')\n",
        "df_all_one_hot = pd.get_dummies(df_all)\n"
      ],
      "metadata": {
        "id": "tyNr0duSEuev"
      },
      "execution_count": null,
      "outputs": []
    },
    {
      "cell_type": "code",
      "source": [
        "features = df_all_one_hot.columns.tolist()\n",
        "label = label.values"
      ],
      "metadata": {
        "id": "GNh1dJK_Ewag"
      },
      "execution_count": null,
      "outputs": []
    },
    {
      "cell_type": "code",
      "source": [
        "features = df_all_one_hot.columns.tolist()\n",
        "\n",
        "x_train, x_test, y_train, y_test = train_test_split(df_all_one_hot[features].values, # input variable\n",
        "                                                    label, # output variable\n",
        "                                                    test_size=0.2, # test dataset proportion\n",
        "                                                    # stratify=df_all['target_income'], # assign equal proportion of target label in train/test \n",
        "                                                    random_state=0) # keep train/test split the same if run again. \n",
        "print ('Training Set: %d, Test Set: %d \\n' % (len(x_train), len(x_test)))\n",
        "#normalize\n",
        "sc = StandardScaler()\n",
        "x_train = sc.fit_transform(x_train)\n",
        "x_test = sc.transform(x_test)\n",
        "'''y_train=y_train.reshape((len(y_train),1))\n",
        "y_test=y_test.reshape((len(y_test),1))\n",
        "y_train.shape'''"
      ],
      "metadata": {
        "colab": {
          "base_uri": "https://localhost:8080/",
          "height": 70
        },
        "id": "l7IaXFtuExp7",
        "outputId": "6ecd1c73-73f0-4eee-d4bc-ae1838b4a57f"
      },
      "execution_count": null,
      "outputs": [
        {
          "output_type": "stream",
          "name": "stdout",
          "text": [
            "Training Set: 20000, Test Set: 5000 \n",
            "\n"
          ]
        },
        {
          "output_type": "execute_result",
          "data": {
            "application/vnd.google.colaboratory.intrinsic+json": {
              "type": "string"
            },
            "text/plain": [
              "'y_train=y_train.reshape((len(y_train),1))\\ny_test=y_test.reshape((len(y_test),1))\\ny_train.shape'"
            ]
          },
          "metadata": {},
          "execution_count": 194
        }
      ]
    },
    {
      "cell_type": "code",
      "source": [
        "import torch\n",
        "import torch.nn as nn\n",
        "import torch.utils.data as td\n",
        "\n",
        "# Set random seed for reproducability\n",
        "torch.manual_seed(0)\n",
        "\n",
        "print(\"Libraries imported - ready to use PyTorch\", torch.__version__)"
      ],
      "metadata": {
        "colab": {
          "base_uri": "https://localhost:8080/"
        },
        "id": "PN-lDR7wKRNv",
        "outputId": "013213cd-3a7b-4ded-8833-5d3f4378de0b"
      },
      "execution_count": null,
      "outputs": [
        {
          "output_type": "stream",
          "name": "stdout",
          "text": [
            "Libraries imported - ready to use PyTorch 1.10.0+cu111\n"
          ]
        }
      ]
    },
    {
      "cell_type": "code",
      "source": [
        "# Create a dataset and loader for the training data and labels\n",
        "train_x = torch.Tensor(x_train).float()\n",
        "train_y = torch.Tensor(y_train).float()\n",
        "train_ds = td.TensorDataset(train_x,train_y)\n",
        "train_loader = td.DataLoader(train_ds, batch_size=16,\n",
        "    shuffle=True, num_workers=1)\n",
        "\n",
        "# Create a dataset and loader for the test data and labels\n",
        "test_x = torch.Tensor(x_test).float()\n",
        "test_y = torch.Tensor(y_test).float()\n",
        "test_ds = td.TensorDataset(test_x,test_y)\n",
        "test_loader = td.DataLoader(test_ds, batch_size=16,\n",
        "    shuffle=False, num_workers=1)\n",
        "print('Ready to load data')"
      ],
      "metadata": {
        "colab": {
          "base_uri": "https://localhost:8080/"
        },
        "id": "-ibrbM6oK1RE",
        "outputId": "4e0f311c-d7bf-40b1-8b9f-9af1338dae72"
      },
      "execution_count": null,
      "outputs": [
        {
          "output_type": "stream",
          "name": "stdout",
          "text": [
            "Ready to load data\n"
          ]
        }
      ]
    },
    {
      "cell_type": "code",
      "source": [
        "\n",
        "# Number of hidden layer nodes\n",
        "hl = 10\n",
        "\n",
        "# Define the neural network\n",
        "class InCome(nn.Module):\n",
        "    def __init__(self):\n",
        "        super(InCome, self).__init__()\n",
        "        self.fc1 = nn.Linear(train_x.size(1), hl)\n",
        "        self.fc2 = nn.Linear(hl, hl)\n",
        "        self.fc3 = nn.Linear(hl, 6)\n",
        "        self.fc4 = nn.Linear(6, 1)\n",
        "\n",
        "    def forward(self, x):\n",
        "        x = torch.sigmoid(self.fc1(x))\n",
        "        x = torch.sigmoid(self.fc2(x))\n",
        "        x = torch.sigmoid(self.fc3(x))\n",
        "        x = torch.sigmoid(self.fc4(x))\n",
        "        return x\n",
        "\n",
        "# Create a model instance from the network\n",
        "model = InCome()\n",
        "print(model)"
      ],
      "metadata": {
        "colab": {
          "base_uri": "https://localhost:8080/"
        },
        "id": "WrsagNCZLMqS",
        "outputId": "514ffea9-8196-4840-ac1d-e082d901498e"
      },
      "execution_count": null,
      "outputs": [
        {
          "output_type": "stream",
          "name": "stdout",
          "text": [
            "InCome(\n",
            "  (fc1): Linear(in_features=108, out_features=10, bias=True)\n",
            "  (fc2): Linear(in_features=10, out_features=10, bias=True)\n",
            "  (fc3): Linear(in_features=10, out_features=6, bias=True)\n",
            "  (fc4): Linear(in_features=6, out_features=1, bias=True)\n",
            ")\n"
          ]
        }
      ]
    },
    {
      "cell_type": "code",
      "source": [
        "def train(model, data_loader, optimizer):\n",
        "    # Set the model to training mode\n",
        "    model.train()\n",
        "    train_loss = 0\n",
        "    \n",
        "    for batch, tensor in enumerate(data_loader):\n",
        "        data, target = tensor\n",
        "        #feedforward: calculate y_pred and loss function\n",
        "        optimizer.zero_grad()\n",
        "        out = model(data)\n",
        "        #print(out.shape,target.shape)\n",
        "        loss = loss_criteria(out, target.reshape(-1,1))\n",
        "        train_loss += loss.item()\n",
        "\n",
        "        # backpropagate: compute gradient descent and update weights\n",
        "        loss.backward()\n",
        "        optimizer.step()\n",
        "\n",
        "    #Return average loss\n",
        "    avg_loss = train_loss / (batch+1)\n",
        "    print('Training set: Average loss: {:.6f}'.format(avg_loss))\n",
        "    return avg_loss\n",
        "           \n",
        "            \n",
        "def test(model, data_loader):\n",
        "    # Switch the model to evaluation mode (so we don't backpropagate)\n",
        "    model.eval()\n",
        "    test_loss = 0\n",
        "    correct = 0\n",
        "\n",
        "    with torch.no_grad():\n",
        "        batch_count = 0\n",
        "        for batch, tensor in enumerate(data_loader):\n",
        "            batch_count += 1\n",
        "            data, target = tensor\n",
        "            # Get the predictions\n",
        "            out = model(data)\n",
        "\n",
        "            # calculate the loss\n",
        "            test_loss += loss_criteria(out, target.reshape(-1,1)).item()\n",
        "            # Calculate the accuracy\n",
        "            #_, predicted = torch.max(out.data, 1)\n",
        "            predicted = [1 if i>0.5 else 0 for i in out.data]\n",
        "            predicted = torch.tensor(predicted)\n",
        "            correct += torch.sum(target==predicted).item()\n",
        "            \n",
        "    # Calculate the average loss and total accuracy for this epoch\n",
        "    avg_loss = test_loss/batch_count\n",
        "    print('Validation set: Average loss: {:.6f}, Accuracy: {}/{} ({:.0f}%)\\n'.format(\n",
        "        avg_loss, correct, len(data_loader.dataset),\n",
        "        100. * correct / len(data_loader.dataset)))\n",
        "    \n",
        "    # return average loss for the epoch\n",
        "    return avg_loss\n",
        "\n",
        "# Specify the loss criteria (we'll use BINARY CROSS ENTROPY for binary-class classification)\n",
        "loss_criteria = nn.BCELoss()\n",
        "\n",
        "# Use an \"Adam\" optimizer to adjust weights\n",
        "# (see https://pytorch.org/docs/stable/optim.html#algorithms for details of supported algorithms)\n",
        "learning_rate = 0.01\n",
        "optimizer = torch.optim.Adam(model.parameters(), lr=learning_rate)\n",
        "optimizer.zero_grad()\n",
        "\n",
        "# We'll track metrics for each epoch in these arrays\n",
        "epoch_nums = []\n",
        "training_loss = []\n",
        "validation_loss = []\n",
        "\n",
        "# Train over 10 epochs\n",
        "epochs = 10\n",
        "for epoch in range(1, epochs + 1):\n",
        "\n",
        "    # print the epoch number\n",
        "    print('Epoch: {}'.format(epoch))\n",
        "    \n",
        "    # Feed training data into the model to optimize the weights\n",
        "    train_loss = train(model, train_loader, optimizer)\n",
        "    \n",
        "    # Feed the test data into the model to check its performance\n",
        "    test_loss = test(model, test_loader)\n",
        "    \n",
        "    # Log the metrics for this epoch\n",
        "    epoch_nums.append(epoch)\n",
        "    training_loss.append(train_loss)\n",
        "    validation_loss.append(test_loss)\n"
      ],
      "metadata": {
        "colab": {
          "base_uri": "https://localhost:8080/"
        },
        "id": "lL5mSQGqMFCo",
        "outputId": "d43c6119-2215-4fa6-e08d-ef9aa540a34a"
      },
      "execution_count": null,
      "outputs": [
        {
          "output_type": "stream",
          "name": "stdout",
          "text": [
            "Epoch: 1\n",
            "Training set: Average loss: 0.376630\n",
            "Validation set: Average loss: 0.325727, Accuracy: 4231/5000 (85%)\n",
            "\n",
            "Epoch: 2\n",
            "Training set: Average loss: 0.331782\n",
            "Validation set: Average loss: 0.318070, Accuracy: 4227/5000 (85%)\n",
            "\n",
            "Epoch: 3\n",
            "Training set: Average loss: 0.321445\n",
            "Validation set: Average loss: 0.314485, Accuracy: 4256/5000 (85%)\n",
            "\n",
            "Epoch: 4\n",
            "Training set: Average loss: 0.315363\n",
            "Validation set: Average loss: 0.319477, Accuracy: 4228/5000 (85%)\n",
            "\n",
            "Epoch: 5\n",
            "Training set: Average loss: 0.309736\n",
            "Validation set: Average loss: 0.317640, Accuracy: 4249/5000 (85%)\n",
            "\n",
            "Epoch: 6\n",
            "Training set: Average loss: 0.306955\n",
            "Validation set: Average loss: 0.317740, Accuracy: 4242/5000 (85%)\n",
            "\n",
            "Epoch: 7\n",
            "Training set: Average loss: 0.304755\n",
            "Validation set: Average loss: 0.313409, Accuracy: 4241/5000 (85%)\n",
            "\n",
            "Epoch: 8\n",
            "Training set: Average loss: 0.301319\n",
            "Validation set: Average loss: 0.318087, Accuracy: 4243/5000 (85%)\n",
            "\n",
            "Epoch: 9\n",
            "Training set: Average loss: 0.299020\n",
            "Validation set: Average loss: 0.319208, Accuracy: 4235/5000 (85%)\n",
            "\n",
            "Epoch: 10\n",
            "Training set: Average loss: 0.297123\n",
            "Validation set: Average loss: 0.324087, Accuracy: 4227/5000 (85%)\n",
            "\n"
          ]
        }
      ]
    },
    {
      "cell_type": "code",
      "source": [
        "%matplotlib inline\n",
        "from matplotlib import pyplot as plt\n",
        "\n",
        "plt.plot(epoch_nums, training_loss)\n",
        "plt.plot(epoch_nums, validation_loss)\n",
        "plt.xlabel('epoch')\n",
        "plt.ylabel('loss')\n",
        "plt.legend(['training', 'validation'], loc='upper right')\n",
        "plt.show()"
      ],
      "metadata": {
        "colab": {
          "base_uri": "https://localhost:8080/",
          "height": 282
        },
        "id": "cBhB_uNemDRA",
        "outputId": "2e804b62-3144-498b-a7ad-9c05eb5c2407"
      },
      "execution_count": null,
      "outputs": [
        {
          "output_type": "display_data",
          "data": {
            "image/png": "[encoded data removed]",
            "text/plain": [
              "<Figure size 432x288 with 1 Axes>"
            ]
          },
          "metadata": {
            "needs_background": "light"
          }
        }
      ]
    },
    {
      "cell_type": "markdown",
      "source": [
        "Mình bỏ qua bước preprocessing ( đã làm ở bài KERAS) \n",
        "\n",
        "Thay vì lấy code mẫu BINARY CLASSIFICATION( nhanh, không cần chỉnh sữa, chỉ cần đổi shape của features đầu vào )\n",
        "Mình sửa lại từ code của a. Khánh\n",
        "\n",
        "Thay đổi lại mô hình như bài KERAS, gồm 4 lớp, tất cả là `sigmoid` , thay đổi `Loss BCE binary cross entroy`\n",
        "\n",
        "thay đổi `predicted = [1 if i>0.5 else 0 for i in out.data]` rồi convert sang tensor_   thay vì `, predicted = torch.max(out.data, 1)` vì binary không phải output có chiều là classes rồi chọn vị trí  lớn nhất như của a Khánh\n",
        "\n",
        "Reshape lại chiều `input test_loss += loss_criteria(out, target.reshape(-1,1)).item()`\n",
        "\n",
        "Chọn learning rate `0.01`\n",
        "\n",
        "Thay đổi thành `10` epochs thôi vì sau epochs thứ 4 thì loss train giảm nhưng val lại tăng"
      ],
      "metadata": {
        "id": "lJyLfsj1iJ6j"
      }
    },
    {
      "cell_type": "code",
      "source": [
        ""
      ],
      "metadata": {
        "id": "ipOVR3W9NLC8"
      },
      "execution_count": null,
      "outputs": []
    }
  ]
}