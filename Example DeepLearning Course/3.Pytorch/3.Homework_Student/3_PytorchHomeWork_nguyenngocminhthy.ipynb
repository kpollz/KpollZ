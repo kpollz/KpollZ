{
  "nbformat": 4,
  "nbformat_minor": 0,
  "metadata": {
    "colab": {
      "name": "3.PytorchHomeWork_nguyenngocminhthy.ipynb",
      "provenance": [],
      "collapsed_sections": [],
      "toc_visible": true
    },
    "kernelspec": {
      "name": "python3",
      "display_name": "Python 3"
    },
    "language_info": {
      "name": "python"
    }
  },
  "cells": [
    {
      "cell_type": "markdown",
      "source": [
        "# 1A 2D 3B 4B 5C"
      ],
      "metadata": {
        "id": "4QcowvMB_-to"
      }
    },
    {
      "cell_type": "markdown",
      "source": [
        "# 1. Lý thuyết\n",
        "\n",
        "**1) Để khởi tạo model trong pytorch chúng ta sử dụng class nào?**\n",
        "\n",
        "A. nn.Module\n",
        "\n",
        "B. nn.Dense\n",
        "\n",
        "C. nn.optim.Adam\n",
        "\n",
        "D. nn.Dropout\n",
        "\n",
        "**2) Để khởi tạo mạng neural network trong pytorch chúng ta cần làm gì ?**\n",
        "\n",
        "A. Kế thừa lại class `nn.Model`. Khởi tạo các layers trong hàm tạo `__init__()` và sử dụng các layers để tính toán dữ liệu trong hàm `forward()`.\n",
        "\n",
        "B. Khởi tạo một object của class `nn.Model` và sử dụng hàm `add()` để thêm từng layer vào mô hình.\n",
        "\n",
        "C. Sử dụng class `nn.Model` để khởi tạo mô hình. Truyền vào bên trong class này một list gồm các layers.\n",
        "\n",
        "D. Kế thừa lại class `nn.Module`. Khởi tạo các layers trong hàm tạo `__init__()` và sử dụng các layers để tính toán dữ liệu trong hàm `forward()`.\n",
        "\n",
        "\n",
        "**3) Các modules chính trong pytorch dùng để xây dựng và huấn luyện model.**\n",
        "\n",
        "A. `torch.nn`: Dùng để khởi tạo các layers và activations function và loss function, `torch.optim`: Khởi tạo optimizer, `torch.data`: Khởi tạo dataset và dataloader.\n",
        "\n",
        "B. `torch.nn`: Dùng để khởi tạo các layers và activations function và loss function, `torch.optim`: Khởi tạo optimizer, `torch.utils.data`: Khởi tạo dataset và dataloader.\n",
        "\n",
        "C. `torch.nn`: Dùng để khởi tạo các layers và activations function, `torch.optim`: Khởi tạo optimizer, `torch.data`: Khởi tạo dataset và dataloader, `torch.loss`: Khởi tạo loss function.\n",
        "\n",
        "D. `torch.nn`: Dùng để khởi tạo các layers và loss function, `torch.optim`: Khởi tạo optimizer, `torch.data`: Khởi tạo dataset và dataloader, `torch.activations`: Khởi tạo activations function.\n",
        "\n",
        "\n",
        "**4) Để customize một Dataset trên pytorch chúng ta cần thực hiện như thế nào?**\n",
        "\n",
        "A. Sử dụng thuộc tính `transformer` để qui định các biến đổi trên dữ liệu. Những biến đổi này được thực hiện trên hàm tạo.\n",
        "\n",
        "B. Khởi tạo một class kế thừa lại `torch.utils.data.Dataset`. Khai báo các thuộc tính cần sử dụng trong hàm tạo của dataset như list đường dẫn, list label. Override lại hàm `__getitem__()` để thực hiện các xử lý trên dữ liệu.\n",
        "\n",
        "C. Kế thừa lại một class `Dataset`. Các điều chỉnh trên dữ liệu được thực hiện trên hàm `transformer()`.\n",
        "\n",
        "D. Sử dụng hàm `__getitem__()` để trả về toàn bộ các quan sát khi huấn luyện. \n",
        "\n",
        "**5) Ý nghĩa của tham số epochs và batch_size trong huấn luyện mô hình là gì?**\n",
        "\n",
        "A. epochs là kích thước của một mini-batch, batch_size là số lượt lặp lại toàn bộ dữ liệu khi huấn luyện.\n",
        "\n",
        "B. epochs là số lượt lặp lại toàn bộ dữ liệu validation khi huấn luyện, batch_size là kích thước của một mini-batch.\n",
        "\n",
        "C. epochs là số lượt lặp lại toàn bộ dữ liệu train khi huấn luyện, batch_size là kích thước của một mini-batch.\n",
        "\n",
        "D. epochs là số lượng vòng lặp, mỗi vòng lặp là một lượt fit mini-batch, trên bộ dữ liệu khi huấn luyện; batch_size là kích thước của một mini-batch."
      ],
      "metadata": {
        "id": "DUXbtwUsAGPq"
      }
    },
    {
      "cell_type": "markdown",
      "source": [
        "# 2. Thực hành\n",
        "\n",
        "6) Khởi tạo một tensor 3 chiều với định dạng là float và kích thước là 32x32x3\n",
        "\n",
        "7) Nếu coi tensor trên là một bức ảnh RGB với số channel là 3 ở cuối. Hãy truy suất các ma trận ảnh tương ứng với mỗi kênh R, G, B.\n",
        "\n",
        "8) Thực hiện tích hadamard và tích thông thường giữa ma trận R và G.\n",
        "\n",
        "9) Từ bộ dữ liệu [Income-Classification](https://www.kaggle.com/t/090688c8d33a40b68be9e271d6ba6bae) hãy chuẩn hóa dữ liệu và phân chia tập train/test theo tỷ lệ 80/20. \n",
        "\n",
        "10) Xây dựng một mạng deep-neural-network để huấn luyện mô hình trên dữ liệu train và đánh giá mô hình trên dữ liệu test.\n"
      ],
      "metadata": {
        "id": "LzLjMsckAJAT"
      }
    },
    {
      "cell_type": "code",
      "source": [
        "!pip freeze | grep torch"
      ],
      "metadata": {
        "colab": {
          "base_uri": "https://localhost:8080/"
        },
        "id": "IfytKM1sIfbe",
        "outputId": "f14e66f7-f5db-43ff-b529-9c04e5edce1d"
      },
      "execution_count": null,
      "outputs": [
        {
          "output_type": "stream",
          "name": "stdout",
          "text": [
            "torch @ https://download.pytorch.org/whl/cu111/torch-1.10.0%2Bcu111-cp37-cp37m-linux_x86_64.whl\n",
            "torchaudio @ https://download.pytorch.org/whl/cu111/torchaudio-0.10.0%2Bcu111-cp37-cp37m-linux_x86_64.whl\n",
            "torchsummary==1.5.1\n",
            "torchtext==0.11.0\n",
            "torchvision @ https://download.pytorch.org/whl/cu111/torchvision-0.11.1%2Bcu111-cp37-cp37m-linux_x86_64.whl\n"
          ]
        }
      ]
    },
    {
      "cell_type": "markdown",
      "source": [
        ""
      ],
      "metadata": {
        "id": "J-X08Ci7Ikc2"
      }
    },
    {
      "cell_type": "code",
      "source": [
        "import torch\n",
        "import torch.nn as nn\n",
        "import torch.utils.data as td"
      ],
      "metadata": {
        "id": "xFhQbZzCIlVH"
      },
      "execution_count": null,
      "outputs": []
    },
    {
      "cell_type": "markdown",
      "source": [
        "\n",
        "6) Khởi tạo một tensor 3 chiều với định dạng là float và kích thước là 32x32x3"
      ],
      "metadata": {
        "id": "J8uilWQ3Iw2w"
      }
    },
    {
      "cell_type": "code",
      "source": [
        "t = torch.randn(32,32, 3)\n",
        "t.dtype"
      ],
      "metadata": {
        "colab": {
          "base_uri": "https://localhost:8080/"
        },
        "id": "Szk4vBfyIQRs",
        "outputId": "89790a00-5f41-459f-ca30-3f51f7e6cbad"
      },
      "execution_count": null,
      "outputs": [
        {
          "output_type": "execute_result",
          "data": {
            "text/plain": [
              "torch.float32"
            ]
          },
          "metadata": {},
          "execution_count": 7
        }
      ]
    },
    {
      "cell_type": "markdown",
      "source": [
        "7) Nếu coi tensor trên là một bức ảnh RGB với số channel là 3 ở cuối. Hãy truy suất các ma trận ảnh tương ứng với mỗi kênh R, G, B."
      ],
      "metadata": {
        "id": "V6BQm_ylI7Pb"
      }
    },
    {
      "cell_type": "code",
      "source": [
        "R=t[:,:,0]\n",
        "G=t[:,:,1]\n",
        "B=t[:,:,2]"
      ],
      "metadata": {
        "id": "Yz8KjUhNJH-b"
      },
      "execution_count": null,
      "outputs": []
    },
    {
      "cell_type": "markdown",
      "source": [
        "8) Thực hiện tích hadamard và tích thông thường giữa ma trận R và G."
      ],
      "metadata": {
        "id": "JKYIMoZKJVaA"
      }
    },
    {
      "cell_type": "code",
      "source": [
        "\n",
        "# hadamard\n",
        "hadamard= R*G\n",
        "# normal\n",
        "normal = R.mm(G)"
      ],
      "metadata": {
        "id": "F1wpZH3DJYh0"
      },
      "execution_count": null,
      "outputs": []
    },
    {
      "cell_type": "markdown",
      "source": [
        "9) Từ bộ dữ liệu Income-Classification hãy chuẩn hóa dữ liệu và phân chia tập train/test theo tỷ lệ 80/20."
      ],
      "metadata": {
        "id": "MTdSCfOQKGTM"
      }
    },
    {
      "cell_type": "code",
      "source": [
        "import pandas as pd\n",
        "from IPython.display import Markdown, display\n",
        "from sklearn.model_selection import train_test_split\n",
        "import matplotlib.pyplot as plt\n",
        "from sklearn.metrics import roc_curve, auc\n",
        "import numpy as np\n",
        "from sklearn import metrics\n",
        "import seaborn as sns\n",
        "from sklearn import svm\n",
        "from sklearn import tree\n",
        "from sklearn.model_selection import cross_val_score\n",
        "\n",
        "from sklearn.metrics import accuracy_score\n",
        "from sklearn.metrics import roc_curve, auc\n",
        "from sklearn.preprocessing import label_binarize\n",
        "%  matplotlib inline\n",
        "\n",
        "\n",
        "import re\n",
        "from sklearn.preprocessing import LabelEncoder\n",
        "from sklearn.preprocessing import StandardScaler\n",
        "from sklearn.model_selection import train_test_split\n",
        "from sklearn.metrics import accuracy_score, f1_score, roc_auc_score, confusion_matrix, classification_report"
      ],
      "metadata": {
        "id": "TnHymwW6KJie"
      },
      "execution_count": null,
      "outputs": []
    },
    {
      "cell_type": "code",
      "source": [
        "from google.colab import drive\n",
        "drive.mount('/content/drive')"
      ],
      "metadata": {
        "colab": {
          "base_uri": "https://localhost:8080/"
        },
        "id": "uaZO2CyjKKf4",
        "outputId": "872bb46d-6184-4137-804f-210bcf8dac3d"
      },
      "execution_count": null,
      "outputs": [
        {
          "output_type": "stream",
          "name": "stdout",
          "text": [
            "Mounted at /content/drive\n"
          ]
        }
      ]
    },
    {
      "cell_type": "code",
      "source": [
        "train = pd.read_csv(\"/content/drive/MyDrive/Colab Notebooks/income_classification/income_class_train.csv\")\n",
        "train.head(5)"
      ],
      "metadata": {
        "colab": {
          "base_uri": "https://localhost:8080/",
          "height": 347
        },
        "id": "Eabi_tGEKpys",
        "outputId": "74490f03-f612-4737-c604-832abcadcb6b"
      },
      "execution_count": null,
      "outputs": [
        {
          "output_type": "execute_result",
          "data": {
            "text/html": [
              "\n",
              "  <div id=\"df-13ee6868-c56f-4a44-b6b6-cfc969e9347a\">\n",
              "    <div class=\"colab-df-container\">\n",
              "      <div>\n",
              "<style scoped>\n",
              "    .dataframe tbody tr th:only-of-type {\n",
              "        vertical-align: middle;\n",
              "    }\n",
              "\n",
              "    .dataframe tbody tr th {\n",
              "        vertical-align: top;\n",
              "    }\n",
              "\n",
              "    .dataframe thead th {\n",
              "        text-align: right;\n",
              "    }\n",
              "</style>\n",
              "<table border=\"1\" class=\"dataframe\">\n",
              "  <thead>\n",
              "    <tr style=\"text-align: right;\">\n",
              "      <th></th>\n",
              "      <th>ID</th>\n",
              "      <th>age</th>\n",
              "      <th>work_type</th>\n",
              "      <th>final_weight</th>\n",
              "      <th>education</th>\n",
              "      <th>total_education_yrs</th>\n",
              "      <th>marital_state</th>\n",
              "      <th>job</th>\n",
              "      <th>status</th>\n",
              "      <th>ethnicity</th>\n",
              "      <th>sex</th>\n",
              "      <th>capital_gain</th>\n",
              "      <th>capital_loss</th>\n",
              "      <th>hrs_per_week</th>\n",
              "      <th>nationality</th>\n",
              "      <th>target_income</th>\n",
              "    </tr>\n",
              "  </thead>\n",
              "  <tbody>\n",
              "    <tr>\n",
              "      <th>0</th>\n",
              "      <td>0</td>\n",
              "      <td>45</td>\n",
              "      <td>Private</td>\n",
              "      <td>175925</td>\n",
              "      <td>HS-grad</td>\n",
              "      <td>9</td>\n",
              "      <td>Married-civ-spouse</td>\n",
              "      <td>Craft-repair</td>\n",
              "      <td>Husband</td>\n",
              "      <td>White</td>\n",
              "      <td>M</td>\n",
              "      <td>0</td>\n",
              "      <td>0</td>\n",
              "      <td>40</td>\n",
              "      <td>US</td>\n",
              "      <td>0</td>\n",
              "    </tr>\n",
              "    <tr>\n",
              "      <th>1</th>\n",
              "      <td>1</td>\n",
              "      <td>23</td>\n",
              "      <td>Private</td>\n",
              "      <td>113601</td>\n",
              "      <td>Some-college</td>\n",
              "      <td>10</td>\n",
              "      <td>Never-married</td>\n",
              "      <td>Handlers-cleaners</td>\n",
              "      <td>Own-child</td>\n",
              "      <td>White</td>\n",
              "      <td>M</td>\n",
              "      <td>0</td>\n",
              "      <td>0</td>\n",
              "      <td>30</td>\n",
              "      <td>US</td>\n",
              "      <td>0</td>\n",
              "    </tr>\n",
              "    <tr>\n",
              "      <th>2</th>\n",
              "      <td>2</td>\n",
              "      <td>22</td>\n",
              "      <td>Private</td>\n",
              "      <td>112137</td>\n",
              "      <td>Some-college</td>\n",
              "      <td>10</td>\n",
              "      <td>Never-married</td>\n",
              "      <td>Prof-specialty</td>\n",
              "      <td>Other-relative</td>\n",
              "      <td>Asian-Pac-Islander</td>\n",
              "      <td>F</td>\n",
              "      <td>0</td>\n",
              "      <td>0</td>\n",
              "      <td>20</td>\n",
              "      <td>South</td>\n",
              "      <td>0</td>\n",
              "    </tr>\n",
              "    <tr>\n",
              "      <th>3</th>\n",
              "      <td>3</td>\n",
              "      <td>27</td>\n",
              "      <td>Private</td>\n",
              "      <td>153078</td>\n",
              "      <td>Prof-school</td>\n",
              "      <td>15</td>\n",
              "      <td>Never-married</td>\n",
              "      <td>Prof-specialty</td>\n",
              "      <td>Own-child</td>\n",
              "      <td>Asian-Pac-Islander</td>\n",
              "      <td>M</td>\n",
              "      <td>0</td>\n",
              "      <td>0</td>\n",
              "      <td>40</td>\n",
              "      <td>US</td>\n",
              "      <td>0</td>\n",
              "    </tr>\n",
              "    <tr>\n",
              "      <th>4</th>\n",
              "      <td>4</td>\n",
              "      <td>18</td>\n",
              "      <td>Private</td>\n",
              "      <td>375515</td>\n",
              "      <td>11th</td>\n",
              "      <td>7</td>\n",
              "      <td>Never-married</td>\n",
              "      <td>Sales</td>\n",
              "      <td>Own-child</td>\n",
              "      <td>White</td>\n",
              "      <td>F</td>\n",
              "      <td>0</td>\n",
              "      <td>0</td>\n",
              "      <td>20</td>\n",
              "      <td>US</td>\n",
              "      <td>0</td>\n",
              "    </tr>\n",
              "  </tbody>\n",
              "</table>\n",
              "</div>\n",
              "      <button class=\"colab-df-convert\" onclick=\"convertToInteractive('df-13ee6868-c56f-4a44-b6b6-cfc969e9347a')\"\n",
              "              title=\"Convert this dataframe to an interactive table.\"\n",
              "              style=\"display:none;\">\n",
              "        \n",
              "  <svg xmlns=\"http://www.w3.org/2000/svg\" height=\"24px\"viewBox=\"0 0 24 24\"\n",
              "       width=\"24px\">\n",
              "    <path d=\"M0 0h24v24H0V0z\" fill=\"none\"/>\n",
              "    <path d=\"M18.56 5.44l.94 2.06.94-2.06 2.06-.94-2.06-.94-.94-2.06-.94 2.06-2.06.94zm-11 1L8.5 8.5l.94-2.06 2.06-.94-2.06-.94L8.5 2.5l-.94 2.06-2.06.94zm10 10l.94 2.06.94-2.06 2.06-.94-2.06-.94-.94-2.06-.94 2.06-2.06.94z\"/><path d=\"M17.41 7.96l-1.37-1.37c-.4-.4-.92-.59-1.43-.59-.52 0-1.04.2-1.43.59L10.3 9.45l-7.72 7.72c-.78.78-.78 2.05 0 2.83L4 21.41c.39.39.9.59 1.41.59.51 0 1.02-.2 1.41-.59l7.78-7.78 2.81-2.81c.8-.78.8-2.07 0-2.86zM5.41 20L4 18.59l7.72-7.72 1.47 1.35L5.41 20z\"/>\n",
              "  </svg>\n",
              "      </button>\n",
              "      \n",
              "  <style>\n",
              "    .colab-df-container {\n",
              "      display:flex;\n",
              "      flex-wrap:wrap;\n",
              "      gap: 12px;\n",
              "    }\n",
              "\n",
              "    .colab-df-convert {\n",
              "      background-color: #E8F0FE;\n",
              "      border: none;\n",
              "      border-radius: 50%;\n",
              "      cursor: pointer;\n",
              "      display: none;\n",
              "      fill: #1967D2;\n",
              "      height: 32px;\n",
              "      padding: 0 0 0 0;\n",
              "      width: 32px;\n",
              "    }\n",
              "\n",
              "    .colab-df-convert:hover {\n",
              "      background-color: #E2EBFA;\n",
              "      box-shadow: 0px 1px 2px rgba(60, 64, 67, 0.3), 0px 1px 3px 1px rgba(60, 64, 67, 0.15);\n",
              "      fill: #174EA6;\n",
              "    }\n",
              "\n",
              "    [theme=dark] .colab-df-convert {\n",
              "      background-color: #3B4455;\n",
              "      fill: #D2E3FC;\n",
              "    }\n",
              "\n",
              "    [theme=dark] .colab-df-convert:hover {\n",
              "      background-color: #434B5C;\n",
              "      box-shadow: 0px 1px 3px 1px rgba(0, 0, 0, 0.15);\n",
              "      filter: drop-shadow(0px 1px 2px rgba(0, 0, 0, 0.3));\n",
              "      fill: #FFFFFF;\n",
              "    }\n",
              "  </style>\n",
              "\n",
              "      <script>\n",
              "        const buttonEl =\n",
              "          document.querySelector('#df-13ee6868-c56f-4a44-b6b6-cfc969e9347a button.colab-df-convert');\n",
              "        buttonEl.style.display =\n",
              "          google.colab.kernel.accessAllowed ? 'block' : 'none';\n",
              "\n",
              "        async function convertToInteractive(key) {\n",
              "          const element = document.querySelector('#df-13ee6868-c56f-4a44-b6b6-cfc969e9347a');\n",
              "          const dataTable =\n",
              "            await google.colab.kernel.invokeFunction('convertToInteractive',\n",
              "                                                     [key], {});\n",
              "          if (!dataTable) return;\n",
              "\n",
              "          const docLinkHtml = 'Like what you see? Visit the ' +\n",
              "            '<a target=\"_blank\" href=https://colab.research.google.com/notebooks/data_table.ipynb>data table notebook</a>'\n",
              "            + ' to learn more about interactive tables.';\n",
              "          element.innerHTML = '';\n",
              "          dataTable['output_type'] = 'display_data';\n",
              "          await google.colab.output.renderOutput(dataTable, element);\n",
              "          const docLink = document.createElement('div');\n",
              "          docLink.innerHTML = docLinkHtml;\n",
              "          element.appendChild(docLink);\n",
              "        }\n",
              "      </script>\n",
              "    </div>\n",
              "  </div>\n",
              "  "
            ],
            "text/plain": [
              "   ID  age work_type  ...  hrs_per_week nationality  target_income\n",
              "0   0   45   Private  ...            40          US              0\n",
              "1   1   23   Private  ...            30          US              0\n",
              "2   2   22   Private  ...            20       South              0\n",
              "3   3   27   Private  ...            40          US              0\n",
              "4   4   18   Private  ...            20          US              0\n",
              "\n",
              "[5 rows x 16 columns]"
            ]
          },
          "metadata": {},
          "execution_count": 15
        }
      ]
    },
    {
      "cell_type": "code",
      "source": [
        "test = pd.read_csv(\"/content/drive/MyDrive/Colab Notebooks/income_classification/income_class_test.csv\")\n",
        "test.head(5)"
      ],
      "metadata": {
        "colab": {
          "base_uri": "https://localhost:8080/",
          "height": 347
        },
        "id": "zLMogxdbK8tY",
        "outputId": "76d1431d-ab9e-4851-c32e-5b556dfce765"
      },
      "execution_count": null,
      "outputs": [
        {
          "output_type": "execute_result",
          "data": {
            "text/html": [
              "\n",
              "  <div id=\"df-3d7dae09-d005-4ed3-9d2a-149773694a0f\">\n",
              "    <div class=\"colab-df-container\">\n",
              "      <div>\n",
              "<style scoped>\n",
              "    .dataframe tbody tr th:only-of-type {\n",
              "        vertical-align: middle;\n",
              "    }\n",
              "\n",
              "    .dataframe tbody tr th {\n",
              "        vertical-align: top;\n",
              "    }\n",
              "\n",
              "    .dataframe thead th {\n",
              "        text-align: right;\n",
              "    }\n",
              "</style>\n",
              "<table border=\"1\" class=\"dataframe\">\n",
              "  <thead>\n",
              "    <tr style=\"text-align: right;\">\n",
              "      <th></th>\n",
              "      <th>ID</th>\n",
              "      <th>age</th>\n",
              "      <th>work_type</th>\n",
              "      <th>final_weight</th>\n",
              "      <th>education</th>\n",
              "      <th>total_education_yrs</th>\n",
              "      <th>marital_state</th>\n",
              "      <th>job</th>\n",
              "      <th>status</th>\n",
              "      <th>ethnicity</th>\n",
              "      <th>sex</th>\n",
              "      <th>capital_gain</th>\n",
              "      <th>capital_loss</th>\n",
              "      <th>hrs_per_week</th>\n",
              "      <th>nationality</th>\n",
              "    </tr>\n",
              "  </thead>\n",
              "  <tbody>\n",
              "    <tr>\n",
              "      <th>0</th>\n",
              "      <td>25000</td>\n",
              "      <td>59</td>\n",
              "      <td>Self-emp-not-inc</td>\n",
              "      <td>104216</td>\n",
              "      <td>Prof-school</td>\n",
              "      <td>15</td>\n",
              "      <td>Married-civ-spouse</td>\n",
              "      <td>Sales</td>\n",
              "      <td>Husband</td>\n",
              "      <td>White</td>\n",
              "      <td>M</td>\n",
              "      <td>0</td>\n",
              "      <td>0</td>\n",
              "      <td>25</td>\n",
              "      <td>US</td>\n",
              "    </tr>\n",
              "    <tr>\n",
              "      <th>1</th>\n",
              "      <td>25001</td>\n",
              "      <td>41</td>\n",
              "      <td>Private</td>\n",
              "      <td>76625</td>\n",
              "      <td>HS-grad</td>\n",
              "      <td>9</td>\n",
              "      <td>Married-civ-spouse</td>\n",
              "      <td>Craft-repair</td>\n",
              "      <td>Husband</td>\n",
              "      <td>White</td>\n",
              "      <td>M</td>\n",
              "      <td>0</td>\n",
              "      <td>0</td>\n",
              "      <td>40</td>\n",
              "      <td>US</td>\n",
              "    </tr>\n",
              "    <tr>\n",
              "      <th>2</th>\n",
              "      <td>25002</td>\n",
              "      <td>66</td>\n",
              "      <td>Self-emp-not-inc</td>\n",
              "      <td>28061</td>\n",
              "      <td>7th-8th</td>\n",
              "      <td>4</td>\n",
              "      <td>Widowed</td>\n",
              "      <td>Farming-fishing</td>\n",
              "      <td>Unmarried</td>\n",
              "      <td>White</td>\n",
              "      <td>M</td>\n",
              "      <td>0</td>\n",
              "      <td>0</td>\n",
              "      <td>50</td>\n",
              "      <td>US</td>\n",
              "    </tr>\n",
              "    <tr>\n",
              "      <th>3</th>\n",
              "      <td>25003</td>\n",
              "      <td>29</td>\n",
              "      <td>Private</td>\n",
              "      <td>211299</td>\n",
              "      <td>Assoc-voc</td>\n",
              "      <td>11</td>\n",
              "      <td>Never-married</td>\n",
              "      <td>Sales</td>\n",
              "      <td>Not-in-family</td>\n",
              "      <td>Black</td>\n",
              "      <td>M</td>\n",
              "      <td>0</td>\n",
              "      <td>0</td>\n",
              "      <td>45</td>\n",
              "      <td>US</td>\n",
              "    </tr>\n",
              "    <tr>\n",
              "      <th>4</th>\n",
              "      <td>25004</td>\n",
              "      <td>35</td>\n",
              "      <td>Private</td>\n",
              "      <td>340110</td>\n",
              "      <td>Bachelors</td>\n",
              "      <td>13</td>\n",
              "      <td>Married-civ-spouse</td>\n",
              "      <td>Exec-managerial</td>\n",
              "      <td>Husband</td>\n",
              "      <td>White</td>\n",
              "      <td>M</td>\n",
              "      <td>0</td>\n",
              "      <td>1848</td>\n",
              "      <td>70</td>\n",
              "      <td>US</td>\n",
              "    </tr>\n",
              "  </tbody>\n",
              "</table>\n",
              "</div>\n",
              "      <button class=\"colab-df-convert\" onclick=\"convertToInteractive('df-3d7dae09-d005-4ed3-9d2a-149773694a0f')\"\n",
              "              title=\"Convert this dataframe to an interactive table.\"\n",
              "              style=\"display:none;\">\n",
              "        \n",
              "  <svg xmlns=\"http://www.w3.org/2000/svg\" height=\"24px\"viewBox=\"0 0 24 24\"\n",
              "       width=\"24px\">\n",
              "    <path d=\"M0 0h24v24H0V0z\" fill=\"none\"/>\n",
              "    <path d=\"M18.56 5.44l.94 2.06.94-2.06 2.06-.94-2.06-.94-.94-2.06-.94 2.06-2.06.94zm-11 1L8.5 8.5l.94-2.06 2.06-.94-2.06-.94L8.5 2.5l-.94 2.06-2.06.94zm10 10l.94 2.06.94-2.06 2.06-.94-2.06-.94-.94-2.06-.94 2.06-2.06.94z\"/><path d=\"M17.41 7.96l-1.37-1.37c-.4-.4-.92-.59-1.43-.59-.52 0-1.04.2-1.43.59L10.3 9.45l-7.72 7.72c-.78.78-.78 2.05 0 2.83L4 21.41c.39.39.9.59 1.41.59.51 0 1.02-.2 1.41-.59l7.78-7.78 2.81-2.81c.8-.78.8-2.07 0-2.86zM5.41 20L4 18.59l7.72-7.72 1.47 1.35L5.41 20z\"/>\n",
              "  </svg>\n",
              "      </button>\n",
              "      \n",
              "  <style>\n",
              "    .colab-df-container {\n",
              "      display:flex;\n",
              "      flex-wrap:wrap;\n",
              "      gap: 12px;\n",
              "    }\n",
              "\n",
              "    .colab-df-convert {\n",
              "      background-color: #E8F0FE;\n",
              "      border: none;\n",
              "      border-radius: 50%;\n",
              "      cursor: pointer;\n",
              "      display: none;\n",
              "      fill: #1967D2;\n",
              "      height: 32px;\n",
              "      padding: 0 0 0 0;\n",
              "      width: 32px;\n",
              "    }\n",
              "\n",
              "    .colab-df-convert:hover {\n",
              "      background-color: #E2EBFA;\n",
              "      box-shadow: 0px 1px 2px rgba(60, 64, 67, 0.3), 0px 1px 3px 1px rgba(60, 64, 67, 0.15);\n",
              "      fill: #174EA6;\n",
              "    }\n",
              "\n",
              "    [theme=dark] .colab-df-convert {\n",
              "      background-color: #3B4455;\n",
              "      fill: #D2E3FC;\n",
              "    }\n",
              "\n",
              "    [theme=dark] .colab-df-convert:hover {\n",
              "      background-color: #434B5C;\n",
              "      box-shadow: 0px 1px 3px 1px rgba(0, 0, 0, 0.15);\n",
              "      filter: drop-shadow(0px 1px 2px rgba(0, 0, 0, 0.3));\n",
              "      fill: #FFFFFF;\n",
              "    }\n",
              "  </style>\n",
              "\n",
              "      <script>\n",
              "        const buttonEl =\n",
              "          document.querySelector('#df-3d7dae09-d005-4ed3-9d2a-149773694a0f button.colab-df-convert');\n",
              "        buttonEl.style.display =\n",
              "          google.colab.kernel.accessAllowed ? 'block' : 'none';\n",
              "\n",
              "        async function convertToInteractive(key) {\n",
              "          const element = document.querySelector('#df-3d7dae09-d005-4ed3-9d2a-149773694a0f');\n",
              "          const dataTable =\n",
              "            await google.colab.kernel.invokeFunction('convertToInteractive',\n",
              "                                                     [key], {});\n",
              "          if (!dataTable) return;\n",
              "\n",
              "          const docLinkHtml = 'Like what you see? Visit the ' +\n",
              "            '<a target=\"_blank\" href=https://colab.research.google.com/notebooks/data_table.ipynb>data table notebook</a>'\n",
              "            + ' to learn more about interactive tables.';\n",
              "          element.innerHTML = '';\n",
              "          dataTable['output_type'] = 'display_data';\n",
              "          await google.colab.output.renderOutput(dataTable, element);\n",
              "          const docLink = document.createElement('div');\n",
              "          docLink.innerHTML = docLinkHtml;\n",
              "          element.appendChild(docLink);\n",
              "        }\n",
              "      </script>\n",
              "    </div>\n",
              "  </div>\n",
              "  "
            ],
            "text/plain": [
              "      ID  age         work_type  ...  capital_loss hrs_per_week  nationality\n",
              "0  25000   59  Self-emp-not-inc  ...             0           25           US\n",
              "1  25001   41           Private  ...             0           40           US\n",
              "2  25002   66  Self-emp-not-inc  ...             0           50           US\n",
              "3  25003   29           Private  ...             0           45           US\n",
              "4  25004   35           Private  ...          1848           70           US\n",
              "\n",
              "[5 rows x 15 columns]"
            ]
          },
          "metadata": {},
          "execution_count": 5
        }
      ]
    },
    {
      "cell_type": "code",
      "source": [
        "import numpy as np\n",
        "import random\n",
        "def seed_all(seed):\n",
        "    np.random.seed(seed)\n",
        "    random.seed(seed)\n",
        "seed = 42 \n",
        "seed_all(seed)\n",
        "\n",
        "#metric\n",
        "def get_metrics(y_test, y_pred):\n",
        "    print('ACCURACY_SCORE: ', round(accuracy_score(y_test, y_pred), 4))\n",
        "    print('F1_SCORE: ', round(f1_score(y_test, y_pred, average='macro'), 4))\n",
        "    print('CONFUSION_MATRIX:\\n', confusion_matrix(y_test, y_pred),'\\n')\n",
        "    print(classification_report(y_test, y_pred, digits=4), '\\n')\n",
        "\n",
        "# normalize string\n",
        "def str_normalize(s):\n",
        "    # convert into lowercase and replace multiple spaces into single space\n",
        "    s = str(s).strip().lower()\n",
        "    s = re.sub(' +', \" \", s)\n",
        "    return s\n",
        "# Encode category and object columns \n",
        "def process(df):        \n",
        "  for col in df.columns:\n",
        "      if df[col].dtype.name == \"object\" or df[col].dtype.name == \"category\":\n",
        "          df[col] = df[col].apply(str_normalize).astype(\"category\")\n",
        "  return df\n",
        "train = process(train.copy())\n",
        "IDs= train.pop('ID')\n",
        "label = train.pop('target_income')\n",
        "df_all_one_hot = pd.get_dummies(train)"
      ],
      "metadata": {
        "id": "P3KgNuRwLOj0"
      },
      "execution_count": null,
      "outputs": []
    },
    {
      "cell_type": "code",
      "source": [
        "label"
      ],
      "metadata": {
        "colab": {
          "base_uri": "https://localhost:8080/"
        },
        "id": "CIy1DfQOFUON",
        "outputId": "4d9fcc82-abec-4747-bdba-56a280be8565"
      },
      "execution_count": null,
      "outputs": [
        {
          "output_type": "execute_result",
          "data": {
            "text/plain": [
              "0        0\n",
              "1        0\n",
              "2        0\n",
              "3        0\n",
              "4        0\n",
              "        ..\n",
              "24995    1\n",
              "24996    0\n",
              "24997    0\n",
              "24998    0\n",
              "24999    0\n",
              "Name: target_income, Length: 25000, dtype: int64"
            ]
          },
          "metadata": {},
          "execution_count": 17
        }
      ]
    },
    {
      "cell_type": "code",
      "source": [
        "features = df_all_one_hot.columns.tolist()\n",
        "label = label.values"
      ],
      "metadata": {
        "id": "YXq9ZMsOLdic"
      },
      "execution_count": null,
      "outputs": []
    },
    {
      "cell_type": "code",
      "source": [
        "features = df_all_one_hot.columns.tolist()\n",
        "\n",
        "# label = 'target_income'\n",
        "\n",
        "# x_train, x_test, y_train, y_test = train_test_split(df_all_one_hot[features].values, # input variable\n",
        "#                                                     label, # output variable\n",
        "#                                                     test_size=0.2 # test dataset proportion\n",
        "#                                                     # stratify=df_all['target_income'], # assign equal proportion of target label in train/test \n",
        "#                                                     random_state=42) # keep train/test split the same if run again. \n",
        "x_train, x_test, y_train, y_test = train_test_split(df_all_one_hot, label, test_size=0.2, random_state=0)\n",
        "print ('Training Set: %d, Test Set: %d \\n' % (len(x_train), len(x_test)))\n",
        "#normalize\n",
        "sc = StandardScaler()\n",
        "x_train = sc.fit_transform(x_train)\n",
        "x_test = sc.transform(x_test)"
      ],
      "metadata": {
        "colab": {
          "base_uri": "https://localhost:8080/"
        },
        "id": "0D0_jl9jL-NK",
        "outputId": "7b8677af-bcd8-4a66-b64f-16e233730eb1"
      },
      "execution_count": null,
      "outputs": [
        {
          "output_type": "stream",
          "name": "stdout",
          "text": [
            "Training Set: 20000, Test Set: 5000 \n",
            "\n"
          ]
        }
      ]
    },
    {
      "cell_type": "code",
      "source": [
        "target_income = ['0', '1']\n",
        "print(df_all_one_hot.columns[0:].values, 'target_income')\n",
        "for index, row in df_all_one_hot.sample(10).iterrows():\n",
        "    print('[',row[1], row[2], row[7],row[8], row[9], row[43], row[48],\n",
        "          int(row[11]), ']',target_income[int(row[11])])"
      ],
      "metadata": {
        "colab": {
          "base_uri": "https://localhost:8080/"
        },
        "id": "3WXG87dLa8hq",
        "outputId": "70a94607-f53b-4415-fede-2313af67c80d"
      },
      "execution_count": null,
      "outputs": [
        {
          "output_type": "stream",
          "name": "stdout",
          "text": [
            "['age' 'final_weight' 'total_education_yrs' 'capital_gain' 'capital_loss'\n",
            " 'hrs_per_week' 'work_type_?' 'work_type_federal-gov'\n",
            " 'work_type_local-gov' 'work_type_never-worked' 'work_type_private'\n",
            " 'work_type_self-emp-inc' 'work_type_self-emp-not-inc'\n",
            " 'work_type_state-gov' 'work_type_without-pay' 'education_10th'\n",
            " 'education_11th' 'education_12th' 'education_1st-4th' 'education_5th-6th'\n",
            " 'education_7th-8th' 'education_9th' 'education_assoc-acdm'\n",
            " 'education_assoc-voc' 'education_bachelors' 'education_doctorate'\n",
            " 'education_hs-grad' 'education_masters' 'education_preschool'\n",
            " 'education_prof-school' 'education_some-college' 'marital_state_divorced'\n",
            " 'marital_state_married-af-spouse' 'marital_state_married-civ-spouse'\n",
            " 'marital_state_married-spouse-absent' 'marital_state_never-married'\n",
            " 'marital_state_separated' 'marital_state_widowed' 'job_?'\n",
            " 'job_adm-clerical' 'job_armed-forces' 'job_craft-repair'\n",
            " 'job_exec-managerial' 'job_farming-fishing' 'job_handlers-cleaners'\n",
            " 'job_machine-op-inspct' 'job_other-service' 'job_priv-house-serv'\n",
            " 'job_prof-specialty' 'job_protective-serv' 'job_sales' 'job_tech-support'\n",
            " 'job_transport-moving' 'status_husband' 'status_not-in-family'\n",
            " 'status_other-relative' 'status_own-child' 'status_unmarried'\n",
            " 'status_wife' 'ethnicity_amer-indian-eskimo'\n",
            " 'ethnicity_asian-pac-islander' 'ethnicity_black' 'ethnicity_other'\n",
            " 'ethnicity_white' 'sex_f' 'sex_m' 'nationality_?' 'nationality_cambodia'\n",
            " 'nationality_canada' 'nationality_china' 'nationality_columbia'\n",
            " 'nationality_cuba' 'nationality_dominican-republic' 'nationality_ecuador'\n",
            " 'nationality_el-salvador' 'nationality_england' 'nationality_france'\n",
            " 'nationality_germany' 'nationality_greece' 'nationality_guatemala'\n",
            " 'nationality_haiti' 'nationality_holand-netherlands'\n",
            " 'nationality_honduras' 'nationality_hong' 'nationality_hungary'\n",
            " 'nationality_india' 'nationality_iran' 'nationality_ireland'\n",
            " 'nationality_italy' 'nationality_jamaica' 'nationality_japan'\n",
            " 'nationality_laos' 'nationality_mexico' 'nationality_nicaragua'\n",
            " 'nationality_outlying-us(guam-usvi-etc)' 'nationality_peru'\n",
            " 'nationality_philippines' 'nationality_poland' 'nationality_portugal'\n",
            " 'nationality_puerto-rico' 'nationality_scotland' 'nationality_south'\n",
            " 'nationality_taiwan' 'nationality_thailand' 'nationality_trinadad&tobago'\n",
            " 'nationality_us' 'nationality_vietnam' 'nationality_yugoslavia'] target_income\n",
            "[ 179579 10 0 0 0 0 1 0 ] 0\n",
            "[ 153475 13 0 0 0 0 0 0 ] 0\n",
            "[ 175586 9 0 0 0 0 0 0 ] 0\n",
            "[ 198813 9 0 0 0 0 0 0 ] 0\n",
            "[ 24515 5 0 0 0 0 0 0 ] 0\n",
            "[ 105694 9 0 0 0 0 0 0 ] 0\n",
            "[ 36348 10 0 0 0 0 0 0 ] 0\n",
            "[ 247321 9 0 0 0 0 0 0 ] 0\n",
            "[ 233681 12 0 1 0 0 0 0 ] 0\n",
            "[ 222011 14 0 0 0 0 1 0 ] 0\n"
          ]
        }
      ]
    },
    {
      "cell_type": "code",
      "source": [
        "print(\"Sample of features and labels:\")\n",
        "\n",
        "# Take a look at the first 25 training features and corresponding labels\n",
        "for n in range(0,24):\n",
        "    print(x_train[n], y_train[n], '(' + label[y_train[n]] + ')')"
      ],
      "metadata": {
        "colab": {
          "base_uri": "https://localhost:8080/",
          "height": 208
        },
        "id": "ELv55nEgDJZK",
        "outputId": "c148e27b-7a8c-4464-a5f9-2699abfab628"
      },
      "execution_count": null,
      "outputs": [
        {
          "output_type": "stream",
          "name": "stdout",
          "text": [
            "Sample of features and labels:\n"
          ]
        },
        {
          "output_type": "error",
          "ename": "TypeError",
          "evalue": "ignored",
          "traceback": [
            "\u001b[0;31m---------------------------------------------------------------------------\u001b[0m",
            "\u001b[0;31mTypeError\u001b[0m                                 Traceback (most recent call last)",
            "\u001b[0;32m<ipython-input-21-a1608b9a154c>\u001b[0m in \u001b[0;36m<module>\u001b[0;34m()\u001b[0m\n\u001b[1;32m      3\u001b[0m \u001b[0;31m# Take a look at the first 25 training features and corresponding labels\u001b[0m\u001b[0;34m\u001b[0m\u001b[0;34m\u001b[0m\u001b[0;34m\u001b[0m\u001b[0m\n\u001b[1;32m      4\u001b[0m \u001b[0;32mfor\u001b[0m \u001b[0mn\u001b[0m \u001b[0;32min\u001b[0m \u001b[0mrange\u001b[0m\u001b[0;34m(\u001b[0m\u001b[0;36m0\u001b[0m\u001b[0;34m,\u001b[0m\u001b[0;36m24\u001b[0m\u001b[0;34m)\u001b[0m\u001b[0;34m:\u001b[0m\u001b[0;34m\u001b[0m\u001b[0;34m\u001b[0m\u001b[0m\n\u001b[0;32m----> 5\u001b[0;31m     \u001b[0mprint\u001b[0m\u001b[0;34m(\u001b[0m\u001b[0mx_train\u001b[0m\u001b[0;34m[\u001b[0m\u001b[0mn\u001b[0m\u001b[0;34m]\u001b[0m\u001b[0;34m,\u001b[0m \u001b[0my_train\u001b[0m\u001b[0;34m[\u001b[0m\u001b[0mn\u001b[0m\u001b[0;34m]\u001b[0m\u001b[0;34m,\u001b[0m \u001b[0;34m'('\u001b[0m \u001b[0;34m+\u001b[0m \u001b[0mlabel\u001b[0m\u001b[0;34m[\u001b[0m\u001b[0my_train\u001b[0m\u001b[0;34m[\u001b[0m\u001b[0mn\u001b[0m\u001b[0;34m]\u001b[0m\u001b[0;34m]\u001b[0m \u001b[0;34m+\u001b[0m \u001b[0;34m')'\u001b[0m\u001b[0;34m)\u001b[0m\u001b[0;34m\u001b[0m\u001b[0;34m\u001b[0m\u001b[0m\n\u001b[0m",
            "\u001b[0;31mTypeError\u001b[0m: can only concatenate str (not \"numpy.int64\") to str"
          ]
        }
      ]
    },
    {
      "cell_type": "markdown",
      "source": [
        "10) Xây dựng một mạng deep-neural-network để huấn luyện mô hình trên dữ liệu train và đánh giá mô hình trên dữ liệu test."
      ],
      "metadata": {
        "id": "sFTmNiIBMIiw"
      }
    },
    {
      "cell_type": "code",
      "source": [
        "# Set random seed for reproducability\n",
        "torch.manual_seed(0)\n",
        "\n",
        "print(\"Libraries imported - ready to use PyTorch\", torch.__version__)"
      ],
      "metadata": {
        "colab": {
          "base_uri": "https://localhost:8080/"
        },
        "id": "9E3XaFEHMJS7",
        "outputId": "d9fffb9d-aff2-42b2-cb49-f9d8fb6a2f34"
      },
      "execution_count": null,
      "outputs": [
        {
          "output_type": "stream",
          "name": "stdout",
          "text": [
            "Libraries imported - ready to use PyTorch 1.10.0+cu111\n"
          ]
        }
      ]
    },
    {
      "cell_type": "markdown",
      "source": [
        "# Prepare the data for PyTorch"
      ],
      "metadata": {
        "id": "ndTc0m7hMZBQ"
      }
    },
    {
      "cell_type": "code",
      "source": [
        "# Create a dataset and loader for the training data and labels\n",
        "train_x = torch.Tensor(x_train).float()\n",
        "train_y = torch.Tensor(y_train).long()\n",
        "train_ds = td.TensorDataset(train_x,train_y)\n",
        "train_loader = td.DataLoader(train_ds, batch_size=20,\n",
        "    shuffle=True, num_workers=1)\n",
        "\n",
        "# Create a dataset and loader for the test data and labels\n",
        "test_x = torch.Tensor(x_test).float()\n",
        "test_y = torch.Tensor(y_test).long()\n",
        "test_ds = td.TensorDataset(test_x,test_y)\n",
        "test_loader = td.DataLoader(test_ds, batch_size=20,\n",
        "    shuffle=False, num_workers=1)\n",
        "print('Ready to load data')"
      ],
      "metadata": {
        "colab": {
          "base_uri": "https://localhost:8080/"
        },
        "id": "tLJqdcgEMg1P",
        "outputId": "4fa15a0f-35cf-441f-81ba-ee4e6901546c"
      },
      "execution_count": null,
      "outputs": [
        {
          "output_type": "stream",
          "name": "stdout",
          "text": [
            "Ready to load data\n"
          ]
        }
      ]
    },
    {
      "cell_type": "markdown",
      "source": [
        "# Define a neural network"
      ],
      "metadata": {
        "id": "Rb4-oo8LMnHc"
      }
    },
    {
      "cell_type": "code",
      "source": [
        "# Number of hidden layer nodes\n",
        "hl = 10\n",
        "\n",
        "# Define the neural network\n",
        "class income_classification(nn.Module):\n",
        "    def __init__(self):\n",
        "        super(income_classification, self).__init__()\n",
        "        self.fc1 = nn.Linear(len(features), hl)\n",
        "        self.fc2 = nn.Linear(hl, hl)\n",
        "        # self.fc3 = nn.Linear(hl, len(target_income))\n",
        "        self.fc3 = nn.Linear(hl, 6)\n",
        "        self.fc4 = nn.Linear(6, 2)\n",
        "\n",
        "    def forward(self, x):\n",
        "        x = torch.relu(self.fc1(x))\n",
        "        x = torch.relu(self.fc2(x))\n",
        "        x = torch.relu(self.fc3(x))\n",
        "        #x = torch.relu(self.fc4(x))\n",
        "        x = torch.softmax(self.fc4(x))\n",
        "        # ham softmax hoac sigmoid bien doi 1 vector bat ki (vector a3) thanh xac suat gom cac unit trong phan loai ( o day la 2 unit)\n",
        "        return x\n",
        "\n",
        "# Create a model instance from the network\n",
        "model = income_classification()\n",
        "print(model)"
      ],
      "metadata": {
        "colab": {
          "base_uri": "https://localhost:8080/"
        },
        "id": "lPg1aP5KMr2X",
        "outputId": "fddd869b-fb05-4cb4-e9a4-a02015332b5f"
      },
      "execution_count": null,
      "outputs": [
        {
          "output_type": "stream",
          "name": "stdout",
          "text": [
            "income_classification(\n",
            "  (fc1): Linear(in_features=108, out_features=10, bias=True)\n",
            "  (fc2): Linear(in_features=10, out_features=10, bias=True)\n",
            "  (fc3): Linear(in_features=10, out_features=6, bias=True)\n",
            "  (fc4): Linear(in_features=6, out_features=2, bias=True)\n",
            ")\n"
          ]
        }
      ]
    },
    {
      "cell_type": "code",
      "source": [
        "# # Define a classifier network\n",
        "# hl = 10 # Number of hidden layer nodes\n",
        "\n",
        "# def _init_model(hl = 10):\n",
        "#   model = Sequential()\n",
        "#   model.add(Dense(hl, input_dim=len(features), activation='relu'))\n",
        "#   model.add(Dense(hl, input_dim=hl, activation='relu'))\n",
        "#   model.add(Dense(6, input_dim=hl, activation='relu'))\n",
        "#   model.add(Dense(1, input_dim=6, activation='sigmoid'))\n",
        "#   print(model.summary())\n",
        "#   return model\n",
        "\n",
        "# model = _init_model(hl=hl)"
      ],
      "metadata": {
        "id": "jsaoZXR8M_tX"
      },
      "execution_count": null,
      "outputs": []
    },
    {
      "cell_type": "markdown",
      "source": [
        "# Train the model"
      ],
      "metadata": {
        "id": "pim38ymBSOhX"
      }
    },
    {
      "cell_type": "code",
      "source": [
        "def train(model, data_loader, optimizer):\n",
        "    # Set the model to training mode\n",
        "    model.train()\n",
        "    train_loss = 0\n",
        "    \n",
        "    for batch, tensor in enumerate(data_loader):\n",
        "        data, target = tensor\n",
        "        #feedforward: calculate y_pred and loss function\n",
        "        optimizer.zero_grad()\n",
        "        out = model(data)\n",
        "        loss = loss_criteria(out, target)\n",
        "        train_loss += loss.item()\n",
        "\n",
        "        # backpropagate: compute gradient descent and update weights\n",
        "        loss.backward()\n",
        "        optimizer.step()\n",
        "\n",
        "    #Return average loss\n",
        "    avg_loss = train_loss / (batch+1)\n",
        "    print('Training set: Average loss: {:.6f}'.format(avg_loss))\n",
        "    return avg_loss\n",
        "           \n",
        "            \n",
        "def test(model, data_loader):\n",
        "    # Switch the model to evaluation mode (so we don't backpropagate)\n",
        "    model.eval()\n",
        "    test_loss = 0\n",
        "    correct = 0\n",
        "\n",
        "    with torch.no_grad():\n",
        "        batch_count = 0\n",
        "        for batch, tensor in enumerate(data_loader):\n",
        "            batch_count += 1\n",
        "            data, target = tensor\n",
        "            # Get the predictions\n",
        "            out = model(data)\n",
        "\n",
        "            # calculate the loss\n",
        "            test_loss += loss_criteria(out, target).item()\n",
        "\n",
        "            # Calculate the accuracy\n",
        "            #_, predicted = torch.max(out.data, 1)\n",
        "            # Do danh du bao theo nhan phan loai 0-1 nen phai kiem tra >= 0.5 voi gia tri thu 2.\n",
        "            # _, : khoong can quan tam gia tri tra ve. Skip gia tri do. \n",
        "            _, predicted = torch.tensor(out.data[: ,1] >= 0.5).float()\n",
        "            correct += torch.sum(target==predicted).item()\n",
        "            \n",
        "    # Calculate the average loss and total accuracy for this epoch\n",
        "    avg_loss = test_loss/batch_count\n",
        "    print('Validation set: Average loss: {:.6f}, Accuracy: {}/{} ({:.0f}%)\\n'.format(\n",
        "        avg_loss, correct, len(data_loader.dataset),\n",
        "        100. * correct / len(data_loader.dataset)))\n",
        "    \n",
        "    # return average loss for the epoch\n",
        "    return avg_loss\n",
        "\n",
        "# Specify the loss criteria (we'll use CrossEntropyLoss for multi-class classification)\n",
        "loss_criteria = nn.CrossEntropyLoss()\n",
        "\n",
        "# Use an \"Adam\" optimizer to adjust weights\n",
        "# (see https://pytorch.org/docs/stable/optim.html#algorithms for details of supported algorithms)\n",
        "learning_rate = 0.001\n",
        "optimizer = torch.optim.Adam(model.parameters(), lr=learning_rate)\n",
        "optimizer.zero_grad()\n",
        "\n",
        "# We'll track metrics for each epoch in these arrays\n",
        "epoch_nums = []\n",
        "training_loss = []\n",
        "validation_loss = []\n",
        "\n",
        "# Train over 50 epochs\n",
        "epochs = 50\n",
        "for epoch in range(1, epochs + 1):\n",
        "\n",
        "    # print the epoch number\n",
        "    print('Epoch: {}'.format(epoch))\n",
        "    \n",
        "    # Feed training data into the model to optimize the weights\n",
        "    train_loss = train(model, train_loader, optimizer)\n",
        "    \n",
        "    # Feed the test data into the model to check its performance\n",
        "    test_loss = test(model, test_loader)\n",
        "    \n",
        "    # Log the metrics for this epoch\n",
        "    epoch_nums.append(epoch)\n",
        "    training_loss.append(train_loss)\n",
        "    validation_loss.append(test_loss)\n"
      ],
      "metadata": {
        "colab": {
          "base_uri": "https://localhost:8080/"
        },
        "id": "kdwpnBmWSSAb",
        "outputId": "b6bb6932-6204-4d2a-f53e-dd6b8e2aacc8"
      },
      "execution_count": null,
      "outputs": [
        {
          "output_type": "stream",
          "name": "stdout",
          "text": [
            "Epoch: 1\n",
            "Training set: Average loss: 0.395484\n",
            "Validation set: Average loss: 0.347482, Accuracy: 3811/5000 (76%)\n",
            "\n",
            "Epoch: 2\n",
            "Training set: Average loss: 0.353986\n",
            "Validation set: Average loss: 0.345916, Accuracy: 3811/5000 (76%)\n",
            "\n",
            "Epoch: 3\n",
            "Training set: Average loss: 0.350232\n",
            "Validation set: Average loss: 0.343408, Accuracy: 3811/5000 (76%)\n",
            "\n",
            "Epoch: 4\n",
            "Training set: Average loss: 0.347412\n",
            "Validation set: Average loss: 0.344013, Accuracy: 3811/5000 (76%)\n",
            "\n",
            "Epoch: 5\n",
            "Training set: Average loss: 0.345495\n",
            "Validation set: Average loss: 0.345302, Accuracy: 3811/5000 (76%)\n",
            "\n",
            "Epoch: 6\n",
            "Training set: Average loss: 0.343969\n",
            "Validation set: Average loss: 0.346161, Accuracy: 3811/5000 (76%)\n",
            "\n",
            "Epoch: 7\n",
            "Training set: Average loss: 0.342028\n",
            "Validation set: Average loss: 0.349423, Accuracy: 3811/5000 (76%)\n",
            "\n",
            "Epoch: 8\n",
            "Training set: Average loss: 0.340830\n",
            "Validation set: Average loss: 0.347928, Accuracy: 3811/5000 (76%)\n",
            "\n",
            "Epoch: 9\n",
            "Training set: Average loss: 0.339722\n",
            "Validation set: Average loss: 0.348907, Accuracy: 3811/5000 (76%)\n",
            "\n",
            "Epoch: 10\n",
            "Training set: Average loss: 0.338036\n",
            "Validation set: Average loss: 0.352155, Accuracy: 3811/5000 (76%)\n",
            "\n",
            "Epoch: 11\n",
            "Training set: Average loss: 0.337527\n",
            "Validation set: Average loss: 0.350585, Accuracy: 3811/5000 (76%)\n",
            "\n",
            "Epoch: 12\n",
            "Training set: Average loss: 0.336709\n",
            "Validation set: Average loss: 0.352651, Accuracy: 3811/5000 (76%)\n",
            "\n",
            "Epoch: 13\n",
            "Training set: Average loss: 0.335764\n",
            "Validation set: Average loss: 0.353302, Accuracy: 3811/5000 (76%)\n",
            "\n",
            "Epoch: 14\n",
            "Training set: Average loss: 0.335119\n",
            "Validation set: Average loss: 0.358818, Accuracy: 3811/5000 (76%)\n",
            "\n",
            "Epoch: 15\n",
            "Training set: Average loss: 0.334691\n",
            "Validation set: Average loss: 0.354104, Accuracy: 3811/5000 (76%)\n",
            "\n",
            "Epoch: 16\n",
            "Training set: Average loss: 0.333803\n",
            "Validation set: Average loss: 0.356179, Accuracy: 3811/5000 (76%)\n",
            "\n",
            "Epoch: 17\n",
            "Training set: Average loss: 0.333357\n",
            "Validation set: Average loss: 0.359220, Accuracy: 3811/5000 (76%)\n",
            "\n",
            "Epoch: 18\n",
            "Training set: Average loss: 0.332967\n",
            "Validation set: Average loss: 0.363305, Accuracy: 3811/5000 (76%)\n",
            "\n",
            "Epoch: 19\n",
            "Training set: Average loss: 0.332637\n",
            "Validation set: Average loss: 0.359420, Accuracy: 3811/5000 (76%)\n",
            "\n",
            "Epoch: 20\n",
            "Training set: Average loss: 0.331865\n",
            "Validation set: Average loss: 0.362500, Accuracy: 3811/5000 (76%)\n",
            "\n",
            "Epoch: 21\n",
            "Training set: Average loss: 0.331451\n",
            "Validation set: Average loss: 0.365098, Accuracy: 3811/5000 (76%)\n",
            "\n",
            "Epoch: 22\n",
            "Training set: Average loss: 0.331256\n",
            "Validation set: Average loss: 0.365389, Accuracy: 3811/5000 (76%)\n",
            "\n",
            "Epoch: 23\n",
            "Training set: Average loss: 0.330518\n",
            "Validation set: Average loss: 0.366383, Accuracy: 3809/5000 (76%)\n",
            "\n",
            "Epoch: 24\n",
            "Training set: Average loss: 0.330289\n",
            "Validation set: Average loss: 0.369776, Accuracy: 3811/5000 (76%)\n",
            "\n",
            "Epoch: 25\n",
            "Training set: Average loss: 0.329545\n",
            "Validation set: Average loss: 0.369319, Accuracy: 3800/5000 (76%)\n",
            "\n",
            "Epoch: 26\n",
            "Training set: Average loss: 0.313795\n",
            "Validation set: Average loss: 0.354784, Accuracy: 4226/5000 (85%)\n",
            "\n",
            "Epoch: 27\n",
            "Training set: Average loss: 0.305430\n",
            "Validation set: Average loss: 0.346758, Accuracy: 4254/5000 (85%)\n",
            "\n",
            "Epoch: 28\n",
            "Training set: Average loss: 0.301529\n",
            "Validation set: Average loss: 0.346741, Accuracy: 4254/5000 (85%)\n",
            "\n",
            "Epoch: 29\n",
            "Training set: Average loss: 0.299807\n",
            "Validation set: Average loss: 0.342211, Accuracy: 4259/5000 (85%)\n",
            "\n",
            "Epoch: 30\n",
            "Training set: Average loss: 0.297627\n",
            "Validation set: Average loss: 0.345824, Accuracy: 4255/5000 (85%)\n",
            "\n",
            "Epoch: 31\n",
            "Training set: Average loss: 0.296328\n",
            "Validation set: Average loss: 0.343664, Accuracy: 4263/5000 (85%)\n",
            "\n",
            "Epoch: 32\n",
            "Training set: Average loss: 0.295025\n",
            "Validation set: Average loss: 0.340889, Accuracy: 4266/5000 (85%)\n",
            "\n",
            "Epoch: 33\n",
            "Training set: Average loss: 0.294386\n",
            "Validation set: Average loss: 0.342090, Accuracy: 4268/5000 (85%)\n",
            "\n",
            "Epoch: 34\n",
            "Training set: Average loss: 0.294011\n",
            "Validation set: Average loss: 0.340220, Accuracy: 4265/5000 (85%)\n",
            "\n",
            "Epoch: 35\n",
            "Training set: Average loss: 0.292273\n",
            "Validation set: Average loss: 0.343234, Accuracy: 4261/5000 (85%)\n",
            "\n",
            "Epoch: 36\n",
            "Training set: Average loss: 0.291363\n",
            "Validation set: Average loss: 0.349124, Accuracy: 4262/5000 (85%)\n",
            "\n",
            "Epoch: 37\n",
            "Training set: Average loss: 0.291781\n",
            "Validation set: Average loss: 0.343099, Accuracy: 4268/5000 (85%)\n",
            "\n",
            "Epoch: 38\n",
            "Training set: Average loss: 0.291248\n",
            "Validation set: Average loss: 0.343479, Accuracy: 4259/5000 (85%)\n",
            "\n",
            "Epoch: 39\n",
            "Training set: Average loss: 0.290166\n",
            "Validation set: Average loss: 0.343408, Accuracy: 4269/5000 (85%)\n",
            "\n",
            "Epoch: 40\n",
            "Training set: Average loss: 0.289944\n",
            "Validation set: Average loss: 0.345049, Accuracy: 4253/5000 (85%)\n",
            "\n",
            "Epoch: 41\n",
            "Training set: Average loss: 0.289215\n",
            "Validation set: Average loss: 0.342181, Accuracy: 4251/5000 (85%)\n",
            "\n",
            "Epoch: 42\n",
            "Training set: Average loss: 0.288794\n",
            "Validation set: Average loss: 0.344224, Accuracy: 4239/5000 (85%)\n",
            "\n",
            "Epoch: 43\n",
            "Training set: Average loss: 0.288824\n",
            "Validation set: Average loss: 0.342271, Accuracy: 4253/5000 (85%)\n",
            "\n",
            "Epoch: 44\n",
            "Training set: Average loss: 0.287693\n",
            "Validation set: Average loss: 0.345353, Accuracy: 4273/5000 (85%)\n",
            "\n",
            "Epoch: 45\n",
            "Training set: Average loss: 0.287691\n",
            "Validation set: Average loss: 0.341261, Accuracy: 4261/5000 (85%)\n",
            "\n",
            "Epoch: 46\n",
            "Training set: Average loss: 0.287095\n",
            "Validation set: Average loss: 0.342504, Accuracy: 4245/5000 (85%)\n",
            "\n",
            "Epoch: 47\n",
            "Training set: Average loss: 0.286355\n",
            "Validation set: Average loss: 0.351637, Accuracy: 4255/5000 (85%)\n",
            "\n",
            "Epoch: 48\n",
            "Training set: Average loss: 0.285918\n",
            "Validation set: Average loss: 0.345191, Accuracy: 4265/5000 (85%)\n",
            "\n",
            "Epoch: 49\n",
            "Training set: Average loss: 0.285368\n",
            "Validation set: Average loss: 0.343031, Accuracy: 4274/5000 (85%)\n",
            "\n",
            "Epoch: 50\n",
            "Training set: Average loss: 0.285241\n",
            "Validation set: Average loss: 0.346468, Accuracy: 4265/5000 (85%)\n",
            "\n"
          ]
        }
      ]
    },
    {
      "cell_type": "markdown",
      "source": [
        "# Đánh giá model"
      ],
      "metadata": {
        "id": "IeeouYAbV9_2"
      }
    },
    {
      "cell_type": "markdown",
      "source": [
        "**Review training and validation loss**"
      ],
      "metadata": {
        "id": "ma6abYGVWbIJ"
      }
    },
    {
      "cell_type": "code",
      "source": [
        "%matplotlib inline\n",
        "from matplotlib import pyplot as plt\n",
        "\n",
        "plt.plot(epoch_nums, training_loss)\n",
        "plt.plot(epoch_nums, validation_loss)\n",
        "plt.xlabel('epoch')\n",
        "plt.ylabel('loss')\n",
        "plt.legend(['training', 'validation'], loc='upper right')\n",
        "plt.show()"
      ],
      "metadata": {
        "colab": {
          "base_uri": "https://localhost:8080/",
          "height": 281
        },
        "id": "bxeX5EfBWOhD",
        "outputId": "669a5cea-6695-45e2-843e-8475e33bccd7"
      },
      "execution_count": null,
      "outputs": [
        {
          "output_type": "display_data",
          "data": {
            "image/png": "[encoded data removed]",
            "text/plain": [
              "<Figure size 432x288 with 1 Axes>"
            ]
          },
          "metadata": {
            "needs_background": "light"
          }
        }
      ]
    },
    {
      "cell_type": "markdown",
      "source": [
        "**View the learned weights and biases**\n",
        "\n",
        "## View the learned weights and biases\n",
        "\n",
        "The trained model consists of the final weights and biases that were determined by the optimizer during training. Based on our network model we should expect the following values for each layer:\n",
        "* Layer 1: There are four input values going to ten output nodes, so there should be 10 x 4 weights and 10 bias values.\n",
        "* Layer 2: There are ten input values going to ten output nodes, so there should be 10 x 10 weights and 10 bias values.\n",
        "* Layer 3: There are ten input values going to 25000 output nodes, so there should be 25000 x 10 weights and 25000 bias values."
      ],
      "metadata": {
        "id": "CHAF9fI-WkCd"
      }
    },
    {
      "cell_type": "code",
      "source": [
        "for param_tensor in model.state_dict():\n",
        "    print(param_tensor, \"\\n\", model.state_dict()[param_tensor].numpy())"
      ],
      "metadata": {
        "colab": {
          "base_uri": "https://localhost:8080/"
        },
        "id": "vKbv4LkxW2O_",
        "outputId": "f1a3dc7f-82db-4370-ce4c-d7f9baef615c"
      },
      "execution_count": null,
      "outputs": [
        {
          "output_type": "stream",
          "name": "stdout",
          "text": [
            "fc1.weight \n",
            " [[ 5.5407929e-01  9.9949218e-02 -1.1042611e-01 ...  2.2912748e-01\n",
            "   1.1259344e-01 -1.9716609e-02]\n",
            " [-1.3544717e+00 -2.7166858e-01  3.5510308e-01 ...  7.1875095e-01\n",
            "   1.3125372e-01  8.5618660e-02]\n",
            " [ 1.3245031e+00  3.2656372e-02  9.1842741e-02 ...  3.2320386e-01\n",
            "  -9.3625300e-02 -2.4617756e-02]\n",
            " ...\n",
            " [ 3.0612412e-01  2.5534153e-01 -8.9462750e-02 ...  5.6377459e-01\n",
            "  -1.9884299e-02  2.7759856e-02]\n",
            " [-6.3473153e-01 -5.2190161e-01 -1.5058084e-01 ...  4.6566367e-01\n",
            "   1.1389263e-01  1.1507821e-03]\n",
            " [-9.1723323e-01 -1.7794234e-01 -7.6087333e-02 ...  3.5662344e-01\n",
            "  -2.5364143e-01 -2.1998788e-01]]\n",
            "fc1.bias \n",
            " [-0.21409047 -0.36730164  0.02390506  0.13195585  0.03121356 -0.3728606\n",
            "  0.19681771 -0.3780457  -0.271961    0.26531842]\n",
            "fc2.weight \n",
            " [[ 0.4270029   0.19554594  0.3209807   0.1853114  -0.12627518  0.05167822\n",
            "  -0.27895242  0.51500654  0.11154748  0.07521031]\n",
            " [-0.0768678   0.2925458  -1.2706543   0.06273068 -0.17373636  0.4203422\n",
            "  -0.145478    0.21242167  0.17135139  0.22607505]\n",
            " [ 0.03176744  0.18375133 -0.8521178   0.05206511 -0.559757   -0.3325386\n",
            "   0.36223102  0.33521628 -0.7101381   0.26581168]\n",
            " [ 0.45183164  0.59507114  0.2529278   0.375765    0.4377478   0.30200583\n",
            "  -0.2870542   0.15557098  0.08008955  0.39952984]\n",
            " [ 0.07933589  0.23660508 -0.97789776 -0.2696734  -0.22476868  0.3065227\n",
            "  -0.34838966  0.14297548  0.21418755  0.1541161 ]\n",
            " [ 0.176174    0.33507234 -0.22860493  0.16854718  0.2773725  -0.30429593\n",
            "  -0.08202907  0.35366878  0.52087486  0.43337193]\n",
            " [ 0.3421004   0.2883744   0.37828872 -0.06729992  0.11450938  0.1855636\n",
            "  -0.3382367   0.16409323 -0.09281068 -0.17655312]\n",
            " [ 0.22147535 -0.23158638 -1.098537    0.19355302  0.12822393  0.2908919\n",
            "  -0.19287929  0.24222548  0.13135312  0.12168765]\n",
            " [ 0.50820047 -0.26865944  0.00607832  0.1170845   0.1435682   0.19943365\n",
            "  -0.08826541 -0.53706646 -0.35533467  0.4031442 ]\n",
            " [ 0.18605779  0.57325184  0.39396837  0.3377434   0.35122842  0.31754485\n",
            "  -0.23187123  0.35557684 -0.06288952  0.2723757 ]]\n",
            "fc2.bias \n",
            " [-0.16153853 -0.57751113  0.08484824  0.42035383 -0.33696464  0.28257778\n",
            " -0.23715334 -0.5881381  -0.00874901  0.56989443]\n",
            "fc3.weight \n",
            " [[-0.07822107  0.52078015 -0.1235584   0.34446004  0.13545512 -0.21643169\n",
            "  -0.2310034   0.04296748  0.4503117   0.19653338]\n",
            " [ 0.41592178  0.6578738  -0.79723775  0.23807843  0.01445621  0.13169909\n",
            "  -0.10652536  0.74268097 -0.08294851 -0.16366911]\n",
            " [ 0.02532981 -0.02128083 -0.13933082 -0.20227316 -0.03899385 -0.06921848\n",
            "  -0.24884029 -0.24209948 -0.24017394 -0.19427453]\n",
            " [ 0.02460347  0.8125475  -0.27712473  0.24368893  0.62012744  0.41060737\n",
            "   0.3093566   0.6413918   0.12009447  0.58867013]\n",
            " [ 0.03711953  0.65960324 -0.7086553   0.26483178  0.33885652  0.32454672\n",
            "   0.30645758  0.37586287  0.05220373  0.3876063 ]\n",
            " [ 0.19669214  0.39105305 -0.25975943 -0.00336107  0.50673974  0.19846392\n",
            "   0.2882713   0.90486056 -0.268049    0.34117842]]\n",
            "fc3.bias \n",
            " [-0.46667087  0.04859573 -0.01178216  0.2972055   0.02254033  0.07326058]\n",
            "fc4.weight \n",
            " [[ 0.13492194  0.38402772 -0.12395925  0.4006724   0.26125038  0.14333539]\n",
            " [ 0.43462843 -0.13310586  0.19926292 -0.531195   -0.00754506 -0.3997726 ]]\n",
            "fc4.bias \n",
            " [-0.00432764  2.197036  ]\n"
          ]
        }
      ]
    },
    {
      "cell_type": "markdown",
      "source": [
        "# Evaluate model performance"
      ],
      "metadata": {
        "id": "enLg-YWYXtf2"
      }
    },
    {
      "cell_type": "code",
      "source": [
        "#Pytorch doesn't have a built-in confusion matrix metric, so we'll use SciKit-Learn\n",
        "from sklearn.metrics import confusion_matrix\n",
        "import numpy as np\n",
        "\n",
        "# Set the model to evaluate mode\n",
        "model.eval()\n",
        "\n",
        "# Get predictions for the test data\n",
        "x = torch.Tensor(x_test).float()\n",
        "_, predicted = torch.max(model(x).data, 1)\n",
        "\n",
        "# Plot the confusion matrix\n",
        "cm = confusion_matrix(y_test, predicted.numpy())\n",
        "plt.imshow(cm, interpolation=\"nearest\", cmap=plt.cm.Blues)\n",
        "plt.colorbar()\n",
        "tick_marks = np.arange(len(label))\n",
        "plt.xticks(tick_marks, label, rotation=45)\n",
        "plt.yticks(tick_marks, label)\n",
        "plt.xlabel(\"Predicted Income Class\")\n",
        "plt.ylabel(\"Actual Income Class\")\n",
        "plt.show()"
      ],
      "metadata": {
        "colab": {
          "base_uri": "https://localhost:8080/",
          "height": 283
        },
        "id": "Zjwurio3X0n5",
        "outputId": "94d0c41a-e95d-4b7e-9b51-94d4fe72dc1d"
      },
      "execution_count": null,
      "outputs": [
        {
          "output_type": "display_data",
          "data": {
            "image/png": "[encoded data removed]",
            "text/plain": [
              "<Figure size 432x288 with 2 Axes>"
            ]
          },
          "metadata": {
            "needs_background": "light"
          }
        }
      ]
    },
    {
      "cell_type": "markdown",
      "source": [
        "# PANDAS HOMEWORK\n",
        "\n",
        "Sử dụng bộ dữ liệu Churn Customer bạn hãy.\n",
        "\n",
        "1. Đọc dữ liệu từ file csv, có phần header là row thứ nhất và index là trường RowNumber.\n",
        "2. Thống kê mô tả đối với các trường trong bảng dữ liệu này.\n",
        "3. Tính trung bình điểm CreditScore theo Geography.\n",
        "4. Phân đều Age thành 5 nhóm độ tuổi sao cho mỗi nhóm chiếm 20% số quan sát.\n",
        "5. Vẽ biểu đồ barchart thống kê số lượng khách hàng theo nhóm độ tuổi vừa tạo được.\n",
        "\n"
      ],
      "metadata": {
        "id": "Na_f2ALPfkfQ"
      }
    },
    {
      "cell_type": "markdown",
      "source": [
        ""
      ],
      "metadata": {
        "id": "Tuh_rOrPfpu5"
      }
    },
    {
      "cell_type": "code",
      "source": [
        "churn = pd.read_csv('https://raw.githubusercontent.com/phamdinhkhanh/datasets/master/Churn_Modelling.csv', header = 1, index_col=0)\n",
        "churn.head(5)\n",
        "\n",
        "df_churn = pd.read_csv('https://raw.githubusercontent.com/phamdinhkhanh/datasets/master/Churn_Modelling.csv')"
      ],
      "metadata": {
        "id": "lpAWHYypf_60"
      },
      "execution_count": null,
      "outputs": []
    },
    {
      "cell_type": "code",
      "source": [
        "df_churn.info()"
      ],
      "metadata": {
        "colab": {
          "base_uri": "https://localhost:8080/"
        },
        "id": "H-b37NECg509",
        "outputId": "a601ad3c-46c5-43e5-87f7-95b942c3ec95"
      },
      "execution_count": null,
      "outputs": [
        {
          "output_type": "stream",
          "name": "stdout",
          "text": [
            "<class 'pandas.core.frame.DataFrame'>\n",
            "RangeIndex: 10000 entries, 0 to 9999\n",
            "Data columns (total 14 columns):\n",
            " #   Column           Non-Null Count  Dtype  \n",
            "---  ------           --------------  -----  \n",
            " 0   RowNumber        10000 non-null  int64  \n",
            " 1   CustomerId       10000 non-null  int64  \n",
            " 2   Surname          10000 non-null  object \n",
            " 3   CreditScore      10000 non-null  int64  \n",
            " 4   Geography        10000 non-null  object \n",
            " 5   Gender           10000 non-null  object \n",
            " 6   Age              10000 non-null  int64  \n",
            " 7   Tenure           10000 non-null  int64  \n",
            " 8   Balance          10000 non-null  float64\n",
            " 9   NumOfProducts    10000 non-null  int64  \n",
            " 10  HasCrCard        10000 non-null  int64  \n",
            " 11  IsActiveMember   10000 non-null  int64  \n",
            " 12  EstimatedSalary  10000 non-null  float64\n",
            " 13  Exited           10000 non-null  int64  \n",
            "dtypes: float64(2), int64(9), object(3)\n",
            "memory usage: 1.1+ MB\n"
          ]
        }
      ]
    },
    {
      "cell_type": "code",
      "source": [
        "df_churn.describe()"
      ],
      "metadata": {
        "colab": {
          "base_uri": "https://localhost:8080/",
          "height": 356
        },
        "id": "Rs0CtZxGhIqa",
        "outputId": "deb7e39e-d887-4b86-b743-c43a60c7fc57"
      },
      "execution_count": null,
      "outputs": [
        {
          "output_type": "execute_result",
          "data": {
            "text/html": [
              "\n",
              "  <div id=\"df-244918f0-a448-49a8-bc47-ceda632c49ba\">\n",
              "    <div class=\"colab-df-container\">\n",
              "      <div>\n",
              "<style scoped>\n",
              "    .dataframe tbody tr th:only-of-type {\n",
              "        vertical-align: middle;\n",
              "    }\n",
              "\n",
              "    .dataframe tbody tr th {\n",
              "        vertical-align: top;\n",
              "    }\n",
              "\n",
              "    .dataframe thead th {\n",
              "        text-align: right;\n",
              "    }\n",
              "</style>\n",
              "<table border=\"1\" class=\"dataframe\">\n",
              "  <thead>\n",
              "    <tr style=\"text-align: right;\">\n",
              "      <th></th>\n",
              "      <th>RowNumber</th>\n",
              "      <th>CustomerId</th>\n",
              "      <th>CreditScore</th>\n",
              "      <th>Age</th>\n",
              "      <th>Tenure</th>\n",
              "      <th>Balance</th>\n",
              "      <th>NumOfProducts</th>\n",
              "      <th>HasCrCard</th>\n",
              "      <th>IsActiveMember</th>\n",
              "      <th>EstimatedSalary</th>\n",
              "      <th>Exited</th>\n",
              "    </tr>\n",
              "  </thead>\n",
              "  <tbody>\n",
              "    <tr>\n",
              "      <th>count</th>\n",
              "      <td>10000.00000</td>\n",
              "      <td>1.000000e+04</td>\n",
              "      <td>10000.000000</td>\n",
              "      <td>10000.000000</td>\n",
              "      <td>10000.000000</td>\n",
              "      <td>10000.000000</td>\n",
              "      <td>10000.000000</td>\n",
              "      <td>10000.00000</td>\n",
              "      <td>10000.000000</td>\n",
              "      <td>10000.000000</td>\n",
              "      <td>10000.000000</td>\n",
              "    </tr>\n",
              "    <tr>\n",
              "      <th>mean</th>\n",
              "      <td>5000.50000</td>\n",
              "      <td>1.569094e+07</td>\n",
              "      <td>650.528800</td>\n",
              "      <td>38.921800</td>\n",
              "      <td>5.012800</td>\n",
              "      <td>76485.889288</td>\n",
              "      <td>1.530200</td>\n",
              "      <td>0.70550</td>\n",
              "      <td>0.515100</td>\n",
              "      <td>100090.239881</td>\n",
              "      <td>0.203700</td>\n",
              "    </tr>\n",
              "    <tr>\n",
              "      <th>std</th>\n",
              "      <td>2886.89568</td>\n",
              "      <td>7.193619e+04</td>\n",
              "      <td>96.653299</td>\n",
              "      <td>10.487806</td>\n",
              "      <td>2.892174</td>\n",
              "      <td>62397.405202</td>\n",
              "      <td>0.581654</td>\n",
              "      <td>0.45584</td>\n",
              "      <td>0.499797</td>\n",
              "      <td>57510.492818</td>\n",
              "      <td>0.402769</td>\n",
              "    </tr>\n",
              "    <tr>\n",
              "      <th>min</th>\n",
              "      <td>1.00000</td>\n",
              "      <td>1.556570e+07</td>\n",
              "      <td>350.000000</td>\n",
              "      <td>18.000000</td>\n",
              "      <td>0.000000</td>\n",
              "      <td>0.000000</td>\n",
              "      <td>1.000000</td>\n",
              "      <td>0.00000</td>\n",
              "      <td>0.000000</td>\n",
              "      <td>11.580000</td>\n",
              "      <td>0.000000</td>\n",
              "    </tr>\n",
              "    <tr>\n",
              "      <th>25%</th>\n",
              "      <td>2500.75000</td>\n",
              "      <td>1.562853e+07</td>\n",
              "      <td>584.000000</td>\n",
              "      <td>32.000000</td>\n",
              "      <td>3.000000</td>\n",
              "      <td>0.000000</td>\n",
              "      <td>1.000000</td>\n",
              "      <td>0.00000</td>\n",
              "      <td>0.000000</td>\n",
              "      <td>51002.110000</td>\n",
              "      <td>0.000000</td>\n",
              "    </tr>\n",
              "    <tr>\n",
              "      <th>50%</th>\n",
              "      <td>5000.50000</td>\n",
              "      <td>1.569074e+07</td>\n",
              "      <td>652.000000</td>\n",
              "      <td>37.000000</td>\n",
              "      <td>5.000000</td>\n",
              "      <td>97198.540000</td>\n",
              "      <td>1.000000</td>\n",
              "      <td>1.00000</td>\n",
              "      <td>1.000000</td>\n",
              "      <td>100193.915000</td>\n",
              "      <td>0.000000</td>\n",
              "    </tr>\n",
              "    <tr>\n",
              "      <th>75%</th>\n",
              "      <td>7500.25000</td>\n",
              "      <td>1.575323e+07</td>\n",
              "      <td>718.000000</td>\n",
              "      <td>44.000000</td>\n",
              "      <td>7.000000</td>\n",
              "      <td>127644.240000</td>\n",
              "      <td>2.000000</td>\n",
              "      <td>1.00000</td>\n",
              "      <td>1.000000</td>\n",
              "      <td>149388.247500</td>\n",
              "      <td>0.000000</td>\n",
              "    </tr>\n",
              "    <tr>\n",
              "      <th>max</th>\n",
              "      <td>10000.00000</td>\n",
              "      <td>1.581569e+07</td>\n",
              "      <td>850.000000</td>\n",
              "      <td>92.000000</td>\n",
              "      <td>10.000000</td>\n",
              "      <td>250898.090000</td>\n",
              "      <td>4.000000</td>\n",
              "      <td>1.00000</td>\n",
              "      <td>1.000000</td>\n",
              "      <td>199992.480000</td>\n",
              "      <td>1.000000</td>\n",
              "    </tr>\n",
              "  </tbody>\n",
              "</table>\n",
              "</div>\n",
              "      <button class=\"colab-df-convert\" onclick=\"convertToInteractive('df-244918f0-a448-49a8-bc47-ceda632c49ba')\"\n",
              "              title=\"Convert this dataframe to an interactive table.\"\n",
              "              style=\"display:none;\">\n",
              "        \n",
              "  <svg xmlns=\"http://www.w3.org/2000/svg\" height=\"24px\"viewBox=\"0 0 24 24\"\n",
              "       width=\"24px\">\n",
              "    <path d=\"M0 0h24v24H0V0z\" fill=\"none\"/>\n",
              "    <path d=\"M18.56 5.44l.94 2.06.94-2.06 2.06-.94-2.06-.94-.94-2.06-.94 2.06-2.06.94zm-11 1L8.5 8.5l.94-2.06 2.06-.94-2.06-.94L8.5 2.5l-.94 2.06-2.06.94zm10 10l.94 2.06.94-2.06 2.06-.94-2.06-.94-.94-2.06-.94 2.06-2.06.94z\"/><path d=\"M17.41 7.96l-1.37-1.37c-.4-.4-.92-.59-1.43-.59-.52 0-1.04.2-1.43.59L10.3 9.45l-7.72 7.72c-.78.78-.78 2.05 0 2.83L4 21.41c.39.39.9.59 1.41.59.51 0 1.02-.2 1.41-.59l7.78-7.78 2.81-2.81c.8-.78.8-2.07 0-2.86zM5.41 20L4 18.59l7.72-7.72 1.47 1.35L5.41 20z\"/>\n",
              "  </svg>\n",
              "      </button>\n",
              "      \n",
              "  <style>\n",
              "    .colab-df-container {\n",
              "      display:flex;\n",
              "      flex-wrap:wrap;\n",
              "      gap: 12px;\n",
              "    }\n",
              "\n",
              "    .colab-df-convert {\n",
              "      background-color: #E8F0FE;\n",
              "      border: none;\n",
              "      border-radius: 50%;\n",
              "      cursor: pointer;\n",
              "      display: none;\n",
              "      fill: #1967D2;\n",
              "      height: 32px;\n",
              "      padding: 0 0 0 0;\n",
              "      width: 32px;\n",
              "    }\n",
              "\n",
              "    .colab-df-convert:hover {\n",
              "      background-color: #E2EBFA;\n",
              "      box-shadow: 0px 1px 2px rgba(60, 64, 67, 0.3), 0px 1px 3px 1px rgba(60, 64, 67, 0.15);\n",
              "      fill: #174EA6;\n",
              "    }\n",
              "\n",
              "    [theme=dark] .colab-df-convert {\n",
              "      background-color: #3B4455;\n",
              "      fill: #D2E3FC;\n",
              "    }\n",
              "\n",
              "    [theme=dark] .colab-df-convert:hover {\n",
              "      background-color: #434B5C;\n",
              "      box-shadow: 0px 1px 3px 1px rgba(0, 0, 0, 0.15);\n",
              "      filter: drop-shadow(0px 1px 2px rgba(0, 0, 0, 0.3));\n",
              "      fill: #FFFFFF;\n",
              "    }\n",
              "  </style>\n",
              "\n",
              "      <script>\n",
              "        const buttonEl =\n",
              "          document.querySelector('#df-244918f0-a448-49a8-bc47-ceda632c49ba button.colab-df-convert');\n",
              "        buttonEl.style.display =\n",
              "          google.colab.kernel.accessAllowed ? 'block' : 'none';\n",
              "\n",
              "        async function convertToInteractive(key) {\n",
              "          const element = document.querySelector('#df-244918f0-a448-49a8-bc47-ceda632c49ba');\n",
              "          const dataTable =\n",
              "            await google.colab.kernel.invokeFunction('convertToInteractive',\n",
              "                                                     [key], {});\n",
              "          if (!dataTable) return;\n",
              "\n",
              "          const docLinkHtml = 'Like what you see? Visit the ' +\n",
              "            '<a target=\"_blank\" href=https://colab.research.google.com/notebooks/data_table.ipynb>data table notebook</a>'\n",
              "            + ' to learn more about interactive tables.';\n",
              "          element.innerHTML = '';\n",
              "          dataTable['output_type'] = 'display_data';\n",
              "          await google.colab.output.renderOutput(dataTable, element);\n",
              "          const docLink = document.createElement('div');\n",
              "          docLink.innerHTML = docLinkHtml;\n",
              "          element.appendChild(docLink);\n",
              "        }\n",
              "      </script>\n",
              "    </div>\n",
              "  </div>\n",
              "  "
            ],
            "text/plain": [
              "         RowNumber    CustomerId  ...  EstimatedSalary        Exited\n",
              "count  10000.00000  1.000000e+04  ...     10000.000000  10000.000000\n",
              "mean    5000.50000  1.569094e+07  ...    100090.239881      0.203700\n",
              "std     2886.89568  7.193619e+04  ...     57510.492818      0.402769\n",
              "min        1.00000  1.556570e+07  ...        11.580000      0.000000\n",
              "25%     2500.75000  1.562853e+07  ...     51002.110000      0.000000\n",
              "50%     5000.50000  1.569074e+07  ...    100193.915000      0.000000\n",
              "75%     7500.25000  1.575323e+07  ...    149388.247500      0.000000\n",
              "max    10000.00000  1.581569e+07  ...    199992.480000      1.000000\n",
              "\n",
              "[8 rows x 11 columns]"
            ]
          },
          "metadata": {},
          "execution_count": 8
        }
      ]
    },
    {
      "cell_type": "markdown",
      "source": [
        "Tính trung bình điểm CreditScore theo Geography."
      ],
      "metadata": {
        "id": "1nla6-_Ih05s"
      }
    },
    {
      "cell_type": "code",
      "source": [
        "from numpy.ma.extras import average\n",
        "df_churn.groupby('Geography')['CreditScore'].apply(lambda x: average(x))"
      ],
      "metadata": {
        "colab": {
          "base_uri": "https://localhost:8080/"
        },
        "id": "6l2erArLhW5U",
        "outputId": "6d715f3f-b518-49dc-cce3-31f9fc426cce"
      },
      "execution_count": null,
      "outputs": [
        {
          "output_type": "execute_result",
          "data": {
            "text/plain": [
              "Geography\n",
              "France     649.668329\n",
              "Germany    651.453567\n",
              "Spain      651.333872\n",
              "Name: CreditScore, dtype: float64"
            ]
          },
          "metadata": {},
          "execution_count": 12
        }
      ]
    },
    {
      "cell_type": "markdown",
      "source": [
        "Phân đều Age thành 5 nhóm độ tuổi sao cho mỗi nhóm chiếm 20% số quan sát."
      ],
      "metadata": {
        "id": "gWVw3FnEimib"
      }
    },
    {
      "cell_type": "code",
      "source": [
        "df_churn[\"Age\"]"
      ],
      "metadata": {
        "colab": {
          "base_uri": "https://localhost:8080/"
        },
        "id": "RtzpIm7cicPp",
        "outputId": "cf178d0a-856d-4774-d05c-c6337ac2a853"
      },
      "execution_count": null,
      "outputs": [
        {
          "output_type": "execute_result",
          "data": {
            "text/plain": [
              "0       42\n",
              "1       41\n",
              "2       42\n",
              "3       39\n",
              "4       43\n",
              "        ..\n",
              "9995    39\n",
              "9996    35\n",
              "9997    36\n",
              "9998    42\n",
              "9999    28\n",
              "Name: Age, Length: 10000, dtype: int64"
            ]
          },
          "metadata": {},
          "execution_count": 13
        }
      ]
    },
    {
      "cell_type": "code",
      "source": [
        "df_churn[\"Age\"].describe()"
      ],
      "metadata": {
        "colab": {
          "base_uri": "https://localhost:8080/"
        },
        "id": "Z1UvP9yDl0eo",
        "outputId": "ced91831-229a-44dc-da4a-ffab5a62ad71"
      },
      "execution_count": null,
      "outputs": [
        {
          "output_type": "execute_result",
          "data": {
            "text/plain": [
              "count    10000.000000\n",
              "mean        38.921800\n",
              "std         10.487806\n",
              "min         18.000000\n",
              "25%         32.000000\n",
              "50%         37.000000\n",
              "75%         44.000000\n",
              "max         92.000000\n",
              "Name: Age, dtype: float64"
            ]
          },
          "metadata": {},
          "execution_count": 14
        }
      ]
    },
    {
      "cell_type": "code",
      "source": [
        "# Phân đều Age thành 5 nhóm độ tuổi sao cho mỗi nhóm chiếm 20% số quan sát\n",
        "   \n",
        "df_churn[\"Age\"] = pd.cut(x=df_churn['Age'], bins=[18,30,40,60,70,100], labels=[\"young\",\"young middle-aged\",\"middle-aged\",\"old\",\"very old\"])"
      ],
      "metadata": {
        "colab": {
          "base_uri": "https://localhost:8080/",
          "height": 364
        },
        "id": "CEt8Xmyxl4qN",
        "outputId": "83196f4b-bc11-43ec-d342-5d67c5aaf0cd"
      },
      "execution_count": null,
      "outputs": [
        {
          "output_type": "error",
          "ename": "TypeError",
          "evalue": "ignored",
          "traceback": [
            "\u001b[0;31m---------------------------------------------------------------------------\u001b[0m",
            "\u001b[0;31mTypeError\u001b[0m                                 Traceback (most recent call last)",
            "\u001b[0;32m<ipython-input-16-6e90a9fcc59e>\u001b[0m in \u001b[0;36m<module>\u001b[0;34m()\u001b[0m\n\u001b[1;32m      1\u001b[0m \u001b[0;31m# Phân đều Age thành 5 nhóm độ tuổi sao cho mỗi nhóm chiếm 20% số quan sát\u001b[0m\u001b[0;34m\u001b[0m\u001b[0;34m\u001b[0m\u001b[0;34m\u001b[0m\u001b[0m\n\u001b[1;32m      2\u001b[0m \u001b[0;34m\u001b[0m\u001b[0m\n\u001b[0;32m----> 3\u001b[0;31m \u001b[0mdf_churn\u001b[0m\u001b[0;34m[\u001b[0m\u001b[0;34m\"Age\"\u001b[0m\u001b[0;34m]\u001b[0m \u001b[0;34m=\u001b[0m \u001b[0mpd\u001b[0m\u001b[0;34m.\u001b[0m\u001b[0mcut\u001b[0m\u001b[0;34m(\u001b[0m\u001b[0mx\u001b[0m\u001b[0;34m=\u001b[0m\u001b[0mdf_churn\u001b[0m\u001b[0;34m[\u001b[0m\u001b[0;34m'Age'\u001b[0m\u001b[0;34m]\u001b[0m\u001b[0;34m,\u001b[0m \u001b[0mbins\u001b[0m\u001b[0;34m=\u001b[0m\u001b[0;34m[\u001b[0m\u001b[0;36m18\u001b[0m\u001b[0;34m,\u001b[0m\u001b[0;36m30\u001b[0m\u001b[0;34m,\u001b[0m\u001b[0;36m40\u001b[0m\u001b[0;34m,\u001b[0m\u001b[0;36m60\u001b[0m\u001b[0;34m,\u001b[0m\u001b[0;36m70\u001b[0m\u001b[0;34m,\u001b[0m\u001b[0;36m100\u001b[0m\u001b[0;34m]\u001b[0m\u001b[0;34m,\u001b[0m \u001b[0mlabels\u001b[0m\u001b[0;34m=\u001b[0m\u001b[0;34m[\u001b[0m\u001b[0;34m\"young\"\u001b[0m\u001b[0;34m,\u001b[0m\u001b[0;34m\"young middle-aged\"\u001b[0m\u001b[0;34m,\u001b[0m\u001b[0;34m\"middle-aged\"\u001b[0m\u001b[0;34m,\u001b[0m\u001b[0;34m\"old\"\u001b[0m\u001b[0;34m,\u001b[0m\u001b[0;34m\"very old\"\u001b[0m\u001b[0;34m]\u001b[0m\u001b[0;34m)\u001b[0m\u001b[0;34m\u001b[0m\u001b[0;34m\u001b[0m\u001b[0m\n\u001b[0m",
            "\u001b[0;32m/usr/local/lib/python3.7/dist-packages/pandas/core/reshape/tile.py\u001b[0m in \u001b[0;36mcut\u001b[0;34m(x, bins, right, labels, retbins, precision, include_lowest, duplicates, ordered)\u001b[0m\n\u001b[1;32m    294\u001b[0m         \u001b[0mdtype\u001b[0m\u001b[0;34m=\u001b[0m\u001b[0mdtype\u001b[0m\u001b[0;34m,\u001b[0m\u001b[0;34m\u001b[0m\u001b[0;34m\u001b[0m\u001b[0m\n\u001b[1;32m    295\u001b[0m         \u001b[0mduplicates\u001b[0m\u001b[0;34m=\u001b[0m\u001b[0mduplicates\u001b[0m\u001b[0;34m,\u001b[0m\u001b[0;34m\u001b[0m\u001b[0;34m\u001b[0m\u001b[0m\n\u001b[0;32m--> 296\u001b[0;31m         \u001b[0mordered\u001b[0m\u001b[0;34m=\u001b[0m\u001b[0mordered\u001b[0m\u001b[0;34m,\u001b[0m\u001b[0;34m\u001b[0m\u001b[0;34m\u001b[0m\u001b[0m\n\u001b[0m\u001b[1;32m    297\u001b[0m     )\n\u001b[1;32m    298\u001b[0m \u001b[0;34m\u001b[0m\u001b[0m\n",
            "\u001b[0;32m/usr/local/lib/python3.7/dist-packages/pandas/core/reshape/tile.py\u001b[0m in \u001b[0;36m_bins_to_cuts\u001b[0;34m(x, bins, right, labels, precision, include_lowest, dtype, duplicates, ordered)\u001b[0m\n\u001b[1;32m    419\u001b[0m \u001b[0;34m\u001b[0m\u001b[0m\n\u001b[1;32m    420\u001b[0m     \u001b[0mside\u001b[0m \u001b[0;34m=\u001b[0m \u001b[0;34m\"left\"\u001b[0m \u001b[0;32mif\u001b[0m \u001b[0mright\u001b[0m \u001b[0;32melse\u001b[0m \u001b[0;34m\"right\"\u001b[0m\u001b[0;34m\u001b[0m\u001b[0;34m\u001b[0m\u001b[0m\n\u001b[0;32m--> 421\u001b[0;31m     \u001b[0mids\u001b[0m \u001b[0;34m=\u001b[0m \u001b[0mensure_platform_int\u001b[0m\u001b[0;34m(\u001b[0m\u001b[0mbins\u001b[0m\u001b[0;34m.\u001b[0m\u001b[0msearchsorted\u001b[0m\u001b[0;34m(\u001b[0m\u001b[0mx\u001b[0m\u001b[0;34m,\u001b[0m \u001b[0mside\u001b[0m\u001b[0;34m=\u001b[0m\u001b[0mside\u001b[0m\u001b[0;34m)\u001b[0m\u001b[0;34m)\u001b[0m\u001b[0;34m\u001b[0m\u001b[0;34m\u001b[0m\u001b[0m\n\u001b[0m\u001b[1;32m    422\u001b[0m \u001b[0;34m\u001b[0m\u001b[0m\n\u001b[1;32m    423\u001b[0m     \u001b[0;32mif\u001b[0m \u001b[0minclude_lowest\u001b[0m\u001b[0;34m:\u001b[0m\u001b[0;34m\u001b[0m\u001b[0;34m\u001b[0m\u001b[0m\n",
            "\u001b[0;31mTypeError\u001b[0m: '<' not supported between instances of 'int' and 'str'"
          ]
        }
      ]
    },
    {
      "cell_type": "code",
      "source": [
        "df_churn[\"Age\"].unique()"
      ],
      "metadata": {
        "colab": {
          "base_uri": "https://localhost:8080/"
        },
        "id": "2YkunNpVmFlj",
        "outputId": "4b196af5-ee09-45f4-cf9f-d85cd52f4574"
      },
      "execution_count": null,
      "outputs": [
        {
          "output_type": "execute_result",
          "data": {
            "text/plain": [
              "['middle-aged', 'young middle-aged', 'young', 'old', 'very old', NaN]\n",
              "Categories (5, object): ['young' < 'young middle-aged' < 'middle-aged' < 'old' < 'very old']"
            ]
          },
          "metadata": {},
          "execution_count": 17
        }
      ]
    },
    {
      "cell_type": "markdown",
      "source": [
        "Vẽ biểu đồ barchart thống kê số lượng khách hàng theo nhóm độ tuổi vừa tạo được."
      ],
      "metadata": {
        "id": "hhkMFCNYmXm7"
      }
    },
    {
      "cell_type": "code",
      "source": [
        "\n",
        "df_churn[\"Age\"].hist()"
      ],
      "metadata": {
        "colab": {
          "base_uri": "https://localhost:8080/",
          "height": 280
        },
        "id": "3Qv0elPemalC",
        "outputId": "3f4fb326-0b3a-4245-b160-0f542c8ba6af"
      },
      "execution_count": null,
      "outputs": [
        {
          "output_type": "execute_result",
          "data": {
            "text/plain": [
              "<matplotlib.axes._subplots.AxesSubplot at 0x7f5ac2aefb50>"
            ]
          },
          "metadata": {},
          "execution_count": 18
        },
        {
          "output_type": "display_data",
          "data": {
            "image/png": "[encoded data removed]",
            "text/plain": [
              "<Figure size 432x288 with 1 Axes>"
            ]
          },
          "metadata": {
            "needs_background": "light"
          }
        }
      ]
    },
    {
      "cell_type": "markdown",
      "source": [
        "# NUMPY HOMEWORK\n",
        "\n"
      ],
      "metadata": {
        "id": "CEj-KRhymqUG"
      }
    },
    {
      "cell_type": "code",
      "source": [
        "import numpy as np\n",
        "\n",
        "A = np.array([[10, 1, 2],\n",
        "              [9, 7, 4],\n",
        "              [0, 2, 1]])\n",
        "\n",
        "B = np.array([[2, 3, 4],\n",
        "              [0, 4, 2],\n",
        "              [3, 2, 1]])"
      ],
      "metadata": {
        "id": "WCQsBmrgmyaE"
      },
      "execution_count": null,
      "outputs": []
    },
    {
      "cell_type": "code",
      "source": [
        "A.T"
      ],
      "metadata": {
        "colab": {
          "base_uri": "https://localhost:8080/"
        },
        "id": "LvFd8ZrUoF8y",
        "outputId": "b20801dd-f831-4565-e805-a81379a13c1a"
      },
      "execution_count": null,
      "outputs": [
        {
          "output_type": "execute_result",
          "data": {
            "text/plain": [
              "array([[10,  9,  0],\n",
              "       [ 1,  7,  2],\n",
              "       [ 2,  4,  1]])"
            ]
          },
          "metadata": {},
          "execution_count": 23
        }
      ]
    },
    {
      "cell_type": "code",
      "source": [
        "B.T"
      ],
      "metadata": {
        "colab": {
          "base_uri": "https://localhost:8080/"
        },
        "id": "3EvCSGbooL1O",
        "outputId": "c2b3ae9d-84a6-4ebe-f543-d5181960f7c6"
      },
      "execution_count": null,
      "outputs": [
        {
          "output_type": "execute_result",
          "data": {
            "text/plain": [
              "array([[2, 0, 3],\n",
              "       [3, 4, 2],\n",
              "       [4, 2, 1]])"
            ]
          },
          "metadata": {},
          "execution_count": 24
        }
      ]
    },
    {
      "cell_type": "code",
      "source": [
        "# Tich AB \n",
        "M= A@B \n",
        "\n",
        "# Tich BA(t)AB(t)\n",
        "N = B@A.T@A@B.T\n",
        "\n",
        "#Tich AB(t)BA(t)\n",
        "NN = A@B.T@B@A.T"
      ],
      "metadata": {
        "id": "ezPhuWDVnG4s"
      },
      "execution_count": null,
      "outputs": []
    },
    {
      "cell_type": "code",
      "source": [
        "N\n"
      ],
      "metadata": {
        "colab": {
          "base_uri": "https://localhost:8080/"
        },
        "id": "stv1Qxn8n9na",
        "outputId": "d91bcc93-aba5-493a-bc73-4d264829fef5"
      },
      "execution_count": null,
      "outputs": [
        {
          "output_type": "execute_result",
          "data": {
            "text/plain": [
              "array([[4086, 2328, 3579],\n",
              "       [2328, 1460, 1942],\n",
              "       [3579, 1942, 3206]])"
            ]
          },
          "metadata": {},
          "execution_count": 21
        }
      ]
    },
    {
      "cell_type": "code",
      "source": [
        "NN"
      ],
      "metadata": {
        "colab": {
          "base_uri": "https://localhost:8080/"
        },
        "id": "TAkbMQPGn_wD",
        "outputId": "3563f893-034a-4ffb-e732-5141526ca3b9"
      },
      "execution_count": null,
      "outputs": [
        {
          "output_type": "execute_result",
          "data": {
            "text/plain": [
              "array([[2181, 3523,  560],\n",
              "       [3523, 6346, 1135],\n",
              "       [ 560, 1135,  225]])"
            ]
          },
          "metadata": {},
          "execution_count": 22
        }
      ]
    },
    {
      "cell_type": "markdown",
      "source": [
        "Nhận xét gì về kết quả của biểu thức 3 và biểu thức 2?\n",
        "\n",
        "\n",
        "ket qua cua bieu thuc 3 va bieu thuc 2 khac nhau. "
      ],
      "metadata": {
        "id": "ZmTezouCn7u_"
      }
    },
    {
      "cell_type": "code",
      "source": [
        "# rank(A)\n",
        "print('rank(A)',np.linalg.matrix_rank(A))\n",
        "\n",
        "# det(A)\n",
        "print('det(A)',np.linalg.det(A))\n",
        "\n",
        "# trace(A)\n",
        "print(\"trace of A: \", np.trace(A))\n",
        "# A^(-1)\n",
        "\n",
        "print(\"Inverse A:\\n \",np.linalg.pinv(A))"
      ],
      "metadata": {
        "colab": {
          "base_uri": "https://localhost:8080/"
        },
        "id": "CvipjgxMBXA6",
        "outputId": "14f6a18e-5b25-45d8-fc66-266d311136d3"
      },
      "execution_count": null,
      "outputs": [
        {
          "output_type": "stream",
          "name": "stdout",
          "text": [
            "rank(A) 3\n",
            "det(A) 16.999999999999993\n",
            "trace of A:  18\n",
            "Inverse A:\n",
            "  [[-0.05882353  0.17647059 -0.58823529]\n",
            " [-0.52941176  0.58823529 -1.29411765]\n",
            " [ 1.05882353 -1.17647059  3.58823529]]\n"
          ]
        }
      ]
    },
    {
      "cell_type": "code",
      "source": [
        "# - concatenate ma trận A và ma trận B theo dòng.\n",
        "# Stack theo chiều horizontal\n",
        "print(np.hstack([A, B]).shape)\n",
        "# AB = np.concatenate((A, B), axis=1)\n",
        "# print(\"shape after concatenate: \", AB.shape)\n",
        "\n",
        "# - Reshape ma trận A thành véc tơ\n",
        "print(\"A.shape: \", A.shape)"
      ],
      "metadata": {
        "colab": {
          "base_uri": "https://localhost:8080/"
        },
        "id": "ni82-w2yEqtZ",
        "outputId": "ac9880da-1dae-45ba-bc5b-103f6e5f6e30"
      },
      "execution_count": null,
      "outputs": [
        {
          "output_type": "stream",
          "name": "stdout",
          "text": [
            "(3, 6)\n",
            "shape after concatenate:  (3, 6)\n",
            "A.shape:  (3, 3)\n"
          ]
        }
      ]
    },
    {
      "cell_type": "code",
      "source": [
        "A"
      ],
      "metadata": {
        "colab": {
          "base_uri": "https://localhost:8080/"
        },
        "id": "_Ja_EY_zJJLk",
        "outputId": "392da4e7-b64d-407c-bee2-6cc5fe4f33c0"
      },
      "execution_count": null,
      "outputs": [
        {
          "output_type": "execute_result",
          "data": {
            "text/plain": [
              "array([[10,  1,  2],\n",
              "       [ 9,  7,  4],\n",
              "       [ 0,  2,  1]])"
            ]
          },
          "metadata": {},
          "execution_count": 35
        }
      ]
    },
    {
      "cell_type": "code",
      "source": [
        "\n",
        "# Phân phối xác suất sau khi đi qua hàm softmax các dòng của A\n",
        "E = np.exp(A)\n",
        "P = []\n",
        "\n",
        "for i in range(E.shape[0]):\n",
        "  Ei = E[i, :]\n",
        "  pi = Ei/np.sum(Ei)\n",
        "  P.append(pi)\n",
        "\n",
        "P = np.array(P)\n",
        "print('Matrix Phân phối xác suất P:',P)\n",
        "# Tìm ra nhãn dự báo cho mỗi dòng.\n",
        "print('indice có giá trị lớn nhất của A row 1',np.argmax(A, axis=1))\n",
        "print('indice có giá trị nho nhất của A row 1',np.argmin(A, axis=1))\n",
        "\n",
        "# Tính tổng, trung bình, min, max của mỗi dòng.\n",
        "print('max row 1 cua A:',A.max(axis=1))\n",
        "print('min row 1 cua A:',A.min(axis=1))\n",
        "print('mean row 1 cua A:', A.mean(axis=1))\n",
        "print('sum row 1 cua A:', A.sum(axis=1))"
      ],
      "metadata": {
        "colab": {
          "base_uri": "https://localhost:8080/"
        },
        "id": "iz7Y52X9FrNs",
        "outputId": "8fd8f7fb-a294-4c18-d180-b28301167e1a"
      },
      "execution_count": null,
      "outputs": [
        {
          "output_type": "stream",
          "name": "stdout",
          "text": [
            "Matrix Phân phối xác suất P: [[9.99541338e-01 1.23353201e-04 3.35308764e-04]\n",
            " [8.75600595e-01 1.18499655e-01 5.89975040e-03]\n",
            " [9.00305732e-02 6.65240956e-01 2.44728471e-01]]\n",
            "indice có giá trị lớn nhất của A row 1 [0 0 1]\n",
            "indice có giá trị nho nhất của A row 1 [1 2 0]\n",
            "max row 1 cua A: [10  9  2]\n",
            "min row 1 cua A: [1 4 0]\n",
            "mean row 1 cua A: [4.33333333 6.66666667 1.        ]\n",
            "sum row 1 cua A: [13 20  3]\n"
          ]
        }
      ]
    }
  ]
}