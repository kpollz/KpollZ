{
  "nbformat": 4,
  "nbformat_minor": 0,
  "metadata": {
    "colab": {
      "name": "3.PytorchHomeWork_HauTran.ipynb",
      "provenance": [],
      "collapsed_sections": []
    },
    "kernelspec": {
      "name": "python3",
      "display_name": "Python 3"
    },
    "language_info": {
      "name": "python"
    }
  },
  "cells": [
    {
      "cell_type": "markdown",
      "source": [
        "# 1. Lý thuyết\n",
        "\n",
        "**1) Để khởi tạo model trong pytorch chúng ta sử dụng class nào?**\n",
        "\n",
        "A. nn.Module\n",
        "\n",
        "B. nn.Dense\n",
        "\n",
        "C. nn.optim.Adam\n",
        "\n",
        "D. nn.Dropout\n",
        "\n",
        "Đáp án: A\n",
        "\n",
        "**2) Để khởi tạo mạng neural network trong pytorch chúng ta cần làm gì ?**\n",
        "\n",
        "A. Kế thừa lại class `nn.Model`. Khởi tạo các layers trong hàm tạo `__init__()` và sử dụng các layers để tính toán dữ liệu trong hàm `forward()`.\n",
        "\n",
        "B. Khởi tạo một object của class `nn.Model` và sử dụng hàm `add()` để thêm từng layer vào mô hình.\n",
        "\n",
        "C. Sử dụng class `nn.Model` để khởi tạo mô hình. Truyền vào bên trong class này một list gồm các layers.\n",
        "\n",
        "D. Kế thừa lại class `nn.Module`. Khởi tạo các layers trong hàm tạo `__init__()` và sử dụng các layers để tính toán dữ liệu trong hàm `forward()`.\n",
        "\n",
        "Đáp án: D\n",
        "\n",
        "**3) Các modules chính trong pytorch dùng để xây dựng và huấn luyện model.**\n",
        "\n",
        "A. `torch.nn`: Dùng để khởi tạo các layers và activations function và loss function, `torch.optim`: Khởi tạo optimizer, `torch.data`: Khởi tạo dataset và dataloader.\n",
        "\n",
        "B. `torch.nn`: Dùng để khởi tạo các layers và activations function và loss function, `torch.optim`: Khởi tạo optimizer, `torch.utils.data`: Khởi tạo dataset và dataloader.\n",
        "\n",
        "C. `torch.nn`: Dùng để khởi tạo các layers và activations function, `torch.optim`: Khởi tạo optimizer, `torch.data`: Khởi tạo dataset và dataloader, `torch.loss`: Khởi tạo loss function.\n",
        "\n",
        "D. `torch.nn`: Dùng để khởi tạo các layers và loss function, `torch.optim`: Khởi tạo optimizer, `torch.data`: Khởi tạo dataset và dataloader, `torch.activations`: Khởi tạo activations function.\n",
        "\n",
        "Đáp án: B\n",
        "\n",
        "**4) Để customize một Dataset trên pytorch chúng ta cần thực hiện như thế nào?**\n",
        "\n",
        "A. Sử dụng thuộc tính `transformer` để qui định các biến đổi trên dữ liệu. Những biến đổi này được thực hiện trên hàm tạo.\n",
        "\n",
        "B. Khởi tạo một class kế thừa lại `torch.utils.data.Dataset`. Khai báo các thuộc tính cần sử dụng trong hàm tạo của dataset như list đường dẫn, list label. Override lại hàm `__getitem__()` để thực hiện các xử lý trên dữ liệu.\n",
        "\n",
        "C. Kế thừa lại một class `Dataset`. Các điều chỉnh trên dữ liệu được thực hiện trên hàm `transformer()`.\n",
        "\n",
        "D. Sử dụng hàm `__getitem__()` để trả về toàn bộ các quan sát khi huấn luyện. \n",
        "\n",
        "Đáp án: B\n",
        "\n",
        "**5) Ý nghĩa của tham số epochs và batch_size trong huấn luyện mô hình là gì?**\n",
        "\n",
        "A. epochs là kích thước của một mini-batch, batch_size là số lượt lặp lại toàn bộ dữ liệu khi huấn luyện.\n",
        "\n",
        "B. epochs là số lượt lặp lại toàn bộ dữ liệu validation khi huấn luyện, batch_size là kích thước của một mini-batch.\n",
        "\n",
        "C. epochs là số lượt lặp lại toàn bộ dữ liệu train khi huấn luyện, batch_size là kích thước của một mini-batch.\n",
        "\n",
        "D. epochs là số lượng vòng lặp, mỗi vòng lặp là một lượt fit mini-batch, trên bộ dữ liệu khi huấn luyện; batch_size là kích thước của một mini-batch.\n",
        "\n",
        "Đáp án: C"
      ],
      "metadata": {
        "id": "DUXbtwUsAGPq"
      }
    },
    {
      "cell_type": "markdown",
      "source": [
        "# 2. Thực hành\n",
        "\n",
        "6) Khởi tạo một tensor 3 chiều với định dạng là float và kích thước là 32x32x3\n",
        "\n",
        "7) Nếu coi tensor trên là một bức ảnh RGB với số channel là 3 ở cuối. Hãy truy suất các ma trận ảnh tương ứng với mỗi kênh R, G, B.\n",
        "\n",
        "8) Thực hiện tích hadamard và tích thông thường giữa ma trận R và G.\n",
        "\n",
        "9) Từ bộ dữ liệu [Income-Classification](https://www.kaggle.com/t/090688c8d33a40b68be9e271d6ba6bae) hãy chuẩn hóa dữ liệu và phân chia tập train/test theo tỷ lệ 80/20. \n",
        "\n",
        "10) Xây dựng một mạng deep-neural-network để huấn luyện mô hình trên dữ liệu train và đánh giá mô hình trên dữ liệu test.\n"
      ],
      "metadata": {
        "id": "LzLjMsckAJAT"
      }
    },
    {
      "cell_type": "markdown",
      "source": [
        "6) Khởi tạo một tensor 3 chiều với định dạng là float và kích thước là 32x32x3"
      ],
      "metadata": {
        "id": "jQaw6clXIgJr"
      }
    },
    {
      "cell_type": "code",
      "source": [
        "import torch\n",
        "\n",
        "A = torch.randn(size=[3, 32, 32], dtype=torch.float)\n",
        "A.size()"
      ],
      "metadata": {
        "colab": {
          "base_uri": "https://localhost:8080/"
        },
        "id": "_SY5Yk60Evbu",
        "outputId": "0e938fa0-d7d5-4977-eb5a-30add7e78165"
      },
      "execution_count": null,
      "outputs": [
        {
          "output_type": "execute_result",
          "data": {
            "text/plain": [
              "torch.Size([3, 32, 32])"
            ]
          },
          "metadata": {},
          "execution_count": 1
        }
      ]
    },
    {
      "cell_type": "markdown",
      "source": [
        "7) Nếu coi tensor trên là một bức ảnh RGB với số channel là 3 ở cuối. Hãy truy suất các ma trận ảnh tương ứng với mỗi kênh R, G, B."
      ],
      "metadata": {
        "id": "-ctHiLa3Ings"
      }
    },
    {
      "cell_type": "code",
      "source": [
        "R = A[ :1, : , :]\n",
        "G = A[1:2, : , :]\n",
        "B = A[-1:, : , :]"
      ],
      "metadata": {
        "id": "fwysRifNIo5_"
      },
      "execution_count": null,
      "outputs": []
    },
    {
      "cell_type": "markdown",
      "source": [
        "8) Thực hiện tích hadamard và tích thông thường giữa ma trận R và G."
      ],
      "metadata": {
        "id": "w-B77S-sIpZ4"
      }
    },
    {
      "cell_type": "code",
      "source": [
        "#hadamard\n",
        "hadamard = R*G\n",
        "print(hadamard.shape)\n",
        "#normal\n",
        "normal = R@G\n",
        "print(normal.shape)"
      ],
      "metadata": {
        "colab": {
          "base_uri": "https://localhost:8080/"
        },
        "id": "lxIQJTMkItQi",
        "outputId": "8261d608-2ae5-4e94-912b-07a9abef714d"
      },
      "execution_count": null,
      "outputs": [
        {
          "output_type": "stream",
          "name": "stdout",
          "text": [
            "torch.Size([1, 32, 32])\n",
            "torch.Size([1, 32, 32])\n"
          ]
        }
      ]
    },
    {
      "cell_type": "markdown",
      "source": [
        "9) Từ bộ dữ liệu Income-Classification hãy chuẩn hóa dữ liệu và phân chia tập train/test theo tỷ lệ 80/20."
      ],
      "metadata": {
        "id": "6w7sy1M2ItYd"
      }
    },
    {
      "cell_type": "code",
      "source": [
        "from google.colab import drive\n",
        "drive.mount('/content/drive')\n",
        "\n",
        "import os\n",
        "os.chdir(\"/content/drive/MyDrive/DL/3.PytorchHomeWork_HauTran\")"
      ],
      "metadata": {
        "colab": {
          "base_uri": "https://localhost:8080/"
        },
        "id": "tzMAcISwEUhJ",
        "outputId": "fc5111eb-ff8d-4154-806d-4a4c653e170d"
      },
      "execution_count": null,
      "outputs": [
        {
          "output_type": "stream",
          "name": "stdout",
          "text": [
            "Drive already mounted at /content/drive; to attempt to forcibly remount, call drive.mount(\"/content/drive\", force_remount=True).\n"
          ]
        }
      ]
    },
    {
      "cell_type": "code",
      "source": [
        "import numpy as np\n",
        "import random\n",
        "def seed_all(seed):\n",
        "  np.random.seed(seed)\n",
        "  random.seed(seed)\n",
        "seed = 33\n",
        "seed_all(seed)"
      ],
      "metadata": {
        "id": "8ehaZItqKx4m"
      },
      "execution_count": null,
      "outputs": []
    },
    {
      "cell_type": "code",
      "source": [
        "import re\n",
        "import pandas as pd\n",
        "income_data = pd.read_csv('data/train.csv').dropna()"
      ],
      "metadata": {
        "id": "pTH6PGHZEkQP"
      },
      "execution_count": null,
      "outputs": []
    },
    {
      "cell_type": "code",
      "source": [
        "#normalize string\n",
        "def string_normalize(s):\n",
        "  s = str(s).lower().strip()\n",
        "  s = re.sub(' +', ' ', s)\n",
        "  return s\n",
        "#encode category and object colums\n",
        "def process(df):\n",
        "  for col in df.columns:\n",
        "    if df[col].dtype.name =='object' or df[col].dtype.name =='category':\n",
        "      df[col] = df[col].apply(string_normalize).astype(\"category\")\n",
        "  return df\n",
        "income_data = process(income_data.copy())"
      ],
      "metadata": {
        "id": "BteHqr4AEqRp"
      },
      "execution_count": null,
      "outputs": []
    },
    {
      "cell_type": "code",
      "source": [
        "IDs = income_data.pop('ID')\n",
        "label = income_data.pop('target_income')\n",
        "income_data_one_hot = pd.get_dummies(income_data)"
      ],
      "metadata": {
        "id": "QdAvLkYBOmeX"
      },
      "execution_count": null,
      "outputs": []
    },
    {
      "cell_type": "code",
      "source": [
        "features = income_data_one_hot.columns.tolist()\n",
        "label = (label.values).reshape(-1,1)"
      ],
      "metadata": {
        "id": "9B8TY_ozM4OB"
      },
      "execution_count": null,
      "outputs": []
    },
    {
      "cell_type": "code",
      "source": [
        "from sklearn.preprocessing import LabelEncoder\n",
        "from sklearn.preprocessing import StandardScaler\n",
        "from sklearn.model_selection import train_test_split\n",
        "\n",
        "x_train, x_test, y_train, y_test = train_test_split(income_data_one_hot[features].values,\n",
        "                                                    label,\n",
        "                                                    test_size = 0.2,\n",
        "                                                    random_state = 0)\n",
        "print ('Training Set: %d, Test Set: %d \\n' % (len(x_train), len(x_test)))\n",
        "\n",
        "#normalize\n",
        "sc = StandardScaler()\n",
        "x_train = sc.fit_transform(x_train)\n",
        "x_test = sc.transform(x_test)"
      ],
      "metadata": {
        "colab": {
          "base_uri": "https://localhost:8080/"
        },
        "id": "-hiL1SiGvZOG",
        "outputId": "2f77f95b-9a43-42d6-cd32-3b5e630e4ea5"
      },
      "execution_count": null,
      "outputs": [
        {
          "output_type": "stream",
          "name": "stdout",
          "text": [
            "Training Set: 20000, Test Set: 5000 \n",
            "\n"
          ]
        }
      ]
    },
    {
      "cell_type": "code",
      "source": [
        "!pip freeze | grep torch"
      ],
      "metadata": {
        "colab": {
          "base_uri": "https://localhost:8080/"
        },
        "id": "HG8zsr_gwPip",
        "outputId": "3269a9ed-8db0-4cde-fd39-3a0ea35c3190"
      },
      "execution_count": null,
      "outputs": [
        {
          "output_type": "stream",
          "name": "stdout",
          "text": [
            "torch @ https://download.pytorch.org/whl/cu111/torch-1.10.0%2Bcu111-cp37-cp37m-linux_x86_64.whl\n",
            "torchaudio @ https://download.pytorch.org/whl/cu111/torchaudio-0.10.0%2Bcu111-cp37-cp37m-linux_x86_64.whl\n",
            "torchsummary==1.5.1\n",
            "torchtext==0.11.0\n",
            "torchvision @ https://download.pytorch.org/whl/cu111/torchvision-0.11.1%2Bcu111-cp37-cp37m-linux_x86_64.whl\n"
          ]
        }
      ]
    },
    {
      "cell_type": "code",
      "source": [
        "import torch\n",
        "import torch.nn as nn\n",
        "import torch.utils.data as td\n",
        "\n",
        "# Set random seed for reproducability\n",
        "torch.manual_seed(0)\n",
        "\n",
        "print(\"Libraries imported - ready to use PyTorch\", torch.__version__)"
      ],
      "metadata": {
        "colab": {
          "base_uri": "https://localhost:8080/"
        },
        "id": "nRZZFYV5wetw",
        "outputId": "74ad7405-b444-4676-f122-9acbb18503ee"
      },
      "execution_count": null,
      "outputs": [
        {
          "output_type": "stream",
          "name": "stdout",
          "text": [
            "Libraries imported - ready to use PyTorch 1.10.0+cu111\n"
          ]
        }
      ]
    },
    {
      "cell_type": "code",
      "source": [
        "#Prepare the data for PyTorch\n",
        "# Create a dataset and loader for the training data and labels\n",
        "train_x = torch.Tensor(x_train).float()\n",
        "train_y = torch.Tensor(y_train).float()\n",
        "train_ds = td.TensorDataset(train_x,train_y)\n",
        "train_loader = td.DataLoader(train_ds, batch_size=1000,\n",
        "    shuffle=True)\n",
        "\n",
        "# Create a dataset and loader for the test data and labels\n",
        "test_x = torch.Tensor(x_test).float()\n",
        "test_y = torch.Tensor(y_test).float()\n",
        "test_ds = td.TensorDataset(test_x,test_y)\n",
        "test_loader = td.DataLoader(test_ds, batch_size=1000,\n",
        "    shuffle=False)\n",
        "print('Ready to load data')"
      ],
      "metadata": {
        "colab": {
          "base_uri": "https://localhost:8080/"
        },
        "id": "jyOdnRVgwl5O",
        "outputId": "4bf77ffd-40b1-47d5-b525-34940af7f52f"
      },
      "execution_count": null,
      "outputs": [
        {
          "output_type": "stream",
          "name": "stdout",
          "text": [
            "Ready to load data\n"
          ]
        }
      ]
    },
    {
      "cell_type": "markdown",
      "source": [
        "10) Xây dựng một mạng deep-neural-network để huấn luyện mô hình trên dữ liệu train và đánh giá mô hình trên dữ liệu test."
      ],
      "metadata": {
        "id": "vOZfv2yZUee-"
      }
    },
    {
      "cell_type": "code",
      "source": [
        "# Define a neural network\n",
        "# Number of hidden layer nodes\n",
        "hl = 10\n",
        "\n",
        "# Define the neural network\n",
        "class Income(nn.Module):\n",
        "    def __init__(self):\n",
        "        super(Income, self).__init__()\n",
        "        self.fc1 = nn.Linear(len(features), hl)\n",
        "        self.fc2 = nn.Linear(hl, hl)\n",
        "        self.fc3 = nn.Linear(hl, 1)\n",
        "\n",
        "    def forward(self, x):\n",
        "        x = torch.sigmoid(self.fc1(x))\n",
        "        x = torch.sigmoid(self.fc2(x))\n",
        "        x = torch.sigmoid(self.fc3(x))\n",
        "        return x\n",
        "\n",
        "# Create a model instance from the network\n",
        "model = Income()\n",
        "print(model)"
      ],
      "metadata": {
        "colab": {
          "base_uri": "https://localhost:8080/"
        },
        "id": "Jf4Dq9-Pyfxq",
        "outputId": "8c4aefcf-d4d8-429a-8e1d-46562a96afde"
      },
      "execution_count": null,
      "outputs": [
        {
          "output_type": "stream",
          "name": "stdout",
          "text": [
            "Income(\n",
            "  (fc1): Linear(in_features=108, out_features=10, bias=True)\n",
            "  (fc2): Linear(in_features=10, out_features=10, bias=True)\n",
            "  (fc3): Linear(in_features=10, out_features=1, bias=True)\n",
            ")\n"
          ]
        }
      ]
    },
    {
      "cell_type": "code",
      "source": [
        "import time\n",
        "def train(model, data_loader, optimizer):\n",
        "    # Set the model to training mode\n",
        "    model.train()\n",
        "    train_loss = 0\n",
        "    \n",
        "    for batch, tensor in enumerate(data_loader):\n",
        "        data, target = tensor\n",
        "\n",
        "        #feedforward: calculate y_pred and loss function\n",
        "        optimizer.zero_grad()\n",
        "        out = model(data)\n",
        "\n",
        "        loss = loss_criteria(out, target)\n",
        "        train_loss += loss.item()\n",
        "\n",
        "        # backpropagate: compute gradient descent and update weights\n",
        "        loss.backward()\n",
        "        optimizer.step()\n",
        "\n",
        "    #Return average loss\n",
        "    avg_loss = train_loss / (batch+1)\n",
        "    print('Training set: Average loss: {:.6f}'.format(avg_loss))\n",
        "    return avg_loss\n",
        "           \n",
        "            \n",
        "def test(model, data_loader):\n",
        "    # Switch the model to evaluation mode (so we don't backpropagate)\n",
        "    model.eval()\n",
        "    test_loss = 0\n",
        "    correct = 0\n",
        "\n",
        "    with torch.no_grad():\n",
        "        batch_count = 0\n",
        "        for batch, tensor in enumerate(data_loader):\n",
        "            batch_count += 1\n",
        "            data, target = tensor\n",
        "\n",
        "            # Get the predictions\n",
        "            out = model(data)\n",
        "\n",
        "            # calculate the loss\n",
        "            test_loss += loss_criteria(out, target).item()\n",
        "\n",
        "            # Calculate the accuracy\n",
        "            predicted = (out.data > 0.5)\n",
        "            predicted = predicted.reshape(-1,1)\n",
        "            correct += torch.sum(target==predicted).item()\n",
        "    # Calculate the average loss and total accuracy for this epoch\n",
        "    avg_loss = test_loss/batch_count\n",
        "    print('Validation set: Average loss: {:.6f}, Accuracy: {}/{} ({:.0f}%)\\n'.format(\n",
        "        avg_loss, correct, len(data_loader.dataset),\n",
        "        100. * correct / len(data_loader.dataset)))\n",
        "    \n",
        "    # return average loss for the epoch\n",
        "    return avg_loss\n",
        "#loss funtion\n",
        "loss_criteria = nn.BCELoss()\n",
        "\n",
        "# Use an \"Adam\" optimizer to adjust weights\n",
        "learning_rate = 0.05\n",
        "optimizer = torch.optim.Adagrad(model.parameters(), lr=learning_rate)\n",
        "optimizer.zero_grad()\n",
        "\n",
        "# We'll track metrics for each epoch in these arrays\n",
        "epoch_nums = []\n",
        "training_loss = []\n",
        "validation_loss = []\n",
        "\n",
        "# Train over 50 epochs\n",
        "epochs = 50\n",
        "for epoch in range(1, epochs + 1):\n",
        "\n",
        "    # print the epoch number\n",
        "    print('Epoch: {}'.format(epoch))\n",
        "    \n",
        "    # Feed training data into the model to optimize the weights\n",
        "    train_loss = train(model, train_loader, optimizer)\n",
        "    \n",
        "    # Feed the test data into the model to check its performance\n",
        "    test_loss = test(model, test_loader)\n",
        "    \n",
        "    # Log the metrics for this epoch\n",
        "    epoch_nums.append(epoch)\n",
        "    training_loss.append(train_loss)\n",
        "    validation_loss.append(test_loss)\n"
      ],
      "metadata": {
        "colab": {
          "base_uri": "https://localhost:8080/"
        },
        "id": "3-p5ipm92axo",
        "outputId": "ffb080bb-4a9d-4078-a7c8-9ed383913ff1"
      },
      "execution_count": null,
      "outputs": [
        {
          "output_type": "stream",
          "name": "stdout",
          "text": [
            "Epoch: 1\n",
            "Training set: Average loss: 0.505998\n",
            "Validation set: Average loss: 0.420474, Accuracy: 3811/5000 (76%)\n",
            "\n",
            "Epoch: 2\n",
            "Training set: Average loss: 0.402106\n",
            "Validation set: Average loss: 0.373070, Accuracy: 3811/5000 (76%)\n",
            "\n",
            "Epoch: 3\n",
            "Training set: Average loss: 0.372226\n",
            "Validation set: Average loss: 0.353264, Accuracy: 4235/5000 (85%)\n",
            "\n",
            "Epoch: 4\n",
            "Training set: Average loss: 0.358336\n",
            "Validation set: Average loss: 0.343310, Accuracy: 4241/5000 (85%)\n",
            "\n",
            "Epoch: 5\n",
            "Training set: Average loss: 0.349993\n",
            "Validation set: Average loss: 0.336730, Accuracy: 4239/5000 (85%)\n",
            "\n",
            "Epoch: 6\n",
            "Training set: Average loss: 0.343707\n",
            "Validation set: Average loss: 0.332292, Accuracy: 4248/5000 (85%)\n",
            "\n",
            "Epoch: 7\n",
            "Training set: Average loss: 0.339042\n",
            "Validation set: Average loss: 0.328192, Accuracy: 4254/5000 (85%)\n",
            "\n",
            "Epoch: 8\n",
            "Training set: Average loss: 0.335232\n",
            "Validation set: Average loss: 0.325989, Accuracy: 4254/5000 (85%)\n",
            "\n",
            "Epoch: 9\n",
            "Training set: Average loss: 0.331760\n",
            "Validation set: Average loss: 0.324011, Accuracy: 4254/5000 (85%)\n",
            "\n",
            "Epoch: 10\n",
            "Training set: Average loss: 0.329147\n",
            "Validation set: Average loss: 0.321750, Accuracy: 4264/5000 (85%)\n",
            "\n",
            "Epoch: 11\n",
            "Training set: Average loss: 0.326678\n",
            "Validation set: Average loss: 0.320731, Accuracy: 4266/5000 (85%)\n",
            "\n",
            "Epoch: 12\n",
            "Training set: Average loss: 0.324546\n",
            "Validation set: Average loss: 0.319286, Accuracy: 4264/5000 (85%)\n",
            "\n",
            "Epoch: 13\n",
            "Training set: Average loss: 0.322992\n",
            "Validation set: Average loss: 0.318022, Accuracy: 4265/5000 (85%)\n",
            "\n",
            "Epoch: 14\n",
            "Training set: Average loss: 0.321113\n",
            "Validation set: Average loss: 0.316859, Accuracy: 4265/5000 (85%)\n",
            "\n",
            "Epoch: 15\n",
            "Training set: Average loss: 0.319494\n",
            "Validation set: Average loss: 0.316121, Accuracy: 4274/5000 (85%)\n",
            "\n",
            "Epoch: 16\n",
            "Training set: Average loss: 0.318332\n",
            "Validation set: Average loss: 0.315256, Accuracy: 4269/5000 (85%)\n",
            "\n",
            "Epoch: 17\n",
            "Training set: Average loss: 0.316911\n",
            "Validation set: Average loss: 0.314709, Accuracy: 4272/5000 (85%)\n",
            "\n",
            "Epoch: 18\n",
            "Training set: Average loss: 0.315531\n",
            "Validation set: Average loss: 0.314258, Accuracy: 4267/5000 (85%)\n",
            "\n",
            "Epoch: 19\n",
            "Training set: Average loss: 0.314382\n",
            "Validation set: Average loss: 0.313782, Accuracy: 4276/5000 (86%)\n",
            "\n",
            "Epoch: 20\n",
            "Training set: Average loss: 0.313386\n",
            "Validation set: Average loss: 0.313510, Accuracy: 4270/5000 (85%)\n",
            "\n",
            "Epoch: 21\n",
            "Training set: Average loss: 0.312414\n",
            "Validation set: Average loss: 0.313017, Accuracy: 4274/5000 (85%)\n",
            "\n",
            "Epoch: 22\n",
            "Training set: Average loss: 0.311558\n",
            "Validation set: Average loss: 0.312508, Accuracy: 4275/5000 (86%)\n",
            "\n",
            "Epoch: 23\n",
            "Training set: Average loss: 0.310909\n",
            "Validation set: Average loss: 0.312346, Accuracy: 4274/5000 (85%)\n",
            "\n",
            "Epoch: 24\n",
            "Training set: Average loss: 0.309800\n",
            "Validation set: Average loss: 0.312112, Accuracy: 4273/5000 (85%)\n",
            "\n",
            "Epoch: 25\n",
            "Training set: Average loss: 0.309046\n",
            "Validation set: Average loss: 0.311904, Accuracy: 4277/5000 (86%)\n",
            "\n",
            "Epoch: 26\n",
            "Training set: Average loss: 0.308345\n",
            "Validation set: Average loss: 0.311917, Accuracy: 4271/5000 (85%)\n",
            "\n",
            "Epoch: 27\n",
            "Training set: Average loss: 0.307877\n",
            "Validation set: Average loss: 0.311679, Accuracy: 4274/5000 (85%)\n",
            "\n",
            "Epoch: 28\n",
            "Training set: Average loss: 0.306903\n",
            "Validation set: Average loss: 0.311332, Accuracy: 4273/5000 (85%)\n",
            "\n",
            "Epoch: 29\n",
            "Training set: Average loss: 0.306311\n",
            "Validation set: Average loss: 0.310804, Accuracy: 4274/5000 (85%)\n",
            "\n",
            "Epoch: 30\n",
            "Training set: Average loss: 0.305612\n",
            "Validation set: Average loss: 0.311148, Accuracy: 4269/5000 (85%)\n",
            "\n",
            "Epoch: 31\n",
            "Training set: Average loss: 0.305142\n",
            "Validation set: Average loss: 0.311177, Accuracy: 4268/5000 (85%)\n",
            "\n",
            "Epoch: 32\n",
            "Training set: Average loss: 0.304585\n",
            "Validation set: Average loss: 0.310781, Accuracy: 4267/5000 (85%)\n",
            "\n",
            "Epoch: 33\n",
            "Training set: Average loss: 0.303949\n",
            "Validation set: Average loss: 0.310528, Accuracy: 4269/5000 (85%)\n",
            "\n",
            "Epoch: 34\n",
            "Training set: Average loss: 0.303447\n",
            "Validation set: Average loss: 0.310804, Accuracy: 4266/5000 (85%)\n",
            "\n",
            "Epoch: 35\n",
            "Training set: Average loss: 0.303126\n",
            "Validation set: Average loss: 0.310465, Accuracy: 4271/5000 (85%)\n",
            "\n",
            "Epoch: 36\n",
            "Training set: Average loss: 0.302557\n",
            "Validation set: Average loss: 0.310240, Accuracy: 4262/5000 (85%)\n",
            "\n",
            "Epoch: 37\n",
            "Training set: Average loss: 0.302044\n",
            "Validation set: Average loss: 0.310206, Accuracy: 4264/5000 (85%)\n",
            "\n",
            "Epoch: 38\n",
            "Training set: Average loss: 0.301597\n",
            "Validation set: Average loss: 0.309946, Accuracy: 4269/5000 (85%)\n",
            "\n",
            "Epoch: 39\n",
            "Training set: Average loss: 0.301246\n",
            "Validation set: Average loss: 0.309990, Accuracy: 4257/5000 (85%)\n",
            "\n",
            "Epoch: 40\n",
            "Training set: Average loss: 0.300838\n",
            "Validation set: Average loss: 0.309796, Accuracy: 4264/5000 (85%)\n",
            "\n",
            "Epoch: 41\n",
            "Training set: Average loss: 0.300254\n",
            "Validation set: Average loss: 0.310240, Accuracy: 4269/5000 (85%)\n",
            "\n",
            "Epoch: 42\n",
            "Training set: Average loss: 0.299963\n",
            "Validation set: Average loss: 0.309603, Accuracy: 4265/5000 (85%)\n",
            "\n",
            "Epoch: 43\n",
            "Training set: Average loss: 0.299633\n",
            "Validation set: Average loss: 0.309618, Accuracy: 4262/5000 (85%)\n",
            "\n",
            "Epoch: 44\n",
            "Training set: Average loss: 0.299271\n",
            "Validation set: Average loss: 0.309617, Accuracy: 4264/5000 (85%)\n",
            "\n",
            "Epoch: 45\n",
            "Training set: Average loss: 0.298865\n",
            "Validation set: Average loss: 0.309376, Accuracy: 4262/5000 (85%)\n",
            "\n",
            "Epoch: 46\n",
            "Training set: Average loss: 0.298514\n",
            "Validation set: Average loss: 0.309537, Accuracy: 4264/5000 (85%)\n",
            "\n",
            "Epoch: 47\n",
            "Training set: Average loss: 0.298154\n",
            "Validation set: Average loss: 0.309170, Accuracy: 4263/5000 (85%)\n",
            "\n",
            "Epoch: 48\n",
            "Training set: Average loss: 0.297863\n",
            "Validation set: Average loss: 0.309405, Accuracy: 4264/5000 (85%)\n",
            "\n",
            "Epoch: 49\n",
            "Training set: Average loss: 0.297588\n",
            "Validation set: Average loss: 0.309157, Accuracy: 4262/5000 (85%)\n",
            "\n",
            "Epoch: 50\n",
            "Training set: Average loss: 0.297524\n",
            "Validation set: Average loss: 0.309275, Accuracy: 4262/5000 (85%)\n",
            "\n"
          ]
        }
      ]
    },
    {
      "cell_type": "code",
      "source": [
        "%matplotlib inline\n",
        "from matplotlib import pyplot as plt\n",
        "\n",
        "plt.plot(epoch_nums, training_loss)\n",
        "plt.plot(epoch_nums, validation_loss)\n",
        "plt.xlabel('epoch')\n",
        "plt.ylabel('loss')\n",
        "plt.legend(['training', 'validation'], loc='upper right')\n",
        "plt.show()"
      ],
      "metadata": {
        "colab": {
          "base_uri": "https://localhost:8080/",
          "height": 279
        },
        "id": "GBZerUi9PhLA",
        "outputId": "0de45268-01f8-4206-aa87-24859a062cfe"
      },
      "execution_count": null,
      "outputs": [
        {
          "output_type": "display_data",
          "data": {
            "image/png": "[encoded data removed]",
            "text/plain": [
              "<Figure size 432x288 with 1 Axes>"
            ]
          },
          "metadata": {
            "needs_background": "light"
          }
        }
      ]
    },
    {
      "cell_type": "code",
      "source": [
        "from sklearn.metrics import accuracy_score, f1_score, roc_auc_score, confusion_matrix, classification_report"
      ],
      "metadata": {
        "id": "SPTaMZlOT553"
      },
      "execution_count": null,
      "outputs": []
    },
    {
      "cell_type": "code",
      "source": [
        "#metric\n",
        "def get_metrics(y_test, y_pred):\n",
        "    print('ACCURACY_SCORE: ', round(accuracy_score(y_test, y_pred), 4))\n",
        "    print('F1_SCORE: ', round(f1_score(y_test, y_pred, average='macro'), 4))\n",
        "    print('CONFUSION_MATRIX:\\n', confusion_matrix(y_test, y_pred),'\\n')\n",
        "    print(classification_report(y_test, y_pred, digits=4), '\\n')"
      ],
      "metadata": {
        "id": "cOU3pgfsT5Sb"
      },
      "execution_count": null,
      "outputs": []
    },
    {
      "cell_type": "code",
      "source": [
        "import numpy as np\n",
        "from sklearn.metrics import confusion_matrix\n",
        "import matplotlib.pyplot as plt\n",
        "%matplotlib inline\n",
        "\n",
        "\n",
        "\n",
        "def _evaluate(model, x_test):\n",
        "  # Set the model to evaluate mode\n",
        "  model.eval()\n",
        "\n",
        "  # Get predictions for the test data\n",
        "  x = torch.Tensor(x_test).float()\n",
        "  predictions = (model(x).data > 0.5)\n",
        "  predictions = predictions.reshape(-1,1)\n",
        "  get_metrics(y_test, predictions)\n",
        "\n",
        "  # Plot the confusion matrix\n",
        "  income_classes=['0','1']\n",
        "  cm = confusion_matrix(y_test, predictions)\n",
        "  plt.imshow(cm, interpolation=\"nearest\", cmap=plt.cm.Blues)\n",
        "  plt.colorbar()\n",
        "  tick_marks = np.arange(2)\n",
        "  plt.xticks(tick_marks, income_classes, rotation=85)\n",
        "  plt.yticks(tick_marks, income_classes)\n",
        "  plt.xlabel(\"Predicted\")\n",
        "  plt.ylabel(\"Actual\")\n",
        "  plt.show()\n",
        "\n",
        "_evaluate(model, x_test)"
      ],
      "metadata": {
        "colab": {
          "base_uri": "https://localhost:8080/",
          "height": 557
        },
        "id": "b8DnBBV8TmCG",
        "outputId": "51d93069-7b2b-451c-cacd-90617e566551"
      },
      "execution_count": null,
      "outputs": [
        {
          "output_type": "stream",
          "name": "stdout",
          "text": [
            "ACCURACY_SCORE:  0.8524\n",
            "F1_SCORE:  0.7868\n",
            "CONFUSION_MATRIX:\n",
            " [[3518  293]\n",
            " [ 445  744]] \n",
            "\n",
            "              precision    recall  f1-score   support\n",
            "\n",
            "           0     0.8877    0.9231    0.9051      3811\n",
            "           1     0.7175    0.6257    0.6685      1189\n",
            "\n",
            "    accuracy                         0.8524      5000\n",
            "   macro avg     0.8026    0.7744    0.7868      5000\n",
            "weighted avg     0.8472    0.8524    0.8488      5000\n",
            " \n",
            "\n"
          ]
        },
        {
          "output_type": "display_data",
          "data": {
            "image/png": "[encoded data removed]",
            "text/plain": [
              "<Figure size 432x288 with 2 Axes>"
            ]
          },
          "metadata": {
            "needs_background": "light"
          }
        }
      ]
    }
  ]
}