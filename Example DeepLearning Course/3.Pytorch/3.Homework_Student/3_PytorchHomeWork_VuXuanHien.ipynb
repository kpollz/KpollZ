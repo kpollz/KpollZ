{
  "cells": [
    {
      "cell_type": "markdown",
      "metadata": {
        "id": "DUXbtwUsAGPq"
      },
      "source": [
        "# 1. Lý thuyết\n",
        "\n",
        "**1) Để khởi tạo model trong pytorch chúng ta sử dụng class nào?**\n",
        "\n",
        "A. nn.Module\n",
        "\n",
        "B. nn.Dense\n",
        "\n",
        "C. nn.optim.Adam\n",
        "\n",
        "D. nn.Dropout\n",
        "\n",
        "**2) Để khởi tạo mạng neural network trong pytorch chúng ta cần làm gì ?**\n",
        "\n",
        "A. Kế thừa lại class `nn.Model`. Khởi tạo các layers trong hàm tạo `__init__()` và sử dụng các layers để tính toán dữ liệu trong hàm `forward()`.\n",
        "\n",
        "B. Khởi tạo một object của class `nn.Model` và sử dụng hàm `add()` để thêm từng layer vào mô hình.\n",
        "\n",
        "C. Sử dụng class `nn.Model` để khởi tạo mô hình. Truyền vào bên trong class này một list gồm các layers.\n",
        "\n",
        "D. Kế thừa lại class `nn.Module`. Khởi tạo các layers trong hàm tạo `__init__()` và sử dụng các layers để tính toán dữ liệu trong hàm `forward()`.\n",
        "\n",
        "\n",
        "**3) Các modules chính trong pytorch dùng để xây dựng và huấn luyện model.**\n",
        "\n",
        "A. `torch.nn`: Dùng để khởi tạo các layers và activations function và loss function, `torch.optim`: Khởi tạo optimizer, `torch.data`: Khởi tạo dataset và dataloader.\n",
        "\n",
        "B. `torch.nn`: Dùng để khởi tạo các layers và activations function và loss function, `torch.optim`: Khởi tạo optimizer, `torch.utils.data`: Khởi tạo dataset và dataloader.\n",
        "\n",
        "C. `torch.nn`: Dùng để khởi tạo các layers và activations function, `torch.optim`: Khởi tạo optimizer, `torch.data`: Khởi tạo dataset và dataloader, `torch.loss`: Khởi tạo loss function.\n",
        "\n",
        "D. `torch.nn`: Dùng để khởi tạo các layers và loss function, `torch.optim`: Khởi tạo optimizer, `torch.data`: Khởi tạo dataset và dataloader, `torch.activations`: Khởi tạo activations function.\n",
        "\n",
        "\n",
        "**4) Để customize một Dataset trên pytorch chúng ta cần thực hiện như thế nào?**\n",
        "\n",
        "A. Sử dụng thuộc tính `transformer` để qui định các biến đổi trên dữ liệu. Những biến đổi này được thực hiện trên hàm tạo.\n",
        "\n",
        "B. Khởi tạo một class kế thừa lại `torch.utils.data.Dataset`. Khai báo các thuộc tính cần sử dụng trong hàm tạo của dataset như list đường dẫn, list label. Override lại hàm `__getitem__()` để thực hiện các xử lý trên dữ liệu.\n",
        "\n",
        "C. Kế thừa lại một class `Dataset`. Các điều chỉnh trên dữ liệu được thực hiện trên hàm `transformer()`.\n",
        "\n",
        "D. Sử dụng hàm `__getitem__()` để trả về toàn bộ các quan sát khi huấn luyện. \n",
        "\n",
        "**5) Ý nghĩa của tham số epochs và batch_size trong huấn luyện mô hình là gì?**\n",
        "\n",
        "A. epochs là kích thước của một mini-batch, batch_size là số lượt lặp lại toàn bộ dữ liệu khi huấn luyện.\n",
        "\n",
        "B. epochs là số lượt lặp lại toàn bộ dữ liệu validation khi huấn luyện, batch_size là kích thước của một mini-batch.\n",
        "\n",
        "C. epochs là số lượt lặp lại toàn bộ dữ liệu train khi huấn luyện, batch_size là kích thước của một mini-batch.\n",
        "\n",
        "D. epochs là số lượng vòng lặp, mỗi vòng lặp là một lượt fit mini-batch, trên bộ dữ liệu khi huấn luyện; batch_size là kích thước của một mini-batch."
      ]
    },
    {
      "cell_type": "code",
      "execution_count": null,
      "metadata": {
        "colab": {
          "base_uri": "https://localhost:8080/",
          "height": 35
        },
        "id": "cUAXUAdipvBp",
        "outputId": "daedf2a5-1dd8-41ce-b052-8ec32571b119"
      },
      "outputs": [
        {
          "output_type": "execute_result",
          "data": {
            "application/vnd.google.colaboratory.intrinsic+json": {
              "type": "string"
            },
            "text/plain": [
              "' 1. A\\n    2. D\\n    3. B\\n    4. B\\n    5. C\\n\\n'"
            ]
          },
          "metadata": {},
          "execution_count": 100
        }
      ],
      "source": [
        "''' 1. A\n",
        "    2. D\n",
        "    3. B\n",
        "    4. B\n",
        "    5. C\n",
        "\n",
        "'''\n"
      ]
    },
    {
      "cell_type": "code",
      "execution_count": null,
      "metadata": {
        "colab": {
          "base_uri": "https://localhost:8080/"
        },
        "id": "mf8zw1wKpehc",
        "outputId": "1853d7b4-7c33-4e34-9f3e-d40f90625505"
      },
      "outputs": [
        {
          "output_type": "stream",
          "name": "stdout",
          "text": [
            "Drive already mounted at /content/drive; to attempt to forcibly remount, call drive.mount(\"/content/drive\", force_remount=True).\n"
          ]
        }
      ],
      "source": [
        "from google.colab import drive\n",
        "drive.mount('/content/drive')"
      ]
    },
    {
      "cell_type": "markdown",
      "metadata": {
        "id": "LzLjMsckAJAT"
      },
      "source": [
        "# 2. Thực hành\n",
        "\n",
        "6) Khởi tạo một tensor 3 chiều với định dạng là float và kích thước là 32x32x3\n",
        "\n",
        "7) Nếu coi tensor trên là một bức ảnh RGB với số channel là 3 ở cuối. Hãy truy suất các ma trận ảnh tương ứng với mỗi kênh R, G, B.\n",
        "\n",
        "8) Thực hiện tích hadamard và tích thông thường giữa ma trận R và G.\n",
        "\n",
        "9) Từ bộ dữ liệu [Income-Classification](https://www.kaggle.com/t/090688c8d33a40b68be9e271d6ba6bae) hãy chuẩn hóa dữ liệu và phân chia tập train/test theo tỷ lệ 80/20. \n",
        "\n",
        "10) Xây dựng một mạng deep-neural-network để huấn luyện mô hình trên dữ liệu train và đánh giá mô hình trên dữ liệu test.\n"
      ]
    },
    {
      "cell_type": "code",
      "execution_count": null,
      "metadata": {
        "id": "uS-Ly4Yvrz9R"
      },
      "outputs": [],
      "source": [
        "import torch"
      ]
    },
    {
      "cell_type": "code",
      "execution_count": null,
      "metadata": {
        "colab": {
          "base_uri": "https://localhost:8080/"
        },
        "id": "o0AO3Cugrqts",
        "outputId": "c9d9829b-c080-4c39-d56e-6a896c88d0e4"
      },
      "outputs": [
        {
          "output_type": "stream",
          "name": "stdout",
          "text": [
            "R * G tensor([[ 0.0272,  1.5029, -0.2994,  ..., -1.1493, -1.3320, -0.1884],\n",
            "        [-0.1330,  0.2353,  0.1214,  ...,  0.0131,  0.3243, -1.6530],\n",
            "        [-0.3493, -0.8425,  1.2870,  ..., -0.2504,  0.4108, -0.3502],\n",
            "        ...,\n",
            "        [ 0.3801, -0.2711,  0.3254,  ..., -0.4240,  0.6735, -0.4027],\n",
            "        [-0.0043,  4.0851, -0.1647,  ...,  1.5613,  1.5689, -0.2166],\n",
            "        [ 0.6547, -0.4085, -2.3371,  ...,  0.0893,  0.0773, -0.1896]])\n",
            "R @ G tensor([[-8.7743,  3.2385,  3.3616,  ...,  6.1923, -6.5387,  4.7530],\n",
            "        [-0.9030, -2.5436,  9.8063,  ..., -4.9045, -2.6893, -1.6666],\n",
            "        [ 1.5124, -2.5209,  5.4134,  ...,  5.7286,  7.8447, -5.7866],\n",
            "        ...,\n",
            "        [ 1.2849, -0.3138,  2.8933,  ...,  0.1524, -3.5805, -0.1247],\n",
            "        [-1.6852, -8.1880,  1.0785,  ...,  7.4496,  5.6781, -0.4284],\n",
            "        [-2.3217, -3.4997,  3.1358,  ..., -8.2330,  3.0662, -1.5190]])\n"
          ]
        }
      ],
      "source": [
        "# 6\n",
        "\n",
        "A = torch.randn([32, 32, 3], dtype=torch.float32)\n",
        "\n",
        "# 7\n",
        "\n",
        "R = A[:, :, 0]\n",
        "G = A[:, :, 1]\n",
        "B = A[:, :, 2]\n",
        "\n",
        "# 8\n",
        "\n",
        "print('R * G', R*G)\n",
        "print('R @ G', R@G)"
      ]
    },
    {
      "cell_type": "code",
      "execution_count": null,
      "metadata": {
        "id": "OcEoSrzRsaIr"
      },
      "outputs": [],
      "source": [
        "import pandas as pd\n",
        "import numpy as np\n",
        "\n",
        "import re"
      ]
    },
    {
      "cell_type": "code",
      "execution_count": null,
      "metadata": {
        "colab": {
          "base_uri": "https://localhost:8080/"
        },
        "id": "Ptyol1PotJ4E",
        "outputId": "14dd9268-6848-43eb-dfec-7cac854eb988"
      },
      "outputs": [
        {
          "output_type": "stream",
          "name": "stdout",
          "text": [
            "/content/drive/MyDrive/TwDS\n",
            "sample_submission.csv  test.csv  train.csv\n"
          ]
        }
      ],
      "source": [
        "%cd /content/drive/MyDrive/TwDS\n",
        "!ls"
      ]
    },
    {
      "cell_type": "code",
      "execution_count": null,
      "metadata": {
        "colab": {
          "base_uri": "https://localhost:8080/",
          "height": 357
        },
        "id": "9EGkTkn5tNUs",
        "outputId": "eef09f0c-506c-4d7a-84b2-38ce735b4c85"
      },
      "outputs": [
        {
          "output_type": "execute_result",
          "data": {
            "text/html": [
              "\n",
              "  <div id=\"df-50f54b4c-9aaf-4f3a-8331-bb0857c96c65\">\n",
              "    <div class=\"colab-df-container\">\n",
              "      <div>\n",
              "<style scoped>\n",
              "    .dataframe tbody tr th:only-of-type {\n",
              "        vertical-align: middle;\n",
              "    }\n",
              "\n",
              "    .dataframe tbody tr th {\n",
              "        vertical-align: top;\n",
              "    }\n",
              "\n",
              "    .dataframe thead th {\n",
              "        text-align: right;\n",
              "    }\n",
              "</style>\n",
              "<table border=\"1\" class=\"dataframe\">\n",
              "  <thead>\n",
              "    <tr style=\"text-align: right;\">\n",
              "      <th></th>\n",
              "      <th>ID</th>\n",
              "      <th>age</th>\n",
              "      <th>work_type</th>\n",
              "      <th>final_weight</th>\n",
              "      <th>education</th>\n",
              "      <th>total_education_yrs</th>\n",
              "      <th>marital_state</th>\n",
              "      <th>job</th>\n",
              "      <th>status</th>\n",
              "      <th>ethnicity</th>\n",
              "      <th>sex</th>\n",
              "      <th>capital_gain</th>\n",
              "      <th>capital_loss</th>\n",
              "      <th>hrs_per_week</th>\n",
              "      <th>nationality</th>\n",
              "      <th>target_income</th>\n",
              "    </tr>\n",
              "  </thead>\n",
              "  <tbody>\n",
              "    <tr>\n",
              "      <th>0</th>\n",
              "      <td>0</td>\n",
              "      <td>45</td>\n",
              "      <td>Private</td>\n",
              "      <td>175925</td>\n",
              "      <td>HS-grad</td>\n",
              "      <td>9</td>\n",
              "      <td>Married-civ-spouse</td>\n",
              "      <td>Craft-repair</td>\n",
              "      <td>Husband</td>\n",
              "      <td>White</td>\n",
              "      <td>M</td>\n",
              "      <td>0</td>\n",
              "      <td>0</td>\n",
              "      <td>40</td>\n",
              "      <td>US</td>\n",
              "      <td>0</td>\n",
              "    </tr>\n",
              "    <tr>\n",
              "      <th>1</th>\n",
              "      <td>1</td>\n",
              "      <td>23</td>\n",
              "      <td>Private</td>\n",
              "      <td>113601</td>\n",
              "      <td>Some-college</td>\n",
              "      <td>10</td>\n",
              "      <td>Never-married</td>\n",
              "      <td>Handlers-cleaners</td>\n",
              "      <td>Own-child</td>\n",
              "      <td>White</td>\n",
              "      <td>M</td>\n",
              "      <td>0</td>\n",
              "      <td>0</td>\n",
              "      <td>30</td>\n",
              "      <td>US</td>\n",
              "      <td>0</td>\n",
              "    </tr>\n",
              "    <tr>\n",
              "      <th>2</th>\n",
              "      <td>2</td>\n",
              "      <td>22</td>\n",
              "      <td>Private</td>\n",
              "      <td>112137</td>\n",
              "      <td>Some-college</td>\n",
              "      <td>10</td>\n",
              "      <td>Never-married</td>\n",
              "      <td>Prof-specialty</td>\n",
              "      <td>Other-relative</td>\n",
              "      <td>Asian-Pac-Islander</td>\n",
              "      <td>F</td>\n",
              "      <td>0</td>\n",
              "      <td>0</td>\n",
              "      <td>20</td>\n",
              "      <td>South</td>\n",
              "      <td>0</td>\n",
              "    </tr>\n",
              "    <tr>\n",
              "      <th>3</th>\n",
              "      <td>3</td>\n",
              "      <td>27</td>\n",
              "      <td>Private</td>\n",
              "      <td>153078</td>\n",
              "      <td>Prof-school</td>\n",
              "      <td>15</td>\n",
              "      <td>Never-married</td>\n",
              "      <td>Prof-specialty</td>\n",
              "      <td>Own-child</td>\n",
              "      <td>Asian-Pac-Islander</td>\n",
              "      <td>M</td>\n",
              "      <td>0</td>\n",
              "      <td>0</td>\n",
              "      <td>40</td>\n",
              "      <td>US</td>\n",
              "      <td>0</td>\n",
              "    </tr>\n",
              "    <tr>\n",
              "      <th>4</th>\n",
              "      <td>4</td>\n",
              "      <td>18</td>\n",
              "      <td>Private</td>\n",
              "      <td>375515</td>\n",
              "      <td>11th</td>\n",
              "      <td>7</td>\n",
              "      <td>Never-married</td>\n",
              "      <td>Sales</td>\n",
              "      <td>Own-child</td>\n",
              "      <td>White</td>\n",
              "      <td>F</td>\n",
              "      <td>0</td>\n",
              "      <td>0</td>\n",
              "      <td>20</td>\n",
              "      <td>US</td>\n",
              "      <td>0</td>\n",
              "    </tr>\n",
              "  </tbody>\n",
              "</table>\n",
              "</div>\n",
              "      <button class=\"colab-df-convert\" onclick=\"convertToInteractive('df-50f54b4c-9aaf-4f3a-8331-bb0857c96c65')\"\n",
              "              title=\"Convert this dataframe to an interactive table.\"\n",
              "              style=\"display:none;\">\n",
              "        \n",
              "  <svg xmlns=\"http://www.w3.org/2000/svg\" height=\"24px\"viewBox=\"0 0 24 24\"\n",
              "       width=\"24px\">\n",
              "    <path d=\"M0 0h24v24H0V0z\" fill=\"none\"/>\n",
              "    <path d=\"M18.56 5.44l.94 2.06.94-2.06 2.06-.94-2.06-.94-.94-2.06-.94 2.06-2.06.94zm-11 1L8.5 8.5l.94-2.06 2.06-.94-2.06-.94L8.5 2.5l-.94 2.06-2.06.94zm10 10l.94 2.06.94-2.06 2.06-.94-2.06-.94-.94-2.06-.94 2.06-2.06.94z\"/><path d=\"M17.41 7.96l-1.37-1.37c-.4-.4-.92-.59-1.43-.59-.52 0-1.04.2-1.43.59L10.3 9.45l-7.72 7.72c-.78.78-.78 2.05 0 2.83L4 21.41c.39.39.9.59 1.41.59.51 0 1.02-.2 1.41-.59l7.78-7.78 2.81-2.81c.8-.78.8-2.07 0-2.86zM5.41 20L4 18.59l7.72-7.72 1.47 1.35L5.41 20z\"/>\n",
              "  </svg>\n",
              "      </button>\n",
              "      \n",
              "  <style>\n",
              "    .colab-df-container {\n",
              "      display:flex;\n",
              "      flex-wrap:wrap;\n",
              "      gap: 12px;\n",
              "    }\n",
              "\n",
              "    .colab-df-convert {\n",
              "      background-color: #E8F0FE;\n",
              "      border: none;\n",
              "      border-radius: 50%;\n",
              "      cursor: pointer;\n",
              "      display: none;\n",
              "      fill: #1967D2;\n",
              "      height: 32px;\n",
              "      padding: 0 0 0 0;\n",
              "      width: 32px;\n",
              "    }\n",
              "\n",
              "    .colab-df-convert:hover {\n",
              "      background-color: #E2EBFA;\n",
              "      box-shadow: 0px 1px 2px rgba(60, 64, 67, 0.3), 0px 1px 3px 1px rgba(60, 64, 67, 0.15);\n",
              "      fill: #174EA6;\n",
              "    }\n",
              "\n",
              "    [theme=dark] .colab-df-convert {\n",
              "      background-color: #3B4455;\n",
              "      fill: #D2E3FC;\n",
              "    }\n",
              "\n",
              "    [theme=dark] .colab-df-convert:hover {\n",
              "      background-color: #434B5C;\n",
              "      box-shadow: 0px 1px 3px 1px rgba(0, 0, 0, 0.15);\n",
              "      filter: drop-shadow(0px 1px 2px rgba(0, 0, 0, 0.3));\n",
              "      fill: #FFFFFF;\n",
              "    }\n",
              "  </style>\n",
              "\n",
              "      <script>\n",
              "        const buttonEl =\n",
              "          document.querySelector('#df-50f54b4c-9aaf-4f3a-8331-bb0857c96c65 button.colab-df-convert');\n",
              "        buttonEl.style.display =\n",
              "          google.colab.kernel.accessAllowed ? 'block' : 'none';\n",
              "\n",
              "        async function convertToInteractive(key) {\n",
              "          const element = document.querySelector('#df-50f54b4c-9aaf-4f3a-8331-bb0857c96c65');\n",
              "          const dataTable =\n",
              "            await google.colab.kernel.invokeFunction('convertToInteractive',\n",
              "                                                     [key], {});\n",
              "          if (!dataTable) return;\n",
              "\n",
              "          const docLinkHtml = 'Like what you see? Visit the ' +\n",
              "            '<a target=\"_blank\" href=https://colab.research.google.com/notebooks/data_table.ipynb>data table notebook</a>'\n",
              "            + ' to learn more about interactive tables.';\n",
              "          element.innerHTML = '';\n",
              "          dataTable['output_type'] = 'display_data';\n",
              "          await google.colab.output.renderOutput(dataTable, element);\n",
              "          const docLink = document.createElement('div');\n",
              "          docLink.innerHTML = docLinkHtml;\n",
              "          element.appendChild(docLink);\n",
              "        }\n",
              "      </script>\n",
              "    </div>\n",
              "  </div>\n",
              "  "
            ],
            "text/plain": [
              "   ID  age work_type  ...  hrs_per_week nationality  target_income\n",
              "0   0   45   Private  ...            40          US              0\n",
              "1   1   23   Private  ...            30          US              0\n",
              "2   2   22   Private  ...            20       South              0\n",
              "3   3   27   Private  ...            40          US              0\n",
              "4   4   18   Private  ...            20          US              0\n",
              "\n",
              "[5 rows x 16 columns]"
            ]
          },
          "metadata": {},
          "execution_count": 106
        }
      ],
      "source": [
        "df = pd.read_csv('train.csv')\n",
        "df.head()"
      ]
    },
    {
      "cell_type": "code",
      "execution_count": null,
      "metadata": {
        "id": "WmLA3qi2tPz5"
      },
      "outputs": [],
      "source": [
        "ed = ['work_type', 'education', 'marital_state', 'job', 'status', 'ethnicity', 'nationality', 'sex']\n",
        "\n",
        "df = pd.get_dummies(df, columns=ed)"
      ]
    },
    {
      "cell_type": "code",
      "execution_count": null,
      "metadata": {
        "colab": {
          "base_uri": "https://localhost:8080/"
        },
        "id": "-NZdjFObtW1S",
        "outputId": "3ba27ab2-6bda-4357-e1f1-16d0d947a510"
      },
      "outputs": [
        {
          "output_type": "stream",
          "name": "stdout",
          "text": [
            "X train shape:  (20000, 108)\n",
            "y train shape:  (20000, 1)\n"
          ]
        }
      ],
      "source": [
        "from sklearn.model_selection import train_test_split\n",
        "\n",
        "X = df.drop(['ID', 'target_income'], axis=1)\n",
        "y = df[['target_income']]\n",
        "\n",
        "x_train, x_test, y_train, y_test = train_test_split(X.values, y.values, \n",
        "                                                    test_size=0.20, \n",
        "                                                    random_state=42)\n",
        "print('X train shape: ', x_train.shape)\n",
        "print('y train shape: ', y_train.shape)"
      ]
    },
    {
      "cell_type": "code",
      "execution_count": null,
      "metadata": {
        "colab": {
          "base_uri": "https://localhost:8080/"
        },
        "id": "j3cqXLW0ui9L",
        "outputId": "9909a8e1-c854-4f04-95c8-0020fc134f64"
      },
      "outputs": [
        {
          "output_type": "stream",
          "name": "stdout",
          "text": [
            "Libraries imported - ready to use PyTorch 1.10.0+cu111\n"
          ]
        }
      ],
      "source": [
        "import torch\n",
        "import torch.nn as nn\n",
        "import torch.utils.data as td\n",
        "from sklearn.preprocessing import StandardScaler\n",
        "\n",
        "# Set random seed for reproducability\n",
        "torch.manual_seed(0)\n",
        "\n",
        "print(\"Libraries imported - ready to use PyTorch\", torch.__version__)"
      ]
    },
    {
      "cell_type": "code",
      "execution_count": null,
      "metadata": {
        "colab": {
          "base_uri": "https://localhost:8080/"
        },
        "id": "XIuIWkI1uzF-",
        "outputId": "0fcfb7e7-8759-4adf-9070-a00936949fb5"
      },
      "outputs": [
        {
          "output_type": "stream",
          "name": "stdout",
          "text": [
            "Ready to load data\n"
          ]
        }
      ],
      "source": [
        "# Create a dataset and loader for the training data and labels\n",
        "train_x = torch.Tensor(x_train).float()\n",
        "train_y = torch.Tensor(y_train).long()\n",
        "train_ds = td.TensorDataset(train_x,train_y)\n",
        "train_loader = td.DataLoader(train_ds, batch_size=20,\n",
        "    shuffle=True, num_workers=1)\n",
        "\n",
        "# Create a dataset and loader for the test data and labels\n",
        "test_x = torch.Tensor(x_test).float()\n",
        "test_y = torch.Tensor(y_test).long()\n",
        "test_ds = td.TensorDataset(test_x,test_y)\n",
        "test_loader = td.DataLoader(test_ds, batch_size=20,\n",
        "    shuffle=False, num_workers=1)\n",
        "print('Ready to load data')"
      ]
    },
    {
      "cell_type": "code",
      "execution_count": null,
      "metadata": {
        "colab": {
          "base_uri": "https://localhost:8080/"
        },
        "id": "WhFwSAdKvd__",
        "outputId": "5225ffbd-6687-462f-b91e-f85dc69ee2dc"
      },
      "outputs": [
        {
          "output_type": "stream",
          "name": "stdout",
          "text": [
            "IncomeNet(\n",
            "  (fc1): Linear(in_features=108, out_features=128, bias=True)\n",
            "  (fc2): Linear(in_features=128, out_features=64, bias=True)\n",
            "  (fc3): Linear(in_features=64, out_features=1, bias=True)\n",
            ")\n"
          ]
        }
      ],
      "source": [
        "\n",
        "# Define the neural network\n",
        "class IncomeNet(nn.Module):\n",
        "    def __init__(self):\n",
        "        super(IncomeNet, self).__init__()\n",
        "        self.fc1 = nn.Linear(108, 128)\n",
        "        self.fc2 = nn.Linear(128, 64)\n",
        "        self.fc3 = nn.Linear(64, 1)\n",
        "\n",
        "    def forward(self, x):\n",
        "        x = torch.relu(self.fc1(x))\n",
        "        x = torch.relu(self.fc2(x))\n",
        "        x = torch.sigmoid(self.fc3(x))\n",
        "        return x\n",
        "\n",
        "# Create a model instance from the network\n",
        "model = IncomeNet()\n",
        "print(model)"
      ]
    },
    {
      "cell_type": "code",
      "source": [
        "def train(model, data_loader, optimizer):\n",
        "    # Set the model to training mode\n",
        "    model.train()\n",
        "    train_loss = 0\n",
        "    \n",
        "    for batch, tensor in enumerate(data_loader):\n",
        "        data, target = tensor\n",
        "        #feedforward: calculate y_pred and loss function\n",
        "        optimizer.zero_grad()\n",
        "        out = model(data)\n",
        "        #target = target.unsqueeze(1)\n",
        "        target = target.float()\n",
        "        loss = loss_criteria(out, target)\n",
        "        train_loss += loss.item()\n",
        "\n",
        "        # backpropagate: compute gradient descent and update weights\n",
        "        loss.backward()\n",
        "        optimizer.step()\n",
        "\n",
        "    #Return average loss\n",
        "    avg_loss = train_loss / (batch+1)\n",
        "    print('Training set: Average loss: {:.6f}'.format(avg_loss))\n",
        "    return avg_loss\n",
        "           \n",
        "            \n",
        "def test(model, data_loader):\n",
        "    # Switch the model to evaluation mode (so we don't backpropagate)\n",
        "    model.eval()\n",
        "    test_loss = 0\n",
        "    correct = 0\n",
        "\n",
        "    with torch.no_grad():\n",
        "        batch_count = 0\n",
        "        for batch, tensor in enumerate(data_loader):\n",
        "            batch_count += 1\n",
        "            data, target = tensor\n",
        "            # Get the predictions\n",
        "            out = model(data)\n",
        "            #target = target.unsqueeze(1)\n",
        "            target = target.float()\n",
        "            # calculate the loss\n",
        "            test_loss += loss_criteria(out, target).item()\n",
        "\n",
        "            # Calculate the accuracy\n",
        "            _, predicted = torch.max(out.data, 1)\n",
        "            correct += torch.sum(target==predicted).item()\n",
        "            \n",
        "    # Calculate the average loss and total accuracy for this epoch\n",
        "    avg_loss = test_loss/batch_count\n",
        "    print('Validation set: Average loss: {:.6f}, Accuracy: {}/{} ({:.0f}%)\\n'.format(\n",
        "        avg_loss, correct, len(data_loader.dataset),\n",
        "        100. * correct / len(data_loader.dataset)))\n",
        "    \n",
        "    # return average loss for the epoch\n",
        "    return avg_loss\n",
        "\n",
        "# Specify the loss criteria (we'll use CrossEntropyLoss for multi-class classification)\n",
        "loss_criteria = nn.BCEWithLogitsLoss()\n",
        "\n",
        "# Use an \"Adam\" optimizer to adjust weights\n",
        "# (see https://pytorch.org/docs/stable/optim.html#algorithms for details of supported algorithms)\n",
        "learning_rate = 0.001\n",
        "optimizer = torch.optim.Adam(model.parameters(), lr=learning_rate)\n",
        "optimizer.zero_grad()\n",
        "\n",
        "# We'll track metrics for each epoch in these arrays\n",
        "epoch_nums = []\n",
        "training_loss = []\n",
        "validation_loss = []\n",
        "\n",
        "# Train over 50 epochs\n",
        "epochs = 50\n",
        "for epoch in range(1, epochs + 1):\n",
        "\n",
        "    # print the epoch number\n",
        "    print('Epoch: {}'.format(epoch))\n",
        "    \n",
        "    # Feed training data into the model to optimize the weights\n",
        "    train_loss = train(model, train_loader, optimizer)\n",
        "    \n",
        "    # Feed the test data into the model to check its performance\n",
        "    test_loss = test(model, test_loader)\n",
        "    \n",
        "    # Log the metrics for this epoch\n",
        "    epoch_nums.append(epoch)\n",
        "    training_loss.append(train_loss)\n",
        "    validation_loss.append(test_loss)"
      ],
      "metadata": {
        "colab": {
          "base_uri": "https://localhost:8080/"
        },
        "id": "oCISthZqEYD-",
        "outputId": "e1658eaf-cc5a-4690-a99f-85f4287e3295"
      },
      "execution_count": null,
      "outputs": [
        {
          "output_type": "stream",
          "name": "stdout",
          "text": [
            "Epoch: 1\n",
            "Training set: Average loss: 1.073362\n",
            "Validation set: Average loss: 1.075662, Accuracy: 76240/5000 (1525%)\n",
            "\n",
            "Epoch: 2\n",
            "Training set: Average loss: 1.073362\n",
            "Validation set: Average loss: 1.075662, Accuracy: 76240/5000 (1525%)\n",
            "\n",
            "Epoch: 3\n",
            "Training set: Average loss: 1.073362\n",
            "Validation set: Average loss: 1.075662, Accuracy: 76240/5000 (1525%)\n",
            "\n",
            "Epoch: 4\n",
            "Training set: Average loss: 1.073362\n",
            "Validation set: Average loss: 1.075662, Accuracy: 76240/5000 (1525%)\n",
            "\n",
            "Epoch: 5\n",
            "Training set: Average loss: 1.073362\n",
            "Validation set: Average loss: 1.075662, Accuracy: 76240/5000 (1525%)\n",
            "\n",
            "Epoch: 6\n",
            "Training set: Average loss: 1.073362\n",
            "Validation set: Average loss: 1.075662, Accuracy: 76240/5000 (1525%)\n",
            "\n",
            "Epoch: 7\n",
            "Training set: Average loss: 1.073362\n",
            "Validation set: Average loss: 1.075662, Accuracy: 76240/5000 (1525%)\n",
            "\n",
            "Epoch: 8\n",
            "Training set: Average loss: 1.073362\n",
            "Validation set: Average loss: 1.075662, Accuracy: 76240/5000 (1525%)\n",
            "\n",
            "Epoch: 9\n",
            "Training set: Average loss: 1.073362\n",
            "Validation set: Average loss: 1.075662, Accuracy: 76240/5000 (1525%)\n",
            "\n",
            "Epoch: 10\n",
            "Training set: Average loss: 1.073362\n",
            "Validation set: Average loss: 1.075662, Accuracy: 76240/5000 (1525%)\n",
            "\n",
            "Epoch: 11\n",
            "Training set: Average loss: 1.073362\n",
            "Validation set: Average loss: 1.075662, Accuracy: 76240/5000 (1525%)\n",
            "\n",
            "Epoch: 12\n",
            "Training set: Average loss: 1.073362\n",
            "Validation set: Average loss: 1.075662, Accuracy: 76240/5000 (1525%)\n",
            "\n",
            "Epoch: 13\n",
            "Training set: Average loss: 1.073362\n",
            "Validation set: Average loss: 1.075662, Accuracy: 76240/5000 (1525%)\n",
            "\n",
            "Epoch: 14\n",
            "Training set: Average loss: 1.073362\n",
            "Validation set: Average loss: 1.075662, Accuracy: 76240/5000 (1525%)\n",
            "\n",
            "Epoch: 15\n",
            "Training set: Average loss: 1.073362\n",
            "Validation set: Average loss: 1.075662, Accuracy: 76240/5000 (1525%)\n",
            "\n",
            "Epoch: 16\n",
            "Training set: Average loss: 1.073362\n",
            "Validation set: Average loss: 1.075662, Accuracy: 76240/5000 (1525%)\n",
            "\n",
            "Epoch: 17\n",
            "Training set: Average loss: 1.073362\n",
            "Validation set: Average loss: 1.075662, Accuracy: 76240/5000 (1525%)\n",
            "\n",
            "Epoch: 18\n",
            "Training set: Average loss: 1.073362\n",
            "Validation set: Average loss: 1.075662, Accuracy: 76240/5000 (1525%)\n",
            "\n",
            "Epoch: 19\n",
            "Training set: Average loss: 1.073362\n",
            "Validation set: Average loss: 1.075662, Accuracy: 76240/5000 (1525%)\n",
            "\n",
            "Epoch: 20\n",
            "Training set: Average loss: 1.073362\n",
            "Validation set: Average loss: 1.075662, Accuracy: 76240/5000 (1525%)\n",
            "\n",
            "Epoch: 21\n",
            "Training set: Average loss: 1.073362\n",
            "Validation set: Average loss: 1.075662, Accuracy: 76240/5000 (1525%)\n",
            "\n",
            "Epoch: 22\n",
            "Training set: Average loss: 1.073362\n",
            "Validation set: Average loss: 1.075662, Accuracy: 76240/5000 (1525%)\n",
            "\n",
            "Epoch: 23\n",
            "Training set: Average loss: 1.073362\n",
            "Validation set: Average loss: 1.075662, Accuracy: 76240/5000 (1525%)\n",
            "\n",
            "Epoch: 24\n",
            "Training set: Average loss: 1.073362\n",
            "Validation set: Average loss: 1.075662, Accuracy: 76240/5000 (1525%)\n",
            "\n",
            "Epoch: 25\n",
            "Training set: Average loss: 1.073362\n",
            "Validation set: Average loss: 1.075662, Accuracy: 76240/5000 (1525%)\n",
            "\n",
            "Epoch: 26\n",
            "Training set: Average loss: 1.073362\n",
            "Validation set: Average loss: 1.075662, Accuracy: 76240/5000 (1525%)\n",
            "\n",
            "Epoch: 27\n",
            "Training set: Average loss: 1.073362\n",
            "Validation set: Average loss: 1.075662, Accuracy: 76240/5000 (1525%)\n",
            "\n",
            "Epoch: 28\n",
            "Training set: Average loss: 1.073362\n",
            "Validation set: Average loss: 1.075662, Accuracy: 76240/5000 (1525%)\n",
            "\n",
            "Epoch: 29\n",
            "Training set: Average loss: 1.073362\n",
            "Validation set: Average loss: 1.075662, Accuracy: 76240/5000 (1525%)\n",
            "\n",
            "Epoch: 30\n",
            "Training set: Average loss: 1.073362\n",
            "Validation set: Average loss: 1.075662, Accuracy: 76240/5000 (1525%)\n",
            "\n",
            "Epoch: 31\n",
            "Training set: Average loss: 1.073362\n",
            "Validation set: Average loss: 1.075662, Accuracy: 76240/5000 (1525%)\n",
            "\n",
            "Epoch: 32\n",
            "Training set: Average loss: 1.073362\n",
            "Validation set: Average loss: 1.075662, Accuracy: 76240/5000 (1525%)\n",
            "\n",
            "Epoch: 33\n",
            "Training set: Average loss: 1.073362\n",
            "Validation set: Average loss: 1.075662, Accuracy: 76240/5000 (1525%)\n",
            "\n",
            "Epoch: 34\n",
            "Training set: Average loss: 1.073362\n",
            "Validation set: Average loss: 1.075662, Accuracy: 76240/5000 (1525%)\n",
            "\n",
            "Epoch: 35\n",
            "Training set: Average loss: 1.073362\n",
            "Validation set: Average loss: 1.075662, Accuracy: 76240/5000 (1525%)\n",
            "\n",
            "Epoch: 36\n",
            "Training set: Average loss: 1.073362\n",
            "Validation set: Average loss: 1.075662, Accuracy: 76240/5000 (1525%)\n",
            "\n",
            "Epoch: 37\n",
            "Training set: Average loss: 1.073362\n",
            "Validation set: Average loss: 1.075662, Accuracy: 76240/5000 (1525%)\n",
            "\n",
            "Epoch: 38\n",
            "Training set: Average loss: 1.073362\n",
            "Validation set: Average loss: 1.075662, Accuracy: 76240/5000 (1525%)\n",
            "\n",
            "Epoch: 39\n",
            "Training set: Average loss: 1.073362\n",
            "Validation set: Average loss: 1.075662, Accuracy: 76240/5000 (1525%)\n",
            "\n",
            "Epoch: 40\n",
            "Training set: Average loss: 1.073362\n",
            "Validation set: Average loss: 1.075662, Accuracy: 76240/5000 (1525%)\n",
            "\n",
            "Epoch: 41\n",
            "Training set: Average loss: 1.073362\n",
            "Validation set: Average loss: 1.075662, Accuracy: 76240/5000 (1525%)\n",
            "\n",
            "Epoch: 42\n",
            "Training set: Average loss: 1.073362\n",
            "Validation set: Average loss: 1.075662, Accuracy: 76240/5000 (1525%)\n",
            "\n",
            "Epoch: 43\n",
            "Training set: Average loss: 1.073362\n",
            "Validation set: Average loss: 1.075662, Accuracy: 76240/5000 (1525%)\n",
            "\n",
            "Epoch: 44\n",
            "Training set: Average loss: 1.073362\n",
            "Validation set: Average loss: 1.075662, Accuracy: 76240/5000 (1525%)\n",
            "\n",
            "Epoch: 45\n",
            "Training set: Average loss: 1.073362\n",
            "Validation set: Average loss: 1.075662, Accuracy: 76240/5000 (1525%)\n",
            "\n",
            "Epoch: 46\n",
            "Training set: Average loss: 1.073362\n",
            "Validation set: Average loss: 1.075662, Accuracy: 76240/5000 (1525%)\n",
            "\n",
            "Epoch: 47\n",
            "Training set: Average loss: 1.073362\n",
            "Validation set: Average loss: 1.075662, Accuracy: 76240/5000 (1525%)\n",
            "\n",
            "Epoch: 48\n",
            "Training set: Average loss: 1.073362\n",
            "Validation set: Average loss: 1.075662, Accuracy: 76240/5000 (1525%)\n",
            "\n",
            "Epoch: 49\n",
            "Training set: Average loss: 1.073362\n",
            "Validation set: Average loss: 1.075662, Accuracy: 76240/5000 (1525%)\n",
            "\n",
            "Epoch: 50\n",
            "Training set: Average loss: 1.073362\n",
            "Validation set: Average loss: 1.075662, Accuracy: 76240/5000 (1525%)\n",
            "\n"
          ]
        }
      ]
    },
    {
      "cell_type": "code",
      "source": [
        "%matplotlib inline\n",
        "from matplotlib import pyplot as plt\n",
        "\n",
        "plt.plot(epoch_nums, training_loss)\n",
        "plt.plot(epoch_nums, validation_loss)\n",
        "plt.xlabel('epoch')\n",
        "plt.ylabel('loss')\n",
        "plt.legend(['training', 'validation'], loc='upper right')\n",
        "plt.show()"
      ],
      "metadata": {
        "colab": {
          "base_uri": "https://localhost:8080/",
          "height": 279
        },
        "id": "yEAhsBdtG9Mm",
        "outputId": "6f623857-8832-4fb2-e653-4a306e1102a0"
      },
      "execution_count": null,
      "outputs": [
        {
          "output_type": "display_data",
          "data": {
            "image/png": "[encoded data removed]",
            "text/plain": [
              "<Figure size 432x288 with 1 Axes>"
            ]
          },
          "metadata": {
            "needs_background": "light"
          }
        }
      ]
    },
    {
      "cell_type": "code",
      "source": [
        "#Pytorch doesn't have a built-in confusion matrix metric, so we'll use SciKit-Learn\n",
        "from sklearn.metrics import confusion_matrix\n",
        "import numpy as np\n",
        "\n",
        "# Set the model to evaluate mode\n",
        "model.eval()\n",
        "\n",
        "# Get predictions for the test data\n",
        "x = torch.Tensor(x_test).float()\n",
        "_, predicted = torch.max(model(x).data, 1)\n",
        "\n",
        "# Plot the confusion matrix\n",
        "cm = confusion_matrix(y_test, predicted.numpy())\n",
        "plt.imshow(cm, interpolation=\"nearest\", cmap=plt.cm.Blues)\n",
        "plt.colorbar()\n",
        "tick_marks = np.arange(2)\n",
        "plt.xticks(tick_marks, ['0', '1'], rotation=85)\n",
        "plt.yticks(tick_marks, ['0', '1'])\n",
        "plt.xlabel(\"Predicted Species\")\n",
        "plt.ylabel(\"Actual Species\")\n",
        "plt.show()"
      ],
      "metadata": {
        "colab": {
          "base_uri": "https://localhost:8080/",
          "height": 277
        },
        "id": "PgSj3CSgISbR",
        "outputId": "40f7fda4-705b-47f0-9763-fc094e8b450a"
      },
      "execution_count": null,
      "outputs": [
        {
          "output_type": "display_data",
          "data": {
            "image/png": "[encoded data removed]",
            "text/plain": [
              "<Figure size 432x288 with 2 Axes>"
            ]
          },
          "metadata": {
            "needs_background": "light"
          }
        }
      ]
    },
    {
      "cell_type": "markdown",
      "source": [
        "# Mặc dù đã nhận xét ở bài 2 nhưng vẫn không đầu tư vào thử nghiệm xử lý cũng như normalize dữ liệu. Nên thử nghiệm thay đổi tham số mô hình, nhận xét kết quả. ACC thấy 1525% mà vẫn để nguyên. Bạn nên đầu tư thêm thời gian cho btvn để nắm rõ kiến thức"
      ],
      "metadata": {
        "id": "CFTyQN1ms0Xp"
      }
    },
    {
      "cell_type": "code",
      "source": [
        ""
      ],
      "metadata": {
        "id": "xk4-TMTjs90W"
      },
      "execution_count": null,
      "outputs": []
    }
  ],
  "metadata": {
    "colab": {
      "collapsed_sections": [],
      "name": "3.PytorchHomeWork_VuXuanHien.ipynb",
      "provenance": []
    },
    "kernelspec": {
      "display_name": "Python 3",
      "name": "python3"
    },
    "language_info": {
      "name": "python"
    }
  },
  "nbformat": 4,
  "nbformat_minor": 0
}