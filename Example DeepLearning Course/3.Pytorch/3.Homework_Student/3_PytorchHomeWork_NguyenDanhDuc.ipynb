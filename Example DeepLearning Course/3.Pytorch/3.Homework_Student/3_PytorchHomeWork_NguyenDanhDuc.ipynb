{
  "nbformat": 4,
  "nbformat_minor": 0,
  "metadata": {
    "colab": {
      "name": "3.PytorchHomeWork_NguyenDanhDuc.ipynb",
      "provenance": [],
      "collapsed_sections": []
    },
    "kernelspec": {
      "name": "python3",
      "display_name": "Python 3"
    },
    "language_info": {
      "name": "python"
    }
  },
  "cells": [
    {
      "cell_type": "markdown",
      "source": [
        "# 1. Lý thuyết\n",
        "\n",
        "**1) Để khởi tạo model trong pytorch chúng ta sử dụng class nào?**\n",
        "\n",
        "A. nn.Module\n",
        "\n",
        "B. nn.Dense\n",
        "\n",
        "C. nn.optim.Adam\n",
        "\n",
        "D. nn.Dropout\n",
        "\n",
        "**2) Để khởi tạo mạng neural network trong pytorch chúng ta cần làm gì ?**\n",
        "\n",
        "A. Kế thừa lại class `nn.Model`. Khởi tạo các layers trong hàm tạo `__init__()` và sử dụng các layers để tính toán dữ liệu trong hàm `forward()`.\n",
        "\n",
        "B. Khởi tạo một object của class `nn.Model` và sử dụng hàm `add()` để thêm từng layer vào mô hình.\n",
        "\n",
        "C. Sử dụng class `nn.Model` để khởi tạo mô hình. Truyền vào bên trong class này một list gồm các layers.\n",
        "\n",
        "D. Kế thừa lại class `nn.Module`. Khởi tạo các layers trong hàm tạo `__init__()` và sử dụng các layers để tính toán dữ liệu trong hàm `forward()`.\n",
        "\n",
        "\n",
        "**3) Các modules chính trong pytorch dùng để xây dựng và huấn luyện model.**\n",
        "\n",
        "A. `torch.nn`: Dùng để khởi tạo các layers và activations function và loss function, `torch.optim`: Khởi tạo optimizer, `torch.data`: Khởi tạo dataset và dataloader.\n",
        "\n",
        "B. `torch.nn`: Dùng để khởi tạo các layers và activations function và loss function, `torch.optim`: Khởi tạo optimizer, `torch.utils.data`: Khởi tạo dataset và dataloader.\n",
        "\n",
        "C. `torch.nn`: Dùng để khởi tạo các layers và activations function, `torch.optim`: Khởi tạo optimizer, `torch.data`: Khởi tạo dataset và dataloader, `torch.loss`: Khởi tạo loss function.\n",
        "\n",
        "D. `torch.nn`: Dùng để khởi tạo các layers và loss function, `torch.optim`: Khởi tạo optimizer, `torch.data`: Khởi tạo dataset và dataloader, `torch.activations`: Khởi tạo activations function.\n",
        "\n",
        "\n",
        "**4) Để customize một Dataset trên pytorch chúng ta cần thực hiện như thế nào?**\n",
        "\n",
        "A. Sử dụng thuộc tính `transformer` để qui định các biến đổi trên dữ liệu. Những biến đổi này được thực hiện trên hàm tạo.\n",
        "\n",
        "B. Khởi tạo một class kế thừa lại `torch.utils.data.Dataset`. Khai báo các thuộc tính cần sử dụng trong hàm tạo của dataset như list đường dẫn, list label. Override lại hàm `__getitem__()` để thực hiện các xử lý trên dữ liệu.\n",
        "\n",
        "C. Kế thừa lại một class `Dataset`. Các điều chỉnh trên dữ liệu được thực hiện trên hàm `transformer()`.\n",
        "\n",
        "D. Sử dụng hàm `__getitem__()` để trả về toàn bộ các quan sát khi huấn luyện. \n",
        "\n",
        "**5) Ý nghĩa của tham số epochs và batch_size trong huấn luyện mô hình là gì?**\n",
        "\n",
        "A. epochs là kích thước của một mini-batch, batch_size là số lượt lặp lại toàn bộ dữ liệu khi huấn luyện.\n",
        "\n",
        "B. epochs là số lượt lặp lại toàn bộ dữ liệu validation khi huấn luyện, batch_size là kích thước của một mini-batch.\n",
        "\n",
        "C. epochs là số lượt lặp lại toàn bộ dữ liệu train khi huấn luyện, batch_size là kích thước của một mini-batch.\n",
        "\n",
        "D. epochs là số lượng vòng lặp, mỗi vòng lặp là một lượt fit mini-batch, trên bộ dữ liệu khi huấn luyện; batch_size là kích thước của một mini-batch."
      ],
      "metadata": {
        "id": "DUXbtwUsAGPq"
      }
    },
    {
      "cell_type": "markdown",
      "source": [
        "1) A <br/>\n",
        "2) D <br/>\n",
        "3) B <br/>\n",
        "4) B <br/>\n",
        "5) C <br/>"
      ],
      "metadata": {
        "id": "9K5qss_MPLKx"
      }
    },
    {
      "cell_type": "markdown",
      "source": [
        "# 2. Thực hành\n",
        "\n",
        "6) Khởi tạo một tensor 3 chiều với định dạng là float và kích thước là 32x32x3\n",
        "\n",
        "7) Nếu coi tensor trên là một bức ảnh RGB với số channel là 3 ở cuối. Hãy truy suất các ma trận ảnh tương ứng với mỗi kênh R, G, B.\n",
        "\n",
        "8) Thực hiện tích hadamard và tích thông thường giữa ma trận R và G.\n",
        "\n",
        "9) Từ bộ dữ liệu [Income-Classification](https://www.kaggle.com/t/090688c8d33a40b68be9e271d6ba6bae) hãy chuẩn hóa dữ liệu và phân chia tập train/test theo tỷ lệ 80/20. \n",
        "\n",
        "10) Xây dựng một mạng deep-neural-network để huấn luyện mô hình trên dữ liệu train và đánh giá mô hình trên dữ liệu test.\n"
      ],
      "metadata": {
        "id": "LzLjMsckAJAT"
      }
    },
    {
      "cell_type": "code",
      "source": [
        "# 6)\n",
        "import torch\n",
        "A = torch.randn([32, 32, 3])\n",
        "A.size()"
      ],
      "metadata": {
        "colab": {
          "base_uri": "https://localhost:8080/"
        },
        "id": "qp2FwnSqTNeW",
        "outputId": "7b587f75-47c9-4c7b-f69d-282b292a2219"
      },
      "execution_count": null,
      "outputs": [
        {
          "output_type": "execute_result",
          "data": {
            "text/plain": [
              "torch.Size([32, 32, 3])"
            ]
          },
          "metadata": {},
          "execution_count": 1
        }
      ]
    },
    {
      "cell_type": "code",
      "source": [
        "# 7)\n",
        "R = A[:,:,0]\n",
        "G = A[:,:,1]\n",
        "B = A[:,:,2]"
      ],
      "metadata": {
        "id": "5aZjgzncTi37"
      },
      "execution_count": null,
      "outputs": []
    },
    {
      "cell_type": "code",
      "source": [
        "print(f\"R: {R}\")\n",
        "print(f\"G: {G}\")\n",
        "print(f\"B: {B}\")"
      ],
      "metadata": {
        "colab": {
          "base_uri": "https://localhost:8080/"
        },
        "id": "sYx3TOMmUS9C",
        "outputId": "eba4d3d8-392b-4be8-efb6-00c805562627"
      },
      "execution_count": null,
      "outputs": [
        {
          "output_type": "stream",
          "name": "stdout",
          "text": [
            "R: tensor([[ 0.4276, -1.2220, -0.8554,  ...,  0.4221, -0.1829,  0.6398],\n",
            "        [-0.5624,  0.0806,  1.1738,  ..., -0.4466, -0.8359,  0.4206],\n",
            "        [ 0.1334, -1.5967,  0.5172,  ..., -1.6713, -2.1543,  0.3114],\n",
            "        ...,\n",
            "        [ 0.4114, -0.0598,  0.9697,  ...,  0.6090, -0.5803,  0.5547],\n",
            "        [-0.0342, -0.0602, -0.6749,  ..., -0.1589, -0.8758, -0.2187],\n",
            "        [ 0.0934,  0.0573,  1.2941,  ...,  0.3542, -2.1173, -1.2270]])\n",
            "G: tensor([[-0.8002, -1.1091,  0.4401,  ..., -0.7039,  0.0718,  0.1093],\n",
            "        [ 1.0044,  1.4751, -0.3588,  ...,  1.5256,  2.1529,  0.7985],\n",
            "        [-1.2133,  0.2215, -0.5452,  ..., -0.5156, -2.1121, -1.6508],\n",
            "        ...,\n",
            "        [ 0.7160, -1.4037,  0.0265,  ..., -0.0838, -0.8741, -0.2727],\n",
            "        [-0.7079,  0.2687,  0.4611,  ..., -1.6787,  0.7218, -1.1727],\n",
            "        [-0.6687,  0.2071, -2.1697,  ..., -0.2640, -0.6391, -0.6809]])\n",
            "B: tensor([[-0.7113,  1.3376, -0.7366,  ...,  1.1499,  0.0724,  0.6927],\n",
            "        [-0.3093, -0.2965, -0.1878,  ...,  0.2874,  0.4981,  1.3455],\n",
            "        [ 0.2990, -2.8724, -0.0521,  ...,  0.6280, -0.9720, -0.1373],\n",
            "        ...,\n",
            "        [-0.4205, -0.7627,  0.6711,  ..., -1.5704, -0.8196,  0.9475],\n",
            "        [ 0.1655, -0.5379,  1.3290,  ..., -1.0438, -0.4766,  0.6850],\n",
            "        [ 1.3630, -0.5176,  0.2977,  ..., -1.8609, -0.2755, -0.2019]])\n"
          ]
        }
      ]
    },
    {
      "cell_type": "code",
      "source": [
        "# 8)\n",
        "dot_prod = R@G\n",
        "hadamard = R*G\n",
        "print(f\"Dot product: {dot_prod} \\nSize: {dot_prod.size()}\")\n",
        "print(f\"Hadamard: {hadamard} \\nSize: {hadamard.size()}\")\n"
      ],
      "metadata": {
        "colab": {
          "base_uri": "https://localhost:8080/"
        },
        "id": "M0vS5yh1UX8c",
        "outputId": "6eefb121-8ad3-4b3b-ab48-d3c8194ef606"
      },
      "execution_count": null,
      "outputs": [
        {
          "output_type": "stream",
          "name": "stdout",
          "text": [
            "Dot product: tensor([[  2.5323,  -5.0263,   3.3618,  ...,  -4.5078,  -8.8957,   1.3316],\n",
            "        [  1.5035,  -5.0593, -11.5453,  ...,  -3.0098,  -3.3277,   0.3581],\n",
            "        [ 13.0332,   9.6725,  14.3939,  ...,   5.8850,  -0.9014,  -7.2726],\n",
            "        ...,\n",
            "        [  2.1748,   7.1755,  -9.0907,  ...,   0.3603,  -1.8307,  -4.3844],\n",
            "        [ -0.7448,  -3.3006,   5.9305,  ...,  -0.8964,  -4.0462,   9.8886],\n",
            "        [ -5.5844,  -4.6619,   0.5570,  ...,   2.1794, -13.4440,  -8.6666]]) \n",
            "Size: torch.Size([32, 32])\n",
            "Hadamard: tensor([[-0.3422,  1.3554, -0.3764,  ..., -0.2971, -0.0131,  0.0700],\n",
            "        [-0.5649,  0.1188, -0.4212,  ..., -0.6814, -1.7996,  0.3359],\n",
            "        [-0.1618, -0.3536, -0.2820,  ...,  0.8618,  4.5500, -0.5141],\n",
            "        ...,\n",
            "        [ 0.2945,  0.0839,  0.0257,  ..., -0.0510,  0.5072, -0.1513],\n",
            "        [ 0.0242, -0.0162, -0.3112,  ...,  0.2668, -0.6322,  0.2565],\n",
            "        [-0.0625,  0.0119, -2.8077,  ..., -0.0935,  1.3531,  0.8354]]) \n",
            "Size: torch.Size([32, 32])\n"
          ]
        }
      ]
    },
    {
      "cell_type": "code",
      "source": [
        "# 9)\n",
        "!pip install -q kaggle\n",
        "\n",
        "from google.colab import files\n",
        "\n",
        "files.upload()\n",
        "\n",
        "! mkdir ~/.kaggle\n",
        "!cp kaggle.json ~/.kaggle/\n",
        "\n",
        "!chmod 600 ~/.kaggle/kaggle.json\n",
        "!kaggle competitions download -c ml-hands-on-python-kaggle-01\n",
        "\n",
        "!unzip train.csv.zip"
      ],
      "metadata": {
        "id": "hDkphMdgVF-O",
        "colab": {
          "resources": {
            "http://localhost:8080/nbextensions/google.colab/files.js": {
              "data": "Ly8gQ29weXJpZ2h0IDIwMTcgR29vZ2xlIExMQwovLwovLyBMaWNlbnNlZCB1bmRlciB0aGUgQXBhY2hlIExpY2Vuc2UsIFZlcnNpb24gMi4wICh0aGUgIkxpY2Vuc2UiKTsKLy8geW91IG1heSBub3QgdXNlIHRoaXMgZmlsZSBleGNlcHQgaW4gY29tcGxpYW5jZSB3aXRoIHRoZSBMaWNlbnNlLgovLyBZb3UgbWF5IG9idGFpbiBhIGNvcHkgb2YgdGhlIExpY2Vuc2UgYXQKLy8KLy8gICAgICBodHRwOi8vd3d3LmFwYWNoZS5vcmcvbGljZW5zZXMvTElDRU5TRS0yLjAKLy8KLy8gVW5sZXNzIHJlcXVpcmVkIGJ5IGFwcGxpY2FibGUgbGF3IG9yIGFncmVlZCB0byBpbiB3cml0aW5nLCBzb2Z0d2FyZQovLyBkaXN0cmlidXRlZCB1bmRlciB0aGUgTGljZW5zZSBpcyBkaXN0cmlidXRlZCBvbiBhbiAiQVMgSVMiIEJBU0lTLAovLyBXSVRIT1VUIFdBUlJBTlRJRVMgT1IgQ09ORElUSU9OUyBPRiBBTlkgS0lORCwgZWl0aGVyIGV4cHJlc3Mgb3IgaW1wbGllZC4KLy8gU2VlIHRoZSBMaWNlbnNlIGZvciB0aGUgc3BlY2lmaWMgbGFuZ3VhZ2UgZ292ZXJuaW5nIHBlcm1pc3Npb25zIGFuZAovLyBsaW1pdGF0aW9ucyB1bmRlciB0aGUgTGljZW5zZS4KCi8qKgogKiBAZmlsZW92ZXJ2aWV3IEhlbHBlcnMgZm9yIGdvb2dsZS5jb2xhYiBQeXRob24gbW9kdWxlLgogKi8KKGZ1bmN0aW9uKHNjb3BlKSB7CmZ1bmN0aW9uIHNwYW4odGV4dCwgc3R5bGVBdHRyaWJ1dGVzID0ge30pIHsKICBjb25zdCBlbGVtZW50ID0gZG9jdW1lbnQuY3JlYXRlRWxlbWVudCgnc3BhbicpOwogIGVsZW1lbnQudGV4dENvbnRlbnQgPSB0ZXh0OwogIGZvciAoY29uc3Qga2V5IG9mIE9iamVjdC5rZXlzKHN0eWxlQXR0cmlidXRlcykpIHsKICAgIGVsZW1lbnQuc3R5bGVba2V5XSA9IHN0eWxlQXR0cmlidXRlc1trZXldOwogIH0KICByZXR1cm4gZWxlbWVudDsKfQoKLy8gTWF4IG51bWJlciBvZiBieXRlcyB3aGljaCB3aWxsIGJlIHVwbG9hZGVkIGF0IGEgdGltZS4KY29uc3QgTUFYX1BBWUxPQURfU0laRSA9IDEwMCAqIDEwMjQ7CgpmdW5jdGlvbiBfdXBsb2FkRmlsZXMoaW5wdXRJZCwgb3V0cHV0SWQpIHsKICBjb25zdCBzdGVwcyA9IHVwbG9hZEZpbGVzU3RlcChpbnB1dElkLCBvdXRwdXRJZCk7CiAgY29uc3Qgb3V0cHV0RWxlbWVudCA9IGRvY3VtZW50LmdldEVsZW1lbnRCeUlkKG91dHB1dElkKTsKICAvLyBDYWNoZSBzdGVwcyBvbiB0aGUgb3V0cHV0RWxlbWVudCB0byBtYWtlIGl0IGF2YWlsYWJsZSBmb3IgdGhlIG5leHQgY2FsbAogIC8vIHRvIHVwbG9hZEZpbGVzQ29udGludWUgZnJvbSBQeXRob24uCiAgb3V0cHV0RWxlbWVudC5zdGVwcyA9IHN0ZXBzOwoKICByZXR1cm4gX3VwbG9hZEZpbGVzQ29udGludWUob3V0cHV0SWQpOwp9CgovLyBUaGlzIGlzIHJvdWdobHkgYW4gYXN5bmMgZ2VuZXJhdG9yIChub3Qgc3VwcG9ydGVkIGluIHRoZSBicm93c2VyIHlldCksCi8vIHdoZXJlIHRoZXJlIGFyZSBtdWx0aXBsZSBhc3luY2hyb25vdXMgc3RlcHMgYW5kIHRoZSBQeXRob24gc2lkZSBpcyBnb2luZwovLyB0byBwb2xsIGZvciBjb21wbGV0aW9uIG9mIGVhY2ggc3RlcC4KLy8gVGhpcyB1c2VzIGEgUHJvbWlzZSB0byBibG9jayB0aGUgcHl0aG9uIHNpZGUgb24gY29tcGxldGlvbiBvZiBlYWNoIHN0ZXAsCi8vIHRoZW4gcGFzc2VzIHRoZSByZXN1bHQgb2YgdGhlIHByZXZpb3VzIHN0ZXAgYXMgdGhlIGlucHV0IHRvIHRoZSBuZXh0IHN0ZXAuCmZ1bmN0aW9uIF91cGxvYWRGaWxlc0NvbnRpbnVlKG91dHB1dElkKSB7CiAgY29uc3Qgb3V0cHV0RWxlbWVudCA9IGRvY3VtZW50LmdldEVsZW1lbnRCeUlkKG91dHB1dElkKTsKICBjb25zdCBzdGVwcyA9IG91dHB1dEVsZW1lbnQuc3RlcHM7CgogIGNvbnN0IG5leHQgPSBzdGVwcy5uZXh0KG91dHB1dEVsZW1lbnQubGFzdFByb21pc2VWYWx1ZSk7CiAgcmV0dXJuIFByb21pc2UucmVzb2x2ZShuZXh0LnZhbHVlLnByb21pc2UpLnRoZW4oKHZhbHVlKSA9PiB7CiAgICAvLyBDYWNoZSB0aGUgbGFzdCBwcm9taXNlIHZhbHVlIHRvIG1ha2UgaXQgYXZhaWxhYmxlIHRvIHRoZSBuZXh0CiAgICAvLyBzdGVwIG9mIHRoZSBnZW5lcmF0b3IuCiAgICBvdXRwdXRFbGVtZW50Lmxhc3RQcm9taXNlVmFsdWUgPSB2YWx1ZTsKICAgIHJldHVybiBuZXh0LnZhbHVlLnJlc3BvbnNlOwogIH0pOwp9CgovKioKICogR2VuZXJhdG9yIGZ1bmN0aW9uIHdoaWNoIGlzIGNhbGxlZCBiZXR3ZWVuIGVhY2ggYXN5bmMgc3RlcCBvZiB0aGUgdXBsb2FkCiAqIHByb2Nlc3MuCiAqIEBwYXJhbSB7c3RyaW5nfSBpbnB1dElkIEVsZW1lbnQgSUQgb2YgdGhlIGlucHV0IGZpbGUgcGlja2VyIGVsZW1lbnQuCiAqIEBwYXJhbSB7c3RyaW5nfSBvdXRwdXRJZCBFbGVtZW50IElEIG9mIHRoZSBvdXRwdXQgZGlzcGxheS4KICogQHJldHVybiB7IUl0ZXJhYmxlPCFPYmplY3Q+fSBJdGVyYWJsZSBvZiBuZXh0IHN0ZXBzLgogKi8KZnVuY3Rpb24qIHVwbG9hZEZpbGVzU3RlcChpbnB1dElkLCBvdXRwdXRJZCkgewogIGNvbnN0IGlucHV0RWxlbWVudCA9IGRvY3VtZW50LmdldEVsZW1lbnRCeUlkKGlucHV0SWQpOwogIGlucHV0RWxlbWVudC5kaXNhYmxlZCA9IGZhbHNlOwoKICBjb25zdCBvdXRwdXRFbGVtZW50ID0gZG9jdW1lbnQuZ2V0RWxlbWVudEJ5SWQob3V0cHV0SWQpOwogIG91dHB1dEVsZW1lbnQuaW5uZXJIVE1MID0gJyc7CgogIGNvbnN0IHBpY2tlZFByb21pc2UgPSBuZXcgUHJvbWlzZSgocmVzb2x2ZSkgPT4gewogICAgaW5wdXRFbGVtZW50LmFkZEV2ZW50TGlzdGVuZXIoJ2NoYW5nZScsIChlKSA9PiB7CiAgICAgIHJlc29sdmUoZS50YXJnZXQuZmlsZXMpOwogICAgfSk7CiAgfSk7CgogIGNvbnN0IGNhbmNlbCA9IGRvY3VtZW50LmNyZWF0ZUVsZW1lbnQoJ2J1dHRvbicpOwogIGlucHV0RWxlbWVudC5wYXJlbnRFbGVtZW50LmFwcGVuZENoaWxkKGNhbmNlbCk7CiAgY2FuY2VsLnRleHRDb250ZW50ID0gJ0NhbmNlbCB1cGxvYWQnOwogIGNvbnN0IGNhbmNlbFByb21pc2UgPSBuZXcgUHJvbWlzZSgocmVzb2x2ZSkgPT4gewogICAgY2FuY2VsLm9uY2xpY2sgPSAoKSA9PiB7CiAgICAgIHJlc29sdmUobnVsbCk7CiAgICB9OwogIH0pOwoKICAvLyBXYWl0IGZvciB0aGUgdXNlciB0byBwaWNrIHRoZSBmaWxlcy4KICBjb25zdCBmaWxlcyA9IHlpZWxkIHsKICAgIHByb21pc2U6IFByb21pc2UucmFjZShbcGlja2VkUHJvbWlzZSwgY2FuY2VsUHJvbWlzZV0pLAogICAgcmVzcG9uc2U6IHsKICAgICAgYWN0aW9uOiAnc3RhcnRpbmcnLAogICAgfQogIH07CgogIGNhbmNlbC5yZW1vdmUoKTsKCiAgLy8gRGlzYWJsZSB0aGUgaW5wdXQgZWxlbWVudCBzaW5jZSBmdXJ0aGVyIHBpY2tzIGFyZSBub3QgYWxsb3dlZC4KICBpbnB1dEVsZW1lbnQuZGlzYWJsZWQgPSB0cnVlOwoKICBpZiAoIWZpbGVzKSB7CiAgICByZXR1cm4gewogICAgICByZXNwb25zZTogewogICAgICAgIGFjdGlvbjogJ2NvbXBsZXRlJywKICAgICAgfQogICAgfTsKICB9CgogIGZvciAoY29uc3QgZmlsZSBvZiBmaWxlcykgewogICAgY29uc3QgbGkgPSBkb2N1bWVudC5jcmVhdGVFbGVtZW50KCdsaScpOwogICAgbGkuYXBwZW5kKHNwYW4oZmlsZS5uYW1lLCB7Zm9udFdlaWdodDogJ2JvbGQnfSkpOwogICAgbGkuYXBwZW5kKHNwYW4oCiAgICAgICAgYCgke2ZpbGUudHlwZSB8fCAnbi9hJ30pIC0gJHtmaWxlLnNpemV9IGJ5dGVzLCBgICsKICAgICAgICBgbGFzdCBtb2RpZmllZDogJHsKICAgICAgICAgICAgZmlsZS5sYXN0TW9kaWZpZWREYXRlID8gZmlsZS5sYXN0TW9kaWZpZWREYXRlLnRvTG9jYWxlRGF0ZVN0cmluZygpIDoKICAgICAgICAgICAgICAgICAgICAgICAgICAgICAgICAgICAgJ24vYSd9IC0gYCkpOwogICAgY29uc3QgcGVyY2VudCA9IHNwYW4oJzAlIGRvbmUnKTsKICAgIGxpLmFwcGVuZENoaWxkKHBlcmNlbnQpOwoKICAgIG91dHB1dEVsZW1lbnQuYXBwZW5kQ2hpbGQobGkpOwoKICAgIGNvbnN0IGZpbGVEYXRhUHJvbWlzZSA9IG5ldyBQcm9taXNlKChyZXNvbHZlKSA9PiB7CiAgICAgIGNvbnN0IHJlYWRlciA9IG5ldyBGaWxlUmVhZGVyKCk7CiAgICAgIHJlYWRlci5vbmxvYWQgPSAoZSkgPT4gewogICAgICAgIHJlc29sdmUoZS50YXJnZXQucmVzdWx0KTsKICAgICAgfTsKICAgICAgcmVhZGVyLnJlYWRBc0FycmF5QnVmZmVyKGZpbGUpOwogICAgfSk7CiAgICAvLyBXYWl0IGZvciB0aGUgZGF0YSB0byBiZSByZWFkeS4KICAgIGxldCBmaWxlRGF0YSA9IHlpZWxkIHsKICAgICAgcHJvbWlzZTogZmlsZURhdGFQcm9taXNlLAogICAgICByZXNwb25zZTogewogICAgICAgIGFjdGlvbjogJ2NvbnRpbnVlJywKICAgICAgfQogICAgfTsKCiAgICAvLyBVc2UgYSBjaHVua2VkIHNlbmRpbmcgdG8gYXZvaWQgbWVzc2FnZSBzaXplIGxpbWl0cy4gU2VlIGIvNjIxMTU2NjAuCiAgICBsZXQgcG9zaXRpb24gPSAwOwogICAgZG8gewogICAgICBjb25zdCBsZW5ndGggPSBNYXRoLm1pbihmaWxlRGF0YS5ieXRlTGVuZ3RoIC0gcG9zaXRpb24sIE1BWF9QQVlMT0FEX1NJWkUpOwogICAgICBjb25zdCBjaHVuayA9IG5ldyBVaW50OEFycmF5KGZpbGVEYXRhLCBwb3NpdGlvbiwgbGVuZ3RoKTsKICAgICAgcG9zaXRpb24gKz0gbGVuZ3RoOwoKICAgICAgY29uc3QgYmFzZTY0ID0gYnRvYShTdHJpbmcuZnJvbUNoYXJDb2RlLmFwcGx5KG51bGwsIGNodW5rKSk7CiAgICAgIHlpZWxkIHsKICAgICAgICByZXNwb25zZTogewogICAgICAgICAgYWN0aW9uOiAnYXBwZW5kJywKICAgICAgICAgIGZpbGU6IGZpbGUubmFtZSwKICAgICAgICAgIGRhdGE6IGJhc2U2NCwKICAgICAgICB9LAogICAgICB9OwoKICAgICAgbGV0IHBlcmNlbnREb25lID0gZmlsZURhdGEuYnl0ZUxlbmd0aCA9PT0gMCA/CiAgICAgICAgICAxMDAgOgogICAgICAgICAgTWF0aC5yb3VuZCgocG9zaXRpb24gLyBmaWxlRGF0YS5ieXRlTGVuZ3RoKSAqIDEwMCk7CiAgICAgIHBlcmNlbnQudGV4dENvbnRlbnQgPSBgJHtwZXJjZW50RG9uZX0lIGRvbmVgOwoKICAgIH0gd2hpbGUgKHBvc2l0aW9uIDwgZmlsZURhdGEuYnl0ZUxlbmd0aCk7CiAgfQoKICAvLyBBbGwgZG9uZS4KICB5aWVsZCB7CiAgICByZXNwb25zZTogewogICAgICBhY3Rpb246ICdjb21wbGV0ZScsCiAgICB9CiAgfTsKfQoKc2NvcGUuZ29vZ2xlID0gc2NvcGUuZ29vZ2xlIHx8IHt9OwpzY29wZS5nb29nbGUuY29sYWIgPSBzY29wZS5nb29nbGUuY29sYWIgfHwge307CnNjb3BlLmdvb2dsZS5jb2xhYi5fZmlsZXMgPSB7CiAgX3VwbG9hZEZpbGVzLAogIF91cGxvYWRGaWxlc0NvbnRpbnVlLAp9Owp9KShzZWxmKTsK",
              "ok": true,
              "headers": [
                [
                  "content-type",
                  "application/javascript"
                ]
              ],
              "status": 200,
              "status_text": ""
            }
          },
          "base_uri": "https://localhost:8080/",
          "height": 232
        },
        "outputId": "8297c750-24c4-4cd2-e98a-b0b81e78da3a"
      },
      "execution_count": null,
      "outputs": [
        {
          "output_type": "display_data",
          "data": {
            "text/html": [
              "\n",
              "     <input type=\"file\" id=\"files-bb43dbfb-f260-4de2-8edb-49cfecd3ffea\" name=\"files[]\" multiple disabled\n",
              "        style=\"border:none\" />\n",
              "     <output id=\"result-bb43dbfb-f260-4de2-8edb-49cfecd3ffea\">\n",
              "      Upload widget is only available when the cell has been executed in the\n",
              "      current browser session. Please rerun this cell to enable.\n",
              "      </output>\n",
              "      <script src=\"/nbextensions/google.colab/files.js\"></script> "
            ],
            "text/plain": [
              "<IPython.core.display.HTML object>"
            ]
          },
          "metadata": {}
        },
        {
          "output_type": "stream",
          "name": "stdout",
          "text": [
            "Saving kaggle.json to kaggle (1).json\n",
            "mkdir: cannot create directory ‘/root/.kaggle’: File exists\n",
            "Warning: Looks like you're using an outdated API Version, please consider updating (server 1.5.12 / client 1.5.4)\n",
            "sample_submission.csv: Skipping, found more recently modified local copy (use --force to force download)\n",
            "test.csv: Skipping, found more recently modified local copy (use --force to force download)\n",
            "train.csv.zip: Skipping, found more recently modified local copy (use --force to force download)\n",
            "Archive:  train.csv.zip\n",
            "replace train.csv? [y]es, [n]o, [A]ll, [N]one, [r]ename: A\n",
            "  inflating: train.csv               \n"
          ]
        }
      ]
    },
    {
      "cell_type": "code",
      "source": [
        "import numpy as np\n",
        "import random\n",
        "def seed_all(seed):\n",
        "    np.random.seed(seed)\n",
        "    random.seed(seed)\n",
        "seed = 123\n",
        "seed_all(seed)"
      ],
      "metadata": {
        "id": "Zb2pgPByQYzf"
      },
      "execution_count": null,
      "outputs": []
    },
    {
      "cell_type": "code",
      "source": [
        "import pandas as pd\n",
        "import re\n",
        "from sklearn.preprocessing import StandardScaler\n",
        "from sklearn.model_selection import train_test_split\n",
        "from sklearn.metrics import accuracy_score, f1_score, roc_auc_score, classification_report, confusion_matrix"
      ],
      "metadata": {
        "id": "pWVrucFuTkzE"
      },
      "execution_count": null,
      "outputs": []
    },
    {
      "cell_type": "code",
      "source": [
        "# metric\n",
        "def get_metrics(y_test, y_pred):\n",
        "    print(f'ACCURACY_SCORE: {round(accuracy_score(y_test, y_pred), 4)}')\n",
        "    print(f'F1_SCORE: {round(f1_score(y_test, y_pred), 4)}')\n",
        "    print(f'CONFUSION_MATRIX: {confusion_matrix(y_test, y_pred)}')\n",
        "    print(classification_report(y_test, y_pred, digits=4))"
      ],
      "metadata": {
        "id": "LInFk-qaqw2w"
      },
      "execution_count": null,
      "outputs": []
    },
    {
      "cell_type": "code",
      "source": [
        "df = pd.read_csv('train.csv')"
      ],
      "metadata": {
        "id": "geCbp2wRsJfY"
      },
      "execution_count": null,
      "outputs": []
    },
    {
      "cell_type": "code",
      "source": [
        "# normalize string\n",
        "def str_normalize(s):\n",
        "    # convert into lowercase and replace multiple spaces into single space\n",
        "    s = str(s).strip().lower()\n",
        "    s = re.sub(' +', ' ', s)\n",
        "    return s\n",
        "\n",
        "# encode category and object columns\n",
        "def process(df):\n",
        "    for col in df.columns:\n",
        "        if df[col].dtype.name == 'object' or df[col].dtype.name == 'category':\n",
        "            df[col] = df[col].apply(str_normalize).astype('category')\n",
        "    return df\n",
        "\n",
        "df = process(df.copy())\n",
        "IDs = df.pop('ID')\n",
        "label = df.pop('target_income')\n",
        "df_one_hot = pd.get_dummies(df)"
      ],
      "metadata": {
        "id": "u6WfpOntsX0X"
      },
      "execution_count": null,
      "outputs": []
    },
    {
      "cell_type": "code",
      "source": [
        "features = df_one_hot.columns.tolist()\n",
        "label = label.values"
      ],
      "metadata": {
        "id": "9HeEdYjrvG2t"
      },
      "execution_count": null,
      "outputs": []
    },
    {
      "cell_type": "code",
      "source": [
        "X_train, X_val, y_train, y_val = train_test_split(df_one_hot[features].values, label, test_size = 0.2, random_state=123)\n",
        "print(f\"Training set: {X_train.shape}, Validation set: {X_val.shape}\")\n",
        "print(f\"Training label set: {y_train.shape}, Validation label set: {y_val.shape}\")\n",
        "sc = StandardScaler()\n",
        "X_train = sc.fit_transform(X_train)\n",
        "X_val = sc.transform(X_val)"
      ],
      "metadata": {
        "colab": {
          "base_uri": "https://localhost:8080/"
        },
        "id": "4Xvx58rZvNMZ",
        "outputId": "ab874a53-7420-4b6e-85e0-f48f2fa3fe91"
      },
      "execution_count": null,
      "outputs": [
        {
          "output_type": "stream",
          "name": "stdout",
          "text": [
            "Training set: (20000, 108), Validation set: (5000, 108)\n",
            "Training label set: (20000,), Validation label set: (5000,)\n"
          ]
        }
      ]
    },
    {
      "cell_type": "code",
      "source": [
        "# 10)\n",
        "import torch\n",
        "import torch.nn as nn\n",
        "\n",
        "torch.manual_seed(123)\n",
        "\n",
        "class ICNet(nn.Module):\n",
        "    def __init__(self, hl):\n",
        "        super(ICNet, self).__init__()\n",
        "        self.fc1 = nn.Linear(len(features), hl)\n",
        "        self.fc2 = nn.Linear(hl, hl)\n",
        "        self.fc3 = nn.Linear(hl, hl)\n",
        "        self.fc4 = nn.Linear(hl, 1)\n",
        "    \n",
        "    def forward(self, x):\n",
        "        x = torch.relu(self.fc1(x))\n",
        "        x = torch.relu(self.fc2(x))\n",
        "        x = torch.relu(self.fc3(x))\n",
        "        x = torch.sigmoid(self.fc4(x))\n",
        "        return x\n",
        "\n",
        "model = ICNet(10)\n",
        "print(model)"
      ],
      "metadata": {
        "colab": {
          "base_uri": "https://localhost:8080/"
        },
        "id": "oGJmnso0xpxk",
        "outputId": "942928e1-b88b-4d4c-cde4-9bbe70d66d38"
      },
      "execution_count": null,
      "outputs": [
        {
          "output_type": "stream",
          "name": "stdout",
          "text": [
            "ICNet(\n",
            "  (fc1): Linear(in_features=108, out_features=10, bias=True)\n",
            "  (fc2): Linear(in_features=10, out_features=10, bias=True)\n",
            "  (fc3): Linear(in_features=10, out_features=10, bias=True)\n",
            "  (fc4): Linear(in_features=10, out_features=1, bias=True)\n",
            ")\n"
          ]
        }
      ]
    },
    {
      "cell_type": "code",
      "source": [
        "def train(model, data_loader, optimizer):\n",
        "    # Set the model\n",
        "    model.train()\n",
        "    train_loss = 0\n",
        "    batch_count = 0\n",
        "    correct = 0\n",
        "\n",
        "    for batch, tensor in enumerate(data_loader):\n",
        "        batch_count += 1\n",
        "        data, target = tensor\n",
        "        target = target.unsqueeze(1).float()\n",
        "        # Feedforward: Calculate y_pred and loss function\n",
        "        optimizer.zero_grad()\n",
        "        out = model(data)\n",
        "        loss = loss_criteria(out, target)\n",
        "        train_loss += loss.item()\n",
        "\n",
        "        # Calculate the accuracy\n",
        "        _, predicted = torch.max(out.data, 1)\n",
        "        correct += torch.sum(target.T==predicted).item()\n",
        "\n",
        "        # Backpropagate: Compute Gradient Descent and Update weights\n",
        "        loss.backward()\n",
        "        optimizer.step()\n",
        "\n",
        "    # Return average loss\n",
        "    avg_loss = train_loss / (batch + 1)\n",
        "    acc = 100. * correct / len(data_loader.dataset)\n",
        "    print(f'Training set: Average loss: {avg_loss:.6f}, Accuracy: {acc:.6f}%')\n",
        "    return avg_loss"
      ],
      "metadata": {
        "id": "N4nKIl9TzeyK"
      },
      "execution_count": null,
      "outputs": []
    },
    {
      "cell_type": "code",
      "source": [
        "def test(model, data_loader):\n",
        "    # Switch the model to evaluation mode (so we don't backpropagate)\n",
        "    model.eval()\n",
        "    test_loss = 0\n",
        "    correct = 0\n",
        "\n",
        "    with torch.no_grad():\n",
        "        batch_count = 0\n",
        "        for batch, tensor in enumerate(data_loader):\n",
        "            batch_count += 1\n",
        "            data, target = tensor\n",
        "            target = target.unsqueeze(1).float()\n",
        "            # Get the predictions\n",
        "            out = model(data)\n",
        "\n",
        "            # calculate the loss\n",
        "            test_loss += loss_criteria(out, target).item()\n",
        "\n",
        "            # Calculate the accuracy\n",
        "            _, predicted = torch.max(out.data, 1)\n",
        "            correct += torch.sum(target.T==predicted).item()\n",
        "            \n",
        "    # Calculate the average loss and total accuracy for this epoch\n",
        "    avg_loss = test_loss/batch_count\n",
        "    acc = 100. * correct / len(data_loader.dataset)\n",
        "    print(f'Validation set: Average loss: {avg_loss:.6f}, Accuracy: {acc:.6f}%\\n')\n",
        "    \n",
        "    # return average loss for the epoch\n",
        "    return avg_loss\n",
        "\n"
      ],
      "metadata": {
        "id": "5noSs_qqz30p"
      },
      "execution_count": null,
      "outputs": []
    },
    {
      "cell_type": "code",
      "source": [
        "import torch.utils.data as td\n",
        "\n",
        "# Create a dataset and loader for the training, validation data and labels\n",
        "train_x = torch.Tensor(X_train).float()\n",
        "print(f\"Train X: {train_x.shape}\")\n",
        "train_y = torch.Tensor(y_train)\n",
        "print(f\"Train y: {train_y.shape}\")\n",
        "train_ds = td.TensorDataset(train_x, train_y)\n",
        "train_loader = td.DataLoader(train_ds, batch_size=20, shuffle=True, num_workers=1)\n",
        "\n",
        "val_x = torch.Tensor(X_val).float()\n",
        "print(f\"Val X: {val_x.shape}\")\n",
        "val_y = torch.Tensor(y_val)\n",
        "print(f\"Val y: {val_y.shape}\")\n",
        "val_ds = td.TensorDataset(val_x, val_y)\n",
        "val_loader = td.DataLoader(val_ds, batch_size=20, shuffle=False, num_workers=1)"
      ],
      "metadata": {
        "colab": {
          "base_uri": "https://localhost:8080/"
        },
        "id": "Mts2FFov5NO2",
        "outputId": "2f17c352-5195-4390-fa7c-cd4fe7963ebd"
      },
      "execution_count": null,
      "outputs": [
        {
          "output_type": "stream",
          "name": "stdout",
          "text": [
            "Train X: torch.Size([20000, 108])\n",
            "Train y: torch.Size([20000])\n",
            "Val X: torch.Size([5000, 108])\n",
            "Val y: torch.Size([5000])\n"
          ]
        }
      ]
    },
    {
      "cell_type": "code",
      "source": [
        "# Specify the loss criteria \n",
        "loss_criteria = nn.BCELoss()\n",
        "\n",
        "learning_rate = 1e-2\n",
        "optimizer = torch.optim.Adam(model.parameters(), lr=learning_rate)\n",
        "optimizer.zero_grad()\n",
        "\n",
        "# Track metrics for each epoch\n",
        "epoch_nums = []\n",
        "training_loss = []\n",
        "validation_loss = []\n",
        "\n",
        "epochs = 50\n",
        "for epoch in range(1, epochs + 1):\n",
        "    print(f'Epoch: {epoch}')\n",
        "\n",
        "    # Feed training data into the model to optimize the weights\n",
        "    train_loss = train(model, train_loader, optimizer)\n",
        "\n",
        "    # Feed the val data into the model to check its performance\n",
        "    val_loss = test(model, val_loader)\n",
        "\n",
        "    # Log the metrics for current epoch\n",
        "    epoch_nums.append(epoch)\n",
        "    training_loss.append(train_loss)\n",
        "    validation_loss.append(val_loss)"
      ],
      "metadata": {
        "colab": {
          "base_uri": "https://localhost:8080/"
        },
        "id": "SvhgNDBY3nfq",
        "outputId": "932cb48c-4277-43c0-bad3-b0b4e36b48e3"
      },
      "execution_count": null,
      "outputs": [
        {
          "output_type": "stream",
          "name": "stdout",
          "text": [
            "Epoch: 1\n",
            "Training set: Average loss: 0.354986, Accuracy: 76.050000%\n",
            "Validation set: Average loss: 0.327961, Accuracy: 76.080000%\n",
            "\n",
            "Epoch: 2\n",
            "Training set: Average loss: 0.322538, Accuracy: 76.050000%\n",
            "Validation set: Average loss: 0.329047, Accuracy: 76.080000%\n",
            "\n",
            "Epoch: 3\n",
            "Training set: Average loss: 0.315334, Accuracy: 76.050000%\n",
            "Validation set: Average loss: 0.326698, Accuracy: 76.080000%\n",
            "\n",
            "Epoch: 4\n",
            "Training set: Average loss: 0.312762, Accuracy: 76.050000%\n",
            "Validation set: Average loss: 0.325242, Accuracy: 76.080000%\n",
            "\n",
            "Epoch: 5\n",
            "Training set: Average loss: 0.310849, Accuracy: 76.050000%\n",
            "Validation set: Average loss: 0.321103, Accuracy: 76.080000%\n",
            "\n",
            "Epoch: 6\n",
            "Training set: Average loss: 0.307606, Accuracy: 76.050000%\n",
            "Validation set: Average loss: 0.330040, Accuracy: 76.080000%\n",
            "\n",
            "Epoch: 7\n",
            "Training set: Average loss: 0.306867, Accuracy: 76.050000%\n",
            "Validation set: Average loss: 0.317709, Accuracy: 76.080000%\n",
            "\n",
            "Epoch: 8\n",
            "Training set: Average loss: 0.303325, Accuracy: 76.050000%\n",
            "Validation set: Average loss: 0.318769, Accuracy: 76.080000%\n",
            "\n",
            "Epoch: 9\n",
            "Training set: Average loss: 0.301365, Accuracy: 76.050000%\n",
            "Validation set: Average loss: 0.327768, Accuracy: 76.080000%\n",
            "\n",
            "Epoch: 10\n",
            "Training set: Average loss: 0.300006, Accuracy: 76.050000%\n",
            "Validation set: Average loss: 0.327591, Accuracy: 76.080000%\n",
            "\n",
            "Epoch: 11\n",
            "Training set: Average loss: 0.298083, Accuracy: 76.050000%\n",
            "Validation set: Average loss: 0.325395, Accuracy: 76.080000%\n",
            "\n",
            "Epoch: 12\n",
            "Training set: Average loss: 0.297298, Accuracy: 76.050000%\n",
            "Validation set: Average loss: 0.327684, Accuracy: 76.080000%\n",
            "\n",
            "Epoch: 13\n",
            "Training set: Average loss: 0.300121, Accuracy: 76.050000%\n",
            "Validation set: Average loss: 0.329924, Accuracy: 76.080000%\n",
            "\n",
            "Epoch: 14\n",
            "Training set: Average loss: 0.295955, Accuracy: 76.050000%\n",
            "Validation set: Average loss: 0.328171, Accuracy: 76.080000%\n",
            "\n",
            "Epoch: 15\n",
            "Training set: Average loss: 0.293406, Accuracy: 76.050000%\n",
            "Validation set: Average loss: 0.342418, Accuracy: 76.080000%\n",
            "\n",
            "Epoch: 16\n",
            "Training set: Average loss: 0.293444, Accuracy: 76.050000%\n",
            "Validation set: Average loss: 0.327313, Accuracy: 76.080000%\n",
            "\n",
            "Epoch: 17\n",
            "Training set: Average loss: 0.292053, Accuracy: 76.050000%\n",
            "Validation set: Average loss: 0.329974, Accuracy: 76.080000%\n",
            "\n",
            "Epoch: 18\n",
            "Training set: Average loss: 0.297283, Accuracy: 76.050000%\n",
            "Validation set: Average loss: 0.333298, Accuracy: 76.080000%\n",
            "\n",
            "Epoch: 19\n",
            "Training set: Average loss: 0.291580, Accuracy: 76.050000%\n",
            "Validation set: Average loss: 0.328862, Accuracy: 76.080000%\n",
            "\n",
            "Epoch: 20\n",
            "Training set: Average loss: 0.294715, Accuracy: 76.050000%\n",
            "Validation set: Average loss: 0.343039, Accuracy: 76.080000%\n",
            "\n",
            "Epoch: 21\n",
            "Training set: Average loss: 0.293993, Accuracy: 76.050000%\n",
            "Validation set: Average loss: 0.343192, Accuracy: 76.080000%\n",
            "\n",
            "Epoch: 22\n",
            "Training set: Average loss: 0.289604, Accuracy: 76.050000%\n",
            "Validation set: Average loss: 0.355406, Accuracy: 76.080000%\n",
            "\n",
            "Epoch: 23\n",
            "Training set: Average loss: 0.294081, Accuracy: 76.050000%\n",
            "Validation set: Average loss: 0.340708, Accuracy: 76.080000%\n",
            "\n",
            "Epoch: 24\n",
            "Training set: Average loss: 0.293652, Accuracy: 76.050000%\n",
            "Validation set: Average loss: 0.358434, Accuracy: 76.080000%\n",
            "\n",
            "Epoch: 25\n",
            "Training set: Average loss: 0.288480, Accuracy: 76.050000%\n",
            "Validation set: Average loss: 0.351943, Accuracy: 76.080000%\n",
            "\n",
            "Epoch: 26\n",
            "Training set: Average loss: 0.288418, Accuracy: 76.050000%\n",
            "Validation set: Average loss: 0.343945, Accuracy: 76.080000%\n",
            "\n",
            "Epoch: 27\n",
            "Training set: Average loss: 0.294600, Accuracy: 76.050000%\n",
            "Validation set: Average loss: 0.347477, Accuracy: 76.080000%\n",
            "\n",
            "Epoch: 28\n",
            "Training set: Average loss: 0.293227, Accuracy: 76.050000%\n",
            "Validation set: Average loss: 0.341958, Accuracy: 76.080000%\n",
            "\n",
            "Epoch: 29\n",
            "Training set: Average loss: 0.288408, Accuracy: 76.050000%\n",
            "Validation set: Average loss: 0.367111, Accuracy: 76.080000%\n",
            "\n",
            "Epoch: 30\n",
            "Training set: Average loss: 0.288230, Accuracy: 76.050000%\n",
            "Validation set: Average loss: 0.348457, Accuracy: 76.080000%\n",
            "\n",
            "Epoch: 31\n",
            "Training set: Average loss: 0.292501, Accuracy: 76.050000%\n",
            "Validation set: Average loss: 0.370781, Accuracy: 76.080000%\n",
            "\n",
            "Epoch: 32\n",
            "Training set: Average loss: 0.292665, Accuracy: 76.050000%\n",
            "Validation set: Average loss: 0.359831, Accuracy: 76.080000%\n",
            "\n",
            "Epoch: 33\n",
            "Training set: Average loss: 0.288218, Accuracy: 76.050000%\n",
            "Validation set: Average loss: 0.351706, Accuracy: 76.080000%\n",
            "\n",
            "Epoch: 34\n",
            "Training set: Average loss: 0.291859, Accuracy: 76.050000%\n",
            "Validation set: Average loss: 0.358287, Accuracy: 76.080000%\n",
            "\n",
            "Epoch: 35\n",
            "Training set: Average loss: 0.286734, Accuracy: 76.050000%\n",
            "Validation set: Average loss: 0.346597, Accuracy: 76.080000%\n",
            "\n",
            "Epoch: 36\n",
            "Training set: Average loss: 0.285553, Accuracy: 76.050000%\n",
            "Validation set: Average loss: 0.347938, Accuracy: 76.080000%\n",
            "\n",
            "Epoch: 37\n",
            "Training set: Average loss: 0.290785, Accuracy: 76.050000%\n",
            "Validation set: Average loss: 0.361988, Accuracy: 76.080000%\n",
            "\n",
            "Epoch: 38\n",
            "Training set: Average loss: 0.288580, Accuracy: 76.050000%\n",
            "Validation set: Average loss: 0.386990, Accuracy: 76.080000%\n",
            "\n",
            "Epoch: 39\n",
            "Training set: Average loss: 0.289122, Accuracy: 76.050000%\n",
            "Validation set: Average loss: 0.344109, Accuracy: 76.080000%\n",
            "\n",
            "Epoch: 40\n",
            "Training set: Average loss: 0.288132, Accuracy: 76.050000%\n",
            "Validation set: Average loss: 0.398758, Accuracy: 76.080000%\n",
            "\n",
            "Epoch: 41\n",
            "Training set: Average loss: 0.287187, Accuracy: 76.050000%\n",
            "Validation set: Average loss: 0.349795, Accuracy: 76.080000%\n",
            "\n",
            "Epoch: 42\n",
            "Training set: Average loss: 0.288048, Accuracy: 76.050000%\n",
            "Validation set: Average loss: 0.358361, Accuracy: 76.080000%\n",
            "\n",
            "Epoch: 43\n",
            "Training set: Average loss: 0.287536, Accuracy: 76.050000%\n",
            "Validation set: Average loss: 0.352733, Accuracy: 76.080000%\n",
            "\n",
            "Epoch: 44\n",
            "Training set: Average loss: 0.287390, Accuracy: 76.050000%\n",
            "Validation set: Average loss: 0.344211, Accuracy: 76.080000%\n",
            "\n",
            "Epoch: 45\n",
            "Training set: Average loss: 0.287545, Accuracy: 76.050000%\n",
            "Validation set: Average loss: 0.344073, Accuracy: 76.080000%\n",
            "\n",
            "Epoch: 46\n",
            "Training set: Average loss: 0.287094, Accuracy: 76.050000%\n",
            "Validation set: Average loss: 0.384292, Accuracy: 76.080000%\n",
            "\n",
            "Epoch: 47\n",
            "Training set: Average loss: 0.286392, Accuracy: 76.050000%\n",
            "Validation set: Average loss: 0.356502, Accuracy: 76.080000%\n",
            "\n",
            "Epoch: 48\n",
            "Training set: Average loss: 0.285971, Accuracy: 76.050000%\n",
            "Validation set: Average loss: 0.351571, Accuracy: 76.080000%\n",
            "\n",
            "Epoch: 49\n",
            "Training set: Average loss: 0.286526, Accuracy: 76.050000%\n",
            "Validation set: Average loss: 0.366496, Accuracy: 76.080000%\n",
            "\n",
            "Epoch: 50\n",
            "Training set: Average loss: 0.285715, Accuracy: 76.050000%\n",
            "Validation set: Average loss: 0.382794, Accuracy: 76.080000%\n",
            "\n"
          ]
        }
      ]
    },
    {
      "cell_type": "code",
      "source": [
        "import numpy as np\n",
        "from sklearn.metrics import confusion_matrix\n",
        "import matplotlib.pyplot as plt\n",
        "%matplotlib inline\n",
        "\n",
        "def _evaluate(model, x_test):\n",
        "    y_pred = model(x_test)\n",
        "    predictions = (y_pred > 0.5)\n",
        "    print('Evaluation on test dataset')\n",
        "    get_metrics(val_y, predictions)\n",
        "\n",
        "    # Plot the confusion matrix\n",
        "    classes = ['0', '1']\n",
        "    cm = confusion_matrix(val_y, predictions)\n",
        "    plt.imshow(cm, interpolation=\"nearest\", cmap=plt.cm.Blues)\n",
        "    plt.colorbar()\n",
        "    tick_marks = np.arange(2)\n",
        "    plt.xticks(tick_marks, classes, rotation=85)\n",
        "    plt.yticks(tick_marks, classes)\n",
        "    plt.xlabel(\"Predicted\")\n",
        "    plt.ylabel(\"Actual\")\n",
        "    plt.show()\n",
        "\n",
        "_evaluate(model, val_x)"
      ],
      "metadata": {
        "id": "2Wvzm_CV610t",
        "colab": {
          "base_uri": "https://localhost:8080/",
          "height": 522
        },
        "outputId": "4ab721d6-39fc-49d4-d27f-2d8f7e5e1c66"
      },
      "execution_count": null,
      "outputs": [
        {
          "output_type": "stream",
          "name": "stdout",
          "text": [
            "Evaluation on test dataset\n",
            "ACCURACY_SCORE: 0.8538\n",
            "F1_SCORE: 0.6694\n",
            "CONFUSION_MATRIX: [[3529  275]\n",
            " [ 456  740]]\n",
            "              precision    recall  f1-score   support\n",
            "\n",
            "         0.0     0.8856    0.9277    0.9061      3804\n",
            "         1.0     0.7291    0.6187    0.6694      1196\n",
            "\n",
            "    accuracy                         0.8538      5000\n",
            "   macro avg     0.8073    0.7732    0.7878      5000\n",
            "weighted avg     0.8481    0.8538    0.8495      5000\n",
            "\n"
          ]
        },
        {
          "output_type": "display_data",
          "data": {
            "image/png": "[encoded data removed]",
            "text/plain": [
              "<Figure size 432x288 with 2 Axes>"
            ]
          },
          "metadata": {
            "needs_background": "light"
          }
        }
      ]
    },
    {
      "cell_type": "code",
      "source": [
        ""
      ],
      "metadata": {
        "id": "x7rOLFqjcWR2"
      },
      "execution_count": null,
      "outputs": []
    }
  ]
}