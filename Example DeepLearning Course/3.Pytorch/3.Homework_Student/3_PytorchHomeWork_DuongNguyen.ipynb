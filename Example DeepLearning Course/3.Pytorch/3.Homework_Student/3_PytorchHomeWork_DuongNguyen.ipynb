{
  "cells": [
    {
      "cell_type": "markdown",
      "metadata": {
        "id": "DUXbtwUsAGPq"
      },
      "source": [
        "# 1. Lý thuyết\n",
        "\n",
        "**1) Để khởi tạo model trong pytorch chúng ta sử dụng class nào?**\n",
        "\n",
        "A. nn.Module\n",
        "\n",
        "B. nn.Dense\n",
        "\n",
        "C. nn.optim.Adam\n",
        "\n",
        "D. nn.Dropout\n",
        "\n",
        "**2) Để khởi tạo mạng neural network trong pytorch chúng ta cần làm gì ?**\n",
        "\n",
        "A. Kế thừa lại class `nn.Model`. Khởi tạo các layers trong hàm tạo `__init__()` và sử dụng các layers để tính toán dữ liệu trong hàm `forward()`.\n",
        "\n",
        "B. Khởi tạo một object của class `nn.Model` và sử dụng hàm `add()` để thêm từng layer vào mô hình.\n",
        "\n",
        "C. Sử dụng class `nn.Model` để khởi tạo mô hình. Truyền vào bên trong class này một list gồm các layers.\n",
        "\n",
        "D. Kế thừa lại class `nn.Module`. Khởi tạo các layers trong hàm tạo `__init__()` và sử dụng các layers để tính toán dữ liệu trong hàm `forward()`.\n",
        "\n",
        "\n",
        "**3) Các modules chính trong pytorch dùng để xây dựng và huấn luyện model.**\n",
        "\n",
        "A. `torch.nn`: Dùng để khởi tạo các layers và activations function và loss function, `torch.optim`: Khởi tạo optimizer, `torch.data`: Khởi tạo dataset và dataloader.\n",
        "\n",
        "B. `torch.nn`: Dùng để khởi tạo các layers và activations function và loss function, `torch.optim`: Khởi tạo optimizer, `torch.utils.data`: Khởi tạo dataset và dataloader.\n",
        "\n",
        "C. `torch.nn`: Dùng để khởi tạo các layers và activations function, `torch.optim`: Khởi tạo optimizer, `torch.data`: Khởi tạo dataset và dataloader, `torch.loss`: Khởi tạo loss function.\n",
        "\n",
        "D. `torch.nn`: Dùng để khởi tạo các layers và loss function, `torch.optim`: Khởi tạo optimizer, `torch.data`: Khởi tạo dataset và dataloader, `torch.activations`: Khởi tạo activations function.\n",
        "\n",
        "\n",
        "**4) Để customize một Dataset trên pytorch chúng ta cần thực hiện như thế nào?**\n",
        "\n",
        "A. Sử dụng thuộc tính `transformer` để qui định các biến đổi trên dữ liệu. Những biến đổi này được thực hiện trên hàm tạo.\n",
        "\n",
        "B. Khởi tạo một class kế thừa lại `torch.utils.data.Dataset`. Khai báo các thuộc tính cần sử dụng trong hàm tạo của dataset như list đường dẫn, list label. Override lại hàm `__getitem__()` để thực hiện các xử lý trên dữ liệu.\n",
        "\n",
        "C. Kế thừa lại một class `Dataset`. Các điều chỉnh trên dữ liệu được thực hiện trên hàm `transformer()`.\n",
        "\n",
        "D. Sử dụng hàm `__getitem__()` để trả về toàn bộ các quan sát khi huấn luyện. \n",
        "\n",
        "**5) Ý nghĩa của tham số epochs và batch_size trong huấn luyện mô hình là gì?**\n",
        "\n",
        "A. epochs là kích thước của một mini-batch, batch_size là số lượt lặp lại toàn bộ dữ liệu khi huấn luyện.\n",
        "\n",
        "B. epochs là số lượt lặp lại toàn bộ dữ liệu validation khi huấn luyện, batch_size là kích thước của một mini-batch.\n",
        "\n",
        "C. epochs là số lượt lặp lại toàn bộ dữ liệu train khi huấn luyện, batch_size là kích thước của một mini-batch.\n",
        "\n",
        "D. epochs là số lượng vòng lặp, mỗi vòng lặp là một lượt fit mini-batch, trên bộ dữ liệu khi huấn luyện; batch_size là kích thước của một mini-batch."
      ]
    },
    {
      "cell_type": "markdown",
      "metadata": {
        "id": "EBMipG_4qlh5"
      },
      "source": [
        "+ Câu 1: **A**\n",
        "+ Câu 2: **D**\n",
        "+ Câu 3: **B** \n",
        "+ Câu 4: **B**\n",
        "+ Câu 5: **C**"
      ]
    },
    {
      "cell_type": "markdown",
      "metadata": {
        "id": "LzLjMsckAJAT"
      },
      "source": [
        "# 2. Thực hành\n",
        "\n",
        "6) Khởi tạo một tensor 3 chiều với định dạng là float và kích thước là 32x32x3\n",
        "\n",
        "7) Nếu coi tensor trên là một bức ảnh RGB với số channel là 3 ở cuối. Hãy truy suất các ma trận ảnh tương ứng với mỗi kênh R, G, B.\n",
        "\n",
        "8) Thực hiện tích hadamard và tích thông thường giữa ma trận R và G.\n",
        "\n",
        "9) Từ bộ dữ liệu [Income-Classification](https://www.kaggle.com/t/090688c8d33a40b68be9e271d6ba6bae) hãy chuẩn hóa dữ liệu và phân chia tập train/test theo tỷ lệ 80/20. \n",
        "\n",
        "10) Xây dựng một mạng deep-neural-network để huấn luyện mô hình trên dữ liệu train và đánh giá mô hình trên dữ liệu test.\n"
      ]
    },
    {
      "cell_type": "code",
      "execution_count": null,
      "metadata": {
        "id": "idcQZ1XVqlh9"
      },
      "outputs": [],
      "source": [
        "import torch.nn as nn\n",
        "import torch"
      ]
    },
    {
      "cell_type": "markdown",
      "metadata": {
        "id": "Vq5yjT5YqliB"
      },
      "source": [
        "+ Câu 6"
      ]
    },
    {
      "cell_type": "code",
      "execution_count": null,
      "metadata": {
        "id": "TLelrDvGqliD",
        "outputId": "ebec6997-66a9-4e9b-c9c5-b894d6c58e5d"
      },
      "outputs": [
        {
          "data": {
            "text/plain": [
              "torch.Size([32, 32, 3])"
            ]
          },
          "execution_count": 2,
          "metadata": {},
          "output_type": "execute_result"
        }
      ],
      "source": [
        "tensor_3d = torch.randn((32, 32, 3))\n",
        "tensor_3d.size()"
      ]
    },
    {
      "cell_type": "markdown",
      "metadata": {
        "id": "97lXq12GqliH"
      },
      "source": [
        "+ Câu 7"
      ]
    },
    {
      "cell_type": "code",
      "execution_count": null,
      "metadata": {
        "id": "JQfvmStYqliJ"
      },
      "outputs": [],
      "source": [
        "channel_R = tensor_3d[:, :, 0]\n",
        "channel_G = tensor_3d[:, :, 1]\n",
        "channel_B = tensor_3d[:, :, 2]"
      ]
    },
    {
      "cell_type": "markdown",
      "metadata": {
        "id": "T3tr6vf8qliK"
      },
      "source": [
        "+ Câu 8"
      ]
    },
    {
      "cell_type": "code",
      "execution_count": null,
      "metadata": {
        "id": "YUgMICeAqliM",
        "outputId": "c03082a4-70c8-4e50-8389-37f215ae87e8"
      },
      "outputs": [
        {
          "name": "stdout",
          "output_type": "stream",
          "text": [
            "torch.Size([32, 32])\n",
            "torch.Size([32, 32])\n"
          ]
        }
      ],
      "source": [
        "hadamard = channel_R * channel_G\n",
        "print(hadamard.size())\n",
        "mtrix_mul = channel_R @ channel_G\n",
        "print(mtrix_mul.size())"
      ]
    },
    {
      "cell_type": "markdown",
      "metadata": {
        "id": "gAaV1V_8qliO"
      },
      "source": [
        "+ Câu 9,10"
      ]
    },
    {
      "cell_type": "code",
      "execution_count": null,
      "metadata": {
        "id": "jY3zCKlgqliP",
        "outputId": "9be2e54d-d96e-4f17-cc4a-aefb1ee9b08c"
      },
      "outputs": [
        {
          "data": {
            "text/plain": [
              "<torch._C.Generator at 0x224d60bd070>"
            ]
          },
          "execution_count": 5,
          "metadata": {},
          "output_type": "execute_result"
        }
      ],
      "source": [
        "import os\n",
        "import pandas as pd\n",
        "import torch.utils.data as td\n",
        "import torch\n",
        "import torch.nn as nn\n",
        "import category_encoders as ce\n",
        "from sklearn.base import BaseEstimator, TransformerMixin\n",
        "from sklearn.preprocessing import StandardScaler, MinMaxScaler\n",
        "from sklearn.model_selection import train_test_split\n",
        "\n",
        "torch.manual_seed(42)"
      ]
    },
    {
      "cell_type": "code",
      "execution_count": null,
      "metadata": {
        "id": "A8TfGaULqliR"
      },
      "outputs": [],
      "source": [
        "df = pd.read_csv('train.csv')"
      ]
    },
    {
      "cell_type": "markdown",
      "metadata": {
        "id": "kbpA3CXOqliT"
      },
      "source": [
        "### Feature engineering"
      ]
    },
    {
      "cell_type": "code",
      "execution_count": null,
      "metadata": {
        "id": "FplHyLXfqliU"
      },
      "outputs": [],
      "source": [
        "# Xử lý outlier\n",
        "\n",
        "def find_boxplot_boundaries(feature, whisker_coeff=1.5):\n",
        "    Q1 = feature.quantile(0.25)\n",
        "    Q3 = feature.quantile(0.75)\n",
        "    \n",
        "    IQR = Q3 - Q1\n",
        "    lower = Q1 - IQR * whisker_coeff\n",
        "    upper = Q3 + IQR * whisker_coeff\n",
        "    \n",
        "    return lower, upper\n",
        "\n",
        "\n",
        "class BoxplotOutlierClipper(BaseEstimator, TransformerMixin):\n",
        "    \n",
        "    def __init__(self, whisker_coeff=1.5):\n",
        "        self.whisker_coeff = whisker_coeff\n",
        "        self.lower = None\n",
        "        self.upper = None\n",
        "    \n",
        "    def fit(self, feature: pd.Series):\n",
        "        self.lower, self.upper = find_boxplot_boundaries(feature)\n",
        "        return self\n",
        "    \n",
        "    def transform(self, feature):\n",
        "        return feature.clip(self.lower, self.upper)\n",
        "    \n",
        "    \n",
        "df['final_weight'] = BoxplotOutlierClipper().fit_transform(df['final_weight'])\n",
        "df['hrs_per_week'] = BoxplotOutlierClipper().fit_transform(df['hrs_per_week'])\n",
        "df['total_education_yrs'] = BoxplotOutlierClipper().fit_transform(df['total_education_yrs'])"
      ]
    },
    {
      "cell_type": "code",
      "execution_count": null,
      "metadata": {
        "id": "ynzjoOySqliV"
      },
      "outputs": [],
      "source": [
        "# Những quốc gia có số lượng ít hơn 100 chuyển thành other\n",
        "def convert_nationality(x):\n",
        "    if x=='US':\n",
        "        return x\n",
        "    elif x=='Mexico':\n",
        "        return x\n",
        "    elif x=='?':\n",
        "        return x\n",
        "    elif x=='Philippines':\n",
        "        return x\n",
        "    elif x=='Germany':\n",
        "        return x\n",
        "    else:\n",
        "        return 'other'"
      ]
    },
    {
      "cell_type": "code",
      "execution_count": null,
      "metadata": {
        "id": "JmrQWiywqliW"
      },
      "outputs": [],
      "source": [
        "# xóa bỏ những giá trị có captital gain từ 40000 tới 100000 (chính là giá trị 99999)\n",
        "df = df[~(df['capital_gain'] >= 40000) & (df['capital_gain'] <= 100000)]"
      ]
    },
    {
      "cell_type": "code",
      "execution_count": null,
      "metadata": {
        "id": "Wo6-TpR0qliX"
      },
      "outputs": [],
      "source": [
        "def fe(X_train, X_val, index_scaler):\n",
        "    cols = df.select_dtypes(include='object')\n",
        "    onehot = ce.OneHotEncoder(cols)\n",
        "    X_train = onehot.fit_transform(X_train)\n",
        "    X_val = onehot.transform(X_val)\n",
        "    \n",
        "    scaler_list = [StandardScaler(), MinMaxScaler()]\n",
        "    scaler = scaler_list[index_scaler]\n",
        "    X_train = scaler.fit_transform(X_train)\n",
        "    X_val = scaler.transform(X_val)\n",
        "    \n",
        "    return X_train, X_val    "
      ]
    },
    {
      "cell_type": "markdown",
      "metadata": {
        "id": "d6lQpO-hqliX"
      },
      "source": [
        "### Chia và chuẩn bị dữ liệu"
      ]
    },
    {
      "cell_type": "code",
      "execution_count": null,
      "metadata": {
        "id": "UP8ZlyhpqliY"
      },
      "outputs": [],
      "source": [
        "df_new = df.sample(frac=1, ignore_index=True, random_state=42)\n",
        "\n",
        "X = df_new.drop(['ID', 'target_income'], axis=1)\n",
        "y = df_new['target_income']"
      ]
    },
    {
      "cell_type": "code",
      "execution_count": null,
      "metadata": {
        "id": "6G_rgYlLqliY"
      },
      "outputs": [],
      "source": [
        "X_train, X_val, y_train, y_val = train_test_split(X, y, test_size=0.2, random_state=42, stratify=y)\n",
        "X_train, X_val = fe(X_train, X_val, index_scaler=1)"
      ]
    },
    {
      "cell_type": "code",
      "execution_count": null,
      "metadata": {
        "id": "RjjR-5KIqliY"
      },
      "outputs": [],
      "source": [
        "X_train = torch.tensor(X_train).float()\n",
        "y_train = torch.tensor(y_train.values).long()\n",
        "train_ds = td.TensorDataset(X_train, y_train)\n",
        "train_loader = td.DataLoader(train_ds, batch_size=32, shuffle=True, num_workers=1)\n",
        "\n",
        "X_val = torch.tensor(X_val).float()\n",
        "y_val = torch.tensor(y_val.values).long()\n",
        "val_ds = td.TensorDataset(X_val, y_val)\n",
        "val_loader = td.DataLoader(val_ds, batch_size=32, num_workers=1)"
      ]
    },
    {
      "cell_type": "markdown",
      "metadata": {
        "id": "jbzTJQfvqliZ"
      },
      "source": [
        "### Xây dựng model"
      ]
    },
    {
      "cell_type": "code",
      "execution_count": null,
      "metadata": {
        "id": "_Od-rCxNqliZ",
        "outputId": "20cc6c40-4d41-4036-dc1c-e4bf15704271"
      },
      "outputs": [
        {
          "data": {
            "text/plain": [
              "MyModel(\n",
              "  (fc1): Linear(in_features=108, out_features=32, bias=True)\n",
              "  (fc2): Linear(in_features=32, out_features=32, bias=True)\n",
              "  (fc3): Linear(in_features=32, out_features=10, bias=True)\n",
              "  (fc4): Linear(in_features=10, out_features=2, bias=True)\n",
              ")"
            ]
          },
          "execution_count": 14,
          "metadata": {},
          "output_type": "execute_result"
        }
      ],
      "source": [
        "class MyModel(nn.Module):\n",
        "    \n",
        "    def __init__(self):\n",
        "        super().__init__()\n",
        "        self.fc1 = nn.Linear(X_train.size()[1], 32)\n",
        "        self.fc2 = nn.Linear(32, 32)\n",
        "        self.fc3 = nn.Linear(32, 10)\n",
        "        self.fc4 = nn.Linear(10, 2)\n",
        "    \n",
        "    def forward(self, x):\n",
        "        x = torch.relu(self.fc1(x))\n",
        "        x = torch.relu(self.fc2(x))\n",
        "        x = torch.relu(self.fc3(x))\n",
        "        x = torch.sigmoid(self.fc4(x))\n",
        "        return x\n",
        "\n",
        "model = MyModel()\n",
        "model"
      ]
    },
    {
      "cell_type": "markdown",
      "metadata": {
        "id": "A2NN_ANlqlia"
      },
      "source": [
        "### Train model"
      ]
    },
    {
      "cell_type": "code",
      "execution_count": null,
      "metadata": {
        "id": "HBqzv80lqlia",
        "outputId": "7cba77bd-513c-493f-a14c-c96dc6f30651"
      },
      "outputs": [
        {
          "name": "stdout",
          "output_type": "stream",
          "text": [
            "Epoch 1\n",
            "Loss in train set: 0.473182\n",
            "Loss in validation set: 0.457065, Accuracy 4183/4977-84.047%\n",
            "--------------------------------------------------\n",
            "Epoch 2\n",
            "Loss in train set: 0.457647\n",
            "Loss in validation set: 0.455180, Accuracy 4255/4977-85.493%\n",
            "--------------------------------------------------\n",
            "Epoch 3\n",
            "Loss in train set: 0.455967\n",
            "Loss in validation set: 0.459345, Accuracy 4192/4977-84.227%\n",
            "--------------------------------------------------\n",
            "Epoch 4\n",
            "Loss in train set: 0.455345\n",
            "Loss in validation set: 0.450862, Accuracy 4225/4977-84.890%\n",
            "--------------------------------------------------\n",
            "Epoch 5\n",
            "Loss in train set: 0.452593\n",
            "Loss in validation set: 0.453083, Accuracy 4230/4977-84.991%\n",
            "--------------------------------------------------\n",
            "Epoch 6\n",
            "Loss in train set: 0.453577\n",
            "Loss in validation set: 0.453464, Accuracy 4229/4977-84.971%\n",
            "--------------------------------------------------\n",
            "Epoch 7\n",
            "Loss in train set: 0.453229\n",
            "Loss in validation set: 0.457333, Accuracy 4241/4977-85.212%\n",
            "--------------------------------------------------\n",
            "Epoch 8\n",
            "Loss in train set: 0.449438\n",
            "Loss in validation set: 0.453313, Accuracy 4234/4977-85.071%\n",
            "--------------------------------------------------\n",
            "Epoch 9\n",
            "Loss in train set: 0.450222\n",
            "Loss in validation set: 0.451842, Accuracy 4247/4977-85.333%\n",
            "--------------------------------------------------\n",
            "Epoch 10\n",
            "Loss in train set: 0.449201\n",
            "Loss in validation set: 0.459774, Accuracy 4227/4977-84.931%\n",
            "--------------------------------------------------\n",
            "Epoch 11\n",
            "Loss in train set: 0.450645\n",
            "Loss in validation set: 0.453053, Accuracy 4235/4977-85.091%\n",
            "--------------------------------------------------\n",
            "Epoch 12\n",
            "Loss in train set: 0.448982\n",
            "Loss in validation set: 0.458006, Accuracy 4224/4977-84.870%\n",
            "--------------------------------------------------\n",
            "Accuracy: 85.49326903757283\n"
          ]
        }
      ],
      "source": [
        "def train(model, data_loader, optimizer):\n",
        "    model.train()\n",
        "    losses = 0\n",
        "    for batch, tensor in enumerate(data_loader):\n",
        "        data, target = tensor\n",
        "        optimizer.zero_grad()\n",
        "        out = model(data)\n",
        "        loss = loss_criteria(out, target)\n",
        "        losses += loss.item()\n",
        "        loss.backward()\n",
        "        optimizer.step()\n",
        "        \n",
        "    avg_loss = losses / (batch + 1)\n",
        "    print(f\"Loss in train set: {avg_loss:.6f}\")\n",
        "    return avg_loss\n",
        "\n",
        "\n",
        "def val(model, data_loader):\n",
        "    model.eval()\n",
        "    correct = 0\n",
        "    losses = 0\n",
        "    with torch.no_grad():\n",
        "        for batch, tensor in enumerate(data_loader):\n",
        "            data, target = tensor\n",
        "            out = model(data)\n",
        "            loss = loss_criteria(out, target)\n",
        "            losses += loss\n",
        "            _, predicted = torch.max(out.data, axis=1)\n",
        "            correct += torch.sum(predicted==target).item()\n",
        "    \n",
        "    avg_loss = losses / (batch + 1)\n",
        "    acc = correct * 100 / len(y_val)\n",
        "    print(f\"Loss in validation set: {avg_loss:.6f}, Accuracy {correct}/{len(y_val)}-{acc:.3f}%\")\n",
        "    print('-'*50)\n",
        "    return avg_loss, acc\n",
        "\n",
        "\n",
        "LEARNING_RATE = 0.01\n",
        "loss_criteria = nn.CrossEntropyLoss()\n",
        "optimizer = torch.optim.Adam(model.parameters(), lr=LEARNING_RATE)\n",
        "optimizer.zero_grad()\n",
        "epochs = 50\n",
        "max_acc = -float('inf')\n",
        "error_going_up = 0\n",
        "epoch_nums = 0\n",
        "\n",
        "for epoch in range(1, epochs+1):\n",
        "    epoch_nums += 1\n",
        "    print(f'Epoch {epoch}')\n",
        "    train_loss = train(model, train_loader, optimizer)\n",
        "    val_loss, acc = val(model, val_loader)\n",
        "    \n",
        "    if acc > max_acc:\n",
        "        max_acc = acc\n",
        "        error_going_up = 0\n",
        "    else:\n",
        "        error_going_up += 1\n",
        "        if error_going_up == 10:\n",
        "            break\n",
        "print(f\"Accuracy: {max_acc}\")"
      ]
    },
    {
      "cell_type": "markdown",
      "metadata": {
        "id": "cpnM3hLQqlib"
      },
      "source": [
        "### Đánh giá hiệu quả của model"
      ]
    },
    {
      "cell_type": "code",
      "execution_count": null,
      "metadata": {
        "id": "f1Lp55A_qlib",
        "outputId": "cae8c340-2cbc-403b-9f77-89a16de7c92f"
      },
      "outputs": [
        {
          "name": "stdout",
          "output_type": "stream",
          "text": [
            "              precision    recall  f1-score   support\n",
            "\n",
            "           0       0.88      0.93      0.90      3803\n",
            "           1       0.71      0.60      0.65      1174\n",
            "\n",
            "    accuracy                           0.85      4977\n",
            "   macro avg       0.80      0.76      0.78      4977\n",
            "weighted avg       0.84      0.85      0.84      4977\n",
            "\n"
          ]
        },
        {
          "data": {
            "image/png": "[encoded data removed]",
            "text/plain": [
              "<Figure size 432x288 with 2 Axes>"
            ]
          },
          "metadata": {
            "needs_background": "light"
          },
          "output_type": "display_data"
        }
      ],
      "source": [
        "from sklearn.metrics import confusion_matrix, classification_report\n",
        "import matplotlib.pyplot as plt\n",
        "import numpy as np\n",
        "\n",
        "model.eval()\n",
        "\n",
        "_, predicted = torch.max(model(X_val).data, 1)\n",
        "\n",
        "cm = confusion_matrix(y_val, predicted.numpy())\n",
        "plt.imshow(cm, interpolation=\"nearest\", cmap=plt.cm.Blues)\n",
        "plt.colorbar()\n",
        "tick_marks = np.arange(2)\n",
        "plt.xticks(tick_marks, [0, 1])\n",
        "plt.yticks(tick_marks, [0, 1])\n",
        "plt.xlabel(\"Predict\")\n",
        "plt.ylabel(\"Actual\")\n",
        "print(classification_report(y_val, predicted.numpy()))"
      ]
    },
    {
      "cell_type": "markdown",
      "metadata": {
        "id": "PHj7R-0Bqlic"
      },
      "source": [
        "### Lưu model"
      ]
    },
    {
      "cell_type": "code",
      "execution_count": null,
      "metadata": {
        "id": "DcBjaF0cqlid"
      },
      "outputs": [],
      "source": [
        "model_file = 'models/homework3.pt'\n",
        "torch.save(model.state_dict(), model_file)\n",
        "del model"
      ]
    },
    {
      "cell_type": "code",
      "execution_count": null,
      "metadata": {
        "id": "0tBILxRqqlid",
        "outputId": "6c2083e8-432e-4224-8380-69f81001b1fc"
      },
      "outputs": [
        {
          "data": {
            "text/plain": [
              "['homework3', 'homework3.pt']"
            ]
          },
          "execution_count": 18,
          "metadata": {},
          "output_type": "execute_result"
        }
      ],
      "source": [
        "os.listdir('./models')"
      ]
    },
    {
      "cell_type": "code",
      "execution_count": null,
      "metadata": {
        "id": "vTsMjc89qlie",
        "outputId": "32a0569a-d4b1-4623-fe75-fcfbfdf98869"
      },
      "outputs": [
        {
          "data": {
            "text/plain": [
              "<All keys matched successfully>"
            ]
          },
          "execution_count": 19,
          "metadata": {},
          "output_type": "execute_result"
        }
      ],
      "source": [
        "retrained = MyModel()\n",
        "retrained.load_state_dict(torch.load(model_file))"
      ]
    }
  ],
  "metadata": {
    "colab": {
      "collapsed_sections": [],
      "name": "3.PytorchHomeWork_DuongNguyen.ipynb",
      "provenance": []
    },
    "kernelspec": {
      "display_name": "Python 3 (ipykernel)",
      "language": "python",
      "name": "python3"
    },
    "language_info": {
      "codemirror_mode": {
        "name": "ipython",
        "version": 3
      },
      "file_extension": ".py",
      "mimetype": "text/x-python",
      "name": "python",
      "nbconvert_exporter": "python",
      "pygments_lexer": "ipython3",
      "version": "3.9.7"
    }
  },
  "nbformat": 4,
  "nbformat_minor": 0
}