{
  "cells": [
    {
      "cell_type": "markdown",
      "metadata": {
        "id": "Q_cwWVtuexfV"
      },
      "source": [
        "# Ly thuyet"
      ]
    },
    {
      "cell_type": "code",
      "execution_count": null,
      "metadata": {
        "colab": {
          "base_uri": "https://localhost:8080/",
          "height": 35
        },
        "id": "NDYI9-MBe1Cd",
        "outputId": "9d3bf44b-6318-4235-b917-9bb5f5d28dd4"
      },
      "outputs": [
        {
          "output_type": "execute_result",
          "data": {
            "application/vnd.google.colaboratory.intrinsic+json": {
              "type": "string"
            },
            "text/plain": [
              "'\\n    1.A\\n    2.B\\n    3.C\\n    4.B\\n    5.C, D\\n\\n'"
            ]
          },
          "metadata": {},
          "execution_count": 1
        }
      ],
      "source": [
        "'''\n",
        "    1.A\n",
        "    2.A\n",
        "    3.C\n",
        "    4.B\n",
        "    5.C, D\n",
        "\n",
        "'''"
      ]
    },
    {
      "cell_type": "markdown",
      "metadata": {
        "id": "LN-29JuLeu6k"
      },
      "source": [
        "# Thuc Hanh"
      ]
    },
    {
      "cell_type": "code",
      "execution_count": null,
      "metadata": {
        "colab": {
          "base_uri": "https://localhost:8080/"
        },
        "id": "lNMc1ZpSYklE",
        "outputId": "f52fedf8-8e3e-4a24-e99b-2aa8e1a77c1b"
      },
      "outputs": [
        {
          "output_type": "stream",
          "name": "stdout",
          "text": [
            "Mounted at /content/drive\n"
          ]
        }
      ],
      "source": [
        "from google.colab import drive\n",
        "drive.mount('/content/drive')"
      ]
    },
    {
      "cell_type": "code",
      "execution_count": null,
      "metadata": {
        "colab": {
          "base_uri": "https://localhost:8080/"
        },
        "id": "IQcpIguSYYKW",
        "outputId": "c5fa5aae-db06-4981-baa4-a68829e8e897"
      },
      "outputs": [
        {
          "output_type": "stream",
          "name": "stdout",
          "text": [
            "/content/drive/MyDrive/Hien\n",
            "5.CNN_VuXuanHien\t       mobilev3_best.pth       test\n",
            "6_VuXuanHien_Homework.ipynb    resnet50_best.pth       TestCNN.ipynb\n",
            "distill_best.pth\t       ResNet50.pt\t       test_resnet50_best.pth\n",
            "dog-vs-cat-classification.zip  resnet_tuning_best.pth  train\n",
            "mobilenet_best.pth\t       sample_submission.csv\n"
          ]
        }
      ],
      "source": [
        "%cd /content/drive/MyDrive/Hien\n",
        "!ls"
      ]
    },
    {
      "cell_type": "code",
      "execution_count": null,
      "metadata": {
        "id": "nBabwcbCY0CJ"
      },
      "outputs": [],
      "source": [
        "import os\n",
        "import glob\n",
        "import time\n",
        "from PIL import Image \n",
        "import tqdm\n",
        "\n",
        "import matplotlib.pyplot as plt\n",
        "import numpy as np\n",
        "\n",
        "import torch\n",
        "import torch.nn as nn\n",
        "import torch.optim as optim\n",
        "import torch.functional as F\n",
        "\n",
        "import torchvision\n",
        "import torch.utils.data\n",
        "from torch.utils.data import Dataset, DataLoader\n",
        "import random\n",
        "import torchvision.transforms as T\n",
        "\n",
        "from sklearn.model_selection import train_test_split"
      ]
    },
    {
      "cell_type": "code",
      "execution_count": null,
      "metadata": {
        "id": "fGb0muKtZlpm"
      },
      "outputs": [],
      "source": [
        "device = 'cuda' if torch.cuda.is_available() else 'cpu'"
      ]
    },
    {
      "cell_type": "code",
      "execution_count": null,
      "metadata": {
        "id": "D96JtKB5ZxFj"
      },
      "outputs": [],
      "source": [
        "train_images = glob.glob('train/train'+\"/**/**.jpg\")\n",
        "test_images = glob.glob('test/test'+'/**.jpg')\n",
        "\n",
        "class_to_int = {\"dogs\" : 0, \"cats\" : 1}\n",
        "int_to_class = {0 : \"dogs\", 1 : \"cats\"}"
      ]
    },
    {
      "cell_type": "code",
      "execution_count": null,
      "metadata": {
        "id": "_V3_TJ5vZ1JD"
      },
      "outputs": [],
      "source": [
        "# Transformation function\n",
        "\n",
        "def get_train_transform():\n",
        "  return T.Compose([\n",
        "                    T.ToTensor(),\n",
        "                    T.Resize((256,256)),\n",
        "                    T.CenterCrop((224,224)),\n",
        "                    T.RandomRotation(20),\n",
        "                    T.RandomHorizontalFlip(0.5),\n",
        "                    T.Normalize((0.485, 0.456, 0.406),(0.229, 0.224, 0.225))\n",
        "  ])\n",
        "\n",
        "\n",
        "def get_val_transform():\n",
        "  return T.Compose([\n",
        "                    T.ToTensor(),\n",
        "                    T.Resize((224,224)),\n",
        "                    T.Normalize((0.485, 0.456, 0.406),(0.229, 0.224, 0.225))\n",
        "  ])"
      ]
    },
    {
      "cell_type": "code",
      "execution_count": null,
      "metadata": {
        "id": "bFVK5NQEZ4W2"
      },
      "outputs": [],
      "source": [
        "class CatDogDataset(Dataset):\n",
        "    def __init__(self, imgs, class_to_int, mode='train', transforms=None):\n",
        "        super().__init__()\n",
        "        self.imgs = imgs\n",
        "        self.class_to_int = class_to_int\n",
        "        self.mode = mode\n",
        "        self.transforms = transforms\n",
        "    \n",
        "    def __getitem__(self, index):\n",
        "        image_name = self.imgs[index]\n",
        "        if self.mode == \"train\" or self.mode == \"val\":\n",
        "          img = Image.open(image_name)\n",
        "          label = self.class_to_int[image_name.split(\"/\")[-2]]\n",
        "          label = torch.tensor(label, dtype = torch.float32)\n",
        "          img = self.transforms(img)\n",
        "          return img, label\n",
        "        elif self.mode == \"test\":\n",
        "          img = Image.open(image_name)\n",
        "          img = self.transforms(img)\n",
        "          return img, image_name\n",
        "\n",
        "    def __len__(self):\n",
        "        return len(self.imgs)\n"
      ]
    },
    {
      "cell_type": "code",
      "execution_count": null,
      "metadata": {
        "id": "0v3yMguOetFR"
      },
      "outputs": [],
      "source": [
        "train_imgs, val_imgs = train_test_split(train_images, test_size = 0.2)\n",
        "\n",
        "train_dataset = CatDogDataset(train_imgs, class_to_int, mode = \"train\",\n",
        "                              transforms = get_train_transform())\n",
        "val_dataset = CatDogDataset(val_imgs, class_to_int, mode = \"val\", \n",
        "                            transforms = get_val_transform())\n",
        "test_dataset = CatDogDataset(test_images, class_to_int, mode = \"test\", \n",
        "                             transforms = get_val_transform())\n",
        "\n",
        "train_data_loader = DataLoader(\n",
        "    dataset = train_dataset,\n",
        "    num_workers = 2,\n",
        "    batch_size = 32,\n",
        "    shuffle = True\n",
        ")\n",
        "\n",
        "val_data_loader = DataLoader(\n",
        "    dataset = val_dataset,\n",
        "    num_workers = 2,\n",
        "    batch_size = 32,\n",
        "    shuffle = True\n",
        ")\n",
        "\n",
        "test_data_loader = DataLoader(\n",
        "    dataset = test_dataset,\n",
        "    num_workers = 2,\n",
        "    batch_size = 32,\n",
        "    shuffle = False\n",
        ")"
      ]
    },
    {
      "cell_type": "code",
      "execution_count": null,
      "metadata": {
        "id": "7mM-QynAexcO"
      },
      "outputs": [],
      "source": [
        "def accuracy(preds, trues):\n",
        "    preds = [1 if preds[i] >= 0.5 else 0 for i in range(len(preds))]\n",
        "    acc = [1 if preds[i] == trues[i] else 0 for i in range(len(preds))]\n",
        "    acc = np.sum(acc) / len(preds)\n",
        "    return (acc * 100)"
      ]
    },
    {
      "cell_type": "code",
      "execution_count": null,
      "metadata": {
        "id": "cSlqBpoQfyiw"
      },
      "outputs": [],
      "source": [
        "def train(train_data_loader, model, optimizer):\n",
        "    epoch_loss = []\n",
        "    epoch_acc = []\n",
        "    start_time = time.time()\n",
        "    model.train()\n",
        "    \n",
        "    for images, labels in train_data_loader:\n",
        "        images = images.to(device)\n",
        "        labels = labels.to(device)\n",
        "        labels = labels.reshape((labels.shape[0], 1))\n",
        "\n",
        "        optimizer.zero_grad()\n",
        "\n",
        "        preds = model(images)\n",
        "\n",
        "        #Calculating Loss\n",
        "        _loss = criterion(preds, labels)\n",
        "        loss = _loss.item()\n",
        "        epoch_loss.append(loss)\n",
        "\n",
        "        #Calculating Accuracy\n",
        "        acc = accuracy(preds, labels)\n",
        "        epoch_acc.append(acc)\n",
        "        \n",
        "        _loss.backward()\n",
        "        optimizer.step()\n",
        "    \n",
        "    end_time = time.time()\n",
        "    total_time = end_time - start_time\n",
        "    \n",
        "    ###Acc and Loss\n",
        "    epoch_loss = np.mean(epoch_loss)\n",
        "    epoch_acc = np.mean(epoch_acc)\n",
        "    \n",
        "    ###Storing results to logs\n",
        "    train_logs[\"loss\"].append(epoch_loss)\n",
        "    train_logs[\"accuracy\"].append(epoch_acc)\n",
        "    train_logs[\"time\"].append(total_time)\n",
        "        \n",
        "    return epoch_loss, epoch_acc, total_time"
      ]
    },
    {
      "cell_type": "code",
      "execution_count": null,
      "metadata": {
        "id": "rjmIiwbpf2-k"
      },
      "outputs": [],
      "source": [
        "def val(val_data_loader, model, best_val_acc, model_name):\n",
        "\n",
        "    epoch_loss = []\n",
        "    epoch_acc = []\n",
        "    start_time = time.time()\n",
        "    # model.to(device)\n",
        "    model.eval()\n",
        "\n",
        "    for images, labels in val_data_loader:\n",
        "        \n",
        "        #Loading images and labels to device\n",
        "        images = images.to(device)\n",
        "        labels = labels.to(device)\n",
        "        labels = labels.reshape((labels.shape[0], 1)) # [N, 1] - to match with preds shape\n",
        "        \n",
        "        #Forward\n",
        "        preds = model(images)\n",
        "        \n",
        "        #Calculating Loss\n",
        "        _loss = criterion(preds, labels)\n",
        "        loss = _loss.item()\n",
        "        epoch_loss.append(loss)\n",
        "        \n",
        "        #Calculating Accuracy\n",
        "        acc = accuracy(preds, labels)\n",
        "        epoch_acc.append(acc)\n",
        "    \n",
        "    ###Overall Epoch Results\n",
        "    end_time = time.time()\n",
        "    total_time = end_time - start_time\n",
        "    \n",
        "    ###Acc and Loss\n",
        "    epoch_loss = np.mean(epoch_loss)\n",
        "    epoch_acc = np.mean(epoch_acc)\n",
        "    \n",
        "    ###Storing results to logs\n",
        "    val_logs[\"loss\"].append(epoch_loss)\n",
        "    val_logs[\"accuracy\"].append(epoch_acc)\n",
        "    val_logs[\"time\"].append(total_time)\n",
        "    \n",
        "    ###Saving best model\n",
        "    if epoch_acc > best_val_acc:\n",
        "        best_val_acc = epoch_acc\n",
        "        torch.save(model.state_dict(),model_name+\"_best.pth\")\n",
        "        \n",
        "    return epoch_loss, epoch_acc, total_time, best_val_acc\n"
      ]
    },
    {
      "cell_type": "code",
      "execution_count": null,
      "metadata": {
        "colab": {
          "base_uri": "https://localhost:8080/",
          "height": 65,
          "referenced_widgets": [
            "562684a0af0f4b6ea4c707a1e8a181b3",
            "c61d61b843e7477d8623024b03a5ceea",
            "474fe60093d14cf1828b441505298240",
            "4e1a19f2270e41de80f5e22436b07634",
            "fe5abd9a9e624e5095904a1d36875cff",
            "7aa26700d0c747aaac8b6e71dde2cfca",
            "7f61f1761dd04278b3770e8bd93afe03",
            "36a56ef6be614bff83bb054bbda527aa",
            "0b61bec838074ff9a5011f01ddd62d8e",
            "7ae0d6dda4094d948806fc42cf0f0cfe",
            "57c75ccc85f6425ea855f8543aed6813"
          ]
        },
        "id": "JkLWJAsBf5Ro",
        "outputId": "ad0ccb47-c739-441d-9c9f-5d4b72e5eade"
      },
      "outputs": [
        {
          "output_type": "stream",
          "name": "stderr",
          "text": [
            "Downloading: \"https://download.pytorch.org/models/resnet50-0676ba61.pth\" to /root/.cache/torch/hub/checkpoints/resnet50-0676ba61.pth\n"
          ]
        },
        {
          "output_type": "display_data",
          "data": {
            "application/vnd.jupyter.widget-view+json": {
              "model_id": "562684a0af0f4b6ea4c707a1e8a181b3",
              "version_minor": 0,
              "version_major": 2
            },
            "text/plain": [
              "  0%|          | 0.00/97.8M [00:00<?, ?B/s]"
            ]
          },
          "metadata": {}
        }
      ],
      "source": [
        "from torchvision.models import resnet50\n",
        "model = resnet50(pretrained = True)\n",
        "\n",
        "for param in model.parameters():\n",
        "    param.requires_grad = False\n",
        "# Modifying Head - classifier\n",
        "\n",
        "model.fc = nn.Sequential(\n",
        "    nn.Linear(2048, 1, bias = True),\n",
        "    nn.Sigmoid()\n",
        ")"
      ]
    },
    {
      "cell_type": "markdown",
      "metadata": {
        "id": "Ct95u8DAgotx"
      },
      "source": [
        "# Warm up"
      ]
    },
    {
      "cell_type": "code",
      "execution_count": null,
      "metadata": {
        "id": "z-bBnrBYf8tK"
      },
      "outputs": [],
      "source": [
        "# Optimizer\n",
        "optimizer = torch.optim.Adam(model.parameters(), lr = 0.001)\n",
        "\n",
        "# Learning Rate Scheduler\n",
        "# lr_scheduler = torch.optim.lr_scheduler.StepLR(optimizer, step_size = 5, gamma = 0.5)\n",
        "\n",
        "#Loss Function\n",
        "criterion = nn.BCELoss()\n",
        "\n",
        "# Logs - Helpful for plotting after training finishes\n",
        "train_logs = {\"loss\" : [], \"accuracy\" : [], \"time\" : []}\n",
        "val_logs = {\"loss\" : [], \"accuracy\" : [], \"time\" : []}\n",
        "\n",
        "# Loading model to device\n",
        "model.to(device)\n",
        "\n",
        "# No of epochs \n",
        "epochs = 1"
      ]
    },
    {
      "cell_type": "code",
      "execution_count": null,
      "metadata": {
        "colab": {
          "base_uri": "https://localhost:8080/"
        },
        "id": "P8bQvSPJgmrm",
        "outputId": "7aed4428-edb1-4187-f4fa-cd8199730f8d"
      },
      "outputs": [
        {
          "output_type": "stream",
          "name": "stdout",
          "text": [
            "\n",
            "Training\n",
            "Epoch 1\n",
            "Loss : 0.1253\n",
            "Acc : 95.64\n",
            "Time : 2779.0408\n",
            "\n",
            "Validating\n",
            "Epoch 1\n",
            "Loss : 0.0536\n",
            "Acc : 98.0295\n",
            "Time : 643.3754\n"
          ]
        }
      ],
      "source": [
        "best_val_acc = 0\n",
        "for epoch in range(epochs):\n",
        "    \n",
        "    ###Training\n",
        "    loss, acc, _time = train(train_data_loader, model, optimizer)\n",
        "    \n",
        "    #Print Epoch Details\n",
        "    print(\"\\nTraining\")\n",
        "    print(\"Epoch {}\".format(epoch+1))\n",
        "    print(\"Loss : {}\".format(round(loss, 4)))\n",
        "    print(\"Acc : {}\".format(round(acc, 4)))\n",
        "    print(\"Time : {}\".format(round(_time, 4)))\n",
        "    \n",
        "    ###Validation\n",
        "    loss, acc, _time, best_val_acc = val(val_data_loader, model, best_val_acc, \"test_resnet50\")\n",
        "    \n",
        "    #Print Epoch Details\n",
        "    print(\"\\nValidating\")\n",
        "    print(\"Epoch {}\".format(epoch+1))\n",
        "    print(\"Loss : {}\".format(round(loss, 4)))\n",
        "    print(\"Acc : {}\".format(round(acc, 4)))\n",
        "    print(\"Time : {}\".format(round(_time, 4)))"
      ]
    },
    {
      "cell_type": "markdown",
      "metadata": {
        "id": "94EXc8f8uCWy"
      },
      "source": [
        "# Fine tuning ResNet"
      ]
    },
    {
      "cell_type": "code",
      "execution_count": null,
      "metadata": {
        "id": "5B4fAHaWuFIH"
      },
      "outputs": [],
      "source": [
        "for param in model.parameters():\n",
        "    param.requires_grad = True"
      ]
    },
    {
      "cell_type": "code",
      "execution_count": null,
      "metadata": {
        "id": "o-BM9_CauIVn",
        "colab": {
          "base_uri": "https://localhost:8080/"
        },
        "outputId": "b1f0a33f-2224-477d-9c76-90a64f723d84"
      },
      "outputs": [
        {
          "output_type": "stream",
          "name": "stdout",
          "text": [
            "\n",
            "Training\n",
            "Epoch 1\n",
            "Loss : 0.2506\n",
            "Acc : 89.5\n",
            "Time : 194.7688\n",
            "\n",
            "Validating\n",
            "Epoch 1\n",
            "Loss : 0.251\n",
            "Acc : 90.7842\n",
            "Time : 29.9749\n",
            "\n",
            "Training\n",
            "Epoch 2\n",
            "Loss : 0.1825\n",
            "Acc : 92.27\n",
            "Time : 194.4298\n",
            "\n",
            "Validating\n",
            "Epoch 2\n",
            "Loss : 0.1485\n",
            "Acc : 93.8296\n",
            "Time : 30.0727\n",
            "\n",
            "Training\n",
            "Epoch 3\n",
            "Loss : 0.1498\n",
            "Acc : 93.835\n",
            "Time : 193.4355\n",
            "\n",
            "Validating\n",
            "Epoch 3\n",
            "Loss : 0.1581\n",
            "Acc : 93.551\n",
            "Time : 30.2628\n",
            "\n",
            "Training\n",
            "Epoch 4\n",
            "Loss : 0.1363\n",
            "Acc : 94.45\n",
            "Time : 196.8146\n",
            "\n",
            "Validating\n",
            "Epoch 4\n",
            "Loss : 0.1792\n",
            "Acc : 91.9586\n",
            "Time : 30.088\n",
            "\n",
            "Training\n",
            "Epoch 5\n",
            "Loss : 0.1269\n",
            "Acc : 94.61\n",
            "Time : 195.678\n",
            "\n",
            "Validating\n",
            "Epoch 5\n",
            "Loss : 0.0997\n",
            "Acc : 96.039\n",
            "Time : 30.0222\n"
          ]
        }
      ],
      "source": [
        "# Optimizer\n",
        "optimizer = torch.optim.Adam(model.parameters(), lr = 0.001)\n",
        "\n",
        "# Learning Rate Scheduler\n",
        "# lr_scheduler = torch.optim.lr_scheduler.StepLR(optimizer, step_size = 5, gamma = 0.5)\n",
        "\n",
        "#Loss Function\n",
        "criterion = nn.BCELoss()\n",
        "\n",
        "# Logs - Helpful for plotting after training finishes\n",
        "train_logs = {\"loss\" : [], \"accuracy\" : [], \"time\" : []}\n",
        "val_logs = {\"loss\" : [], \"accuracy\" : [], \"time\" : []}\n",
        "\n",
        "# Loading model to device\n",
        "model.to(device)\n",
        "\n",
        "# No of epochs \n",
        "epochs = 5\n",
        "\n",
        "best_val_acc = 0\n",
        "for epoch in range(epochs):\n",
        "    \n",
        "    ###Training\n",
        "    loss, acc, _time = train(train_data_loader, model, optimizer)\n",
        "    \n",
        "    #Print Epoch Details\n",
        "    print(\"\\nTraining\")\n",
        "    print(\"Epoch {}\".format(epoch+1))\n",
        "    print(\"Loss : {}\".format(round(loss, 4)))\n",
        "    print(\"Acc : {}\".format(round(acc, 4)))\n",
        "    print(\"Time : {}\".format(round(_time, 4)))\n",
        "    \n",
        "    ###Validation\n",
        "    loss, acc, _time, best_val_acc = val(val_data_loader, model, best_val_acc, \"resnet_tuning\")\n",
        "    \n",
        "    #Print Epoch Details\n",
        "    print(\"\\nValidating\")\n",
        "    print(\"Epoch {}\".format(epoch+1))\n",
        "    print(\"Loss : {}\".format(round(loss, 4)))\n",
        "    print(\"Acc : {}\".format(round(acc, 4)))\n",
        "    print(\"Time : {}\".format(round(_time, 4)))"
      ]
    },
    {
      "cell_type": "markdown",
      "metadata": {
        "id": "DqkuLHabuQgV"
      },
      "source": [
        "# MobileNetv3"
      ]
    },
    {
      "cell_type": "code",
      "execution_count": null,
      "metadata": {
        "id": "7SM9XDImuV1b",
        "colab": {
          "base_uri": "https://localhost:8080/",
          "height": 1000,
          "referenced_widgets": [
            "cba1d4e9e37749878fc85b315018021e",
            "c53daf52bd32447a97a269dfbf41be6f",
            "134f5bf947634d8c937b6044ec8829c5",
            "f86ea5bfffd64894b77048da48791a09",
            "1932eeae909a419a83d2633f83d5c85e",
            "359b3a83b14946cbab9d1c9022455723",
            "c5fa4fbcde514e6892ef34290b725f71",
            "77bbe842c5a1498796e4b3240597c3b3",
            "31a2121acd164a6380cd74f03d58464a",
            "906d76e1ffde491cbfebdb7f0854af6e",
            "13f1f29220514141814acd7b767b4448"
          ]
        },
        "outputId": "eb68caf3-edcc-4ba0-f2f4-82539544d4e3"
      },
      "outputs": [
        {
          "output_type": "stream",
          "name": "stderr",
          "text": [
            "Downloading: \"https://download.pytorch.org/models/mobilenet_v3_small-047dcff4.pth\" to /root/.cache/torch/hub/checkpoints/mobilenet_v3_small-047dcff4.pth\n"
          ]
        },
        {
          "output_type": "display_data",
          "data": {
            "application/vnd.jupyter.widget-view+json": {
              "model_id": "cba1d4e9e37749878fc85b315018021e",
              "version_minor": 0,
              "version_major": 2
            },
            "text/plain": [
              "  0%|          | 0.00/9.83M [00:00<?, ?B/s]"
            ]
          },
          "metadata": {}
        },
        {
          "output_type": "stream",
          "name": "stdout",
          "text": [
            "MobileNetV3(\n",
            "  (features): Sequential(\n",
            "    (0): ConvNormActivation(\n",
            "      (0): Conv2d(3, 16, kernel_size=(3, 3), stride=(2, 2), padding=(1, 1), bias=False)\n",
            "      (1): BatchNorm2d(16, eps=0.001, momentum=0.01, affine=True, track_running_stats=True)\n",
            "      (2): Hardswish()\n",
            "    )\n",
            "    (1): InvertedResidual(\n",
            "      (block): Sequential(\n",
            "        (0): ConvNormActivation(\n",
            "          (0): Conv2d(16, 16, kernel_size=(3, 3), stride=(2, 2), padding=(1, 1), groups=16, bias=False)\n",
            "          (1): BatchNorm2d(16, eps=0.001, momentum=0.01, affine=True, track_running_stats=True)\n",
            "          (2): ReLU(inplace=True)\n",
            "        )\n",
            "        (1): SqueezeExcitation(\n",
            "          (avgpool): AdaptiveAvgPool2d(output_size=1)\n",
            "          (fc1): Conv2d(16, 8, kernel_size=(1, 1), stride=(1, 1))\n",
            "          (fc2): Conv2d(8, 16, kernel_size=(1, 1), stride=(1, 1))\n",
            "          (activation): ReLU()\n",
            "          (scale_activation): Hardsigmoid()\n",
            "        )\n",
            "        (2): ConvNormActivation(\n",
            "          (0): Conv2d(16, 16, kernel_size=(1, 1), stride=(1, 1), bias=False)\n",
            "          (1): BatchNorm2d(16, eps=0.001, momentum=0.01, affine=True, track_running_stats=True)\n",
            "        )\n",
            "      )\n",
            "    )\n",
            "    (2): InvertedResidual(\n",
            "      (block): Sequential(\n",
            "        (0): ConvNormActivation(\n",
            "          (0): Conv2d(16, 72, kernel_size=(1, 1), stride=(1, 1), bias=False)\n",
            "          (1): BatchNorm2d(72, eps=0.001, momentum=0.01, affine=True, track_running_stats=True)\n",
            "          (2): ReLU(inplace=True)\n",
            "        )\n",
            "        (1): ConvNormActivation(\n",
            "          (0): Conv2d(72, 72, kernel_size=(3, 3), stride=(2, 2), padding=(1, 1), groups=72, bias=False)\n",
            "          (1): BatchNorm2d(72, eps=0.001, momentum=0.01, affine=True, track_running_stats=True)\n",
            "          (2): ReLU(inplace=True)\n",
            "        )\n",
            "        (2): ConvNormActivation(\n",
            "          (0): Conv2d(72, 24, kernel_size=(1, 1), stride=(1, 1), bias=False)\n",
            "          (1): BatchNorm2d(24, eps=0.001, momentum=0.01, affine=True, track_running_stats=True)\n",
            "        )\n",
            "      )\n",
            "    )\n",
            "    (3): InvertedResidual(\n",
            "      (block): Sequential(\n",
            "        (0): ConvNormActivation(\n",
            "          (0): Conv2d(24, 88, kernel_size=(1, 1), stride=(1, 1), bias=False)\n",
            "          (1): BatchNorm2d(88, eps=0.001, momentum=0.01, affine=True, track_running_stats=True)\n",
            "          (2): ReLU(inplace=True)\n",
            "        )\n",
            "        (1): ConvNormActivation(\n",
            "          (0): Conv2d(88, 88, kernel_size=(3, 3), stride=(1, 1), padding=(1, 1), groups=88, bias=False)\n",
            "          (1): BatchNorm2d(88, eps=0.001, momentum=0.01, affine=True, track_running_stats=True)\n",
            "          (2): ReLU(inplace=True)\n",
            "        )\n",
            "        (2): ConvNormActivation(\n",
            "          (0): Conv2d(88, 24, kernel_size=(1, 1), stride=(1, 1), bias=False)\n",
            "          (1): BatchNorm2d(24, eps=0.001, momentum=0.01, affine=True, track_running_stats=True)\n",
            "        )\n",
            "      )\n",
            "    )\n",
            "    (4): InvertedResidual(\n",
            "      (block): Sequential(\n",
            "        (0): ConvNormActivation(\n",
            "          (0): Conv2d(24, 96, kernel_size=(1, 1), stride=(1, 1), bias=False)\n",
            "          (1): BatchNorm2d(96, eps=0.001, momentum=0.01, affine=True, track_running_stats=True)\n",
            "          (2): Hardswish()\n",
            "        )\n",
            "        (1): ConvNormActivation(\n",
            "          (0): Conv2d(96, 96, kernel_size=(5, 5), stride=(2, 2), padding=(2, 2), groups=96, bias=False)\n",
            "          (1): BatchNorm2d(96, eps=0.001, momentum=0.01, affine=True, track_running_stats=True)\n",
            "          (2): Hardswish()\n",
            "        )\n",
            "        (2): SqueezeExcitation(\n",
            "          (avgpool): AdaptiveAvgPool2d(output_size=1)\n",
            "          (fc1): Conv2d(96, 24, kernel_size=(1, 1), stride=(1, 1))\n",
            "          (fc2): Conv2d(24, 96, kernel_size=(1, 1), stride=(1, 1))\n",
            "          (activation): ReLU()\n",
            "          (scale_activation): Hardsigmoid()\n",
            "        )\n",
            "        (3): ConvNormActivation(\n",
            "          (0): Conv2d(96, 40, kernel_size=(1, 1), stride=(1, 1), bias=False)\n",
            "          (1): BatchNorm2d(40, eps=0.001, momentum=0.01, affine=True, track_running_stats=True)\n",
            "        )\n",
            "      )\n",
            "    )\n",
            "    (5): InvertedResidual(\n",
            "      (block): Sequential(\n",
            "        (0): ConvNormActivation(\n",
            "          (0): Conv2d(40, 240, kernel_size=(1, 1), stride=(1, 1), bias=False)\n",
            "          (1): BatchNorm2d(240, eps=0.001, momentum=0.01, affine=True, track_running_stats=True)\n",
            "          (2): Hardswish()\n",
            "        )\n",
            "        (1): ConvNormActivation(\n",
            "          (0): Conv2d(240, 240, kernel_size=(5, 5), stride=(1, 1), padding=(2, 2), groups=240, bias=False)\n",
            "          (1): BatchNorm2d(240, eps=0.001, momentum=0.01, affine=True, track_running_stats=True)\n",
            "          (2): Hardswish()\n",
            "        )\n",
            "        (2): SqueezeExcitation(\n",
            "          (avgpool): AdaptiveAvgPool2d(output_size=1)\n",
            "          (fc1): Conv2d(240, 64, kernel_size=(1, 1), stride=(1, 1))\n",
            "          (fc2): Conv2d(64, 240, kernel_size=(1, 1), stride=(1, 1))\n",
            "          (activation): ReLU()\n",
            "          (scale_activation): Hardsigmoid()\n",
            "        )\n",
            "        (3): ConvNormActivation(\n",
            "          (0): Conv2d(240, 40, kernel_size=(1, 1), stride=(1, 1), bias=False)\n",
            "          (1): BatchNorm2d(40, eps=0.001, momentum=0.01, affine=True, track_running_stats=True)\n",
            "        )\n",
            "      )\n",
            "    )\n",
            "    (6): InvertedResidual(\n",
            "      (block): Sequential(\n",
            "        (0): ConvNormActivation(\n",
            "          (0): Conv2d(40, 240, kernel_size=(1, 1), stride=(1, 1), bias=False)\n",
            "          (1): BatchNorm2d(240, eps=0.001, momentum=0.01, affine=True, track_running_stats=True)\n",
            "          (2): Hardswish()\n",
            "        )\n",
            "        (1): ConvNormActivation(\n",
            "          (0): Conv2d(240, 240, kernel_size=(5, 5), stride=(1, 1), padding=(2, 2), groups=240, bias=False)\n",
            "          (1): BatchNorm2d(240, eps=0.001, momentum=0.01, affine=True, track_running_stats=True)\n",
            "          (2): Hardswish()\n",
            "        )\n",
            "        (2): SqueezeExcitation(\n",
            "          (avgpool): AdaptiveAvgPool2d(output_size=1)\n",
            "          (fc1): Conv2d(240, 64, kernel_size=(1, 1), stride=(1, 1))\n",
            "          (fc2): Conv2d(64, 240, kernel_size=(1, 1), stride=(1, 1))\n",
            "          (activation): ReLU()\n",
            "          (scale_activation): Hardsigmoid()\n",
            "        )\n",
            "        (3): ConvNormActivation(\n",
            "          (0): Conv2d(240, 40, kernel_size=(1, 1), stride=(1, 1), bias=False)\n",
            "          (1): BatchNorm2d(40, eps=0.001, momentum=0.01, affine=True, track_running_stats=True)\n",
            "        )\n",
            "      )\n",
            "    )\n",
            "    (7): InvertedResidual(\n",
            "      (block): Sequential(\n",
            "        (0): ConvNormActivation(\n",
            "          (0): Conv2d(40, 120, kernel_size=(1, 1), stride=(1, 1), bias=False)\n",
            "          (1): BatchNorm2d(120, eps=0.001, momentum=0.01, affine=True, track_running_stats=True)\n",
            "          (2): Hardswish()\n",
            "        )\n",
            "        (1): ConvNormActivation(\n",
            "          (0): Conv2d(120, 120, kernel_size=(5, 5), stride=(1, 1), padding=(2, 2), groups=120, bias=False)\n",
            "          (1): BatchNorm2d(120, eps=0.001, momentum=0.01, affine=True, track_running_stats=True)\n",
            "          (2): Hardswish()\n",
            "        )\n",
            "        (2): SqueezeExcitation(\n",
            "          (avgpool): AdaptiveAvgPool2d(output_size=1)\n",
            "          (fc1): Conv2d(120, 32, kernel_size=(1, 1), stride=(1, 1))\n",
            "          (fc2): Conv2d(32, 120, kernel_size=(1, 1), stride=(1, 1))\n",
            "          (activation): ReLU()\n",
            "          (scale_activation): Hardsigmoid()\n",
            "        )\n",
            "        (3): ConvNormActivation(\n",
            "          (0): Conv2d(120, 48, kernel_size=(1, 1), stride=(1, 1), bias=False)\n",
            "          (1): BatchNorm2d(48, eps=0.001, momentum=0.01, affine=True, track_running_stats=True)\n",
            "        )\n",
            "      )\n",
            "    )\n",
            "    (8): InvertedResidual(\n",
            "      (block): Sequential(\n",
            "        (0): ConvNormActivation(\n",
            "          (0): Conv2d(48, 144, kernel_size=(1, 1), stride=(1, 1), bias=False)\n",
            "          (1): BatchNorm2d(144, eps=0.001, momentum=0.01, affine=True, track_running_stats=True)\n",
            "          (2): Hardswish()\n",
            "        )\n",
            "        (1): ConvNormActivation(\n",
            "          (0): Conv2d(144, 144, kernel_size=(5, 5), stride=(1, 1), padding=(2, 2), groups=144, bias=False)\n",
            "          (1): BatchNorm2d(144, eps=0.001, momentum=0.01, affine=True, track_running_stats=True)\n",
            "          (2): Hardswish()\n",
            "        )\n",
            "        (2): SqueezeExcitation(\n",
            "          (avgpool): AdaptiveAvgPool2d(output_size=1)\n",
            "          (fc1): Conv2d(144, 40, kernel_size=(1, 1), stride=(1, 1))\n",
            "          (fc2): Conv2d(40, 144, kernel_size=(1, 1), stride=(1, 1))\n",
            "          (activation): ReLU()\n",
            "          (scale_activation): Hardsigmoid()\n",
            "        )\n",
            "        (3): ConvNormActivation(\n",
            "          (0): Conv2d(144, 48, kernel_size=(1, 1), stride=(1, 1), bias=False)\n",
            "          (1): BatchNorm2d(48, eps=0.001, momentum=0.01, affine=True, track_running_stats=True)\n",
            "        )\n",
            "      )\n",
            "    )\n",
            "    (9): InvertedResidual(\n",
            "      (block): Sequential(\n",
            "        (0): ConvNormActivation(\n",
            "          (0): Conv2d(48, 288, kernel_size=(1, 1), stride=(1, 1), bias=False)\n",
            "          (1): BatchNorm2d(288, eps=0.001, momentum=0.01, affine=True, track_running_stats=True)\n",
            "          (2): Hardswish()\n",
            "        )\n",
            "        (1): ConvNormActivation(\n",
            "          (0): Conv2d(288, 288, kernel_size=(5, 5), stride=(2, 2), padding=(2, 2), groups=288, bias=False)\n",
            "          (1): BatchNorm2d(288, eps=0.001, momentum=0.01, affine=True, track_running_stats=True)\n",
            "          (2): Hardswish()\n",
            "        )\n",
            "        (2): SqueezeExcitation(\n",
            "          (avgpool): AdaptiveAvgPool2d(output_size=1)\n",
            "          (fc1): Conv2d(288, 72, kernel_size=(1, 1), stride=(1, 1))\n",
            "          (fc2): Conv2d(72, 288, kernel_size=(1, 1), stride=(1, 1))\n",
            "          (activation): ReLU()\n",
            "          (scale_activation): Hardsigmoid()\n",
            "        )\n",
            "        (3): ConvNormActivation(\n",
            "          (0): Conv2d(288, 96, kernel_size=(1, 1), stride=(1, 1), bias=False)\n",
            "          (1): BatchNorm2d(96, eps=0.001, momentum=0.01, affine=True, track_running_stats=True)\n",
            "        )\n",
            "      )\n",
            "    )\n",
            "    (10): InvertedResidual(\n",
            "      (block): Sequential(\n",
            "        (0): ConvNormActivation(\n",
            "          (0): Conv2d(96, 576, kernel_size=(1, 1), stride=(1, 1), bias=False)\n",
            "          (1): BatchNorm2d(576, eps=0.001, momentum=0.01, affine=True, track_running_stats=True)\n",
            "          (2): Hardswish()\n",
            "        )\n",
            "        (1): ConvNormActivation(\n",
            "          (0): Conv2d(576, 576, kernel_size=(5, 5), stride=(1, 1), padding=(2, 2), groups=576, bias=False)\n",
            "          (1): BatchNorm2d(576, eps=0.001, momentum=0.01, affine=True, track_running_stats=True)\n",
            "          (2): Hardswish()\n",
            "        )\n",
            "        (2): SqueezeExcitation(\n",
            "          (avgpool): AdaptiveAvgPool2d(output_size=1)\n",
            "          (fc1): Conv2d(576, 144, kernel_size=(1, 1), stride=(1, 1))\n",
            "          (fc2): Conv2d(144, 576, kernel_size=(1, 1), stride=(1, 1))\n",
            "          (activation): ReLU()\n",
            "          (scale_activation): Hardsigmoid()\n",
            "        )\n",
            "        (3): ConvNormActivation(\n",
            "          (0): Conv2d(576, 96, kernel_size=(1, 1), stride=(1, 1), bias=False)\n",
            "          (1): BatchNorm2d(96, eps=0.001, momentum=0.01, affine=True, track_running_stats=True)\n",
            "        )\n",
            "      )\n",
            "    )\n",
            "    (11): InvertedResidual(\n",
            "      (block): Sequential(\n",
            "        (0): ConvNormActivation(\n",
            "          (0): Conv2d(96, 576, kernel_size=(1, 1), stride=(1, 1), bias=False)\n",
            "          (1): BatchNorm2d(576, eps=0.001, momentum=0.01, affine=True, track_running_stats=True)\n",
            "          (2): Hardswish()\n",
            "        )\n",
            "        (1): ConvNormActivation(\n",
            "          (0): Conv2d(576, 576, kernel_size=(5, 5), stride=(1, 1), padding=(2, 2), groups=576, bias=False)\n",
            "          (1): BatchNorm2d(576, eps=0.001, momentum=0.01, affine=True, track_running_stats=True)\n",
            "          (2): Hardswish()\n",
            "        )\n",
            "        (2): SqueezeExcitation(\n",
            "          (avgpool): AdaptiveAvgPool2d(output_size=1)\n",
            "          (fc1): Conv2d(576, 144, kernel_size=(1, 1), stride=(1, 1))\n",
            "          (fc2): Conv2d(144, 576, kernel_size=(1, 1), stride=(1, 1))\n",
            "          (activation): ReLU()\n",
            "          (scale_activation): Hardsigmoid()\n",
            "        )\n",
            "        (3): ConvNormActivation(\n",
            "          (0): Conv2d(576, 96, kernel_size=(1, 1), stride=(1, 1), bias=False)\n",
            "          (1): BatchNorm2d(96, eps=0.001, momentum=0.01, affine=True, track_running_stats=True)\n",
            "        )\n",
            "      )\n",
            "    )\n",
            "    (12): ConvNormActivation(\n",
            "      (0): Conv2d(96, 576, kernel_size=(1, 1), stride=(1, 1), bias=False)\n",
            "      (1): BatchNorm2d(576, eps=0.001, momentum=0.01, affine=True, track_running_stats=True)\n",
            "      (2): Hardswish()\n",
            "    )\n",
            "  )\n",
            "  (avgpool): AdaptiveAvgPool2d(output_size=1)\n",
            "  (classifier): Sequential(\n",
            "    (0): Linear(in_features=576, out_features=1024, bias=True)\n",
            "    (1): Hardswish()\n",
            "    (2): Dropout(p=0.2, inplace=True)\n",
            "    (3): Sequential(\n",
            "      (0): Linear(in_features=1024, out_features=1, bias=True)\n",
            "      (1): Sigmoid()\n",
            "    )\n",
            "  )\n",
            ")\n"
          ]
        }
      ],
      "source": [
        "mobile = torchvision.models.mobilenet_v3_small(pretrained=True)\n",
        "\n",
        "for param in mobile.parameters():\n",
        "    param.requires_grad = False\n",
        "mobile.classifier._modules['3']  = nn.Sequential(\n",
        "    nn.Linear(1024, 1, bias = True),\n",
        "    nn.Sigmoid()\n",
        ")\n",
        "print(mobile)"
      ]
    },
    {
      "cell_type": "code",
      "execution_count": null,
      "metadata": {
        "id": "sDuHaBAGubC0",
        "colab": {
          "base_uri": "https://localhost:8080/"
        },
        "outputId": "067b42af-e2ed-4225-e08a-7a4bb645a530"
      },
      "outputs": [
        {
          "output_type": "stream",
          "name": "stdout",
          "text": [
            "\n",
            "Training\n",
            "Epoch 1\n",
            "Loss : 0.2121\n",
            "Acc : 92.075\n",
            "Time : 165.2808\n",
            "\n",
            "Validating\n",
            "Epoch 1\n",
            "Loss : 0.1357\n",
            "Acc : 94.4467\n",
            "Time : 28.4359\n"
          ]
        }
      ],
      "source": [
        "# Optimizer\n",
        "optimizer = torch.optim.Adam(mobile.parameters(), lr = 0.001)\n",
        "\n",
        "# Learning Rate Scheduler\n",
        "# lr_scheduler = torch.optim.lr_scheduler.StepLR(optimizer, step_size = 5, gamma = 0.5)\n",
        "\n",
        "#Loss Function\n",
        "criterion = nn.BCELoss()\n",
        "\n",
        "# Logs - Helpful for plotting after training finishes\n",
        "train_logs = {\"loss\" : [], \"accuracy\" : [], \"time\" : []}\n",
        "val_logs = {\"loss\" : [], \"accuracy\" : [], \"time\" : []}\n",
        "\n",
        "# Loading model to device\n",
        "mobile.to(device)\n",
        "\n",
        "# No of epochs \n",
        "epochs = 1\n",
        "\n",
        "best_val_acc = 0\n",
        "for epoch in range(epochs):\n",
        "    \n",
        "    ###Training\n",
        "    loss, acc, _time = train(train_data_loader, mobile, optimizer)\n",
        "    \n",
        "    #Print Epoch Details\n",
        "    print(\"\\nTraining\")\n",
        "    print(\"Epoch {}\".format(epoch+1))\n",
        "    print(\"Loss : {}\".format(round(loss, 4)))\n",
        "    print(\"Acc : {}\".format(round(acc, 4)))\n",
        "    print(\"Time : {}\".format(round(_time, 4)))\n",
        "    \n",
        "    ###Validation\n",
        "    loss, acc, _time, best_val_acc = val(val_data_loader, mobile, best_val_acc, \"mobilev3\")\n",
        "    \n",
        "    #Print Epoch Details\n",
        "    print(\"\\nValidating\")\n",
        "    print(\"Epoch {}\".format(epoch+1))\n",
        "    print(\"Loss : {}\".format(round(loss, 4)))\n",
        "    print(\"Acc : {}\".format(round(acc, 4)))\n",
        "    print(\"Time : {}\".format(round(_time, 4)))"
      ]
    },
    {
      "cell_type": "markdown",
      "metadata": {
        "id": "mf20PfIz_ReV"
      },
      "source": [
        "# Knowledge Distillation"
      ]
    },
    {
      "cell_type": "code",
      "execution_count": null,
      "metadata": {
        "id": "2JYV_jR5IxeA"
      },
      "outputs": [],
      "source": [
        "def check_accuracy(loader, model, device):\n",
        "    num_correct = 0\n",
        "    num_samples = 0\n",
        "    model.eval()\n",
        "\n",
        "    with torch.no_grad():\n",
        "        for x, y in loader:\n",
        "            x = x.to(device)\n",
        "            y = y.to(device)\n",
        "\n",
        "            scores = model(x)\n",
        "            _, predictions = scores.max(1)\n",
        "            num_correct += (predictions == y).sum()\n",
        "            num_samples += predictions.size(0)\n",
        "\n",
        "\n",
        "    model.train()\n",
        "    return (num_correct/num_samples).item()"
      ]
    },
    {
      "cell_type": "code",
      "execution_count": null,
      "metadata": {
        "id": "YhC4qaFd_UhZ"
      },
      "outputs": [],
      "source": [
        "def train_step(\n",
        "    teacher,\n",
        "    student,\n",
        "    optimizer,\n",
        "    student_loss_fn,\n",
        "    divergence_loss_fn,\n",
        "    temp,\n",
        "    alpha,\n",
        "    epoch,\n",
        "    device\n",
        "):\n",
        "    losses = []\n",
        "    # pbar = tqdm(train_data_loader, total=len(train_data_loader))\n",
        "    for data, targets in train_data_loader:\n",
        "        # Get data to cuda if possible\n",
        "        data = data.to(device)\n",
        "        targets = targets.to(device)\n",
        "        targets = targets.reshape((targets.shape[0], 1))\n",
        "        # forward\n",
        "        with torch.no_grad():\n",
        "            teacher_preds = teacher(data)\n",
        "\n",
        "        student_preds = student(data)\n",
        "        student_loss = student_loss_fn(student_preds, targets)\n",
        "        \n",
        "        ditillation_loss = divergence_loss_fn(\n",
        "            F.softmax(student_preds / temp, dim=1),\n",
        "            F.softmax(teacher_preds / temp, dim=1)\n",
        "        )\n",
        "        loss = alpha * student_loss + (1 - alpha) * ditillation_loss\n",
        "        losses.append(loss.item())\n",
        "\n",
        "        # backward\n",
        "        optimizer.zero_grad()\n",
        "        loss.backward()\n",
        "\n",
        "        optimizer.step()\n",
        "    \n",
        "    avg_loss = sum(losses) / len(losses)\n",
        "    return avg_loss"
      ]
    },
    {
      "cell_type": "code",
      "execution_count": null,
      "metadata": {
        "id": "fenzsx36AtSp",
        "colab": {
          "base_uri": "https://localhost:8080/"
        },
        "outputId": "cfe45936-2838-4366-a6b0-6f5d97e74737"
      },
      "outputs": [
        {
          "output_type": "stream",
          "name": "stdout",
          "text": [
            "\n",
            "Validating\n",
            "Epoch 1\n",
            "Loss : 0.1341\n",
            "Acc : 94.5263\n",
            "Time : 28.3669\n"
          ]
        }
      ],
      "source": [
        "import torch.nn.functional as F\n",
        "temp=7\n",
        "alpha=0.3\n",
        "device = torch.device(\"cuda\" if torch.cuda.is_available() else \"cpu\")\n",
        "student_loss_fn = nn.BCELoss()\n",
        "divergence_loss_fn = nn.KLDivLoss(reduction=\"batchmean\")\n",
        "optimizer = torch.optim.Adam(mobile.parameters(), lr=1e-4)\n",
        "epoch = 5\n",
        "model = model.to(device)\n",
        "mobile = mobile.to(device)\n",
        "\n",
        "model.eval()\n",
        "mobile.train()\n",
        "best_val_acc = 0\n",
        "val_logs = {\"loss\" : [], \"accuracy\" : [], \"time\" : []}\n",
        "for epoch in range(epochs):\n",
        "      loss = train_step(\n",
        "            model,\n",
        "            mobile,\n",
        "            optimizer,\n",
        "            student_loss_fn,\n",
        "            divergence_loss_fn,\n",
        "            temp,\n",
        "            alpha,\n",
        "            epoch,\n",
        "            device\n",
        "        )\n",
        "      loss, acc, _time, best_val_acc = val(val_data_loader, mobile, best_val_acc, \"distill\")\n",
        "    \n",
        "      #Print Epoch Details\n",
        "      print(\"\\nValidating\")\n",
        "      print(\"Epoch {}\".format(epoch+1))\n",
        "      print(\"Loss : {}\".format(round(loss, 4)))\n",
        "      print(\"Acc : {}\".format(round(acc, 4)))\n",
        "      print(\"Time : {}\".format(round(_time, 4)))\n"
      ]
    },
    {
      "cell_type": "markdown",
      "metadata": {
        "id": "d-6G8x3dsRel"
      },
      "source": [
        "# MixUp\n"
      ]
    },
    {
      "cell_type": "markdown",
      "metadata": {
        "id": "RHxTpWkWDkUf"
      },
      "source": [
        " MixUp Visualize"
      ]
    },
    {
      "cell_type": "code",
      "execution_count": null,
      "metadata": {
        "id": "LkxXWK9rnWkP",
        "colab": {
          "base_uri": "https://localhost:8080/"
        },
        "outputId": "c9fb7a79-d975-4c0b-b437-c8ff00ecf8a2"
      },
      "outputs": [
        {
          "output_type": "stream",
          "name": "stdout",
          "text": [
            "Collecting timm\n",
            "  Downloading timm-0.5.4-py3-none-any.whl (431 kB)\n",
            "\u001b[?25l\r\u001b[K     |▊                               | 10 kB 24.9 MB/s eta 0:00:01\r\u001b[K     |█▌                              | 20 kB 29.7 MB/s eta 0:00:01\r\u001b[K     |██▎                             | 30 kB 12.4 MB/s eta 0:00:01\r\u001b[K     |███                             | 40 kB 10.4 MB/s eta 0:00:01\r\u001b[K     |███▉                            | 51 kB 3.5 MB/s eta 0:00:01\r\u001b[K     |████▋                           | 61 kB 4.1 MB/s eta 0:00:01\r\u001b[K     |█████▎                          | 71 kB 4.7 MB/s eta 0:00:01\r\u001b[K     |██████                          | 81 kB 5.2 MB/s eta 0:00:01\r\u001b[K     |██████▉                         | 92 kB 5.1 MB/s eta 0:00:01\r\u001b[K     |███████▋                        | 102 kB 4.3 MB/s eta 0:00:01\r\u001b[K     |████████▍                       | 112 kB 4.3 MB/s eta 0:00:01\r\u001b[K     |█████████▏                      | 122 kB 4.3 MB/s eta 0:00:01\r\u001b[K     |█████████▉                      | 133 kB 4.3 MB/s eta 0:00:01\r\u001b[K     |██████████▋                     | 143 kB 4.3 MB/s eta 0:00:01\r\u001b[K     |███████████▍                    | 153 kB 4.3 MB/s eta 0:00:01\r\u001b[K     |████████████▏                   | 163 kB 4.3 MB/s eta 0:00:01\r\u001b[K     |█████████████                   | 174 kB 4.3 MB/s eta 0:00:01\r\u001b[K     |█████████████▊                  | 184 kB 4.3 MB/s eta 0:00:01\r\u001b[K     |██████████████▍                 | 194 kB 4.3 MB/s eta 0:00:01\r\u001b[K     |███████████████▏                | 204 kB 4.3 MB/s eta 0:00:01\r\u001b[K     |████████████████                | 215 kB 4.3 MB/s eta 0:00:01\r\u001b[K     |████████████████▊               | 225 kB 4.3 MB/s eta 0:00:01\r\u001b[K     |█████████████████▌              | 235 kB 4.3 MB/s eta 0:00:01\r\u001b[K     |██████████████████▎             | 245 kB 4.3 MB/s eta 0:00:01\r\u001b[K     |███████████████████             | 256 kB 4.3 MB/s eta 0:00:01\r\u001b[K     |███████████████████▊            | 266 kB 4.3 MB/s eta 0:00:01\r\u001b[K     |████████████████████▌           | 276 kB 4.3 MB/s eta 0:00:01\r\u001b[K     |█████████████████████▎          | 286 kB 4.3 MB/s eta 0:00:01\r\u001b[K     |██████████████████████          | 296 kB 4.3 MB/s eta 0:00:01\r\u001b[K     |██████████████████████▉         | 307 kB 4.3 MB/s eta 0:00:01\r\u001b[K     |███████████████████████▌        | 317 kB 4.3 MB/s eta 0:00:01\r\u001b[K     |████████████████████████▎       | 327 kB 4.3 MB/s eta 0:00:01\r\u001b[K     |█████████████████████████       | 337 kB 4.3 MB/s eta 0:00:01\r\u001b[K     |█████████████████████████▉      | 348 kB 4.3 MB/s eta 0:00:01\r\u001b[K     |██████████████████████████▋     | 358 kB 4.3 MB/s eta 0:00:01\r\u001b[K     |███████████████████████████▍    | 368 kB 4.3 MB/s eta 0:00:01\r\u001b[K     |████████████████████████████    | 378 kB 4.3 MB/s eta 0:00:01\r\u001b[K     |████████████████████████████▉   | 389 kB 4.3 MB/s eta 0:00:01\r\u001b[K     |█████████████████████████████▋  | 399 kB 4.3 MB/s eta 0:00:01\r\u001b[K     |██████████████████████████████▍ | 409 kB 4.3 MB/s eta 0:00:01\r\u001b[K     |███████████████████████████████▏| 419 kB 4.3 MB/s eta 0:00:01\r\u001b[K     |████████████████████████████████| 430 kB 4.3 MB/s eta 0:00:01\r\u001b[K     |████████████████████████████████| 431 kB 4.3 MB/s \n",
            "\u001b[?25hRequirement already satisfied: torch>=1.4 in /usr/local/lib/python3.7/dist-packages (from timm) (1.10.0+cu111)\n",
            "Requirement already satisfied: torchvision in /usr/local/lib/python3.7/dist-packages (from timm) (0.11.1+cu111)\n",
            "Requirement already satisfied: typing-extensions in /usr/local/lib/python3.7/dist-packages (from torch>=1.4->timm) (3.10.0.2)\n",
            "Requirement already satisfied: numpy in /usr/local/lib/python3.7/dist-packages (from torchvision->timm) (1.21.5)\n",
            "Requirement already satisfied: pillow!=8.3.0,>=5.3.0 in /usr/local/lib/python3.7/dist-packages (from torchvision->timm) (7.1.2)\n",
            "Installing collected packages: timm\n",
            "Successfully installed timm-0.5.4\n"
          ]
        }
      ],
      "source": [
        "!pip install timm"
      ]
    },
    {
      "cell_type": "code",
      "execution_count": null,
      "metadata": {
        "id": "Vpvf3oQWfKnQ"
      },
      "outputs": [],
      "source": [
        "import torch\n",
        "from timm.data.mixup import Mixup\n",
        "from timm.data.dataset import ImageDataset\n",
        "from timm.data.loader import create_loader\n",
        "import random\n",
        "import numpy as np"
      ]
    },
    {
      "cell_type": "code",
      "execution_count": null,
      "metadata": {
        "id": "uS2HZLUX8zzZ"
      },
      "outputs": [],
      "source": [
        "def get_dataset_and_loader(mixup_args):\n",
        "    mixup_fn = Mixup(**mixup_args)\n",
        "    dataset = ImageDataset('train/train')\n",
        "    loader = create_loader(dataset, \n",
        "                           input_size=(3,224,224), \n",
        "                           batch_size=4, \n",
        "                           is_training=True, \n",
        "                           use_prefetcher=False)\n",
        "    return mixup_fn, dataset, loader"
      ]
    },
    {
      "cell_type": "code",
      "execution_count": null,
      "metadata": {
        "id": "tWP72g1w_8Xr"
      },
      "outputs": [],
      "source": [
        "def imshow(inp, title=None):\n",
        "    \"\"\"Imshow for Tensor.\"\"\"\n",
        "    inp = inp.numpy().transpose((1, 2, 0))\n",
        "    mean = np.array([0.485, 0.456, 0.406])\n",
        "    std = np.array([0.229, 0.224, 0.225])\n",
        "    inp = std * inp + mean\n",
        "    inp = np.clip(inp, 0, 1)\n",
        "    plt.imshow(inp)\n",
        "    if title is not None:\n",
        "        plt.title(title)\n",
        "    plt.pause(0.001)"
      ]
    },
    {
      "cell_type": "code",
      "execution_count": null,
      "metadata": {
        "id": "fmPklHMeAEnj"
      },
      "outputs": [],
      "source": [
        "mixup_args = {\n",
        "    'mixup_alpha': 1,\n",
        "    'cutmix_alpha': 0.,\n",
        "    'cutmix_minmax': None,\n",
        "    'prob': 1.0,\n",
        "    'switch_prob': 0.,\n",
        "    'mode': 'batch',\n",
        "    'label_smoothing': 0,\n",
        "    'num_classes': 2}\n"
      ]
    },
    {
      "cell_type": "code",
      "execution_count": null,
      "metadata": {
        "id": "HqtRyjr7AGd4",
        "colab": {
          "base_uri": "https://localhost:8080/",
          "height": 148
        },
        "outputId": "13d5e2ab-cb9d-48f2-8d7a-7ca3731c1d3a"
      },
      "outputs": [
        {
          "output_type": "display_data",
          "data": {
            "image/png": "[encoded data removed]",
            "text/plain": [
              "<Figure size 432x288 with 1 Axes>"
            ]
          },
          "metadata": {
            "needs_background": "light"
          }
        }
      ],
      "source": [
        "mixup_fn, dataset, loader = get_dataset_and_loader(mixup_args)\n",
        "inputs, classes = next(iter(loader))\n",
        "out = torchvision.utils.make_grid(inputs)\n",
        "imshow(out, title=[x.item() for x in classes])"
      ]
    },
    {
      "cell_type": "code",
      "execution_count": null,
      "metadata": {
        "id": "3B3JTturBPt-",
        "colab": {
          "base_uri": "https://localhost:8080/",
          "height": 148
        },
        "outputId": "d766b098-a315-45c7-a8b0-fb3df4e412c2"
      },
      "outputs": [
        {
          "output_type": "display_data",
          "data": {
            "image/png": "[encoded data removed]",
            "text/plain": [
              "<Figure size 432x288 with 1 Axes>"
            ]
          },
          "metadata": {
            "needs_background": "light"
          }
        }
      ],
      "source": [
        "inputs, classes = mixup_fn(inputs, classes)\n",
        "out = torchvision.utils.make_grid(inputs)\n",
        "imshow(out, title=[x.item() for x in classes.argmax(1)])"
      ]
    },
    {
      "cell_type": "markdown",
      "metadata": {
        "id": "VFaievtKBgeI"
      },
      "source": [
        "CutMix Visualize"
      ]
    },
    {
      "cell_type": "code",
      "execution_count": null,
      "metadata": {
        "id": "Bu_YV2c0Bc6y"
      },
      "outputs": [],
      "source": [
        "mixup_args = {\n",
        "    'mixup_alpha': 0,\n",
        "    'cutmix_alpha': 1.,\n",
        "    'cutmix_minmax': None,\n",
        "    'prob': 1.0,\n",
        "    'switch_prob': 0.,\n",
        "    'mode': 'batch',\n",
        "    'label_smoothing': 0,\n",
        "    'num_classes': 2}"
      ]
    },
    {
      "cell_type": "code",
      "execution_count": null,
      "metadata": {
        "id": "KY9ODQ1UBou3",
        "colab": {
          "base_uri": "https://localhost:8080/",
          "height": 148
        },
        "outputId": "780cefa5-7da3-418d-c1e9-fa5b04f35d59"
      },
      "outputs": [
        {
          "output_type": "display_data",
          "data": {
            "image/png": "[encoded data removed]",
            "text/plain": [
              "<Figure size 432x288 with 1 Axes>"
            ]
          },
          "metadata": {
            "needs_background": "light"
          }
        }
      ],
      "source": [
        "mixup_fn, dataset, loader = get_dataset_and_loader(mixup_args)\n",
        "inputs, classes = next(iter(loader))\n",
        "out = torchvision.utils.make_grid(inputs)\n",
        "imshow(out, title=[x.item() for x in classes])"
      ]
    },
    {
      "cell_type": "code",
      "execution_count": null,
      "metadata": {
        "id": "y_-zqexvBozU",
        "colab": {
          "base_uri": "https://localhost:8080/",
          "height": 148
        },
        "outputId": "139ff5c0-1397-4dfa-ce39-4d3f637759f7"
      },
      "outputs": [
        {
          "output_type": "display_data",
          "data": {
            "image/png": "[encoded data removed]",
            "text/plain": [
              "<Figure size 432x288 with 1 Axes>"
            ]
          },
          "metadata": {
            "needs_background": "light"
          }
        }
      ],
      "source": [
        "inputs, classes = mixup_fn(inputs, classes)\n",
        "out = torchvision.utils.make_grid(inputs)\n",
        "imshow(out, title=[x.item() for x in classes.argmax(1)])"
      ]
    },
    {
      "cell_type": "code",
      "execution_count": null,
      "metadata": {
        "id": "FOqHFPDWIPus"
      },
      "outputs": [],
      "source": [
        "device = 'cuda' if torch.cuda.is_available() else 'cpu'"
      ]
    },
    {
      "cell_type": "code",
      "execution_count": null,
      "metadata": {
        "id": "NQFAy0qAB7ly"
      },
      "outputs": [],
      "source": [
        "from matplotlib import transforms\n",
        "class MixDataset(Dataset):\n",
        "    def __init__(self, imgs, class_to_int, mode='train', transforms=None):\n",
        "        super().__init__()\n",
        "        self.imgs = imgs\n",
        "        self.class_to_int = class_to_int\n",
        "        self.mode = mode\n",
        "        self.transforms = transforms\n",
        "        # self.data = np.vstack(self.imgs).reshape(-1, 3, 32, 32)\n",
        "        # self.data = self.imgs.transpose((0, 2, 3, 1))\n",
        "        \n",
        "    def __getitem__(self, index):\n",
        "        image_name = self.imgs[index]\n",
        "        if self.mode == 'train':\n",
        "          img = Image.open(image_name)\n",
        "\n",
        "          label = self.class_to_int[image_name.split(\"/\")[-2]]\n",
        "\n",
        "          image = self.transforms(img)\n",
        "          label_mix = torch.zeros(2)\n",
        "          label_mix[label] = 1\n",
        "\n",
        "          if index>0 and index%5==0:\n",
        "            # Choose another image/label randomly\n",
        "            mixup_idx = random.randint(0, len(self.imgs)-1)\n",
        "            mixup_label = torch.zeros(2)\n",
        "            image_name = self.imgs[mixup_idx]\n",
        "            img = Image.open(image_name)\n",
        "            label = self.class_to_int[image_name.split(\"/\")[-2]]\n",
        "            label_mix[label] = 1\n",
        "            \n",
        "            mixup_image = self.transforms(img)\n",
        "                \n",
        "            # Select a random number from the given beta distribution\n",
        "            # Mixup the images accordingly\n",
        "            alpha = 0.2\n",
        "            lam = np.random.beta(alpha, alpha)\n",
        "            image = lam * image + (1 - lam) * mixup_image\n",
        "            label = lam * label + (1 - lam) * mixup_label\n",
        "          return image, label\n",
        "          # label = torch.tensor(label, dtype = torch.float32)\n",
        "          # img = self.transforms(img)\n",
        "        elif self.mode == \"val\":\n",
        "          img = Image.open(image_name)\n",
        "          label = self.class_to_int[image_name.split(\"/\")[-2]]\n",
        "          label = torch.tensor(label, dtype = torch.float32)\n",
        "          img = self.transforms(img)\n",
        "          return img, label\n",
        "        elif self.mode == \"test\":\n",
        "          img = Image.open(image_name)\n",
        "          img = self.transforms(img)\n",
        "          return img, image_name\n",
        "\n",
        "    def __len__(self):\n",
        "        return len(self.imgs)"
      ]
    },
    {
      "cell_type": "code",
      "execution_count": null,
      "metadata": {
        "id": "IsgF9MyFLkW0"
      },
      "outputs": [],
      "source": [
        "train_dataset = MixDataset(train_imgs, class_to_int, mode = \"train\",\n",
        "                              transforms = get_train_transform())\n",
        "val_dataset = MixDataset(val_imgs, class_to_int, mode = \"val\", \n",
        "                            transforms = get_val_transform())\n",
        "test_dataset = MixDataset(test_images, class_to_int, mode = \"test\", \n",
        "                             transforms = get_val_transform())\n",
        "\n",
        "train_data_loader = DataLoader(\n",
        "    dataset = train_dataset,\n",
        "    num_workers = 2,\n",
        "    batch_size = 32,\n",
        "    shuffle = True\n",
        ")\n",
        "\n",
        "val_data_loader = DataLoader(\n",
        "    dataset = val_dataset,\n",
        "    num_workers = 2,\n",
        "    batch_size = 32,\n",
        "    shuffle = True\n",
        ")\n",
        "\n",
        "test_data_loader = DataLoader(\n",
        "    dataset = test_dataset,\n",
        "    num_workers = 2,\n",
        "    batch_size = 32,\n",
        "    shuffle = False\n",
        ")"
      ]
    },
    {
      "cell_type": "code",
      "execution_count": null,
      "metadata": {
        "id": "TIMx6v2ZGncp"
      },
      "outputs": [],
      "source": [
        "def bceloss(x, y):\n",
        "    eps = 1e-6\n",
        "    return -torch.mean(y * torch.log(x + eps) + (1 - y) * torch.log(1 - x + eps))"
      ]
    },
    {
      "cell_type": "code",
      "execution_count": null,
      "metadata": {
        "id": "0moFHjWzLfJZ"
      },
      "outputs": [],
      "source": [
        "best_Acc = 0\n",
        "\n",
        "\"\"\"\n",
        "Training Procedure\n",
        "\"\"\"\n",
        "for epoch in range(5):\n",
        "    mobile.train()\n",
        "    for imgs, labels in train_data_loader:\n",
        "        imgs = imgs.to(device)\n",
        "        labels = labels.to(device)\n",
        "        preds = mobile(imgs)\n",
        "        loss = bceloss(preds, labels)\n",
        "        optimizer.zero_grad()\n",
        "        loss.backward()\n",
        "        optimizer.step()\n",
        "       \n",
        "\n",
        "    # We evaluate the network after every epoch based on test set accuracy\n",
        "    mobile.eval()\n",
        "    with torch.no_grad():\n",
        "        total = 0\n",
        "        numCorrect = 0\n",
        "        for (imgs, labels) in val_data_loader:\n",
        "            imgs = imgs.to(device)\n",
        "            labels = labels.to(device)\n",
        "            preds = mobile(imgs)\n",
        "            numCorrect += (torch.argmax(preds, dim=1) == torch.argmax(labels, dim=1)).float().sum()\n",
        "            total += len(imgs)\n",
        "        acc = numCorrect/total\n",
        "        print(\"Current image classification accuracy at epoch {}: {}\".format(epoch, acc))\n",
        "        if acc > best_Acc:\n",
        "            best_Acc = acc"
      ]
    },
    {
      "cell_type": "code",
      "source": [
        "def mixup_data(x, y, alpha=1.0):\n",
        "    '''Returns mixed inputs, pairs of targets, and lambda'''\n",
        "    if alpha > 0:\n",
        "        lam = np.random.beta(alpha, alpha)\n",
        "    else:\n",
        "        lam = 1\n",
        "\n",
        "    batch_size = x.size()[0]\n",
        "\n",
        "    index = torch.randperm(batch_size).cuda()\n",
        "\n",
        "    mixed_x = lam * x + (1 - lam) * x[index, :]\n",
        "    y_a, y_b = y, y[index]\n",
        "    return mixed_x, y_a, y_b, lam"
      ],
      "metadata": {
        "id": "gVg5bNbDg9tj"
      },
      "execution_count": null,
      "outputs": []
    },
    {
      "cell_type": "code",
      "execution_count": null,
      "metadata": {
        "id": "89EPaoZALfQh"
      },
      "outputs": [],
      "source": [
        "def mixup_criterion(criterion, pred, y_a, y_b, lam):\n",
        "    return lam * criterion(pred, y_a) + (1 - lam) * criterion(pred, y_b)"
      ]
    },
    {
      "cell_type": "code",
      "source": [
        "from torch.autograd import Variable\n",
        "def train_mixup(epoch):\n",
        "    print('\\nEpoch: %d' % epoch)\n",
        "    mobile.train()\n",
        "    train_loss = 0\n",
        "    reg_loss = 0\n",
        "    correct = 0\n",
        "    total = 0\n",
        "    for batch_idx, (inputs, targets) in enumerate(train_data_loader):\n",
        "\n",
        "        inputs, targets = inputs.cuda(), targets.cuda()\n",
        "        targets = targets.reshape((targets.shape[0], 1))\n",
        "        inputs, targets_a, targets_b, lam = mixup_data(inputs, targets,\n",
        "                                                       alpha=0.3)\n",
        "        inputs, targets_a, targets_b = map(Variable, (inputs,\n",
        "                                                      targets_a, targets_b))\n",
        "        outputs = mobile(inputs)\n",
        "        loss = mixup_criterion(criterion, outputs, targets_a, targets_b, lam)\n",
        "        train_loss += loss.data.item()\n",
        "        _, predicted = torch.max(outputs.data, 1)\n",
        "        total += targets.size(0)\n",
        "        correct += (lam * predicted.eq(targets_a.data).cpu().sum().float()\n",
        "                    + (1 - lam) * predicted.eq(targets_b.data).cpu().sum().float())\n",
        "\n",
        "        optimizer.zero_grad()\n",
        "        loss.backward()\n",
        "        optimizer.step()\n",
        "\n",
        "        \n",
        "    return (train_loss/batch_idx, reg_loss/batch_idx, 100.*correct/total)"
      ],
      "metadata": {
        "id": "Zzi6fsGKhYxc"
      },
      "execution_count": null,
      "outputs": []
    },
    {
      "cell_type": "code",
      "source": [
        "def test_mixup(epoch):\n",
        "    global best_acc\n",
        "    mobile.eval()\n",
        "    test_loss = 0\n",
        "    correct = 0\n",
        "    total = 0\n",
        "    for batch_idx, (inputs, targets) in enumerate(test_data_loader):\n",
        "\n",
        "        inputs, targets = inputs.cuda(), targets.cuda()\n",
        "        targets = targets.reshape((targets.shape[0], 1))\n",
        "        inputs, targets = Variable(inputs, volatile=True), Variable(targets)\n",
        "        outputs = mobile(inputs)\n",
        "        loss = criterion(outputs, targets)\n",
        "\n",
        "        test_loss += loss.data.item()\n",
        "        _, predicted = torch.max(outputs.data, 1)\n",
        "        total += targets.size(0)\n",
        "        correct += predicted.eq(targets.data).cpu().sum()\n",
        "\n",
        "    acc = 100.*correct/total\n",
        "\n",
        "    return (test_loss/batch_idx, 100.*correct/total)\n"
      ],
      "metadata": {
        "id": "SebaN-tPiyUb"
      },
      "execution_count": null,
      "outputs": []
    },
    {
      "cell_type": "code",
      "source": [
        "epoch = 2\n",
        "for epoch in range(epoch):\n",
        "\n",
        "  train_loss, _, train_acc = train_mixup(epoch)\n",
        "  print(\"Loss : {}\".format((train_loss)))\n",
        "  print(\"Acc : {}\".format((train_acc)))\n",
        "\n",
        "  test_loss, acc_test = test_mixup(epoch)\n",
        "  print('Validating')\n",
        "  print(\"Loss : {}\".format(round(test_loss, 4)))\n",
        "  print(\"Acc : {}\".format(round(acc_test, 4)))"
      ],
      "metadata": {
        "id": "NZGzyVcmjSop"
      },
      "execution_count": null,
      "outputs": []
    },
    {
      "cell_type": "markdown",
      "source": [
        "# Active Learning"
      ],
      "metadata": {
        "id": "pLsXWlU5llYb"
      }
    },
    {
      "cell_type": "code",
      "source": [
        "from torch.utils.data.sampler import SubsetRandomSampler\n",
        "import matplotlib.image as mpimg"
      ],
      "metadata": {
        "id": "lqFZ_WAxlpGj"
      },
      "execution_count": null,
      "outputs": []
    },
    {
      "cell_type": "code",
      "source": [
        "def is_image(filename):\n",
        "    return any(filename.endswith(extension) for extension in [\".jpg\", \".jpeg\", \".png\"])"
      ],
      "metadata": {
        "id": "NvlPLSmJoQPY"
      },
      "execution_count": null,
      "outputs": []
    },
    {
      "cell_type": "code",
      "source": [
        "class IndexedDataset(Dataset):\n",
        "\n",
        "    def __init__(self, dir_path, transform=None, test=False):\n",
        "        '''\n",
        "        Args:\n",
        "        - dir_path (string): path to the directory containing images\n",
        "        - transform (torchvision.transforms.) (default=None)\n",
        "        - test (boolean): True for labeled images, False otherwise (default=False)\n",
        "        '''\n",
        "\n",
        "        self.dir_path = dir_path\n",
        "        self.transform = transform\n",
        "        \n",
        "        image_filenames = []\n",
        "        for (dirpath, dirnames, filenames) in os.walk(dir_path):\n",
        "            image_filenames += [os.path.join(dirpath, file) for file in filenames if is_image(file)]\n",
        "        self.image_filenames = image_filenames    \n",
        "        \n",
        "        # We assume that in the beginning, the entire dataset is unlabeled, unless it is flagged as 'test':\n",
        "        if test:\n",
        "            # The image's label is given by 0 if folder name is cat and other is dog\n",
        "            # E.g. the label for the image file `/content/general_backbone/toydata/image_classification/test/cat/cat.0.jpg` is cat\n",
        "            self.labels = [0 if f.split('/')[-2] == 'cat' else 1 for f in self.image_filenames]\n",
        "            self.unlabeled_mask = np.zeros(len(self.image_filenames))\n",
        "        else:\n",
        "            self.labels =[0]*len(self.image_filenames)\n",
        "            self.unlabeled_mask = np.ones(len(self.image_filenames))\n",
        "\n",
        "    def __len__(self):\n",
        "        return len(self.image_filenames)\n",
        "\n",
        "    def __getitem__(self, idx):\n",
        "\n",
        "        img_name = self.image_filenames[idx]\n",
        "        image = Image.open(img_name)\n",
        "\n",
        "        if self.transform:\n",
        "            image = self.transform(image)\n",
        "\n",
        "        return image, self.labels[idx], idx\n",
        "    \n",
        "    # Display the image [idx] and its filename\n",
        "    def display(self, idx):\n",
        "        img_name = self.image_filenames[idx]\n",
        "        print(img_name)\n",
        "        img=mpimg.imread(img_name)\n",
        "        imgplot = plt.imshow(img)\n",
        "        plt.show()\n",
        "        return\n",
        "    \n",
        "    # Set the label of image [idx] to 'new_label'\n",
        "    def update_label(self, idx, new_label):\n",
        "        self.labels[idx] = new_label\n",
        "        self.unlabeled_mask[idx] = 0\n",
        "        return\n",
        "    \n",
        "    # Set the label of image [idx] to that read from its filename\n",
        "    def label_from_filename(self, idx):\n",
        "        # self.labels[idx] = int(self.image_filenames[idx][len(self.dir_path)+1])\n",
        "        self.labels[idx] = 0 if self.image_filenames[idx].split('/')[-2] == 'cat' else 1\n",
        "        self.unlabeled_mask[idx] = 0\n",
        "        return"
      ],
      "metadata": {
        "id": "TabywRlSlyRt"
      },
      "execution_count": null,
      "outputs": []
    },
    {
      "cell_type": "code",
      "source": [
        "def random_query(data_loader, query_size=10):\n",
        "    \n",
        "    sample_idx = []\n",
        "    \n",
        "    # Because the data has already been shuffled inside the data loader,\n",
        "    # we can simply return the `query_size` first samples from it\n",
        "    for batch in data_loader:\n",
        "        \n",
        "        _, _, idx = batch\n",
        "        sample_idx.extend(idx.tolist())\n",
        "\n",
        "        if len(sample_idx) >= query_size:\n",
        "            break\n",
        "    \n",
        "    return sample_idx[0:query_size]"
      ],
      "metadata": {
        "id": "Dm1UgQwTmFzg"
      },
      "execution_count": null,
      "outputs": []
    },
    {
      "cell_type": "code",
      "source": [
        "def least_confidence_query(model, device, data_loader, query_size=10):\n",
        "\n",
        "    confidences = []\n",
        "    indices = []\n",
        "    \n",
        "    model.eval()\n",
        "    \n",
        "    with torch.no_grad():\n",
        "        for batch in data_loader:\n",
        "        \n",
        "            data, _, idx = batch\n",
        "            logits = model(data.to(device))\n",
        "            probabilities = F.softmax(logits, dim=1)\n",
        "            \n",
        "            # Keep only the top class confidence for each sample\n",
        "            most_probable = torch.max(probabilities, dim=1)[0]\n",
        "            confidences.extend(most_probable.cpu().tolist())\n",
        "            indices.extend(idx.tolist())\n",
        "            \n",
        "    conf = np.asarray(confidences)\n",
        "    ind = np.asarray(indices)\n",
        "    sorted_pool = np.argsort(conf)\n",
        "    # Return the indices corresponding to the lowest `query_size` confidences\n",
        "    return ind[sorted_pool][0:query_size]"
      ],
      "metadata": {
        "id": "_Cb_gfycmIRo"
      },
      "execution_count": null,
      "outputs": []
    },
    {
      "cell_type": "code",
      "source": [
        "def margin_query(model, device, data_loader, query_size=10):\n",
        "    \n",
        "    margins = []\n",
        "    indices = []\n",
        "    \n",
        "    model.eval()\n",
        "    \n",
        "    with torch.no_grad():\n",
        "        for batch in data_loader:\n",
        "        \n",
        "            data, _, idx = batch\n",
        "            logits = model(data.to(device))\n",
        "            probabilities = F.softmax(logits, dim=1)\n",
        "            \n",
        "            # Select the top two class confidences for each sample\n",
        "            toptwo = torch.topk(probabilities, 2, dim=1)[0]\n",
        "            \n",
        "            # Compute the margins = differences between the two top confidences\n",
        "            differences = toptwo[:,0]-toptwo[:,1]\n",
        "            margins.extend(torch.abs(differences).cpu().tolist())\n",
        "            indices.extend(idx.tolist())\n",
        "\n",
        "    margin = np.asarray(margins)\n",
        "    index = np.asarray(indices)\n",
        "    sorted_pool = np.argsort(margin)\n",
        "    # Return the indices corresponding to the lowest `query_size` margins\n",
        "    return index[sorted_pool][0:query_size]"
      ],
      "metadata": {
        "id": "1JfCHBp8mLFN"
      },
      "execution_count": null,
      "outputs": []
    },
    {
      "cell_type": "code",
      "source": [
        "def query_the_oracle(model, device, dataset, query_size=10, query_strategy='random', \n",
        "                     interactive=True, pool_size=0, batch_size=128, num_workers=4):\n",
        "    \n",
        "    unlabeled_idx = np.nonzero(dataset.unlabeled_mask)[0]\n",
        "    \n",
        "    # Select a pool of samples to query from\n",
        "    if pool_size > 0:    \n",
        "        pool_idx = random.sample(range(1, len(unlabeled_idx)), pool_size)\n",
        "        pool_loader = DataLoader(dataset, batch_size=batch_size, num_workers=num_workers,\n",
        "                                              sampler=SubsetRandomSampler(unlabeled_idx[pool_idx]))\n",
        "    else:\n",
        "        pool_loader = DataLoader(dataset, batch_size=batch_size, num_workers=num_workers,\n",
        "                                              sampler=SubsetRandomSampler(unlabeled_idx))\n",
        "       \n",
        "    if query_strategy == 'margin':\n",
        "        sample_idx = margin_query(model, device, pool_loader, query_size)\n",
        "    elif query_strategy == 'least_confidence':\n",
        "        sample_idx = least_confidence_query(model, device, pool_loader, query_size)\n",
        "    else:\n",
        "        sample_idx = random_query(pool_loader, query_size)\n",
        "    \n",
        "    # Query the samples, one at a time\n",
        "    for sample in sample_idx:\n",
        "        \n",
        "        if interactive:\n",
        "            dataset.display(sample)\n",
        "            print(\"What is the class of this image?\")\n",
        "            new_label = int(input(\"\\n\\n> \"))\n",
        "            dataset.update_label(sample, new_label)\n",
        "            \n",
        "        else:\n",
        "            dataset.label_from_filename(sample)"
      ],
      "metadata": {
        "id": "XmIvnPuBm3sq"
      },
      "execution_count": null,
      "outputs": []
    },
    {
      "cell_type": "code",
      "source": [
        "def train(model, device, train_loader, optimizer, criterion):\n",
        "    \n",
        "    model.train()\n",
        "    \n",
        "    epoch_loss = 0\n",
        "    \n",
        "    for batch in train_loader:\n",
        "        \n",
        "        data, target, _ = batch\n",
        "        data, target = data.to(device), target.to(device)\n",
        "        \n",
        "        optimizer.zero_grad()\n",
        "        output = model(data)\n",
        "        loss = criterion(output.squeeze(), target.squeeze())\n",
        "        loss.backward()\n",
        "        optimizer.step()\n",
        "        epoch_loss += loss.item()\n",
        "        \n",
        "    return epoch_loss"
      ],
      "metadata": {
        "id": "Mn0UYaJEm8W0"
      },
      "execution_count": null,
      "outputs": []
    },
    {
      "cell_type": "code",
      "source": [
        "def test(model, device, test_loader, criterion, display=False):\n",
        "    \n",
        "    model.eval()\n",
        "    \n",
        "    test_loss = 0\n",
        "    n_correct = 0\n",
        "    \n",
        "    one = torch.ones(1, 1).to(device)\n",
        "    zero = torch.zeros(1, 1).to(device)\n",
        "    \n",
        "    with torch.no_grad():\n",
        "        for batch in test_loader:\n",
        "            \n",
        "            data, target, _ = batch\n",
        "            data, target = data.to(device), target.to(device)\n",
        "            output = model(data)\n",
        "            test_loss += criterion(output.squeeze(), target.squeeze()).item()  # sum up batch loss\n",
        "            prediction = output.argmax(dim=1, keepdim=True)\n",
        "            torch.where(output.squeeze()<0.5, zero, one)  # get the index of the max log-probability\n",
        "            n_correct += prediction.eq(target.view_as(prediction)).sum().item()\n",
        "\n",
        "    test_loss /= len(test_loader.dataset) \n",
        "    \n",
        "    if display:\n",
        "        print('Accuracy on the test set: ', (100. * n_correct / len(test_loader.dataset)))\n",
        "    return test_loss, (100. * n_correct / len(test_loader.dataset))"
      ],
      "metadata": {
        "id": "pNu9X_UmnI7L"
      },
      "execution_count": null,
      "outputs": []
    },
    {
      "cell_type": "code",
      "source": [
        "import torchvision.transforms as transforms\n",
        "np.random.seed(42)\n",
        "random.seed(10)\n",
        "torch.backends.cudnn.deterministic = True\n",
        "torch.backends.cudnn.benchmark = False\n",
        "torch.manual_seed(999)\n",
        "\n",
        "train_dir = 'train/train'\n",
        "test_dir = 'test/test'\n",
        "\n",
        "device = torch.device(\"cuda\")\n",
        "\n",
        "train_set = IndexedDataset(train_dir, transform=transforms.Compose([transforms.Resize((224, 224)), \n",
        "                                                                transforms.ToTensor()]))\n",
        "test_set = IndexedDataset(test_dir, transform=transforms.Compose([transforms.Resize((224, 224)), \n",
        "                                                                transforms.ToTensor()]), test=True) \n",
        "test_loader = DataLoader(test_set, batch_size=32, shuffle=False, num_workers=2)\n",
        "\n",
        "print('Train set size: ', len(train_set))\n",
        "print('Test set size: ', len(test_set))\n",
        "\n",
        "# Number of classes in the classification problem\n",
        "n_classes = 2\n",
        "mobilenet = torchvision.models.mobilenet_v3_small(pretrained=True)\n",
        "\n",
        "for param in mobilenet.parameters():\n",
        "    param.requires_grad = False\n",
        "mobilenet.classifier._modules['3']  = nn.Sequential(\n",
        "    nn.Linear(1024, 2, bias = True)\n",
        ")\n",
        "classifier = mobilenet.to(device) \n",
        "\n",
        "criterion = nn.CrossEntropyLoss()\n",
        "optimizer = optim.SGD(classifier.parameters(), lr=0.01, momentum=0.9, dampening=0, weight_decay=0.0001)\n",
        "        \n",
        "# Label the initial subset\n",
        "query_the_oracle(classifier, device, train_set, query_size=20, interactive=False, query_strategy='random', pool_size=0)\n",
        "  \n",
        "# How many times should the oracle be queried\n",
        "num_queries = 3\n",
        "\n",
        "batch_size = 32\n",
        "\n",
        "# Pre-train on the initial subset\n",
        "labeled_idx = np.where(train_set.unlabeled_mask == 0)[0]\n",
        "labeled_loader = DataLoader(train_set, batch_size=batch_size, num_workers=2, \n",
        "                            sampler=SubsetRandomSampler(labeled_idx))\n",
        "previous_test_acc = 0\n",
        "current_test_acc = 1\n",
        "while current_test_acc > previous_test_acc:\n",
        "    previous_test_acc = current_test_acc\n",
        "    train_loss = train(classifier, device, labeled_loader, optimizer, criterion)\n",
        "    _, current_test_acc = test(classifier, device, test_loader, criterion)\n",
        "\n",
        "\n",
        "test(classifier, device, test_loader, criterion, display=True)\n",
        "\n",
        "for query in range(num_queries):\n",
        "    \n",
        "    # Query the oracle for more labels\n",
        "    query_the_oracle(classifier, device, train_set, query_size=5, query_strategy='margin', interactive=True, pool_size=0)\n",
        "    \n",
        "    # Train the model on the data that has been labeled so far:\n",
        "    labeled_idx = np.where(train_set.unlabeled_mask == 0)[0]\n",
        "    labeled_loader = DataLoader(train_set, batch_size=batch_size, num_workers=2, \n",
        "                                sampler=SubsetRandomSampler(labeled_idx))\n",
        "    previous_test_acc = 0\n",
        "    current_test_acc = 1\n",
        "    while current_test_acc > previous_test_acc:\n",
        "        previous_test_acc = current_test_acc\n",
        "        train_loss = train(classifier, device, labeled_loader, optimizer, criterion)\n",
        "        _, current_test_acc = test(classifier, device, test_loader, criterion)\n",
        "\n",
        "\n",
        "    # Test the model:\n",
        "    test(classifier, device, test_loader, criterion, display=True)"
      ],
      "metadata": {
        "colab": {
          "base_uri": "https://localhost:8080/",
          "height": 909
        },
        "id": "wJJhCTdmnMcD",
        "outputId": "d397795f-2ad2-4933-a64a-a51566652f4f"
      },
      "execution_count": null,
      "outputs": [
        {
          "output_type": "stream",
          "name": "stdout",
          "text": [
            "Train set size:  25000\n",
            "Test set size:  8000\n"
          ]
        },
        {
          "output_type": "stream",
          "name": "stderr",
          "text": [
            "/usr/local/lib/python3.7/dist-packages/torch/utils/data/dataloader.py:481: UserWarning: This DataLoader will create 4 worker processes in total. Our suggested max number of worker in current system is 2, which is smaller than what this DataLoader is going to create. Please be aware that excessive worker creation might get DataLoader running slow or even freeze, lower the worker number to avoid potential slowness/freeze if necessary.\n",
            "  cpuset_checked))\n"
          ]
        },
        {
          "output_type": "stream",
          "name": "stdout",
          "text": [
            "Accuracy on the test set:  99.85\n",
            "train/train/dogs/dog.11073.jpg\n"
          ]
        },
        {
          "output_type": "display_data",
          "data": {
            "image/png": "[encoded data removed]",
            "text/plain": [
              "<Figure size 432x288 with 1 Axes>"
            ]
          },
          "metadata": {
            "needs_background": "light"
          }
        },
        {
          "output_type": "stream",
          "name": "stdout",
          "text": [
            "What is the class of this image?\n"
          ]
        },
        {
          "output_type": "error",
          "ename": "KeyboardInterrupt",
          "evalue": "ignored",
          "traceback": [
            "\u001b[0;31m---------------------------------------------------------------------------\u001b[0m",
            "\u001b[0;31mKeyboardInterrupt\u001b[0m                         Traceback (most recent call last)",
            "\u001b[0;32m/usr/local/lib/python3.7/dist-packages/ipykernel/kernelbase.py\u001b[0m in \u001b[0;36m_input_request\u001b[0;34m(self, prompt, ident, parent, password)\u001b[0m\n\u001b[1;32m    728\u001b[0m             \u001b[0;32mtry\u001b[0m\u001b[0;34m:\u001b[0m\u001b[0;34m\u001b[0m\u001b[0;34m\u001b[0m\u001b[0m\n\u001b[0;32m--> 729\u001b[0;31m                 \u001b[0mident\u001b[0m\u001b[0;34m,\u001b[0m \u001b[0mreply\u001b[0m \u001b[0;34m=\u001b[0m \u001b[0mself\u001b[0m\u001b[0;34m.\u001b[0m\u001b[0msession\u001b[0m\u001b[0;34m.\u001b[0m\u001b[0mrecv\u001b[0m\u001b[0;34m(\u001b[0m\u001b[0mself\u001b[0m\u001b[0;34m.\u001b[0m\u001b[0mstdin_socket\u001b[0m\u001b[0;34m,\u001b[0m \u001b[0;36m0\u001b[0m\u001b[0;34m)\u001b[0m\u001b[0;34m\u001b[0m\u001b[0;34m\u001b[0m\u001b[0m\n\u001b[0m\u001b[1;32m    730\u001b[0m             \u001b[0;32mexcept\u001b[0m \u001b[0mException\u001b[0m\u001b[0;34m:\u001b[0m\u001b[0;34m\u001b[0m\u001b[0;34m\u001b[0m\u001b[0m\n",
            "\u001b[0;32m/usr/local/lib/python3.7/dist-packages/jupyter_client/session.py\u001b[0m in \u001b[0;36mrecv\u001b[0;34m(self, socket, mode, content, copy)\u001b[0m\n\u001b[1;32m    802\u001b[0m         \u001b[0;32mtry\u001b[0m\u001b[0;34m:\u001b[0m\u001b[0;34m\u001b[0m\u001b[0;34m\u001b[0m\u001b[0m\n\u001b[0;32m--> 803\u001b[0;31m             \u001b[0mmsg_list\u001b[0m \u001b[0;34m=\u001b[0m \u001b[0msocket\u001b[0m\u001b[0;34m.\u001b[0m\u001b[0mrecv_multipart\u001b[0m\u001b[0;34m(\u001b[0m\u001b[0mmode\u001b[0m\u001b[0;34m,\u001b[0m \u001b[0mcopy\u001b[0m\u001b[0;34m=\u001b[0m\u001b[0mcopy\u001b[0m\u001b[0;34m)\u001b[0m\u001b[0;34m\u001b[0m\u001b[0;34m\u001b[0m\u001b[0m\n\u001b[0m\u001b[1;32m    804\u001b[0m         \u001b[0;32mexcept\u001b[0m \u001b[0mzmq\u001b[0m\u001b[0;34m.\u001b[0m\u001b[0mZMQError\u001b[0m \u001b[0;32mas\u001b[0m \u001b[0me\u001b[0m\u001b[0;34m:\u001b[0m\u001b[0;34m\u001b[0m\u001b[0;34m\u001b[0m\u001b[0m\n",
            "\u001b[0;32m/usr/local/lib/python3.7/dist-packages/zmq/sugar/socket.py\u001b[0m in \u001b[0;36mrecv_multipart\u001b[0;34m(self, flags, copy, track)\u001b[0m\n\u001b[1;32m    624\u001b[0m         \"\"\"\n\u001b[0;32m--> 625\u001b[0;31m         \u001b[0mparts\u001b[0m \u001b[0;34m=\u001b[0m \u001b[0;34m[\u001b[0m\u001b[0mself\u001b[0m\u001b[0;34m.\u001b[0m\u001b[0mrecv\u001b[0m\u001b[0;34m(\u001b[0m\u001b[0mflags\u001b[0m\u001b[0;34m,\u001b[0m \u001b[0mcopy\u001b[0m\u001b[0;34m=\u001b[0m\u001b[0mcopy\u001b[0m\u001b[0;34m,\u001b[0m \u001b[0mtrack\u001b[0m\u001b[0;34m=\u001b[0m\u001b[0mtrack\u001b[0m\u001b[0;34m)\u001b[0m\u001b[0;34m]\u001b[0m\u001b[0;34m\u001b[0m\u001b[0;34m\u001b[0m\u001b[0m\n\u001b[0m\u001b[1;32m    626\u001b[0m         \u001b[0;31m# have first part already, only loop while more to receive\u001b[0m\u001b[0;34m\u001b[0m\u001b[0;34m\u001b[0m\u001b[0;34m\u001b[0m\u001b[0m\n",
            "\u001b[0;32mzmq/backend/cython/socket.pyx\u001b[0m in \u001b[0;36mzmq.backend.cython.socket.Socket.recv\u001b[0;34m()\u001b[0m\n",
            "\u001b[0;32mzmq/backend/cython/socket.pyx\u001b[0m in \u001b[0;36mzmq.backend.cython.socket.Socket.recv\u001b[0;34m()\u001b[0m\n",
            "\u001b[0;32mzmq/backend/cython/socket.pyx\u001b[0m in \u001b[0;36mzmq.backend.cython.socket._recv_copy\u001b[0;34m()\u001b[0m\n",
            "\u001b[0;32m/usr/local/lib/python3.7/dist-packages/zmq/backend/cython/checkrc.pxd\u001b[0m in \u001b[0;36mzmq.backend.cython.checkrc._check_rc\u001b[0;34m()\u001b[0m\n",
            "\u001b[0;31mKeyboardInterrupt\u001b[0m: ",
            "\nDuring handling of the above exception, another exception occurred:\n",
            "\u001b[0;31mKeyboardInterrupt\u001b[0m                         Traceback (most recent call last)",
            "\u001b[0;32m<ipython-input-90-284f4c782f07>\u001b[0m in \u001b[0;36m<module>\u001b[0;34m()\u001b[0m\n\u001b[1;32m     59\u001b[0m \u001b[0;34m\u001b[0m\u001b[0m\n\u001b[1;32m     60\u001b[0m     \u001b[0;31m# Query the oracle for more labels\u001b[0m\u001b[0;34m\u001b[0m\u001b[0;34m\u001b[0m\u001b[0;34m\u001b[0m\u001b[0m\n\u001b[0;32m---> 61\u001b[0;31m     \u001b[0mquery_the_oracle\u001b[0m\u001b[0;34m(\u001b[0m\u001b[0mclassifier\u001b[0m\u001b[0;34m,\u001b[0m \u001b[0mdevice\u001b[0m\u001b[0;34m,\u001b[0m \u001b[0mtrain_set\u001b[0m\u001b[0;34m,\u001b[0m \u001b[0mquery_size\u001b[0m\u001b[0;34m=\u001b[0m\u001b[0;36m5\u001b[0m\u001b[0;34m,\u001b[0m \u001b[0mquery_strategy\u001b[0m\u001b[0;34m=\u001b[0m\u001b[0;34m'margin'\u001b[0m\u001b[0;34m,\u001b[0m \u001b[0minteractive\u001b[0m\u001b[0;34m=\u001b[0m\u001b[0;32mTrue\u001b[0m\u001b[0;34m,\u001b[0m \u001b[0mpool_size\u001b[0m\u001b[0;34m=\u001b[0m\u001b[0;36m0\u001b[0m\u001b[0;34m)\u001b[0m\u001b[0;34m\u001b[0m\u001b[0;34m\u001b[0m\u001b[0m\n\u001b[0m\u001b[1;32m     62\u001b[0m \u001b[0;34m\u001b[0m\u001b[0m\n\u001b[1;32m     63\u001b[0m     \u001b[0;31m# Train the model on the data that has been labeled so far:\u001b[0m\u001b[0;34m\u001b[0m\u001b[0;34m\u001b[0m\u001b[0;34m\u001b[0m\u001b[0m\n",
            "\u001b[0;32m<ipython-input-87-97ba04b1ed64>\u001b[0m in \u001b[0;36mquery_the_oracle\u001b[0;34m(model, device, dataset, query_size, query_strategy, interactive, pool_size, batch_size, num_workers)\u001b[0m\n\u001b[1;32m     26\u001b[0m             \u001b[0mdataset\u001b[0m\u001b[0;34m.\u001b[0m\u001b[0mdisplay\u001b[0m\u001b[0;34m(\u001b[0m\u001b[0msample\u001b[0m\u001b[0;34m)\u001b[0m\u001b[0;34m\u001b[0m\u001b[0;34m\u001b[0m\u001b[0m\n\u001b[1;32m     27\u001b[0m             \u001b[0mprint\u001b[0m\u001b[0;34m(\u001b[0m\u001b[0;34m\"What is the class of this image?\"\u001b[0m\u001b[0;34m)\u001b[0m\u001b[0;34m\u001b[0m\u001b[0;34m\u001b[0m\u001b[0m\n\u001b[0;32m---> 28\u001b[0;31m             \u001b[0mnew_label\u001b[0m \u001b[0;34m=\u001b[0m \u001b[0mint\u001b[0m\u001b[0;34m(\u001b[0m\u001b[0minput\u001b[0m\u001b[0;34m(\u001b[0m\u001b[0;34m\"\\n\\n> \"\u001b[0m\u001b[0;34m)\u001b[0m\u001b[0;34m)\u001b[0m\u001b[0;34m\u001b[0m\u001b[0;34m\u001b[0m\u001b[0m\n\u001b[0m\u001b[1;32m     29\u001b[0m             \u001b[0mdataset\u001b[0m\u001b[0;34m.\u001b[0m\u001b[0mupdate_label\u001b[0m\u001b[0;34m(\u001b[0m\u001b[0msample\u001b[0m\u001b[0;34m,\u001b[0m \u001b[0mnew_label\u001b[0m\u001b[0;34m)\u001b[0m\u001b[0;34m\u001b[0m\u001b[0;34m\u001b[0m\u001b[0m\n\u001b[1;32m     30\u001b[0m \u001b[0;34m\u001b[0m\u001b[0m\n",
            "\u001b[0;32m/usr/local/lib/python3.7/dist-packages/ipykernel/kernelbase.py\u001b[0m in \u001b[0;36mraw_input\u001b[0;34m(self, prompt)\u001b[0m\n\u001b[1;32m    702\u001b[0m             \u001b[0mself\u001b[0m\u001b[0;34m.\u001b[0m\u001b[0m_parent_ident\u001b[0m\u001b[0;34m,\u001b[0m\u001b[0;34m\u001b[0m\u001b[0;34m\u001b[0m\u001b[0m\n\u001b[1;32m    703\u001b[0m             \u001b[0mself\u001b[0m\u001b[0;34m.\u001b[0m\u001b[0m_parent_header\u001b[0m\u001b[0;34m,\u001b[0m\u001b[0;34m\u001b[0m\u001b[0;34m\u001b[0m\u001b[0m\n\u001b[0;32m--> 704\u001b[0;31m             \u001b[0mpassword\u001b[0m\u001b[0;34m=\u001b[0m\u001b[0;32mFalse\u001b[0m\u001b[0;34m,\u001b[0m\u001b[0;34m\u001b[0m\u001b[0;34m\u001b[0m\u001b[0m\n\u001b[0m\u001b[1;32m    705\u001b[0m         )\n\u001b[1;32m    706\u001b[0m \u001b[0;34m\u001b[0m\u001b[0m\n",
            "\u001b[0;32m/usr/local/lib/python3.7/dist-packages/ipykernel/kernelbase.py\u001b[0m in \u001b[0;36m_input_request\u001b[0;34m(self, prompt, ident, parent, password)\u001b[0m\n\u001b[1;32m    732\u001b[0m             \u001b[0;32mexcept\u001b[0m \u001b[0mKeyboardInterrupt\u001b[0m\u001b[0;34m:\u001b[0m\u001b[0;34m\u001b[0m\u001b[0;34m\u001b[0m\u001b[0m\n\u001b[1;32m    733\u001b[0m                 \u001b[0;31m# re-raise KeyboardInterrupt, to truncate traceback\u001b[0m\u001b[0;34m\u001b[0m\u001b[0;34m\u001b[0m\u001b[0;34m\u001b[0m\u001b[0m\n\u001b[0;32m--> 734\u001b[0;31m                 \u001b[0;32mraise\u001b[0m \u001b[0mKeyboardInterrupt\u001b[0m\u001b[0;34m\u001b[0m\u001b[0;34m\u001b[0m\u001b[0m\n\u001b[0m\u001b[1;32m    735\u001b[0m             \u001b[0;32melse\u001b[0m\u001b[0;34m:\u001b[0m\u001b[0;34m\u001b[0m\u001b[0;34m\u001b[0m\u001b[0m\n\u001b[1;32m    736\u001b[0m                 \u001b[0;32mbreak\u001b[0m\u001b[0;34m\u001b[0m\u001b[0;34m\u001b[0m\u001b[0m\n",
            "\u001b[0;31mKeyboardInterrupt\u001b[0m: "
          ]
        }
      ]
    }
  ],
  "metadata": {
    "accelerator": "GPU",
    "colab": {
      "collapsed_sections": [],
      "name": "6_VuXuanHien_Homework.ipynb",
      "provenance": []
    },
    "kernelspec": {
      "display_name": "Python 3",
      "name": "python3"
    },
    "language_info": {
      "name": "python"
    },
    "widgets": {
      "application/vnd.jupyter.widget-state+json": {
        "562684a0af0f4b6ea4c707a1e8a181b3": {
          "model_module": "@jupyter-widgets/controls",
          "model_name": "HBoxModel",
          "model_module_version": "1.5.0",
          "state": {
            "_view_name": "HBoxView",
            "_dom_classes": [],
            "_model_name": "HBoxModel",
            "_view_module": "@jupyter-widgets/controls",
            "_model_module_version": "1.5.0",
            "_view_count": null,
            "_view_module_version": "1.5.0",
            "box_style": "",
            "layout": "IPY_MODEL_c61d61b843e7477d8623024b03a5ceea",
            "_model_module": "@jupyter-widgets/controls",
            "children": [
              "IPY_MODEL_474fe60093d14cf1828b441505298240",
              "IPY_MODEL_4e1a19f2270e41de80f5e22436b07634",
              "IPY_MODEL_fe5abd9a9e624e5095904a1d36875cff"
            ]
          }
        },
        "c61d61b843e7477d8623024b03a5ceea": {
          "model_module": "@jupyter-widgets/base",
          "model_name": "LayoutModel",
          "model_module_version": "1.2.0",
          "state": {
            "_view_name": "LayoutView",
            "grid_template_rows": null,
            "right": null,
            "justify_content": null,
            "_view_module": "@jupyter-widgets/base",
            "overflow": null,
            "_model_module_version": "1.2.0",
            "_view_count": null,
            "flex_flow": null,
            "width": null,
            "min_width": null,
            "border": null,
            "align_items": null,
            "bottom": null,
            "_model_module": "@jupyter-widgets/base",
            "top": null,
            "grid_column": null,
            "overflow_y": null,
            "overflow_x": null,
            "grid_auto_flow": null,
            "grid_area": null,
            "grid_template_columns": null,
            "flex": null,
            "_model_name": "LayoutModel",
            "justify_items": null,
            "grid_row": null,
            "max_height": null,
            "align_content": null,
            "visibility": null,
            "align_self": null,
            "height": null,
            "min_height": null,
            "padding": null,
            "grid_auto_rows": null,
            "grid_gap": null,
            "max_width": null,
            "order": null,
            "_view_module_version": "1.2.0",
            "grid_template_areas": null,
            "object_position": null,
            "object_fit": null,
            "grid_auto_columns": null,
            "margin": null,
            "display": null,
            "left": null
          }
        },
        "474fe60093d14cf1828b441505298240": {
          "model_module": "@jupyter-widgets/controls",
          "model_name": "HTMLModel",
          "model_module_version": "1.5.0",
          "state": {
            "_view_name": "HTMLView",
            "style": "IPY_MODEL_7aa26700d0c747aaac8b6e71dde2cfca",
            "_dom_classes": [],
            "description": "",
            "_model_name": "HTMLModel",
            "placeholder": "​",
            "_view_module": "@jupyter-widgets/controls",
            "_model_module_version": "1.5.0",
            "value": "100%",
            "_view_count": null,
            "_view_module_version": "1.5.0",
            "description_tooltip": null,
            "_model_module": "@jupyter-widgets/controls",
            "layout": "IPY_MODEL_7f61f1761dd04278b3770e8bd93afe03"
          }
        },
        "4e1a19f2270e41de80f5e22436b07634": {
          "model_module": "@jupyter-widgets/controls",
          "model_name": "FloatProgressModel",
          "model_module_version": "1.5.0",
          "state": {
            "_view_name": "ProgressView",
            "style": "IPY_MODEL_36a56ef6be614bff83bb054bbda527aa",
            "_dom_classes": [],
            "description": "",
            "_model_name": "FloatProgressModel",
            "bar_style": "success",
            "max": 102530333,
            "_view_module": "@jupyter-widgets/controls",
            "_model_module_version": "1.5.0",
            "value": 102530333,
            "_view_count": null,
            "_view_module_version": "1.5.0",
            "orientation": "horizontal",
            "min": 0,
            "description_tooltip": null,
            "_model_module": "@jupyter-widgets/controls",
            "layout": "IPY_MODEL_0b61bec838074ff9a5011f01ddd62d8e"
          }
        },
        "fe5abd9a9e624e5095904a1d36875cff": {
          "model_module": "@jupyter-widgets/controls",
          "model_name": "HTMLModel",
          "model_module_version": "1.5.0",
          "state": {
            "_view_name": "HTMLView",
            "style": "IPY_MODEL_7ae0d6dda4094d948806fc42cf0f0cfe",
            "_dom_classes": [],
            "description": "",
            "_model_name": "HTMLModel",
            "placeholder": "​",
            "_view_module": "@jupyter-widgets/controls",
            "_model_module_version": "1.5.0",
            "value": " 97.8M/97.8M [00:00&lt;00:00, 202MB/s]",
            "_view_count": null,
            "_view_module_version": "1.5.0",
            "description_tooltip": null,
            "_model_module": "@jupyter-widgets/controls",
            "layout": "IPY_MODEL_57c75ccc85f6425ea855f8543aed6813"
          }
        },
        "7aa26700d0c747aaac8b6e71dde2cfca": {
          "model_module": "@jupyter-widgets/controls",
          "model_name": "DescriptionStyleModel",
          "model_module_version": "1.5.0",
          "state": {
            "_view_name": "StyleView",
            "_model_name": "DescriptionStyleModel",
            "description_width": "",
            "_view_module": "@jupyter-widgets/base",
            "_model_module_version": "1.5.0",
            "_view_count": null,
            "_view_module_version": "1.2.0",
            "_model_module": "@jupyter-widgets/controls"
          }
        },
        "7f61f1761dd04278b3770e8bd93afe03": {
          "model_module": "@jupyter-widgets/base",
          "model_name": "LayoutModel",
          "model_module_version": "1.2.0",
          "state": {
            "_view_name": "LayoutView",
            "grid_template_rows": null,
            "right": null,
            "justify_content": null,
            "_view_module": "@jupyter-widgets/base",
            "overflow": null,
            "_model_module_version": "1.2.0",
            "_view_count": null,
            "flex_flow": null,
            "width": null,
            "min_width": null,
            "border": null,
            "align_items": null,
            "bottom": null,
            "_model_module": "@jupyter-widgets/base",
            "top": null,
            "grid_column": null,
            "overflow_y": null,
            "overflow_x": null,
            "grid_auto_flow": null,
            "grid_area": null,
            "grid_template_columns": null,
            "flex": null,
            "_model_name": "LayoutModel",
            "justify_items": null,
            "grid_row": null,
            "max_height": null,
            "align_content": null,
            "visibility": null,
            "align_self": null,
            "height": null,
            "min_height": null,
            "padding": null,
            "grid_auto_rows": null,
            "grid_gap": null,
            "max_width": null,
            "order": null,
            "_view_module_version": "1.2.0",
            "grid_template_areas": null,
            "object_position": null,
            "object_fit": null,
            "grid_auto_columns": null,
            "margin": null,
            "display": null,
            "left": null
          }
        },
        "36a56ef6be614bff83bb054bbda527aa": {
          "model_module": "@jupyter-widgets/controls",
          "model_name": "ProgressStyleModel",
          "model_module_version": "1.5.0",
          "state": {
            "_view_name": "StyleView",
            "_model_name": "ProgressStyleModel",
            "description_width": "",
            "_view_module": "@jupyter-widgets/base",
            "_model_module_version": "1.5.0",
            "_view_count": null,
            "_view_module_version": "1.2.0",
            "bar_color": null,
            "_model_module": "@jupyter-widgets/controls"
          }
        },
        "0b61bec838074ff9a5011f01ddd62d8e": {
          "model_module": "@jupyter-widgets/base",
          "model_name": "LayoutModel",
          "model_module_version": "1.2.0",
          "state": {
            "_view_name": "LayoutView",
            "grid_template_rows": null,
            "right": null,
            "justify_content": null,
            "_view_module": "@jupyter-widgets/base",
            "overflow": null,
            "_model_module_version": "1.2.0",
            "_view_count": null,
            "flex_flow": null,
            "width": null,
            "min_width": null,
            "border": null,
            "align_items": null,
            "bottom": null,
            "_model_module": "@jupyter-widgets/base",
            "top": null,
            "grid_column": null,
            "overflow_y": null,
            "overflow_x": null,
            "grid_auto_flow": null,
            "grid_area": null,
            "grid_template_columns": null,
            "flex": null,
            "_model_name": "LayoutModel",
            "justify_items": null,
            "grid_row": null,
            "max_height": null,
            "align_content": null,
            "visibility": null,
            "align_self": null,
            "height": null,
            "min_height": null,
            "padding": null,
            "grid_auto_rows": null,
            "grid_gap": null,
            "max_width": null,
            "order": null,
            "_view_module_version": "1.2.0",
            "grid_template_areas": null,
            "object_position": null,
            "object_fit": null,
            "grid_auto_columns": null,
            "margin": null,
            "display": null,
            "left": null
          }
        },
        "7ae0d6dda4094d948806fc42cf0f0cfe": {
          "model_module": "@jupyter-widgets/controls",
          "model_name": "DescriptionStyleModel",
          "model_module_version": "1.5.0",
          "state": {
            "_view_name": "StyleView",
            "_model_name": "DescriptionStyleModel",
            "description_width": "",
            "_view_module": "@jupyter-widgets/base",
            "_model_module_version": "1.5.0",
            "_view_count": null,
            "_view_module_version": "1.2.0",
            "_model_module": "@jupyter-widgets/controls"
          }
        },
        "57c75ccc85f6425ea855f8543aed6813": {
          "model_module": "@jupyter-widgets/base",
          "model_name": "LayoutModel",
          "model_module_version": "1.2.0",
          "state": {
            "_view_name": "LayoutView",
            "grid_template_rows": null,
            "right": null,
            "justify_content": null,
            "_view_module": "@jupyter-widgets/base",
            "overflow": null,
            "_model_module_version": "1.2.0",
            "_view_count": null,
            "flex_flow": null,
            "width": null,
            "min_width": null,
            "border": null,
            "align_items": null,
            "bottom": null,
            "_model_module": "@jupyter-widgets/base",
            "top": null,
            "grid_column": null,
            "overflow_y": null,
            "overflow_x": null,
            "grid_auto_flow": null,
            "grid_area": null,
            "grid_template_columns": null,
            "flex": null,
            "_model_name": "LayoutModel",
            "justify_items": null,
            "grid_row": null,
            "max_height": null,
            "align_content": null,
            "visibility": null,
            "align_self": null,
            "height": null,
            "min_height": null,
            "padding": null,
            "grid_auto_rows": null,
            "grid_gap": null,
            "max_width": null,
            "order": null,
            "_view_module_version": "1.2.0",
            "grid_template_areas": null,
            "object_position": null,
            "object_fit": null,
            "grid_auto_columns": null,
            "margin": null,
            "display": null,
            "left": null
          }
        },
        "cba1d4e9e37749878fc85b315018021e": {
          "model_module": "@jupyter-widgets/controls",
          "model_name": "HBoxModel",
          "model_module_version": "1.5.0",
          "state": {
            "_view_name": "HBoxView",
            "_dom_classes": [],
            "_model_name": "HBoxModel",
            "_view_module": "@jupyter-widgets/controls",
            "_model_module_version": "1.5.0",
            "_view_count": null,
            "_view_module_version": "1.5.0",
            "box_style": "",
            "layout": "IPY_MODEL_c53daf52bd32447a97a269dfbf41be6f",
            "_model_module": "@jupyter-widgets/controls",
            "children": [
              "IPY_MODEL_134f5bf947634d8c937b6044ec8829c5",
              "IPY_MODEL_f86ea5bfffd64894b77048da48791a09",
              "IPY_MODEL_1932eeae909a419a83d2633f83d5c85e"
            ]
          }
        },
        "c53daf52bd32447a97a269dfbf41be6f": {
          "model_module": "@jupyter-widgets/base",
          "model_name": "LayoutModel",
          "model_module_version": "1.2.0",
          "state": {
            "_view_name": "LayoutView",
            "grid_template_rows": null,
            "right": null,
            "justify_content": null,
            "_view_module": "@jupyter-widgets/base",
            "overflow": null,
            "_model_module_version": "1.2.0",
            "_view_count": null,
            "flex_flow": null,
            "width": null,
            "min_width": null,
            "border": null,
            "align_items": null,
            "bottom": null,
            "_model_module": "@jupyter-widgets/base",
            "top": null,
            "grid_column": null,
            "overflow_y": null,
            "overflow_x": null,
            "grid_auto_flow": null,
            "grid_area": null,
            "grid_template_columns": null,
            "flex": null,
            "_model_name": "LayoutModel",
            "justify_items": null,
            "grid_row": null,
            "max_height": null,
            "align_content": null,
            "visibility": null,
            "align_self": null,
            "height": null,
            "min_height": null,
            "padding": null,
            "grid_auto_rows": null,
            "grid_gap": null,
            "max_width": null,
            "order": null,
            "_view_module_version": "1.2.0",
            "grid_template_areas": null,
            "object_position": null,
            "object_fit": null,
            "grid_auto_columns": null,
            "margin": null,
            "display": null,
            "left": null
          }
        },
        "134f5bf947634d8c937b6044ec8829c5": {
          "model_module": "@jupyter-widgets/controls",
          "model_name": "HTMLModel",
          "model_module_version": "1.5.0",
          "state": {
            "_view_name": "HTMLView",
            "style": "IPY_MODEL_359b3a83b14946cbab9d1c9022455723",
            "_dom_classes": [],
            "description": "",
            "_model_name": "HTMLModel",
            "placeholder": "​",
            "_view_module": "@jupyter-widgets/controls",
            "_model_module_version": "1.5.0",
            "value": "100%",
            "_view_count": null,
            "_view_module_version": "1.5.0",
            "description_tooltip": null,
            "_model_module": "@jupyter-widgets/controls",
            "layout": "IPY_MODEL_c5fa4fbcde514e6892ef34290b725f71"
          }
        },
        "f86ea5bfffd64894b77048da48791a09": {
          "model_module": "@jupyter-widgets/controls",
          "model_name": "FloatProgressModel",
          "model_module_version": "1.5.0",
          "state": {
            "_view_name": "ProgressView",
            "style": "IPY_MODEL_77bbe842c5a1498796e4b3240597c3b3",
            "_dom_classes": [],
            "description": "",
            "_model_name": "FloatProgressModel",
            "bar_style": "success",
            "max": 10306551,
            "_view_module": "@jupyter-widgets/controls",
            "_model_module_version": "1.5.0",
            "value": 10306551,
            "_view_count": null,
            "_view_module_version": "1.5.0",
            "orientation": "horizontal",
            "min": 0,
            "description_tooltip": null,
            "_model_module": "@jupyter-widgets/controls",
            "layout": "IPY_MODEL_31a2121acd164a6380cd74f03d58464a"
          }
        },
        "1932eeae909a419a83d2633f83d5c85e": {
          "model_module": "@jupyter-widgets/controls",
          "model_name": "HTMLModel",
          "model_module_version": "1.5.0",
          "state": {
            "_view_name": "HTMLView",
            "style": "IPY_MODEL_906d76e1ffde491cbfebdb7f0854af6e",
            "_dom_classes": [],
            "description": "",
            "_model_name": "HTMLModel",
            "placeholder": "​",
            "_view_module": "@jupyter-widgets/controls",
            "_model_module_version": "1.5.0",
            "value": " 9.83M/9.83M [00:02&lt;00:00, 10.8MB/s]",
            "_view_count": null,
            "_view_module_version": "1.5.0",
            "description_tooltip": null,
            "_model_module": "@jupyter-widgets/controls",
            "layout": "IPY_MODEL_13f1f29220514141814acd7b767b4448"
          }
        },
        "359b3a83b14946cbab9d1c9022455723": {
          "model_module": "@jupyter-widgets/controls",
          "model_name": "DescriptionStyleModel",
          "model_module_version": "1.5.0",
          "state": {
            "_view_name": "StyleView",
            "_model_name": "DescriptionStyleModel",
            "description_width": "",
            "_view_module": "@jupyter-widgets/base",
            "_model_module_version": "1.5.0",
            "_view_count": null,
            "_view_module_version": "1.2.0",
            "_model_module": "@jupyter-widgets/controls"
          }
        },
        "c5fa4fbcde514e6892ef34290b725f71": {
          "model_module": "@jupyter-widgets/base",
          "model_name": "LayoutModel",
          "model_module_version": "1.2.0",
          "state": {
            "_view_name": "LayoutView",
            "grid_template_rows": null,
            "right": null,
            "justify_content": null,
            "_view_module": "@jupyter-widgets/base",
            "overflow": null,
            "_model_module_version": "1.2.0",
            "_view_count": null,
            "flex_flow": null,
            "width": null,
            "min_width": null,
            "border": null,
            "align_items": null,
            "bottom": null,
            "_model_module": "@jupyter-widgets/base",
            "top": null,
            "grid_column": null,
            "overflow_y": null,
            "overflow_x": null,
            "grid_auto_flow": null,
            "grid_area": null,
            "grid_template_columns": null,
            "flex": null,
            "_model_name": "LayoutModel",
            "justify_items": null,
            "grid_row": null,
            "max_height": null,
            "align_content": null,
            "visibility": null,
            "align_self": null,
            "height": null,
            "min_height": null,
            "padding": null,
            "grid_auto_rows": null,
            "grid_gap": null,
            "max_width": null,
            "order": null,
            "_view_module_version": "1.2.0",
            "grid_template_areas": null,
            "object_position": null,
            "object_fit": null,
            "grid_auto_columns": null,
            "margin": null,
            "display": null,
            "left": null
          }
        },
        "77bbe842c5a1498796e4b3240597c3b3": {
          "model_module": "@jupyter-widgets/controls",
          "model_name": "ProgressStyleModel",
          "model_module_version": "1.5.0",
          "state": {
            "_view_name": "StyleView",
            "_model_name": "ProgressStyleModel",
            "description_width": "",
            "_view_module": "@jupyter-widgets/base",
            "_model_module_version": "1.5.0",
            "_view_count": null,
            "_view_module_version": "1.2.0",
            "bar_color": null,
            "_model_module": "@jupyter-widgets/controls"
          }
        },
        "31a2121acd164a6380cd74f03d58464a": {
          "model_module": "@jupyter-widgets/base",
          "model_name": "LayoutModel",
          "model_module_version": "1.2.0",
          "state": {
            "_view_name": "LayoutView",
            "grid_template_rows": null,
            "right": null,
            "justify_content": null,
            "_view_module": "@jupyter-widgets/base",
            "overflow": null,
            "_model_module_version": "1.2.0",
            "_view_count": null,
            "flex_flow": null,
            "width": null,
            "min_width": null,
            "border": null,
            "align_items": null,
            "bottom": null,
            "_model_module": "@jupyter-widgets/base",
            "top": null,
            "grid_column": null,
            "overflow_y": null,
            "overflow_x": null,
            "grid_auto_flow": null,
            "grid_area": null,
            "grid_template_columns": null,
            "flex": null,
            "_model_name": "LayoutModel",
            "justify_items": null,
            "grid_row": null,
            "max_height": null,
            "align_content": null,
            "visibility": null,
            "align_self": null,
            "height": null,
            "min_height": null,
            "padding": null,
            "grid_auto_rows": null,
            "grid_gap": null,
            "max_width": null,
            "order": null,
            "_view_module_version": "1.2.0",
            "grid_template_areas": null,
            "object_position": null,
            "object_fit": null,
            "grid_auto_columns": null,
            "margin": null,
            "display": null,
            "left": null
          }
        },
        "906d76e1ffde491cbfebdb7f0854af6e": {
          "model_module": "@jupyter-widgets/controls",
          "model_name": "DescriptionStyleModel",
          "model_module_version": "1.5.0",
          "state": {
            "_view_name": "StyleView",
            "_model_name": "DescriptionStyleModel",
            "description_width": "",
            "_view_module": "@jupyter-widgets/base",
            "_model_module_version": "1.5.0",
            "_view_count": null,
            "_view_module_version": "1.2.0",
            "_model_module": "@jupyter-widgets/controls"
          }
        },
        "13f1f29220514141814acd7b767b4448": {
          "model_module": "@jupyter-widgets/base",
          "model_name": "LayoutModel",
          "model_module_version": "1.2.0",
          "state": {
            "_view_name": "LayoutView",
            "grid_template_rows": null,
            "right": null,
            "justify_content": null,
            "_view_module": "@jupyter-widgets/base",
            "overflow": null,
            "_model_module_version": "1.2.0",
            "_view_count": null,
            "flex_flow": null,
            "width": null,
            "min_width": null,
            "border": null,
            "align_items": null,
            "bottom": null,
            "_model_module": "@jupyter-widgets/base",
            "top": null,
            "grid_column": null,
            "overflow_y": null,
            "overflow_x": null,
            "grid_auto_flow": null,
            "grid_area": null,
            "grid_template_columns": null,
            "flex": null,
            "_model_name": "LayoutModel",
            "justify_items": null,
            "grid_row": null,
            "max_height": null,
            "align_content": null,
            "visibility": null,
            "align_self": null,
            "height": null,
            "min_height": null,
            "padding": null,
            "grid_auto_rows": null,
            "grid_gap": null,
            "max_width": null,
            "order": null,
            "_view_module_version": "1.2.0",
            "grid_template_areas": null,
            "object_position": null,
            "object_fit": null,
            "grid_auto_columns": null,
            "margin": null,
            "display": null,
            "left": null
          }
        }
      }
    }
  },
  "nbformat": 4,
  "nbformat_minor": 0
}