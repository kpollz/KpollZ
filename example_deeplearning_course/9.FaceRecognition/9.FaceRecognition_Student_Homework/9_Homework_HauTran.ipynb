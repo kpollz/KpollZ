{
  "nbformat": 4,
  "nbformat_minor": 0,
  "metadata": {
    "colab": {
      "name": "9.Homework_HauTran.ipynb",
      "provenance": [],
      "collapsed_sections": [],
      "toc_visible": true
    },
    "kernelspec": {
      "name": "python3",
      "display_name": "Python 3"
    },
    "language_info": {
      "name": "python"
    }
  },
  "cells": [
    {
      "cell_type": "markdown",
      "source": [
        "# I. Lý thuyết\n",
        "\n",
        "1) Sự khác biệt chính giữa hai bài toán Face Recognition và Face Verification là gì ?\n",
        "\n",
        "Đáp án:\n",
        "A. Bài toán Face Recognition nhằm trả lời cho câu hỏi ảnh đầu vào là ai trong số K người và bài toán Face Verification nhằm xác thực ảnh đầu vào có phải là một người nào đó cụ thể hay không ?\n",
        "\n",
        "\n",
        "2) Phương pháp one-shot learning có đặc điểm là gì ?\n",
        "\n",
        "Đáp án:\n",
        "\n",
        "B. Dữ liệu đầu vào bao gồm các bức ảnh sao cho mỗi bức ảnh thuộc về một người và xây dựng một mạng deep neural để phân loại các bức ảnh đó.\n",
        "\n",
        "\n",
        "3) Nhận định nào sau đây về phương pháp huấn luyện Siamese Network là đúng?\n",
        "\n",
        "Đáp án:\n",
        "\n",
        "D. Truyền vào một cặp ảnh input vào một mạng neural duy nhất nhằm học các biểu diễn sao cho sẽ giống nhau nếu thuộc cùng một người và cách xa nhau nếu thuộc về hai người khác biệt.\n",
        "\n",
        "4) Để tính toán sự khác biệt giữa hai véc tơ chúng ta có thể dùng hàm số dạng nào?\n",
        "\n",
        "Đáp án:\n",
        "\n",
        "D. Các hàm norm Lp (p >= 1), hàm cosine-similarity\n",
        "\n",
        "5) Tại sao trong triplet loss chúng ta lại cần cộng thêm giá trị alpha vào bất phương trình?\n",
        "\n",
        "Đáp án:\n",
        "\n",
        "A. Để gia tăng sự cách biệt giữa khoảng cách d(Anchor, Negative) so với d(Anchor, Positive) ít nhất bằng alpha và tránh trường hợp học về chung một biểu diễn véc tơ duy nhất.\n"
      ],
      "metadata": {
        "id": "33clzhjuadZj"
      }
    },
    {
      "cell_type": "markdown",
      "source": [
        "# II. Thực hành\n",
        "\n",
        "6) Hãy đọc và tổng kết những ý chính trong paper [ArcFace: Additive Angular Margin Loss for Deep Face Recognition, CVPR 2019, Jiankang Deng et al](https://openaccess.thecvf.com/content_CVPR_2019/papers/Deng_ArcFace_Additive_Angular_Margin_Loss_for_Deep_Face_Recognition_CVPR_2019_paper.pdf)\n",
        "\n",
        "7) Hãy lựa chọn một bộ dữ liệu về face bất kì trên [kaggle](https://www.kaggle.com/search?q=Face+dataset) nhằm phục vụ xây dựng mô hình Face Recognition. Hãy thực hiện phân tích bộ dữ liệu bằng cách mô tả dữ liệu,  thống kê về dữ liệu, vẽ biểu đồ và đưa ra các nhận xét về bộ dữ liệu.\n",
        "\n",
        "8) Thuật toán Face Recognition sẽ tốt hơn nếu các ảnh đầu vào đã được crop về vùng chứa face.Sử dụng mô hình Rentinaface trong Face Detection, hãy crop face theo bouding box và resize về chung một kích thước 512x512. Sau đó lưu lại để làm dữ liệu huấn luyên mô hình Face Recognition. \n",
        "\n",
        "9) Hãy xây dựng một mô hình Face Recognition theo phương pháp few-shot learning.\n",
        "\n",
        "10) Huấn luyện mô hình theo phương pháp triplet loss function.\n"
      ],
      "metadata": {
        "id": "EpBII-DIhf8n"
      }
    },
    {
      "cell_type": "markdown",
      "source": [
        "##6) Hãy đọc và tổng kết những ý chính trong paper ArcFace: Additive Angular Margin Loss for Deep Face Recognition, CVPR 2019, Jiankang Deng et al"
      ],
      "metadata": {
        "id": "C94SEOlK5jbC"
      }
    },
    {
      "cell_type": "markdown",
      "source": [
        "##7) Hãy lựa chọn một bộ dữ liệu về face bất kì trên kaggle nhằm phục vụ xây dựng mô hình Face Recognition. Hãy thực hiện phân tích bộ dữ liệu bằng cách mô tả dữ liệu, thống kê về dữ liệu, vẽ biểu đồ và đưa ra các nhận xét về bộ dữ liệu."
      ],
      "metadata": {
        "id": "9nXyRAyN5jrO"
      }
    },
    {
      "cell_type": "markdown",
      "source": [
        "##8) Thuật toán Face Recognition sẽ tốt hơn nếu các ảnh đầu vào đã được crop về vùng chứa face.Sử dụng mô hình Rentinaface trong Face Detection, hãy crop face theo bouding box và resize về chung một kích thước 512x512. Sau đó lưu lại để làm dữ liệu huấn luyên mô hình Face Recognition."
      ],
      "metadata": {
        "id": "10Z-XZcA5juE"
      }
    },
    {
      "cell_type": "markdown",
      "source": [
        "##9) Hãy xây dựng một mô hình Face Recognition theo phương pháp few-shot learning."
      ],
      "metadata": {
        "id": "PxEZIBMN5j3w"
      }
    },
    {
      "cell_type": "markdown",
      "source": [
        "##10) Huấn luyện mô hình theo phương pháp triplet loss function."
      ],
      "metadata": {
        "id": "rk6mTWmj5xZt"
      }
    }
  ]
}