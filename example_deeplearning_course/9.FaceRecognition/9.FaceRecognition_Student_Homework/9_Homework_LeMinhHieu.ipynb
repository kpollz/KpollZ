{
  "nbformat": 4,
  "nbformat_minor": 0,
  "metadata": {
    "colab": {
      "name": "9.Homework_LeMinhHieu.ipynb",
      "provenance": [],
      "collapsed_sections": []
    },
    "kernelspec": {
      "name": "python3",
      "display_name": "Python 3"
    },
    "language_info": {
      "name": "python"
    }
  },
  "cells": [
    {
      "cell_type": "markdown",
      "source": [
        "# I. Lý thuyết\n",
        "\n",
        "1) Sự khác biệt chính giữa hai bài toán Face Recognition và Face Verification là gì ?\n",
        "\n",
        "A. Bài toán Face Recognition nhằm trả lời cho câu hỏi ảnh đầu vào là ai trong số K người và bài toán Face Verification nhằm xác thực ảnh đầu vào có phải là một người nào đó cụ thể hay không ?\n",
        "\n",
        "B. Bài toán Face Verification nhằm trả lời cho câu hỏi ảnh đầu vào là ai trong số K người và bài toán Face Recognition nhằm xác thực ảnh đầu vào có phải là một người nào đó cụ thể hay không ?\n",
        "\n",
        "C. Bài toán Face Recognition được sử dụng trong các ứng dụng mở khóa điện thoại, còn Face Verification được sử dụng trong chấm công.\n",
        "\n",
        "D. Bài toán Face Recognition và Face Verification là như nhau và có thể thay thế lẫn nhau.\n",
        "\n",
        "***Đáp án: A.***\n",
        "\n",
        "2) Phương pháp one-shot learning có đặc điểm là gì ?\n",
        "\n",
        "A. Đầu vào là một vài bức ảnh tương ứng với mỗi một người và xây dựng một mạng deep neural để phân loại các bức ảnh đó.\n",
        "\n",
        "B. Dữ liệu đầu vào bao gồm các bức ảnh sao cho mỗi bức ảnh thuộc về một người và xây dựng một mạng deep neural để phân loại các bức ảnh đó.\n",
        "\n",
        "C. Mỗi người cố một số lượng ảnh đầu vào là bằng nhau và xây dựng một mạng deep neural để phân loại các bức ảnh đó.\n",
        "\n",
        "D. Dữ liệu đầu vào bao gồm các bức ảnh ngẫu nhiên chưa được gán nhãn thuộc về một nhóm người.\n",
        "\n",
        "***Đáp án: B.***\n",
        "\n",
        "3) Nhận định nào sau đây về phương pháp huấn luyện Siamese Network là đúng?\n",
        "\n",
        "A. Luôn truyền vào một cặp ảnh thuộc về hai người khác nhau để học biểu diễn. \n",
        "\n",
        "B. Luôn truyền vào một cặp ảnh thuộc về cùng một người để học biểu diễn.\n",
        "\n",
        "C. Truyền vào hai ảnh input vào hai network khác nhau nhằm học các biểu diễn sao cho sẽ giống nhau nếu thuộc cùng một người và cách xa nhau nếu thuộc về hai người khác biệt.\n",
        "\n",
        "D. Truyền vào một cặp ảnh input vào một mạng neural duy nhất nhằm học các biểu diễn sao cho sẽ giống nhau nếu thuộc cùng một người và cách xa nhau nếu thuộc về hai người khác biệt.\n",
        "\n",
        "***Đáp án: D.***\n",
        "\n",
        "4) Để tính toán sự khác biệt giữa hai véc tơ chúng ta có thể dùng hàm số dạng nào?\n",
        "\n",
        "A. Tích có hướng giữa hai véc tơ\n",
        "\n",
        "B. Tích inner product giữa hai véc tơ.\n",
        "\n",
        "C. Các hàm norm Lp (p < 1), hàm cosine-similarity\n",
        "\n",
        "D. Các hàm norm Lp (p >= 1), hàm cosine-similarity\n",
        "\n",
        "***Đáp án: D.***\n",
        "\n",
        "5) Tại sao trong triplet loss chúng ta lại cần cộng thêm giá trị alpha vào bất phương trình?\n",
        "\n",
        "A. Để gia tăng sự cách biệt giữa khoảng cách d(Anchor, Negative) so với  d(Anchor, Positive) ít nhất bằng alpha và tránh trường hợp học về chung một biểu diễn véc tơ duy nhất.\n",
        "\n",
        "B. Để thu hẹp sự cách biệt giữa khoảng cách d(Anchor, Negative) so với  d(Anchor, Positive) ít nhất bằng alpha và tránh trường hợp học về chung một biểu diễn véc tơ duy nhất.\n",
        "\n",
        "C. Để gia tăng sự cách biệt giữa khoảng cách d(Anchor, Negative) so với  d(Anchor, Positive) ít nhất bằng alpha và tránh trường hợp học về chung một biểu diễn véc tơ 0.\n",
        "\n",
        "D. Để thu hẹp sự cách biệt giữa khoảng cách d(Anchor, Negative) so với  d(Anchor, Positive) ít nhất bằng alpha và tránh trường hợp học về chung một biểu diễn véc tơ 0.\n",
        "\n",
        "***Đáp án: A.***"
      ],
      "metadata": {
        "id": "33clzhjuadZj"
      }
    },
    {
      "cell_type": "markdown",
      "source": [
        "# II. Thực hành\n",
        "\n",
        "6) Hãy đọc và tổng kết những ý chính trong paper [ArcFace: Additive Angular Margin Loss for Deep Face Recognition, CVPR 2019, Jiankang Deng et al](https://openaccess.thecvf.com/content_CVPR_2019/papers/Deng_ArcFace_Additive_Angular_Margin_Loss_for_Deep_Face_Recognition_CVPR_2019_paper.pdf)\n",
        "\n",
        "7) Hãy lựa chọn một bộ dữ liệu về face bất kì trên [kaggle](https://www.kaggle.com/search?q=Face+dataset) nhằm phục vụ xây dựng mô hình Face Recognition. Hãy thực hiện phân tích bộ dữ liệu bằng cách mô tả dữ liệu,  thống kê về dữ liệu, vẽ biểu đồ và đưa ra các nhận xét về bộ dữ liệu.\n",
        "\n",
        "8) Thuật toán Face Recognition sẽ tốt hơn nếu các ảnh đầu vào đã được crop về vùng chứa face.Sử dụng mô hình Rentinaface trong Face Detection, hãy crop face theo bouding box và resize về chung một kích thước 512x512. Sau đó lưu lại để làm dữ liệu huấn luyên mô hình Face Recognition. \n",
        "\n",
        "9) Hãy xây dựng một mô hình Face Recognition theo phương pháp few-shot learning.\n",
        "\n",
        "10) Huấn luyện mô hình theo phương pháp triplet loss function.\n"
      ],
      "metadata": {
        "id": "EpBII-DIhf8n"
      }
    },
    {
      "cell_type": "markdown",
      "source": [
        "# 6) Tổng kết ý chính trong paper"
      ],
      "metadata": {
        "id": "Rm8QbpTzu8j-"
      }
    },
    {
      "cell_type": "markdown",
      "source": [
        "- ArcFace sử dụng hàm mất mát mới là Additive Angular Margin Loss để cải thiện mô hình nhận dạng khuôn mặt và để ổn định trong quá trình huấn luyện. Hàm mất mát Additive Angular Margin Loss có thể được xem như một sự cải tiến của hàm softmax, tích vô hướng giữa vector đặc điểm từ mô hình DCNN và lớp fullly connected cuối bằng với khoảng cách cosine của feature và weight đã được chuẩn hóa.\n",
        "- So sánh ArcFace với các loại Loss khác, thử nghiệm kết hợp 3 loại Margin-loss (multiplicative angular margin của SphereFace, additive angular margin của ArcFace và additive cosine margin của CosFace (cho kết quả tốt hơn)), cùng các kết quả thử nghiệm trên các bộ dataset và benchmark khác nhau."
      ],
      "metadata": {
        "id": "urs4KRaMvIqg"
      }
    }
  ]
}