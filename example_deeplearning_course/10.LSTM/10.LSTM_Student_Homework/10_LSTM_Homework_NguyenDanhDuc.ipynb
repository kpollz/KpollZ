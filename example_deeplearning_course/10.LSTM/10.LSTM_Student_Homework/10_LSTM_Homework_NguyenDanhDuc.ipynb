{
  "cells": [
    {
      "cell_type": "code",
      "execution_count": null,
      "metadata": {
        "id": "KtttRTSz21c8"
      },
      "outputs": [],
      "source": [
        ""
      ]
    },
    {
      "cell_type": "markdown",
      "metadata": {
        "id": "8C8fpDiA217x"
      },
      "source": [
        "# 1. Lý thuyết\n",
        "\n",
        "1)  Đặc diểm của kiến trúc RNN là gì ?\n",
        "\n",
        "A. RNN là kiến trúc dự báo có tính thứ tự và tính truy hồi. Các dự báo được thực hiện theo tuần tự thời gian và output của các step trong tương lai được sử dụng như input của step hiện tại.\n",
        "\n",
        "B. RNN là kiến trúc dự báo có tính thứ tự và tính truy hồi. Các dự báo được thực hiện một cách song song và output của các step trước được sử dụng như input của step hiện tại.\n",
        "\n",
        "C. RNN là kiến trúc dự báo có tính thứ tự và tính truy hồi. Các dự báo được thực hiện theo tuần tự thời gian và output của các step trước được sử dụng như input của step hiện tại.\n",
        "\n",
        "D. RNN là kiến trúc dự báo có tính thứ tự và tính truy hồi. Các dự báo được thực hiện theo chiều từ phải sang trái cho tới khi trở về vị trí đầu tiên.\n",
        "\n",
        "2) Nhận định nào sau đây là đúng về RNN?\n",
        "\n",
        "A. Kiến trúc RNN dự báo song song các output một lúc.\n",
        "\n",
        "B. Kiến trúc RNN không chia sẻ tham số giữa các units. Do đó kích thước mạng sẽ gia tăng theo độ dài văn bản.\n",
        "\n",
        "C. Kiến trúc RNN có thể tổng hợp được thông tin trong tương lai để dự báo hiện tại.\n",
        "\n",
        "D. Kiến trúc RNN chia sẻ tham số trên toàn bộ các units nên số lượng tham số không phụ thuộc vào độ dài văn bản.\n",
        "\n",
        "3) Để huấn luyện mạng RNN thì một chú ý quan trọng tại time step t=0 chúng ta cần làm gì ?\n",
        "\n",
        "A. Mã hóa từ đầu vào thành một ma trận đại số.\n",
        "\n",
        "B. Khởi tạo ngẫu nhiên một véc tơ kích hoạt $a^{<0>}$ như một giá trị phân phối xác suất của biến mục tiêu.\n",
        "\n",
        "C. Khởi tạo ngẫu nhiên một véc tơ kích hoạt $a^{<0>}$ như một giá trị có tác dụng mã hóa biểu diễn cho từ đầu vào tại bước $t=0$.\n",
        "\n",
        "D. Khởi tạo ngẫu nhiên một véc tơ kích hoạt $a^{<0>}$ như một giá trị có tác dụng kích hoạt tính toán.\n",
        "\n",
        "4) Sự khác biệt giữa RNN và CNN là gì?\n",
        "\n",
        "A. RNN là kiến trúc truy hồi có thể trả ra kết quả dự báo ở nhiều timestep. CNN không có khả năng truy hồi để dự báo theo timestep\n",
        "\n",
        "B. RNN có tính truy hồi và kiến trúc không chia sẻ tham số giữa các units. Trong khi CNN chia sẻ tham số ở phân phối xác suất đầu ra. \n",
        "\n",
        "C. RNN có số lượng tham số thay đổi theo độ dài văn bản. Trong khi đó CNN luôn có số lượng tham số xác định trước.\n",
        "\n",
        "D. RNN có thể dự báo theo một chiều trong khi CNN chỉ dự báo được theo hai chiều.\n",
        "\n",
        "5) Véc tơ context trong kiến trúc LSTM và GRU có tác dụng gì ?\n",
        "\n",
        "A. Là véc tơ biểu diễn của đầu vào $x_t$ tại mỗi bước.\n",
        "\n",
        "B. Ghi nhận bối cảnh xuyên suốt toàn bộ chuỗi tính đến thời điểm hiện tại\n",
        "\n",
        "C. Là véc tơ cập nhật và loại bỏ thông tin mới tại mỗi bước.\n",
        "\n",
        "D. Kích hoạt thông tin tại mỗi timestep\n"
      ]
    },
    {
      "cell_type": "markdown",
      "metadata": {
        "id": "Klal8kOqbNVS"
      },
      "source": [
        "1) C\n",
        "<br/>\n",
        "2) D\n",
        "<br/>\n",
        "3) D\n",
        "<br/>\n",
        "4) A\n",
        "<br/>\n",
        "5) B"
      ]
    },
    {
      "cell_type": "markdown",
      "metadata": {
        "id": "4VMTBQVsLRDO"
      },
      "source": [
        "\n",
        "# 2. Thực hành\n",
        "\n",
        "\n",
        "6. Từ bộ dữ liệu [Sentiment-analysis-on-movie-reviews](https://www.kaggle.com/competitions/sentiment-analysis-on-movie-reviews/data) hãy sử dụng các thuật toán trong RNN để huấn luyện mô hình phân loại cảm xúc văn bản. (1 điểm)\n",
        "\n",
        "7. Sử dụng mô hình LSTM để dự báo tổng số lượng khách hàng sử dụng dịch vụ hàng không [air- passengers](https://www.kaggle.com/datasets/rakannimer/air-passengers) (2 điểm)\n",
        "\n",
        "8. Xây dựng một mô hình thêm dấu Tiếng Việt sử dụng LSTM. Cách xử lý để tạo bộ dữ liệu có thể tham khảo tại [them dau tieng viet](https://phamdinhkhanh.github.io/2020/05/28/TransformerThemDauTV.html#1-d%E1%BB%AF-li%E1%BB%87u). (2 điểm)\n",
        "\n"
      ]
    },
    {
      "cell_type": "markdown",
      "metadata": {
        "id": "juzO9wTqHjMu"
      },
      "source": [
        "6. https://www.kaggle.com/code/jigglediggle1/rnn-sentiment-analysis-on-movie-reviews\n",
        "7. https://www.kaggle.com/jigglediggle1/air-passengers\n",
        "8."
      ]
    },
    {
      "cell_type": "code",
      "execution_count": null,
      "metadata": {
        "id": "lCIAVdEgW1Qv"
      },
      "outputs": [],
      "source": [
        "import pandas as pd\n",
        "import numpy as np\n",
        "import shutil"
      ]
    },
    {
      "cell_type": "code",
      "execution_count": null,
      "metadata": {
        "colab": {
          "base_uri": "https://localhost:8080/"
        },
        "id": "FYHAYsEbHf3i",
        "outputId": "c4a7ea92-c620-48a3-fce3-a61432445702"
      },
      "outputs": [
        {
          "name": "stdout",
          "output_type": "stream",
          "text": [
            "Mounted at /content/gdrive\n",
            "/content/gdrive/My Drive/DL_TowardDataScience/data/wikipedia\n",
            "AA  AB\tAC  AD\tAE  AF\tAG  AH\tAI  AJ\tAK  AL\tAM  AN\tAO  AP\tAQ  AR\n"
          ]
        }
      ],
      "source": [
        "from google.colab import drive\n",
        "\n",
        "drive.mount('/content/gdrive')\n",
        "src = \"/content/gdrive/My Drive/DeepLearning/data/wikipedia\"\n",
        "dst = \"/content/gdrive/My Drive/DL_TowardDataScience/data/wikipedia\"\n",
        "# shutil.copytree(src, dst)\n",
        "%cd {dst}\n",
        "!ls"
      ]
    },
    {
      "cell_type": "code",
      "execution_count": null,
      "metadata": {
        "colab": {
          "base_uri": "https://localhost:8080/"
        },
        "id": "YF-pcr8jckFz",
        "outputId": "b5c26d5c-dac3-4285-e02a-cc3f74f95171"
      },
      "outputs": [
        {
          "name": "stdout",
          "output_type": "stream",
          "text": [
            "chmod: cannot access '/content/gdrive/My': No such file or directory\n",
            "chmod: cannot access 'Drive/DL_TowardDataScience/data/wikipedia': No such file or directory\n"
          ]
        }
      ],
      "source": [
        "!chmod -R 777 {dst}"
      ]
    },
    {
      "cell_type": "code",
      "execution_count": null,
      "metadata": {
        "colab": {
          "base_uri": "https://localhost:8080/"
        },
        "id": "Ty44v-RKT4Oc",
        "outputId": "e192e79f-bfe0-4df2-b729-38f9b3b4d988"
      },
      "outputs": [
        {
          "data": {
            "text/plain": [
              "True"
            ]
          },
          "execution_count": 4,
          "metadata": {},
          "output_type": "execute_result"
        }
      ],
      "source": [
        "import string\n",
        "import re\n",
        "\n",
        "intab_l = \"ạảãàáâậầấẩẫăắằặẳẵóòọõỏôộổỗồốơờớợởỡéèẻẹẽêếềệểễúùụủũưựữửừứíìịỉĩýỳỷỵỹđ\"\n",
        "ascii_lowercase = 'abcdefghijklmnopqrstuvwxyz'\n",
        "digits = '0123456789'\n",
        "punctuation = r\"\"\"!\"#$%&'()*+,-./:;<=>?@[\\]^_`{|}~\"\"\"\n",
        "whitespace = ' '\n",
        "accept_strings = intab_l + ascii_lowercase + digits + punctuation + whitespace\n",
        "r = re.compile('^[' + accept_strings + ']+$')\n",
        "\n",
        "def _check_vietnamese(seq):\n",
        "    if re.match(r, seq.lower()):\n",
        "        return True\n",
        "    return False\n",
        "\n",
        "_check_vietnamese('Tiếng Việt là ngôn ngữ của tôi')"
      ]
    },
    {
      "cell_type": "code",
      "execution_count": null,
      "metadata": {
        "colab": {
          "background_save": true,
          "base_uri": "https://localhost:8080/"
        },
        "id": "hfQ2wN6JViAG",
        "outputId": "2c1f327b-91f3-423f-cae0-8ff010b96124"
      },
      "outputs": [
        {
          "name": "stderr",
          "output_type": "stream",
          "text": [
            " 87%|████████▋ | 1532/1760 [2:59:44<1:05:43, 17.30s/it]"
          ]
        }
      ],
      "source": [
        "import pickle\n",
        "import json\n",
        "from tqdm import tqdm\n",
        "import glob2\n",
        "idx = 0\n",
        "\n",
        "for path in tqdm(glob2.glob('./*/**')):\n",
        "    with open(path, 'r', encoding='utf-8') as f:\n",
        "        content = f.readlines()\n",
        "        for row in content:\n",
        "            # Convert raw to json\n",
        "            art_json = json.loads(row)\n",
        "            # Lấy nội dung văn bản\n",
        "            art_cont = art_json['text']\n",
        "            art_cont = re.sub('(\\s)+', r'\\1', art_cont)\n",
        "            # Chia văn bản thành các câu tại vị trí xuống dòng\n",
        "            art_seqs = art_cont.split('\\n')\n",
        "            # Lưu các dòng là tiếng việt vào file 'train_tieng_viet.txt'.\n",
        "            # Mỗi dòng có định dạng: index{10digits} sequence\n",
        "            for seq in art_seqs:\n",
        "                if _check_vietnamese(seq):\n",
        "                    idx_str = str(idx).zfill(10)\n",
        "                    with open('../train_tieng_viet.txt', 'a') as f:\n",
        "                        f.writelines([idx_str+'\\t', seq+'\\n'])\n",
        "                    idx += 1"
      ]
    },
    {
      "cell_type": "code",
      "execution_count": null,
      "metadata": {
        "id": "f0M327-2ZLIo"
      },
      "outputs": [],
      "source": [
        "with open('train_tieng_viet.txt', 'r', encoding='utf-8') as f:\n",
        "  train_output = f.readlines()\n",
        "\n",
        "print('Number of sequences: ', len(train_output))\n",
        "print('First sequence: ', train_output[0])"
      ]
    },
    {
      "cell_type": "code",
      "execution_count": null,
      "metadata": {
        "id": "6jLyYgRugQnz"
      },
      "outputs": [],
      "source": [
        "import codecs\n",
        "import csv\n",
        "import re\n",
        "import sys\n",
        "\n",
        "def remove_tone_line(utf8_str):\n",
        "    intab_l = \"ạảãàáâậầấẩẫăắằặẳẵóòọõỏôộổỗồốơờớợởỡéèẻẹẽêếềệểễúùụủũưựữửừứíìịỉĩýỳỷỵỹđ\"\n",
        "    intab_u = \"ẠẢÃÀÁÂẬẦẤẨẪĂẮẰẶẲẴÓÒỌÕỎÔỘỔỖỒỐƠỜỚỢỞỠÉÈẺẸẼÊẾỀỆỂỄÚÙỤỦŨƯỰỮỬỪỨÍÌỊỈĨÝỲỶỴỸĐ\"\n",
        "    intab = list(intab_l + intab_u)\n",
        "\n",
        "    outtab_l = \"a\"*17 + \"o\"*17 + \"e\"*11 + \"u\"*11 + \"i\"*5 + \"y\"*5 + \"d\"\n",
        "    outtab_u = \"A\"*17 + \"O\"*17 + \"E\"*11 + \"U\"*11 + \"I\"*5 + \"Y\"*5 + \"D\"\n",
        "    outtab = outtab_l + outtab_u\n",
        "\n",
        "    r = compile(\"|\".join(intab))\n",
        "    replaces_dict = dict(zip(intab, outtab))\n",
        "    # Thay thế các từ có dấu xuất hiện trong tìm kiếm của regex bằng từ không dấu tương ứng\n",
        "    non_dia_str = r.sub(lambda m: replaces_dict[m.group(0)], utf8_str)\n",
        "    return non_dia_str\n",
        "\n",
        "remove_tone_line('Đi một ngày đàng học 1 sàng khôn')"
      ]
    },
    {
      "cell_type": "code",
      "execution_count": null,
      "metadata": {
        "id": "CvSqW_kThH8k"
      },
      "outputs": [],
      "source": [
        ""
      ]
    }
  ],
  "metadata": {
    "accelerator": "GPU",
    "colab": {
      "collapsed_sections": [],
      "name": "10.LSTM_Homework_NguyenDanhDuc.ipynb",
      "provenance": []
    },
    "kernelspec": {
      "display_name": "Python 3",
      "name": "python3"
    },
    "language_info": {
      "name": "python"
    }
  },
  "nbformat": 4,
  "nbformat_minor": 0
}