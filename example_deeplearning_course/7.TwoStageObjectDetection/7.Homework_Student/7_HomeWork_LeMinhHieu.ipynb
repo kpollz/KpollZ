{
  "nbformat": 4,
  "nbformat_minor": 0,
  "metadata": {
    "colab": {
      "name": "7.HomeWork_LeMinhHieu.ipynb",
      "provenance": [],
      "collapsed_sections": []
    },
    "kernelspec": {
      "name": "python3",
      "display_name": "Python 3"
    },
    "language_info": {
      "name": "python"
    }
  },
  "cells": [
    {
      "cell_type": "markdown",
      "source": [
        "# I. Lý thuyết\n",
        "\n",
        "1) Tại sao mô hình R-CNN lại có tốc độ xử lý chậm?\n",
        "\n",
        "A. Do R-CNN sử dụng các backbone rất nặng.\n",
        "\n",
        "B. Do các vùng region proposal được dự báo bounding box và phân loại nhãn một cách độc lập.\n",
        "\n",
        "C. Do thuật toán Selective Search là một phương pháp heuristic nên rất chậm \n",
        "\n",
        "D. Do mô hình tách biệt giữa dự báo bounding box và phân loại nhãn\n",
        "\n",
        "***Đáp án: B.***\n",
        "\n",
        "2) Chỉ số mAP trong các thuật toán object detection được tính toán theo cách nào ?\n",
        "\n",
        "A. Tính toán chỉ số AP trên từng category: Sắp xếp các Prediction Boxes của một category theo điểm số xác suất giảm dần. Thực hiện matching các Prediction Box với Ground Truth Box sao cho nếu IoU > 0.5 thì được xem là positive và trái lại là negative. Nếu Positive thì Precision sẽ có tử và mẫu cùng tăng lên 1 trong khi Recall có tử số tăng lên 1. Nếu Negative thì Precision có tử giữ nguyên và mẫu tăng lên 1 trong khi Recall không thay đổi. mAP bằng trung bình AP của toàn bộ các category.\n",
        "\n",
        "B. Tính toán chỉ số AP trên từng category: Sắp xếp các Prediction Boxes của một category theo điểm số xác suất giảm dần. Thực hiện matching các Prediction Box với Ground Truth Box sao cho nếu IoU > 0.5 thì được xem là positive và trái lại là negative. Nếu Positive thì Precision sẽ có tử số tăng lên 1 và mẫu giữ nguyên trong khi Recall có tử số tăng lên 1. Nếu Negative thì Precision có tử giữ nguyên và mẫu tăng lên 1 trong khi Recall không thay đổi. mAP bằng trung bình AP của toàn bộ các category.\n",
        "\n",
        "C. Tính toán chỉ số AP trên từng category: Sắp xếp các Prediction Boxes của một category theo điểm số xác suất giảm dần. Thực hiện matching các Prediction Box với Ground Truth Box sao cho nếu IoU > 0.5 thì được xem là positive và trái lại là negative. Nếu Positive thì Precision sẽ có tử và mẫu cùng tăng lên 1 trong khi Recall có tử giữ nguyên lên 1. Nếu Negative thì Precision có tử giữ nguyên và mẫu tăng lên 1 trong khi Recall không thay đổi. mAP bằng trung bình AP của toàn bộ các category.\n",
        "\n",
        "D. Tính toán chỉ số AP trên từng category: Sắp xếp các Prediction Boxes của một category theo điểm số xác suất giảm dần. Thực hiện matching các Prediction Box với Ground Truth Box sao cho nếu IoU > 0.5 thì được xem là positive và trái lại là negative. Nếu Positive thì Precision sẽ có tử và mẫu cùng tăng lên 1 trong khi Recall có tử số tăng lên 1. Nếu Negative thì Precision có tử giữ nguyên và mẫu tăng lên 1 trong khi Recall không thay đổi. Tính AP = diện tích dưới đường cong Precion Recall. mAP bằng trung bình AP của toàn bộ các category.\n",
        "\n",
        "***Đáp án: D.***\n",
        "\n",
        "3) Phương pháp Non Max Suppression sẽ làm gì để giảm thiểu số lượng các bounding box ?\n",
        "\n",
        "A. Dựa vào mức độ overlapping giữa các bounding box để loại bỏ những bounding box có mức độ chồng lấn nhau lớn.\n",
        "\n",
        "B. Dựa vào mức độ overlapping giữa các bounding box để loại bỏ những bounding box có mức độ chồng lấn nhau nhỏ.\n",
        "\n",
        "C. Dựa vào diện tích để loại bỏ các bounding box nhỏ dưới một ngưỡng cho trước.\n",
        "\n",
        "D. Dựa vào mức độ overlapping để giữ lại một bounding box có điểm số cao hơn nếu chúng chồng lấn nhau lớn.\n",
        "\n",
        "***Đáp án: A.***\n",
        "\n",
        "4) Trong mô hình Fast R-CNN chúng ta thêm một nhánh mạng RPN có tác dụng gì?\n",
        "\n",
        "A. Dự báo ra các vùng Region of Interest có khả năng cao chứa vật thể.\n",
        "\n",
        "B. Dự báo xác xuất cho toàn bộ các pixel nằm trên feature map.\n",
        " \n",
        "C. Dự báo bounding box và nhãn cho các vùng Region of Interest có khả năng cao chứa vật thể.\n",
        "\n",
        "D. Điều chỉnh lại kích thước của các bounding box từ anchor box.\n",
        "\n",
        "***Đáp án: C.***\n",
        "\n",
        "5) Anchor Box là gì?\n",
        "\n",
        "A. Là những hình chữ nhật giúp xác định vị trí của vật thể\n",
        "\n",
        "B. Là những hình chữ nhật với kích thước xác định trước gắn liền với một pixel để làm cơ sở điều chỉnh phần bù (offset) của các tọa độ nhằm dự báo bounding box.\n",
        "\n",
        "C. Là những hình chữ nhật phác thảo hình dạng của bounding box cần dự báo.\n",
        "\n",
        "D. Là hình chữ nhật gắn liền với một pixel để làm cơ sở dự báo bounding box.\n",
        "\n",
        "***Đáp án: B.***"
      ],
      "metadata": {
        "id": "ZzMQa4CcG3aL"
      }
    },
    {
      "cell_type": "markdown",
      "source": [
        "# II. Thực hành \n",
        "\n",
        "Các câu bên dưới qui ước chung bounding box đều có tọa độ là (x, y, w, h) lần lượt tương ứng với (x, y) là điểm top-left và (w, h) là kích thước chiều rộng và cao.\n",
        "\n",
        "6) Xây dựng hàm tính toán IoU giữa hai bounding box.\n",
        "\n",
        "7) Giả sử các bounding box dự báo cho một category có tọa độ lần lượt là:\n",
        "\n",
        "[10, 10, 50, 20], [15, 15, 55, 25], [50, 20, 20, 25], [20, 50, 20, 50], [30, 20, 10, 10]\n",
        "\n",
        "Các bounding box ground truth lần lượt là:\n",
        "\n",
        "[10, 10, 45, 25], [45, 20, 20, 25], [30, 25, 10, 10]\n",
        "\n",
        "Hãy thực hiện vẽ đường cong Precision Recall curve và xây dựng thuật toán tính giá trị AP.\n",
        "\n",
        "8) Thực hiện visualize các anchor box có tỷ lệ aspect ratio (tỷ lệ width/height) lần lượt là 1, 2, 1/2 trên một feature map kích thước 20 x 20\n",
        "\n",
        "9) Từ bộ dữ liệu [Vinbigdata-chest-xray](https://www.kaggle.com/c/vinbigdata-chest-xray-abnormalities-detection/data) bao gồm các tọa độ bounding box của 14 nhãn của các loại bệnh khác nhau được chuẩn đoán trên ảnh chụp chest X-ray. Thực hiện biến đổi file dữ liệu train.csv sang định dạng COCO json format. Chi tiết mô tả về dữ liệu bạn đọc ở tab data link trên.\n",
        "\n",
        "10) Hãy xây dựng thuật toán object detection để  hỗ trợ bác sĩ chuẩn đoán bệnh. Để không phải download dữ liệu, bạn nên run một notebook trên kaggle và trích dẫn link sang bài làm của bạn."
      ],
      "metadata": {
        "id": "r1NG3Z0HH_IP"
      }
    },
    {
      "cell_type": "code",
      "source": [
        "import cv2\n",
        "import numpy as np\n",
        "import matplotlib.pyplot as plt"
      ],
      "metadata": {
        "id": "wE55yyrSnbe1"
      },
      "execution_count": null,
      "outputs": []
    },
    {
      "cell_type": "markdown",
      "source": [
        "6) Xây dựng hàm tính toán IoU giữa hai bounding box."
      ],
      "metadata": {
        "id": "oH7msFd3ssuL"
      }
    },
    {
      "cell_type": "code",
      "source": [
        "def getIOU(boxA, boxB):\n",
        "    # toạ độ 4 góc của phần giao nhau\n",
        "    xA = max(boxA[0], boxB[0])\n",
        "    yA = max(boxA[1], boxB[1])\n",
        "    xB = min(boxA[2], boxB[2])\n",
        "    yB = min(boxA[3], boxB[3])\n",
        "    \n",
        "    # diện tích boxA, boxB\n",
        "    boxAArea = (boxA[2] - boxA[0] + 1) * (boxA[3] - boxA[1] + 1)\n",
        "    boxBArea = (boxB[2] - boxB[0] + 1) * (boxB[3] - boxB[1] + 1)\n",
        "    # print(\"boxAArea =\", boxAArea)\n",
        "    # print(\"boxBArea =\", boxBArea)\n",
        "    \n",
        "    # diện tích phần giao nhau\n",
        "    interArea = max(0, xB - xA + 1) * max(0, yB - yA + 1)\n",
        "\n",
        "    # Tính IoU\n",
        "    iou = interArea / float(boxAArea + boxBArea - interArea)\n",
        "\n",
        "    return iou\n",
        "\n",
        "boxA = [10, 10, 50, 20]\n",
        "boxB = [10, 10, 45, 25]\n",
        "\n",
        "iou = getIOU(boxA, boxB)\n",
        "print(iou)"
      ],
      "metadata": {
        "colab": {
          "base_uri": "https://localhost:8080/"
        },
        "id": "O5Yh30YgnbN8",
        "outputId": "de4802db-038e-410b-aef7-b029c786a902"
      },
      "execution_count": null,
      "outputs": [
        {
          "output_type": "stream",
          "name": "stdout",
          "text": [
            "0.6275752773375595\n"
          ]
        }
      ]
    },
    {
      "cell_type": "markdown",
      "source": [
        "7) Giả sử các bounding box dự báo cho một category có tọa độ lần lượt là:\n",
        "\n",
        "[10, 10, 50, 20], [15, 15, 55, 25], [50, 20, 20, 25], [20, 50, 20, 50], [30, 20, 10, 10]\n",
        "\n",
        "Các bounding box ground truth lần lượt là:\n",
        "\n",
        "[10, 10, 45, 25], [45, 20, 20, 25], [30, 25, 10, 10]\n",
        "\n",
        "Hãy thực hiện vẽ đường cong Precision Recall curve và xây dựng thuật toán tính giá trị AP."
      ],
      "metadata": {
        "id": "Y1KSi0hNs4-4"
      }
    },
    {
      "cell_type": "code",
      "source": [
        "def get_results(boxes, ground_truth):\n",
        "    ious = []\n",
        "    for i in range(len(ground_truth)):\n",
        "        iou = []\n",
        "        for j in range(len(boxes)):\n",
        "            iou.append(getIOU(ground_truth[i], boxes[j]))\n",
        "        ious.append(iou)\n",
        "\n",
        "    return ious\n",
        "\n",
        "boxes = [[10, 10, 50, 20], [15, 15, 55, 25], [50, 20, 20, 25], [20, 50, 20, 50], [30, 20, 10, 10]]\n",
        "ground_truth = [[10, 10, 45, 25], [45, 20, 20, 25], [30, 25, 10, 10]]\n",
        "\n",
        "ious1 = get_results(boxes, ground_truth)\n",
        "ious1"
      ],
      "metadata": {
        "colab": {
          "base_uri": "https://localhost:8080/"
        },
        "id": "iC9Mg6lFnbnn",
        "outputId": "83ce4b9d-fbcd-4abd-8221-4f2cb173b0bf"
      },
      "execution_count": null,
      "outputs": [
        {
          "output_type": "execute_result",
          "data": {
            "text/plain": [
              "[[0.6275752773375595, 0.4970845481049563, 0.0, 0.0, 0.0],\n",
              " [0.0, 0.0, -0.0, -0.0, 0.0],\n",
              " [0.0, 0.0, 0.0, 0.0, 0.0]]"
            ]
          },
          "metadata": {},
          "execution_count": 6
        }
      ]
    },
    {
      "cell_type": "code",
      "source": [
        "ious2 = get_results(ground_truth, boxes)\n",
        "ious2"
      ],
      "metadata": {
        "colab": {
          "base_uri": "https://localhost:8080/"
        },
        "id": "jfeap6h9nb4N",
        "outputId": "a33b09bf-8e25-4e0a-866e-862043d6c29e"
      },
      "execution_count": null,
      "outputs": [
        {
          "output_type": "execute_result",
          "data": {
            "text/plain": [
              "[[0.6275752773375595, 0.0, 0.0],\n",
              " [0.4970845481049563, 0.0, 0.0],\n",
              " [0.0, -0.0, 0.0],\n",
              " [0.0, -0.0, 0.0],\n",
              " [0.0, 0.0, 0.0]]"
            ]
          },
          "metadata": {},
          "execution_count": 16
        }
      ]
    },
    {
      "cell_type": "code",
      "source": [
        "def get_precision_recall(boxes, ground_truth, iou_threshold):\n",
        "    true_positive, false_positive, detection_annotations = [], [], []\n",
        "    for i in range(len(ious2)):\n",
        "        ious = ious2[i]\n",
        "        annotations_index = np.argmax(ious)\n",
        "        max_overlap = ious[annotations_index]\n",
        "        if (max_overlap > iou_threshold) and (annotations_index not in detection_annotations):\n",
        "            true_positive.append(1)\n",
        "            false_positive.append(0)\n",
        "            detection_annotations.append(annotations_index)\n",
        "        else:\n",
        "            true_positive.append(0)\n",
        "            false_positive.append(1)\n",
        "\n",
        "    true_positive = np.cumsum(true_positive)\n",
        "    false_positive = np.cumsum(false_positive)\n",
        "    precision = true_positive / (true_positive + false_positive)\n",
        "    recall = true_positive / len(ground_truth)\n",
        "\n",
        "    return precision, recall"
      ],
      "metadata": {
        "id": "Ux4QUw8zRU5X"
      },
      "execution_count": null,
      "outputs": []
    },
    {
      "cell_type": "code",
      "source": [
        "precision, recall = get_precision_recall(boxes, ground_truth, iou_threshold=0.5)\n",
        "plt.plot(np.concatenate(([0], recall, [1])), np.concatenate(([0], precision, [0])), 'o-')"
      ],
      "metadata": {
        "colab": {
          "base_uri": "https://localhost:8080/",
          "height": 283
        },
        "id": "0FdaUxk_Qd19",
        "outputId": "a9207f60-7256-4f5d-a00e-5054f0571620"
      },
      "execution_count": null,
      "outputs": [
        {
          "output_type": "execute_result",
          "data": {
            "text/plain": [
              "[<matplotlib.lines.Line2D at 0x7f4f1a4279d0>]"
            ]
          },
          "metadata": {},
          "execution_count": 25
        },
        {
          "output_type": "display_data",
          "data": {
            "text/plain": [
              "<Figure size 432x288 with 1 Axes>"
            ],
            "image/png": "[encoded data removed]"
          },
          "metadata": {
            "needs_background": "light"
          }
        }
      ]
    },
    {
      "cell_type": "code",
      "source": [
        "mrec = np.concatenate(([0.], recall, [1.]))\n",
        "mpre = np.concatenate(([0.], precision, [0.]))\n",
        "for i in range(mpre.size - 1, 0, -1):\n",
        "    mpre[i - 1] = np.maximum(mpre[i - 1], mpre[i])\n",
        "i = np.where(mrec[1:] != mrec[:-1])[0]\n",
        "ap = np.sum((mrec[i + 1] - mrec[i]) * mpre[i + 1])\n",
        "print('AP =', ap)"
      ],
      "metadata": {
        "colab": {
          "base_uri": "https://localhost:8080/"
        },
        "id": "qJltDPfXSl4O",
        "outputId": "3b947cd4-02a4-44c6-f65d-622e74c36ad6"
      },
      "execution_count": null,
      "outputs": [
        {
          "output_type": "stream",
          "name": "stdout",
          "text": [
            "AP = 0.3333333333333333\n"
          ]
        }
      ]
    },
    {
      "cell_type": "markdown",
      "source": [
        "8) Thực hiện visualize các anchor box có tỷ lệ aspect ratio (tỷ lệ width/height) lần lượt là 1, 2, 1/2 trên một feature map kích thước 20 x 20"
      ],
      "metadata": {
        "id": "AToirmPps_OX"
      }
    },
    {
      "cell_type": "code",
      "source": [
        "from google.colab import drive\n",
        "drive.mount('/content/drive')"
      ],
      "metadata": {
        "colab": {
          "base_uri": "https://localhost:8080/"
        },
        "id": "XmSu9z7CUx4r",
        "outputId": "a64b3658-fb98-4cf2-ad6f-f14a85eb87f6"
      },
      "execution_count": null,
      "outputs": [
        {
          "output_type": "stream",
          "name": "stdout",
          "text": [
            "Mounted at /content/drive\n"
          ]
        }
      ]
    },
    {
      "cell_type": "code",
      "source": [
        "img = cv2.imread('/content/drive/MyDrive/Colab Notebooks/TowardDataScience/lesson7/van.jpg')\n",
        "img_RGB = cv2.cvtColor(img, cv2.COLOR_BGR2RGB)\n",
        "img_resize = cv2.resize(img_RGB, (20, 20))\n",
        "img_resize[10, 10, :] = (255, 0, 0)\n",
        "anchor_box = cv2.rectangle(img_resize, (7, 7), (13, 13), (0, 0, 255), 1)\n",
        "anchor_box = cv2.rectangle(img_resize, (0, 5), (19, 15), (0, 0, 255), 1)\n",
        "anchor_box = cv2.rectangle(img_resize, (5, 0), (15, 19), (0, 0, 255), 1)\n",
        "\n",
        "plt.imshow(img_resize)"
      ],
      "metadata": {
        "colab": {
          "base_uri": "https://localhost:8080/",
          "height": 283
        },
        "id": "b3sm6GtKnb_U",
        "outputId": "b6d87726-51ee-4982-c0c1-75edc972d8e7"
      },
      "execution_count": null,
      "outputs": [
        {
          "output_type": "execute_result",
          "data": {
            "text/plain": [
              "<matplotlib.image.AxesImage at 0x7f4f19816750>"
            ]
          },
          "metadata": {},
          "execution_count": 40
        },
        {
          "output_type": "display_data",
          "data": {
            "text/plain": [
              "<Figure size 432x288 with 1 Axes>"
            ],
            "image/png": "[encoded data removed]"
          },
          "metadata": {
            "needs_background": "light"
          }
        }
      ]
    },
    {
      "cell_type": "markdown",
      "source": [
        "9) Từ bộ dữ liệu [Vinbigdata-chest-xray](https://www.kaggle.com/c/vinbigdata-chest-xray-abnormalities-detection/data) bao gồm các tọa độ bounding box của 14 nhãn của các loại bệnh khác nhau được chuẩn đoán trên ảnh chụp chest X-ray. Thực hiện biến đổi file dữ liệu train.csv sang định dạng COCO json format. Chi tiết mô tả về dữ liệu bạn đọc ở tab data link trên.\n",
        "\n",
        "10) Hãy xây dựng thuật toán object detection để  hỗ trợ bác sĩ chuẩn đoán bệnh. Để không phải download dữ liệu, bạn nên run một notebook trên kaggle và trích dẫn link sang bài làm của bạn."
      ],
      "metadata": {
        "id": "dRv9YBm6UQWN"
      }
    },
    {
      "cell_type": "code",
      "source": [
        ""
      ],
      "metadata": {
        "id": "kAt6YvjaUWyi"
      },
      "execution_count": null,
      "outputs": []
    }
  ]
}