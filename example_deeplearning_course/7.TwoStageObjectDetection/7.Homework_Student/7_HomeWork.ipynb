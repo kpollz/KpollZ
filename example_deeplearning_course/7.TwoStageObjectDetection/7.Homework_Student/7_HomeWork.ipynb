{
  "nbformat": 4,
  "nbformat_minor": 0,
  "metadata": {
    "colab": {
      "name": "7.HomeWork.ipynb",
      "provenance": [],
      "collapsed_sections": [],
      "toc_visible": true
    },
    "kernelspec": {
      "name": "python3",
      "display_name": "Python 3"
    },
    "language_info": {
      "name": "python"
    },
    "accelerator": "GPU"
  },
  "cells": [
    {
      "cell_type": "markdown",
      "source": [
        "# I. Lý thuyết\n",
        "\n",
        "1) Tại sao mô hình R-CNN lại có tốc độ xử lý chậm?\n",
        "\n",
        "Đáp án:\n",
        "\n",
        "B. Do các vùng region proposal được dự báo bounding box và phân loại nhãn một cách độc lập.\n",
        "\n",
        "\n",
        "\n",
        "2) Chỉ số mAP trong các thuật toán object detection được tính toán theo cách nào ?\n",
        "\n",
        "Đáp án:\n",
        "\n",
        "D. Tính toán chỉ số AP trên từng category: Sắp xếp các Prediction Boxes của một category theo điểm số xác suất giảm dần. Thực hiện matching các Prediction Box với Ground Truth Box sao cho nếu IoU > 0.5 thì được xem là positive và trái lại là negative. Nếu Positive thì Precision sẽ có tử và mẫu cùng tăng lên 1 trong khi Recall có tử số tăng lên 1. Nếu Negative thì Precision có tử giữ nguyên và mẫu tăng lên 1 trong khi Recall không thay đổi. Tính AP = diện tích dưới đường cong Precion Recall. mAP bằng trung bình AP của toàn bộ các category.\n",
        "\n",
        "\n",
        "\n",
        "3) Phương pháp Non Max Suppression sẽ làm gì để giảm thiểu số lượng các bounding box ?\n",
        "\n",
        "Đáp án:\n",
        "\n",
        "D. Dựa vào mức độ overlapping để giữ lại một bounding box có điểm số cao hơn nếu chúng chồng lấn nhau lớn.\n",
        "\n",
        "4) Trong mô hình Faster R-CNN chúng ta thêm một nhánh mạng RPN có tác dụng gì?\n",
        "\n",
        "Đáp án:\n",
        "\n",
        " \n",
        "C. Dự báo bounding box và nhãn cho các vùng Region of Interest có khả năng cao chứa vật thể.\n",
        "\n",
        "\n",
        "5) Anchor Box là gì?\n",
        "\n",
        "Đáp án:\n",
        "\n",
        "B. Là những hình chữ nhật với kích thước xác định trước gắn liền với một pixel để làm cơ sở điều chỉnh phần bù (offset) của các tọa độ nhằm dự báo bounding box.\n",
        "\n"
      ],
      "metadata": {
        "id": "ZzMQa4CcG3aL"
      }
    },
    {
      "cell_type": "markdown",
      "source": [
        "# II. Thực hành \n",
        "\n",
        "Các câu bên dưới qui ước chung bounding box đều có tọa độ là (x, y, w, h) lần lượt tương ứng với (x, y) là điểm top-left và (w, h) là kích thước chiều rộng và cao.\n",
        "\n",
        "6) Xây dựng hàm tính toán IoU giữa hai bounding box.\n",
        "\n",
        "7) Giả sử các bounding box dự báo cho một category có tọa độ lần lượt là:\n",
        "\n",
        "[10, 10, 50, 20], [15, 15, 55, 25], [50, 20, 20, 25], [20, 50, 20, 50], [30, 20, 10, 10]\n",
        "\n",
        "Các bounding box ground truth lần lượt là:\n",
        "\n",
        "[10, 10, 45, 25], [45, 20, 20, 25], [30, 25, 10, 10]\n",
        "\n",
        "Hãy thực hiện vẽ đường cong Precision Recall curve và xây dựng thuật toán tính giá trị AP.\n",
        "\n",
        "8) Thực hiện visualize các anchor box có tỷ lệ aspect ratio (tỷ lệ width/height) lần lượt là 1, 2, 1/2 trên một feature map kích thước 20 x 20\n",
        "\n",
        "9) Từ bộ dữ liệu [Vinbigdata-chest-xray](https://www.kaggle.com/c/vinbigdata-chest-xray-abnormalities-detection/data) bao gồm các tọa độ bounding box của 14 nhãn của các loại bệnh khác nhau được chuẩn đoán trên ảnh chụp chest X-ray. Thực hiện biến đổi file dữ liệu train.csv sang định dạng COCO json format. Chi tiết mô tả về dữ liệu bạn đọc ở tab data link trên.\n",
        "\n",
        "10) Hãy xây dựng thuật toán object detection để  hỗ trợ bác sĩ chuẩn đoán bệnh. Để không phải download dữ liệu, bạn nên run một notebook trên kaggle và trích dẫn link sang bài làm của bạn."
      ],
      "metadata": {
        "id": "r1NG3Z0HH_IP"
      }
    },
    {
      "cell_type": "markdown",
      "source": [
        "##6) Xây dựng hàm tính toán IoU giữa hai bounding box."
      ],
      "metadata": {
        "id": "pfTMAF20RMSK"
      }
    },
    {
      "cell_type": "code",
      "source": [
        "import numpy as np\n",
        "import torch\n",
        "box1 = [10, 10, 50, 20]\n",
        "box2 = [10, 10, 50, 20]\n",
        "\n",
        "def IoU(box1, box2):\n",
        "  #box 1\n",
        "  x1 = box1[0]\n",
        "  y1 = box1[1]\n",
        "  w1 = box1[2]\n",
        "  h1 = box1[3]\n",
        "  #box 2\n",
        "  x2 = box2[0]\n",
        "  y2 = box2[1]\n",
        "  w2 = box2[2]\n",
        "  h2 = box2[3]\n",
        "  # intersect\n",
        "  #(x11, y11): bottom-right box1\n",
        "  x11 = x1 + w1\n",
        "  y11 = y1 + h1\n",
        "  #(x21, y21): bottom-right box2\n",
        "  x21 = x2 + w2 \n",
        "  y21 = y2 + h2\n",
        "\n",
        "  top_max = max(x1, x2)\n",
        "  left_max = max(y1, y2)\n",
        "  bottom_min = min(x11, x21)\n",
        "  right_min = min(y11, y21)\n",
        "  # Tìm diện tích của 2 box\n",
        "  area1 = w1 * h1\n",
        "  area2 = w2 * h2\n",
        "  # Tính diện tích vùng giao nhau\n",
        "  w = max(0, bottom_min - top_max)\n",
        "  h = max(0, right_min - left_max)\n",
        "  intersection_area = w*h\n",
        "\n",
        "  # Tính diện tích phần hợp nhau\n",
        "  union_area = area1 + area2 - intersection_area\n",
        "\n",
        "  # Dựa trên phần giao và phần hợp để tính IoU\n",
        "  IoU_ = intersection_area / union_area\n",
        "\n",
        "  return float(IoU_)\n",
        "iou = IoU(box1,  box2)\n",
        "print(iou)"
      ],
      "metadata": {
        "colab": {
          "base_uri": "https://localhost:8080/"
        },
        "id": "5dD3txCaRcGW",
        "outputId": "81f45976-bb2b-41de-fdfc-4a5a60c2d496"
      },
      "execution_count": null,
      "outputs": [
        {
          "output_type": "stream",
          "name": "stdout",
          "text": [
            "1.0\n"
          ]
        }
      ]
    },
    {
      "cell_type": "markdown",
      "source": [
        "##7) Hãy thực hiện vẽ đường cong Precision Recall curve và xây dựng thuật toán tính giá trị AP."
      ],
      "metadata": {
        "id": "84apQ7-FRQIO"
      }
    },
    {
      "cell_type": "code",
      "source": [
        "bbox = [[10, 10, 50, 20], [15, 15, 55, 25], [50, 20, 20, 25], [20, 50, 20, 50], [30, 20, 10, 10]]\n",
        "gt_box = [[10, 10, 45, 25], [45, 20, 20, 25], [30, 25, 10, 10]]\n",
        "\n",
        "Precision = []\n",
        "Recall =[]\n",
        "a,b = 0,0\n",
        "Rec = 0\n",
        "for box in bbox:\n",
        "  for gt in gt_box:\n",
        "    iou = IoU(box, gt)\n",
        "    if iou > 0.5:\n",
        "      a = a+1\n",
        "      b = b+1\n",
        "      Pre = a/b\n",
        "      Rec = Rec + 1/ 3\n",
        "      gt_box.remove(gt)\n",
        "      Precision.append(Pre)\n",
        "      Recall.append(Rec)\n",
        "      break\n",
        "    else:\n",
        "      if gt == gt_box[-1]:\n",
        "        b= b+1\n",
        "        Pre = a/ b\n",
        "        Precision.append(Pre)\n",
        "        Recall.append(Rec)\n",
        "print(\"Precision: \", Precision)\n",
        "print(\"Recall: \", Recall)"
      ],
      "metadata": {
        "colab": {
          "base_uri": "https://localhost:8080/"
        },
        "id": "spMGIYNld7Dp",
        "outputId": "60cae1a4-6a0c-462c-d23c-b95c0d658e20"
      },
      "execution_count": null,
      "outputs": [
        {
          "output_type": "stream",
          "name": "stdout",
          "text": [
            "Precision:  [1.0, 0.5, 0.6666666666666666, 0.5, 0.4]\n",
            "Recall:  [0.3333333333333333, 0.3333333333333333, 0.6666666666666666, 0.6666666666666666, 0.6666666666666666]\n"
          ]
        }
      ]
    },
    {
      "cell_type": "code",
      "source": [
        "#calculate precision and recall\n",
        "import matplotlib.pyplot as plt\n",
        "\n",
        "#create precision recall curve\n",
        "fig, ax = plt.subplots()\n",
        "ax.plot(Recall, Precision, linestyle = '-', marker = 'o',color = \"r\")\n",
        "\n",
        "#add axis labels to plot\n",
        "ax.set_title('Precision-Recall Curve')\n",
        "ax.set_ylabel('Precision')\n",
        "ax.set_xlabel('Recall')\n",
        "# ax.fill_between(Recall,Precision,color='b')\n",
        "ax.set_xlim(0,1)\n",
        "\n",
        "#display plot\n",
        "plt.show()"
      ],
      "metadata": {
        "colab": {
          "base_uri": "https://localhost:8080/",
          "height": 295
        },
        "id": "0mcCb7zRmVRR",
        "outputId": "1a050e8a-1310-4053-bd32-593bb6e766f3"
      },
      "execution_count": null,
      "outputs": [
        {
          "output_type": "display_data",
          "data": {
            "text/plain": [
              "<Figure size 432x288 with 1 Axes>"
            ],
            "image/png": "[encoded data removed]"
          },
          "metadata": {
            "needs_background": "light"
          }
        }
      ]
    },
    {
      "cell_type": "markdown",
      "source": [
        "##8) Thực hiện visualize các anchor box có tỷ lệ aspect ratio (tỷ lệ width/height) lần lượt là 1, 2, 1/2 trên một feature map kích thước 20 x 20"
      ],
      "metadata": {
        "id": "T9o4SQa_RTNb"
      }
    },
    {
      "cell_type": "code",
      "source": [
        "aspect_ratio =[1, 2, 1/2]\n",
        "feature_map = 20\n",
        "box_ = [5,5,5,5]\n",
        "def anchor_box(box, aspect_ratio):\n",
        "  x = box[0]\n",
        "  y = box[1]\n",
        "  w = box[2]\n",
        "  h = box[3]\n",
        "\n",
        "  box_list = []\n",
        "  for ar in aspect_ratio:\n",
        "    box_list.append([x, y, float(w)*ar, float(h)/ar])\n",
        "  return box_list\n",
        "box_list = anchor_box(box_, aspect_ratio)\n",
        "print(box_list)"
      ],
      "metadata": {
        "colab": {
          "base_uri": "https://localhost:8080/"
        },
        "id": "pTmX9IxI7xAu",
        "outputId": "5f095510-6605-4ade-cadb-8e5ab0f0d8bf"
      },
      "execution_count": null,
      "outputs": [
        {
          "output_type": "stream",
          "name": "stdout",
          "text": [
            "[[5, 5, 5.0, 5.0], [5, 5, 10.0, 2.5], [5, 5, 2.5, 10.0]]\n"
          ]
        }
      ]
    },
    {
      "cell_type": "markdown",
      "source": [
        "##9) Từ bộ dữ liệu Vinbigdata-chest-xray bao gồm các tọa độ bounding box của 14 nhãn của các loại bệnh khác nhau được chuẩn đoán trên ảnh chụp chest X-ray. Thực hiện biến đổi file dữ liệu train.csv sang định dạng COCO json format. Chi tiết mô tả về dữ liệu bạn đọc ở tab data link trên."
      ],
      "metadata": {
        "id": "oTJYRIMtRTS6"
      }
    },
    {
      "cell_type": "code",
      "source": [
        "from google.colab import drive\n",
        "import os\n",
        "drive.mount('/content/drive')\n",
        "os.chdir(\"/content/drive/MyDrive/DL/7.HomeWork_HauTran\")"
      ],
      "metadata": {
        "colab": {
          "base_uri": "https://localhost:8080/"
        },
        "id": "rcLbsknA_KKZ",
        "outputId": "3b99efef-b8d3-4d36-90a4-a4b447f525c2"
      },
      "execution_count": null,
      "outputs": [
        {
          "output_type": "stream",
          "name": "stdout",
          "text": [
            "Drive already mounted at /content/drive; to attempt to forcibly remount, call drive.mount(\"/content/drive\", force_remount=True).\n"
          ]
        }
      ]
    },
    {
      "cell_type": "code",
      "source": [
        "import pandas as pd\n",
        "train = pd.read_csv(\"../data/Chest-X/train.csv\")\n",
        "train.head()"
      ],
      "metadata": {
        "colab": {
          "base_uri": "https://localhost:8080/",
          "height": 206
        },
        "id": "6b9jNR8A-Xx0",
        "outputId": "5ec24dd9-4671-4317-a51d-ef2573450ed2"
      },
      "execution_count": null,
      "outputs": [
        {
          "output_type": "execute_result",
          "data": {
            "text/plain": [
              "                           image_id          class_name  class_id rad_id  \\\n",
              "0  50a418190bc3fb1ef1633bf9678929b3          No finding        14    R11   \n",
              "1  21a10246a5ec7af151081d0cd6d65dc9          No finding        14     R7   \n",
              "2  9a5094b2563a1ef3ff50dc5c7ff71345        Cardiomegaly         3    R10   \n",
              "3  051132a778e61a86eb147c7c6f564dfe  Aortic enlargement         0    R10   \n",
              "4  063319de25ce7edb9b1c6b8881290140          No finding        14    R10   \n",
              "\n",
              "    x_min   y_min   x_max   y_max  \n",
              "0     NaN     NaN     NaN     NaN  \n",
              "1     NaN     NaN     NaN     NaN  \n",
              "2   691.0  1375.0  1653.0  1831.0  \n",
              "3  1264.0   743.0  1611.0  1019.0  \n",
              "4     NaN     NaN     NaN     NaN  "
            ],
            "text/html": [
              "\n",
              "  <div id=\"df-07d66209-ec25-4f29-b504-3748ea169934\">\n",
              "    <div class=\"colab-df-container\">\n",
              "      <div>\n",
              "<style scoped>\n",
              "    .dataframe tbody tr th:only-of-type {\n",
              "        vertical-align: middle;\n",
              "    }\n",
              "\n",
              "    .dataframe tbody tr th {\n",
              "        vertical-align: top;\n",
              "    }\n",
              "\n",
              "    .dataframe thead th {\n",
              "        text-align: right;\n",
              "    }\n",
              "</style>\n",
              "<table border=\"1\" class=\"dataframe\">\n",
              "  <thead>\n",
              "    <tr style=\"text-align: right;\">\n",
              "      <th></th>\n",
              "      <th>image_id</th>\n",
              "      <th>class_name</th>\n",
              "      <th>class_id</th>\n",
              "      <th>rad_id</th>\n",
              "      <th>x_min</th>\n",
              "      <th>y_min</th>\n",
              "      <th>x_max</th>\n",
              "      <th>y_max</th>\n",
              "    </tr>\n",
              "  </thead>\n",
              "  <tbody>\n",
              "    <tr>\n",
              "      <th>0</th>\n",
              "      <td>50a418190bc3fb1ef1633bf9678929b3</td>\n",
              "      <td>No finding</td>\n",
              "      <td>14</td>\n",
              "      <td>R11</td>\n",
              "      <td>NaN</td>\n",
              "      <td>NaN</td>\n",
              "      <td>NaN</td>\n",
              "      <td>NaN</td>\n",
              "    </tr>\n",
              "    <tr>\n",
              "      <th>1</th>\n",
              "      <td>21a10246a5ec7af151081d0cd6d65dc9</td>\n",
              "      <td>No finding</td>\n",
              "      <td>14</td>\n",
              "      <td>R7</td>\n",
              "      <td>NaN</td>\n",
              "      <td>NaN</td>\n",
              "      <td>NaN</td>\n",
              "      <td>NaN</td>\n",
              "    </tr>\n",
              "    <tr>\n",
              "      <th>2</th>\n",
              "      <td>9a5094b2563a1ef3ff50dc5c7ff71345</td>\n",
              "      <td>Cardiomegaly</td>\n",
              "      <td>3</td>\n",
              "      <td>R10</td>\n",
              "      <td>691.0</td>\n",
              "      <td>1375.0</td>\n",
              "      <td>1653.0</td>\n",
              "      <td>1831.0</td>\n",
              "    </tr>\n",
              "    <tr>\n",
              "      <th>3</th>\n",
              "      <td>051132a778e61a86eb147c7c6f564dfe</td>\n",
              "      <td>Aortic enlargement</td>\n",
              "      <td>0</td>\n",
              "      <td>R10</td>\n",
              "      <td>1264.0</td>\n",
              "      <td>743.0</td>\n",
              "      <td>1611.0</td>\n",
              "      <td>1019.0</td>\n",
              "    </tr>\n",
              "    <tr>\n",
              "      <th>4</th>\n",
              "      <td>063319de25ce7edb9b1c6b8881290140</td>\n",
              "      <td>No finding</td>\n",
              "      <td>14</td>\n",
              "      <td>R10</td>\n",
              "      <td>NaN</td>\n",
              "      <td>NaN</td>\n",
              "      <td>NaN</td>\n",
              "      <td>NaN</td>\n",
              "    </tr>\n",
              "  </tbody>\n",
              "</table>\n",
              "</div>\n",
              "      <button class=\"colab-df-convert\" onclick=\"convertToInteractive('df-07d66209-ec25-4f29-b504-3748ea169934')\"\n",
              "              title=\"Convert this dataframe to an interactive table.\"\n",
              "              style=\"display:none;\">\n",
              "        \n",
              "  <svg xmlns=\"http://www.w3.org/2000/svg\" height=\"24px\"viewBox=\"0 0 24 24\"\n",
              "       width=\"24px\">\n",
              "    <path d=\"M0 0h24v24H0V0z\" fill=\"none\"/>\n",
              "    <path d=\"M18.56 5.44l.94 2.06.94-2.06 2.06-.94-2.06-.94-.94-2.06-.94 2.06-2.06.94zm-11 1L8.5 8.5l.94-2.06 2.06-.94-2.06-.94L8.5 2.5l-.94 2.06-2.06.94zm10 10l.94 2.06.94-2.06 2.06-.94-2.06-.94-.94-2.06-.94 2.06-2.06.94z\"/><path d=\"M17.41 7.96l-1.37-1.37c-.4-.4-.92-.59-1.43-.59-.52 0-1.04.2-1.43.59L10.3 9.45l-7.72 7.72c-.78.78-.78 2.05 0 2.83L4 21.41c.39.39.9.59 1.41.59.51 0 1.02-.2 1.41-.59l7.78-7.78 2.81-2.81c.8-.78.8-2.07 0-2.86zM5.41 20L4 18.59l7.72-7.72 1.47 1.35L5.41 20z\"/>\n",
              "  </svg>\n",
              "      </button>\n",
              "      \n",
              "  <style>\n",
              "    .colab-df-container {\n",
              "      display:flex;\n",
              "      flex-wrap:wrap;\n",
              "      gap: 12px;\n",
              "    }\n",
              "\n",
              "    .colab-df-convert {\n",
              "      background-color: #E8F0FE;\n",
              "      border: none;\n",
              "      border-radius: 50%;\n",
              "      cursor: pointer;\n",
              "      display: none;\n",
              "      fill: #1967D2;\n",
              "      height: 32px;\n",
              "      padding: 0 0 0 0;\n",
              "      width: 32px;\n",
              "    }\n",
              "\n",
              "    .colab-df-convert:hover {\n",
              "      background-color: #E2EBFA;\n",
              "      box-shadow: 0px 1px 2px rgba(60, 64, 67, 0.3), 0px 1px 3px 1px rgba(60, 64, 67, 0.15);\n",
              "      fill: #174EA6;\n",
              "    }\n",
              "\n",
              "    [theme=dark] .colab-df-convert {\n",
              "      background-color: #3B4455;\n",
              "      fill: #D2E3FC;\n",
              "    }\n",
              "\n",
              "    [theme=dark] .colab-df-convert:hover {\n",
              "      background-color: #434B5C;\n",
              "      box-shadow: 0px 1px 3px 1px rgba(0, 0, 0, 0.15);\n",
              "      filter: drop-shadow(0px 1px 2px rgba(0, 0, 0, 0.3));\n",
              "      fill: #FFFFFF;\n",
              "    }\n",
              "  </style>\n",
              "\n",
              "      <script>\n",
              "        const buttonEl =\n",
              "          document.querySelector('#df-07d66209-ec25-4f29-b504-3748ea169934 button.colab-df-convert');\n",
              "        buttonEl.style.display =\n",
              "          google.colab.kernel.accessAllowed ? 'block' : 'none';\n",
              "\n",
              "        async function convertToInteractive(key) {\n",
              "          const element = document.querySelector('#df-07d66209-ec25-4f29-b504-3748ea169934');\n",
              "          const dataTable =\n",
              "            await google.colab.kernel.invokeFunction('convertToInteractive',\n",
              "                                                     [key], {});\n",
              "          if (!dataTable) return;\n",
              "\n",
              "          const docLinkHtml = 'Like what you see? Visit the ' +\n",
              "            '<a target=\"_blank\" href=https://colab.research.google.com/notebooks/data_table.ipynb>data table notebook</a>'\n",
              "            + ' to learn more about interactive tables.';\n",
              "          element.innerHTML = '';\n",
              "          dataTable['output_type'] = 'display_data';\n",
              "          await google.colab.output.renderOutput(dataTable, element);\n",
              "          const docLink = document.createElement('div');\n",
              "          docLink.innerHTML = docLinkHtml;\n",
              "          element.appendChild(docLink);\n",
              "        }\n",
              "      </script>\n",
              "    </div>\n",
              "  </div>\n",
              "  "
            ]
          },
          "metadata": {},
          "execution_count": 107
        }
      ]
    },
    {
      "cell_type": "code",
      "source": [
        "column_names =['image_id','class_name','class_id', 'rad_id','xmin','ymin','xmax','ymax']"
      ],
      "metadata": {
        "id": "cANOtRU-AoRw"
      },
      "execution_count": null,
      "outputs": []
    },
    {
      "cell_type": "code",
      "source": [
        "import numpy as np\n",
        "import json\n",
        "import pandas as pd\n",
        "\n",
        "save_json_path = 'traincoco.json'\n",
        "\n",
        "images = []\n",
        "categories = []\n",
        "annotations = []\n",
        "\n",
        "category = {}\n",
        "category[\"supercategory\"] = 'none'\n",
        "category[\"id\"] = 1\n",
        "category[\"name\"] = 'None'\n",
        "categories.append(category)\n",
        "\n",
        "train['fileid'] = train['image_id'].astype('category').cat.codes\n",
        "train['categoryid']= pd.Categorical(train['class_name'],ordered= True).codes\n",
        "train['categoryid'] = train['categoryid']+1\n",
        "train['annid'] = train.index\n",
        "\n",
        "def image(row):\n",
        "    image = {}\n",
        "    image[\"id\"] = row.fileid\n",
        "    image[\"image_id\"] = row.image_id\n",
        "    image[\"class_id\"]=row.class_id\n",
        "    image[\"rad_id\"] = row.rad_id\n",
        "    return image\n",
        "\n",
        "def category(row):\n",
        "    category = {}\n",
        "    category[\"supercategory\"] = row.class_name\n",
        "    category[\"id\"] = row.categoryid\n",
        "    category[\"name\"] = row[2]\n",
        "    return category\n",
        "\n",
        "def annotation(row):\n",
        "    annotation = {}\n",
        "    area = (row.x_max -row.x_min)*(row.y_max - row.y_min)\n",
        "    annotation[\"segmentation\"] = []\n",
        "    annotation[\"iscrowd\"] = 0\n",
        "    annotation[\"area\"] = area\n",
        "    annotation[\"image_id\"] = row.fileid\n",
        "\n",
        "    annotation[\"bbox\"] = [row.x_min, row.y_min, row.x_max -row.x_min,row.y_max-row.y_min ]\n",
        "\n",
        "    annotation[\"category_id\"] = row.categoryid\n",
        "    annotation[\"id\"] = row.annid\n",
        "    return annotation\n",
        "\n",
        "for row in train.itertuples():\n",
        "    annotations.append(annotation(row))\n",
        "\n",
        "imagedf = train.drop_duplicates(subset=['fileid']).sort_values(by='fileid')\n",
        "for row in imagedf.itertuples():\n",
        "    images.append(image(row))\n",
        "\n",
        "catdf = train.drop_duplicates(subset=['categoryid']).sort_values(by='categoryid')\n",
        "for row in catdf.itertuples():\n",
        "    categories.append(category(row))\n",
        "\n",
        "train_coco = {}\n",
        "train_coco[\"images\"] = images\n",
        "train_coco[\"categories\"] = categories\n",
        "train_coco[\"annotations\"] = annotations\n",
        "json.dump(train_coco, open(save_json_path, \"w\"), indent=4)"
      ],
      "metadata": {
        "id": "7nItVp22BDSO"
      },
      "execution_count": null,
      "outputs": []
    },
    {
      "cell_type": "code",
      "source": [
        "train_coco[\"images\"][10]"
      ],
      "metadata": {
        "colab": {
          "base_uri": "https://localhost:8080/"
        },
        "id": "ZjpVp3RYH0Is",
        "outputId": "658713d2-183d-4d3a-e593-814bf91fb048"
      },
      "execution_count": null,
      "outputs": [
        {
          "output_type": "execute_result",
          "data": {
            "text/plain": [
              "{'class_id': 14,\n",
              " 'id': 10,\n",
              " 'image_id': '0021df30f3fddef551eb3df4354b1d06',\n",
              " 'rad_id': 'R8'}"
            ]
          },
          "metadata": {},
          "execution_count": 136
        }
      ]
    },
    {
      "cell_type": "code",
      "source": [
        "train_coco[\"categories\"][10]\n"
      ],
      "metadata": {
        "colab": {
          "base_uri": "https://localhost:8080/"
        },
        "id": "AyQru6RcFJBK",
        "outputId": "57c8acbe-c3b8-4f34-b586-20668e606609"
      },
      "execution_count": null,
      "outputs": [
        {
          "output_type": "execute_result",
          "data": {
            "text/plain": [
              "{'id': 10, 'name': 'Nodule/Mass', 'supercategory': 'Nodule/Mass'}"
            ]
          },
          "metadata": {},
          "execution_count": 137
        }
      ]
    },
    {
      "cell_type": "code",
      "source": [
        "train_coco[\"annotations\"][10]"
      ],
      "metadata": {
        "colab": {
          "base_uri": "https://localhost:8080/"
        },
        "id": "kZdAPiigH2MX",
        "outputId": "42f43221-eac7-4255-c7ce-0f6d0802d35e"
      },
      "execution_count": null,
      "outputs": [
        {
          "output_type": "execute_result",
          "data": {
            "text/plain": [
              "{'area': 57873.0,\n",
              " 'bbox': [600.0, 1332.0, 303.0, 191.0],\n",
              " 'category_id': 8,\n",
              " 'id': 10,\n",
              " 'image_id': 7244,\n",
              " 'iscrowd': 0,\n",
              " 'segmentation': []}"
            ]
          },
          "metadata": {},
          "execution_count": 138
        }
      ]
    },
    {
      "cell_type": "markdown",
      "source": [
        "##10) Hãy xây dựng thuật toán object detection để hỗ trợ bác sĩ chuẩn đoán bệnh. Để không phải download dữ liệu, bạn nên run một notebook trên kaggle và trích dẫn link sang bài làm của bạn."
      ],
      "metadata": {
        "id": "D5IlJxADRTYm"
      }
    },
    {
      "cell_type": "markdown",
      "source": [
        "https://www.kaggle.com/tranhau416/pytorch-fasterrcnn"
      ],
      "metadata": {
        "id": "waZFhDJNCd6t"
      }
    }
  ]
}