{
  "nbformat": 4,
  "nbformat_minor": 0,
  "metadata": {
    "colab": {
      "name": "7.HomeWork.ipynb",
      "provenance": [],
      "collapsed_sections": []
    },
    "kernelspec": {
      "name": "python3",
      "display_name": "Python 3"
    },
    "language_info": {
      "name": "python"
    }
  },
  "cells": [
    {
      "cell_type": "markdown",
      "source": [
        "# I. Lý thuyết\n",
        "\n",
        "1) Tại sao mô hình R-CNN lại có tốc độ xử lý chậm?\n",
        "\n",
        "A. Do R-CNN sử dụng các backbone rất nặng.\n",
        "\n",
        "B. Do các vùng region proposal được dự báo bounding box và phân loại nhãn một cách độc lập.\n",
        "\n",
        "C. Do thuật toán Selective Search là một phương pháp heuristic nên rất chậm \n",
        "\n",
        "D. Do mô hình tách biệt giữa dự báo bounding box và phân loại nhãn\n",
        "\n",
        "2) Chỉ số mAP trong các thuật toán object detection được tính toán theo cách nào ?\n",
        "\n",
        "A. Tính toán chỉ số AP trên từng category: Sắp xếp các Prediction Boxes của một category theo điểm số xác suất giảm dần. Thực hiện matching các Prediction Box với Ground Truth Box sao cho nếu IoU > 0.5 thì được xem là positive và trái lại là negative. Nếu Positive thì Precision sẽ có tử và mẫu cùng tăng lên 1 trong khi Recall có tử số tăng lên 1. Nếu Negative thì Precision có tử giữ nguyên và mẫu tăng lên 1 trong khi Recall không thay đổi. mAP bằng trung bình AP của toàn bộ các category.\n",
        "\n",
        "B. Tính toán chỉ số AP trên từng category: Sắp xếp các Prediction Boxes của một category theo điểm số xác suất giảm dần. Thực hiện matching các Prediction Box với Ground Truth Box sao cho nếu IoU > 0.5 thì được xem là positive và trái lại là negative. Nếu Positive thì Precision sẽ có tử số tăng lên 1 và mẫu giữ nguyên trong khi Recall có tử số tăng lên 1. Nếu Negative thì Precision có tử giữ nguyên và mẫu tăng lên 1 trong khi Recall không thay đổi. mAP bằng trung bình AP của toàn bộ các category.\n",
        "\n",
        "C. Tính toán chỉ số AP trên từng category: Sắp xếp các Prediction Boxes của một category theo điểm số xác suất giảm dần. Thực hiện matching các Prediction Box với Ground Truth Box sao cho nếu IoU > 0.5 thì được xem là positive và trái lại là negative. Nếu Positive thì Precision sẽ có tử và mẫu cùng tăng lên 1 trong khi Recall có tử giữ nguyên lên 1. Nếu Negative thì Precision có tử giữ nguyên và mẫu tăng lên 1 trong khi Recall không thay đổi. mAP bằng trung bình AP của toàn bộ các category.\n",
        "\n",
        "D. Tính toán chỉ số AP trên từng category: Sắp xếp các Prediction Boxes của một category theo điểm số xác suất giảm dần. Thực hiện matching các Prediction Box với Ground Truth Box sao cho nếu IoU > 0.5 thì được xem là positive và trái lại là negative. Nếu Positive thì Precision sẽ có tử và mẫu cùng tăng lên 1 trong khi Recall có tử số tăng lên 1. Nếu Negative thì Precision có tử giữ nguyên và mẫu tăng lên 1 trong khi Recall không thay đổi. Tính AP = diện tích dưới đường cong Precion Recall. mAP bằng trung bình AP của toàn bộ các category.\n",
        "\n",
        "3) Phương pháp Non Max Suppression sẽ làm gì để giảm thiểu số lượng các bounding box ?\n",
        "\n",
        "A. Dựa vào mức độ overlapping giữa các bounding box để loại bỏ những bounding box có mức độ chồng lấn nhau lớn.\n",
        "\n",
        "B. Dựa vào mức độ overlapping giữa các bounding box để loại bỏ những bounding box có mức độ chồng lấn nhau nhỏ.\n",
        "\n",
        "C. Dựa vào diện tích để loại bỏ các bounding box nhỏ dưới một ngưỡng cho trước.\n",
        "\n",
        "D. Dựa vào mức độ overlapping để giữ lại một bounding box có điểm số cao hơn nếu chúng chồng lấn nhau lớn.\n",
        "\n",
        "4) Trong mô hình Fast R-CNN chúng ta thêm một nhánh mạng RPN có tác dụng gì?\n",
        "\n",
        "A. Dự báo ra các vùng Region of Interest có khả năng cao chứa vật thể.\n",
        "\n",
        "B. Dự báo xác xuất cho toàn bộ các pixel nằm trên feature map.\n",
        " \n",
        "C. Dự báo bounding box và nhãn cho các vùng Region of Interest có khả năng cao chứa vật thể.\n",
        "\n",
        "D. Điều chỉnh lại kích thước của các bounding box từ anchor box.\n",
        "\n",
        "5) Anchor Box là gì?\n",
        "\n",
        "A. Là những hình chữ nhật giúp xác định vị trí của vật thể\n",
        "\n",
        "B. Là những hình chữ nhật với kích thước xác định trước gắn liền với một pixel để làm cơ sở điều chỉnh phần bù (offset) của các tọa độ nhằm dự báo bounding box.\n",
        "\n",
        "C. Là những hình chữ nhật phác thảo hình dạng của bounding box cần dự báo.\n",
        "\n",
        "D. Là hình chữ nhật gắn liền với một pixel để làm cơ sở dự báo bounding box."
      ],
      "metadata": {
        "id": "ZzMQa4CcG3aL"
      }
    },
    {
      "cell_type": "markdown",
      "source": [
        "# II. Thực hành \n",
        "\n",
        "Các câu bên dưới qui ước chung bounding box đều có tọa độ là (x, y, w, h) lần lượt tương ứng với (x, y) là điểm top-left và (w, h) là kích thước chiều rộng và cao.\n",
        "\n",
        "6) Xây dựng hàm tính toán IoU giữa hai bounding box.\n",
        "\n",
        "7) Giả sử các bounding box dự báo cho một category có tọa độ lần lượt là:\n",
        "\n",
        "[10, 10, 50, 20], [15, 15, 55, 25], [50, 20, 20, 25], [20, 50, 20, 50], [30, 20, 10, 10]\n",
        "\n",
        "Các bounding box ground truth lần lượt là:\n",
        "\n",
        "[10, 10, 45, 25], [45, 20, 20, 25], [30, 25, 10, 10]\n",
        "\n",
        "Hãy thực hiện vẽ đường cong Precision Recall curve và xây dựng thuật toán tính giá trị AP.\n",
        "\n",
        "8) Thực hiện visualize các anchor box có tỷ lệ aspect ratio (tỷ lệ width/height) lần lượt là 1, 2, 1/2 trên một feature map kích thước 20 x 20\n",
        "\n",
        "9) Từ bộ dữ liệu [Vinbigdata-chest-xray](https://www.kaggle.com/c/vinbigdata-chest-xray-abnormalities-detection/data) bao gồm các tọa độ bounding box của 14 nhãn của các loại bệnh khác nhau được chuẩn đoán trên ảnh chụp chest X-ray. Thực hiện biến đổi file dữ liệu train.csv sang định dạng COCO json format. Chi tiết mô tả về dữ liệu bạn đọc ở tab data link trên.\n",
        "\n",
        "10) Hãy xây dựng thuật toán object detection để  hỗ trợ bác sĩ chuẩn đoán bệnh. Để không phải download dữ liệu, bạn nên run một notebook trên kaggle và trích dẫn link sang bài làm của bạn."
      ],
      "metadata": {
        "id": "r1NG3Z0HH_IP"
      }
    }
  ]
}