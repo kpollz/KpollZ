{
  "nbformat": 4,
  "nbformat_minor": 0,
  "metadata": {
    "colab": {
      "name": "3.PytorchHomeWork_NguyenVietLong.ipynb",
      "provenance": [],
      "collapsed_sections": []
    },
    "kernelspec": {
      "name": "python3",
      "display_name": "Python 3"
    },
    "language_info": {
      "name": "python"
    }
  },
  "cells": [
    {
      "cell_type": "markdown",
      "source": [
        "# 1. Lý thuyết\n",
        "\n",
        "**1) Để khởi tạo model trong pytorch chúng ta sử dụng class nào?**\n",
        "\n",
        "A. nn.Module\n",
        "\n",
        "B. nn.Dense\n",
        "\n",
        "C. nn.optim.Adam\n",
        "\n",
        "D. nn.Dropout\n",
        "\n",
        "**2) Để khởi tạo mạng neural network trong pytorch chúng ta cần làm gì ?**\n",
        "\n",
        "A. Kế thừa lại class `nn.Model`. Khởi tạo các layers trong hàm tạo `__init__()` và sử dụng các layers để tính toán dữ liệu trong hàm `forward()`.\n",
        "\n",
        "B. Khởi tạo một object của class `nn.Model` và sử dụng hàm `add()` để thêm từng layer vào mô hình.\n",
        "\n",
        "C. Sử dụng class `nn.Model` để khởi tạo mô hình. Truyền vào bên trong class này một list gồm các layers.\n",
        "\n",
        "D. Kế thừa lại class `nn.Module`. Khởi tạo các layers trong hàm tạo `__init__()` và sử dụng các layers để tính toán dữ liệu trong hàm `forward()`.\n",
        "\n",
        "\n",
        "**3) Các modules chính trong pytorch dùng để xây dựng và huấn luyện model.**\n",
        "\n",
        "A. `torch.nn`: Dùng để khởi tạo các layers và activations function và loss function, `torch.optim`: Khởi tạo optimizer, `torch.data`: Khởi tạo dataset và dataloader.\n",
        "\n",
        "B. `torch.nn`: Dùng để khởi tạo các layers và activations function và loss function, `torch.optim`: Khởi tạo optimizer, `torch.utils.data`: Khởi tạo dataset và dataloader.\n",
        "\n",
        "C. `torch.nn`: Dùng để khởi tạo các layers và activations function, `torch.optim`: Khởi tạo optimizer, `torch.data`: Khởi tạo dataset và dataloader, `torch.loss`: Khởi tạo loss function.\n",
        "\n",
        "D. `torch.nn`: Dùng để khởi tạo các layers và loss function, `torch.optim`: Khởi tạo optimizer, `torch.data`: Khởi tạo dataset và dataloader, `torch.activations`: Khởi tạo activations function.\n",
        "\n",
        "\n",
        "**4) Để customize một Dataset trên pytorch chúng ta cần thực hiện như thế nào?**\n",
        "\n",
        "A. Sử dụng thuộc tính `transformer` để qui định các biến đổi trên dữ liệu. Những biến đổi này được thực hiện trên hàm tạo.\n",
        "\n",
        "B. Khởi tạo một class kế thừa lại `torch.utils.data.Dataset`. Khai báo các thuộc tính cần sử dụng trong hàm tạo của dataset như list đường dẫn, list label. Override lại hàm `__getitem__()` để thực hiện các xử lý trên dữ liệu.\n",
        "\n",
        "C. Kế thừa lại một class `Dataset`. Các điều chỉnh trên dữ liệu được thực hiện trên hàm `transformer()`.\n",
        "\n",
        "D. Sử dụng hàm `__getitem__()` để trả về toàn bộ các quan sát khi huấn luyện. \n",
        "\n",
        "**5) Ý nghĩa của tham số epochs và batch_size trong huấn luyện mô hình là gì?**\n",
        "\n",
        "A. epochs là kích thước của một mini-batch, batch_size là số lượt lặp lại toàn bộ dữ liệu khi huấn luyện.\n",
        "\n",
        "B. epochs là số lượt lặp lại toàn bộ dữ liệu validation khi huấn luyện, batch_size là kích thước của một mini-batch.\n",
        "\n",
        "C. epochs là số lượt lặp lại toàn bộ dữ liệu train khi huấn luyện, batch_size là kích thước của một mini-batch.\n",
        "\n",
        "D. epochs là số lượng vòng lặp, mỗi vòng lặp là một lượt fit mini-batch, trên bộ dữ liệu khi huấn luyện; batch_size là kích thước của một mini-batch."
      ],
      "metadata": {
        "id": "DUXbtwUsAGPq"
      }
    },
    {
      "cell_type": "markdown",
      "source": [
        "# 2. Thực hành\n",
        "\n",
        "6) Khởi tạo một tensor 3 chiều với định dạng là float và kích thước là 32x32x3\n",
        "\n",
        "7) Nếu coi tensor trên là một bức ảnh RGB với số channel là 3 ở cuối. Hãy truy suất các ma trận ảnh tương ứng với mỗi kênh R, G, B.\n",
        "\n",
        "8) Thực hiện tích hadamard và tích thông thường giữa ma trận R và G.\n",
        "\n",
        "9) Từ bộ dữ liệu [Income-Classification](https://www.kaggle.com/t/090688c8d33a40b68be9e271d6ba6bae) hãy chuẩn hóa dữ liệu và phân chia tập train/test theo tỷ lệ 80/20. \n",
        "\n",
        "10) Xây dựng một mạng deep-neural-network để huấn luyện mô hình trên dữ liệu train và đánh giá mô hình trên dữ liệu test.\n"
      ],
      "metadata": {
        "id": "LzLjMsckAJAT"
      }
    },
    {
      "cell_type": "markdown",
      "source": [
        "# 1. Lý thuyết\n",
        "1) A\n",
        "2) D\n",
        "3) B\n",
        "4) B\n",
        "5) C"
      ],
      "metadata": {
        "id": "xTVjSa8RVpnI"
      }
    },
    {
      "cell_type": "markdown",
      "source": [
        "# 2. Thực hành"
      ],
      "metadata": {
        "id": "QrVbabRUchIW"
      }
    },
    {
      "cell_type": "code",
      "source": [
        "from google.colab import drive\n",
        "import os\n",
        "\n",
        "drive.mount(\"/content/gdrive\")\n",
        "os.chdir(\"gdrive/MyDrive/Colab Notebooks/KhanhML\")\n",
        "print(os.getcwd())"
      ],
      "metadata": {
        "colab": {
          "base_uri": "https://localhost:8080/"
        },
        "id": "yXA0m3WZSmWu",
        "outputId": "459a80bf-74e5-4238-b6a3-86bcc40f0eb3"
      },
      "execution_count": null,
      "outputs": [
        {
          "output_type": "stream",
          "name": "stdout",
          "text": [
            "Mounted at /content/gdrive\n",
            "/content/gdrive/MyDrive/Colab Notebooks/KhanhML\n"
          ]
        }
      ]
    },
    {
      "cell_type": "code",
      "source": [
        "import torch\n",
        "import numpy as np\n",
        "import pandas as pd\n",
        "import torch.nn as nn\n",
        "import torch.utils.data as td"
      ],
      "metadata": {
        "id": "kFlZYyVLSmZL"
      },
      "execution_count": null,
      "outputs": []
    },
    {
      "cell_type": "code",
      "source": [
        "# 6\n",
        "torch_obj = torch.tensor(np.arange(0, 3072).reshape(32,32,3))\n",
        "print(torch_obj.shape)"
      ],
      "metadata": {
        "colab": {
          "base_uri": "https://localhost:8080/"
        },
        "id": "EmsYT2zGdgSN",
        "outputId": "2e649acf-4e5c-4693-b07e-ef04cb5bd42a"
      },
      "execution_count": null,
      "outputs": [
        {
          "output_type": "stream",
          "name": "stdout",
          "text": [
            "torch.Size([32, 32, 3])\n"
          ]
        }
      ]
    },
    {
      "cell_type": "code",
      "source": [
        "#7 \n",
        "R = torch_obj[:,:,0]\n",
        "G = torch_obj[:,:,1]\n",
        "B = torch_obj[:,:,2]"
      ],
      "metadata": {
        "id": "S6in_ioWeGeP"
      },
      "execution_count": null,
      "outputs": []
    },
    {
      "cell_type": "code",
      "source": [
        "#8 \n",
        "hadamard = torch.mul(R, G)\n",
        "print(hadamard.shape)\n",
        "hadamard"
      ],
      "metadata": {
        "colab": {
          "base_uri": "https://localhost:8080/"
        },
        "id": "Hndz1-WUdgUt",
        "outputId": "af3c6f3a-6b35-476b-eb1e-8fee7b144c64"
      },
      "execution_count": null,
      "outputs": [
        {
          "output_type": "stream",
          "name": "stdout",
          "text": [
            "torch.Size([32, 32])\n"
          ]
        },
        {
          "output_type": "execute_result",
          "data": {
            "text/plain": [
              "tensor([[      0,      12,      42,  ...,    7656,    8190,    8742],\n",
              "        [   9312,    9900,   10506,  ...,   33672,   34782,   35910],\n",
              "        [  37056,   38220,   39402,  ...,   78120,   79806,   81510],\n",
              "        ...,\n",
              "        [7753440, 7770156, 7786890,  ..., 8245512, 8262750, 8280006],\n",
              "        [8297280, 8314572, 8331882,  ..., 8806056, 8823870, 8841702],\n",
              "        [8859552, 8877420, 8895306,  ..., 9385032, 9403422, 9421830]])"
            ]
          },
          "metadata": {},
          "execution_count": 7
        }
      ]
    },
    {
      "cell_type": "code",
      "source": [
        "#9\n",
        "from sklearn.model_selection import train_test_split\n",
        "from sklearn.preprocessing import MinMaxScaler, StandardScaler\n",
        "\n",
        "train  = pd.read_csv(\"/content/gdrive/MyDrive/Colab Notebooks/KhanhML/train_income.csv\")\n",
        "\n",
        "def one_hot_categorical_features(df, cat_features):\n",
        "    df_new=pd.get_dummies(df, columns=cat_features)\n",
        "    return df_new\n",
        "\n",
        "def preprocess_data(data, continuous_feat, categorical_feat, income_feat):\n",
        "    scaler=StandardScaler()\n",
        "    data = data[continuous_feat+categorical_feat+income_feat]\n",
        "    for col in data.columns:\n",
        "        data[col].replace(\"?\", np.nan, inplace=True)\n",
        "        \n",
        "        if col in continuous_feat:\n",
        "            data[col] = scaler.fit_transform(np.array(data[col]).reshape(-1,1))      \n",
        "    return data"
      ],
      "metadata": {
        "id": "6Jxy5mUuhcCR"
      },
      "execution_count": null,
      "outputs": []
    },
    {
      "cell_type": "code",
      "source": [
        "## Process\n",
        "categorical_feat = ['work_type','education','marital_state','job','status','ethnicity','sex','nationality']\n",
        "continuous_feat = ['age','final_weight','total_education_yrs','capital_gain','capital_loss','hrs_per_week']\n",
        "\n",
        "train_process = preprocess_data(train.iloc[:,1:],continuous_feat,categorical_feat,['target_income'])\n",
        "train_process = one_hot_categorical_features(train_process,categorical_feat)"
      ],
      "metadata": {
        "colab": {
          "base_uri": "https://localhost:8080/"
        },
        "id": "yrbiCt7xjdB4",
        "outputId": "61b7b3b8-f287-4348-faa5-0e1fb048ca62"
      },
      "execution_count": null,
      "outputs": [
        {
          "output_type": "stream",
          "name": "stderr",
          "text": [
            "/usr/local/lib/python3.7/dist-packages/pandas/core/generic.py:6619: SettingWithCopyWarning: \n",
            "A value is trying to be set on a copy of a slice from a DataFrame\n",
            "\n",
            "See the caveats in the documentation: https://pandas.pydata.org/pandas-docs/stable/user_guide/indexing.html#returning-a-view-versus-a-copy\n",
            "  return self._update_inplace(result)\n"
          ]
        }
      ]
    },
    {
      "cell_type": "code",
      "source": [
        "label = 'target_income'\n",
        "features = [i for i in train_process.columns if 'target_income' not in i]\n",
        "x_train, x_test, y_train, y_test = train_test_split(train_process[features].values, # input variable\n",
        "                                                    train_process[label].values, # output variable\n",
        "                                                    test_size=0.20, # test dataset proportion\n",
        "                                                    stratify=train_process['target_income'], # assign equal proportion of target label in train/test \n",
        "                                                    random_state=0) # keep train/test split the same if run again. "
      ],
      "metadata": {
        "id": "N9mZpEnSjho0"
      },
      "execution_count": null,
      "outputs": []
    },
    {
      "cell_type": "code",
      "source": [
        "#10\n",
        "torch.manual_seed(0)\n",
        "\n",
        "# Create a dataset and loader for the training data and labels\n",
        "train_x = torch.Tensor(x_train).float()\n",
        "train_y = torch.Tensor(y_train).long()\n",
        "train_ds = td.TensorDataset(train_x,train_y)\n",
        "train_loader = td.DataLoader(train_ds, batch_size=20,\n",
        "    shuffle=True, num_workers=1)\n",
        "\n",
        "# Create a dataset and loader for the test data and labels\n",
        "test_x = torch.Tensor(x_test).float()\n",
        "test_y = torch.Tensor(y_test).long()\n",
        "test_ds = td.TensorDataset(test_x,test_y)\n",
        "test_loader = td.DataLoader(test_ds, batch_size=20,\n",
        "    shuffle=False, num_workers=1)\n",
        "print('Ready to load data')"
      ],
      "metadata": {
        "colab": {
          "base_uri": "https://localhost:8080/"
        },
        "id": "h2kyPq5_jpOf",
        "outputId": "d334f96c-9584-49a4-f329-9725d20a14ec"
      },
      "execution_count": null,
      "outputs": [
        {
          "output_type": "stream",
          "name": "stdout",
          "text": [
            "Ready to load data\n"
          ]
        }
      ]
    },
    {
      "cell_type": "code",
      "source": [
        "features = [i for i in train_process.columns if 'target_income' not in i]\n",
        "label = ['target_income']"
      ],
      "metadata": {
        "id": "p8nNcObUl2kn"
      },
      "execution_count": null,
      "outputs": []
    },
    {
      "cell_type": "code",
      "source": [
        "hl = 10\n",
        "class Income(nn.Module):\n",
        "    def __init__(self):\n",
        "        super(Income, self).__init__()\n",
        "        self.fc1 = nn.Linear(len(features), hl)\n",
        "        self.fc2 = nn.Sigmoid()\n",
        "        self.fc3 = nn.Sigmoid()\n",
        "\n",
        "    def forward(self, x):\n",
        "        x = torch.relu(self.fc1(x))\n",
        "        x = torch.sigmoid(self.fc2(x))\n",
        "        x = torch.sigmoid(self.fc3(x))\n",
        "        return x\n",
        "\n",
        "# Create a model instance from the network\n",
        "model = Income()\n",
        "print(model)"
      ],
      "metadata": {
        "colab": {
          "base_uri": "https://localhost:8080/"
        },
        "id": "o5WxzwBvlmeq",
        "outputId": "2d9dba78-fae8-451e-b6fc-89a9ed0dfb96"
      },
      "execution_count": null,
      "outputs": [
        {
          "output_type": "stream",
          "name": "stdout",
          "text": [
            "Income(\n",
            "  (fc1): Linear(in_features=105, out_features=10, bias=True)\n",
            "  (fc2): Sigmoid()\n",
            "  (fc3): Sigmoid()\n",
            ")\n"
          ]
        }
      ]
    },
    {
      "cell_type": "code",
      "source": [
        "def train(model, data_loader, optimizer):\n",
        "    # Set the model to training mode\n",
        "    model.train()\n",
        "    train_loss = 0\n",
        "    \n",
        "    for batch, tensor in enumerate(data_loader):\n",
        "        data, target = tensor\n",
        "        #feedforward: calculate y_pred and loss function\n",
        "        optimizer.zero_grad()\n",
        "        out = model(data)\n",
        "        loss = loss_criteria(out, target)\n",
        "        train_loss += loss.item()\n",
        "\n",
        "        # backpropagate: compute gradient descent and update weights\n",
        "        loss.backward()\n",
        "        optimizer.step()\n",
        "\n",
        "    #Return average loss\n",
        "    avg_loss = train_loss / (batch+1)\n",
        "    print('Training set: Average loss: {:.6f}'.format(avg_loss))\n",
        "    return avg_loss\n",
        "           \n",
        "            \n",
        "def test(model, data_loader):\n",
        "    # Switch the model to evaluation mode (so we don't backpropagate)\n",
        "    model.eval()\n",
        "    test_loss = 0\n",
        "    correct = 0\n",
        "\n",
        "    with torch.no_grad():\n",
        "        batch_count = 0\n",
        "        for batch, tensor in enumerate(data_loader):\n",
        "            batch_count += 1\n",
        "            data, target = tensor\n",
        "            # Get the predictions\n",
        "            out = model(data)\n",
        "\n",
        "            # calculate the loss\n",
        "            test_loss += loss_criteria(out, target).item()\n",
        "\n",
        "            # Calculate the accuracy\n",
        "            _, predicted = torch.max(out.data, 1)\n",
        "            correct += torch.sum(target==predicted).item()\n",
        "            \n",
        "    # Calculate the average loss and total accuracy for this epoch\n",
        "    avg_loss = test_loss/batch_count\n",
        "    print('Validation set: Average loss: {:.6f}, Accuracy: {}/{} ({:.0f}%)\\n'.format(\n",
        "        avg_loss, correct, len(data_loader.dataset),\n",
        "        100. * correct / len(data_loader.dataset)))\n",
        "    \n",
        "    # return average loss for the epoch\n",
        "    return avg_loss\n",
        "\n",
        "# Specify the loss criteria (we'll use CrossEntropyLoss for multi-class classification)\n",
        "loss_criteria = nn.CrossEntropyLoss()\n",
        "\n",
        "# (see https://pytorch.org/docs/stable/optim.html#algorithms for details of supported algorithms)\n",
        "learning_rate = 0.001\n",
        "optimizer = torch.optim.Adam(model.parameters(), lr=learning_rate)\n",
        "optimizer.zero_grad()\n",
        "\n",
        "# We'll track metrics for each epoch in these arrays\n",
        "epoch_nums = []\n",
        "training_loss = []\n",
        "validation_loss = []\n",
        "\n",
        "# Train over 50 epochs\n",
        "epochs = 50\n",
        "for epoch in range(1, epochs + 1):\n",
        "\n",
        "    # print the epoch number\n",
        "    print('Epoch: {}'.format(epoch))\n",
        "    \n",
        "    # Feed training data into the model to optimize the weights\n",
        "    train_loss = train(model, train_loader, optimizer)\n",
        "    \n",
        "    # Feed the test data into the model to check its performance\n",
        "    test_loss = test(model, test_loader)\n",
        "    \n",
        "    # Log the metrics for this epoch\n",
        "    epoch_nums.append(epoch)\n",
        "    training_loss.append(train_loss)\n",
        "    validation_loss.append(test_loss)\n"
      ],
      "metadata": {
        "colab": {
          "base_uri": "https://localhost:8080/"
        },
        "id": "96qdtQRkqc7q",
        "outputId": "ea8216e9-51e6-4ae6-cba2-f10cf51a78ca"
      },
      "execution_count": null,
      "outputs": [
        {
          "output_type": "stream",
          "name": "stdout",
          "text": [
            "Epoch: 1\n",
            "Training set: Average loss: 2.299074\n",
            "Validation set: Average loss: 2.298254, Accuracy: 4158/5000 (83%)\n",
            "\n",
            "Epoch: 2\n",
            "Training set: Average loss: 2.298171\n",
            "Validation set: Average loss: 2.298117, Accuracy: 4149/5000 (83%)\n",
            "\n",
            "Epoch: 3\n",
            "Training set: Average loss: 2.298096\n",
            "Validation set: Average loss: 2.298076, Accuracy: 4146/5000 (83%)\n",
            "\n",
            "Epoch: 4\n",
            "Training set: Average loss: 2.298068\n",
            "Validation set: Average loss: 2.298058, Accuracy: 4143/5000 (83%)\n",
            "\n",
            "Epoch: 5\n",
            "Training set: Average loss: 2.298054\n",
            "Validation set: Average loss: 2.298048, Accuracy: 4122/5000 (82%)\n",
            "\n",
            "Epoch: 6\n",
            "Training set: Average loss: 2.298045\n",
            "Validation set: Average loss: 2.298041, Accuracy: 4116/5000 (82%)\n",
            "\n",
            "Epoch: 7\n",
            "Training set: Average loss: 2.298040\n",
            "Validation set: Average loss: 2.298036, Accuracy: 4095/5000 (82%)\n",
            "\n",
            "Epoch: 8\n",
            "Training set: Average loss: 2.298036\n",
            "Validation set: Average loss: 2.298033, Accuracy: 4089/5000 (82%)\n",
            "\n",
            "Epoch: 9\n",
            "Training set: Average loss: 2.298033\n",
            "Validation set: Average loss: 2.298031, Accuracy: 4079/5000 (82%)\n",
            "\n",
            "Epoch: 10\n",
            "Training set: Average loss: 2.298031\n",
            "Validation set: Average loss: 2.298029, Accuracy: 4048/5000 (81%)\n",
            "\n",
            "Epoch: 11\n",
            "Training set: Average loss: 2.298029\n",
            "Validation set: Average loss: 2.298028, Accuracy: 4038/5000 (81%)\n",
            "\n",
            "Epoch: 12\n",
            "Training set: Average loss: 2.298027\n",
            "Validation set: Average loss: 2.298026, Accuracy: 4013/5000 (80%)\n",
            "\n",
            "Epoch: 13\n",
            "Training set: Average loss: 2.298026\n",
            "Validation set: Average loss: 2.298025, Accuracy: 3998/5000 (80%)\n",
            "\n",
            "Epoch: 14\n",
            "Training set: Average loss: 2.298024\n",
            "Validation set: Average loss: 2.298025, Accuracy: 3996/5000 (80%)\n",
            "\n",
            "Epoch: 15\n",
            "Training set: Average loss: 2.298023\n",
            "Validation set: Average loss: 2.298024, Accuracy: 3986/5000 (80%)\n",
            "\n",
            "Epoch: 16\n",
            "Training set: Average loss: 2.298022\n",
            "Validation set: Average loss: 2.298024, Accuracy: 3978/5000 (80%)\n",
            "\n",
            "Epoch: 17\n",
            "Training set: Average loss: 2.298022\n",
            "Validation set: Average loss: 2.298023, Accuracy: 3967/5000 (79%)\n",
            "\n",
            "Epoch: 18\n",
            "Training set: Average loss: 2.298021\n",
            "Validation set: Average loss: 2.298023, Accuracy: 3945/5000 (79%)\n",
            "\n",
            "Epoch: 19\n",
            "Training set: Average loss: 2.298020\n",
            "Validation set: Average loss: 2.298023, Accuracy: 3951/5000 (79%)\n",
            "\n",
            "Epoch: 20\n",
            "Training set: Average loss: 2.298020\n",
            "Validation set: Average loss: 2.298022, Accuracy: 3935/5000 (79%)\n",
            "\n",
            "Epoch: 21\n",
            "Training set: Average loss: 2.298019\n",
            "Validation set: Average loss: 2.298022, Accuracy: 3931/5000 (79%)\n",
            "\n",
            "Epoch: 22\n",
            "Training set: Average loss: 2.298019\n",
            "Validation set: Average loss: 2.298022, Accuracy: 3923/5000 (78%)\n",
            "\n",
            "Epoch: 23\n",
            "Training set: Average loss: 2.298019\n",
            "Validation set: Average loss: 2.298021, Accuracy: 3925/5000 (78%)\n",
            "\n",
            "Epoch: 24\n",
            "Training set: Average loss: 2.298018\n",
            "Validation set: Average loss: 2.298021, Accuracy: 3921/5000 (78%)\n",
            "\n",
            "Epoch: 25\n",
            "Training set: Average loss: 2.298018\n",
            "Validation set: Average loss: 2.298021, Accuracy: 3916/5000 (78%)\n",
            "\n",
            "Epoch: 26\n",
            "Training set: Average loss: 2.298018\n",
            "Validation set: Average loss: 2.298021, Accuracy: 3916/5000 (78%)\n",
            "\n",
            "Epoch: 27\n",
            "Training set: Average loss: 2.298017\n",
            "Validation set: Average loss: 2.298021, Accuracy: 3917/5000 (78%)\n",
            "\n",
            "Epoch: 28\n",
            "Training set: Average loss: 2.298017\n",
            "Validation set: Average loss: 2.298021, Accuracy: 3924/5000 (78%)\n",
            "\n",
            "Epoch: 29\n",
            "Training set: Average loss: 2.298017\n",
            "Validation set: Average loss: 2.298020, Accuracy: 3929/5000 (79%)\n",
            "\n",
            "Epoch: 30\n",
            "Training set: Average loss: 2.298016\n",
            "Validation set: Average loss: 2.298020, Accuracy: 3927/5000 (79%)\n",
            "\n",
            "Epoch: 31\n",
            "Training set: Average loss: 2.298016\n",
            "Validation set: Average loss: 2.298020, Accuracy: 3925/5000 (78%)\n",
            "\n",
            "Epoch: 32\n",
            "Training set: Average loss: 2.298016\n",
            "Validation set: Average loss: 2.298020, Accuracy: 3928/5000 (79%)\n",
            "\n",
            "Epoch: 33\n",
            "Training set: Average loss: 2.298016\n",
            "Validation set: Average loss: 2.298020, Accuracy: 3929/5000 (79%)\n",
            "\n",
            "Epoch: 34\n",
            "Training set: Average loss: 2.298015\n",
            "Validation set: Average loss: 2.298020, Accuracy: 3930/5000 (79%)\n",
            "\n",
            "Epoch: 35\n",
            "Training set: Average loss: 2.298015\n",
            "Validation set: Average loss: 2.298020, Accuracy: 3930/5000 (79%)\n",
            "\n",
            "Epoch: 36\n",
            "Training set: Average loss: 2.298015\n",
            "Validation set: Average loss: 2.298020, Accuracy: 3931/5000 (79%)\n",
            "\n",
            "Epoch: 37\n",
            "Training set: Average loss: 2.298015\n",
            "Validation set: Average loss: 2.298020, Accuracy: 3933/5000 (79%)\n",
            "\n",
            "Epoch: 38\n",
            "Training set: Average loss: 2.298014\n",
            "Validation set: Average loss: 2.298019, Accuracy: 3931/5000 (79%)\n",
            "\n",
            "Epoch: 39\n",
            "Training set: Average loss: 2.298014\n",
            "Validation set: Average loss: 2.298020, Accuracy: 3934/5000 (79%)\n",
            "\n",
            "Epoch: 40\n",
            "Training set: Average loss: 2.298014\n",
            "Validation set: Average loss: 2.298020, Accuracy: 3931/5000 (79%)\n",
            "\n",
            "Epoch: 41\n",
            "Training set: Average loss: 2.298014\n",
            "Validation set: Average loss: 2.298019, Accuracy: 3938/5000 (79%)\n",
            "\n",
            "Epoch: 42\n",
            "Training set: Average loss: 2.298014\n",
            "Validation set: Average loss: 2.298019, Accuracy: 3940/5000 (79%)\n",
            "\n",
            "Epoch: 43\n",
            "Training set: Average loss: 2.298013\n",
            "Validation set: Average loss: 2.298019, Accuracy: 3943/5000 (79%)\n",
            "\n",
            "Epoch: 44\n",
            "Training set: Average loss: 2.298013\n",
            "Validation set: Average loss: 2.298019, Accuracy: 3942/5000 (79%)\n",
            "\n",
            "Epoch: 45\n",
            "Training set: Average loss: 2.298013\n",
            "Validation set: Average loss: 2.298019, Accuracy: 3948/5000 (79%)\n",
            "\n",
            "Epoch: 46\n",
            "Training set: Average loss: 2.298013\n",
            "Validation set: Average loss: 2.298019, Accuracy: 3955/5000 (79%)\n",
            "\n",
            "Epoch: 47\n",
            "Training set: Average loss: 2.298013\n",
            "Validation set: Average loss: 2.298019, Accuracy: 3956/5000 (79%)\n",
            "\n",
            "Epoch: 48\n",
            "Training set: Average loss: 2.298013\n",
            "Validation set: Average loss: 2.298020, Accuracy: 3955/5000 (79%)\n",
            "\n",
            "Epoch: 49\n",
            "Training set: Average loss: 2.298013\n",
            "Validation set: Average loss: 2.298019, Accuracy: 3965/5000 (79%)\n",
            "\n",
            "Epoch: 50\n",
            "Training set: Average loss: 2.298012\n",
            "Validation set: Average loss: 2.298019, Accuracy: 3965/5000 (79%)\n",
            "\n"
          ]
        }
      ]
    },
    {
      "cell_type": "code",
      "source": [
        "from sklearn.metrics import confusion_matrix\n",
        "%matplotlib inline\n",
        "from matplotlib import pyplot as plt\n",
        "\n",
        "# Set the model to evaluate mode\n",
        "model.eval()\n",
        "\n",
        "# Get predictions for the test data\n",
        "x = torch.Tensor(x_test).float()\n",
        "_, predicted = torch.max(model(x).data, 1)\n",
        "\n",
        "# Plot the confusion matrix\n",
        "cm = confusion_matrix(y_test, predicted.numpy())\n",
        "plt.imshow(cm, interpolation=\"nearest\", cmap=plt.cm.Blues)\n",
        "plt.colorbar()\n",
        "# tick_marks = np.arange(len(label))\n",
        "# plt.xticks(tick_marks, label, rotation=45)\n",
        "# plt.yticks(tick_marks, label)\n",
        "plt.xlabel(\"Predicted Species\")\n",
        "plt.ylabel(\"Actual Species\")\n",
        "# plt.show()"
      ],
      "metadata": {
        "colab": {
          "base_uri": "https://localhost:8080/",
          "height": 301
        },
        "id": "9dOG9V2dwSqP",
        "outputId": "3a040556-b04e-4b0a-d1ee-61372b8c6e80"
      },
      "execution_count": null,
      "outputs": [
        {
          "output_type": "execute_result",
          "data": {
            "text/plain": [
              "Text(0, 0.5, 'Actual Species')"
            ]
          },
          "metadata": {},
          "execution_count": 34
        },
        {
          "output_type": "display_data",
          "data": {
            "image/png": "[encoded data removed]",
            "text/plain": [
              "<Figure size 432x288 with 2 Axes>"
            ]
          },
          "metadata": {
            "needs_background": "light"
          }
        }
      ]
    },
    {
      "cell_type": "code",
      "source": [
        "from sklearn.metrics import confusion_matrix, ConfusionMatrixDisplay\n",
        "\n",
        "disp = ConfusionMatrixDisplay(confusion_matrix=cm)\n",
        "disp.plot()\n",
        "plt.show()"
      ],
      "metadata": {
        "colab": {
          "base_uri": "https://localhost:8080/",
          "height": 279
        },
        "id": "mGtgzCsxw1E-",
        "outputId": "5854d442-17e7-48e7-aa15-30a95dac76a0"
      },
      "execution_count": null,
      "outputs": [
        {
          "output_type": "display_data",
          "data": {
            "image/png": "[encoded data removed]",
            "text/plain": [
              "<Figure size 432x288 with 2 Axes>"
            ]
          },
          "metadata": {
            "needs_background": "light"
          }
        }
      ]
    },
    {
      "cell_type": "code",
      "source": [
        "test_y.sum()"
      ],
      "metadata": {
        "colab": {
          "base_uri": "https://localhost:8080/"
        },
        "id": "tDCPN-xt0by0",
        "outputId": "b97e9bd3-dce9-4767-8e00-7a0a22fd85a5"
      },
      "execution_count": null,
      "outputs": [
        {
          "output_type": "execute_result",
          "data": {
            "text/plain": [
              "tensor(1197)"
            ]
          },
          "metadata": {},
          "execution_count": 42
        }
      ]
    }
  ]
}