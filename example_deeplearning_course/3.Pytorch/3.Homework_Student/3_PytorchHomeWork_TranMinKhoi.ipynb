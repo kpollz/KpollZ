{
  "nbformat": 4,
  "nbformat_minor": 0,
  "metadata": {
    "colab": {
      "name": "3.PytorchHomeWork_TranMinKhoi.ipynb",
      "provenance": [],
      "collapsed_sections": []
    },
    "kernelspec": {
      "name": "python3",
      "display_name": "Python 3"
    },
    "language_info": {
      "name": "python"
    },
    "accelerator": "GPU"
  },
  "cells": [
    {
      "cell_type": "markdown",
      "source": [
        "# 1. Lý thuyết\n",
        "\n",
        "**1) Để khởi tạo model trong pytorch chúng ta sử dụng class nào?**\n",
        "\n",
        "A. nn.Module\n",
        "\n",
        "B. nn.Dense\n",
        "\n",
        "C. nn.optim.Adam\n",
        "\n",
        "D. nn.Dropout\n",
        "\n",
        "**2) Để khởi tạo mạng neural network trong pytorch chúng ta cần làm gì ?**\n",
        "\n",
        "A. Kế thừa lại class `nn.Model`. Khởi tạo các layers trong hàm tạo `__init__()` và sử dụng các layers để tính toán dữ liệu trong hàm `forward()`.\n",
        "\n",
        "B. Khởi tạo một object của class `nn.Model` và sử dụng hàm `add()` để thêm từng layer vào mô hình.\n",
        "\n",
        "C. Sử dụng class `nn.Model` để khởi tạo mô hình. Truyền vào bên trong class này một list gồm các layers.\n",
        "\n",
        "D. Kế thừa lại class `nn.Module`. Khởi tạo các layers trong hàm tạo `__init__()` và sử dụng các layers để tính toán dữ liệu trong hàm `forward()`.\n",
        "\n",
        "\n",
        "**3) Các modules chính trong pytorch dùng để xây dựng và huấn luyện model.**\n",
        "\n",
        "A. `torch.nn`: Dùng để khởi tạo các layers và activations function và loss function, `torch.optim`: Khởi tạo optimizer, `torch.data`: Khởi tạo dataset và dataloader.\n",
        "\n",
        "B. `torch.nn`: Dùng để khởi tạo các layers và activations function và loss function, `torch.optim`: Khởi tạo optimizer, `torch.utils.data`: Khởi tạo dataset và dataloader.\n",
        "\n",
        "C. `torch.nn`: Dùng để khởi tạo các layers và activations function, `torch.optim`: Khởi tạo optimizer, `torch.data`: Khởi tạo dataset và dataloader, `torch.loss`: Khởi tạo loss function.\n",
        "\n",
        "D. `torch.nn`: Dùng để khởi tạo các layers và loss function, `torch.optim`: Khởi tạo optimizer, `torch.data`: Khởi tạo dataset và dataloader, `torch.activations`: Khởi tạo activations function.\n",
        "\n",
        "\n",
        "**4) Để customize một Dataset trên pytorch chúng ta cần thực hiện như thế nào?**\n",
        "\n",
        "A. Sử dụng thuộc tính `transformer` để qui định các biến đổi trên dữ liệu. Những biến đổi này được thực hiện trên hàm tạo.\n",
        "\n",
        "B. Khởi tạo một class kế thừa lại `torch.utils.data.Dataset`. Khai báo các thuộc tính cần sử dụng trong hàm tạo của dataset như list đường dẫn, list label. Override lại hàm `__getitem__()` để thực hiện các xử lý trên dữ liệu.\n",
        "\n",
        "C. Kế thừa lại một class `Dataset`. Các điều chỉnh trên dữ liệu được thực hiện trên hàm `transformer()`.\n",
        "\n",
        "D. Sử dụng hàm `__getitem__()` để trả về toàn bộ các quan sát khi huấn luyện. \n",
        "\n",
        "**5) Ý nghĩa của tham số epochs và batch_size trong huấn luyện mô hình là gì?**\n",
        "\n",
        "A. epochs là kích thước của một mini-batch, batch_size là số lượt lặp lại toàn bộ dữ liệu khi huấn luyện.\n",
        "\n",
        "B. epochs là số lượt lặp lại toàn bộ dữ liệu validation khi huấn luyện, batch_size là kích thước của một mini-batch.\n",
        "\n",
        "C. epochs là số lượt lặp lại toàn bộ dữ liệu train khi huấn luyện, batch_size là kích thước của một mini-batch.\n",
        "\n",
        "D. epochs là số lượng vòng lặp, mỗi vòng lặp là một lượt fit mini-batch, trên bộ dữ liệu khi huấn luyện; batch_size là kích thước của một mini-batch."
      ],
      "metadata": {
        "id": "DUXbtwUsAGPq"
      }
    },
    {
      "cell_type": "markdown",
      "source": [
        "# Đáp án\n",
        "\n",
        "**1) A**\n",
        "\n",
        "**2) D**\n",
        "\n",
        "**3) B**\n",
        "\n",
        "**4) B**\n",
        "\n",
        "**5) D**\n",
        "\n"
      ],
      "metadata": {
        "id": "F0ROVAELvHZ1"
      }
    },
    {
      "cell_type": "markdown",
      "source": [
        "# 2. Thực hành\n",
        "\n",
        "6) Khởi tạo một tensor 3 chiều với định dạng là float và kích thước là 32x32x3\n",
        "\n",
        "7) Nếu coi tensor trên là một bức ảnh RGB với số channel là 3 ở cuối. Hãy truy suất các ma trận ảnh tương ứng với mỗi kênh R, G, B.\n",
        "\n",
        "8) Thực hiện tích hadamard và tích thông thường giữa ma trận R và G.\n",
        "\n",
        "9) Từ bộ dữ liệu [Income-Classification](https://www.kaggle.com/t/090688c8d33a40b68be9e271d6ba6bae) hãy chuẩn hóa dữ liệu và phân chia tập train/test theo tỷ lệ 80/20. \n",
        "\n",
        "10) Xây dựng một mạng deep-neural-network để huấn luyện mô hình trên dữ liệu train và đánh giá mô hình trên dữ liệu test.\n"
      ],
      "metadata": {
        "id": "LzLjMsckAJAT"
      }
    },
    {
      "cell_type": "markdown",
      "source": [
        "# 2. Thực hành\n",
        "\n",
        "6) Khởi tạo một tensor 3 chiều với định dạng là float và kích thước là 32x32x3"
      ],
      "metadata": {
        "id": "l2Lmx9DsvGna"
      }
    },
    {
      "cell_type": "code",
      "source": [
        "import torch \n",
        "a = torch.randn((32, 32, 3), dtype=torch.float32)\n",
        "print(a)"
      ],
      "metadata": {
        "id": "LW8zjRArJ5oV",
        "colab": {
          "base_uri": "https://localhost:8080/"
        },
        "outputId": "8eb8490e-00fb-4902-815c-b79ac59389e9"
      },
      "execution_count": null,
      "outputs": [
        {
          "output_type": "stream",
          "name": "stdout",
          "text": [
            "tensor([[[ 5.1472e-01, -1.1394e+00, -4.5180e-02],\n",
            "         [-6.3604e-01, -4.7106e-01, -1.0470e+00],\n",
            "         [ 4.2550e-01, -1.5516e+00, -9.9056e-01],\n",
            "         ...,\n",
            "         [-2.1028e+00, -2.8155e-01, -3.4535e-01],\n",
            "         [-1.3508e+00, -1.6175e+00,  8.7433e-01],\n",
            "         [ 4.5073e-02, -4.8292e-01,  1.8041e+00]],\n",
            "\n",
            "        [[-2.6286e+00,  4.4490e-01,  2.3282e-02],\n",
            "         [ 2.4018e-02,  1.9184e-01, -1.9651e-01],\n",
            "         [ 5.2953e-01, -5.6641e-01,  9.2866e-01],\n",
            "         ...,\n",
            "         [-4.1511e-01, -4.5089e-01,  1.0303e+00],\n",
            "         [ 1.6697e-01, -2.4474e-01, -6.7043e-01],\n",
            "         [ 1.3111e+00,  6.6641e-01,  8.1897e-01]],\n",
            "\n",
            "        [[ 9.0878e-01, -1.3936e+00, -9.8368e-01],\n",
            "         [-3.6683e-01,  1.4507e-01,  2.2723e-01],\n",
            "         [-1.0264e+00,  1.8640e+00, -1.2470e-01],\n",
            "         ...,\n",
            "         [-1.2910e+00,  1.5954e+00, -2.0074e-01],\n",
            "         [-1.4483e-01, -2.4294e-01,  2.2148e+00],\n",
            "         [ 1.6746e+00, -2.3882e-01, -1.9177e+00]],\n",
            "\n",
            "        ...,\n",
            "\n",
            "        [[ 1.9971e+00,  9.8745e-01, -5.3766e-01],\n",
            "         [ 1.0116e+00, -2.7099e-01,  6.5438e-01],\n",
            "         [ 1.5138e-02, -1.9854e+00, -6.1418e-01],\n",
            "         ...,\n",
            "         [ 3.9721e-01, -7.9810e-01,  1.3871e+00],\n",
            "         [-2.0728e-01, -2.5348e-01, -3.0260e-01],\n",
            "         [-7.0329e-01,  5.7801e-01, -1.2985e+00]],\n",
            "\n",
            "        [[ 1.1924e+00,  1.6073e+00, -1.4381e+00],\n",
            "         [ 7.3911e-01, -9.2426e-01, -2.3098e+00],\n",
            "         [ 1.2728e+00,  5.4843e-01, -9.0451e-01],\n",
            "         ...,\n",
            "         [ 5.8832e-01, -5.6160e-01, -3.3636e-01],\n",
            "         [-6.4267e-01,  2.4836e-03,  3.9630e-01],\n",
            "         [ 1.5946e+00, -4.8159e-02,  5.8896e-01]],\n",
            "\n",
            "        [[ 4.3121e-01, -2.9535e-01, -3.5768e-01],\n",
            "         [-3.1172e-01, -3.9067e-01,  1.8354e+00],\n",
            "         [-1.4991e+00, -7.0009e-01,  2.0633e-01],\n",
            "         ...,\n",
            "         [-1.3001e+00, -4.4553e-01,  1.2520e+00],\n",
            "         [ 5.5195e-01,  1.2437e+00, -1.7453e+00],\n",
            "         [-4.2713e-01, -1.8701e+00, -1.1637e-01]]])\n"
          ]
        }
      ]
    },
    {
      "cell_type": "markdown",
      "source": [
        "7) Nếu coi tensor trên là một bức ảnh RGB với số channel là 3 ở cuối. Hãy truy suất các ma trận ảnh tương ứng với mỗi kênh R, G, B.\n"
      ],
      "metadata": {
        "id": "OI_dEmBKK2EL"
      }
    },
    {
      "cell_type": "code",
      "source": [
        "R=a[:,:,0]\n",
        "G=a[:,:,1]\n",
        "B=a[:,:,2]\n"
      ],
      "metadata": {
        "id": "PAlwcVgfLT5C"
      },
      "execution_count": null,
      "outputs": []
    },
    {
      "cell_type": "markdown",
      "source": [
        "8) Thực hiện tích hadamard và tích thông thường giữa ma trận R và G."
      ],
      "metadata": {
        "id": "4WzTSfxFLfOl"
      }
    },
    {
      "cell_type": "code",
      "source": [
        "# Hadamard\n",
        "hadamard = R * G\n",
        "\n",
        "# Normal\n",
        "normal = R @ G"
      ],
      "metadata": {
        "id": "TEAmCCJeMael"
      },
      "execution_count": null,
      "outputs": []
    },
    {
      "cell_type": "markdown",
      "source": [
        "9) Từ bộ dữ liệu [Income-Classification](https://www.kaggle.com/t/090688c8d33a40b68be9e271d6ba6bae) hãy chuẩn hóa dữ liệu và phân chia tập train/test theo tỷ lệ 80/20. \n",
        "\n",
        "10) Xây dựng một mạng deep-neural-network để huấn luyện mô hình trên dữ liệu train và đánh giá mô hình trên dữ liệu test.\n"
      ],
      "metadata": {
        "id": "oWEZcXxBMnct"
      }
    },
    {
      "cell_type": "code",
      "source": [
        "from google.colab import drive\n",
        "import os\n",
        "drive.mount(\"/content/drive\")\n",
        "folder_path = \"/content/drive/MyDrive/DeepLearning\"\n",
        "os.chdir(folder_path)"
      ],
      "metadata": {
        "id": "fgxKV1v2M_zT",
        "colab": {
          "base_uri": "https://localhost:8080/"
        },
        "outputId": "0719d648-0a26-440f-c2f6-6f898daa2924"
      },
      "execution_count": null,
      "outputs": [
        {
          "output_type": "stream",
          "name": "stdout",
          "text": [
            "Drive already mounted at /content/drive; to attempt to forcibly remount, call drive.mount(\"/content/drive\", force_remount=True).\n"
          ]
        }
      ]
    },
    {
      "cell_type": "code",
      "source": [
        "import numpy as np\n",
        "import random\n",
        "def seed_all(seed):\n",
        "    np.random.seed(seed)\n",
        "    random.seed(seed)\n",
        "seed = 42 \n",
        "seed_all(seed)"
      ],
      "metadata": {
        "id": "aRFse0J4YrBZ"
      },
      "execution_count": null,
      "outputs": []
    },
    {
      "cell_type": "code",
      "source": [
        "import pandas as pd\n",
        "import re\n",
        "from sklearn.preprocessing import LabelEncoder\n",
        "from sklearn.preprocessing import StandardScaler\n",
        "from sklearn.model_selection import train_test_split\n",
        "from sklearn.metrics import accuracy_score, f1_score, roc_auc_score, confusion_matrix, classification_report"
      ],
      "metadata": {
        "id": "NajBvFe8Ys64"
      },
      "execution_count": null,
      "outputs": []
    },
    {
      "cell_type": "code",
      "source": [
        "# !pip freeze | grep torch\n",
        "# !pip install --upgrade torch"
      ],
      "metadata": {
        "id": "hl7jYVwqYu9J"
      },
      "execution_count": null,
      "outputs": []
    },
    {
      "cell_type": "code",
      "source": [
        "# !pip install torch==1.9.0+cpu torchvision==0.10.0+cpu torchaudio==0.9.0 -f https://download.pytorch.org/whl/torch_stable.html\n"
      ],
      "metadata": {
        "id": "CcXxTGHrYwh3"
      },
      "execution_count": null,
      "outputs": []
    },
    {
      "cell_type": "code",
      "source": [
        "import torch\n",
        "import torch.nn as nn\n",
        "import torch.utils.data as td\n",
        "\n",
        "# Set random seed for reproducability\n",
        "torch.manual_seed(0)\n"
      ],
      "metadata": {
        "id": "hcHT2xfBYx1x",
        "colab": {
          "base_uri": "https://localhost:8080/"
        },
        "outputId": "03ac9060-5925-4919-d2ad-975fee2aee76"
      },
      "execution_count": null,
      "outputs": [
        {
          "output_type": "execute_result",
          "data": {
            "text/plain": [
              "<torch._C.Generator at 0x7fd93af4cdd0>"
            ]
          },
          "metadata": {},
          "execution_count": 29
        }
      ]
    },
    {
      "cell_type": "code",
      "source": [
        "#metric\n",
        "def get_metrics(y_test, y_pred):\n",
        "    print('ACCURACY_SCORE: ', round(accuracy_score(y_test, y_pred), 4))\n",
        "    print('F1_SCORE: ', round(f1_score(y_test, y_pred, average='macro'), 4))\n",
        "    print('CONFUSION_MATRIX:\\n', confusion_matrix(y_test, y_pred),'\\n')\n",
        "    print(classification_report(y_test, y_pred, digits=4), '\\n')"
      ],
      "metadata": {
        "id": "3MaDFHd9Y0Hr"
      },
      "execution_count": null,
      "outputs": []
    },
    {
      "cell_type": "code",
      "source": [
        "df_all = pd.read_csv('train.csv')\n",
        "df_all.head(5)"
      ],
      "metadata": {
        "id": "qd1kSSIZY1v6",
        "colab": {
          "base_uri": "https://localhost:8080/",
          "height": 357
        },
        "outputId": "eeaccf38-8d62-44f6-c10a-78c4abfe38f5"
      },
      "execution_count": null,
      "outputs": [
        {
          "output_type": "execute_result",
          "data": {
            "text/html": [
              "\n",
              "  <div id=\"df-fd77c383-2e34-4453-95f3-a89f03f46163\">\n",
              "    <div class=\"colab-df-container\">\n",
              "      <div>\n",
              "<style scoped>\n",
              "    .dataframe tbody tr th:only-of-type {\n",
              "        vertical-align: middle;\n",
              "    }\n",
              "\n",
              "    .dataframe tbody tr th {\n",
              "        vertical-align: top;\n",
              "    }\n",
              "\n",
              "    .dataframe thead th {\n",
              "        text-align: right;\n",
              "    }\n",
              "</style>\n",
              "<table border=\"1\" class=\"dataframe\">\n",
              "  <thead>\n",
              "    <tr style=\"text-align: right;\">\n",
              "      <th></th>\n",
              "      <th>ID</th>\n",
              "      <th>age</th>\n",
              "      <th>work_type</th>\n",
              "      <th>final_weight</th>\n",
              "      <th>education</th>\n",
              "      <th>total_education_yrs</th>\n",
              "      <th>marital_state</th>\n",
              "      <th>job</th>\n",
              "      <th>status</th>\n",
              "      <th>ethnicity</th>\n",
              "      <th>sex</th>\n",
              "      <th>capital_gain</th>\n",
              "      <th>capital_loss</th>\n",
              "      <th>hrs_per_week</th>\n",
              "      <th>nationality</th>\n",
              "      <th>target_income</th>\n",
              "    </tr>\n",
              "  </thead>\n",
              "  <tbody>\n",
              "    <tr>\n",
              "      <th>0</th>\n",
              "      <td>0</td>\n",
              "      <td>45</td>\n",
              "      <td>Private</td>\n",
              "      <td>175925</td>\n",
              "      <td>HS-grad</td>\n",
              "      <td>9</td>\n",
              "      <td>Married-civ-spouse</td>\n",
              "      <td>Craft-repair</td>\n",
              "      <td>Husband</td>\n",
              "      <td>White</td>\n",
              "      <td>M</td>\n",
              "      <td>0</td>\n",
              "      <td>0</td>\n",
              "      <td>40</td>\n",
              "      <td>US</td>\n",
              "      <td>0</td>\n",
              "    </tr>\n",
              "    <tr>\n",
              "      <th>1</th>\n",
              "      <td>1</td>\n",
              "      <td>23</td>\n",
              "      <td>Private</td>\n",
              "      <td>113601</td>\n",
              "      <td>Some-college</td>\n",
              "      <td>10</td>\n",
              "      <td>Never-married</td>\n",
              "      <td>Handlers-cleaners</td>\n",
              "      <td>Own-child</td>\n",
              "      <td>White</td>\n",
              "      <td>M</td>\n",
              "      <td>0</td>\n",
              "      <td>0</td>\n",
              "      <td>30</td>\n",
              "      <td>US</td>\n",
              "      <td>0</td>\n",
              "    </tr>\n",
              "    <tr>\n",
              "      <th>2</th>\n",
              "      <td>2</td>\n",
              "      <td>22</td>\n",
              "      <td>Private</td>\n",
              "      <td>112137</td>\n",
              "      <td>Some-college</td>\n",
              "      <td>10</td>\n",
              "      <td>Never-married</td>\n",
              "      <td>Prof-specialty</td>\n",
              "      <td>Other-relative</td>\n",
              "      <td>Asian-Pac-Islander</td>\n",
              "      <td>F</td>\n",
              "      <td>0</td>\n",
              "      <td>0</td>\n",
              "      <td>20</td>\n",
              "      <td>South</td>\n",
              "      <td>0</td>\n",
              "    </tr>\n",
              "    <tr>\n",
              "      <th>3</th>\n",
              "      <td>3</td>\n",
              "      <td>27</td>\n",
              "      <td>Private</td>\n",
              "      <td>153078</td>\n",
              "      <td>Prof-school</td>\n",
              "      <td>15</td>\n",
              "      <td>Never-married</td>\n",
              "      <td>Prof-specialty</td>\n",
              "      <td>Own-child</td>\n",
              "      <td>Asian-Pac-Islander</td>\n",
              "      <td>M</td>\n",
              "      <td>0</td>\n",
              "      <td>0</td>\n",
              "      <td>40</td>\n",
              "      <td>US</td>\n",
              "      <td>0</td>\n",
              "    </tr>\n",
              "    <tr>\n",
              "      <th>4</th>\n",
              "      <td>4</td>\n",
              "      <td>18</td>\n",
              "      <td>Private</td>\n",
              "      <td>375515</td>\n",
              "      <td>11th</td>\n",
              "      <td>7</td>\n",
              "      <td>Never-married</td>\n",
              "      <td>Sales</td>\n",
              "      <td>Own-child</td>\n",
              "      <td>White</td>\n",
              "      <td>F</td>\n",
              "      <td>0</td>\n",
              "      <td>0</td>\n",
              "      <td>20</td>\n",
              "      <td>US</td>\n",
              "      <td>0</td>\n",
              "    </tr>\n",
              "  </tbody>\n",
              "</table>\n",
              "</div>\n",
              "      <button class=\"colab-df-convert\" onclick=\"convertToInteractive('df-fd77c383-2e34-4453-95f3-a89f03f46163')\"\n",
              "              title=\"Convert this dataframe to an interactive table.\"\n",
              "              style=\"display:none;\">\n",
              "        \n",
              "  <svg xmlns=\"http://www.w3.org/2000/svg\" height=\"24px\"viewBox=\"0 0 24 24\"\n",
              "       width=\"24px\">\n",
              "    <path d=\"M0 0h24v24H0V0z\" fill=\"none\"/>\n",
              "    <path d=\"M18.56 5.44l.94 2.06.94-2.06 2.06-.94-2.06-.94-.94-2.06-.94 2.06-2.06.94zm-11 1L8.5 8.5l.94-2.06 2.06-.94-2.06-.94L8.5 2.5l-.94 2.06-2.06.94zm10 10l.94 2.06.94-2.06 2.06-.94-2.06-.94-.94-2.06-.94 2.06-2.06.94z\"/><path d=\"M17.41 7.96l-1.37-1.37c-.4-.4-.92-.59-1.43-.59-.52 0-1.04.2-1.43.59L10.3 9.45l-7.72 7.72c-.78.78-.78 2.05 0 2.83L4 21.41c.39.39.9.59 1.41.59.51 0 1.02-.2 1.41-.59l7.78-7.78 2.81-2.81c.8-.78.8-2.07 0-2.86zM5.41 20L4 18.59l7.72-7.72 1.47 1.35L5.41 20z\"/>\n",
              "  </svg>\n",
              "      </button>\n",
              "      \n",
              "  <style>\n",
              "    .colab-df-container {\n",
              "      display:flex;\n",
              "      flex-wrap:wrap;\n",
              "      gap: 12px;\n",
              "    }\n",
              "\n",
              "    .colab-df-convert {\n",
              "      background-color: #E8F0FE;\n",
              "      border: none;\n",
              "      border-radius: 50%;\n",
              "      cursor: pointer;\n",
              "      display: none;\n",
              "      fill: #1967D2;\n",
              "      height: 32px;\n",
              "      padding: 0 0 0 0;\n",
              "      width: 32px;\n",
              "    }\n",
              "\n",
              "    .colab-df-convert:hover {\n",
              "      background-color: #E2EBFA;\n",
              "      box-shadow: 0px 1px 2px rgba(60, 64, 67, 0.3), 0px 1px 3px 1px rgba(60, 64, 67, 0.15);\n",
              "      fill: #174EA6;\n",
              "    }\n",
              "\n",
              "    [theme=dark] .colab-df-convert {\n",
              "      background-color: #3B4455;\n",
              "      fill: #D2E3FC;\n",
              "    }\n",
              "\n",
              "    [theme=dark] .colab-df-convert:hover {\n",
              "      background-color: #434B5C;\n",
              "      box-shadow: 0px 1px 3px 1px rgba(0, 0, 0, 0.15);\n",
              "      filter: drop-shadow(0px 1px 2px rgba(0, 0, 0, 0.3));\n",
              "      fill: #FFFFFF;\n",
              "    }\n",
              "  </style>\n",
              "\n",
              "      <script>\n",
              "        const buttonEl =\n",
              "          document.querySelector('#df-fd77c383-2e34-4453-95f3-a89f03f46163 button.colab-df-convert');\n",
              "        buttonEl.style.display =\n",
              "          google.colab.kernel.accessAllowed ? 'block' : 'none';\n",
              "\n",
              "        async function convertToInteractive(key) {\n",
              "          const element = document.querySelector('#df-fd77c383-2e34-4453-95f3-a89f03f46163');\n",
              "          const dataTable =\n",
              "            await google.colab.kernel.invokeFunction('convertToInteractive',\n",
              "                                                     [key], {});\n",
              "          if (!dataTable) return;\n",
              "\n",
              "          const docLinkHtml = 'Like what you see? Visit the ' +\n",
              "            '<a target=\"_blank\" href=https://colab.research.google.com/notebooks/data_table.ipynb>data table notebook</a>'\n",
              "            + ' to learn more about interactive tables.';\n",
              "          element.innerHTML = '';\n",
              "          dataTable['output_type'] = 'display_data';\n",
              "          await google.colab.output.renderOutput(dataTable, element);\n",
              "          const docLink = document.createElement('div');\n",
              "          docLink.innerHTML = docLinkHtml;\n",
              "          element.appendChild(docLink);\n",
              "        }\n",
              "      </script>\n",
              "    </div>\n",
              "  </div>\n",
              "  "
            ],
            "text/plain": [
              "   ID  age work_type  ...  hrs_per_week nationality  target_income\n",
              "0   0   45   Private  ...            40          US              0\n",
              "1   1   23   Private  ...            30          US              0\n",
              "2   2   22   Private  ...            20       South              0\n",
              "3   3   27   Private  ...            40          US              0\n",
              "4   4   18   Private  ...            20          US              0\n",
              "\n",
              "[5 rows x 16 columns]"
            ]
          },
          "metadata": {},
          "execution_count": 31
        }
      ]
    },
    {
      "cell_type": "code",
      "source": [
        "# normalize string\n",
        "def str_normalize(s):\n",
        "    # convert into lowercase and replace multiple spaces into single space\n",
        "    s = str(s).strip().lower()\n",
        "    s = re.sub(' +', \" \", s)\n",
        "    return s\n",
        "# Encode category and object columns \n",
        "def process(df):        \n",
        "  for col in df.columns:\n",
        "      if df[col].dtype.name == \"object\" or df[col].dtype.name == \"category\":\n",
        "          df[col] = df[col].apply(str_normalize).astype(\"category\")\n",
        "  return df\n",
        "df_all = process(df_all.copy())\n",
        "IDs=df_all.pop('ID')\n",
        "label = df_all.pop('target_income')\n",
        "df_all_one_hot = pd.get_dummies(df_all)"
      ],
      "metadata": {
        "id": "XvsshwI_Y4G-"
      },
      "execution_count": null,
      "outputs": []
    },
    {
      "cell_type": "code",
      "source": [
        "features = df_all_one_hot.columns.tolist()\n",
        "label = label.values"
      ],
      "metadata": {
        "id": "czXCI3P3Y5iV"
      },
      "execution_count": null,
      "outputs": []
    },
    {
      "cell_type": "code",
      "source": [
        "features = df_all_one_hot.columns.tolist()\n",
        "\n",
        "x_train, x_test, y_train, y_test = train_test_split(df_all_one_hot[features].values, # input variable\n",
        "                                                    label, # output variable\n",
        "                                                    test_size=0.2, # test dataset proportion\n",
        "                                                    # stratify=df_all['target_income'], # assign equal proportion of target label in train/test \n",
        "                                                    random_state=0) # keep train/test split the same if run again. \n",
        "print ('Training Set: %d, Test Set: %d \\n' % (len(x_train), len(x_test)))\n",
        "sc = StandardScaler()\n",
        "x_train = sc.fit_transform(x_train)\n",
        "x_test = sc.transform(x_test)\n",
        "\n",
        "\n",
        "train_x = torch.Tensor(x_train).float()\n",
        "train_y = torch.Tensor(y_train).long()\n",
        "train_ds = td.TensorDataset(train_x,train_y)\n",
        "train_loader = td.DataLoader(train_ds, batch_size=20,\n",
        "    shuffle=True, num_workers=1)\n",
        "\n",
        "test_x = torch.Tensor(x_test).float()\n",
        "test_y = torch.Tensor(y_test).long()\n",
        "test_ds = td.TensorDataset(test_x,test_y)\n",
        "test_loader = td.DataLoader(test_ds, batch_size=20,\n",
        "    shuffle=False, num_workers=1)\n"
      ],
      "metadata": {
        "id": "eCKNG7kwY7Zo",
        "colab": {
          "base_uri": "https://localhost:8080/"
        },
        "outputId": "e338631b-929c-40b4-97c5-c24dfca1b776"
      },
      "execution_count": null,
      "outputs": [
        {
          "output_type": "stream",
          "name": "stdout",
          "text": [
            "Training Set: 20000, Test Set: 5000 \n",
            "\n"
          ]
        }
      ]
    },
    {
      "cell_type": "code",
      "source": [
        "hl = 10\n",
        "\n",
        "# Define the neural network\n",
        "class NeuralNet(nn.Module):\n",
        "    def __init__(self):\n",
        "        super(NeuralNet, self).__init__()\n",
        "        self.fc1 = nn.Linear(len(features), hl)\n",
        "        self.fc2 = nn.Linear(hl, hl)\n",
        "        self.fc3 = nn.Linear(hl, 6)\n",
        "        self.fc4 = nn.Linear(6, 2)\n",
        "\n",
        "    def forward(self, x):\n",
        "        x = torch.relu(self.fc1(x))\n",
        "        x = torch.relu(self.fc2(x))\n",
        "        x = torch.relu(self.fc3(x))\n",
        "        x = torch.sigmoid(self.fc4(x))\n",
        "        return x\n",
        "\n",
        "model = NeuralNet()\n",
        "print(model)"
      ],
      "metadata": {
        "id": "vgvEUsK1Y-Yz",
        "colab": {
          "base_uri": "https://localhost:8080/"
        },
        "outputId": "a2d8eb57-4e5a-4349-ca3e-0335d4b54dc4"
      },
      "execution_count": null,
      "outputs": [
        {
          "output_type": "stream",
          "name": "stdout",
          "text": [
            "NeuralNet(\n",
            "  (fc1): Linear(in_features=108, out_features=10, bias=True)\n",
            "  (fc2): Linear(in_features=10, out_features=10, bias=True)\n",
            "  (fc3): Linear(in_features=10, out_features=6, bias=True)\n",
            "  (fc4): Linear(in_features=6, out_features=2, bias=True)\n",
            ")\n"
          ]
        }
      ]
    },
    {
      "cell_type": "code",
      "source": [
        "def train(model, data_loader, optimizer):\n",
        "    model.train()\n",
        "    train_loss = 0\n",
        "    \n",
        "    for batch, tensor in enumerate(data_loader):\n",
        "        data, target = tensor\n",
        "        optimizer.zero_grad()\n",
        "        out = model(data)\n",
        "        loss = loss_criteria(out, target)\n",
        "        train_loss += loss.item()\n",
        "        loss.backward()\n",
        "        optimizer.step()\n",
        "\n",
        "    avg_loss = train_loss / (batch+1)\n",
        "    print('Training set: Average loss: {:.6f}'.format(avg_loss))\n",
        "    return avg_loss\n",
        "           \n",
        "            \n",
        "def test(model, data_loader):\n",
        "    model.eval()\n",
        "    test_loss = 0\n",
        "    correct = 0\n",
        "\n",
        "    with torch.no_grad():\n",
        "        batch_count = 0\n",
        "        for batch, tensor in enumerate(data_loader):\n",
        "            batch_count += 1\n",
        "            data, target = tensor\n",
        "            out = model(data)\n",
        "\n",
        "            test_loss += loss_criteria(out, target).item()\n",
        "\n",
        "            _, predicted = torch.max(out.data, 1)\n",
        "            correct += torch.sum(target==predicted).item()\n",
        "            \n",
        "    avg_loss = test_loss/batch_count\n",
        "    print('Validation set: Average loss: {:.6f}, Accuracy: {}/{} ({:.0f}%)\\n'.format(\n",
        "        avg_loss, correct, len(data_loader.dataset),\n",
        "        100. * correct / len(data_loader.dataset)))\n",
        "    \n",
        "    return avg_loss\n",
        "\n",
        "loss_criteria = nn.CrossEntropyLoss()\n",
        "learning_rate = 0.0001\n",
        "optimizer = torch.optim.Adam(model.parameters(), lr=learning_rate)\n",
        "optimizer.zero_grad()\n",
        "\n",
        "epoch_nums = []\n",
        "training_loss = []\n",
        "validation_loss = []\n",
        "\n",
        "epochs = 50\n",
        "for epoch in range(1, epochs + 1):\n",
        "\n",
        "    print('Epoch: {}'.format(epoch))\n",
        "    \n",
        "    train_loss = train(model, train_loader, optimizer)\n",
        "    \n",
        "    test_loss = test(model, test_loader)\n",
        "    \n",
        "    epoch_nums.append(epoch)\n",
        "    training_loss.append(train_loss)\n",
        "    validation_loss.append(test_loss)"
      ],
      "metadata": {
        "id": "TKCAE3ekZEcL",
        "colab": {
          "base_uri": "https://localhost:8080/"
        },
        "outputId": "c65165fb-c22d-4a6f-9485-87751131219c"
      },
      "execution_count": null,
      "outputs": [
        {
          "output_type": "stream",
          "name": "stdout",
          "text": [
            "Epoch: 1\n",
            "Training set: Average loss: 0.660880\n",
            "Validation set: Average loss: 0.611964, Accuracy: 3811/5000 (76%)\n",
            "\n",
            "Epoch: 2\n",
            "Training set: Average loss: 0.545687\n",
            "Validation set: Average loss: 0.503444, Accuracy: 3811/5000 (76%)\n",
            "\n",
            "Epoch: 3\n",
            "Training set: Average loss: 0.498854\n",
            "Validation set: Average loss: 0.491101, Accuracy: 3811/5000 (76%)\n",
            "\n",
            "Epoch: 4\n",
            "Training set: Average loss: 0.490114\n",
            "Validation set: Average loss: 0.484406, Accuracy: 3811/5000 (76%)\n",
            "\n",
            "Epoch: 5\n",
            "Training set: Average loss: 0.483960\n",
            "Validation set: Average loss: 0.479232, Accuracy: 4197/5000 (84%)\n",
            "\n",
            "Epoch: 6\n",
            "Training set: Average loss: 0.478877\n",
            "Validation set: Average loss: 0.475356, Accuracy: 4202/5000 (84%)\n",
            "\n",
            "Epoch: 7\n",
            "Training set: Average loss: 0.475012\n",
            "Validation set: Average loss: 0.472276, Accuracy: 4211/5000 (84%)\n",
            "\n",
            "Epoch: 8\n",
            "Training set: Average loss: 0.471726\n",
            "Validation set: Average loss: 0.469587, Accuracy: 4227/5000 (85%)\n",
            "\n",
            "Epoch: 9\n",
            "Training set: Average loss: 0.468900\n",
            "Validation set: Average loss: 0.467239, Accuracy: 4233/5000 (85%)\n",
            "\n",
            "Epoch: 10\n",
            "Training set: Average loss: 0.466358\n",
            "Validation set: Average loss: 0.465314, Accuracy: 4242/5000 (85%)\n",
            "\n",
            "Epoch: 11\n",
            "Training set: Average loss: 0.464194\n",
            "Validation set: Average loss: 0.463673, Accuracy: 4254/5000 (85%)\n",
            "\n",
            "Epoch: 12\n",
            "Training set: Average loss: 0.462331\n",
            "Validation set: Average loss: 0.462354, Accuracy: 4258/5000 (85%)\n",
            "\n",
            "Epoch: 13\n",
            "Training set: Average loss: 0.460667\n",
            "Validation set: Average loss: 0.461174, Accuracy: 4264/5000 (85%)\n",
            "\n",
            "Epoch: 14\n",
            "Training set: Average loss: 0.459175\n",
            "Validation set: Average loss: 0.460127, Accuracy: 4265/5000 (85%)\n",
            "\n",
            "Epoch: 15\n",
            "Training set: Average loss: 0.457850\n",
            "Validation set: Average loss: 0.459356, Accuracy: 4264/5000 (85%)\n",
            "\n",
            "Epoch: 16\n",
            "Training set: Average loss: 0.456695\n",
            "Validation set: Average loss: 0.458578, Accuracy: 4264/5000 (85%)\n",
            "\n",
            "Epoch: 17\n",
            "Training set: Average loss: 0.455675\n",
            "Validation set: Average loss: 0.458089, Accuracy: 4264/5000 (85%)\n",
            "\n",
            "Epoch: 18\n",
            "Training set: Average loss: 0.454674\n",
            "Validation set: Average loss: 0.457390, Accuracy: 4265/5000 (85%)\n",
            "\n",
            "Epoch: 19\n",
            "Training set: Average loss: 0.453864\n",
            "Validation set: Average loss: 0.457049, Accuracy: 4267/5000 (85%)\n",
            "\n",
            "Epoch: 20\n",
            "Training set: Average loss: 0.453093\n",
            "Validation set: Average loss: 0.456855, Accuracy: 4261/5000 (85%)\n",
            "\n",
            "Epoch: 21\n",
            "Training set: Average loss: 0.452354\n",
            "Validation set: Average loss: 0.456429, Accuracy: 4262/5000 (85%)\n",
            "\n",
            "Epoch: 22\n",
            "Training set: Average loss: 0.451730\n",
            "Validation set: Average loss: 0.456516, Accuracy: 4260/5000 (85%)\n",
            "\n",
            "Epoch: 23\n",
            "Training set: Average loss: 0.451125\n",
            "Validation set: Average loss: 0.456362, Accuracy: 4262/5000 (85%)\n",
            "\n",
            "Epoch: 24\n",
            "Training set: Average loss: 0.450553\n",
            "Validation set: Average loss: 0.456173, Accuracy: 4260/5000 (85%)\n",
            "\n",
            "Epoch: 25\n",
            "Training set: Average loss: 0.450005\n",
            "Validation set: Average loss: 0.455659, Accuracy: 4265/5000 (85%)\n",
            "\n",
            "Epoch: 26\n",
            "Training set: Average loss: 0.449581\n",
            "Validation set: Average loss: 0.455783, Accuracy: 4262/5000 (85%)\n",
            "\n",
            "Epoch: 27\n",
            "Training set: Average loss: 0.449133\n",
            "Validation set: Average loss: 0.455433, Accuracy: 4267/5000 (85%)\n",
            "\n",
            "Epoch: 28\n",
            "Training set: Average loss: 0.448700\n",
            "Validation set: Average loss: 0.455725, Accuracy: 4257/5000 (85%)\n",
            "\n",
            "Epoch: 29\n",
            "Training set: Average loss: 0.448309\n",
            "Validation set: Average loss: 0.455281, Accuracy: 4255/5000 (85%)\n",
            "\n",
            "Epoch: 30\n",
            "Training set: Average loss: 0.447942\n",
            "Validation set: Average loss: 0.455129, Accuracy: 4259/5000 (85%)\n",
            "\n",
            "Epoch: 31\n",
            "Training set: Average loss: 0.447613\n",
            "Validation set: Average loss: 0.454969, Accuracy: 4258/5000 (85%)\n",
            "\n",
            "Epoch: 32\n",
            "Training set: Average loss: 0.447277\n",
            "Validation set: Average loss: 0.455057, Accuracy: 4256/5000 (85%)\n",
            "\n",
            "Epoch: 33\n",
            "Training set: Average loss: 0.446919\n",
            "Validation set: Average loss: 0.454816, Accuracy: 4259/5000 (85%)\n",
            "\n",
            "Epoch: 34\n",
            "Training set: Average loss: 0.446611\n",
            "Validation set: Average loss: 0.455040, Accuracy: 4249/5000 (85%)\n",
            "\n",
            "Epoch: 35\n",
            "Training set: Average loss: 0.446327\n",
            "Validation set: Average loss: 0.454801, Accuracy: 4262/5000 (85%)\n",
            "\n",
            "Epoch: 36\n",
            "Training set: Average loss: 0.446070\n",
            "Validation set: Average loss: 0.455092, Accuracy: 4251/5000 (85%)\n",
            "\n",
            "Epoch: 37\n",
            "Training set: Average loss: 0.445841\n",
            "Validation set: Average loss: 0.455044, Accuracy: 4261/5000 (85%)\n",
            "\n",
            "Epoch: 38\n",
            "Training set: Average loss: 0.445573\n",
            "Validation set: Average loss: 0.455045, Accuracy: 4257/5000 (85%)\n",
            "\n",
            "Epoch: 39\n",
            "Training set: Average loss: 0.445299\n",
            "Validation set: Average loss: 0.455015, Accuracy: 4250/5000 (85%)\n",
            "\n",
            "Epoch: 40\n",
            "Training set: Average loss: 0.445121\n",
            "Validation set: Average loss: 0.455001, Accuracy: 4254/5000 (85%)\n",
            "\n",
            "Epoch: 41\n",
            "Training set: Average loss: 0.444830\n",
            "Validation set: Average loss: 0.455393, Accuracy: 4249/5000 (85%)\n",
            "\n",
            "Epoch: 42\n",
            "Training set: Average loss: 0.444738\n",
            "Validation set: Average loss: 0.454769, Accuracy: 4262/5000 (85%)\n",
            "\n",
            "Epoch: 43\n",
            "Training set: Average loss: 0.444487\n",
            "Validation set: Average loss: 0.454810, Accuracy: 4258/5000 (85%)\n",
            "\n",
            "Epoch: 44\n",
            "Training set: Average loss: 0.444289\n",
            "Validation set: Average loss: 0.455086, Accuracy: 4256/5000 (85%)\n",
            "\n",
            "Epoch: 45\n",
            "Training set: Average loss: 0.444044\n",
            "Validation set: Average loss: 0.454917, Accuracy: 4256/5000 (85%)\n",
            "\n",
            "Epoch: 46\n",
            "Training set: Average loss: 0.443925\n",
            "Validation set: Average loss: 0.454848, Accuracy: 4263/5000 (85%)\n",
            "\n",
            "Epoch: 47\n",
            "Training set: Average loss: 0.443724\n",
            "Validation set: Average loss: 0.454996, Accuracy: 4260/5000 (85%)\n",
            "\n",
            "Epoch: 48\n",
            "Training set: Average loss: 0.443510\n",
            "Validation set: Average loss: 0.454888, Accuracy: 4260/5000 (85%)\n",
            "\n",
            "Epoch: 49\n",
            "Training set: Average loss: 0.443419\n",
            "Validation set: Average loss: 0.455079, Accuracy: 4259/5000 (85%)\n",
            "\n",
            "Epoch: 50\n",
            "Training set: Average loss: 0.443206\n",
            "Validation set: Average loss: 0.455322, Accuracy: 4256/5000 (85%)\n",
            "\n"
          ]
        }
      ]
    },
    {
      "cell_type": "code",
      "source": [
        "%matplotlib inline\n",
        "from matplotlib import pyplot as plt\n",
        "\n",
        "plt.plot(epoch_nums, training_loss)\n",
        "plt.plot(epoch_nums, validation_loss)\n",
        "plt.xlabel('epoch')\n",
        "plt.ylabel('loss')\n",
        "plt.legend(['training', 'validation'], loc='upper right')\n",
        "plt.show()"
      ],
      "metadata": {
        "id": "MwR-VRkcZGdp",
        "colab": {
          "base_uri": "https://localhost:8080/",
          "height": 279
        },
        "outputId": "683ba5c3-08d0-4461-827a-bf83da9faf78"
      },
      "execution_count": null,
      "outputs": [
        {
          "output_type": "display_data",
          "data": {
            "image/png": "[encoded data removed]",
            "text/plain": [
              "<Figure size 432x288 with 1 Axes>"
            ]
          },
          "metadata": {
            "needs_background": "light"
          }
        }
      ]
    },
    {
      "cell_type": "code",
      "source": [
        "def _evaluate(model, x_test):\n",
        "  x = torch.Tensor(x_test).float()\n",
        "  _, y_pred = torch.max(model(x).data, 1)\n",
        "  predictions = (y_pred > 0.5)\n",
        "  print('Evaluation on test dataset')\n",
        "  get_metrics(y_test, predictions)\n",
        "\n",
        "  # Plot the confusion matrix\n",
        "  classes=['0','1']\n",
        "  cm = confusion_matrix(y_test, predictions)\n",
        "  plt.imshow(cm, interpolation=\"nearest\", cmap=plt.cm.Blues)\n",
        "  plt.colorbar()\n",
        "  tick_marks = np.arange(2)\n",
        "  plt.xticks(tick_marks, classes, rotation=85)\n",
        "  plt.yticks(tick_marks, classes)\n",
        "  plt.xlabel(\"Predicted\")\n",
        "  plt.ylabel(\"Actual\")\n",
        "  plt.show()\n",
        "\n",
        "_evaluate(model, x_test)"
      ],
      "metadata": {
        "id": "bsvY1QCUkc0a",
        "colab": {
          "base_uri": "https://localhost:8080/",
          "height": 572
        },
        "outputId": "9fb7917e-110f-4878-d8d1-3a124d9d501e"
      },
      "execution_count": null,
      "outputs": [
        {
          "output_type": "stream",
          "name": "stdout",
          "text": [
            "Evaluation on test dataset\n",
            "ACCURACY_SCORE:  0.8512\n",
            "F1_SCORE:  0.7802\n",
            "CONFUSION_MATRIX:\n",
            " [[3549  262]\n",
            " [ 482  707]] \n",
            "\n",
            "              precision    recall  f1-score   support\n",
            "\n",
            "           0     0.8804    0.9313    0.9051      3811\n",
            "           1     0.7296    0.5946    0.6552      1189\n",
            "\n",
            "    accuracy                         0.8512      5000\n",
            "   macro avg     0.8050    0.7629    0.7802      5000\n",
            "weighted avg     0.8446    0.8512    0.8457      5000\n",
            " \n",
            "\n"
          ]
        },
        {
          "output_type": "display_data",
          "data": {
            "image/png": "[encoded data removed]",
            "text/plain": [
              "<Figure size 432x288 with 2 Axes>"
            ]
          },
          "metadata": {
            "needs_background": "light"
          }
        }
      ]
    },
    {
      "cell_type": "code",
      "source": [
        "model_file = 'models/income_classifier.pt'\n",
        "!mkdir models"
      ],
      "metadata": {
        "id": "ICPN9ciPZJgB",
        "colab": {
          "base_uri": "https://localhost:8080/"
        },
        "outputId": "ade7b902-4aee-43c2-8b53-7be2c0328127"
      },
      "execution_count": null,
      "outputs": [
        {
          "output_type": "stream",
          "name": "stdout",
          "text": [
            "mkdir: cannot create directory ‘models’: File exists\n"
          ]
        }
      ]
    },
    {
      "cell_type": "code",
      "source": [
        "torch.save(model.state_dict(), model_file)\n",
        "del model\n",
        "print('model saved as', model_file)"
      ],
      "metadata": {
        "id": "nXPBI-ECesuG",
        "colab": {
          "base_uri": "https://localhost:8080/"
        },
        "outputId": "c1543bd5-4108-4998-8258-4a784a24b7d1"
      },
      "execution_count": null,
      "outputs": [
        {
          "output_type": "stream",
          "name": "stdout",
          "text": [
            "model saved as models/income_classifier.pt\n"
          ]
        }
      ]
    }
  ]
}