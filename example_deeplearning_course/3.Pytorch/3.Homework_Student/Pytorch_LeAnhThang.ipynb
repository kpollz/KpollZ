{
  "nbformat": 4,
  "nbformat_minor": 0,
  "metadata": {
    "colab": {
      "name": "Pytorch_LeAnhThang.ipynb",
      "provenance": [],
      "collapsed_sections": []
    },
    "kernelspec": {
      "name": "python3",
      "display_name": "Python 3"
    },
    "language_info": {
      "name": "python"
    }
  },
  "cells": [
    {
      "cell_type": "markdown",
      "source": [
        "# Lý thuyết "
      ],
      "metadata": {
        "id": "-lbWQH5qzR28"
      }
    },
    {
      "cell_type": "markdown",
      "source": [
        "1. Để khởi tạo model trong pytorch chúng ta sử dụng class nào?\n",
        " \n",
        "  A. nn.Module"
      ],
      "metadata": {
        "id": "POv4WokmzaoB"
      }
    },
    {
      "cell_type": "markdown",
      "source": [
        "2. Để khởi tạo mạng neural network trong pytorch chúng ta cần làm gì ?\n",
        "\n",
        "  D. Kế thừa lại class nn.Module. Khởi tạo các layers trong hàm tạo __init__() và sử dụng các layers để tính toán dữ liệu trong hàm forward()."
      ],
      "metadata": {
        "id": "97pa7chQ1xEC"
      }
    },
    {
      "cell_type": "markdown",
      "source": [
        "3. Các modules chính trong pytorch dùng để xây dựng và huấn luyện model.\n",
        "\n",
        "  B. torch.nn: Dùng để khởi tạo các layers và activations function và loss function, torch.optim: Khởi tạo optimizer, torch.utils.data: Khởi tạo dataset và dataloader"
      ],
      "metadata": {
        "id": "RY1J9ZR6WeF2"
      }
    },
    {
      "cell_type": "markdown",
      "source": [
        "4. Để customize một Dataset trên pytorch chúng ta cần thực hiện như thế nào?\n",
        "\n",
        "  B. Khởi tạo một class kế thừa lại torch.utils.data.Dataset. Khai báo các thuộc tính cần sử dụng trong hàm tạo của dataset như list đường dẫn, list label. Override lại hàm __getitem__() để thực hiện các xử lý trên dữ liệu"
      ],
      "metadata": {
        "id": "dTbbAkYVX4xg"
      }
    },
    {
      "cell_type": "markdown",
      "source": [
        "5. Ý nghĩa của tham số epochs và batch_size trong huấn luyện mô hình là gì?\n",
        "\n",
        "     C. epochs là số lượt lặp lại toàn bộ dữ liệu train khi huấn luyện, batch_size là kích thước của một mini-batch."
      ],
      "metadata": {
        "id": "jubWoLlSZBu0"
      }
    },
    {
      "cell_type": "markdown",
      "source": [
        "# Thực hành"
      ],
      "metadata": {
        "id": "4dkMCq4uZbL0"
      }
    },
    {
      "cell_type": "markdown",
      "source": [
        "6) Khởi tạo một tensor 3 chiều với định dạng là float và kích thước là 32x32x3"
      ],
      "metadata": {
        "id": "bchlFWaKZt0K"
      }
    },
    {
      "cell_type": "code",
      "execution_count": null,
      "metadata": {
        "id": "aIeIOUAUzGIm"
      },
      "outputs": [],
      "source": [
        "import torch\n",
        "\n",
        "A = torch.randn([32, 32, 3])"
      ]
    },
    {
      "cell_type": "markdown",
      "source": [
        "7) Nếu coi tensor trên là một bức ảnh RGB với số channel là 3 ở cuối. Hãy truy suất các ma trận ảnh tương ứng với mỗi kênh R, G, B."
      ],
      "metadata": {
        "id": "jpBe-ZY-aYGX"
      }
    },
    {
      "cell_type": "code",
      "source": [
        "R = A[:,:,0]\n",
        "G = A[:,:,1]\n",
        "B = A[:,:,2]"
      ],
      "metadata": {
        "id": "lOvKs9Paagqp"
      },
      "execution_count": null,
      "outputs": []
    },
    {
      "cell_type": "markdown",
      "source": [
        "8) Thực hiện tích hadamard và tích thông thường giữa ma trận R và G."
      ],
      "metadata": {
        "id": "Yt319RAVa4RZ"
      }
    },
    {
      "cell_type": "code",
      "source": [
        "result_hadamard = R*G\n",
        "result_normal = R@G"
      ],
      "metadata": {
        "id": "UNOFAh9ebCjs"
      },
      "execution_count": null,
      "outputs": []
    },
    {
      "cell_type": "code",
      "source": [
        "result_hadamard"
      ],
      "metadata": {
        "colab": {
          "base_uri": "https://localhost:8080/"
        },
        "id": "5nMm9RdSbYxI",
        "outputId": "8d814131-50ba-48d4-c47d-942c6947b5df"
      },
      "execution_count": null,
      "outputs": [
        {
          "output_type": "execute_result",
          "data": {
            "text/plain": [
              "tensor([[-0.4287, -0.0635,  0.5941,  ...,  0.1021,  0.6925, -0.0462],\n",
              "        [-0.1671,  0.4009, -0.1885,  ...,  0.2403, -2.5749,  2.6918],\n",
              "        [-0.4400, -0.3964,  0.0608,  ..., -1.3492,  0.0219,  0.0627],\n",
              "        ...,\n",
              "        [ 0.9453,  0.3339, -0.1231,  ...,  3.7963,  4.1594,  0.9520],\n",
              "        [ 0.1076,  0.2886, -0.1423,  ...,  0.4550, -0.1090, -0.2966],\n",
              "        [ 2.0144, -0.1713, -0.0280,  ...,  0.1208, -1.5900, -0.9243]])"
            ]
          },
          "metadata": {},
          "execution_count": 10
        }
      ]
    },
    {
      "cell_type": "code",
      "source": [
        "result_normal"
      ],
      "metadata": {
        "colab": {
          "base_uri": "https://localhost:8080/"
        },
        "id": "vZy0-iGMbbSa",
        "outputId": "e09d004f-4e4e-4cbe-a960-0a64495812e5"
      },
      "execution_count": null,
      "outputs": [
        {
          "output_type": "execute_result",
          "data": {
            "text/plain": [
              "tensor([[ 7.4802,  0.5341,  5.7079,  ..., -5.0701,  0.9830,  7.9292],\n",
              "        [-0.9853,  2.9422,  0.5887,  ..., 11.5475,  8.4835,  3.6583],\n",
              "        [ 1.0256, -1.5988,  5.6691,  ...,  2.2398,  0.9005,  3.8246],\n",
              "        ...,\n",
              "        [ 2.4497,  0.0919, -2.9607,  ...,  6.4261,  5.7593,  3.5547],\n",
              "        [-4.4682,  1.9392, -0.6868,  ...,  1.8579,  8.2707,  0.5727],\n",
              "        [-3.1464, -4.6927,  1.2384,  ..., -4.6144,  2.9537,  5.0531]])"
            ]
          },
          "metadata": {},
          "execution_count": 11
        }
      ]
    },
    {
      "cell_type": "markdown",
      "source": [
        "##### 9) Từ bộ dữ liệu Income-Classification hãy chuẩn hóa dữ liệu và phân chia tập train/test theo tỷ lệ 80/20."
      ],
      "metadata": {
        "id": "6hGD7_Aqb5JP"
      }
    },
    {
      "cell_type": "code",
      "source": [
        "from google.colab import drive\n",
        "import os\n",
        "drive.mount('/content/drive')\n",
        "path = \"/content/drive/My Drive/machine_learning_hand_On_DS/kaggle/income\"\n",
        "# OS.chdir(path)\n",
        "%cd {path}"
      ],
      "metadata": {
        "colab": {
          "base_uri": "https://localhost:8080/"
        },
        "id": "PoXlSCnPcJBD",
        "outputId": "228156e4-df95-4d14-e13b-16df08f4c09c"
      },
      "execution_count": null,
      "outputs": [
        {
          "output_type": "stream",
          "name": "stdout",
          "text": [
            "Mounted at /content/drive\n",
            "/content/drive/My Drive/machine_learning_hand_On_DS/kaggle/income\n"
          ]
        }
      ]
    },
    {
      "cell_type": "code",
      "source": [
        "import numpy as np\n",
        "import random\n",
        "def seed_all(seed):\n",
        "    np.random.seed(seed)\n",
        "    random.seed(seed)\n",
        "seed = 42 \n",
        "seed_all(seed)"
      ],
      "metadata": {
        "id": "FxSod6PxG2Fu"
      },
      "execution_count": null,
      "outputs": []
    },
    {
      "cell_type": "code",
      "source": [
        "import pandas as pd\n",
        "import re\n",
        "from sklearn.preprocessing import LabelEncoder\n",
        "from sklearn.preprocessing import StandardScaler\n",
        "from sklearn.model_selection import train_test_split\n",
        "from sklearn.metrics import accuracy_score, f1_score, roc_auc_score, confusion_matrix, classification_report"
      ],
      "metadata": {
        "id": "j-crGNsSG-V9"
      },
      "execution_count": null,
      "outputs": []
    },
    {
      "cell_type": "code",
      "source": [
        "#metric\n",
        "def get_metrics(y_test, y_pred):\n",
        "    print('ACCURACY_SCORE: ', round(accuracy_score(y_test, y_pred), 4))\n",
        "    print('F1_SCORE: ', round(f1_score(y_test, y_pred, average='macro'), 4))\n",
        "    print('CONFUSION_MATRIX:\\n', confusion_matrix(y_test, y_pred),'\\n')\n",
        "    print(classification_report(y_test, y_pred, digits=4), '\\n')"
      ],
      "metadata": {
        "id": "2euxD_feHWGH"
      },
      "execution_count": null,
      "outputs": []
    },
    {
      "cell_type": "code",
      "source": [
        "df_all = pd.read_csv('train.csv')"
      ],
      "metadata": {
        "id": "XZBMxWmJHX-W"
      },
      "execution_count": null,
      "outputs": []
    },
    {
      "cell_type": "code",
      "source": [
        "# normalize string\n",
        "def str_normalize(s):\n",
        "    # convert into lowercase and replace multiple spaces into single space\n",
        "    s = str(s).strip().lower()\n",
        "    s = re.sub(' +', \" \", s)\n",
        "    return s\n",
        "# Encode category and object columns \n",
        "def process(df):        \n",
        "  for col in df.columns:\n",
        "      if df[col].dtype.name == \"object\" or df[col].dtype.name == \"category\":\n",
        "          df[col] = df[col].apply(str_normalize).astype(\"category\")\n",
        "  return df\n",
        "df_all = process(df_all.copy())\n",
        "IDs=df_all.pop('ID')\n",
        "label = df_all.pop('target_income')\n",
        "df_all_one_hot = pd.get_dummies(df_all)"
      ],
      "metadata": {
        "id": "EXO_EPoLHlrv"
      },
      "execution_count": null,
      "outputs": []
    },
    {
      "cell_type": "code",
      "source": [
        "features = df_all_one_hot.columns.tolist()\n",
        "label = label.values"
      ],
      "metadata": {
        "id": "wLvY-zxJIOwe"
      },
      "execution_count": null,
      "outputs": []
    },
    {
      "cell_type": "code",
      "source": [
        "features = df_all_one_hot.columns.tolist()\n",
        "\n",
        "x_train, x_test, y_train, y_test = train_test_split(df_all_one_hot[features].values, # input variable\n",
        "                                                    label, # output variable\n",
        "                                                    test_size=0.2, # test dataset proportion\n",
        "                                                    # stratify=df_all['target_income'], # assign equal proportion of target label in train/test \n",
        "                                                    random_state=0) # keep train/test split the same if run again. \n",
        "print ('Training Set: %d, Test Set: %d \\n' % (len(x_train), len(x_test)))\n",
        "#normalize\n",
        "sc = StandardScaler()\n",
        "x_train = sc.fit_transform(x_train)\n",
        "x_test = sc.transform(x_test)"
      ],
      "metadata": {
        "colab": {
          "base_uri": "https://localhost:8080/"
        },
        "id": "VcnCTHY5IZG2",
        "outputId": "bdb6d6d9-517c-4d80-dbe0-e371e4ff3b94"
      },
      "execution_count": null,
      "outputs": [
        {
          "output_type": "stream",
          "name": "stdout",
          "text": [
            "Training Set: 20000, Test Set: 5000 \n",
            "\n"
          ]
        }
      ]
    },
    {
      "cell_type": "markdown",
      "source": [
        "##### 10. Xây dựng một mạng deep-neural-network để huấn luyện mô hình trên dữ liệu train và đánh giá mô hình trên dữ liệu test."
      ],
      "metadata": {
        "id": "58bHWa4HI47a"
      }
    },
    {
      "cell_type": "code",
      "source": [
        "import torch\n",
        "import torch.nn as nn\n",
        "import torch.utils.data as td\n",
        "\n",
        "# Set random seed for reproducability\n",
        "torch.manual_seed(0)\n",
        "\n",
        "print(\"Libraries imported - ready to use PyTorch\", torch.__version__)"
      ],
      "metadata": {
        "colab": {
          "base_uri": "https://localhost:8080/"
        },
        "id": "r9jcSmBlKuM4",
        "outputId": "7beeeb1d-2d0f-4843-b613-ac063317a613"
      },
      "execution_count": null,
      "outputs": [
        {
          "output_type": "stream",
          "name": "stdout",
          "text": [
            "Libraries imported - ready to use PyTorch 1.10.0+cu111\n"
          ]
        }
      ]
    },
    {
      "cell_type": "code",
      "source": [
        "# Create a dataset and loader for the training data and labels\n",
        "train_x = torch.Tensor(x_train).float()\n",
        "train_y = torch.Tensor(y_train).long()\n",
        "train_ds = td.TensorDataset(train_x,train_y)\n",
        "train_loader = td.DataLoader(train_ds, batch_size=100,\n",
        "    shuffle=True, num_workers=1)\n",
        "\n",
        "# Create a dataset and loader for the test data and labels\n",
        "test_x = torch.Tensor(x_test).float()\n",
        "test_y = torch.Tensor(y_test).long()\n",
        "test_ds = td.TensorDataset(test_x,test_y)\n",
        "test_loader = td.DataLoader(test_ds, batch_size=20,\n",
        "    shuffle=False, num_workers=1)\n",
        "print('Ready to load data')\n",
        "\n"
      ],
      "metadata": {
        "colab": {
          "base_uri": "https://localhost:8080/"
        },
        "id": "5cLxIpuJJCUE",
        "outputId": "b1339b16-3159-487f-caf4-696dace6a552"
      },
      "execution_count": null,
      "outputs": [
        {
          "output_type": "stream",
          "name": "stdout",
          "text": [
            "Ready to load data\n"
          ]
        }
      ]
    },
    {
      "cell_type": "code",
      "source": [
        "hl = 50\n",
        "# Define the neural network\n",
        "class IncomeNet(nn.Module):\n",
        "    def __init__(self):\n",
        "        super(IncomeNet, self).__init__()\n",
        "        self.fc1 = nn.Linear(len(features), hl)\n",
        "        self.fc2 = nn.Linear(hl, hl)\n",
        "        self.fc3 = nn.Linear(hl, 2)\n",
        "\n",
        "    def forward(self, x):\n",
        "        x = torch.relu(self.fc1(x))\n",
        "        x = torch.relu(self.fc2(x))\n",
        "        x = torch.relu(self.fc3(x))\n",
        "        return x\n",
        "\n",
        "# Create a model instance from the network\n",
        "model = IncomeNet()\n",
        "print(model)"
      ],
      "metadata": {
        "colab": {
          "base_uri": "https://localhost:8080/"
        },
        "id": "-GRzx85VIewT",
        "outputId": "9167b73c-a4e0-4f92-a9fc-c74ffcfd1d50"
      },
      "execution_count": null,
      "outputs": [
        {
          "output_type": "stream",
          "name": "stdout",
          "text": [
            "IncomeNet(\n",
            "  (fc1): Linear(in_features=108, out_features=50, bias=True)\n",
            "  (fc2): Linear(in_features=50, out_features=50, bias=True)\n",
            "  (fc3): Linear(in_features=50, out_features=2, bias=True)\n",
            ")\n"
          ]
        }
      ]
    },
    {
      "cell_type": "code",
      "source": [
        "def train(model, data_loader, optimizer):\n",
        "    # Set the model to training mode\n",
        "    model.train()\n",
        "    train_loss = 0\n",
        "    \n",
        "    for batch, tensor in enumerate(data_loader):\n",
        "        data, target = tensor\n",
        "        #feedforward: calculate y_pred and loss function\n",
        "        optimizer.zero_grad()\n",
        "        out = model(data)\n",
        "        loss = loss_criteria(out, target)\n",
        "        train_loss += loss.item()\n",
        "\n",
        "        # backpropagate: compute gradient descent and update weights\n",
        "        loss.backward()\n",
        "        optimizer.step()\n",
        "\n",
        "    #Return average loss\n",
        "    avg_loss = train_loss / (batch+1)\n",
        "    print('Training set: Average loss: {:.6f}'.format(avg_loss))\n",
        "    return avg_loss\n",
        "           \n",
        "            \n",
        "def test(model, data_loader):\n",
        "    # Switch the model to evaluation mode (so we don't backpropagate)\n",
        "    model.eval()\n",
        "    test_loss = 0\n",
        "    correct = 0\n",
        "\n",
        "    with torch.no_grad():\n",
        "        batch_count = 0\n",
        "        for batch, tensor in enumerate(data_loader):\n",
        "            batch_count += 1\n",
        "            data, target = tensor\n",
        "            # Get the predictions\n",
        "            out = model(data)\n",
        "\n",
        "            # calculate the loss\n",
        "            test_loss += loss_criteria(out, target).item()\n",
        "\n",
        "            # Calculate the accuracy\n",
        "            _, predicted = torch.max(out.data, 1)\n",
        "            correct += torch.sum(target==predicted).item()\n",
        "            \n",
        "    # Calculate the average loss and total accuracy for this epoch\n",
        "    avg_loss = test_loss/batch_count\n",
        "    print('Validation set: Average loss: {:.6f}, Accuracy: {}/{} ({:.0f}%)\\n'.format(\n",
        "        avg_loss, correct, len(data_loader.dataset),\n",
        "        100. * correct / len(data_loader.dataset)))\n",
        "    \n",
        "    # return average loss for the epoch\n",
        "    return avg_loss\n",
        "\n",
        "# Specify the loss criteria (we'll use CrossEntropyLoss for multi-class classification)\n",
        "loss_criteria = nn.CrossEntropyLoss()\n",
        "\n",
        "# Use an \"Adam\" optimizer to adjust weights\n",
        "# (see https://pytorch.org/docs/stable/optim.html#algorithms for details of supported algorithms)\n",
        "learning_rate = 0.001\n",
        "optimizer = torch.optim.Adam(model.parameters(), lr=learning_rate)\n",
        "optimizer.zero_grad()\n",
        "\n",
        "# We'll track metrics for each epoch in these arrays\n",
        "epoch_nums = []\n",
        "training_loss = []\n",
        "validation_loss = []\n",
        "\n",
        "# Train over 50 epochs\n",
        "epochs = 50\n",
        "for epoch in range(1, epochs + 1):\n",
        "\n",
        "    # print the epoch number\n",
        "    print('Epoch: {}'.format(epoch))\n",
        "    \n",
        "    # Feed training data into the model to optimize the weights\n",
        "    train_loss = train(model, train_loader, optimizer)\n",
        "    \n",
        "    # Feed the test data into the model to check its performance\n",
        "    test_loss = test(model, test_loader)\n",
        "    \n",
        "    # Log the metrics for this epoch\n",
        "    epoch_nums.append(epoch)\n",
        "    training_loss.append(train_loss)\n",
        "    validation_loss.append(test_loss)\n"
      ],
      "metadata": {
        "colab": {
          "base_uri": "https://localhost:8080/"
        },
        "id": "fYJphqsEOqCG",
        "outputId": "3c633498-27bf-4aa4-9aa3-a7c27c4a5d0f"
      },
      "execution_count": null,
      "outputs": [
        {
          "output_type": "stream",
          "name": "stdout",
          "text": [
            "Epoch: 1\n",
            "Training set: Average loss: 0.437949\n",
            "Validation set: Average loss: 0.324706, Accuracy: 4214/5000 (84%)\n",
            "\n",
            "Epoch: 2\n",
            "Training set: Average loss: 0.322784\n",
            "Validation set: Average loss: 0.312720, Accuracy: 4248/5000 (85%)\n",
            "\n",
            "Epoch: 3\n",
            "Training set: Average loss: 0.311135\n",
            "Validation set: Average loss: 0.311693, Accuracy: 4263/5000 (85%)\n",
            "\n",
            "Epoch: 4\n",
            "Training set: Average loss: 0.304944\n",
            "Validation set: Average loss: 0.309665, Accuracy: 4259/5000 (85%)\n",
            "\n",
            "Epoch: 5\n",
            "Training set: Average loss: 0.300706\n",
            "Validation set: Average loss: 0.310719, Accuracy: 4254/5000 (85%)\n",
            "\n",
            "Epoch: 6\n",
            "Training set: Average loss: 0.296940\n",
            "Validation set: Average loss: 0.309115, Accuracy: 4252/5000 (85%)\n",
            "\n",
            "Epoch: 7\n",
            "Training set: Average loss: 0.293479\n",
            "Validation set: Average loss: 0.311996, Accuracy: 4268/5000 (85%)\n",
            "\n",
            "Epoch: 8\n",
            "Training set: Average loss: 0.291079\n",
            "Validation set: Average loss: 0.314873, Accuracy: 4269/5000 (85%)\n",
            "\n",
            "Epoch: 9\n",
            "Training set: Average loss: 0.287230\n",
            "Validation set: Average loss: 0.316832, Accuracy: 4241/5000 (85%)\n",
            "\n",
            "Epoch: 10\n",
            "Training set: Average loss: 0.285612\n",
            "Validation set: Average loss: 0.319208, Accuracy: 4279/5000 (86%)\n",
            "\n",
            "Epoch: 11\n",
            "Training set: Average loss: 0.283770\n",
            "Validation set: Average loss: 0.325530, Accuracy: 4264/5000 (85%)\n",
            "\n",
            "Epoch: 12\n",
            "Training set: Average loss: 0.281077\n",
            "Validation set: Average loss: 0.328367, Accuracy: 4260/5000 (85%)\n",
            "\n",
            "Epoch: 13\n",
            "Training set: Average loss: 0.278474\n",
            "Validation set: Average loss: 0.333072, Accuracy: 4248/5000 (85%)\n",
            "\n",
            "Epoch: 14\n",
            "Training set: Average loss: 0.275258\n",
            "Validation set: Average loss: 0.332424, Accuracy: 4258/5000 (85%)\n",
            "\n",
            "Epoch: 15\n",
            "Training set: Average loss: 0.273437\n",
            "Validation set: Average loss: 0.334293, Accuracy: 4234/5000 (85%)\n",
            "\n",
            "Epoch: 16\n",
            "Training set: Average loss: 0.270987\n",
            "Validation set: Average loss: 0.336466, Accuracy: 4244/5000 (85%)\n",
            "\n",
            "Epoch: 17\n",
            "Training set: Average loss: 0.269340\n",
            "Validation set: Average loss: 0.342051, Accuracy: 4247/5000 (85%)\n",
            "\n",
            "Epoch: 18\n",
            "Training set: Average loss: 0.266498\n",
            "Validation set: Average loss: 0.346641, Accuracy: 4233/5000 (85%)\n",
            "\n",
            "Epoch: 19\n",
            "Training set: Average loss: 0.264496\n",
            "Validation set: Average loss: 0.349628, Accuracy: 4237/5000 (85%)\n",
            "\n",
            "Epoch: 20\n",
            "Training set: Average loss: 0.262846\n",
            "Validation set: Average loss: 0.356005, Accuracy: 4239/5000 (85%)\n",
            "\n",
            "Epoch: 21\n",
            "Training set: Average loss: 0.261071\n",
            "Validation set: Average loss: 0.358825, Accuracy: 4239/5000 (85%)\n",
            "\n",
            "Epoch: 22\n",
            "Training set: Average loss: 0.258337\n",
            "Validation set: Average loss: 0.361438, Accuracy: 4234/5000 (85%)\n",
            "\n",
            "Epoch: 23\n",
            "Training set: Average loss: 0.256622\n",
            "Validation set: Average loss: 0.361808, Accuracy: 4226/5000 (85%)\n",
            "\n",
            "Epoch: 24\n",
            "Training set: Average loss: 0.254250\n",
            "Validation set: Average loss: 0.372513, Accuracy: 4222/5000 (84%)\n",
            "\n",
            "Epoch: 25\n",
            "Training set: Average loss: 0.254384\n",
            "Validation set: Average loss: 0.371373, Accuracy: 4230/5000 (85%)\n",
            "\n",
            "Epoch: 26\n",
            "Training set: Average loss: 0.250902\n",
            "Validation set: Average loss: 0.380333, Accuracy: 4228/5000 (85%)\n",
            "\n",
            "Epoch: 27\n",
            "Training set: Average loss: 0.249550\n",
            "Validation set: Average loss: 0.388838, Accuracy: 4220/5000 (84%)\n",
            "\n",
            "Epoch: 28\n",
            "Training set: Average loss: 0.248574\n",
            "Validation set: Average loss: 0.390050, Accuracy: 4229/5000 (85%)\n",
            "\n",
            "Epoch: 29\n",
            "Training set: Average loss: 0.246006\n",
            "Validation set: Average loss: 0.388131, Accuracy: 4231/5000 (85%)\n",
            "\n",
            "Epoch: 30\n",
            "Training set: Average loss: 0.246101\n",
            "Validation set: Average loss: 0.388976, Accuracy: 4234/5000 (85%)\n",
            "\n",
            "Epoch: 31\n",
            "Training set: Average loss: 0.244423\n",
            "Validation set: Average loss: 0.397638, Accuracy: 4224/5000 (84%)\n",
            "\n",
            "Epoch: 32\n",
            "Training set: Average loss: 0.242158\n",
            "Validation set: Average loss: 0.402841, Accuracy: 4223/5000 (84%)\n",
            "\n",
            "Epoch: 33\n",
            "Training set: Average loss: 0.241374\n",
            "Validation set: Average loss: 0.399593, Accuracy: 4225/5000 (84%)\n",
            "\n",
            "Epoch: 34\n",
            "Training set: Average loss: 0.239935\n",
            "Validation set: Average loss: 0.405164, Accuracy: 4219/5000 (84%)\n",
            "\n",
            "Epoch: 35\n",
            "Training set: Average loss: 0.238292\n",
            "Validation set: Average loss: 0.413383, Accuracy: 4230/5000 (85%)\n",
            "\n",
            "Epoch: 36\n",
            "Training set: Average loss: 0.235987\n",
            "Validation set: Average loss: 0.413621, Accuracy: 4222/5000 (84%)\n",
            "\n",
            "Epoch: 37\n",
            "Training set: Average loss: 0.234553\n",
            "Validation set: Average loss: 0.426623, Accuracy: 4209/5000 (84%)\n",
            "\n",
            "Epoch: 38\n",
            "Training set: Average loss: 0.234427\n",
            "Validation set: Average loss: 0.431790, Accuracy: 4227/5000 (85%)\n",
            "\n",
            "Epoch: 39\n",
            "Training set: Average loss: 0.232541\n",
            "Validation set: Average loss: 0.425299, Accuracy: 4211/5000 (84%)\n",
            "\n",
            "Epoch: 40\n",
            "Training set: Average loss: 0.232372\n",
            "Validation set: Average loss: 0.433363, Accuracy: 4219/5000 (84%)\n",
            "\n",
            "Epoch: 41\n",
            "Training set: Average loss: 0.232405\n",
            "Validation set: Average loss: 0.436165, Accuracy: 4213/5000 (84%)\n",
            "\n",
            "Epoch: 42\n",
            "Training set: Average loss: 0.229046\n",
            "Validation set: Average loss: 0.448747, Accuracy: 4228/5000 (85%)\n",
            "\n",
            "Epoch: 43\n",
            "Training set: Average loss: 0.227386\n",
            "Validation set: Average loss: 0.452785, Accuracy: 4224/5000 (84%)\n",
            "\n",
            "Epoch: 44\n",
            "Training set: Average loss: 0.227782\n",
            "Validation set: Average loss: 0.447653, Accuracy: 4217/5000 (84%)\n",
            "\n",
            "Epoch: 45\n",
            "Training set: Average loss: 0.226118\n",
            "Validation set: Average loss: 0.465064, Accuracy: 4220/5000 (84%)\n",
            "\n",
            "Epoch: 46\n",
            "Training set: Average loss: 0.225137\n",
            "Validation set: Average loss: 0.463135, Accuracy: 4196/5000 (84%)\n",
            "\n",
            "Epoch: 47\n",
            "Training set: Average loss: 0.223994\n",
            "Validation set: Average loss: 0.472577, Accuracy: 4218/5000 (84%)\n",
            "\n",
            "Epoch: 48\n",
            "Training set: Average loss: 0.223248\n",
            "Validation set: Average loss: 0.465442, Accuracy: 4213/5000 (84%)\n",
            "\n",
            "Epoch: 49\n",
            "Training set: Average loss: 0.221551\n",
            "Validation set: Average loss: 0.466068, Accuracy: 4206/5000 (84%)\n",
            "\n",
            "Epoch: 50\n",
            "Training set: Average loss: 0.220726\n",
            "Validation set: Average loss: 0.472774, Accuracy: 4203/5000 (84%)\n",
            "\n"
          ]
        }
      ]
    },
    {
      "cell_type": "markdown",
      "source": [
        "=> mô hình có dấu hiệu overfitting"
      ],
      "metadata": {
        "id": "rvGzZ0ioQfbl"
      }
    },
    {
      "cell_type": "code",
      "source": [
        "%matplotlib inline\n",
        "from matplotlib import pyplot as plt\n",
        "\n",
        "plt.plot(epoch_nums, training_loss)\n",
        "plt.plot(epoch_nums, validation_loss)\n",
        "plt.xlabel('epoch')\n",
        "plt.ylabel('loss')\n",
        "plt.legend(['training', 'validation'], loc='upper right')\n",
        "plt.show()"
      ],
      "metadata": {
        "colab": {
          "base_uri": "https://localhost:8080/",
          "height": 279
        },
        "id": "F668RURKQx_l",
        "outputId": "641876e1-cba4-42c0-cd28-43dcc0ae7607"
      },
      "execution_count": null,
      "outputs": [
        {
          "output_type": "display_data",
          "data": {
            "image/png": "[encoded data removed]",
            "text/plain": [
              "<Figure size 432x288 with 1 Axes>"
            ]
          },
          "metadata": {
            "needs_background": "light"
          }
        }
      ]
    },
    {
      "cell_type": "code",
      "source": [
        "# evaluate\n",
        "model.eval()\n",
        "\n",
        "# Get predictions for the test data\n",
        "x = torch.Tensor(x_test).float()\n",
        "_, predicted = torch.max(model(x).data, 1)"
      ],
      "metadata": {
        "id": "MJv0PxXlPyAR"
      },
      "execution_count": null,
      "outputs": []
    },
    {
      "cell_type": "code",
      "source": [
        "get_metrics(y_test, predicted)"
      ],
      "metadata": {
        "colab": {
          "base_uri": "https://localhost:8080/"
        },
        "id": "iyBhnupiQAL-",
        "outputId": "8ada9aef-b670-4b37-9cc2-e131baf9cdcc"
      },
      "execution_count": null,
      "outputs": [
        {
          "output_type": "stream",
          "name": "stdout",
          "text": [
            "ACCURACY_SCORE:  0.8406\n",
            "F1_SCORE:  0.7619\n",
            "CONFUSION_MATRIX:\n",
            " [[3539  272]\n",
            " [ 525  664]] \n",
            "\n",
            "              precision    recall  f1-score   support\n",
            "\n",
            "           0     0.8708    0.9286    0.8988      3811\n",
            "           1     0.7094    0.5585    0.6249      1189\n",
            "\n",
            "    accuracy                         0.8406      5000\n",
            "   macro avg     0.7901    0.7435    0.7619      5000\n",
            "weighted avg     0.8324    0.8406    0.8337      5000\n",
            " \n",
            "\n"
          ]
        }
      ]
    }
  ]
}