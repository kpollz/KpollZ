{
  "nbformat": 4,
  "nbformat_minor": 0,
  "metadata": {
    "colab": {
      "name": "3.PytorchHomeWork_LeMinhHieu.ipynb",
      "provenance": [],
      "collapsed_sections": []
    },
    "kernelspec": {
      "name": "python3",
      "display_name": "Python 3"
    },
    "language_info": {
      "name": "python"
    }
  },
  "cells": [
    {
      "cell_type": "markdown",
      "source": [
        "# 1. Lý thuyết\n",
        "\n",
        "**1) Để khởi tạo model trong pytorch chúng ta sử dụng class nào?**\n",
        "\n",
        "A. nn.Module\n",
        "\n",
        "B. nn.Dense\n",
        "\n",
        "C. nn.optim.Adam\n",
        "\n",
        "D. nn.Dropout\n",
        "\n",
        "***Đáp án: A.***\n",
        "\n",
        "**2) Để khởi tạo mạng neural network trong pytorch chúng ta cần làm gì ?**\n",
        "\n",
        "A. Kế thừa lại class `nn.Model`. Khởi tạo các layers trong hàm tạo `__init__()` và sử dụng các layers để tính toán dữ liệu trong hàm `forward()`.\n",
        "\n",
        "B. Khởi tạo một object của class `nn.Model` và sử dụng hàm `add()` để thêm từng layer vào mô hình.\n",
        "\n",
        "C. Sử dụng class `nn.Model` để khởi tạo mô hình. Truyền vào bên trong class này một list gồm các layers.\n",
        "\n",
        "D. Kế thừa lại class `nn.Module`. Khởi tạo các layers trong hàm tạo `__init__()` và sử dụng các layers để tính toán dữ liệu trong hàm `forward()`.\n",
        "\n",
        "***Đáp án: D.***\n",
        "\n",
        "**3) Các modules chính trong pytorch dùng để xây dựng và huấn luyện model.**\n",
        "\n",
        "A. `torch.nn`: Dùng để khởi tạo các layers và activations function và loss function, `torch.optim`: Khởi tạo optimizer, `torch.data`: Khởi tạo dataset và dataloader.\n",
        "\n",
        "B. `torch.nn`: Dùng để khởi tạo các layers và activations function và loss function, `torch.optim`: Khởi tạo optimizer, `torch.utils.data`: Khởi tạo dataset và dataloader.\n",
        "\n",
        "C. `torch.nn`: Dùng để khởi tạo các layers và activations function, `torch.optim`: Khởi tạo optimizer, `torch.data`: Khởi tạo dataset và dataloader, `torch.loss`: Khởi tạo loss function.\n",
        "\n",
        "D. `torch.nn`: Dùng để khởi tạo các layers và loss function, `torch.optim`: Khởi tạo optimizer, `torch.data`: Khởi tạo dataset và dataloader, `torch.activations`: Khởi tạo activations function.\n",
        "\n",
        "***Đáp án: B.***\n",
        "\n",
        "**4) Để customize một Dataset trên pytorch chúng ta cần thực hiện như thế nào?**\n",
        "\n",
        "A. Sử dụng thuộc tính `transformer` để qui định các biến đổi trên dữ liệu. Những biến đổi này được thực hiện trên hàm tạo.\n",
        "\n",
        "B. Khởi tạo một class kế thừa lại `torch.utils.data.Dataset`. Khai báo các thuộc tính cần sử dụng trong hàm tạo của dataset như list đường dẫn, list label. Override lại hàm `__getitem__()` để thực hiện các xử lý trên dữ liệu.\n",
        "\n",
        "C. Kế thừa lại một class `Dataset`. Các điều chỉnh trên dữ liệu được thực hiện trên hàm `transformer()`.\n",
        "\n",
        "D. Sử dụng hàm `__getitem__()` để trả về toàn bộ các quan sát khi huấn luyện. \n",
        "\n",
        "***Đáp án: B.***\n",
        "\n",
        "**5) Ý nghĩa của tham số epochs và batch_size trong huấn luyện mô hình là gì?**\n",
        "\n",
        "A. epochs là kích thước của một mini-batch, batch_size là số lượt lặp lại toàn bộ dữ liệu khi huấn luyện.\n",
        "\n",
        "B. epochs là số lượt lặp lại toàn bộ dữ liệu validation khi huấn luyện, batch_size là kích thước của một mini-batch.\n",
        "\n",
        "C. epochs là số lượt lặp lại toàn bộ dữ liệu train khi huấn luyện, batch_size là kích thước của một mini-batch.\n",
        "\n",
        "D. epochs là số lượng vòng lặp, mỗi vòng lặp là một lượt fit mini-batch, trên bộ dữ liệu khi huấn luyện; batch_size là kích thước của một mini-batch.\n",
        "\n",
        "***Đáp án: C.***"
      ],
      "metadata": {
        "id": "DUXbtwUsAGPq"
      }
    },
    {
      "cell_type": "markdown",
      "source": [
        "# 2. Thực hành\n",
        "\n",
        "6) Khởi tạo một tensor 3 chiều với định dạng là float và kích thước là 32x32x3\n",
        "\n",
        "7) Nếu coi tensor trên là một bức ảnh RGB với số channel là 3 ở cuối. Hãy truy suất các ma trận ảnh tương ứng với mỗi kênh R, G, B.\n",
        "\n",
        "8) Thực hiện tích hadamard và tích thông thường giữa ma trận R và G.\n",
        "\n",
        "9) Từ bộ dữ liệu [Income-Classification](https://www.kaggle.com/t/090688c8d33a40b68be9e271d6ba6bae) hãy chuẩn hóa dữ liệu và phân chia tập train/test theo tỷ lệ 80/20. \n",
        "\n",
        "10) Xây dựng một mạng deep-neural-network để huấn luyện mô hình trên dữ liệu train và đánh giá mô hình trên dữ liệu test.\n"
      ],
      "metadata": {
        "id": "LzLjMsckAJAT"
      }
    },
    {
      "cell_type": "code",
      "source": [
        "\"\"\" \n",
        "6) Khởi tạo một tensor 3 chiều với định dạng là float và kích thước là 32x32x3\n",
        "\"\"\"\n",
        "import torch\n",
        "\n",
        "A = torch.randn([3, 32, 32])\n",
        "A"
      ],
      "metadata": {
        "colab": {
          "base_uri": "https://localhost:8080/"
        },
        "id": "DsSa1aDRQvD5",
        "outputId": "b488d38e-e273-4a4d-d766-8c1dc8b231ef"
      },
      "execution_count": null,
      "outputs": [
        {
          "output_type": "execute_result",
          "data": {
            "text/plain": [
              "tensor([[[ 4.8305e-02, -1.4082e+00,  1.0186e-01,  ..., -8.3301e-03,\n",
              "           4.7519e-01,  1.2394e+00],\n",
              "         [-2.3391e+00, -1.0905e+00,  5.9573e-01,  ...,  1.0865e+00,\n",
              "          -3.3238e-01, -6.6738e-01],\n",
              "         [-6.1315e-01, -1.1049e+00,  1.6645e-01,  ..., -1.6105e+00,\n",
              "           1.3438e+00, -1.1908e+00],\n",
              "         ...,\n",
              "         [-5.0079e-01, -1.8216e-01,  8.9460e-02,  ...,  4.5041e-01,\n",
              "           5.8037e-01, -3.6350e-01],\n",
              "         [-1.4102e+00,  3.6289e-01, -1.0081e-01,  ...,  1.8196e+00,\n",
              "          -5.4718e-01, -3.9151e-01],\n",
              "         [-6.0639e-01,  1.6474e+00,  5.8068e-03,  ...,  4.2806e-01,\n",
              "           1.3034e-02, -5.7315e-01]],\n",
              "\n",
              "        [[-3.0374e-01, -6.7633e-01,  3.7332e-01,  ...,  9.8350e-02,\n",
              "           1.5194e+00, -7.7585e-01],\n",
              "         [ 1.3877e-01, -6.6181e-01,  1.4704e+00,  ...,  1.7292e+00,\n",
              "          -1.2492e-03, -1.2537e+00],\n",
              "         [ 3.7670e-01, -1.2402e+00, -1.1737e+00,  ...,  2.2843e-01,\n",
              "           1.0379e+00, -2.4566e-01],\n",
              "         ...,\n",
              "         [ 1.7062e-01,  7.3574e-01, -6.8342e-01,  ...,  2.3305e+00,\n",
              "          -1.9141e-01,  1.1042e+00],\n",
              "         [ 8.9987e-01, -1.3554e+00,  5.1094e-01,  ...,  6.3740e-02,\n",
              "           1.0463e+00, -1.7461e+00],\n",
              "         [-4.9626e-01,  3.7477e-01, -1.1859e-01,  ...,  1.0598e-02,\n",
              "          -4.4334e-01, -2.2159e+00]],\n",
              "\n",
              "        [[-7.5272e-01,  1.2807e+00, -1.4296e+00,  ...,  7.3945e-01,\n",
              "           4.0447e-01,  8.1543e-01],\n",
              "         [-1.3841e+00,  5.0384e-01,  1.5881e-01,  ...,  8.4987e-01,\n",
              "          -8.4429e-01,  6.7354e-01],\n",
              "         [ 1.2586e+00, -4.9519e-01,  1.4983e+00,  ..., -5.6967e-01,\n",
              "          -6.1551e-01, -1.0385e+00],\n",
              "         ...,\n",
              "         [-3.1362e-01,  5.9384e-01,  1.8277e+00,  ..., -9.7877e-02,\n",
              "           1.1723e+00, -3.6993e-01],\n",
              "         [ 1.4374e+00, -1.0551e+00,  2.2638e-01,  ...,  1.5659e+00,\n",
              "           1.0488e+00,  3.4985e-01],\n",
              "         [-1.9131e-01,  6.2903e-01, -4.8740e-01,  ..., -1.8255e-01,\n",
              "           1.6154e+00,  7.3233e-01]]])"
            ]
          },
          "metadata": {},
          "execution_count": 7
        }
      ]
    },
    {
      "cell_type": "code",
      "source": [
        "\"\"\"\n",
        "7) Nếu coi tensor trên là một bức ảnh RGB với số channel là 3 ở cuối. \n",
        "Hãy truy suất các ma trận ảnh tương ứng với mỗi kênh R, G, B.\n",
        "\"\"\"\n",
        "R, G, B = A[0], A[1], A[2]\n",
        "R"
      ],
      "metadata": {
        "colab": {
          "base_uri": "https://localhost:8080/"
        },
        "id": "4IfKWSlTQwG8",
        "outputId": "97bb46bc-8e08-4f23-d74e-36a227cda853"
      },
      "execution_count": null,
      "outputs": [
        {
          "output_type": "execute_result",
          "data": {
            "text/plain": [
              "tensor([[ 0.0483, -1.4082,  0.1019,  ..., -0.0083,  0.4752,  1.2394],\n",
              "        [-2.3391, -1.0905,  0.5957,  ...,  1.0865, -0.3324, -0.6674],\n",
              "        [-0.6131, -1.1049,  0.1665,  ..., -1.6105,  1.3438, -1.1908],\n",
              "        ...,\n",
              "        [-0.5008, -0.1822,  0.0895,  ...,  0.4504,  0.5804, -0.3635],\n",
              "        [-1.4102,  0.3629, -0.1008,  ...,  1.8196, -0.5472, -0.3915],\n",
              "        [-0.6064,  1.6474,  0.0058,  ...,  0.4281,  0.0130, -0.5731]])"
            ]
          },
          "metadata": {},
          "execution_count": 8
        }
      ]
    },
    {
      "cell_type": "code",
      "source": [
        "\"\"\"\n",
        "8) Thực hiện tích hadamard giữa ma trận R và G.\n",
        "\"\"\"\n",
        "R * G"
      ],
      "metadata": {
        "colab": {
          "base_uri": "https://localhost:8080/"
        },
        "id": "86es9v6WQwJ9",
        "outputId": "aa56bb6c-9afc-407a-a402-8de08814d879"
      },
      "execution_count": null,
      "outputs": [
        {
          "output_type": "execute_result",
          "data": {
            "text/plain": [
              "tensor([[-1.4672e-02,  9.5242e-01,  3.8028e-02,  ..., -8.1927e-04,\n",
              "          7.2200e-01, -9.6158e-01],\n",
              "        [-3.2460e-01,  7.2169e-01,  8.7597e-01,  ...,  1.8788e+00,\n",
              "          4.1520e-04,  8.3666e-01],\n",
              "        [-2.3097e-01,  1.3703e+00, -1.9536e-01,  ..., -3.6790e-01,\n",
              "          1.3948e+00,  2.9254e-01],\n",
              "        ...,\n",
              "        [-8.5446e-02, -1.3402e-01, -6.1139e-02,  ...,  1.0497e+00,\n",
              "         -1.1109e-01, -4.0139e-01],\n",
              "        [-1.2690e+00, -4.9187e-01, -5.1507e-02,  ...,  1.1598e-01,\n",
              "         -5.7249e-01,  6.8363e-01],\n",
              "        [ 3.0093e-01,  6.1737e-01, -6.8865e-04,  ...,  4.5365e-03,\n",
              "         -5.7785e-03,  1.2701e+00]])"
            ]
          },
          "metadata": {},
          "execution_count": 9
        }
      ]
    },
    {
      "cell_type": "code",
      "source": [
        "\"\"\"\n",
        "8) Thực hiện tích thông thường giữa ma trận R và G.\n",
        "\"\"\"\n",
        "R @ G"
      ],
      "metadata": {
        "colab": {
          "base_uri": "https://localhost:8080/"
        },
        "id": "urRSG-3FQwM5",
        "outputId": "01b6ecf2-7252-4918-b960-2d67c2ea9145"
      },
      "execution_count": null,
      "outputs": [
        {
          "output_type": "execute_result",
          "data": {
            "text/plain": [
              "tensor([[  2.0439,  -2.6264,   5.2867,  ...,  -8.9981,  -7.9491, -13.5370],\n",
              "        [  8.2063,  -1.4458,  -1.4141,  ...,  -0.7236,  -3.6924,   9.0805],\n",
              "        [ -1.5938,   2.8034,  14.2663,  ..., -13.9265,   0.4104,   1.9135],\n",
              "        ...,\n",
              "        [  7.3617,   6.2243,  -0.1970,  ...,   9.1568,  -1.8356,  -8.3084],\n",
              "        [  2.3088,  16.0073,   4.5329,  ...,   1.1523,  -8.2756,   9.0280],\n",
              "        [  6.5470,  -1.5565,  -0.9688,  ...,   6.0786,   0.6670,  -0.9739]])"
            ]
          },
          "metadata": {},
          "execution_count": 11
        }
      ]
    },
    {
      "cell_type": "code",
      "source": [
        "\"\"\"\n",
        "9) Từ bộ dữ liệu Income-Classification hãy chuẩn hóa dữ liệu \n",
        "và phân chia tập train/test theo tỷ lệ 80/20.\n",
        "\"\"\""
      ],
      "metadata": {
        "id": "gcJXqRnTQwXR"
      },
      "execution_count": null,
      "outputs": []
    },
    {
      "cell_type": "code",
      "source": [
        "from google.colab import drive\n",
        "\n",
        "drive.mount('/content/drive')"
      ],
      "metadata": {
        "colab": {
          "base_uri": "https://localhost:8080/"
        },
        "id": "VbQinrZnQwap",
        "outputId": "4f3a239d-1b93-4e49-b8f1-f6b2c045e9da"
      },
      "execution_count": null,
      "outputs": [
        {
          "output_type": "stream",
          "name": "stdout",
          "text": [
            "Drive already mounted at /content/drive; to attempt to forcibly remount, call drive.mount(\"/content/drive\", force_remount=True).\n"
          ]
        }
      ]
    },
    {
      "cell_type": "code",
      "source": [
        "import os\n",
        "os.chdir(\"drive/MyDrive/Colab Notebooks/TowardDataScience/lesson3\")"
      ],
      "metadata": {
        "id": "3hm__9uHQwd3"
      },
      "execution_count": null,
      "outputs": []
    },
    {
      "cell_type": "code",
      "source": [
        "os.getcwd()"
      ],
      "metadata": {
        "colab": {
          "base_uri": "https://localhost:8080/",
          "height": 35
        },
        "id": "MVxCaJtjS7py",
        "outputId": "f19fc8b3-df7d-402a-e3f0-4394e773db1a"
      },
      "execution_count": null,
      "outputs": [
        {
          "output_type": "execute_result",
          "data": {
            "application/vnd.google.colaboratory.intrinsic+json": {
              "type": "string"
            },
            "text/plain": [
              "'/content/drive/MyDrive/Colab Notebooks/TowardDataScience/lesson3'"
            ]
          },
          "metadata": {},
          "execution_count": 4
        }
      ]
    },
    {
      "cell_type": "code",
      "source": [
        "import pandas as pd\n",
        "\n",
        "data = pd.read_csv('train.csv').dropna()\n",
        "\n",
        "sample = data.sample(10)\n",
        "sample"
      ],
      "metadata": {
        "colab": {
          "base_uri": "https://localhost:8080/",
          "height": 600
        },
        "id": "Q7-_F-PUS7tB",
        "outputId": "ded0b507-919a-430c-a9c9-f1121c12355e"
      },
      "execution_count": null,
      "outputs": [
        {
          "output_type": "execute_result",
          "data": {
            "text/html": [
              "\n",
              "  <div id=\"df-bee2e7f8-5de6-459d-8c32-f35e062216c4\">\n",
              "    <div class=\"colab-df-container\">\n",
              "      <div>\n",
              "<style scoped>\n",
              "    .dataframe tbody tr th:only-of-type {\n",
              "        vertical-align: middle;\n",
              "    }\n",
              "\n",
              "    .dataframe tbody tr th {\n",
              "        vertical-align: top;\n",
              "    }\n",
              "\n",
              "    .dataframe thead th {\n",
              "        text-align: right;\n",
              "    }\n",
              "</style>\n",
              "<table border=\"1\" class=\"dataframe\">\n",
              "  <thead>\n",
              "    <tr style=\"text-align: right;\">\n",
              "      <th></th>\n",
              "      <th>ID</th>\n",
              "      <th>age</th>\n",
              "      <th>work_type</th>\n",
              "      <th>final_weight</th>\n",
              "      <th>education</th>\n",
              "      <th>total_education_yrs</th>\n",
              "      <th>marital_state</th>\n",
              "      <th>job</th>\n",
              "      <th>status</th>\n",
              "      <th>ethnicity</th>\n",
              "      <th>sex</th>\n",
              "      <th>capital_gain</th>\n",
              "      <th>capital_loss</th>\n",
              "      <th>hrs_per_week</th>\n",
              "      <th>nationality</th>\n",
              "      <th>target_income</th>\n",
              "    </tr>\n",
              "  </thead>\n",
              "  <tbody>\n",
              "    <tr>\n",
              "      <th>23276</th>\n",
              "      <td>23276</td>\n",
              "      <td>36</td>\n",
              "      <td>Federal-gov</td>\n",
              "      <td>44364</td>\n",
              "      <td>HS-grad</td>\n",
              "      <td>9</td>\n",
              "      <td>Never-married</td>\n",
              "      <td>Adm-clerical</td>\n",
              "      <td>Own-child</td>\n",
              "      <td>Black</td>\n",
              "      <td>F</td>\n",
              "      <td>0</td>\n",
              "      <td>0</td>\n",
              "      <td>36</td>\n",
              "      <td>US</td>\n",
              "      <td>0</td>\n",
              "    </tr>\n",
              "    <tr>\n",
              "      <th>18237</th>\n",
              "      <td>18237</td>\n",
              "      <td>44</td>\n",
              "      <td>Self-emp-not-inc</td>\n",
              "      <td>567788</td>\n",
              "      <td>5th-6th</td>\n",
              "      <td>3</td>\n",
              "      <td>Married-civ-spouse</td>\n",
              "      <td>Farming-fishing</td>\n",
              "      <td>Husband</td>\n",
              "      <td>White</td>\n",
              "      <td>M</td>\n",
              "      <td>0</td>\n",
              "      <td>0</td>\n",
              "      <td>40</td>\n",
              "      <td>Mexico</td>\n",
              "      <td>0</td>\n",
              "    </tr>\n",
              "    <tr>\n",
              "      <th>2029</th>\n",
              "      <td>2029</td>\n",
              "      <td>40</td>\n",
              "      <td>Private</td>\n",
              "      <td>343068</td>\n",
              "      <td>Some-college</td>\n",
              "      <td>10</td>\n",
              "      <td>Divorced</td>\n",
              "      <td>Exec-managerial</td>\n",
              "      <td>Not-in-family</td>\n",
              "      <td>White</td>\n",
              "      <td>F</td>\n",
              "      <td>0</td>\n",
              "      <td>0</td>\n",
              "      <td>40</td>\n",
              "      <td>US</td>\n",
              "      <td>0</td>\n",
              "    </tr>\n",
              "    <tr>\n",
              "      <th>20084</th>\n",
              "      <td>20084</td>\n",
              "      <td>32</td>\n",
              "      <td>Private</td>\n",
              "      <td>184440</td>\n",
              "      <td>Some-college</td>\n",
              "      <td>10</td>\n",
              "      <td>Married-civ-spouse</td>\n",
              "      <td>Machine-op-inspct</td>\n",
              "      <td>Husband</td>\n",
              "      <td>White</td>\n",
              "      <td>M</td>\n",
              "      <td>3464</td>\n",
              "      <td>0</td>\n",
              "      <td>40</td>\n",
              "      <td>US</td>\n",
              "      <td>0</td>\n",
              "    </tr>\n",
              "    <tr>\n",
              "      <th>12954</th>\n",
              "      <td>12954</td>\n",
              "      <td>30</td>\n",
              "      <td>Private</td>\n",
              "      <td>58582</td>\n",
              "      <td>Bachelors</td>\n",
              "      <td>13</td>\n",
              "      <td>Never-married</td>\n",
              "      <td>Craft-repair</td>\n",
              "      <td>Own-child</td>\n",
              "      <td>White</td>\n",
              "      <td>M</td>\n",
              "      <td>0</td>\n",
              "      <td>0</td>\n",
              "      <td>10</td>\n",
              "      <td>US</td>\n",
              "      <td>0</td>\n",
              "    </tr>\n",
              "    <tr>\n",
              "      <th>89</th>\n",
              "      <td>89</td>\n",
              "      <td>25</td>\n",
              "      <td>Private</td>\n",
              "      <td>182866</td>\n",
              "      <td>HS-grad</td>\n",
              "      <td>9</td>\n",
              "      <td>Never-married</td>\n",
              "      <td>Machine-op-inspct</td>\n",
              "      <td>Own-child</td>\n",
              "      <td>White</td>\n",
              "      <td>M</td>\n",
              "      <td>0</td>\n",
              "      <td>0</td>\n",
              "      <td>40</td>\n",
              "      <td>US</td>\n",
              "      <td>0</td>\n",
              "    </tr>\n",
              "    <tr>\n",
              "      <th>11841</th>\n",
              "      <td>11841</td>\n",
              "      <td>37</td>\n",
              "      <td>Private</td>\n",
              "      <td>389725</td>\n",
              "      <td>12th</td>\n",
              "      <td>8</td>\n",
              "      <td>Divorced</td>\n",
              "      <td>Craft-repair</td>\n",
              "      <td>Own-child</td>\n",
              "      <td>White</td>\n",
              "      <td>M</td>\n",
              "      <td>0</td>\n",
              "      <td>0</td>\n",
              "      <td>35</td>\n",
              "      <td>US</td>\n",
              "      <td>0</td>\n",
              "    </tr>\n",
              "    <tr>\n",
              "      <th>6054</th>\n",
              "      <td>6054</td>\n",
              "      <td>31</td>\n",
              "      <td>Local-gov</td>\n",
              "      <td>188798</td>\n",
              "      <td>Bachelors</td>\n",
              "      <td>13</td>\n",
              "      <td>Never-married</td>\n",
              "      <td>Exec-managerial</td>\n",
              "      <td>Not-in-family</td>\n",
              "      <td>White</td>\n",
              "      <td>F</td>\n",
              "      <td>0</td>\n",
              "      <td>0</td>\n",
              "      <td>50</td>\n",
              "      <td>US</td>\n",
              "      <td>0</td>\n",
              "    </tr>\n",
              "    <tr>\n",
              "      <th>21741</th>\n",
              "      <td>21741</td>\n",
              "      <td>33</td>\n",
              "      <td>Federal-gov</td>\n",
              "      <td>319560</td>\n",
              "      <td>Assoc-voc</td>\n",
              "      <td>11</td>\n",
              "      <td>Divorced</td>\n",
              "      <td>Craft-repair</td>\n",
              "      <td>Unmarried</td>\n",
              "      <td>Black</td>\n",
              "      <td>F</td>\n",
              "      <td>0</td>\n",
              "      <td>0</td>\n",
              "      <td>40</td>\n",
              "      <td>US</td>\n",
              "      <td>1</td>\n",
              "    </tr>\n",
              "    <tr>\n",
              "      <th>22568</th>\n",
              "      <td>22568</td>\n",
              "      <td>45</td>\n",
              "      <td>Private</td>\n",
              "      <td>285060</td>\n",
              "      <td>Bachelors</td>\n",
              "      <td>13</td>\n",
              "      <td>Married-civ-spouse</td>\n",
              "      <td>Exec-managerial</td>\n",
              "      <td>Husband</td>\n",
              "      <td>White</td>\n",
              "      <td>M</td>\n",
              "      <td>0</td>\n",
              "      <td>0</td>\n",
              "      <td>50</td>\n",
              "      <td>US</td>\n",
              "      <td>1</td>\n",
              "    </tr>\n",
              "  </tbody>\n",
              "</table>\n",
              "</div>\n",
              "      <button class=\"colab-df-convert\" onclick=\"convertToInteractive('df-bee2e7f8-5de6-459d-8c32-f35e062216c4')\"\n",
              "              title=\"Convert this dataframe to an interactive table.\"\n",
              "              style=\"display:none;\">\n",
              "        \n",
              "  <svg xmlns=\"http://www.w3.org/2000/svg\" height=\"24px\"viewBox=\"0 0 24 24\"\n",
              "       width=\"24px\">\n",
              "    <path d=\"M0 0h24v24H0V0z\" fill=\"none\"/>\n",
              "    <path d=\"M18.56 5.44l.94 2.06.94-2.06 2.06-.94-2.06-.94-.94-2.06-.94 2.06-2.06.94zm-11 1L8.5 8.5l.94-2.06 2.06-.94-2.06-.94L8.5 2.5l-.94 2.06-2.06.94zm10 10l.94 2.06.94-2.06 2.06-.94-2.06-.94-.94-2.06-.94 2.06-2.06.94z\"/><path d=\"M17.41 7.96l-1.37-1.37c-.4-.4-.92-.59-1.43-.59-.52 0-1.04.2-1.43.59L10.3 9.45l-7.72 7.72c-.78.78-.78 2.05 0 2.83L4 21.41c.39.39.9.59 1.41.59.51 0 1.02-.2 1.41-.59l7.78-7.78 2.81-2.81c.8-.78.8-2.07 0-2.86zM5.41 20L4 18.59l7.72-7.72 1.47 1.35L5.41 20z\"/>\n",
              "  </svg>\n",
              "      </button>\n",
              "      \n",
              "  <style>\n",
              "    .colab-df-container {\n",
              "      display:flex;\n",
              "      flex-wrap:wrap;\n",
              "      gap: 12px;\n",
              "    }\n",
              "\n",
              "    .colab-df-convert {\n",
              "      background-color: #E8F0FE;\n",
              "      border: none;\n",
              "      border-radius: 50%;\n",
              "      cursor: pointer;\n",
              "      display: none;\n",
              "      fill: #1967D2;\n",
              "      height: 32px;\n",
              "      padding: 0 0 0 0;\n",
              "      width: 32px;\n",
              "    }\n",
              "\n",
              "    .colab-df-convert:hover {\n",
              "      background-color: #E2EBFA;\n",
              "      box-shadow: 0px 1px 2px rgba(60, 64, 67, 0.3), 0px 1px 3px 1px rgba(60, 64, 67, 0.15);\n",
              "      fill: #174EA6;\n",
              "    }\n",
              "\n",
              "    [theme=dark] .colab-df-convert {\n",
              "      background-color: #3B4455;\n",
              "      fill: #D2E3FC;\n",
              "    }\n",
              "\n",
              "    [theme=dark] .colab-df-convert:hover {\n",
              "      background-color: #434B5C;\n",
              "      box-shadow: 0px 1px 3px 1px rgba(0, 0, 0, 0.15);\n",
              "      filter: drop-shadow(0px 1px 2px rgba(0, 0, 0, 0.3));\n",
              "      fill: #FFFFFF;\n",
              "    }\n",
              "  </style>\n",
              "\n",
              "      <script>\n",
              "        const buttonEl =\n",
              "          document.querySelector('#df-bee2e7f8-5de6-459d-8c32-f35e062216c4 button.colab-df-convert');\n",
              "        buttonEl.style.display =\n",
              "          google.colab.kernel.accessAllowed ? 'block' : 'none';\n",
              "\n",
              "        async function convertToInteractive(key) {\n",
              "          const element = document.querySelector('#df-bee2e7f8-5de6-459d-8c32-f35e062216c4');\n",
              "          const dataTable =\n",
              "            await google.colab.kernel.invokeFunction('convertToInteractive',\n",
              "                                                     [key], {});\n",
              "          if (!dataTable) return;\n",
              "\n",
              "          const docLinkHtml = 'Like what you see? Visit the ' +\n",
              "            '<a target=\"_blank\" href=https://colab.research.google.com/notebooks/data_table.ipynb>data table notebook</a>'\n",
              "            + ' to learn more about interactive tables.';\n",
              "          element.innerHTML = '';\n",
              "          dataTable['output_type'] = 'display_data';\n",
              "          await google.colab.output.renderOutput(dataTable, element);\n",
              "          const docLink = document.createElement('div');\n",
              "          docLink.innerHTML = docLinkHtml;\n",
              "          element.appendChild(docLink);\n",
              "        }\n",
              "      </script>\n",
              "    </div>\n",
              "  </div>\n",
              "  "
            ],
            "text/plain": [
              "          ID  age         work_type  ...  hrs_per_week nationality  target_income\n",
              "23276  23276   36       Federal-gov  ...            36          US              0\n",
              "18237  18237   44  Self-emp-not-inc  ...            40      Mexico              0\n",
              "2029    2029   40           Private  ...            40          US              0\n",
              "20084  20084   32           Private  ...            40          US              0\n",
              "12954  12954   30           Private  ...            10          US              0\n",
              "89        89   25           Private  ...            40          US              0\n",
              "11841  11841   37           Private  ...            35          US              0\n",
              "6054    6054   31         Local-gov  ...            50          US              0\n",
              "21741  21741   33       Federal-gov  ...            40          US              1\n",
              "22568  22568   45           Private  ...            50          US              1\n",
              "\n",
              "[10 rows x 16 columns]"
            ]
          },
          "metadata": {},
          "execution_count": 5
        }
      ]
    },
    {
      "cell_type": "code",
      "source": [
        "from sklearn.model_selection import train_test_split\n",
        "\n",
        "features = ['age', 'final_weight', 'total_education_yrs', 'capital_gain', \n",
        "            'capital_loss', 'hrs_per_week']\n",
        "label = 'target_income'\n",
        "   \n",
        "# Split data 80%-20% into training set and test set\n",
        "x_train, x_test, y_train, y_test = train_test_split(data[features].values, # input variable\n",
        "                                                    data[label].values, # output variable\n",
        "                                                    test_size=0.20, # test dataset proportion\n",
        "                                                    stratify=data['target_income'], # assign equal proportion of target label in train/test \n",
        "                                                    random_state=0) # keep train/test split the same if run again. \n",
        "\n",
        "print('Training Set: %d, Test Set: %d \\n' % (len(x_train), len(x_test)))\n",
        "print(\"Sample of features and labels:\")\n",
        "\n",
        "# Take a look at the first 25 training features and corresponding labels\n",
        "for n in range(0,24):\n",
        "    print(x_train[n], y_train[n])"
      ],
      "metadata": {
        "colab": {
          "base_uri": "https://localhost:8080/"
        },
        "id": "IAwxG9CoS7wM",
        "outputId": "c305d036-b2e5-4595-f54e-416de7f957bd"
      },
      "execution_count": null,
      "outputs": [
        {
          "output_type": "stream",
          "name": "stdout",
          "text": [
            "Training Set: 20000, Test Set: 5000 \n",
            "\n",
            "Sample of features and labels:\n",
            "[    25 188488      9      0      0     40] 0\n",
            "[    43 315971     14      0      0     40] 0\n",
            "[   41 27305     9  7688     0    40] 1\n",
            "[    46 216414     10      0      0     40] 1\n",
            "[    24 207940      9      0      0     30] 0\n",
            "[    50 256861      9      0      0     80] 0\n",
            "[    71 210673      9      0      0     28] 0\n",
            "[    54 185936      5      0      0     15] 0\n",
            "[    41 171615     12      0      0     45] 1\n",
            "[    25 239120     13      0      0     13] 0\n",
            "[   44 99651    14  5178     0    40] 1\n",
            "[    25 557082      9      0      0     38] 0\n",
            "[   43 64112    10     0     0    50] 0\n",
            "[    57 127728     15  15024      0     60] 1\n",
            "[    40 175304     10      0      0     40] 0\n",
            "[    47 106252     13      0      0     50] 0\n",
            "[   32 98656    14     0     0    40] 0\n",
            "[    51 205884     10      0      0     40] 1\n",
            "[    36 269318     13      0      0     50] 1\n",
            "[    59 283005      7      0      0     40] 0\n",
            "[    30 312667     10      0      0     40] 0\n",
            "[    29 240738      9      0      0     40] 1\n",
            "[    35 210150      9      0      0     40] 0\n",
            "[   39 74163     8     0     0    40] 0\n"
          ]
        }
      ]
    },
    {
      "cell_type": "code",
      "source": [
        "\"\"\"\n",
        "10) Xây dựng một mạng deep-neural-network để huấn luyện mô hình \n",
        "trên dữ liệu train và đánh giá mô hình trên dữ liệu test.\n",
        "\"\"\""
      ],
      "metadata": {
        "id": "DJDy3JJtS7zJ"
      },
      "execution_count": null,
      "outputs": []
    },
    {
      "cell_type": "code",
      "source": [
        "!pip freeze | grep torch"
      ],
      "metadata": {
        "colab": {
          "base_uri": "https://localhost:8080/"
        },
        "id": "L4WghpKpS71x",
        "outputId": "db1e4907-0e1a-4978-b4c3-3a0def63d6f1"
      },
      "execution_count": null,
      "outputs": [
        {
          "output_type": "stream",
          "name": "stdout",
          "text": [
            "torch @ https://download.pytorch.org/whl/cu111/torch-1.10.0%2Bcu111-cp37-cp37m-linux_x86_64.whl\n",
            "torchaudio @ https://download.pytorch.org/whl/cu111/torchaudio-0.10.0%2Bcu111-cp37-cp37m-linux_x86_64.whl\n",
            "torchsummary==1.5.1\n",
            "torchtext==0.11.0\n",
            "torchvision @ https://download.pytorch.org/whl/cu111/torchvision-0.11.1%2Bcu111-cp37-cp37m-linux_x86_64.whl\n"
          ]
        }
      ]
    },
    {
      "cell_type": "code",
      "source": [
        "import torch\n",
        "import torch.nn as nn\n",
        "import torch.utils.data as td\n",
        "\n",
        "# Set random seed for reproducability\n",
        "torch.manual_seed(0)\n",
        "\n",
        "print(\"Libraries imported - ready to use PyTorch\", torch.__version__)"
      ],
      "metadata": {
        "colab": {
          "base_uri": "https://localhost:8080/"
        },
        "id": "Mu0AMVR8TLjw",
        "outputId": "2399e528-c71a-4594-d391-72af1130a08f"
      },
      "execution_count": null,
      "outputs": [
        {
          "output_type": "stream",
          "name": "stdout",
          "text": [
            "Libraries imported - ready to use PyTorch 1.10.0+cu111\n"
          ]
        }
      ]
    },
    {
      "cell_type": "code",
      "source": [
        "# Create a dataset and loader for the training data and labels\n",
        "train_x = torch.Tensor(x_train).float()\n",
        "train_y = torch.Tensor(y_train).float()\n",
        "train_ds = td.TensorDataset(train_x,train_y)\n",
        "train_loader = td.DataLoader(train_ds, batch_size=20,\n",
        "    shuffle=True, num_workers=1)\n",
        "\n",
        "# Create a dataset and loader for the test data and labels\n",
        "test_x = torch.Tensor(x_test).float()\n",
        "test_y = torch.Tensor(y_test).float()\n",
        "test_ds = td.TensorDataset(test_x,test_y)\n",
        "test_loader = td.DataLoader(test_ds, batch_size=20,\n",
        "    shuffle=False, num_workers=1)\n",
        "print('Ready to load data')"
      ],
      "metadata": {
        "colab": {
          "base_uri": "https://localhost:8080/"
        },
        "id": "KWfj7IZBTLnk",
        "outputId": "a5ab40e4-e03b-4dbc-a6a5-ecf540a7e793"
      },
      "execution_count": null,
      "outputs": [
        {
          "output_type": "stream",
          "name": "stdout",
          "text": [
            "Ready to load data\n"
          ]
        }
      ]
    },
    {
      "cell_type": "code",
      "source": [
        "# Number of hidden layer nodes\n",
        "hl = 10\n",
        "\n",
        "# Define the neural network\n",
        "class  IncomeClassificationNet(nn.Module):\n",
        "    def __init__(self):\n",
        "        super(IncomeClassificationNet, self).__init__()\n",
        "        self.fc1 = nn.Linear(len(features), hl)\n",
        "        self.fc2 = nn.Linear(hl, hl)\n",
        "        self.fc3 = nn.Linear(hl, 1)\n",
        "\n",
        "    def forward(self, x):\n",
        "        x = torch.sigmoid(self.fc1(x))\n",
        "        x = torch.sigmoid(self.fc2(x))\n",
        "        x = torch.sigmoid(self.fc3(x))\n",
        "        return x\n",
        "\n",
        "# Create a model instance from the network\n",
        "model = IncomeClassificationNet()\n",
        "print(model)"
      ],
      "metadata": {
        "colab": {
          "base_uri": "https://localhost:8080/"
        },
        "id": "0P2AaIWZYaGD",
        "outputId": "8e56587e-fc52-4398-93b2-5f5d1ab29292"
      },
      "execution_count": null,
      "outputs": [
        {
          "output_type": "stream",
          "name": "stdout",
          "text": [
            "IncomeClassificationNet(\n",
            "  (fc1): Linear(in_features=6, out_features=10, bias=True)\n",
            "  (fc2): Linear(in_features=10, out_features=10, bias=True)\n",
            "  (fc3): Linear(in_features=10, out_features=1, bias=True)\n",
            ")\n"
          ]
        }
      ]
    },
    {
      "cell_type": "code",
      "source": [
        "def train(model, data_loader, optimizer):\n",
        "    # Set the model to training mode\n",
        "    model.train()\n",
        "    train_loss = 0\n",
        "    \n",
        "    for batch, tensor in enumerate(data_loader):\n",
        "        data, target = tensor\n",
        "        #feedforward: calculate y_pred and loss function\n",
        "        optimizer.zero_grad()\n",
        "        out = model(data)\n",
        "        loss = loss_criteria(out, target.reshape(-1,1))\n",
        "        train_loss += loss.item()\n",
        "\n",
        "        # backpropagate: compute gradient descent and update weights\n",
        "        loss.backward()\n",
        "        optimizer.step()\n",
        "\n",
        "    #Return average loss\n",
        "    avg_loss = train_loss / (batch+1)\n",
        "    print('Training set: Average loss: {:.6f}'.format(avg_loss))\n",
        "    return avg_loss\n",
        "           \n",
        "            \n",
        "def test(model, data_loader):\n",
        "    # Switch the model to evaluation mode (so we don't backpropagate)\n",
        "    model.eval()\n",
        "    test_loss = 0\n",
        "    correct = 0\n",
        "\n",
        "    with torch.no_grad():\n",
        "        batch_count = 0\n",
        "        for batch, tensor in enumerate(data_loader):\n",
        "            batch_count += 1\n",
        "            data, target = tensor\n",
        "            # Get the predictions\n",
        "            out = model(data)\n",
        "\n",
        "            # calculate the loss\n",
        "            test_loss += loss_criteria(out, target.reshape(-1,1)).item()\n",
        "\n",
        "            # Calculate the accuracy\n",
        "            # _, predicted = torch.max(out.data, 1)\n",
        "            # print(out.data)\n",
        "            # _, predicted = [1 if i > 0.5 else 0 for i in out.data]\n",
        "            # _, predicted = [1 if out.data > 0.5 else 0]\n",
        "\n",
        "            predicted = [1 if i>0.5 else 0 for i in out.data]\n",
        "            predicted = torch.tensor(predicted)\n",
        "            \n",
        "            correct += torch.sum(target==predicted).item()\n",
        "            \n",
        "    # Calculate the average loss and total accuracy for this epoch\n",
        "    avg_loss = test_loss/batch_count\n",
        "    print('Validation set: Average loss: {:.6f}, Accuracy: {}/{} ({:.0f}%)\\n'.format(\n",
        "        avg_loss, correct, len(data_loader.dataset),\n",
        "        100. * correct / len(data_loader.dataset)))\n",
        "    \n",
        "    # return average loss for the epoch\n",
        "    return avg_loss\n",
        "\n",
        "# Specify the loss criteria (we'll use CrossEntropyLoss for multi-class classification)\n",
        "loss_criteria = nn.BCELoss()\n",
        "\n",
        "# Use an \"Adam\" optimizer to adjust weights\n",
        "learning_rate = 0.001\n",
        "optimizer = torch.optim.Adam(model.parameters(), lr=learning_rate)\n",
        "optimizer.zero_grad()\n",
        "\n",
        "# We'll track metrics for each epoch in these arrays\n",
        "epoch_nums = []\n",
        "training_loss = []\n",
        "validation_loss = []\n",
        "\n",
        "# Train over 50 epochs\n",
        "epochs = 50\n",
        "for epoch in range(1, epochs + 1):\n",
        "\n",
        "    # print the epoch number\n",
        "    print('Epoch: {}'.format(epoch))\n",
        "    \n",
        "    # Feed training data into the model to optimize the weights\n",
        "    train_loss = train(model, train_loader, optimizer)\n",
        "    \n",
        "    # Feed the test data into the model to check its performance\n",
        "    test_loss = test(model, test_loader)\n",
        "    \n",
        "    # Log the metrics for this epoch\n",
        "    epoch_nums.append(epoch)\n",
        "    training_loss.append(train_loss)\n",
        "    validation_loss.append(test_loss)\n"
      ],
      "metadata": {
        "colab": {
          "base_uri": "https://localhost:8080/"
        },
        "id": "IdlaR5CPZQjf",
        "outputId": "17e4adaa-d7f4-4a6d-a590-f21c98ae23f9"
      },
      "execution_count": null,
      "outputs": [
        {
          "output_type": "stream",
          "name": "stdout",
          "text": [
            "Epoch: 1\n",
            "Training set: Average loss: 0.569080\n",
            "Validation set: Average loss: 0.548827, Accuracy: 3803/5000 (76%)\n",
            "\n",
            "Epoch: 2\n",
            "Training set: Average loss: 0.549387\n",
            "Validation set: Average loss: 0.548151, Accuracy: 3803/5000 (76%)\n",
            "\n",
            "Epoch: 3\n",
            "Training set: Average loss: 0.548563\n",
            "Validation set: Average loss: 0.550515, Accuracy: 3803/5000 (76%)\n",
            "\n",
            "Epoch: 4\n",
            "Training set: Average loss: 0.549798\n",
            "Validation set: Average loss: 0.548296, Accuracy: 3803/5000 (76%)\n",
            "\n",
            "Epoch: 5\n",
            "Training set: Average loss: 0.549686\n",
            "Validation set: Average loss: 0.547823, Accuracy: 3803/5000 (76%)\n",
            "\n",
            "Epoch: 6\n",
            "Training set: Average loss: 0.549608\n",
            "Validation set: Average loss: 0.547435, Accuracy: 3803/5000 (76%)\n",
            "\n",
            "Epoch: 7\n",
            "Training set: Average loss: 0.549239\n",
            "Validation set: Average loss: 0.547460, Accuracy: 3803/5000 (76%)\n",
            "\n",
            "Epoch: 8\n",
            "Training set: Average loss: 0.549228\n",
            "Validation set: Average loss: 0.546774, Accuracy: 3803/5000 (76%)\n",
            "\n",
            "Epoch: 9\n",
            "Training set: Average loss: 0.549009\n",
            "Validation set: Average loss: 0.546813, Accuracy: 3803/5000 (76%)\n",
            "\n",
            "Epoch: 10\n",
            "Training set: Average loss: 0.549002\n",
            "Validation set: Average loss: 0.546465, Accuracy: 3803/5000 (76%)\n",
            "\n",
            "Epoch: 11\n",
            "Training set: Average loss: 0.548901\n",
            "Validation set: Average loss: 0.546031, Accuracy: 3818/5000 (76%)\n",
            "\n",
            "Epoch: 12\n",
            "Training set: Average loss: 0.548711\n",
            "Validation set: Average loss: 0.546383, Accuracy: 3818/5000 (76%)\n",
            "\n",
            "Epoch: 13\n",
            "Training set: Average loss: 0.548696\n",
            "Validation set: Average loss: 0.545598, Accuracy: 3833/5000 (77%)\n",
            "\n",
            "Epoch: 14\n",
            "Training set: Average loss: 0.548395\n",
            "Validation set: Average loss: 0.545502, Accuracy: 3833/5000 (77%)\n",
            "\n",
            "Epoch: 15\n",
            "Training set: Average loss: 0.548507\n",
            "Validation set: Average loss: 0.545252, Accuracy: 3833/5000 (77%)\n",
            "\n",
            "Epoch: 16\n",
            "Training set: Average loss: 0.548312\n",
            "Validation set: Average loss: 0.545485, Accuracy: 3833/5000 (77%)\n",
            "\n",
            "Epoch: 17\n",
            "Training set: Average loss: 0.548413\n",
            "Validation set: Average loss: 0.544987, Accuracy: 3833/5000 (77%)\n",
            "\n",
            "Epoch: 18\n",
            "Training set: Average loss: 0.548391\n",
            "Validation set: Average loss: 0.545305, Accuracy: 3833/5000 (77%)\n",
            "\n",
            "Epoch: 19\n",
            "Training set: Average loss: 0.548332\n",
            "Validation set: Average loss: 0.544739, Accuracy: 3833/5000 (77%)\n",
            "\n",
            "Epoch: 20\n",
            "Training set: Average loss: 0.548272\n",
            "Validation set: Average loss: 0.545223, Accuracy: 3833/5000 (77%)\n",
            "\n",
            "Epoch: 21\n",
            "Training set: Average loss: 0.548369\n",
            "Validation set: Average loss: 0.544768, Accuracy: 3833/5000 (77%)\n",
            "\n",
            "Epoch: 22\n",
            "Training set: Average loss: 0.548076\n",
            "Validation set: Average loss: 0.544854, Accuracy: 3833/5000 (77%)\n",
            "\n",
            "Epoch: 23\n",
            "Training set: Average loss: 0.548013\n",
            "Validation set: Average loss: 0.544395, Accuracy: 3833/5000 (77%)\n",
            "\n",
            "Epoch: 24\n",
            "Training set: Average loss: 0.548029\n",
            "Validation set: Average loss: 0.544728, Accuracy: 3833/5000 (77%)\n",
            "\n",
            "Epoch: 25\n",
            "Training set: Average loss: 0.548200\n",
            "Validation set: Average loss: 0.544551, Accuracy: 3833/5000 (77%)\n",
            "\n",
            "Epoch: 26\n",
            "Training set: Average loss: 0.548125\n",
            "Validation set: Average loss: 0.543973, Accuracy: 3833/5000 (77%)\n",
            "\n",
            "Epoch: 27\n",
            "Training set: Average loss: 0.547886\n",
            "Validation set: Average loss: 0.544123, Accuracy: 3833/5000 (77%)\n",
            "\n",
            "Epoch: 28\n",
            "Training set: Average loss: 0.547954\n",
            "Validation set: Average loss: 0.543521, Accuracy: 3833/5000 (77%)\n",
            "\n",
            "Epoch: 29\n",
            "Training set: Average loss: 0.547744\n",
            "Validation set: Average loss: 0.543469, Accuracy: 3833/5000 (77%)\n",
            "\n",
            "Epoch: 30\n",
            "Training set: Average loss: 0.547754\n",
            "Validation set: Average loss: 0.543383, Accuracy: 3833/5000 (77%)\n",
            "\n",
            "Epoch: 31\n",
            "Training set: Average loss: 0.547731\n",
            "Validation set: Average loss: 0.543177, Accuracy: 3833/5000 (77%)\n",
            "\n",
            "Epoch: 32\n",
            "Training set: Average loss: 0.547587\n",
            "Validation set: Average loss: 0.543105, Accuracy: 3833/5000 (77%)\n",
            "\n",
            "Epoch: 33\n",
            "Training set: Average loss: 0.547605\n",
            "Validation set: Average loss: 0.543502, Accuracy: 3833/5000 (77%)\n",
            "\n",
            "Epoch: 34\n",
            "Training set: Average loss: 0.547557\n",
            "Validation set: Average loss: 0.542923, Accuracy: 3833/5000 (77%)\n",
            "\n",
            "Epoch: 35\n",
            "Training set: Average loss: 0.547473\n",
            "Validation set: Average loss: 0.542851, Accuracy: 3833/5000 (77%)\n",
            "\n",
            "Epoch: 36\n",
            "Training set: Average loss: 0.547431\n",
            "Validation set: Average loss: 0.542737, Accuracy: 3833/5000 (77%)\n",
            "\n",
            "Epoch: 37\n",
            "Training set: Average loss: 0.547466\n",
            "Validation set: Average loss: 0.542677, Accuracy: 3833/5000 (77%)\n",
            "\n",
            "Epoch: 38\n",
            "Training set: Average loss: 0.547442\n",
            "Validation set: Average loss: 0.542745, Accuracy: 3833/5000 (77%)\n",
            "\n",
            "Epoch: 39\n",
            "Training set: Average loss: 0.547451\n",
            "Validation set: Average loss: 0.542974, Accuracy: 3833/5000 (77%)\n",
            "\n",
            "Epoch: 40\n",
            "Training set: Average loss: 0.547463\n",
            "Validation set: Average loss: 0.543376, Accuracy: 3833/5000 (77%)\n",
            "\n",
            "Epoch: 41\n",
            "Training set: Average loss: 0.547457\n",
            "Validation set: Average loss: 0.543090, Accuracy: 3833/5000 (77%)\n",
            "\n",
            "Epoch: 42\n",
            "Training set: Average loss: 0.547311\n",
            "Validation set: Average loss: 0.543279, Accuracy: 3833/5000 (77%)\n",
            "\n",
            "Epoch: 43\n",
            "Training set: Average loss: 0.547477\n",
            "Validation set: Average loss: 0.542455, Accuracy: 3833/5000 (77%)\n",
            "\n",
            "Epoch: 44\n",
            "Training set: Average loss: 0.547446\n",
            "Validation set: Average loss: 0.542989, Accuracy: 3833/5000 (77%)\n",
            "\n",
            "Epoch: 45\n",
            "Training set: Average loss: 0.547254\n",
            "Validation set: Average loss: 0.543020, Accuracy: 3833/5000 (77%)\n",
            "\n",
            "Epoch: 46\n",
            "Training set: Average loss: 0.547401\n",
            "Validation set: Average loss: 0.542390, Accuracy: 3833/5000 (77%)\n",
            "\n",
            "Epoch: 47\n",
            "Training set: Average loss: 0.547283\n",
            "Validation set: Average loss: 0.542483, Accuracy: 3833/5000 (77%)\n",
            "\n",
            "Epoch: 48\n",
            "Training set: Average loss: 0.547356\n",
            "Validation set: Average loss: 0.542341, Accuracy: 3833/5000 (77%)\n",
            "\n",
            "Epoch: 49\n",
            "Training set: Average loss: 0.547376\n",
            "Validation set: Average loss: 0.542485, Accuracy: 3833/5000 (77%)\n",
            "\n",
            "Epoch: 50\n",
            "Training set: Average loss: 0.547310\n",
            "Validation set: Average loss: 0.542329, Accuracy: 3833/5000 (77%)\n",
            "\n"
          ]
        }
      ]
    },
    {
      "cell_type": "code",
      "source": [
        "%matplotlib inline\n",
        "from matplotlib import pyplot as plt\n",
        "\n",
        "plt.plot(epoch_nums, training_loss)\n",
        "plt.plot(epoch_nums, validation_loss)\n",
        "plt.xlabel('epoch')\n",
        "plt.ylabel('loss')\n",
        "plt.legend(['training', 'validation'], loc='upper right')\n",
        "plt.show()"
      ],
      "metadata": {
        "colab": {
          "base_uri": "https://localhost:8080/",
          "height": 280
        },
        "id": "BK03SE7kTL2i",
        "outputId": "aa674498-d035-4642-d7ac-dd33f4daf240"
      },
      "execution_count": null,
      "outputs": [
        {
          "output_type": "display_data",
          "data": {
            "image/png": "[encoded data removed]",
            "text/plain": [
              "<Figure size 432x288 with 1 Axes>"
            ]
          },
          "metadata": {
            "needs_background": "light"
          }
        }
      ]
    },
    {
      "cell_type": "markdown",
      "source": [
        "# Vẫn không có phần hiển thị kết quả model sau khi huấn luyện trên tập test cũng như xử lý dữ liệu như đã nhận xét ở bài trước\n",
        "Nộp bài muộn 1 ngày"
      ],
      "metadata": {
        "id": "4TXPII2Kvt2o"
      }
    },
    {
      "cell_type": "code",
      "source": [
        ""
      ],
      "metadata": {
        "id": "jarbTrLGv1kL"
      },
      "execution_count": null,
      "outputs": []
    },
    {
      "cell_type": "code",
      "source": [
        ""
      ],
      "metadata": {
        "id": "r9nrcE_8v_eT"
      },
      "execution_count": null,
      "outputs": []
    }
  ]
}