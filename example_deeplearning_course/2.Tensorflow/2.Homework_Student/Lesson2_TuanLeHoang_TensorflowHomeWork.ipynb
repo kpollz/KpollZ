{
  "nbformat": 4,
  "nbformat_minor": 0,
  "metadata": {
    "colab": {
      "name": "Lesson2_TuanLeHoang_TensorflowHomeWork.ipynb",
      "provenance": [],
      "collapsed_sections": []
    },
    "kernelspec": {
      "name": "python3",
      "display_name": "Python 3"
    },
    "language_info": {
      "name": "python"
    }
  },
  "cells": [
    {
      "cell_type": "markdown",
      "source": [
        "# 1. Lý thuyết\n",
        "\n",
        "**1) Để khởi tạo model trong tensorflow chúng ta sử dụng class nào?**\n",
        "\n",
        "A. Sequential hoặc Model\n",
        "\n",
        "B. Dense\n",
        "\n",
        "C. Adam\n",
        "\n",
        "D. Variable\n",
        "<br>\n",
        "=> Chọn A, ta dùng method tf.keras.Sequential().\n",
        "\n",
        "**2) Điểm khác biệt giữa fit và fit_generator trong tensorflow là gì ?**\n",
        "\n",
        "A. fit sẽ yêu cầu load toàn bộ dữ liệu lên RAM trong khi fit_generator sẽ sử dụng một hàm generator để sinh dữ liệu tại mỗi mini-batch. Từ đó giúp tiết kiệm bộ nhớ.\n",
        "\n",
        "B. fit sẽ sử dụng hàm generator để sinh dữ liệu tại thời điểm huấn luyện còn fit_generator sẽ load toàn bộ dữ liệu.\n",
        "\n",
        "C. fit sẽ huấn luyện model theo mini-batch còn fit_generator thì huấn luyện trên toàn bộ dataset.\n",
        "\n",
        "D. trong hàm fit chúng ta có thể khai báo tập validation dataset còn trong fit_generator thì không.\n",
        "<br>\n",
        "=> Chọn A. Nhưng theo em đọc trên document này https://www.tensorflow.org/versions/r2.1/api_docs/python/tf/keras/Model#fit thì từ tensorflow 2.1.0 trở đi, fit nó đã hỗ trợ fit_generator rồi nên giờ em thấy dùng như nhau =)\n",
        "\n",
        "**3) Các modules chính trong tensorflow dùng để xây dựng và huấn luyện model.**\n",
        "\n",
        "A. `tf.keras.layers`: khởi tạo activation function; `tf.keras.Sequential`: khởi tạo model; `tf.keras.activations`: để khởi tạo các layers; `tf.keras.optimizers`: Khởi tạo optimizer cho bài toán tối ưu loss function; `tf.keras.losses`: khởi tạo loss function; `tf.keras.preprocessing`: Preprocessing data.\n",
        "\n",
        "B. `tf.keras.layers`: để khởi tạo các layers; `tf.keras.Sequential`: khởi tạo model; `tf.keras.activations`: khởi tạo activation function; `tf.keras.optimizers`: Khởi tạo optimizer cho bài toán tối ưu loss function; `tf.keras.losses`: khởi tạo loss function; `tf.keras.preprocessing`: Preprocessing data.\n",
        "\n",
        "C. `tf.keras.layers`: để khởi tạo các layers; `tf.keras.Sequential`: Preprocessing data; `tf.keras.activations`: khởi tạo activation function; `tf.keras.optimizers`: Khởi tạo optimizer cho bài toán tối ưu loss function; `tf.keras.losses`: khởi tạo loss function; `tf.keras.preprocessing`: khởi tạo model\n",
        "\n",
        "D. `tf.keras.layers`: để khởi tạo các layers; `tf.keras.Sequential`: khởi tạo model; `tf.keras.activations`: khởi tạo activation function; `tf.keras.optimizers`: khởi tạo loss function; `tf.keras.losses`: Khởi tạo optimizer cho bài toán tối ưu loss function; `tf.keras.preprocessing`: Preprocessing data.\n",
        "<br>\n",
        "=> Chọn B\n",
        "\n",
        "**4) Các bước trong huấn luyện model bao gồm:**\n",
        "\n",
        "A. 1. Train/test data split --> 2. Initialize the optimizer algorithm --> 3. Build up model architecture --> 4. Train model on train --> 5. Evaluation on test --> 6. Save and use trained model\n",
        "\n",
        "B. 1. Train/test data split --> 2. Build up model architecture --> 3. Train model on train --> 4. Initialize the optimizer algorithm --> 5. Evaluation on test --> 6. Save and use trained model d\n",
        "\n",
        "C. 1. Train/test data split --> 2. Build up model architecture --> 3. Initialize the optimizer algorithm --> 4. Evaluation on test --> 5. Train model on train --> 6. Save and use trained model d\n",
        "\n",
        "D. 1. Train/test data split --> 2. Build up model architecture --> 3. Initialize the optimizer algorithm --> 4. Train model on train --> 5. Evaluation on test --> 6. Save and use trained model\n",
        "<br>\n",
        "=>Chọn D\n",
        "\n",
        "**5) Ý nghĩa của tham số epochs và batch_size trong huấn luyện mô hình là gì?**\n",
        "\n",
        "A. epochs là kích thước của một mini-batch, batch_size là số lượt lặp lại toàn bộ dữ liệu khi huấn luyện.\n",
        "\n",
        "B. epochs là số lượt lặp lại toàn bộ dữ liệu validation khi huấn luyện, batch_size là kích thước của một mini-batch.\n",
        "\n",
        "C. epochs là số lượt lặp lại toàn bộ dữ liệu train khi huấn luyện, batch_size là kích thước của một mini-batch.\n",
        "\n",
        "D. epochs là số lượng vòng lặp, mỗi vòng lặp là một lượt fit mini-batch, trên bộ dữ liệu khi huấn luyện; batch_size là kích thước của một mini-batch.\n",
        "<br>\n",
        "=>Chọn C"
      ],
      "metadata": {
        "id": "DUXbtwUsAGPq"
      }
    },
    {
      "cell_type": "markdown",
      "source": [
        "# 2. Thực hành\n",
        "\n",
        "\n",
        " \n",
        "\n",
        "\n"
      ],
      "metadata": {
        "id": "LzLjMsckAJAT"
      }
    },
    {
      "cell_type": "markdown",
      "source": [
        "6) Khởi tạo một tensor 3 chiều với định dạng là float và kích thước là 32x32x3"
      ],
      "metadata": {
        "id": "iNGL2oPaKVTj"
      }
    },
    {
      "cell_type": "code",
      "source": [
        "import tensorflow as tf\n"
      ],
      "metadata": {
        "id": "zPK4q35IKkKh"
      },
      "execution_count": null,
      "outputs": []
    },
    {
      "cell_type": "code",
      "source": [
        "# order: R G B \n",
        "image = tf.random.normal([3,32,32],dtype = float)"
      ],
      "metadata": {
        "id": "DAfZ1zKVKti2"
      },
      "execution_count": null,
      "outputs": []
    },
    {
      "cell_type": "code",
      "source": [
        "image.shape"
      ],
      "metadata": {
        "colab": {
          "base_uri": "https://localhost:8080/"
        },
        "id": "Cuihqbx1LRFn",
        "outputId": "00c9d659-d6c2-451b-bc85-ee4a0a711fc8"
      },
      "execution_count": null,
      "outputs": [
        {
          "output_type": "execute_result",
          "data": {
            "text/plain": [
              "TensorShape([3, 32, 32])"
            ]
          },
          "metadata": {},
          "execution_count": 82
        }
      ]
    },
    {
      "cell_type": "markdown",
      "source": [
        "7) Nếu coi tensor trên là một bức ảnh RGB với số channel là 3 ở cuối. Hãy truy suất các ma trận ảnh tương ứng với mỗi kênh R, G, B."
      ],
      "metadata": {
        "id": "22YCG3wPM39U"
      }
    },
    {
      "cell_type": "code",
      "source": [
        "# R\n",
        "R_channel = image[0]\n",
        "G_channel = image[1]\n",
        "B_channel = image[2]\n",
        "print(R_channel.shape)"
      ],
      "metadata": {
        "colab": {
          "base_uri": "https://localhost:8080/"
        },
        "id": "UsXm0idJLUMd",
        "outputId": "7a0a6f0d-56da-4cc6-8203-8a79e9130beb"
      },
      "execution_count": null,
      "outputs": [
        {
          "output_type": "stream",
          "name": "stdout",
          "text": [
            "(32, 32)\n"
          ]
        }
      ]
    },
    {
      "cell_type": "code",
      "source": [
        "print(\"R_channel: \\n{} \".format(R_channel))\n",
        "print(\"G_channel: \\n{}\".format(G_channel))\n",
        "print(\"B_channel:\\n{}\".format(B_channel))"
      ],
      "metadata": {
        "colab": {
          "base_uri": "https://localhost:8080/"
        },
        "id": "q9lkeFDYNJEd",
        "outputId": "dbee0e3e-03cc-4bc3-d90c-5842c07c906b"
      },
      "execution_count": null,
      "outputs": [
        {
          "output_type": "stream",
          "name": "stdout",
          "text": [
            "R_channel: \n",
            "[[-1.3021337  -0.5662674   0.34778747 ...  1.0778248  -1.7410634\n",
            "  -0.8992825 ]\n",
            " [ 1.3285094  -0.18224446 -0.6518461  ...  0.37821534 -0.5777652\n",
            "  -1.0955926 ]\n",
            " [ 1.2241689  -0.14285    -0.6249595  ... -0.88824797  0.11945035\n",
            "  -1.1674914 ]\n",
            " ...\n",
            " [ 0.29325917 -0.33967137  0.48085716 ...  0.7371333  -0.16394927\n",
            "  -0.710344  ]\n",
            " [-1.5730131  -0.57427174 -0.76350945 ... -0.23883237 -0.11597189\n",
            "  -0.1961372 ]\n",
            " [ 0.83800745 -0.5669531   0.39094314 ... -1.3644154  -1.7761183\n",
            "  -0.82300186]] \n",
            "G_channel: \n",
            "[[ 1.1148359   1.2754713   0.40034124 ... -0.37946075  0.08847299\n",
            "   0.52874494]\n",
            " [-1.6840717  -1.3210591  -0.25097886 ...  1.3493782   0.09329784\n",
            "  -1.1397887 ]\n",
            " [ 0.10061241 -0.4267574  -0.17539826 ... -1.5684901   0.21232559\n",
            "   2.217503  ]\n",
            " ...\n",
            " [ 0.84013265  0.9062884  -0.6219111  ... -1.588189   -1.0376643\n",
            "   0.9707246 ]\n",
            " [-0.3464697   0.7136193   0.777843   ... -0.8768125  -0.42316037\n",
            "  -0.06922565]\n",
            " [ 0.8810337   1.6586713  -0.76292396 ...  1.134836   -0.12866174\n",
            "  -0.31106487]]\n",
            "B_channel:\n",
            "[[ 1.4814663  -1.2270004   1.3583134  ...  0.12241329  0.1800764\n",
            "   0.26761517]\n",
            " [-1.1000223  -1.0525924  -1.4651768  ... -1.8736837   0.05822151\n",
            "   0.9581424 ]\n",
            " [-2.2047548  -1.0822817   1.6871456  ...  0.56540483 -0.38191566\n",
            "   0.88162297]\n",
            " ...\n",
            " [ 0.41672426  0.72745633  0.6599774  ...  1.0375961   0.13986324\n",
            "   2.0274308 ]\n",
            " [ 1.1238552   0.5946033   0.07920779 ... -0.4822233   0.23015977\n",
            "  -0.5163172 ]\n",
            " [-1.0939609   1.7590653   0.5415571  ... -0.38229668  2.007005\n",
            "   0.7542054 ]]\n"
          ]
        }
      ]
    },
    {
      "cell_type": "markdown",
      "source": [
        "8) Thực hiện tích hadamard và tích thông thường giữa ma trận R và G."
      ],
      "metadata": {
        "id": "I9LYYvKMO3uv"
      }
    },
    {
      "cell_type": "code",
      "source": [
        "print(\"Hadamard product:\\n\")\n",
        "print(R_channel * G_channel)"
      ],
      "metadata": {
        "colab": {
          "base_uri": "https://localhost:8080/"
        },
        "id": "OuyLcIWZO-UI",
        "outputId": "47d9d6ae-8c21-4c3d-fc81-f4c10b2fbda8"
      },
      "execution_count": null,
      "outputs": [
        {
          "output_type": "stream",
          "name": "stdout",
          "text": [
            "Hadamard product:\n",
            "\n",
            "tf.Tensor(\n",
            "[[-1.4516653  -0.7222578   0.13923366 ... -0.40899223 -0.15403709\n",
            "  -0.47549108]\n",
            " [-2.2373052   0.2407557   0.1635996  ...  0.51035553 -0.05390425\n",
            "   1.2487441 ]\n",
            " [ 0.12316658  0.06096229  0.10961682 ...  1.3932081   0.02536237\n",
            "  -2.5889158 ]\n",
            " ...\n",
            " [ 0.2463766  -0.30784023 -0.29905042 ... -1.170707    0.17012429\n",
            "  -0.6895484 ]\n",
            " [ 0.5450014  -0.40981138 -0.5938905  ...  0.2094112   0.04907471\n",
            "   0.01357772]\n",
            " [ 0.73831284 -0.94038886 -0.29825988 ... -1.5483876   0.22851846\n",
            "   0.25600696]], shape=(32, 32), dtype=float32)\n"
          ]
        }
      ]
    },
    {
      "cell_type": "code",
      "source": [
        "print(\"Dot product:\\n\")\n",
        "print(R_channel@G_channel)"
      ],
      "metadata": {
        "colab": {
          "base_uri": "https://localhost:8080/"
        },
        "id": "qqWa1Vh1POIh",
        "outputId": "9f308af9-6843-43e7-8191-daba53f338e1"
      },
      "execution_count": null,
      "outputs": [
        {
          "output_type": "stream",
          "name": "stdout",
          "text": [
            "Dot product:\n",
            "\n",
            "tf.Tensor(\n",
            "[[  0.5868324   -8.228735    -8.958775   ...   5.991594    -1.007788\n",
            "    5.773279  ]\n",
            " [ -1.0211166    6.0566435   13.24336    ...  -4.2557006    0.01667754\n",
            "    1.4305179 ]\n",
            " [  8.018187     4.7345495    2.4332767  ...   9.182941     2.193918\n",
            "    0.27591968]\n",
            " ...\n",
            " [ -5.900679    -0.3495032   -2.013637   ...   1.3764172    6.4160213\n",
            "    2.6394398 ]\n",
            " [-10.90996     -7.7749286   -7.5489616  ...  -5.183506    -5.1080446\n",
            "    0.66466856]\n",
            " [ -4.2865715   -8.528403     0.14749742 ...  -3.4666128   -3.406264\n",
            "   -0.8688561 ]], shape=(32, 32), dtype=float32)\n"
          ]
        }
      ]
    },
    {
      "cell_type": "markdown",
      "source": [
        "\n",
        "9) Từ bộ dữ liệu [Income-Classification](https://www.kaggle.com/t/090688c8d33a40b68be9e271d6ba6bae) hãy chuẩn hóa dữ liệu và phân chia tập train/test theo tỷ lệ 80/20."
      ],
      "metadata": {
        "id": "CYG9cw9MQSpz"
      }
    },
    {
      "cell_type": "code",
      "source": [
        "%cd /content/drive/MyDrive/AI/Deeplearning_course/Week 2"
      ],
      "metadata": {
        "colab": {
          "base_uri": "https://localhost:8080/"
        },
        "id": "0uKO4HFUP13X",
        "outputId": "1c473fe6-164e-4cbd-e667-0b0fc3a05340"
      },
      "execution_count": null,
      "outputs": [
        {
          "output_type": "stream",
          "name": "stdout",
          "text": [
            "/content/drive/MyDrive/AI/Deeplearning_course/Week 2\n"
          ]
        }
      ]
    },
    {
      "cell_type": "code",
      "source": [
        "import pandas as pd\n",
        "data = pd.read_csv('./train.csv')"
      ],
      "metadata": {
        "id": "M1O3hl8CSBm8"
      },
      "execution_count": null,
      "outputs": []
    },
    {
      "cell_type": "code",
      "source": [
        "data.head(10)"
      ],
      "metadata": {
        "colab": {
          "base_uri": "https://localhost:8080/",
          "height": 601
        },
        "id": "tHHR38L3XDvL",
        "outputId": "af3877e5-b9e8-4952-e64a-1b0d233b64cc"
      },
      "execution_count": null,
      "outputs": [
        {
          "output_type": "execute_result",
          "data": {
            "text/html": [
              "\n",
              "  <div id=\"df-398bf441-05fd-411e-bfed-31fb33131e10\">\n",
              "    <div class=\"colab-df-container\">\n",
              "      <div>\n",
              "<style scoped>\n",
              "    .dataframe tbody tr th:only-of-type {\n",
              "        vertical-align: middle;\n",
              "    }\n",
              "\n",
              "    .dataframe tbody tr th {\n",
              "        vertical-align: top;\n",
              "    }\n",
              "\n",
              "    .dataframe thead th {\n",
              "        text-align: right;\n",
              "    }\n",
              "</style>\n",
              "<table border=\"1\" class=\"dataframe\">\n",
              "  <thead>\n",
              "    <tr style=\"text-align: right;\">\n",
              "      <th></th>\n",
              "      <th>ID</th>\n",
              "      <th>age</th>\n",
              "      <th>work_type</th>\n",
              "      <th>final_weight</th>\n",
              "      <th>education</th>\n",
              "      <th>total_education_yrs</th>\n",
              "      <th>marital_state</th>\n",
              "      <th>job</th>\n",
              "      <th>status</th>\n",
              "      <th>ethnicity</th>\n",
              "      <th>sex</th>\n",
              "      <th>capital_gain</th>\n",
              "      <th>capital_loss</th>\n",
              "      <th>hrs_per_week</th>\n",
              "      <th>nationality</th>\n",
              "      <th>target_income</th>\n",
              "    </tr>\n",
              "  </thead>\n",
              "  <tbody>\n",
              "    <tr>\n",
              "      <th>0</th>\n",
              "      <td>0</td>\n",
              "      <td>45</td>\n",
              "      <td>Private</td>\n",
              "      <td>175925</td>\n",
              "      <td>HS-grad</td>\n",
              "      <td>9</td>\n",
              "      <td>Married-civ-spouse</td>\n",
              "      <td>Craft-repair</td>\n",
              "      <td>Husband</td>\n",
              "      <td>White</td>\n",
              "      <td>M</td>\n",
              "      <td>0</td>\n",
              "      <td>0</td>\n",
              "      <td>40</td>\n",
              "      <td>US</td>\n",
              "      <td>0</td>\n",
              "    </tr>\n",
              "    <tr>\n",
              "      <th>1</th>\n",
              "      <td>1</td>\n",
              "      <td>23</td>\n",
              "      <td>Private</td>\n",
              "      <td>113601</td>\n",
              "      <td>Some-college</td>\n",
              "      <td>10</td>\n",
              "      <td>Never-married</td>\n",
              "      <td>Handlers-cleaners</td>\n",
              "      <td>Own-child</td>\n",
              "      <td>White</td>\n",
              "      <td>M</td>\n",
              "      <td>0</td>\n",
              "      <td>0</td>\n",
              "      <td>30</td>\n",
              "      <td>US</td>\n",
              "      <td>0</td>\n",
              "    </tr>\n",
              "    <tr>\n",
              "      <th>2</th>\n",
              "      <td>2</td>\n",
              "      <td>22</td>\n",
              "      <td>Private</td>\n",
              "      <td>112137</td>\n",
              "      <td>Some-college</td>\n",
              "      <td>10</td>\n",
              "      <td>Never-married</td>\n",
              "      <td>Prof-specialty</td>\n",
              "      <td>Other-relative</td>\n",
              "      <td>Asian-Pac-Islander</td>\n",
              "      <td>F</td>\n",
              "      <td>0</td>\n",
              "      <td>0</td>\n",
              "      <td>20</td>\n",
              "      <td>South</td>\n",
              "      <td>0</td>\n",
              "    </tr>\n",
              "    <tr>\n",
              "      <th>3</th>\n",
              "      <td>3</td>\n",
              "      <td>27</td>\n",
              "      <td>Private</td>\n",
              "      <td>153078</td>\n",
              "      <td>Prof-school</td>\n",
              "      <td>15</td>\n",
              "      <td>Never-married</td>\n",
              "      <td>Prof-specialty</td>\n",
              "      <td>Own-child</td>\n",
              "      <td>Asian-Pac-Islander</td>\n",
              "      <td>M</td>\n",
              "      <td>0</td>\n",
              "      <td>0</td>\n",
              "      <td>40</td>\n",
              "      <td>US</td>\n",
              "      <td>0</td>\n",
              "    </tr>\n",
              "    <tr>\n",
              "      <th>4</th>\n",
              "      <td>4</td>\n",
              "      <td>18</td>\n",
              "      <td>Private</td>\n",
              "      <td>375515</td>\n",
              "      <td>11th</td>\n",
              "      <td>7</td>\n",
              "      <td>Never-married</td>\n",
              "      <td>Sales</td>\n",
              "      <td>Own-child</td>\n",
              "      <td>White</td>\n",
              "      <td>F</td>\n",
              "      <td>0</td>\n",
              "      <td>0</td>\n",
              "      <td>20</td>\n",
              "      <td>US</td>\n",
              "      <td>0</td>\n",
              "    </tr>\n",
              "    <tr>\n",
              "      <th>5</th>\n",
              "      <td>5</td>\n",
              "      <td>44</td>\n",
              "      <td>Private</td>\n",
              "      <td>43711</td>\n",
              "      <td>Bachelors</td>\n",
              "      <td>13</td>\n",
              "      <td>Never-married</td>\n",
              "      <td>Other-service</td>\n",
              "      <td>Not-in-family</td>\n",
              "      <td>White</td>\n",
              "      <td>M</td>\n",
              "      <td>0</td>\n",
              "      <td>0</td>\n",
              "      <td>48</td>\n",
              "      <td>US</td>\n",
              "      <td>0</td>\n",
              "    </tr>\n",
              "    <tr>\n",
              "      <th>6</th>\n",
              "      <td>6</td>\n",
              "      <td>27</td>\n",
              "      <td>Private</td>\n",
              "      <td>103164</td>\n",
              "      <td>11th</td>\n",
              "      <td>7</td>\n",
              "      <td>Married-civ-spouse</td>\n",
              "      <td>Craft-repair</td>\n",
              "      <td>Husband</td>\n",
              "      <td>White</td>\n",
              "      <td>M</td>\n",
              "      <td>0</td>\n",
              "      <td>0</td>\n",
              "      <td>40</td>\n",
              "      <td>US</td>\n",
              "      <td>0</td>\n",
              "    </tr>\n",
              "    <tr>\n",
              "      <th>7</th>\n",
              "      <td>7</td>\n",
              "      <td>38</td>\n",
              "      <td>Private</td>\n",
              "      <td>172538</td>\n",
              "      <td>Bachelors</td>\n",
              "      <td>13</td>\n",
              "      <td>Married-civ-spouse</td>\n",
              "      <td>Exec-managerial</td>\n",
              "      <td>Husband</td>\n",
              "      <td>White</td>\n",
              "      <td>M</td>\n",
              "      <td>15024</td>\n",
              "      <td>0</td>\n",
              "      <td>50</td>\n",
              "      <td>US</td>\n",
              "      <td>1</td>\n",
              "    </tr>\n",
              "    <tr>\n",
              "      <th>8</th>\n",
              "      <td>8</td>\n",
              "      <td>59</td>\n",
              "      <td>Private</td>\n",
              "      <td>170104</td>\n",
              "      <td>Bachelors</td>\n",
              "      <td>13</td>\n",
              "      <td>Married-civ-spouse</td>\n",
              "      <td>Exec-managerial</td>\n",
              "      <td>Husband</td>\n",
              "      <td>White</td>\n",
              "      <td>M</td>\n",
              "      <td>0</td>\n",
              "      <td>1977</td>\n",
              "      <td>50</td>\n",
              "      <td>US</td>\n",
              "      <td>1</td>\n",
              "    </tr>\n",
              "    <tr>\n",
              "      <th>9</th>\n",
              "      <td>9</td>\n",
              "      <td>69</td>\n",
              "      <td>?</td>\n",
              "      <td>148694</td>\n",
              "      <td>HS-grad</td>\n",
              "      <td>9</td>\n",
              "      <td>Divorced</td>\n",
              "      <td>?</td>\n",
              "      <td>Not-in-family</td>\n",
              "      <td>White</td>\n",
              "      <td>F</td>\n",
              "      <td>0</td>\n",
              "      <td>0</td>\n",
              "      <td>40</td>\n",
              "      <td>US</td>\n",
              "      <td>0</td>\n",
              "    </tr>\n",
              "  </tbody>\n",
              "</table>\n",
              "</div>\n",
              "      <button class=\"colab-df-convert\" onclick=\"convertToInteractive('df-398bf441-05fd-411e-bfed-31fb33131e10')\"\n",
              "              title=\"Convert this dataframe to an interactive table.\"\n",
              "              style=\"display:none;\">\n",
              "        \n",
              "  <svg xmlns=\"http://www.w3.org/2000/svg\" height=\"24px\"viewBox=\"0 0 24 24\"\n",
              "       width=\"24px\">\n",
              "    <path d=\"M0 0h24v24H0V0z\" fill=\"none\"/>\n",
              "    <path d=\"M18.56 5.44l.94 2.06.94-2.06 2.06-.94-2.06-.94-.94-2.06-.94 2.06-2.06.94zm-11 1L8.5 8.5l.94-2.06 2.06-.94-2.06-.94L8.5 2.5l-.94 2.06-2.06.94zm10 10l.94 2.06.94-2.06 2.06-.94-2.06-.94-.94-2.06-.94 2.06-2.06.94z\"/><path d=\"M17.41 7.96l-1.37-1.37c-.4-.4-.92-.59-1.43-.59-.52 0-1.04.2-1.43.59L10.3 9.45l-7.72 7.72c-.78.78-.78 2.05 0 2.83L4 21.41c.39.39.9.59 1.41.59.51 0 1.02-.2 1.41-.59l7.78-7.78 2.81-2.81c.8-.78.8-2.07 0-2.86zM5.41 20L4 18.59l7.72-7.72 1.47 1.35L5.41 20z\"/>\n",
              "  </svg>\n",
              "      </button>\n",
              "      \n",
              "  <style>\n",
              "    .colab-df-container {\n",
              "      display:flex;\n",
              "      flex-wrap:wrap;\n",
              "      gap: 12px;\n",
              "    }\n",
              "\n",
              "    .colab-df-convert {\n",
              "      background-color: #E8F0FE;\n",
              "      border: none;\n",
              "      border-radius: 50%;\n",
              "      cursor: pointer;\n",
              "      display: none;\n",
              "      fill: #1967D2;\n",
              "      height: 32px;\n",
              "      padding: 0 0 0 0;\n",
              "      width: 32px;\n",
              "    }\n",
              "\n",
              "    .colab-df-convert:hover {\n",
              "      background-color: #E2EBFA;\n",
              "      box-shadow: 0px 1px 2px rgba(60, 64, 67, 0.3), 0px 1px 3px 1px rgba(60, 64, 67, 0.15);\n",
              "      fill: #174EA6;\n",
              "    }\n",
              "\n",
              "    [theme=dark] .colab-df-convert {\n",
              "      background-color: #3B4455;\n",
              "      fill: #D2E3FC;\n",
              "    }\n",
              "\n",
              "    [theme=dark] .colab-df-convert:hover {\n",
              "      background-color: #434B5C;\n",
              "      box-shadow: 0px 1px 3px 1px rgba(0, 0, 0, 0.15);\n",
              "      filter: drop-shadow(0px 1px 2px rgba(0, 0, 0, 0.3));\n",
              "      fill: #FFFFFF;\n",
              "    }\n",
              "  </style>\n",
              "\n",
              "      <script>\n",
              "        const buttonEl =\n",
              "          document.querySelector('#df-398bf441-05fd-411e-bfed-31fb33131e10 button.colab-df-convert');\n",
              "        buttonEl.style.display =\n",
              "          google.colab.kernel.accessAllowed ? 'block' : 'none';\n",
              "\n",
              "        async function convertToInteractive(key) {\n",
              "          const element = document.querySelector('#df-398bf441-05fd-411e-bfed-31fb33131e10');\n",
              "          const dataTable =\n",
              "            await google.colab.kernel.invokeFunction('convertToInteractive',\n",
              "                                                     [key], {});\n",
              "          if (!dataTable) return;\n",
              "\n",
              "          const docLinkHtml = 'Like what you see? Visit the ' +\n",
              "            '<a target=\"_blank\" href=https://colab.research.google.com/notebooks/data_table.ipynb>data table notebook</a>'\n",
              "            + ' to learn more about interactive tables.';\n",
              "          element.innerHTML = '';\n",
              "          dataTable['output_type'] = 'display_data';\n",
              "          await google.colab.output.renderOutput(dataTable, element);\n",
              "          const docLink = document.createElement('div');\n",
              "          docLink.innerHTML = docLinkHtml;\n",
              "          element.appendChild(docLink);\n",
              "        }\n",
              "      </script>\n",
              "    </div>\n",
              "  </div>\n",
              "  "
            ],
            "text/plain": [
              "   ID  age work_type  ...  hrs_per_week nationality  target_income\n",
              "0   0   45   Private  ...            40          US              0\n",
              "1   1   23   Private  ...            30          US              0\n",
              "2   2   22   Private  ...            20       South              0\n",
              "3   3   27   Private  ...            40          US              0\n",
              "4   4   18   Private  ...            20          US              0\n",
              "5   5   44   Private  ...            48          US              0\n",
              "6   6   27   Private  ...            40          US              0\n",
              "7   7   38   Private  ...            50          US              1\n",
              "8   8   59   Private  ...            50          US              1\n",
              "9   9   69         ?  ...            40          US              0\n",
              "\n",
              "[10 rows x 16 columns]"
            ]
          },
          "metadata": {},
          "execution_count": 64
        }
      ]
    },
    {
      "cell_type": "code",
      "source": [
        "print(data.info())"
      ],
      "metadata": {
        "colab": {
          "base_uri": "https://localhost:8080/"
        },
        "id": "VdYy_QbJZCwU",
        "outputId": "7a4bdea2-1343-453b-d635-362eeb4d1406"
      },
      "execution_count": null,
      "outputs": [
        {
          "output_type": "stream",
          "name": "stdout",
          "text": [
            "<class 'pandas.core.frame.DataFrame'>\n",
            "RangeIndex: 25000 entries, 0 to 24999\n",
            "Data columns (total 16 columns):\n",
            " #   Column               Non-Null Count  Dtype \n",
            "---  ------               --------------  ----- \n",
            " 0   ID                   25000 non-null  int64 \n",
            " 1   age                  25000 non-null  int64 \n",
            " 2   work_type            25000 non-null  object\n",
            " 3   final_weight         25000 non-null  int64 \n",
            " 4   education            25000 non-null  object\n",
            " 5   total_education_yrs  25000 non-null  int64 \n",
            " 6   marital_state        25000 non-null  object\n",
            " 7   job                  25000 non-null  object\n",
            " 8   status               25000 non-null  object\n",
            " 9   ethnicity            25000 non-null  object\n",
            " 10  sex                  25000 non-null  object\n",
            " 11  capital_gain         25000 non-null  int64 \n",
            " 12  capital_loss         25000 non-null  int64 \n",
            " 13  hrs_per_week         25000 non-null  int64 \n",
            " 14  nationality          25000 non-null  object\n",
            " 15  target_income        25000 non-null  int64 \n",
            "dtypes: int64(8), object(8)\n",
            "memory usage: 3.1+ MB\n",
            "None\n"
          ]
        }
      ]
    },
    {
      "cell_type": "code",
      "source": [
        "print(data.shape)"
      ],
      "metadata": {
        "colab": {
          "base_uri": "https://localhost:8080/"
        },
        "id": "F_iZPdPaZxIb",
        "outputId": "56d53f87-437e-437b-baa2-1c3b44c70f32"
      },
      "execution_count": null,
      "outputs": [
        {
          "output_type": "stream",
          "name": "stdout",
          "text": [
            "(25000, 16)\n"
          ]
        }
      ]
    },
    {
      "cell_type": "code",
      "source": [
        "from sklearn.model_selection import train_test_split\n",
        "label = data['target_income']\n",
        "data = data.drop(['ID','target_income'],axis=1)\n",
        "data_train, data_val, label_train, label_val = train_test_split(data, label, test_size=0.2, random_state=0)\n"
      ],
      "metadata": {
        "id": "1sjD-QIJXFHi"
      },
      "execution_count": null,
      "outputs": []
    },
    {
      "cell_type": "code",
      "source": [
        "print(\"Shape of data train: {}\".format(data_train.shape))\n",
        "print(\"Shape of data validation: {}\".format(data_val.shape))"
      ],
      "metadata": {
        "colab": {
          "base_uri": "https://localhost:8080/"
        },
        "id": "GNYOUmQsgcNP",
        "outputId": "2fbe01cb-beff-407e-d24c-8689be6e13e8"
      },
      "execution_count": null,
      "outputs": [
        {
          "output_type": "stream",
          "name": "stdout",
          "text": [
            "Shape of data train: (20000, 14)\n",
            "Shape of data validation: (5000, 14)\n"
          ]
        }
      ]
    },
    {
      "cell_type": "markdown",
      "source": [
        "10) Xây dựng một mạng deep-neural-network để huấn luyện mô hình trên dữ liệu train và đánh giá mô hình trên dữ liệu test."
      ],
      "metadata": {
        "id": "dUc-xFAJhMKG"
      }
    },
    {
      "cell_type": "code",
      "source": [
        "from sklearn.preprocessing import MinMaxScaler, MaxAbsScaler, StandardScaler, RobustScaler, Normalizer\n",
        "import category_encoders as ce\n",
        "from sklearn.preprocessing import QuantileTransformer, PowerTransformer, OneHotEncoder\n",
        "\n",
        "def feature_engineering(X_train, X_val, index_scaler=0):\n",
        "    # Encode categorical variables\n",
        "    cols = [ 'work_type', \n",
        "             'education', \n",
        "             'marital_state', \n",
        "             'job', \n",
        "             'status', \n",
        "             'ethnicity', \n",
        "             'sex', \n",
        "             'nationality'\n",
        "            ]\n",
        "    encoder = ce.OneHotEncoder(cols=cols)\n",
        "    X_train = encoder.fit_transform(X_train)\n",
        "    X_val = encoder.transform(X_val)\n",
        "    \n",
        "    # Feature scaling \n",
        "    list_scaler = [MinMaxScaler(), MaxAbsScaler(), StandardScaler(), \n",
        "                   RobustScaler(), Normalizer(), QuantileTransformer(), PowerTransformer()]\n",
        "    \n",
        "    scaler = list_scaler[index_scaler]\n",
        "    X_train = scaler.fit_transform(X_train)\n",
        "    X_val = scaler.transform(X_val)  \n",
        "    return X_train, X_val"
      ],
      "metadata": {
        "id": "yDHGMMpEGkJj"
      },
      "execution_count": null,
      "outputs": []
    },
    {
      "cell_type": "code",
      "source": [
        "X_train, X_val = feature_engineering(data_train, data_val, index_scaler=0)\n",
        "y_train, y_val = label_train, label_val\n"
      ],
      "metadata": {
        "id": "20w8UYhDINnj"
      },
      "execution_count": null,
      "outputs": []
    },
    {
      "cell_type": "code",
      "source": [
        "print(X_train.shape)\n",
        "print(y_train.shape)"
      ],
      "metadata": {
        "colab": {
          "base_uri": "https://localhost:8080/"
        },
        "id": "EQl9FDOyIqfa",
        "outputId": "1f2fae43-d9ad-42ab-9252-5adfc2d28227"
      },
      "execution_count": null,
      "outputs": [
        {
          "output_type": "stream",
          "name": "stdout",
          "text": [
            "(20000, 108)\n",
            "(20000,)\n"
          ]
        }
      ]
    },
    {
      "cell_type": "code",
      "source": [
        "from sklearn.linear_model import LogisticRegression\n",
        "model = LogisticRegression()\n",
        "\n",
        "model.fit(X_train, y_train)\n",
        "y_pred = model.predict(X_val)"
      ],
      "metadata": {
        "colab": {
          "base_uri": "https://localhost:8080/"
        },
        "id": "WxhmfyjHRk2j",
        "outputId": "1f0da7f9-a807-4c1b-ed0a-34107ed15919"
      },
      "execution_count": null,
      "outputs": [
        {
          "output_type": "stream",
          "name": "stderr",
          "text": [
            "/usr/local/lib/python3.7/dist-packages/sklearn/linear_model/_logistic.py:818: ConvergenceWarning: lbfgs failed to converge (status=1):\n",
            "STOP: TOTAL NO. of ITERATIONS REACHED LIMIT.\n",
            "\n",
            "Increase the number of iterations (max_iter) or scale the data as shown in:\n",
            "    https://scikit-learn.org/stable/modules/preprocessing.html\n",
            "Please also refer to the documentation for alternative solver options:\n",
            "    https://scikit-learn.org/stable/modules/linear_model.html#logistic-regression\n",
            "  extra_warning_msg=_LOGISTIC_SOLVER_CONVERGENCE_MSG,\n"
          ]
        }
      ]
    },
    {
      "cell_type": "code",
      "source": [
        "from sklearn.metrics import accuracy_score\n",
        "print(\"Accuracy on validation dataset: {}\".format(accuracy_score(y_val,y_pred)))\n"
      ],
      "metadata": {
        "colab": {
          "base_uri": "https://localhost:8080/"
        },
        "id": "tEOzu-UIRsrj",
        "outputId": "6ad43d51-4e54-4917-dbe8-d52a09c3e249"
      },
      "execution_count": null,
      "outputs": [
        {
          "output_type": "stream",
          "name": "stdout",
          "text": [
            "Accuracy on validation dataset: 0.8484\n"
          ]
        }
      ]
    },
    {
      "cell_type": "code",
      "source": [
        " "
      ],
      "metadata": {
        "id": "WNk-dskiSa_-"
      },
      "execution_count": null,
      "outputs": []
    },
    {
      "cell_type": "markdown",
      "source": [
        "# Yêu cầu của đề bài là sử dụng mạng neural để áp dụng kiến thức vừa học."
      ],
      "metadata": {
        "id": "l4qqh9mFf3PQ"
      }
    },
    {
      "cell_type": "code",
      "source": [
        ""
      ],
      "metadata": {
        "id": "CX7qZ_DLgBXz"
      },
      "execution_count": null,
      "outputs": []
    }
  ]
}