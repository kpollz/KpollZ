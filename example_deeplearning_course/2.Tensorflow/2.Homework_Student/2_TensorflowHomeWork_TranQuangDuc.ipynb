{
  "nbformat": 4,
  "nbformat_minor": 0,
  "metadata": {
    "colab": {
      "name": "2.TensorflowHomeWork_TranQuangDuc.ipynb",
      "provenance": [],
      "collapsed_sections": []
    },
    "kernelspec": {
      "name": "python3",
      "display_name": "Python 3"
    },
    "language_info": {
      "name": "python"
    }
  },
  "cells": [
    {
      "cell_type": "markdown",
      "source": [
        "# 1. Lý thuyết\n",
        "\n",
        "**1) Để khởi tạo model trong tensorflow chúng ta sử dụng class nào?**\n",
        "\n",
        "A. Sequential hoặc Model\n",
        "\n",
        "B. Dense\n",
        "\n",
        "C. Adam\n",
        "\n",
        "D. Variable\n",
        "\n",
        "**2) Điểm khác biệt giữa fit và fit_generator trong tensorflow là gì ?**\n",
        "\n",
        "A. fit sẽ yêu cầu load toàn bộ dữ liệu lên RAM trong khi fit_generator sẽ sử dụng một hàm generator để sinh dữ liệu tại mỗi mini-batch. Từ đó giúp tiết kiệm bộ nhớ.\n",
        "\n",
        "B. fit sẽ sử dụng hàm generator để sinh dữ liệu tại thời điểm huấn luyện còn fit_generator sẽ load toàn bộ dữ liệu.\n",
        "\n",
        "C. fit sẽ huấn luyện model theo mini-batch còn fit_generator thì huấn luyện trên toàn bộ dataset.\n",
        "\n",
        "D. trong hàm fit chúng ta có thể khai báo tập validation dataset còn trong fit_generator thì không.\n",
        "\n",
        "\n",
        "**3) Các modules chính trong tensorflow dùng để xây dựng và huấn luyện model.**\n",
        "\n",
        "A. `tf.keras.layers`: khởi tạo activation function; `tf.keras.Sequential`: khởi tạo model; `tf.keras.activations`: để khởi tạo các layers; `tf.keras.optimizers`: Khởi tạo optimizer cho bài toán tối ưu loss function; `tf.keras.losses`: khởi tạo loss function; `tf.keras.preprocessing`: Preprocessing data.\n",
        "\n",
        "B. `tf.keras.layers`: để khởi tạo các layers; `tf.keras.Sequential`: khởi tạo model; `tf.keras.activations`: khởi tạo activation function; `tf.keras.optimizers`: Khởi tạo optimizer cho bài toán tối ưu loss function; `tf.keras.losses`: khởi tạo loss function; `tf.keras.preprocessing`: Preprocessing data.\n",
        "\n",
        "C. `tf.keras.layers`: để khởi tạo các layers; `tf.keras.Sequential`: Preprocessing data; `tf.keras.activations`: khởi tạo activation function; `tf.keras.optimizers`: Khởi tạo optimizer cho bài toán tối ưu loss function; `tf.keras.losses`: khởi tạo loss function; `tf.keras.preprocessing`: khởi tạo model\n",
        "\n",
        "D. `tf.keras.layers`: để khởi tạo các layers; `tf.keras.Sequential`: khởi tạo model; `tf.keras.activations`: khởi tạo activation function; `tf.keras.optimizers`: khởi tạo loss function; `tf.keras.losses`: Khởi tạo optimizer cho bài toán tối ưu loss function; `tf.keras.preprocessing`: Preprocessing data.\n",
        "\n",
        "\n",
        "**4) Các bước trong huấn luyện model bao gồm:**\n",
        "\n",
        "A. 1. Train/test data split --> 2. Initialize the optimizer algorithm --> 3. Build up model architecture --> 4. Train model on train --> 5. Evaluation on test --> 6. Save and use trained model\n",
        "\n",
        "B. 1. Train/test data split --> 2. Build up model architecture --> 3. Train model on train --> 4. Initialize the optimizer algorithm --> 5. Evaluation on test --> 6. Save and use trained model\n",
        "\n",
        "C. 1. Train/test data split --> 2. Build up model architecture --> 3. Initialize the optimizer algorithm --> 4. Evaluation on test --> 5. Train model on train --> 6. Save and use trained model\n",
        "\n",
        "D. 1. Train/test data split --> 2. Build up model architecture --> 3. Initialize the optimizer algorithm --> 4. Train model on train --> 5. Evaluation on test --> 6. Save and use trained model\n",
        "\n",
        "**5) Ý nghĩa của tham số epochs và batch_size trong huấn luyện mô hình là gì?**\n",
        "\n",
        "A. epochs là kích thước của một mini-batch, batch_size là số lượt lặp lại toàn bộ dữ liệu khi huấn luyện.\n",
        "\n",
        "B. epochs là số lượt lặp lại toàn bộ dữ liệu validation khi huấn luyện, batch_size là kích thước của một mini-batch.\n",
        "\n",
        "C. epochs là số lượt lặp lại toàn bộ dữ liệu train khi huấn luyện, batch_size là kích thước của một mini-batch.\n",
        "\n",
        "D. epochs là số lượng vòng lặp, mỗi vòng lặp là một lượt fit mini-batch, trên bộ dữ liệu khi huấn luyện; batch_size là kích thước của một mini-batch."
      ],
      "metadata": {
        "id": "DUXbtwUsAGPq"
      }
    },
    {
      "cell_type": "markdown",
      "source": [
        "# 2. Thực hành\n",
        "\n",
        "6) Khởi tạo một tensor 3 chiều với định dạng là float và kích thước là 32x32x3\n",
        "\n",
        "7) Nếu coi tensor trên là một bức ảnh RGB với số channel là 3 ở cuối. Hãy truy suất các ma trận ảnh tương ứng với mỗi kênh R, G, B.\n",
        "\n",
        "8) Thực hiện tích hadamard và tích thông thường giữa ma trận R và G.\n",
        "\n",
        "9) Từ bộ dữ liệu [Income-Classification](https://www.kaggle.com/t/090688c8d33a40b68be9e271d6ba6bae) hãy chuẩn hóa dữ liệu và phân chia tập train/test theo tỷ lệ 80/20. \n",
        "\n",
        "10) Xây dựng một mạng deep-neural-network để huấn luyện mô hình trên dữ liệu train và đánh giá mô hình trên dữ liệu test.\n"
      ],
      "metadata": {
        "id": "LzLjMsckAJAT"
      }
    },
    {
      "cell_type": "code",
      "source": [
        "Lý thuyết câu 1: A"
      ],
      "metadata": {
        "id": "N-mM5bDkbci9"
      },
      "execution_count": null,
      "outputs": []
    },
    {
      "cell_type": "code",
      "source": [
        "Lý thuyết câu 2: A"
      ],
      "metadata": {
        "id": "B1-LQZxubcm_"
      },
      "execution_count": null,
      "outputs": []
    },
    {
      "cell_type": "code",
      "source": [
        "Lý thuyết câu 3: B"
      ],
      "metadata": {
        "id": "sKii9kA1bcs7"
      },
      "execution_count": null,
      "outputs": []
    },
    {
      "cell_type": "code",
      "source": [
        "Lý thuyết câu 4: D"
      ],
      "metadata": {
        "id": "RxBIS5kUbcx2"
      },
      "execution_count": null,
      "outputs": []
    },
    {
      "cell_type": "code",
      "source": [
        "Lý thuyết câu 5: C"
      ],
      "metadata": {
        "id": "_z-quX03bc5K"
      },
      "execution_count": null,
      "outputs": []
    },
    {
      "cell_type": "code",
      "source": [
        "#Thực hành câu 6:\n",
        "import tensorflow as tf\n",
        "import numpy as np\n",
        "\n",
        "A = tf.random.normal([32, 32, 3], dtype = tf.float32) #khởi tạo tensor 3 channel RGB\n",
        "print(A)"
      ],
      "metadata": {
        "id": "9Bhofh_DcJws"
      },
      "execution_count": null,
      "outputs": []
    },
    {
      "cell_type": "code",
      "source": [
        "#Thực hành câu 7:\n",
        "R = A[:, :, 0] #truy cập R\n",
        "G = A[:, :, 1] #truy cập G\n",
        "B = A[:, :, 2] #truy cập B\n",
        "print(R, G, B)"
      ],
      "metadata": {
        "id": "hRZ-TcA-fffm"
      },
      "execution_count": null,
      "outputs": []
    },
    {
      "cell_type": "code",
      "source": [
        "#Thực hành câu 8:\n",
        "\n",
        "#hadamard R n G\n",
        "hadamard = R*G\n",
        "\n",
        "#matmul R n G\n",
        "matmul = tf.matmul(R, G)\n",
        "\n",
        "print(hadamard, matmul)"
      ],
      "metadata": {
        "id": "J7OO6PrKhWJX"
      },
      "execution_count": null,
      "outputs": []
    },
    {
      "cell_type": "code",
      "source": [
        "#Thực hành câu 9:\n",
        "\n",
        "#mount drive\n",
        "from google.colab import drive\n",
        "import os\n",
        "\n",
        "drive.mount(\"/content/gdrive\")\n",
        "os.chdir(\"/content/gdrive/MyDrive/Colab Notebooks/DL\")"
      ],
      "metadata": {
        "id": "nYqjnEEwiWse"
      },
      "execution_count": null,
      "outputs": []
    },
    {
      "cell_type": "code",
      "source": [
        "import pandas as pd\n",
        "\n",
        "# load the training dataset (excluding rows with null values)\n",
        "train_data = pd.read_csv('../Data/train.csv').dropna()\n",
        "\n",
        "# Deep Learning models work best when features are on similar scales\n",
        "work_type_list = []\n",
        "education_list = []\n",
        "marital_state_list = []\n",
        "job_list = []\n",
        "status_list = []\n",
        "ethnicity_list = []\n",
        "sex_list = []\n",
        "nationality_list = []\n",
        "for i in range(0, len(train_data)):\n",
        "  if train_data['work_type'][i] not in work_type_list:\n",
        "    work_type_list.append(train_data['work_type'][i])\n",
        "  train_data['work_type'][i] = work_type_list.index(train_data['work_type'][i])\n",
        "\n",
        "  if train_data['education'][i] not in education_list:\n",
        "    education_list.append(train_data['education'][i])\n",
        "  train_data['education'][i] = education_list.index(train_data['education'][i])\n",
        "\n",
        "  if train_data['marital_state'][i] not in marital_state_list:\n",
        "    marital_state_list.append(train_data['marital_state'][i])\n",
        "  train_data['marital_state'][i] = marital_state_list.index(train_data['marital_state'][i])\n",
        "\n",
        "#4\n",
        "  if train_data['job'][i] not in job_list:\n",
        "    job_list.append(train_data['job'][i])\n",
        "  train_data['job'][i] = job_list.index(train_data['job'][i])\n",
        "  \n",
        "  if train_data['status'][i] not in status_list:\n",
        "    status_list.append(train_data['status'][i])\n",
        "  train_data['status'][i] = status_list.index(train_data['status'][i])\n",
        "\n",
        "  if train_data['ethnicity'][i] not in ethnicity_list:\n",
        "    ethnicity_list.append(train_data['ethnicity'][i])\n",
        "  train_data['ethnicity'][i] = ethnicity_list.index(train_data['ethnicity'][i])\n",
        "   \n",
        "  if train_data['sex'][i] not in sex_list:\n",
        "    sex_list.append(train_data['sex'][i])\n",
        "  train_data['sex'][i] = sex_list.index(train_data['sex'][i])\n",
        "  \n",
        "  if train_data['nationality'][i] not in nationality_list:\n",
        "    nationality_list.append(train_data['nationality'][i])\n",
        "  train_data['nationality'][i] = nationality_list.index(train_data['nationality'][i])\n",
        "#Display a random sample of 10 observations\n",
        "sample = train_data.sample(10)\n",
        "sample"
      ],
      "metadata": {
        "colab": {
          "base_uri": "https://localhost:8080/",
          "height": 982
        },
        "id": "h6t29lHYrJRO",
        "outputId": "d843833f-1194-4790-f1eb-12a5d3d1cc66"
      },
      "execution_count": null,
      "outputs": [
        {
          "output_type": "stream",
          "name": "stderr",
          "text": [
            "/usr/local/lib/python3.7/dist-packages/ipykernel_launcher.py:18: SettingWithCopyWarning: \n",
            "A value is trying to be set on a copy of a slice from a DataFrame\n",
            "\n",
            "See the caveats in the documentation: https://pandas.pydata.org/pandas-docs/stable/user_guide/indexing.html#returning-a-view-versus-a-copy\n",
            "/usr/local/lib/python3.7/dist-packages/ipykernel_launcher.py:22: SettingWithCopyWarning: \n",
            "A value is trying to be set on a copy of a slice from a DataFrame\n",
            "\n",
            "See the caveats in the documentation: https://pandas.pydata.org/pandas-docs/stable/user_guide/indexing.html#returning-a-view-versus-a-copy\n",
            "/usr/local/lib/python3.7/dist-packages/ipykernel_launcher.py:26: SettingWithCopyWarning: \n",
            "A value is trying to be set on a copy of a slice from a DataFrame\n",
            "\n",
            "See the caveats in the documentation: https://pandas.pydata.org/pandas-docs/stable/user_guide/indexing.html#returning-a-view-versus-a-copy\n",
            "/usr/local/lib/python3.7/dist-packages/ipykernel_launcher.py:31: SettingWithCopyWarning: \n",
            "A value is trying to be set on a copy of a slice from a DataFrame\n",
            "\n",
            "See the caveats in the documentation: https://pandas.pydata.org/pandas-docs/stable/user_guide/indexing.html#returning-a-view-versus-a-copy\n",
            "/usr/local/lib/python3.7/dist-packages/ipykernel_launcher.py:35: SettingWithCopyWarning: \n",
            "A value is trying to be set on a copy of a slice from a DataFrame\n",
            "\n",
            "See the caveats in the documentation: https://pandas.pydata.org/pandas-docs/stable/user_guide/indexing.html#returning-a-view-versus-a-copy\n",
            "/usr/local/lib/python3.7/dist-packages/ipykernel_launcher.py:39: SettingWithCopyWarning: \n",
            "A value is trying to be set on a copy of a slice from a DataFrame\n",
            "\n",
            "See the caveats in the documentation: https://pandas.pydata.org/pandas-docs/stable/user_guide/indexing.html#returning-a-view-versus-a-copy\n",
            "/usr/local/lib/python3.7/dist-packages/ipykernel_launcher.py:43: SettingWithCopyWarning: \n",
            "A value is trying to be set on a copy of a slice from a DataFrame\n",
            "\n",
            "See the caveats in the documentation: https://pandas.pydata.org/pandas-docs/stable/user_guide/indexing.html#returning-a-view-versus-a-copy\n",
            "/usr/local/lib/python3.7/dist-packages/ipykernel_launcher.py:47: SettingWithCopyWarning: \n",
            "A value is trying to be set on a copy of a slice from a DataFrame\n",
            "\n",
            "See the caveats in the documentation: https://pandas.pydata.org/pandas-docs/stable/user_guide/indexing.html#returning-a-view-versus-a-copy\n"
          ]
        },
        {
          "output_type": "execute_result",
          "data": {
            "text/html": [
              "\n",
              "  <div id=\"df-e6e78ef5-c446-4c77-9a6f-da7c787b563e\">\n",
              "    <div class=\"colab-df-container\">\n",
              "      <div>\n",
              "<style scoped>\n",
              "    .dataframe tbody tr th:only-of-type {\n",
              "        vertical-align: middle;\n",
              "    }\n",
              "\n",
              "    .dataframe tbody tr th {\n",
              "        vertical-align: top;\n",
              "    }\n",
              "\n",
              "    .dataframe thead th {\n",
              "        text-align: right;\n",
              "    }\n",
              "</style>\n",
              "<table border=\"1\" class=\"dataframe\">\n",
              "  <thead>\n",
              "    <tr style=\"text-align: right;\">\n",
              "      <th></th>\n",
              "      <th>ID</th>\n",
              "      <th>age</th>\n",
              "      <th>work_type</th>\n",
              "      <th>final_weight</th>\n",
              "      <th>education</th>\n",
              "      <th>total_education_yrs</th>\n",
              "      <th>marital_state</th>\n",
              "      <th>job</th>\n",
              "      <th>status</th>\n",
              "      <th>ethnicity</th>\n",
              "      <th>sex</th>\n",
              "      <th>capital_gain</th>\n",
              "      <th>capital_loss</th>\n",
              "      <th>hrs_per_week</th>\n",
              "      <th>nationality</th>\n",
              "      <th>target_income</th>\n",
              "    </tr>\n",
              "  </thead>\n",
              "  <tbody>\n",
              "    <tr>\n",
              "      <th>12834</th>\n",
              "      <td>12834</td>\n",
              "      <td>47</td>\n",
              "      <td>0</td>\n",
              "      <td>192984</td>\n",
              "      <td>1</td>\n",
              "      <td>10</td>\n",
              "      <td>3</td>\n",
              "      <td>7</td>\n",
              "      <td>4</td>\n",
              "      <td>0</td>\n",
              "      <td>1</td>\n",
              "      <td>0</td>\n",
              "      <td>0</td>\n",
              "      <td>40</td>\n",
              "      <td>0</td>\n",
              "      <td>0</td>\n",
              "    </tr>\n",
              "    <tr>\n",
              "      <th>15616</th>\n",
              "      <td>15616</td>\n",
              "      <td>38</td>\n",
              "      <td>0</td>\n",
              "      <td>172927</td>\n",
              "      <td>0</td>\n",
              "      <td>9</td>\n",
              "      <td>0</td>\n",
              "      <td>3</td>\n",
              "      <td>0</td>\n",
              "      <td>0</td>\n",
              "      <td>0</td>\n",
              "      <td>0</td>\n",
              "      <td>0</td>\n",
              "      <td>50</td>\n",
              "      <td>0</td>\n",
              "      <td>0</td>\n",
              "    </tr>\n",
              "    <tr>\n",
              "      <th>8044</th>\n",
              "      <td>8044</td>\n",
              "      <td>33</td>\n",
              "      <td>5</td>\n",
              "      <td>177945</td>\n",
              "      <td>0</td>\n",
              "      <td>9</td>\n",
              "      <td>0</td>\n",
              "      <td>7</td>\n",
              "      <td>0</td>\n",
              "      <td>2</td>\n",
              "      <td>0</td>\n",
              "      <td>0</td>\n",
              "      <td>0</td>\n",
              "      <td>40</td>\n",
              "      <td>0</td>\n",
              "      <td>0</td>\n",
              "    </tr>\n",
              "    <tr>\n",
              "      <th>11218</th>\n",
              "      <td>11218</td>\n",
              "      <td>17</td>\n",
              "      <td>1</td>\n",
              "      <td>158762</td>\n",
              "      <td>9</td>\n",
              "      <td>6</td>\n",
              "      <td>1</td>\n",
              "      <td>6</td>\n",
              "      <td>1</td>\n",
              "      <td>0</td>\n",
              "      <td>1</td>\n",
              "      <td>0</td>\n",
              "      <td>0</td>\n",
              "      <td>20</td>\n",
              "      <td>0</td>\n",
              "      <td>0</td>\n",
              "    </tr>\n",
              "    <tr>\n",
              "      <th>10599</th>\n",
              "      <td>10599</td>\n",
              "      <td>38</td>\n",
              "      <td>0</td>\n",
              "      <td>40955</td>\n",
              "      <td>4</td>\n",
              "      <td>13</td>\n",
              "      <td>0</td>\n",
              "      <td>2</td>\n",
              "      <td>0</td>\n",
              "      <td>0</td>\n",
              "      <td>0</td>\n",
              "      <td>0</td>\n",
              "      <td>0</td>\n",
              "      <td>40</td>\n",
              "      <td>22</td>\n",
              "      <td>1</td>\n",
              "    </tr>\n",
              "    <tr>\n",
              "      <th>15449</th>\n",
              "      <td>15449</td>\n",
              "      <td>22</td>\n",
              "      <td>0</td>\n",
              "      <td>56582</td>\n",
              "      <td>0</td>\n",
              "      <td>9</td>\n",
              "      <td>1</td>\n",
              "      <td>11</td>\n",
              "      <td>3</td>\n",
              "      <td>0</td>\n",
              "      <td>0</td>\n",
              "      <td>0</td>\n",
              "      <td>0</td>\n",
              "      <td>50</td>\n",
              "      <td>0</td>\n",
              "      <td>0</td>\n",
              "    </tr>\n",
              "    <tr>\n",
              "      <th>22338</th>\n",
              "      <td>22338</td>\n",
              "      <td>42</td>\n",
              "      <td>2</td>\n",
              "      <td>33795</td>\n",
              "      <td>0</td>\n",
              "      <td>9</td>\n",
              "      <td>0</td>\n",
              "      <td>0</td>\n",
              "      <td>0</td>\n",
              "      <td>0</td>\n",
              "      <td>0</td>\n",
              "      <td>0</td>\n",
              "      <td>0</td>\n",
              "      <td>45</td>\n",
              "      <td>0</td>\n",
              "      <td>0</td>\n",
              "    </tr>\n",
              "    <tr>\n",
              "      <th>3179</th>\n",
              "      <td>3179</td>\n",
              "      <td>35</td>\n",
              "      <td>0</td>\n",
              "      <td>173858</td>\n",
              "      <td>0</td>\n",
              "      <td>9</td>\n",
              "      <td>5</td>\n",
              "      <td>0</td>\n",
              "      <td>3</td>\n",
              "      <td>1</td>\n",
              "      <td>0</td>\n",
              "      <td>0</td>\n",
              "      <td>0</td>\n",
              "      <td>40</td>\n",
              "      <td>9</td>\n",
              "      <td>0</td>\n",
              "    </tr>\n",
              "    <tr>\n",
              "      <th>21994</th>\n",
              "      <td>21994</td>\n",
              "      <td>33</td>\n",
              "      <td>0</td>\n",
              "      <td>228528</td>\n",
              "      <td>9</td>\n",
              "      <td>6</td>\n",
              "      <td>1</td>\n",
              "      <td>0</td>\n",
              "      <td>4</td>\n",
              "      <td>0</td>\n",
              "      <td>1</td>\n",
              "      <td>0</td>\n",
              "      <td>0</td>\n",
              "      <td>35</td>\n",
              "      <td>0</td>\n",
              "      <td>0</td>\n",
              "    </tr>\n",
              "    <tr>\n",
              "      <th>15081</th>\n",
              "      <td>15081</td>\n",
              "      <td>38</td>\n",
              "      <td>0</td>\n",
              "      <td>478346</td>\n",
              "      <td>0</td>\n",
              "      <td>9</td>\n",
              "      <td>0</td>\n",
              "      <td>5</td>\n",
              "      <td>5</td>\n",
              "      <td>0</td>\n",
              "      <td>1</td>\n",
              "      <td>7688</td>\n",
              "      <td>0</td>\n",
              "      <td>40</td>\n",
              "      <td>0</td>\n",
              "      <td>1</td>\n",
              "    </tr>\n",
              "  </tbody>\n",
              "</table>\n",
              "</div>\n",
              "      <button class=\"colab-df-convert\" onclick=\"convertToInteractive('df-e6e78ef5-c446-4c77-9a6f-da7c787b563e')\"\n",
              "              title=\"Convert this dataframe to an interactive table.\"\n",
              "              style=\"display:none;\">\n",
              "        \n",
              "  <svg xmlns=\"http://www.w3.org/2000/svg\" height=\"24px\"viewBox=\"0 0 24 24\"\n",
              "       width=\"24px\">\n",
              "    <path d=\"M0 0h24v24H0V0z\" fill=\"none\"/>\n",
              "    <path d=\"M18.56 5.44l.94 2.06.94-2.06 2.06-.94-2.06-.94-.94-2.06-.94 2.06-2.06.94zm-11 1L8.5 8.5l.94-2.06 2.06-.94-2.06-.94L8.5 2.5l-.94 2.06-2.06.94zm10 10l.94 2.06.94-2.06 2.06-.94-2.06-.94-.94-2.06-.94 2.06-2.06.94z\"/><path d=\"M17.41 7.96l-1.37-1.37c-.4-.4-.92-.59-1.43-.59-.52 0-1.04.2-1.43.59L10.3 9.45l-7.72 7.72c-.78.78-.78 2.05 0 2.83L4 21.41c.39.39.9.59 1.41.59.51 0 1.02-.2 1.41-.59l7.78-7.78 2.81-2.81c.8-.78.8-2.07 0-2.86zM5.41 20L4 18.59l7.72-7.72 1.47 1.35L5.41 20z\"/>\n",
              "  </svg>\n",
              "      </button>\n",
              "      \n",
              "  <style>\n",
              "    .colab-df-container {\n",
              "      display:flex;\n",
              "      flex-wrap:wrap;\n",
              "      gap: 12px;\n",
              "    }\n",
              "\n",
              "    .colab-df-convert {\n",
              "      background-color: #E8F0FE;\n",
              "      border: none;\n",
              "      border-radius: 50%;\n",
              "      cursor: pointer;\n",
              "      display: none;\n",
              "      fill: #1967D2;\n",
              "      height: 32px;\n",
              "      padding: 0 0 0 0;\n",
              "      width: 32px;\n",
              "    }\n",
              "\n",
              "    .colab-df-convert:hover {\n",
              "      background-color: #E2EBFA;\n",
              "      box-shadow: 0px 1px 2px rgba(60, 64, 67, 0.3), 0px 1px 3px 1px rgba(60, 64, 67, 0.15);\n",
              "      fill: #174EA6;\n",
              "    }\n",
              "\n",
              "    [theme=dark] .colab-df-convert {\n",
              "      background-color: #3B4455;\n",
              "      fill: #D2E3FC;\n",
              "    }\n",
              "\n",
              "    [theme=dark] .colab-df-convert:hover {\n",
              "      background-color: #434B5C;\n",
              "      box-shadow: 0px 1px 3px 1px rgba(0, 0, 0, 0.15);\n",
              "      filter: drop-shadow(0px 1px 2px rgba(0, 0, 0, 0.3));\n",
              "      fill: #FFFFFF;\n",
              "    }\n",
              "  </style>\n",
              "\n",
              "      <script>\n",
              "        const buttonEl =\n",
              "          document.querySelector('#df-e6e78ef5-c446-4c77-9a6f-da7c787b563e button.colab-df-convert');\n",
              "        buttonEl.style.display =\n",
              "          google.colab.kernel.accessAllowed ? 'block' : 'none';\n",
              "\n",
              "        async function convertToInteractive(key) {\n",
              "          const element = document.querySelector('#df-e6e78ef5-c446-4c77-9a6f-da7c787b563e');\n",
              "          const dataTable =\n",
              "            await google.colab.kernel.invokeFunction('convertToInteractive',\n",
              "                                                     [key], {});\n",
              "          if (!dataTable) return;\n",
              "\n",
              "          const docLinkHtml = 'Like what you see? Visit the ' +\n",
              "            '<a target=\"_blank\" href=https://colab.research.google.com/notebooks/data_table.ipynb>data table notebook</a>'\n",
              "            + ' to learn more about interactive tables.';\n",
              "          element.innerHTML = '';\n",
              "          dataTable['output_type'] = 'display_data';\n",
              "          await google.colab.output.renderOutput(dataTable, element);\n",
              "          const docLink = document.createElement('div');\n",
              "          docLink.innerHTML = docLinkHtml;\n",
              "          element.appendChild(docLink);\n",
              "        }\n",
              "      </script>\n",
              "    </div>\n",
              "  </div>\n",
              "  "
            ],
            "text/plain": [
              "          ID  age work_type  ...  hrs_per_week nationality  target_income\n",
              "12834  12834   47         0  ...            40           0              0\n",
              "15616  15616   38         0  ...            50           0              0\n",
              "8044    8044   33         5  ...            40           0              0\n",
              "11218  11218   17         1  ...            20           0              0\n",
              "10599  10599   38         0  ...            40          22              1\n",
              "15449  15449   22         0  ...            50           0              0\n",
              "22338  22338   42         2  ...            45           0              0\n",
              "3179    3179   35         0  ...            40           9              0\n",
              "21994  21994   33         0  ...            35           0              0\n",
              "15081  15081   38         0  ...            40           0              1\n",
              "\n",
              "[10 rows x 16 columns]"
            ]
          },
          "metadata": {},
          "execution_count": 50
        }
      ]
    },
    {
      "cell_type": "code",
      "execution_count": null,
      "metadata": {
        "colab": {
          "base_uri": "https://localhost:8080/"
        },
        "id": "N1MWUn_jelQg",
        "outputId": "a0a0f022-5836-449d-f1ec-11e2d8224ddb"
      },
      "outputs": [
        {
          "output_type": "stream",
          "name": "stdout",
          "text": [
            "['ID' 'age' 'work_type' 'final_weight' 'education'] target_income\n",
            "[ 24046 22 0 416356 1 ] below 50k\n",
            "[ 6496 28 0 132686 0 ] above 50k\n",
            "[ 12825 42 0 317078 0 ] below 50k\n",
            "[ 13619 41 0 145220 6 ] below 50k\n",
            "[ 16228 29 0 153416 4 ] below 50k\n",
            "[ 24073 30 4 327825 0 ] below 50k\n",
            "[ 4249 22 0 120518 0 ] below 50k\n",
            "[ 734 35 6 111319 11 ] above 50k\n",
            "[ 22596 44 0 176063 4 ] below 50k\n",
            "[ 4227 26 0 314177 0 ] below 50k\n"
          ]
        }
      ],
      "source": [
        "income_classes = ['below 50k', 'above 50k']\n",
        "print(sample.columns[0:5].values, 'target_income')\n",
        "for index, row in train_data.sample(10).iterrows():\n",
        "    print('[' , row[0] , row[1], row[2] , row[3] , row[4], ']', income_classes[int(row[-1])])"
      ]
    },
    {
      "cell_type": "code",
      "execution_count": null,
      "metadata": {
        "colab": {
          "base_uri": "https://localhost:8080/"
        },
        "id": "lwlSgmr6elQg",
        "outputId": "1a76a3bb-d7a7-425f-c345-64c7dd658c17"
      },
      "outputs": [
        {
          "output_type": "stream",
          "name": "stdout",
          "text": [
            "Training Set: 20000, Test Set: 5000 \n",
            "\n",
            "Sample of features and labels:\n",
            "[10807 25 0 188488 0 9 1 8 2 0 0 0 0 40 0] 0 (below 50k)\n",
            "[10529 43 2 315971 5 14 1 5 3 0 1 0 0 40 0] 0 (below 50k)\n",
            "[17516 41 2 27305 0 9 0 11 0 0 0 7688 0 40 0] 1 (above 50k)\n",
            "[19982 46 4 216414 1 10 0 9 0 0 0 0 0 40 0] 1 (above 50k)\n",
            "[23315 24 0 207940 0 9 0 4 5 0 1 0 0 30 0] 0 (below 50k)\n",
            "[21373 50 0 256861 0 9 0 3 0 0 0 0 0 80 0] 0 (below 50k)\n",
            "[1905 71 3 210673 0 9 0 9 0 0 0 0 0 28 0] 0 (below 50k)\n",
            "[21944 54 1 185936 6 5 2 6 3 0 1 0 0 15 0] 0 (below 50k)\n",
            "[6991 41 0 171615 11 12 0 12 0 0 0 0 0 45 0] 1 (above 50k)\n",
            "[21893 25 1 239120 4 13 1 6 3 0 0 0 0 13 0] 0 (below 50k)\n",
            "[6885 44 0 99651 5 14 0 5 0 0 0 5178 0 40 0] 1 (above 50k)\n",
            "[16805 25 0 557082 0 9 1 7 3 0 1 0 0 38 0] 0 (below 50k)\n",
            "[4688 43 2 64112 1 10 0 11 0 0 0 0 0 50 0] 0 (below 50k)\n",
            "[22623 57 6 127728 2 15 0 2 0 0 0 15024 0 60 0] 1 (above 50k)\n",
            "[12215 40 3 175304 1 10 2 3 3 0 1 0 0 40 0] 0 (below 50k)\n",
            "[23266 47 2 106252 4 13 2 3 3 0 1 0 0 50 0] 0 (below 50k)\n",
            "[18167 32 0 98656 5 14 1 5 3 0 1 0 0 40 0] 0 (below 50k)\n",
            "[7502 51 0 205884 1 10 0 12 5 0 1 0 0 40 0] 1 (above 50k)\n",
            "[8655 36 0 269318 4 13 0 5 0 0 0 0 0 50 0] 1 (above 50k)\n",
            "[2631 59 0 283005 3 7 2 7 4 0 1 0 0 40 0] 0 (below 50k)\n",
            "[11564 30 0 312667 1 10 0 0 0 0 0 0 0 40 0] 0 (below 50k)\n",
            "[8309 29 0 240738 0 9 0 2 0 0 0 0 0 40 0] 1 (above 50k)\n",
            "[9833 35 0 210150 0 9 2 7 4 0 1 0 0 40 0] 0 (below 50k)\n",
            "[10593 39 0 74163 13 8 2 3 3 0 1 0 0 40 0] 0 (below 50k)\n"
          ]
        }
      ],
      "source": [
        "from sklearn.model_selection import train_test_split\n",
        "\n",
        "features = ['ID',\t'age',\t'work_type',\t'final_weight',\t'education',\t'total_education_yrs',\t'marital_state',\t'job',\t'status',\t'ethnicity',\t'sex',\t'capital_gain',\t'capital_loss',\t'hrs_per_week',\t'nationality']\n",
        "label = 'target_income'\n",
        "   \n",
        "# Split data 80/20 into training set and test set\n",
        "x_train, x_test, y_train, y_test = train_test_split(train_data[features].values, # input variable\n",
        "                                                    train_data[label].values, # output variable\n",
        "                                                    test_size=0.20, # test dataset proportion\n",
        "                                                    stratify=train_data['target_income'], # assign equal proportion of target label in train/test \n",
        "                                                    random_state=0) # keep train/test split the same if run again. \n",
        "\n",
        "print ('Training Set: %d, Test Set: %d \\n' % (len(x_train), len(x_test)))\n",
        "print(\"Sample of features and labels:\")\n",
        "\n",
        "# Take a look at the first 25 training features and corresponding labels\n",
        "for n in range(0,24):\n",
        "    print(x_train[n], y_train[n], '(' + income_classes[y_train[n]] + ')')"
      ]
    },
    {
      "cell_type": "code",
      "execution_count": null,
      "metadata": {
        "colab": {
          "base_uri": "https://localhost:8080/"
        },
        "id": "-OA0GjrPiyvp",
        "outputId": "7d9f6dce-278c-4c93-80b5-5427fb92c08b"
      },
      "outputs": [
        {
          "output_type": "stream",
          "name": "stdout",
          "text": [
            "tensorflow @ file:///tensorflow-2.7.0-cp37-cp37m-linux_x86_64.whl\n",
            "tensorflow-datasets==4.0.1\n",
            "tensorflow-estimator==2.7.0\n",
            "tensorflow-gcs-config==2.7.0\n",
            "tensorflow-hub==0.12.0\n",
            "tensorflow-io-gcs-filesystem==0.23.1\n",
            "tensorflow-metadata==1.6.0\n",
            "tensorflow-probability==0.15.0\n"
          ]
        }
      ],
      "source": [
        "!pip freeze | grep tensorflow"
      ]
    },
    {
      "cell_type": "code",
      "execution_count": null,
      "metadata": {
        "id": "SNpx4nFJelQh"
      },
      "outputs": [],
      "source": [
        ""
      ]
    },
    {
      "cell_type": "code",
      "source": [
        "#thực hành câu 10"
      ],
      "metadata": {
        "id": "6CG3iZHN0gt1"
      },
      "execution_count": null,
      "outputs": []
    },
    {
      "cell_type": "code",
      "execution_count": null,
      "metadata": {
        "colab": {
          "base_uri": "https://localhost:8080/"
        },
        "id": "r4keKp6BelQi",
        "outputId": "12071bc3-689b-4f3a-8af2-7112269fd614"
      },
      "outputs": [
        {
          "output_type": "stream",
          "name": "stdout",
          "text": [
            "Libraries imported.\n",
            "Keras version: 2.7.0\n",
            "TensorFlow version: 2.7.0\n"
          ]
        }
      ],
      "source": [
        "import tensorflow\n",
        "from tensorflow import keras\n",
        "from tensorflow.keras import models\n",
        "from tensorflow.keras.models import Sequential\n",
        "from tensorflow.keras.layers import Dense\n",
        "from tensorflow.keras import utils\n",
        "from tensorflow.keras import optimizers\n",
        "\n",
        "# Set random seed for reproducability\n",
        "tensorflow.random.set_seed(0)\n",
        "\n",
        "print(\"Libraries imported.\")\n",
        "print('Keras version:',keras.__version__)\n",
        "print('TensorFlow version:',tensorflow.__version__)"
      ]
    },
    {
      "cell_type": "code",
      "execution_count": null,
      "metadata": {
        "id": "86nHASajelQj"
      },
      "outputs": [],
      "source": [
        "# Set data types for float features\n",
        "\n",
        "x_train = x_train.astype('float32')\n",
        "x_test = x_test.astype('float32')\n",
        "\n",
        "# Set data types for categorical labels\n",
        "y_train = utils.to_categorical(y_train)\n",
        "y_test = utils.to_categorical(y_test)\n",
        "print('Ready...')"
      ]
    },
    {
      "cell_type": "code",
      "execution_count": null,
      "metadata": {
        "colab": {
          "base_uri": "https://localhost:8080/"
        },
        "id": "-7RabcgZelQj",
        "outputId": "751d34fd-4dc3-4100-e71e-75622dc8fad7"
      },
      "outputs": [
        {
          "output_type": "stream",
          "name": "stdout",
          "text": [
            "Model: \"sequential\"\n",
            "_________________________________________________________________\n",
            " Layer (type)                Output Shape              Param #   \n",
            "=================================================================\n",
            " dense (Dense)               (None, 10)                160       \n",
            "                                                                 \n",
            " dense_1 (Dense)             (None, 10)                110       \n",
            "                                                                 \n",
            " dense_2 (Dense)             (None, 2)                 22        \n",
            "                                                                 \n",
            "=================================================================\n",
            "Total params: 292\n",
            "Trainable params: 292\n",
            "Non-trainable params: 0\n",
            "_________________________________________________________________\n",
            "None\n"
          ]
        }
      ],
      "source": [
        "# Define a classifier network\n",
        "hl = 10 # Number of hidden layer nodes\n",
        "\n",
        "model = Sequential()\n",
        "model.add(Dense(hl, input_dim=len(features), activation='relu'))\n",
        "model.add(Dense(hl, input_dim=hl, activation='relu'))\n",
        "model.add(Dense(len(income_classes), input_dim=hl, activation='softmax'))\n",
        "\n",
        "print(model.summary())"
      ]
    },
    {
      "cell_type": "code",
      "execution_count": null,
      "metadata": {
        "colab": {
          "base_uri": "https://localhost:8080/"
        },
        "id": "MkWUwUKkelQk",
        "outputId": "ab69b90f-fa25-436d-abd3-0f0fcd0cf82c",
        "scrolled": true
      },
      "outputs": [
        {
          "output_type": "stream",
          "name": "stderr",
          "text": [
            "/usr/local/lib/python3.7/dist-packages/keras/optimizer_v2/adam.py:105: UserWarning: The `lr` argument is deprecated, use `learning_rate` instead.\n",
            "  super(Adam, self).__init__(name, **kwargs)\n"
          ]
        },
        {
          "output_type": "stream",
          "name": "stdout",
          "text": [
            "Epoch 1/50\n",
            "2000/2000 [==============================] - 5s 2ms/step - loss: 289.1252 - accuracy: 0.6815 - val_loss: 16.6830 - val_accuracy: 0.5596\n",
            "Epoch 2/50\n",
            "2000/2000 [==============================] - 4s 2ms/step - loss: 52.6034 - accuracy: 0.6847 - val_loss: 14.5794 - val_accuracy: 0.7928\n",
            "Epoch 3/50\n",
            "2000/2000 [==============================] - 4s 2ms/step - loss: 40.4360 - accuracy: 0.6876 - val_loss: 10.9368 - val_accuracy: 0.7896\n",
            "Epoch 4/50\n",
            "2000/2000 [==============================] - 4s 2ms/step - loss: 30.6423 - accuracy: 0.6927 - val_loss: 17.7144 - val_accuracy: 0.2498\n",
            "Epoch 5/50\n",
            "2000/2000 [==============================] - 4s 2ms/step - loss: 24.8683 - accuracy: 0.6912 - val_loss: 8.2500 - val_accuracy: 0.7978\n",
            "Epoch 6/50\n",
            "2000/2000 [==============================] - 4s 2ms/step - loss: 25.3907 - accuracy: 0.6864 - val_loss: 6.9551 - val_accuracy: 0.7952\n",
            "Epoch 7/50\n",
            "2000/2000 [==============================] - 4s 2ms/step - loss: 23.4743 - accuracy: 0.6900 - val_loss: 7.0677 - val_accuracy: 0.7668\n",
            "Epoch 8/50\n",
            "2000/2000 [==============================] - 4s 2ms/step - loss: 21.6802 - accuracy: 0.6974 - val_loss: 5.8047 - val_accuracy: 0.7958\n",
            "Epoch 9/50\n",
            "2000/2000 [==============================] - 6s 3ms/step - loss: 22.7047 - accuracy: 0.6947 - val_loss: 34.1231 - val_accuracy: 0.7918\n",
            "Epoch 10/50\n",
            "2000/2000 [==============================] - 4s 2ms/step - loss: 18.8552 - accuracy: 0.6987 - val_loss: 7.3381 - val_accuracy: 0.8026\n",
            "Epoch 11/50\n",
            "2000/2000 [==============================] - 4s 2ms/step - loss: 16.4096 - accuracy: 0.6995 - val_loss: 42.4072 - val_accuracy: 0.2426\n",
            "Epoch 12/50\n",
            "2000/2000 [==============================] - 4s 2ms/step - loss: 15.3878 - accuracy: 0.7042 - val_loss: 31.3232 - val_accuracy: 0.7870\n",
            "Epoch 13/50\n",
            "2000/2000 [==============================] - 4s 2ms/step - loss: 15.2218 - accuracy: 0.7042 - val_loss: 40.8773 - val_accuracy: 0.7816\n",
            "Epoch 14/50\n",
            "2000/2000 [==============================] - 5s 3ms/step - loss: 13.6220 - accuracy: 0.7054 - val_loss: 7.2030 - val_accuracy: 0.7984\n",
            "Epoch 15/50\n",
            "2000/2000 [==============================] - 5s 2ms/step - loss: 12.9928 - accuracy: 0.7053 - val_loss: 16.3065 - val_accuracy: 0.3402\n",
            "Epoch 16/50\n",
            "2000/2000 [==============================] - 4s 2ms/step - loss: 10.4549 - accuracy: 0.7137 - val_loss: 2.8637 - val_accuracy: 0.7332\n",
            "Epoch 17/50\n",
            "2000/2000 [==============================] - 4s 2ms/step - loss: 10.9312 - accuracy: 0.7056 - val_loss: 1.7089 - val_accuracy: 0.7442\n",
            "Epoch 18/50\n",
            "2000/2000 [==============================] - 4s 2ms/step - loss: 9.4782 - accuracy: 0.7060 - val_loss: 10.9898 - val_accuracy: 0.7928\n",
            "Epoch 19/50\n",
            "2000/2000 [==============================] - 4s 2ms/step - loss: 10.0256 - accuracy: 0.7117 - val_loss: 12.4037 - val_accuracy: 0.7948\n",
            "Epoch 20/50\n",
            "2000/2000 [==============================] - 4s 2ms/step - loss: 8.6792 - accuracy: 0.7118 - val_loss: 4.2741 - val_accuracy: 0.8012\n",
            "Epoch 21/50\n",
            "2000/2000 [==============================] - 6s 3ms/step - loss: 7.8731 - accuracy: 0.7060 - val_loss: 7.9135 - val_accuracy: 0.7986\n",
            "Epoch 22/50\n",
            "2000/2000 [==============================] - 5s 3ms/step - loss: 7.0729 - accuracy: 0.7101 - val_loss: 1.7345 - val_accuracy: 0.7986\n",
            "Epoch 23/50\n",
            "2000/2000 [==============================] - 11s 5ms/step - loss: 6.8834 - accuracy: 0.7112 - val_loss: 5.6992 - val_accuracy: 0.8010\n",
            "Epoch 24/50\n",
            "2000/2000 [==============================] - 9s 5ms/step - loss: 5.5094 - accuracy: 0.7150 - val_loss: 14.1986 - val_accuracy: 0.7810\n",
            "Epoch 25/50\n",
            "2000/2000 [==============================] - 8s 4ms/step - loss: 5.4868 - accuracy: 0.7148 - val_loss: 1.5510 - val_accuracy: 0.8000\n",
            "Epoch 26/50\n",
            "2000/2000 [==============================] - 4s 2ms/step - loss: 5.2223 - accuracy: 0.7122 - val_loss: 6.2137 - val_accuracy: 0.7924\n",
            "Epoch 27/50\n",
            "2000/2000 [==============================] - 4s 2ms/step - loss: 4.2946 - accuracy: 0.7171 - val_loss: 1.2623 - val_accuracy: 0.7968\n",
            "Epoch 28/50\n",
            "2000/2000 [==============================] - 4s 2ms/step - loss: 3.6911 - accuracy: 0.7140 - val_loss: 1.4712 - val_accuracy: 0.8018\n",
            "Epoch 29/50\n",
            "2000/2000 [==============================] - 5s 3ms/step - loss: 3.3352 - accuracy: 0.7201 - val_loss: 6.5607 - val_accuracy: 0.7830\n",
            "Epoch 30/50\n",
            "2000/2000 [==============================] - 4s 2ms/step - loss: 2.7156 - accuracy: 0.7155 - val_loss: 0.6652 - val_accuracy: 0.7252\n",
            "Epoch 31/50\n",
            "2000/2000 [==============================] - 4s 2ms/step - loss: 1.3435 - accuracy: 0.7428 - val_loss: 1.4869 - val_accuracy: 0.7822\n",
            "Epoch 32/50\n",
            "2000/2000 [==============================] - 4s 2ms/step - loss: 1.0579 - accuracy: 0.7416 - val_loss: 0.4199 - val_accuracy: 0.8126\n",
            "Epoch 33/50\n",
            "2000/2000 [==============================] - 4s 2ms/step - loss: 0.5722 - accuracy: 0.7804 - val_loss: 0.4550 - val_accuracy: 0.8098\n",
            "Epoch 34/50\n",
            "2000/2000 [==============================] - 4s 2ms/step - loss: 0.5395 - accuracy: 0.7857 - val_loss: 0.5104 - val_accuracy: 0.8034\n",
            "Epoch 35/50\n",
            "2000/2000 [==============================] - 4s 2ms/step - loss: 0.5116 - accuracy: 0.7928 - val_loss: 0.4936 - val_accuracy: 0.7940\n",
            "Epoch 36/50\n",
            "2000/2000 [==============================] - 4s 2ms/step - loss: 0.5422 - accuracy: 0.7694 - val_loss: 0.5383 - val_accuracy: 0.7690\n",
            "Epoch 37/50\n",
            "2000/2000 [==============================] - 4s 2ms/step - loss: 0.5453 - accuracy: 0.7677 - val_loss: 0.5407 - val_accuracy: 0.7674\n",
            "Epoch 38/50\n",
            "2000/2000 [==============================] - 5s 2ms/step - loss: 0.5452 - accuracy: 0.7645 - val_loss: 0.5398 - val_accuracy: 0.7680\n",
            "Epoch 39/50\n",
            "2000/2000 [==============================] - 4s 2ms/step - loss: 0.5484 - accuracy: 0.7636 - val_loss: 0.5391 - val_accuracy: 0.7684\n",
            "Epoch 40/50\n",
            "2000/2000 [==============================] - 4s 2ms/step - loss: 0.5486 - accuracy: 0.7650 - val_loss: 0.5392 - val_accuracy: 0.7684\n",
            "Epoch 41/50\n",
            "2000/2000 [==============================] - 4s 2ms/step - loss: 0.5585 - accuracy: 0.7633 - val_loss: 0.5455 - val_accuracy: 0.7640\n",
            "Epoch 42/50\n",
            "2000/2000 [==============================] - 4s 2ms/step - loss: 0.5482 - accuracy: 0.7622 - val_loss: 0.5455 - val_accuracy: 0.7640\n",
            "Epoch 43/50\n",
            "2000/2000 [==============================] - 4s 2ms/step - loss: 0.5481 - accuracy: 0.7622 - val_loss: 0.5455 - val_accuracy: 0.7640\n",
            "Epoch 44/50\n",
            "2000/2000 [==============================] - 4s 2ms/step - loss: 0.5481 - accuracy: 0.7622 - val_loss: 0.5456 - val_accuracy: 0.7640\n",
            "Epoch 45/50\n",
            "2000/2000 [==============================] - 5s 3ms/step - loss: 0.5482 - accuracy: 0.7622 - val_loss: 0.5455 - val_accuracy: 0.7640\n",
            "Epoch 46/50\n",
            "2000/2000 [==============================] - 4s 2ms/step - loss: 0.5482 - accuracy: 0.7622 - val_loss: 0.5455 - val_accuracy: 0.7640\n",
            "Epoch 47/50\n",
            "2000/2000 [==============================] - 4s 2ms/step - loss: 0.5481 - accuracy: 0.7622 - val_loss: 0.5456 - val_accuracy: 0.7640\n",
            "Epoch 48/50\n",
            "2000/2000 [==============================] - 4s 2ms/step - loss: 0.5482 - accuracy: 0.7622 - val_loss: 0.5455 - val_accuracy: 0.7640\n",
            "Epoch 49/50\n",
            "2000/2000 [==============================] - 4s 2ms/step - loss: 0.5482 - accuracy: 0.7622 - val_loss: 0.5455 - val_accuracy: 0.7640\n",
            "Epoch 50/50\n",
            "2000/2000 [==============================] - 4s 2ms/step - loss: 0.5482 - accuracy: 0.7622 - val_loss: 0.5455 - val_accuracy: 0.7640\n"
          ]
        }
      ],
      "source": [
        "#hyper-parameters for optimizer\n",
        "learning_rate = 0.001\n",
        "opt = optimizers.Adam(lr=learning_rate)\n",
        "\n",
        "model.compile(loss='categorical_crossentropy',\n",
        "              optimizer=opt,\n",
        "              metrics=['accuracy'])\n",
        "\n",
        "# Train the model over 50 epochs using 10-observation batches and using the test holdout dataset for validation\n",
        "num_epochs = 50\n",
        "history = model.fit(x_train, y_train, epochs=num_epochs, batch_size=10, validation_data=(x_test, y_test))"
      ]
    },
    {
      "cell_type": "code",
      "execution_count": null,
      "metadata": {
        "colab": {
          "base_uri": "https://localhost:8080/",
          "height": 281
        },
        "id": "BUqec0QselQk",
        "outputId": "322a7acd-add9-4e4f-f253-d8dbfad9f8e3"
      },
      "outputs": [
        {
          "output_type": "display_data",
          "data": {
            "image/png": "[encoded data removed]",
            "text/plain": [
              "<Figure size 432x288 with 1 Axes>"
            ]
          },
          "metadata": {
            "needs_background": "light"
          }
        }
      ],
      "source": [
        "%matplotlib inline\n",
        "from matplotlib import pyplot as plt\n",
        "\n",
        "epoch_nums = range(1,num_epochs+1)\n",
        "training_loss = history.history[\"loss\"]\n",
        "validation_loss = history.history[\"val_loss\"]\n",
        "plt.plot(epoch_nums, training_loss)\n",
        "plt.plot(epoch_nums, validation_loss)\n",
        "plt.xlabel('epoch')\n",
        "plt.ylabel('loss')\n",
        "plt.legend(['training', 'validation'], loc='upper right')\n",
        "plt.show()"
      ]
    },
    {
      "cell_type": "code",
      "execution_count": null,
      "metadata": {
        "colab": {
          "base_uri": "https://localhost:8080/"
        },
        "id": "OYkJpufpelQl",
        "outputId": "03c9c285-f516-4607-8299-4aa59b92ded0"
      },
      "outputs": [
        {
          "output_type": "stream",
          "name": "stdout",
          "text": [
            "------------\n",
            "Weights:\n",
            " [[-2.03821898e-01 -2.87504971e-01  3.46756876e-02  6.00198209e-02\n",
            "  -8.16419721e-02  8.12744498e-02 -5.29506803e-02 -1.84605066e-02\n",
            "   2.54351825e-01 -3.67057383e-01]\n",
            " [ 2.05577523e-01  1.59134179e-01  7.07966983e-02 -1.32513970e-01\n",
            "  -7.78758526e-02 -1.27482021e+00  1.89149010e+00 -2.06039771e-01\n",
            "   1.52944338e+00 -4.07636195e-01]\n",
            " [-2.15790838e-01 -4.74688381e-01  2.21799880e-01  2.60173708e-01\n",
            "   1.76232606e-01 -4.78635597e+00  4.23669577e+00 -4.40678537e-01\n",
            "   4.19732428e+00  2.46657163e-01]\n",
            " [-3.20674658e-01 -1.84265137e-01 -2.04411030e-01 -3.91416311e-01\n",
            "  -3.27574432e-01  1.30741507e-01 -2.64473893e-02 -1.38797915e-07\n",
            "   3.43551427e-01 -3.51094842e-01]\n",
            " [-3.94303620e-01  1.04131132e-01 -3.15570921e-01  1.76872313e-02\n",
            "   4.72380251e-01 -9.41643417e-01  8.00165415e-01 -2.86708057e-01\n",
            "   4.82553869e-01  2.98910588e-01]\n",
            " [ 8.22310150e-02 -3.88854980e-01  4.35915560e-01 -2.13009447e-01\n",
            "   5.17836511e-02 -2.91190219e+00  1.72347236e+00 -3.83915842e-01\n",
            "   2.04579639e+00 -4.48810816e-01]\n",
            " [ 4.15334076e-01  3.67632657e-01 -3.13923061e-02 -2.94755995e-02\n",
            "   1.25167221e-01  1.63711739e+01 -1.06250744e+01 -2.10726738e+00\n",
            "  -1.63937798e+01  1.01125866e-01]\n",
            " [-9.62547064e-02  8.63679945e-02  3.61811429e-01  3.11953455e-01\n",
            "  -4.82737243e-01  2.11556983e+00 -2.18411183e+00 -1.09799814e+00\n",
            "  -2.02636814e+00 -3.23149770e-01]\n",
            " [ 1.93718404e-01  2.31945187e-01  3.36252838e-01  2.31116384e-01\n",
            "   2.26458341e-01  8.21214676e+00 -6.92661428e+00 -1.49891865e+00\n",
            "  -8.43739700e+00 -4.52011973e-01]\n",
            " [ 1.68139726e-01  8.48230422e-02 -4.89024609e-01 -2.54455209e-02\n",
            "   4.44125921e-01  6.94687796e+00 -4.77064037e+00 -1.24969792e+00\n",
            "  -6.51893234e+00 -4.31782544e-01]\n",
            " [ 1.62987202e-01 -2.36960649e-02 -4.23756689e-01  4.61398691e-01\n",
            "  -3.70629728e-02  1.00416470e+01 -8.46112442e+00 -1.16246545e+00\n",
            "  -9.75220680e+00 -6.62372410e-02]\n",
            " [-4.43560839e-01  3.67949307e-02 -3.30809921e-01 -1.01749122e-01\n",
            "   6.19046390e-02 -1.76985070e-01  3.08153749e-01 -1.79975748e-01\n",
            "  -2.78379709e-01  8.68752301e-02]\n",
            " [-3.93986642e-01 -1.98629290e-01 -2.71229506e-01  1.64692372e-01\n",
            "  -2.22929001e-01  1.56180725e-01  9.08785880e-01 -1.81134254e-01\n",
            "   3.66067231e-01  1.99081630e-01]\n",
            " [-1.03449166e-01  4.88355488e-01  1.21217698e-01 -9.93981659e-02\n",
            "   2.11297244e-01 -1.44024432e+00  1.29767430e+00 -5.44016659e-01\n",
            "   7.63546467e-01  1.00108773e-01]\n",
            " [ 1.79475456e-01  1.40627652e-01  3.96275014e-01 -4.45066750e-01\n",
            "  -3.68910432e-02  9.92538393e-01 -1.47725296e+00 -8.00340116e-01\n",
            "  -1.32658386e+00 -2.65979767e-03]] \n",
            "Biases:\n",
            " [ 0.          0.          0.          0.          0.          1.6699023\n",
            " -0.54461783 -0.6385011  -1.8423983   0.        ]\n",
            "------------\n",
            "Weights:\n",
            " [[ 0.0607031  -0.30530828  0.39975524  0.3037489   0.15896738  0.03326017\n",
            "  -0.53190327  0.40915883 -0.03316814 -0.1240823 ]\n",
            " [ 0.42301047  0.14984506 -0.54566675  0.3919103  -0.4295466   0.50397205\n",
            "  -0.31616646  0.17803025 -0.41518384 -0.38429344]\n",
            " [ 0.5336163   0.37752342 -0.4790918   0.17206895 -0.04215616  0.5297911\n",
            "   0.42722178  0.29141444  0.27492702 -0.2233491 ]\n",
            " [-0.04491103  0.19579428 -0.26655364  0.17358297  0.3112036   0.53520477\n",
            "  -0.3109483  -0.5284722  -0.00098199 -0.44063687]\n",
            " [ 0.5135      0.39074183  0.39206952 -0.03048635  0.02663547  0.20555359\n",
            "   0.09307003  0.24590033 -0.49007446 -0.2917699 ]\n",
            " [ 0.44881624 -0.3901862   0.38859457  0.29417115 -0.26569188 -0.5313456\n",
            "   0.2767826  -0.26470914  0.11956821 -0.24347706]\n",
            " [ 0.18547478 -0.19090915 -0.05009963 -0.30627972  0.12806404 -0.38203925\n",
            "   0.00696546  0.0853605   0.10964272 -0.64627427]\n",
            " [-0.44468963 -0.21495155  0.09407155 -0.46094683 -0.20800981  0.3025053\n",
            "   0.12343825  0.21554455  0.22219157 -0.32721263]\n",
            " [-0.56276137 -0.4176368  -0.4355189  -0.49696004 -0.27225545 -0.38996994\n",
            "  -0.17354934 -0.04679142 -0.12418489  0.03046683]\n",
            " [ 0.32320213 -0.30822456 -0.37115166  0.45703936 -0.35191107  0.24120325\n",
            "  -0.2000556   0.23292273 -0.33508268 -0.51532805]] \n",
            "Biases:\n",
            " [-8.7026000e-02  0.0000000e+00  2.7469733e-01  0.0000000e+00\n",
            " -4.2899286e-25  0.0000000e+00  1.7472034e+00 -1.5796754e+00\n",
            " -1.8760253e+00 -2.1008684e-01]\n",
            "------------\n",
            "Weights:\n",
            " [[-0.36683953  0.27546293]\n",
            " [-0.0172509   0.5307831 ]\n",
            " [-0.27791294 -0.5399804 ]\n",
            " [ 0.29633683 -0.19019729]\n",
            " [ 0.11434728  0.56687206]\n",
            " [-0.5206815   0.06359369]\n",
            " [-0.18350057 -0.23927616]\n",
            " [-0.08608676 -0.01371219]\n",
            " [-0.0272675  -0.02587196]\n",
            " [ 0.5009668  -0.43104693]] \n",
            "Biases:\n",
            " [ 0.586977   -0.58697706]\n"
          ]
        }
      ],
      "source": [
        "for layer in model.layers:\n",
        "    weights = layer.get_weights()[0]\n",
        "    biases = layer.get_weights()[1]\n",
        "    print('------------\\nWeights:\\n',weights,'\\nBiases:\\n', biases)"
      ]
    },
    {
      "cell_type": "markdown",
      "source": [
        "# CHữa: Nên hiển thị kết quả acc mô hình sau khi huấn luyện. Đưa ra một vài nhận xét, đánh giá. THử nghiệm thay đổi tham số mô hình và xử lý, chuẩn hóa dữ liệu"
      ],
      "metadata": {
        "id": "YkvNVVZ1WXG4"
      }
    },
    {
      "cell_type": "code",
      "source": [
        ""
      ],
      "metadata": {
        "id": "Ey9hVniXWhof"
      },
      "execution_count": null,
      "outputs": []
    }
  ]
}