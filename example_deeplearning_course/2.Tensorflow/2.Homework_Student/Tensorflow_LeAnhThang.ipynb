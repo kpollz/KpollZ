{
  "nbformat": 4,
  "nbformat_minor": 0,
  "metadata": {
    "colab": {
      "name": " Tensorflow_LeAnhThang.ipynb",
      "provenance": [],
      "collapsed_sections": [
        "Nq7UqV1MjfoO"
      ]
    },
    "kernelspec": {
      "name": "python3",
      "display_name": "Python 3"
    },
    "language_info": {
      "name": "python"
    }
  },
  "cells": [
    {
      "cell_type": "markdown",
      "source": [
        "**1. Lý Thuyết**"
      ],
      "metadata": {
        "id": "4xZxym42byLn"
      }
    },
    {
      "cell_type": "markdown",
      "source": [
        "1) Để khởi tạo model trong tensorflow chúng ta sử dụng class nào?"
      ],
      "metadata": {
        "id": "nnX8B_2Ow0cT"
      }
    },
    {
      "cell_type": "markdown",
      "source": [
        "A. Sequential hoặc Model"
      ],
      "metadata": {
        "id": "7WgtEKaKaNSL"
      }
    },
    {
      "cell_type": "markdown",
      "source": [
        "2) Điểm khác biệt giữa fit và fit_generator trong tensorflow là gì ?"
      ],
      "metadata": {
        "id": "Kgzjvbr-aUBJ"
      }
    },
    {
      "cell_type": "markdown",
      "source": [
        "A. fit sẽ yêu cầu load toàn bộ dữ liệu lên RAM trong khi fit_generator sẽ sử dụng một hàm generator để sinh dữ liệu tại mỗi mini-batch. Từ đó giúp tiết kiệm bộ nhớ."
      ],
      "metadata": {
        "id": "OVMEHwpBaXQH"
      }
    },
    {
      "cell_type": "markdown",
      "source": [
        "3) Các modules chính trong tensorflow dùng để xây dựng và huấn luyện model."
      ],
      "metadata": {
        "id": "gVZRR-OgafeE"
      }
    },
    {
      "cell_type": "markdown",
      "source": [
        "B. tf.keras.layers: để khởi tạo các layers; tf.keras.Sequential: khởi tạo model; tf.keras.activations: khởi tạo activation function; tf.keras.optimizers: Khởi tạo optimizer cho bài toán tối ưu loss function; tf.keras.losses: khởi tạo loss function; tf.keras.preprocessing: Preprocessing data."
      ],
      "metadata": {
        "id": "AvWEgSc4al10"
      }
    },
    {
      "cell_type": "markdown",
      "source": [
        "4) Các bước trong huấn luyện model bao gồm:"
      ],
      "metadata": {
        "id": "9Z1XDNhha4te"
      }
    },
    {
      "cell_type": "markdown",
      "source": [
        "D. 1. Train/test data split --> 2. Build up model architecture --> 3. Initialize the optimizer algorithm --> 4. Train model on train --> 5. Evaluation on test --> 6. Save and use trained model"
      ],
      "metadata": {
        "id": "nHqGZLSna7W9"
      }
    },
    {
      "cell_type": "markdown",
      "source": [
        "5) Ý nghĩa của tham số epochs và batch_size trong huấn luyện mô hình là gì?"
      ],
      "metadata": {
        "id": "ktVLOUKkbIwf"
      }
    },
    {
      "cell_type": "markdown",
      "source": [
        "C. epochs là số lượt lặp lại toàn bộ dữ liệu train khi huấn luyện, batch_size là kích thước của một mini-batch."
      ],
      "metadata": {
        "id": "svG3rMXdbQ6G"
      }
    },
    {
      "cell_type": "markdown",
      "source": [
        "**2. Thực hành**"
      ],
      "metadata": {
        "id": "W39S6kKYb4tM"
      }
    },
    {
      "cell_type": "markdown",
      "source": [
        "6) Khởi tạo một tensor 3 chiều với định dạng là float và kích thước là 32x32x3"
      ],
      "metadata": {
        "id": "xn9WGu8Kb8Ug"
      }
    },
    {
      "cell_type": "code",
      "source": [
        "import numpy as np\n",
        "import tensorflow as tf\n",
        "\n",
        "tensor = np.random.rand(32, 32, 3)\n",
        "A = tf.constant(tensor)\n"
      ],
      "metadata": {
        "id": "le3-0obUcBgI"
      },
      "execution_count": null,
      "outputs": []
    },
    {
      "cell_type": "code",
      "source": [
        "A"
      ],
      "metadata": {
        "colab": {
          "base_uri": "https://localhost:8080/"
        },
        "id": "7t3q9HI9gd8Y",
        "outputId": "56f2fd83-57c3-46ef-ee26-34eb7c2afca7"
      },
      "execution_count": null,
      "outputs": [
        {
          "output_type": "execute_result",
          "data": {
            "text/plain": [
              "<tf.Tensor: shape=(32, 32, 3), dtype=float64, numpy=\n",
              "array([[[0.04944899, 0.9540803 , 0.09348536],\n",
              "        [0.89864696, 0.18989456, 0.05526398],\n",
              "        [0.541694  , 0.29366106, 0.06218993],\n",
              "        ...,\n",
              "        [0.17778477, 0.28203477, 0.61108172],\n",
              "        [0.53492089, 0.87858859, 0.69894119],\n",
              "        [0.32914734, 0.20963163, 0.06304795]],\n",
              "\n",
              "       [[0.10734496, 0.67483528, 0.88522965],\n",
              "        [0.97184653, 0.32065896, 0.90631397],\n",
              "        [0.70386451, 0.43450983, 0.27673065],\n",
              "        ...,\n",
              "        [0.94050446, 0.81975225, 0.31005244],\n",
              "        [0.25088924, 0.54165714, 0.39882767],\n",
              "        [0.01190508, 0.80092588, 0.64860301]],\n",
              "\n",
              "       [[0.64640505, 0.88421842, 0.40179104],\n",
              "        [0.32059064, 0.19007193, 0.01850532],\n",
              "        [0.65181733, 0.55994946, 0.59153159],\n",
              "        ...,\n",
              "        [0.34532787, 0.77610684, 0.41238304],\n",
              "        [0.91692177, 0.97022299, 0.26321071],\n",
              "        [0.1753425 , 0.07151326, 0.76281248]],\n",
              "\n",
              "       ...,\n",
              "\n",
              "       [[0.62195809, 0.87714149, 0.17337601],\n",
              "        [0.30273026, 0.18198063, 0.45618432],\n",
              "        [0.12195662, 0.20969385, 0.99735126],\n",
              "        ...,\n",
              "        [0.28784997, 0.60152755, 0.93992012],\n",
              "        [0.70042285, 0.75209857, 0.71518084],\n",
              "        [0.08156624, 0.88700637, 0.83318939]],\n",
              "\n",
              "       [[0.22325927, 0.5913003 , 0.00965809],\n",
              "        [0.86258431, 0.28787293, 0.07284849],\n",
              "        [0.1859676 , 0.75533322, 0.87739983],\n",
              "        ...,\n",
              "        [0.16089157, 0.35119108, 0.76142499],\n",
              "        [0.06805531, 0.26598962, 0.89497406],\n",
              "        [0.83215418, 0.29881948, 0.53329999]],\n",
              "\n",
              "       [[0.66521182, 0.44596925, 0.43508278],\n",
              "        [0.05935173, 0.93433313, 0.78217601],\n",
              "        [0.92998888, 0.24916884, 0.33521016],\n",
              "        ...,\n",
              "        [0.92073837, 0.31054905, 0.9961411 ],\n",
              "        [0.85131468, 0.31367179, 0.77526662],\n",
              "        [0.32307704, 0.3099162 , 0.10262306]]])>"
            ]
          },
          "metadata": {},
          "execution_count": 69
        }
      ]
    },
    {
      "cell_type": "markdown",
      "source": [
        "7) Nếu coi tensor trên là một bức ảnh RGB với số channel là 3 ở cuối. Hãy truy suất các ma trận ảnh tương ứng với mỗi kênh R, G, B."
      ],
      "metadata": {
        "id": "aT0dBA35hKoB"
      }
    },
    {
      "cell_type": "code",
      "source": [
        "R = A[:,:,0]\n",
        "G = A[:,:,1]\n",
        "B = A[:,:,2]"
      ],
      "metadata": {
        "id": "JNvhbaJRhMui"
      },
      "execution_count": null,
      "outputs": []
    },
    {
      "cell_type": "code",
      "source": [
        "R"
      ],
      "metadata": {
        "colab": {
          "base_uri": "https://localhost:8080/"
        },
        "id": "cpW854VfhaXi",
        "outputId": "6b08d64f-7ddd-4f52-e187-48d7dd132e79"
      },
      "execution_count": null,
      "outputs": [
        {
          "output_type": "execute_result",
          "data": {
            "text/plain": [
              "<tf.Tensor: shape=(32, 32), dtype=float64, numpy=\n",
              "array([[0.04944899, 0.89864696, 0.541694  , ..., 0.17778477, 0.53492089,\n",
              "        0.32914734],\n",
              "       [0.10734496, 0.97184653, 0.70386451, ..., 0.94050446, 0.25088924,\n",
              "        0.01190508],\n",
              "       [0.64640505, 0.32059064, 0.65181733, ..., 0.34532787, 0.91692177,\n",
              "        0.1753425 ],\n",
              "       ...,\n",
              "       [0.62195809, 0.30273026, 0.12195662, ..., 0.28784997, 0.70042285,\n",
              "        0.08156624],\n",
              "       [0.22325927, 0.86258431, 0.1859676 , ..., 0.16089157, 0.06805531,\n",
              "        0.83215418],\n",
              "       [0.66521182, 0.05935173, 0.92998888, ..., 0.92073837, 0.85131468,\n",
              "        0.32307704]])>"
            ]
          },
          "metadata": {},
          "execution_count": 71
        }
      ]
    },
    {
      "cell_type": "code",
      "source": [
        "G"
      ],
      "metadata": {
        "colab": {
          "base_uri": "https://localhost:8080/"
        },
        "id": "MBN1ksP-itgU",
        "outputId": "0b31a2f9-f30b-4ef0-9952-ee5abd860355"
      },
      "execution_count": null,
      "outputs": [
        {
          "output_type": "execute_result",
          "data": {
            "text/plain": [
              "<tf.Tensor: shape=(32, 32), dtype=float64, numpy=\n",
              "array([[0.9540803 , 0.18989456, 0.29366106, ..., 0.28203477, 0.87858859,\n",
              "        0.20963163],\n",
              "       [0.67483528, 0.32065896, 0.43450983, ..., 0.81975225, 0.54165714,\n",
              "        0.80092588],\n",
              "       [0.88421842, 0.19007193, 0.55994946, ..., 0.77610684, 0.97022299,\n",
              "        0.07151326],\n",
              "       ...,\n",
              "       [0.87714149, 0.18198063, 0.20969385, ..., 0.60152755, 0.75209857,\n",
              "        0.88700637],\n",
              "       [0.5913003 , 0.28787293, 0.75533322, ..., 0.35119108, 0.26598962,\n",
              "        0.29881948],\n",
              "       [0.44596925, 0.93433313, 0.24916884, ..., 0.31054905, 0.31367179,\n",
              "        0.3099162 ]])>"
            ]
          },
          "metadata": {},
          "execution_count": 72
        }
      ]
    },
    {
      "cell_type": "code",
      "source": [
        "B"
      ],
      "metadata": {
        "colab": {
          "base_uri": "https://localhost:8080/"
        },
        "id": "bLDVAngkyqc7",
        "outputId": "4c0fe094-7afa-4cda-9188-09e8d836a58c"
      },
      "execution_count": null,
      "outputs": [
        {
          "output_type": "execute_result",
          "data": {
            "text/plain": [
              "<tf.Tensor: shape=(32, 32), dtype=float64, numpy=\n",
              "array([[0.09348536, 0.05526398, 0.06218993, ..., 0.61108172, 0.69894119,\n",
              "        0.06304795],\n",
              "       [0.88522965, 0.90631397, 0.27673065, ..., 0.31005244, 0.39882767,\n",
              "        0.64860301],\n",
              "       [0.40179104, 0.01850532, 0.59153159, ..., 0.41238304, 0.26321071,\n",
              "        0.76281248],\n",
              "       ...,\n",
              "       [0.17337601, 0.45618432, 0.99735126, ..., 0.93992012, 0.71518084,\n",
              "        0.83318939],\n",
              "       [0.00965809, 0.07284849, 0.87739983, ..., 0.76142499, 0.89497406,\n",
              "        0.53329999],\n",
              "       [0.43508278, 0.78217601, 0.33521016, ..., 0.9961411 , 0.77526662,\n",
              "        0.10262306]])>"
            ]
          },
          "metadata": {},
          "execution_count": 73
        }
      ]
    },
    {
      "cell_type": "markdown",
      "source": [
        "8) Thực hiện tích hadamard và tích thông thường giữa ma trận R và G."
      ],
      "metadata": {
        "id": "BLnNq0Ash89s"
      }
    },
    {
      "cell_type": "code",
      "source": [
        "# Tích hadamard\n",
        "C = R*G\n",
        "# Tích thông trường\n",
        "D = R@G"
      ],
      "metadata": {
        "id": "DOLEjQ0JiUKZ"
      },
      "execution_count": null,
      "outputs": []
    },
    {
      "cell_type": "code",
      "source": [
        "C"
      ],
      "metadata": {
        "colab": {
          "base_uri": "https://localhost:8080/"
        },
        "id": "tnuDTelUiqPu",
        "outputId": "d1cf455f-6be4-4fc7-c33b-485fd2633f86"
      },
      "execution_count": null,
      "outputs": [
        {
          "output_type": "execute_result",
          "data": {
            "text/plain": [
              "<tf.Tensor: shape=(32, 32), dtype=float64, numpy=\n",
              "array([[0.04717831, 0.17064817, 0.15907443, ..., 0.05014149, 0.46997539,\n",
              "        0.06899969],\n",
              "       [0.07244017, 0.3116313 , 0.30583605, ..., 0.77098064, 0.13589595,\n",
              "        0.00953509],\n",
              "       [0.57156325, 0.06093528, 0.36498476, ..., 0.26801132, 0.88961858,\n",
              "        0.01253931],\n",
              "       ...,\n",
              "       [0.54554525, 0.05509104, 0.02557355, ..., 0.17314968, 0.52678703,\n",
              "        0.07234977],\n",
              "       [0.13201327, 0.24831467, 0.14046751, ..., 0.05650368, 0.01810201,\n",
              "        0.24866388],\n",
              "       [0.29666402, 0.05545428, 0.23172425, ..., 0.28593443, 0.26703341,\n",
              "        0.10012681]])>"
            ]
          },
          "metadata": {},
          "execution_count": 75
        }
      ]
    },
    {
      "cell_type": "code",
      "source": [
        "D"
      ],
      "metadata": {
        "colab": {
          "base_uri": "https://localhost:8080/"
        },
        "id": "gi8zM2L6i8_1",
        "outputId": "2943688f-364c-4ec9-8b24-55335101bab7"
      },
      "execution_count": null,
      "outputs": [
        {
          "output_type": "execute_result",
          "data": {
            "text/plain": [
              "<tf.Tensor: shape=(32, 32), dtype=float64, numpy=\n",
              "array([[ 7.75874815,  8.4551232 ,  8.74463958, ...,  8.89558669,\n",
              "         9.36387754,  8.48850868],\n",
              "       [ 6.9994885 ,  5.0292215 ,  6.14544164, ...,  7.11860693,\n",
              "         6.239177  ,  6.4968    ],\n",
              "       [ 8.83180736,  7.89087955,  8.39517658, ...,  7.8823207 ,\n",
              "         9.48860265,  9.00145323],\n",
              "       ...,\n",
              "       [ 7.25436212,  7.82561867,  8.67934882, ...,  7.98661155,\n",
              "         8.12112401,  7.88545734],\n",
              "       [ 7.04967779,  7.24201621,  8.47299485, ...,  7.9775261 ,\n",
              "         6.96770493,  7.88170803],\n",
              "       [ 9.69774868,  8.45053677,  9.05322441, ...,  8.69947278,\n",
              "        10.11668946,  9.32070535]])>"
            ]
          },
          "metadata": {},
          "execution_count": 76
        }
      ]
    },
    {
      "cell_type": "markdown",
      "source": [
        "##### 9) Từ bộ dữ liệu Income-Classification hãy chuẩn hóa dữ liệu và phân chia tập train/test theo tỷ lệ 80/20."
      ],
      "metadata": {
        "id": "Nq7UqV1MjfoO"
      }
    },
    {
      "cell_type": "code",
      "source": [
        "import pandas as pd\n",
        "import seaborn as sns\n",
        "import matplotlib.pyplot as plt\n",
        "from sklearn.preprocessing import OneHotEncoder, MinMaxScaler\n",
        "from sklearn.impute import KNNImputer, SimpleImputer\n",
        "from sklearn.pipeline import Pipeline\n",
        "from sklearn.compose import ColumnTransformer\n",
        "from tensorflow.keras.layers import Input, Dense, Activation\n",
        "from tensorflow.keras.models import Model, Sequential\n",
        "from tensorflow.keras.optimizers import Adam\n",
        "from sklearn.model_selection import train_test_split\n",
        "import numpy as np\n",
        "from sklearn.metrics import accuracy_score, f1_score\n",
        "from tensorflow.keras import models\n",
        "from tensorflow.keras.models import Sequential\n",
        "from tensorflow.keras.layers import Dense\n",
        "from tensorflow.keras import utils\n",
        "from tensorflow.keras import optimizers"
      ],
      "metadata": {
        "id": "HDHEww12jsbJ"
      },
      "execution_count": null,
      "outputs": []
    },
    {
      "cell_type": "code",
      "source": [
        "from google.colab import drive\n",
        "import os\n",
        "drive.mount('/content/drive')\n",
        "path = \"/content/drive/My Drive/machine_learning_hand_On_DS/kaggle/income\"\n",
        "# OS.chdir(path)\n",
        "%cd {path}"
      ],
      "metadata": {
        "colab": {
          "base_uri": "https://localhost:8080/"
        },
        "id": "0E1xMiAvl7xd",
        "outputId": "d1443b2e-88d0-4f6c-de22-d9f6aa76bb3e"
      },
      "execution_count": null,
      "outputs": [
        {
          "output_type": "stream",
          "name": "stdout",
          "text": [
            "Mounted at /content/drive\n",
            "/content/drive/My Drive/machine_learning_hand_On_DS/kaggle/income\n"
          ]
        }
      ]
    },
    {
      "cell_type": "code",
      "source": [
        "df = pd.read_csv('train.csv')"
      ],
      "metadata": {
        "id": "ROJogn8smLVE"
      },
      "execution_count": null,
      "outputs": []
    },
    {
      "cell_type": "code",
      "source": [
        "df"
      ],
      "metadata": {
        "colab": {
          "base_uri": "https://localhost:8080/",
          "height": 624
        },
        "id": "J18EnXzimNLU",
        "outputId": "b270fb75-4972-4a4e-f877-a9e2b58dbf94"
      },
      "execution_count": null,
      "outputs": [
        {
          "output_type": "execute_result",
          "data": {
            "text/html": [
              "\n",
              "  <div id=\"df-43c1e649-4f30-4154-925e-12adcdca1936\">\n",
              "    <div class=\"colab-df-container\">\n",
              "      <div>\n",
              "<style scoped>\n",
              "    .dataframe tbody tr th:only-of-type {\n",
              "        vertical-align: middle;\n",
              "    }\n",
              "\n",
              "    .dataframe tbody tr th {\n",
              "        vertical-align: top;\n",
              "    }\n",
              "\n",
              "    .dataframe thead th {\n",
              "        text-align: right;\n",
              "    }\n",
              "</style>\n",
              "<table border=\"1\" class=\"dataframe\">\n",
              "  <thead>\n",
              "    <tr style=\"text-align: right;\">\n",
              "      <th></th>\n",
              "      <th>ID</th>\n",
              "      <th>age</th>\n",
              "      <th>work_type</th>\n",
              "      <th>final_weight</th>\n",
              "      <th>education</th>\n",
              "      <th>total_education_yrs</th>\n",
              "      <th>marital_state</th>\n",
              "      <th>job</th>\n",
              "      <th>status</th>\n",
              "      <th>ethnicity</th>\n",
              "      <th>sex</th>\n",
              "      <th>capital_gain</th>\n",
              "      <th>capital_loss</th>\n",
              "      <th>hrs_per_week</th>\n",
              "      <th>nationality</th>\n",
              "      <th>target_income</th>\n",
              "    </tr>\n",
              "  </thead>\n",
              "  <tbody>\n",
              "    <tr>\n",
              "      <th>0</th>\n",
              "      <td>0</td>\n",
              "      <td>45</td>\n",
              "      <td>Private</td>\n",
              "      <td>175925</td>\n",
              "      <td>HS-grad</td>\n",
              "      <td>9</td>\n",
              "      <td>Married-civ-spouse</td>\n",
              "      <td>Craft-repair</td>\n",
              "      <td>Husband</td>\n",
              "      <td>White</td>\n",
              "      <td>M</td>\n",
              "      <td>0</td>\n",
              "      <td>0</td>\n",
              "      <td>40</td>\n",
              "      <td>US</td>\n",
              "      <td>0</td>\n",
              "    </tr>\n",
              "    <tr>\n",
              "      <th>1</th>\n",
              "      <td>1</td>\n",
              "      <td>23</td>\n",
              "      <td>Private</td>\n",
              "      <td>113601</td>\n",
              "      <td>Some-college</td>\n",
              "      <td>10</td>\n",
              "      <td>Never-married</td>\n",
              "      <td>Handlers-cleaners</td>\n",
              "      <td>Own-child</td>\n",
              "      <td>White</td>\n",
              "      <td>M</td>\n",
              "      <td>0</td>\n",
              "      <td>0</td>\n",
              "      <td>30</td>\n",
              "      <td>US</td>\n",
              "      <td>0</td>\n",
              "    </tr>\n",
              "    <tr>\n",
              "      <th>2</th>\n",
              "      <td>2</td>\n",
              "      <td>22</td>\n",
              "      <td>Private</td>\n",
              "      <td>112137</td>\n",
              "      <td>Some-college</td>\n",
              "      <td>10</td>\n",
              "      <td>Never-married</td>\n",
              "      <td>Prof-specialty</td>\n",
              "      <td>Other-relative</td>\n",
              "      <td>Asian-Pac-Islander</td>\n",
              "      <td>F</td>\n",
              "      <td>0</td>\n",
              "      <td>0</td>\n",
              "      <td>20</td>\n",
              "      <td>South</td>\n",
              "      <td>0</td>\n",
              "    </tr>\n",
              "    <tr>\n",
              "      <th>3</th>\n",
              "      <td>3</td>\n",
              "      <td>27</td>\n",
              "      <td>Private</td>\n",
              "      <td>153078</td>\n",
              "      <td>Prof-school</td>\n",
              "      <td>15</td>\n",
              "      <td>Never-married</td>\n",
              "      <td>Prof-specialty</td>\n",
              "      <td>Own-child</td>\n",
              "      <td>Asian-Pac-Islander</td>\n",
              "      <td>M</td>\n",
              "      <td>0</td>\n",
              "      <td>0</td>\n",
              "      <td>40</td>\n",
              "      <td>US</td>\n",
              "      <td>0</td>\n",
              "    </tr>\n",
              "    <tr>\n",
              "      <th>4</th>\n",
              "      <td>4</td>\n",
              "      <td>18</td>\n",
              "      <td>Private</td>\n",
              "      <td>375515</td>\n",
              "      <td>11th</td>\n",
              "      <td>7</td>\n",
              "      <td>Never-married</td>\n",
              "      <td>Sales</td>\n",
              "      <td>Own-child</td>\n",
              "      <td>White</td>\n",
              "      <td>F</td>\n",
              "      <td>0</td>\n",
              "      <td>0</td>\n",
              "      <td>20</td>\n",
              "      <td>US</td>\n",
              "      <td>0</td>\n",
              "    </tr>\n",
              "    <tr>\n",
              "      <th>...</th>\n",
              "      <td>...</td>\n",
              "      <td>...</td>\n",
              "      <td>...</td>\n",
              "      <td>...</td>\n",
              "      <td>...</td>\n",
              "      <td>...</td>\n",
              "      <td>...</td>\n",
              "      <td>...</td>\n",
              "      <td>...</td>\n",
              "      <td>...</td>\n",
              "      <td>...</td>\n",
              "      <td>...</td>\n",
              "      <td>...</td>\n",
              "      <td>...</td>\n",
              "      <td>...</td>\n",
              "      <td>...</td>\n",
              "    </tr>\n",
              "    <tr>\n",
              "      <th>24995</th>\n",
              "      <td>24995</td>\n",
              "      <td>47</td>\n",
              "      <td>State-gov</td>\n",
              "      <td>188386</td>\n",
              "      <td>Bachelors</td>\n",
              "      <td>13</td>\n",
              "      <td>Married-civ-spouse</td>\n",
              "      <td>Prof-specialty</td>\n",
              "      <td>Husband</td>\n",
              "      <td>White</td>\n",
              "      <td>M</td>\n",
              "      <td>0</td>\n",
              "      <td>0</td>\n",
              "      <td>45</td>\n",
              "      <td>US</td>\n",
              "      <td>1</td>\n",
              "    </tr>\n",
              "    <tr>\n",
              "      <th>24996</th>\n",
              "      <td>24996</td>\n",
              "      <td>23</td>\n",
              "      <td>Private</td>\n",
              "      <td>71864</td>\n",
              "      <td>Some-college</td>\n",
              "      <td>10</td>\n",
              "      <td>Never-married</td>\n",
              "      <td>Exec-managerial</td>\n",
              "      <td>Not-in-family</td>\n",
              "      <td>White</td>\n",
              "      <td>F</td>\n",
              "      <td>0</td>\n",
              "      <td>0</td>\n",
              "      <td>35</td>\n",
              "      <td>US</td>\n",
              "      <td>0</td>\n",
              "    </tr>\n",
              "    <tr>\n",
              "      <th>24997</th>\n",
              "      <td>24997</td>\n",
              "      <td>24</td>\n",
              "      <td>Private</td>\n",
              "      <td>395297</td>\n",
              "      <td>Some-college</td>\n",
              "      <td>10</td>\n",
              "      <td>Never-married</td>\n",
              "      <td>Sales</td>\n",
              "      <td>Own-child</td>\n",
              "      <td>White</td>\n",
              "      <td>F</td>\n",
              "      <td>0</td>\n",
              "      <td>0</td>\n",
              "      <td>35</td>\n",
              "      <td>US</td>\n",
              "      <td>0</td>\n",
              "    </tr>\n",
              "    <tr>\n",
              "      <th>24998</th>\n",
              "      <td>24998</td>\n",
              "      <td>44</td>\n",
              "      <td>Self-emp-not-inc</td>\n",
              "      <td>138975</td>\n",
              "      <td>HS-grad</td>\n",
              "      <td>9</td>\n",
              "      <td>Married-civ-spouse</td>\n",
              "      <td>Craft-repair</td>\n",
              "      <td>Husband</td>\n",
              "      <td>White</td>\n",
              "      <td>M</td>\n",
              "      <td>0</td>\n",
              "      <td>0</td>\n",
              "      <td>55</td>\n",
              "      <td>US</td>\n",
              "      <td>0</td>\n",
              "    </tr>\n",
              "    <tr>\n",
              "      <th>24999</th>\n",
              "      <td>24999</td>\n",
              "      <td>42</td>\n",
              "      <td>?</td>\n",
              "      <td>167678</td>\n",
              "      <td>11th</td>\n",
              "      <td>7</td>\n",
              "      <td>Married-civ-spouse</td>\n",
              "      <td>?</td>\n",
              "      <td>Husband</td>\n",
              "      <td>White</td>\n",
              "      <td>M</td>\n",
              "      <td>0</td>\n",
              "      <td>0</td>\n",
              "      <td>22</td>\n",
              "      <td>Ecuador</td>\n",
              "      <td>0</td>\n",
              "    </tr>\n",
              "  </tbody>\n",
              "</table>\n",
              "<p>25000 rows × 16 columns</p>\n",
              "</div>\n",
              "      <button class=\"colab-df-convert\" onclick=\"convertToInteractive('df-43c1e649-4f30-4154-925e-12adcdca1936')\"\n",
              "              title=\"Convert this dataframe to an interactive table.\"\n",
              "              style=\"display:none;\">\n",
              "        \n",
              "  <svg xmlns=\"http://www.w3.org/2000/svg\" height=\"24px\"viewBox=\"0 0 24 24\"\n",
              "       width=\"24px\">\n",
              "    <path d=\"M0 0h24v24H0V0z\" fill=\"none\"/>\n",
              "    <path d=\"M18.56 5.44l.94 2.06.94-2.06 2.06-.94-2.06-.94-.94-2.06-.94 2.06-2.06.94zm-11 1L8.5 8.5l.94-2.06 2.06-.94-2.06-.94L8.5 2.5l-.94 2.06-2.06.94zm10 10l.94 2.06.94-2.06 2.06-.94-2.06-.94-.94-2.06-.94 2.06-2.06.94z\"/><path d=\"M17.41 7.96l-1.37-1.37c-.4-.4-.92-.59-1.43-.59-.52 0-1.04.2-1.43.59L10.3 9.45l-7.72 7.72c-.78.78-.78 2.05 0 2.83L4 21.41c.39.39.9.59 1.41.59.51 0 1.02-.2 1.41-.59l7.78-7.78 2.81-2.81c.8-.78.8-2.07 0-2.86zM5.41 20L4 18.59l7.72-7.72 1.47 1.35L5.41 20z\"/>\n",
              "  </svg>\n",
              "      </button>\n",
              "      \n",
              "  <style>\n",
              "    .colab-df-container {\n",
              "      display:flex;\n",
              "      flex-wrap:wrap;\n",
              "      gap: 12px;\n",
              "    }\n",
              "\n",
              "    .colab-df-convert {\n",
              "      background-color: #E8F0FE;\n",
              "      border: none;\n",
              "      border-radius: 50%;\n",
              "      cursor: pointer;\n",
              "      display: none;\n",
              "      fill: #1967D2;\n",
              "      height: 32px;\n",
              "      padding: 0 0 0 0;\n",
              "      width: 32px;\n",
              "    }\n",
              "\n",
              "    .colab-df-convert:hover {\n",
              "      background-color: #E2EBFA;\n",
              "      box-shadow: 0px 1px 2px rgba(60, 64, 67, 0.3), 0px 1px 3px 1px rgba(60, 64, 67, 0.15);\n",
              "      fill: #174EA6;\n",
              "    }\n",
              "\n",
              "    [theme=dark] .colab-df-convert {\n",
              "      background-color: #3B4455;\n",
              "      fill: #D2E3FC;\n",
              "    }\n",
              "\n",
              "    [theme=dark] .colab-df-convert:hover {\n",
              "      background-color: #434B5C;\n",
              "      box-shadow: 0px 1px 3px 1px rgba(0, 0, 0, 0.15);\n",
              "      filter: drop-shadow(0px 1px 2px rgba(0, 0, 0, 0.3));\n",
              "      fill: #FFFFFF;\n",
              "    }\n",
              "  </style>\n",
              "\n",
              "      <script>\n",
              "        const buttonEl =\n",
              "          document.querySelector('#df-43c1e649-4f30-4154-925e-12adcdca1936 button.colab-df-convert');\n",
              "        buttonEl.style.display =\n",
              "          google.colab.kernel.accessAllowed ? 'block' : 'none';\n",
              "\n",
              "        async function convertToInteractive(key) {\n",
              "          const element = document.querySelector('#df-43c1e649-4f30-4154-925e-12adcdca1936');\n",
              "          const dataTable =\n",
              "            await google.colab.kernel.invokeFunction('convertToInteractive',\n",
              "                                                     [key], {});\n",
              "          if (!dataTable) return;\n",
              "\n",
              "          const docLinkHtml = 'Like what you see? Visit the ' +\n",
              "            '<a target=\"_blank\" href=https://colab.research.google.com/notebooks/data_table.ipynb>data table notebook</a>'\n",
              "            + ' to learn more about interactive tables.';\n",
              "          element.innerHTML = '';\n",
              "          dataTable['output_type'] = 'display_data';\n",
              "          await google.colab.output.renderOutput(dataTable, element);\n",
              "          const docLink = document.createElement('div');\n",
              "          docLink.innerHTML = docLinkHtml;\n",
              "          element.appendChild(docLink);\n",
              "        }\n",
              "      </script>\n",
              "    </div>\n",
              "  </div>\n",
              "  "
            ],
            "text/plain": [
              "          ID  age         work_type  ...  hrs_per_week nationality  target_income\n",
              "0          0   45           Private  ...            40          US              0\n",
              "1          1   23           Private  ...            30          US              0\n",
              "2          2   22           Private  ...            20       South              0\n",
              "3          3   27           Private  ...            40          US              0\n",
              "4          4   18           Private  ...            20          US              0\n",
              "...      ...  ...               ...  ...           ...         ...            ...\n",
              "24995  24995   47         State-gov  ...            45          US              1\n",
              "24996  24996   23           Private  ...            35          US              0\n",
              "24997  24997   24           Private  ...            35          US              0\n",
              "24998  24998   44  Self-emp-not-inc  ...            55          US              0\n",
              "24999  24999   42                 ?  ...            22     Ecuador              0\n",
              "\n",
              "[25000 rows x 16 columns]"
            ]
          },
          "metadata": {},
          "execution_count": 20
        }
      ]
    },
    {
      "cell_type": "code",
      "source": [
        "df.info()"
      ],
      "metadata": {
        "colab": {
          "base_uri": "https://localhost:8080/"
        },
        "id": "ghmofnpOmVO9",
        "outputId": "3ddf59ed-3003-4d25-a412-a71d4c3f990e"
      },
      "execution_count": null,
      "outputs": [
        {
          "output_type": "stream",
          "name": "stdout",
          "text": [
            "<class 'pandas.core.frame.DataFrame'>\n",
            "RangeIndex: 25000 entries, 0 to 24999\n",
            "Data columns (total 16 columns):\n",
            " #   Column               Non-Null Count  Dtype \n",
            "---  ------               --------------  ----- \n",
            " 0   ID                   25000 non-null  int64 \n",
            " 1   age                  25000 non-null  int64 \n",
            " 2   work_type            25000 non-null  object\n",
            " 3   final_weight         25000 non-null  int64 \n",
            " 4   education            25000 non-null  object\n",
            " 5   total_education_yrs  25000 non-null  int64 \n",
            " 6   marital_state        25000 non-null  object\n",
            " 7   job                  25000 non-null  object\n",
            " 8   status               25000 non-null  object\n",
            " 9   ethnicity            25000 non-null  object\n",
            " 10  sex                  25000 non-null  object\n",
            " 11  capital_gain         25000 non-null  int64 \n",
            " 12  capital_loss         25000 non-null  int64 \n",
            " 13  hrs_per_week         25000 non-null  int64 \n",
            " 14  nationality          25000 non-null  object\n",
            " 15  target_income        25000 non-null  int64 \n",
            "dtypes: int64(8), object(8)\n",
            "memory usage: 3.1+ MB\n"
          ]
        }
      ]
    },
    {
      "cell_type": "code",
      "source": [
        "df.describe()"
      ],
      "metadata": {
        "colab": {
          "base_uri": "https://localhost:8080/",
          "height": 300
        },
        "id": "SGBEms6pmWTJ",
        "outputId": "ae6c083a-a338-4095-da57-d9c4c4e4d2d4"
      },
      "execution_count": null,
      "outputs": [
        {
          "output_type": "execute_result",
          "data": {
            "text/html": [
              "\n",
              "  <div id=\"df-14c80426-1dae-477d-a9e4-64cbc19dc3f9\">\n",
              "    <div class=\"colab-df-container\">\n",
              "      <div>\n",
              "<style scoped>\n",
              "    .dataframe tbody tr th:only-of-type {\n",
              "        vertical-align: middle;\n",
              "    }\n",
              "\n",
              "    .dataframe tbody tr th {\n",
              "        vertical-align: top;\n",
              "    }\n",
              "\n",
              "    .dataframe thead th {\n",
              "        text-align: right;\n",
              "    }\n",
              "</style>\n",
              "<table border=\"1\" class=\"dataframe\">\n",
              "  <thead>\n",
              "    <tr style=\"text-align: right;\">\n",
              "      <th></th>\n",
              "      <th>ID</th>\n",
              "      <th>age</th>\n",
              "      <th>final_weight</th>\n",
              "      <th>total_education_yrs</th>\n",
              "      <th>capital_gain</th>\n",
              "      <th>capital_loss</th>\n",
              "      <th>hrs_per_week</th>\n",
              "      <th>target_income</th>\n",
              "    </tr>\n",
              "  </thead>\n",
              "  <tbody>\n",
              "    <tr>\n",
              "      <th>count</th>\n",
              "      <td>25000.000000</td>\n",
              "      <td>25000.000000</td>\n",
              "      <td>2.500000e+04</td>\n",
              "      <td>25000.000000</td>\n",
              "      <td>25000.000000</td>\n",
              "      <td>25000.000000</td>\n",
              "      <td>25000.000000</td>\n",
              "      <td>25000.00000</td>\n",
              "    </tr>\n",
              "    <tr>\n",
              "      <th>mean</th>\n",
              "      <td>12499.500000</td>\n",
              "      <td>38.568800</td>\n",
              "      <td>1.900156e+05</td>\n",
              "      <td>10.079160</td>\n",
              "      <td>1051.950240</td>\n",
              "      <td>86.053160</td>\n",
              "      <td>40.392200</td>\n",
              "      <td>0.23944</td>\n",
              "    </tr>\n",
              "    <tr>\n",
              "      <th>std</th>\n",
              "      <td>7217.022701</td>\n",
              "      <td>13.642694</td>\n",
              "      <td>1.059694e+05</td>\n",
              "      <td>2.566125</td>\n",
              "      <td>7228.975017</td>\n",
              "      <td>400.535454</td>\n",
              "      <td>12.350547</td>\n",
              "      <td>0.42675</td>\n",
              "    </tr>\n",
              "    <tr>\n",
              "      <th>min</th>\n",
              "      <td>0.000000</td>\n",
              "      <td>17.000000</td>\n",
              "      <td>1.228500e+04</td>\n",
              "      <td>1.000000</td>\n",
              "      <td>0.000000</td>\n",
              "      <td>0.000000</td>\n",
              "      <td>1.000000</td>\n",
              "      <td>0.00000</td>\n",
              "    </tr>\n",
              "    <tr>\n",
              "      <th>25%</th>\n",
              "      <td>6249.750000</td>\n",
              "      <td>28.000000</td>\n",
              "      <td>1.178315e+05</td>\n",
              "      <td>9.000000</td>\n",
              "      <td>0.000000</td>\n",
              "      <td>0.000000</td>\n",
              "      <td>40.000000</td>\n",
              "      <td>0.00000</td>\n",
              "    </tr>\n",
              "    <tr>\n",
              "      <th>50%</th>\n",
              "      <td>12499.500000</td>\n",
              "      <td>37.000000</td>\n",
              "      <td>1.786440e+05</td>\n",
              "      <td>10.000000</td>\n",
              "      <td>0.000000</td>\n",
              "      <td>0.000000</td>\n",
              "      <td>40.000000</td>\n",
              "      <td>0.00000</td>\n",
              "    </tr>\n",
              "    <tr>\n",
              "      <th>75%</th>\n",
              "      <td>18749.250000</td>\n",
              "      <td>48.000000</td>\n",
              "      <td>2.368040e+05</td>\n",
              "      <td>12.000000</td>\n",
              "      <td>0.000000</td>\n",
              "      <td>0.000000</td>\n",
              "      <td>45.000000</td>\n",
              "      <td>0.00000</td>\n",
              "    </tr>\n",
              "    <tr>\n",
              "      <th>max</th>\n",
              "      <td>24999.000000</td>\n",
              "      <td>90.000000</td>\n",
              "      <td>1.484705e+06</td>\n",
              "      <td>16.000000</td>\n",
              "      <td>99999.000000</td>\n",
              "      <td>4356.000000</td>\n",
              "      <td>99.000000</td>\n",
              "      <td>1.00000</td>\n",
              "    </tr>\n",
              "  </tbody>\n",
              "</table>\n",
              "</div>\n",
              "      <button class=\"colab-df-convert\" onclick=\"convertToInteractive('df-14c80426-1dae-477d-a9e4-64cbc19dc3f9')\"\n",
              "              title=\"Convert this dataframe to an interactive table.\"\n",
              "              style=\"display:none;\">\n",
              "        \n",
              "  <svg xmlns=\"http://www.w3.org/2000/svg\" height=\"24px\"viewBox=\"0 0 24 24\"\n",
              "       width=\"24px\">\n",
              "    <path d=\"M0 0h24v24H0V0z\" fill=\"none\"/>\n",
              "    <path d=\"M18.56 5.44l.94 2.06.94-2.06 2.06-.94-2.06-.94-.94-2.06-.94 2.06-2.06.94zm-11 1L8.5 8.5l.94-2.06 2.06-.94-2.06-.94L8.5 2.5l-.94 2.06-2.06.94zm10 10l.94 2.06.94-2.06 2.06-.94-2.06-.94-.94-2.06-.94 2.06-2.06.94z\"/><path d=\"M17.41 7.96l-1.37-1.37c-.4-.4-.92-.59-1.43-.59-.52 0-1.04.2-1.43.59L10.3 9.45l-7.72 7.72c-.78.78-.78 2.05 0 2.83L4 21.41c.39.39.9.59 1.41.59.51 0 1.02-.2 1.41-.59l7.78-7.78 2.81-2.81c.8-.78.8-2.07 0-2.86zM5.41 20L4 18.59l7.72-7.72 1.47 1.35L5.41 20z\"/>\n",
              "  </svg>\n",
              "      </button>\n",
              "      \n",
              "  <style>\n",
              "    .colab-df-container {\n",
              "      display:flex;\n",
              "      flex-wrap:wrap;\n",
              "      gap: 12px;\n",
              "    }\n",
              "\n",
              "    .colab-df-convert {\n",
              "      background-color: #E8F0FE;\n",
              "      border: none;\n",
              "      border-radius: 50%;\n",
              "      cursor: pointer;\n",
              "      display: none;\n",
              "      fill: #1967D2;\n",
              "      height: 32px;\n",
              "      padding: 0 0 0 0;\n",
              "      width: 32px;\n",
              "    }\n",
              "\n",
              "    .colab-df-convert:hover {\n",
              "      background-color: #E2EBFA;\n",
              "      box-shadow: 0px 1px 2px rgba(60, 64, 67, 0.3), 0px 1px 3px 1px rgba(60, 64, 67, 0.15);\n",
              "      fill: #174EA6;\n",
              "    }\n",
              "\n",
              "    [theme=dark] .colab-df-convert {\n",
              "      background-color: #3B4455;\n",
              "      fill: #D2E3FC;\n",
              "    }\n",
              "\n",
              "    [theme=dark] .colab-df-convert:hover {\n",
              "      background-color: #434B5C;\n",
              "      box-shadow: 0px 1px 3px 1px rgba(0, 0, 0, 0.15);\n",
              "      filter: drop-shadow(0px 1px 2px rgba(0, 0, 0, 0.3));\n",
              "      fill: #FFFFFF;\n",
              "    }\n",
              "  </style>\n",
              "\n",
              "      <script>\n",
              "        const buttonEl =\n",
              "          document.querySelector('#df-14c80426-1dae-477d-a9e4-64cbc19dc3f9 button.colab-df-convert');\n",
              "        buttonEl.style.display =\n",
              "          google.colab.kernel.accessAllowed ? 'block' : 'none';\n",
              "\n",
              "        async function convertToInteractive(key) {\n",
              "          const element = document.querySelector('#df-14c80426-1dae-477d-a9e4-64cbc19dc3f9');\n",
              "          const dataTable =\n",
              "            await google.colab.kernel.invokeFunction('convertToInteractive',\n",
              "                                                     [key], {});\n",
              "          if (!dataTable) return;\n",
              "\n",
              "          const docLinkHtml = 'Like what you see? Visit the ' +\n",
              "            '<a target=\"_blank\" href=https://colab.research.google.com/notebooks/data_table.ipynb>data table notebook</a>'\n",
              "            + ' to learn more about interactive tables.';\n",
              "          element.innerHTML = '';\n",
              "          dataTable['output_type'] = 'display_data';\n",
              "          await google.colab.output.renderOutput(dataTable, element);\n",
              "          const docLink = document.createElement('div');\n",
              "          docLink.innerHTML = docLinkHtml;\n",
              "          element.appendChild(docLink);\n",
              "        }\n",
              "      </script>\n",
              "    </div>\n",
              "  </div>\n",
              "  "
            ],
            "text/plain": [
              "                 ID           age  ...  hrs_per_week  target_income\n",
              "count  25000.000000  25000.000000  ...  25000.000000    25000.00000\n",
              "mean   12499.500000     38.568800  ...     40.392200        0.23944\n",
              "std     7217.022701     13.642694  ...     12.350547        0.42675\n",
              "min        0.000000     17.000000  ...      1.000000        0.00000\n",
              "25%     6249.750000     28.000000  ...     40.000000        0.00000\n",
              "50%    12499.500000     37.000000  ...     40.000000        0.00000\n",
              "75%    18749.250000     48.000000  ...     45.000000        0.00000\n",
              "max    24999.000000     90.000000  ...     99.000000        1.00000\n",
              "\n",
              "[8 rows x 8 columns]"
            ]
          },
          "metadata": {},
          "execution_count": 22
        }
      ]
    },
    {
      "cell_type": "code",
      "source": [
        "numeric_cols = df.select_dtypes(include=['float','int']).columns\n",
        "cate_cols = df.select_dtypes(include=['O']).columns"
      ],
      "metadata": {
        "id": "CnV9FF7hmZS0"
      },
      "execution_count": null,
      "outputs": []
    },
    {
      "cell_type": "code",
      "source": [
        "numeric_cols = numeric_cols[1:-1]"
      ],
      "metadata": {
        "id": "w2lhn3jlmcYo"
      },
      "execution_count": null,
      "outputs": []
    },
    {
      "cell_type": "code",
      "source": [
        "numeric_cols"
      ],
      "metadata": {
        "colab": {
          "base_uri": "https://localhost:8080/"
        },
        "id": "PEa2vtTzmhtM",
        "outputId": "016bce05-fa4a-403d-f538-b484e20d97f6"
      },
      "execution_count": null,
      "outputs": [
        {
          "output_type": "execute_result",
          "data": {
            "text/plain": [
              "Index(['age', 'final_weight', 'total_education_yrs', 'capital_gain',\n",
              "       'capital_loss', 'hrs_per_week'],\n",
              "      dtype='object')"
            ]
          },
          "metadata": {},
          "execution_count": 25
        }
      ]
    },
    {
      "cell_type": "code",
      "source": [
        "cate_cols"
      ],
      "metadata": {
        "colab": {
          "base_uri": "https://localhost:8080/"
        },
        "id": "FP5VFCPjmkS2",
        "outputId": "ba2f7d6c-d146-4163-85fb-96f5c4c3fcfc"
      },
      "execution_count": null,
      "outputs": [
        {
          "output_type": "execute_result",
          "data": {
            "text/plain": [
              "Index(['work_type', 'education', 'marital_state', 'job', 'status', 'ethnicity',\n",
              "       'sex', 'nationality'],\n",
              "      dtype='object')"
            ]
          },
          "metadata": {},
          "execution_count": 26
        }
      ]
    },
    {
      "cell_type": "code",
      "source": [
        "def _plot_numeric_classes(df, col, bins=10, hist=True, kde=True):\n",
        "    sns.distplot(df[col],\n",
        "                 bins = bins,\n",
        "                 hist = hist,\n",
        "                 kde = kde)"
      ],
      "metadata": {
        "id": "AY3dhxQ5ml47"
      },
      "execution_count": null,
      "outputs": []
    },
    {
      "cell_type": "code",
      "source": [
        "def _distribution_numeric(df, numeric_cols, row=3, col=3, figsize=(20, 15), bins = 10):\n",
        "  plt.figure(figsize = figsize)\n",
        "  plt.subplots_adjust(left=None, bottom=None, right=None, top=None, wspace=0.2, hspace=0.5)\n",
        "  for i in range(1, len(numeric_cols)+1, 1):\n",
        "    try:\n",
        "      plt.subplot(row, col, i)\n",
        "      _plot_numeric_classes(df, numeric_cols[i-1], bins = bins)\n",
        "      plt.title(numeric_cols[i-1])\n",
        "    except:\n",
        "      print('Error {}'.format(numeric_cols[i-1]))\n",
        "      break\n",
        "_distribution_numeric(df, numeric_cols)"
      ],
      "metadata": {
        "colab": {
          "base_uri": "https://localhost:8080/",
          "height": 827
        },
        "id": "ZyOrgymmmsEE",
        "outputId": "bed02568-98e4-44dd-8c68-c94840b4e1b1"
      },
      "execution_count": null,
      "outputs": [
        {
          "output_type": "stream",
          "name": "stderr",
          "text": [
            "/usr/local/lib/python3.7/dist-packages/seaborn/distributions.py:2619: FutureWarning: `distplot` is a deprecated function and will be removed in a future version. Please adapt your code to use either `displot` (a figure-level function with similar flexibility) or `histplot` (an axes-level function for histograms).\n",
            "  warnings.warn(msg, FutureWarning)\n",
            "/usr/local/lib/python3.7/dist-packages/seaborn/distributions.py:2619: FutureWarning: `distplot` is a deprecated function and will be removed in a future version. Please adapt your code to use either `displot` (a figure-level function with similar flexibility) or `histplot` (an axes-level function for histograms).\n",
            "  warnings.warn(msg, FutureWarning)\n",
            "/usr/local/lib/python3.7/dist-packages/seaborn/distributions.py:2619: FutureWarning: `distplot` is a deprecated function and will be removed in a future version. Please adapt your code to use either `displot` (a figure-level function with similar flexibility) or `histplot` (an axes-level function for histograms).\n",
            "  warnings.warn(msg, FutureWarning)\n",
            "/usr/local/lib/python3.7/dist-packages/seaborn/distributions.py:2619: FutureWarning: `distplot` is a deprecated function and will be removed in a future version. Please adapt your code to use either `displot` (a figure-level function with similar flexibility) or `histplot` (an axes-level function for histograms).\n",
            "  warnings.warn(msg, FutureWarning)\n",
            "/usr/local/lib/python3.7/dist-packages/seaborn/distributions.py:2619: FutureWarning: `distplot` is a deprecated function and will be removed in a future version. Please adapt your code to use either `displot` (a figure-level function with similar flexibility) or `histplot` (an axes-level function for histograms).\n",
            "  warnings.warn(msg, FutureWarning)\n",
            "/usr/local/lib/python3.7/dist-packages/seaborn/distributions.py:2619: FutureWarning: `distplot` is a deprecated function and will be removed in a future version. Please adapt your code to use either `displot` (a figure-level function with similar flexibility) or `histplot` (an axes-level function for histograms).\n",
            "  warnings.warn(msg, FutureWarning)\n"
          ]
        },
        {
          "output_type": "display_data",
          "data": {
            "image/png": "[encoded data removed]",
            "text/plain": [
              "<Figure size 1440x1080 with 6 Axes>"
            ]
          },
          "metadata": {
            "needs_background": "light"
          }
        }
      ]
    },
    {
      "cell_type": "code",
      "source": [
        "# Đối với biến phân loại\n",
        "def _plot_bar_classes(df, cols):\n",
        "    df[cols].value_counts().plot.bar()\n",
        "\n",
        "def _distribution_cate(df, cate_cols, row = 1, col = 2, figsize = (20, 5)):\n",
        "  '''\n",
        "  cate_cols: list các tên cột\n",
        "  row: số lượng dòng trong lưới đồ thị\n",
        "  col: số lượng cột trong lưới đồ thị\n",
        "  figsize: kích thước biểu đồ\n",
        "  '''\n",
        "  print('number of category field: ', len(cate_cols))\n",
        "  plt.figure(figsize = figsize)\n",
        "  plt.subplots_adjust(left=None, bottom=None, right=None, top=None, wspace=0.2, hspace=0.5)    \n",
        "  for i in range(1, len(cate_cols)+1, 1):\n",
        "    try:\n",
        "      plt.subplot(row, col, i)\n",
        "      _plot_bar_classes(df, cate_cols[i-1])\n",
        "      plt.title(cate_cols[i-1])\n",
        "    except:\n",
        "      break\n",
        "\n",
        "_distribution_cate(df, cate_cols, row = 2, col = 4, figsize = (30, 16))"
      ],
      "metadata": {
        "colab": {
          "base_uri": "https://localhost:8080/",
          "height": 1000
        },
        "id": "Dh8mNOf_m5Is",
        "outputId": "ca71dcaf-d17a-4763-c03e-5ccdc4df211f"
      },
      "execution_count": null,
      "outputs": [
        {
          "output_type": "stream",
          "name": "stdout",
          "text": [
            "number of category field:  8\n"
          ]
        },
        {
          "output_type": "display_data",
          "data": {
            "image/png": "[encoded data removed]",
            "text/plain": [
              "<Figure size 2160x1152 with 8 Axes>"
            ]
          },
          "metadata": {
            "needs_background": "light"
          }
        }
      ]
    },
    {
      "cell_type": "code",
      "source": [
        "# count each target\n",
        "_plot_bar_classes(df, \"target_income\")"
      ],
      "metadata": {
        "colab": {
          "base_uri": "https://localhost:8080/",
          "height": 262
        },
        "id": "H0zaeVNcnAGU",
        "outputId": "7aa0ec50-105c-429c-e3e9-d70a0382ba71"
      },
      "execution_count": null,
      "outputs": [
        {
          "output_type": "display_data",
          "data": {
            "image/png": "[encoded data removed]",
            "text/plain": [
              "<Figure size 432x288 with 1 Axes>"
            ]
          },
          "metadata": {
            "needs_background": "light"
          }
        }
      ]
    },
    {
      "cell_type": "markdown",
      "source": [
        "=> imbalance"
      ],
      "metadata": {
        "id": "Le44YgNjnByX"
      }
    },
    {
      "cell_type": "code",
      "source": [
        "X = df.copy()\n",
        "y = X.pop(\"target_income\")\n",
        "#Loại bỏ các biến ko ảnh hưởng nhiều đến target....\n",
        "X.pop(\"ID\")\n",
        "X.pop(\"education\")\n",
        "X.pop(\"final_weight\")"
      ],
      "metadata": {
        "colab": {
          "base_uri": "https://localhost:8080/"
        },
        "id": "4h5KlJernBAq",
        "outputId": "670f9352-3b8b-4cc8-e7fb-6bd9c6b2e188"
      },
      "execution_count": null,
      "outputs": [
        {
          "output_type": "execute_result",
          "data": {
            "text/plain": [
              "0        175925\n",
              "1        113601\n",
              "2        112137\n",
              "3        153078\n",
              "4        375515\n",
              "          ...  \n",
              "24995    188386\n",
              "24996     71864\n",
              "24997    395297\n",
              "24998    138975\n",
              "24999    167678\n",
              "Name: final_weight, Length: 25000, dtype: int64"
            ]
          },
          "metadata": {},
          "execution_count": 31
        }
      ]
    },
    {
      "cell_type": "code",
      "source": [
        "X_train, X_test, y_train, y_test = train_test_split(X, y, test_size=0.2, random_state=42)"
      ],
      "metadata": {
        "id": "N9pCKptVnPTk"
      },
      "execution_count": null,
      "outputs": []
    },
    {
      "cell_type": "code",
      "source": [
        "# Lấy list names của các biến phân loại và biến liên tục.\n",
        "cat_names = list(X_train.select_dtypes('object').columns)\n",
        "num_names = list(X_train.select_dtypes(['float', 'int']).columns)"
      ],
      "metadata": {
        "id": "ewEGH7JEnYJG"
      },
      "execution_count": null,
      "outputs": []
    },
    {
      "cell_type": "code",
      "source": [
        "cat_pl  = Pipeline(\n",
        "    steps=[\n",
        "        ('imputer', SimpleImputer(strategy='most_frequent')), # Xử lý missing data bằng cách thay thế most frequent\n",
        "        ('onehot', OneHotEncoder(handle_unknown = 'ignore')), # Biến đổi giá trị của biến phân loại thành véc tơ OneHot\n",
        "    ]\n",
        ")"
      ],
      "metadata": {
        "id": "m1esH9qcncsR"
      },
      "execution_count": null,
      "outputs": []
    },
    {
      "cell_type": "code",
      "source": [
        "# Pipeline xử lý cho biến liên tục\n",
        "num_pl = Pipeline(\n",
        "    steps=[\n",
        "           ('imputer', KNNImputer(n_neighbors=6)), # Xử lý missing data bằng cách dự báo KNN với n=7.\n",
        "           ('scaler', MinMaxScaler()) # Xử lý missing data bằng MinMax scaler\n",
        "    ]\n",
        ")"
      ],
      "metadata": {
        "id": "Whxlgj1Mngn1"
      },
      "execution_count": null,
      "outputs": []
    },
    {
      "cell_type": "code",
      "source": [
        "preprocessor = ColumnTransformer(\n",
        "    transformers=[\n",
        "        ('num', num_pl, num_names), # áp dụng pipeline cho biến liên tục\n",
        "        ('cat', cat_pl, cat_names), # áp dụng pipeline cho biến phân loại\n",
        "    ]\n",
        ")"
      ],
      "metadata": {
        "id": "ONBHRlsinq-i"
      },
      "execution_count": null,
      "outputs": []
    },
    {
      "cell_type": "code",
      "source": [
        "X_train_process = preprocessor.fit_transform(X_train)\n",
        "X_test_process = preprocessor.transform(X_test)"
      ],
      "metadata": {
        "id": "hd5fzDa3nsFD"
      },
      "execution_count": null,
      "outputs": []
    },
    {
      "cell_type": "code",
      "source": [
        "y_train = np.array(y_train).reshape(-1,1)\n",
        "y_test = np.array(y_test).reshape(-1,1)"
      ],
      "metadata": {
        "id": "DYahnJzrpfH4"
      },
      "execution_count": null,
      "outputs": []
    },
    {
      "cell_type": "markdown",
      "source": [
        "##### 10) Xây dựng một mạng deep-neural-network để huấn luyện mô hình trên dữ liệu train và đánh giá mô hình trên dữ liệu test."
      ],
      "metadata": {
        "id": "B4Z-JuRFoQKU"
      }
    },
    {
      "cell_type": "code",
      "source": [
        "#create model\n",
        "model = Sequential()\n",
        "model.add(Dense(50, input_dim=X_train_process.shape[1], activation='relu'))\n",
        "model.add(Dense(50, input_dim=50, activation='relu'))\n",
        "model.add(Dense(50, input_dim=50, activation='relu'))\n",
        "model.add(Dense(2, input_dim=50, activation='softmax'))\n",
        "print(model.summary())"
      ],
      "metadata": {
        "colab": {
          "base_uri": "https://localhost:8080/"
        },
        "id": "V0XNpdBNoRdZ",
        "outputId": "731e06d0-9abc-4b89-8abe-e69835c1514a"
      },
      "execution_count": null,
      "outputs": [
        {
          "output_type": "stream",
          "name": "stdout",
          "text": [
            "Model: \"sequential_6\"\n",
            "_________________________________________________________________\n",
            " Layer (type)                Output Shape              Param #   \n",
            "=================================================================\n",
            " dense_20 (Dense)            (None, 50)                4550      \n",
            "                                                                 \n",
            " dense_21 (Dense)            (None, 50)                2550      \n",
            "                                                                 \n",
            " dense_22 (Dense)            (None, 50)                2550      \n",
            "                                                                 \n",
            " dense_23 (Dense)            (None, 2)                 102       \n",
            "                                                                 \n",
            "=================================================================\n",
            "Total params: 9,752\n",
            "Trainable params: 9,752\n",
            "Non-trainable params: 0\n",
            "_________________________________________________________________\n",
            "None\n"
          ]
        }
      ]
    },
    {
      "cell_type": "code",
      "source": [
        "#hyper-parameters for optimizer\n",
        "learning_rate = 0.001\n",
        "opt = optimizers.Adam(lr=learning_rate)\n",
        "\n",
        "model.compile(loss='sparse_categorical_crossentropy',\n",
        "              optimizer=opt,\n",
        "              metrics=['accuracy'])\n",
        "\n",
        "# Train the model over 50 epochs using 10-observation batches and using the test holdout dataset for validation\n",
        "num_epochs = 50\n",
        "history = model.fit(X_train_process, y_train, epochs=num_epochs, batch_size=100, validation_data=(X_test_process, y_test))"
      ],
      "metadata": {
        "colab": {
          "base_uri": "https://localhost:8080/"
        },
        "id": "17dw90lEqfrL",
        "outputId": "46683a5a-686a-43c6-8859-109f7cca356c"
      },
      "execution_count": null,
      "outputs": [
        {
          "output_type": "stream",
          "name": "stderr",
          "text": [
            "/usr/local/lib/python3.7/dist-packages/keras/optimizer_v2/adam.py:105: UserWarning: The `lr` argument is deprecated, use `learning_rate` instead.\n",
            "  super(Adam, self).__init__(name, **kwargs)\n",
            "/usr/local/lib/python3.7/dist-packages/tensorflow/python/framework/indexed_slices.py:450: UserWarning: Converting sparse IndexedSlices(IndexedSlices(indices=Tensor(\"gradient_tape/sequential_6/dense_20/embedding_lookup_sparse/Reshape_1:0\", shape=(None,), dtype=int32), values=Tensor(\"gradient_tape/sequential_6/dense_20/embedding_lookup_sparse/Reshape:0\", shape=(None, 50), dtype=float32), dense_shape=Tensor(\"gradient_tape/sequential_6/dense_20/embedding_lookup_sparse/Cast:0\", shape=(2,), dtype=int32))) to a dense Tensor of unknown shape. This may consume a large amount of memory.\n",
            "  \"shape. This may consume a large amount of memory.\" % value)\n"
          ]
        },
        {
          "output_type": "stream",
          "name": "stdout",
          "text": [
            "Epoch 1/50\n",
            "200/200 [==============================] - 2s 5ms/step - loss: 0.4098 - accuracy: 0.7987 - val_loss: 0.3631 - val_accuracy: 0.8314\n",
            "Epoch 2/50\n",
            "200/200 [==============================] - 1s 4ms/step - loss: 0.3427 - accuracy: 0.8373 - val_loss: 0.3551 - val_accuracy: 0.8382\n",
            "Epoch 3/50\n",
            "200/200 [==============================] - 1s 4ms/step - loss: 0.3259 - accuracy: 0.8450 - val_loss: 0.3416 - val_accuracy: 0.8414\n",
            "Epoch 4/50\n",
            "200/200 [==============================] - 1s 4ms/step - loss: 0.3183 - accuracy: 0.8498 - val_loss: 0.3392 - val_accuracy: 0.8470\n",
            "Epoch 5/50\n",
            "200/200 [==============================] - 1s 4ms/step - loss: 0.3127 - accuracy: 0.8521 - val_loss: 0.3485 - val_accuracy: 0.8310\n",
            "Epoch 6/50\n",
            "200/200 [==============================] - 1s 4ms/step - loss: 0.3097 - accuracy: 0.8507 - val_loss: 0.3347 - val_accuracy: 0.8440\n",
            "Epoch 7/50\n",
            "200/200 [==============================] - 1s 4ms/step - loss: 0.3051 - accuracy: 0.8557 - val_loss: 0.3324 - val_accuracy: 0.8506\n",
            "Epoch 8/50\n",
            "200/200 [==============================] - 1s 5ms/step - loss: 0.3025 - accuracy: 0.8574 - val_loss: 0.3248 - val_accuracy: 0.8566\n",
            "Epoch 9/50\n",
            "200/200 [==============================] - 1s 4ms/step - loss: 0.3015 - accuracy: 0.8562 - val_loss: 0.3277 - val_accuracy: 0.8530\n",
            "Epoch 10/50\n",
            "200/200 [==============================] - 1s 4ms/step - loss: 0.2963 - accuracy: 0.8594 - val_loss: 0.3366 - val_accuracy: 0.8478\n",
            "Epoch 11/50\n",
            "200/200 [==============================] - 1s 4ms/step - loss: 0.2946 - accuracy: 0.8611 - val_loss: 0.3281 - val_accuracy: 0.8498\n",
            "Epoch 12/50\n",
            "200/200 [==============================] - 1s 4ms/step - loss: 0.2910 - accuracy: 0.8618 - val_loss: 0.3287 - val_accuracy: 0.8546\n",
            "Epoch 13/50\n",
            "200/200 [==============================] - 1s 4ms/step - loss: 0.2893 - accuracy: 0.8622 - val_loss: 0.3527 - val_accuracy: 0.8522\n",
            "Epoch 14/50\n",
            "200/200 [==============================] - 1s 4ms/step - loss: 0.2866 - accuracy: 0.8642 - val_loss: 0.3305 - val_accuracy: 0.8556\n",
            "Epoch 15/50\n",
            "200/200 [==============================] - 1s 4ms/step - loss: 0.2855 - accuracy: 0.8650 - val_loss: 0.3430 - val_accuracy: 0.8540\n",
            "Epoch 16/50\n",
            "200/200 [==============================] - 1s 4ms/step - loss: 0.2837 - accuracy: 0.8642 - val_loss: 0.3394 - val_accuracy: 0.8514\n",
            "Epoch 17/50\n",
            "200/200 [==============================] - 1s 4ms/step - loss: 0.2833 - accuracy: 0.8669 - val_loss: 0.3378 - val_accuracy: 0.8502\n",
            "Epoch 18/50\n",
            "200/200 [==============================] - 1s 4ms/step - loss: 0.2811 - accuracy: 0.8673 - val_loss: 0.3426 - val_accuracy: 0.8578\n",
            "Epoch 19/50\n",
            "200/200 [==============================] - 1s 4ms/step - loss: 0.2782 - accuracy: 0.8692 - val_loss: 0.3605 - val_accuracy: 0.8466\n",
            "Epoch 20/50\n",
            "200/200 [==============================] - 1s 4ms/step - loss: 0.2778 - accuracy: 0.8709 - val_loss: 0.3540 - val_accuracy: 0.8540\n",
            "Epoch 21/50\n",
            "200/200 [==============================] - 1s 4ms/step - loss: 0.2761 - accuracy: 0.8702 - val_loss: 0.3531 - val_accuracy: 0.8506\n",
            "Epoch 22/50\n",
            "200/200 [==============================] - 1s 4ms/step - loss: 0.2755 - accuracy: 0.8697 - val_loss: 0.3477 - val_accuracy: 0.8494\n",
            "Epoch 23/50\n",
            "200/200 [==============================] - 1s 4ms/step - loss: 0.2738 - accuracy: 0.8699 - val_loss: 0.3494 - val_accuracy: 0.8530\n",
            "Epoch 24/50\n",
            "200/200 [==============================] - 1s 4ms/step - loss: 0.2722 - accuracy: 0.8719 - val_loss: 0.3645 - val_accuracy: 0.8494\n",
            "Epoch 25/50\n",
            "200/200 [==============================] - 1s 4ms/step - loss: 0.2726 - accuracy: 0.8724 - val_loss: 0.3534 - val_accuracy: 0.8552\n",
            "Epoch 26/50\n",
            "200/200 [==============================] - 1s 4ms/step - loss: 0.2724 - accuracy: 0.8723 - val_loss: 0.3701 - val_accuracy: 0.8502\n",
            "Epoch 27/50\n",
            "200/200 [==============================] - 1s 4ms/step - loss: 0.2693 - accuracy: 0.8729 - val_loss: 0.3602 - val_accuracy: 0.8506\n",
            "Epoch 28/50\n",
            "200/200 [==============================] - 1s 4ms/step - loss: 0.2677 - accuracy: 0.8724 - val_loss: 0.3674 - val_accuracy: 0.8528\n",
            "Epoch 29/50\n",
            "200/200 [==============================] - 1s 4ms/step - loss: 0.2658 - accuracy: 0.8716 - val_loss: 0.3732 - val_accuracy: 0.8456\n",
            "Epoch 30/50\n",
            "200/200 [==============================] - 1s 4ms/step - loss: 0.2651 - accuracy: 0.8741 - val_loss: 0.3770 - val_accuracy: 0.8534\n",
            "Epoch 31/50\n",
            "200/200 [==============================] - 1s 4ms/step - loss: 0.2644 - accuracy: 0.8742 - val_loss: 0.3783 - val_accuracy: 0.8522\n",
            "Epoch 32/50\n",
            "200/200 [==============================] - 1s 5ms/step - loss: 0.2653 - accuracy: 0.8750 - val_loss: 0.3758 - val_accuracy: 0.8468\n",
            "Epoch 33/50\n",
            "200/200 [==============================] - 1s 6ms/step - loss: 0.2632 - accuracy: 0.8744 - val_loss: 0.3792 - val_accuracy: 0.8516\n",
            "Epoch 34/50\n",
            "200/200 [==============================] - 1s 5ms/step - loss: 0.2611 - accuracy: 0.8759 - val_loss: 0.3976 - val_accuracy: 0.8494\n",
            "Epoch 35/50\n",
            "200/200 [==============================] - 1s 4ms/step - loss: 0.2612 - accuracy: 0.8745 - val_loss: 0.3894 - val_accuracy: 0.8516\n",
            "Epoch 36/50\n",
            "200/200 [==============================] - 1s 4ms/step - loss: 0.2612 - accuracy: 0.8769 - val_loss: 0.3903 - val_accuracy: 0.8476\n",
            "Epoch 37/50\n",
            "200/200 [==============================] - 1s 4ms/step - loss: 0.2585 - accuracy: 0.8778 - val_loss: 0.3929 - val_accuracy: 0.8526\n",
            "Epoch 38/50\n",
            "200/200 [==============================] - 1s 4ms/step - loss: 0.2596 - accuracy: 0.8750 - val_loss: 0.4035 - val_accuracy: 0.8506\n",
            "Epoch 39/50\n",
            "200/200 [==============================] - 1s 4ms/step - loss: 0.2581 - accuracy: 0.8772 - val_loss: 0.4139 - val_accuracy: 0.8510\n",
            "Epoch 40/50\n",
            "200/200 [==============================] - 1s 4ms/step - loss: 0.2566 - accuracy: 0.8773 - val_loss: 0.4114 - val_accuracy: 0.8520\n",
            "Epoch 41/50\n",
            "200/200 [==============================] - 1s 4ms/step - loss: 0.2562 - accuracy: 0.8778 - val_loss: 0.4225 - val_accuracy: 0.8512\n",
            "Epoch 42/50\n",
            "200/200 [==============================] - 1s 4ms/step - loss: 0.2564 - accuracy: 0.8790 - val_loss: 0.4292 - val_accuracy: 0.8468\n",
            "Epoch 43/50\n",
            "200/200 [==============================] - 1s 4ms/step - loss: 0.2555 - accuracy: 0.8782 - val_loss: 0.4220 - val_accuracy: 0.8448\n",
            "Epoch 44/50\n",
            "200/200 [==============================] - 1s 4ms/step - loss: 0.2538 - accuracy: 0.8795 - val_loss: 0.4169 - val_accuracy: 0.8482\n",
            "Epoch 45/50\n",
            "200/200 [==============================] - 1s 4ms/step - loss: 0.2542 - accuracy: 0.8792 - val_loss: 0.4349 - val_accuracy: 0.8492\n",
            "Epoch 46/50\n",
            "200/200 [==============================] - 1s 4ms/step - loss: 0.2526 - accuracy: 0.8780 - val_loss: 0.4305 - val_accuracy: 0.8466\n",
            "Epoch 47/50\n",
            "200/200 [==============================] - 1s 4ms/step - loss: 0.2522 - accuracy: 0.8795 - val_loss: 0.4486 - val_accuracy: 0.8496\n",
            "Epoch 48/50\n",
            "200/200 [==============================] - 1s 4ms/step - loss: 0.2511 - accuracy: 0.8786 - val_loss: 0.4370 - val_accuracy: 0.8502\n",
            "Epoch 49/50\n",
            "200/200 [==============================] - 1s 4ms/step - loss: 0.2500 - accuracy: 0.8806 - val_loss: 0.4411 - val_accuracy: 0.8488\n",
            "Epoch 50/50\n",
            "200/200 [==============================] - 1s 4ms/step - loss: 0.2512 - accuracy: 0.8789 - val_loss: 0.4541 - val_accuracy: 0.8460\n"
          ]
        }
      ]
    },
    {
      "cell_type": "markdown",
      "source": [
        "=> hiện tượng overfitting"
      ],
      "metadata": {
        "id": "27dTi-2Mxo5E"
      }
    },
    {
      "cell_type": "code",
      "source": [
        "y_test_pred = model.predict(X_test_process)"
      ],
      "metadata": {
        "id": "TSKdHbPV1Q8L"
      },
      "execution_count": null,
      "outputs": []
    },
    {
      "cell_type": "code",
      "source": [
        "y_test_pred = np.argmax(y_test_pred, axis = 1)"
      ],
      "metadata": {
        "id": "GabpNXgA2AIa"
      },
      "execution_count": null,
      "outputs": []
    },
    {
      "cell_type": "code",
      "source": [
        "accuracy_score(y_test, y_test_pred)"
      ],
      "metadata": {
        "colab": {
          "base_uri": "https://localhost:8080/"
        },
        "id": "KWrtzT7H26YS",
        "outputId": "20ec13d6-55a9-4e6d-eb36-c21c7545f595"
      },
      "execution_count": null,
      "outputs": [
        {
          "output_type": "execute_result",
          "data": {
            "text/plain": [
              "0.846"
            ]
          },
          "metadata": {},
          "execution_count": 89
        }
      ]
    },
    {
      "cell_type": "code",
      "source": [
        "f1_score(y_test, y_test_pred)"
      ],
      "metadata": {
        "colab": {
          "base_uri": "https://localhost:8080/"
        },
        "id": "xhpxRDWe2W6w",
        "outputId": "bb8040b6-06bb-4ae5-8b43-95189960c730"
      },
      "execution_count": null,
      "outputs": [
        {
          "output_type": "execute_result",
          "data": {
            "text/plain": [
              "0.6180555555555556"
            ]
          },
          "metadata": {},
          "execution_count": 90
        }
      ]
    }
  ]
}