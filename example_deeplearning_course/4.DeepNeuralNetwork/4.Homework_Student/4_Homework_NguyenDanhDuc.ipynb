{
  "nbformat": 4,
  "nbformat_minor": 0,
  "metadata": {
    "colab": {
      "name": "4.Homework_NguyenDanhDuc.ipynb",
      "provenance": [],
      "collapsed_sections": []
    },
    "kernelspec": {
      "name": "python3",
      "display_name": "Python 3"
    },
    "language_info": {
      "name": "python"
    }
  },
  "cells": [
    {
      "cell_type": "code",
      "execution_count": null,
      "metadata": {
        "id": "AEr1eFvAmug6"
      },
      "outputs": [],
      "source": [
        ""
      ]
    },
    {
      "cell_type": "markdown",
      "source": [
        "# I. Lý thuyết\n",
        "\n",
        "1) Tại sao các mô hình deep learning lại chiếm ưu thế hơn so với các mô hình machine learning truyền thống đối với dữ liệu lớn ?\n",
        "\n",
        "A. Do mô hình deep learning có thể được thiết kế với kích thước tùy ý nên có khả năng xấp xỉ mọi hàm số. Do đó nó có khả năng biểu diễn tốt và hoạt động hiệu quả trên dữ liệu lớn.\n",
        "\n",
        "B. Các mô hình machine learning thường bị overfitting đối với dữ liệu lớn ?\n",
        "\n",
        "C. Các mô hình deep learning có chi phí huấn luyện tốn kém hơn so với machine learning.\n",
        "\n",
        "D. Do kiến trúc của mô hình Machine Learning bao gồm nhiều layers xếp chồng.\n",
        "\n",
        "\n",
        "2) Ý nghĩa của hàm loss function trong mạng neural network là gì ?\n",
        "\n",
        "A. Là hàm số đánh giá độ chính xác của mô hình.\n",
        "\n",
        "B. Mục tiêu của quá trình huấn luyện là tối thiểu hóa hàm loss function bằng thuật toán gradient descent. Giá trị của hàm số này giúp đo lường mức độ khớp của dự báo từ mô hình trên dữ liệu huấn luyện.\n",
        "\n",
        "C. Khi loss function giảm thì luôn đảm bảo độ chính xác của mô hình tăng.\n",
        "\n",
        "D. Là hàm số cần tối đa hóa trong quá trình huấn luyện.\n",
        "\n",
        "\n",
        "3) Khi huấn luyện trên các bộ dữ liệu bigdata thì chúng ta nên sử dụng phương pháp nào ?\n",
        "\n",
        "A) Sử dụng gradient descent trên toàn bộ dữ liệu.\n",
        "\n",
        "B) Sử dụng stochastic gradient descent trên từng điểm dữ liệu.\n",
        "\n",
        "C) Mini-batch gradient descent huấn luyện mô hình trên từng tập dữ liệu con có kích thước nhỏ hơn memory CPU/GPU.\n",
        "\n",
        "D) Có thể sử dụng stochastic gradient descent hoặc mini-batch gradient descent.\n",
        "\n",
        "\n",
        "4) Quá trình feed forward và backpropagation thực hiện những gì ?\n",
        "\n",
        "A) feed forward tính toán output và loss function, backpropagation tính đạo hàm trên từng layer và cập nhật trọng số.\n",
        "\n",
        "B) feed forward cập nhật trọng số cho mô hình, backpropagation tính toán output và loss function.\n",
        "\n",
        "C) feed forward tính ra output của mô hình, backpropagation tính toán loss function\n",
        "\n",
        "D) feed forward được thực hiện sau backpropagation.\n",
        "\n",
        "5) Tác dụng của batch normalization là gì ?\n",
        "\n",
        "A) Loại bỏ một tỷ lệ ngẫu nhiên số lượng units tại mỗi layer để tạo thành nhiều kiến trúc kết hợp ngẫu nhiên.\n",
        "\n",
        "B) Tìm ra các tham số phân phối là trung bình và phương sai trên từng mini-batch.\n",
        "\n",
        "C) Đồng nhất phân phối xác suất của $z^{[l]}$ trên mỗi layer $l$.\n",
        "\n",
        "D) Giảm thiểu ảnh hưởng của input distribution shift nhằm giúp huấn luyện loss function nhanh và ổn định hơn."
      ],
      "metadata": {
        "id": "PDDUcokDmyX4"
      }
    },
    {
      "cell_type": "markdown",
      "source": [
        "1) A\n",
        "<br>\n",
        "2) B\n",
        "<br>\n",
        "3) C\n",
        "<br>\n",
        "4) A\n",
        "<br>\n",
        "5) D"
      ],
      "metadata": {
        "id": "3E4IBnU9klIs"
      }
    },
    {
      "cell_type": "markdown",
      "source": [
        "# II. Thực hành\n",
        "\n",
        "Xuất phát từ mô hình tốt nhất của bạn xây dựng được đối với bài toán phân loại income classification tại bài trước. Bạn hãy thực hiện một số thử nghiệm sau:\n",
        "\n",
        "6) Thay đổi hàm loss function, batch size và optimizer.\n",
        "\n",
        "7) Thử nghiệm thêm các layers mà bạn đã học được trong bài này vào kiến trúc của mình.\n",
        "\n",
        "8) Thay đổi các khởi tạo trọng số theo các phân phối khác nhau và đánh giá độ chính xác của kết quả huấn luyện.\n",
        "\n",
        "9) Thiết lập không gian search và tự động hóa tìm kiếm kiến trúc tốt nhất trên optuna.\n",
        "\n",
        "10) Deploy model sử dụng flask ap. Tham khảo [Flaskapp tutorial](https://drive.google.com/file/d/1AZNtzrmnhJ-OBgijWoaAqXbPhJ6xL0Po/view?usp=sharing)."
      ],
      "metadata": {
        "id": "zYoLCUgcm1Km"
      }
    },
    {
      "cell_type": "code",
      "source": [
        "from google.colab import drive\n",
        "drive.mount('/content/gdrive')\n",
        "\n",
        "import os\n",
        "os.chdir('gdrive/MyDrive/DL_TowardDataScience/data/IncomeClassification')"
      ],
      "metadata": {
        "colab": {
          "base_uri": "https://localhost:8080/"
        },
        "id": "mMJxI6UO9aBg",
        "outputId": "278a2fb8-e465-4fd7-9bde-9b70893d84fa"
      },
      "execution_count": null,
      "outputs": [
        {
          "output_type": "stream",
          "name": "stdout",
          "text": [
            "Mounted at /content/gdrive\n"
          ]
        }
      ]
    },
    {
      "cell_type": "code",
      "source": [
        "import numpy as np\n",
        "import random\n",
        "import pandas as pd\n",
        "import re \n",
        "\n",
        "from sklearn.preprocessing import LabelEncoder\n",
        "from sklearn.preprocessing import StandardScaler\n",
        "from sklearn.model_selection import train_test_split\n",
        "from sklearn.metrics import accuracy_score, f1_score, roc_auc_score, confusion_matrix, classification_report\n",
        "def seed_all(seed):\n",
        "    np.random.seed(seed)\n",
        "    random.seed(seed)\n",
        "seed = 42 \n",
        "seed_all(seed)"
      ],
      "metadata": {
        "id": "9OZjGVW09omH"
      },
      "execution_count": null,
      "outputs": []
    },
    {
      "cell_type": "code",
      "source": [
        "def get_metrics(y_test, y_pred):\n",
        "    print('ACCURACY_SCORE: ', round(accuracy_score(y_test, y_pred), 4))\n",
        "    print('F1_SCORE: ', round(f1_score(y_test, y_pred, average='macro'), 4))\n",
        "    print('CONFUSION_MATRIX:\\n', confusion_matrix(y_test, y_pred),'\\n')\n",
        "    print(classification_report(y_test, y_pred, digits=4), '\\n')"
      ],
      "metadata": {
        "id": "brbvfkCp-rgU"
      },
      "execution_count": null,
      "outputs": []
    },
    {
      "cell_type": "code",
      "source": [
        "df_all = pd.read_csv('train.csv')"
      ],
      "metadata": {
        "id": "z3SBvmi9_JWm"
      },
      "execution_count": null,
      "outputs": []
    },
    {
      "cell_type": "code",
      "source": [
        "def str_normalize(s):\n",
        "    s = str(s).strip().lower()\n",
        "    s = re.sub(' +', \" \", s)\n",
        "    return s\n",
        "\n",
        "def process(df):        \n",
        "  for col in df.columns:\n",
        "      if df[col].dtype.name == \"object\" or df[col].dtype.name == \"category\":\n",
        "          df[col] = df[col].apply(str_normalize).astype(\"category\")\n",
        "  return df\n",
        "df_all = process(df_all.copy())\n",
        "IDs=df_all.pop('ID')\n",
        "label = df_all.pop('target_income')\n",
        "df_all_one_hot = pd.get_dummies(df_all)"
      ],
      "metadata": {
        "id": "BOS2WGEU_OGo"
      },
      "execution_count": null,
      "outputs": []
    },
    {
      "cell_type": "code",
      "source": [
        "features = df_all_one_hot.columns.tolist()\n",
        "label = label.values"
      ],
      "metadata": {
        "id": "jMvjnZll_TRe"
      },
      "execution_count": null,
      "outputs": []
    },
    {
      "cell_type": "code",
      "source": [
        "features = df_all_one_hot.columns.tolist()\n",
        "\n",
        "x_train, x_test, y_train, y_test = train_test_split(df_all_one_hot[features].values, # input variable\n",
        "                                                    label, # output variable\n",
        "                                                    test_size=0.2, # test dataset proportion\n",
        "                                                    # stratify=df_all['target_income'], # assign equal proportion of target label in train/test \n",
        "                                                    random_state=0) # keep train/test split the same if run again. \n",
        "print ('Training Set: %d, Test Set: %d \\n' % (len(x_train), len(x_test)))\n",
        "#normalize\n",
        "sc = StandardScaler()\n",
        "x_train = sc.fit_transform(x_train)\n",
        "x_test = sc.transform(x_test)"
      ],
      "metadata": {
        "colab": {
          "base_uri": "https://localhost:8080/"
        },
        "id": "8o6H8oWM_U_-",
        "outputId": "1007e386-0a99-4496-844b-d81a92bc4f03"
      },
      "execution_count": null,
      "outputs": [
        {
          "output_type": "stream",
          "name": "stdout",
          "text": [
            "Training Set: 20000, Test Set: 5000 \n",
            "\n"
          ]
        }
      ]
    },
    {
      "cell_type": "code",
      "source": [
        "!pip install optuna"
      ],
      "metadata": {
        "colab": {
          "base_uri": "https://localhost:8080/"
        },
        "id": "QH-zEXcb_Xet",
        "outputId": "f1f1d74e-c957-411f-c9a8-a648e89e4e67"
      },
      "execution_count": null,
      "outputs": [
        {
          "output_type": "stream",
          "name": "stdout",
          "text": [
            "Collecting optuna\n",
            "  Downloading optuna-2.10.0-py3-none-any.whl (308 kB)\n",
            "\u001b[?25l\r\u001b[K     |█                               | 10 kB 18.5 MB/s eta 0:00:01\r\u001b[K     |██▏                             | 20 kB 20.2 MB/s eta 0:00:01\r\u001b[K     |███▏                            | 30 kB 11.5 MB/s eta 0:00:01\r\u001b[K     |████▎                           | 40 kB 9.7 MB/s eta 0:00:01\r\u001b[K     |█████▎                          | 51 kB 5.8 MB/s eta 0:00:01\r\u001b[K     |██████▍                         | 61 kB 6.8 MB/s eta 0:00:01\r\u001b[K     |███████▍                        | 71 kB 7.5 MB/s eta 0:00:01\r\u001b[K     |████████▌                       | 81 kB 6.8 MB/s eta 0:00:01\r\u001b[K     |█████████▋                      | 92 kB 7.5 MB/s eta 0:00:01\r\u001b[K     |██████████▋                     | 102 kB 6.9 MB/s eta 0:00:01\r\u001b[K     |███████████▊                    | 112 kB 6.9 MB/s eta 0:00:01\r\u001b[K     |████████████▊                   | 122 kB 6.9 MB/s eta 0:00:01\r\u001b[K     |█████████████▉                  | 133 kB 6.9 MB/s eta 0:00:01\r\u001b[K     |██████████████▉                 | 143 kB 6.9 MB/s eta 0:00:01\r\u001b[K     |████████████████                | 153 kB 6.9 MB/s eta 0:00:01\r\u001b[K     |█████████████████               | 163 kB 6.9 MB/s eta 0:00:01\r\u001b[K     |██████████████████              | 174 kB 6.9 MB/s eta 0:00:01\r\u001b[K     |███████████████████▏            | 184 kB 6.9 MB/s eta 0:00:01\r\u001b[K     |████████████████████▏           | 194 kB 6.9 MB/s eta 0:00:01\r\u001b[K     |█████████████████████▎          | 204 kB 6.9 MB/s eta 0:00:01\r\u001b[K     |██████████████████████▎         | 215 kB 6.9 MB/s eta 0:00:01\r\u001b[K     |███████████████████████▍        | 225 kB 6.9 MB/s eta 0:00:01\r\u001b[K     |████████████████████████▌       | 235 kB 6.9 MB/s eta 0:00:01\r\u001b[K     |█████████████████████████▌      | 245 kB 6.9 MB/s eta 0:00:01\r\u001b[K     |██████████████████████████▋     | 256 kB 6.9 MB/s eta 0:00:01\r\u001b[K     |███████████████████████████▋    | 266 kB 6.9 MB/s eta 0:00:01\r\u001b[K     |████████████████████████████▊   | 276 kB 6.9 MB/s eta 0:00:01\r\u001b[K     |█████████████████████████████▊  | 286 kB 6.9 MB/s eta 0:00:01\r\u001b[K     |██████████████████████████████▉ | 296 kB 6.9 MB/s eta 0:00:01\r\u001b[K     |████████████████████████████████| 307 kB 6.9 MB/s eta 0:00:01\r\u001b[K     |████████████████████████████████| 308 kB 6.9 MB/s \n",
            "\u001b[?25hCollecting cmaes>=0.8.2\n",
            "  Downloading cmaes-0.8.2-py3-none-any.whl (15 kB)\n",
            "Collecting colorlog\n",
            "  Downloading colorlog-6.6.0-py2.py3-none-any.whl (11 kB)\n",
            "Requirement already satisfied: scipy!=1.4.0 in /usr/local/lib/python3.7/dist-packages (from optuna) (1.4.1)\n",
            "Requirement already satisfied: tqdm in /usr/local/lib/python3.7/dist-packages (from optuna) (4.62.3)\n",
            "Requirement already satisfied: numpy in /usr/local/lib/python3.7/dist-packages (from optuna) (1.21.5)\n",
            "Collecting alembic\n",
            "  Downloading alembic-1.7.6-py3-none-any.whl (210 kB)\n",
            "\u001b[K     |████████████████████████████████| 210 kB 37.2 MB/s \n",
            "\u001b[?25hCollecting cliff\n",
            "  Downloading cliff-3.10.1-py3-none-any.whl (81 kB)\n",
            "\u001b[K     |████████████████████████████████| 81 kB 8.1 MB/s \n",
            "\u001b[?25hRequirement already satisfied: PyYAML in /usr/local/lib/python3.7/dist-packages (from optuna) (3.13)\n",
            "Requirement already satisfied: packaging>=20.0 in /usr/local/lib/python3.7/dist-packages (from optuna) (21.3)\n",
            "Requirement already satisfied: sqlalchemy>=1.1.0 in /usr/local/lib/python3.7/dist-packages (from optuna) (1.4.31)\n",
            "Requirement already satisfied: pyparsing!=3.0.5,>=2.0.2 in /usr/local/lib/python3.7/dist-packages (from packaging>=20.0->optuna) (3.0.7)\n",
            "Requirement already satisfied: importlib-metadata in /usr/local/lib/python3.7/dist-packages (from sqlalchemy>=1.1.0->optuna) (4.11.0)\n",
            "Requirement already satisfied: greenlet!=0.4.17 in /usr/local/lib/python3.7/dist-packages (from sqlalchemy>=1.1.0->optuna) (1.1.2)\n",
            "Requirement already satisfied: importlib-resources in /usr/local/lib/python3.7/dist-packages (from alembic->optuna) (5.4.0)\n",
            "Collecting Mako\n",
            "  Downloading Mako-1.1.6-py2.py3-none-any.whl (75 kB)\n",
            "\u001b[K     |████████████████████████████████| 75 kB 3.5 MB/s \n",
            "\u001b[?25hCollecting autopage>=0.4.0\n",
            "  Downloading autopage-0.5.0-py3-none-any.whl (29 kB)\n",
            "Requirement already satisfied: PrettyTable>=0.7.2 in /usr/local/lib/python3.7/dist-packages (from cliff->optuna) (3.0.0)\n",
            "Collecting cmd2>=1.0.0\n",
            "  Downloading cmd2-2.3.3-py3-none-any.whl (149 kB)\n",
            "\u001b[K     |████████████████████████████████| 149 kB 42.7 MB/s \n",
            "\u001b[?25hCollecting stevedore>=2.0.1\n",
            "  Downloading stevedore-3.5.0-py3-none-any.whl (49 kB)\n",
            "\u001b[K     |████████████████████████████████| 49 kB 4.5 MB/s \n",
            "\u001b[?25hCollecting pbr!=2.1.0,>=2.0.0\n",
            "  Downloading pbr-5.8.1-py2.py3-none-any.whl (113 kB)\n",
            "\u001b[K     |████████████████████████████████| 113 kB 48.2 MB/s \n",
            "\u001b[?25hCollecting pyperclip>=1.6\n",
            "  Downloading pyperclip-1.8.2.tar.gz (20 kB)\n",
            "Requirement already satisfied: wcwidth>=0.1.7 in /usr/local/lib/python3.7/dist-packages (from cmd2>=1.0.0->cliff->optuna) (0.2.5)\n",
            "Requirement already satisfied: attrs>=16.3.0 in /usr/local/lib/python3.7/dist-packages (from cmd2>=1.0.0->cliff->optuna) (21.4.0)\n",
            "Requirement already satisfied: typing-extensions in /usr/local/lib/python3.7/dist-packages (from cmd2>=1.0.0->cliff->optuna) (3.10.0.2)\n",
            "Requirement already satisfied: zipp>=0.5 in /usr/local/lib/python3.7/dist-packages (from importlib-metadata->sqlalchemy>=1.1.0->optuna) (3.7.0)\n",
            "Requirement already satisfied: MarkupSafe>=0.9.2 in /usr/local/lib/python3.7/dist-packages (from Mako->alembic->optuna) (2.0.1)\n",
            "Building wheels for collected packages: pyperclip\n",
            "  Building wheel for pyperclip (setup.py) ... \u001b[?25l\u001b[?25hdone\n",
            "  Created wheel for pyperclip: filename=pyperclip-1.8.2-py3-none-any.whl size=11137 sha256=9df7bc294922d29a01186243a40a7a5e988645b59237c4665d7420cefb4d8f51\n",
            "  Stored in directory: /root/.cache/pip/wheels/9f/18/84/8f69f8b08169c7bae2dde6bd7daf0c19fca8c8e500ee620a28\n",
            "Successfully built pyperclip\n",
            "Installing collected packages: pyperclip, pbr, stevedore, Mako, cmd2, autopage, colorlog, cmaes, cliff, alembic, optuna\n",
            "Successfully installed Mako-1.1.6 alembic-1.7.6 autopage-0.5.0 cliff-3.10.1 cmaes-0.8.2 cmd2-2.3.3 colorlog-6.6.0 optuna-2.10.0 pbr-5.8.1 pyperclip-1.8.2 stevedore-3.5.0\n"
          ]
        }
      ]
    },
    {
      "cell_type": "code",
      "source": [
        "import optuna\n",
        "from optuna.trial import TrialState\n",
        "import torch.optim as optim\n",
        "import torch.nn.functional as F\n",
        "\n",
        "import torch\n",
        "import torch.nn as nn\n",
        "import torch.utils.data as td\n",
        "\n",
        "# Set random seed for reproducability\n",
        "torch.manual_seed(0)"
      ],
      "metadata": {
        "colab": {
          "base_uri": "https://localhost:8080/"
        },
        "id": "mMHEJT3t_d_1",
        "outputId": "3fb70bdc-0332-4b6d-d7bd-202139510741"
      },
      "execution_count": null,
      "outputs": [
        {
          "output_type": "execute_result",
          "data": {
            "text/plain": [
              "<torch._C.Generator at 0x7f4745e4d4d0>"
            ]
          },
          "metadata": {},
          "execution_count": 17
        }
      ]
    },
    {
      "cell_type": "code",
      "source": [
        "# Create a dataset and loader for the training data and labels\n",
        "train_x = torch.Tensor(x_train).float()\n",
        "# Reshape y target into [-1, 1] to fit with Binary Cross Entropy\n",
        "train_y = torch.Tensor(y_train).view(-1, 1).float()\n",
        "train_ds = td.TensorDataset(train_x,train_y)\n",
        "train_loader = td.DataLoader(train_ds, batch_size=16,\n",
        "    shuffle=True, num_workers=1)\n",
        "\n",
        "# Create a dataset and loader for the test data and labels\n",
        "test_x = torch.Tensor(x_test).float()\n",
        "test_y = torch.Tensor(y_test).view(-1, 1).float()\n",
        "test_ds = td.TensorDataset(test_x,test_y)\n",
        "test_loader = td.DataLoader(test_ds, batch_size=16,\n",
        "    shuffle=False, num_workers=1)\n",
        "print('Ready to load data')"
      ],
      "metadata": {
        "colab": {
          "base_uri": "https://localhost:8080/"
        },
        "id": "I2hATVRY_3FW",
        "outputId": "336cabb4-930f-4210-eb5f-57380d9082a1"
      },
      "execution_count": null,
      "outputs": [
        {
          "output_type": "stream",
          "name": "stdout",
          "text": [
            "Ready to load data\n"
          ]
        }
      ]
    },
    {
      "cell_type": "code",
      "source": [
        "def define_model(trial):\n",
        "    # We optimize the number of layers, hidden units and dropout ratio in each layer.\n",
        "    n_layers = trial.suggest_int(\"n_layers\", 2, 6)\n",
        "    layers = []\n",
        "\n",
        "    in_features = len(features)\n",
        "    for i in range(n_layers):\n",
        "        out_features = trial.suggest_int(\"n_units_l{}\".format(i), 4, 128)\n",
        "        layers.append(nn.Linear(in_features, out_features))\n",
        "        layers.append(nn.ReLU())\n",
        "        p = trial.suggest_float(\"dropout_l{}\".format(i), 0.2, 0.5)\n",
        "        layers.append(nn.Dropout(p))\n",
        "\n",
        "        in_features = out_features\n",
        "    layers.append(nn.Linear(in_features, 1))\n",
        "    layers.append(nn.Sigmoid())\n",
        "\n",
        "    return nn.Sequential(*layers)"
      ],
      "metadata": {
        "id": "3bV84hGjACkz"
      },
      "execution_count": null,
      "outputs": []
    },
    {
      "cell_type": "code",
      "source": [
        "DEVICE = torch.device(\"cpu\")\n",
        "BATCHSIZE = 16\n",
        "EPOCHS = 30\n",
        "LOG_INTERVAL = 10\n",
        "N_TRAIN_EXAMPLES = BATCHSIZE * 300\n",
        "N_VALID_EXAMPLES = BATCHSIZE * 100\n",
        "\n",
        "def objective(trial):\n",
        "\n",
        "    # Generate the model.\n",
        "    model = define_model(trial).to(DEVICE)\n",
        "\n",
        "    # Generate the optimizers.\n",
        "    optimizer_name = trial.suggest_categorical(\"optimizer\", [\"Adam\", \"RMSprop\", \"SGD\"])\n",
        "    lr = trial.suggest_float(\"lr\", 1e-5, 1e-1, log=True)\n",
        "    optimizer = getattr(optim, optimizer_name)(model.parameters(), lr=lr)\n",
        "    loss_criteria = nn.BCELoss()\n",
        "    # Training of the model.\n",
        "    for epoch in range(EPOCHS):\n",
        "        model.train()\n",
        "        for batch_idx, (data, target) in enumerate(train_loader):\n",
        "            # Limiting training data for faster epochs.\n",
        "            if batch_idx * BATCHSIZE >= N_TRAIN_EXAMPLES:\n",
        "                break\n",
        "\n",
        "            data, target = data.view(data.size(0), -1).to(DEVICE), target.to(DEVICE)\n",
        "\n",
        "            optimizer.zero_grad()\n",
        "            output = model(data)\n",
        "            # loss = F.nll_loss(output, target)\n",
        "            loss = loss_criteria(output, target)\n",
        "            loss.backward()\n",
        "            optimizer.step()\n",
        "\n",
        "        # Validation of the model.\n",
        "        model.eval()\n",
        "        correct = 0\n",
        "        with torch.no_grad():\n",
        "            for batch_idx, (data, target) in enumerate(test_loader):\n",
        "                # Limiting validation data.\n",
        "                if batch_idx * BATCHSIZE >= N_VALID_EXAMPLES:\n",
        "                    break\n",
        "                data, target = data.view(data.size(0), -1).to(DEVICE), target.to(DEVICE)\n",
        "                output = model(data)\n",
        "                # Get the index of the max log-probability.\n",
        "                pred = torch.tensor(output.data>=0.5).float()\n",
        "                correct += pred.eq(target.view_as(pred)).sum().item()\n",
        "\n",
        "        accuracy = correct / min(len(test_loader.dataset), N_VALID_EXAMPLES)\n",
        "\n",
        "        trial.report(accuracy, epoch)\n",
        "\n",
        "        # Handle pruning based on the intermediate value.\n",
        "        if trial.should_prune():\n",
        "            raise optuna.exceptions.TrialPruned()\n",
        "\n",
        "    return accuracy"
      ],
      "metadata": {
        "id": "QJT5vJUsC6GD"
      },
      "execution_count": null,
      "outputs": []
    },
    {
      "cell_type": "code",
      "source": [
        "study = optuna.create_study(direction=\"maximize\")\n",
        "study.optimize(objective, n_trials=100, timeout=600)\n",
        "\n",
        "pruned_trials = study.get_trials(deepcopy=False, states=[TrialState.PRUNED])\n",
        "complete_trials = study.get_trials(deepcopy=False, states=[TrialState.COMPLETE])\n",
        "\n",
        "print(\"Study statistics: \")\n",
        "print(\"  Number of finished trials: \", len(study.trials))\n",
        "print(\"  Number of pruned trials: \", len(pruned_trials))\n",
        "print(\"  Number of complete trials: \", len(complete_trials))\n",
        "\n",
        "print(\"Best trial:\")\n",
        "trial = study.best_trial\n",
        "\n",
        "print(\"  Value: \", trial.value)\n",
        "\n",
        "print(\"  Params: \")\n",
        "for key, value in trial.params.items():\n",
        "    print(\"    {}: {}\".format(key, value))"
      ],
      "metadata": {
        "colab": {
          "base_uri": "https://localhost:8080/"
        },
        "id": "h4UB4t11EFlJ",
        "outputId": "e82a4e14-7e20-44e4-805a-26e66ebb60b7"
      },
      "execution_count": null,
      "outputs": [
        {
          "output_type": "stream",
          "name": "stderr",
          "text": [
            "\u001b[32m[I 2022-02-20 12:17:11,965]\u001b[0m A new study created in memory with name: no-name-7de1467c-ccc6-4eeb-b865-6c8f96039694\u001b[0m\n",
            "/usr/local/lib/python3.7/dist-packages/ipykernel_launcher.py:46: UserWarning: To copy construct from a tensor, it is recommended to use sourceTensor.clone().detach() or sourceTensor.clone().detach().requires_grad_(True), rather than torch.tensor(sourceTensor).\n",
            "\u001b[32m[I 2022-02-20 12:17:54,487]\u001b[0m Trial 0 finished with value: 0.7625 and parameters: {'n_layers': 3, 'n_units_l0': 14, 'dropout_l0': 0.3302393905357972, 'n_units_l1': 44, 'dropout_l1': 0.49392679454466265, 'n_units_l2': 105, 'dropout_l2': 0.4607743292618784, 'optimizer': 'SGD', 'lr': 1.8034760700159172e-05}. Best is trial 0 with value: 0.7625.\u001b[0m\n",
            "/usr/local/lib/python3.7/dist-packages/ipykernel_launcher.py:46: UserWarning: To copy construct from a tensor, it is recommended to use sourceTensor.clone().detach() or sourceTensor.clone().detach().requires_grad_(True), rather than torch.tensor(sourceTensor).\n",
            "\u001b[32m[I 2022-02-20 12:18:50,403]\u001b[0m Trial 1 finished with value: 0.764375 and parameters: {'n_layers': 6, 'n_units_l0': 124, 'dropout_l0': 0.20043846539557272, 'n_units_l1': 35, 'dropout_l1': 0.20173702037236008, 'n_units_l2': 21, 'dropout_l2': 0.3983411609710983, 'n_units_l3': 89, 'dropout_l3': 0.27301834736965624, 'n_units_l4': 82, 'dropout_l4': 0.2632503054729963, 'n_units_l5': 79, 'dropout_l5': 0.24588090422674347, 'optimizer': 'SGD', 'lr': 0.002801688799516299}. Best is trial 1 with value: 0.764375.\u001b[0m\n",
            "/usr/local/lib/python3.7/dist-packages/ipykernel_launcher.py:46: UserWarning: To copy construct from a tensor, it is recommended to use sourceTensor.clone().detach() or sourceTensor.clone().detach().requires_grad_(True), rather than torch.tensor(sourceTensor).\n",
            "\u001b[32m[I 2022-02-20 12:19:28,259]\u001b[0m Trial 2 finished with value: 0.764375 and parameters: {'n_layers': 4, 'n_units_l0': 42, 'dropout_l0': 0.20366905859006568, 'n_units_l1': 53, 'dropout_l1': 0.4954913182004761, 'n_units_l2': 89, 'dropout_l2': 0.4001119592047777, 'n_units_l3': 86, 'dropout_l3': 0.2927689033950116, 'optimizer': 'SGD', 'lr': 0.000519797670845305}. Best is trial 1 with value: 0.764375.\u001b[0m\n",
            "/usr/local/lib/python3.7/dist-packages/ipykernel_launcher.py:46: UserWarning: To copy construct from a tensor, it is recommended to use sourceTensor.clone().detach() or sourceTensor.clone().detach().requires_grad_(True), rather than torch.tensor(sourceTensor).\n",
            "\u001b[32m[I 2022-02-20 12:20:05,144]\u001b[0m Trial 3 finished with value: 0.858125 and parameters: {'n_layers': 3, 'n_units_l0': 28, 'dropout_l0': 0.24550386825247347, 'n_units_l1': 71, 'dropout_l1': 0.28655986234758757, 'n_units_l2': 7, 'dropout_l2': 0.4141041425580437, 'optimizer': 'RMSprop', 'lr': 0.0005125481100018959}. Best is trial 3 with value: 0.858125.\u001b[0m\n",
            "/usr/local/lib/python3.7/dist-packages/ipykernel_launcher.py:46: UserWarning: To copy construct from a tensor, it is recommended to use sourceTensor.clone().detach() or sourceTensor.clone().detach().requires_grad_(True), rather than torch.tensor(sourceTensor).\n",
            "\u001b[32m[I 2022-02-20 12:20:59,579]\u001b[0m Trial 4 finished with value: 0.764375 and parameters: {'n_layers': 5, 'n_units_l0': 89, 'dropout_l0': 0.49366794764510336, 'n_units_l1': 101, 'dropout_l1': 0.24723261313898456, 'n_units_l2': 55, 'dropout_l2': 0.2529545394234659, 'n_units_l3': 121, 'dropout_l3': 0.275944668961953, 'n_units_l4': 60, 'dropout_l4': 0.3891187836871999, 'optimizer': 'RMSprop', 'lr': 0.07330680937867143}. Best is trial 3 with value: 0.858125.\u001b[0m\n",
            "/usr/local/lib/python3.7/dist-packages/ipykernel_launcher.py:46: UserWarning: To copy construct from a tensor, it is recommended to use sourceTensor.clone().detach() or sourceTensor.clone().detach().requires_grad_(True), rather than torch.tensor(sourceTensor).\n",
            "\u001b[32m[I 2022-02-20 12:21:37,349]\u001b[0m Trial 5 finished with value: 0.85125 and parameters: {'n_layers': 4, 'n_units_l0': 26, 'dropout_l0': 0.46850948800839703, 'n_units_l1': 113, 'dropout_l1': 0.428232193002153, 'n_units_l2': 15, 'dropout_l2': 0.47337134804717773, 'n_units_l3': 28, 'dropout_l3': 0.3588244109333303, 'optimizer': 'RMSprop', 'lr': 0.0001377352283554063}. Best is trial 3 with value: 0.858125.\u001b[0m\n",
            "/usr/local/lib/python3.7/dist-packages/ipykernel_launcher.py:46: UserWarning: To copy construct from a tensor, it is recommended to use sourceTensor.clone().detach() or sourceTensor.clone().detach().requires_grad_(True), rather than torch.tensor(sourceTensor).\n",
            "\u001b[32m[I 2022-02-20 12:22:29,391]\u001b[0m Trial 6 finished with value: 0.850625 and parameters: {'n_layers': 5, 'n_units_l0': 81, 'dropout_l0': 0.48160320095427017, 'n_units_l1': 87, 'dropout_l1': 0.246549443852925, 'n_units_l2': 11, 'dropout_l2': 0.3549701372964779, 'n_units_l3': 117, 'dropout_l3': 0.23528473623454024, 'n_units_l4': 58, 'dropout_l4': 0.2443432986279642, 'optimizer': 'Adam', 'lr': 0.002649604002948969}. Best is trial 3 with value: 0.858125.\u001b[0m\n",
            "/usr/local/lib/python3.7/dist-packages/ipykernel_launcher.py:46: UserWarning: To copy construct from a tensor, it is recommended to use sourceTensor.clone().detach() or sourceTensor.clone().detach().requires_grad_(True), rather than torch.tensor(sourceTensor).\n",
            "\u001b[32m[I 2022-02-20 12:23:10,120]\u001b[0m Trial 7 finished with value: 0.764375 and parameters: {'n_layers': 4, 'n_units_l0': 119, 'dropout_l0': 0.3384684438230855, 'n_units_l1': 65, 'dropout_l1': 0.441550138905333, 'n_units_l2': 20, 'dropout_l2': 0.38996936532698173, 'n_units_l3': 122, 'dropout_l3': 0.3350902342439851, 'optimizer': 'Adam', 'lr': 1.5332464980107608e-05}. Best is trial 3 with value: 0.858125.\u001b[0m\n",
            "/usr/local/lib/python3.7/dist-packages/ipykernel_launcher.py:46: UserWarning: To copy construct from a tensor, it is recommended to use sourceTensor.clone().detach() or sourceTensor.clone().detach().requires_grad_(True), rather than torch.tensor(sourceTensor).\n",
            "\u001b[32m[I 2022-02-20 12:23:52,123]\u001b[0m Trial 8 finished with value: 0.8525 and parameters: {'n_layers': 4, 'n_units_l0': 79, 'dropout_l0': 0.21269627325351773, 'n_units_l1': 91, 'dropout_l1': 0.21314483126069955, 'n_units_l2': 10, 'dropout_l2': 0.3072481774986382, 'n_units_l3': 64, 'dropout_l3': 0.23545609679187085, 'optimizer': 'Adam', 'lr': 0.00031011757025393495}. Best is trial 3 with value: 0.858125.\u001b[0m\n",
            "/usr/local/lib/python3.7/dist-packages/ipykernel_launcher.py:46: UserWarning: To copy construct from a tensor, it is recommended to use sourceTensor.clone().detach() or sourceTensor.clone().detach().requires_grad_(True), rather than torch.tensor(sourceTensor).\n",
            "\u001b[32m[I 2022-02-20 12:24:32,285]\u001b[0m Trial 9 finished with value: 0.764375 and parameters: {'n_layers': 3, 'n_units_l0': 5, 'dropout_l0': 0.47195596385451366, 'n_units_l1': 124, 'dropout_l1': 0.3590434583916988, 'n_units_l2': 116, 'dropout_l2': 0.4246233856942784, 'optimizer': 'RMSprop', 'lr': 0.009089454693260446}. Best is trial 3 with value: 0.858125.\u001b[0m\n",
            "/usr/local/lib/python3.7/dist-packages/ipykernel_launcher.py:46: UserWarning: To copy construct from a tensor, it is recommended to use sourceTensor.clone().detach() or sourceTensor.clone().detach().requires_grad_(True), rather than torch.tensor(sourceTensor).\n",
            "\u001b[32m[I 2022-02-20 12:25:06,316]\u001b[0m Trial 10 finished with value: 0.850625 and parameters: {'n_layers': 2, 'n_units_l0': 49, 'dropout_l0': 0.2840631040725363, 'n_units_l1': 4, 'dropout_l1': 0.31753733377649046, 'optimizer': 'RMSprop', 'lr': 7.409166786455143e-05}. Best is trial 3 with value: 0.858125.\u001b[0m\n",
            "/usr/local/lib/python3.7/dist-packages/ipykernel_launcher.py:46: UserWarning: To copy construct from a tensor, it is recommended to use sourceTensor.clone().detach() or sourceTensor.clone().detach().requires_grad_(True), rather than torch.tensor(sourceTensor).\n",
            "\u001b[32m[I 2022-02-20 12:25:42,580]\u001b[0m Trial 11 finished with value: 0.85125 and parameters: {'n_layers': 2, 'n_units_l0': 67, 'dropout_l0': 0.2639592086999886, 'n_units_l1': 83, 'dropout_l1': 0.2946936008539906, 'optimizer': 'Adam', 'lr': 0.00022907427142440399}. Best is trial 3 with value: 0.858125.\u001b[0m\n",
            "/usr/local/lib/python3.7/dist-packages/ipykernel_launcher.py:46: UserWarning: To copy construct from a tensor, it is recommended to use sourceTensor.clone().detach() or sourceTensor.clone().detach().requires_grad_(True), rather than torch.tensor(sourceTensor).\n",
            "\u001b[32m[I 2022-02-20 12:26:21,306]\u001b[0m Trial 12 finished with value: 0.85 and parameters: {'n_layers': 3, 'n_units_l0': 100, 'dropout_l0': 0.2602392358575716, 'n_units_l1': 82, 'dropout_l1': 0.2038381574900127, 'n_units_l2': 48, 'dropout_l2': 0.2789707243695362, 'optimizer': 'Adam', 'lr': 0.0011021467611187282}. Best is trial 3 with value: 0.858125.\u001b[0m\n",
            "/usr/local/lib/python3.7/dist-packages/ipykernel_launcher.py:46: UserWarning: To copy construct from a tensor, it is recommended to use sourceTensor.clone().detach() or sourceTensor.clone().detach().requires_grad_(True), rather than torch.tensor(sourceTensor).\n",
            "\u001b[32m[I 2022-02-20 12:26:22,724]\u001b[0m Trial 13 pruned. \u001b[0m\n",
            "/usr/local/lib/python3.7/dist-packages/ipykernel_launcher.py:46: UserWarning: To copy construct from a tensor, it is recommended to use sourceTensor.clone().detach() or sourceTensor.clone().detach().requires_grad_(True), rather than torch.tensor(sourceTensor).\n",
            "\u001b[32m[I 2022-02-20 12:26:48,455]\u001b[0m Trial 14 pruned. \u001b[0m\n",
            "/usr/local/lib/python3.7/dist-packages/ipykernel_launcher.py:46: UserWarning: To copy construct from a tensor, it is recommended to use sourceTensor.clone().detach() or sourceTensor.clone().detach().requires_grad_(True), rather than torch.tensor(sourceTensor).\n",
            "\u001b[32m[I 2022-02-20 12:27:28,358]\u001b[0m Trial 15 finished with value: 0.8575 and parameters: {'n_layers': 2, 'n_units_l0': 77, 'dropout_l0': 0.3032175229924504, 'n_units_l1': 101, 'dropout_l1': 0.2964159201037344, 'optimizer': 'RMSprop', 'lr': 0.0005308540977954926}. Best is trial 3 with value: 0.858125.\u001b[0m\n"
          ]
        },
        {
          "output_type": "stream",
          "name": "stdout",
          "text": [
            "Study statistics: \n",
            "  Number of finished trials:  16\n",
            "  Number of pruned trials:  2\n",
            "  Number of complete trials:  14\n",
            "Best trial:\n",
            "  Value:  0.858125\n",
            "  Params: \n",
            "    n_layers: 3\n",
            "    n_units_l0: 28\n",
            "    dropout_l0: 0.24550386825247347\n",
            "    n_units_l1: 71\n",
            "    dropout_l1: 0.28655986234758757\n",
            "    n_units_l2: 7\n",
            "    dropout_l2: 0.4141041425580437\n",
            "    optimizer: RMSprop\n",
            "    lr: 0.0005125481100018959\n"
          ]
        }
      ]
    },
    {
      "cell_type": "code",
      "source": [
        "model = define_model(trial)"
      ],
      "metadata": {
        "id": "bxqNK-sBEH_N"
      },
      "execution_count": null,
      "outputs": []
    },
    {
      "cell_type": "code",
      "source": [
        "loss_criteria = nn.BCELoss()\n",
        "\n",
        "optimizer = torch.optim.RMSprop(model.parameters(), lr=trial.params['lr'])\n",
        "optimizer.zero_grad()\n",
        "\n",
        "# We'll track metrics for each epoch in these arrays\n",
        "epoch_nums = []\n",
        "training_loss = []\n",
        "validation_loss = []\n",
        "\n",
        "# Train over 30 epochs\n",
        "epochs = 30"
      ],
      "metadata": {
        "id": "aXqdJY_LEM2e"
      },
      "execution_count": null,
      "outputs": []
    },
    {
      "cell_type": "code",
      "source": [
        "def train(model, data_loader, optimizer):\n",
        "    # enable train mode\n",
        "    model.train()\n",
        "    train_loss = 0\n",
        "    \n",
        "    for batch, tensor in enumerate(data_loader):\n",
        "        data, target = tensor\n",
        "        # reset optimizer into zero\n",
        "        optimizer.zero_grad()\n",
        "        # feed forward to compute output and loss\n",
        "        out = model(data)\n",
        "        loss = loss_criteria(out, target)\n",
        "        # accumulate loss\n",
        "        train_loss += loss.item()\n",
        "        # compute gradient descent\n",
        "        loss.backward()\n",
        "        # update into weight\n",
        "        optimizer.step()\n",
        "\n",
        "    avg_loss = train_loss / (batch+1)\n",
        "    print('Training set: Average loss: {:.6f}'.format(avg_loss))\n",
        "    return avg_loss\n",
        "            "
      ],
      "metadata": {
        "id": "AZ4_dneEEV7S"
      },
      "execution_count": null,
      "outputs": []
    },
    {
      "cell_type": "code",
      "source": [
        "def test(model, data_loader):\n",
        "    '''\n",
        "    evaluate model accuracy and loss on test\n",
        "    Args: \n",
        "      model: model trained\n",
        "      data_loader: load the dataset\n",
        "    '''\n",
        "    # Turn on evaluation mode\n",
        "    model.eval()\n",
        "    test_loss = 0\n",
        "    correct = 0\n",
        "    # Constrain operation inside torch.no_grad() to restrict the gradient compute and update weight \n",
        "    with torch.no_grad():\n",
        "        batch_count = 0\n",
        "        for batch, tensor in enumerate(data_loader):\n",
        "            batch_count += 1\n",
        "            data, target = tensor\n",
        "            # Get the predictions\n",
        "            out = model(data)\n",
        "\n",
        "            # calculate the loss\n",
        "            test_loss += loss_criteria(out, target).item()\n",
        "            # Calculate the accuracy\n",
        "            predicted = torch.tensor(out.data>=0.5).float()\n",
        "            correct += torch.sum(target==predicted).item()\n",
        "    # Calculate the average loss and total accuracy for this epoch\n",
        "    avg_loss = test_loss/batch_count\n",
        "    print(correct,' : ', len(data_loader.dataset))\n",
        "    print('Validation set: Average loss: {:.6f}, Accuracy: {}/{} ({:.0f}%)\\n'.format(\n",
        "        avg_loss, correct, len(data_loader.dataset),\n",
        "        100. * correct / len(data_loader.dataset)))\n",
        "    \n",
        "    # return average loss for the epoch\n",
        "    return avg_loss"
      ],
      "metadata": {
        "id": "kKfZRSFdHqZy"
      },
      "execution_count": null,
      "outputs": []
    },
    {
      "cell_type": "code",
      "source": [
        "# training through epoch\n",
        "for epoch in range(1, epochs + 1):\n",
        "    # print the epoch number\n",
        "    print('Epoch: {}'.format(epoch))\n",
        "    \n",
        "    # Feed training data into the model to optimize the weights\n",
        "    train_loss = train(model, train_loader, optimizer)\n",
        "    \n",
        "    # Feed the test data into the model to check its performance\n",
        "    test_loss = test(model, test_loader)\n",
        "    \n",
        "    # Log the metrics for this epoch\n",
        "    epoch_nums.append(epoch)\n",
        "    training_loss.append(train_loss)\n",
        "    validation_loss.append(test_loss)"
      ],
      "metadata": {
        "colab": {
          "base_uri": "https://localhost:8080/"
        },
        "id": "1-RGiTZLEWeO",
        "outputId": "2b8be5de-e599-4a36-cc2d-099bd35651ca"
      },
      "execution_count": null,
      "outputs": [
        {
          "output_type": "stream",
          "name": "stdout",
          "text": [
            "Epoch: 1\n",
            "Training set: Average loss: 0.372038\n"
          ]
        },
        {
          "output_type": "stream",
          "name": "stderr",
          "text": [
            "/usr/local/lib/python3.7/dist-packages/ipykernel_launcher.py:24: UserWarning: To copy construct from a tensor, it is recommended to use sourceTensor.clone().detach() or sourceTensor.clone().detach().requires_grad_(True), rather than torch.tensor(sourceTensor).\n"
          ]
        },
        {
          "output_type": "stream",
          "name": "stdout",
          "text": [
            "4254  :  5000\n",
            "Validation set: Average loss: 0.311371, Accuracy: 4254/5000 (85%)\n",
            "\n",
            "Epoch: 2\n",
            "Training set: Average loss: 0.368754\n",
            "4253  :  5000\n",
            "Validation set: Average loss: 0.316917, Accuracy: 4253/5000 (85%)\n",
            "\n",
            "Epoch: 3\n",
            "Training set: Average loss: 0.360561\n",
            "4242  :  5000\n",
            "Validation set: Average loss: 0.314876, Accuracy: 4242/5000 (85%)\n",
            "\n",
            "Epoch: 4\n",
            "Training set: Average loss: 0.364062\n",
            "4240  :  5000\n",
            "Validation set: Average loss: 0.313922, Accuracy: 4240/5000 (85%)\n",
            "\n",
            "Epoch: 5\n",
            "Training set: Average loss: 0.355921\n",
            "4231  :  5000\n",
            "Validation set: Average loss: 0.314766, Accuracy: 4231/5000 (85%)\n",
            "\n",
            "Epoch: 6\n",
            "Training set: Average loss: 0.354054\n",
            "4248  :  5000\n",
            "Validation set: Average loss: 0.312475, Accuracy: 4248/5000 (85%)\n",
            "\n",
            "Epoch: 7\n",
            "Training set: Average loss: 0.363293\n",
            "4249  :  5000\n",
            "Validation set: Average loss: 0.314750, Accuracy: 4249/5000 (85%)\n",
            "\n",
            "Epoch: 8\n",
            "Training set: Average loss: 0.353770\n",
            "4244  :  5000\n",
            "Validation set: Average loss: 0.315638, Accuracy: 4244/5000 (85%)\n",
            "\n",
            "Epoch: 9\n",
            "Training set: Average loss: 0.350789\n",
            "4259  :  5000\n",
            "Validation set: Average loss: 0.313593, Accuracy: 4259/5000 (85%)\n",
            "\n",
            "Epoch: 10\n",
            "Training set: Average loss: 0.348810\n",
            "4238  :  5000\n",
            "Validation set: Average loss: 0.315559, Accuracy: 4238/5000 (85%)\n",
            "\n",
            "Epoch: 11\n",
            "Training set: Average loss: 0.349810\n",
            "4241  :  5000\n",
            "Validation set: Average loss: 0.313989, Accuracy: 4241/5000 (85%)\n",
            "\n",
            "Epoch: 12\n",
            "Training set: Average loss: 0.344054\n",
            "4265  :  5000\n",
            "Validation set: Average loss: 0.312860, Accuracy: 4265/5000 (85%)\n",
            "\n",
            "Epoch: 13\n",
            "Training set: Average loss: 0.340996\n",
            "4266  :  5000\n",
            "Validation set: Average loss: 0.314049, Accuracy: 4266/5000 (85%)\n",
            "\n",
            "Epoch: 14\n",
            "Training set: Average loss: 0.343414\n",
            "4271  :  5000\n",
            "Validation set: Average loss: 0.314516, Accuracy: 4271/5000 (85%)\n",
            "\n",
            "Epoch: 15\n",
            "Training set: Average loss: 0.347358\n",
            "4276  :  5000\n",
            "Validation set: Average loss: 0.313916, Accuracy: 4276/5000 (86%)\n",
            "\n",
            "Epoch: 16\n",
            "Training set: Average loss: 0.338639\n",
            "4282  :  5000\n",
            "Validation set: Average loss: 0.314836, Accuracy: 4282/5000 (86%)\n",
            "\n",
            "Epoch: 17\n",
            "Training set: Average loss: 0.336946\n",
            "4264  :  5000\n",
            "Validation set: Average loss: 0.316211, Accuracy: 4264/5000 (85%)\n",
            "\n",
            "Epoch: 18\n",
            "Training set: Average loss: 0.344386\n",
            "4268  :  5000\n",
            "Validation set: Average loss: 0.333718, Accuracy: 4268/5000 (85%)\n",
            "\n",
            "Epoch: 19\n",
            "Training set: Average loss: 0.338344\n",
            "4270  :  5000\n",
            "Validation set: Average loss: 0.333861, Accuracy: 4270/5000 (85%)\n",
            "\n",
            "Epoch: 20\n",
            "Training set: Average loss: 0.346937\n",
            "4268  :  5000\n",
            "Validation set: Average loss: 0.317441, Accuracy: 4268/5000 (85%)\n",
            "\n",
            "Epoch: 21\n",
            "Training set: Average loss: 0.340441\n",
            "4265  :  5000\n",
            "Validation set: Average loss: 0.333043, Accuracy: 4265/5000 (85%)\n",
            "\n",
            "Epoch: 22\n",
            "Training set: Average loss: 0.338487\n",
            "4261  :  5000\n",
            "Validation set: Average loss: 0.332189, Accuracy: 4261/5000 (85%)\n",
            "\n",
            "Epoch: 23\n",
            "Training set: Average loss: 0.336706\n",
            "4267  :  5000\n",
            "Validation set: Average loss: 0.333438, Accuracy: 4267/5000 (85%)\n",
            "\n",
            "Epoch: 24\n",
            "Training set: Average loss: 0.347357\n",
            "4276  :  5000\n",
            "Validation set: Average loss: 0.333208, Accuracy: 4276/5000 (86%)\n",
            "\n",
            "Epoch: 25\n",
            "Training set: Average loss: 0.330754\n",
            "4285  :  5000\n",
            "Validation set: Average loss: 0.350013, Accuracy: 4285/5000 (86%)\n",
            "\n",
            "Epoch: 26\n",
            "Training set: Average loss: 0.345528\n",
            "4278  :  5000\n",
            "Validation set: Average loss: 0.333111, Accuracy: 4278/5000 (86%)\n",
            "\n",
            "Epoch: 27\n",
            "Training set: Average loss: 0.338601\n",
            "4254  :  5000\n",
            "Validation set: Average loss: 0.350529, Accuracy: 4254/5000 (85%)\n",
            "\n",
            "Epoch: 28\n",
            "Training set: Average loss: 0.341928\n",
            "4276  :  5000\n",
            "Validation set: Average loss: 0.350857, Accuracy: 4276/5000 (86%)\n",
            "\n",
            "Epoch: 29\n",
            "Training set: Average loss: 0.342022\n",
            "4271  :  5000\n",
            "Validation set: Average loss: 0.334656, Accuracy: 4271/5000 (85%)\n",
            "\n",
            "Epoch: 30\n",
            "Training set: Average loss: 0.347526\n",
            "4264  :  5000\n",
            "Validation set: Average loss: 0.335382, Accuracy: 4264/5000 (85%)\n",
            "\n"
          ]
        }
      ]
    },
    {
      "cell_type": "code",
      "source": [
        "features_all = df_all.columns.tolist()"
      ],
      "metadata": {
        "id": "jdJbgVJAEd9W"
      },
      "execution_count": null,
      "outputs": []
    },
    {
      "cell_type": "code",
      "source": [
        "features_all"
      ],
      "metadata": {
        "colab": {
          "base_uri": "https://localhost:8080/"
        },
        "id": "GXIcjcgxJBFq",
        "outputId": "0d8f2cda-1bf6-4bd5-c601-3a8eb60aa82f"
      },
      "execution_count": null,
      "outputs": [
        {
          "output_type": "execute_result",
          "data": {
            "text/plain": [
              "['age',\n",
              " 'work_type',\n",
              " 'final_weight',\n",
              " 'education',\n",
              " 'total_education_yrs',\n",
              " 'marital_state',\n",
              " 'job',\n",
              " 'status',\n",
              " 'ethnicity',\n",
              " 'sex',\n",
              " 'capital_gain',\n",
              " 'capital_loss',\n",
              " 'hrs_per_week',\n",
              " 'nationality']"
            ]
          },
          "metadata": {},
          "execution_count": 32
        }
      ]
    },
    {
      "cell_type": "code",
      "source": [
        "torch.save(model.state_dict(), '../../Buoi4_DL/model')"
      ],
      "metadata": {
        "id": "1BOi41Q1JCs2"
      },
      "execution_count": null,
      "outputs": []
    },
    {
      "cell_type": "code",
      "source": [
        ""
      ],
      "metadata": {
        "id": "ceyCMvTsKH6a"
      },
      "execution_count": null,
      "outputs": []
    },
    {
      "cell_type": "markdown",
      "source": [
        "# Chưa thực hiện 6,7,8,10"
      ],
      "metadata": {
        "id": "yhhKbSjM7hsI"
      }
    },
    {
      "cell_type": "code",
      "source": [
        ""
      ],
      "metadata": {
        "id": "uKEVET3C7jAe"
      },
      "execution_count": null,
      "outputs": []
    }
  ]
}