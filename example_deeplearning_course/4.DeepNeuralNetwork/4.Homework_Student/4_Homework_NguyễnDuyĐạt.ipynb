{
  "cells": [
    {
      "cell_type": "markdown",
      "metadata": {
        "id": "PDDUcokDmyX4"
      },
      "source": [
        "# I. Lý thuyết\n",
        "\n",
        "1) Tại sao các mô hình deep learning lại chiếm ưu thế hơn so với các mô hình machine learning truyền thống đối với dữ liệu lớn ?\n",
        "\n",
        "A. Do mô hình deep learning có thể được thiết kế với kích thước tùy ý nên có khả năng xấp xỉ mọi hàm số. Do đó nó có khả năng biểu diễn tốt và hoạt động hiệu quả trên dữ liệu lớn.\n",
        "\n",
        "B. Các mô hình machine learning thường bị overfitting đối với dữ liệu lớn ?\n",
        "\n",
        "C. Các mô hình deep learning có chi phí huấn luyện tốn kém hơn so với machine learning.\n",
        "\n",
        "D. Do kiến trúc của mô hình Machine Learning bao gồm nhiều layers xếp chồng.\n",
        "\n",
        "\n",
        "2) Ý nghĩa của hàm loss function trong mạng neural network là gì ?\n",
        "\n",
        "A. Là hàm số đánh giá độ chính xác của mô hình.\n",
        "\n",
        "B. Mục tiêu của quá trình huấn luyện là tối thiểu hóa hàm loss function bằng thuật toán gradient descent. Giá trị của hàm số này giúp đo lường mức độ khớp của dự báo từ mô hình trên dữ liệu huấn luyện.\n",
        "\n",
        "C. Khi loss function giảm thì luôn đảm bảo độ chính xác của mô hình tăng.\n",
        "\n",
        "D. Là hàm số cần tối đa hóa trong quá trình huấn luyện.\n",
        "\n",
        "\n",
        "3) Khi huấn luyện trên các bộ dữ liệu bigdata thì chúng ta nên sử dụng phương pháp nào ?\n",
        "\n",
        "A) Sử dụng gradient descent trên toàn bộ dữ liệu.\n",
        "\n",
        "B) Sử dụng stochastic gradient descent trên từng điểm dữ liệu.\n",
        "\n",
        "C) Mini-batch gradient descent huấn luyện mô hình trên từng tập dữ liệu con có kích thước nhỏ hơn memory CPU/GPU.\n",
        "\n",
        "D) Có thể sử dụng stochastic gradient descent hoặc mini-batch gradient descent.\n",
        "\n",
        "\n",
        "4) Quá trình feed forward và backpropagation thực hiện những gì ?\n",
        "\n",
        "A) feed forward tính toán output và loss function, backpropagation tính đạo hàm trên từng layer và cập nhật trọng số.\n",
        "\n",
        "B) feed forward cập nhật trọng số cho mô hình, backpropagation tính toán output và loss function.\n",
        "\n",
        "C) feed forward tính ra output của mô hình, backpropagation tính toán loss function\n",
        "\n",
        "D) feed forward được thực hiện sau backpropagation.\n",
        "\n",
        "5) Tác dụng của batch normalization là gì ?\n",
        "\n",
        "A) Loại bỏ một tỷ lệ ngẫu nhiên số lượng units tại mỗi layer để tạo thành nhiều kiến trúc kết hợp ngẫu nhiên.\n",
        "\n",
        "B) Tìm ra các tham số phân phối là trung bình và phương sai trên từng mini-batch.\n",
        "\n",
        "C) Đồng nhất phân phối xác suất của $z^{[l]}$ trên mỗi layer $l$.\n",
        "\n",
        "D) Giảm thiểu ảnh hưởng của input distribution shift nhằm giúp huấn luyện loss function nhanh và ổn định hơn."
      ]
    },
    {
      "cell_type": "markdown",
      "metadata": {
        "id": "2efNTb55Ymsn"
      },
      "source": [
        "# Câu 1 -> 5"
      ]
    },
    {
      "cell_type": "markdown",
      "metadata": {
        "id": "nIRp9viSyDRR"
      },
      "source": [
        "1A - 2B - 3C - 4A - 5D"
      ]
    },
    {
      "cell_type": "markdown",
      "metadata": {
        "id": "zYoLCUgcm1Km"
      },
      "source": [
        "# II. Thực hành\n",
        "\n",
        "Xuất phát từ mô hình tốt nhất của bạn xây dựng được đối với bài toán phân loại income classification tại bài trước. Bạn hãy thực hiện một số thử nghiệm sau:\n",
        "\n",
        "6) Thay đổi hàm loss function, batch size và optimizer.\n",
        "\n",
        "7) Thử nghiệm thêm các layers mà bạn đã học được trong bài này vào kiến trúc của mình.\n",
        "\n",
        "8) Thay đổi các khởi tạo trọng số theo các phân phối khác nhau và đánh giá độ chính xác của kết quả huấn luyện.\n",
        "\n",
        "9) Thiết lập không gian search và tự động hóa tìm kiếm kiến trúc tốt nhất trên optuna.\n",
        "\n",
        "10) Deploy model sử dụng flask ap. Tham khảo [Flaskapp tutorial](https://drive.google.com/file/d/1AZNtzrmnhJ-OBgijWoaAqXbPhJ6xL0Po/view?usp=sharing)."
      ]
    },
    {
      "cell_type": "code",
      "execution_count": null,
      "metadata": {
        "colab": {
          "base_uri": "https://localhost:8080/"
        },
        "id": "I3jYpnjrwauL",
        "outputId": "7bb3e140-9f67-4050-ad3d-f451df59ba3d"
      },
      "outputs": [
        {
          "output_type": "stream",
          "name": "stdout",
          "text": [
            "Drive already mounted at /content/gdrive; to attempt to forcibly remount, call drive.mount(\"/content/gdrive\", force_remount=True).\n"
          ]
        }
      ],
      "source": [
        "from google.colab import drive\n",
        "import os\n",
        "drive.mount(\"/content/gdrive\")"
      ]
    },
    {
      "cell_type": "code",
      "execution_count": null,
      "metadata": {
        "id": "-v26crOjxsvH"
      },
      "outputs": [],
      "source": [
        "os.chdir(\"gdrive/MyDrive/Colab Notebooks/4.DeepNeuralNetwork\")"
      ]
    },
    {
      "cell_type": "code",
      "execution_count": null,
      "metadata": {
        "colab": {
          "base_uri": "https://localhost:8080/"
        },
        "id": "3UHYcYD8_S_D",
        "outputId": "9940d7ed-d5d8-4a08-e3ee-ed4f7b3a6bce"
      },
      "outputs": [
        {
          "output_type": "stream",
          "name": "stdout",
          "text": [
            "Requirement already satisfied: optuna in /usr/local/lib/python3.7/dist-packages (2.10.0)\n",
            "Requirement already satisfied: colorlog in /usr/local/lib/python3.7/dist-packages (from optuna) (6.6.0)\n",
            "Requirement already satisfied: tqdm in /usr/local/lib/python3.7/dist-packages (from optuna) (4.62.3)\n",
            "Requirement already satisfied: alembic in /usr/local/lib/python3.7/dist-packages (from optuna) (1.7.6)\n",
            "Requirement already satisfied: PyYAML in /usr/local/lib/python3.7/dist-packages (from optuna) (3.13)\n",
            "Requirement already satisfied: sqlalchemy>=1.1.0 in /usr/local/lib/python3.7/dist-packages (from optuna) (1.4.31)\n",
            "Requirement already satisfied: numpy in /usr/local/lib/python3.7/dist-packages (from optuna) (1.21.5)\n",
            "Requirement already satisfied: scipy!=1.4.0 in /usr/local/lib/python3.7/dist-packages (from optuna) (1.4.1)\n",
            "Requirement already satisfied: cmaes>=0.8.2 in /usr/local/lib/python3.7/dist-packages (from optuna) (0.8.2)\n",
            "Requirement already satisfied: packaging>=20.0 in /usr/local/lib/python3.7/dist-packages (from optuna) (21.3)\n",
            "Requirement already satisfied: cliff in /usr/local/lib/python3.7/dist-packages (from optuna) (3.10.1)\n",
            "Requirement already satisfied: pyparsing!=3.0.5,>=2.0.2 in /usr/local/lib/python3.7/dist-packages (from packaging>=20.0->optuna) (3.0.7)\n",
            "Requirement already satisfied: greenlet!=0.4.17 in /usr/local/lib/python3.7/dist-packages (from sqlalchemy>=1.1.0->optuna) (1.1.2)\n",
            "Requirement already satisfied: importlib-metadata in /usr/local/lib/python3.7/dist-packages (from sqlalchemy>=1.1.0->optuna) (4.11.0)\n",
            "Requirement already satisfied: Mako in /usr/local/lib/python3.7/dist-packages (from alembic->optuna) (1.1.6)\n",
            "Requirement already satisfied: importlib-resources in /usr/local/lib/python3.7/dist-packages (from alembic->optuna) (5.4.0)\n",
            "Requirement already satisfied: autopage>=0.4.0 in /usr/local/lib/python3.7/dist-packages (from cliff->optuna) (0.5.0)\n",
            "Requirement already satisfied: pbr!=2.1.0,>=2.0.0 in /usr/local/lib/python3.7/dist-packages (from cliff->optuna) (5.8.1)\n",
            "Requirement already satisfied: cmd2>=1.0.0 in /usr/local/lib/python3.7/dist-packages (from cliff->optuna) (2.3.3)\n",
            "Requirement already satisfied: stevedore>=2.0.1 in /usr/local/lib/python3.7/dist-packages (from cliff->optuna) (3.5.0)\n",
            "Requirement already satisfied: PrettyTable>=0.7.2 in /usr/local/lib/python3.7/dist-packages (from cliff->optuna) (3.0.0)\n",
            "Requirement already satisfied: pyperclip>=1.6 in /usr/local/lib/python3.7/dist-packages (from cmd2>=1.0.0->cliff->optuna) (1.8.2)\n",
            "Requirement already satisfied: typing-extensions in /usr/local/lib/python3.7/dist-packages (from cmd2>=1.0.0->cliff->optuna) (3.10.0.2)\n",
            "Requirement already satisfied: wcwidth>=0.1.7 in /usr/local/lib/python3.7/dist-packages (from cmd2>=1.0.0->cliff->optuna) (0.2.5)\n",
            "Requirement already satisfied: attrs>=16.3.0 in /usr/local/lib/python3.7/dist-packages (from cmd2>=1.0.0->cliff->optuna) (21.4.0)\n",
            "Requirement already satisfied: zipp>=0.5 in /usr/local/lib/python3.7/dist-packages (from importlib-metadata->sqlalchemy>=1.1.0->optuna) (3.7.0)\n",
            "Requirement already satisfied: MarkupSafe>=0.9.2 in /usr/local/lib/python3.7/dist-packages (from Mako->alembic->optuna) (2.0.1)\n"
          ]
        }
      ],
      "source": [
        "!pip install optuna"
      ]
    },
    {
      "cell_type": "code",
      "execution_count": null,
      "metadata": {
        "id": "M0rN8F3x_QIJ"
      },
      "outputs": [],
      "source": [
        "import optuna\n",
        "from optuna.trial import TrialState\n",
        "import torch.optim as optim\n",
        "import torch.nn.functional as F"
      ]
    },
    {
      "cell_type": "code",
      "execution_count": null,
      "metadata": {
        "id": "b1XN4UORzP0D"
      },
      "outputs": [],
      "source": [
        "import numpy as np\n",
        "import random\n",
        "import pandas as pd\n",
        "import re\n",
        "import torch.nn as nn\n",
        "import torch\n",
        "\n",
        "from sklearn.preprocessing import LabelEncoder\n",
        "from sklearn.preprocessing import StandardScaler\n",
        "from sklearn.model_selection import train_test_split\n",
        "from sklearn.metrics import accuracy_score, f1_score, roc_auc_score, confusion_matrix, classification_report\n",
        "def seed_all(seed):\n",
        "    np.random.seed(seed)\n",
        "    random.seed(seed)\n",
        "seed = 42 \n",
        "seed_all(seed)"
      ]
    },
    {
      "cell_type": "code",
      "execution_count": null,
      "metadata": {
        "id": "fDJBIt-6zU-p"
      },
      "outputs": [],
      "source": [
        "def get_metrics(y_test, y_pred):\n",
        "    print('ACCURACY_SCORE: ', round(accuracy_score(y_test, y_pred), 4))\n",
        "    print('F1_SCORE: ', round(f1_score(y_test, y_pred, average='macro'), 4))\n",
        "    print('CONFUSION_MATRIX:\\n', confusion_matrix(y_test, y_pred),'\\n')\n",
        "    print(classification_report(y_test, y_pred, digits=4), '\\n')"
      ]
    },
    {
      "cell_type": "code",
      "execution_count": null,
      "metadata": {
        "id": "6QxAbFIxzZna"
      },
      "outputs": [],
      "source": [
        "df_all = pd.read_csv('../train_IC.csv')"
      ]
    },
    {
      "cell_type": "code",
      "execution_count": null,
      "metadata": {
        "id": "-5M32cEr0G7Z"
      },
      "outputs": [],
      "source": [
        "# normalize string\n",
        "def str_normalize(s):\n",
        "    # convert into lowercase and replace multiple spaces into single space\n",
        "    s = str(s).strip().lower()\n",
        "    s = re.sub(' +', \" \", s)\n",
        "    return s\n",
        "# Encode category and object columns \n",
        "def process(df):        \n",
        "  for col in df.columns:\n",
        "      if df[col].dtype.name == \"object\" or df[col].dtype.name == \"category\":\n",
        "          df[col] = df[col].apply(str_normalize).astype(\"category\")\n",
        "  return df\n",
        "df_all = process(df_all.copy())\n",
        "IDs=df_all.pop('ID')\n",
        "label = df_all.pop('target_income')\n",
        "df_all_one_hot = pd.get_dummies(df_all)"
      ]
    },
    {
      "cell_type": "code",
      "execution_count": null,
      "metadata": {
        "id": "ThKRO3--0KO7"
      },
      "outputs": [],
      "source": [
        "features = df_all_one_hot.columns.tolist()\n",
        "label = label.values"
      ]
    },
    {
      "cell_type": "code",
      "execution_count": null,
      "metadata": {
        "colab": {
          "base_uri": "https://localhost:8080/"
        },
        "id": "bZRTWfer0ND6",
        "outputId": "cfe92d0b-b1c2-4654-ce0a-e8e47cd093dd"
      },
      "outputs": [
        {
          "output_type": "stream",
          "name": "stdout",
          "text": [
            "Training Set: 20000, Test Set: 5000 \n",
            "\n"
          ]
        }
      ],
      "source": [
        "features = df_all_one_hot.columns.tolist()\n",
        "\n",
        "x_train, x_test, y_train, y_test = train_test_split(df_all_one_hot[features].values, # input variable\n",
        "                                                    label, # output variable\n",
        "                                                    test_size=0.2, # test dataset proportion\n",
        "                                                    # stratify=df_all['target_income'], # assign equal proportion of target label in train/test \n",
        "                                                    random_state=0) # keep train/test split the same if run again. \n",
        "print ('Training Set: %d, Test Set: %d \\n' % (len(x_train), len(x_test)))\n",
        "#normalize\n",
        "sc = StandardScaler()\n",
        "x_train = sc.fit_transform(x_train)\n",
        "x_test = sc.transform(x_test)"
      ]
    },
    {
      "cell_type": "code",
      "execution_count": null,
      "metadata": {
        "colab": {
          "base_uri": "https://localhost:8080/"
        },
        "id": "vTHL6xK80PMz",
        "outputId": "e09ee1f0-47b0-40bd-d704-846b1542c719"
      },
      "outputs": [
        {
          "output_type": "execute_result",
          "data": {
            "text/plain": [
              "<torch._C.Generator at 0x7f1fcb695f50>"
            ]
          },
          "metadata": {},
          "execution_count": 71
        }
      ],
      "source": [
        "import torch\n",
        "import torch.nn as nn\n",
        "import torch.utils.data as td\n",
        "\n",
        "# Set random seed for reproducability\n",
        "torch.manual_seed(0)"
      ]
    },
    {
      "cell_type": "code",
      "execution_count": null,
      "metadata": {
        "colab": {
          "base_uri": "https://localhost:8080/"
        },
        "id": "liIGDZ95_y5K",
        "outputId": "f1e8a352-f7bb-4737-d481-84d724ecd0a5"
      },
      "outputs": [
        {
          "output_type": "stream",
          "name": "stdout",
          "text": [
            "Model(\n",
            "  (fc1): Linear(in_features=108, out_features=10, bias=True)\n",
            "  (fc2): Linear(in_features=10, out_features=10, bias=True)\n",
            "  (fc3): Linear(in_features=10, out_features=6, bias=True)\n",
            "  (fc4): Linear(in_features=6, out_features=1, bias=True)\n",
            ")\n"
          ]
        }
      ],
      "source": [
        "# Number of hidden layer nodes\n",
        "hl = 10\n",
        "\n",
        "# Define the neural network\n",
        "class Model(nn.Module):\n",
        "    def __init__(self):\n",
        "        super(Model, self).__init__()\n",
        "        self.fc1 = nn.Linear(len(features), hl)\n",
        "        self.fc2 = nn.Linear(hl, hl)\n",
        "        self.fc3 = nn.Linear(hl, 6)\n",
        "        self.fc4 = nn.Linear(6, 1)\n",
        "\n",
        "    def forward(self, x):\n",
        "        x = torch.relu(self.fc1(x))\n",
        "        x = torch.relu(self.fc2(x))\n",
        "        x = torch.relu(self.fc3(x))\n",
        "        x = torch.sigmoid(self.fc4(x))\n",
        "        return x\n",
        "\n",
        "# Create a model instance from the network\n",
        "model = Model()\n",
        "print(model)"
      ]
    },
    {
      "cell_type": "markdown",
      "metadata": {
        "id": "5fiv01_DkXmH"
      },
      "source": [
        "# Câu 6"
      ]
    },
    {
      "cell_type": "markdown",
      "metadata": {
        "id": "8NkAP50IkZwx"
      },
      "source": [
        "-Thay đổi batch_size = 32, bài trước là 16"
      ]
    },
    {
      "cell_type": "code",
      "execution_count": null,
      "metadata": {
        "colab": {
          "base_uri": "https://localhost:8080/"
        },
        "id": "i_7wJ0ob0S5n",
        "outputId": "9cfbc000-8a2d-491c-fb99-07a6bbf257cb"
      },
      "outputs": [
        {
          "output_type": "stream",
          "name": "stdout",
          "text": [
            "Ready to load data\n"
          ]
        }
      ],
      "source": [
        "# Create a dataset and loader for the training data and labels\n",
        "train_x = torch.Tensor(x_train).float()\n",
        "# Reshape y target into [-1, 1] to fit with Binary Cross Entropy\n",
        "train_y = torch.Tensor(y_train).view(-1, 1).float()\n",
        "train_ds = td.TensorDataset(train_x,train_y)\n",
        "train_loader = td.DataLoader(train_ds, batch_size=32,\n",
        "    shuffle=True, num_workers=1)\n",
        "\n",
        "# Create a dataset and loader for the test data and labels\n",
        "test_x = torch.Tensor(x_test).float()\n",
        "test_y = torch.Tensor(y_test).view(-1, 1).float()\n",
        "test_ds = td.TensorDataset(test_x,test_y)\n",
        "test_loader = td.DataLoader(test_ds, batch_size=32,\n",
        "    shuffle=False, num_workers=1)\n",
        "print('Ready to load data')"
      ]
    },
    {
      "cell_type": "markdown",
      "metadata": {
        "id": "KGJU7FG_kh-C"
      },
      "source": [
        "-Thay đổi loss function thành BCELoss, bài trước là CrossEntropyLoss.\n",
        "\n",
        "-Thay đổi optimizer thành RMSprop, bài trước là Adam"
      ]
    },
    {
      "cell_type": "code",
      "execution_count": null,
      "metadata": {
        "id": "otZR8Yt20WwC"
      },
      "outputs": [],
      "source": [
        "loss_criteria = nn.BCELoss()\n",
        "\n",
        "learning_rate = 0.001\n",
        "optimizer = torch.optim.RMSprop(model.parameters(), lr=learning_rate)\n",
        "optimizer.zero_grad()\n",
        "\n",
        "# We'll track metrics for each epoch in these arrays\n",
        "epoch_nums = []\n",
        "training_loss = []\n",
        "validation_loss = []\n",
        "\n",
        "# Train over 30 epochs\n",
        "epochs = 30"
      ]
    },
    {
      "cell_type": "markdown",
      "metadata": {
        "id": "iwCHIg-CAJVt"
      },
      "source": [
        "# Câu 7"
      ]
    },
    {
      "cell_type": "markdown",
      "metadata": {
        "id": "e0jQo8-bA8Ub"
      },
      "source": [
        "-Thay layer fc3 Linear thành Dropout trong __init__"
      ]
    },
    {
      "cell_type": "code",
      "execution_count": null,
      "metadata": {
        "colab": {
          "base_uri": "https://localhost:8080/"
        },
        "id": "KUYhGpccALhj",
        "outputId": "98264a72-4504-4582-9c65-7dc5ce814a33"
      },
      "outputs": [
        {
          "output_type": "stream",
          "name": "stdout",
          "text": [
            "Model(\n",
            "  (fc1): Linear(in_features=108, out_features=10, bias=True)\n",
            "  (fc2): Linear(in_features=10, out_features=6, bias=True)\n",
            "  (fc3): Dropout(p=0.4, inplace=False)\n",
            "  (fc4): Linear(in_features=6, out_features=1, bias=True)\n",
            ")\n"
          ]
        }
      ],
      "source": [
        "# Define the neural network\n",
        "class Model(nn.Module):\n",
        "    def __init__(self):\n",
        "        super(Model, self).__init__()\n",
        "        self.fc1 = nn.Linear(len(features), hl)\n",
        "        self.fc2 = nn.Linear(hl, 6)\n",
        "        self.fc3 = nn.Dropout(0.4)\n",
        "        self.fc4 = nn.Linear(6, 1)\n",
        "\n",
        "    def forward(self, x):\n",
        "        x = torch.relu(self.fc1(x))\n",
        "        x = torch.relu(self.fc2(x))\n",
        "        x = torch.relu(self.fc3(x))\n",
        "        x = torch.sigmoid(self.fc4(x))\n",
        "        return x\n",
        "\n",
        "# Create a model instance from the network\n",
        "model = Model()\n",
        "print(model)"
      ]
    },
    {
      "cell_type": "code",
      "execution_count": null,
      "metadata": {
        "id": "Q7V_jOt7y8j5"
      },
      "outputs": [],
      "source": [
        "def train(model, data_loader, optimizer):\n",
        "    '''\n",
        "    Train model through data loader and optimizer\n",
        "    Args:\n",
        "      model: model to train\n",
        "      data_loader: data loader to manage batch loading\n",
        "      optimizer: control update gradient descent\n",
        "    '''\n",
        "    # enable train mode\n",
        "    model.train()\n",
        "    train_loss = 0\n",
        "    \n",
        "    for batch, tensor in enumerate(data_loader):\n",
        "        data, target = tensor\n",
        "        # reset optimizer into zero\n",
        "        optimizer.zero_grad()\n",
        "        # feed forward to compute output and loss\n",
        "        out = model(data)\n",
        "        loss = loss_criteria(out, target)\n",
        "        # accumulate loss\n",
        "        train_loss += loss.item()\n",
        "        # compute gradient descent\n",
        "        loss.backward()\n",
        "        # update into weight\n",
        "        optimizer.step()\n",
        "\n",
        "    avg_loss = train_loss / (batch+1)\n",
        "    print('Training set: Average loss: {:.6f}'.format(avg_loss))\n",
        "    return avg_loss\n",
        "\n",
        "def test(model, data_loader):\n",
        "    '''\n",
        "    evaluate model accuracy and loss on test\n",
        "    Args: \n",
        "      model: model trained\n",
        "      data_loader: load the dataset\n",
        "    '''\n",
        "    # Turn on evaluation mode\n",
        "    model.eval()\n",
        "    test_loss = 0\n",
        "    correct = 0\n",
        "    # Constrain operation inside torch.no_grad() to restrict the gradient compute and update weight \n",
        "    with torch.no_grad():\n",
        "        batch_count = 0\n",
        "        for batch, tensor in enumerate(data_loader):\n",
        "            batch_count += 1\n",
        "            data, target = tensor\n",
        "            # Get the predictions\n",
        "            out = model(data)\n",
        "\n",
        "            # calculate the loss\n",
        "            test_loss += loss_criteria(out, target).item()\n",
        "            # Calculate the accuracy\n",
        "            predicted = torch.tensor(out.data>=0.5).float()\n",
        "            correct += torch.sum(target==predicted).item()\n",
        "    # Calculate the average loss and total accuracy for this epoch\n",
        "    avg_loss = test_loss/batch_count\n",
        "    print(correct,' : ', len(data_loader.dataset))\n",
        "    print('Validation set: Average loss: {:.6f}, Accuracy: {}/{} ({:.0f}%)\\n'.format(\n",
        "        avg_loss, correct, len(data_loader.dataset),\n",
        "        100. * correct / len(data_loader.dataset)))\n",
        "    \n",
        "    # return average loss for the epoch\n",
        "    return avg_loss"
      ]
    },
    {
      "cell_type": "markdown",
      "metadata": {
        "id": "XBZN7i5xBfKj"
      },
      "source": [
        "# Câu 8"
      ]
    },
    {
      "cell_type": "code",
      "execution_count": null,
      "metadata": {
        "colab": {
          "base_uri": "https://localhost:8080/"
        },
        "id": "fEVuko6sCfu8",
        "outputId": "60ad2c7a-a77e-4743-86ee-b10577eb4288"
      },
      "outputs": [
        {
          "output_type": "execute_result",
          "data": {
            "text/plain": [
              "Model(\n",
              "  (fc1): Linear(in_features=108, out_features=10, bias=True)\n",
              "  (fc2): Linear(in_features=10, out_features=6, bias=True)\n",
              "  (fc3): Dropout(p=0.4, inplace=False)\n",
              "  (fc4): Linear(in_features=6, out_features=1, bias=True)\n",
              ")"
            ]
          },
          "metadata": {},
          "execution_count": 79
        }
      ],
      "source": [
        "def init_weights(m, init_type = 'xavier'):\n",
        "    if type(m) == nn.Linear:\n",
        "      if init_type == 'xavier':\n",
        "        torch.nn.init.xavier_uniform_(m.weight)\n",
        "        m.bias.data.fill_(0.01)\n",
        "      elif init_type == 'normal':\n",
        "        torch.nn.init.normal_(m.weight)\n",
        "        m.bias.data.fill_(0.01)\n",
        "      elif init_type == 'he':\n",
        "        m.bias.kaiming_uniform_(m.weight)\n",
        "        m.bias.data.fill_(0.01)\n",
        "\n",
        "model.apply(lambda m: init_weights(m, init_type = 'normal'))"
      ]
    },
    {
      "cell_type": "code",
      "execution_count": null,
      "metadata": {
        "colab": {
          "base_uri": "https://localhost:8080/"
        },
        "id": "U2mS56iDDFjn",
        "outputId": "85672214-f1e0-4eee-e220-d3478e55065d"
      },
      "outputs": [
        {
          "output_type": "stream",
          "name": "stdout",
          "text": [
            "Epoch: 1\n",
            "Training set: Average loss: 13.017487\n"
          ]
        },
        {
          "output_type": "stream",
          "name": "stderr",
          "text": [
            "/usr/local/lib/python3.7/dist-packages/ipykernel_launcher.py:54: UserWarning: To copy construct from a tensor, it is recommended to use sourceTensor.clone().detach() or sourceTensor.clone().detach().requires_grad_(True), rather than torch.tensor(sourceTensor).\n"
          ]
        },
        {
          "output_type": "stream",
          "name": "stdout",
          "text": [
            "3490  :  5000\n",
            "Validation set: Average loss: 10.016628, Accuracy: 3490/5000 (70%)\n",
            "\n",
            "Epoch: 2\n",
            "Training set: Average loss: 12.880548\n",
            "3490  :  5000\n",
            "Validation set: Average loss: 10.016628, Accuracy: 3490/5000 (70%)\n",
            "\n",
            "Epoch: 3\n",
            "Training set: Average loss: 13.119689\n",
            "3490  :  5000\n",
            "Validation set: Average loss: 10.016628, Accuracy: 3490/5000 (70%)\n",
            "\n",
            "Epoch: 4\n",
            "Training set: Average loss: 13.157986\n",
            "3490  :  5000\n",
            "Validation set: Average loss: 10.016628, Accuracy: 3490/5000 (70%)\n",
            "\n",
            "Epoch: 5\n",
            "Training set: Average loss: 13.127920\n",
            "3490  :  5000\n",
            "Validation set: Average loss: 10.016628, Accuracy: 3490/5000 (70%)\n",
            "\n",
            "Epoch: 6\n",
            "Training set: Average loss: 12.916084\n",
            "3490  :  5000\n",
            "Validation set: Average loss: 10.016628, Accuracy: 3490/5000 (70%)\n",
            "\n",
            "Epoch: 7\n",
            "Training set: Average loss: 13.114939\n",
            "3490  :  5000\n",
            "Validation set: Average loss: 10.016628, Accuracy: 3490/5000 (70%)\n",
            "\n",
            "Epoch: 8\n",
            "Training set: Average loss: 12.957903\n",
            "3490  :  5000\n",
            "Validation set: Average loss: 10.016628, Accuracy: 3490/5000 (70%)\n",
            "\n",
            "Epoch: 9\n",
            "Training set: Average loss: 12.871710\n",
            "3490  :  5000\n",
            "Validation set: Average loss: 10.016628, Accuracy: 3490/5000 (70%)\n",
            "\n",
            "Epoch: 10\n",
            "Training set: Average loss: 12.931047\n",
            "3490  :  5000\n",
            "Validation set: Average loss: 10.016628, Accuracy: 3490/5000 (70%)\n",
            "\n",
            "Epoch: 11\n",
            "Training set: Average loss: 12.906687\n",
            "3490  :  5000\n",
            "Validation set: Average loss: 10.016628, Accuracy: 3490/5000 (70%)\n",
            "\n",
            "Epoch: 12\n",
            "Training set: Average loss: 13.171375\n",
            "3490  :  5000\n",
            "Validation set: Average loss: 10.016628, Accuracy: 3490/5000 (70%)\n",
            "\n",
            "Epoch: 13\n",
            "Training set: Average loss: 13.278974\n",
            "3490  :  5000\n",
            "Validation set: Average loss: 10.016628, Accuracy: 3490/5000 (70%)\n",
            "\n",
            "Epoch: 14\n",
            "Training set: Average loss: 12.757363\n",
            "3490  :  5000\n",
            "Validation set: Average loss: 10.016628, Accuracy: 3490/5000 (70%)\n",
            "\n",
            "Epoch: 15\n",
            "Training set: Average loss: 13.023688\n",
            "3490  :  5000\n",
            "Validation set: Average loss: 10.016628, Accuracy: 3490/5000 (70%)\n",
            "\n",
            "Epoch: 16\n",
            "Training set: Average loss: 12.921110\n",
            "3490  :  5000\n",
            "Validation set: Average loss: 10.016628, Accuracy: 3490/5000 (70%)\n",
            "\n",
            "Epoch: 17\n",
            "Training set: Average loss: 13.098359\n",
            "3490  :  5000\n",
            "Validation set: Average loss: 10.016628, Accuracy: 3490/5000 (70%)\n",
            "\n",
            "Epoch: 18\n",
            "Training set: Average loss: 12.963041\n",
            "3490  :  5000\n",
            "Validation set: Average loss: 10.016628, Accuracy: 3490/5000 (70%)\n",
            "\n",
            "Epoch: 19\n",
            "Training set: Average loss: 12.690315\n",
            "3490  :  5000\n",
            "Validation set: Average loss: 10.016628, Accuracy: 3490/5000 (70%)\n",
            "\n",
            "Epoch: 20\n",
            "Training set: Average loss: 13.034932\n",
            "3490  :  5000\n",
            "Validation set: Average loss: 10.016628, Accuracy: 3490/5000 (70%)\n",
            "\n",
            "Epoch: 21\n",
            "Training set: Average loss: 12.960157\n",
            "3490  :  5000\n",
            "Validation set: Average loss: 10.016628, Accuracy: 3490/5000 (70%)\n",
            "\n",
            "Epoch: 22\n",
            "Training set: Average loss: 12.967341\n",
            "3490  :  5000\n",
            "Validation set: Average loss: 10.016628, Accuracy: 3490/5000 (70%)\n",
            "\n",
            "Epoch: 23\n",
            "Training set: Average loss: 12.981413\n",
            "3490  :  5000\n",
            "Validation set: Average loss: 10.016628, Accuracy: 3490/5000 (70%)\n",
            "\n",
            "Epoch: 24\n",
            "Training set: Average loss: 13.006313\n",
            "3490  :  5000\n",
            "Validation set: Average loss: 10.016628, Accuracy: 3490/5000 (70%)\n",
            "\n",
            "Epoch: 25\n",
            "Training set: Average loss: 12.718169\n",
            "3490  :  5000\n",
            "Validation set: Average loss: 10.016628, Accuracy: 3490/5000 (70%)\n",
            "\n",
            "Epoch: 26\n",
            "Training set: Average loss: 12.921240\n",
            "3490  :  5000\n",
            "Validation set: Average loss: 10.016628, Accuracy: 3490/5000 (70%)\n",
            "\n",
            "Epoch: 27\n",
            "Training set: Average loss: 12.921100\n",
            "3490  :  5000\n",
            "Validation set: Average loss: 10.016628, Accuracy: 3490/5000 (70%)\n",
            "\n",
            "Epoch: 28\n",
            "Training set: Average loss: 12.857079\n",
            "3490  :  5000\n",
            "Validation set: Average loss: 10.016628, Accuracy: 3490/5000 (70%)\n",
            "\n",
            "Epoch: 29\n",
            "Training set: Average loss: 12.788308\n",
            "3490  :  5000\n",
            "Validation set: Average loss: 10.016628, Accuracy: 3490/5000 (70%)\n",
            "\n",
            "Epoch: 30\n",
            "Training set: Average loss: 13.106762\n",
            "3490  :  5000\n",
            "Validation set: Average loss: 10.016628, Accuracy: 3490/5000 (70%)\n",
            "\n"
          ]
        }
      ],
      "source": [
        "# training through epoch\n",
        "for epoch in range(1, epochs + 1):\n",
        "\n",
        "    # print the epoch number\n",
        "    print('Epoch: {}'.format(epoch))\n",
        "    \n",
        "    # Feed training data into the model to optimize the weights\n",
        "    train_loss = train(model, train_loader, optimizer)\n",
        "    \n",
        "    # Feed the test data into the model to check its performance\n",
        "    test_loss = test(model, test_loader)\n",
        "    \n",
        "    # Log the metrics for this epoch\n",
        "    epoch_nums.append(epoch)\n",
        "    training_loss.append(train_loss)\n",
        "    validation_loss.append(test_loss)"
      ]
    },
    {
      "cell_type": "markdown",
      "metadata": {
        "id": "-SWXh4HSS3eZ"
      },
      "source": [
        "-Độ chính xác là 70%, không tốt như mô hình xây dựng ở bài trước là 85%. Tuy nhiên thử nghiệm tham số trong Dropout cho thấy Dropout(0.4) khả năng cao cho kết quả tốt nhất."
      ]
    },
    {
      "cell_type": "markdown",
      "metadata": {
        "id": "2MX8hahaTMdI"
      },
      "source": [
        "# Câu 9"
      ]
    },
    {
      "cell_type": "code",
      "execution_count": null,
      "metadata": {
        "id": "k1aADUewVDx-"
      },
      "outputs": [],
      "source": [
        "def define_model(trial):\n",
        "    # We optimize the number of layers, hidden units and dropout ratio in each layer.\n",
        "    n_layers = trial.suggest_int(\"n_layers\", 2, 6)\n",
        "    layers = []\n",
        "\n",
        "    in_features = len(features)\n",
        "    for i in range(n_layers):\n",
        "        out_features = trial.suggest_int(\"n_units_l{}\".format(i), 4, 128)\n",
        "        layers.append(nn.Linear(in_features, out_features))\n",
        "        layers.append(nn.ReLU())\n",
        "        p = trial.suggest_float(\"dropout_l{}\".format(i), 0.2, 0.5)\n",
        "        layers.append(nn.Dropout(p))\n",
        "\n",
        "        in_features = out_features\n",
        "    layers.append(nn.Linear(in_features, 1))\n",
        "    layers.append(nn.Sigmoid())\n",
        "\n",
        "    return nn.Sequential(*layers)"
      ]
    },
    {
      "cell_type": "code",
      "execution_count": null,
      "metadata": {
        "id": "1ANYNYQwVFQ4"
      },
      "outputs": [],
      "source": [
        "DEVICE = torch.device(\"cpu\")\n",
        "BATCHSIZE = 16\n",
        "EPOCHS = 30\n",
        "LOG_INTERVAL = 10\n",
        "N_TRAIN_EXAMPLES = BATCHSIZE * 300\n",
        "N_VALID_EXAMPLES = BATCHSIZE * 100\n",
        "\n",
        "def objective(trial):\n",
        "\n",
        "    # Generate the model.\n",
        "    model = define_model(trial).to(DEVICE)\n",
        "\n",
        "    # Generate the optimizers.\n",
        "    optimizer_name = trial.suggest_categorical(\"optimizer\", [\"Adam\", \"RMSprop\", \"SGD\"])\n",
        "    lr = trial.suggest_float(\"lr\", 1e-5, 1e-1, log=True)\n",
        "    optimizer = getattr(optim, optimizer_name)(model.parameters(), lr=lr)\n",
        "    loss_criteria = nn.BCELoss()\n",
        "    # Training of the model.\n",
        "    for epoch in range(EPOCHS):\n",
        "        model.train()\n",
        "        for batch_idx, (data, target) in enumerate(train_loader):\n",
        "            # Limiting training data for faster epochs.\n",
        "            if batch_idx * BATCHSIZE >= N_TRAIN_EXAMPLES:\n",
        "                break\n",
        "\n",
        "            data, target = data.view(data.size(0), -1).to(DEVICE), target.to(DEVICE)\n",
        "            \n",
        "            optimizer.zero_grad()\n",
        "            output = model(data)\n",
        "            # loss = F.nll_loss(output, target)\n",
        "            loss = loss_criteria(output, target)\n",
        "            loss.backward()\n",
        "            optimizer.step()\n",
        "\n",
        "        # Validation of the model.\n",
        "        model.eval()\n",
        "        correct = 0\n",
        "        with torch.no_grad():\n",
        "            for batch_idx, (data, target) in enumerate(test_loader):\n",
        "                # Limiting validation data.\n",
        "                if batch_idx * BATCHSIZE >= N_VALID_EXAMPLES:\n",
        "                    break\n",
        "                data, target = data.view(data.size(0), -1).to(DEVICE), target.to(DEVICE)\n",
        "                output = model(data)\n",
        "                # Get the index of the max log-probability.\n",
        "                pred = torch.tensor(output.data>=0.5).float()\n",
        "                correct += pred.eq(target.view_as(pred)).sum().item()\n",
        "\n",
        "        accuracy = correct / min(len(test_loader.dataset), N_VALID_EXAMPLES)\n",
        "\n",
        "        trial.report(accuracy, epoch)\n",
        "\n",
        "        # Handle pruning based on the intermediate value.\n",
        "        if trial.should_prune():\n",
        "            raise optuna.exceptions.TrialPruned()\n",
        "\n",
        "    return accuracy"
      ]
    },
    {
      "cell_type": "code",
      "execution_count": null,
      "metadata": {
        "colab": {
          "base_uri": "https://localhost:8080/"
        },
        "id": "T0AcQ8KlVUyw",
        "outputId": "d3e5ec22-08ac-4450-afad-cc1a6e0446d3"
      },
      "outputs": [
        {
          "output_type": "stream",
          "name": "stderr",
          "text": [
            "\u001b[32m[I 2022-02-19 07:12:48,767]\u001b[0m A new study created in memory with name: no-name-29c07451-0650-4f58-8a11-833d33238fd2\u001b[0m\n",
            "/usr/local/lib/python3.7/dist-packages/ipykernel_launcher.py:46: UserWarning: To copy construct from a tensor, it is recommended to use sourceTensor.clone().detach() or sourceTensor.clone().detach().requires_grad_(True), rather than torch.tensor(sourceTensor).\n",
            "\u001b[32m[I 2022-02-19 07:13:22,326]\u001b[0m Trial 0 finished with value: 1.51875 and parameters: {'n_layers': 4, 'n_units_l0': 92, 'dropout_l0': 0.3988383381001491, 'n_units_l1': 19, 'dropout_l1': 0.40902569933320454, 'n_units_l2': 10, 'dropout_l2': 0.34382916169187594, 'n_units_l3': 57, 'dropout_l3': 0.37103117068530334, 'optimizer': 'SGD', 'lr': 0.00024569185616057004}. Best is trial 0 with value: 1.51875.\u001b[0m\n",
            "/usr/local/lib/python3.7/dist-packages/ipykernel_launcher.py:46: UserWarning: To copy construct from a tensor, it is recommended to use sourceTensor.clone().detach() or sourceTensor.clone().detach().requires_grad_(True), rather than torch.tensor(sourceTensor).\n",
            "\u001b[32m[I 2022-02-19 07:14:01,517]\u001b[0m Trial 1 finished with value: 1.705625 and parameters: {'n_layers': 4, 'n_units_l0': 78, 'dropout_l0': 0.2924172849137928, 'n_units_l1': 36, 'dropout_l1': 0.23153909907901488, 'n_units_l2': 128, 'dropout_l2': 0.40131495737886036, 'n_units_l3': 45, 'dropout_l3': 0.23624154559414295, 'optimizer': 'Adam', 'lr': 0.002895675926252094}. Best is trial 1 with value: 1.705625.\u001b[0m\n",
            "/usr/local/lib/python3.7/dist-packages/ipykernel_launcher.py:46: UserWarning: To copy construct from a tensor, it is recommended to use sourceTensor.clone().detach() or sourceTensor.clone().detach().requires_grad_(True), rather than torch.tensor(sourceTensor).\n",
            "\u001b[32m[I 2022-02-19 07:14:38,387]\u001b[0m Trial 2 finished with value: 1.696875 and parameters: {'n_layers': 2, 'n_units_l0': 97, 'dropout_l0': 0.4211767419023694, 'n_units_l1': 112, 'dropout_l1': 0.41614016363469186, 'optimizer': 'RMSprop', 'lr': 6.322746659879084e-05}. Best is trial 1 with value: 1.705625.\u001b[0m\n",
            "/usr/local/lib/python3.7/dist-packages/ipykernel_launcher.py:46: UserWarning: To copy construct from a tensor, it is recommended to use sourceTensor.clone().detach() or sourceTensor.clone().detach().requires_grad_(True), rather than torch.tensor(sourceTensor).\n",
            "\u001b[32m[I 2022-02-19 07:15:14,167]\u001b[0m Trial 3 finished with value: 1.703125 and parameters: {'n_layers': 3, 'n_units_l0': 15, 'dropout_l0': 0.2796353294152915, 'n_units_l1': 95, 'dropout_l1': 0.24777991311682024, 'n_units_l2': 40, 'dropout_l2': 0.3585455148856276, 'optimizer': 'SGD', 'lr': 0.09294468963680774}. Best is trial 1 with value: 1.705625.\u001b[0m\n",
            "/usr/local/lib/python3.7/dist-packages/ipykernel_launcher.py:46: UserWarning: To copy construct from a tensor, it is recommended to use sourceTensor.clone().detach() or sourceTensor.clone().detach().requires_grad_(True), rather than torch.tensor(sourceTensor).\n",
            "\u001b[32m[I 2022-02-19 07:15:58,799]\u001b[0m Trial 4 finished with value: 1.51875 and parameters: {'n_layers': 3, 'n_units_l0': 75, 'dropout_l0': 0.49455437498395816, 'n_units_l1': 126, 'dropout_l1': 0.34926777117797425, 'n_units_l2': 56, 'dropout_l2': 0.24664304548240545, 'optimizer': 'RMSprop', 'lr': 0.06536306922708894}. Best is trial 1 with value: 1.705625.\u001b[0m\n",
            "/usr/local/lib/python3.7/dist-packages/ipykernel_launcher.py:46: UserWarning: To copy construct from a tensor, it is recommended to use sourceTensor.clone().detach() or sourceTensor.clone().detach().requires_grad_(True), rather than torch.tensor(sourceTensor).\n",
            "\u001b[32m[I 2022-02-19 07:16:01,439]\u001b[0m Trial 5 pruned. \u001b[0m\n",
            "/usr/local/lib/python3.7/dist-packages/ipykernel_launcher.py:46: UserWarning: To copy construct from a tensor, it is recommended to use sourceTensor.clone().detach() or sourceTensor.clone().detach().requires_grad_(True), rather than torch.tensor(sourceTensor).\n",
            "\u001b[32m[I 2022-02-19 07:16:03,672]\u001b[0m Trial 6 pruned. \u001b[0m\n",
            "/usr/local/lib/python3.7/dist-packages/ipykernel_launcher.py:46: UserWarning: To copy construct from a tensor, it is recommended to use sourceTensor.clone().detach() or sourceTensor.clone().detach().requires_grad_(True), rather than torch.tensor(sourceTensor).\n",
            "\u001b[32m[I 2022-02-19 07:16:06,541]\u001b[0m Trial 7 pruned. \u001b[0m\n",
            "/usr/local/lib/python3.7/dist-packages/ipykernel_launcher.py:46: UserWarning: To copy construct from a tensor, it is recommended to use sourceTensor.clone().detach() or sourceTensor.clone().detach().requires_grad_(True), rather than torch.tensor(sourceTensor).\n",
            "\u001b[32m[I 2022-02-19 07:16:14,323]\u001b[0m Trial 8 pruned. \u001b[0m\n",
            "/usr/local/lib/python3.7/dist-packages/ipykernel_launcher.py:46: UserWarning: To copy construct from a tensor, it is recommended to use sourceTensor.clone().detach() or sourceTensor.clone().detach().requires_grad_(True), rather than torch.tensor(sourceTensor).\n",
            "\u001b[32m[I 2022-02-19 07:16:15,640]\u001b[0m Trial 9 pruned. \u001b[0m\n",
            "/usr/local/lib/python3.7/dist-packages/ipykernel_launcher.py:46: UserWarning: To copy construct from a tensor, it is recommended to use sourceTensor.clone().detach() or sourceTensor.clone().detach().requires_grad_(True), rather than torch.tensor(sourceTensor).\n",
            "\u001b[32m[I 2022-02-19 07:16:18,953]\u001b[0m Trial 10 pruned. \u001b[0m\n",
            "/usr/local/lib/python3.7/dist-packages/ipykernel_launcher.py:46: UserWarning: To copy construct from a tensor, it is recommended to use sourceTensor.clone().detach() or sourceTensor.clone().detach().requires_grad_(True), rather than torch.tensor(sourceTensor).\n",
            "\u001b[32m[I 2022-02-19 07:16:30,112]\u001b[0m Trial 11 pruned. \u001b[0m\n",
            "/usr/local/lib/python3.7/dist-packages/ipykernel_launcher.py:46: UserWarning: To copy construct from a tensor, it is recommended to use sourceTensor.clone().detach() or sourceTensor.clone().detach().requires_grad_(True), rather than torch.tensor(sourceTensor).\n",
            "\u001b[32m[I 2022-02-19 07:16:32,860]\u001b[0m Trial 12 pruned. \u001b[0m\n",
            "/usr/local/lib/python3.7/dist-packages/ipykernel_launcher.py:46: UserWarning: To copy construct from a tensor, it is recommended to use sourceTensor.clone().detach() or sourceTensor.clone().detach().requires_grad_(True), rather than torch.tensor(sourceTensor).\n",
            "\u001b[32m[I 2022-02-19 07:16:35,835]\u001b[0m Trial 13 pruned. \u001b[0m\n",
            "/usr/local/lib/python3.7/dist-packages/ipykernel_launcher.py:46: UserWarning: To copy construct from a tensor, it is recommended to use sourceTensor.clone().detach() or sourceTensor.clone().detach().requires_grad_(True), rather than torch.tensor(sourceTensor).\n",
            "\u001b[32m[I 2022-02-19 07:16:38,464]\u001b[0m Trial 14 pruned. \u001b[0m\n",
            "/usr/local/lib/python3.7/dist-packages/ipykernel_launcher.py:46: UserWarning: To copy construct from a tensor, it is recommended to use sourceTensor.clone().detach() or sourceTensor.clone().detach().requires_grad_(True), rather than torch.tensor(sourceTensor).\n",
            "\u001b[32m[I 2022-02-19 07:16:41,078]\u001b[0m Trial 15 pruned. \u001b[0m\n",
            "/usr/local/lib/python3.7/dist-packages/ipykernel_launcher.py:46: UserWarning: To copy construct from a tensor, it is recommended to use sourceTensor.clone().detach() or sourceTensor.clone().detach().requires_grad_(True), rather than torch.tensor(sourceTensor).\n",
            "\u001b[32m[I 2022-02-19 07:16:49,676]\u001b[0m Trial 16 pruned. \u001b[0m\n",
            "/usr/local/lib/python3.7/dist-packages/ipykernel_launcher.py:46: UserWarning: To copy construct from a tensor, it is recommended to use sourceTensor.clone().detach() or sourceTensor.clone().detach().requires_grad_(True), rather than torch.tensor(sourceTensor).\n",
            "\u001b[32m[I 2022-02-19 07:16:52,117]\u001b[0m Trial 17 pruned. \u001b[0m\n",
            "/usr/local/lib/python3.7/dist-packages/ipykernel_launcher.py:46: UserWarning: To copy construct from a tensor, it is recommended to use sourceTensor.clone().detach() or sourceTensor.clone().detach().requires_grad_(True), rather than torch.tensor(sourceTensor).\n",
            "\u001b[32m[I 2022-02-19 07:16:55,104]\u001b[0m Trial 18 pruned. \u001b[0m\n",
            "/usr/local/lib/python3.7/dist-packages/ipykernel_launcher.py:46: UserWarning: To copy construct from a tensor, it is recommended to use sourceTensor.clone().detach() or sourceTensor.clone().detach().requires_grad_(True), rather than torch.tensor(sourceTensor).\n",
            "\u001b[32m[I 2022-02-19 07:17:34,775]\u001b[0m Trial 19 finished with value: 1.708125 and parameters: {'n_layers': 4, 'n_units_l0': 19, 'dropout_l0': 0.3818585905575119, 'n_units_l1': 115, 'dropout_l1': 0.29219467772139207, 'n_units_l2': 53, 'dropout_l2': 0.3506283118813934, 'n_units_l3': 5, 'dropout_l3': 0.2079419078521084, 'optimizer': 'RMSprop', 'lr': 0.0006465969123602129}. Best is trial 19 with value: 1.708125.\u001b[0m\n",
            "/usr/local/lib/python3.7/dist-packages/ipykernel_launcher.py:46: UserWarning: To copy construct from a tensor, it is recommended to use sourceTensor.clone().detach() or sourceTensor.clone().detach().requires_grad_(True), rather than torch.tensor(sourceTensor).\n",
            "\u001b[32m[I 2022-02-19 07:18:17,019]\u001b[0m Trial 20 finished with value: 1.704375 and parameters: {'n_layers': 5, 'n_units_l0': 81, 'dropout_l0': 0.3862580352481931, 'n_units_l1': 127, 'dropout_l1': 0.30558443473251207, 'n_units_l2': 89, 'dropout_l2': 0.42027997807457484, 'n_units_l3': 14, 'dropout_l3': 0.2144676159197447, 'n_units_l4': 82, 'dropout_l4': 0.4931208818905843, 'optimizer': 'RMSprop', 'lr': 0.0007641446122715098}. Best is trial 19 with value: 1.708125.\u001b[0m\n",
            "/usr/local/lib/python3.7/dist-packages/ipykernel_launcher.py:46: UserWarning: To copy construct from a tensor, it is recommended to use sourceTensor.clone().detach() or sourceTensor.clone().detach().requires_grad_(True), rather than torch.tensor(sourceTensor).\n",
            "\u001b[32m[I 2022-02-19 07:18:59,428]\u001b[0m Trial 21 finished with value: 1.70625 and parameters: {'n_layers': 5, 'n_units_l0': 81, 'dropout_l0': 0.3804314202220777, 'n_units_l1': 118, 'dropout_l1': 0.31490657750904677, 'n_units_l2': 101, 'dropout_l2': 0.42875892963443324, 'n_units_l3': 9, 'dropout_l3': 0.20260432728440647, 'n_units_l4': 83, 'dropout_l4': 0.4994193491342048, 'optimizer': 'RMSprop', 'lr': 0.0005537736202129327}. Best is trial 19 with value: 1.708125.\u001b[0m\n",
            "/usr/local/lib/python3.7/dist-packages/ipykernel_launcher.py:46: UserWarning: To copy construct from a tensor, it is recommended to use sourceTensor.clone().detach() or sourceTensor.clone().detach().requires_grad_(True), rather than torch.tensor(sourceTensor).\n",
            "\u001b[32m[I 2022-02-19 07:19:39,551]\u001b[0m Trial 22 finished with value: 1.705625 and parameters: {'n_layers': 4, 'n_units_l0': 66, 'dropout_l0': 0.3785435707170654, 'n_units_l1': 114, 'dropout_l1': 0.3314944044259952, 'n_units_l2': 124, 'dropout_l2': 0.4970162908767196, 'n_units_l3': 30, 'dropout_l3': 0.20189303890701105, 'optimizer': 'RMSprop', 'lr': 0.00041398780387423036}. Best is trial 19 with value: 1.708125.\u001b[0m\n",
            "/usr/local/lib/python3.7/dist-packages/ipykernel_launcher.py:46: UserWarning: To copy construct from a tensor, it is recommended to use sourceTensor.clone().detach() or sourceTensor.clone().detach().requires_grad_(True), rather than torch.tensor(sourceTensor).\n",
            "\u001b[32m[I 2022-02-19 07:20:22,089]\u001b[0m Trial 23 finished with value: 1.704375 and parameters: {'n_layers': 5, 'n_units_l0': 126, 'dropout_l0': 0.3781437382897779, 'n_units_l1': 113, 'dropout_l1': 0.37564532166181885, 'n_units_l2': 109, 'dropout_l2': 0.49572749036816444, 'n_units_l3': 18, 'dropout_l3': 0.2013195428507168, 'n_units_l4': 83, 'dropout_l4': 0.42088945136471345, 'optimizer': 'RMSprop', 'lr': 0.00039405341498913334}. Best is trial 19 with value: 1.708125.\u001b[0m\n",
            "/usr/local/lib/python3.7/dist-packages/ipykernel_launcher.py:46: UserWarning: To copy construct from a tensor, it is recommended to use sourceTensor.clone().detach() or sourceTensor.clone().detach().requires_grad_(True), rather than torch.tensor(sourceTensor).\n",
            "\u001b[32m[I 2022-02-19 07:21:06,367]\u001b[0m Trial 24 finished with value: 1.695625 and parameters: {'n_layers': 6, 'n_units_l0': 54, 'dropout_l0': 0.326152262181599, 'n_units_l1': 105, 'dropout_l1': 0.2745778760589277, 'n_units_l2': 101, 'dropout_l2': 0.4266008762450626, 'n_units_l3': 46, 'dropout_l3': 0.26486189487250184, 'n_units_l4': 58, 'dropout_l4': 0.28134911895493964, 'n_units_l5': 82, 'dropout_l5': 0.3801688303502607, 'optimizer': 'RMSprop', 'lr': 0.003582213376682064}. Best is trial 19 with value: 1.708125.\u001b[0m\n",
            "/usr/local/lib/python3.7/dist-packages/ipykernel_launcher.py:46: UserWarning: To copy construct from a tensor, it is recommended to use sourceTensor.clone().detach() or sourceTensor.clone().detach().requires_grad_(True), rather than torch.tensor(sourceTensor).\n",
            "\u001b[32m[I 2022-02-19 07:21:46,906]\u001b[0m Trial 25 finished with value: 1.704375 and parameters: {'n_layers': 5, 'n_units_l0': 90, 'dropout_l0': 0.40660483179656015, 'n_units_l1': 55, 'dropout_l1': 0.28149536059022967, 'n_units_l2': 59, 'dropout_l2': 0.36007704398133755, 'n_units_l3': 9, 'dropout_l3': 0.31035641028503186, 'n_units_l4': 103, 'dropout_l4': 0.3072706381325725, 'optimizer': 'RMSprop', 'lr': 0.0010755221921321628}. Best is trial 19 with value: 1.708125.\u001b[0m\n",
            "/usr/local/lib/python3.7/dist-packages/ipykernel_launcher.py:46: UserWarning: To copy construct from a tensor, it is recommended to use sourceTensor.clone().detach() or sourceTensor.clone().detach().requires_grad_(True), rather than torch.tensor(sourceTensor).\n",
            "\u001b[32m[I 2022-02-19 07:21:48,273]\u001b[0m Trial 26 pruned. \u001b[0m\n",
            "/usr/local/lib/python3.7/dist-packages/ipykernel_launcher.py:46: UserWarning: To copy construct from a tensor, it is recommended to use sourceTensor.clone().detach() or sourceTensor.clone().detach().requires_grad_(True), rather than torch.tensor(sourceTensor).\n",
            "\u001b[32m[I 2022-02-19 07:21:49,596]\u001b[0m Trial 27 pruned. \u001b[0m\n",
            "/usr/local/lib/python3.7/dist-packages/ipykernel_launcher.py:46: UserWarning: To copy construct from a tensor, it is recommended to use sourceTensor.clone().detach() or sourceTensor.clone().detach().requires_grad_(True), rather than torch.tensor(sourceTensor).\n",
            "\u001b[32m[I 2022-02-19 07:21:51,114]\u001b[0m Trial 28 pruned. \u001b[0m\n",
            "/usr/local/lib/python3.7/dist-packages/ipykernel_launcher.py:46: UserWarning: To copy construct from a tensor, it is recommended to use sourceTensor.clone().detach() or sourceTensor.clone().detach().requires_grad_(True), rather than torch.tensor(sourceTensor).\n",
            "\u001b[32m[I 2022-02-19 07:21:52,692]\u001b[0m Trial 29 pruned. \u001b[0m\n",
            "/usr/local/lib/python3.7/dist-packages/ipykernel_launcher.py:46: UserWarning: To copy construct from a tensor, it is recommended to use sourceTensor.clone().detach() or sourceTensor.clone().detach().requires_grad_(True), rather than torch.tensor(sourceTensor).\n",
            "\u001b[32m[I 2022-02-19 07:22:33,247]\u001b[0m Trial 30 finished with value: 1.714375 and parameters: {'n_layers': 5, 'n_units_l0': 44, 'dropout_l0': 0.43338377330499384, 'n_units_l1': 23, 'dropout_l1': 0.22858387193267315, 'n_units_l2': 62, 'dropout_l2': 0.4710314329170658, 'n_units_l3': 85, 'dropout_l3': 0.28743027987019154, 'n_units_l4': 47, 'dropout_l4': 0.33784039670158394, 'optimizer': 'RMSprop', 'lr': 0.0012418442094092178}. Best is trial 30 with value: 1.714375.\u001b[0m\n",
            "/usr/local/lib/python3.7/dist-packages/ipykernel_launcher.py:46: UserWarning: To copy construct from a tensor, it is recommended to use sourceTensor.clone().detach() or sourceTensor.clone().detach().requires_grad_(True), rather than torch.tensor(sourceTensor).\n",
            "\u001b[32m[I 2022-02-19 07:22:34,646]\u001b[0m Trial 31 pruned. \u001b[0m\n",
            "/usr/local/lib/python3.7/dist-packages/ipykernel_launcher.py:46: UserWarning: To copy construct from a tensor, it is recommended to use sourceTensor.clone().detach() or sourceTensor.clone().detach().requires_grad_(True), rather than torch.tensor(sourceTensor).\n",
            "\u001b[32m[I 2022-02-19 07:22:35,995]\u001b[0m Trial 32 pruned. \u001b[0m\n",
            "/usr/local/lib/python3.7/dist-packages/ipykernel_launcher.py:46: UserWarning: To copy construct from a tensor, it is recommended to use sourceTensor.clone().detach() or sourceTensor.clone().detach().requires_grad_(True), rather than torch.tensor(sourceTensor).\n",
            "\u001b[32m[I 2022-02-19 07:22:38,634]\u001b[0m Trial 33 pruned. \u001b[0m\n",
            "/usr/local/lib/python3.7/dist-packages/ipykernel_launcher.py:46: UserWarning: To copy construct from a tensor, it is recommended to use sourceTensor.clone().detach() or sourceTensor.clone().detach().requires_grad_(True), rather than torch.tensor(sourceTensor).\n",
            "\u001b[32m[I 2022-02-19 07:22:45,689]\u001b[0m Trial 34 pruned. \u001b[0m\n",
            "/usr/local/lib/python3.7/dist-packages/ipykernel_launcher.py:46: UserWarning: To copy construct from a tensor, it is recommended to use sourceTensor.clone().detach() or sourceTensor.clone().detach().requires_grad_(True), rather than torch.tensor(sourceTensor).\n",
            "\u001b[32m[I 2022-02-19 07:22:47,151]\u001b[0m Trial 35 pruned. \u001b[0m\n",
            "/usr/local/lib/python3.7/dist-packages/ipykernel_launcher.py:46: UserWarning: To copy construct from a tensor, it is recommended to use sourceTensor.clone().detach() or sourceTensor.clone().detach().requires_grad_(True), rather than torch.tensor(sourceTensor).\n",
            "\u001b[32m[I 2022-02-19 07:22:48,502]\u001b[0m Trial 36 pruned. \u001b[0m\n",
            "/usr/local/lib/python3.7/dist-packages/ipykernel_launcher.py:46: UserWarning: To copy construct from a tensor, it is recommended to use sourceTensor.clone().detach() or sourceTensor.clone().detach().requires_grad_(True), rather than torch.tensor(sourceTensor).\n",
            "\u001b[32m[I 2022-02-19 07:22:49,915]\u001b[0m Trial 37 pruned. \u001b[0m\n"
          ]
        },
        {
          "output_type": "stream",
          "name": "stdout",
          "text": [
            "Study statistics: \n",
            "  Number of finished trials:  38\n",
            "  Number of pruned trials:  25\n",
            "  Number of complete trials:  13\n",
            "Best trial:\n",
            "  Value:  1.714375\n",
            "  Params: \n",
            "    n_layers: 5\n",
            "    n_units_l0: 44\n",
            "    dropout_l0: 0.43338377330499384\n",
            "    n_units_l1: 23\n",
            "    dropout_l1: 0.22858387193267315\n",
            "    n_units_l2: 62\n",
            "    dropout_l2: 0.4710314329170658\n",
            "    n_units_l3: 85\n",
            "    dropout_l3: 0.28743027987019154\n",
            "    n_units_l4: 47\n",
            "    dropout_l4: 0.33784039670158394\n",
            "    optimizer: RMSprop\n",
            "    lr: 0.0012418442094092178\n"
          ]
        }
      ],
      "source": [
        "model = optuna.create_study(direction=\"maximize\")\n",
        "model.optimize(objective, n_trials=100, timeout=600)\n",
        "\n",
        "pruned_trials = model.get_trials(deepcopy=False, states=[TrialState.PRUNED])\n",
        "complete_trials = model.get_trials(deepcopy=False, states=[TrialState.COMPLETE])\n",
        "\n",
        "print(\"Study statistics: \")\n",
        "print(\"  Number of finished trials: \", len(model.trials))\n",
        "print(\"  Number of pruned trials: \", len(pruned_trials))\n",
        "print(\"  Number of complete trials: \", len(complete_trials))\n",
        "\n",
        "print(\"Best trial:\")\n",
        "trial = model.best_trial\n",
        "\n",
        "print(\"  Value: \", trial.value)\n",
        "\n",
        "print(\"  Params: \")\n",
        "for key, value in trial.params.items():\n",
        "    print(\"    {}: {}\".format(key, value))"
      ]
    },
    {
      "cell_type": "markdown",
      "metadata": {
        "id": "4Tiyhb1uYgHx"
      },
      "source": [
        "# Câu 10"
      ]
    },
    {
      "cell_type": "code",
      "execution_count": null,
      "metadata": {
        "id": "61Ah2LjmbrB7"
      },
      "outputs": [],
      "source": [
        "import pickle\n",
        "\n",
        "def _load_pkl(path):\n",
        "  with open(path, 'rb') as f:\n",
        "    obj = pickle.load(f)\n",
        "  return obj"
      ]
    },
    {
      "cell_type": "code",
      "execution_count": null,
      "metadata": {
        "id": "isNwiTAabhLt"
      },
      "outputs": [],
      "source": [
        "# Encoding numpy to json\n",
        "import json\n",
        "class NumpyEncoder(json.JSONEncoder):\n",
        "    '''\n",
        "    Encoding numpy into json\n",
        "    '''\n",
        "    def default(self, obj):\n",
        "        if isinstance(obj, np.ndarray):\n",
        "            return obj.tolist()\n",
        "        if isinstance(obj, np.int32):\n",
        "            return int(obj)\n",
        "        if isinstance(obj, np.int64):\n",
        "            return int(obj)\n",
        "        if isinstance(obj, np.float32):\n",
        "            return float(obj)\n",
        "        if isinstance(obj, np.float64):\n",
        "            return float(obj)\n",
        "        return json.JSONEncoder.default(self, obj)"
      ]
    },
    {
      "cell_type": "code",
      "execution_count": null,
      "metadata": {
        "id": "HRKF6Q2wbJKt",
        "colab": {
          "base_uri": "https://localhost:8080/"
        },
        "outputId": "ce0b97b0-00da-44a5-fce7-1e60063ba9b6"
      },
      "outputs": [
        {
          "output_type": "stream",
          "name": "stdout",
          "text": [
            "App run!\n",
            " * Serving Flask app \"__main__\" (lazy loading)\n",
            " * Environment: production\n",
            "\u001b[31m   WARNING: This is a development server. Do not use it in a production deployment.\u001b[0m\n",
            "\u001b[2m   Use a production WSGI server instead.\u001b[0m\n",
            " * Debug mode: off\n"
          ]
        }
      ],
      "source": [
        "from PIL import Image\n",
        "import numpy as np\n",
        "from flask import Flask, request\n",
        "import flask\n",
        "import json\n",
        "\n",
        "# Khởi tạo flask app\n",
        "app = Flask(__name__)\n",
        "\n",
        "# Khai báo các route 1 cho API\n",
        "@app.route(\"/\", methods=[\"GET\"])\n",
        "\n",
        "# Khai báo hàm xử lý dữ liệu.\n",
        "def _hello_world():\n",
        "  return \"Hello world\"\n",
        "\n",
        "# Khai báo các route 2 cho API\n",
        "@app.route(\"/predict\", methods=[\"POST\"])\n",
        "\n",
        "# Khai báo hàm xử lý dữ liệu.\n",
        "def _predict():\n",
        "  data = {\"success\": False}\n",
        "  request_body = request.json()\n",
        "  if request_body:\n",
        "    X_input = x_train\n",
        "    # Dự báo nhãn và xác suất.\n",
        "    label = model.predict(X_input)\n",
        "    # Dự báo phân phối xác suất\n",
        "    dist_probs = model.predict_proba(X_input)\n",
        "    # Truyền vào data form response\n",
        "    data[\"probability\"] = dist_probs\n",
        "    data[\"success\"] = True\n",
        "    return json.dumps(data, ensure_ascii=False, cls=NumpyEncoder)\n",
        "\n",
        "if __name__ == \"__main__\":\n",
        "  print(\"App run!\")\n",
        "  app.run(port=3000, debug=False, host='localhost', threaded=False)"
      ]
    }
  ],
  "metadata": {
    "colab": {
      "collapsed_sections": [],
      "name": "4.Homework_NguyễnDuyĐạt.ipynb",
      "provenance": [],
      "toc_visible": true
    },
    "kernelspec": {
      "display_name": "Python 3",
      "name": "python3"
    },
    "language_info": {
      "name": "python"
    }
  },
  "nbformat": 4,
  "nbformat_minor": 0
}